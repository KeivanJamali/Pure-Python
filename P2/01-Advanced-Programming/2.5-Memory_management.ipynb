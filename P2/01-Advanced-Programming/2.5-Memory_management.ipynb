{
 "cells": [
  {
   "cell_type": "markdown",
   "metadata": {},
   "source": [
    "https://quera.org/course/add_to_course/course/15178/\n",
    "pass: ABcd4312"
   ]
  },
  {
   "cell_type": "markdown",
   "metadata": {},
   "source": [
    "<span style=\"font-size: 40px; font-weight: bold; color:#4c95ad\">Memory Management</span></br>\n",
    "In Python memory management, the heap and stack serve different purposes:\n",
    "\n",
    "**Heap**: Used for dynamic memory allocation. Objects and data structures like lists, dictionaries, and user-defined classes are typically stored here. Managed by Python's memory manager and garbage collector.\n",
    "\n",
    "**Stack**: Used for function call management. Local variables and function call information are stored here. Managed by the underlying C runtime and operating system.\n",
    "\n",
    "In summary, the heap is for dynamically allocated objects, while the stack is for function call mechanics and local variables."
   ]
  },
  {
   "cell_type": "code",
   "execution_count": 4,
   "metadata": {},
   "outputs": [
    {
     "data": {
      "text/plain": [
       "3"
      ]
     },
     "execution_count": 4,
     "metadata": {},
     "output_type": "execute_result"
    }
   ],
   "source": [
    "def bar(a):\n",
    "    a = a - 1\n",
    "    return a\n",
    "def foo(a):\n",
    "    a = a * a\n",
    "    b = bar(a)\n",
    "    return b\n",
    "def main():\n",
    "    x = 2\n",
    "    y = foo(x)\n",
    "    return y\n",
    "main()"
   ]
  },
  {
   "cell_type": "markdown",
   "metadata": {},
   "source": [
    "Program stack or call stack is created, reference variables go on to the stack as local variables and arguments."
   ]
  },
  {
   "cell_type": "markdown",
   "metadata": {},
   "source": [
    "![Alt text](image-10.png)"
   ]
  },
  {
   "cell_type": "markdown",
   "metadata": {},
   "source": [
    "An immutable object is an object whose state cannot be modified after it is created. In Python, examples of immutable objects include integers, floats, strings, and tuples. **Any operation that appears to modify an immutable object actually creates a new object with the altered content.**"
   ]
  },
  {
   "cell_type": "markdown",
   "metadata": {},
   "source": [
    "In Python, some objects like lists, dictionaries, and sets are mutable, meaning their elements or key-value pairs can be altered."
   ]
  },
  {
   "cell_type": "code",
   "execution_count": 6,
   "metadata": {},
   "outputs": [
    {
     "name": "stdout",
     "output_type": "stream",
     "text": [
      "5\n",
      "6\n",
      "5\n"
     ]
    }
   ],
   "source": [
    "def function(a):\n",
    "    a=a+1\n",
    "    print(a)\n",
    "a=5\n",
    "print(a)\n",
    "function(a)\n",
    "print(a)"
   ]
  },
  {
   "cell_type": "code",
   "execution_count": 8,
   "metadata": {},
   "outputs": [
    {
     "name": "stdout",
     "output_type": "stream",
     "text": [
      "[1000]\n",
      "[1000, 1]\n"
     ]
    }
   ],
   "source": [
    "def modify_list(lst):\n",
    "    lst.append(1)\n",
    "\n",
    "my_list = [1000]\n",
    "print(my_list)\n",
    "modify_list(my_list)\n",
    "print(my_list)  # Output: [1]\n"
   ]
  },
  {
   "cell_type": "markdown",
   "metadata": {},
   "source": [
    "Mutability is closely related to how objects are stored in stack and heap memory in Python. When a mutable object like a list or dictionary is created, it is stored in the heap memory. A reference to this object, typically a local variable in a function, is stored in the stack. Because the object is mutable, any changes made to it through one reference are reflected in all other references to the same object, regardless of where those references exist—in the stack or globally.\n",
    "\n",
    "Immutable objects, on the other hand, cannot be changed once created. When an operation is performed on an immutable object, a new object is created in the heap, and the stack reference is updated to point to this new object, if assigned. This is why immutable objects effectively behave as if they are being passed \"by value\" in function calls."
   ]
  },
  {
   "cell_type": "code",
   "execution_count": 1,
   "metadata": {},
   "outputs": [
    {
     "name": "stdout",
     "output_type": "stream",
     "text": [
      "Modified\n"
     ]
    }
   ],
   "source": [
    "class MyClass:\n",
    "    def __init__(self, value):\n",
    "        self.attribute = value\n",
    "\n",
    "def modify_object(obj):\n",
    "    obj.attribute = \"Modified\"\n",
    "\n",
    "# Create an instance of MyClass\n",
    "my_obj = MyClass(\"Original\")\n",
    "\n",
    "modify_object(my_obj)\n",
    "\n",
    "print(my_obj.attribute)  \n"
   ]
  },
  {
   "cell_type": "markdown",
   "metadata": {},
   "source": [
    "In this example, my_obj is an instance of MyClass with an attribute set to \"Original\". When modify_object is called, a reference to my_obj is passed, not a new copy of the object. Inside modify_object, the object's attribute is changed to \"Modified\", and this change is reflected in my_obj after the function call."
   ]
  }
 ],
 "metadata": {
  "kernelspec": {
   "display_name": "base",
   "language": "python",
   "name": "python3"
  },
  "language_info": {
   "codemirror_mode": {
    "name": "ipython",
    "version": 3
   },
   "file_extension": ".py",
   "mimetype": "text/x-python",
   "name": "python",
   "nbconvert_exporter": "python",
   "pygments_lexer": "ipython3",
   "version": "3.9.5"
  },
  "orig_nbformat": 4
 },
 "nbformat": 4,
 "nbformat_minor": 2
}
