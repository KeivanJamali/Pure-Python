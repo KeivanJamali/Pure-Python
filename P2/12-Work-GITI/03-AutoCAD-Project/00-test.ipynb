{
 "cells": [
  {
   "cell_type": "markdown",
   "metadata": {},
   "source": [
    "## Create a new"
   ]
  },
  {
   "cell_type": "code",
   "execution_count": 19,
   "metadata": {},
   "outputs": [
    {
     "name": "stdout",
     "output_type": "stream",
     "text": [
      "Hello, Autocad from Python\n",
      "\n",
      "Drawing3.dwg\n"
     ]
    }
   ],
   "source": [
    "from pyautocad import APoint, Autocad\n",
    "\n",
    "acad = Autocad(create_if_not_exists=True, visible=True)\n",
    "acad.prompt(\"Hello, Autocad from Python\\n\")\n",
    "print(acad.doc.Name)"
   ]
  },
  {
   "cell_type": "code",
   "execution_count": 20,
   "metadata": {},
   "outputs": [
    {
     "data": {
      "text/plain": [
       "<comtypes.client.lazybind.Dispatch at 0x22a1a738980>"
      ]
     },
     "execution_count": 20,
     "metadata": {},
     "output_type": "execute_result"
    }
   ],
   "source": [
    "acad.app"
   ]
  },
  {
   "cell_type": "code",
   "execution_count": 21,
   "metadata": {},
   "outputs": [
    {
     "data": {
      "text/plain": [
       "(<comtypes.client.lazybind.Dispatch at 0x22a1a738440>,\n",
       " <comtypes.client.lazybind.Dispatch at 0x22a1a712fc0>)"
      ]
     },
     "execution_count": 21,
     "metadata": {},
     "output_type": "execute_result"
    }
   ],
   "source": [
    "acad.doc, acad.ActiveDocument"
   ]
  },
  {
   "cell_type": "code",
   "execution_count": 22,
   "metadata": {},
   "outputs": [
    {
     "data": {
      "text/plain": [
       "<comtypes.client.lazybind.Dispatch at 0x22a1b29d460>"
      ]
     },
     "execution_count": 22,
     "metadata": {},
     "output_type": "execute_result"
    }
   ],
   "source": [
    "acad.model"
   ]
  },
  {
   "cell_type": "markdown",
   "metadata": {},
   "source": [
    "#### iter_layouts\n",
    "1. doc – document to iterate layouts from if doc=None (default), ActiveDocument is used\n",
    "2. skip_model – don’t include ModelSpace if True"
   ]
  },
  {
   "cell_type": "code",
   "execution_count": 29,
   "metadata": {},
   "outputs": [
    {
     "data": {
      "text/plain": [
       "[<comtypes.client.lazybind.Dispatch at 0x22a1a7d7a10>,\n",
       " <comtypes.client.lazybind.Dispatch at 0x22a1b9342c0>]"
      ]
     },
     "execution_count": 29,
     "metadata": {},
     "output_type": "execute_result"
    }
   ],
   "source": [
    "list(acad.iter_layouts(doc=None, skip_model=True))"
   ]
  },
  {
   "cell_type": "markdown",
   "metadata": {},
   "source": [
    "#### iter_objects(object_name_or_list=None, block=None, limit=None, dont_cast=False)\n",
    "1. object_name_or_list – part of object type name, or list of it\n",
    "2. block – Autocad block, default - ActiveDocument.ActiveLayout.Block\n",
    "3. limit – max number of objects to return, default infinite\n",
    "4. dont_cast – don’t retrieve best interface for object, may speedup iteration. Returned objects should be casted by caller"
   ]
  },
  {
   "cell_type": "code",
   "execution_count": 37,
   "metadata": {},
   "outputs": [
    {
     "data": {
      "text/plain": [
       "[<POINTER(IAcadCircle) ptr=0x22a193b5858 at 22a1cfefd50>,\n",
       " <POINTER(IAcadLine) ptr=0x22a193b52d8 at 22a1cfee6d0>,\n",
       " <POINTER(IAcadArc) ptr=0x22a193b5058 at 22a1cfec0d0>,\n",
       " <POINTER(IAcadLWPolyline) ptr=0x22a18faa1b8 at 22a1cfef750>,\n",
       " <POINTER(IAcadLWPolyline) ptr=0x22a17da47d8 at 22a1cfefe50>,\n",
       " <POINTER(IAcadMText) ptr=0x22a18f92778 at 22a1cfef1d0>]"
      ]
     },
     "execution_count": 37,
     "metadata": {},
     "output_type": "execute_result"
    }
   ],
   "source": [
    "list(acad.iter_objects(object_name_or_list=None, block=None, limit=None, dont_cast=False))"
   ]
  },
  {
   "cell_type": "markdown",
   "metadata": {},
   "source": [
    "#### iter_objects_fast(object_name_or_list=None, container=None, limit=None)\n",
    "1. Shortcut for iter_objects(dont_cast=True)\n",
    "2. Shouldn’t be used in normal situations"
   ]
  },
  {
   "cell_type": "markdown",
   "metadata": {},
   "source": [
    "#### find_one(object_name_or_list, container=None, predicate=None)\n",
    "Returns first occurance of object which match predicate\n",
    "\n",
    "1. Parameters:\t\n",
    "1. object_name_or_list – like in iter_objects()\n",
    "2. container – like in iter_objects()\n",
    "3. predicate – callable, which accepts object as argument and returns True or False\n",
    "2. Returns:\t\n",
    "1. Object if found, else None"
   ]
  },
  {
   "cell_type": "code",
   "execution_count": 48,
   "metadata": {},
   "outputs": [
    {
     "data": {
      "text/plain": [
       "<POINTER(IAcadCircle) ptr=0x22a193b5858 at 22a1d0c35d0>"
      ]
     },
     "execution_count": 48,
     "metadata": {},
     "output_type": "execute_result"
    }
   ],
   "source": [
    "def f(x):\n",
    "    if x.center[0] < 10:\n",
    "        return True\n",
    "\n",
    "acad.find_one(object_name_or_list=\"Circle\", container=None, predicate=f)"
   ]
  },
  {
   "cell_type": "markdown",
   "metadata": {},
   "source": [
    "#### best_interface(obj)"
   ]
  },
  {
   "cell_type": "code",
   "execution_count": 53,
   "metadata": {},
   "outputs": [],
   "source": [
    "p1 = APoint(0, 0)\n",
    "c1 = acad.model.AddCircle(p1, 2)"
   ]
  },
  {
   "cell_type": "code",
   "execution_count": 54,
   "metadata": {},
   "outputs": [
    {
     "data": {
      "text/plain": [
       "<POINTER(IAcadCircle) ptr=0x22a18f98728 at 22a1d1442d0>"
      ]
     },
     "execution_count": 54,
     "metadata": {},
     "output_type": "execute_result"
    }
   ],
   "source": [
    "acad.best_interface(c1)"
   ]
  },
  {
   "cell_type": "markdown",
   "metadata": {},
   "source": [
    "#### prompt(text)\n",
    "1. Prints text in console and in AutoCAD prompt"
   ]
  },
  {
   "cell_type": "code",
   "execution_count": 55,
   "metadata": {},
   "outputs": [
    {
     "name": "stdout",
     "output_type": "stream",
     "text": [
      "Hello World\n"
     ]
    }
   ],
   "source": [
    "acad.prompt(\"Hello World\")"
   ]
  },
  {
   "cell_type": "markdown",
   "metadata": {},
   "source": [
    "#### get_selection(text='Select objects')\n",
    "1. Asks user to select objects\n",
    "\n",
    "2. Parameters:\ttext – prompt for selection"
   ]
  },
  {
   "cell_type": "code",
   "execution_count": 56,
   "metadata": {},
   "outputs": [
    {
     "name": "stdout",
     "output_type": "stream",
     "text": [
      "select_object\n"
     ]
    },
    {
     "data": {
      "text/plain": [
       "<comtypes.client.lazybind.Dispatch at 0x22a1a711af0>"
      ]
     },
     "execution_count": 56,
     "metadata": {},
     "output_type": "execute_result"
    }
   ],
   "source": [
    "acad.get_selection(text=\"select_object\")"
   ]
  },
  {
   "cell_type": "markdown",
   "metadata": {},
   "source": [
    "#### distance_to(other)\n",
    "1. Parameters:\tother – APoint instance or any sequence of 3 coordinates"
   ]
  },
  {
   "cell_type": "markdown",
   "metadata": {},
   "source": [
    "#### pyautocad.types.distance(p1, p2)[source]\n",
    "Returns distance between two points p1 and p2"
   ]
  },
  {
   "cell_type": "markdown",
   "metadata": {},
   "source": [
    "## Drawin Basic Shapes\n",
    "#### Lines, Circles, Rectangles, Text"
   ]
  },
  {
   "cell_type": "code",
   "execution_count": 60,
   "metadata": {},
   "outputs": [],
   "source": [
    "p1 = APoint(0, 0)\n",
    "p2 = APoint(50, 25)\n",
    "for i in range(5):\n",
    "    text = acad.model.AddText(\"hello world\", p1, 2.5)\n",
    "    acad.model.AddLine(p1, p2)\n",
    "    acad.model.AddCircle(p1, 10)\n",
    "    p1.y += 10"
   ]
  },
  {
   "cell_type": "markdown",
   "metadata": {},
   "source": [
    "### Working with existing objects"
   ]
  },
  {
   "cell_type": "markdown",
   "metadata": {},
   "source": [
    "##### Iterate over objects"
   ]
  },
  {
   "cell_type": "code",
   "execution_count": 49,
   "metadata": {},
   "outputs": [
    {
     "name": "stdout",
     "output_type": "stream",
     "text": [
      "AcDbText\n",
      "AcDbLine\n",
      "AcDbCircle\n",
      "AcDbText\n",
      "AcDbLine\n",
      "AcDbCircle\n",
      "AcDbText\n",
      "AcDbLine\n",
      "AcDbCircle\n",
      "AcDbText\n",
      "AcDbLine\n",
      "AcDbCircle\n",
      "AcDbText\n",
      "AcDbLine\n",
      "AcDbCircle\n"
     ]
    }
   ],
   "source": [
    "for obj in acad.iter_objects():\n",
    "    print(obj.ObjectName)"
   ]
  },
  {
   "cell_type": "code",
   "execution_count": 50,
   "metadata": {},
   "outputs": [
    {
     "name": "stdout",
     "output_type": "stream",
     "text": [
      "hello world (0.0, 0.0, 0.0)\n",
      "hello world (0.0, 10.0, 0.0)\n",
      "hello world (0.0, 20.0, 0.0)\n",
      "hello world (0.0, 30.0, 0.0)\n",
      "hello world (0.0, 40.0, 0.0)\n",
      "AcDbText\n",
      "AcDbLine\n",
      "AcDbText\n",
      "AcDbLine\n",
      "AcDbText\n",
      "AcDbLine\n",
      "AcDbText\n",
      "AcDbLine\n",
      "AcDbText\n",
      "AcDbLine\n"
     ]
    }
   ],
   "source": [
    "for obj in acad.iter_objects(\"Text\"): # or tex\n",
    "    print(obj.TextString, obj.InsertionPoint)\n",
    "\n",
    "for obj in acad.iter_objects([\"Text\", \"Line\"]):\n",
    "    print(obj.ObjectName)"
   ]
  },
  {
   "cell_type": "code",
   "execution_count": 51,
   "metadata": {},
   "outputs": [
    {
     "data": {
      "text/plain": [
       "<comtypes.client.lazybind.Dispatch at 0x2ef73e45760>"
      ]
     },
     "execution_count": 51,
     "metadata": {},
     "output_type": "execute_result"
    }
   ],
   "source": [
    "acad.model.AddText(\"hello_world_3\", p1, 2.5)"
   ]
  },
  {
   "cell_type": "code",
   "execution_count": 52,
   "metadata": {},
   "outputs": [
    {
     "name": "stdout",
     "output_type": "stream",
     "text": [
      "hello_world_3\n"
     ]
    }
   ],
   "source": [
    "def text_contains_3(text_object):\n",
    "    result = \"3\" in text_object.TextString\n",
    "    return result\n",
    "\n",
    "text = acad.find_one(\"Text\", predicate=text_contains_3)\n",
    "print(text.TextString)"
   ]
  },
  {
   "cell_type": "code",
   "execution_count": 53,
   "metadata": {},
   "outputs": [],
   "source": [
    "from pyautocad import ACAD\n",
    "\n",
    "for text in acad.iter_objects('Text'):\n",
    "    old_insertion_point = APoint(text.InsertionPoint)\n",
    "    text.Alignment = ACAD.acAlignmentRight\n",
    "    text.TextAlignmentPoint = old_insertion_point"
   ]
  },
  {
   "cell_type": "markdown",
   "metadata": {},
   "source": [
    "## Tables"
   ]
  },
  {
   "cell_type": "code",
   "execution_count": 55,
   "metadata": {},
   "outputs": [],
   "source": [
    "from pyautocad import Autocad, APoint\n",
    "from pyautocad.contrib.tables import Table\n",
    "\n",
    "acad = Autocad()\n",
    "p1 = APoint(0, 0)\n",
    "for i in range(5):\n",
    "    obj = acad.model.AddText(u'Hi %s!' % i, p1, 2.5)\n",
    "    p1.y += 10"
   ]
  },
  {
   "cell_type": "code",
   "execution_count": 58,
   "metadata": {},
   "outputs": [
    {
     "ename": "AttributeError",
     "evalue": "'Dataset' object has no attribute 'xls'",
     "output_type": "error",
     "traceback": [
      "\u001b[1;31m---------------------------------------------------------------------------\u001b[0m",
      "\u001b[1;31mAttributeError\u001b[0m                            Traceback (most recent call last)",
      "Cell \u001b[1;32mIn[58], line 5\u001b[0m\n\u001b[0;32m      3\u001b[0m     x, y, z \u001b[38;5;241m=\u001b[39m obj\u001b[38;5;241m.\u001b[39mInsertionPoint\n\u001b[0;32m      4\u001b[0m     table\u001b[38;5;241m.\u001b[39mwriterow([obj\u001b[38;5;241m.\u001b[39mTextString, x, y, z])\n\u001b[1;32m----> 5\u001b[0m \u001b[43mtable\u001b[49m\u001b[38;5;241;43m.\u001b[39;49m\u001b[43msave\u001b[49m\u001b[43m(\u001b[49m\u001b[38;5;124;43m'\u001b[39;49m\u001b[38;5;124;43mdata.xls\u001b[39;49m\u001b[38;5;124;43m'\u001b[39;49m\u001b[43m,\u001b[49m\u001b[43m \u001b[49m\u001b[38;5;124;43m'\u001b[39;49m\u001b[38;5;124;43mxls\u001b[39;49m\u001b[38;5;124;43m'\u001b[39;49m\u001b[43m)\u001b[49m\n",
      "File \u001b[1;32mc:\\Python Interpreters\\in_CivilPython\\Lib\\site-packages\\pyautocad\\contrib\\tables.py:81\u001b[0m, in \u001b[0;36mTable.save\u001b[1;34m(self, filename, fmt, encoding)\u001b[0m\n\u001b[0;32m     79\u001b[0m     \u001b[38;5;28mself\u001b[39m\u001b[38;5;241m.\u001b[39mto_csv(output, encoding)\n\u001b[0;32m     80\u001b[0m \u001b[38;5;28;01melse\u001b[39;00m:\n\u001b[1;32m---> 81\u001b[0m     output\u001b[38;5;241m.\u001b[39mwrite(\u001b[38;5;28;43mself\u001b[39;49m\u001b[38;5;241;43m.\u001b[39;49m\u001b[43mconvert\u001b[49m\u001b[43m(\u001b[49m\u001b[43mfmt\u001b[49m\u001b[43m)\u001b[49m)\n",
      "File \u001b[1;32mc:\\Python Interpreters\\in_CivilPython\\Lib\\site-packages\\pyautocad\\contrib\\tables.py:93\u001b[0m, in \u001b[0;36mTable.convert\u001b[1;34m(self, fmt)\u001b[0m\n\u001b[0;32m     84\u001b[0m \u001b[38;5;250m\u001b[39m\u001b[38;5;124;03m\"\"\" Return data, converted to format\u001b[39;00m\n\u001b[0;32m     85\u001b[0m \n\u001b[0;32m     86\u001b[0m \u001b[38;5;124;03m:param fmt: desirable format of data\u001b[39;00m\n\u001b[1;32m   (...)\u001b[0m\n\u001b[0;32m     90\u001b[0m \u001b[38;5;124;03mSee also :meth:`available_write_formats`\u001b[39;00m\n\u001b[0;32m     91\u001b[0m \u001b[38;5;124;03m\"\"\"\u001b[39;00m\n\u001b[0;32m     92\u001b[0m \u001b[38;5;28mself\u001b[39m\u001b[38;5;241m.\u001b[39m_raise_if_bad_format(fmt)\n\u001b[1;32m---> 93\u001b[0m \u001b[38;5;28;01mreturn\u001b[39;00m \u001b[38;5;28;43mgetattr\u001b[39;49m\u001b[43m(\u001b[49m\u001b[38;5;28;43mself\u001b[39;49m\u001b[38;5;241;43m.\u001b[39;49m\u001b[43mdataset\u001b[49m\u001b[43m,\u001b[49m\u001b[43m \u001b[49m\u001b[43mfmt\u001b[49m\u001b[43m)\u001b[49m\n",
      "\u001b[1;31mAttributeError\u001b[0m: 'Dataset' object has no attribute 'xls'"
     ]
    }
   ],
   "source": [
    "table = Table()\n",
    "for obj in acad.iter_objects('Text'):\n",
    "    x, y, z = obj.InsertionPoint\n",
    "    table.writerow([obj.TextString, x, y, z])\n",
    "table.save('data.xls', 'xls')"
   ]
  },
  {
   "cell_type": "code",
   "execution_count": null,
   "metadata": {},
   "outputs": [],
   "source": []
  }
 ],
 "metadata": {
  "kernelspec": {
   "display_name": "Python 3",
   "language": "python",
   "name": "python3"
  },
  "language_info": {
   "codemirror_mode": {
    "name": "ipython",
    "version": 3
   },
   "file_extension": ".py",
   "mimetype": "text/x-python",
   "name": "python",
   "nbconvert_exporter": "python",
   "pygments_lexer": "ipython3",
   "version": "3.12.2"
  }
 },
 "nbformat": 4,
 "nbformat_minor": 2
}
