{
 "cells": [
  {
   "cell_type": "code",
   "execution_count": 2,
   "outputs": [
    {
     "name": "stdout",
     "output_type": "stream",
     "text": [
      "The autoreload extension is already loaded. To reload it, use:\n",
      "  %reload_ext autoreload\n"
     ]
    }
   ],
   "source": [
    "%load_ext autoreload\n",
    "%autoreload 2\n",
    "import numpy as np\n",
    "import Toolkit_Project as tp\n",
    "import sys\n",
    "\n",
    "np.set_printoptions(threshold=sys.maxsize)  # to print total matrix\n",
    "\n",
    "A = 3 * 10 ** -4\n",
    "E = 70 * 10 ** 9\n",
    "node = []\n",
    "node.append(tp.Point(0, 3, 1))\n",
    "node.append(tp.Point(3, 3, 2))\n",
    "node.append(tp.Point(6, 3, 3))\n",
    "node.append(tp.Point(3, 0, 4))\n",
    "node.append(tp.Point(6, 0, 5))\n",
    "node.append(tp.Point(0, 0, 6))\n",
    "\n"
   ],
   "metadata": {
    "collapsed": false,
    "ExecuteTime": {
     "end_time": "2023-06-07T14:43:37.966136700Z",
     "start_time": "2023-06-07T14:43:37.354331800Z"
    }
   }
  },
  {
   "cell_type": "code",
   "execution_count": 3,
   "outputs": [],
   "source": [
    "element = []\n",
    "element.append(tp.Element(node[2-1], node[1-1], A=A, E=E))\n",
    "element.append(tp.Element(node[2-1], node[3-1], A=A, E=E))\n",
    "element.append(tp.Element(node[1-1], node[6-1], A=A, E=E))\n",
    "element.append(tp.Element(node[3-1], node[5-1], A=A, E=E))\n",
    "element.append(tp.Element(node[2-1], node[4-1], A=A, E=E))\n",
    "element.append(tp.Element(node[2-1], node[6-1], A=A, E=E))\n",
    "element.append(tp.Element(node[1-1], node[4-1], A=A, E=E))\n",
    "element.append(tp.Element(node[2-1], node[5-1], A=A, E=E))\n",
    "element.append(tp.Element(node[3-1], node[4-1], A=A, E=E))\n",
    "element.append(tp.Element(node[4-1], node[5-1], A=A, E=E))\n",
    "element.append(tp.Element(node[4-1], node[6-1], A=A, E=E))\n",
    "\n",
    "element[1-1].make_element_K_with_help(node[1], node[0])\n",
    "element[2-1].make_element_K_with_help(node[2-1], node[3-1])\n",
    "element[3-1].make_element_K_with_help(node[1-1], node[6-1])\n",
    "element[4-1].make_element_K_with_help(node[3-1], node[5-1])\n",
    "element[5-1].make_element_K_with_help(node[2-1], node[4-1])\n",
    "element[6-1].make_element_K_with_help(node[2-1], node[6-1])\n",
    "element[7-1].make_element_K_with_help(node[1-1], node[4-1])\n",
    "element[8-1].make_element_K_with_help(node[2-1], node[5-1])\n",
    "element[9-1].make_element_K_with_help(node[3-1], node[4-1])\n",
    "element[10-1].make_element_K_with_help(node[4-1], node[5-1])\n",
    "element[11-1].make_element_K_with_help(node[4-1], node[6-1])"
   ],
   "metadata": {
    "collapsed": false,
    "ExecuteTime": {
     "end_time": "2023-06-07T14:43:55.079019Z",
     "start_time": "2023-06-07T14:43:55.016029300Z"
    }
   }
  },
  {
   "cell_type": "code",
   "execution_count": 5,
   "outputs": [
    {
     "name": "stdout",
     "output_type": "stream",
     "text": [
      "[[ 9474873.73415292 -2474873.73415292 -7000000.                0.\n",
      "         0.                0.         -2474873.73415292  2474873.73415292\n",
      "         0.                0.                0.                0.        ]\n",
      " [-2474873.73415292  9474873.73415292        0.                0.\n",
      "         0.                0.          2474873.73415292 -2474873.73415292\n",
      "         0.                0.                0.         -7000000.        ]\n",
      " [-7000000.                0.         18949747.46830584        0.\n",
      "  -7000000.                0.                0.                0.\n",
      "  -2474873.73415292  2474873.73415292 -2474873.73415292 -2474873.73415292]\n",
      " [       0.                0.                0.         11949747.46830584\n",
      "         0.                0.                0.         -7000000.\n",
      "   2474873.73415292 -2474873.73415292 -2474873.73415292 -2474873.73415292]\n",
      " [       0.                0.         -7000000.                0.\n",
      "   9474873.73415292  2474873.73415292 -2474873.73415292 -2474873.73415292\n",
      "         0.                0.                0.                0.        ]\n",
      " [       0.                0.                0.                0.\n",
      "   2474873.73415292  9474873.73415292 -2474873.73415292 -2474873.73415292\n",
      "         0.         -7000000.                0.                0.        ]\n",
      " [-2474873.73415292  2474873.73415292        0.                0.\n",
      "  -2474873.73415292 -2474873.73415292 18949747.46830584        0.\n",
      "  -7000000.                0.         -7000000.                0.        ]\n",
      " [ 2474873.73415292 -2474873.73415292        0.         -7000000.\n",
      "  -2474873.73415292 -2474873.73415292        0.         11949747.46830584\n",
      "         0.                0.                0.                0.        ]\n",
      " [       0.                0.         -2474873.73415292  2474873.73415292\n",
      "         0.                0.         -7000000.                0.\n",
      "   9474873.73415292 -2474873.73415292        0.                0.        ]\n",
      " [       0.                0.          2474873.73415292 -2474873.73415292\n",
      "         0.         -7000000.                0.                0.\n",
      "  -2474873.73415292  9474873.73415292        0.                0.        ]\n",
      " [       0.                0.         -2474873.73415292 -2474873.73415292\n",
      "         0.                0.         -7000000.                0.\n",
      "         0.                0.          9474873.73415292  2474873.73415292]\n",
      " [       0.         -7000000.         -2474873.73415292 -2474873.73415292\n",
      "         0.                0.                0.                0.\n",
      "         0.                0.          2474873.73415292  9474873.73415292]]\n"
     ]
    }
   ],
   "source": [
    "K = np.zeros(12 * 12)  # n*n total\n",
    "K_help = tp.make_K_help(12)  # n total\n",
    "# print(K_help)\n",
    "# print(element[0].K_help)\n",
    "# print(len(element))\n",
    "for i in range(len(element)):\n",
    "    K = tp.merge_K(K, K_help, element[i])\n",
    "print(K.reshape((12,12)))"
   ],
   "metadata": {
    "collapsed": false,
    "ExecuteTime": {
     "end_time": "2023-06-07T14:45:24.165819900Z",
     "start_time": "2023-06-07T14:45:24.112430100Z"
    }
   }
  },
  {
   "cell_type": "code",
   "execution_count": 6,
   "outputs": [
    {
     "name": "stdout",
     "output_type": "stream",
     "text": [
      "[[ 9474873.73415292 -2474873.73415292 -7000000.                0.\n",
      "         0.                0.         -2474873.73415292  2474873.73415292]\n",
      " [-2474873.73415292  9474873.73415292        0.                0.\n",
      "         0.                0.          2474873.73415292 -2474873.73415292]\n",
      " [-7000000.                0.         18949747.46830584        0.\n",
      "  -7000000.                0.                0.                0.        ]\n",
      " [       0.                0.                0.         11949747.46830584\n",
      "         0.                0.                0.         -7000000.        ]\n",
      " [       0.                0.         -7000000.                0.\n",
      "   9474873.73415292  2474873.73415292 -2474873.73415292 -2474873.73415292]\n",
      " [       0.                0.                0.                0.\n",
      "   2474873.73415292  9474873.73415292 -2474873.73415292 -2474873.73415292]\n",
      " [-2474873.73415292  2474873.73415292        0.                0.\n",
      "  -2474873.73415292 -2474873.73415292 18949747.46830584        0.        ]\n",
      " [ 2474873.73415292 -2474873.73415292        0.         -7000000.\n",
      "  -2474873.73415292 -2474873.73415292        0.         11949747.46830584]]\n"
     ]
    }
   ],
   "source": [
    "K_modified = np.array([])\n",
    "new_K_help = tp.make_K_help(8, 1, 1)  # show where is the modified K\n",
    "for p, v in np.ndenumerate(K_help):\n",
    "    if v in new_K_help:\n",
    "        K_modified = np.append(K_modified, K[p])\n",
    "\n",
    "K_modified = K_modified.reshape([8, 8])  # shape the modified.\n",
    "print(str(K_modified))"
   ],
   "metadata": {
    "collapsed": false,
    "ExecuteTime": {
     "end_time": "2023-06-07T14:45:31.503256600Z",
     "start_time": "2023-06-07T14:45:31.452310800Z"
    }
   }
  },
  {
   "cell_type": "code",
   "execution_count": 7,
   "outputs": [
    {
     "name": "stdout",
     "output_type": "stream",
     "text": [
      "[[ 1.35242734e-03]\n",
      " [-8.49528449e-03]\n",
      " [ 5.23825481e-19]\n",
      " [-1.63778087e-02]\n",
      " [-1.35242734e-03]\n",
      " [-8.49528449e-03]\n",
      " [-1.44614784e-19]\n",
      " [-1.36729540e-02]]\n"
     ]
    }
   ],
   "source": [
    "K_modified_inv = np.linalg.inv(K_modified)\n",
    "F = np.zeros(8)\n",
    "F[1] = -50000\n",
    "F[3] = -100000\n",
    "F[5] = -50000\n",
    "F_show = F.reshape((8, 1))\n",
    "displacements = np.dot(K_modified_inv, F_show)\n",
    "displacements_show = displacements\n",
    "print(displacements_show)"
   ],
   "metadata": {
    "collapsed": false,
    "ExecuteTime": {
     "end_time": "2023-06-07T14:45:39.954183500Z",
     "start_time": "2023-06-07T14:45:39.907092700Z"
    }
   }
  },
  {
   "cell_type": "code",
   "execution_count": null,
   "outputs": [],
   "source": [],
   "metadata": {
    "collapsed": false
   }
  }
 ],
 "metadata": {
  "kernelspec": {
   "display_name": "Python 3",
   "language": "python",
   "name": "python3"
  },
  "language_info": {
   "codemirror_mode": {
    "name": "ipython",
    "version": 2
   },
   "file_extension": ".py",
   "mimetype": "text/x-python",
   "name": "python",
   "nbconvert_exporter": "python",
   "pygments_lexer": "ipython2",
   "version": "2.7.6"
  }
 },
 "nbformat": 4,
 "nbformat_minor": 0
}
