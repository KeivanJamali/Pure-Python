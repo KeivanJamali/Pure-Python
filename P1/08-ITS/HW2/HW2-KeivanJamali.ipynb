{
 "cells": [
  {
   "cell_type": "code",
   "execution_count": 81,
   "id": "initial_id",
   "metadata": {
    "collapsed": true,
    "is_executing": true
   },
   "outputs": [],
   "source": [
    "import pandas as pd"
   ]
  },
  {
   "cell_type": "code",
   "execution_count": 82,
   "id": "8c4c3f3748ae79ed",
   "metadata": {
    "collapsed": false,
    "is_executing": true
   },
   "outputs": [],
   "source": [
    "data = pd.read_json(\"tweets/tweets.json\")"
   ]
  },
  {
   "cell_type": "code",
   "execution_count": 83,
   "id": "d27de6c0ad0405a6",
   "metadata": {
    "collapsed": false,
    "is_executing": true
   },
   "outputs": [
    {
     "data": {
      "text/html": [
       "<div>\n",
       "<style scoped>\n",
       "    .dataframe tbody tr th:only-of-type {\n",
       "        vertical-align: middle;\n",
       "    }\n",
       "\n",
       "    .dataframe tbody tr th {\n",
       "        vertical-align: top;\n",
       "    }\n",
       "\n",
       "    .dataframe thead th {\n",
       "        text-align: right;\n",
       "    }\n",
       "</style>\n",
       "<table border=\"1\" class=\"dataframe\">\n",
       "  <thead>\n",
       "    <tr style=\"text-align: right;\">\n",
       "      <th></th>\n",
       "      <th>lat</th>\n",
       "      <th>text</th>\n",
       "      <th>lng</th>\n",
       "      <th>id</th>\n",
       "      <th>timeStamp</th>\n",
       "    </tr>\n",
       "  </thead>\n",
       "  <tbody>\n",
       "    <tr>\n",
       "      <th>0</th>\n",
       "      <td>37.446100</td>\n",
       "      <td>@Tanner_Cortez hey checkout the website: http:...</td>\n",
       "      <td>-121.883557</td>\n",
       "      <td>377652254096228352</td>\n",
       "      <td>2013-09-11 04:38:08+00:00</td>\n",
       "    </tr>\n",
       "    <tr>\n",
       "      <th>1</th>\n",
       "      <td>34.087406</td>\n",
       "      <td>@Lennayy7 😪</td>\n",
       "      <td>-117.462604</td>\n",
       "      <td>377652255346159616</td>\n",
       "      <td>2013-09-11 04:38:08+00:00</td>\n",
       "    </tr>\n",
       "    <tr>\n",
       "      <th>2</th>\n",
       "      <td>37.356131</td>\n",
       "      <td>i laugh a lot with that line</td>\n",
       "      <td>-121.842867</td>\n",
       "      <td>377652262325456897</td>\n",
       "      <td>2013-09-11 04:38:10+00:00</td>\n",
       "    </tr>\n",
       "    <tr>\n",
       "      <th>3</th>\n",
       "      <td>37.364664</td>\n",
       "      <td>sons of anarchy is back on woop woop</td>\n",
       "      <td>-122.009629</td>\n",
       "      <td>377652264682655744</td>\n",
       "      <td>2013-09-11 04:38:11+00:00</td>\n",
       "    </tr>\n",
       "    <tr>\n",
       "      <th>4</th>\n",
       "      <td>37.382600</td>\n",
       "      <td>Drinking a Fresh Squeezed IPA by @deschutesbee...</td>\n",
       "      <td>-121.995000</td>\n",
       "      <td>377652271116722176</td>\n",
       "      <td>2013-09-11 04:38:12+00:00</td>\n",
       "    </tr>\n",
       "    <tr>\n",
       "      <th>...</th>\n",
       "      <td>...</td>\n",
       "      <td>...</td>\n",
       "      <td>...</td>\n",
       "      <td>...</td>\n",
       "      <td>...</td>\n",
       "    </tr>\n",
       "    <tr>\n",
       "      <th>99995</th>\n",
       "      <td>34.468682</td>\n",
       "      <td>I miss jumping Burke and Austin in weight trai...</td>\n",
       "      <td>-118.560411</td>\n",
       "      <td>378989660057239552</td>\n",
       "      <td>2013-09-14 21:12:30+00:00</td>\n",
       "    </tr>\n",
       "    <tr>\n",
       "      <th>99996</th>\n",
       "      <td>37.302844</td>\n",
       "      <td>Before, During, and After the run.  #colourmer...</td>\n",
       "      <td>-121.853312</td>\n",
       "      <td>378989667414441984</td>\n",
       "      <td>2013-09-14 21:12:32+00:00</td>\n",
       "    </tr>\n",
       "    <tr>\n",
       "      <th>99997</th>\n",
       "      <td>37.807181</td>\n",
       "      <td>Gara 7 @americascup #sf @fabricapo @internetli...</td>\n",
       "      <td>-122.437181</td>\n",
       "      <td>378989681280438273</td>\n",
       "      <td>2013-09-14 21:12:35+00:00</td>\n",
       "    </tr>\n",
       "    <tr>\n",
       "      <th>99998</th>\n",
       "      <td>37.645648</td>\n",
       "      <td>@dark_Jero esto fue un twist de alguien q sabe...</td>\n",
       "      <td>-122.455342</td>\n",
       "      <td>378989693112557568</td>\n",
       "      <td>2013-09-14 21:12:38+00:00</td>\n",
       "    </tr>\n",
       "    <tr>\n",
       "      <th>99999</th>\n",
       "      <td>37.459431</td>\n",
       "      <td>✨Happiest place on Earth✨ http://t.co/EDBFDT5e3P</td>\n",
       "      <td>-122.137188</td>\n",
       "      <td>378989698338676736</td>\n",
       "      <td>2013-09-14 21:12:40+00:00</td>\n",
       "    </tr>\n",
       "  </tbody>\n",
       "</table>\n",
       "<p>100000 rows × 5 columns</p>\n",
       "</div>"
      ],
      "text/plain": [
       "             lat                                               text  \\\n",
       "0      37.446100  @Tanner_Cortez hey checkout the website: http:...   \n",
       "1      34.087406                                        @Lennayy7 😪   \n",
       "2      37.356131                       i laugh a lot with that line   \n",
       "3      37.364664               sons of anarchy is back on woop woop   \n",
       "4      37.382600  Drinking a Fresh Squeezed IPA by @deschutesbee...   \n",
       "...          ...                                                ...   \n",
       "99995  34.468682  I miss jumping Burke and Austin in weight trai...   \n",
       "99996  37.302844  Before, During, and After the run.  #colourmer...   \n",
       "99997  37.807181  Gara 7 @americascup #sf @fabricapo @internetli...   \n",
       "99998  37.645648  @dark_Jero esto fue un twist de alguien q sabe...   \n",
       "99999  37.459431   ✨Happiest place on Earth✨ http://t.co/EDBFDT5e3P   \n",
       "\n",
       "              lng                  id                 timeStamp  \n",
       "0     -121.883557  377652254096228352 2013-09-11 04:38:08+00:00  \n",
       "1     -117.462604  377652255346159616 2013-09-11 04:38:08+00:00  \n",
       "2     -121.842867  377652262325456897 2013-09-11 04:38:10+00:00  \n",
       "3     -122.009629  377652264682655744 2013-09-11 04:38:11+00:00  \n",
       "4     -121.995000  377652271116722176 2013-09-11 04:38:12+00:00  \n",
       "...           ...                 ...                       ...  \n",
       "99995 -118.560411  378989660057239552 2013-09-14 21:12:30+00:00  \n",
       "99996 -121.853312  378989667414441984 2013-09-14 21:12:32+00:00  \n",
       "99997 -122.437181  378989681280438273 2013-09-14 21:12:35+00:00  \n",
       "99998 -122.455342  378989693112557568 2013-09-14 21:12:38+00:00  \n",
       "99999 -122.137188  378989698338676736 2013-09-14 21:12:40+00:00  \n",
       "\n",
       "[100000 rows x 5 columns]"
      ]
     },
     "execution_count": 83,
     "metadata": {},
     "output_type": "execute_result"
    }
   ],
   "source": [
    "data"
   ]
  },
  {
   "cell_type": "markdown",
   "id": "8e8a6038",
   "metadata": {},
   "source": [
    "# Part 1"
   ]
  },
  {
   "cell_type": "markdown",
   "id": "0b04bad4",
   "metadata": {},
   "source": [
    "## Calculate data point density"
   ]
  },
  {
   "cell_type": "code",
   "execution_count": 84,
   "id": "18d3b08d",
   "metadata": {},
   "outputs": [],
   "source": [
    "from haversine import haversine\n",
    "# Student ID: 99104468\n",
    "# centroid: [39.38048783332028, -121.51380397819406]\n",
    "lat_ID = 39.38048783332028\n",
    "lng_ID = -121.51380397819406\n",
    "density_within_50_kilometer = (data.apply(lambda x: haversine((x[\"lat\"], x[\"lng\"]), (lat_ID, lng_ID)), axis=1) < 50).sum()"
   ]
  },
  {
   "cell_type": "code",
   "execution_count": 85,
   "id": "83cb3e97",
   "metadata": {},
   "outputs": [
    {
     "data": {
      "text/plain": [
       "936"
      ]
     },
     "execution_count": 85,
     "metadata": {},
     "output_type": "execute_result"
    }
   ],
   "source": [
    "density_within_50_kilometer"
   ]
  },
  {
   "cell_type": "markdown",
   "id": "db26b93d",
   "metadata": {},
   "source": [
    "## Calculate all X, Y components to use in learnings"
   ]
  },
  {
   "cell_type": "code",
   "execution_count": 86,
   "id": "d993b35f4d50983b",
   "metadata": {
    "collapsed": false,
    "is_executing": true
   },
   "outputs": [],
   "source": [
    "minimum_lat = min(data[\"lat\"])\n",
    "maximum_lng = max(data[\"lng\"])"
   ]
  },
  {
   "cell_type": "code",
   "execution_count": null,
   "id": "774c6ac09414bd0f",
   "metadata": {
    "collapsed": false,
    "is_executing": true
   },
   "outputs": [],
   "source": [
    "from pyproj import Proj\n",
    "\n",
    "def lat_lng_to_xy(lat, lng, origin_lat, origin_lng):\n",
    "    # Define the projection using the Mercator projection (EPSG:3857)\n",
    "    projection = Proj(init='epsg:3857')\n",
    "\n",
    "    # Transform the origin coordinates\n",
    "    origin_x, origin_y = projection(origin_lng, origin_lat)\n",
    "\n",
    "    # Transform the target coordinates\n",
    "    target_x, target_y = projection(lng, lat)\n",
    "\n",
    "    # Calculate the x and y components\n",
    "    x = target_x - origin_x\n",
    "    y = target_y - origin_y\n",
    "\n",
    "    return [x, y]\n",
    "\n",
    "# Example usage\n",
    "\n",
    "\n",
    "data[\"X,Y\"] = data.apply(lambda x: lat_lng_to_xy(x[\"lat\"], x[\"lng\"], minimum_lat, maximum_lng), axis=1)\n",
    "data"
   ]
  },
  {
   "cell_type": "code",
   "execution_count": 108,
   "id": "26217369",
   "metadata": {},
   "outputs": [
    {
     "data": {
      "text/html": [
       "<div>\n",
       "<style scoped>\n",
       "    .dataframe tbody tr th:only-of-type {\n",
       "        vertical-align: middle;\n",
       "    }\n",
       "\n",
       "    .dataframe tbody tr th {\n",
       "        vertical-align: top;\n",
       "    }\n",
       "\n",
       "    .dataframe thead th {\n",
       "        text-align: right;\n",
       "    }\n",
       "</style>\n",
       "<table border=\"1\" class=\"dataframe\">\n",
       "  <thead>\n",
       "    <tr style=\"text-align: right;\">\n",
       "      <th></th>\n",
       "      <th>Unnamed: 0</th>\n",
       "      <th>lat</th>\n",
       "      <th>text</th>\n",
       "      <th>lng</th>\n",
       "      <th>id</th>\n",
       "      <th>timeStamp</th>\n",
       "      <th>X,Y</th>\n",
       "    </tr>\n",
       "  </thead>\n",
       "  <tbody>\n",
       "    <tr>\n",
       "      <th>0</th>\n",
       "      <td>0</td>\n",
       "      <td>37.446100</td>\n",
       "      <td>@Tanner_Cortez hey checkout the website: http:...</td>\n",
       "      <td>-121.883557</td>\n",
       "      <td>377652254096228352</td>\n",
       "      <td>2013-09-11 04:38:08+00:00</td>\n",
       "      <td>[-779834.5151019301, 641959.9370691082]</td>\n",
       "    </tr>\n",
       "    <tr>\n",
       "      <th>1</th>\n",
       "      <td>1</td>\n",
       "      <td>34.087406</td>\n",
       "      <td>@Lennayy7 😪</td>\n",
       "      <td>-117.462604</td>\n",
       "      <td>377652255346159616</td>\n",
       "      <td>2013-09-11 04:38:08+00:00</td>\n",
       "      <td>[-287696.29390566424, 181033.3451544866]</td>\n",
       "    </tr>\n",
       "    <tr>\n",
       "      <th>2</th>\n",
       "      <td>2</td>\n",
       "      <td>37.356131</td>\n",
       "      <td>i laugh a lot with that line</td>\n",
       "      <td>-121.842867</td>\n",
       "      <td>377652262325456897</td>\n",
       "      <td>2013-09-11 04:38:10+00:00</td>\n",
       "      <td>[-775304.9840208814, 629352.6132790274]</td>\n",
       "    </tr>\n",
       "    <tr>\n",
       "      <th>3</th>\n",
       "      <td>3</td>\n",
       "      <td>37.364664</td>\n",
       "      <td>sons of anarchy is back on woop woop</td>\n",
       "      <td>-122.009629</td>\n",
       "      <td>377652264682655744</td>\n",
       "      <td>2013-09-11 04:38:11+00:00</td>\n",
       "      <td>[-793868.7759264633, 630547.7378742038]</td>\n",
       "    </tr>\n",
       "    <tr>\n",
       "      <th>4</th>\n",
       "      <td>4</td>\n",
       "      <td>37.382600</td>\n",
       "      <td>Drinking a Fresh Squeezed IPA by @deschutesbee...</td>\n",
       "      <td>-121.995000</td>\n",
       "      <td>377652271116722176</td>\n",
       "      <td>2013-09-11 04:38:12+00:00</td>\n",
       "      <td>[-792240.3075859379, 633060.1242801617]</td>\n",
       "    </tr>\n",
       "    <tr>\n",
       "      <th>...</th>\n",
       "      <td>...</td>\n",
       "      <td>...</td>\n",
       "      <td>...</td>\n",
       "      <td>...</td>\n",
       "      <td>...</td>\n",
       "      <td>...</td>\n",
       "      <td>...</td>\n",
       "    </tr>\n",
       "    <tr>\n",
       "      <th>99995</th>\n",
       "      <td>99995</td>\n",
       "      <td>34.468682</td>\n",
       "      <td>I miss jumping Burke and Austin in weight trai...</td>\n",
       "      <td>-118.560411</td>\n",
       "      <td>378989660057239552</td>\n",
       "      <td>2013-09-14 21:12:30+00:00</td>\n",
       "      <td>[-409903.6602287255, 232398.28047327278]</td>\n",
       "    </tr>\n",
       "    <tr>\n",
       "      <th>99996</th>\n",
       "      <td>99996</td>\n",
       "      <td>37.302844</td>\n",
       "      <td>Before, During, and After the run.  #colourmer...</td>\n",
       "      <td>-121.853312</td>\n",
       "      <td>378989667414441984</td>\n",
       "      <td>2013-09-14 21:12:32+00:00</td>\n",
       "      <td>[-776467.6348389871, 621892.5759545383]</td>\n",
       "    </tr>\n",
       "    <tr>\n",
       "      <th>99997</th>\n",
       "      <td>99997</td>\n",
       "      <td>37.807181</td>\n",
       "      <td>Gara 7 @americascup #sf @fabricapo @internetli...</td>\n",
       "      <td>-122.437181</td>\n",
       "      <td>378989681280438273</td>\n",
       "      <td>2013-09-14 21:12:35+00:00</td>\n",
       "      <td>[-841463.7058534417, 692711.4987143283]</td>\n",
       "    </tr>\n",
       "    <tr>\n",
       "      <th>99998</th>\n",
       "      <td>99998</td>\n",
       "      <td>37.645648</td>\n",
       "      <td>@dark_Jero esto fue un twist de alguien q sabe...</td>\n",
       "      <td>-122.455342</td>\n",
       "      <td>378989693112557568</td>\n",
       "      <td>2013-09-14 21:12:38+00:00</td>\n",
       "      <td>[-843485.3869181015, 669976.7514340286]</td>\n",
       "    </tr>\n",
       "    <tr>\n",
       "      <th>99999</th>\n",
       "      <td>99999</td>\n",
       "      <td>37.459431</td>\n",
       "      <td>✨Happiest place on Earth✨ http://t.co/EDBFDT5e3P</td>\n",
       "      <td>-122.137188</td>\n",
       "      <td>378989698338676736</td>\n",
       "      <td>2013-09-14 21:12:40+00:00</td>\n",
       "      <td>[-808068.5532490816, 643829.3314776416]</td>\n",
       "    </tr>\n",
       "  </tbody>\n",
       "</table>\n",
       "<p>100000 rows × 7 columns</p>\n",
       "</div>"
      ],
      "text/plain": [
       "       Unnamed: 0        lat  \\\n",
       "0               0  37.446100   \n",
       "1               1  34.087406   \n",
       "2               2  37.356131   \n",
       "3               3  37.364664   \n",
       "4               4  37.382600   \n",
       "...           ...        ...   \n",
       "99995       99995  34.468682   \n",
       "99996       99996  37.302844   \n",
       "99997       99997  37.807181   \n",
       "99998       99998  37.645648   \n",
       "99999       99999  37.459431   \n",
       "\n",
       "                                                    text         lng  \\\n",
       "0      @Tanner_Cortez hey checkout the website: http:... -121.883557   \n",
       "1                                            @Lennayy7 😪 -117.462604   \n",
       "2                           i laugh a lot with that line -121.842867   \n",
       "3                   sons of anarchy is back on woop woop -122.009629   \n",
       "4      Drinking a Fresh Squeezed IPA by @deschutesbee... -121.995000   \n",
       "...                                                  ...         ...   \n",
       "99995  I miss jumping Burke and Austin in weight trai... -118.560411   \n",
       "99996  Before, During, and After the run.  #colourmer... -121.853312   \n",
       "99997  Gara 7 @americascup #sf @fabricapo @internetli... -122.437181   \n",
       "99998  @dark_Jero esto fue un twist de alguien q sabe... -122.455342   \n",
       "99999   ✨Happiest place on Earth✨ http://t.co/EDBFDT5e3P -122.137188   \n",
       "\n",
       "                       id                  timeStamp  \\\n",
       "0      377652254096228352  2013-09-11 04:38:08+00:00   \n",
       "1      377652255346159616  2013-09-11 04:38:08+00:00   \n",
       "2      377652262325456897  2013-09-11 04:38:10+00:00   \n",
       "3      377652264682655744  2013-09-11 04:38:11+00:00   \n",
       "4      377652271116722176  2013-09-11 04:38:12+00:00   \n",
       "...                   ...                        ...   \n",
       "99995  378989660057239552  2013-09-14 21:12:30+00:00   \n",
       "99996  378989667414441984  2013-09-14 21:12:32+00:00   \n",
       "99997  378989681280438273  2013-09-14 21:12:35+00:00   \n",
       "99998  378989693112557568  2013-09-14 21:12:38+00:00   \n",
       "99999  378989698338676736  2013-09-14 21:12:40+00:00   \n",
       "\n",
       "                                            X,Y  \n",
       "0       [-779834.5151019301, 641959.9370691082]  \n",
       "1      [-287696.29390566424, 181033.3451544866]  \n",
       "2       [-775304.9840208814, 629352.6132790274]  \n",
       "3       [-793868.7759264633, 630547.7378742038]  \n",
       "4       [-792240.3075859379, 633060.1242801617]  \n",
       "...                                         ...  \n",
       "99995  [-409903.6602287255, 232398.28047327278]  \n",
       "99996   [-776467.6348389871, 621892.5759545383]  \n",
       "99997   [-841463.7058534417, 692711.4987143283]  \n",
       "99998   [-843485.3869181015, 669976.7514340286]  \n",
       "99999   [-808068.5532490816, 643829.3314776416]  \n",
       "\n",
       "[100000 rows x 7 columns]"
      ]
     },
     "execution_count": 108,
     "metadata": {},
     "output_type": "execute_result"
    }
   ],
   "source": [
    "# data.to_csv(\"tweets/tweets_with_coordinates.csv\")\n",
    "data = pd.read_csv(\"tweets/tweets_with_coordinates.csv\")\n",
    "# data.apply(lambda x: list(map(float, x[\"X,Y\"][1:-1].split(\", \"))), axis=1)\n",
    "data[\"X,Y\"] = data.apply(lambda x: list(map(float,(x[\"X,Y\"][1:-1].split(\", \")))), axis=1)\n",
    "data"
   ]
  },
  {
   "cell_type": "markdown",
   "id": "9cc6a843",
   "metadata": {},
   "source": [
    "## Plot Whole Data"
   ]
  },
  {
   "cell_type": "code",
   "execution_count": 109,
   "id": "91e4d6b6",
   "metadata": {},
   "outputs": [
    {
     "data": {
      "text/plain": [
       "<matplotlib.collections.PathCollection at 0x280b5708a50>"
      ]
     },
     "execution_count": 109,
     "metadata": {},
     "output_type": "execute_result"
    },
    {
     "data": {
      "image/png": "[encoded data removed]",
      "text/plain": [
       "<Figure size 640x480 with 1 Axes>"
      ]
     },
     "metadata": {},
     "output_type": "display_data"
    }
   ],
   "source": [
    "import matplotlib.pyplot as plt\n",
    "plt.scatter(data.apply(lambda x: x[\"X,Y\"][0], axis=1), data.apply(lambda x: x[\"X,Y\"][1], axis=1))"
   ]
  },
  {
   "cell_type": "markdown",
   "id": "aeea533b",
   "metadata": {},
   "source": [
    "# Part 2"
   ]
  },
  {
   "cell_type": "markdown",
   "id": "fabf1c50",
   "metadata": {},
   "source": [
    "## make data ready"
   ]
  },
  {
   "cell_type": "code",
   "execution_count": 113,
   "id": "51920b6b",
   "metadata": {},
   "outputs": [
    {
     "data": {
      "text/html": [
       "<div>\n",
       "<style scoped>\n",
       "    .dataframe tbody tr th:only-of-type {\n",
       "        vertical-align: middle;\n",
       "    }\n",
       "\n",
       "    .dataframe tbody tr th {\n",
       "        vertical-align: top;\n",
       "    }\n",
       "\n",
       "    .dataframe thead th {\n",
       "        text-align: right;\n",
       "    }\n",
       "</style>\n",
       "<table border=\"1\" class=\"dataframe\">\n",
       "  <thead>\n",
       "    <tr style=\"text-align: right;\">\n",
       "      <th></th>\n",
       "      <th>time</th>\n",
       "      <th>X_component</th>\n",
       "      <th>Y_component</th>\n",
       "    </tr>\n",
       "  </thead>\n",
       "  <tbody>\n",
       "    <tr>\n",
       "      <th>0</th>\n",
       "      <td>1.378874e+09</td>\n",
       "      <td>-779834.515102</td>\n",
       "      <td>641959.937069</td>\n",
       "    </tr>\n",
       "    <tr>\n",
       "      <th>1</th>\n",
       "      <td>1.378874e+09</td>\n",
       "      <td>-287696.293906</td>\n",
       "      <td>181033.345154</td>\n",
       "    </tr>\n",
       "    <tr>\n",
       "      <th>2</th>\n",
       "      <td>1.378874e+09</td>\n",
       "      <td>-775304.984021</td>\n",
       "      <td>629352.613279</td>\n",
       "    </tr>\n",
       "    <tr>\n",
       "      <th>3</th>\n",
       "      <td>1.378874e+09</td>\n",
       "      <td>-793868.775926</td>\n",
       "      <td>630547.737874</td>\n",
       "    </tr>\n",
       "    <tr>\n",
       "      <th>4</th>\n",
       "      <td>1.378874e+09</td>\n",
       "      <td>-792240.307586</td>\n",
       "      <td>633060.124280</td>\n",
       "    </tr>\n",
       "    <tr>\n",
       "      <th>...</th>\n",
       "      <td>...</td>\n",
       "      <td>...</td>\n",
       "      <td>...</td>\n",
       "    </tr>\n",
       "    <tr>\n",
       "      <th>99995</th>\n",
       "      <td>1.379193e+09</td>\n",
       "      <td>-409903.660229</td>\n",
       "      <td>232398.280473</td>\n",
       "    </tr>\n",
       "    <tr>\n",
       "      <th>99996</th>\n",
       "      <td>1.379193e+09</td>\n",
       "      <td>-776467.634839</td>\n",
       "      <td>621892.575955</td>\n",
       "    </tr>\n",
       "    <tr>\n",
       "      <th>99997</th>\n",
       "      <td>1.379193e+09</td>\n",
       "      <td>-841463.705853</td>\n",
       "      <td>692711.498714</td>\n",
       "    </tr>\n",
       "    <tr>\n",
       "      <th>99998</th>\n",
       "      <td>1.379193e+09</td>\n",
       "      <td>-843485.386918</td>\n",
       "      <td>669976.751434</td>\n",
       "    </tr>\n",
       "    <tr>\n",
       "      <th>99999</th>\n",
       "      <td>1.379193e+09</td>\n",
       "      <td>-808068.553249</td>\n",
       "      <td>643829.331478</td>\n",
       "    </tr>\n",
       "  </tbody>\n",
       "</table>\n",
       "<p>100000 rows × 3 columns</p>\n",
       "</div>"
      ],
      "text/plain": [
       "               time    X_component    Y_component\n",
       "0      1.378874e+09 -779834.515102  641959.937069\n",
       "1      1.378874e+09 -287696.293906  181033.345154\n",
       "2      1.378874e+09 -775304.984021  629352.613279\n",
       "3      1.378874e+09 -793868.775926  630547.737874\n",
       "4      1.378874e+09 -792240.307586  633060.124280\n",
       "...             ...            ...            ...\n",
       "99995  1.379193e+09 -409903.660229  232398.280473\n",
       "99996  1.379193e+09 -776467.634839  621892.575955\n",
       "99997  1.379193e+09 -841463.705853  692711.498714\n",
       "99998  1.379193e+09 -843485.386918  669976.751434\n",
       "99999  1.379193e+09 -808068.553249  643829.331478\n",
       "\n",
       "[100000 rows x 3 columns]"
      ]
     },
     "execution_count": 113,
     "metadata": {},
     "output_type": "execute_result"
    }
   ],
   "source": [
    "from datetime import datetime, timezone\n",
    "# make the data for passing to the model\n",
    "data_model = pd.DataFrame({\"time\": data[\"timeStamp\"],\n",
    "              \"X_component\": data.apply(lambda x: x[\"X,Y\"][0], axis=1),\n",
    "              \"Y_component\": data.apply(lambda x: x[\"X,Y\"][1], axis=1)})\n",
    "# turn time_stamp to numerical peresentation\n",
    "desired_timezone = timezone.utc\n",
    "data_model[\"time\"] = pd.to_datetime(data_model[\"time\"], utc=True)\n",
    "refrence_point = datetime(1970, 1, 1, tzinfo=timezone.utc)\n",
    "data_model[\"time\"] = (data_model[\"time\"] - refrence_point).dt.total_seconds()\n",
    "\n",
    "# data_model = pd.DataFrame({\n",
    "#               \"X_component\": data.apply(lambda x: x[\"X,Y\"][0], axis=1),\n",
    "#               \"Y_component\": data.apply(lambda x: x[\"X,Y\"][1], axis=1)})\n",
    "\n",
    "data_model.dropna(inplace=True)\n",
    "data_model"
   ]
  },
  {
   "cell_type": "code",
   "execution_count": 124,
   "id": "f5c80e75",
   "metadata": {},
   "outputs": [
    {
     "name": "stdout",
     "output_type": "stream",
     "text": [
      "Model Score calculated as : -61274850339146.67\n",
      "The prosses took 9.952447414398193 seconds\n"
     ]
    }
   ],
   "source": [
    "from sklearn.cluster import KMeans\n",
    "from time import time\n",
    "start = time()\n",
    "n = 100\n",
    "model = KMeans(n_clusters=n, init=\"k-means++\", max_iter=500, n_init=10, random_state=42)\n",
    "y_predict = model.fit_predict(data_model)\n",
    "end = time()\n",
    "data_model[\"name\"] = y_predict\n",
    "print(f\"Model Score calculated as : {model.score(data_model)}\")\n",
    "print(f\"The prosses took {end-start} seconds\")"
   ]
  },
  {
   "cell_type": "code",
   "execution_count": 126,
   "id": "148043c0",
   "metadata": {},
   "outputs": [
    {
     "data": {
      "text/plain": [
       "Text(0.5, 1.0, 'Cluster Location')"
      ]
     },
     "execution_count": 126,
     "metadata": {},
     "output_type": "execute_result"
    },
    {
     "data": {
      "image/png": "[encoded data removed]",
      "text/plain": [
       "<Figure size 640x480 with 1 Axes>"
      ]
     },
     "metadata": {},
     "output_type": "display_data"
    }
   ],
   "source": [
    "import matplotlib.pyplot as plt\n",
    "import colors_kit\n",
    "import numpy as np\n",
    "# using my color_kit - made by me long ago :)\n",
    "colors = np.array(colors_kit.color1).reshape(-1,)\n",
    "for i in range(n):\n",
    "    plt.scatter(data_model[data_model[\"name\"]==i].iloc[:,1], data_model[data_model[\"name\"]==i].iloc[:,2], marker=\"o\", color=colors[i], label=i)\n",
    "\n",
    "plt.scatter(model.cluster_centers_[:,1], model.cluster_centers_[:,2], marker=\"o\", color=\"black\", label=\"centers\")\n",
    "# plt.legend()\n",
    "plt.title(\"Cluster Location\")"
   ]
  },
  {
   "cell_type": "markdown",
   "id": "14faba11",
   "metadata": {},
   "source": [
    "### Experiment Tracking for 3th part"
   ]
  },
  {
   "cell_type": "code",
   "execution_count": 133,
   "id": "162dc449",
   "metadata": {},
   "outputs": [
    {
     "name": "stdout",
     "output_type": "stream",
     "text": [
      "Model Score calculated as : -12351046007598.76\n",
      "The prosses took 61.80879473686218 seconds\n",
      "Model Score calculated as : -5982541706250.949\n",
      "The prosses took 118.81198334693909 seconds\n"
     ]
    }
   ],
   "source": [
    "data_time_save = {}\n",
    "n_c = [500, 1000, 5000, 10000]\n",
    "for n in n_c:\n",
    "    start = time()\n",
    "    model = KMeans(n_clusters=n, init=\"k-means++\", max_iter=500, n_init=10, random_state=42)\n",
    "    y_predict = model.fit_predict(data_model)\n",
    "    end = time()\n",
    "    data_model[\"name\"] = y_predict\n",
    "    print(f\"Model Score calculated as : {model.score(data_model)}\")\n",
    "    print(f\"The prosses took {end-start} seconds\")\n",
    "    data_time_save[f\"{n} clusters\"] = end-start\n",
    "\n",
    "\n",
    "# using my color_kit - made by me long ago :)\n",
    "# colors = []\n",
    "# for _ in range(10):\n",
    "    # colors.append(colors_kit.color1)\n",
    "# colors = np.array(colors).reshape(-1,)\n",
    "# print(len(colors))\n",
    "# for i in range(n):\n",
    "    # plt.scatter(data_model[data_model[\"name\"]==i].iloc[:,1], data_model[data_model[\"name\"]==i].iloc[:,2], marker=\".\", color=colors[i], label=i)\n",
    "\n",
    "# plt.scatter(model.cluster_centers_[:,1], model.cluster_centers_[:,2], marker=\".\", color=\"black\", label=\"centers\")\n",
    "# plt.legend()\n",
    "# plt.title(\"Cluster Location\")"
   ]
  },
  {
   "cell_type": "code",
   "execution_count": 118,
   "id": "3897fb7b",
   "metadata": {},
   "outputs": [
    {
     "data": {
      "image/png": "[encoded data removed]",
      "text/plain": [
       "<Figure size 640x480 with 1 Axes>"
      ]
     },
     "metadata": {},
     "output_type": "display_data"
    }
   ],
   "source": [
    "wcss = []\n",
    "n_max = 25\n",
    "\n",
    "for i in range(1, n_max):\n",
    "    kmeans = KMeans(n_clusters=i, init=\"k-means++\", max_iter=300, n_init=10, random_state=42)\n",
    "    kmeans.fit(data_model)\n",
    "    wcss.append(kmeans.inertia_)\n",
    "\n",
    "plt.plot(range(1, n_max), wcss)\n",
    "plt.ylabel(\"wcss\")\n",
    "plt.xlabel(\"number of cluster\")\n",
    "plt.title(\"The Elbow Method\")\n",
    "plt.show()\n",
    "# maybe 4 cluster is the best"
   ]
  },
  {
   "cell_type": "code",
   "execution_count": null,
   "id": "6ed6cdea",
   "metadata": {},
   "outputs": [],
   "source": []
  }
 ],
 "metadata": {
  "kernelspec": {
   "display_name": "Python 3",
   "language": "python",
   "name": "python3"
  },
  "language_info": {
   "codemirror_mode": {
    "name": "ipython",
    "version": 3
   },
   "file_extension": ".py",
   "mimetype": "text/x-python",
   "name": "python",
   "nbconvert_exporter": "python",
   "pygments_lexer": "ipython3",
   "version": "3.11.5"
  }
 },
 "nbformat": 4,
 "nbformat_minor": 5
}
