{
 "cells": [
  {
   "cell_type": "code",
   "execution_count": 1,
   "metadata": {},
   "outputs": [],
   "source": [
    "%load_ext autoreload\n",
    "%autoreload 2"
   ]
  },
  {
   "cell_type": "code",
   "execution_count": 2,
   "metadata": {},
   "outputs": [],
   "source": [
    "from modular.number_generator import Exponential_Generator, Uniform_Generator\n",
    "from modular.Engine import Storage_Simulator\n"
   ]
  },
  {
   "cell_type": "code",
   "execution_count": 7,
   "metadata": {},
   "outputs": [],
   "source": [
    "demand_intervals_seed = 1985072130\n",
    "delay_seed = 748932582\n",
    "demand_seed = 1631331038\n",
    "\n",
    "demand_intervals = Uniform_Generator(seed=demand_intervals_seed)\n",
    "demand = Exponential_Generator(seed=demand_seed, mean=5)\n",
    "delay = Uniform_Generator(seed=delay_seed)"
   ]
  },
  {
   "cell_type": "code",
   "execution_count": 11,
   "metadata": {},
   "outputs": [
    {
     "name": "stdout",
     "output_type": "stream",
     "text": [
      "==========================================================\n",
      "===========policy := [ s = 20 and S = 200 ]================\n",
      "Mean pos costs is : 10688.981152272354\n",
      "Mean neg costs is : 0.0\n",
      "Mean cost of ordering is : 0.0\n",
      "Mean total cost is : 10688.981152272354\n",
      "Percentage of lackness weeks : 0.0\n",
      "\n",
      "==========================================================\n",
      "===========policy := [ s = 50 and S = 200 ]================\n",
      "Mean pos costs is : 35464.44415886758\n",
      "Mean neg costs is : 0.0\n",
      "Mean cost of ordering is : 4130.737063841639\n",
      "Mean total cost is : 39595.181222709216\n",
      "Percentage of lackness weeks : 0.0\n",
      "\n"
     ]
    }
   ],
   "source": [
    "model = Storage_Simulator(demand_generator=demand,\n",
    "                          demand_interval_generator=demand_intervals,\n",
    "                          delay_generator=delay,\n",
    "                          fixed_cost=15,\n",
    "                          variable_cost=2,\n",
    "                          pos_cost=5.2,\n",
    "                          neg_cost=520,\n",
    "                          initial_level=50)\n",
    "\n",
    "# [S, s]\n",
    "policies = [[200, 20], [200, 50]]\n",
    "model.fit(time_limit=4, policies=policies)"
   ]
  },
  {
   "cell_type": "code",
   "execution_count": 70,
   "metadata": {},
   "outputs": [
    {
     "name": "stdout",
     "output_type": "stream",
     "text": [
      "==========================================================\n",
      "===========policy := [ s = 25 and S = 175 ]================\n",
      "Mean pos costs is : 509.83245751896413\n",
      "Mean neg costs is : 0.0\n",
      "Mean cost of ordering is : 25.80637927259554\n",
      "Mean total cost is : 535.6388367915596\n",
      "Percentage of lackness weeks : 0.0\n",
      "\n",
      "==========================================================\n",
      "===========policy := [ s = 50 and S = 100 ]================\n",
      "Mean pos costs is : 351.03867426933937\n",
      "Mean neg costs is : 0.0\n",
      "Mean cost of ordering is : 25.19333232956333\n",
      "Mean total cost is : 376.23200659890273\n",
      "Percentage of lackness weeks : 0.0\n",
      "\n"
     ]
    }
   ],
   "source": [
    "model = Storage_Simulator(demand_generator=demand,\n",
    "                          demand_interval_generator=demand_intervals,\n",
    "                          delay_generator=delay,\n",
    "                          fixed_cost=15,\n",
    "                          variable_cost=2,\n",
    "                          pos_cost=5.2,\n",
    "                          neg_cost=520)\n",
    "\n",
    "# [S, s]\n",
    "policies = [[175, 25], [100, 50]]\n",
    "model.fit(time_limit=1, policies=policies)"
   ]
  }
 ],
 "metadata": {
  "kernelspec": {
   "display_name": "Python 3",
   "language": "python",
   "name": "python3"
  },
  "language_info": {
   "codemirror_mode": {
    "name": "ipython",
    "version": 3
   },
   "file_extension": ".py",
   "mimetype": "text/x-python",
   "name": "python",
   "nbconvert_exporter": "python",
   "pygments_lexer": "ipython3",
   "version": "3.12.1"
  }
 },
 "nbformat": 4,
 "nbformat_minor": 2
}
