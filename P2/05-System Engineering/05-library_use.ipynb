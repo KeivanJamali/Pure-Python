{
 "cells": [
  {
   "cell_type": "code",
   "execution_count": 1,
   "metadata": {},
   "outputs": [],
   "source": [
    "import Simplextep"
   ]
  },
  {
   "cell_type": "code",
   "execution_count": 4,
   "metadata": {},
   "outputs": [
    {
     "data": {
      "text/plain": [
       "[[5], 2]"
      ]
     },
     "execution_count": 4,
     "metadata": {},
     "output_type": "execute_result"
    }
   ],
   "source": [
    "a = [[1],2]\n",
    "b=a.copy()\n",
    "b[0][0]=5\n",
    "a"
   ]
  },
  {
   "cell_type": "code",
   "execution_count": 10,
   "metadata": {},
   "outputs": [
    {
     "name": "stdout",
     "output_type": "stream",
     "text": [
      "[INFO] Add slack\n",
      "[INFO] Add slack\n",
      "[INFO] Add slack\n",
      "[INFO] Parameter x1 remains same.\n",
      "[INFO] Parameter x2 remains same.\n",
      "[INFO] Parameter x3 remains same.\n",
      "[INFO] One phase solution\n",
      "Finished.\n",
      "|    |   Current Values |   x1 |   x2 |   x3 |   s1 |   s2 |   s3 |\n",
      "|----|------------------|------|------|------|------|------|------|\n",
      "|  0 |            912.0 | 72.0 | 96.0 |  0.0 |  0.0 |  0.0 | 60.0 |\n",
      "\n",
      "| Basic Variables      | Current Values       | x1                   | x2                   | x3                   | s1                   | s2                   | s3                   |\n",
      "|----------------------|----------------------|----------------------|----------------------|----------------------|----------------------|----------------------|----------------------|\n",
      "| s1                   | 240.0                | 2.0                  | 1.0                  | 1.0                  | 1.0                  | 0.0                  | 0.0                  |\n",
      "| s2                   | 360.0                | 1.0                  | 3.0                  | 2.0                  | 0.0                  | 1.0                  | 0.0                  |\n",
      "| s3                   | 300.0                | 2.0                  | 1.0                  | 2.0                  | 0.0                  | 0.0                  | 1.0                  |\n",
      "| -z1                  | 0.0                  | 6.0                  | 5.0                  | 4.0                  | 0.0                  | 0.0                  | 0.0                  |\n",
      "| -------------------- | -------------------- | -------------------- | -------------------- | -------------------- | -------------------- | -------------------- | -------------------- |\n",
      "| x1                   | 120.0                | 1.0                  | 0.5                  | 0.5                  | 0.5                  | 0.0                  | 0.0                  |\n",
      "| s2                   | 240.0                | 0.0                  | 2.5                  | 1.5                  | -0.5                 | 1.0                  | 0.0                  |\n",
      "| s3                   | 60.0                 | 0.0                  | 0.0                  | 1.0                  | -1.0                 | 0.0                  | 1.0                  |\n",
      "| -z2                  | -720.0               | 0.0                  | 2.0                  | 1.0                  | -3.0                 | 0.0                  | 0.0                  |\n",
      "| -------------------- | -------------------- | -------------------- | -------------------- | -------------------- | -------------------- | -------------------- | -------------------- |\n",
      "| x1                   | 72.0                 | 1.0                  | 0.0                  | 0.19999999999999996  | 0.6                  | -0.2                 | 0.0                  |\n",
      "| x2                   | 96.0                 | 0.0                  | 1.0                  | 0.6                  | -0.2                 | 0.4                  | 0.0                  |\n",
      "| s3                   | 60.0                 | 0.0                  | 0.0                  | 1.0                  | -1.0                 | 0.0                  | 1.0                  |\n",
      "| -z3                  | -912.0               | 0.0                  | 0.0                  | -0.20000000000000018 | -2.6                 | -0.8                 | 0.0                  |\n",
      "| -------------------- | -------------------- | -------------------- | -------------------- | -------------------- | -------------------- | -------------------- | -------------------- |\n"
     ]
    }
   ],
   "source": [
    "objective_function = [0, 6, 5, 4]\n",
    "constraints = [[240, 2, 1, 1], [360, 1, 3, 2], [300, 2, 1, 2]]\n",
    "equality = [\"ineq\", \"ineq\", \"ineq\"]\n",
    "parameters = [(\"x1\", \"+\"), (\"x2\", \"+\"), (\"x3\", \"+\")]\n",
    "\n",
    "problem = Simplextep.Problem_Prepration(objective_function=objective_function,\n",
    "                            constraints=constraints,\n",
    "                            equality=equality,\n",
    "                            parameters=parameters,\n",
    "                            mode=\"max\")\n",
    "\n",
    "simplex = Simplextep.Simplex(problem=problem)\n",
    "simplex.fit()\n",
    "print()\n",
    "simplex.make_table(format_=\"github\") # This line will show all the steps.\n",
    "# print(problem)"
   ]
  },
  {
   "cell_type": "code",
   "execution_count": null,
   "metadata": {},
   "outputs": [],
   "source": []
  }
 ],
 "metadata": {
  "kernelspec": {
   "display_name": "Python 3",
   "language": "python",
   "name": "python3"
  },
  "language_info": {
   "codemirror_mode": {
    "name": "ipython",
    "version": 3
   },
   "file_extension": ".py",
   "mimetype": "text/x-python",
   "name": "python",
   "nbconvert_exporter": "python",
   "pygments_lexer": "ipython3",
   "version": "3.12.1"
  }
 },
 "nbformat": 4,
 "nbformat_minor": 2
}
