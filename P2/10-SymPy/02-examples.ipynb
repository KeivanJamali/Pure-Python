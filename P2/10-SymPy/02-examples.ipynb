{
 "cells": [
  {
   "cell_type": "code",
   "execution_count": 2,
   "metadata": {},
   "outputs": [],
   "source": [
    "import sympy as sp\n",
    "# K_11 = Integral(E*I*2*2, (x, 0, L))"
   ]
  },
  {
   "cell_type": "code",
   "execution_count": 7,
   "metadata": {},
   "outputs": [],
   "source": [
    "# E, I, x, L, F_0 = sp.symbols(\"E, I, x, L, F_0\")\n",
    "E, I, x, L, I_0, F_1, F_2, M_1 = sp.symbols(\"E, I, x, L, I_0, F_1, F_2, M_1\")\n",
    "delta = []\n",
    "delta.append(x**2)\n",
    "delta.append(x**3)\n",
    "# F_z = (F_0/L)*x\n",
    "I = E*I_0 * (1-(x/(6*L)))**3"
   ]
  },
  {
   "cell_type": "code",
   "execution_count": 12,
   "metadata": {},
   "outputs": [],
   "source": [
    "K = sp.Matrix([[0,0], [0,0]])\n",
    "\n",
    "for i in range(1, 3):\n",
    "    for j in range(1, 3):\n",
    "        K[i-1, j-1] = sp.Integral(E * I * sp.Derivative(delta[i-1], x, x)*sp.Derivative(delta[j-1], x, x), (x, 0, 3*L)).doit()\n",
    "\n",
    "Q = sp.Matrix([[0],[0]])\n",
    "\n",
    "for i in range(1, 3):\n",
    "    Q[i-1] = F_1 * delta[i-1].subs(x, L) + F_2 * delta[i-1].subs(x, 3*L) + M_1 * delta[i-1].diff(x).subs(x, 2*L)\n",
    "\n",
    "q = sp.Matrix([K**(-1)*Q])\n",
    "\n",
    "W = (q.T * sp.Matrix([delta[0], delta[1]]))[0]"
   ]
  },
  {
   "cell_type": "code",
   "execution_count": 16,
   "metadata": {},
   "outputs": [
    {
     "data": {
      "text/latex": [
       "$\\displaystyle \\frac{6000 F_{1} L^{2} x^{2} - 1060 F_{1} L x^{3} + 25920 F_{2} L^{2} x^{2} - 540 F_{2} L x^{3} + 11520 L M_{1} x^{2} - 240 M_{1} x^{3}}{15147 E^{2} I_{0} L}$"
      ],
      "text/plain": [
       "(6000*F_1*L**2*x**2 - 1060*F_1*L*x**3 + 25920*F_2*L**2*x**2 - 540*F_2*L*x**3 + 11520*L*M_1*x**2 - 240*M_1*x**3)/(15147*E**2*I_0*L)"
      ]
     },
     "execution_count": 16,
     "metadata": {},
     "output_type": "execute_result"
    }
   ],
   "source": [
    "sp.cancel(W)"
   ]
  },
  {
   "cell_type": "code",
   "execution_count": 21,
   "metadata": {},
   "outputs": [
    {
     "data": {
      "text/latex": [
       "$\\displaystyle \\frac{x^{3} \\left(- 1060 F_{1} L - 540 F_{2} L - 240 M_{1}\\right) + x^{2} \\cdot \\left(6000 F_{1} L^{2} + 25920 F_{2} L^{2} + 11520 L M_{1}\\right)}{15147 E^{2} I_{0} L}$"
      ],
      "text/plain": [
       "(x**3*(-1060*F_1*L - 540*F_2*L - 240*M_1) + x**2*(6000*F_1*L**2 + 25920*F_2*L**2 + 11520*L*M_1))/(15147*E**2*I_0*L)"
      ]
     },
     "execution_count": 21,
     "metadata": {},
     "output_type": "execute_result"
    }
   ],
   "source": [
    "sp.collect(sp.cancel(W), x)"
   ]
  },
  {
   "cell_type": "code",
   "execution_count": null,
   "metadata": {},
   "outputs": [],
   "source": []
  }
 ],
 "metadata": {
  "kernelspec": {
   "display_name": "Python 3",
   "language": "python",
   "name": "python3"
  },
  "language_info": {
   "codemirror_mode": {
    "name": "ipython",
    "version": 3
   },
   "file_extension": ".py",
   "mimetype": "text/x-python",
   "name": "python",
   "nbconvert_exporter": "python",
   "pygments_lexer": "ipython3",
   "version": "3.12.1"
  }
 },
 "nbformat": 4,
 "nbformat_minor": 2
}
