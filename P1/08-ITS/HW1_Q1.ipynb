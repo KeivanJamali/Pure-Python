{
 "cells": [
  {
   "cell_type": "code",
   "execution_count": 1,
   "id": "initial_id",
   "metadata": {
    "collapsed": true,
    "ExecuteTime": {
     "end_time": "2023-10-04T21:13:46.986236800Z",
     "start_time": "2023-10-04T21:13:46.979324600Z"
    }
   },
   "outputs": [],
   "source": [
    "import random\n",
    "\n",
    "\n",
    "def step_generator(x: int) -> int:\n",
    "    \"\"\"calculate the next step\n",
    "    args: x: where is the place right now.\"\"\"\n",
    "\n",
    "    # produce the step with 80 percent +1 and 20 percent -1\n",
    "    probability = random.random()\n",
    "    if probability <= 0.8:\n",
    "        step = 1\n",
    "    else:\n",
    "        step = -1\n",
    "    x = x + step\n",
    "\n",
    "    # x should not be lower than zero\n",
    "    if x < 0:\n",
    "        x = 1\n",
    "    return x"
   ]
  },
  {
   "cell_type": "code",
   "execution_count": null,
   "id": "85381c1ba99ff547",
   "metadata": {
    "collapsed": false,
    "is_executing": true
   },
   "outputs": [],
   "source": [
    "import matplotlib.pyplot as plt\n",
    "\n",
    "\n",
    "def curve_of_movement(x: list):\n",
    "    plt.plot(range(1, len(x) + 1), x, c=\"b\")\n",
    "    plt.xlabel(\"Step Number\")\n",
    "    plt.ylabel(\"Location\")\n",
    "    plt.title(\"Curve of Movement(step-location)\")"
   ]
  },
  {
   "cell_type": "code",
   "execution_count": null,
   "id": "e4c00783189ecc6b",
   "metadata": {
    "collapsed": false,
    "is_executing": true
   },
   "outputs": [],
   "source": [
    "random.seed(42)\n",
    "x = 0\n",
    "x_list = [x]\n",
    "for _ in range(100):\n",
    "    x = step_generator(x)\n",
    "    x_list.append(x)\n",
    "x"
   ]
  },
  {
   "cell_type": "code",
   "execution_count": null,
   "id": "dc4d4f7df0859f25",
   "metadata": {
    "collapsed": false,
    "is_executing": true
   },
   "outputs": [],
   "source": [
    "curve_of_movement(x_list)"
   ]
  },
  {
   "cell_type": "code",
   "execution_count": null,
   "id": "a6560c4838ab11bc",
   "metadata": {
    "collapsed": false,
    "is_executing": true
   },
   "outputs": [],
   "source": [
    "random.seed(42)\n",
    "x = 0\n",
    "i = 0\n",
    "while True:\n",
    "    i += 1\n",
    "    x = step_generator(x)\n",
    "    if x == 100:\n",
    "        break\n",
    "i"
   ]
  },
  {
   "cell_type": "code",
   "execution_count": null,
   "id": "d0c888d2f61590ed",
   "metadata": {
    "collapsed": false,
    "is_executing": true
   },
   "outputs": [],
   "source": [
    "step_till_100 = []\n",
    "number_of_try = 10000\n",
    "for _ in range(number_of_try):\n",
    "    x = 0\n",
    "    i = 0\n",
    "    while True:\n",
    "        i += 1\n",
    "        x = step_generator(x)\n",
    "        if x == 100:\n",
    "            break\n",
    "    step_till_100.append(i)\n",
    "plt.hist(step_till_100, density=True)\n",
    "plt.title(\"Histogram\")\n",
    "plt.xlabel(\"The Step\")\n",
    "plt.ylabel(\"#\")\n",
    "plt.show()"
   ]
  },
  {
   "cell_type": "code",
   "execution_count": null,
   "id": "50a1316044b9aace",
   "metadata": {
    "collapsed": false,
    "is_executing": true
   },
   "outputs": [],
   "source": [
    "def step_generator(x: int, step: int) -> list:\n",
    "    \"\"\"calculate the next step\n",
    "    args:   x: where is the place right now.\n",
    "            step: if you want to get the location after specific steps.\"\"\"\n",
    "    locations = []\n",
    "    for i in range(step):\n",
    "        # produce the step with 80 percent +1 and 20 percent -1\n",
    "        probability = random.random()\n",
    "        if i > 1 and is_exceptional:\n",
    "            stride = 2\n",
    "        elif probability <= 0.8:\n",
    "            stride = 1\n",
    "        else:\n",
    "            stride = -1\n",
    "\n",
    "        x = x + stride\n",
    "\n",
    "        if i > 1 and stride + pre_stride == 2:\n",
    "            is_exceptional = True\n",
    "        else:\n",
    "            is_exceptional = False\n",
    "\n",
    "        # x should not be lower than zero\n",
    "        if x < 0:\n",
    "            x = 1\n",
    "\n",
    "        pre_stride = stride\n",
    "\n",
    "        locations.append(x)\n",
    "    return locations\n",
    "\n",
    "\n",
    "def stop_generator(x: int, stop: int) -> list:\n",
    "    \"\"\"calculate the next step\n",
    "    args:   x: where is the place right now.\n",
    "            stop: if you want to get the step at specific stop location.\"\"\"\n",
    "    i = 0\n",
    "    locations = []\n",
    "    while True:\n",
    "        i += 1\n",
    "        # produce the step with 80 percent +1 and 20 percent -1\n",
    "        probability = random.random()\n",
    "        if i > 1 and is_exceptional:\n",
    "            stride = 2\n",
    "        elif probability <= 0.8:\n",
    "            stride = 1\n",
    "        else:\n",
    "            stride = -1\n",
    "        x = x + stride\n",
    "\n",
    "        if i > 1 and stride + pre_stride == 2:\n",
    "            is_exceptional = True\n",
    "        else:\n",
    "            is_exceptional = False\n",
    "\n",
    "        # x should not be lower than zero\n",
    "        if x < 0:\n",
    "            x = 1\n",
    "\n",
    "        pre_stride = stride\n",
    "        locations.append(x)\n",
    "        if x > stop:\n",
    "            break\n",
    "    return locations"
   ]
  },
  {
   "cell_type": "code",
   "execution_count": null,
   "id": "53c8df570e4e63a0",
   "metadata": {
    "collapsed": false,
    "is_executing": true
   },
   "outputs": [],
   "source": [
    "temp = []\n",
    "for i in range(1000):\n",
    "    locations = stop_generator(x=0, stop=100)\n",
    "    temp.append(len(locations))\n",
    "plt.hist(temp)\n",
    "plt.show()"
   ]
  },
  {
   "cell_type": "code",
   "execution_count": null,
   "id": "2a6a2564dad96a37",
   "metadata": {
    "collapsed": false,
    "is_executing": true
   },
   "outputs": [],
   "source": []
  }
 ],
 "metadata": {
  "kernelspec": {
   "display_name": "Python 3",
   "language": "python",
   "name": "python3"
  },
  "language_info": {
   "codemirror_mode": {
    "name": "ipython",
    "version": 2
   },
   "file_extension": ".py",
   "mimetype": "text/x-python",
   "name": "python",
   "nbconvert_exporter": "python",
   "pygments_lexer": "ipython2",
   "version": "3.11.5"
  }
 },
 "nbformat": 4,
 "nbformat_minor": 5
}
