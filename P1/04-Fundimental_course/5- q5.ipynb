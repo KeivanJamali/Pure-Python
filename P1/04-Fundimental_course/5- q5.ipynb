{
 "cells": [
  {
   "cell_type": "code",
   "execution_count": 1,
   "metadata": {
    "collapsed": true,
    "ExecuteTime": {
     "end_time": "2023-05-16T15:26:07.231323800Z",
     "start_time": "2023-05-16T15:26:06.860868300Z"
    }
   },
   "outputs": [],
   "source": [
    "%load_ext autoreload\n",
    "%autoreload 2\n",
    "import toolkitpey5 as tl5"
   ]
  },
  {
   "cell_type": "code",
   "execution_count": 2,
   "outputs": [
    {
     "name": "stdout",
     "output_type": "stream",
     "text": [
      "0.34046666666666664 67.4080856064\n"
     ]
    }
   ],
   "source": [
    "t1 = tl5.Elastic_settlement(Es=5000, u=0.4)\n",
    "Is1 = t1.Is_calculation(F1=0.3216, F2=0.0566)\n",
    "Se1 = t1.Se_calculation(352, 4, 1.25, Is1, If=0.72, rigid=True)\n",
    "print(Is1, Se1)"
   ],
   "metadata": {
    "collapsed": false,
    "ExecuteTime": {
     "end_time": "2023-05-16T15:30:39.749911600Z",
     "start_time": "2023-05-16T15:30:38.901296700Z"
    }
   }
  },
  {
   "cell_type": "code",
   "execution_count": 8,
   "outputs": [
    {
     "name": "stdout",
     "output_type": "stream",
     "text": [
      "0.46577142857142856 68.88055182171429\n"
     ]
    }
   ],
   "source": [
    "t2 = tl5.Elastic_settlement(Es=7000, u=0.3)\n",
    "Is2 = t2.Is_calculation(F1=0.45, F2=0.0276)\n",
    "Se2 = t2.Se_calculation(352, 4, 1.25, Is2, If=0.695, rigid=True)\n",
    "print(Is2, Se2)"
   ],
   "metadata": {
    "collapsed": false,
    "ExecuteTime": {
     "end_time": "2023-05-16T15:38:27.816969900Z",
     "start_time": "2023-05-16T15:38:27.695007100Z"
    }
   }
  },
  {
   "cell_type": "code",
   "execution_count": 9,
   "outputs": [
    {
     "name": "stdout",
     "output_type": "stream",
     "text": [
      "0.3539428571428571 52.342796955428575\n"
     ]
    }
   ],
   "source": [
    "t3 = tl5.Elastic_settlement(Es=7000, u=0.3)\n",
    "Is3 = t3.Is_calculation(F1=0.3216, F2=0.0566)\n",
    "Se3 = t3.Se_calculation(352, 4, 1.25, Is3, If=0.695, rigid=True)\n",
    "print(Is3, Se3)"
   ],
   "metadata": {
    "collapsed": false,
    "ExecuteTime": {
     "end_time": "2023-05-16T15:39:03.764497100Z",
     "start_time": "2023-05-16T15:39:03.673897400Z"
    }
   }
  },
  {
   "cell_type": "code",
   "execution_count": null,
   "outputs": [],
   "source": [],
   "metadata": {
    "collapsed": false
   }
  }
 ],
 "metadata": {
  "kernelspec": {
   "display_name": "Python 3",
   "language": "python",
   "name": "python3"
  },
  "language_info": {
   "codemirror_mode": {
    "name": "ipython",
    "version": 2
   },
   "file_extension": ".py",
   "mimetype": "text/x-python",
   "name": "python",
   "nbconvert_exporter": "python",
   "pygments_lexer": "ipython2",
   "version": "2.7.6"
  }
 },
 "nbformat": 4,
 "nbformat_minor": 0
}
