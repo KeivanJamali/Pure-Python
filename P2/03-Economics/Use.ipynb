{
 "cells": [
  {
   "cell_type": "code",
   "execution_count": 1,
   "id": "initial_id",
   "metadata": {
    "ExecuteTime": {
     "end_time": "2023-11-14T12:27:36.366048900Z",
     "start_time": "2023-11-14T12:27:36.183185100Z"
    },
    "collapsed": true
   },
   "outputs": [],
   "source": [
    "%load_ext autoreload\n",
    "%autoreload 2\n",
    "import Eco_toolkit as Eco"
   ]
  },
  {
   "cell_type": "code",
   "execution_count": 7,
   "id": "5c6ee35f09ecc43e",
   "metadata": {
    "collapsed": false
   },
   "outputs": [
    {
     "data": {
      "text/plain": [
       "71.69999999999999"
      ]
     },
     "execution_count": 7,
     "metadata": {},
     "output_type": "execute_result"
    }
   ],
   "source": [
    "p = 23.9 * 3\n",
    "p"
   ]
  },
  {
   "cell_type": "code",
   "execution_count": 18,
   "id": "e072af8e",
   "metadata": {},
   "outputs": [
    {
     "name": "stdout",
     "output_type": "stream",
     "text": [
      "__(F/P, 0.1000, 1) = 1.1000__\n",
      "__(A/P, 0.1000, 3) = 0.4021__\n"
     ]
    }
   ],
   "source": [
    "i = 0.05*2\n",
    "model = Eco.Primary_Eco()\n",
    "temp = model.p_to_f(i, 1, p)\n",
    "temp = model.p_to_a(i, 3, temp)"
   ]
  },
  {
   "cell_type": "code",
   "execution_count": 19,
   "id": "bdfe4ac1",
   "metadata": {},
   "outputs": [
    {
     "data": {
      "text/plain": [
       "95.14438368580052"
      ]
     },
     "execution_count": 19,
     "metadata": {},
     "output_type": "execute_result"
    }
   ],
   "source": [
    "temp*3"
   ]
  },
  {
   "cell_type": "code",
   "execution_count": 20,
   "id": "dd0b78c9",
   "metadata": {},
   "outputs": [
    {
     "data": {
      "text/plain": [
       "45225"
      ]
     },
     "execution_count": 20,
     "metadata": {},
     "output_type": "execute_result"
    }
   ],
   "source": [
    "603*75"
   ]
  },
  {
   "cell_type": "code",
   "execution_count": null,
   "id": "25adfec1",
   "metadata": {},
   "outputs": [],
   "source": []
  }
 ],
 "metadata": {
  "kernelspec": {
   "display_name": "Python 3",
   "language": "python",
   "name": "python3"
  },
  "language_info": {
   "codemirror_mode": {
    "name": "ipython",
    "version": 3
   },
   "file_extension": ".py",
   "mimetype": "text/x-python",
   "name": "python",
   "nbconvert_exporter": "python",
   "pygments_lexer": "ipython3",
   "version": "3.12.1"
  }
 },
 "nbformat": 4,
 "nbformat_minor": 5
}
