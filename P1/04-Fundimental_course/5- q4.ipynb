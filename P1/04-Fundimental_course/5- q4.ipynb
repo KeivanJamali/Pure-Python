{
 "cells": [
  {
   "cell_type": "code",
   "execution_count": 1,
   "metadata": {
    "collapsed": true,
    "ExecuteTime": {
     "end_time": "2023-05-16T12:37:17.225599500Z",
     "start_time": "2023-05-16T12:37:16.826691700Z"
    }
   },
   "outputs": [],
   "source": [
    "%load_ext autoreload\n",
    "%autoreload 2\n",
    "import toolkitpey5 as tl5"
   ]
  },
  {
   "cell_type": "code",
   "execution_count": 2,
   "outputs": [
    {
     "name": "stdout",
     "output_type": "stream",
     "text": [
      "[0.9239702094736986, 0.4124104415973873, 131.013323624229]\n"
     ]
    }
   ],
   "source": [
    "#at A\n",
    "b1 = 3.5\n",
    "b2 = 30\n",
    "z = 8\n",
    "q0 = 285\n",
    "print(tl5.alfa_embank(b1,b2,z,q0))"
   ],
   "metadata": {
    "collapsed": false,
    "ExecuteTime": {
     "end_time": "2023-05-16T12:38:47.982144800Z",
     "start_time": "2023-05-16T12:38:47.137721200Z"
    }
   }
  },
  {
   "cell_type": "code",
   "execution_count": 4,
   "outputs": [
    {
     "name": "stdout",
     "output_type": "stream",
     "text": [
      "[1.3101939350475558, 0.0, 118.8585894679489]\n",
      "[0.639027977593875, 0.7188299996216245, 136.70928454892203]\n"
     ]
    }
   ],
   "source": [
    "#at B\n",
    "#1\n",
    "b1 = 0\n",
    "b2 = 30\n",
    "z = 8\n",
    "q0 = 285\n",
    "print(tl5.alfa_embank(b1,b2,z,q0))\n",
    "#2\n",
    "b1 = 7\n",
    "b2 = 30\n",
    "print(tl5.alfa_embank(b1,b2,z,q0))"
   ],
   "metadata": {
    "collapsed": false,
    "ExecuteTime": {
     "end_time": "2023-05-16T12:40:57.326063Z",
     "start_time": "2023-05-16T12:40:57.234012500Z"
    }
   }
  },
  {
   "cell_type": "code",
   "execution_count": 5,
   "outputs": [
    {
     "name": "stdout",
     "output_type": "stream",
     "text": [
      "[0.09409800501163201, 1.3578579772154995, 142.24724621305788]\n"
     ]
    }
   ],
   "source": [
    "#at C\n",
    "b1 = 37\n",
    "b2 = 30\n",
    "print(tl5.alfa_embank(b1,b2,z,q0))"
   ],
   "metadata": {
    "collapsed": false,
    "ExecuteTime": {
     "end_time": "2023-05-16T12:47:43.992672500Z",
     "start_time": "2023-05-16T12:47:43.894391200Z"
    }
   }
  },
  {
   "cell_type": "code",
   "execution_count": null,
   "outputs": [],
   "source": [],
   "metadata": {
    "collapsed": false
   }
  }
 ],
 "metadata": {
  "kernelspec": {
   "display_name": "Python 3",
   "language": "python",
   "name": "python3"
  },
  "language_info": {
   "codemirror_mode": {
    "name": "ipython",
    "version": 2
   },
   "file_extension": ".py",
   "mimetype": "text/x-python",
   "name": "python",
   "nbconvert_exporter": "python",
   "pygments_lexer": "ipython2",
   "version": "2.7.6"
  }
 },
 "nbformat": 4,
 "nbformat_minor": 0
}
