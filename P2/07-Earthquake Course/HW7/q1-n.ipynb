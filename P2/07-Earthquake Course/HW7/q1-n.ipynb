{
 "cells": [
  {
   "cell_type": "code",
   "execution_count": 1,
   "metadata": {},
   "outputs": [],
   "source": [
    "import sympy as sp\n",
    "import numpy as np\n",
    "import pandas as pd"
   ]
  },
  {
   "cell_type": "code",
   "execution_count": 3,
   "metadata": {},
   "outputs": [
    {
     "data": {
      "text/plain": [
       "16294.943189576694"
      ]
     },
     "execution_count": 3,
     "metadata": {},
     "output_type": "execute_result"
    }
   ],
   "source": [
    "E = 23 * 10**6\n",
    "h = 0.495\n",
    "l = 3.9\n",
    "kc = 0.7*(12*(E)*(h)**4)/((12)*(l**3)) \n",
    "kc"
   ]
  },
  {
   "cell_type": "code",
   "execution_count": 9,
   "metadata": {},
   "outputs": [],
   "source": [
    "kc, m1, m2, m3 = sp.symbols(\"k_c, m_1, m_2, m_3\")\n",
    "k = 16294.94 * sp.Matrix([[28, -12, 0], [-12, 20, -8], [0, -8, 8]])\n",
    "m = sp.Matrix([[82.93, 0, 0], [0, 46.07, 0], [0, 0, 27.64]])"
   ]
  },
  {
   "cell_type": "code",
   "execution_count": 11,
   "metadata": {},
   "outputs": [
    {
     "data": {
      "text/latex": [
       "$\\displaystyle \\left\\{-104.93225181369, -71.9534623402067, -33.22615668496, 33.22615668496, 71.9534623402067, 104.93225181369\\right\\}$"
      ],
      "text/plain": [
       "{-104.93225181369, -71.9534623402067, -33.22615668496, 33.22615668496, 71.9534623402067, 104.93225181369}"
      ]
     },
     "execution_count": 11,
     "metadata": {},
     "output_type": "execute_result"
    }
   ],
   "source": [
    "wn = sp.symbols(\"w_n\")\n",
    "equation = sp.det(k-m*wn**2)\n",
    "sp.solveset(equation, wn)"
   ]
  },
  {
   "cell_type": "code",
   "execution_count": 26,
   "metadata": {},
   "outputs": [],
   "source": [
    "w1 = 33.22615668496\n",
    "w2 = 71.9534623402067\n",
    "w3 = 104.93225181369\n",
    "T1, T2, T3 = 1/w1, 1/w2, 1/w3\n",
    "w = [w1, w2, w3]"
   ]
  },
  {
   "cell_type": "code",
   "execution_count": 38,
   "metadata": {},
   "outputs": [],
   "source": [
    "phi = np.ones((3, 3))\n",
    "for i in range(3):\n",
    "    temp = k-m*w[i]**2\n",
    "    phi[1, i] = -temp.row(2)[-1]/temp.row(2)[-2]\n",
    "    # print(\"phi2n\",phi[1, 0])\n",
    "    phi[0, i] = (-phi[1, i]*temp.row(0)[1])/temp.row(0)[0]\n",
    "    # print(phi[0, 0])"
   ]
  },
  {
   "cell_type": "code",
   "execution_count": 44,
   "metadata": {},
   "outputs": [
    {
     "data": {
      "text/latex": [
       "$\\displaystyle \\left[\\begin{matrix}0.41065568501585 & -0.710342783726237 & 0.571213145381615\\\\0.765924745888915 & -0.0977379521605444 & -1.33460424900243\\\\1.0 & 1.0 & 1.0\\end{matrix}\\right]$"
      ],
      "text/plain": [
       "Matrix([\n",
       "[ 0.41065568501585,  -0.710342783726237, 0.571213145381615],\n",
       "[0.765924745888915, -0.0977379521605444, -1.33460424900243],\n",
       "[              1.0,                 1.0,               1.0]])"
      ]
     },
     "execution_count": 44,
     "metadata": {},
     "output_type": "execute_result"
    }
   ],
   "source": [
    "phi = sp.Matrix(phi)\n",
    "phi"
   ]
  },
  {
   "cell_type": "code",
   "execution_count": 52,
   "metadata": {},
   "outputs": [],
   "source": [
    "M = []\n",
    "L = []\n",
    "MS = []\n",
    "for i in range(3):\n",
    "    temp = (phi.col(i).T * m * phi.col(i))[0]\n",
    "    M.append(temp)\n",
    "    temp2 = (phi.col(i).T * m * sp.Matrix([[1], [1], [1]]))[0]\n",
    "    L.append(temp2)\n",
    "    temp3 = (temp2**2)/temp\n",
    "    MS.append(temp3)\n"
   ]
  },
  {
   "cell_type": "code",
   "execution_count": 54,
   "metadata": {},
   "outputs": [
    {
     "name": "stdout",
     "output_type": "stream",
     "text": [
      "87.4634901393525\n",
      "11.6825193830843\n",
      "0.853990477563173\n"
     ]
    }
   ],
   "source": [
    "for temp in MS:\n",
    "    print(100*temp/sum(MS))"
   ]
  },
  {
   "cell_type": "code",
   "execution_count": 104,
   "metadata": {},
   "outputs": [
    {
     "data": {
      "text/latex": [
       "$\\displaystyle \\left[\\begin{matrix}0.101520791659006 & 0.0581419793258974\\\\0.189349105323758 & 0.00799990951419872\\\\0.247216330768897 & -0.08185059475216\\end{matrix}\\right]$"
      ],
      "text/plain": [
       "Matrix([\n",
       "[0.101520791659006,  0.0581419793258974],\n",
       "[0.189349105323758, 0.00799990951419872],\n",
       "[0.247216330768897,   -0.08185059475216]])"
      ]
     },
     "execution_count": 104,
     "metadata": {},
     "output_type": "execute_result"
    }
   ],
   "source": [
    "udd = []\n",
    "sa = [0.175, 0.160]\n",
    "for i in range(2):\n",
    "    udd.append((phi.col(i) * L[i] / M[i]) * sa[i])\n",
    "udd = sp.Matrix.hstack(*udd)\n",
    "udd"
   ]
  },
  {
   "cell_type": "code",
   "execution_count": 123,
   "metadata": {},
   "outputs": [
    {
     "name": "stdout",
     "output_type": "stream",
     "text": [
      "9.7021\n",
      "8.7311\n",
      "7.1978\n"
     ]
    }
   ],
   "source": [
    "for i in range(3):\n",
    "    print((sp.sqrt((m*udd.col(0))[i]**2 + (m*udd.col(1))[i]**2)).evalf(5))"
   ]
  }
 ],
 "metadata": {
  "kernelspec": {
   "display_name": "Python 3",
   "language": "python",
   "name": "python3"
  },
  "language_info": {
   "codemirror_mode": {
    "name": "ipython",
    "version": 3
   },
   "file_extension": ".py",
   "mimetype": "text/x-python",
   "name": "python",
   "nbconvert_exporter": "python",
   "pygments_lexer": "ipython3",
   "version": "3.12.1"
  }
 },
 "nbformat": 4,
 "nbformat_minor": 2
}
