{
 "cells": [
  {
   "cell_type": "code",
   "execution_count": 1,
   "id": "initial_id",
   "metadata": {
    "collapsed": true,
    "ExecuteTime": {
     "end_time": "2023-12-12T04:09:39.780858200Z",
     "start_time": "2023-12-12T04:09:39.657588900Z"
    }
   },
   "outputs": [],
   "source": [
    "%load_ext autoreload\n",
    "%autoreload 2"
   ]
  },
  {
   "cell_type": "code",
   "execution_count": 9,
   "outputs": [],
   "source": [
    "import Eco_toolkit\n",
    "\n",
    "disp = Eco_toolkit.Eco()\n",
    "primary = Eco_toolkit.Primary_Eco()\n",
    "equation = Eco_toolkit.Equation_Eco()"
   ],
   "metadata": {
    "collapsed": false,
    "ExecuteTime": {
     "end_time": "2023-12-12T04:21:08.906672700Z",
     "start_time": "2023-12-12T04:21:08.766457200Z"
    }
   },
   "id": "60c0747578c07601"
  },
  {
   "cell_type": "code",
   "execution_count": 8,
   "outputs": [
    {
     "name": "stdout",
     "output_type": "stream",
     "text": [
      "__(A/P, 0.1000, 3) = 0.4021__\n",
      "__(A/F, 0.1000, 3) = 0.3021__\n",
      "__(A/P, 0.1000, 6) = 0.2296__\n",
      "__(A/F, 0.1000, 6) = 0.1296__\n",
      "__$$ A = 1404.2296 $$__\n",
      "__$$ B = 1718.4295 $$__\n",
      "A = 1404.23 is better.\n"
     ]
    }
   ],
   "source": [
    "# question 1\n",
    "i = 0.1\n",
    "NAW_A = primary.p_to_a(i=i, n=3, p=3000) + 500 - primary.f_to_a(i=i, n=3, f=1000)\n",
    "NAW_B = primary.p_to_a(i=i, n=6, p=6000) + 600 - primary.f_to_a(i=i, n=6, f=2000)\n",
    "primary.print_result([NAW_A, NAW_B], [\"A\", \"B\"])\n",
    "print(f\"A = {NAW_A:.2f} is better.\")"
   ],
   "metadata": {
    "collapsed": false,
    "ExecuteTime": {
     "end_time": "2023-12-12T04:17:46.813808900Z",
     "start_time": "2023-12-12T04:17:46.632444200Z"
    }
   },
   "id": "717200a88e361b97"
  },
  {
   "cell_type": "code",
   "execution_count": 45,
   "outputs": [
    {
     "name": "stdout",
     "output_type": "stream",
     "text": [
      "ROR for A is 20.35%\n",
      "ROR for B is 16.95%\n",
      "ROR for C is 17.05%\n",
      "delta ROR for A-B is 12.40%\n",
      "delta ROR for B-C is 17.10%\n"
     ]
    }
   ],
   "source": [
    "# question 2\n",
    "marr = 0.15\n",
    "NPW_A = lambda x: -1000 + primary.a_to_p(i=x, n=2, a=450, print_=False) + primary.f_to_p(i=x, n=3, f=550, print_=False)\n",
    "ROR_A = equation.plot_eq_to_solve(NPW_A, plot=False, print_=False)\n",
    "print(f\"ROR for A is {ROR_A:.2%}\")\n",
    "\n",
    "NPW_B = lambda x: -1800 + primary.a_to_p(i=x, n=2, a=800, print_=False) + primary.f_to_p(i=x, n=3, f=850, print_=False)\n",
    "ROR_B = equation.plot_eq_to_solve(NPW_B, plot=False, print_=False)\n",
    "print(f\"ROR for B is {ROR_B:.2%}\")\n",
    "\n",
    "NPW_C = lambda x: -4100 + primary.a_to_p(i=x, n=2, a=1800, print_=False) + primary.f_to_p(i=x, n=3, f=2000,\n",
    "                                                                                          print_=False)\n",
    "ROR_C = equation.plot_eq_to_solve(NPW_C, plot=False, print_=False)\n",
    "print(f\"ROR for C is {ROR_C:.2%}\")\n",
    "\n",
    "NPW_A_B = lambda x: 800 + primary.a_to_p(i=x, n=2, a=-350, print_=False) + primary.f_to_p(i=x, n=3, f=-300,\n",
    "                                                                                          print_=False)\n",
    "ROR_A_B = equation.plot_eq_to_solve(NPW_A_B, plot=False, print_=False)\n",
    "print(f\"delta ROR for A-B is {ROR_A_B:.2%}\")\n",
    "\n",
    "NPW_B_C = lambda x: 2300 + primary.a_to_p(i=x, n=2, a=-1000, print_=False) + primary.f_to_p(i=x, n=3, f=-1150,\n",
    "                                                                                            print_=False)\n",
    "ROR_B_C = equation.plot_eq_to_solve(NPW_B_C, plot=False, print_=False)\n",
    "print(f\"delta ROR for B-C is {ROR_B_C:.2%}\")"
   ],
   "metadata": {
    "collapsed": false,
    "ExecuteTime": {
     "end_time": "2023-12-12T04:40:03.794877900Z",
     "start_time": "2023-12-12T04:40:03.633066200Z"
    }
   },
   "id": "b075d9bccb6b4ec3"
  },
  {
   "cell_type": "code",
   "execution_count": 56,
   "outputs": [
    {
     "name": "stdout",
     "output_type": "stream",
     "text": [
      "__$$ B = 500.0000 $$__\n",
      "__$$ C = 568.8244 $$__\n",
      "__$$ resultA = 0.8790 $$__\n",
      "__$$ B = 400.0000 $$__\n",
      "__$$ C = 245.2159 $$__\n",
      "__$$ resultB = 1.6312 $$__\n",
      "__$$ B = 440.0000 $$__\n",
      "__$$ C = 334.1181 $$__\n",
      "__$$ resultC = 1.3169 $$__\n",
      "__$$ B = 40.0000 $$__\n",
      "__$$ C = 88.9021 $$__\n",
      "__$$ result-final = 0.4499 $$__\n"
     ]
    }
   ],
   "source": [
    "# question 3\n",
    "i = 0.1\n",
    "\n",
    "B_S1 = 500\n",
    "C_S1 = 90 + primary.p_to_a(i=i, n=10, p=3000, print_=False) - primary.f_to_a(i=i, n=10, f=150, print_=False)\n",
    "answer_A = B_S1 / C_S1\n",
    "primary.print_result([B_S1, C_S1, answer_A], [\"B\", \"C\", \"resultA\"])\n",
    "\n",
    "B_S2 = 400\n",
    "C_S2 = 90 + primary.p_to_a(i=i, n=10, p=1000, print_=False) - primary.f_to_a(i=i, n=10, f=120, print_=False)\n",
    "answer_B = B_S2 / C_S2\n",
    "primary.print_result([B_S2, C_S2, answer_B], [\"B\", \"C\", \"resultB\"])\n",
    "\n",
    "B_S3 = 440\n",
    "C_S3 = 80 + primary.p_to_a(i=i, n=10, p=1600, print_=False) - primary.f_to_a(i=i, n=10, f=100, print_=False)\n",
    "answer_C = B_S3 / C_S3\n",
    "primary.print_result([B_S3, C_S3, answer_C], [\"B\", \"C\", \"resultC\"])\n",
    "\n",
    "answer_C_B = (B_S3-B_S2) / (C_S3-C_S2)\n",
    "primary.print_result([B_S3-B_S2, C_S3-C_S2, answer_C_B], [\"B\", \"C\", \"result-final\"])"
   ],
   "metadata": {
    "collapsed": false,
    "ExecuteTime": {
     "end_time": "2023-12-12T04:55:40.717993300Z",
     "start_time": "2023-12-12T04:55:40.482915700Z"
    }
   },
   "id": "72561488a01a873e"
  }
 ],
 "metadata": {
  "kernelspec": {
   "display_name": "Python 3",
   "language": "python",
   "name": "python3"
  },
  "language_info": {
   "codemirror_mode": {
    "name": "ipython",
    "version": 2
   },
   "file_extension": ".py",
   "mimetype": "text/x-python",
   "name": "python",
   "nbconvert_exporter": "python",
   "pygments_lexer": "ipython2",
   "version": "2.7.6"
  }
 },
 "nbformat": 4,
 "nbformat_minor": 5
}
