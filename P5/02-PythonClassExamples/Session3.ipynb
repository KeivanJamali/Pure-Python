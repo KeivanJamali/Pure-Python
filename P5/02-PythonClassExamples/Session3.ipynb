{
 "cells": [
  {
   "cell_type": "markdown",
   "id": "a1b58446",
   "metadata": {},
   "source": [
    "## Example 1: Ice Cream Flavor Detector"
   ]
  },
  {
   "cell_type": "code",
   "execution_count": null,
   "id": "f2e56c6d",
   "metadata": {},
   "outputs": [],
   "source": [
    "flavor = input(\"What's your favorite ice cream? \")\n",
    "\n",
    "if flavor == \"chocolate\":\n",
    "    print(\"🍫 Yum! Chocolate is the best!\")\n",
    "elif flavor == \"vanilla\":\n",
    "    print(\"🍦 Classic choice!\")\n",
    "elif flavor == \"strawberry\":\n",
    "    print(\"🍓 Sweet and fruity!\")\n",
    "else:\n",
    "    print(\"😋 Interesting choice!\")\n"
   ]
  },
  {
   "cell_type": "markdown",
   "id": "2aca7b2e",
   "metadata": {},
   "source": [
    "## Example 2: Keep Guessing!"
   ]
  },
  {
   "cell_type": "code",
   "execution_count": null,
   "id": "189ec3d0",
   "metadata": {},
   "outputs": [],
   "source": [
    "secret = \"panda\"\n",
    "guess = \"\"\n",
    "\n",
    "while guess != secret:\n",
    "    guess = input(\"Guess the secret animal: \")\n",
    "\n",
    "print(\"🎉 You got it!\")\n"
   ]
  },
  {
   "cell_type": "markdown",
   "id": "8752777a",
   "metadata": {
    "vscode": {
     "languageId": "plaintext"
    }
   },
   "source": [
    "## Example 3: Sort Algorithm"
   ]
  },
  {
   "cell_type": "code",
   "execution_count": null,
   "id": "bbfc9e7a",
   "metadata": {},
   "outputs": [],
   "source": [
    "a = int(input(\"Enter a: \"))\n",
    "b = int(input(\"Enter b: \"))\n",
    "c = int(input(\"Enter c: \"))\n",
    "if a > b:\n",
    "    temp = a\n",
    "    a = b\n",
    "    b = temp\n",
    "if a > c:\n",
    "    temp = a\n",
    "    a = c\n",
    "    c = temp\n",
    "if b > c:\n",
    "    temp = b\n",
    "    b = c\n",
    "    c = temp\n",
    "\n",
    "print(f\"Sorted result is: {a}, {b}, {c},\")\n"
   ]
  },
  {
   "cell_type": "markdown",
   "id": "21ecae67",
   "metadata": {},
   "source": [
    "## Example 4: Multiple of 3 or 5"
   ]
  },
  {
   "cell_type": "code",
   "execution_count": 1,
   "id": "c7366b8e",
   "metadata": {},
   "outputs": [
    {
     "name": "stdout",
     "output_type": "stream",
     "text": [
      "233168\n"
     ]
    }
   ],
   "source": [
    "result = 0\n",
    "for i in range(1000):\n",
    "    if i % 3 == 0:\n",
    "        result += i\n",
    "    elif i % 5 == 0:\n",
    "        result += i\n",
    "print(result)"
   ]
  },
  {
   "cell_type": "markdown",
   "id": "370bfbdc",
   "metadata": {},
   "source": [
    "## Example 5: Even Fibonacci Numbers"
   ]
  },
  {
   "cell_type": "code",
   "execution_count": 2,
   "id": "d43ba0e3",
   "metadata": {},
   "outputs": [
    {
     "name": "stdout",
     "output_type": "stream",
     "text": [
      "[INFO] All numbers below 4 million is found.\n",
      "4613732\n",
      "4613732\n"
     ]
    }
   ],
   "source": [
    "first_number = 1\n",
    "second_number = 2\n",
    "result = 2\n",
    "result_list = [second_number]\n",
    "while True:\n",
    "    first_number, second_number = second_number, first_number + second_number\n",
    "    if second_number > 4_000_000:\n",
    "        print(\"[INFO] All numbers below 4 million is found.\")\n",
    "        break\n",
    "    if second_number % 2 == 0:\n",
    "        result_list.append(second_number)\n",
    "        result += second_number\n",
    "\n",
    "print(result)\n",
    "print(sum(result_list))"
   ]
  },
  {
   "cell_type": "markdown",
   "id": "82b10cdb",
   "metadata": {},
   "source": [
    "## Example 6: Largest Prime Factor"
   ]
  },
  {
   "cell_type": "code",
   "execution_count": 3,
   "id": "3fc374eb",
   "metadata": {},
   "outputs": [
    {
     "name": "stdout",
     "output_type": "stream",
     "text": [
      "[INFO] We found a prime 71 and now our leftover is 8462696833\n",
      "[INFO] We found a prime 839 and now our leftover is 10086647\n",
      "[INFO] We found a prime 1471 and now our leftover is 6857\n",
      "[INFO] We found a prime 6857 and now our leftover is 1\n",
      "6857\n"
     ]
    }
   ],
   "source": [
    "prime_numbers = []\n",
    "max_prime = 600851475143\n",
    "original_number = 600851475143\n",
    "temp_number = original_number\n",
    "while temp_number>1:\n",
    "    for i in range(2, max_prime):\n",
    "        if temp_number % i == 0:\n",
    "            prime_numbers.append(i)\n",
    "            temp_number = temp_number // i\n",
    "            print(f\"[INFO] We found a prime {i} and now our leftover is {temp_number}\")\n",
    "            break\n",
    "print(max(prime_numbers))"
   ]
  },
  {
   "cell_type": "markdown",
   "id": "2657173b",
   "metadata": {},
   "source": [
    "## Example 7: Largest Palindrome Product"
   ]
  },
  {
   "cell_type": "code",
   "execution_count": 9,
   "id": "eb2ba871",
   "metadata": {},
   "outputs": [
    {
     "name": "stdout",
     "output_type": "stream",
     "text": [
      "906609\n",
      "886688\n",
      "888888\n",
      "861168\n",
      "888888\n",
      "861168\n",
      "886688\n",
      "824428\n",
      "906609\n",
      "819918\n",
      "824428\n",
      "819918\n",
      "[INFO] We found the maximum number which is 906609\n"
     ]
    }
   ],
   "source": [
    "palindrome_numbers = []\n",
    "for i in range(999, 900, -1):\n",
    "    for j in range(999, 900, -1):\n",
    "        palindrome = str(i * j)\n",
    "        if int(palindrome) == int(palindrome[::-1]):\n",
    "            print(palindrome)\n",
    "            palindrome_numbers.append(int(palindrome))\n",
    "\n",
    "print(f\"[INFO] We found the maximum number which is {max(palindrome_numbers)}\")"
   ]
  },
  {
   "cell_type": "markdown",
   "id": "6d251e84",
   "metadata": {},
   "source": [
    "## Example 8\n",
    "### Ask the user to type a sentence. Reverse each word in the sentence but keep the word order the same.\n",
    "### Example:\n",
    "\n",
    "> Input: I love Python  \n",
    "Output: I evol nohtyP\n"
   ]
  },
  {
   "cell_type": "code",
   "execution_count": 15,
   "id": "c6611689",
   "metadata": {},
   "outputs": [
    {
     "name": "stdout",
     "output_type": "stream",
     "text": [
      "I evol nohtyP\n"
     ]
    }
   ],
   "source": [
    "sentence = \"I love Python\"\n",
    "words = sentence.split(\" \")\n",
    "result = []\n",
    "for word in words:\n",
    "    reversed_word = word[::-1]\n",
    "    result.append(reversed_word)\n",
    "print(\" \".join(result))"
   ]
  }
 ],
 "metadata": {
  "kernelspec": {
   "display_name": "Python 3",
   "language": "python",
   "name": "python3"
  },
  "language_info": {
   "codemirror_mode": {
    "name": "ipython",
    "version": 3
   },
   "file_extension": ".py",
   "mimetype": "text/x-python",
   "name": "python",
   "nbconvert_exporter": "python",
   "pygments_lexer": "ipython3",
   "version": "3.13.5"
  }
 },
 "nbformat": 4,
 "nbformat_minor": 5
}
