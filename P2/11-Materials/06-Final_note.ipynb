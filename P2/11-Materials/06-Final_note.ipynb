{
 "cells": [
  {
   "cell_type": "code",
   "execution_count": 1,
   "metadata": {},
   "outputs": [],
   "source": [
    "from sympy import *"
   ]
  },
  {
   "cell_type": "code",
   "execution_count": 6,
   "metadata": {},
   "outputs": [],
   "source": [
    "x, y = symbols(\"x, y\")\n",
    "c1, c2, c3, c4, c5, c6 = symbols(\"C_1, C_2, C_3, C_4, C_5, C_6\")\n",
    "E, U, G = symbols(\"E, U, G\")"
   ]
  },
  {
   "cell_type": "code",
   "execution_count": 7,
   "metadata": {},
   "outputs": [
    {
     "data": {
      "text/latex": [
       "$\\displaystyle C_{1} x y + \\frac{C_{2} x^{3}}{6} + \\frac{C_{3} x^{3} y}{6} + \\frac{C_{4} x y^{3}}{6} + \\frac{C_{5} x^{3} y^{3}}{9} + \\frac{C_{6} x y^{5}}{20}$"
      ],
      "text/plain": [
       "C_1*x*y + C_2*x**3/6 + C_3*x**3*y/6 + C_4*x*y**3/6 + C_5*x**3*y**3/9 + C_6*x*y**5/20"
      ]
     },
     "execution_count": 7,
     "metadata": {},
     "output_type": "execute_result"
    }
   ],
   "source": [
    "phi = c1*x*y + (c2/6)*x**3 + (c3/6)*(x**3) * y + (c4/6)*(x) * (y**3) + (c5/9)*(x**3)*(y**3) + (c6/20) * x * (y**5)\n",
    "phi"
   ]
  },
  {
   "cell_type": "code",
   "execution_count": 8,
   "metadata": {},
   "outputs": [],
   "source": [
    "sy = diff(phi, x, x)\n",
    "sx = diff(phi, y, y)\n",
    "txy = -diff(phi, x, y)"
   ]
  },
  {
   "cell_type": "code",
   "execution_count": 9,
   "metadata": {},
   "outputs": [],
   "source": [
    "ex = (1/E) * (sx-U*sy)\n",
    "ey = (1/E) * (sy-U*sx)\n",
    "gxy = (1/G) * txy"
   ]
  },
  {
   "cell_type": "code",
   "execution_count": 12,
   "metadata": {},
   "outputs": [
    {
     "data": {
      "text/latex": [
       "$\\displaystyle \\frac{- C_{1} - \\frac{C_{3} x^{2}}{2} - \\frac{C_{4} y^{2}}{2} - C_{5} x^{2} y^{2} - \\frac{C_{6} y^{4}}{4}}{G}$"
      ],
      "text/plain": [
       "(-C_1 - C_3*x**2/2 - C_4*y**2/2 - C_5*x**2*y**2 - C_6*y**4/4)/G"
      ]
     },
     "execution_count": 12,
     "metadata": {},
     "output_type": "execute_result"
    }
   ],
   "source": [
    "gxy"
   ]
  },
  {
   "cell_type": "code",
   "execution_count": 23,
   "metadata": {},
   "outputs": [],
   "source": [
    "an1 = integrate(ex, x)"
   ]
  },
  {
   "cell_type": "code",
   "execution_count": 24,
   "metadata": {},
   "outputs": [],
   "source": [
    "an2 = integrate(ey, y)"
   ]
  },
  {
   "cell_type": "code",
   "execution_count": 32,
   "metadata": {},
   "outputs": [
    {
     "data": {
      "text/latex": [
       "$\\displaystyle \\frac{C_{2} y}{E} + \\frac{C_{3} y^{2}}{2 E} - \\frac{C_{4} U y^{2}}{2 E} - \\frac{C_{5} U x^{2} y^{2}}{E} + \\frac{C_{5} x^{4}}{6 E} + \\frac{C_{5} y^{4}}{6 E} - \\frac{C_{6} U y^{4}}{4 E} + \\frac{x^{2} \\left(- 3 C_{3} U + 3 C_{4} - 6 C_{5} U y^{2} + 9 C_{6} y^{2}\\right)}{6 E}$"
      ],
      "text/plain": [
       "C_2*y/E + C_3*y**2/(2*E) - C_4*U*y**2/(2*E) - C_5*U*x**2*y**2/E + C_5*x**4/(6*E) + C_5*y**4/(6*E) - C_6*U*y**4/(4*E) + x**2*(-3*C_3*U + 3*C_4 - 6*C_5*U*y**2 + 9*C_6*y**2)/(6*E)"
      ]
     },
     "execution_count": 32,
     "metadata": {},
     "output_type": "execute_result"
    }
   ],
   "source": [
    "diff(an1, y)+diff(an2, x)"
   ]
  },
  {
   "cell_type": "code",
   "execution_count": 39,
   "metadata": {},
   "outputs": [],
   "source": [
    "x, y, z = symbols(\"x y z\")\n",
    "sigma_x = sx\n",
    "sigma_y = sy\n",
    "sigma_z = 0\n",
    "tau_xy = txy\n",
    "tau_yz = 0\n",
    "tau_zx = 0\n",
    "fx = Function(\"f\")(x)\n",
    "fy = Function(\"f\")(y)\n",
    "fz = Function(\"f\")(z)\n",
    "n_x, n_y, n_z = symbols(\"n_x, n_y, n_z\")\n",
    "t_x = sigma_x * n_x + tau_xy * n_y + tau_zx * n_z\n",
    "t_y = tau_xy * n_x + sigma_y * n_y + tau_yz * n_z\n",
    "t_z = tau_zx * n_x + tau_yz * n_y + sigma_z * n_z"
   ]
  },
  {
   "cell_type": "code",
   "execution_count": 42,
   "metadata": {},
   "outputs": [
    {
     "data": {
      "text/latex": [
       "$\\displaystyle n_{y} \\left(- C_{1} - \\frac{C_{4} y^{2}}{2} - \\frac{C_{6} y^{4}}{4}\\right)$"
      ],
      "text/plain": [
       "n_y*(-C_1 - C_4*y**2/2 - C_6*y**4/4)"
      ]
     },
     "execution_count": 42,
     "metadata": {},
     "output_type": "execute_result"
    }
   ],
   "source": [
    "L = symbols(\"L\")\n",
    "t_x.subs(x, 0)"
   ]
  },
  {
   "cell_type": "code",
   "execution_count": 44,
   "metadata": {},
   "outputs": [
    {
     "data": {
      "text/latex": [
       "$\\displaystyle L n_{y} \\left(C_{2} + C_{3} y + \\frac{2 C_{5} y^{3}}{3}\\right) + n_{x} \\left(- C_{1} - \\frac{C_{3} L^{2}}{2} - \\frac{C_{4} y^{2}}{2} - C_{5} L^{2} y^{2} - \\frac{C_{6} y^{4}}{4}\\right)$"
      ],
      "text/plain": [
       "L*n_y*(C_2 + C_3*y + 2*C_5*y**3/3) + n_x*(-C_1 - C_3*L**2/2 - C_4*y**2/2 - C_5*L**2*y**2 - C_6*y**4/4)"
      ]
     },
     "execution_count": 44,
     "metadata": {},
     "output_type": "execute_result"
    }
   ],
   "source": [
    "t_y.subs(x, L)"
   ]
  },
  {
   "cell_type": "code",
   "execution_count": null,
   "metadata": {},
   "outputs": [],
   "source": []
  }
 ],
 "metadata": {
  "kernelspec": {
   "display_name": "Python 3",
   "language": "python",
   "name": "python3"
  },
  "language_info": {
   "codemirror_mode": {
    "name": "ipython",
    "version": 3
   },
   "file_extension": ".py",
   "mimetype": "text/x-python",
   "name": "python",
   "nbconvert_exporter": "python",
   "pygments_lexer": "ipython3",
   "version": "3.12.1"
  }
 },
 "nbformat": 4,
 "nbformat_minor": 2
}
