{
 "cells": [
  {
   "cell_type": "code",
   "execution_count": 1,
   "id": "initial_id",
   "metadata": {
    "collapsed": true,
    "ExecuteTime": {
     "end_time": "2023-08-07T05:03:30.889888100Z",
     "start_time": "2023-08-07T05:03:30.867222900Z"
    }
   },
   "outputs": [
    {
     "data": {
      "text/plain": "3"
     },
     "execution_count": 1,
     "metadata": {},
     "output_type": "execute_result"
    }
   ],
   "source": [
    "1 + 2"
   ]
  },
  {
   "cell_type": "code",
   "execution_count": 2,
   "outputs": [
    {
     "data": {
      "text/plain": "'ali'"
     },
     "execution_count": 2,
     "metadata": {},
     "output_type": "execute_result"
    }
   ],
   "source": [
    "\"ali\""
   ],
   "metadata": {
    "collapsed": false,
    "ExecuteTime": {
     "end_time": "2023-08-07T05:03:30.889888100Z",
     "start_time": "2023-08-07T05:03:30.884315900Z"
    }
   },
   "id": "f89d7fbcd6a491f1"
  },
  {
   "cell_type": "code",
   "execution_count": 3,
   "outputs": [
    {
     "data": {
      "text/plain": "222"
     },
     "execution_count": 3,
     "metadata": {},
     "output_type": "execute_result"
    }
   ],
   "source": [
    "222"
   ],
   "metadata": {
    "collapsed": false,
    "ExecuteTime": {
     "end_time": "2023-08-07T05:03:30.915176500Z",
     "start_time": "2023-08-07T05:03:30.889888100Z"
    }
   },
   "id": "ad193f213ab6e9a7"
  },
  {
   "cell_type": "code",
   "execution_count": 4,
   "outputs": [],
   "source": [
    "a = 3 * 4"
   ],
   "metadata": {
    "collapsed": false,
    "ExecuteTime": {
     "end_time": "2023-08-07T05:03:31.040738800Z",
     "start_time": "2023-08-07T05:03:30.904403Z"
    }
   },
   "id": "58e4d8950425f3df"
  },
  {
   "cell_type": "code",
   "execution_count": 5,
   "outputs": [
    {
     "data": {
      "text/plain": "(222, 'ali', 3)"
     },
     "execution_count": 5,
     "metadata": {},
     "output_type": "execute_result"
    }
   ],
   "source": [
    "_, __, ___"
   ],
   "metadata": {
    "collapsed": false,
    "ExecuteTime": {
     "end_time": "2023-08-07T05:03:32.184985500Z",
     "start_time": "2023-08-07T05:03:32.164925100Z"
    }
   },
   "id": "5e527a260d89f4dc"
  },
  {
   "cell_type": "code",
   "execution_count": 7,
   "outputs": [
    {
     "data": {
      "text/plain": "'ali'"
     },
     "execution_count": 7,
     "metadata": {},
     "output_type": "execute_result"
    }
   ],
   "source": [
    "#will show the number in line\n",
    "_2"
   ],
   "metadata": {
    "collapsed": false,
    "ExecuteTime": {
     "end_time": "2023-08-07T05:03:47.120503700Z",
     "start_time": "2023-08-07T05:03:47.098964200Z"
    }
   },
   "id": "ba4f1a45d2b7904a"
  },
  {
   "cell_type": "code",
   "execution_count": 12,
   "outputs": [
    {
     "name": "stdout",
     "output_type": "stream",
     "text": [
      "10\n",
      "11\n",
      "['_A__pro', '_A__pro_', '__class__', '__delattr__', '__dict__', '__dir__', '__doc__', '__eq__', '__format__', '__ge__', '__getattribute__', '__getstate__', '__gt__', '__hash__', '__init__', '__init_subclass__', '__le__', '__lt__', '__module__', '__ne__', '__new__', '__pro__', '__reduce__', '__reduce_ex__', '__repr__', '__setattr__', '__sizeof__', '__str__', '__subclasshook__', '__weakref__', '_type', 'name']\n"
     ]
    },
    {
     "ename": "AttributeError",
     "evalue": "type object 'A' has no attribute '__pro'",
     "output_type": "error",
     "traceback": [
      "\u001B[1;31m---------------------------------------------------------------------------\u001B[0m",
      "\u001B[1;31mAttributeError\u001B[0m                            Traceback (most recent call last)",
      "Cell \u001B[1;32mIn[12], line 12\u001B[0m\n\u001B[0;32m     10\u001B[0m \u001B[38;5;28mprint\u001B[39m(A\u001B[38;5;241m.\u001B[39m_type)\n\u001B[0;32m     11\u001B[0m \u001B[38;5;28mprint\u001B[39m(\u001B[38;5;28mdir\u001B[39m(A()))\n\u001B[1;32m---> 12\u001B[0m \u001B[38;5;28mprint\u001B[39m(\u001B[43mA\u001B[49m\u001B[38;5;241;43m.\u001B[39;49m\u001B[43m__pro\u001B[49m)  \u001B[38;5;66;03m#\u001B[39;00m\n\u001B[0;32m     14\u001B[0m \u001B[38;5;66;03m# print(A.__pro_) #\u001B[39;00m\n\u001B[0;32m     15\u001B[0m \u001B[38;5;28mprint\u001B[39m(A\u001B[38;5;241m.\u001B[39m__pro__) \n",
      "\u001B[1;31mAttributeError\u001B[0m: type object 'A' has no attribute '__pro'"
     ]
    }
   ],
   "source": [
    "class A:\n",
    "    name = 10\n",
    "    _type = 11\n",
    "    __pro = 21\n",
    "    __pro_ = 22\n",
    "    __pro__ = 31\n",
    "\n",
    "\n",
    "print(A.name)\n",
    "print(A._type)\n",
    "print(dir(A()))\n",
    "print(A.__pro)  #\n",
    "\n",
    "# print(A.__pro_) #\n",
    "print(A.__pro__) \n"
   ],
   "metadata": {
    "collapsed": false,
    "ExecuteTime": {
     "end_time": "2023-08-07T05:07:04.524584600Z",
     "start_time": "2023-08-07T05:07:04.349471900Z"
    }
   },
   "id": "d7e917f14d42aa63"
  },
  {
   "cell_type": "code",
   "execution_count": 34,
   "outputs": [],
   "source": [
    "class A:\n",
    "    def __init__(self):\n",
    "        self.a = 20\n",
    "    def __str__(self):\n",
    "        return f\"this is print and str\"\n",
    "    \n",
    "    def __repr__(self):\n",
    "        return f\"it is the A alone\"\n",
    "        return 'A()'"
   ],
   "metadata": {
    "collapsed": false,
    "ExecuteTime": {
     "end_time": "2023-08-06T22:04:04.541238400Z",
     "start_time": "2023-08-06T22:04:04.501160100Z"
    }
   },
   "id": "bef4fab7f02ff26e"
  },
  {
   "cell_type": "code",
   "execution_count": 35,
   "outputs": [],
   "source": [
    "ali = A()"
   ],
   "metadata": {
    "collapsed": false,
    "ExecuteTime": {
     "end_time": "2023-08-06T22:04:10.809032400Z",
     "start_time": "2023-08-06T22:04:10.802474800Z"
    }
   },
   "id": "9d63183209e27008"
  },
  {
   "cell_type": "code",
   "execution_count": 36,
   "outputs": [
    {
     "data": {
      "text/plain": "it is the A alone"
     },
     "execution_count": 36,
     "metadata": {},
     "output_type": "execute_result"
    }
   ],
   "source": [
    "ali"
   ],
   "metadata": {
    "collapsed": false,
    "ExecuteTime": {
     "end_time": "2023-08-06T22:04:12.951281100Z",
     "start_time": "2023-08-06T22:04:12.935362700Z"
    }
   },
   "id": "cc66fef2314cb734"
  },
  {
   "cell_type": "code",
   "execution_count": 37,
   "outputs": [
    {
     "data": {
      "text/plain": "'this is print and str'"
     },
     "execution_count": 37,
     "metadata": {},
     "output_type": "execute_result"
    }
   ],
   "source": [
    "str(ali)"
   ],
   "metadata": {
    "collapsed": false,
    "ExecuteTime": {
     "end_time": "2023-08-06T22:04:21.342902200Z",
     "start_time": "2023-08-06T22:04:21.323047Z"
    }
   },
   "id": "fd04c3588e93d5d9"
  },
  {
   "cell_type": "code",
   "execution_count": 38,
   "outputs": [
    {
     "name": "stdout",
     "output_type": "stream",
     "text": [
      "this is print and str\n"
     ]
    }
   ],
   "source": [
    "print(ali)"
   ],
   "metadata": {
    "collapsed": false,
    "ExecuteTime": {
     "end_time": "2023-08-06T22:04:27.928613100Z",
     "start_time": "2023-08-06T22:04:27.924218700Z"
    }
   },
   "id": "f61fe9f73b286aae"
  },
  {
   "cell_type": "code",
   "execution_count": 40,
   "outputs": [
    {
     "data": {
      "text/plain": "it is the A alone"
     },
     "execution_count": 40,
     "metadata": {},
     "output_type": "execute_result"
    }
   ],
   "source": [
    "A()"
   ],
   "metadata": {
    "collapsed": false,
    "ExecuteTime": {
     "end_time": "2023-08-06T22:05:46.409603200Z",
     "start_time": "2023-08-06T22:05:46.284746700Z"
    }
   },
   "id": "44c94c271376ebd9"
  },
  {
   "cell_type": "code",
   "execution_count": null,
   "outputs": [],
   "source": [],
   "metadata": {
    "collapsed": false
   },
   "id": "9a4130f35346207b"
  }
 ],
 "metadata": {
  "kernelspec": {
   "display_name": "Python 3",
   "language": "python",
   "name": "python3"
  },
  "language_info": {
   "codemirror_mode": {
    "name": "ipython",
    "version": 2
   },
   "file_extension": ".py",
   "mimetype": "text/x-python",
   "name": "python",
   "nbconvert_exporter": "python",
   "pygments_lexer": "ipython2",
   "version": "2.7.6"
  }
 },
 "nbformat": 4,
 "nbformat_minor": 5
}
