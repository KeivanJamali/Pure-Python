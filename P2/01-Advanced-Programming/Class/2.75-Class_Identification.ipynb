{
 "cells": [
  {
   "cell_type": "markdown",
   "metadata": {},
   "source": [
    "<span style=\"font-size: 40px; font-weight: bold; color:#4c95ad\">Class Identification</span>"
   ]
  },
  {
   "cell_type": "markdown",
   "metadata": {},
   "source": [
    "Identifying classes from requirements is a critical step in object-oriented design and is not specific to Python.</br></br>\n",
    "<span style=\"font-size: 26px; font-weight: bold; color:#4c95ad\">**Guidelines:**</span></br>\n",
    "    **Identify Nouns**: Read through the requirements and identify the nouns or noun phrases. These often correspond to potential classes.</br>\n",
    "    **Identify Relationships**: Look for relationships between the nouns (e.g., \"has-a,\" \"is-a\"). This can help in defining **class hierarchies** and **compositions**.</br>\n",
    "    **Identify Behaviors**: Identify verbs or actions associated with each noun. **These often become methods within your classes**.</br>\n",
    "    **Group Common Features**: If you notice that multiple classes would have similar attributes or methods, consider creating a base class.</br>\n",
    "    **Single Responsibility Principle**: Ensure that each class has a single, well-defined responsibility. If a class seems to be handling too many tasks, it might need to be split.</br>\n"
   ]
  },
  {
   "cell_type": "markdown",
   "metadata": {},
   "source": [
    "<span style=\"font-size: 30px; font-weight: bold; color:#4c95ad\">Example:</span></br>\n",
    "<span style=\"font-size: 24px; color:#4c95ad\">Requirements</span></br>\n",
    " -Add books to the library</br>\n",
    " -Check out books to library members</br>\n",
    " -Track the due dates for the books</br>\n",
    " -Calculate fines for late returns</br>\n",
    "<span style=\"font-size: 22px; color:#4c95ad\">**Identifying Classes:**</span></br>\n",
    "    - **Nouns**: Book, Library, Member, Due Date, Fine</br>\n",
    "    - **Relationships**: Library \"has\" Books, Member \"borrows\" Books, Due Date \"is associated with\" Books</br>\n",
    "    - **Behaviors**: Add book, Check out book, Track due date, Calculate fine </br>\n",
    "<span style=\"font-size: 22px; color:#4c95ab\">Potential Classes:</span></br>\n",
    "    - **Book**: Methods could include setting/getting attributes like title, author, and ISBN.</br>\n",
    "    - **Library**: Methods could include adding/removing books, finding books, etc.</br>\n",
    "    - **Member**: Methods could include checking out and returning books.</br>\n",
    "    - **DueDate**: Methods could include setting and checking due dates.</br>\n",
    "    - **Fine**: Methods could include calculating and paying fines.</br>"
   ]
  },
  {
   "cell_type": "markdown",
   "metadata": {},
   "source": [
    "Let's consider a simplified zoo management system where you have different types of animals like Birds and Mammals. Both types of animals have some common features like name, age, and the ability to make_sound."
   ]
  }
 ],
 "metadata": {
  "language_info": {
   "name": "python"
  },
  "orig_nbformat": 4
 },
 "nbformat": 4,
 "nbformat_minor": 2
}
