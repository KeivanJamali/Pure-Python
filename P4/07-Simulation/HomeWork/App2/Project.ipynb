{
 "cells": [
  {
   "cell_type": "code",
   "execution_count": 7,
   "metadata": {},
   "outputs": [],
   "source": [
    "%load_ext autoreload\n",
    "%autoreload 2"
   ]
  },
  {
   "cell_type": "code",
   "execution_count": 8,
   "metadata": {},
   "outputs": [],
   "source": [
    "from modular.main import main\n"
   ]
  },
  {
   "cell_type": "code",
   "execution_count": 9,
   "metadata": {},
   "outputs": [
    {
     "name": "stdout",
     "output_type": "stream",
     "text": [
      "==========================================================\n",
      "===========policy := [ s = 20 and S = 200 ]================\n",
      "Mean Holding costs is : 315.9\n",
      "Mean Shortage costs is : 3257.6\n",
      "Mean Order cost is : 5362.5\n",
      "Mean Total cost is : 8936.0\n",
      "Percentage of lackness weeks : 25.0\n",
      "\n"
     ]
    }
   ],
   "source": [
    "model = main(day_limit=28,\n",
    "             storage_capacity_S=200,\n",
    "             storage_request_limit_s=20,\n",
    "             storage_initial_level=50,\n",
    "             plot_it=False)"
   ]
  },
  {
   "cell_type": "code",
   "execution_count": 10,
   "metadata": {},
   "outputs": [
    {
     "name": "stdout",
     "output_type": "stream",
     "text": [
      "==========================================================\n",
      "===========policy := [ s = 50 and S = 200 ]================\n",
      "Mean Holding costs is : 505.5\n",
      "Mean Shortage costs is : 0.4\n",
      "Mean Order cost is : 10170.9\n",
      "Mean Total cost is : 10676.7\n",
      "Percentage of lackness weeks : 0.0\n",
      "\n"
     ]
    }
   ],
   "source": [
    "model = main(day_limit=28,\n",
    "             storage_capacity_S=200,\n",
    "             storage_request_limit_s=50,\n",
    "             storage_initial_level=50,\n",
    "             plot_it=False)"
   ]
  },
  {
   "cell_type": "code",
   "execution_count": 11,
   "metadata": {},
   "outputs": [
    {
     "name": "stdout",
     "output_type": "stream",
     "text": [
      "==========================================================\n",
      "===========policy := [ s = 30 and S = 100 ]================\n",
      "Mean Holding costs is : 253.2\n",
      "Mean Shortage costs is : 1003.7\n",
      "Mean Order cost is : 8320.4\n",
      "Mean Total cost is : 9577.2\n",
      "Percentage of lackness weeks : 20.0\n",
      "\n"
     ]
    }
   ],
   "source": [
    "model = main(day_limit=70,\n",
    "             storage_capacity_S=100,\n",
    "             storage_request_limit_s=30,\n",
    "             storage_initial_level=50,\n",
    "             plot_it=False)"
   ]
  },
  {
   "cell_type": "code",
   "execution_count": 12,
   "metadata": {},
   "outputs": [
    {
     "name": "stdout",
     "output_type": "stream",
     "text": [
      "==========================================================\n",
      "===========policy := [ s = 30 and S = 150 ]================\n",
      "Mean Holding costs is : 366.3\n",
      "Mean Shortage costs is : 525.5\n",
      "Mean Order cost is : 8606.4\n",
      "Mean Total cost is : 9498.2\n",
      "Percentage of lackness weeks : 30.0\n",
      "\n"
     ]
    }
   ],
   "source": [
    "model = main(day_limit=70,\n",
    "             storage_capacity_S=150,\n",
    "             storage_request_limit_s=30,\n",
    "             storage_initial_level=50,\n",
    "             plot_it=False)"
   ]
  },
  {
   "cell_type": "code",
   "execution_count": 13,
   "metadata": {},
   "outputs": [
    {
     "name": "stdout",
     "output_type": "stream",
     "text": [
      "==========================================================\n",
      "===========policy := [ s = 10 and S = 100 ]================\n",
      "Mean Holding costs is : 193.8\n",
      "Mean Shortage costs is : 3531.7\n",
      "Mean Order cost is : 7625.9\n",
      "Mean Total cost is : 11351.3\n",
      "Percentage of lackness weeks : 46.0\n",
      "\n"
     ]
    }
   ],
   "source": [
    "model = main(day_limit=1400,\n",
    "             storage_capacity_S=100,\n",
    "             storage_request_limit_s=10,\n",
    "             storage_initial_level=100,\n",
    "             plot_it=False)"
   ]
  },
  {
   "cell_type": "code",
   "execution_count": 14,
   "metadata": {},
   "outputs": [
    {
     "name": "stdout",
     "output_type": "stream",
     "text": [
      "==========================================================\n",
      "===========policy := [ s = 20 and S = 100 ]================\n",
      "Mean Holding costs is : 207.8\n",
      "Mean Shortage costs is : 2791.9\n",
      "Mean Order cost is : 7661.0\n",
      "Mean Total cost is : 10660.6\n",
      "Percentage of lackness weeks : 42.0\n",
      "\n"
     ]
    }
   ],
   "source": [
    "model = main(day_limit=1400,\n",
    "             storage_capacity_S=100,\n",
    "             storage_request_limit_s=20,\n",
    "             storage_initial_level=100,\n",
    "             plot_it=False)"
   ]
  },
  {
   "cell_type": "code",
   "execution_count": null,
   "metadata": {},
   "outputs": [],
   "source": []
  }
 ],
 "metadata": {
  "kernelspec": {
   "display_name": "Python 3",
   "language": "python",
   "name": "python3"
  },
  "language_info": {
   "codemirror_mode": {
    "name": "ipython",
    "version": 3
   },
   "file_extension": ".py",
   "mimetype": "text/x-python",
   "name": "python",
   "nbconvert_exporter": "python",
   "pygments_lexer": "ipython3",
   "version": "3.12.1"
  }
 },
 "nbformat": 4,
 "nbformat_minor": 2
}
