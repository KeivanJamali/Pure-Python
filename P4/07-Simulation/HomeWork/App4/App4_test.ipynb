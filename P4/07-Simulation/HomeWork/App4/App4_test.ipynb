{
 "cells": [
  {
   "cell_type": "code",
   "execution_count": 75,
   "id": "e6091b3b",
   "metadata": {},
   "outputs": [],
   "source": [
    "import pandas as pd\n",
    "import numpy as np\n",
    "from Validation import Validation_Tools"
   ]
  },
  {
   "cell_type": "code",
   "execution_count": 76,
   "id": "6113c80a",
   "metadata": {},
   "outputs": [
    {
     "name": "stderr",
     "output_type": "stream",
     "text": [
      "C:\\Users\\PC\\AppData\\Local\\Temp\\ipykernel_10552\\927653114.py:4: SettingWithCopyWarning: \n",
      "A value is trying to be set on a copy of a slice from a DataFrame\n",
      "\n",
      "See the caveats in the documentation: https://pandas.pydata.org/pandas-docs/stable/user_guide/indexing.html#returning-a-view-versus-a-copy\n",
      "  data_fcfs.drop(\"FCFSRep\", axis=1, inplace=True)\n",
      "C:\\Users\\PC\\AppData\\Local\\Temp\\ipykernel_10552\\927653114.py:13: SettingWithCopyWarning: \n",
      "A value is trying to be set on a copy of a slice from a DataFrame\n",
      "\n",
      "See the caveats in the documentation: https://pandas.pydata.org/pandas-docs/stable/user_guide/indexing.html#returning-a-view-versus-a-copy\n",
      "  data_spt.drop(\"FCFSRep\", axis=1, inplace=True)\n"
     ]
    }
   ],
   "source": [
    "data = pd.read_csv(\"New Microsoft Excel Worksheet.csv\")\n",
    "data_fcfs = data.iloc[:10, :]\n",
    "data_fcfs.index = data_fcfs[\"FCFSRep\"]\n",
    "data_fcfs.drop(\"FCFSRep\", axis=1, inplace=True)\n",
    "data_fcfs = data_fcfs.astype(float)\n",
    "data_fcfs[\"Average length 1\"] = data_fcfs[\"Queue length 1\"] + data_fcfs[\"Utilization Server 1\"]\n",
    "data_fcfs[\"Average length 2\"] = data_fcfs[\"Queue length 2\"] + data_fcfs[\"Utilization Server 2\"]*2\n",
    "data_fcfs = data_fcfs[[\"Troughput\", \"Net Utilization\", \"Average length 1\", \"Average length 2\", \"Averange length in Network\", \"Total Waiting Time\", \"Average Waiting Time 1\", \"Average Waiting Time 2\"]]\n",
    "# data_fcfs\n",
    "\n",
    "data_spt = data.iloc[11:, :]\n",
    "data_spt.index = data_spt[\"FCFSRep\"]\n",
    "data_spt.drop(\"FCFSRep\", axis=1, inplace=True)\n",
    "data_spt = data_spt.astype(float)\n",
    "data_spt[\"Average length 1\"] = data_spt[\"Queue length 1\"] + data_spt[\"Utilization Server 1\"]\n",
    "data_spt[\"Average length 2\"] = data_spt[\"Queue length 2\"] + data_spt[\"Utilization Server 2\"]*2\n",
    "data_spt = data_spt[[\"Troughput\", \"Net Utilization\", \"Average length 1\", \"Average length 2\", \"Averange length in Network\", \"Total Waiting Time\", \"Average Waiting Time 1\", \"Average Waiting Time 2\"]]\n",
    "# data_spt"
   ]
  },
  {
   "cell_type": "code",
   "execution_count": 77,
   "id": "1280a5c0",
   "metadata": {},
   "outputs": [],
   "source": [
    "columns = data_fcfs.columns\n",
    "\n",
    "f = [list(data_fcfs[columns[i]]) for i in range(8)]\n",
    "name_f = [\"f1\", \"f2\", \"f3_1\", \"f3_2\", \"f3_3\", \"f4_3\", \"f4_1\", \"f4_2\"]\n",
    "s = [list(data_spt[columns[i]]) for i in range(8)]\n",
    "name_s = [\"s1\", \"s2\", \"s3_1\", \"s3_2\", \"s3_3\", \"s4_3\", \"s4_1\", \"s4_2\"]\n",
    "total_data = f + s\n",
    "total_name = name_f + name_s\n"
   ]
  },
  {
   "cell_type": "code",
   "execution_count": 78,
   "id": "b57e69af",
   "metadata": {},
   "outputs": [
    {
     "data": {
      "application/vnd.microsoft.datawrangler.viewer.v0+json": {
       "columns": [
        {
         "name": "FCFSRep",
         "rawType": "object",
         "type": "string"
        },
        {
         "name": "Troughput",
         "rawType": "float64",
         "type": "float"
        },
        {
         "name": "Net Utilization",
         "rawType": "float64",
         "type": "float"
        },
        {
         "name": "Average length 1",
         "rawType": "float64",
         "type": "float"
        },
        {
         "name": "Average length 2",
         "rawType": "float64",
         "type": "float"
        },
        {
         "name": "Averange length in Network",
         "rawType": "float64",
         "type": "float"
        },
        {
         "name": "Total Waiting Time",
         "rawType": "float64",
         "type": "float"
        },
        {
         "name": "Average Waiting Time 1",
         "rawType": "float64",
         "type": "float"
        },
        {
         "name": "Average Waiting Time 2",
         "rawType": "float64",
         "type": "float"
        }
       ],
       "ref": "6e2fa2ed-bd4a-4721-891f-e5aaae516a9c",
       "rows": [
        [
         "1",
         "3.064",
         "0.48115125",
         "1.759",
         "2.0291",
         "3.7881",
         "0.5624802",
         "0.501372",
         "0.336159"
        ],
        [
         "2",
         "3.028",
         "0.46654324",
         "1.5473",
         "2.0562",
         "3.6035",
         "0.5141046",
         "0.4217736",
         "0.3475848"
        ],
        [
         "3",
         "3.084",
         "0.4571856",
         "1.4552",
         "2.0893",
         "3.5445",
         "0.4889928",
         "0.3815316",
         "0.3529032"
        ],
        [
         "4",
         "3.063",
         "0.48328514",
         "1.6484999999999999",
         "2.1441999999999997",
         "3.7927",
         "0.557481",
         "0.4624152",
         "0.3792654"
        ],
        [
         "5",
         "2.953",
         "0.4148436",
         "1.2338",
         "1.9489",
         "3.1827",
         "0.4170516",
         "0.3071016",
         "0.32532"
        ],
        [
         "6",
         "3.081",
         "0.44739904",
         "1.4498",
         "1.916",
         "3.3658",
         "0.4438062",
         "0.3796674",
         "0.288411"
        ],
        [
         "7",
         "2.911",
         "0.41731898",
         "1.3123",
         "1.9618000000000002",
         "3.2741",
         "0.4562568",
         "0.3546132",
         "0.333696"
        ],
        [
         "8",
         "2.895",
         "0.42209245",
         "1.3622999999999998",
         "1.9606000000000001",
         "3.3229",
         "0.4718538",
         "0.3685248",
         "0.335208"
        ],
        [
         "9",
         "3.017",
         "0.44150014",
         "1.5808",
         "1.8742",
         "3.455",
         "0.488118",
         "0.449811",
         "0.28467"
        ],
        [
         "10",
         "3.036",
         "0.45364065",
         "1.6059",
         "1.9325",
         "3.5384",
         "0.5040012",
         "0.4494438",
         "0.3017364"
        ]
       ],
       "shape": {
        "columns": 8,
        "rows": 10
       }
      },
      "text/html": [
       "<div>\n",
       "<style scoped>\n",
       "    .dataframe tbody tr th:only-of-type {\n",
       "        vertical-align: middle;\n",
       "    }\n",
       "\n",
       "    .dataframe tbody tr th {\n",
       "        vertical-align: top;\n",
       "    }\n",
       "\n",
       "    .dataframe thead th {\n",
       "        text-align: right;\n",
       "    }\n",
       "</style>\n",
       "<table border=\"1\" class=\"dataframe\">\n",
       "  <thead>\n",
       "    <tr style=\"text-align: right;\">\n",
       "      <th></th>\n",
       "      <th>Troughput</th>\n",
       "      <th>Net Utilization</th>\n",
       "      <th>Average length 1</th>\n",
       "      <th>Average length 2</th>\n",
       "      <th>Averange length in Network</th>\n",
       "      <th>Total Waiting Time</th>\n",
       "      <th>Average Waiting Time 1</th>\n",
       "      <th>Average Waiting Time 2</th>\n",
       "    </tr>\n",
       "    <tr>\n",
       "      <th>FCFSRep</th>\n",
       "      <th></th>\n",
       "      <th></th>\n",
       "      <th></th>\n",
       "      <th></th>\n",
       "      <th></th>\n",
       "      <th></th>\n",
       "      <th></th>\n",
       "      <th></th>\n",
       "    </tr>\n",
       "  </thead>\n",
       "  <tbody>\n",
       "    <tr>\n",
       "      <th>1</th>\n",
       "      <td>3.064</td>\n",
       "      <td>0.481151</td>\n",
       "      <td>1.7590</td>\n",
       "      <td>2.0291</td>\n",
       "      <td>3.7881</td>\n",
       "      <td>0.562480</td>\n",
       "      <td>0.501372</td>\n",
       "      <td>0.336159</td>\n",
       "    </tr>\n",
       "    <tr>\n",
       "      <th>2</th>\n",
       "      <td>3.028</td>\n",
       "      <td>0.466543</td>\n",
       "      <td>1.5473</td>\n",
       "      <td>2.0562</td>\n",
       "      <td>3.6035</td>\n",
       "      <td>0.514105</td>\n",
       "      <td>0.421774</td>\n",
       "      <td>0.347585</td>\n",
       "    </tr>\n",
       "    <tr>\n",
       "      <th>3</th>\n",
       "      <td>3.084</td>\n",
       "      <td>0.457186</td>\n",
       "      <td>1.4552</td>\n",
       "      <td>2.0893</td>\n",
       "      <td>3.5445</td>\n",
       "      <td>0.488993</td>\n",
       "      <td>0.381532</td>\n",
       "      <td>0.352903</td>\n",
       "    </tr>\n",
       "    <tr>\n",
       "      <th>4</th>\n",
       "      <td>3.063</td>\n",
       "      <td>0.483285</td>\n",
       "      <td>1.6485</td>\n",
       "      <td>2.1442</td>\n",
       "      <td>3.7927</td>\n",
       "      <td>0.557481</td>\n",
       "      <td>0.462415</td>\n",
       "      <td>0.379265</td>\n",
       "    </tr>\n",
       "    <tr>\n",
       "      <th>5</th>\n",
       "      <td>2.953</td>\n",
       "      <td>0.414844</td>\n",
       "      <td>1.2338</td>\n",
       "      <td>1.9489</td>\n",
       "      <td>3.1827</td>\n",
       "      <td>0.417052</td>\n",
       "      <td>0.307102</td>\n",
       "      <td>0.325320</td>\n",
       "    </tr>\n",
       "    <tr>\n",
       "      <th>6</th>\n",
       "      <td>3.081</td>\n",
       "      <td>0.447399</td>\n",
       "      <td>1.4498</td>\n",
       "      <td>1.9160</td>\n",
       "      <td>3.3658</td>\n",
       "      <td>0.443806</td>\n",
       "      <td>0.379667</td>\n",
       "      <td>0.288411</td>\n",
       "    </tr>\n",
       "    <tr>\n",
       "      <th>7</th>\n",
       "      <td>2.911</td>\n",
       "      <td>0.417319</td>\n",
       "      <td>1.3123</td>\n",
       "      <td>1.9618</td>\n",
       "      <td>3.2741</td>\n",
       "      <td>0.456257</td>\n",
       "      <td>0.354613</td>\n",
       "      <td>0.333696</td>\n",
       "    </tr>\n",
       "    <tr>\n",
       "      <th>8</th>\n",
       "      <td>2.895</td>\n",
       "      <td>0.422092</td>\n",
       "      <td>1.3623</td>\n",
       "      <td>1.9606</td>\n",
       "      <td>3.3229</td>\n",
       "      <td>0.471854</td>\n",
       "      <td>0.368525</td>\n",
       "      <td>0.335208</td>\n",
       "    </tr>\n",
       "    <tr>\n",
       "      <th>9</th>\n",
       "      <td>3.017</td>\n",
       "      <td>0.441500</td>\n",
       "      <td>1.5808</td>\n",
       "      <td>1.8742</td>\n",
       "      <td>3.4550</td>\n",
       "      <td>0.488118</td>\n",
       "      <td>0.449811</td>\n",
       "      <td>0.284670</td>\n",
       "    </tr>\n",
       "    <tr>\n",
       "      <th>10</th>\n",
       "      <td>3.036</td>\n",
       "      <td>0.453641</td>\n",
       "      <td>1.6059</td>\n",
       "      <td>1.9325</td>\n",
       "      <td>3.5384</td>\n",
       "      <td>0.504001</td>\n",
       "      <td>0.449444</td>\n",
       "      <td>0.301736</td>\n",
       "    </tr>\n",
       "  </tbody>\n",
       "</table>\n",
       "</div>"
      ],
      "text/plain": [
       "         Troughput  Net Utilization  Average length 1  Average length 2  \\\n",
       "FCFSRep                                                                   \n",
       "1            3.064         0.481151            1.7590            2.0291   \n",
       "2            3.028         0.466543            1.5473            2.0562   \n",
       "3            3.084         0.457186            1.4552            2.0893   \n",
       "4            3.063         0.483285            1.6485            2.1442   \n",
       "5            2.953         0.414844            1.2338            1.9489   \n",
       "6            3.081         0.447399            1.4498            1.9160   \n",
       "7            2.911         0.417319            1.3123            1.9618   \n",
       "8            2.895         0.422092            1.3623            1.9606   \n",
       "9            3.017         0.441500            1.5808            1.8742   \n",
       "10           3.036         0.453641            1.6059            1.9325   \n",
       "\n",
       "         Averange length in Network  Total Waiting Time  \\\n",
       "FCFSRep                                                   \n",
       "1                            3.7881            0.562480   \n",
       "2                            3.6035            0.514105   \n",
       "3                            3.5445            0.488993   \n",
       "4                            3.7927            0.557481   \n",
       "5                            3.1827            0.417052   \n",
       "6                            3.3658            0.443806   \n",
       "7                            3.2741            0.456257   \n",
       "8                            3.3229            0.471854   \n",
       "9                            3.4550            0.488118   \n",
       "10                           3.5384            0.504001   \n",
       "\n",
       "         Average Waiting Time 1  Average Waiting Time 2  \n",
       "FCFSRep                                                  \n",
       "1                      0.501372                0.336159  \n",
       "2                      0.421774                0.347585  \n",
       "3                      0.381532                0.352903  \n",
       "4                      0.462415                0.379265  \n",
       "5                      0.307102                0.325320  \n",
       "6                      0.379667                0.288411  \n",
       "7                      0.354613                0.333696  \n",
       "8                      0.368525                0.335208  \n",
       "9                      0.449811                0.284670  \n",
       "10                     0.449444                0.301736  "
      ]
     },
     "execution_count": 78,
     "metadata": {},
     "output_type": "execute_result"
    }
   ],
   "source": [
    "data_spt"
   ]
  },
  {
   "cell_type": "code",
   "execution_count": 79,
   "id": "5b43dc5e",
   "metadata": {},
   "outputs": [
    {
     "name": "stdout",
     "output_type": "stream",
     "text": [
      "[INFO] 'f1' data added to the storage with Mean:2.9872 and Variance:0.001522622222222222.\n",
      "[INFO] 'f2' data added to the storage with Mean:0.436861094 and Variance:0.00024994767707084913.\n",
      "[INFO] 'f3_1' data added to the storage with Mean:1.9625899999999998 and Variance:0.028307700999999994.\n",
      "[INFO] 'f3_2' data added to the storage with Mean:2.3591100000000003 and Variance:0.030927607666666683.\n",
      "[INFO] 'f3_3' data added to the storage with Mean:4.3217 and Variance:0.05321634222222213.\n",
      "[INFO] 'f4_3' data added to the storage with Mean:0.78269364 and Variance:0.004650749294256001.\n",
      "[INFO] 'f4_1' data added to the storage with Mean:0.6506492999999999 and Variance:0.005035784470900001.\n",
      "[INFO] 'f4_2' data added to the storage with Mean:0.5239100399999999 and Variance:0.005278124253776.\n",
      "[INFO] 's1' data added to the storage with Mean:3.0132000000000003 and Variance:0.004829288888888892.\n",
      "[INFO] 's2' data added to the storage with Mean:0.448496009 and Variance:0.0006173458323028323.\n",
      "[INFO] 's3_1' data added to the storage with Mean:1.49549 and Variance:0.02649918766666666.\n",
      "[INFO] 's3_2' data added to the storage with Mean:1.9912800000000002 and Variance:0.007230410666666655.\n",
      "[INFO] 's3_3' data added to the storage with Mean:3.48677 and Variance:0.04268897566666666.\n",
      "[INFO] 's4_3' data added to the storage with Mean:0.49041462 and Variance:0.0021677990795239996.\n",
      "[INFO] 's4_1' data added to the storage with Mean:0.40762542 and Variance:0.003491738109204002.\n",
      "[INFO] 's4_2' data added to the storage with Mean:0.32849538 and Variance:0.0008802363168839999.\n"
     ]
    }
   ],
   "source": [
    "valid1 = Validation_Tools(data_list=total_data, name_list=total_name)\n"
   ]
  },
  {
   "cell_type": "code",
   "execution_count": 81,
   "id": "6bc12d6e",
   "metadata": {},
   "outputs": [
    {
     "name": "stdout",
     "output_type": "stream",
     "text": [
      "[RESULT] [0.254095, 0.330463]\n"
     ]
    },
    {
     "data": {
      "text/plain": [
       "{'Y1-Y2': np.float64(0.29227901999999994),\n",
       " 'D_bar': np.float64(0.29227901999999994),\n",
       " 'freedom': 9,\n",
       " 'SE': np.float64(0.02083002875351832),\n",
       " 'half-lenght': np.float64(0.038183795095621476),\n",
       " 'confidence_intervals': {'90.000%': [np.float64(0.25409522490437847),\n",
       "   np.float64(0.3304628150956214)]}}"
      ]
     },
     "execution_count": 81,
     "metadata": {},
     "output_type": "execute_result"
    }
   ],
   "source": [
    "valid1.common_random_numbers(data_name_1=\"f4_3\", data_name_2=\"s4_3\", alpha=0.1)"
   ]
  },
  {
   "cell_type": "code",
   "execution_count": null,
   "id": "30cbc90d",
   "metadata": {},
   "outputs": [],
   "source": []
  }
 ],
 "metadata": {
  "kernelspec": {
   "display_name": "Python 3",
   "language": "python",
   "name": "python3"
  },
  "language_info": {
   "codemirror_mode": {
    "name": "ipython",
    "version": 3
   },
   "file_extension": ".py",
   "mimetype": "text/x-python",
   "name": "python",
   "nbconvert_exporter": "python",
   "pygments_lexer": "ipython3",
   "version": "3.12.1"
  }
 },
 "nbformat": 4,
 "nbformat_minor": 5
}
