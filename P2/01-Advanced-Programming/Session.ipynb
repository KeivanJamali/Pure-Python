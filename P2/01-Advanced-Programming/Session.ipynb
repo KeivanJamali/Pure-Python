{
 "cells": [
  {
   "cell_type": "markdown",
   "metadata": {},
   "source": [
    "## Quera Class\n",
    "#### https://quera.org/course/add_to_course/course/15178\n",
    "#### pass: ABcd4312\n",
    "> Memory management <br>\n",
    "-> Stack & Heap <br>\n",
    "-> Immutable objects \n"
   ]
  },
  {
   "cell_type": "code",
   "execution_count": 10,
   "metadata": {},
   "outputs": [
    {
     "name": "stdout",
     "output_type": "stream",
     "text": [
      "5\n",
      "6\n",
      "6\n"
     ]
    }
   ],
   "source": [
    "def function():\n",
    "    global a\n",
    "    a = a+1\n",
    "    print(a)\n",
    "a = 5\n",
    "print(a)\n",
    "function()\n",
    "print(a)"
   ]
  },
  {
   "cell_type": "markdown",
   "metadata": {},
   "source": [
    "## Guidelines:\n",
    "-> **Identify Nouns**<br>\n",
    "-> Identify Relationship<br>\n",
    "-> Identify behaviors<br>\n",
    "-> Group commpn features<br>\n",
    "-> Single responsibility principle<br>\n",
    "\n",
    "\n",
    "## Encapsulation\n",
    "-> Private __variable\n",
    "-> protected _variable\n",
    "-> We should make get_variable function to return the private and protected value.\n",
    "\n",
    "\n",
    "## polymorphism"
   ]
  },
  {
   "cell_type": "code",
   "execution_count": 4,
   "metadata": {},
   "outputs": [
    {
     "data": {
      "text/plain": [
       "1"
      ]
     },
     "execution_count": 4,
     "metadata": {},
     "output_type": "execute_result"
    }
   ],
   "source": [
    "a = [1,2,3,4]\n",
    "next(iter(a))"
   ]
  },
  {
   "cell_type": "code",
   "execution_count": 8,
   "metadata": {},
   "outputs": [
    {
     "data": {
      "text/plain": [
       "(1, 2)"
      ]
     },
     "execution_count": 8,
     "metadata": {},
     "output_type": "execute_result"
    }
   ],
   "source": [
    "b = (iter(a))\n",
    "next(b), next(b)\n"
   ]
  },
  {
   "cell_type": "code",
   "execution_count": 9,
   "metadata": {},
   "outputs": [
    {
     "data": {
      "text/plain": [
       "<list_iterator at 0x1eb58b9b730>"
      ]
     },
     "execution_count": 9,
     "metadata": {},
     "output_type": "execute_result"
    }
   ],
   "source": [
    "iter(a)"
   ]
  },
  {
   "cell_type": "code",
   "execution_count": null,
   "metadata": {},
   "outputs": [],
   "source": []
  }
 ],
 "metadata": {
  "kernelspec": {
   "display_name": "Python 3",
   "language": "python",
   "name": "python3"
  },
  "language_info": {
   "codemirror_mode": {
    "name": "ipython",
    "version": 3
   },
   "file_extension": ".py",
   "mimetype": "text/x-python",
   "name": "python",
   "nbconvert_exporter": "python",
   "pygments_lexer": "ipython3",
   "version": "3.11.5"
  }
 },
 "nbformat": 4,
 "nbformat_minor": 2
}
