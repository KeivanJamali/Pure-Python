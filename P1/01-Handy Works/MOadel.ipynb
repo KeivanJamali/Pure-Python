{
 "cells": [
  {
   "cell_type": "code",
   "execution_count": 6,
   "metadata": {
    "collapsed": true,
    "ExecuteTime": {
     "end_time": "2023-07-12T17:31:46.214002200Z",
     "start_time": "2023-07-12T17:31:46.207418800Z"
    }
   },
   "outputs": [
    {
     "name": "stdout",
     "output_type": "stream",
     "text": [
      "18.244210526315793\n",
      "18.870096153846156\n"
     ]
    }
   ],
   "source": [
    "a = 85 * 19.01\n",
    "beton = 2 * 20\n",
    "traffic = 3 * 18.3\n",
    "fool = 2 * 17.5\n",
    "comp = 3 * 18.1\n",
    "pei = 3 * 16.8\n",
    "az = 1 * 18.8\n",
    "mohit = 3 * 18.5\n",
    "eng = 2 * 18.87\n",
    "result = a+beton+traffic+fool+comp+pei+az+mohit+eng\n",
    "print((beton+traffic+fool+comp+pei+az+mohit+eng)/19)\n",
    "print(result/(85+19))"
   ]
  },
  {
   "cell_type": "code",
   "execution_count": 4,
   "outputs": [
    {
     "name": "stdout",
     "output_type": "stream",
     "text": [
      "17.19\n",
      "17.8485\n",
      "17.80105769230769\n"
     ]
    }
   ],
   "source": [
    "a = 84 * 18.01\n",
    "beton = 2 * 20\n",
    "traffic = 3 * 15.2\n",
    "fool = 2 * 16.9\n",
    "comp = 3 * 17.19\n",
    "print(comp / 3)\n",
    "pei = 3 * 17.9\n",
    "az = 1 * 18.3\n",
    "mohit = 3 * 18.5\n",
    "zab = 3 * 19.5\n",
    "result = a+beton+traffic+fool+comp+pei+az+mohit+eng\n",
    "print((beton+traffic+fool+comp+pei+az+mohit+zab)/20)\n",
    "print(result/(84+20))"
   ],
   "metadata": {
    "collapsed": false,
    "ExecuteTime": {
     "end_time": "2023-07-08T19:07:43.714418800Z",
     "start_time": "2023-07-08T19:07:43.705749600Z"
    }
   }
  },
  {
   "cell_type": "code",
   "execution_count": null,
   "outputs": [],
   "source": [],
   "metadata": {
    "collapsed": false
   }
  }
 ],
 "metadata": {
  "kernelspec": {
   "display_name": "Python 3",
   "language": "python",
   "name": "python3"
  },
  "language_info": {
   "codemirror_mode": {
    "name": "ipython",
    "version": 2
   },
   "file_extension": ".py",
   "mimetype": "text/x-python",
   "name": "python",
   "nbconvert_exporter": "python",
   "pygments_lexer": "ipython2",
   "version": "2.7.6"
  }
 },
 "nbformat": 4,
 "nbformat_minor": 0
}
