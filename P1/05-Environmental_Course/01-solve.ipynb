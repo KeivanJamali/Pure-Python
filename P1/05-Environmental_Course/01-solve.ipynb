{
 "cells": [
  {
   "cell_type": "code",
   "execution_count": 3,
   "metadata": {
    "collapsed": true,
    "ExecuteTime": {
     "end_time": "2023-06-02T17:16:36.299541100Z",
     "start_time": "2023-06-02T17:16:36.289418800Z"
    }
   },
   "outputs": [],
   "source": [
    "import numpy as np"
   ]
  },
  {
   "cell_type": "code",
   "execution_count": 11,
   "outputs": [
    {
     "name": "stdout",
     "output_type": "stream",
     "text": [
      "0.21221\n"
     ]
    },
    {
     "name": "stderr",
     "output_type": "stream",
     "text": [
      "C:\\Users\\keipj\\AppData\\Local\\Temp\\ipykernel_15948\\3841969820.py:6: RuntimeWarning: invalid value encountered in scalar divide\n",
      "  answer = A1/A2\n"
     ]
    }
   ],
   "source": [
    "ls = {}\n",
    "for k in range(100000):\n",
    "    k = k/100000\n",
    "    A1 = 1 - np.exp(-5*k)\n",
    "    A2 = 1 - np.exp(-12*k)\n",
    "    answer = A1/A2\n",
    "    if abs(answer-0.7095) < 0.0001:\n",
    "        ls[abs(answer-0.7095)] = k\n",
    "\n",
    "\n",
    "k = ls[min(ls)]\n",
    "\n",
    "print(k)"
   ],
   "metadata": {
    "collapsed": false,
    "ExecuteTime": {
     "end_time": "2023-06-02T17:21:23.540380Z",
     "start_time": "2023-06-02T17:21:23.328105500Z"
    }
   }
  },
  {
   "cell_type": "code",
   "execution_count": 12,
   "outputs": [
    {
     "name": "stdout",
     "output_type": "stream",
     "text": [
      "422.07088449092976\n"
     ]
    }
   ],
   "source": [
    "print(389/(1-np.exp(-12*k)))"
   ],
   "metadata": {
    "collapsed": false,
    "ExecuteTime": {
     "end_time": "2023-06-02T17:21:30.163735100Z",
     "start_time": "2023-06-02T17:21:30.159190300Z"
    }
   }
  },
  {
   "cell_type": "code",
   "execution_count": null,
   "outputs": [],
   "source": [],
   "metadata": {
    "collapsed": false
   }
  }
 ],
 "metadata": {
  "kernelspec": {
   "display_name": "Python 3",
   "language": "python",
   "name": "python3"
  },
  "language_info": {
   "codemirror_mode": {
    "name": "ipython",
    "version": 2
   },
   "file_extension": ".py",
   "mimetype": "text/x-python",
   "name": "python",
   "nbconvert_exporter": "python",
   "pygments_lexer": "ipython2",
   "version": "2.7.6"
  }
 },
 "nbformat": 4,
 "nbformat_minor": 0
}
