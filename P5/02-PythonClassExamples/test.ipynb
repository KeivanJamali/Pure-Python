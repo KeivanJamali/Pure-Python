{
 "cells": [
  {
   "cell_type": "markdown",
   "id": "834d1efb",
   "metadata": {},
   "source": [
    "# First class"
   ]
  },
  {
   "cell_type": "code",
   "execution_count": 32,
   "id": "6f97e86a",
   "metadata": {},
   "outputs": [],
   "source": [
    "a = 3\n",
    "b = 5.5\n",
    "c = 2.0\n",
    "d = \"Arezo \""
   ]
  },
  {
   "cell_type": "code",
   "execution_count": 33,
   "id": "b5173cbc",
   "metadata": {},
   "outputs": [
    {
     "data": {
      "text/plain": [
       "str"
      ]
     },
     "execution_count": 33,
     "metadata": {},
     "output_type": "execute_result"
    }
   ],
   "source": [
    "type(d)"
   ]
  },
  {
   "cell_type": "code",
   "execution_count": 36,
   "id": "8d0b6087",
   "metadata": {},
   "outputs": [],
   "source": [
    "c = int(c)"
   ]
  },
  {
   "cell_type": "code",
   "execution_count": 38,
   "id": "7f5fbde3",
   "metadata": {},
   "outputs": [
    {
     "data": {
      "text/plain": [
       "2"
      ]
     },
     "execution_count": 38,
     "metadata": {},
     "output_type": "execute_result"
    }
   ],
   "source": [
    "c"
   ]
  },
  {
   "cell_type": "code",
   "execution_count": 56,
   "id": "95b81555",
   "metadata": {},
   "outputs": [
    {
     "data": {
      "text/plain": [
       "2"
      ]
     },
     "execution_count": 56,
     "metadata": {},
     "output_type": "execute_result"
    }
   ],
   "source": [
    "a = \"2.5\"\n",
    "a = float(a)\n",
    "int(a)"
   ]
  },
  {
   "cell_type": "markdown",
   "id": "03cc4e68",
   "metadata": {},
   "source": [
    "- integer - int [5, -2, 1000]\n",
    "- float - float [2.5, 1000.0, -25.3]\n",
    "- string - str [\"asdfasdfasdf\", 'afwsd dsaf ewd dfe ']"
   ]
  }
 ],
 "metadata": {
  "kernelspec": {
   "display_name": "Python 3",
   "language": "python",
   "name": "python3"
  },
  "language_info": {
   "codemirror_mode": {
    "name": "ipython",
    "version": 3
   },
   "file_extension": ".py",
   "mimetype": "text/x-python",
   "name": "python",
   "nbconvert_exporter": "python",
   "pygments_lexer": "ipython3",
   "version": "3.13.5"
  }
 },
 "nbformat": 4,
 "nbformat_minor": 5
}
