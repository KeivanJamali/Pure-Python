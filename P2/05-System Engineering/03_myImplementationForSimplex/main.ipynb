{
 "cells": [
  {
   "cell_type": "code",
   "execution_count": 1,
   "id": "initial_id",
   "metadata": {
    "collapsed": true,
    "ExecuteTime": {
     "end_time": "2024-02-23T21:02:20.894549800Z",
     "start_time": "2024-02-23T21:02:19.262951800Z"
    }
   },
   "outputs": [],
   "source": [
    "%load_ext autoreload\n",
    "%autoreload 2\n",
    "from Simplex import Simplex\n",
    "import numpy as np"
   ]
  },
  {
   "cell_type": "code",
   "outputs": [
    {
     "name": "stdout",
     "output_type": "stream",
     "text": [
      "|    |   x1 |   x2 |   x3 |   s1 |   s2 |   s3 |   Optimal value |\n",
      "|----|------|------|------|------|------|------|-----------------|\n",
      "|  0 | 72.0 | 96.0 |  0.0 |  0.0 |  0.0 | 60.0 |           912.0 |\n"
     ]
    }
   ],
   "source": [
    "objective_function = np.array([-6., -5., -4., 0., 0., 0., 0.])\n",
    "constraints_function = np.array([[2., 1., 1., 1., 0., 0., 240.],\n",
    "                                 [1., 3., 2., 0., 1., 0., 360.],\n",
    "                                 [2., 1., 2., 0., 0., 1., 300.]])\n",
    "parameters = [\"x1\", \"x2\", \"x3\"]\n",
    "\n",
    "model = Simplex(objective_function, parameters=parameters)\n",
    "model.fit(constraints_function)"
   ],
   "metadata": {
    "collapsed": false,
    "ExecuteTime": {
     "end_time": "2024-02-23T21:22:31.622037100Z",
     "start_time": "2024-02-23T21:22:31.547601400Z"
    }
   },
   "id": "a5928b751595bd9c",
   "execution_count": 4
  },
  {
   "cell_type": "code",
   "outputs": [
    {
     "name": "stdout",
     "output_type": "stream",
     "text": [
      "| parameter   |   x1 |   x2 |   x3 |   s1 |   s2 |   s3 |   Optimal value |\n",
      "|-------------|------|------|------|------|------|------|-----------------|\n",
      "| s1          |  2.0 |  1.0 |  1.0 |  1.0 |  0.0 |  0.0 |           240.0 |\n",
      "| s2          |  1.0 |  3.0 |  2.0 |  0.0 |  1.0 |  0.0 |           360.0 |\n",
      "| s3          |  2.0 |  1.0 |  2.0 |  0.0 |  0.0 |  1.0 |           300.0 |\n",
      "| z1          | -6.0 | -5.0 | -4.0 |  0.0 |  0.0 |  0.0 |             0.0 |\n",
      "| x1          |  1.0 |  0.5 |  0.5 |  0.5 |  0.0 |  0.0 |           120.0 |\n",
      "| s2          |  0.0 |  2.5 |  1.5 | -0.5 |  1.0 |  0.0 |           240.0 |\n",
      "| s3          |  0.0 |  0.0 |  1.0 | -1.0 |  0.0 |  1.0 |            60.0 |\n",
      "| z2          |  0.0 | -2.0 | -1.0 |  3.0 |  0.0 |  0.0 |           720.0 |\n",
      "| x1          |  1.0 |  0.0 |  0.2 |  0.6 | -0.2 |  0.0 |            72.0 |\n",
      "| x2          |  0.0 |  1.0 |  0.6 | -0.2 |  0.4 |  0.0 |            96.0 |\n",
      "| s3          |  0.0 |  0.0 |  1.0 | -1.0 | -0.0 |  1.0 |            60.0 |\n",
      "| z3          |  0.0 |  0.0 |  0.2 |  2.6 |  0.8 |  0.0 |           912.0 |\n"
     ]
    }
   ],
   "source": [
    "model.make_table()"
   ],
   "metadata": {
    "collapsed": false,
    "ExecuteTime": {
     "end_time": "2024-02-23T21:22:32.325362500Z",
     "start_time": "2024-02-23T21:22:32.241238300Z"
    }
   },
   "id": "aa5c61b83318266",
   "execution_count": 5
  },
  {
   "cell_type": "code",
   "outputs": [],
   "source": [],
   "metadata": {
    "collapsed": false
   },
   "id": "cf1ca8a5650e0ab5"
  }
 ],
 "metadata": {
  "kernelspec": {
   "display_name": "Python 3",
   "language": "python",
   "name": "python3"
  },
  "language_info": {
   "codemirror_mode": {
    "name": "ipython",
    "version": 2
   },
   "file_extension": ".py",
   "mimetype": "text/x-python",
   "name": "python",
   "nbconvert_exporter": "python",
   "pygments_lexer": "ipython2",
   "version": "2.7.6"
  }
 },
 "nbformat": 4,
 "nbformat_minor": 5
}
