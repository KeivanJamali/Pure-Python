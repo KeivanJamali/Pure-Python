{
 "cells": [
  {
   "cell_type": "markdown",
   "id": "f8307881fc834a61",
   "metadata": {
    "collapsed": false
   },
   "source": [
    "# map"
   ]
  },
  {
   "cell_type": "code",
   "execution_count": null,
   "id": "initial_id",
   "metadata": {
    "ExecuteTime": {
     "end_time": "2023-08-10T20:34:34.539026600Z",
     "start_time": "2023-08-10T20:34:34.535961700Z"
    },
    "collapsed": true
   },
   "outputs": [
    {
     "name": "stdout",
     "output_type": "stream",
     "text": [
      "[1, 4, 9, 16]\n"
     ]
    }
   ],
   "source": [
    "a = [1, 2, 3, 4]\n",
    "f = lambda x: x ** 2\n",
    "m = map(f, a)\n",
    "print(list(m))"
   ]
  },
  {
   "cell_type": "code",
   "execution_count": 2,
   "id": "f6afec3e5a3a87d8",
   "metadata": {
    "ExecuteTime": {
     "end_time": "2023-08-10T20:35:37.116318100Z",
     "start_time": "2023-08-10T20:35:37.083368500Z"
    },
    "collapsed": false
   },
   "outputs": [
    {
     "name": "stdout",
     "output_type": "stream",
     "text": [
      "[(1, 1), (2, 4), (3, 9), (4, 16)]\n"
     ]
    }
   ],
   "source": [
    "f = lambda x: (x, x ** 2)\n",
    "m = map(f, a)\n",
    "print(list(m))"
   ]
  },
  {
   "cell_type": "code",
   "execution_count": 7,
   "id": "27927efda40b78df",
   "metadata": {
    "ExecuteTime": {
     "end_time": "2023-08-10T20:38:22.484079100Z",
     "start_time": "2023-08-10T20:38:22.355842600Z"
    },
    "collapsed": false
   },
   "outputs": [
    {
     "name": "stdout",
     "output_type": "stream",
     "text": [
      "<map object at 0x000001F68EC1C370>\n",
      "[2, 4, 6, 8]\n",
      "[0, 0, 0, 0]\n"
     ]
    }
   ],
   "source": [
    "a = [1, 2, 3, 4]\n",
    "b = [1, 2, 3, 4]\n",
    "m = map(lambda x, y: x + y, a, b)\n",
    "print(m)\n",
    "print(list(m))\n",
    "m = map(lambda x, y, z: x + y - 2 * z, a, b, a)\n",
    "print(list(m))"
   ]
  },
  {
   "cell_type": "markdown",
   "id": "2e71aa1022230ca3",
   "metadata": {
    "collapsed": false
   },
   "source": [
    "# filter"
   ]
  },
  {
   "cell_type": "code",
   "execution_count": 11,
   "id": "1c8fca0d4628247a",
   "metadata": {
    "ExecuteTime": {
     "end_time": "2023-08-10T20:39:56.852049500Z",
     "start_time": "2023-08-10T20:39:56.746774900Z"
    },
    "collapsed": false
   },
   "outputs": [
    {
     "name": "stdout",
     "output_type": "stream",
     "text": [
      "[1, 3, 5, 7, 9]\n",
      "[2, 4, 6, 8]\n",
      "[3, 6, 9]\n",
      "[1, 2, 4, 5, 7, 8]\n"
     ]
    }
   ],
   "source": [
    "a = [1, 2, 3, 4, 5, 6, 7, 8, 9]\n",
    "# if even or not\n",
    "print(list(filter(lambda x: x % 2, a)))\n",
    "print(list(filter(lambda x: not x % 2, a)))\n",
    "print(list(filter(lambda x: not x % 3, a)))\n",
    "print(list(filter(lambda x: x % 3, a)))"
   ]
  },
  {
   "cell_type": "code",
   "execution_count": 12,
   "id": "2968671a1877e0e7",
   "metadata": {
    "ExecuteTime": {
     "end_time": "2023-08-10T20:40:54.591768700Z",
     "start_time": "2023-08-10T20:40:54.570376300Z"
    },
    "collapsed": false
   },
   "outputs": [
    {
     "name": "stdout",
     "output_type": "stream",
     "text": [
      "[1, 2, 30, 40]\n"
     ]
    }
   ],
   "source": [
    "b = [0, 1, 2, 0, 30, 40]\n",
    "print(list(filter(None, b)))"
   ]
  },
  {
   "cell_type": "markdown",
   "id": "6c45c9e7e728328b",
   "metadata": {
    "collapsed": false
   },
   "source": [
    "# reversed"
   ]
  },
  {
   "cell_type": "code",
   "execution_count": 15,
   "id": "a2291ab38458fcfd",
   "metadata": {
    "ExecuteTime": {
     "end_time": "2023-08-10T20:42:02.436704300Z",
     "start_time": "2023-08-10T20:42:02.315702300Z"
    },
    "collapsed": false
   },
   "outputs": [
    {
     "name": "stdout",
     "output_type": "stream",
     "text": [
      "[6, 5, 4, 3, 2, 1]\n",
      "[1, 2, 3, 4, 5, 6]\n"
     ]
    }
   ],
   "source": [
    "a = [1, 2, 3, 4, 5, 6]\n",
    "print(list(reversed(a)))\n",
    "print(a)"
   ]
  },
  {
   "cell_type": "markdown",
   "id": "bd9fc0dcb1a56b54",
   "metadata": {
    "collapsed": false
   },
   "source": [
    "# sorted"
   ]
  },
  {
   "cell_type": "code",
   "execution_count": 24,
   "id": "697aee48fb752e16",
   "metadata": {
    "ExecuteTime": {
     "end_time": "2023-08-10T20:49:12.054884800Z",
     "start_time": "2023-08-10T20:49:12.049267700Z"
    },
    "collapsed": false
   },
   "outputs": [
    {
     "name": "stdout",
     "output_type": "stream",
     "text": [
      "[-10, -3, 0, 1, 2, 4, 12]\n",
      "[12, 4, 2, 1, 0, -3, -10]\n",
      "[0, 1, 2, -3, 4, -10, 12]\n",
      "[-10, -3, 0, 1, 2, 4, 12]\n",
      "[2, 4, 0, -2, 266, 26, 1, 3, -49]\n",
      "[-2, 0, 2, 4, 26, 266, -49, 1, 3]\n"
     ]
    }
   ],
   "source": [
    "a = [1, 2, -3, 4, 0, 12, -10]\n",
    "b = sorted(a)\n",
    "print(b)\n",
    "b = sorted(a, reverse=True)\n",
    "print(b)\n",
    "# sort according to abs\n",
    "b = sorted(a, key=abs)\n",
    "print(b)\n",
    "\n",
    "\n",
    "def f(x):\n",
    "    return x ** 3\n",
    "\n",
    "\n",
    "b = sorted(a, key=f)\n",
    "print(b)\n",
    "\n",
    "a = [1, 3, 2, 4, 0, -2, -49, 266, 26]\n",
    "# first Even\n",
    "b = sorted(a, key=lambda x: x % 2)\n",
    "print(b)\n",
    "\n",
    "b = sorted(a, key=lambda x: (x % 2, x))\n",
    "print(b)"
   ]
  },
  {
   "cell_type": "markdown",
   "id": "6aa5f33f6916929b",
   "metadata": {
    "collapsed": false
   },
   "source": [
    "# enumerate"
   ]
  },
  {
   "cell_type": "code",
   "execution_count": 26,
   "id": "fc1e0acd6d236d34",
   "metadata": {
    "ExecuteTime": {
     "end_time": "2023-08-10T20:54:50.707272Z",
     "start_time": "2023-08-10T20:54:50.685630Z"
    },
    "collapsed": false
   },
   "outputs": [
    {
     "name": "stdout",
     "output_type": "stream",
     "text": [
      "0 H\n",
      "1 e\n",
      "2 l\n",
      "3 l\n",
      "4 o\n",
      "5  \n",
      "6 w\n",
      "7 o\n",
      "8 r\n",
      "9 l\n",
      "10 d\n"
     ]
    },
    {
     "data": {
      "text/plain": [
       "[(0, 'H'),\n",
       " (1, 'e'),\n",
       " (2, 'l'),\n",
       " (3, 'l'),\n",
       " (4, 'o'),\n",
       " (5, ' '),\n",
       " (6, 'w'),\n",
       " (7, 'o'),\n",
       " (8, 'r'),\n",
       " (9, 'l'),\n",
       " (10, 'd')]"
      ]
     },
     "execution_count": 26,
     "metadata": {},
     "output_type": "execute_result"
    }
   ],
   "source": [
    "a = \"Hello world\"\n",
    "for i, c in enumerate(a):\n",
    "    print(i, c)\n",
    "list(enumerate(a))"
   ]
  },
  {
   "cell_type": "markdown",
   "id": "c8e2932512e859e1",
   "metadata": {
    "collapsed": false
   },
   "source": [
    "# zip"
   ]
  },
  {
   "cell_type": "code",
   "execution_count": 41,
   "id": "cce4334edc014cf6",
   "metadata": {
    "ExecuteTime": {
     "end_time": "2023-08-10T20:59:15.583062200Z",
     "start_time": "2023-08-10T20:59:15.472963300Z"
    },
    "collapsed": false
   },
   "outputs": [
    {
     "name": "stdout",
     "output_type": "stream",
     "text": [
      "1 22 H\n",
      "2 33 e\n",
      "3 55 l\n",
      "4 44 l\n"
     ]
    }
   ],
   "source": [
    "a = [1, 2, 3, 4]\n",
    "b = [22, 33, 4, 55]\n",
    "# for i in range(len(a)):\n",
    "#     print(a[i], b[i])\n",
    "b = [22, 33, 55, 44, 66]\n",
    "c = \"Hello\"\n",
    "for a, b, c in zip(a, b, c):\n",
    "    print(a, b, c)"
   ]
  },
  {
   "cell_type": "code",
   "execution_count": 44,
   "id": "8de674f0af41e231",
   "metadata": {
    "ExecuteTime": {
     "end_time": "2023-08-10T21:01:56.272376400Z",
     "start_time": "2023-08-10T21:01:56.131373Z"
    },
    "collapsed": false
   },
   "outputs": [
    {
     "name": "stdout",
     "output_type": "stream",
     "text": [
      "[(1, 2, 3, 4), (22, 33, 4, 55), ('H', 'e', 'l', 'l')]\n",
      "[(1, 2, 3, 4), (22, 33, 4, 55), ('H', 'e', 'l', 'l')]\n"
     ]
    }
   ],
   "source": [
    "L = [(1,22,\"H\"), (2,33,\"e\"), (3,4,\"l\"), (4,55,\"l\",)]\n",
    "print(list(zip(L[0],L[1],L[2],L[3])))\n",
    "\n",
    "print(list(zip(*L)))"
   ]
  },
  {
   "cell_type": "markdown",
   "id": "24707e58b1edd88e",
   "metadata": {
    "collapsed": false
   },
   "source": [
    "# iter, next"
   ]
  },
  {
   "cell_type": "code",
   "execution_count": 45,
   "id": "4b294ff858d17a19",
   "metadata": {
    "ExecuteTime": {
     "end_time": "2023-08-10T21:04:51.032067400Z",
     "start_time": "2023-08-10T21:04:51.000623300Z"
    },
    "collapsed": false
   },
   "outputs": [
    {
     "name": "stdout",
     "output_type": "stream",
     "text": [
      "a\n",
      "b\n",
      "c\n",
      "d\n",
      "e\n",
      "f\n",
      "g\n"
     ]
    }
   ],
   "source": [
    "s = \"abcdefg\"\n",
    "for c in s:\n",
    "    print(c)"
   ]
  },
  {
   "cell_type": "code",
   "execution_count": 47,
   "id": "49a0ef4f130fbd29",
   "metadata": {
    "ExecuteTime": {
     "end_time": "2023-08-10T21:05:18.724990100Z",
     "start_time": "2023-08-10T21:05:18.710091400Z"
    },
    "collapsed": false
   },
   "outputs": [
    {
     "data": {
      "text/plain": [
       "['a', 'b', 'c', 'd', 'e', 'f', 'g']"
      ]
     },
     "execution_count": 47,
     "metadata": {},
     "output_type": "execute_result"
    }
   ],
   "source": [
    "list(iter(s))"
   ]
  },
  {
   "cell_type": "code",
   "execution_count": 52,
   "id": "893f61b07ef93621",
   "metadata": {
    "ExecuteTime": {
     "end_time": "2023-08-10T21:06:34.249731400Z",
     "start_time": "2023-08-10T21:06:34.233840300Z"
    },
    "collapsed": false
   },
   "outputs": [
    {
     "name": "stdout",
     "output_type": "stream",
     "text": [
      "a\n",
      "b\n",
      "c\n",
      "d\n",
      "e\n",
      "f\n",
      "g\n",
      "*\n"
     ]
    }
   ],
   "source": [
    "it = iter(s)\n",
    "print(next(it, \"*\"))\n",
    "print(next(it, \"*\"))\n",
    "print(next(it, \"*\"))\n",
    "print(next(it, \"*\"))\n",
    "print(next(it, \"*\"))\n",
    "print(next(it, \"*\"))\n",
    "print(next(it, \"*\"))\n",
    "print(next(it, \"*\"))"
   ]
  },
  {
   "cell_type": "code",
   "execution_count": 56,
   "id": "460c4e7314c02c0f",
   "metadata": {
    "ExecuteTime": {
     "end_time": "2023-08-10T21:08:11.256138700Z",
     "start_time": "2023-08-10T21:08:11.119578700Z"
    },
    "collapsed": false
   },
   "outputs": [
    {
     "name": "stdout",
     "output_type": "stream",
     "text": [
      "7\n",
      "a\n",
      "6\n"
     ]
    }
   ],
   "source": [
    "it = iter(s)\n",
    "print(it.__length_hint__())\n",
    "print(next(it))\n",
    "print(it.__length_hint__())\n"
   ]
  },
  {
   "cell_type": "code",
   "execution_count": 58,
   "id": "d4e3769b02180378",
   "metadata": {
    "ExecuteTime": {
     "end_time": "2023-08-10T21:08:52.106760300Z",
     "start_time": "2023-08-10T21:08:48.410252200Z"
    },
    "collapsed": false
   },
   "outputs": [],
   "source": [
    "a = input()"
   ]
  },
  {
   "cell_type": "code",
   "execution_count": 59,
   "id": "3568dbe7c00ead67",
   "metadata": {
    "ExecuteTime": {
     "end_time": "2023-08-10T21:09:16.652447Z",
     "start_time": "2023-08-10T21:09:16.639297400Z"
    },
    "collapsed": false
   },
   "outputs": [
    {
     "data": {
      "text/plain": [
       "<callable_iterator at 0x1f68ed89660>"
      ]
     },
     "execution_count": 59,
     "metadata": {},
     "output_type": "execute_result"
    }
   ],
   "source": [
    "iter(input, \".\")"
   ]
  },
  {
   "cell_type": "code",
   "execution_count": 60,
   "id": "5b7ac18e5217c4",
   "metadata": {
    "ExecuteTime": {
     "end_time": "2023-08-10T21:09:56.435700300Z",
     "start_time": "2023-08-10T21:09:41.346327800Z"
    },
    "collapsed": false
   },
   "outputs": [
    {
     "data": {
      "text/plain": [
       "['python', 'faradars', 'pro', 'hello']"
      ]
     },
     "execution_count": 60,
     "metadata": {},
     "output_type": "execute_result"
    }
   ],
   "source": [
    "list(iter(input, \".\"))"
   ]
  },
  {
   "cell_type": "markdown",
   "id": "34ae809f27b8bf2f",
   "metadata": {
    "collapsed": false
   },
   "source": [
    "# Slice"
   ]
  },
  {
   "cell_type": "code",
   "execution_count": 66,
   "id": "f2f6383d1b927b3",
   "metadata": {
    "ExecuteTime": {
     "end_time": "2023-08-10T21:17:05.238368700Z",
     "start_time": "2023-08-10T21:17:05.222276900Z"
    },
    "collapsed": false
   },
   "outputs": [
    {
     "name": "stdout",
     "output_type": "stream",
     "text": [
      "hel\n",
      "el\n"
     ]
    }
   ],
   "source": [
    "a = \"hello\"\n",
    "print(a[slice(3)])\n",
    "print(a[slice(1,-1, 2)])"
   ]
  },
  {
   "cell_type": "code",
   "execution_count": null,
   "id": "459c039dce5cde93",
   "metadata": {
    "collapsed": false
   },
   "outputs": [],
   "source": []
  }
 ],
 "metadata": {
  "kernelspec": {
   "display_name": "Python 3",
   "language": "python",
   "name": "python3"
  },
  "language_info": {
   "codemirror_mode": {
    "name": "ipython",
    "version": 2
   },
   "file_extension": ".py",
   "mimetype": "text/x-python",
   "name": "python",
   "nbconvert_exporter": "python",
   "pygments_lexer": "ipython2",
   "version": "2.7.6"
  }
 },
 "nbformat": 4,
 "nbformat_minor": 5
}
