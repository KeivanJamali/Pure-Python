{
 "cells": [
  {
   "cell_type": "code",
   "execution_count": 1,
   "metadata": {},
   "outputs": [],
   "source": [
    "import sympy as sp"
   ]
  },
  {
   "cell_type": "code",
   "execution_count": 2,
   "metadata": {},
   "outputs": [
    {
     "data": {
      "text/latex": [
       "$\\displaystyle \\left[\\begin{matrix}m_{1} & 0 & 0\\\\0 & m_{2} & 0\\\\0 & 0 & m_{3}\\end{matrix}\\right]$"
      ],
      "text/plain": [
       "Matrix([\n",
       "[m_1,   0,   0],\n",
       "[  0, m_2,   0],\n",
       "[  0,   0, m_3]])"
      ]
     },
     "execution_count": 2,
     "metadata": {},
     "output_type": "execute_result"
    }
   ],
   "source": [
    "m1, m2, m3, kc = sp.symbols(\"m_1, m_2, m_3, k_c\")\n",
    "k = kc * sp.Matrix([[28, -12, 0], [-12, 20, -8], [0, -8, 8]])\n",
    "m = sp.Matrix([[m1, 0, 0], [0, m2, 0], [0, 0, m3]])\n",
    "m"
   ]
  },
  {
   "cell_type": "code",
   "execution_count": 27,
   "metadata": {},
   "outputs": [
    {
     "data": {
      "text/plain": [
       "{-112.478440422494: 1,\n",
       " -77.1281918042694: 1,\n",
       " -35.6153578350848: 1,\n",
       " 35.6153578350848: 1,\n",
       " 77.1281918042694: 1,\n",
       " 112.478440422494: 1}"
      ]
     },
     "execution_count": 27,
     "metadata": {},
     "output_type": "execute_result"
    }
   ],
   "source": [
    "w = sp.symbols(\"omega\")\n",
    "mat1 = k-(w**2)*m\n",
    "determ = sp.det(k-(w**2)*m)\n",
    "determw = determ.collect(w)\n",
    "equation = determw.subs(kc, 16914.51).subs(m1, 74.916).subs(m2, 41.620).subs(m3, 24.972)\n",
    "equation\n",
    "sp.roots(equation, w)"
   ]
  },
  {
   "cell_type": "code",
   "execution_count": 37,
   "metadata": {},
   "outputs": [
    {
     "data": {
      "text/latex": [
       "$\\displaystyle \\left[\\begin{matrix}-474185.96942771 & -202974.12 & 0\\\\-202974.12 & -188261.049682061 & -135316.08\\\\0 & -135316.08 & -180614.669809237\\end{matrix}\\right]$"
      ],
      "text/plain": [
       "Matrix([\n",
       "[-474185.96942771,        -202974.12,                 0],\n",
       "[      -202974.12, -188261.049682061,        -135316.08],\n",
       "[               0,        -135316.08, -180614.669809237]])"
      ]
     },
     "execution_count": 37,
     "metadata": {},
     "output_type": "execute_result"
    }
   ],
   "source": [
    "mat1.subs(kc, 16914.51).subs(m1, 74.916).subs(m2, 41.620).subs(m3, 24.972).subs(w, 112.478440422494)"
   ]
  },
  {
   "cell_type": "code",
   "execution_count": 75,
   "metadata": {},
   "outputs": [
    {
     "data": {
      "text/latex": [
       "$\\displaystyle 141.508$"
      ],
      "text/plain": [
       "141.508000000000"
      ]
     },
     "execution_count": 75,
     "metadata": {},
     "output_type": "execute_result"
    }
   ],
   "source": [
    "phi = sp.Matrix([[0.41064, -0.71028, 0.57134], [0.76592, -0.09781, -1.3347], [1, 1, 1]])\n",
    "m = m.subs(m1, 74.916).subs(m2, 41.620).subs(m3, 24.972)\n",
    "sum(m)"
   ]
  },
  {
   "cell_type": "code",
   "execution_count": 68,
   "metadata": {},
   "outputs": [],
   "source": [
    "M1 = (phi.col(0).T * m * phi.col(0))[0]\n",
    "M2 = (phi.col(1).T * m * phi.col(1))[0]\n",
    "M3 = (phi.col(2).T * m * phi.col(2))[0]"
   ]
  },
  {
   "cell_type": "code",
   "execution_count": 69,
   "metadata": {},
   "outputs": [
    {
     "data": {
      "text/latex": [
       "$\\displaystyle \\left[\\begin{matrix}1\\\\1\\\\1\\end{matrix}\\right]$"
      ],
      "text/plain": [
       "Matrix([\n",
       "[1],\n",
       "[1],\n",
       "[1]])"
      ]
     },
     "execution_count": 69,
     "metadata": {},
     "output_type": "execute_result"
    }
   ],
   "source": [
    "i = sp.Matrix([[1], [1], [1]])\n",
    "i"
   ]
  },
  {
   "cell_type": "code",
   "execution_count": 71,
   "metadata": {},
   "outputs": [],
   "source": [
    "l1 = (phi.col(0).T * m * i)[0]\n",
    "l2 = (phi.col(1).T * m * i)[0]\n",
    "l3 = (phi.col(2).T * m * i)[0]"
   ]
  },
  {
   "cell_type": "code",
   "execution_count": 74,
   "metadata": {},
   "outputs": [
    {
     "data": {
      "text/latex": [
       "$\\displaystyle 1.20930458075031$"
      ],
      "text/plain": [
       "1.20930458075031"
      ]
     },
     "execution_count": 74,
     "metadata": {},
     "output_type": "execute_result"
    }
   ],
   "source": [
    "l3**2/M3"
   ]
  },
  {
   "cell_type": "code",
   "execution_count": null,
   "metadata": {},
   "outputs": [],
   "source": []
  }
 ],
 "metadata": {
  "kernelspec": {
   "display_name": "Python 3",
   "language": "python",
   "name": "python3"
  },
  "language_info": {
   "codemirror_mode": {
    "name": "ipython",
    "version": 3
   },
   "file_extension": ".py",
   "mimetype": "text/x-python",
   "name": "python",
   "nbconvert_exporter": "python",
   "pygments_lexer": "ipython3",
   "version": "3.12.1"
  }
 },
 "nbformat": 4,
 "nbformat_minor": 2
}
