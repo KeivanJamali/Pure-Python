{
 "cells": [
  {
   "cell_type": "code",
   "execution_count": null,
   "outputs": [],
   "source": [
    "%load_ext autoreload\n",
    "%autoreload 2\n",
    "import toolkit_env as te\n",
    "import colors_kit\n",
    "import scipy\n",
    "import numpy as np"
   ],
   "metadata": {
    "collapsed": false,
    "is_executing": true
   }
  },
  {
   "cell_type": "code",
   "execution_count": 9,
   "outputs": [
    {
     "name": "stdout",
     "output_type": "stream",
     "text": [
      "3038\n"
     ]
    }
   ],
   "source": [
    "m = 1000  # kg\n",
    "d = 68  # m\n",
    "dx = 4.5 * 10 ** -5  # m^2 /s\n",
    "dy = 6.5 * 10 ** -5  # m^2 /s\n",
    "distance = 100  # m\n",
    "time_start = 1  # hour\n",
    "time_end = 5  # hour\n",
    "q1 = te.Transport(m, dx, dy)\n",
    "color = []\n",
    "for i in colors_kit.color4:\n",
    "    for j in i:\n",
    "        for k in range(7):\n",
    "            color.append(j)\n",
    "print(len(color))"
   ],
   "metadata": {
    "collapsed": false,
    "ExecuteTime": {
     "end_time": "2023-06-27T18:30:12.006314600Z",
     "start_time": "2023-06-27T18:30:11.903966800Z"
    }
   }
  },
  {
   "cell_type": "code",
   "execution_count": 10,
   "outputs": [],
   "source": [
    "distance = 100 // 2  # m\n",
    "time_scale = 1  # hour\n",
    "time_scale = int(1 / time_scale)\n",
    "time_nodes = []\n",
    "iteration = -1\n",
    "for t in range(time_start * time_scale, (time_end + 1) * time_scale):\n",
    "    t /= time_scale\n",
    "    t *= 3600\n",
    "    iteration += 1\n",
    "    time_nodes.append([])\n",
    "    for x in range(-distance * 10, distance * 10):\n",
    "        x /= 10\n",
    "        for y in range(-distance * 10, distance * 10):\n",
    "            y /= 10\n",
    "            c = q1.diffusion(2, t, x, y, L=d)\n",
    "            time_nodes[iteration].append(te.Point(x, y, c=c))"
   ],
   "metadata": {
    "collapsed": false,
    "ExecuteTime": {
     "end_time": "2023-06-27T18:30:35.110397600Z",
     "start_time": "2023-06-27T18:30:12.410023900Z"
    }
   }
  },
  {
   "cell_type": "code",
   "execution_count": 32,
   "outputs": [
    {
     "name": "stdout",
     "output_type": "stream",
     "text": [
      "[1.11111111e+08]\n"
     ]
    }
   ],
   "source": [
    "D = dx\n",
    "v = [0, -0.8, -0.4]\n",
    "vx = v[0]\n",
    "def f(t):\n",
    "    return 2 * (0.5 * np.sqrt(2 * D * t)) + vx * t - 100\n",
    "myroot = scipy.optimize.root(f, 1)\n",
    "print(myroot.x)"
   ],
   "metadata": {
    "collapsed": false,
    "ExecuteTime": {
     "end_time": "2023-06-27T19:02:54.359208400Z",
     "start_time": "2023-06-27T19:02:54.262656900Z"
    }
   }
  },
  {
   "cell_type": "code",
   "execution_count": null,
   "outputs": [],
   "source": [],
   "metadata": {
    "collapsed": false
   }
  }
 ],
 "metadata": {
  "kernelspec": {
   "display_name": "Python 3",
   "language": "python",
   "name": "python3"
  },
  "language_info": {
   "codemirror_mode": {
    "name": "ipython",
    "version": 2
   },
   "file_extension": ".py",
   "mimetype": "text/x-python",
   "name": "python",
   "nbconvert_exporter": "python",
   "pygments_lexer": "ipython2",
   "version": "2.7.6"
  }
 },
 "nbformat": 4,
 "nbformat_minor": 0
}
