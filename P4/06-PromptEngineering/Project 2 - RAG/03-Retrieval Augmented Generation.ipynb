{
 "cells": [
  {
   "cell_type": "code",
   "execution_count": 1,
   "metadata": {},
   "outputs": [],
   "source": [
    "human_eye_info = [\n",
    "    \"The human eye is an incredible and intricate organ that allows us to perceive the world around us.\",\n",
    "    \"It converts light into neural signals, which the brain interprets to form visual images.\",\n",
    "    \"This process requires the coordinated action of numerous specialized structures, each playing a unique role.\",\n",
    "    \"The eye's structure is complex, comprising several key parts.\",\n",
    "    \"The cornea is the eye's outermost layer and works as the window that focuses and controls the entry of light.\",\n",
    "    \"It is transparent, dome-shaped, and acts as a primary lens, refracting light onto the inner structures.\",\n",
    "    \"The sclera, or the 'white of the eye,' is a tough, fibrous tissue that protects the eye and provides attachment points for muscles.\",\n",
    "    \"The iris is the colored part of the eye and contains muscles that expand and contract to control the size of the pupil.\",\n",
    "    \"The pupil, the black circular opening in the iris, adjusts to allow more or less light into the eye.\",\n",
    "    \"It dilates in low light and constricts in bright light, adapting to maintain optimal vision.\",\n",
    "    \"Located behind the iris, the lens fine-tunes the focus by adjusting its shape, thanks to the ciliary muscles that alter its curvature.\",\n",
    "    \"The retina is a layer of tissue at the back of the eye containing photoreceptor cells (rods and cones) that detect light and send electrical signals to the brain.\",\n",
    "    \"The macula is a small, central area in the retina responsible for high-resolution vision.\",\n",
    "    \"The fovea, within the macula, is essential for sharp, detailed central vision.\",\n",
    "    \"The optic nerve transmits visual information from the retina to the brain, where interpretation occurs.\",\n",
    "    \"Vision involves a series of steps as light enters the eye and is converted into images.\",\n",
    "    \"Light passes through the cornea, which refracts and bends the light.\",\n",
    "    \"The cornea and lens work together to focus the light onto the retina.\",\n",
    "    \"The lens further adjusts its curvature to ensure that light rays focus correctly on the retina, producing a sharp image.\",\n",
    "    \"The retina contains millions of rods and cones.\",\n",
    "    \"Rods are more sensitive to light and allow us to see in dim lighting, while cones provide color vision and detail.\",\n",
    "    \"Photoreceptors convert light into electrical impulses, which travel through the optic nerve to the brain's visual cortex.\",\n",
    "    \"The brain processes these signals to form the images we perceive.\",\n",
    "    \"Rods are highly sensitive and help us see in low-light conditions.\",\n",
    "    \"They are more numerous and are responsible for peripheral and night vision.\",\n",
    "    \"Cones are concentrated in the fovea and allow us to see fine detail and color.\",\n",
    "    \"There are three types of cones, each sensitive to different wavelengths of light (red, green, and blue).\",\n",
    "    \"Refractive errors, including myopia (nearsightedness), hyperopia (farsightedness), and astigmatism, are caused by irregularities in the cornea or lens.\",\n",
    "    \"Cataracts occur when the lens becomes cloudy, leading to blurred vision.\",\n",
    "    \"They are common with aging and can be corrected surgically.\",\n",
    "    \"Glaucoma is a group of eye diseases that damage the optic nerve, often due to increased pressure in the eye.\",\n",
    "    \"It can result in vision loss if untreated.\",\n",
    "    \"Age-related macular degeneration (AMD) affects the central vision due to the deterioration of the macula.\",\n",
    "    \"Diabetic retinopathy occurs when high blood sugar damages blood vessels in the retina, potentially leading to blindness if untreated.\",\n",
    "    \"Regular eye exams, protective eyewear, and maintaining a healthy lifestyle can prevent many eye problems.\",\n",
    "    \"Avoiding excessive screen time, protecting eyes from UV rays, and managing chronic health conditions are also vital.\",\n",
    "    \"The human eye is a marvel of biology, intricately designed to convert light into visual images that allow us to perceive and navigate our surroundings.\",\n",
    "    \"Understanding the anatomy and function of the eye, along with common disorders, can help us take better care of this essential organ.\",\n",
    "    \"KeivanJamali live in Yazd.\"\n",
    "]\n"
   ]
  },
  {
   "cell_type": "markdown",
   "metadata": {},
   "source": [
    "# Tokenization and embedding\n"
   ]
  },
  {
   "cell_type": "code",
   "execution_count": 2,
   "metadata": {},
   "outputs": [
    {
     "ename": "ModuleNotFoundError",
     "evalue": "No module named 'faiss'",
     "output_type": "error",
     "traceback": [
      "\u001b[1;31m---------------------------------------------------------------------------\u001b[0m",
      "\u001b[1;31mModuleNotFoundError\u001b[0m                       Traceback (most recent call last)",
      "Cell \u001b[1;32mIn[2], line 1\u001b[0m\n\u001b[1;32m----> 1\u001b[0m \u001b[38;5;28;01mimport\u001b[39;00m \u001b[38;5;21;01mfaiss\u001b[39;00m\n\u001b[0;32m      2\u001b[0m \u001b[38;5;28;01mimport\u001b[39;00m \u001b[38;5;21;01mnumpy\u001b[39;00m \u001b[38;5;28;01mas\u001b[39;00m \u001b[38;5;21;01mnp\u001b[39;00m\n\u001b[0;32m      3\u001b[0m \u001b[38;5;28;01mimport\u001b[39;00m \u001b[38;5;21;01mtorch\u001b[39;00m\n",
      "\u001b[1;31mModuleNotFoundError\u001b[0m: No module named 'faiss'"
     ]
    }
   ],
   "source": [
    "import faiss\n",
    "import numpy as np\n",
    "import torch\n",
    "from transformers import AutoTokenizer, AutoModel\n"
   ]
  },
  {
   "cell_type": "code",
   "execution_count": 3,
   "metadata": {},
   "outputs": [],
   "source": [
    "# Initialize the tokenizer and model for generating embeddings.\n",
    "tokenizer = AutoTokenizer.from_pretrained(\"sentence-transformers/paraphrase-MiniLM-L6-V2\")\n",
    "model = AutoModel.from_pretrained(\"sentence-transformers/paraphrase-MiniLM-L6-V2\")"
   ]
  },
  {
   "cell_type": "code",
   "execution_count": 4,
   "metadata": {},
   "outputs": [],
   "source": [
    "# Function to tokenize the input and generate its embeddings\n",
    "def embed_text(text, tokenizer, model):\n",
    "    # Tokenize the input text, return tensors in pytorch, apply padding and truncation\n",
    "    inputs = tokenizer(text,\n",
    "                       return_tensors=\"pt\",\n",
    "                       padding=True,\n",
    "                       truncation=True)\n",
    "    \n",
    "    # Disable gradient calculation\n",
    "    with torch.inference_mode():\n",
    "        # pass the tokenized inputs through the model to the last state\n",
    "        embeddings = model(**inputs).last_hidden_state\n",
    "\n",
    "        # get the embeddings from the model\n",
    "        embeddings = embeddings.mean(dim=1)\n",
    "\n",
    "    return embeddings"
   ]
  },
  {
   "cell_type": "code",
   "execution_count": 5,
   "metadata": {},
   "outputs": [],
   "source": [
    "# Initialize a list to stoe the embddings\n",
    "document_embeddings = []\n",
    "\n",
    "# loop through the documents to compute the embeddings\n",
    "for doc in human_eye_info:\n",
    "    doc_embedding = embed_text(doc, tokenizer, model)\n",
    "    document_embeddings.append(doc_embedding)"
   ]
  },
  {
   "cell_type": "code",
   "execution_count": 6,
   "metadata": {},
   "outputs": [
    {
     "data": {
      "text/plain": [
       "array([[-9.53816227e-04,  1.08257189e-01, -3.05746794e-01, ...,\n",
       "         2.97097623e-01,  4.49789874e-02, -1.77720591e-01],\n",
       "       [-6.39171079e-02, -2.55471796e-01, -1.38776256e-02, ...,\n",
       "         7.94618487e-01,  2.01459453e-01, -3.56312662e-01],\n",
       "       [-2.11764693e-01,  3.38874236e-02, -2.10659251e-01, ...,\n",
       "         5.02929501e-02,  3.35229337e-01, -1.12758599e-01],\n",
       "       ...,\n",
       "       [-1.10684074e-01,  1.27678392e-02, -2.23860085e-01, ...,\n",
       "         3.44089419e-01,  2.20527858e-01, -2.00841233e-01],\n",
       "       [ 3.70444283e-02, -1.27591178e-01,  6.67935237e-02, ...,\n",
       "         3.61070693e-01,  4.62078869e-01,  7.47982189e-02],\n",
       "       [ 4.47124720e-01,  5.52255452e-01,  7.55414367e-05, ...,\n",
       "        -3.41778129e-01, -3.60967070e-01, -3.35635424e-01]], dtype=float32)"
      ]
     },
     "execution_count": 6,
     "metadata": {},
     "output_type": "execute_result"
    }
   ],
   "source": [
    "# Concatanate all embeddings into a pytorch tensor, move it to the cpu, and convert to numpy array.\n",
    "document_embeddings = torch.cat(document_embeddings).cpu().numpy()\n",
    "document_embeddings"
   ]
  },
  {
   "cell_type": "code",
   "execution_count": 7,
   "metadata": {},
   "outputs": [],
   "source": [
    "index = faiss.IndexFlatL2(document_embeddings.shape[1])\n",
    "index.add(document_embeddings)"
   ]
  },
  {
   "cell_type": "code",
   "execution_count": 8,
   "metadata": {},
   "outputs": [],
   "source": [
    "# Retrieval -> Build a functino to retreve information\n",
    "\n",
    "def retrieve(query, tokenizer, model, index, documents, top_k=3):\n",
    "    query_embedding = embed_text(query, tokenizer, model).cpu().numpy()\n",
    "    if len(query_embedding.shape) == 1:\n",
    "        query_embedding = query_embedding.reshape(1, -1)\n",
    "    distances, indices = index.search(query_embedding, top_k)\n",
    "    return [documents[i] for i in indices[0]], distances[0]"
   ]
  },
  {
   "cell_type": "code",
   "execution_count": 9,
   "metadata": {},
   "outputs": [
    {
     "ename": "",
     "evalue": "",
     "output_type": "error",
     "traceback": [
      "\u001b[1;31mThe Kernel crashed while executing code in the current cell or a previous cell. \n",
      "\u001b[1;31mPlease review the code in the cell(s) to identify a possible cause of the failure. \n",
      "\u001b[1;31mClick <a href='https://aka.ms/vscodeJupyterKernelCrash'>here</a> for more info. \n",
      "\u001b[1;31mView Jupyter <a href='command:jupyter.viewOutput'>log</a> for further details."
     ]
    }
   ],
   "source": [
    "# Test the function\n",
    "query = \"What are lenses?\"\n",
    "query = \"Where is keivan jamali come from?\"\n",
    "retrieved_docs, distances = retrieve(query, tokenizer, model, index, human_eye_info, top_k=3)\n"
   ]
  },
  {
   "cell_type": "code",
   "execution_count": null,
   "metadata": {},
   "outputs": [],
   "source": []
  }
 ],
 "metadata": {
  "kernelspec": {
   "display_name": "Python 3",
   "language": "python",
   "name": "python3"
  },
  "language_info": {
   "codemirror_mode": {
    "name": "ipython",
    "version": 3
   },
   "file_extension": ".py",
   "mimetype": "text/x-python",
   "name": "python",
   "nbconvert_exporter": "python",
   "pygments_lexer": "ipython3",
   "version": "3.11.5"
  }
 },
 "nbformat": 4,
 "nbformat_minor": 2
}
