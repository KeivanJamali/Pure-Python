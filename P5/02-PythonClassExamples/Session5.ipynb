{
 "cells": [
  {
   "cell_type": "code",
   "execution_count": 1,
   "id": "bee6d0b5",
   "metadata": {},
   "outputs": [],
   "source": [
    "%load_ext autoreload\n",
    "%autoreload 2"
   ]
  },
  {
   "cell_type": "code",
   "execution_count": 2,
   "id": "ee7c181f",
   "metadata": {},
   "outputs": [],
   "source": [
    "from codes import *"
   ]
  },
  {
   "cell_type": "code",
   "execution_count": 3,
   "id": "52d8bc1c",
   "metadata": {},
   "outputs": [
    {
     "data": {
      "text/plain": [
       "233168"
      ]
     },
     "execution_count": 3,
     "metadata": {},
     "output_type": "execute_result"
    }
   ],
   "source": [
    "sum(multiples_of_numbers(1000, [3, 5]))"
   ]
  },
  {
   "cell_type": "code",
   "execution_count": 9,
   "id": "d02e8ab6",
   "metadata": {},
   "outputs": [
    {
     "data": {
      "text/plain": [
       "5761617"
      ]
     },
     "execution_count": 9,
     "metadata": {},
     "output_type": "execute_result"
    }
   ],
   "source": [
    "len(prime_provider(n=100_000_000))"
   ]
  },
  {
   "cell_type": "code",
   "execution_count": null,
   "id": "70e4009e",
   "metadata": {},
   "outputs": [],
   "source": []
  }
 ],
 "metadata": {
  "kernelspec": {
   "display_name": "Python 3",
   "language": "python",
   "name": "python3"
  },
  "language_info": {
   "codemirror_mode": {
    "name": "ipython",
    "version": 3
   },
   "file_extension": ".py",
   "mimetype": "text/x-python",
   "name": "python",
   "nbconvert_exporter": "python",
   "pygments_lexer": "ipython3",
   "version": "3.13.5"
  }
 },
 "nbformat": 4,
 "nbformat_minor": 5
}
