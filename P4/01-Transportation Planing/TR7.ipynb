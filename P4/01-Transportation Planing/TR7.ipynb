{
 "cells": [
  {
   "cell_type": "code",
   "execution_count": 3,
   "metadata": {},
   "outputs": [
    {
     "name": "stdout",
     "output_type": "stream",
     "text": [
      "Optimal objective value: 43000.0\n",
      "v12: 500.00000000002257\n",
      "v13: 499.99999999997743\n",
      "v24: 500.00000000002257\n",
      "v34: 499.99999999997743\n"
     ]
    }
   ],
   "source": [
    "import cvxpy as cp\n",
    "\n",
    "# Variables\n",
    "v12 = cp.Variable()\n",
    "v13 = cp.Variable()\n",
    "v24 = cp.Variable()\n",
    "v34 = cp.Variable()\n",
    "\n",
    "# Objective function\n",
    "objective = cp.Minimize(\n",
    "    (10 * v12 + 0.005 * v12**2) +\n",
    "    (30 * v13 + 0.001 * v13**2) +\n",
    "    (30 * v24 + 0.001 * v24**2) +\n",
    "    (10 * v34 + 0.005 * v34**2)\n",
    ")\n",
    "\n",
    "# Constraints\n",
    "constraints = [\n",
    "    v12 + v13 == 1000,       # At Node 1 (Origin)\n",
    "    v24 + v34 == 1000,       # At Node 4 (Destination)\n",
    "    v12 == v24,              # Flow conservation at Node 2\n",
    "    v13 == v34               # Flow conservation at Node 3\n",
    "]\n",
    "\n",
    "# Problem definition\n",
    "problem = cp.Problem(objective, constraints)\n",
    "\n",
    "# Solve\n",
    "solution = problem.solve()\n",
    "\n",
    "# Output results\n",
    "print(\"Optimal objective value:\", solution)\n",
    "print(\"v12:\", v12.value)\n",
    "print(\"v13:\", v13.value)\n",
    "print(\"v24:\", v24.value)\n",
    "print(\"v34:\", v34.value)\n"
   ]
  },
  {
   "cell_type": "code",
   "execution_count": 4,
   "metadata": {},
   "outputs": [
    {
     "name": "stdout",
     "output_type": "stream",
     "text": [
      "Optimal objective value: 42968.75000000001\n",
      "v12: 531.2499999938918\n",
      "v13: 468.75000000610817\n",
      "v24: 468.7500000060662\n",
      "v34: 531.2499999939338\n",
      "v23: 62.49999998782564\n"
     ]
    }
   ],
   "source": [
    "import cvxpy as cp\n",
    "\n",
    "# Variables\n",
    "v12 = cp.Variable()\n",
    "v13 = cp.Variable()\n",
    "v24 = cp.Variable()\n",
    "v34 = cp.Variable()\n",
    "v23 = cp.Variable()\n",
    "\n",
    "# Objective function\n",
    "objective = cp.Minimize(\n",
    "    (10 * v12 + 0.005 * v12**2) +\n",
    "    (30 * v13 + 0.001 * v13**2) +\n",
    "    (30 * v24 + 0.001 * v24**2) +\n",
    "    (10 * v34 + 0.005 * v34**2) +\n",
    "    (15 * v23 + 0.005 * v23**2)\n",
    ")\n",
    "\n",
    "# Constraints\n",
    "constraints = [\n",
    "    v12 + v13 == 1000,       # At Node 1 (Origin)\n",
    "    v24 + v34 == 1000,       # At Node 4 (Destination)\n",
    "    v12 == v24 + v23,              # Flow conservation at Node 2\n",
    "    v13 + v23 == v34               # Flow conservation at Node 3\n",
    "]\n",
    "\n",
    "# Problem definition\n",
    "problem = cp.Problem(objective, constraints)\n",
    "\n",
    "# Solve\n",
    "solution = problem.solve()\n",
    "\n",
    "# Output results\n",
    "print(\"Optimal objective value:\", solution)\n",
    "print(\"v12:\", v12.value)\n",
    "print(\"v13:\", v13.value)\n",
    "print(\"v24:\", v24.value)\n",
    "print(\"v34:\", v34.value)\n",
    "print(\"v23:\", v23.value)\n"
   ]
  },
  {
   "cell_type": "code",
   "execution_count": null,
   "metadata": {},
   "outputs": [],
   "source": []
  }
 ],
 "metadata": {
  "kernelspec": {
   "display_name": "Python 3",
   "language": "python",
   "name": "python3"
  },
  "language_info": {
   "codemirror_mode": {
    "name": "ipython",
    "version": 3
   },
   "file_extension": ".py",
   "mimetype": "text/x-python",
   "name": "python",
   "nbconvert_exporter": "python",
   "pygments_lexer": "ipython3",
   "version": "3.12.1"
  }
 },
 "nbformat": 4,
 "nbformat_minor": 2
}
