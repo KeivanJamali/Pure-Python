{
 "cells": [
  {
   "cell_type": "code",
   "execution_count": 3,
   "id": "73cf4f26",
   "metadata": {},
   "outputs": [],
   "source": [
    "%load_ext autoreload\n",
    "%autoreload 2"
   ]
  },
  {
   "cell_type": "code",
   "execution_count": 1,
   "id": "9a6d1db9",
   "metadata": {},
   "outputs": [],
   "source": [
    "from Validation import Validation_Tools"
   ]
  },
  {
   "cell_type": "code",
   "execution_count": 4,
   "id": "453848cb",
   "metadata": {},
   "outputs": [
    {
     "name": "stdout",
     "output_type": "stream",
     "text": [
      "[INFO] 'data1' data added to the storage with Mean:1200.0 and Variance:1520.0.\n",
      "[INFO] 'data2' data added to the storage with Mean:1060.0 and Variance:1800.0.\n",
      "[INFO] 'data3' data added to the storage with Mean:1020.0 and Variance:1400.0.\n"
     ]
    }
   ],
   "source": [
    "data1 = [1240, 1170, 1190, 1150, 1250, 1200]\n",
    "data2 = [1020, 1080, 1100, 1110, 1040, 1010]\n",
    "data3 = [1040, 970, 1000, 1080, 1020, 1010]\n",
    "valid = Validation_Tools(data_list=[data1, data2, data3], name_list=[\"data1\", \"data2\", \"data3\"])"
   ]
  },
  {
   "cell_type": "code",
   "execution_count": 6,
   "id": "fc2b898a",
   "metadata": {},
   "outputs": [
    {
     "name": "stdout",
     "output_type": "stream",
     "text": [
      "[INFO] Great. Now please add up to 233 sample data. So you need 227 more runs. Refine the data and run it with 2ed step parameter :)\n"
     ]
    }
   ],
   "source": [
    "r = valid.multiple_comparison_with_best(data_list=[\"data1\", \"data2\", \"data3\"], alpha=0.2, epsilon=10, more_less=\"less\", step=1)\n",
    "r"
   ]
  },
  {
   "cell_type": "code",
   "execution_count": 7,
   "id": "e7554087",
   "metadata": {},
   "outputs": [
    {
     "name": "stdout",
     "output_type": "stream",
     "text": [
      "[INFO] 'data1' data added to the storage with Mean:1200.0 and Variance:32.758620689655174.\n",
      "[INFO] 'data2' data added to the storage with Mean:1060.0 and Variance:38.793103448275865.\n",
      "[INFO] 'data3' data added to the storage with Mean:1020.0 and Variance:30.17241379310345.\n"
     ]
    }
   ],
   "source": [
    "data1 = [1240, 1170, 1190, 1150, 1250, 1200]\n",
    "data_more = [1200 for _ in range(227)]\n",
    "data1 = data1 + data_more\n",
    "data2 = [1020, 1080, 1100, 1110, 1040, 1010]\n",
    "data_more = [1060 for _ in range(227)]\n",
    "data2 = data2 + data_more\n",
    "data3 = [1040, 970, 1000, 1080, 1020, 1010]\n",
    "data_more = [1020 for _ in range(227)]\n",
    "data3 = data3 + data_more\n",
    "valid = Validation_Tools(data_list=[data1, data2, data3], name_list=[\"data1\", \"data2\", \"data3\"])"
   ]
  },
  {
   "cell_type": "code",
   "execution_count": 8,
   "id": "240ae6cd",
   "metadata": {},
   "outputs": [
    {
     "name": "stdout",
     "output_type": "stream",
     "text": [
      "data3\n",
      "We need to see all positive numbers.\n"
     ]
    },
    {
     "data": {
      "application/vnd.microsoft.datawrangler.viewer.v0+json": {
       "columns": [
        {
         "name": "index",
         "rawType": "object",
         "type": "string"
        },
        {
         "name": "mean(Y_bar)",
         "rawType": "float64",
         "type": "float"
        },
        {
         "name": "Yi - Yi* + e",
         "rawType": "float64",
         "type": "float"
        }
       ],
       "conversionMethod": "pd.DataFrame",
       "ref": "b161d049-dc9e-4203-873b-d21122627804",
       "rows": [
        [
         "data1",
         "1200.0",
         "170.0"
        ],
        [
         "data2",
         "1060.0",
         "30.0"
        ],
        [
         "data3",
         "1020.0",
         "-10.0"
        ]
       ],
       "shape": {
        "columns": 2,
        "rows": 3
       }
      },
      "text/html": [
       "<div>\n",
       "<style scoped>\n",
       "    .dataframe tbody tr th:only-of-type {\n",
       "        vertical-align: middle;\n",
       "    }\n",
       "\n",
       "    .dataframe tbody tr th {\n",
       "        vertical-align: top;\n",
       "    }\n",
       "\n",
       "    .dataframe thead th {\n",
       "        text-align: right;\n",
       "    }\n",
       "</style>\n",
       "<table border=\"1\" class=\"dataframe\">\n",
       "  <thead>\n",
       "    <tr style=\"text-align: right;\">\n",
       "      <th></th>\n",
       "      <th>mean(Y_bar)</th>\n",
       "      <th>Yi - Yi* + e</th>\n",
       "    </tr>\n",
       "  </thead>\n",
       "  <tbody>\n",
       "    <tr>\n",
       "      <th>data1</th>\n",
       "      <td>1200.0</td>\n",
       "      <td>170.0</td>\n",
       "    </tr>\n",
       "    <tr>\n",
       "      <th>data2</th>\n",
       "      <td>1060.0</td>\n",
       "      <td>30.0</td>\n",
       "    </tr>\n",
       "    <tr>\n",
       "      <th>data3</th>\n",
       "      <td>1020.0</td>\n",
       "      <td>-10.0</td>\n",
       "    </tr>\n",
       "  </tbody>\n",
       "</table>\n",
       "</div>"
      ],
      "text/plain": [
       "       mean(Y_bar)  Yi - Yi* + e\n",
       "data1       1200.0         170.0\n",
       "data2       1060.0          30.0\n",
       "data3       1020.0         -10.0"
      ]
     },
     "execution_count": 8,
     "metadata": {},
     "output_type": "execute_result"
    }
   ],
   "source": [
    "r = valid.multiple_comparison_with_best(data_list=[\"data1\", \"data2\", \"data3\"], alpha=0.2, epsilon=10, more_less=\"less\", step=2)\n",
    "r"
   ]
  },
  {
   "cell_type": "code",
   "execution_count": 9,
   "id": "76c9a00b",
   "metadata": {},
   "outputs": [
    {
     "data": {
      "text/plain": [
       "{'M.C. with the best':        mean(Y_bar)  Yi - Yi* + e\n",
       " data1       1200.0         170.0\n",
       " data2       1060.0          30.0\n",
       " data3       1020.0         -10.0}"
      ]
     },
     "execution_count": 9,
     "metadata": {},
     "output_type": "execute_result"
    }
   ],
   "source": [
    "valid.comparisons"
   ]
  },
  {
   "cell_type": "code",
   "execution_count": null,
   "id": "a589c528",
   "metadata": {},
   "outputs": [],
   "source": []
  }
 ],
 "metadata": {
  "kernelspec": {
   "display_name": "Python 3",
   "language": "python",
   "name": "python3"
  },
  "language_info": {
   "codemirror_mode": {
    "name": "ipython",
    "version": 3
   },
   "file_extension": ".py",
   "mimetype": "text/x-python",
   "name": "python",
   "nbconvert_exporter": "python",
   "pygments_lexer": "ipython3",
   "version": "3.12.1"
  }
 },
 "nbformat": 4,
 "nbformat_minor": 5
}
