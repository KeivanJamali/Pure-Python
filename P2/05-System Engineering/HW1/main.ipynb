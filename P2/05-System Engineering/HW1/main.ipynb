{
 "cells": [
  {
   "cell_type": "code",
   "execution_count": 1,
   "id": "initial_id",
   "metadata": {
    "collapsed": true,
    "ExecuteTime": {
     "end_time": "2024-02-26T20:25:58.847623300Z",
     "start_time": "2024-02-26T20:25:58.163881300Z"
    }
   },
   "outputs": [],
   "source": [
    "%load_ext autoreload\n",
    "%autoreload 2\n",
    "from Simplex import Simplex"
   ]
  },
  {
   "cell_type": "markdown",
   "source": [
    "## Question 1"
   ],
   "metadata": {
    "collapsed": false
   },
   "id": "5bf2fdb11fd46eba"
  },
  {
   "cell_type": "code",
   "outputs": [
    {
     "name": "stdout",
     "output_type": "stream",
     "text": [
      "|    |    x1 |    x2 |   s1 |   s2 |    s3 |   Optimal value |\n",
      "|----|-------|-------|------|------|-------|-----------------|\n",
      "|  0 | 50.88 | 31.68 | 0.00 | 0.00 | 28.80 |         1238.40 |\n"
     ]
    }
   ],
   "source": [
    "###  Simplex\n",
    "objective_function = [-15., -15., 0., 0., 0., 0]\n",
    "constraints_function = [[6., 4., 1., 0., 0., 432.],\n",
    "                        [5., 5., 0., 1., 0., 412.8],\n",
    "                        [4., 6., 0., 0., 1., 422.4]]\n",
    "parameters = [\"x1\", \"x2\"]\n",
    "\n",
    "model = Simplex(objective_function, parameters=parameters, decimal=2)\n",
    "model.fit(constraints_function)"
   ],
   "metadata": {
    "collapsed": false,
    "ExecuteTime": {
     "end_time": "2024-02-26T20:26:01.122467Z",
     "start_time": "2024-02-26T20:26:01.049109700Z"
    }
   },
   "id": "d2f46dbd6e63c782",
   "execution_count": 2
  },
  {
   "cell_type": "code",
   "outputs": [
    {
     "name": "stdout",
     "output_type": "stream",
     "text": [
      "| parameter   |     x1 |     x2 |    s1 |    s2 |   s3 |   Optimal value |\n",
      "|-------------|--------|--------|-------|-------|------|-----------------|\n",
      "| s1          |   6.00 |   4.00 |  1.00 |  0.00 | 0.00 |          432.00 |\n",
      "| s2          |   5.00 |   5.00 |  0.00 |  1.00 | 0.00 |          412.80 |\n",
      "| s3          |   4.00 |   6.00 |  0.00 |  0.00 | 1.00 |          422.40 |\n",
      "| z1          | -15.00 | -15.00 |  0.00 |  0.00 | 0.00 |            0.00 |\n",
      "| x1          |   1.00 |   0.67 |  0.17 |  0.00 | 0.00 |           72.00 |\n",
      "| s2          |   0.00 |   1.67 | -0.83 |  1.00 | 0.00 |           52.80 |\n",
      "| s3          |   0.00 |   3.33 | -0.67 |  0.00 | 1.00 |          134.40 |\n",
      "| z2          |   0.00 |  -5.00 |  2.50 |  0.00 | 0.00 |         1080.00 |\n",
      "| x1          |   1.00 |   0.00 |  0.50 | -0.40 | 0.00 |           50.88 |\n",
      "| x2          |   0.00 |   1.00 | -0.50 |  0.60 | 0.00 |           31.68 |\n",
      "| s3          |   0.00 |   0.00 |  1.00 | -2.00 | 1.00 |           28.80 |\n",
      "| z3          |   0.00 |   0.00 |  0.00 |  3.00 | 0.00 |         1238.40 |\n"
     ]
    }
   ],
   "source": [
    "model.make_table()"
   ],
   "metadata": {
    "collapsed": false,
    "ExecuteTime": {
     "end_time": "2024-02-26T20:26:11.148725500Z",
     "start_time": "2024-02-26T20:26:11.082875600Z"
    }
   },
   "id": "56b3d9277cf567d6",
   "execution_count": 3
  },
  {
   "cell_type": "markdown",
   "source": [
    "### Question 4"
   ],
   "metadata": {
    "collapsed": false
   },
   "id": "144dfe87496ae2b6"
  },
  {
   "cell_type": "code",
   "outputs": [
    {
     "ename": "KeyboardInterrupt",
     "evalue": "",
     "output_type": "error",
     "traceback": [
      "\u001B[1;31m---------------------------------------------------------------------------\u001B[0m",
      "\u001B[1;31mKeyboardInterrupt\u001B[0m                         Traceback (most recent call last)",
      "Cell \u001B[1;32mIn[7], line 15\u001B[0m\n\u001B[0;32m     12\u001B[0m parameters \u001B[38;5;241m=\u001B[39m [\u001B[38;5;124m\"\u001B[39m\u001B[38;5;124mA1\u001B[39m\u001B[38;5;124m\"\u001B[39m, \u001B[38;5;124m\"\u001B[39m\u001B[38;5;124mA2\u001B[39m\u001B[38;5;124m\"\u001B[39m, \u001B[38;5;124m\"\u001B[39m\u001B[38;5;124mA3\u001B[39m\u001B[38;5;124m\"\u001B[39m, \u001B[38;5;124m\"\u001B[39m\u001B[38;5;124mB1\u001B[39m\u001B[38;5;124m\"\u001B[39m, \u001B[38;5;124m\"\u001B[39m\u001B[38;5;124mB2\u001B[39m\u001B[38;5;124m\"\u001B[39m, \u001B[38;5;124m\"\u001B[39m\u001B[38;5;124mB3\u001B[39m\u001B[38;5;124m\"\u001B[39m, \u001B[38;5;124m\"\u001B[39m\u001B[38;5;124mC1\u001B[39m\u001B[38;5;124m\"\u001B[39m, \u001B[38;5;124m\"\u001B[39m\u001B[38;5;124mC2\u001B[39m\u001B[38;5;124m\"\u001B[39m, \u001B[38;5;124m\"\u001B[39m\u001B[38;5;124mC3\u001B[39m\u001B[38;5;124m\"\u001B[39m]\n\u001B[0;32m     14\u001B[0m model \u001B[38;5;241m=\u001B[39m Simplex(objective_function, parameters\u001B[38;5;241m=\u001B[39mparameters, decimal\u001B[38;5;241m=\u001B[39m\u001B[38;5;241m2\u001B[39m)\n\u001B[1;32m---> 15\u001B[0m \u001B[43mmodel\u001B[49m\u001B[38;5;241;43m.\u001B[39;49m\u001B[43mfit\u001B[49m\u001B[43m(\u001B[49m\u001B[43mconstraints_function\u001B[49m\u001B[43m)\u001B[49m\n",
      "File \u001B[1;32mD:\\All Python\\Pure-Python\\P2\\05-System Engineering\\HW1\\Simplex.py:26\u001B[0m, in \u001B[0;36mSimplex.fit\u001B[1;34m(self, constraints)\u001B[0m\n\u001B[0;32m     24\u001B[0m \u001B[38;5;28;01mwhile\u001B[39;00m \u001B[38;5;129;01mnot\u001B[39;00m \u001B[38;5;28mself\u001B[39m\u001B[38;5;241m.\u001B[39m_check_optimization():\n\u001B[0;32m     25\u001B[0m     \u001B[38;5;28mself\u001B[39m\u001B[38;5;241m.\u001B[39m_transform()\n\u001B[1;32m---> 26\u001B[0m     \u001B[38;5;28;43mself\u001B[39;49m\u001B[38;5;241;43m.\u001B[39;49m\u001B[43m_save_data\u001B[49m\u001B[43m(\u001B[49m\u001B[38;5;28;43mself\u001B[39;49m\u001B[38;5;241;43m.\u001B[39;49m\u001B[43mlabel\u001B[49m\u001B[43m,\u001B[49m\u001B[43m \u001B[49m\u001B[38;5;28;43mself\u001B[39;49m\u001B[38;5;241;43m.\u001B[39;49m\u001B[43mconstraints\u001B[49m\u001B[43m)\u001B[49m\n\u001B[0;32m     27\u001B[0m \u001B[38;5;28mself\u001B[39m\u001B[38;5;241m.\u001B[39mdata\u001B[38;5;241m.\u001B[39mset_index(\u001B[38;5;124m\"\u001B[39m\u001B[38;5;124mparameter\u001B[39m\u001B[38;5;124m\"\u001B[39m, inplace\u001B[38;5;241m=\u001B[39m\u001B[38;5;28;01mTrue\u001B[39;00m)\n\u001B[0;32m     28\u001B[0m \u001B[38;5;28mself\u001B[39m\u001B[38;5;241m.\u001B[39m_make_result_table()\n",
      "File \u001B[1;32mD:\\All Python\\Pure-Python\\P2\\05-System Engineering\\HW1\\Simplex.py:74\u001B[0m, in \u001B[0;36mSimplex._save_data\u001B[1;34m(self, labels, values)\u001B[0m\n\u001B[0;32m     71\u001B[0m data \u001B[38;5;241m=\u001B[39m pd\u001B[38;5;241m.\u001B[39mconcat((data, data_z), ignore_index\u001B[38;5;241m=\u001B[39m\u001B[38;5;28;01mTrue\u001B[39;00m)\n\u001B[0;32m     73\u001B[0m \u001B[38;5;28;01mif\u001B[39;00m \u001B[38;5;28mself\u001B[39m\u001B[38;5;241m.\u001B[39mdata \u001B[38;5;129;01mis\u001B[39;00m \u001B[38;5;129;01mnot\u001B[39;00m \u001B[38;5;28;01mNone\u001B[39;00m:\n\u001B[1;32m---> 74\u001B[0m     \u001B[38;5;28mself\u001B[39m\u001B[38;5;241m.\u001B[39mdata \u001B[38;5;241m=\u001B[39m \u001B[43mpd\u001B[49m\u001B[38;5;241;43m.\u001B[39;49m\u001B[43mconcat\u001B[49m\u001B[43m(\u001B[49m\u001B[43m(\u001B[49m\u001B[38;5;28;43mself\u001B[39;49m\u001B[38;5;241;43m.\u001B[39;49m\u001B[43mdata\u001B[49m\u001B[43m,\u001B[49m\u001B[43m \u001B[49m\u001B[43mdata\u001B[49m\u001B[43m)\u001B[49m\u001B[43m,\u001B[49m\u001B[43m \u001B[49m\u001B[43mignore_index\u001B[49m\u001B[38;5;241;43m=\u001B[39;49m\u001B[38;5;28;43;01mTrue\u001B[39;49;00m\u001B[43m)\u001B[49m\n\u001B[0;32m     75\u001B[0m \u001B[38;5;28;01melse\u001B[39;00m:\n\u001B[0;32m     76\u001B[0m     \u001B[38;5;28mself\u001B[39m\u001B[38;5;241m.\u001B[39mdata \u001B[38;5;241m=\u001B[39m data\n",
      "File \u001B[1;32mC:\\All Python Projects\\Interpreters\\in_advanced_python\\Lib\\site-packages\\pandas\\core\\reshape\\concat.py:393\u001B[0m, in \u001B[0;36mconcat\u001B[1;34m(objs, axis, join, ignore_index, keys, levels, names, verify_integrity, sort, copy)\u001B[0m\n\u001B[0;32m    378\u001B[0m     copy \u001B[38;5;241m=\u001B[39m \u001B[38;5;28;01mFalse\u001B[39;00m\n\u001B[0;32m    380\u001B[0m op \u001B[38;5;241m=\u001B[39m _Concatenator(\n\u001B[0;32m    381\u001B[0m     objs,\n\u001B[0;32m    382\u001B[0m     axis\u001B[38;5;241m=\u001B[39maxis,\n\u001B[1;32m   (...)\u001B[0m\n\u001B[0;32m    390\u001B[0m     sort\u001B[38;5;241m=\u001B[39msort,\n\u001B[0;32m    391\u001B[0m )\n\u001B[1;32m--> 393\u001B[0m \u001B[38;5;28;01mreturn\u001B[39;00m \u001B[43mop\u001B[49m\u001B[38;5;241;43m.\u001B[39;49m\u001B[43mget_result\u001B[49m\u001B[43m(\u001B[49m\u001B[43m)\u001B[49m\n",
      "File \u001B[1;32mC:\\All Python Projects\\Interpreters\\in_advanced_python\\Lib\\site-packages\\pandas\\core\\reshape\\concat.py:682\u001B[0m, in \u001B[0;36m_Concatenator.get_result\u001B[1;34m(self)\u001B[0m\n\u001B[0;32m    678\u001B[0m             indexers[ax] \u001B[38;5;241m=\u001B[39m obj_labels\u001B[38;5;241m.\u001B[39mget_indexer(new_labels)\n\u001B[0;32m    680\u001B[0m     mgrs_indexers\u001B[38;5;241m.\u001B[39mappend((obj\u001B[38;5;241m.\u001B[39m_mgr, indexers))\n\u001B[1;32m--> 682\u001B[0m new_data \u001B[38;5;241m=\u001B[39m \u001B[43mconcatenate_managers\u001B[49m\u001B[43m(\u001B[49m\n\u001B[0;32m    683\u001B[0m \u001B[43m    \u001B[49m\u001B[43mmgrs_indexers\u001B[49m\u001B[43m,\u001B[49m\u001B[43m \u001B[49m\u001B[38;5;28;43mself\u001B[39;49m\u001B[38;5;241;43m.\u001B[39;49m\u001B[43mnew_axes\u001B[49m\u001B[43m,\u001B[49m\u001B[43m \u001B[49m\u001B[43mconcat_axis\u001B[49m\u001B[38;5;241;43m=\u001B[39;49m\u001B[38;5;28;43mself\u001B[39;49m\u001B[38;5;241;43m.\u001B[39;49m\u001B[43mbm_axis\u001B[49m\u001B[43m,\u001B[49m\u001B[43m \u001B[49m\u001B[43mcopy\u001B[49m\u001B[38;5;241;43m=\u001B[39;49m\u001B[38;5;28;43mself\u001B[39;49m\u001B[38;5;241;43m.\u001B[39;49m\u001B[43mcopy\u001B[49m\n\u001B[0;32m    684\u001B[0m \u001B[43m\u001B[49m\u001B[43m)\u001B[49m\n\u001B[0;32m    685\u001B[0m \u001B[38;5;28;01mif\u001B[39;00m \u001B[38;5;129;01mnot\u001B[39;00m \u001B[38;5;28mself\u001B[39m\u001B[38;5;241m.\u001B[39mcopy \u001B[38;5;129;01mand\u001B[39;00m \u001B[38;5;129;01mnot\u001B[39;00m using_copy_on_write():\n\u001B[0;32m    686\u001B[0m     new_data\u001B[38;5;241m.\u001B[39m_consolidate_inplace()\n",
      "File \u001B[1;32mC:\\All Python Projects\\Interpreters\\in_advanced_python\\Lib\\site-packages\\pandas\\core\\internals\\concat.py:177\u001B[0m, in \u001B[0;36mconcatenate_managers\u001B[1;34m(mgrs_indexers, axes, concat_axis, copy)\u001B[0m\n\u001B[0;32m    167\u001B[0m vals \u001B[38;5;241m=\u001B[39m [ju\u001B[38;5;241m.\u001B[39mblock\u001B[38;5;241m.\u001B[39mvalues \u001B[38;5;28;01mfor\u001B[39;00m ju \u001B[38;5;129;01min\u001B[39;00m join_units]\n\u001B[0;32m    169\u001B[0m \u001B[38;5;28;01mif\u001B[39;00m \u001B[38;5;129;01mnot\u001B[39;00m blk\u001B[38;5;241m.\u001B[39mis_extension:\n\u001B[0;32m    170\u001B[0m     \u001B[38;5;66;03m# _is_uniform_join_units ensures a single dtype, so\u001B[39;00m\n\u001B[0;32m    171\u001B[0m     \u001B[38;5;66;03m#  we can use np.concatenate, which is more performant\u001B[39;00m\n\u001B[1;32m   (...)\u001B[0m\n\u001B[0;32m    175\u001B[0m     \u001B[38;5;66;03m# expected \"Union[_SupportsArray[dtype[Any]],\u001B[39;00m\n\u001B[0;32m    176\u001B[0m     \u001B[38;5;66;03m# _NestedSequence[_SupportsArray[dtype[Any]]]]\"\u001B[39;00m\n\u001B[1;32m--> 177\u001B[0m     values \u001B[38;5;241m=\u001B[39m \u001B[43mnp\u001B[49m\u001B[38;5;241;43m.\u001B[39;49m\u001B[43mconcatenate\u001B[49m\u001B[43m(\u001B[49m\u001B[43mvals\u001B[49m\u001B[43m,\u001B[49m\u001B[43m \u001B[49m\u001B[43maxis\u001B[49m\u001B[38;5;241;43m=\u001B[39;49m\u001B[38;5;241;43m1\u001B[39;49m\u001B[43m)\u001B[49m  \u001B[38;5;66;03m# type: ignore[arg-type]\u001B[39;00m\n\u001B[0;32m    178\u001B[0m \u001B[38;5;28;01melif\u001B[39;00m is_1d_only_ea_dtype(blk\u001B[38;5;241m.\u001B[39mdtype):\n\u001B[0;32m    179\u001B[0m     \u001B[38;5;66;03m# TODO(EA2D): special-casing not needed with 2D EAs\u001B[39;00m\n\u001B[0;32m    180\u001B[0m     values \u001B[38;5;241m=\u001B[39m concat_compat(vals, axis\u001B[38;5;241m=\u001B[39m\u001B[38;5;241m0\u001B[39m, ea_compat_axis\u001B[38;5;241m=\u001B[39m\u001B[38;5;28;01mTrue\u001B[39;00m)\n",
      "\u001B[1;31mKeyboardInterrupt\u001B[0m: "
     ]
    }
   ],
   "source": [
    "###  Simplex\n",
    "objective_function = [-7.9 + 0.6, -6.9 + 0.6, -5 + 0.6, -7.9 + 0.52, -6.9 + 0.52, -5 + 0.52, -7.9 + 0.48, -6.9 + 0.48,\n",
    "                      -5 + 0.48, 0, 0, 0, 0, 0, 0, 0, 0, 0]\n",
    "constraints_function = [[1., 1., 1., 0, 0, 0, 0, 0, 0, 0, 0, 0, 0, 0, 0, 0, 0, 4000],\n",
    "                        [0, 0, 0, 1, 1, 1, 0, 0, 0, 0, 0, 0, 0, 0, 0, 0, 0, 5000],\n",
    "                        [0, 0, 0, 0, 0, 0, 1, 1, 1, 0, 0, 0, 0, 0, 0, 0, 0, 2500],\n",
    "                        [0.4, 0, 0, -0.6, 0, 0, -0.6, 0, 0, 0, 0, 0, 0, 0, 0, 0, 0, 0],\n",
    "                        [0, 1 - 0.15, 0, 0, -0.15, 0, 0, -0.15, 0, 0, 0, 0, 0, 0, 0, 0, 0, 0],\n",
    "                        [0.2, 0, 0, 0.2, 0, 0, -0.8, 0, 0, 0, 0, 0, 0, 0, 0, 0, 0, 0],\n",
    "                        [0, 0.6, 0, 0, 0.6, 0, 0, -0.4, 0, 0, 0, 0, 0, 0, 0, 0, 0, 0],\n",
    "                        [0, 0, 0.5, 0, 0, 0.5, 0, 0, -0.5, 0, 0, 0, 0, 0, 0, 0, 0, 0]]\n",
    "parameters = [\"A1\", \"A2\", \"A3\", \"B1\", \"B2\", \"B3\", \"C1\", \"C2\", \"C3\"]\n",
    "\n",
    "model = Simplex(objective_function, parameters=parameters, decimal=2)\n",
    "model.fit(constraints_function)"
   ],
   "metadata": {
    "collapsed": false,
    "ExecuteTime": {
     "end_time": "2024-02-26T20:52:26.115013300Z",
     "start_time": "2024-02-26T20:38:24.440632700Z"
    }
   },
   "id": "2eb6735771fe98f7",
   "execution_count": 7
  },
  {
   "cell_type": "code",
   "outputs": [],
   "source": [],
   "metadata": {
    "collapsed": false
   },
   "id": "e3996bf75e5aa1cf"
  }
 ],
 "metadata": {
  "kernelspec": {
   "display_name": "Python 3",
   "language": "python",
   "name": "python3"
  },
  "language_info": {
   "codemirror_mode": {
    "name": "ipython",
    "version": 2
   },
   "file_extension": ".py",
   "mimetype": "text/x-python",
   "name": "python",
   "nbconvert_exporter": "python",
   "pygments_lexer": "ipython2",
   "version": "2.7.6"
  }
 },
 "nbformat": 4,
 "nbformat_minor": 5
}
