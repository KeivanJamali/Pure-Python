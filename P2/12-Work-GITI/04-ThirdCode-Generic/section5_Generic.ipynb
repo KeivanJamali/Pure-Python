{
 "cells": [
  {
   "cell_type": "code",
   "execution_count": 1,
   "metadata": {},
   "outputs": [],
   "source": [
    "%load_ext autoreload\n",
    "%autoreload 2"
   ]
  },
  {
   "cell_type": "code",
   "execution_count": 2,
   "metadata": {},
   "outputs": [],
   "source": [
    "from DataLoader import Generic_DataLoader"
   ]
  },
  {
   "cell_type": "code",
   "execution_count": 3,
   "metadata": {},
   "outputs": [
    {
     "name": "stdout",
     "output_type": "stream",
     "text": [
      "12   Point   Station  Offset  Elevation\n",
      "3481  3482     20.00   0.061   1384.262\n",
      "3489  3490     22.60   0.018   1384.232\n",
      "3497  3498     26.29  -0.057   1384.236\n",
      "3506  3507     31.70  -0.049   1384.245\n",
      "143    144     40.00   0.035   1384.354\n",
      "...    ...       ...     ...        ...\n",
      "2635  2636  21380.00  -0.070   1331.949\n",
      "2679  2680  21460.00   0.190   1336.382\n",
      "2706  2707  21500.00   0.034   1338.572\n",
      "3        4  21540.00   0.210   1340.943\n",
      "21      22  21556.19   0.090   1341.775\n",
      "\n",
      "[959 rows x 4 columns]\n"
     ]
    },
    {
     "name": "stderr",
     "output_type": "stream",
     "text": [
      "d:\\All Python\\Pure-Python\\P2\\12-Work-GITI\\04-ThirdCode-Generic\\DataLoader.py:47: SettingWithCopyWarning: \n",
      "A value is trying to be set on a copy of a slice from a DataFrame.\n",
      "Try using .loc[row_indexer,col_indexer] = value instead\n",
      "\n",
      "See the caveats in the documentation: https://pandas.pydata.org/pandas-docs/stable/user_guide/indexing.html#returning-a-view-versus-a-copy\n",
      "  center_points[\"Station\"] = center_points[\"Station\"].apply(lambda x: x if round_lim <= x % 10 <= (10-round_lim) else int(round(x/10)*10))\n"
     ]
    },
    {
     "ename": "RuntimeError",
     "evalue": "No active exception to reraise",
     "output_type": "error",
     "traceback": [
      "\u001b[1;31m---------------------------------------------------------------------------\u001b[0m",
      "\u001b[1;31mRuntimeError\u001b[0m                              Traceback (most recent call last)",
      "Cell \u001b[1;32mIn[3], line 3\u001b[0m\n\u001b[0;32m      1\u001b[0m file \u001b[38;5;241m=\u001b[39m \u001b[38;5;124m\"\u001b[39m\u001b[38;5;124mRaw-Data/D10 points2.csv\u001b[39m\u001b[38;5;124m\"\u001b[39m\n\u001b[0;32m      2\u001b[0m dataloader \u001b[38;5;241m=\u001b[39m Generic_DataLoader(file_name\u001b[38;5;241m=\u001b[39mfile)\n\u001b[1;32m----> 3\u001b[0m \u001b[43mdataloader\u001b[49m\u001b[38;5;241;43m.\u001b[39;49m\u001b[43mfit\u001b[49m\u001b[43m(\u001b[49m\u001b[43mepsilon\u001b[49m\u001b[38;5;241;43m=\u001b[39;49m\u001b[38;5;241;43m0.25\u001b[39;49m\u001b[43m,\u001b[49m\u001b[43m \u001b[49m\u001b[43mround_lim\u001b[49m\u001b[38;5;241;43m=\u001b[39;49m\u001b[38;5;241;43m0.75\u001b[39;49m\u001b[43m)\u001b[49m\n",
      "File \u001b[1;32md:\\All Python\\Pure-Python\\P2\\12-Work-GITI\\04-ThirdCode-Generic\\DataLoader.py:99\u001b[0m, in \u001b[0;36mGeneric_DataLoader.fit\u001b[1;34m(self, epsilon, round_lim)\u001b[0m\n\u001b[0;32m     97\u001b[0m \u001b[38;5;28;01mdef\u001b[39;00m \u001b[38;5;21mfit\u001b[39m(\u001b[38;5;28mself\u001b[39m, epsilon, round_lim):\n\u001b[0;32m     98\u001b[0m     \u001b[38;5;28mself\u001b[39m\u001b[38;5;241m.\u001b[39m_find_center_of_clusters(epsilon\u001b[38;5;241m=\u001b[39mepsilon, round_lim\u001b[38;5;241m=\u001b[39mround_lim)\n\u001b[1;32m---> 99\u001b[0m     \u001b[38;5;28mself\u001b[39m\u001b[38;5;241m.\u001b[39mgeneric \u001b[38;5;241m=\u001b[39m \u001b[38;5;28;43mself\u001b[39;49m\u001b[38;5;241;43m.\u001b[39;49m\u001b[43m_generic_format\u001b[49m\u001b[43m(\u001b[49m\u001b[43mepsilon\u001b[49m\u001b[38;5;241;43m=\u001b[39;49m\u001b[43mepsilon\u001b[49m\u001b[43m)\u001b[49m\n",
      "File \u001b[1;32md:\\All Python\\Pure-Python\\P2\\12-Work-GITI\\04-ThirdCode-Generic\\DataLoader.py:63\u001b[0m, in \u001b[0;36mGeneric_DataLoader._generic_format\u001b[1;34m(self, epsilon)\u001b[0m\n\u001b[0;32m     61\u001b[0m unique_clusters \u001b[38;5;241m=\u001b[39m \u001b[38;5;28mself\u001b[39m\u001b[38;5;241m.\u001b[39mcenter_points\u001b[38;5;241m.\u001b[39msort_values(by\u001b[38;5;241m=\u001b[39m\u001b[38;5;124m\"\u001b[39m\u001b[38;5;124mStation\u001b[39m\u001b[38;5;124m\"\u001b[39m)\u001b[38;5;241m.\u001b[39mindex\n\u001b[0;32m     62\u001b[0m \u001b[38;5;28mprint\u001b[39m(\u001b[38;5;28mself\u001b[39m\u001b[38;5;241m.\u001b[39mcenter_points\u001b[38;5;241m.\u001b[39msort_values(by\u001b[38;5;241m=\u001b[39m\u001b[38;5;124m\"\u001b[39m\u001b[38;5;124mStation\u001b[39m\u001b[38;5;124m\"\u001b[39m))\n\u001b[1;32m---> 63\u001b[0m \u001b[38;5;28;01mraise\u001b[39;00m\n\u001b[0;32m     64\u001b[0m \u001b[38;5;28;01mfor\u001b[39;00m cluster_id \u001b[38;5;129;01min\u001b[39;00m unique_clusters:\n\u001b[0;32m     65\u001b[0m     cluster_data \u001b[38;5;241m=\u001b[39m \u001b[38;5;28mself\u001b[39m\u001b[38;5;241m.\u001b[39mdata[\u001b[38;5;28mself\u001b[39m\u001b[38;5;241m.\u001b[39mdata[\u001b[38;5;124m\"\u001b[39m\u001b[38;5;124mCluster\u001b[39m\u001b[38;5;124m\"\u001b[39m] \u001b[38;5;241m==\u001b[39m cluster_id]\n",
      "\u001b[1;31mRuntimeError\u001b[0m: No active exception to reraise"
     ]
    }
   ],
   "source": [
    "file = \"Raw-Data/D10 points2.csv\"\n",
    "result_folder = \"Result-D10\"\n",
    "dataloader = Generic_DataLoader(file_name=file)\n",
    "dataloader.fit(epsilon=0.25, round_lim=0.75)\n",
    "dataloader.save_file()"
   ]
  },
  {
   "cell_type": "code",
   "execution_count": 7,
   "metadata": {},
   "outputs": [
    {
     "data": {
      "text/plain": [
       "20.0"
      ]
     },
     "execution_count": 7,
     "metadata": {},
     "output_type": "execute_result"
    }
   ],
   "source": [
    "dataloader.center_points[\"Station\"].min()"
   ]
  }
 ],
 "metadata": {
  "kernelspec": {
   "display_name": "Python 3",
   "language": "python",
   "name": "python3"
  },
  "language_info": {
   "codemirror_mode": {
    "name": "ipython",
    "version": 3
   },
   "file_extension": ".py",
   "mimetype": "text/x-python",
   "name": "python",
   "nbconvert_exporter": "python",
   "pygments_lexer": "ipython3",
   "version": "3.12.2"
  }
 },
 "nbformat": 4,
 "nbformat_minor": 2
}
