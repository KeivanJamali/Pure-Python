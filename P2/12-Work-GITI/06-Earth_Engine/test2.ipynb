{
 "cells": [
  {
   "cell_type": "code",
   "execution_count": 1,
   "metadata": {},
   "outputs": [
    {
     "data": {
      "text/html": [
       "<p>To authorize access needed by Earth Engine, open the following\n",
       "        URL in a web browser and follow the instructions:</p>\n",
       "        <p><a href=https://code.earthengine.google.com/client-auth?scopes=https%3A//www.googleapis.com/auth/earthengine%20https%3A//www.googleapis.com/auth/cloud-platform%20https%3A//www.googleapis.com/auth/devstorage.full_control&request_id=VbSEnDfIj7M3nkm5KZjNtGlz7EtpN0nbv6s12FDoURU&tc=qbOfcSYOOjIinZh4Vtgn0jlS9nX-WUV64aEdEAeS6O4&cc=WDm17S8XV39CsOdWHH8oGamMHKJ9XXt9fCoU3qyHJ3s>https://code.earthengine.google.com/client-auth?scopes=https%3A//www.googleapis.com/auth/earthengine%20https%3A//www.googleapis.com/auth/cloud-platform%20https%3A//www.googleapis.com/auth/devstorage.full_control&request_id=VbSEnDfIj7M3nkm5KZjNtGlz7EtpN0nbv6s12FDoURU&tc=qbOfcSYOOjIinZh4Vtgn0jlS9nX-WUV64aEdEAeS6O4&cc=WDm17S8XV39CsOdWHH8oGamMHKJ9XXt9fCoU3qyHJ3s</a></p>\n",
       "        <p>The authorization workflow will generate a code, which you should paste in the box below.</p>\n",
       "        "
      ],
      "text/plain": [
       "<IPython.core.display.HTML object>"
      ]
     },
     "metadata": {},
     "output_type": "display_data"
    },
    {
     "name": "stdout",
     "output_type": "stream",
     "text": [
      "\n",
      "Successfully saved authorization token.\n"
     ]
    }
   ],
   "source": [
    "import ee\n",
    "import geemap\n",
    "from GEE_Tools import GEE_Toolkit\n",
    "import matplotlib.pylab as plt\n",
    "%load_ext autoreload\n",
    "%autoreload 2\n",
    "ee.Authenticate()\n",
    "ee.Initialize()"
   ]
  },
  {
   "cell_type": "code",
   "execution_count": 2,
   "metadata": {},
   "outputs": [
    {
     "data": {
      "text/html": [
       "\n",
       "            <style>\n",
       "                .geemap-dark {\n",
       "                    --jp-widgets-color: white;\n",
       "                    --jp-widgets-label-color: white;\n",
       "                    --jp-ui-font-color1: white;\n",
       "                    --jp-layout-color2: #454545;\n",
       "                    background-color: #383838;\n",
       "                }\n",
       "\n",
       "                .geemap-dark .jupyter-button {\n",
       "                    --jp-layout-color3: #383838;\n",
       "                }\n",
       "\n",
       "                .geemap-colab {\n",
       "                    background-color: var(--colab-primary-surface-color, white);\n",
       "                }\n",
       "\n",
       "                .geemap-colab .jupyter-button {\n",
       "                    --jp-layout-color3: var(--colab-primary-surface-color, white);\n",
       "                }\n",
       "            </style>\n",
       "            "
      ],
      "text/plain": [
       "<IPython.core.display.HTML object>"
      ]
     },
     "metadata": {},
     "output_type": "display_data"
    },
    {
     "data": {
      "application/vnd.jupyter.widget-view+json": {
       "model_id": "2e7f9c33a0a04e00a201d84365c14694",
       "version_major": 2,
       "version_minor": 0
      },
      "text/plain": [
       "Map(center=[31.900120388305922, 54.350000000000115], controls=(WidgetControl(options=['position', 'transparent…"
      ]
     },
     "execution_count": 2,
     "metadata": {},
     "output_type": "execute_result"
    }
   ],
   "source": [
    "gee = GEE_Toolkit()\n",
    "\n",
    "water = gee.get_image(\"JRC/GSW1_4/GlobalSurfaceWater\")\n",
    "srtm = gee.get_image(\"USGS/SRTMGL1_003\")\n",
    "\n",
    "iran_geometry = gee.get_geometry(country=\"Iran\")\n",
    "yazd_geometry = gee.get_geometry(place=\"Yazd\")\n",
    "\n",
    "vis_params_water = gee.vis_params_maker(bands=\"occurrence\", min_=0, max_=100, palette=[\"lightblue\", \"blue\"])\n",
    "vis_params_srtm = gee.vis_params_maker(min_=0, max_=1000)\n",
    "\n",
    "gee.add_layer(layer=water, vis_params=vis_params_water, name=\"Water\")\n",
    "gee.add_layer(layer=srtm, vis_params=vis_params_srtm, name=\"Srtm\")\n",
    "\n",
    "gee.set_map(yazd_geometry, zoom=12)\n",
    "\n",
    "gee.map"
   ]
  },
  {
   "cell_type": "code",
   "execution_count": 7,
   "metadata": {},
   "outputs": [
    {
     "data": {
      "text/html": [
       "\n",
       "            <style>\n",
       "                .geemap-dark {\n",
       "                    --jp-widgets-color: white;\n",
       "                    --jp-widgets-label-color: white;\n",
       "                    --jp-ui-font-color1: white;\n",
       "                    --jp-layout-color2: #454545;\n",
       "                    background-color: #383838;\n",
       "                }\n",
       "\n",
       "                .geemap-dark .jupyter-button {\n",
       "                    --jp-layout-color3: #383838;\n",
       "                }\n",
       "\n",
       "                .geemap-colab {\n",
       "                    background-color: var(--colab-primary-surface-color, white);\n",
       "                }\n",
       "\n",
       "                .geemap-colab .jupyter-button {\n",
       "                    --jp-layout-color3: var(--colab-primary-surface-color, white);\n",
       "                }\n",
       "            </style>\n",
       "            "
      ],
      "text/plain": [
       "<IPython.core.display.HTML object>"
      ]
     },
     "metadata": {},
     "output_type": "display_data"
    },
    {
     "ename": "AttributeError",
     "evalue": "type object 'Reducer' has no attribute 'mean'",
     "output_type": "error",
     "traceback": [
      "\u001b[1;31m---------------------------------------------------------------------------\u001b[0m",
      "\u001b[1;31mAttributeError\u001b[0m                            Traceback (most recent call last)",
      "Cell \u001b[1;32mIn[7], line 1\u001b[0m\n\u001b[1;32m----> 1\u001b[0m \u001b[38;5;28mmap\u001b[39m \u001b[38;5;241m=\u001b[39m \u001b[43mgeemap\u001b[49m\u001b[38;5;241;43m.\u001b[39;49m\u001b[43mMap\u001b[49m\u001b[43m(\u001b[49m\u001b[43m)\u001b[49m\n\u001b[0;32m      2\u001b[0m \u001b[38;5;66;03m# map.addLayer(ee_object=srtm, \u001b[39;00m\n\u001b[0;32m      3\u001b[0m             \u001b[38;5;66;03m#  vis_params={\"min\":0, \"max\":3000},\u001b[39;00m\n\u001b[0;32m      4\u001b[0m             \u001b[38;5;66;03m#  name=\"SRTM\")\u001b[39;00m\n\u001b[0;32m      5\u001b[0m water \u001b[38;5;241m=\u001b[39m ee\u001b[38;5;241m.\u001b[39mImage(\u001b[38;5;124m\"\u001b[39m\u001b[38;5;124mJRC/GSW1_4/GlobalSurfaceWater\u001b[39m\u001b[38;5;124m\"\u001b[39m)\n",
      "File \u001b[1;32mc:\\Python Interpreters\\in_CivilPython\\Lib\\site-packages\\geemap\\geemap.py:157\u001b[0m, in \u001b[0;36mMap.__init__\u001b[1;34m(self, **kwargs)\u001b[0m\n\u001b[0;32m    155\u001b[0m \u001b[38;5;66;03m# Default reducer to use\u001b[39;00m\n\u001b[0;32m    156\u001b[0m \u001b[38;5;28;01mif\u001b[39;00m kwargs[\u001b[38;5;124m\"\u001b[39m\u001b[38;5;124mee_initialize\u001b[39m\u001b[38;5;124m\"\u001b[39m]:\n\u001b[1;32m--> 157\u001b[0m     \u001b[38;5;28mself\u001b[39m\u001b[38;5;241m.\u001b[39mroi_reducer \u001b[38;5;241m=\u001b[39m \u001b[43mee\u001b[49m\u001b[38;5;241;43m.\u001b[39;49m\u001b[43mReducer\u001b[49m\u001b[38;5;241;43m.\u001b[39;49m\u001b[43mmean\u001b[49m()\n\u001b[0;32m    158\u001b[0m \u001b[38;5;28mself\u001b[39m\u001b[38;5;241m.\u001b[39mroi_reducer_scale \u001b[38;5;241m=\u001b[39m \u001b[38;5;28;01mNone\u001b[39;00m\n",
      "\u001b[1;31mAttributeError\u001b[0m: type object 'Reducer' has no attribute 'mean'"
     ]
    }
   ],
   "source": [
    "map = geemap.Map()\n",
    "# map.addLayer(ee_object=srtm, \n",
    "            #  vis_params={\"min\":0, \"max\":3000},\n",
    "            #  name=\"SRTM\")\n",
    "water = ee.Image(\"JRC/GSW1_4/GlobalSurfaceWater\")\n",
    "grand_canyon_geometry = ee.Geometry.Polygon([[[-112.459716796875, 36.23103320890061],\n",
    "                                            [-111.26416015625, 36.23103320890061],\n",
    "                                            [-111.26416015625, 35.746512259918504],\n",
    "                                            [-112.459716796875, 35.746512259918504]]])\n",
    "\n",
    "iran_geometry = ee.Geometry.Polygon(\n",
    "    [\n",
    "        [\n",
    "            [44.03252, 39.713002],\n",
    "            [63.31843, 39.713002],\n",
    "            [63.31843, 25.078237],\n",
    "            [44.03252, 25.078237]\n",
    "        ]\n",
    "    ]\n",
    ")\n",
    "\n",
    "yazd_geometry_point = ee.Geometry.Point([54.3569, 31.8974])\n",
    "\n",
    "yazd_geometry = ee.Geometry.Polygon(\n",
    "    [\n",
    "        [\n",
    "            [54.150, 32.000],\n",
    "            [54.550, 32.000],\n",
    "            [54.550, 31.800],\n",
    "            [54.150, 31.800]\n",
    "        ]\n",
    "    ]\n",
    ")\n",
    "\n",
    "# map.addLayer(water,\n",
    "            #  vis_params={\"bands\":\"occurrence\", \"min\":0, \"max\":100, \"palette\":[\"lightblue\", \"blue\"]},\n",
    "            #  name=\"Water\")\n",
    "map.center_object(yazd_geometry_point, zoom=12)\n",
    "map\n"
   ]
  },
  {
   "cell_type": "code",
   "execution_count": 8,
   "metadata": {},
   "outputs": [
    {
     "data": {
      "text/html": [
       "\n",
       "            <style>\n",
       "                .geemap-dark {\n",
       "                    --jp-widgets-color: white;\n",
       "                    --jp-widgets-label-color: white;\n",
       "                    --jp-ui-font-color1: white;\n",
       "                    --jp-layout-color2: #454545;\n",
       "                    background-color: #383838;\n",
       "                }\n",
       "\n",
       "                .geemap-dark .jupyter-button {\n",
       "                    --jp-layout-color3: #383838;\n",
       "                }\n",
       "\n",
       "                .geemap-colab {\n",
       "                    background-color: var(--colab-primary-surface-color, white);\n",
       "                }\n",
       "\n",
       "                .geemap-colab .jupyter-button {\n",
       "                    --jp-layout-color3: var(--colab-primary-surface-color, white);\n",
       "                }\n",
       "            </style>\n",
       "            "
      ],
      "text/plain": [
       "<IPython.core.display.HTML object>"
      ]
     },
     "metadata": {},
     "output_type": "display_data"
    }
   ],
   "source": [
    "gee = GEE_Toolkit()"
   ]
  },
  {
   "cell_type": "code",
   "execution_count": 15,
   "metadata": {},
   "outputs": [
    {
     "data": {
      "text/html": [
       "\n",
       "            <style>\n",
       "                .geemap-dark {\n",
       "                    --jp-widgets-color: white;\n",
       "                    --jp-widgets-label-color: white;\n",
       "                    --jp-ui-font-color1: white;\n",
       "                    --jp-layout-color2: #454545;\n",
       "                    background-color: #383838;\n",
       "                }\n",
       "\n",
       "                .geemap-dark .jupyter-button {\n",
       "                    --jp-layout-color3: #383838;\n",
       "                }\n",
       "\n",
       "                .geemap-colab {\n",
       "                    background-color: var(--colab-primary-surface-color, white);\n",
       "                }\n",
       "\n",
       "                .geemap-colab .jupyter-button {\n",
       "                    --jp-layout-color3: var(--colab-primary-surface-color, white);\n",
       "                }\n",
       "            </style>\n",
       "            "
      ],
      "text/plain": [
       "<IPython.core.display.HTML object>"
      ]
     },
     "metadata": {},
     "output_type": "display_data"
    },
    {
     "data": {
      "application/vnd.jupyter.widget-view+json": {
       "model_id": "2b56d73bfe7c4f7ba5988911f51accd9",
       "version_major": 2,
       "version_minor": 0
      },
      "text/plain": [
       "Map(center=[31.871105623966645, 55.715029077925564], controls=(WidgetControl(options=['position', 'transparent…"
      ]
     },
     "execution_count": 15,
     "metadata": {},
     "output_type": "execute_result"
    }
   ],
   "source": [
    "map = geemap.Map()\n",
    "\n",
    "# srtm = ee.Image(\"USGS/SRTMGL1_003\")\n",
    "# map.addLayer(ee_object=srtm,\n",
    "            #  vis_params={\"min\":0, \"max\":3000},\n",
    "            #  name=\"SRTM\")\n",
    "\n",
    "# slop = ee.Terrain.slope(srtm)\n",
    "# map.addLayer(slop,\n",
    "            #  {\"min\":0, \"max\":60},\n",
    "            #  name=\"Slope\")\n",
    "\n",
    "water = ee.Image(\"JRC/GSW1_4/GlobalSurfaceWater\")\n",
    "\n",
    "map.addLayer(water,\n",
    "             vis_params={\"bands\":\"occurrence\", \"min\":0, \"max\":100, \"palette\":[\"lightblue\", \"blue\"]},\n",
    "             name=\"Water\")\n",
    "\n",
    "grand_canyon_geometry = ee.Geometry.Polygon([[[-112.459716796875, 36.23103320890061],\n",
    "                                            [-111.26416015625, 36.23103320890061],\n",
    "                                            [-111.26416015625, 35.746512259918504],\n",
    "                                            [-112.459716796875, 35.746512259918504]]])\n",
    "x, y, z, n = 378453.6, 3526868.6, 40, True\n",
    "lon, lat = gee.to_latlon(z, x, y, n)\n",
    "bafg = ee.Geometry.Point([lon, lat])\n",
    "\n",
    "map.center_object(bafg, zoom=12)\n",
    "map\n"
   ]
  },
  {
   "cell_type": "code",
   "execution_count": 150,
   "metadata": {},
   "outputs": [
    {
     "data": {
      "text/html": [
       "\n",
       "            <style>\n",
       "                .geemap-dark {\n",
       "                    --jp-widgets-color: white;\n",
       "                    --jp-widgets-label-color: white;\n",
       "                    --jp-ui-font-color1: white;\n",
       "                    --jp-layout-color2: #454545;\n",
       "                    background-color: #383838;\n",
       "                }\n",
       "\n",
       "                .geemap-dark .jupyter-button {\n",
       "                    --jp-layout-color3: #383838;\n",
       "                }\n",
       "\n",
       "                .geemap-colab {\n",
       "                    background-color: var(--colab-primary-surface-color, white);\n",
       "                }\n",
       "\n",
       "                .geemap-colab .jupyter-button {\n",
       "                    --jp-layout-color3: var(--colab-primary-surface-color, white);\n",
       "                }\n",
       "            </style>\n",
       "            "
      ],
      "text/plain": [
       "<IPython.core.display.HTML object>"
      ]
     },
     "metadata": {},
     "output_type": "display_data"
    },
    {
     "name": "stderr",
     "output_type": "stream",
     "text": [
      "No such comm: 51b96b6317464362b0c9fe1301646d65\n"
     ]
    }
   ],
   "source": [
    "gee = GEE_Toolkit()"
   ]
  },
  {
   "cell_type": "code",
   "execution_count": 18,
   "metadata": {},
   "outputs": [
    {
     "data": {
      "text/html": [
       "\n",
       "            <style>\n",
       "                .geemap-dark {\n",
       "                    --jp-widgets-color: white;\n",
       "                    --jp-widgets-label-color: white;\n",
       "                    --jp-ui-font-color1: white;\n",
       "                    --jp-layout-color2: #454545;\n",
       "                    background-color: #383838;\n",
       "                }\n",
       "\n",
       "                .geemap-dark .jupyter-button {\n",
       "                    --jp-layout-color3: #383838;\n",
       "                }\n",
       "\n",
       "                .geemap-colab {\n",
       "                    background-color: var(--colab-primary-surface-color, white);\n",
       "                }\n",
       "\n",
       "                .geemap-colab .jupyter-button {\n",
       "                    --jp-layout-color3: var(--colab-primary-surface-color, white);\n",
       "                }\n",
       "            </style>\n",
       "            "
      ],
      "text/plain": [
       "<IPython.core.display.HTML object>"
      ]
     },
     "metadata": {},
     "output_type": "display_data"
    },
    {
     "data": {
      "application/vnd.jupyter.widget-view+json": {
       "model_id": "79cfe479c5ba45c98c1c835394580204",
       "version_major": 2,
       "version_minor": 0
      },
      "text/plain": [
       "Map(bottom=426562.0, center=[31.871105623966645, 55.715029077925564], controls=(WidgetControl(options=['positi…"
      ]
     },
     "execution_count": 18,
     "metadata": {},
     "output_type": "execute_result"
    }
   ],
   "source": [
    "# new_location = gee.get_drawn_info()\n",
    "\n",
    "srtm = gee.get_image(\"USGS/SRTMGL1_003\")\n",
    "slope = gee.get_terrain_features(feature=\"slope\", data=srtm)\n",
    "water = gee.get_image(\"JRC/GSW1_4/GlobalSurfaceWater\")\n",
    "\n",
    "# vis_params_srtm = gee.vis_params_maker(min_=0, max_=3000)\n",
    "vis_params_slope = gee.vis_params_maker(min_=0, max_=60)\n",
    "vis_params_water = gee.vis_params_maker(bands=\"occurrence\", min_=0, max_=100, palette=[\"lightblue\", \"blue\"])\n",
    "\n",
    "# gee.add_layer(layer=srtm, vis_params=vis_params_srtm, name=\"Srtm\")\n",
    "gee.add_layer(layer=slope, vis_params=vis_params_slope, name=\"Slope\")\n",
    "gee.add_layer(layer=water, vis_params=vis_params_water, name=\"Water\")\n",
    "\n",
    "grand_canyon_geometry = gee.get_geometry(place=\"Grand Canyon\")\n",
    "x, y, z, n = 378453.6, 3526868.6, 40, True\n",
    "bafg = ee.Geometry.Point(gee.to_latlon(z, x, y, n))\n",
    "\n",
    "gee.set_map(centered_obj=bafg, zoom=12)\n",
    "# gee.set_map(centered_obj=new_location, zoom=12)\n",
    "gee.map\n",
    "\n",
    "# map = geemap.Map()\n",
    "# map.addLayerControl()\n",
    "# map.add_draw_control()\n",
    "\n",
    "# srtm = ee.Image(\"USGS/SRTMGL1_003\")\n",
    "# map.addLayer(ee_object=srtm,\n",
    "#              vis_params={\"min\":0, \"max\":3000},\n",
    "#              name=\"SRTM\")\n",
    "\n",
    "# slop = ee.Terrain.slope(srtm)\n",
    "# map.addLayer(slop,\n",
    "#              {\"min\":0, \"max\":60},\n",
    "#              name=\"Slope\")\n",
    "\n",
    "# water = ee.Image(\"JRC/GSW1_4/GlobalSurfaceWater\")\n",
    "# map.addLayer(water,\n",
    "#              vis_params={\"bands\":\"occurrence\", \"min\":0, \"max\":100, \"palette\":[\"lightblue\", \"blue\"]},\n",
    "#              name=\"Water\")\n",
    "\n",
    "# grand_canyon_geometry = ee.Geometry.Polygon([[[-112.459716796875, 36.23103320890061],\n",
    "#                                             [-111.26416015625, 36.23103320890061],\n",
    "#                                             [-111.26416015625, 35.746512259918504],\n",
    "#                                             [-112.459716796875, 35.746512259918504]]])\n",
    "# map.center_object(grand_canyon_geometry, zoom=12)\n",
    "# map\n"
   ]
  },
  {
   "cell_type": "code",
   "execution_count": 17,
   "metadata": {},
   "outputs": [
    {
     "data": {
      "text/html": [
       "\n",
       "            <style>\n",
       "                .geemap-dark {\n",
       "                    --jp-widgets-color: white;\n",
       "                    --jp-widgets-label-color: white;\n",
       "                    --jp-ui-font-color1: white;\n",
       "                    --jp-layout-color2: #454545;\n",
       "                    background-color: #383838;\n",
       "                }\n",
       "\n",
       "                .geemap-dark .jupyter-button {\n",
       "                    --jp-layout-color3: #383838;\n",
       "                }\n",
       "\n",
       "                .geemap-colab {\n",
       "                    background-color: var(--colab-primary-surface-color, white);\n",
       "                }\n",
       "\n",
       "                .geemap-colab .jupyter-button {\n",
       "                    --jp-layout-color3: var(--colab-primary-surface-color, white);\n",
       "                }\n",
       "            </style>\n",
       "            "
      ],
      "text/plain": [
       "<IPython.core.display.HTML object>"
      ]
     },
     "metadata": {},
     "output_type": "display_data"
    },
    {
     "name": "stdout",
     "output_type": "stream",
     "text": [
      "[INFO] Drawn feature coordinates: [[[-114.894396, 36.021557], [-114.894396, 36.168035], [-114.614325, 36.168035], [-114.614325, 36.021557], [-114.894396, 36.021557]]]\n"
     ]
    },
    {
     "data": {
      "text/html": [
       "<div><style>:root {\n",
       "  --font-color-primary: var(--jp-content-font-color0, rgba(0, 0, 0, 1));\n",
       "  --font-color-secondary: var(--jp-content-font-color2, rgba(0, 0, 0, 0.6));\n",
       "  --font-color-accent: rgba(123, 31, 162, 1);\n",
       "  --border-color: var(--jp-border-color2, #e0e0e0);\n",
       "  --background-color: var(--jp-layout-color0, white);\n",
       "  --background-color-row-even: var(--jp-layout-color1, white);\n",
       "  --background-color-row-odd: var(--jp-layout-color2, #eeeeee);\n",
       "}\n",
       "\n",
       "html[theme=\"dark\"],\n",
       "body[data-theme=\"dark\"],\n",
       "body.vscode-dark {\n",
       "  --font-color-primary: rgba(255, 255, 255, 1);\n",
       "  --font-color-secondary: rgba(255, 255, 255, 0.6);\n",
       "  --font-color-accent: rgb(173, 132, 190);\n",
       "  --border-color: #2e2e2e;\n",
       "  --background-color: #111111;\n",
       "  --background-color-row-even: #111111;\n",
       "  --background-color-row-odd: #313131;\n",
       "}\n",
       "\n",
       ".ee {\n",
       "  padding: 1em;\n",
       "  line-height: 1.5em;\n",
       "  min-width: 300px;\n",
       "  max-width: 1200px;\n",
       "  overflow-y: scroll;\n",
       "  max-height: 600px;\n",
       "  border: 1px solid var(--border-color);\n",
       "  font-family: monospace;\n",
       "}\n",
       "\n",
       ".ee li {\n",
       "  list-style-type: none;\n",
       "}\n",
       "\n",
       ".ee ul {\n",
       "  padding-left: 1.5em !important;\n",
       "  margin: 0;\n",
       "}\n",
       "\n",
       ".ee > ul {\n",
       "  padding-left: 0 !important;\n",
       "}\n",
       "\n",
       ".ee-open,\n",
       ".ee-shut {\n",
       "  color: var(--font-color-secondary);\n",
       "  cursor: pointer;\n",
       "  margin: 0;\n",
       "}\n",
       "\n",
       ".ee-open:hover,\n",
       ".ee-shut:hover {\n",
       "  color: var(--font-color-primary);\n",
       "}\n",
       "\n",
       ".ee-k {\n",
       "  color: var(--font-color-accent);\n",
       "  margin-right: 6px;\n",
       "}\n",
       "\n",
       ".ee-v {\n",
       "  color: var(--font-color-primary);\n",
       "}\n",
       "\n",
       ".ee-toggle {\n",
       "  display: none;\n",
       "}\n",
       "\n",
       ".ee-shut + ul {\n",
       "  display: none;\n",
       "}\n",
       "\n",
       ".ee-open + ul {\n",
       "  display: block;\n",
       "}\n",
       "\n",
       ".ee-shut::before {\n",
       "  display: inline-block;\n",
       "  content: \"▼\";\n",
       "  margin-right: 6px;\n",
       "  transform: rotate(-90deg);\n",
       "  transition: transform 0.2s;\n",
       "}\n",
       "\n",
       ".ee-open::before {\n",
       "  transform: rotate(0deg);\n",
       "  display: inline-block;\n",
       "  content: \"▼\";\n",
       "  margin-right: 6px;\n",
       "  transition: transform 0.2s;\n",
       "}\n",
       "</style><div class='ee'><ul><li><label class='ee-shut'>Object (1 property)<input type='checkbox' class='ee-toggle'></label><ul><li><span class='ee-k'>slope:</span><span class='ee-v'>8.34569470834887</span></li></ul></li></ul></div><script>function toggleHeader() {\n",
       "    const parent = this.parentElement;\n",
       "    parent.className = parent.className === \"ee-open\" ? \"ee-shut\" : \"ee-open\";\n",
       "}\n",
       "\n",
       "for (let c of document.getElementsByClassName(\"ee-toggle\")) {\n",
       "    c.onclick = toggleHeader;\n",
       "}</script></div>"
      ],
      "text/plain": [
       "<ee.dictionary.Dictionary at 0x1d710af38c0>"
      ]
     },
     "execution_count": 17,
     "metadata": {},
     "output_type": "execute_result"
    }
   ],
   "source": [
    "selected_location = gee.get_drawn_info()\n",
    "slope_dict = gee.reduce_to_one(property=slope, reducer=\"mean\", geometry=selected_location, scale=30)\n",
    "\n",
    "slope_dict"
   ]
  },
  {
   "cell_type": "code",
   "execution_count": 18,
   "metadata": {},
   "outputs": [
    {
     "data": {
      "text/html": [
       "\n",
       "            <style>\n",
       "                .geemap-dark {\n",
       "                    --jp-widgets-color: white;\n",
       "                    --jp-widgets-label-color: white;\n",
       "                    --jp-ui-font-color1: white;\n",
       "                    --jp-layout-color2: #454545;\n",
       "                    background-color: #383838;\n",
       "                }\n",
       "\n",
       "                .geemap-dark .jupyter-button {\n",
       "                    --jp-layout-color3: #383838;\n",
       "                }\n",
       "\n",
       "                .geemap-colab {\n",
       "                    background-color: var(--colab-primary-surface-color, white);\n",
       "                }\n",
       "\n",
       "                .geemap-colab .jupyter-button {\n",
       "                    --jp-layout-color3: var(--colab-primary-surface-color, white);\n",
       "                }\n",
       "            </style>\n",
       "            "
      ],
      "text/plain": [
       "<IPython.core.display.HTML object>"
      ]
     },
     "metadata": {},
     "output_type": "display_data"
    },
    {
     "data": {
      "text/html": [
       "<div><style>:root {\n",
       "  --font-color-primary: var(--jp-content-font-color0, rgba(0, 0, 0, 1));\n",
       "  --font-color-secondary: var(--jp-content-font-color2, rgba(0, 0, 0, 0.6));\n",
       "  --font-color-accent: rgba(123, 31, 162, 1);\n",
       "  --border-color: var(--jp-border-color2, #e0e0e0);\n",
       "  --background-color: var(--jp-layout-color0, white);\n",
       "  --background-color-row-even: var(--jp-layout-color1, white);\n",
       "  --background-color-row-odd: var(--jp-layout-color2, #eeeeee);\n",
       "}\n",
       "\n",
       "html[theme=\"dark\"],\n",
       "body[data-theme=\"dark\"],\n",
       "body.vscode-dark {\n",
       "  --font-color-primary: rgba(255, 255, 255, 1);\n",
       "  --font-color-secondary: rgba(255, 255, 255, 0.6);\n",
       "  --font-color-accent: rgb(173, 132, 190);\n",
       "  --border-color: #2e2e2e;\n",
       "  --background-color: #111111;\n",
       "  --background-color-row-even: #111111;\n",
       "  --background-color-row-odd: #313131;\n",
       "}\n",
       "\n",
       ".ee {\n",
       "  padding: 1em;\n",
       "  line-height: 1.5em;\n",
       "  min-width: 300px;\n",
       "  max-width: 1200px;\n",
       "  overflow-y: scroll;\n",
       "  max-height: 600px;\n",
       "  border: 1px solid var(--border-color);\n",
       "  font-family: monospace;\n",
       "}\n",
       "\n",
       ".ee li {\n",
       "  list-style-type: none;\n",
       "}\n",
       "\n",
       ".ee ul {\n",
       "  padding-left: 1.5em !important;\n",
       "  margin: 0;\n",
       "}\n",
       "\n",
       ".ee > ul {\n",
       "  padding-left: 0 !important;\n",
       "}\n",
       "\n",
       ".ee-open,\n",
       ".ee-shut {\n",
       "  color: var(--font-color-secondary);\n",
       "  cursor: pointer;\n",
       "  margin: 0;\n",
       "}\n",
       "\n",
       ".ee-open:hover,\n",
       ".ee-shut:hover {\n",
       "  color: var(--font-color-primary);\n",
       "}\n",
       "\n",
       ".ee-k {\n",
       "  color: var(--font-color-accent);\n",
       "  margin-right: 6px;\n",
       "}\n",
       "\n",
       ".ee-v {\n",
       "  color: var(--font-color-primary);\n",
       "}\n",
       "\n",
       ".ee-toggle {\n",
       "  display: none;\n",
       "}\n",
       "\n",
       ".ee-shut + ul {\n",
       "  display: none;\n",
       "}\n",
       "\n",
       ".ee-open + ul {\n",
       "  display: block;\n",
       "}\n",
       "\n",
       ".ee-shut::before {\n",
       "  display: inline-block;\n",
       "  content: \"▼\";\n",
       "  margin-right: 6px;\n",
       "  transform: rotate(-90deg);\n",
       "  transition: transform 0.2s;\n",
       "}\n",
       "\n",
       ".ee-open::before {\n",
       "  transform: rotate(0deg);\n",
       "  display: inline-block;\n",
       "  content: \"▼\";\n",
       "  margin-right: 6px;\n",
       "  transition: transform 0.2s;\n",
       "}\n",
       "</style><div class='ee'><ul><li><label class='ee-shut'>Object (1 property)<input type='checkbox' class='ee-toggle'></label><ul><li><span class='ee-k'>occurrence:</span><span class='ee-v'>92841963.98029932</span></li></ul></li></ul></div><script>function toggleHeader() {\n",
       "    const parent = this.parentElement;\n",
       "    parent.className = parent.className === \"ee-open\" ? \"ee-shut\" : \"ee-open\";\n",
       "}\n",
       "\n",
       "for (let c of document.getElementsByClassName(\"ee-toggle\")) {\n",
       "    c.onclick = toggleHeader;\n",
       "}</script></div>"
      ],
      "text/plain": [
       "<ee.dictionary.Dictionary at 0x1d710af0200>"
      ]
     },
     "execution_count": 18,
     "metadata": {},
     "output_type": "execute_result"
    }
   ],
   "source": [
    "temp_property = water.select(\"occurrence\").gt(90).multiply(ee.Image.pixelArea())\n",
    "water_dict = gee.reduce_to_one(property=temp_property, reducer=\"sum\", geometry=selected_location, scale=30)\n",
    "\n",
    "water_dict"
   ]
  },
  {
   "cell_type": "code",
   "execution_count": 60,
   "metadata": {},
   "outputs": [
    {
     "data": {
      "text/html": [
       "\n",
       "            <style>\n",
       "                .geemap-dark {\n",
       "                    --jp-widgets-color: white;\n",
       "                    --jp-widgets-label-color: white;\n",
       "                    --jp-ui-font-color1: white;\n",
       "                    --jp-layout-color2: #454545;\n",
       "                    background-color: #383838;\n",
       "                }\n",
       "\n",
       "                .geemap-dark .jupyter-button {\n",
       "                    --jp-layout-color3: #383838;\n",
       "                }\n",
       "\n",
       "                .geemap-colab {\n",
       "                    background-color: var(--colab-primary-surface-color, white);\n",
       "                }\n",
       "\n",
       "                .geemap-colab .jupyter-button {\n",
       "                    --jp-layout-color3: var(--colab-primary-surface-color, white);\n",
       "                }\n",
       "            </style>\n",
       "            "
      ],
      "text/plain": [
       "<IPython.core.display.HTML object>"
      ]
     },
     "metadata": {},
     "output_type": "display_data"
    }
   ],
   "source": [
    "gee = GEE_Toolkit()"
   ]
  },
  {
   "cell_type": "code",
   "execution_count": 64,
   "metadata": {},
   "outputs": [
    {
     "data": {
      "text/html": [
       "\n",
       "            <style>\n",
       "                .geemap-dark {\n",
       "                    --jp-widgets-color: white;\n",
       "                    --jp-widgets-label-color: white;\n",
       "                    --jp-ui-font-color1: white;\n",
       "                    --jp-layout-color2: #454545;\n",
       "                    background-color: #383838;\n",
       "                }\n",
       "\n",
       "                .geemap-dark .jupyter-button {\n",
       "                    --jp-layout-color3: #383838;\n",
       "                }\n",
       "\n",
       "                .geemap-colab {\n",
       "                    background-color: var(--colab-primary-surface-color, white);\n",
       "                }\n",
       "\n",
       "                .geemap-colab .jupyter-button {\n",
       "                    --jp-layout-color3: var(--colab-primary-surface-color, white);\n",
       "                }\n",
       "            </style>\n",
       "            "
      ],
      "text/plain": [
       "<IPython.core.display.HTML object>"
      ]
     },
     "metadata": {},
     "output_type": "display_data"
    },
    {
     "data": {
      "application/vnd.jupyter.widget-view+json": {
       "model_id": "164562fdfec64ed197a6c6832e1f4452",
       "version_major": 2,
       "version_minor": 0
      },
      "text/plain": [
       "Map(bottom=366634.0, center=[47.57698636762855, -122.27565249999977], controls=(WidgetControl(options=['positi…"
      ]
     },
     "execution_count": 64,
     "metadata": {},
     "output_type": "execute_result"
    }
   ],
   "source": [
    "L8 = gee.get_imagecollection(\"LANDSAT/LC08/C02/T1_TOA\")\n",
    "# filtered = L8.filterDate(\"2020-05-01\", \"2024-01-01\").filterBounds(gee.get_drawn_info())\n",
    "filtered = L8.filterDate(\"2020-05-01\", \"2024-01-01\")\n",
    "# image = ee.Image(filtered.first())\n",
    "# nvdi = image.normalizedDifference([\"B5\", \"B4\"])\n",
    "\n",
    "def add_nvdi(img):\n",
    "    nvdi = img.normalizedDifference([\"B5\", \"B4\"]).rename(\"nvdi\")\n",
    "    return img.addBands(nvdi)\n",
    "\n",
    "nvdi = filtered.map(add_nvdi)\n",
    "\n",
    "vis_params_L81 = gee.vis_params_maker(min_=0, max_=0.3, bands=[\"B4\", \"B3\", \"B2\"])\n",
    "vis_params_L82 = gee.vis_params_maker(min_=0, max_=0.3, bands=[\"B5\", \"B4\", \"B3\"])\n",
    "vis_params_nvdi = gee.vis_params_maker(min_=0, max_=0.7, bands=[\"nvdi\"])\n",
    "\n",
    "# gee.add_layer(layer=filtered.median(), vis_params=vis_params_L81, name=\"true color\")\n",
    "# gee.add_layer(layer=filtered.min(), vis_params=vis_params_L81, name=\"true color\")\n",
    "# gee.add_layer(layer=filtered, vis_params=vis_params_L81, name=\"True color\")\n",
    "# gee.add_layer(layer=image, vis_params=vis_params_L81, name=\"True color on image\")\n",
    "# gee.add_layer(layer=nvdi, vis_params=vis_params_nvdi, name=\"NVDI\")\n",
    "gee.add_layer(layer=filtered.median(), vis_params=vis_params_L81, name=\"true color\")\n",
    "gee.add_layer(layer=nvdi.median(), vis_params=vis_params_nvdi, name=\"nvdi\")\n",
    "\n",
    "gayan_geometry = gee.get_geometry(country=\"Guyana\")\n",
    "seattle = gee.get_geometry(place=\"Seattle\")\n",
    "\n",
    "gee.set_map(centered_obj=seattle, zoom=12)\n",
    "gee.map"
   ]
  },
  {
   "cell_type": "code",
   "execution_count": 169,
   "metadata": {},
   "outputs": [
    {
     "data": {
      "text/html": [
       "\n",
       "            <style>\n",
       "                .geemap-dark {\n",
       "                    --jp-widgets-color: white;\n",
       "                    --jp-widgets-label-color: white;\n",
       "                    --jp-ui-font-color1: white;\n",
       "                    --jp-layout-color2: #454545;\n",
       "                    background-color: #383838;\n",
       "                }\n",
       "\n",
       "                .geemap-dark .jupyter-button {\n",
       "                    --jp-layout-color3: #383838;\n",
       "                }\n",
       "\n",
       "                .geemap-colab {\n",
       "                    background-color: var(--colab-primary-surface-color, white);\n",
       "                }\n",
       "\n",
       "                .geemap-colab .jupyter-button {\n",
       "                    --jp-layout-color3: var(--colab-primary-surface-color, white);\n",
       "                }\n",
       "            </style>\n",
       "            "
      ],
      "text/plain": [
       "<IPython.core.display.HTML object>"
      ]
     },
     "metadata": {},
     "output_type": "display_data"
    },
    {
     "name": "stdout",
     "output_type": "stream",
     "text": [
      "[INFO] Drawn feature coordinates: [-122.299049, 47.601487]\n"
     ]
    }
   ],
   "source": [
    "node = gee.get_drawn_info()"
   ]
  },
  {
   "cell_type": "code",
   "execution_count": 6,
   "metadata": {},
   "outputs": [
    {
     "data": {
      "text/html": [
       "\n",
       "            <style>\n",
       "                .geemap-dark {\n",
       "                    --jp-widgets-color: white;\n",
       "                    --jp-widgets-label-color: white;\n",
       "                    --jp-ui-font-color1: white;\n",
       "                    --jp-layout-color2: #454545;\n",
       "                    background-color: #383838;\n",
       "                }\n",
       "\n",
       "                .geemap-dark .jupyter-button {\n",
       "                    --jp-layout-color3: #383838;\n",
       "                }\n",
       "\n",
       "                .geemap-colab {\n",
       "                    background-color: var(--colab-primary-surface-color, white);\n",
       "                }\n",
       "\n",
       "                .geemap-colab .jupyter-button {\n",
       "                    --jp-layout-color3: var(--colab-primary-surface-color, white);\n",
       "                }\n",
       "            </style>\n",
       "            "
      ],
      "text/plain": [
       "<IPython.core.display.HTML object>"
      ]
     },
     "metadata": {},
     "output_type": "display_data"
    },
    {
     "data": {
      "application/vnd.jupyter.widget-view+json": {
       "model_id": "f800cae0a2374ca0b0df862cd534377b",
       "version_major": 2,
       "version_minor": 0
      },
      "text/plain": [
       "Map(center=[0, 0], controls=(WidgetControl(options=['position', 'transparent_bg'], widget=SearchDataGUI(childr…"
      ]
     },
     "execution_count": 6,
     "metadata": {},
     "output_type": "execute_result"
    }
   ],
   "source": [
    "gee.map"
   ]
  },
  {
   "cell_type": "code",
   "execution_count": 78,
   "metadata": {},
   "outputs": [
    {
     "data": {
      "text/html": [
       "\n",
       "            <style>\n",
       "                .geemap-dark {\n",
       "                    --jp-widgets-color: white;\n",
       "                    --jp-widgets-label-color: white;\n",
       "                    --jp-ui-font-color1: white;\n",
       "                    --jp-layout-color2: #454545;\n",
       "                    background-color: #383838;\n",
       "                }\n",
       "\n",
       "                .geemap-dark .jupyter-button {\n",
       "                    --jp-layout-color3: #383838;\n",
       "                }\n",
       "\n",
       "                .geemap-colab {\n",
       "                    background-color: var(--colab-primary-surface-color, white);\n",
       "                }\n",
       "\n",
       "                .geemap-colab .jupyter-button {\n",
       "                    --jp-layout-color3: var(--colab-primary-surface-color, white);\n",
       "                }\n",
       "            </style>\n",
       "            "
      ],
      "text/plain": [
       "<IPython.core.display.HTML object>"
      ]
     },
     "metadata": {},
     "output_type": "display_data"
    }
   ],
   "source": [
    "gee = GEE_Toolkit()"
   ]
  },
  {
   "cell_type": "code",
   "execution_count": null,
   "metadata": {},
   "outputs": [
    {
     "data": {
      "text/html": [
       "\n",
       "            <style>\n",
       "                .geemap-dark {\n",
       "                    --jp-widgets-color: white;\n",
       "                    --jp-widgets-label-color: white;\n",
       "                    --jp-ui-font-color1: white;\n",
       "                    --jp-layout-color2: #454545;\n",
       "                    background-color: #383838;\n",
       "                }\n",
       "\n",
       "                .geemap-dark .jupyter-button {\n",
       "                    --jp-layout-color3: #383838;\n",
       "                }\n",
       "\n",
       "                .geemap-colab {\n",
       "                    background-color: var(--colab-primary-surface-color, white);\n",
       "                }\n",
       "\n",
       "                .geemap-colab .jupyter-button {\n",
       "                    --jp-layout-color3: var(--colab-primary-surface-color, white);\n",
       "                }\n",
       "            </style>\n",
       "            "
      ],
      "text/plain": [
       "<IPython.core.display.HTML object>"
      ]
     },
     "metadata": {},
     "output_type": "display_data"
    },
    {
     "name": "stdout",
     "output_type": "stream",
     "text": [
      "[ERROR] No feature drawn yet.\n",
      "[INFO] The size is 56\n",
      "['B1', 'B2', 'B3', 'B4', 'B5', 'B6', 'B7', 'B8', 'B9', 'B10', 'B11', 'QA_PIXEL', 'QA_RADSAT', 'SAA', 'SZA', 'VAA', 'VZA', 'ndvi']\n"
     ]
    },
    {
     "data": {
      "application/vnd.jupyter.widget-view+json": {
       "model_id": "25e286ba30ba45af93e9780d63c309a1",
       "version_major": 2,
       "version_minor": 0
      },
      "text/plain": [
       "Map(bottom=1465636.0, center=[47.57698636762855, -122.27565249999977], controls=(WidgetControl(options=['posit…"
      ]
     },
     "execution_count": 100,
     "metadata": {},
     "output_type": "execute_result"
    },
    {
     "name": "stderr",
     "output_type": "stream",
     "text": [
      "No such comm: a8e2e1316d1648188c21d25b72f11b45\n",
      "No such comm: a8e2e1316d1648188c21d25b72f11b45\n",
      "No such comm: a8e2e1316d1648188c21d25b72f11b45\n",
      "No such comm: a8e2e1316d1648188c21d25b72f11b45\n",
      "No such comm: a8e2e1316d1648188c21d25b72f11b45\n",
      "No such comm: a8e2e1316d1648188c21d25b72f11b45\n",
      "No such comm: a8e2e1316d1648188c21d25b72f11b45\n",
      "No such comm: a8e2e1316d1648188c21d25b72f11b45\n",
      "No such comm: a8e2e1316d1648188c21d25b72f11b45\n",
      "No such comm: a8e2e1316d1648188c21d25b72f11b45\n"
     ]
    }
   ],
   "source": [
    "node = gee.get_drawn_info()\n",
    "gayan_geometry = gee.get_geometry(country=\"Guyana\")\n",
    "seattle = gee.get_geometry(place=\"Seattle\")\n",
    "yazd = gee.get_geometry(place=\"Yazd\")\n",
    "\n",
    "L8 = gee.get_imagecollection(\"LANDSAT/LC08/C02/T1_TOA\")\n",
    "filtered = L8.filterDate(\"2020-01-01\", \"2021-03-01\").filterBounds(seattle)\n",
    "print(f\"[INFO] The size is {filtered.size().getInfo()}\")\n",
    "\n",
    "# data = gee.extract_time_series(filtered, geometry=node, bands=[\"B4\", \"B3\", \"B2\",\"ndvi\"], reducer=\"mean\", scale=1)\n",
    "# gee.plot_time_series(data)\n",
    "\n",
    "vis_params_L81 = gee.vis_params_maker(min_=0, max_=0.3, bands=[\"B4\", \"B3\", \"B2\"])\n",
    "vis_params_L82 = gee.vis_params_maker(min_=0, max_=0.3, bands=[\"B5\", \"B4\", \"B3\"])\n",
    "vis_params_nvdi = gee.vis_params_maker(min_=0, max_=0.7)\n",
    "\n",
    "gee.add_layer(layer=filtered.median(), vis_params=vis_params_L81, name=\"true color\")\n",
    "\n",
    "###################################################################################################################\n",
    "def get_ndvi(image:ee.Image):\n",
    "    ndvi = image.normalizedDifference([\"B5\", \"B4\"]).rename(\"ndvi\")\n",
    "    return image.addBands(ndvi)\n",
    "\n",
    "ndvi = filtered.map(get_ndvi)\n",
    "\n",
    "gee.get_bands_name(ndvi)\n",
    "# gee.add_layer(layer=ndvi.select(\"ndvi\"), vis_params=vis_params_nvdi, name=\"ndvi\")\n",
    "greenset = ndvi.qualityMosaic(\"ndvi\")\n",
    "\n",
    "gee.add_layer(layer=greenset, vis_params=vis_params_L81, name=\"Greenest\")\n",
    "###################################################################################################################\n",
    "\n",
    "gee.set_map(centered_obj=seattle, zoom=14)\n",
    "gee.map"
   ]
  },
  {
   "cell_type": "code",
   "execution_count": 101,
   "metadata": {},
   "outputs": [
    {
     "data": {
      "text/html": [
       "\n",
       "            <style>\n",
       "                .geemap-dark {\n",
       "                    --jp-widgets-color: white;\n",
       "                    --jp-widgets-label-color: white;\n",
       "                    --jp-ui-font-color1: white;\n",
       "                    --jp-layout-color2: #454545;\n",
       "                    background-color: #383838;\n",
       "                }\n",
       "\n",
       "                .geemap-dark .jupyter-button {\n",
       "                    --jp-layout-color3: #383838;\n",
       "                }\n",
       "\n",
       "                .geemap-colab {\n",
       "                    background-color: var(--colab-primary-surface-color, white);\n",
       "                }\n",
       "\n",
       "                .geemap-colab .jupyter-button {\n",
       "                    --jp-layout-color3: var(--colab-primary-surface-color, white);\n",
       "                }\n",
       "            </style>\n",
       "            "
      ],
      "text/plain": [
       "<IPython.core.display.HTML object>"
      ]
     },
     "metadata": {},
     "output_type": "display_data"
    },
    {
     "name": "stdout",
     "output_type": "stream",
     "text": [
      "[ERROR] No feature drawn yet.\n",
      "[INFO] The size is 341\n",
      "['B1', 'B2', 'B3', 'B4', 'B5', 'B6', 'B7', 'B8', 'B8A', 'B9', 'B10', 'B11', 'B12', 'QA10', 'QA20', 'QA60', 'ndvi']\n"
     ]
    },
    {
     "data": {
      "application/vnd.jupyter.widget-view+json": {
       "model_id": "25e286ba30ba45af93e9780d63c309a1",
       "version_major": 2,
       "version_minor": 0
      },
      "text/plain": [
       "Map(bottom=1465636.0, center=[47.57698636762855, -122.27565249999977], controls=(WidgetControl(options=['posit…"
      ]
     },
     "execution_count": 101,
     "metadata": {},
     "output_type": "execute_result"
    }
   ],
   "source": [
    "node = gee.get_drawn_info()\n",
    "gayan_geometry = gee.get_geometry(country=\"Guyana\")\n",
    "seattle = gee.get_geometry(place=\"Seattle\")\n",
    "yazd = gee.get_geometry(place=\"Yazd\")\n",
    "\n",
    "s2 = gee.get_imagecollection(\"COPERNICUS/S2_HARMONIZED\")\n",
    "filtered = s2.filterDate(\"2020-01-01\", \"2021-03-01\").filterBounds(seattle)\n",
    "\n",
    "print(f\"[INFO] The size is {filtered.size().getInfo()}\")\n",
    "\n",
    "# data = gee.extract_time_series(filtered, geometry=node, bands=[\"B4\", \"B3\", \"B2\",\"ndvi\"], reducer=\"mean\", scale=1)\n",
    "# gee.plot_time_series(data)\n",
    "\n",
    "vis_params_L81 = gee.vis_params_maker(min_=0, max_=2500, bands=[\"B4\", \"B3\", \"B2\"])\n",
    "vis_params_nvdi = gee.vis_params_maker(min_=0, max_=0.7)\n",
    "\n",
    "gee.add_layer(layer=filtered.median(), vis_params=vis_params_L81, name=\"true color\")\n",
    "\n",
    "###################################################################################################################\n",
    "def get_ndvi(image:ee.Image):\n",
    "    ndvi = image.normalizedDifference([\"B8\", \"B4\"]).rename(\"ndvi\")\n",
    "    return image.addBands(ndvi)\n",
    "\n",
    "ndvi = filtered.map(get_ndvi)\n",
    "\n",
    "gee.get_bands_name(ndvi)\n",
    "# gee.add_layer(layer=ndvi.select(\"ndvi\"), vis_params=vis_params_nvdi, name=\"ndvi\")\n",
    "greenset = ndvi.qualityMosaic(\"ndvi\")\n",
    "\n",
    "gee.add_layer(layer=greenset, vis_params=vis_params_L81, name=\"Greenest\")\n",
    "###################################################################################################################\n",
    "\n",
    "gee.set_map(centered_obj=seattle, zoom=14)\n",
    "gee.map"
   ]
  },
  {
   "cell_type": "code",
   "execution_count": 91,
   "metadata": {},
   "outputs": [
    {
     "data": {
      "text/html": [
       "\n",
       "            <style>\n",
       "                .geemap-dark {\n",
       "                    --jp-widgets-color: white;\n",
       "                    --jp-widgets-label-color: white;\n",
       "                    --jp-ui-font-color1: white;\n",
       "                    --jp-layout-color2: #454545;\n",
       "                    background-color: #383838;\n",
       "                }\n",
       "\n",
       "                .geemap-dark .jupyter-button {\n",
       "                    --jp-layout-color3: #383838;\n",
       "                }\n",
       "\n",
       "                .geemap-colab {\n",
       "                    background-color: var(--colab-primary-surface-color, white);\n",
       "                }\n",
       "\n",
       "                .geemap-colab .jupyter-button {\n",
       "                    --jp-layout-color3: var(--colab-primary-surface-color, white);\n",
       "                }\n",
       "            </style>\n",
       "            "
      ],
      "text/plain": [
       "<IPython.core.display.HTML object>"
      ]
     },
     "metadata": {},
     "output_type": "display_data"
    },
    {
     "ename": "EEException",
     "evalue": "Image.reduceRegion: Too many pixels in the region. Found 119500961, but maxPixels allows only 10000000.\nEnsure that you are not aggregating at a higher resolution than you intended; that is a frequent cause of this error. If not, then you may set the 'maxPixels' argument to a limit suitable for your computation; set 'bestEffort' to true to aggregate at whatever scale results in 'maxPixels' total pixels; or both.",
     "output_type": "error",
     "traceback": [
      "\u001b[1;31m---------------------------------------------------------------------------\u001b[0m",
      "\u001b[1;31mHttpError\u001b[0m                                 Traceback (most recent call last)",
      "File \u001b[1;32mc:\\Python Interpreters\\in_CivilPython\\Lib\\site-packages\\ee\\data.py:402\u001b[0m, in \u001b[0;36m_execute_cloud_call\u001b[1;34m(call, num_retries)\u001b[0m\n\u001b[0;32m    401\u001b[0m \u001b[38;5;28;01mtry\u001b[39;00m:\n\u001b[1;32m--> 402\u001b[0m   \u001b[38;5;28;01mreturn\u001b[39;00m \u001b[43mcall\u001b[49m\u001b[38;5;241;43m.\u001b[39;49m\u001b[43mexecute\u001b[49m\u001b[43m(\u001b[49m\u001b[43mnum_retries\u001b[49m\u001b[38;5;241;43m=\u001b[39;49m\u001b[43mnum_retries\u001b[49m\u001b[43m)\u001b[49m\n\u001b[0;32m    403\u001b[0m \u001b[38;5;28;01mexcept\u001b[39;00m googleapiclient\u001b[38;5;241m.\u001b[39merrors\u001b[38;5;241m.\u001b[39mHttpError \u001b[38;5;28;01mas\u001b[39;00m e:\n",
      "File \u001b[1;32mc:\\Python Interpreters\\in_CivilPython\\Lib\\site-packages\\googleapiclient\\_helpers.py:130\u001b[0m, in \u001b[0;36mpositional.<locals>.positional_decorator.<locals>.positional_wrapper\u001b[1;34m(*args, **kwargs)\u001b[0m\n\u001b[0;32m    129\u001b[0m         logger\u001b[38;5;241m.\u001b[39mwarning(message)\n\u001b[1;32m--> 130\u001b[0m \u001b[38;5;28;01mreturn\u001b[39;00m \u001b[43mwrapped\u001b[49m\u001b[43m(\u001b[49m\u001b[38;5;241;43m*\u001b[39;49m\u001b[43margs\u001b[49m\u001b[43m,\u001b[49m\u001b[43m \u001b[49m\u001b[38;5;241;43m*\u001b[39;49m\u001b[38;5;241;43m*\u001b[39;49m\u001b[43mkwargs\u001b[49m\u001b[43m)\u001b[49m\n",
      "File \u001b[1;32mc:\\Python Interpreters\\in_CivilPython\\Lib\\site-packages\\googleapiclient\\http.py:938\u001b[0m, in \u001b[0;36mHttpRequest.execute\u001b[1;34m(self, http, num_retries)\u001b[0m\n\u001b[0;32m    937\u001b[0m \u001b[38;5;28;01mif\u001b[39;00m resp\u001b[38;5;241m.\u001b[39mstatus \u001b[38;5;241m>\u001b[39m\u001b[38;5;241m=\u001b[39m \u001b[38;5;241m300\u001b[39m:\n\u001b[1;32m--> 938\u001b[0m     \u001b[38;5;28;01mraise\u001b[39;00m HttpError(resp, content, uri\u001b[38;5;241m=\u001b[39m\u001b[38;5;28mself\u001b[39m\u001b[38;5;241m.\u001b[39muri)\n\u001b[0;32m    939\u001b[0m \u001b[38;5;28;01mreturn\u001b[39;00m \u001b[38;5;28mself\u001b[39m\u001b[38;5;241m.\u001b[39mpostproc(resp, content)\n",
      "\u001b[1;31mHttpError\u001b[0m: <HttpError 400 when requesting https://earthengine.googleapis.com/v1/projects/earthengine-legacy/value:compute?prettyPrint=false&alt=json returned \"Image.reduceRegion: Too many pixels in the region. Found 119500961, but maxPixels allows only 10000000.\nEnsure that you are not aggregating at a higher resolution than you intended; that is a frequent cause of this error. If not, then you may set the 'maxPixels' argument to a limit suitable for your computation; set 'bestEffort' to true to aggregate at whatever scale results in 'maxPixels' total pixels; or both.\". Details: \"Image.reduceRegion: Too many pixels in the region. Found 119500961, but maxPixels allows only 10000000.\nEnsure that you are not aggregating at a higher resolution than you intended; that is a frequent cause of this error. If not, then you may set the 'maxPixels' argument to a limit suitable for your computation; set 'bestEffort' to true to aggregate at whatever scale results in 'maxPixels' total pixels; or both.\">",
      "\nDuring handling of the above exception, another exception occurred:\n",
      "\u001b[1;31mEEException\u001b[0m                               Traceback (most recent call last)",
      "Cell \u001b[1;32mIn[91], line 3\u001b[0m\n\u001b[0;32m      1\u001b[0m \u001b[43ms2\u001b[49m\u001b[38;5;241;43m.\u001b[39;49m\u001b[43mfilterBounds\u001b[49m\u001b[43m(\u001b[49m\u001b[43mseattle\u001b[49m\u001b[43m)\u001b[49m\u001b[38;5;241;43m.\u001b[39;49m\u001b[43mselect\u001b[49m\u001b[43m(\u001b[49m\u001b[38;5;124;43m\"\u001b[39;49m\u001b[38;5;124;43mB4\u001b[39;49m\u001b[38;5;124;43m\"\u001b[39;49m\u001b[43m)\u001b[49m\u001b[38;5;241;43m.\u001b[39;49m\u001b[43mfirst\u001b[49m\u001b[43m(\u001b[49m\u001b[43m)\u001b[49m\u001b[38;5;241;43m.\u001b[39;49m\u001b[43mreduceRegion\u001b[49m\u001b[43m(\u001b[49m\u001b[43mreducer\u001b[49m\u001b[38;5;241;43m=\u001b[39;49m\u001b[43mee\u001b[49m\u001b[38;5;241;43m.\u001b[39;49m\u001b[43mReducer\u001b[49m\u001b[38;5;241;43m.\u001b[39;49m\u001b[43mmean\u001b[49m\u001b[43m(\u001b[49m\u001b[43m)\u001b[49m\u001b[43m,\u001b[49m\n\u001b[0;32m      2\u001b[0m \u001b[43m                                                        \u001b[49m\u001b[43mgeometry\u001b[49m\u001b[38;5;241;43m=\u001b[39;49m\u001b[43mnode\u001b[49m\u001b[43m,\u001b[49m\n\u001b[1;32m----> 3\u001b[0m \u001b[43m                                                        \u001b[49m\u001b[43mscale\u001b[49m\u001b[38;5;241;43m=\u001b[39;49m\u001b[38;5;241;43m10\u001b[39;49m\u001b[43m)\u001b[49m\u001b[38;5;241;43m.\u001b[39;49m\u001b[43mgetInfo\u001b[49m\u001b[43m(\u001b[49m\u001b[43m)\u001b[49m\n",
      "File \u001b[1;32mc:\\Python Interpreters\\in_CivilPython\\Lib\\site-packages\\ee\\computedobject.py:107\u001b[0m, in \u001b[0;36mComputedObject.getInfo\u001b[1;34m(self)\u001b[0m\n\u001b[0;32m    101\u001b[0m \u001b[38;5;28;01mdef\u001b[39;00m \u001b[38;5;21mgetInfo\u001b[39m(\u001b[38;5;28mself\u001b[39m) \u001b[38;5;241m-\u001b[39m\u001b[38;5;241m>\u001b[39m Optional[Any]:\n\u001b[0;32m    102\u001b[0m \u001b[38;5;250m  \u001b[39m\u001b[38;5;124;03m\"\"\"Fetch and return information about this object.\u001b[39;00m\n\u001b[0;32m    103\u001b[0m \n\u001b[0;32m    104\u001b[0m \u001b[38;5;124;03m  Returns:\u001b[39;00m\n\u001b[0;32m    105\u001b[0m \u001b[38;5;124;03m    The object can evaluate to anything.\u001b[39;00m\n\u001b[0;32m    106\u001b[0m \u001b[38;5;124;03m  \"\"\"\u001b[39;00m\n\u001b[1;32m--> 107\u001b[0m   \u001b[38;5;28;01mreturn\u001b[39;00m \u001b[43mdata\u001b[49m\u001b[38;5;241;43m.\u001b[39;49m\u001b[43mcomputeValue\u001b[49m\u001b[43m(\u001b[49m\u001b[38;5;28;43mself\u001b[39;49m\u001b[43m)\u001b[49m\n",
      "File \u001b[1;32mc:\\Python Interpreters\\in_CivilPython\\Lib\\site-packages\\ee\\data.py:1108\u001b[0m, in \u001b[0;36mcomputeValue\u001b[1;34m(obj)\u001b[0m\n\u001b[0;32m   1105\u001b[0m body \u001b[38;5;241m=\u001b[39m {\u001b[38;5;124m'\u001b[39m\u001b[38;5;124mexpression\u001b[39m\u001b[38;5;124m'\u001b[39m: serializer\u001b[38;5;241m.\u001b[39mencode(obj, for_cloud_api\u001b[38;5;241m=\u001b[39m\u001b[38;5;28;01mTrue\u001b[39;00m)}\n\u001b[0;32m   1106\u001b[0m _maybe_populate_workload_tag(body)\n\u001b[1;32m-> 1108\u001b[0m \u001b[38;5;28;01mreturn\u001b[39;00m \u001b[43m_execute_cloud_call\u001b[49m\u001b[43m(\u001b[49m\n\u001b[0;32m   1109\u001b[0m \u001b[43m    \u001b[49m\u001b[43m_get_cloud_projects\u001b[49m\u001b[43m(\u001b[49m\u001b[43m)\u001b[49m\n\u001b[0;32m   1110\u001b[0m \u001b[43m    \u001b[49m\u001b[38;5;241;43m.\u001b[39;49m\u001b[43mvalue\u001b[49m\u001b[43m(\u001b[49m\u001b[43m)\u001b[49m\n\u001b[0;32m   1111\u001b[0m \u001b[43m    \u001b[49m\u001b[38;5;241;43m.\u001b[39;49m\u001b[43mcompute\u001b[49m\u001b[43m(\u001b[49m\u001b[43mbody\u001b[49m\u001b[38;5;241;43m=\u001b[39;49m\u001b[43mbody\u001b[49m\u001b[43m,\u001b[49m\u001b[43m \u001b[49m\u001b[43mproject\u001b[49m\u001b[38;5;241;43m=\u001b[39;49m\u001b[43m_get_projects_path\u001b[49m\u001b[43m(\u001b[49m\u001b[43m)\u001b[49m\u001b[43m,\u001b[49m\u001b[43m \u001b[49m\u001b[43mprettyPrint\u001b[49m\u001b[38;5;241;43m=\u001b[39;49m\u001b[38;5;28;43;01mFalse\u001b[39;49;00m\u001b[43m)\u001b[49m\n\u001b[0;32m   1112\u001b[0m \u001b[43m\u001b[49m\u001b[43m)\u001b[49m[\u001b[38;5;124m'\u001b[39m\u001b[38;5;124mresult\u001b[39m\u001b[38;5;124m'\u001b[39m]\n",
      "File \u001b[1;32mc:\\Python Interpreters\\in_CivilPython\\Lib\\site-packages\\ee\\data.py:404\u001b[0m, in \u001b[0;36m_execute_cloud_call\u001b[1;34m(call, num_retries)\u001b[0m\n\u001b[0;32m    402\u001b[0m   \u001b[38;5;28;01mreturn\u001b[39;00m call\u001b[38;5;241m.\u001b[39mexecute(num_retries\u001b[38;5;241m=\u001b[39mnum_retries)\n\u001b[0;32m    403\u001b[0m \u001b[38;5;28;01mexcept\u001b[39;00m googleapiclient\u001b[38;5;241m.\u001b[39merrors\u001b[38;5;241m.\u001b[39mHttpError \u001b[38;5;28;01mas\u001b[39;00m e:\n\u001b[1;32m--> 404\u001b[0m   \u001b[38;5;28;01mraise\u001b[39;00m _translate_cloud_exception(e)\n",
      "\u001b[1;31mEEException\u001b[0m: Image.reduceRegion: Too many pixels in the region. Found 119500961, but maxPixels allows only 10000000.\nEnsure that you are not aggregating at a higher resolution than you intended; that is a frequent cause of this error. If not, then you may set the 'maxPixels' argument to a limit suitable for your computation; set 'bestEffort' to true to aggregate at whatever scale results in 'maxPixels' total pixels; or both."
     ]
    }
   ],
   "source": [
    "s2.filterBounds(seattle).select(\"B4\").first().reduceRegion(reducer=ee.Reducer.mean(),\n",
    "                                                        geometry=node,\n",
    "                                                        scale=10).getInfo()"
   ]
  },
  {
   "cell_type": "code",
   "execution_count": 54,
   "metadata": {},
   "outputs": [
    {
     "data": {
      "text/html": [
       "\n",
       "            <style>\n",
       "                .geemap-dark {\n",
       "                    --jp-widgets-color: white;\n",
       "                    --jp-widgets-label-color: white;\n",
       "                    --jp-ui-font-color1: white;\n",
       "                    --jp-layout-color2: #454545;\n",
       "                    background-color: #383838;\n",
       "                }\n",
       "\n",
       "                .geemap-dark .jupyter-button {\n",
       "                    --jp-layout-color3: #383838;\n",
       "                }\n",
       "\n",
       "                .geemap-colab {\n",
       "                    background-color: var(--colab-primary-surface-color, white);\n",
       "                }\n",
       "\n",
       "                .geemap-colab .jupyter-button {\n",
       "                    --jp-layout-color3: var(--colab-primary-surface-color, white);\n",
       "                }\n",
       "            </style>\n",
       "            "
      ],
      "text/plain": [
       "<IPython.core.display.HTML object>"
      ]
     },
     "metadata": {},
     "output_type": "display_data"
    },
    {
     "ename": "TypeError",
     "evalue": "list indices must be integers or slices, not str",
     "output_type": "error",
     "traceback": [
      "\u001b[1;31m---------------------------------------------------------------------------\u001b[0m",
      "\u001b[1;31mTypeError\u001b[0m                                 Traceback (most recent call last)",
      "Cell \u001b[1;32mIn[54], line 1\u001b[0m\n\u001b[1;32m----> 1\u001b[0m new \u001b[38;5;241m=\u001b[39m (\u001b[43mgee\u001b[49m\u001b[38;5;241;43m.\u001b[39;49m\u001b[43mtest2\u001b[49m\u001b[43m[\u001b[49m\u001b[38;5;124;43m\"\u001b[39;49m\u001b[38;5;124;43mDate\u001b[39;49m\u001b[38;5;124;43m\"\u001b[39;49m\u001b[43m]\u001b[49m)\n",
      "\u001b[1;31mTypeError\u001b[0m: list indices must be integers or slices, not str"
     ]
    }
   ],
   "source": [
    "new = (gee.test2[\"Date\"])"
   ]
  }
 ],
 "metadata": {
  "kernelspec": {
   "display_name": "Python 3",
   "language": "python",
   "name": "python3"
  },
  "language_info": {
   "codemirror_mode": {
    "name": "ipython",
    "version": 3
   },
   "file_extension": ".py",
   "mimetype": "text/x-python",
   "name": "python",
   "nbconvert_exporter": "python",
   "pygments_lexer": "ipython3",
   "version": "3.12.2"
  }
 },
 "nbformat": 4,
 "nbformat_minor": 2
}
