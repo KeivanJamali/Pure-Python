{
 "cells": [
  {
   "cell_type": "code",
   "execution_count": 7,
   "metadata": {},
   "outputs": [
    {
     "name": "stdout",
     "output_type": "stream",
     "text": [
      "The autoreload extension is already loaded. To reload it, use:\n",
      "  %reload_ext autoreload\n"
     ]
    }
   ],
   "source": [
    "%load_ext autoreload\n",
    "%autoreload 2\n",
    "from Shortest_Path_Algorithms import Graph_Dataloader, Dijkstra, Bellman_Ford, A_star\n",
    "import networkx as nx\n",
    "import random\n",
    "import pandas as pd\n"
   ]
  },
  {
   "cell_type": "code",
   "execution_count": 4,
   "metadata": {},
   "outputs": [],
   "source": [
    "# Load dataset with correct delimiter\n",
    "df = pd.read_csv(\"europe-road (1).csv\", delimiter=\";\")\n",
    "\n",
    "# Extract nodes\n",
    "nodes = {}\n",
    "for index, row in df.iterrows():\n",
    "    lat, lon = map(float, row[\"Geo Point\"].split(\",\"))\n",
    "    nodes[index] = {\"pos\": (lon, lat)}  # Flip (lat, lon) to (x, y) for visualization\n",
    "\n",
    "# Extract edges\n",
    "edges = {}\n",
    "for i in range(len(df) - 1):  # Assuming consecutive rows are connected\n",
    "    node1 = i\n",
    "    node2 = i + 1\n",
    "    cost = float(df.loc[i, \"Shape_Leng\"])\n",
    "    edges[(node1, node2)] = {\"cost\": cost}\n",
    "\n",
    "# Print example output\n",
    "problem = Graph_Dataloader.Graph(directed=False)\n",
    "problem.set_setting(nodes=nodes, edges=edges)\n",
    "# problem.plot_graph(node_label=False, edge_label=False)\n"
   ]
  },
  {
   "cell_type": "code",
   "execution_count": 10,
   "metadata": {},
   "outputs": [
    {
     "name": "stdout",
     "output_type": "stream",
     "text": [
      "Class \u001b[32m'Dijkstra'\u001b[39m - Method \u001b[32m'_algorithm'\u001b[39mexecuted in \u001b[31m0.86775220\u001b[39m seconds.\n",
      "[Successful] Find the path to node 92838 sooner. Early stop!\n",
      "Class \u001b[32m'Dijkstra'\u001b[39m - Method \u001b[32m'_algorithm'\u001b[39mexecuted in \u001b[31m0.44721840\u001b[39m seconds.\n",
      "[Successful] Found the path to 92838. Early stop!\n",
      "Class \u001b[32m'A_Star'\u001b[39m - Method \u001b[32m'_algorithm'\u001b[39mexecuted in \u001b[31m0.60906530\u001b[39m seconds.\n"
     ]
    }
   ],
   "source": [
    "start = random.choice(list(range(460112)))\n",
    "end = random.choice(list(range(460112)))\n",
    "\n",
    "dijkstra1 = Dijkstra.Dijkstra(problem.graph)\n",
    "dijkstra1.fit(source=start, target=end, early_stop=False)\n",
    "\n",
    "\n",
    "dijkstra2 = Dijkstra.Dijkstra(problem.graph)\n",
    "dijkstra2.fit(source=start, target=end, early_stop=True)\n",
    "\n",
    "# bellman_ford = Bellman_Ford.Bellman_Ford(problem.graph)\n",
    "# bellman_ford.fit(source=start)\n",
    "\n",
    "astar = A_star.A_Star(problem.graph)\n",
    "astar.fit(source=start, target=end)"
   ]
  },
  {
   "cell_type": "code",
   "execution_count": 11,
   "metadata": {},
   "outputs": [],
   "source": [
    "distances1 = dijkstra1.distances.items()\n",
    "distances2 = dijkstra2.distances.items()\n",
    "distances3 = astar.distances.items()"
   ]
  },
  {
   "cell_type": "code",
   "execution_count": 12,
   "metadata": {},
   "outputs": [
    {
     "data": {
      "text/plain": [
       "(460111, 200816, 200816)"
      ]
     },
     "execution_count": 12,
     "metadata": {},
     "output_type": "execute_result"
    }
   ],
   "source": [
    "s1 = 0\n",
    "s2 = 0\n",
    "s3 = 0\n",
    "for i, v in distances1:\n",
    "    s1+=1 if v < 100000 else 0\n",
    "for i, v in distances2:\n",
    "    s2+=1 if v < 100000 else 0\n",
    "for i, v in distances2:\n",
    "    s3+=1 if v < 100000 else 0\n",
    "s1, s2, s3"
   ]
  },
  {
   "cell_type": "code",
   "execution_count": null,
   "metadata": {},
   "outputs": [],
   "source": []
  }
 ],
 "metadata": {
  "kernelspec": {
   "display_name": "Python 3",
   "language": "python",
   "name": "python3"
  },
  "language_info": {
   "codemirror_mode": {
    "name": "ipython",
    "version": 3
   },
   "file_extension": ".py",
   "mimetype": "text/x-python",
   "name": "python",
   "nbconvert_exporter": "python",
   "pygments_lexer": "ipython3",
   "version": "3.12.1"
  }
 },
 "nbformat": 4,
 "nbformat_minor": 2
}
