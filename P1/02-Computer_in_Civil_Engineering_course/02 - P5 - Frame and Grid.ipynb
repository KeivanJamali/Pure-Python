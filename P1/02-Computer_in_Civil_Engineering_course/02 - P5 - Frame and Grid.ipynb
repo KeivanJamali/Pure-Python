{
 "cells": [
  {
   "cell_type": "code",
   "execution_count": 12,
   "outputs": [
    {
     "name": "stdout",
     "output_type": "stream",
     "text": [
      "The autoreload extension is already loaded. To reload it, use:\n",
      "  %reload_ext autoreload\n"
     ]
    }
   ],
   "source": [
    "%load_ext autoreload\n",
    "%autoreload 2\n",
    "import Unit_5 as u5\n",
    "import numpy as np\n",
    "import sys\n",
    "import matplotlib.pyplot as plt\n",
    "\n",
    "np.set_printoptions(threshold=sys.maxsize)  # to print total matrix"
   ],
   "metadata": {
    "collapsed": false,
    "pycharm": {
     "name": "#%%\n"
    },
    "ExecuteTime": {
     "end_time": "2023-06-11T10:40:09.215183Z",
     "start_time": "2023-06-11T10:40:09.155707600Z"
    }
   }
  },
  {
   "cell_type": "markdown",
   "source": [
    "## Entering Data\n",
    "## And a preview of Entire data"
   ],
   "metadata": {
    "collapsed": false
   }
  },
  {
   "cell_type": "code",
   "execution_count": 24,
   "outputs": [
    {
     "name": "stdout",
     "output_type": "stream",
     "text": [
      "[[ 0.00e+00  1.50e+07  1.80e+09  0.00e+00 -1.50e+07  1.80e+09]\n",
      " [-1.25e+06  0.00e+00  0.00e+00  1.25e+06  0.00e+00  0.00e+00]\n",
      " [ 0.00e+00  1.80e+09  2.88e+11  0.00e+00 -1.80e+09  1.44e+11]\n",
      " [ 0.00e+00 -1.50e+07 -1.80e+09  0.00e+00  1.50e+07 -1.80e+09]\n",
      " [ 1.25e+06  0.00e+00  0.00e+00 -1.25e+06  0.00e+00  0.00e+00]\n",
      " [ 0.00e+00  1.80e+09  1.44e+11  0.00e+00 -1.80e+09  2.88e+11]]\n"
     ]
    },
    {
     "data": {
      "text/plain": "<function matplotlib.pyplot.show(close=None, block=None)>"
     },
     "execution_count": 24,
     "metadata": {},
     "output_type": "execute_result"
    },
    {
     "data": {
      "text/plain": "<Figure size 640x480 with 1 Axes>",
      "image/png": "[encoded data removed]"
     },
     "metadata": {},
     "output_type": "display_data"
    }
   ],
   "source": [
    "E = 30 * 10 ** 6  #lb/in^2\n",
    "A = 10  #in^2\n",
    "I1 = 200  #in^4\n",
    "I2 = 200  #in^4\n",
    "I3 = 200  #in^4\n",
    "nodes = [0]\n",
    "nodes.append(u5.Point(0, 20 * 12, number=1))\n",
    "nodes.append(u5.Point(20 * 12, 20 * 12, number=2))\n",
    "nodes.append(u5.Point(12 * 20, 0, number=3))\n",
    "nodes.append(u5.Point(0, 0, number=4))\n",
    "elements = []\n",
    "elements.append(u5.Element(nodes[1], nodes[4], A=A, E=E, I=I1))\n",
    "# elements.append(u5.Element(nodes[1], nodes[2], A=A, E=E, I=I2))\n",
    "# elements.append(u5.Element(nodes[2], nodes[3], A=A, E=E, I=I3))\n",
    "\n",
    "n_node_total = len(nodes) - 1\n",
    "\n",
    "x = []\n",
    "y = []\n",
    "n1 = [4, 1, 2, 3]\n",
    "\n",
    "n = [n1]\n",
    "\n",
    "for i in range(len(n)):\n",
    "    x.append(np.array([]))\n",
    "    y.append(np.array([]))\n",
    "    for j in n[i]:\n",
    "        x[i] = np.append(x[i], nodes[j].x)\n",
    "        y[i] = np.append(y[i], nodes[j].y)\n",
    "    plt.plot(x[i], y[i], \"b\")\n",
    "\n",
    "plt.show\n",
    "# print(elements[0].K)"
   ],
   "metadata": {
    "collapsed": false,
    "pycharm": {
     "name": "#%%\n"
    },
    "ExecuteTime": {
     "end_time": "2023-06-11T11:02:11.322139400Z",
     "start_time": "2023-06-11T11:02:10.992844700Z"
    }
   }
  },
  {
   "cell_type": "markdown",
   "source": [
    "#### Step 1: make total K as \"K\""
   ],
   "metadata": {
    "collapsed": false
   }
  },
  {
   "cell_type": "code",
   "execution_count": 14,
   "outputs": [
    {
     "name": "stdout",
     "output_type": "stream",
     "text": [
      "[ 1.00416667e+01  0.00000000e+00  5.00000000e+00 -1.00000000e+01\n",
      "  0.00000000e+00  0.00000000e+00  0.00000000e+00  0.00000000e+00\n",
      "  0.00000000e+00 -4.16666667e-02  0.00000000e+00  5.00000000e+00\n",
      "  0.00000000e+00  1.00416667e+01  5.00000000e+00  0.00000000e+00\n",
      " -4.16666667e-02  5.00000000e+00  0.00000000e+00  0.00000000e+00\n",
      "  0.00000000e+00  0.00000000e+00 -1.00000000e+01  0.00000000e+00\n",
      "  5.00000000e+00  5.00000000e+00  1.60000000e+03  0.00000000e+00\n",
      " -5.00000000e+00  4.00000000e+02  0.00000000e+00  0.00000000e+00\n",
      "  0.00000000e+00 -5.00000000e+00  0.00000000e+00  4.00000000e+02\n",
      " -1.00000000e+01  0.00000000e+00  0.00000000e+00  1.00416667e+01\n",
      "  0.00000000e+00  5.00000000e+00 -4.16666667e-02  0.00000000e+00\n",
      "  5.00000000e+00  0.00000000e+00  0.00000000e+00  0.00000000e+00\n",
      "  0.00000000e+00 -4.16666667e-02 -5.00000000e+00  0.00000000e+00\n",
      "  1.00416667e+01 -5.00000000e+00  0.00000000e+00 -1.00000000e+01\n",
      "  0.00000000e+00  0.00000000e+00  0.00000000e+00  0.00000000e+00\n",
      "  0.00000000e+00  5.00000000e+00  4.00000000e+02  5.00000000e+00\n",
      " -5.00000000e+00  1.60000000e+03 -5.00000000e+00  0.00000000e+00\n",
      "  4.00000000e+02  0.00000000e+00  0.00000000e+00  0.00000000e+00\n",
      "  0.00000000e+00  0.00000000e+00  0.00000000e+00 -4.16666667e-02\n",
      "  0.00000000e+00 -5.00000000e+00  4.16666667e-02  0.00000000e+00\n",
      " -5.00000000e+00  0.00000000e+00  0.00000000e+00  0.00000000e+00\n",
      "  0.00000000e+00  0.00000000e+00  0.00000000e+00  0.00000000e+00\n",
      " -1.00000000e+01  0.00000000e+00  0.00000000e+00  1.00000000e+01\n",
      "  0.00000000e+00  0.00000000e+00  0.00000000e+00  0.00000000e+00\n",
      "  0.00000000e+00  0.00000000e+00  0.00000000e+00  5.00000000e+00\n",
      "  0.00000000e+00  4.00000000e+02 -5.00000000e+00  0.00000000e+00\n",
      "  8.00000000e+02  0.00000000e+00  0.00000000e+00  0.00000000e+00\n",
      " -4.16666667e-02  0.00000000e+00 -5.00000000e+00  0.00000000e+00\n",
      "  0.00000000e+00  0.00000000e+00  0.00000000e+00  0.00000000e+00\n",
      "  0.00000000e+00  4.16666667e-02  0.00000000e+00 -5.00000000e+00\n",
      "  0.00000000e+00 -1.00000000e+01  0.00000000e+00  0.00000000e+00\n",
      "  0.00000000e+00  0.00000000e+00  0.00000000e+00  0.00000000e+00\n",
      "  0.00000000e+00  0.00000000e+00  1.00000000e+01  0.00000000e+00\n",
      "  5.00000000e+00  0.00000000e+00  4.00000000e+02  0.00000000e+00\n",
      "  0.00000000e+00  0.00000000e+00  0.00000000e+00  0.00000000e+00\n",
      "  0.00000000e+00 -5.00000000e+00  0.00000000e+00  8.00000000e+02]\n"
     ]
    }
   ],
   "source": [
    "n_dim_total = 3 * n_node_total\n",
    "K = np.zeros(n_dim_total * n_dim_total)  # n*n total\n",
    "K_help = u5.make_K_help(n_dim_total)  # n total\n",
    "for i in range(0, len(elements)):\n",
    "    K = elements[i].merge_K(K, K_help)\n",
    "print(K.reshape(n_dim_total * n_dim_total))"
   ],
   "metadata": {
    "collapsed": false,
    "pycharm": {
     "name": "#%%\n"
    },
    "ExecuteTime": {
     "end_time": "2023-06-11T10:40:27.212678600Z",
     "start_time": "2023-06-11T10:40:27.157310500Z"
    }
   }
  },
  {
   "cell_type": "markdown",
   "source": [
    "#### Step 2: make modified K as \"K_modified\"\n",
    "Enter Data"
   ],
   "metadata": {
    "collapsed": false
   }
  },
  {
   "cell_type": "code",
   "execution_count": 15,
   "outputs": [
    {
     "name": "stdout",
     "output_type": "stream",
     "text": [
      "[[ 4.16666667e-02  0.00000000e+00 -5.00000000e+00  0.00000000e+00\n",
      "   0.00000000e+00  0.00000000e+00]\n",
      " [ 0.00000000e+00  1.00000000e+01  0.00000000e+00  0.00000000e+00\n",
      "   0.00000000e+00  0.00000000e+00]\n",
      " [-5.00000000e+00  0.00000000e+00  8.00000000e+02  0.00000000e+00\n",
      "   0.00000000e+00  0.00000000e+00]\n",
      " [ 0.00000000e+00  0.00000000e+00  0.00000000e+00  4.16666667e-02\n",
      "   0.00000000e+00 -5.00000000e+00]\n",
      " [ 0.00000000e+00  0.00000000e+00  0.00000000e+00  0.00000000e+00\n",
      "   1.00000000e+01  0.00000000e+00]\n",
      " [ 0.00000000e+00  0.00000000e+00  0.00000000e+00 -5.00000000e+00\n",
      "   0.00000000e+00  8.00000000e+02]]\n"
     ]
    }
   ],
   "source": [
    "n_dim_mod = 6  # Enter modified dimension\n",
    "row = 3\n",
    "column = 3\n",
    "K_modified = np.array([])\n",
    "new_K_help = u5.make_K_help(n_dim_mod, row, column)  # show where is the modified K\n",
    "for p, v in np.ndenumerate(K_help):\n",
    "    if v in new_K_help:\n",
    "        K_modified = np.append(K_modified, K[p])\n",
    "\n",
    "K_modified = K_modified.reshape([n_dim_mod, n_dim_mod])  # shape the modified.\n",
    "print(str(K_modified))"
   ],
   "metadata": {
    "collapsed": false,
    "pycharm": {
     "name": "#%%\n"
    },
    "ExecuteTime": {
     "end_time": "2023-06-11T10:40:53.845647800Z",
     "start_time": "2023-06-11T10:40:53.793430900Z"
    }
   }
  },
  {
   "cell_type": "markdown",
   "source": [
    "### F = K*D\n",
    "#### find displacements as \"displacements\"\n",
    "Enter Data"
   ],
   "metadata": {
    "collapsed": false
   }
  },
  {
   "cell_type": "code",
   "execution_count": 16,
   "outputs": [
    {
     "name": "stdout",
     "output_type": "stream",
     "text": [
      "[[480000.]\n",
      " [     0.]\n",
      " [  3000.]\n",
      " [     0.]\n",
      " [     0.]\n",
      " [     0.]]\n"
     ]
    }
   ],
   "source": [
    "K_modified_inv = np.linalg.inv(K_modified)\n",
    "F = np.zeros(n_dim_mod)\n",
    "F[0] = 5000\n",
    "F_show = F.reshape((n_dim_mod, 1))\n",
    "K_modified_inv_show = K_modified_inv.reshape((n_dim_mod, n_dim_mod))\n",
    "displacements = np.dot(K_modified_inv_show, F_show)\n",
    "displacements_show = displacements\n",
    "print(displacements_show)"
   ],
   "metadata": {
    "collapsed": false,
    "pycharm": {
     "name": "#%%\n"
    },
    "ExecuteTime": {
     "end_time": "2023-06-11T10:41:17.933540200Z",
     "start_time": "2023-06-11T10:41:17.889686500Z"
    }
   }
  },
  {
   "cell_type": "markdown",
   "source": [
    "### F = K*D\n",
    "#### make total displacements as \"displacements_total\"\n",
    "#### find Forces as \"F_total\""
   ],
   "metadata": {
    "collapsed": false
   }
  },
  {
   "cell_type": "code",
   "execution_count": 17,
   "outputs": [
    {
     "name": "stdout",
     "output_type": "stream",
     "text": [
      "[[ 4835000.]\n",
      " [   15000.]\n",
      " [ 7200000.]\n",
      " [-4800000.]\n",
      " [  -15000.]\n",
      " [ 1200000.]\n",
      " [       0.]\n",
      " [       0.]\n",
      " [       0.]\n",
      " [  -35000.]\n",
      " [       0.]\n",
      " [ 3600000.]]\n"
     ]
    }
   ],
   "source": [
    "displacements_total = displacements\n",
    "for i in range(n_dim_total - n_dim_mod):  # difference modified and total\n",
    "    displacements_total = np.append(displacements_total, 0)\n",
    "K = K.reshape([n_dim_total, n_dim_total])  # n*n total\n",
    "displacements_total = displacements_total.reshape((n_dim_total, 1))\n",
    "F_total = np.dot(K, displacements_total)\n",
    "print(F_total)"
   ],
   "metadata": {
    "collapsed": false,
    "ExecuteTime": {
     "end_time": "2023-06-11T10:41:20.886657800Z",
     "start_time": "2023-06-11T10:41:20.834519800Z"
    }
   }
  },
  {
   "cell_type": "markdown",
   "source": [
    "# Plotting The Result"
   ],
   "metadata": {
    "collapsed": false
   }
  },
  {
   "cell_type": "code",
   "execution_count": 18,
   "outputs": [
    {
     "data": {
      "text/plain": "<Figure size 640x480 with 1 Axes>",
      "image/png": "[encoded data removed]"
     },
     "metadata": {},
     "output_type": "display_data"
    }
   ],
   "source": [
    "displacements_total_show = displacements_total.copy()\n",
    "displacements_total_show *= 1\n",
    "\n",
    "x1 = []\n",
    "y1 = []\n",
    "x2 = []\n",
    "y2 = []\n",
    "n1 = [4, 1, 2, 3]\n",
    "\n",
    "n = [n1]\n",
    "\n",
    "for i in range(len(n)):\n",
    "    x1.append(np.array([]))\n",
    "    y1.append(np.array([]))\n",
    "    for j in n[i]:\n",
    "        x1[i] = np.append(x1[i], nodes[j].x)\n",
    "        y1[i] = np.append(y1[i], nodes[j].y)\n",
    "    plt.plot(x1[i], y1[i], \"b\")\n",
    "\n",
    "for i in range(len(n)):\n",
    "    x2.append(np.array([]))\n",
    "    y2.append(np.array([]))\n",
    "    for j in n[i]:\n",
    "        x2[i] = np.append(x2[i], nodes[j].x + displacements_total_show[(j - 1) * 2])\n",
    "        y2[i] = np.append(y2[i], nodes[j].y + displacements_total_show[(j - 1) * 2 + 1])\n",
    "    plt.plot(x2[i], y2[i], \"r\")\n",
    "\n",
    "plt.plot(0, 0, \"b\", label=\"Before Forces\")\n",
    "plt.plot(0, 0, \"r\", label=\"After Forces\")\n",
    "\n",
    "plt.xlabel(\"x(?)\")\n",
    "plt.ylabel(\"y(?)\")\n",
    "plt.legend()\n",
    "plt.show()"
   ],
   "metadata": {
    "collapsed": false,
    "ExecuteTime": {
     "end_time": "2023-06-11T10:41:22.248579700Z",
     "start_time": "2023-06-11T10:41:22.074406100Z"
    }
   }
  },
  {
   "cell_type": "code",
   "execution_count": null,
   "outputs": [],
   "source": [],
   "metadata": {
    "collapsed": false
   }
  }
 ],
 "metadata": {
  "kernelspec": {
   "display_name": "Python 3",
   "language": "python",
   "name": "python3"
  },
  "language_info": {
   "codemirror_mode": {
    "name": "ipython",
    "version": 2
   },
   "file_extension": ".py",
   "mimetype": "text/x-python",
   "name": "python",
   "nbconvert_exporter": "python",
   "pygments_lexer": "ipython2",
   "version": "2.7.6"
  }
 },
 "nbformat": 4,
 "nbformat_minor": 0
}
