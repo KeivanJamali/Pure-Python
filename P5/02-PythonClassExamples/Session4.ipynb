{
 "cells": [
  {
   "cell_type": "code",
   "execution_count": 20,
   "id": "e30f424e",
   "metadata": {},
   "outputs": [],
   "source": [
    "a = [1, 2]\n",
    "first = 1\n",
    "second = 2\n",
    "for i in range(1000):\n",
    "    first, second = second, first + second\n",
    "    a.append(second)\n"
   ]
  },
  {
   "cell_type": "code",
   "execution_count": 36,
   "id": "e4da126a",
   "metadata": {},
   "outputs": [],
   "source": [
    "d = {\"AAA\": [\"m1\", \"m2\", \"m3\"],\n",
    "     \"BBB\": [\"m1\", \"m2\"],\n",
    "     \"CCC\": [\"m1\", \"m2\", \"m3\", \"m4\"]}"
   ]
  },
  {
   "cell_type": "code",
   "execution_count": 38,
   "id": "0681f60a",
   "metadata": {},
   "outputs": [
    {
     "name": "stdout",
     "output_type": "stream",
     "text": [
      "try again!\n"
     ]
    }
   ],
   "source": [
    "guess = input(\"what is the meaning AAA?\")\n",
    "if guess in d[\"AAA\"]:\n",
    "    print(\"correct!\")\n",
    "else:\n",
    "    print(\"try again!\")"
   ]
  },
  {
   "cell_type": "code",
   "execution_count": 62,
   "id": "78e44c84",
   "metadata": {},
   "outputs": [
    {
     "data": {
      "text/plain": [
       "4"
      ]
     },
     "execution_count": 62,
     "metadata": {},
     "output_type": "execute_result"
    }
   ],
   "source": [
    "alphabet = \"a b c d e f g h i j k l m n o p q r s t u v w x y z\"\n",
    "alphabet = alphabet.split(\" \")\n",
    "alphabet.index(\"e\")\n",
    "# alphabet[10]"
   ]
  },
  {
   "cell_type": "code",
   "execution_count": 16,
   "id": "03c0597c",
   "metadata": {},
   "outputs": [],
   "source": [
    "alphabet = {\"A\": 1, \"B\": 2, \"C\": 3, \"D\": 4, \"E\": 5, \"F\": 6,\n",
    "            1: \"A\", 2: \"B\", 3: \"C\", 4: \"D\", 5: \"E\", 6: \"F\"}\n",
    "\n",
    "def cipher(words: str, n: int) -> str:\n",
    "    words = \"\".join(words.split(\" \"))\n",
    "    res = \"\"\n",
    "    for letter in words:\n",
    "        number = alphabet[letter]\n",
    "        new_number = number + n\n",
    "        new_letter = alphabet[new_number]\n",
    "        res += new_letter\n",
    "    return res"
   ]
  },
  {
   "cell_type": "code",
   "execution_count": null,
   "id": "b27f7708",
   "metadata": {},
   "outputs": [
    {
     "data": {
      "text/plain": [
       "'DED'"
      ]
     },
     "execution_count": 17,
     "metadata": {},
     "output_type": "execute_result"
    }
   ],
   "source": []
  },
  {
   "cell_type": "code",
   "execution_count": null,
   "id": "60a41527",
   "metadata": {},
   "outputs": [],
   "source": []
  }
 ],
 "metadata": {
  "kernelspec": {
   "display_name": "Python 3",
   "language": "python",
   "name": "python3"
  },
  "language_info": {
   "codemirror_mode": {
    "name": "ipython",
    "version": 3
   },
   "file_extension": ".py",
   "mimetype": "text/x-python",
   "name": "python",
   "nbconvert_exporter": "python",
   "pygments_lexer": "ipython3",
   "version": "3.13.5"
  }
 },
 "nbformat": 4,
 "nbformat_minor": 5
}
