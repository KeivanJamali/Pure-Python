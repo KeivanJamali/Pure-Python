{
 "cells": [
  {
   "cell_type": "code",
   "execution_count": 4,
   "id": "73cf4f26",
   "metadata": {},
   "outputs": [],
   "source": [
    "%load_ext autoreload\n",
    "%autoreload 2"
   ]
  },
  {
   "cell_type": "code",
   "execution_count": 5,
   "id": "9a6d1db9",
   "metadata": {},
   "outputs": [],
   "source": [
    "from Validation import Validation_Tools"
   ]
  },
  {
   "cell_type": "code",
   "execution_count": 6,
   "id": "ea0d8f65",
   "metadata": {},
   "outputs": [],
   "source": [
    "from scipy import stats\n"
   ]
  },
  {
   "cell_type": "code",
   "execution_count": 7,
   "id": "b6a4acb1",
   "metadata": {},
   "outputs": [
    {
     "data": {
      "text/plain": [
       "2.131846786326649"
      ]
     },
     "execution_count": 7,
     "metadata": {},
     "output_type": "execute_result"
    }
   ],
   "source": [
    "stats.t.ppf(0.95, 4)"
   ]
  },
  {
   "cell_type": "code",
   "execution_count": 37,
   "id": "453848cb",
   "metadata": {},
   "outputs": [],
   "source": [
    "data1 = [3.80, 3.17, 3.96, 1.91, 1.71]\n",
    "data2 = [4.60, 8.37, 4.18, 5.77, 2.23, 4.72, 1.39, 9.39, 1.54, 1.17]"
   ]
  },
  {
   "cell_type": "code",
   "execution_count": 38,
   "id": "19647ce3",
   "metadata": {},
   "outputs": [
    {
     "name": "stdout",
     "output_type": "stream",
     "text": [
      "[INFO] 'data1' data added to the storage with Mean:2.91 and Variance:1.10055.\n",
      "[INFO] 'data2' data added to the storage with Mean:4.336 and Variance:8.341026666666666.\n"
     ]
    }
   ],
   "source": [
    "valid1 = Validation_Tools(data_list=[data1, data2],\n",
    "                          name_list=[\"data1\", \"data2\"])\n"
   ]
  },
  {
   "cell_type": "code",
   "execution_count": 39,
   "id": "ae4c17c7",
   "metadata": {},
   "outputs": [
    {
     "data": {
      "text/plain": [
       "{'data1': {'data': array([3.8 , 3.17, 3.96, 1.91, 1.71]),\n",
       "  'n': 5,\n",
       "  'mean': 2.91,\n",
       "  'S2': 1.10055,\n",
       "  'confidence_intervals': {}},\n",
       " 'data2': {'data': array([4.6 , 8.37, 4.18, 5.77, 2.23, 4.72, 1.39, 9.39, 1.54, 1.17]),\n",
       "  'n': 10,\n",
       "  'mean': 4.336,\n",
       "  'S2': 8.341026666666666,\n",
       "  'confidence_intervals': {}}}"
      ]
     },
     "execution_count": 39,
     "metadata": {},
     "output_type": "execute_result"
    }
   ],
   "source": [
    "valid1.data"
   ]
  },
  {
   "cell_type": "code",
   "execution_count": 35,
   "id": "dde24d82",
   "metadata": {},
   "outputs": [
    {
     "name": "stdout",
     "output_type": "stream",
     "text": [
      "[RESULT] [-6.650805, 2.410805]\n"
     ]
    },
    {
     "data": {
      "text/plain": [
       "{'Y1-Y2': -2.119999999999999,\n",
       " 'S2_pooled': 3.1065999999999994,\n",
       " 'freedom': 8,\n",
       " 'SE': 1.9647863558158172,\n",
       " 'half-lenght': 4.530805461303998,\n",
       " 'confidence_intervals': {'95.000%': [-6.650805461303997, 2.4108054613039984]}}"
      ]
     },
     "execution_count": 35,
     "metadata": {},
     "output_type": "execute_result"
    }
   ],
   "source": [
    "valid1.independent_sampling_with_equal_variance(\"data1\", \"data2\", 0.05)"
   ]
  },
  {
   "cell_type": "code",
   "execution_count": 40,
   "id": "d7cb6f55",
   "metadata": {},
   "outputs": [
    {
     "name": "stdout",
     "output_type": "stream",
     "text": [
      "[RESULT] [-3.663093, 0.811093]\n"
     ]
    },
    {
     "data": {
      "text/plain": [
       "{'Y1-Y2': -1.4260000000000002,\n",
       " 'freedom': 12,\n",
       " 'SE': 1.026748589805054,\n",
       " 'half-lenght': 2.237093000306073,\n",
       " 'confidence_intervals': {'95.000%': [-3.6630930003060733, 0.811093000306073]}}"
      ]
     },
     "execution_count": 40,
     "metadata": {},
     "output_type": "execute_result"
    }
   ],
   "source": [
    "valid1.independent_sampling(\"data1\", \"data2\", 0.05)"
   ]
  },
  {
   "cell_type": "code",
   "execution_count": 16,
   "id": "74845265",
   "metadata": {},
   "outputs": [
    {
     "name": "stdout",
     "output_type": "stream",
     "text": [
      "[RESULT] [-0.480067, 10.436067]\n"
     ]
    },
    {
     "data": {
      "text/plain": [
       "{'Y1-Y2': 4.977999999999994,\n",
       " 'D_bar': 4.978,\n",
       " 'freedom': 4,\n",
       " 'SE': 1.5614973583070852,\n",
       " 'half-lenght': 5.458067129836174,\n",
       " 'confidence_intervals': {'97.500%': [-0.48006712983617916,\n",
       "   10.436067129836168]}}"
      ]
     },
     "execution_count": 16,
     "metadata": {},
     "output_type": "execute_result"
    }
   ],
   "source": [
    "valid1.common_random_numbers(\"data1\", \"data2\", 0.025)"
   ]
  },
  {
   "cell_type": "code",
   "execution_count": 17,
   "id": "8a97ba43",
   "metadata": {},
   "outputs": [
    {
     "name": "stdout",
     "output_type": "stream",
     "text": [
      "[INFO] We assume 97.50% confidens to each comparison to get the total of 90.00 according to Bon Ferroni inequality.\n"
     ]
    },
    {
     "data": {
      "application/vnd.microsoft.datawrangler.viewer.v0+json": {
       "columns": [
        {
         "name": "index",
         "rawType": "object",
         "type": "string"
        },
        {
         "name": "data1 - Yi",
         "rawType": "float64",
         "type": "float"
        },
        {
         "name": "Interval",
         "rawType": "object",
         "type": "unknown"
        }
       ],
       "conversionMethod": "pd.DataFrame",
       "ref": "e97981eb-6b0a-4d50-9b9a-41d608e5f67f",
       "rows": [
        [
         "data2",
         "4.978",
         "(1.4379, 8.5181)"
        ],
        [
         "data3",
         "1.232",
         "(-4.9725, 7.4365)"
        ],
        [
         "data4",
         "-6.364",
         "(-10.9078, -1.8202)"
        ],
        [
         "data5",
         "-17.146",
         "(-20.2238, -14.0682)"
        ]
       ],
       "shape": {
        "columns": 2,
        "rows": 4
       }
      },
      "text/html": [
       "<div>\n",
       "<style scoped>\n",
       "    .dataframe tbody tr th:only-of-type {\n",
       "        vertical-align: middle;\n",
       "    }\n",
       "\n",
       "    .dataframe tbody tr th {\n",
       "        vertical-align: top;\n",
       "    }\n",
       "\n",
       "    .dataframe thead th {\n",
       "        text-align: right;\n",
       "    }\n",
       "</style>\n",
       "<table border=\"1\" class=\"dataframe\">\n",
       "  <thead>\n",
       "    <tr style=\"text-align: right;\">\n",
       "      <th></th>\n",
       "      <th>data1 - Yi</th>\n",
       "      <th>Interval</th>\n",
       "    </tr>\n",
       "  </thead>\n",
       "  <tbody>\n",
       "    <tr>\n",
       "      <th>data2</th>\n",
       "      <td>4.978</td>\n",
       "      <td>(1.4379, 8.5181)</td>\n",
       "    </tr>\n",
       "    <tr>\n",
       "      <th>data3</th>\n",
       "      <td>1.232</td>\n",
       "      <td>(-4.9725, 7.4365)</td>\n",
       "    </tr>\n",
       "    <tr>\n",
       "      <th>data4</th>\n",
       "      <td>-6.364</td>\n",
       "      <td>(-10.9078, -1.8202)</td>\n",
       "    </tr>\n",
       "    <tr>\n",
       "      <th>data5</th>\n",
       "      <td>-17.146</td>\n",
       "      <td>(-20.2238, -14.0682)</td>\n",
       "    </tr>\n",
       "  </tbody>\n",
       "</table>\n",
       "</div>"
      ],
      "text/plain": [
       "       data1 - Yi              Interval\n",
       "data2       4.978      (1.4379, 8.5181)\n",
       "data3       1.232     (-4.9725, 7.4365)\n",
       "data4      -6.364   (-10.9078, -1.8202)\n",
       "data5     -17.146  (-20.2238, -14.0682)"
      ]
     },
     "execution_count": 17,
     "metadata": {},
     "output_type": "execute_result"
    }
   ],
   "source": [
    "valid1.multiple_comparison_with_standard(\"data1\", [\"data2\", \"data3\", \"data4\", \"data5\"], alpha=0.1, method=\"IS\")"
   ]
  },
  {
   "cell_type": "code",
   "execution_count": 18,
   "id": "fc2b898a",
   "metadata": {},
   "outputs": [
    {
     "name": "stdout",
     "output_type": "stream",
     "text": [
      "[INFO] We assume 96.67% confidens to each comparison to get the total of 90.00 according to Bon Ferroni inequality.\n"
     ]
    },
    {
     "data": {
      "application/vnd.microsoft.datawrangler.viewer.v0+json": {
       "columns": [
        {
         "name": "index",
         "rawType": "object",
         "type": "string"
        },
        {
         "name": "data1",
         "rawType": "float64",
         "type": "float"
        },
        {
         "name": "data2",
         "rawType": "float64",
         "type": "float"
        },
        {
         "name": "data3",
         "rawType": "float64",
         "type": "float"
        }
       ],
       "conversionMethod": "pd.DataFrame",
       "ref": "c9d1007f-618f-4182-89e2-4c977f0df971",
       "rows": [
        [
         "data1",
         "0.0",
         "4.978",
         "1.232"
        ],
        [
         "data2",
         "-4.978",
         "0.0",
         "-3.746"
        ],
        [
         "data3",
         "-1.232",
         "3.746",
         "0.0"
        ]
       ],
       "shape": {
        "columns": 3,
        "rows": 3
       }
      },
      "text/html": [
       "<div>\n",
       "<style scoped>\n",
       "    .dataframe tbody tr th:only-of-type {\n",
       "        vertical-align: middle;\n",
       "    }\n",
       "\n",
       "    .dataframe tbody tr th {\n",
       "        vertical-align: top;\n",
       "    }\n",
       "\n",
       "    .dataframe thead th {\n",
       "        text-align: right;\n",
       "    }\n",
       "</style>\n",
       "<table border=\"1\" class=\"dataframe\">\n",
       "  <thead>\n",
       "    <tr style=\"text-align: right;\">\n",
       "      <th></th>\n",
       "      <th>data1</th>\n",
       "      <th>data2</th>\n",
       "      <th>data3</th>\n",
       "    </tr>\n",
       "  </thead>\n",
       "  <tbody>\n",
       "    <tr>\n",
       "      <th>data1</th>\n",
       "      <td>0.000</td>\n",
       "      <td>4.978</td>\n",
       "      <td>1.232</td>\n",
       "    </tr>\n",
       "    <tr>\n",
       "      <th>data2</th>\n",
       "      <td>-4.978</td>\n",
       "      <td>0.000</td>\n",
       "      <td>-3.746</td>\n",
       "    </tr>\n",
       "    <tr>\n",
       "      <th>data3</th>\n",
       "      <td>-1.232</td>\n",
       "      <td>3.746</td>\n",
       "      <td>0.000</td>\n",
       "    </tr>\n",
       "  </tbody>\n",
       "</table>\n",
       "</div>"
      ],
      "text/plain": [
       "       data1  data2  data3\n",
       "data1  0.000  4.978  1.232\n",
       "data2 -4.978  0.000 -3.746\n",
       "data3 -1.232  3.746  0.000"
      ]
     },
     "execution_count": 18,
     "metadata": {},
     "output_type": "execute_result"
    }
   ],
   "source": [
    "r1, r2 = valid1.multiple_comparison_All(data_list=[\"data1\", \"data2\", \"data3\"], alpha=0.1, method=\"CRN\")\n",
    "r1"
   ]
  },
  {
   "cell_type": "code",
   "execution_count": 19,
   "id": "e7554087",
   "metadata": {},
   "outputs": [
    {
     "data": {
      "application/vnd.microsoft.datawrangler.viewer.v0+json": {
       "columns": [
        {
         "name": "index",
         "rawType": "object",
         "type": "string"
        },
        {
         "name": "data1",
         "rawType": "object",
         "type": "unknown"
        },
        {
         "name": "data2",
         "rawType": "object",
         "type": "unknown"
        },
        {
         "name": "data3",
         "rawType": "object",
         "type": "unknown"
        }
       ],
       "conversionMethod": "pd.DataFrame",
       "ref": "101a6146-c180-490a-9cfb-e1aa468edc48",
       "rows": [
        [
         "data1",
         "0",
         "(0.0026, 9.9534)",
         "(-5.668, 8.132)"
        ],
        [
         "data2",
         "(-9.9534, -0.0026)",
         "0",
         "(-10.3752, 2.8832)"
        ],
        [
         "data3",
         "(-8.132, 5.668)",
         "(-2.8832, 10.3752)",
         "0"
        ]
       ],
       "shape": {
        "columns": 3,
        "rows": 3
       }
      },
      "text/html": [
       "<div>\n",
       "<style scoped>\n",
       "    .dataframe tbody tr th:only-of-type {\n",
       "        vertical-align: middle;\n",
       "    }\n",
       "\n",
       "    .dataframe tbody tr th {\n",
       "        vertical-align: top;\n",
       "    }\n",
       "\n",
       "    .dataframe thead th {\n",
       "        text-align: right;\n",
       "    }\n",
       "</style>\n",
       "<table border=\"1\" class=\"dataframe\">\n",
       "  <thead>\n",
       "    <tr style=\"text-align: right;\">\n",
       "      <th></th>\n",
       "      <th>data1</th>\n",
       "      <th>data2</th>\n",
       "      <th>data3</th>\n",
       "    </tr>\n",
       "  </thead>\n",
       "  <tbody>\n",
       "    <tr>\n",
       "      <th>data1</th>\n",
       "      <td>0</td>\n",
       "      <td>(0.0026, 9.9534)</td>\n",
       "      <td>(-5.668, 8.132)</td>\n",
       "    </tr>\n",
       "    <tr>\n",
       "      <th>data2</th>\n",
       "      <td>(-9.9534, -0.0026)</td>\n",
       "      <td>0</td>\n",
       "      <td>(-10.3752, 2.8832)</td>\n",
       "    </tr>\n",
       "    <tr>\n",
       "      <th>data3</th>\n",
       "      <td>(-8.132, 5.668)</td>\n",
       "      <td>(-2.8832, 10.3752)</td>\n",
       "      <td>0</td>\n",
       "    </tr>\n",
       "  </tbody>\n",
       "</table>\n",
       "</div>"
      ],
      "text/plain": [
       "                    data1               data2               data3\n",
       "data1                   0    (0.0026, 9.9534)     (-5.668, 8.132)\n",
       "data2  (-9.9534, -0.0026)                   0  (-10.3752, 2.8832)\n",
       "data3     (-8.132, 5.668)  (-2.8832, 10.3752)                   0"
      ]
     },
     "execution_count": 19,
     "metadata": {},
     "output_type": "execute_result"
    }
   ],
   "source": [
    "r2"
   ]
  },
  {
   "cell_type": "code",
   "execution_count": 20,
   "id": "6956e86e",
   "metadata": {},
   "outputs": [
    {
     "data": {
      "application/vnd.microsoft.datawrangler.viewer.v0+json": {
       "columns": [
        {
         "name": "index",
         "rawType": "object",
         "type": "string"
        },
        {
         "name": "mean(Y_bar)",
         "rawType": "float64",
         "type": "float"
        },
        {
         "name": "Yi - Yi* + e",
         "rawType": "float64",
         "type": "float"
        }
       ],
       "conversionMethod": "pd.DataFrame",
       "ref": "4e65cd31-5faf-44ca-85a5-7b7f8fc72603",
       "rows": [
        [
         "data1",
         "125.57",
         "11.978"
        ],
        [
         "data2",
         "120.592",
         "7.0"
        ],
        [
         "data3",
         "124.338",
         "10.746"
        ],
        [
         "data4",
         "131.934",
         "18.342"
        ],
        [
         "data5",
         "142.716",
         "29.124"
        ]
       ],
       "shape": {
        "columns": 2,
        "rows": 5
       }
      },
      "text/html": [
       "<div>\n",
       "<style scoped>\n",
       "    .dataframe tbody tr th:only-of-type {\n",
       "        vertical-align: middle;\n",
       "    }\n",
       "\n",
       "    .dataframe tbody tr th {\n",
       "        vertical-align: top;\n",
       "    }\n",
       "\n",
       "    .dataframe thead th {\n",
       "        text-align: right;\n",
       "    }\n",
       "</style>\n",
       "<table border=\"1\" class=\"dataframe\">\n",
       "  <thead>\n",
       "    <tr style=\"text-align: right;\">\n",
       "      <th></th>\n",
       "      <th>mean(Y_bar)</th>\n",
       "      <th>Yi - Yi* + e</th>\n",
       "    </tr>\n",
       "  </thead>\n",
       "  <tbody>\n",
       "    <tr>\n",
       "      <th>data1</th>\n",
       "      <td>125.570</td>\n",
       "      <td>11.978</td>\n",
       "    </tr>\n",
       "    <tr>\n",
       "      <th>data2</th>\n",
       "      <td>120.592</td>\n",
       "      <td>7.000</td>\n",
       "    </tr>\n",
       "    <tr>\n",
       "      <th>data3</th>\n",
       "      <td>124.338</td>\n",
       "      <td>10.746</td>\n",
       "    </tr>\n",
       "    <tr>\n",
       "      <th>data4</th>\n",
       "      <td>131.934</td>\n",
       "      <td>18.342</td>\n",
       "    </tr>\n",
       "    <tr>\n",
       "      <th>data5</th>\n",
       "      <td>142.716</td>\n",
       "      <td>29.124</td>\n",
       "    </tr>\n",
       "  </tbody>\n",
       "</table>\n",
       "</div>"
      ],
      "text/plain": [
       "       mean(Y_bar)  Yi - Yi* + e\n",
       "data1      125.570        11.978\n",
       "data2      120.592         7.000\n",
       "data3      124.338        10.746\n",
       "data4      131.934        18.342\n",
       "data5      142.716        29.124"
      ]
     },
     "execution_count": 20,
     "metadata": {},
     "output_type": "execute_result"
    }
   ],
   "source": [
    "valid1.multiple_comparison_with_best(data_list=[\"data1\", \"data2\", \"data3\", \"data4\", \"data5\"], alpha=0.1, epsilon=7, more_less=\"less\", step=2)"
   ]
  },
  {
   "cell_type": "code",
   "execution_count": null,
   "id": "ef2e29c8",
   "metadata": {},
   "outputs": [],
   "source": []
  },
  {
   "cell_type": "code",
   "execution_count": null,
   "id": "e532dfda",
   "metadata": {},
   "outputs": [],
   "source": []
  }
 ],
 "metadata": {
  "kernelspec": {
   "display_name": "Python 3",
   "language": "python",
   "name": "python3"
  },
  "language_info": {
   "codemirror_mode": {
    "name": "ipython",
    "version": 3
   },
   "file_extension": ".py",
   "mimetype": "text/x-python",
   "name": "python",
   "nbconvert_exporter": "python",
   "pygments_lexer": "ipython3",
   "version": "3.11.5"
  }
 },
 "nbformat": 4,
 "nbformat_minor": 5
}
