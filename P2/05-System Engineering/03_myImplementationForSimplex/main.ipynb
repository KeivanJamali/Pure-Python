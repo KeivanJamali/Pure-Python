{
 "cells": [
  {
   "cell_type": "code",
   "execution_count": 3,
   "id": "initial_id",
   "metadata": {
    "collapsed": true,
    "ExecuteTime": {
     "end_time": "2024-04-01T14:14:57.012577Z",
     "start_time": "2024-04-01T14:14:56.933466Z"
    }
   },
   "outputs": [
    {
     "name": "stdout",
     "output_type": "stream",
     "text": [
      "The autoreload extension is already loaded. To reload it, use:\n",
      "  %reload_ext autoreload\n"
     ]
    }
   ],
   "source": [
    "%load_ext autoreload\n",
    "%autoreload 2\n",
    "from Simplex import Simplex, Constraint\n",
    "import numpy as np"
   ]
  },
  {
   "cell_type": "code",
   "outputs": [
    {
     "name": "stdout",
     "output_type": "stream",
     "text": [
      "[INFO] One phase solution\n",
      "done!\n",
      "|    |   Current Values |   x1 |   x2 |   x3 |   s1 |   s2 |   s3 |\n",
      "|----|------------------|------|------|------|------|------|------|\n",
      "|  0 |             -4.0 |  0.0 |  0.5 |  0.0 |  1.5 |  0.0 |  1.0 |\n",
      "\n",
      "| Basic Variables   |   Current Values |   x1 |   x2 |     x3 |   s1 |   s2 |   s3 |\n",
      "|-------------------|------------------|------|------|--------|------|------|------|\n",
      "| s1                |              2.0 |  1.0 |  1.0 |  240.0 |  1.0 |  0.0 |  0.0 |\n",
      "| s2                |              1.0 |  3.0 |  2.0 |  360.0 |  0.0 |  1.0 |  0.0 |\n",
      "| s3                |              2.0 |  1.0 |  2.0 |  300.0 |  0.0 |  0.0 |  1.0 |\n",
      "| -z1               |              6.0 |  5.0 |  4.0 |    0.0 |  0.0 |  0.0 |  0.0 |\n",
      "| s1                |              1.7 |  0.0 |  0.3 |  120.0 |  1.0 | -0.3 |  0.0 |\n",
      "| x1                |              0.3 |  1.0 |  0.7 |  120.0 |  0.0 |  0.3 |  0.0 |\n",
      "| s3                |              1.7 |  0.0 |  1.3 |  180.0 |  0.0 | -0.3 |  1.0 |\n",
      "| -z2               |              4.3 |  0.0 |  0.7 | -600.0 |  0.0 | -1.7 |  0.0 |\n",
      "| s1                |              1.5 | -0.5 |  0.0 |   60.0 |  1.0 | -0.5 |  0.0 |\n",
      "| x2                |              0.5 |  1.5 |  1.0 |  180.0 |  0.0 |  0.5 |  0.0 |\n",
      "| s3                |              1.0 | -2.0 |  0.0 |  -60.0 |  0.0 | -1.0 |  1.0 |\n",
      "| -z3               |              4.0 | -1.0 |  0.0 | -720.0 |  0.0 | -2.0 |  0.0 |\n"
     ]
    }
   ],
   "source": [
    "objective_function = [6., 5., 4., 0.]\n",
    "constraints_function = Constraint([[2., 1., 1., 240.],\n",
    "                                   [1., 3., 2., 360.],\n",
    "                                   [2., 1., 2., 300.]],\n",
    "                                  [\"ineq\", \"ineq\", \"ineq\"])\n",
    "parameters = [\"x1\", \"x2\", \"x3\"]\n",
    "\n",
    "model = Simplex(objective_function, parameters=parameters)\n",
    "model.fit(constraints_function)\n",
    "print()\n",
    "model.make_table(format_=\"github\")"
   ],
   "metadata": {
    "collapsed": false,
    "ExecuteTime": {
     "end_time": "2024-04-02T10:07:08.756768Z",
     "start_time": "2024-04-02T10:07:08.646291Z"
    }
   },
   "id": "a5928b751595bd9c",
   "execution_count": 261
  },
  {
   "cell_type": "code",
   "outputs": [
    {
     "name": "stdout",
     "output_type": "stream",
     "text": [
      "[INFO] One phase solution\n",
      "done!\n",
      "|    |   Current Values |   x1 |   x2 |   x3 |    x4 |   x5 |   s1 |   s2 |   s3 |\n",
      "|----|------------------|------|------|------|-------|------|------|------|------|\n",
      "|  0 |          18000.0 |  0.0 | 25.0 |  0.0 | 140.0 |  0.0 |  0.0 |  0.0 |  0.0 |\n",
      "\n",
      "| Basic Variables   |   Current Values |    x1 |    x2 |    x3 |    x4 |     x5 |    s1 |   s2 |    s3 |\n",
      "|-------------------|------------------|-------|-------|-------|-------|--------|-------|------|-------|\n",
      "| s1                |            480.0 |   2.0 |   8.0 |   4.0 |   2.0 |    2.0 |   1.0 |  0.0 |   0.0 |\n",
      "| s2                |            800.0 |   5.0 |   4.0 |   8.0 |   5.0 |    3.0 |   0.0 |  1.0 |   0.0 |\n",
      "| s3                |            900.0 |   7.0 |   8.0 |   3.0 |   5.0 |   20.0 |   0.0 |  0.0 |   1.0 |\n",
      "| -z1               |              0.0 |  90.0 | 160.0 |  40.0 | 100.0 |  120.0 |   0.0 |  0.0 |   0.0 |\n",
      "| x2                |             60.0 |   0.2 |   1.0 |   0.5 |   0.2 |    0.2 |   0.1 |  0.0 |   0.0 |\n",
      "| s2                |            560.0 |   4.0 |   0.0 |   6.0 |   4.0 |    2.0 |  -0.5 |  1.0 |   0.0 |\n",
      "| s3                |            420.0 |   5.0 |   0.0 |  -1.0 |   3.0 |   18.0 |  -1.0 |  0.0 |   1.0 |\n",
      "| -z2               |          -9600.0 |  50.0 |   0.0 | -40.0 |  60.0 |   80.0 | -20.0 |  0.0 |   0.0 |\n",
      "| x2                |             54.2 |   0.2 |   1.0 |   0.5 |   0.2 |    0.0 |   0.1 |  0.0 |  -0.0 |\n",
      "| s2                |            513.3 |   3.4 |   0.0 |   6.1 |   3.7 |    0.0 |  -0.4 |  1.0 |  -0.1 |\n",
      "| x5                |             23.3 |   0.3 |   0.0 |  -0.1 |   0.2 |    1.0 |  -0.1 |  0.0 |   0.1 |\n",
      "| -z3               |         -11466.7 |  27.8 |   0.0 | -35.6 |  46.7 |    0.0 | -15.6 |  0.0 |  -4.4 |\n",
      "| x2                |             25.0 |  -0.2 |   1.0 |   0.6 |  -0.0 |   -1.3 |   0.2 |  0.0 |  -0.1 |\n",
      "| s2                |              0.0 |  -2.7 |   0.0 |   7.3 |   0.0 |  -22.0 |   0.8 |  1.0 |  -1.3 |\n",
      "| x4                |            140.0 |   1.7 |   0.0 |  -0.3 |   1.0 |    6.0 |  -0.3 |  0.0 |   0.3 |\n",
      "| -z4               |         -18000.0 | -50.0 |   0.0 | -20.0 |   0.0 | -280.0 |   0.0 |  0.0 | -20.0 |\n"
     ]
    }
   ],
   "source": [
    "objective_function = [0., 90., 160., 40., 100., 120.]\n",
    "constraints_function = Constraint([[480., 2., 8., 4., 2., 2.],\n",
    "                                   [800., 5., 4., 8., 5., 3.],\n",
    "                                   [900., 7., 8., 3., 5., 20.]],\n",
    "                                  [\"ineq\", \"ineq\", \"ineq\"])\n",
    "\n",
    "parameters = [\"x1\", \"x2\", \"x3\", \"x4\", \"x5\"]\n",
    "\n",
    "model = Simplex(objective_function, parameters=parameters)\n",
    "model.fit(constraints_function)\n",
    "print()\n",
    "model.make_table(format_=\"github\")"
   ],
   "metadata": {
    "collapsed": false,
    "ExecuteTime": {
     "end_time": "2024-04-02T10:07:42.470423Z",
     "start_time": "2024-04-02T10:07:42.394063Z"
    }
   },
   "id": "cf1ca8a5650e0ab5",
   "execution_count": 263
  },
  {
   "cell_type": "code",
   "outputs": [
    {
     "name": "stdout",
     "output_type": "stream",
     "text": [
      "[INFO] Two phase solution\n",
      "[INFO] Phase I\n",
      "[INFO] Phase II Starts.\n",
      "done!\n",
      "|    |   Current Values |   x1 |   x2 |   x3 |   s1 |   e1 |\n",
      "|----|------------------|------|------|------|------|------|\n",
      "|  0 |             11.0 |  4.0 |  1.0 |  2.0 |  0.0 |  0.0 |\n",
      "\n",
      "| Basic Variables   |   Current Values |   x1 |   x2 |   x3 |   s1 |   e1 |   y1 |   y2 |\n",
      "|-------------------|------------------|------|------|------|------|------|------|------|\n",
      "| s1                |              9.0 |  2.0 |  3.0 | -1.0 |  1.0 |  0.0 |  0.0 |  0.0 |\n",
      "| y1                |             -4.0 |  0.0 | -2.0 | -1.0 |  0.0 |  1.0 | -1.0 |  0.0 |\n",
      "| y2                |              6.0 |  1.0 |  0.0 |  1.0 |  0.0 |  0.0 |  0.0 |  1.0 |\n",
      "| -z1               |              0.0 |  2.0 |  1.0 |  1.0 |  0.0 |  0.0 |  0.0 |  0.0 |\n",
      "| -w1               |              0.0 |  0.0 |  0.0 |  0.0 |  0.0 |  0.0 | -1.0 | -1.0 |\n",
      "| s1                |              9.0 |  2.0 |  3.0 | -1.0 |  1.0 |  0.0 |  0.0 |  0.0 |\n",
      "| y1                |             -4.0 |  0.0 | -2.0 | -1.0 |  0.0 |  1.0 | -1.0 |  0.0 |\n",
      "| y2                |              6.0 |  1.0 |  0.0 |  1.0 |  0.0 |  0.0 |  0.0 |  1.0 |\n",
      "| -z2               |              0.0 |  2.0 |  1.0 |  1.0 |  0.0 |  0.0 |  0.0 |  0.0 |\n",
      "| -w2               |             10.0 |  1.0 |  2.0 |  2.0 |  0.0 | -1.0 |  0.0 |  0.0 |\n",
      "| s1                |              3.0 |  2.0 |  0.0 | -2.5 |  1.0 |  1.5 | -1.5 |  0.0 |\n",
      "| x2                |              2.0 | -0.0 |  1.0 |  0.5 | -0.0 | -0.5 |  0.5 | -0.0 |\n",
      "| y2                |              6.0 |  1.0 |  0.0 |  1.0 |  0.0 |  0.0 | -0.0 |  1.0 |\n",
      "| -z3               |             -2.0 |  2.0 |  0.0 |  0.5 |  0.0 |  0.5 | -0.5 |  0.0 |\n",
      "| -w3               |              6.0 |  1.0 |  0.0 |  1.0 |  0.0 |  0.0 | -1.0 |  0.0 |\n",
      "| x1                |              1.5 |  1.0 |  0.0 | -1.2 |  0.5 |  0.8 | -0.8 |  0.0 |\n",
      "| x2                |              2.0 |  0.0 |  1.0 |  0.5 | -0.0 | -0.5 |  0.5 | -0.0 |\n",
      "| y2                |              4.5 |  0.0 |  0.0 |  2.2 | -0.5 | -0.7 |  0.7 |  1.0 |\n",
      "| -z4               |             -5.0 |  0.0 |  0.0 |  3.0 | -1.0 | -1.0 |  1.0 |  0.0 |\n",
      "| -w4               |              4.5 |  0.0 |  0.0 |  2.2 | -0.5 | -0.8 | -0.2 |  0.0 |\n",
      "| x1                |              4.0 |  1.0 |  0.0 |  0.0 |  0.2 |  0.3 | -0.3 |  0.6 |\n",
      "| x2                |              1.0 |  0.0 |  1.0 |  0.0 |  0.1 | -0.3 |  0.3 | -0.2 |\n",
      "| x3                |              2.0 |  0.0 |  0.0 |  1.0 | -0.2 | -0.3 |  0.3 |  0.4 |\n",
      "| -z5               |            -11.0 |  0.0 |  0.0 |  0.0 | -0.3 | -0.0 |  0.0 | -1.3 |\n",
      "| -w5               |              0.0 |  0.0 |  0.0 |  0.0 |  0.0 | -0.0 | -1.0 | -1.0 |\n",
      "| x1                |              4.0 |  1.0 |  0.0 |  0.0 |  0.2 |  0.3 |  nan |  nan |\n",
      "| x2                |              1.0 |  0.0 |  1.0 |  0.0 |  0.1 | -0.3 |  nan |  nan |\n",
      "| x3                |              2.0 |  0.0 |  0.0 |  1.0 | -0.2 | -0.3 |  nan |  nan |\n",
      "| -z6               |            -11.0 |  0.0 |  0.0 |  0.0 | -0.3 | -0.0 |  nan |  nan |\n"
     ]
    }
   ],
   "source": [
    "objective_function = [0., 2., 1., 1.]\n",
    "constraints_function = Constraint([[9., 2., 3., -1.],\n",
    "                                   [-4., 0., -2., -1.],\n",
    "                                   [6., 1., 0., 1.]],\n",
    "                                  [\"ineq\", \"ineq\", \"eq\"])\n",
    "parameters = [\"x1\", \"x2\", \"x3\"]\n",
    "\n",
    "model = Simplex(objective_function, parameters=parameters)\n",
    "model.fit(constraints_function)\n",
    "print()\n",
    "model.make_table(format_=\"github\")"
   ],
   "metadata": {
    "collapsed": false,
    "ExecuteTime": {
     "end_time": "2024-04-02T10:08:14.444256Z",
     "start_time": "2024-04-02T10:08:14.370877Z"
    }
   },
   "id": "b80c08b3af177fe9",
   "execution_count": 264
  },
  {
   "cell_type": "code",
   "outputs": [],
   "source": [],
   "metadata": {
    "collapsed": false,
    "ExecuteTime": {
     "end_time": "2024-04-02T10:08:34.421329Z",
     "start_time": "2024-04-02T10:08:34.417721Z"
    }
   },
   "id": "64ef7d7bbe79990",
   "execution_count": 264
  },
  {
   "cell_type": "code",
   "outputs": [],
   "source": [],
   "metadata": {
    "collapsed": false
   },
   "id": "6456cfacfb0af25b"
  }
 ],
 "metadata": {
  "kernelspec": {
   "display_name": "Python 3",
   "language": "python",
   "name": "python3"
  },
  "language_info": {
   "codemirror_mode": {
    "name": "ipython",
    "version": 2
   },
   "file_extension": ".py",
   "mimetype": "text/x-python",
   "name": "python",
   "nbconvert_exporter": "python",
   "pygments_lexer": "ipython2",
   "version": "2.7.6"
  }
 },
 "nbformat": 4,
 "nbformat_minor": 5
}
