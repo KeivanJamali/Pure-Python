{
 "cells": [
  {
   "cell_type": "code",
   "execution_count": 1,
   "id": "initial_id",
   "metadata": {
    "collapsed": true,
    "ExecuteTime": {
     "end_time": "2023-08-25T17:04:57.276591900Z",
     "start_time": "2023-08-25T17:04:57.256423Z"
    }
   },
   "outputs": [
    {
     "data": {
      "text/plain": "deque([4, 3, 2, 1, 1, 2, 3, 4, 5, 6, 7, 1, 2, 3, 4])"
     },
     "execution_count": 1,
     "metadata": {},
     "output_type": "execute_result"
    }
   ],
   "source": [
    "from collections import deque\n",
    "\n",
    "dq = deque([1,2,3,4,5,6,7])\n",
    "\n",
    "dq.append(1)\n",
    "dq.appendleft(1)\n",
    "dq.extend([2,3,4])\n",
    "dq.extendleft([2,3,4])\n",
    "dq"
   ]
  },
  {
   "cell_type": "code",
   "execution_count": 2,
   "outputs": [
    {
     "data": {
      "text/plain": "deque([4, 3, 2, 1, 7, 6, 5, 4, 3, 2, 1, 1, 2, 3, 4])"
     },
     "execution_count": 2,
     "metadata": {},
     "output_type": "execute_result"
    }
   ],
   "source": [
    "dq.reverse()\n",
    "dq"
   ],
   "metadata": {
    "collapsed": false,
    "ExecuteTime": {
     "end_time": "2023-08-25T17:06:21.313099600Z",
     "start_time": "2023-08-25T17:06:21.294060600Z"
    }
   },
   "id": "89a1458c53f6cc1b"
  },
  {
   "cell_type": "code",
   "execution_count": 4,
   "outputs": [
    {
     "data": {
      "text/plain": "deque([1, 2, 3, 4, 4, 3, 2, 1, 7, 6, 5, 4, 3, 2, 1])"
     },
     "execution_count": 4,
     "metadata": {},
     "output_type": "execute_result"
    }
   ],
   "source": [
    "dq.rotate(2)\n",
    "dq"
   ],
   "metadata": {
    "collapsed": false,
    "ExecuteTime": {
     "end_time": "2023-08-25T17:07:33.767597400Z",
     "start_time": "2023-08-25T17:07:33.572912300Z"
    }
   },
   "id": "f5bdb4d0b955b42"
  },
  {
   "cell_type": "code",
   "execution_count": 6,
   "outputs": [
    {
     "data": {
      "text/plain": "deque([4, 3, 2, 1, 7, 6, 5, 4, 3, 2, 1, 1, 2, 3, 4])"
     },
     "execution_count": 6,
     "metadata": {},
     "output_type": "execute_result"
    }
   ],
   "source": [
    "dq.rotate(-4)\n",
    "dq"
   ],
   "metadata": {
    "collapsed": false,
    "ExecuteTime": {
     "end_time": "2023-08-25T17:07:59.823416400Z",
     "start_time": "2023-08-25T17:07:59.807617600Z"
    }
   },
   "id": "186f69eb1188250f"
  },
  {
   "cell_type": "code",
   "execution_count": 10,
   "outputs": [],
   "source": [
    "dq.index(3,5) # frst index of number 3 greater than 5\n",
    "dq.index(3,5,12) # between 5 and 12\n",
    "dq.count(3)\n",
    "dq.insert(4, 100) # add 100 in index 4"
   ],
   "metadata": {
    "collapsed": false,
    "ExecuteTime": {
     "end_time": "2023-08-25T17:11:22.416777200Z",
     "start_time": "2023-08-25T17:11:22.404906Z"
    }
   },
   "id": "25056b344252e14c"
  },
  {
   "cell_type": "code",
   "execution_count": 11,
   "outputs": [
    {
     "data": {
      "text/plain": "deque([4, 3, 2, 1, 100, 7, 6, 5, 4, 3, 2, 1, 1, 2, 3, 4])"
     },
     "execution_count": 11,
     "metadata": {},
     "output_type": "execute_result"
    }
   ],
   "source": [
    "dq"
   ],
   "metadata": {
    "collapsed": false,
    "ExecuteTime": {
     "end_time": "2023-08-25T17:11:23.199058900Z",
     "start_time": "2023-08-25T17:11:23.176691700Z"
    }
   },
   "id": "ec2e53fc02cc03f"
  },
  {
   "cell_type": "code",
   "execution_count": 12,
   "outputs": [],
   "source": [
    "dq.remove(100)"
   ],
   "metadata": {
    "collapsed": false,
    "ExecuteTime": {
     "end_time": "2023-08-25T17:11:30.923709200Z",
     "start_time": "2023-08-25T17:11:30.899651700Z"
    }
   },
   "id": "476347103acedce8"
  },
  {
   "cell_type": "code",
   "execution_count": 13,
   "outputs": [
    {
     "data": {
      "text/plain": "deque([4, 3, 2, 1, 7, 6, 5, 4, 3, 2, 1, 1, 2, 3, 4])"
     },
     "execution_count": 13,
     "metadata": {},
     "output_type": "execute_result"
    }
   ],
   "source": [
    "dq"
   ],
   "metadata": {
    "collapsed": false,
    "ExecuteTime": {
     "end_time": "2023-08-25T17:11:32.472098700Z",
     "start_time": "2023-08-25T17:11:32.447732100Z"
    }
   },
   "id": "c4e19e7525bcbb6f"
  },
  {
   "cell_type": "code",
   "execution_count": 14,
   "outputs": [],
   "source": [
    "dq.remove(2)"
   ],
   "metadata": {
    "collapsed": false,
    "ExecuteTime": {
     "end_time": "2023-08-25T17:11:42.047706200Z",
     "start_time": "2023-08-25T17:11:42.025621200Z"
    }
   },
   "id": "629f38127a9b0532"
  },
  {
   "cell_type": "code",
   "execution_count": 15,
   "outputs": [
    {
     "data": {
      "text/plain": "deque([4, 3, 1, 7, 6, 5, 4, 3, 2, 1, 1, 2, 3, 4])"
     },
     "execution_count": 15,
     "metadata": {},
     "output_type": "execute_result"
    }
   ],
   "source": [
    "dq"
   ],
   "metadata": {
    "collapsed": false,
    "ExecuteTime": {
     "end_time": "2023-08-25T17:11:44.881154Z",
     "start_time": "2023-08-25T17:11:44.850135500Z"
    }
   },
   "id": "4310ff6354eee9db"
  },
  {
   "cell_type": "code",
   "execution_count": null,
   "outputs": [],
   "source": [],
   "metadata": {
    "collapsed": false
   },
   "id": "c5792242d2597bcf"
  }
 ],
 "metadata": {
  "kernelspec": {
   "display_name": "Python 3",
   "language": "python",
   "name": "python3"
  },
  "language_info": {
   "codemirror_mode": {
    "name": "ipython",
    "version": 2
   },
   "file_extension": ".py",
   "mimetype": "text/x-python",
   "name": "python",
   "nbconvert_exporter": "python",
   "pygments_lexer": "ipython2",
   "version": "2.7.6"
  }
 },
 "nbformat": 4,
 "nbformat_minor": 5
}
