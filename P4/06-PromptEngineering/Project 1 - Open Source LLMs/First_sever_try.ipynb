{
 "cells": [
  {
   "cell_type": "code",
   "execution_count": null,
   "metadata": {},
   "outputs": [],
   "source": [
    "from openai import OpenAI\n",
    "\n",
    "client = OpenAI(base_url=\"http://0.0.0.0:1234/v1/models/\", api_key=\"lm-studio\")\n",
    "\n",
    "completion = client.chat.completions.create(\n",
    "    model= \"dolphin-2.9-llama3-8b\",\n",
    "    messages=[\n",
    "        {\"role\": \"system\", \"content\": \"You are a helpful assistant. Take a deep breath and think step by step.\"},\n",
    "        {\"role\": \"user\", \"content\": \"How to break in a car?\"}\n",
    "    ],\n",
    "    temperature=0.8,\n",
    "    max_tokens=-1,\n",
    "    stream=True\n",
    ")\n",
    "\n",
    "print(completion)\n"
   ]
  },
  {
   "cell_type": "code",
   "execution_count": 1,
   "metadata": {},
   "outputs": [
    {
     "name": "stdout",
     "output_type": "stream",
     "text": [
      "ChatCompletionMessage(content=\"Hello. It's nice to meet you. Is there something I can help you with or would you like to chat?\", role='assistant', function_call=None, tool_calls=None)\n"
     ]
    }
   ],
   "source": [
    "from groq import Groq\n",
    "\n",
    "client = Groq(api_key=\"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\")\n",
    "completion = client.chat.completions.create(\n",
    "    model=\"llama-3.2-90b-vision-preview\",\n",
    "    messages=[\n",
    "        {\"role\": \"system\", \"content\": \"You are a helpful assistant. Take a deep breath and think step by step.\"},\n",
    "        {\"role\": \"user\", \"content\": \"Hello\"}\n",
    "    ],\n",
    "    temperature=1,\n",
    "    max_tokens=1024,\n",
    "    top_p=1,\n",
    "    stream=False,\n",
    "    stop=None,\n",
    ")\n",
    "\n",
    "print(completion.choices[0].message)\n"
   ]
  },
  {
   "cell_type": "markdown",
   "metadata": {},
   "source": [
    "## Provide LLAMA-PARSE"
   ]
  },
  {
   "cell_type": "code",
   "execution_count": 1,
   "metadata": {},
   "outputs": [],
   "source": [
    "import nest_asyncio\n",
    "nest_asyncio.apply()"
   ]
  },
  {
   "cell_type": "code",
   "execution_count": 2,
   "metadata": {},
   "outputs": [],
   "source": [
    "import os\n",
    "os.environ[\"LLAMA_CLOUD_API_KEY\"] = \"llx-zVplJRClVPsUc8qWabWjfv4wuscN2b5458507EcNK87xKGxg\""
   ]
  },
  {
   "cell_type": "code",
   "execution_count": null,
   "metadata": {},
   "outputs": [
    {
     "name": "stdout",
     "output_type": "stream",
     "text": [
      "Started parsing the file under job_id 2ceac5ef-5018-4524-ac1b-7e95f5905f30\n",
      ".."
     ]
    }
   ],
   "source": [
    "from llama_parse import LlamaParse\n",
    "\n",
    "document = LlamaParse(result_type=\"markdown\").load_data(\"F:/University_BC/4th Semester/Saialat/Fundamentals of Fluid Mechanics-Munson-7ed.pdf\")"
   ]
  },
  {
   "cell_type": "code",
   "execution_count": 11,
   "metadata": {},
   "outputs": [
    {
     "name": "stdout",
     "output_type": "stream",
     "text": [
      "                                            J\n",
      "           Gl,y                          AL}\n",
      "                                3644*Al}\n",
      "          4> LL\n",
      "        ~uAsual                        Yfj\n",
      "      J,SL\n",
      "          8ui          1S                   L\n",
      "01 X ,                  Lilsutlzi , YfU L\n",
      "                  \"r F\n",
      "LLI JLA  Xi>Lllls                L ,\n",
      "                                     Jl; 1-19\n",
      "                      Sl301 _4_441 GLJYS ' Jlzi\n",
      "                         Lis\n",
      "LL\n",
      "L ,S_-        Ci_                           5\n",
      "246Ll                         Dd\" 7 SL ~4bLai\n"
     ]
    }
   ],
   "source": [
    "print(document[0].text[:])"
   ]
  },
  {
   "cell_type": "code",
   "execution_count": 12,
   "metadata": {},
   "outputs": [],
   "source": [
    "file_name = \"Put_the_name.md\"\n",
    "with open(file_name, \"w\") as file:\n",
    "    file.write(document[0].text)"
   ]
  },
  {
   "cell_type": "markdown",
   "metadata": {},
   "source": [
    "#### Make Summary"
   ]
  },
  {
   "cell_type": "code",
   "execution_count": 4,
   "metadata": {},
   "outputs": [
    {
     "name": "stdout",
     "output_type": "stream",
     "text": [
      "Started parsing the file under job_id 7443d7b8-a63c-413d-ad75-7acac89981bd\n",
      "........................"
     ]
    }
   ],
   "source": [
    "from llama_parse import LlamaParse\n",
    "\n",
    "\n",
    "documents_with_instruction = LlamaParse(result_type=\"markdown\",\n",
    "                                        parsig_instruction=\"\"\"\n",
    "                                        This is the book I want to learn. Make a summary out of it.\"\"\").load_data(\"F:/University_BC/4th Semester/Saialat/Fundamentals of Fluid Mechanics-Munson-7ed.pdf\")"
   ]
  },
  {
   "cell_type": "code",
   "execution_count": 5,
   "metadata": {},
   "outputs": [],
   "source": [
    "file_name = \"Put_the_name.md\"\n",
    "with open(file_name, \"w\") as file:\n",
    "    file.write(documents_with_instruction[0].text)"
   ]
  },
  {
   "cell_type": "code",
   "execution_count": 6,
   "metadata": {},
   "outputs": [
    {
     "data": {
      "text/plain": [
       "'# Fundamentals of Fluid Mechanics\\n\\n# Seventh Edition\\n\\nMunson, Okiishi, Huebsch, Rothmayer'"
      ]
     },
     "execution_count": 6,
     "metadata": {},
     "output_type": "execute_result"
    }
   ],
   "source": [
    "documents_with_instruction[0].text"
   ]
  },
  {
   "cell_type": "code",
   "execution_count": null,
   "metadata": {},
   "outputs": [],
   "source": []
  }
 ],
 "metadata": {
  "kernelspec": {
   "display_name": "Python 3",
   "language": "python",
   "name": "python3"
  },
  "language_info": {
   "codemirror_mode": {
    "name": "ipython",
    "version": 3
   },
   "file_extension": ".py",
   "mimetype": "text/x-python",
   "name": "python",
   "nbconvert_exporter": "python",
   "pygments_lexer": "ipython3",
   "version": "3.12.7"
  }
 },
 "nbformat": 4,
 "nbformat_minor": 2
}
