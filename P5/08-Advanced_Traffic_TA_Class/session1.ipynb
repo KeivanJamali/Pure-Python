{
 "cells": [
  {
   "cell_type": "code",
   "execution_count": 1,
   "id": "dd11c0fe",
   "metadata": {},
   "outputs": [],
   "source": [
    "%load_ext autoreload\n",
    "%autoreload 2"
   ]
  },
  {
   "cell_type": "code",
   "execution_count": 2,
   "id": "0a80a1d3",
   "metadata": {},
   "outputs": [],
   "source": [
    "from serach_arxive import SearchArxivOAI"
   ]
  },
  {
   "cell_type": "code",
   "execution_count": null,
   "id": "37388c76",
   "metadata": {},
   "outputs": [
    {
     "name": "stderr",
     "output_type": "stream",
     "text": [
      "Searching for 'Python Ecosystem': 100%|██████████| 3/3 [01:04<00:00, 21.61s/it]\n",
      "Searching for 'MATLAB': 100%|██████████| 3/3 [01:06<00:00, 22.23s/it]\n"
     ]
    }
   ],
   "source": [
    "keyword_groups = [\n",
    "    [\"python\", \"numpy\", \"matplotlib\", \"pandas\", \"jupyter\"],\n",
    "    [\"matlab\", \"simulink\"],\n",
    "]\n",
    "group_names = [\"Python Ecosystem\", \"MATLAB\"]\n",
    "\n",
    "searcher = SearchArxivOAI(\n",
    "    start_year=2023,\n",
    "    end_year=2025,\n",
    "    keyword_groups=keyword_groups,\n",
    "    group_names=group_names\n",
    ")\n",
    "data_count, data_percent, data = searcher.fit()"
   ]
  },
  {
   "cell_type": "code",
   "execution_count": null,
   "id": "fe5c23ac",
   "metadata": {},
   "outputs": [],
   "source": [
    "searcher.plot_results(data_count, \"counts\")\n",
    "searcher.plot_results(data_percent, \"percent\")"
   ]
  },
  {
   "cell_type": "code",
   "execution_count": null,
   "id": "8d558c4a",
   "metadata": {},
   "outputs": [],
   "source": [
    "keyword_groups = [\n",
    "    [\"python\", \"numpy\", \"matplotlib\", \"pandas\", \"jupyter\"],\n",
    "    [\"matlab\", \"simulink\"],\n",
    "    [\"r language\", \"ggplot2\", \"tidyverse\"],\n",
    "    [\"julia\", \"plutojl\"]\n",
    "]\n",
    "group_names = [\"Python Ecosystem\", \"MATLAB\", \"R Ecosystem\", \"Julia\"]\n",
    "\n",
    "searcher = SearchArxivOAI(\n",
    "    start_year=2001,\n",
    "    end_year=2025,\n",
    "    keyword_groups=keyword_groups,\n",
    "    group_names=group_names\n",
    ")\n",
    "\n",
    "data_count, data_percent, data = searcher.fit()"
   ]
  },
  {
   "cell_type": "code",
   "execution_count": null,
   "id": "042e4a15",
   "metadata": {},
   "outputs": [],
   "source": [
    "searcher.plot_results(data_count, \"counts\")\n",
    "searcher.plot_results(data_percent, \"percent\")"
   ]
  }
 ],
 "metadata": {
  "kernelspec": {
   "display_name": "advanced-python",
   "language": "python",
   "name": "python3"
  },
  "language_info": {
   "codemirror_mode": {
    "name": "ipython",
    "version": 3
   },
   "file_extension": ".py",
   "mimetype": "text/x-python",
   "name": "python",
   "nbconvert_exporter": "python",
   "pygments_lexer": "ipython3",
   "version": "3.13.5"
  }
 },
 "nbformat": 4,
 "nbformat_minor": 5
}
