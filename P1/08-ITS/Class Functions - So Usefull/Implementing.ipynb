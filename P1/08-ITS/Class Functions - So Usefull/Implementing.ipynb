{
 "cells": [
  {
   "cell_type": "code",
   "execution_count": 32,
   "id": "initial_id",
   "metadata": {
    "collapsed": true,
    "ExecuteTime": {
     "end_time": "2023-12-08T12:16:07.903353900Z",
     "start_time": "2023-12-08T12:16:07.828501600Z"
    }
   },
   "outputs": [
    {
     "name": "stdout",
     "output_type": "stream",
     "text": [
      "The autoreload extension is already loaded. To reload it, use:\n",
      "  %reload_ext autoreload\n"
     ]
    }
   ],
   "source": [
    "%load_ext autoreload\n",
    "%autoreload 2\n",
    "\n",
    "import numpy as np\n",
    "import pandas as pd\n",
    "import matplotlib.pyplot as plt\n",
    "import networkx as nx\n",
    "\n",
    "from Backtracking_Search import Backtracking_search as bts"
   ]
  },
  {
   "cell_type": "code",
   "execution_count": 50,
   "outputs": [],
   "source": [
    "graph_main = {\n",
    "    0: {1: 1, 2: 3, 3: 3},\n",
    "    1: {0: 1, 2: 1, 4: 4, 5: 2},\n",
    "    2: {0: 3, 1: 1, 3: 1, 4: 1, 5: 1, 6: 2},\n",
    "    3: {0: 3, 2: 1, 5: 2, 6: 3, 7: 1},\n",
    "    4: {2: 1, 8: 2},\n",
    "    5: {2: 1, 3: 2, 8: 1, 9: 7},\n",
    "    6: {2: 2, 3: 3, 8: 3, 9: 2},\n",
    "    7: {3: 1, 9: 4},\n",
    "    8: {4: 2, 5: 1, 6: 3},\n",
    "    9: {5: 7, 6: 2, 7: 4}\n",
    "}\n",
    "\n",
    "data = {\n",
    "    0: [1,2,3],\n",
    "    1: [2,4,],\n",
    "    2: [3,4,6],\n",
    "    3: [6,7],\n",
    "    4: [8],\n",
    "    5: [8,9],\n",
    "    6: [8,9],\n",
    "    7: [9],\n",
    "    8: [],\n",
    "    9: []\n",
    "}\n",
    "node_positions = {\n",
    "    0: (0, 0),\n",
    "    1: (3, 3),\n",
    "    2: (3, 0),\n",
    "    3: (3, -3),\n",
    "    4: (6, 3),\n",
    "    5: (6, 0),\n",
    "    6: (6, -3),\n",
    "    7: (6, -6),\n",
    "    8: (9, 0),\n",
    "    9: (9, -6),\n",
    "}\n"
   ],
   "metadata": {
    "collapsed": false,
    "ExecuteTime": {
     "end_time": "2023-12-08T12:26:29.136939600Z",
     "start_time": "2023-12-08T12:26:29.023665Z"
    }
   },
   "id": "88c1d4389a5c0f64"
  },
  {
   "cell_type": "code",
   "execution_count": 57,
   "outputs": [],
   "source": [
    "model = bts()\n",
    "model.fit(data, 0, 9, approach=\"NR\")"
   ],
   "metadata": {
    "collapsed": false,
    "ExecuteTime": {
     "end_time": "2023-12-08T12:26:48.990163100Z",
     "start_time": "2023-12-08T12:26:48.922044900Z"
    }
   },
   "id": "79b2dbce11c20f69"
  },
  {
   "cell_type": "code",
   "execution_count": 58,
   "outputs": [
    {
     "data": {
      "text/plain": "[0, 1, 2, 3, 6, 9]"
     },
     "execution_count": 58,
     "metadata": {},
     "output_type": "execute_result"
    }
   ],
   "source": [
    "model.path"
   ],
   "metadata": {
    "collapsed": false,
    "ExecuteTime": {
     "end_time": "2023-12-08T12:26:49.243652100Z",
     "start_time": "2023-12-08T12:26:49.155873200Z"
    }
   },
   "id": "b0de307a865653e5"
  },
  {
   "cell_type": "code",
   "execution_count": 83,
   "outputs": [],
   "source": [
    "model = bts()\n",
    "model.fit(data, 0, 9, approach=\"R\")"
   ],
   "metadata": {
    "collapsed": false,
    "ExecuteTime": {
     "end_time": "2023-12-08T12:29:36.797850600Z",
     "start_time": "2023-12-08T12:29:36.205805500Z"
    }
   },
   "id": "e199917c493ca900"
  },
  {
   "cell_type": "code",
   "execution_count": 84,
   "outputs": [
    {
     "data": {
      "text/plain": "[0, 1, 2, 3, 6, 9]"
     },
     "execution_count": 84,
     "metadata": {},
     "output_type": "execute_result"
    }
   ],
   "source": [
    "model.path"
   ],
   "metadata": {
    "collapsed": false,
    "ExecuteTime": {
     "end_time": "2023-12-08T12:29:37.262278800Z",
     "start_time": "2023-12-08T12:29:37.182934600Z"
    }
   },
   "id": "39a1df33ec9dcaca"
  },
  {
   "cell_type": "code",
   "execution_count": 69,
   "outputs": [
    {
     "name": "stdout",
     "output_type": "stream",
     "text": [
      "Following is the Depth-First Search\n",
      "5\n",
      "3\n",
      "2\n",
      "4\n",
      "8\n",
      "7\n"
     ]
    }
   ],
   "source": [
    "# Using a Python dictionary to act as an adjacency list\n",
    "graph = {\n",
    "  '5' : ['3','7'],\n",
    "  '3' : ['2', '4'],\n",
    "  '7' : ['8'],\n",
    "  '2' : [],\n",
    "  '4' : ['8'],\n",
    "  '8' : []\n",
    "}\n",
    "\n",
    "visited = set() # Set to keep track of visited nodes of graph.\n",
    "\n",
    "def dfs(visited, graph, node):  #function for dfs \n",
    "    if node not in visited:\n",
    "        print (node)\n",
    "        visited.add(node)\n",
    "        for neighbour in graph[node]:\n",
    "            dfs(visited, graph, neighbour)\n",
    "\n",
    "# Driver Code\n",
    "print(\"Following is the Depth-First Search\")\n",
    "dfs(visited, graph, '5')"
   ],
   "metadata": {
    "collapsed": false,
    "ExecuteTime": {
     "end_time": "2023-12-08T12:27:20.645054100Z",
     "start_time": "2023-12-08T12:27:20.521636500Z"
    }
   },
   "id": "555a4e72f7de6193"
  },
  {
   "cell_type": "code",
   "execution_count": 10,
   "outputs": [],
   "source": [
    "model.result"
   ],
   "metadata": {
    "collapsed": false,
    "ExecuteTime": {
     "end_time": "2023-12-08T11:00:20.122779200Z",
     "start_time": "2023-12-08T11:00:20.020440600Z"
    }
   },
   "id": "216b2e15bf006913"
  },
  {
   "cell_type": "code",
   "execution_count": 15,
   "outputs": [
    {
     "data": {
      "text/plain": "dict_items([(0, {1: 1, 2: 3, 3: 3}), (1, {0: 1, 2: 1, 4: 4, 5: 2}), (2, {0: 3, 1: 1, 3: 1, 4: 1, 5: 1, 6: 2}), (3, {0: 3, 2: 1, 5: 2, 6: 3, 7: 1}), (4, {2: 1, 8: 2}), (5, {2: 1, 3: 2, 8: 1, 9: 7}), (6, {2: 2, 3: 3, 8: 3, 9: 2}), (7, {3: 1, 9: 4}), (8, {4: 2, 5: 1, 6: 3}), (9, {5: 7, 6: 2, 7: 4})])"
     },
     "execution_count": 15,
     "metadata": {},
     "output_type": "execute_result"
    }
   ],
   "source": [
    "graph_main.items()"
   ],
   "metadata": {
    "collapsed": false,
    "ExecuteTime": {
     "end_time": "2023-12-08T11:03:42.301947500Z",
     "start_time": "2023-12-08T11:03:42.176008400Z"
    }
   },
   "id": "7d17242826841d6b"
  },
  {
   "cell_type": "code",
   "execution_count": null,
   "outputs": [],
   "source": [],
   "metadata": {
    "collapsed": false
   },
   "id": "382221c0adc3eda3"
  }
 ],
 "metadata": {
  "kernelspec": {
   "display_name": "Python 3",
   "language": "python",
   "name": "python3"
  },
  "language_info": {
   "codemirror_mode": {
    "name": "ipython",
    "version": 2
   },
   "file_extension": ".py",
   "mimetype": "text/x-python",
   "name": "python",
   "nbconvert_exporter": "python",
   "pygments_lexer": "ipython2",
   "version": "2.7.6"
  }
 },
 "nbformat": 4,
 "nbformat_minor": 5
}
