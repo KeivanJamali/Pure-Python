{
 "cells": [
  {
   "cell_type": "code",
   "execution_count": 22,
   "outputs": [
    {
     "name": "stdout",
     "output_type": "stream",
     "text": [
      "The autoreload extension is already loaded. To reload it, use:\n",
      "  %reload_ext autoreload\n"
     ]
    }
   ],
   "source": [
    "%load_ext autoreload\n",
    "%autoreload 2\n",
    "\n",
    "import Unit_5 as u5\n",
    "import numpy as np"
   ],
   "metadata": {
    "collapsed": false,
    "pycharm": {
     "name": "#%%\n"
    },
    "ExecuteTime": {
     "end_time": "2023-06-03T12:34:00.292751100Z",
     "start_time": "2023-06-03T12:34:00.228398700Z"
    }
   }
  },
  {
   "cell_type": "markdown",
   "source": [
    "## Entering Data"
   ],
   "metadata": {
    "collapsed": false
   }
  },
  {
   "cell_type": "code",
   "execution_count": 23,
   "outputs": [],
   "source": [
    "node1 = u5.Point(0, 0, number=1)\n",
    "node2 = u5.Point(0, 20 * 12, number=2)\n",
    "node3 = u5.Point(20 * 12, 20 * 12, number=3)\n",
    "node4 = u5.Point(12 * 20, 0, number=4)\n",
    "E = 30 * 10 ** 6  #ib/in^2\n",
    "A = 100  #in^2\n",
    "I1 = 200 #in^4\n",
    "I2 = 200 #in^4\n",
    "I3 = 400 #in^4"
   ],
   "metadata": {
    "collapsed": false,
    "pycharm": {
     "name": "#%%\n"
    },
    "ExecuteTime": {
     "end_time": "2023-06-03T12:34:35.643991200Z",
     "start_time": "2023-06-03T12:34:35.591617700Z"
    }
   }
  },
  {
   "cell_type": "code",
   "execution_count": 30,
   "outputs": [],
   "source": [
    "# Elements\n",
    "E1 = u5.Element(node1, node2, E, I1, A)\n",
    "E2 = u5.Element(node2, node3, E, I2, A)\n",
    "E3 = u5.Element(node3, node4, E, I3, A)\n",
    "\n",
    "E1.make_element_K(node1, node2)\n",
    "E2.make_element_K(node2, node3)\n",
    "E3.make_element_K(node3, node4)\n",
    "\n",
    "# print(E1.K)\n",
    "# print(E2.K)\n",
    "# print(E3.K)"
   ],
   "metadata": {
    "collapsed": false,
    "pycharm": {
     "name": "#%%\n"
    },
    "ExecuteTime": {
     "end_time": "2023-06-03T12:36:09.059708300Z",
     "start_time": "2023-06-03T12:36:08.948403700Z"
    }
   }
  },
  {
   "cell_type": "markdown",
   "source": [
    "#### Step 1: make total K as \"K\"\n",
    "#### Step 2: make modified K as \"K_modifide\""
   ],
   "metadata": {
    "collapsed": false
   }
  },
  {
   "cell_type": "code",
   "execution_count": 31,
   "outputs": [],
   "source": [
    "K = np.zeros(4 * 3 * 4 * 3)\n",
    "K_N = u5.make_K_N(4 * 3)\n",
    "K_modifide = np.array([])\n",
    "# print(len(E1.K))\n",
    "# print(len(E2.K))\n",
    "K = u5.merge_K(K, K_N, E1)\n",
    "K = u5.merge_K(K, K_N, E2)\n",
    "K = u5.merge_K(K, K_N, E3)\n",
    "\n",
    "# print(len(K))\n",
    "# print(K)\n",
    "new_K_N = u5.make_K_N(6, 2, 2)  # show where is the modified K\n",
    "# print(new_K_N)\n",
    "for p, v in np.ndenumerate(K_N):\n",
    "    if v in new_K_N:\n",
    "        K_modifide = np.append(K_modifide, K[p])\n",
    "# print(new_K_N)\n",
    "# print()\n",
    "# print(K_N)\n",
    "# print(K_modifide.reshape([3,3])/50000)\n",
    "K_modifide = K_modifide.reshape([6, 6])  # shape the modified.\n",
    "# print(K_modifide)"
   ],
   "metadata": {
    "collapsed": false,
    "pycharm": {
     "name": "#%%\n"
    },
    "ExecuteTime": {
     "end_time": "2023-06-03T12:37:37.852780500Z",
     "start_time": "2023-06-03T12:37:37.784843600Z"
    }
   }
  },
  {
   "cell_type": "markdown",
   "source": [
    "### F = K*D\n",
    "#### find displacements as \"displacements\""
   ],
   "metadata": {
    "collapsed": false
   }
  },
  {
   "cell_type": "code",
   "execution_count": 32,
   "outputs": [
    {
     "name": "stdout",
     "output_type": "stream",
     "text": [
      "[[ 1.57793834e+00  4.71362042e-04 -3.43363879e-03  1.57722413e+00\n",
      "  -4.71362042e-04 -6.00145808e-03]]\n"
     ]
    }
   ],
   "source": [
    "K_modifide_inv = np.linalg.inv(K_modifide)\n",
    "F = np.array([[15000], [0], [0], [0], [0], [0]])  # Enter F matrix modified\n",
    "displacements = np.dot(K_modifide_inv, F)\n",
    "print(displacements.transpose())"
   ],
   "metadata": {
    "collapsed": false,
    "pycharm": {
     "name": "#%%\n"
    },
    "ExecuteTime": {
     "end_time": "2023-06-03T12:37:49.827103Z",
     "start_time": "2023-06-03T12:37:49.769548800Z"
    }
   }
  },
  {
   "cell_type": "markdown",
   "source": [
    "### F = K*D\n",
    "#### find Forces as \"F_total\""
   ],
   "metadata": {
    "collapsed": false
   }
  },
  {
   "cell_type": "code",
   "execution_count": 33,
   "outputs": [
    {
     "name": "stdout",
     "output_type": "stream",
     "text": [
      "[-6.07240459e+03 -5.89202553e+03  8.14529521e+05  1.50000000e+04\n",
      "  9.09494702e-13 -5.82076609e-11  0.00000000e+00 -9.09494702e-13\n",
      "  2.91038305e-11 -8.92759541e+03  5.89202553e+03  1.37138435e+06]\n"
     ]
    }
   ],
   "source": [
    "displacements_total = np.zeros(4 * 3)  # total dimension\n",
    "iteration = -1\n",
    "temp = 0\n",
    "# print(new_K_N)\n",
    "new2_K_N = new_K_N.copy()\n",
    "new2_K_N = new2_K_N[0:-1:6]  # n is the number of dimension in matrix\n",
    "for i in range(len(new2_K_N)):\n",
    "    new2_K_N[i] = new2_K_N[i][0:2]\n",
    "# print(new2_K_N)\n",
    "for p, v in np.ndenumerate(K_N):\n",
    "    if temp == v[0:2]:\n",
    "        continue\n",
    "    temp = v[0:2]\n",
    "    # print(v[0:2])\n",
    "    # print(temp)\n",
    "    # print(\"#\")\n",
    "    if v[0:2] in new2_K_N:\n",
    "        iteration += 1\n",
    "        # print(iter)\n",
    "        displacements_total[p[0] // 12] = displacements[iteration]  # n is the dimension of main matrix... total K dimension\n",
    "# print(displacements_total)\n",
    "K = K.reshape([12, 12])\n",
    "displacements_total = displacements_total.transpose()\n",
    "# print(K.shape)\n",
    "# print(displacements_total.shape)\n",
    "F_total = np.dot(K, displacements_total)\n",
    "print(F_total.transpose())"
   ],
   "metadata": {
    "collapsed": false,
    "pycharm": {
     "name": "#%%\n"
    },
    "ExecuteTime": {
     "end_time": "2023-06-03T12:37:53.156792200Z",
     "start_time": "2023-06-03T12:37:53.109413800Z"
    }
   }
  },
  {
   "cell_type": "code",
   "execution_count": null,
   "outputs": [],
   "source": [],
   "metadata": {
    "collapsed": false
   }
  }
 ],
 "metadata": {
  "kernelspec": {
   "display_name": "Python 3",
   "language": "python",
   "name": "python3"
  },
  "language_info": {
   "codemirror_mode": {
    "name": "ipython",
    "version": 2
   },
   "file_extension": ".py",
   "mimetype": "text/x-python",
   "name": "python",
   "nbconvert_exporter": "python",
   "pygments_lexer": "ipython2",
   "version": "2.7.6"
  }
 },
 "nbformat": 4,
 "nbformat_minor": 0
}
