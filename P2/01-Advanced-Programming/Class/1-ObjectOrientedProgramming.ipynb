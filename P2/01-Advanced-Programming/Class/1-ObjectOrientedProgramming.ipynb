{
 "cells": [
  {
   "cell_type": "markdown",
   "metadata": {},
   "source": [
    "<span style=\"font-size: 36px; font-weight: bold; color:#4c95ad\">Object Oriented Programming</span>"
   ]
  },
  {
   "cell_type": "markdown",
   "metadata": {},
   "source": [
    "- Object Oriented Programming is a way of computer programming using the idea of **“objects”** to represents data and methods. \n",
    "- Object-oriented programming is an approach for modeling concrete, **real-world things**, like cars, as well as relations between things, like companies and employees, students and teachers, and so on. \n",
    "- OOP models real-world entities as software objects that have some data associated with them and can perform certain functions.\n"
   ]
  },
  {
   "cell_type": "markdown",
   "metadata": {},
   "source": [
    "- An object could represent a person with properties like a **name**, **age**, and **address** and behaviors such as w**alking, talking, breathing, and running**.\n",
    "- An object could represent an email with properties like a **recipient list, subject, and body** and behaviors like **adding attachments and sending**.\n"
   ]
  },
  {
   "cell_type": "markdown",
   "metadata": {},
   "source": [
    "<div style=\"width:800px; height:400px;\">\n",
    "    <img src=\"image-4.png\" style=\"width:100%; height:100%;\">\n",
    "</div>\n"
   ]
  },
  {
   "cell_type": "markdown",
   "metadata": {},
   "source": [
    "\n",
    "<span style=\"font-size: 30px; font-weight: bold; color:#4c95ad\">Why OOP is GOOD?</span>\n",
    "\n",
    "**Chunking**: OOP allows for the grouping of related variables and functions into objects or classes, facilitating mental \"chunking\" of functionalities. This makes it easier to understand and remember code.\n",
    "\n",
    "**Contextual Cues**: Classes and objects serve as contextual markers, helping programmers quickly understand the role and usage of a given set of methods and variables within the program.\n",
    "\n",
    "**Simplifies Complexity**: OOP encourages the breakdown of complex problems into smaller, more manageable objects or modules. This modular approach simplifies complexity and aids understanding.\n",
    "\n",
    "**Reduction in Cognitive Load**: By encapsulating details and exposing only necessary interfaces, OOP minimizes the amount of information that developers need to hold in their working memory at one time.\n",
    "\n",
    "**Mental Models**: The use of classes and objects allows for a more natural mapping to real-world entities and their behaviors, fitting well with human mental models and making the code easier to understand.\n",
    "\n",
    "**Sequential Learning**: OOP's modular nature allows for a step-by-step learning process. Developers can understand one class or object at a time, progressively building up their understanding of the entire system."
   ]
  },
  {
   "cell_type": "markdown",
   "metadata": {},
   "source": [
    "<span style=\"font-size: 30px; font-weight: bold; color:#4c95ad\">All You Need is Abstraction</span></br>\n",
    "Its main goal is to handle complexity by **hiding unnecessary details from the user**. That enables the user to implement more complex logic on top of the provided abstraction without understanding or even thinking about all the hidden complexity.\n"
   ]
  },
  {
   "cell_type": "markdown",
   "metadata": {},
   "source": [
    "<div style=\"width:700px; height:600px;\">\n",
    "    <img src=\"image-7.png\" style=\"width:100%; height:100%;\">\n",
    "</div>"
   ]
  },
  {
   "cell_type": "markdown",
   "metadata": {},
   "source": [
    "**Making coffee with a coffee machine:** </br>\n",
    "You need to know how to use your coffee machine to make coffee. </br>\n",
    "You need to provide water and coffee beans, switch it on and select the kind of coffee you want to get.</br>\n",
    "The thing you don’t need to know is:\n",
    "-   How the coffee machine is working internally to brew a fresh cup of delicious coffee. </br>\n",
    "-   You don’t need to know the ideal temperature of the water or the amount of ground coffee you need to use.\n"
   ]
  },
  {
   "cell_type": "markdown",
   "metadata": {},
   "source": [
    "**There are many ways to achieve abstraction in object-oriented programming, such as:**\n",
    "- Class and Instances\n",
    "- Methods\n",
    "- Encapsulation\n",
    "- Inheritance \n",
    "- Polymorphism\n",
    "- Module\n",
    "- Package"
   ]
  }
 ],
 "metadata": {
  "kernelspec": {
   "display_name": "base",
   "language": "python",
   "name": "python3"
  },
  "language_info": {
   "codemirror_mode": {
    "name": "ipython",
    "version": 3
   },
   "file_extension": ".py",
   "mimetype": "text/x-python",
   "name": "python",
   "nbconvert_exporter": "python",
   "pygments_lexer": "ipython3",
   "version": "3.9.5"
  },
  "orig_nbformat": 4
 },
 "nbformat": 4,
 "nbformat_minor": 2
}
