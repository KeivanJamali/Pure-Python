{
 "cells": [
  {
   "cell_type": "code",
   "execution_count": null,
   "id": "initial_id",
   "metadata": {
    "collapsed": true,
    "is_executing": true
   },
   "outputs": [],
   "source": [
    "import pandas as pd\n",
    "import numpy as np"
   ]
  },
  {
   "cell_type": "code",
   "execution_count": null,
   "id": "c9d32bb984bca437",
   "metadata": {
    "collapsed": false,
    "is_executing": true
   },
   "outputs": [],
   "source": [
    "accident = pd.read_csv(\"Datasets_HW1/Accident.csv\")\n",
    "accident"
   ]
  },
  {
   "cell_type": "code",
   "execution_count": null,
   "id": "647a03a29ef6a20",
   "metadata": {
    "collapsed": false,
    "is_executing": true
   },
   "outputs": [],
   "source": [
    "accident_london = pd.read_csv(\"Datasets_HW1/Accident_London.csv\")\n",
    "accident_london"
   ]
  },
  {
   "cell_type": "code",
   "execution_count": null,
   "id": "a985e90a0c808ba2",
   "metadata": {
    "collapsed": false,
    "is_executing": true
   },
   "outputs": [],
   "source": [
    "import geopandas as gpd\n",
    "district = gpd.read_file(\"Datasets_HW1/district.json\")\n",
    "district"
   ]
  },
  {
   "cell_type": "code",
   "execution_count": null,
   "id": "ac12df67aecd839a",
   "metadata": {
    "collapsed": false,
    "is_executing": true
   },
   "outputs": [],
   "source": []
  }
 ],
 "metadata": {
  "kernelspec": {
   "display_name": "Python 3",
   "language": "python",
   "name": "python3"
  },
  "language_info": {
   "codemirror_mode": {
    "name": "ipython",
    "version": 3
   },
   "file_extension": ".py",
   "mimetype": "text/x-python",
   "name": "python",
   "nbconvert_exporter": "python",
   "pygments_lexer": "ipython3",
   "version": "3.11.5"
  }
 },
 "nbformat": 4,
 "nbformat_minor": 5
}
