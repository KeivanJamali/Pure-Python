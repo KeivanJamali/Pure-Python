{
 "cells": [
  {
   "cell_type": "code",
   "execution_count": 1,
   "id": "initial_id",
   "metadata": {
    "collapsed": true,
    "ExecuteTime": {
     "end_time": "2024-03-07T13:44:52.522196800Z",
     "start_time": "2024-03-07T13:44:50.498946700Z"
    }
   },
   "outputs": [],
   "source": [
    "import pandas as pd\n",
    "import numpy as np\n",
    "from DataLoader import Load_file\n",
    "%load_ext autoreload\n",
    "%autoreload 2"
   ]
  },
  {
   "cell_type": "code",
   "outputs": [],
   "source": [
    "data_1 = pd.read_excel(\"F:/University/8th Semester/earthquake/HW1/part4.xlsx\", sheet_name=\"1-180\")\n",
    "data_3 = pd.read_excel(\"F:/University/8th Semester/earthquake/HW1/part4.xlsx\", sheet_name=\"3-315\")\n",
    "data_8 = pd.read_excel(\"F:/University/8th Semester/earthquake/HW1/part4.xlsx\", sheet_name=\"8-111\")"
   ],
   "metadata": {
    "collapsed": false,
    "ExecuteTime": {
     "end_time": "2024-03-07T14:16:01.618928800Z",
     "start_time": "2024-03-07T14:16:00.102938Z"
    }
   },
   "id": "f498384417288d2b",
   "execution_count": 14
  },
  {
   "cell_type": "code",
   "outputs": [
    {
     "data": {
      "text/plain": "      Time [sec]  Acceleration [g]  MY_Velocity [m/sec]  MY_Displacement [m]  \\\n0           0.00           0.00100             0.000098             0.000001   \n1           0.01           0.00100             0.000196             0.000004   \n2           0.02           0.00100             0.000294             0.000007   \n3           0.03           0.00100             0.000392             0.000012   \n4           0.04           0.00100             0.000491             0.000017   \n...          ...               ...                  ...                  ...   \n5367       53.67          -0.00018             0.000020            -0.001211   \n5368       53.68          -0.00018             0.000002            -0.001211   \n5369       53.69          -0.00018            -0.000016            -0.001211   \n5370       53.70          -0.00018            -0.000033            -0.001212   \n5371       53.71          -0.00018            -0.000010            -0.000050   \n\n      Unnamed: 4  SE_Velocity [m/sec]  SE_Displacement [m]  \n0            NaN              0.00000              0.00000  \n1            NaN              0.00010              0.00000  \n2            NaN              0.00020              0.00000  \n3            NaN              0.00029              0.00000  \n4            NaN              0.00039              0.00001  \n...          ...                  ...                  ...  \n5367         NaN              0.00006             -0.00005  \n5368         NaN              0.00004             -0.00005  \n5369         NaN              0.00003             -0.00005  \n5370         NaN              0.00001             -0.00005  \n5371         NaN             -0.00001             -0.00005  \n\n[5372 rows x 7 columns]",
      "text/html": "<div>\n<style scoped>\n    .dataframe tbody tr th:only-of-type {\n        vertical-align: middle;\n    }\n\n    .dataframe tbody tr th {\n        vertical-align: top;\n    }\n\n    .dataframe thead th {\n        text-align: right;\n    }\n</style>\n<table border=\"1\" class=\"dataframe\">\n  <thead>\n    <tr style=\"text-align: right;\">\n      <th></th>\n      <th>Time [sec]</th>\n      <th>Acceleration [g]</th>\n      <th>MY_Velocity [m/sec]</th>\n      <th>MY_Displacement [m]</th>\n      <th>Unnamed: 4</th>\n      <th>SE_Velocity [m/sec]</th>\n      <th>SE_Displacement [m]</th>\n    </tr>\n  </thead>\n  <tbody>\n    <tr>\n      <th>0</th>\n      <td>0.00</td>\n      <td>0.00100</td>\n      <td>0.000098</td>\n      <td>0.000001</td>\n      <td>NaN</td>\n      <td>0.00000</td>\n      <td>0.00000</td>\n    </tr>\n    <tr>\n      <th>1</th>\n      <td>0.01</td>\n      <td>0.00100</td>\n      <td>0.000196</td>\n      <td>0.000004</td>\n      <td>NaN</td>\n      <td>0.00010</td>\n      <td>0.00000</td>\n    </tr>\n    <tr>\n      <th>2</th>\n      <td>0.02</td>\n      <td>0.00100</td>\n      <td>0.000294</td>\n      <td>0.000007</td>\n      <td>NaN</td>\n      <td>0.00020</td>\n      <td>0.00000</td>\n    </tr>\n    <tr>\n      <th>3</th>\n      <td>0.03</td>\n      <td>0.00100</td>\n      <td>0.000392</td>\n      <td>0.000012</td>\n      <td>NaN</td>\n      <td>0.00029</td>\n      <td>0.00000</td>\n    </tr>\n    <tr>\n      <th>4</th>\n      <td>0.04</td>\n      <td>0.00100</td>\n      <td>0.000491</td>\n      <td>0.000017</td>\n      <td>NaN</td>\n      <td>0.00039</td>\n      <td>0.00001</td>\n    </tr>\n    <tr>\n      <th>...</th>\n      <td>...</td>\n      <td>...</td>\n      <td>...</td>\n      <td>...</td>\n      <td>...</td>\n      <td>...</td>\n      <td>...</td>\n    </tr>\n    <tr>\n      <th>5367</th>\n      <td>53.67</td>\n      <td>-0.00018</td>\n      <td>0.000020</td>\n      <td>-0.001211</td>\n      <td>NaN</td>\n      <td>0.00006</td>\n      <td>-0.00005</td>\n    </tr>\n    <tr>\n      <th>5368</th>\n      <td>53.68</td>\n      <td>-0.00018</td>\n      <td>0.000002</td>\n      <td>-0.001211</td>\n      <td>NaN</td>\n      <td>0.00004</td>\n      <td>-0.00005</td>\n    </tr>\n    <tr>\n      <th>5369</th>\n      <td>53.69</td>\n      <td>-0.00018</td>\n      <td>-0.000016</td>\n      <td>-0.001211</td>\n      <td>NaN</td>\n      <td>0.00003</td>\n      <td>-0.00005</td>\n    </tr>\n    <tr>\n      <th>5370</th>\n      <td>53.70</td>\n      <td>-0.00018</td>\n      <td>-0.000033</td>\n      <td>-0.001212</td>\n      <td>NaN</td>\n      <td>0.00001</td>\n      <td>-0.00005</td>\n    </tr>\n    <tr>\n      <th>5371</th>\n      <td>53.71</td>\n      <td>-0.00018</td>\n      <td>-0.000010</td>\n      <td>-0.000050</td>\n      <td>NaN</td>\n      <td>-0.00001</td>\n      <td>-0.00005</td>\n    </tr>\n  </tbody>\n</table>\n<p>5372 rows × 7 columns</p>\n</div>"
     },
     "execution_count": 29,
     "metadata": {},
     "output_type": "execute_result"
    }
   ],
   "source": [
    "data_1"
   ],
   "metadata": {
    "collapsed": false,
    "ExecuteTime": {
     "end_time": "2024-03-06T17:49:01.938354800Z",
     "start_time": "2024-03-06T17:49:01.808921400Z"
    }
   },
   "id": "4b258ba09335ea4",
   "execution_count": 29
  },
  {
   "cell_type": "code",
   "outputs": [
    {
     "name": "stdout",
     "output_type": "stream",
     "text": [
      "[ANSWER] Maximum Acceleration: 0.2808 g,At time 2.18 sec.\n",
      "[ANSWER] Maximum Velocity: 0.30939 m/sec,At time 4.42 sec.\n",
      "[ANSWER] Maximum Displacement: 0.08665 m,At time 5.14 sec.\n"
     ]
    }
   ],
   "source": [
    "def get_max(data):\n",
    "    data_ = data.loc[:, [\"Time [sec]\", \"Acceleration [g]\", \"SE_Velocity [m/sec]\", \"SE_Displacement [m]\"]]\n",
    "    data_.loc[:, \"abs_A\"] = abs(data_.loc[:, \"Acceleration [g]\"])\n",
    "    data_.loc[:, \"abs_V\"] = abs(data_.loc[:, \"SE_Velocity [m/sec]\"])\n",
    "    data_.loc[:, \"abs_D\"] = abs(data_.loc[:, \"SE_Displacement [m]\"])\n",
    "    print(\n",
    "        f\"[ANSWER] Maximum Acceleration: {data_[\"abs_A\"].max()} g,At time {data_.iloc[data_[\"abs_A\"].argmax(), 0]} sec.\")\n",
    "    print(\n",
    "        f\"[ANSWER] Maximum Velocity: {data_[\"abs_V\"].max()} m/sec,At time {data_.iloc[data_[\"abs_V\"].argmax(), 0]} sec.\")\n",
    "    print(\n",
    "        f\"[ANSWER] Maximum Displacement: {data_[\"abs_D\"].max()} m,At time {data_.iloc[data_[\"abs_D\"].argmax(), 0]} sec.\")\n",
    "\n",
    "\n",
    "get_max(data_1)"
   ],
   "metadata": {
    "collapsed": false,
    "ExecuteTime": {
     "end_time": "2024-03-06T17:54:22.491116500Z",
     "start_time": "2024-03-06T17:54:22.374729600Z"
    }
   },
   "id": "ddbc926869f64a90",
   "execution_count": 31
  },
  {
   "cell_type": "code",
   "outputs": [
    {
     "name": "stdout",
     "output_type": "stream",
     "text": [
      "[ANSWER] Maximum Acceleration: 0.12165 g,At time 8.66 sec.\n",
      "[ANSWER] Maximum Velocity: 0.06766 m/sec,At time 9.295 sec.\n",
      "[ANSWER] Maximum Displacement: 0.01325 m,At time 8.945 sec.\n"
     ]
    }
   ],
   "source": [
    "get_max(data_3)"
   ],
   "metadata": {
    "collapsed": false,
    "ExecuteTime": {
     "end_time": "2024-03-06T17:57:28.025158800Z",
     "start_time": "2024-03-06T17:57:27.928679Z"
    }
   },
   "id": "841ebc9951248f2",
   "execution_count": 32
  },
  {
   "cell_type": "code",
   "outputs": [
    {
     "name": "stdout",
     "output_type": "stream",
     "text": [
      "[ANSWER] Maximum Acceleration: 0.18029 g,At time 3.75 sec.\n",
      "[ANSWER] Maximum Velocity: 0.18627 m/sec,At time 3.6 sec.\n",
      "[ANSWER] Maximum Displacement: 0.09352 m,At time 48.88 sec.\n"
     ]
    }
   ],
   "source": [
    "get_max(data_8)"
   ],
   "metadata": {
    "collapsed": false,
    "ExecuteTime": {
     "end_time": "2024-03-06T17:59:03.189253200Z",
     "start_time": "2024-03-06T17:59:03.112706100Z"
    }
   },
   "id": "1fe6318c3f7491f7",
   "execution_count": 35
  },
  {
   "cell_type": "code",
   "outputs": [
    {
     "name": "stdout",
     "output_type": "stream",
     "text": [
      "[ANSWER] Maximum Acceleration: 0.23441 g,At time 2.53 sec.\n",
      "[ANSWER] Maximum Acceleration: 0.2177 g,At time 5.06 sec.\n",
      "[ANSWER] Maximum Acceleration: 0.06933 g,At time 6.785 sec.\n",
      "[ANSWER] Maximum Acceleration: -0.05519 g,At time 8.505 sec.\n",
      "[ANSWER] Maximum Acceleration: 0.13755 g,At time 6.67 sec.\n",
      "[ANSWER] Maximum Acceleration: -0.11941 g,At time 9.1 sec.\n"
     ]
    }
   ],
   "source": [
    "def get_SMA(data, n, detail=False):\n",
    "    data_ = data.loc[:, [\"Time [sec]\", \"Acceleration [g]\", \"SE_Velocity [m/sec]\", \"SE_Displacement [m]\"]]\n",
    "    data_.loc[:, \"abs_A\"] = abs(data_.loc[:, \"Acceleration [g]\"])\n",
    "    data_.loc[:, \"abs_V\"] = abs(data_.loc[:, \"SE_Velocity [m/sec]\"])\n",
    "    data_.loc[:, \"abs_D\"] = abs(data_.loc[:, \"SE_Displacement [m]\"])\n",
    "    a_abs_max_time_data = []\n",
    "    v_abs_max_time_data = []\n",
    "    d_abs_max_time_data = []\n",
    "\n",
    "    for i in range(1, len(data_) - 1):\n",
    "        a_d0 = data_.iloc[i - 1, 4]\n",
    "        a_d1 = data_.iloc[i, 4]\n",
    "        a_d2 = data_.iloc[i + 1, 4]\n",
    "\n",
    "        v_d0 = data_.iloc[i - 1, 5]\n",
    "        v_d1 = data_.iloc[i, 5]\n",
    "        v_d2 = data_.iloc[i + 1, 5]\n",
    "\n",
    "        d_d0 = data_.iloc[i - 1, 6]\n",
    "        d_d1 = data_.iloc[i, 6]\n",
    "        d_d2 = data_.iloc[i + 1, 6]\n",
    "        if a_d1 - a_d0 > 0 > a_d2 - a_d1:\n",
    "            a_abs_max_time_data.append([data_.iloc[i, 4], data_.iloc[i, 1], data_.iloc[i, 0]])\n",
    "\n",
    "        if v_d1 - v_d0 > 0 > v_d2 - v_d1:\n",
    "            v_abs_max_time_data.append([data_.iloc[i, 5], data_.iloc[i, 2], data_.iloc[i, 0]])\n",
    "\n",
    "        if d_d1 - d_d0 > 0 > d_d2 - d_d1:\n",
    "            d_abs_max_time_data.append([data_.iloc[i, 6], data_.iloc[i, 3], data_.iloc[i, 0]])\n",
    "\n",
    "    a_sorted_max = sorted(a_abs_max_time_data, key=lambda x: x[0], reverse=True)\n",
    "    v_sorted_max = sorted(v_abs_max_time_data, key=lambda x: x[0], reverse=True)\n",
    "    d_sorted_max = sorted(d_abs_max_time_data, key=lambda x: x[0], reverse=True)\n",
    "\n",
    "    print(\n",
    "        f\"[ANSWER] Maximum Acceleration: {a_sorted_max[n - 1][1]} g,At time {a_sorted_max[n - 1][2]} sec.\")\n",
    "    if detail:\n",
    "        print(\n",
    "            f\"[ANSWER] Maximum Velocity: {v_sorted_max[n - 1][1]} m/sec,At time {v_sorted_max[n - 1][2]} sec.\")\n",
    "        print(\n",
    "            f\"[ANSWER] Maximum Displacement: {d_sorted_max[n - 1][1]} m,At time {d_sorted_max[n - 1][2]} sec.\")\n",
    "\n",
    "\n",
    "get_SMA(data_1, 3)\n",
    "get_SMA(data_1, 5)\n",
    "\n",
    "get_SMA(data_3, 3)\n",
    "get_SMA(data_3, 5)\n",
    "\n",
    "get_SMA(data_8, 3)\n",
    "get_SMA(data_8, 5)"
   ],
   "metadata": {
    "collapsed": false,
    "ExecuteTime": {
     "end_time": "2024-03-06T19:29:04.989502Z",
     "start_time": "2024-03-06T19:28:58.878712300Z"
    }
   },
   "id": "9aa46573154b65f9",
   "execution_count": 59
  },
  {
   "cell_type": "code",
   "outputs": [
    {
     "name": "stdout",
     "output_type": "stream",
     "text": [
      "[ANSWER] Maximum Acceleration: -0.2808 g,At time 2.18 sec.\n",
      "[ANSWER] Maximum Velocity: -0.30939 m/sec,At time 4.42 sec.\n",
      "[ANSWER] Maximum Displacement: -0.08665 m,At time 5.14 sec.\n",
      "[ANSWER] Maximum Acceleration: 0.12165 g,At time 8.66 sec.\n",
      "[ANSWER] Maximum Velocity: -0.06766 m/sec,At time 9.295 sec.\n",
      "[ANSWER] Maximum Displacement: 0.00691 m,At time 8.5 sec.\n",
      "[ANSWER] Maximum Acceleration: -0.18029 g,At time 3.75 sec.\n",
      "[ANSWER] Maximum Velocity: 0.18627 m/sec,At time 3.6 sec.\n",
      "[ANSWER] Maximum Displacement: 0.09016 m,At time 7.7 sec.\n"
     ]
    }
   ],
   "source": [
    "get_SMA(data_1, 1, detail=True)\n",
    "get_SMA(data_3, 1, detail=True)\n",
    "get_SMA(data_8, 1, detail=True)"
   ],
   "metadata": {
    "collapsed": false,
    "ExecuteTime": {
     "end_time": "2024-03-06T19:29:07.834875100Z",
     "start_time": "2024-03-06T19:29:04.987317800Z"
    }
   },
   "id": "98264df92232bdfe",
   "execution_count": 60
  },
  {
   "cell_type": "code",
   "outputs": [
    {
     "data": {
      "text/plain": "      Time [sec]  Acceleration [g]  MY_Velocity [m/sec]  MY_Displacement [m]  \\\n0           0.00           0.00100             0.000098             0.000001   \n1           0.01           0.00100             0.000196             0.000004   \n2           0.02           0.00100             0.000294             0.000007   \n3           0.03           0.00100             0.000392             0.000012   \n4           0.04           0.00100             0.000491             0.000017   \n...          ...               ...                  ...                  ...   \n5367       53.67          -0.00018             0.000020            -0.001211   \n5368       53.68          -0.00018             0.000002            -0.001211   \n5369       53.69          -0.00018            -0.000016            -0.001211   \n5370       53.70          -0.00018            -0.000033            -0.001212   \n5371       53.71          -0.00018            -0.000010            -0.000050   \n\n      Unnamed: 4  SE_Velocity [m/sec]  SE_Displacement [m]  \n0            NaN              0.00000              0.00000  \n1            NaN              0.00010              0.00000  \n2            NaN              0.00020              0.00000  \n3            NaN              0.00029              0.00000  \n4            NaN              0.00039              0.00001  \n...          ...                  ...                  ...  \n5367         NaN              0.00006             -0.00005  \n5368         NaN              0.00004             -0.00005  \n5369         NaN              0.00003             -0.00005  \n5370         NaN              0.00001             -0.00005  \n5371         NaN             -0.00001             -0.00005  \n\n[5372 rows x 7 columns]",
      "text/html": "<div>\n<style scoped>\n    .dataframe tbody tr th:only-of-type {\n        vertical-align: middle;\n    }\n\n    .dataframe tbody tr th {\n        vertical-align: top;\n    }\n\n    .dataframe thead th {\n        text-align: right;\n    }\n</style>\n<table border=\"1\" class=\"dataframe\">\n  <thead>\n    <tr style=\"text-align: right;\">\n      <th></th>\n      <th>Time [sec]</th>\n      <th>Acceleration [g]</th>\n      <th>MY_Velocity [m/sec]</th>\n      <th>MY_Displacement [m]</th>\n      <th>Unnamed: 4</th>\n      <th>SE_Velocity [m/sec]</th>\n      <th>SE_Displacement [m]</th>\n    </tr>\n  </thead>\n  <tbody>\n    <tr>\n      <th>0</th>\n      <td>0.00</td>\n      <td>0.00100</td>\n      <td>0.000098</td>\n      <td>0.000001</td>\n      <td>NaN</td>\n      <td>0.00000</td>\n      <td>0.00000</td>\n    </tr>\n    <tr>\n      <th>1</th>\n      <td>0.01</td>\n      <td>0.00100</td>\n      <td>0.000196</td>\n      <td>0.000004</td>\n      <td>NaN</td>\n      <td>0.00010</td>\n      <td>0.00000</td>\n    </tr>\n    <tr>\n      <th>2</th>\n      <td>0.02</td>\n      <td>0.00100</td>\n      <td>0.000294</td>\n      <td>0.000007</td>\n      <td>NaN</td>\n      <td>0.00020</td>\n      <td>0.00000</td>\n    </tr>\n    <tr>\n      <th>3</th>\n      <td>0.03</td>\n      <td>0.00100</td>\n      <td>0.000392</td>\n      <td>0.000012</td>\n      <td>NaN</td>\n      <td>0.00029</td>\n      <td>0.00000</td>\n    </tr>\n    <tr>\n      <th>4</th>\n      <td>0.04</td>\n      <td>0.00100</td>\n      <td>0.000491</td>\n      <td>0.000017</td>\n      <td>NaN</td>\n      <td>0.00039</td>\n      <td>0.00001</td>\n    </tr>\n    <tr>\n      <th>...</th>\n      <td>...</td>\n      <td>...</td>\n      <td>...</td>\n      <td>...</td>\n      <td>...</td>\n      <td>...</td>\n      <td>...</td>\n    </tr>\n    <tr>\n      <th>5367</th>\n      <td>53.67</td>\n      <td>-0.00018</td>\n      <td>0.000020</td>\n      <td>-0.001211</td>\n      <td>NaN</td>\n      <td>0.00006</td>\n      <td>-0.00005</td>\n    </tr>\n    <tr>\n      <th>5368</th>\n      <td>53.68</td>\n      <td>-0.00018</td>\n      <td>0.000002</td>\n      <td>-0.001211</td>\n      <td>NaN</td>\n      <td>0.00004</td>\n      <td>-0.00005</td>\n    </tr>\n    <tr>\n      <th>5369</th>\n      <td>53.69</td>\n      <td>-0.00018</td>\n      <td>-0.000016</td>\n      <td>-0.001211</td>\n      <td>NaN</td>\n      <td>0.00003</td>\n      <td>-0.00005</td>\n    </tr>\n    <tr>\n      <th>5370</th>\n      <td>53.70</td>\n      <td>-0.00018</td>\n      <td>-0.000033</td>\n      <td>-0.001212</td>\n      <td>NaN</td>\n      <td>0.00001</td>\n      <td>-0.00005</td>\n    </tr>\n    <tr>\n      <th>5371</th>\n      <td>53.71</td>\n      <td>-0.00018</td>\n      <td>-0.000010</td>\n      <td>-0.000050</td>\n      <td>NaN</td>\n      <td>-0.00001</td>\n      <td>-0.00005</td>\n    </tr>\n  </tbody>\n</table>\n<p>5372 rows × 7 columns</p>\n</div>"
     },
     "execution_count": 16,
     "metadata": {},
     "output_type": "execute_result"
    }
   ],
   "source": [
    "data_1"
   ],
   "metadata": {
    "collapsed": false,
    "ExecuteTime": {
     "end_time": "2024-03-07T14:16:15.605232700Z",
     "start_time": "2024-03-07T14:16:15.537689700Z"
    }
   },
   "id": "17cf98d47ed55265",
   "execution_count": 16
  },
  {
   "cell_type": "code",
   "outputs": [
    {
     "name": "stdout",
     "output_type": "stream",
     "text": [
      "duration of the earthquake is 28.770000000000003\n",
      "duration of the earthquake is 2.6750000000000007\n",
      "duration of the earthquake is 15.58\n"
     ]
    }
   ],
   "source": [
    "def bracket_duration(data):\n",
    "    treshold = 0.05\n",
    "    data_ = data.loc[:, [\"Time [sec]\", \"Acceleration [g]\"]]\n",
    "    data_.loc[:, \"abs_A\"] = abs(data_.loc[:, \"Acceleration [g]\"])\n",
    "    for i in range(len(data_)):\n",
    "        if data_.iloc[i, 2] > treshold:\n",
    "            start_time = data_.iloc[i, 0]\n",
    "            break\n",
    "    for i in range(len(data_) - 1, -1, -1):\n",
    "        if data_.iloc[i, 2] > treshold:\n",
    "            end_time = data_.iloc[i, 0]\n",
    "            break\n",
    "    print(f\"duration of the earthquake is {end_time - start_time}\")\n",
    "\n",
    "\n",
    "bracket_duration(data_1)\n",
    "bracket_duration(data_3)\n",
    "bracket_duration(data_8)\n",
    "\n"
   ],
   "metadata": {
    "collapsed": false,
    "ExecuteTime": {
     "end_time": "2024-03-07T14:16:08.273250400Z",
     "start_time": "2024-03-07T14:16:07.849886800Z"
    }
   },
   "id": "fdea0006013496ea",
   "execution_count": 15
  },
  {
   "cell_type": "code",
   "outputs": [],
   "source": [
    "data = pd.read_excel(\"F:/University/8th Semester/earthquake/HW1/earthquacks.xlsx\", sheet_name=\"12\")"
   ],
   "metadata": {
    "collapsed": false,
    "ExecuteTime": {
     "end_time": "2024-03-07T13:45:15.856322400Z",
     "start_time": "2024-03-07T13:45:13.895439700Z"
    }
   },
   "id": "1121d697344500de",
   "execution_count": 4
  },
  {
   "cell_type": "code",
   "outputs": [
    {
     "data": {
      "text/plain": "      Time [sec]  Acceleration [g]        a2  Arias Intensity  \\\n0           0.00             0.001  0.000001     1.600408e-09   \n1           0.01             0.001  0.000001     3.200815e-09   \n2           0.02             0.001  0.000001     4.801223e-09   \n3           0.03             0.001  0.000001     6.401631e-09   \n4           0.04             0.001  0.000001     8.002039e-09   \n...          ...               ...       ...              ...   \n5432         NaN               NaN       NaN              NaN   \n5433         NaN               NaN       NaN              NaN   \n5434         NaN               NaN       NaN              NaN   \n5435         NaN               NaN       NaN              NaN   \n5436         NaN               NaN       NaN              NaN   \n\n      percent Arias Intensity  Time [sec].1  Acceleration [g].1          a2.1  \\\n0                9.902068e-08         0.000            -0.00001  1.000000e-10   \n1                1.980414e-07         0.005            -0.00001  1.000000e-10   \n2                2.970620e-07         0.010            -0.00001  1.000000e-10   \n3                3.960827e-07         0.015            -0.00001  1.000000e-10   \n4                4.951034e-07         0.020            -0.00001  1.000000e-10   \n...                       ...           ...                 ...           ...   \n5432                      NaN           NaN                 NaN           NaN   \n5433                      NaN           NaN                 NaN           NaN   \n5434                      NaN           NaN                 NaN           NaN   \n5435                      NaN           NaN                 NaN           NaN   \n5436                      NaN           NaN                 NaN           NaN   \n\n      Arias Intensity.1  percent Arias Intensity.1  Time [sec].2  \\\n0          8.002039e-14               7.640008e-11          0.00   \n1          1.600408e-13               1.528002e-10          0.01   \n2          2.400612e-13               2.292002e-10          0.02   \n3          3.200815e-13               3.056003e-10          0.03   \n4          4.001019e-13               3.820004e-10          0.04   \n...                 ...                        ...           ...   \n5432                NaN                        NaN         54.32   \n5433                NaN                        NaN         54.33   \n5434                NaN                        NaN         54.34   \n5435                NaN                        NaN         54.35   \n5436                NaN                        NaN         54.36   \n\n      Acceleration [g].2          a2.2  Arias Intensity.2  \\\n0               -0.00056  3.136000e-07       5.018879e-10   \n1               -0.00056  3.136000e-07       1.003776e-09   \n2               -0.00056  3.136000e-07       1.505664e-09   \n3               -0.00056  3.136000e-07       2.007551e-09   \n4               -0.00056  3.136000e-07       2.509439e-09   \n...                  ...           ...                ...   \n5432             0.00076  5.776000e-07       6.217990e-03   \n5433             0.00077  5.929000e-07       6.217991e-03   \n5434             0.00077  5.929000e-07       6.217992e-03   \n5435             0.00077  5.929000e-07       6.217993e-03   \n5436             0.00077  5.929000e-07       6.217994e-03   \n\n      percent Arias Intensity.2  \n0                  8.071540e-08  \n1                  1.614308e-07  \n2                  2.421462e-07  \n3                  3.228616e-07  \n4                  4.035770e-07  \n...                         ...  \n5432               9.999994e-01  \n5433               9.999995e-01  \n5434               9.999997e-01  \n5435               9.999998e-01  \n5436               1.000000e+00  \n\n[5437 rows x 15 columns]",
      "text/html": "<div>\n<style scoped>\n    .dataframe tbody tr th:only-of-type {\n        vertical-align: middle;\n    }\n\n    .dataframe tbody tr th {\n        vertical-align: top;\n    }\n\n    .dataframe thead th {\n        text-align: right;\n    }\n</style>\n<table border=\"1\" class=\"dataframe\">\n  <thead>\n    <tr style=\"text-align: right;\">\n      <th></th>\n      <th>Time [sec]</th>\n      <th>Acceleration [g]</th>\n      <th>a2</th>\n      <th>Arias Intensity</th>\n      <th>percent Arias Intensity</th>\n      <th>Time [sec].1</th>\n      <th>Acceleration [g].1</th>\n      <th>a2.1</th>\n      <th>Arias Intensity.1</th>\n      <th>percent Arias Intensity.1</th>\n      <th>Time [sec].2</th>\n      <th>Acceleration [g].2</th>\n      <th>a2.2</th>\n      <th>Arias Intensity.2</th>\n      <th>percent Arias Intensity.2</th>\n    </tr>\n  </thead>\n  <tbody>\n    <tr>\n      <th>0</th>\n      <td>0.00</td>\n      <td>0.001</td>\n      <td>0.000001</td>\n      <td>1.600408e-09</td>\n      <td>9.902068e-08</td>\n      <td>0.000</td>\n      <td>-0.00001</td>\n      <td>1.000000e-10</td>\n      <td>8.002039e-14</td>\n      <td>7.640008e-11</td>\n      <td>0.00</td>\n      <td>-0.00056</td>\n      <td>3.136000e-07</td>\n      <td>5.018879e-10</td>\n      <td>8.071540e-08</td>\n    </tr>\n    <tr>\n      <th>1</th>\n      <td>0.01</td>\n      <td>0.001</td>\n      <td>0.000001</td>\n      <td>3.200815e-09</td>\n      <td>1.980414e-07</td>\n      <td>0.005</td>\n      <td>-0.00001</td>\n      <td>1.000000e-10</td>\n      <td>1.600408e-13</td>\n      <td>1.528002e-10</td>\n      <td>0.01</td>\n      <td>-0.00056</td>\n      <td>3.136000e-07</td>\n      <td>1.003776e-09</td>\n      <td>1.614308e-07</td>\n    </tr>\n    <tr>\n      <th>2</th>\n      <td>0.02</td>\n      <td>0.001</td>\n      <td>0.000001</td>\n      <td>4.801223e-09</td>\n      <td>2.970620e-07</td>\n      <td>0.010</td>\n      <td>-0.00001</td>\n      <td>1.000000e-10</td>\n      <td>2.400612e-13</td>\n      <td>2.292002e-10</td>\n      <td>0.02</td>\n      <td>-0.00056</td>\n      <td>3.136000e-07</td>\n      <td>1.505664e-09</td>\n      <td>2.421462e-07</td>\n    </tr>\n    <tr>\n      <th>3</th>\n      <td>0.03</td>\n      <td>0.001</td>\n      <td>0.000001</td>\n      <td>6.401631e-09</td>\n      <td>3.960827e-07</td>\n      <td>0.015</td>\n      <td>-0.00001</td>\n      <td>1.000000e-10</td>\n      <td>3.200815e-13</td>\n      <td>3.056003e-10</td>\n      <td>0.03</td>\n      <td>-0.00056</td>\n      <td>3.136000e-07</td>\n      <td>2.007551e-09</td>\n      <td>3.228616e-07</td>\n    </tr>\n    <tr>\n      <th>4</th>\n      <td>0.04</td>\n      <td>0.001</td>\n      <td>0.000001</td>\n      <td>8.002039e-09</td>\n      <td>4.951034e-07</td>\n      <td>0.020</td>\n      <td>-0.00001</td>\n      <td>1.000000e-10</td>\n      <td>4.001019e-13</td>\n      <td>3.820004e-10</td>\n      <td>0.04</td>\n      <td>-0.00056</td>\n      <td>3.136000e-07</td>\n      <td>2.509439e-09</td>\n      <td>4.035770e-07</td>\n    </tr>\n    <tr>\n      <th>...</th>\n      <td>...</td>\n      <td>...</td>\n      <td>...</td>\n      <td>...</td>\n      <td>...</td>\n      <td>...</td>\n      <td>...</td>\n      <td>...</td>\n      <td>...</td>\n      <td>...</td>\n      <td>...</td>\n      <td>...</td>\n      <td>...</td>\n      <td>...</td>\n      <td>...</td>\n    </tr>\n    <tr>\n      <th>5432</th>\n      <td>NaN</td>\n      <td>NaN</td>\n      <td>NaN</td>\n      <td>NaN</td>\n      <td>NaN</td>\n      <td>NaN</td>\n      <td>NaN</td>\n      <td>NaN</td>\n      <td>NaN</td>\n      <td>NaN</td>\n      <td>54.32</td>\n      <td>0.00076</td>\n      <td>5.776000e-07</td>\n      <td>6.217990e-03</td>\n      <td>9.999994e-01</td>\n    </tr>\n    <tr>\n      <th>5433</th>\n      <td>NaN</td>\n      <td>NaN</td>\n      <td>NaN</td>\n      <td>NaN</td>\n      <td>NaN</td>\n      <td>NaN</td>\n      <td>NaN</td>\n      <td>NaN</td>\n      <td>NaN</td>\n      <td>NaN</td>\n      <td>54.33</td>\n      <td>0.00077</td>\n      <td>5.929000e-07</td>\n      <td>6.217991e-03</td>\n      <td>9.999995e-01</td>\n    </tr>\n    <tr>\n      <th>5434</th>\n      <td>NaN</td>\n      <td>NaN</td>\n      <td>NaN</td>\n      <td>NaN</td>\n      <td>NaN</td>\n      <td>NaN</td>\n      <td>NaN</td>\n      <td>NaN</td>\n      <td>NaN</td>\n      <td>NaN</td>\n      <td>54.34</td>\n      <td>0.00077</td>\n      <td>5.929000e-07</td>\n      <td>6.217992e-03</td>\n      <td>9.999997e-01</td>\n    </tr>\n    <tr>\n      <th>5435</th>\n      <td>NaN</td>\n      <td>NaN</td>\n      <td>NaN</td>\n      <td>NaN</td>\n      <td>NaN</td>\n      <td>NaN</td>\n      <td>NaN</td>\n      <td>NaN</td>\n      <td>NaN</td>\n      <td>NaN</td>\n      <td>54.35</td>\n      <td>0.00077</td>\n      <td>5.929000e-07</td>\n      <td>6.217993e-03</td>\n      <td>9.999998e-01</td>\n    </tr>\n    <tr>\n      <th>5436</th>\n      <td>NaN</td>\n      <td>NaN</td>\n      <td>NaN</td>\n      <td>NaN</td>\n      <td>NaN</td>\n      <td>NaN</td>\n      <td>NaN</td>\n      <td>NaN</td>\n      <td>NaN</td>\n      <td>NaN</td>\n      <td>54.36</td>\n      <td>0.00077</td>\n      <td>5.929000e-07</td>\n      <td>6.217994e-03</td>\n      <td>1.000000e+00</td>\n    </tr>\n  </tbody>\n</table>\n<p>5437 rows × 15 columns</p>\n</div>"
     },
     "execution_count": 5,
     "metadata": {},
     "output_type": "execute_result"
    }
   ],
   "source": [
    "data"
   ],
   "metadata": {
    "collapsed": false,
    "ExecuteTime": {
     "end_time": "2024-03-07T13:45:18.144865200Z",
     "start_time": "2024-03-07T13:45:18.034914Z"
    }
   },
   "id": "eb551bbb2cbd5aa1",
   "execution_count": 5
  },
  {
   "cell_type": "code",
   "outputs": [
    {
     "name": "stdout",
     "output_type": "stream",
     "text": [
      "53.71 2.13\n",
      "duration of the earthquake is 51.58\n",
      "26.855 6.56\n",
      "duration of the earthquake is 20.295\n",
      "54.36 3.72\n",
      "duration of the earthquake is 50.64\n"
     ]
    }
   ],
   "source": [
    "def significant_duration(data, name1, name2):\n",
    "    treshold = 0.05\n",
    "    data_ = data.loc[:, [f\"{name1}\", f\"{name2}\"]]\n",
    "    for i in range(len(data_)):\n",
    "        if data_.iloc[i, 1] > treshold:\n",
    "            start_time = data_.iloc[i, 0]\n",
    "            break\n",
    "    for i in range(len(data_) - 1, -1, -1):\n",
    "        if data_.iloc[i, 1] > treshold:\n",
    "            end_time = data_.iloc[i, 0]\n",
    "            break\n",
    "    print(end_time, start_time)\n",
    "    print(f\"duration of the earthquake is {end_time - start_time}\")\n",
    "\n",
    "significant_duration(data,\"Time [sec]\", \"percent Arias Intensity\")\n",
    "significant_duration(data,\"Time [sec].1\", \"percent Arias Intensity.1\")\n",
    "significant_duration(data,\"Time [sec].2\", \"percent Arias Intensity.2\")"
   ],
   "metadata": {
    "collapsed": false,
    "ExecuteTime": {
     "end_time": "2024-03-07T13:50:42.551630600Z",
     "start_time": "2024-03-07T13:50:42.441532100Z"
    }
   },
   "id": "d8cef2f7b2ee5d50",
   "execution_count": 8
  },
  {
   "cell_type": "code",
   "outputs": [],
   "source": [
    "data = pd.read_excel(\"F:/University/8th Semester/earthquake/HW1/earthquacks.xlsx\", sheet_name=\"12.1\")"
   ],
   "metadata": {
    "collapsed": false,
    "ExecuteTime": {
     "end_time": "2024-03-07T14:01:07.188007300Z",
     "start_time": "2024-03-07T14:01:06.311267600Z"
    }
   },
   "id": "101cdc93258b73a6",
   "execution_count": 9
  },
  {
   "cell_type": "code",
   "outputs": [
    {
     "data": {
      "text/plain": "      Time  Acceleration  Arias Intensity  Arias Intensity[%]  Energy Flux  \\\n0     0.00         0.001              0.0             0.00000          0.0   \n1     0.01         0.001              0.0             0.00001          0.0   \n2     0.02         0.001              0.0             0.00002          0.0   \n3     0.03         0.001              0.0             0.00003          0.0   \n4     0.04         0.001              0.0             0.00004          0.0   \n...    ...           ...              ...                 ...          ...   \n7995   NaN           NaN              NaN                 NaN          NaN   \n7996   NaN           NaN              NaN                 NaN          NaN   \n7997   NaN           NaN              NaN                 NaN          NaN   \n7998   NaN           NaN              NaN                 NaN          NaN   \n7999   NaN           NaN              NaN                 NaN          NaN   \n\n      Unnamed: 5  Time.1  Acceleration.1  Arias Intensity.1  \\\n0            NaN   0.000        -0.00001            0.00000   \n1            NaN   0.005        -0.00001            0.00000   \n2            NaN   0.010        -0.00001            0.00000   \n3            NaN   0.015        -0.00001            0.00000   \n4            NaN   0.020        -0.00001            0.00000   \n...          ...     ...             ...                ...   \n7995         NaN  39.975        -0.00003            0.10333   \n7996         NaN  39.980        -0.00003            0.10333   \n7997         NaN  39.985        -0.00003            0.10333   \n7998         NaN  39.990        -0.00003            0.10333   \n7999         NaN  39.995        -0.00003            0.10333   \n\n      Arias Intensity[%].1  Energy Flux.1  Unnamed: 11  Time.2  \\\n0                      0.0        0.00000          NaN    0.00   \n1                      0.0        0.00000          NaN    0.01   \n2                      0.0        0.00000          NaN    0.02   \n3                      0.0        0.00000          NaN    0.03   \n4                      0.0        0.00000          NaN    0.04   \n...                    ...            ...          ...     ...   \n7995                 100.0        0.00578          NaN     NaN   \n7996                 100.0        0.00578          NaN     NaN   \n7997                 100.0        0.00578          NaN     NaN   \n7998                 100.0        0.00578          NaN     NaN   \n7999                 100.0        0.00578          NaN     NaN   \n\n      Acceleration.2  Arias Intensity.2  Arias Intensity[%].2  Energy Flux.2  \n0           -0.00056                0.0               0.00000            0.0  \n1           -0.00056                0.0               0.00001            0.0  \n2           -0.00056                0.0               0.00002            0.0  \n3           -0.00056                0.0               0.00002            0.0  \n4           -0.00056                0.0               0.00003            0.0  \n...              ...                ...                   ...            ...  \n7995             NaN                NaN                   NaN            NaN  \n7996             NaN                NaN                   NaN            NaN  \n7997             NaN                NaN                   NaN            NaN  \n7998             NaN                NaN                   NaN            NaN  \n7999             NaN                NaN                   NaN            NaN  \n\n[8000 rows x 17 columns]",
      "text/html": "<div>\n<style scoped>\n    .dataframe tbody tr th:only-of-type {\n        vertical-align: middle;\n    }\n\n    .dataframe tbody tr th {\n        vertical-align: top;\n    }\n\n    .dataframe thead th {\n        text-align: right;\n    }\n</style>\n<table border=\"1\" class=\"dataframe\">\n  <thead>\n    <tr style=\"text-align: right;\">\n      <th></th>\n      <th>Time</th>\n      <th>Acceleration</th>\n      <th>Arias Intensity</th>\n      <th>Arias Intensity[%]</th>\n      <th>Energy Flux</th>\n      <th>Unnamed: 5</th>\n      <th>Time.1</th>\n      <th>Acceleration.1</th>\n      <th>Arias Intensity.1</th>\n      <th>Arias Intensity[%].1</th>\n      <th>Energy Flux.1</th>\n      <th>Unnamed: 11</th>\n      <th>Time.2</th>\n      <th>Acceleration.2</th>\n      <th>Arias Intensity.2</th>\n      <th>Arias Intensity[%].2</th>\n      <th>Energy Flux.2</th>\n    </tr>\n  </thead>\n  <tbody>\n    <tr>\n      <th>0</th>\n      <td>0.00</td>\n      <td>0.001</td>\n      <td>0.0</td>\n      <td>0.00000</td>\n      <td>0.0</td>\n      <td>NaN</td>\n      <td>0.000</td>\n      <td>-0.00001</td>\n      <td>0.00000</td>\n      <td>0.0</td>\n      <td>0.00000</td>\n      <td>NaN</td>\n      <td>0.00</td>\n      <td>-0.00056</td>\n      <td>0.0</td>\n      <td>0.00000</td>\n      <td>0.0</td>\n    </tr>\n    <tr>\n      <th>1</th>\n      <td>0.01</td>\n      <td>0.001</td>\n      <td>0.0</td>\n      <td>0.00001</td>\n      <td>0.0</td>\n      <td>NaN</td>\n      <td>0.005</td>\n      <td>-0.00001</td>\n      <td>0.00000</td>\n      <td>0.0</td>\n      <td>0.00000</td>\n      <td>NaN</td>\n      <td>0.01</td>\n      <td>-0.00056</td>\n      <td>0.0</td>\n      <td>0.00001</td>\n      <td>0.0</td>\n    </tr>\n    <tr>\n      <th>2</th>\n      <td>0.02</td>\n      <td>0.001</td>\n      <td>0.0</td>\n      <td>0.00002</td>\n      <td>0.0</td>\n      <td>NaN</td>\n      <td>0.010</td>\n      <td>-0.00001</td>\n      <td>0.00000</td>\n      <td>0.0</td>\n      <td>0.00000</td>\n      <td>NaN</td>\n      <td>0.02</td>\n      <td>-0.00056</td>\n      <td>0.0</td>\n      <td>0.00002</td>\n      <td>0.0</td>\n    </tr>\n    <tr>\n      <th>3</th>\n      <td>0.03</td>\n      <td>0.001</td>\n      <td>0.0</td>\n      <td>0.00003</td>\n      <td>0.0</td>\n      <td>NaN</td>\n      <td>0.015</td>\n      <td>-0.00001</td>\n      <td>0.00000</td>\n      <td>0.0</td>\n      <td>0.00000</td>\n      <td>NaN</td>\n      <td>0.03</td>\n      <td>-0.00056</td>\n      <td>0.0</td>\n      <td>0.00002</td>\n      <td>0.0</td>\n    </tr>\n    <tr>\n      <th>4</th>\n      <td>0.04</td>\n      <td>0.001</td>\n      <td>0.0</td>\n      <td>0.00004</td>\n      <td>0.0</td>\n      <td>NaN</td>\n      <td>0.020</td>\n      <td>-0.00001</td>\n      <td>0.00000</td>\n      <td>0.0</td>\n      <td>0.00000</td>\n      <td>NaN</td>\n      <td>0.04</td>\n      <td>-0.00056</td>\n      <td>0.0</td>\n      <td>0.00003</td>\n      <td>0.0</td>\n    </tr>\n    <tr>\n      <th>...</th>\n      <td>...</td>\n      <td>...</td>\n      <td>...</td>\n      <td>...</td>\n      <td>...</td>\n      <td>...</td>\n      <td>...</td>\n      <td>...</td>\n      <td>...</td>\n      <td>...</td>\n      <td>...</td>\n      <td>...</td>\n      <td>...</td>\n      <td>...</td>\n      <td>...</td>\n      <td>...</td>\n      <td>...</td>\n    </tr>\n    <tr>\n      <th>7995</th>\n      <td>NaN</td>\n      <td>NaN</td>\n      <td>NaN</td>\n      <td>NaN</td>\n      <td>NaN</td>\n      <td>NaN</td>\n      <td>39.975</td>\n      <td>-0.00003</td>\n      <td>0.10333</td>\n      <td>100.0</td>\n      <td>0.00578</td>\n      <td>NaN</td>\n      <td>NaN</td>\n      <td>NaN</td>\n      <td>NaN</td>\n      <td>NaN</td>\n      <td>NaN</td>\n    </tr>\n    <tr>\n      <th>7996</th>\n      <td>NaN</td>\n      <td>NaN</td>\n      <td>NaN</td>\n      <td>NaN</td>\n      <td>NaN</td>\n      <td>NaN</td>\n      <td>39.980</td>\n      <td>-0.00003</td>\n      <td>0.10333</td>\n      <td>100.0</td>\n      <td>0.00578</td>\n      <td>NaN</td>\n      <td>NaN</td>\n      <td>NaN</td>\n      <td>NaN</td>\n      <td>NaN</td>\n      <td>NaN</td>\n    </tr>\n    <tr>\n      <th>7997</th>\n      <td>NaN</td>\n      <td>NaN</td>\n      <td>NaN</td>\n      <td>NaN</td>\n      <td>NaN</td>\n      <td>NaN</td>\n      <td>39.985</td>\n      <td>-0.00003</td>\n      <td>0.10333</td>\n      <td>100.0</td>\n      <td>0.00578</td>\n      <td>NaN</td>\n      <td>NaN</td>\n      <td>NaN</td>\n      <td>NaN</td>\n      <td>NaN</td>\n      <td>NaN</td>\n    </tr>\n    <tr>\n      <th>7998</th>\n      <td>NaN</td>\n      <td>NaN</td>\n      <td>NaN</td>\n      <td>NaN</td>\n      <td>NaN</td>\n      <td>NaN</td>\n      <td>39.990</td>\n      <td>-0.00003</td>\n      <td>0.10333</td>\n      <td>100.0</td>\n      <td>0.00578</td>\n      <td>NaN</td>\n      <td>NaN</td>\n      <td>NaN</td>\n      <td>NaN</td>\n      <td>NaN</td>\n      <td>NaN</td>\n    </tr>\n    <tr>\n      <th>7999</th>\n      <td>NaN</td>\n      <td>NaN</td>\n      <td>NaN</td>\n      <td>NaN</td>\n      <td>NaN</td>\n      <td>NaN</td>\n      <td>39.995</td>\n      <td>-0.00003</td>\n      <td>0.10333</td>\n      <td>100.0</td>\n      <td>0.00578</td>\n      <td>NaN</td>\n      <td>NaN</td>\n      <td>NaN</td>\n      <td>NaN</td>\n      <td>NaN</td>\n      <td>NaN</td>\n    </tr>\n  </tbody>\n</table>\n<p>8000 rows × 17 columns</p>\n</div>"
     },
     "execution_count": 10,
     "metadata": {},
     "output_type": "execute_result"
    }
   ],
   "source": [
    "data"
   ],
   "metadata": {
    "collapsed": false,
    "ExecuteTime": {
     "end_time": "2024-03-07T14:01:19.655608100Z",
     "start_time": "2024-03-07T14:01:19.533148500Z"
    }
   },
   "id": "6453b76af6ca3bf5",
   "execution_count": 10
  },
  {
   "cell_type": "code",
   "outputs": [
    {
     "name": "stdout",
     "output_type": "stream",
     "text": [
      "53.71 1.44\n",
      "duration of the earthquake is 52.27\n",
      "39.995 1.365\n",
      "duration of the earthquake is 38.629999999999995\n",
      "54.36 1.94\n",
      "duration of the earthquake is 52.42\n"
     ]
    }
   ],
   "source": [
    "significant_duration(data,\"Time\", \"Arias Intensity[%]\")\n",
    "significant_duration(data,\"Time.1\", \"Arias Intensity[%].1\")\n",
    "significant_duration(data,\"Time.2\", \"Arias Intensity[%].2\")"
   ],
   "metadata": {
    "collapsed": false,
    "ExecuteTime": {
     "end_time": "2024-03-07T14:01:53.396807900Z",
     "start_time": "2024-03-07T14:01:53.163870700Z"
    }
   },
   "id": "e9e717042c1ade16",
   "execution_count": 11
  },
  {
   "cell_type": "code",
   "outputs": [],
   "source": [],
   "metadata": {
    "collapsed": false
   },
   "id": "d07485ac574c3264"
  }
 ],
 "metadata": {
  "kernelspec": {
   "display_name": "Python 3",
   "language": "python",
   "name": "python3"
  },
  "language_info": {
   "codemirror_mode": {
    "name": "ipython",
    "version": 2
   },
   "file_extension": ".py",
   "mimetype": "text/x-python",
   "name": "python",
   "nbconvert_exporter": "python",
   "pygments_lexer": "ipython2",
   "version": "2.7.6"
  }
 },
 "nbformat": 4,
 "nbformat_minor": 5
}
