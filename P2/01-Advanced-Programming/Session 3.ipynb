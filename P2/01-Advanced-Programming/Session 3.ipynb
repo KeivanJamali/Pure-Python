{
 "cells": [
  {
   "cell_type": "code",
   "execution_count": 10,
   "metadata": {
    "ExecuteTime": {
     "end_time": "2023-10-11T07:22:08.825901900Z",
     "start_time": "2023-10-11T07:22:08.783404700Z"
    }
   },
   "outputs": [],
   "source": [
    "from abc import ABC\n",
    "from abc import abstractmethod\n",
    "\n"
   ]
  },
  {
   "cell_type": "code",
   "execution_count": 11,
   "metadata": {
    "ExecuteTime": {
     "end_time": "2023-10-11T07:22:08.825901900Z",
     "start_time": "2023-10-11T07:22:08.783920400Z"
    }
   },
   "outputs": [],
   "source": [
    "class A(ABC):\n",
    "    @abstractmethod\n",
    "    def b():\n",
    "        pass"
   ]
  },
  {
   "cell_type": "code",
   "execution_count": 12,
   "metadata": {
    "ExecuteTime": {
     "end_time": "2023-10-11T07:22:08.825901900Z",
     "start_time": "2023-10-11T07:22:08.790493600Z"
    }
   },
   "outputs": [],
   "source": [
    "class D(A):\n",
    "    pass\n",
    "\n",
    "ot = D"
   ]
  },
  {
   "cell_type": "code",
   "execution_count": 13,
   "metadata": {
    "ExecuteTime": {
     "end_time": "2023-10-11T07:22:08.825901900Z",
     "start_time": "2023-10-11T07:22:08.797150300Z"
    }
   },
   "outputs": [
    {
     "data": {
      "text/plain": "__main__.D"
     },
     "execution_count": 13,
     "metadata": {},
     "output_type": "execute_result"
    }
   ],
   "source": [
    "ot"
   ]
  },
  {
   "cell_type": "markdown",
   "metadata": {},
   "source": [
    "# ?"
   ]
  },
  {
   "cell_type": "code",
   "execution_count": 14,
   "metadata": {
    "ExecuteTime": {
     "end_time": "2023-10-11T07:22:08.857202500Z",
     "start_time": "2023-10-11T07:22:08.804143100Z"
    }
   },
   "outputs": [],
   "source": [
    "from typing import List, Tuple, Dict\n",
    "\n",
    "\n",
    "def new(a:list[list[2],dict[int:str]])->list[list[int], list[int], list[dict]]:\n",
    "    return [[2,3],[1], [\"a\"]]"
   ]
  },
  {
   "cell_type": "code",
   "execution_count": 14,
   "metadata": {
    "ExecuteTime": {
     "end_time": "2023-10-11T07:22:08.857202500Z",
     "start_time": "2023-10-11T07:22:08.815342Z"
    }
   },
   "outputs": [],
   "source": []
  }
 ],
 "metadata": {
  "kernelspec": {
   "display_name": "Python 3",
   "language": "python",
   "name": "python3"
  },
  "language_info": {
   "codemirror_mode": {
    "name": "ipython",
    "version": 3
   },
   "file_extension": ".py",
   "mimetype": "text/x-python",
   "name": "python",
   "nbconvert_exporter": "python",
   "pygments_lexer": "ipython3",
   "version": "3.11.5"
  }
 },
 "nbformat": 4,
 "nbformat_minor": 2
}
