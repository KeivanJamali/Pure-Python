{
 "cells": [
  {
   "cell_type": "code",
   "execution_count": 1,
   "metadata": {},
   "outputs": [],
   "source": [
    "%load_ext autoreload\n",
    "%autoreload 2"
   ]
  },
  {
   "cell_type": "code",
   "execution_count": 2,
   "metadata": {},
   "outputs": [],
   "source": [
    "image_folder = r\"C:\\Working_od_data_temprory\\Image\"\n",
    "output_folder = r\"C:\\Working_od_data_temprory\\result\""
   ]
  },
  {
   "cell_type": "code",
   "execution_count": 31,
   "metadata": {},
   "outputs": [],
   "source": [
    "from image_processing import Image_Processing_survey\n",
    "datasetter = Image_Processing_survey(folder_name=image_folder, minutes_limit=5)"
   ]
  },
  {
   "cell_type": "code",
   "execution_count": 29,
   "metadata": {},
   "outputs": [
    {
     "data": {
      "text/plain": [
       "'670'"
      ]
     },
     "execution_count": 29,
     "metadata": {},
     "output_type": "execute_result"
    }
   ],
   "source": [
    "datasetter.result_folders[0][0].split(\".\")[-2][-3:]"
   ]
  },
  {
   "cell_type": "code",
   "execution_count": 32,
   "metadata": {},
   "outputs": [
    {
     "name": "stderr",
     "output_type": "stream",
     "text": [
      "100%|██████████| 309/309 [00:03<00:00, 89.31it/s]\n",
      "100%|██████████| 263/263 [00:03<00:00, 72.27it/s]\n",
      "100%|██████████| 320/320 [00:06<00:00, 45.91it/s]\n",
      "100%|██████████| 328/328 [00:06<00:00, 49.67it/s]\n",
      "100%|██████████| 263/263 [00:05<00:00, 50.44it/s]\n",
      "100%|██████████| 80/80 [00:01<00:00, 43.57it/s]\n"
     ]
    }
   ],
   "source": [
    "datasetter.fit_to_copy(output_folder=output_folder)"
   ]
  },
  {
   "cell_type": "code",
   "execution_count": 1,
   "metadata": {},
   "outputs": [],
   "source": [
    "import tkinter as tk\n",
    "\n",
    "root = tk.Tk()\n",
    "root.title(\"Test Tkinter\")\n",
    "root.geometry(\"200x100\")\n",
    "label = tk.Label(root, text=\"Tkinter is working!\")\n",
    "label.pack()\n",
    "root.mainloop()\n"
   ]
  },
  {
   "cell_type": "code",
   "execution_count": null,
   "metadata": {},
   "outputs": [],
   "source": []
  }
 ],
 "metadata": {
  "kernelspec": {
   "display_name": "Python 3",
   "language": "python",
   "name": "python3"
  },
  "language_info": {
   "codemirror_mode": {
    "name": "ipython",
    "version": 3
   },
   "file_extension": ".py",
   "mimetype": "text/x-python",
   "name": "python",
   "nbconvert_exporter": "python",
   "pygments_lexer": "ipython3",
   "version": "3.12.4"
  }
 },
 "nbformat": 4,
 "nbformat_minor": 2
}
