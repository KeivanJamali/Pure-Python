{
 "cells": [
  {
   "cell_type": "code",
   "execution_count": 1,
   "metadata": {},
   "outputs": [],
   "source": [
    "%load_ext autoreload\n",
    "%autoreload 2"
   ]
  },
  {
   "cell_type": "code",
   "execution_count": 2,
   "metadata": {},
   "outputs": [],
   "source": [
    "import sympy as sp\n",
    "from Eco_toolkit import Primary_Eco"
   ]
  },
  {
   "cell_type": "code",
   "execution_count": 3,
   "metadata": {},
   "outputs": [],
   "source": [
    "model = Primary_Eco()"
   ]
  },
  {
   "cell_type": "code",
   "execution_count": 8,
   "metadata": {},
   "outputs": [
    {
     "name": "stdout",
     "output_type": "stream",
     "text": [
      "NPW for A, B and C is -19.84, 3.38 and -0.95 when i=0.08\n",
      "NPW for A, B and C is -20.06, 1.69 and -1.27 when i=0.10\n",
      "NPW for A, B and C is -20.17, 0.20 and -1.54 when i=0.12\n"
     ]
    }
   ],
   "source": [
    "for i in [0.08, 0.10, 0.12]:\n",
    "    A = model.some_f_to_p(i=i, all_f=[-10, -10, -20, 0, 5, 5, 5, 5, 0, 0])\n",
    "    B = model.some_f_to_p(i=i, all_f=[-30, 10, 10, 5, 5, 5, 5, 0, 0, 0])\n",
    "    C = model.some_f_to_p(i=i, all_f=[-10, 5, 5, 0, -5, 0, 0, 0, 0, 0])\n",
    "    print(f\"NPW for A, B and C is {A:.2f}, {B:.2f} and {C:.2f} when i={i:.2f}\")\n"
   ]
  },
  {
   "cell_type": "code",
   "execution_count": 35,
   "metadata": {},
   "outputs": [],
   "source": [
    "# import math\n",
    "# import numpy as np\n",
    "# x_list, y_list = [], []\n",
    "# for N in [1, 2, 3, 4, 5]:\n",
    "#     x = list(np.arange(0, 2*N, 0.01))\n",
    "#     y = []\n",
    "#     for lam in x:\n",
    "#         B = 1500\n",
    "#         S = 1200\n",
    "#         mu = 2\n",
    "#         U = lam/(N*mu) if N!=0 else lam/mu\n",
    "#         down = 0\n",
    "#         try:\n",
    "#             for k in range(0, N):\n",
    "#                 down += (((N*U)**k)/math.factorial(k)) + (((N*U)**N)/math.factorial(N)) * (1/(1-U))\n",
    "#             q_w = (((N*U)**N/math.factorial(N)) * (1/(1-U)))/down\n",
    "#             q = q_w * (U/(1-U))\n",
    "#             n = q+N*U\n",
    "\n",
    "#             C = B*N + S*n\n",
    "#         except:\n",
    "#             C = 1e10\n",
    "#         y.append(C)\n",
    "#     x_list.append(x)\n",
    "#     y_list.append(y)\n",
    "\n"
   ]
  },
  {
   "cell_type": "code",
   "execution_count": 37,
   "metadata": {},
   "outputs": [
    {
     "data": {
      "image/png": "[encoded data removed]",
      "text/plain": [
       "<Figure size 640x480 with 1 Axes>"
      ]
     },
     "metadata": {},
     "output_type": "display_data"
    }
   ],
   "source": [
    "# import matplotlib.pyplot as plt\n",
    "\n",
    "# for x, y in zip(x_list, y_list):\n",
    "#     plt.plot(x, y)\n",
    "\n",
    "# plt.savefig(\"q8_2.png\")"
   ]
  },
  {
   "cell_type": "code",
   "execution_count": 17,
   "metadata": {},
   "outputs": [
    {
     "name": "stdout",
     "output_type": "stream",
     "text": [
      "For the problem with arrival rate of 2 we have:\n",
      "if k = 1\n",
      "p is 1.0\n",
      "Not balanced with a=2 and k=1\n",
      "\n",
      "\n",
      "For the problem with arrival rate of 2 we have:\n",
      "if k = 2\n",
      "p is 0.5\n",
      "p0 is 0.3333333333333333\n",
      "n bar is 1.1666666666666667\n",
      "total cost is 138.33333333333334\n",
      "\n",
      "\n",
      "For the problem with arrival rate of 2 we have:\n",
      "if k = 3\n",
      "p is 0.3333333333333333\n",
      "p0 is 0.36363636363636365\n",
      "n bar is 1.0303030303030303\n",
      "total cost is 171.5151515151515\n",
      "\n",
      "\n",
      "For the problem with arrival rate of 2 we have:\n",
      "if k = 4\n",
      "p is 0.25\n",
      "p0 is 0.3673469387755102\n",
      "n bar is 1.0051020408163265\n",
      "total cost is 210.25510204081633\n",
      "\n",
      "\n",
      "For the problem with arrival rate of 5 we have:\n",
      "if k = 1\n",
      "p is 2.5\n",
      "p0 is -1.5000000000000004\n",
      "n bar is 8.750000000000004\n",
      "total cost is 477.50000000000017\n",
      "\n",
      "\n",
      "For the problem with arrival rate of 5 we have:\n",
      "if k = 2\n",
      "p is 1.25\n",
      "p0 is -0.1111111111111111\n",
      "n bar is 4.236111111111111\n",
      "total cost is 291.80555555555554\n",
      "\n",
      "\n",
      "For the problem with arrival rate of 5 we have:\n",
      "if k = 3\n",
      "p is 0.8333333333333334\n",
      "p0 is 0.04494382022471909\n",
      "n bar is 3.0852059925093633\n",
      "total cost is 274.2602996254682\n",
      "\n",
      "\n",
      "For the problem with arrival rate of 5 we have:\n",
      "if k = 4\n",
      "p is 0.625\n",
      "p0 is 0.07369498464687821\n",
      "n bar is 2.699910440122825\n",
      "total cost is 294.99552200614124\n",
      "\n",
      "\n"
     ]
    }
   ],
   "source": [
    "import math\n",
    "\n",
    "for lam in [2, 5]:\n",
    "    for k in range(1, 5):\n",
    "        try:\n",
    "            # k = 2\n",
    "            u = 2\n",
    "            # lam = 2\n",
    "            c1 = 40\n",
    "            c2 = 50\n",
    "            print(f\"For the problem with arrival rate of {lam} we have:\")\n",
    "            print(f\"if k = {k}\")\n",
    "            p = lam/(k*u)\n",
    "            print(f\"p is {p}\")\n",
    "            e1 = 0\n",
    "            for n in range(0, k):\n",
    "                e1 += ((k*p)**n)/math.factorial(n)\n",
    "            e2 = ((k*p)**k)/math.factorial(k)\n",
    "            e3 = 1/(1-p)\n",
    "            p0 = (e1 + e2*e3)**(-1)\n",
    "            print(f\"p0 is\", p0)\n",
    "            n_bar = k*p + (p)/(1-p) * ((k*p)**k)/(math.factorial(k)) * p0\n",
    "            print(f\"n bar is\", n_bar)\n",
    "\n",
    "            C = k*c1 + n_bar*c2\n",
    "            print(\"total cost is\", C)\n",
    "            print()\n",
    "            print()\n",
    "        except:\n",
    "            print(f\"Not balanced with a={lam} and k={k}\")\n",
    "            print()\n",
    "            print()\n"
   ]
  }
 ],
 "metadata": {
  "kernelspec": {
   "display_name": "Python 3",
   "language": "python",
   "name": "python3"
  },
  "language_info": {
   "codemirror_mode": {
    "name": "ipython",
    "version": 3
   },
   "file_extension": ".py",
   "mimetype": "text/x-python",
   "name": "python",
   "nbconvert_exporter": "python",
   "pygments_lexer": "ipython3",
   "version": "3.12.1"
  }
 },
 "nbformat": 4,
 "nbformat_minor": 2
}
