{
 "cells": [
  {
   "attachments": {},
   "cell_type": "markdown",
   "metadata": {},
   "source": [
    "## **Encapsulation**\n",
    "Encapsulation in Python refers to the practice of hiding the internal implementation details of an object from the outside world and allowing access to it through a well-defined interface. This can be achieved through the use of access modifiers like public, private, and protected.\n",
    "\n",
    "In Python, there is no strict way to enforce access modifiers like other languages such as Java. However, the convention is to use a **double underscore prefix for private members**.\n"
   ]
  },
  {
   "cell_type": "code",
   "execution_count": 1,
   "metadata": {},
   "outputs": [],
   "source": [
    "\n",
    "class BankAccount:\n",
    "    def __init__(self, account_number, balance):\n",
    "        self._account_number = account_number # Protected attribute\n",
    "        self.__balance = balance # Private attribute \n",
    "\n",
    "    def deposit(self, amount):\n",
    "        self.__balance += amount\n",
    "        print(f\"Deposit of {amount} successful. New balance is {self.__balance}.\")\n",
    "\n",
    "    def withdraw(self, amount):\n",
    "        if amount > self.__balance:\n",
    "            print(\"Insufficient balance.\")\n",
    "        else:\n",
    "            self.__balance -= amount\n",
    "            print(f\"Withdrawal of {amount} successful. New balance is {self.__balance}.\")\n",
    "\n",
    "    def get_balance(self):\n",
    "        return self.__balance\n",
    "\n",
    "    def get_account_number(self):\n",
    "        return self._account_number\n"
   ]
  },
  {
   "attachments": {},
   "cell_type": "markdown",
   "metadata": {},
   "source": [
    "Private attributes: These attributes cannot be accessed from outside even by subclasses of that class. "
   ]
  },
  {
   "cell_type": "code",
   "execution_count": 2,
   "metadata": {},
   "outputs": [
    {
     "name": "stdout",
     "output_type": "stream",
     "text": [
      "1234\n"
     ]
    },
    {
     "ename": "AttributeError",
     "evalue": "'BankAccount' object has no attribute '__balance'",
     "output_type": "error",
     "traceback": [
      "\u001b[1;31m---------------------------------------------------------------------------\u001b[0m",
      "\u001b[1;31mAttributeError\u001b[0m                            Traceback (most recent call last)",
      "\u001b[1;32md:\\DropBox\\Dropbox\\کلاس پایتون\\Python files\\OOP Basics\\enc_poly_inher.ipynb Cell 4\u001b[0m in \u001b[0;36m<cell line: 3>\u001b[1;34m()\u001b[0m\n\u001b[0;32m      <a href='vscode-notebook-cell:/d%3A/DropBox/Dropbox/%DA%A9%D9%84%D8%A7%D8%B3%20%D9%BE%D8%A7%DB%8C%D8%AA%D9%88%D9%86/Python%20files/OOP%20Basics/enc_poly_inher.ipynb#W3sZmlsZQ%3D%3D?line=0'>1</a>\u001b[0m obj \u001b[39m=\u001b[39m BankAccount(\u001b[39m1234\u001b[39m,\u001b[39m10000\u001b[39m)\n\u001b[0;32m      <a href='vscode-notebook-cell:/d%3A/DropBox/Dropbox/%DA%A9%D9%84%D8%A7%D8%B3%20%D9%BE%D8%A7%DB%8C%D8%AA%D9%88%D9%86/Python%20files/OOP%20Basics/enc_poly_inher.ipynb#W3sZmlsZQ%3D%3D?line=1'>2</a>\u001b[0m \u001b[39mprint\u001b[39m(obj\u001b[39m.\u001b[39m_account_number)  \u001b[39m# Accessible from outside the class\u001b[39;00m\n\u001b[1;32m----> <a href='vscode-notebook-cell:/d%3A/DropBox/Dropbox/%DA%A9%D9%84%D8%A7%D8%B3%20%D9%BE%D8%A7%DB%8C%D8%AA%D9%88%D9%86/Python%20files/OOP%20Basics/enc_poly_inher.ipynb#W3sZmlsZQ%3D%3D?line=2'>3</a>\u001b[0m \u001b[39mprint\u001b[39m(obj\u001b[39m.\u001b[39;49m__balance)\n",
      "\u001b[1;31mAttributeError\u001b[0m: 'BankAccount' object has no attribute '__balance'"
     ]
    }
   ],
   "source": [
    "obj = BankAccount(1234,10000)\n",
    "print(obj._account_number)  # Accessible from outside the class\n",
    "print(obj.__balance)  # Raises an AttributeError because __private_attribute is name-mangled\n"
   ]
  },
  {
   "cell_type": "code",
   "execution_count": 3,
   "metadata": {},
   "outputs": [
    {
     "data": {
      "text/plain": [
       "10000"
      ]
     },
     "execution_count": 3,
     "metadata": {},
     "output_type": "execute_result"
    }
   ],
   "source": [
    "obj.get_balance()"
   ]
  },
  {
   "attachments": {},
   "cell_type": "markdown",
   "metadata": {},
   "source": [
    "By using access modifiers and well-defined interfaces, we can encapsulate the implementation details of the BankAccount class and prevent external code from modifying or accessing the internal state directly. This helps to improve code maintainability and reduces the risk of introducing bugs."
   ]
  },
  {
   "attachments": {},
   "cell_type": "markdown",
   "metadata": {},
   "source": [
    "There are several advantages to using encapsulation in OOP:</br>\n",
    "\n",
    " - **Modularity**: Encapsulation allows you to create modular code by separating the implementation details of an object from the rest of your code. This makes it easier to modify and update your code without affecting other parts of your application. **Modularity is the concept of dividing a system into separate, independent modules or components that can be developed, tested, and maintained separately.** In object-oriented programming (OOP), modularity is achieved through the use of classes and objects.\n",
    "\n",
    " - **Security**: Encapsulation provides a level of security for your data by preventing unauthorized access to an object's internal state. This helps to prevent accidental or intentional data corruption or manipulation.\n",
    "\n",
    " - **Code reusability**: Encapsulation makes it easier to reuse your code by creating objects that are **self-contained** and have **well-defined interfaces**. This allows you to reuse objects in other parts of your application or in other applications altogether.\n",
    "\n"
   ]
  },
  {
   "attachments": {},
   "cell_type": "markdown",
   "metadata": {},
   "source": [
    "**Name mangling**</br>\n",
    "In name mangling process any identifier with two leading underscore and one trailing underscore is textually replaced with _classname__identifier where classname is the name of the current class. "
   ]
  },
  {
   "cell_type": "code",
   "execution_count": 24,
   "metadata": {},
   "outputs": [
    {
     "name": "stdout",
     "output_type": "stream",
     "text": [
      "['_BankAccount__balance', '__class__', '__delattr__', '__dict__', '__dir__', '__doc__', '__eq__', '__format__', '__ge__', '__getattribute__', '__gt__', '__hash__', '__init__', '__init_subclass__', '__le__', '__lt__', '__module__', '__ne__', '__new__', '__reduce__', '__reduce_ex__', '__repr__', '__setattr__', '__sizeof__', '__str__', '__subclasshook__', '__weakref__', '_account_number', 'deposit', 'get_account_number', 'get_balance', 'withdraw']\n"
     ]
    }
   ],
   "source": [
    "print(dir(obj))"
   ]
  },
  {
   "cell_type": "code",
   "execution_count": 25,
   "metadata": {},
   "outputs": [
    {
     "name": "stdout",
     "output_type": "stream",
     "text": [
      "10000\n"
     ]
    }
   ],
   "source": [
    "print(obj._BankAccount__balance)"
   ]
  },
  {
   "attachments": {},
   "cell_type": "markdown",
   "metadata": {},
   "source": [
    "## **Inheritance**\n",
    "Inheritance is a concept in object-oriented programming that allows a class to inherit attributes and methods from another class, called the superclass or parent class. In Python, inheritance is achieved by creating a new class that inherits from an existing class."
   ]
  },
  {
   "cell_type": "code",
   "execution_count": null,
   "metadata": {},
   "outputs": [],
   "source": [
    "# Class definition without inheritance\n",
    "class Dog:\n",
    "    def __init__(self, name, age, breed):\n",
    "        self.name = name\n",
    "        self.age = age\n",
    "        self.breed = breed\n",
    "        \n",
    "    def bark(self):\n",
    "        print(\"Woof!\")\n",
    "        \n",
    "    def eat(self):\n",
    "        print(\"The animal is eating.\")\n",
    "\n",
    "class Cat:\n",
    "    def __init__(self, name, age, color):\n",
    "        self.name = name\n",
    "        self.age = age\n",
    "        self.color = color\n",
    "\n",
    "    def meow(self):\n",
    "        print(\"Meow!\")\n",
    "        \n",
    "    def eat(self):\n",
    "        print(\"The animal is eating.\")"
   ]
  },
  {
   "attachments": {},
   "cell_type": "markdown",
   "metadata": {},
   "source": [
    "# What are issues?\n",
    "- Duplicate codes\n",
    "- Difficult to maintain\n",
    "- ..."
   ]
  },
  {
   "cell_type": "code",
   "execution_count": 5,
   "metadata": {},
   "outputs": [
    {
     "name": "stdout",
     "output_type": "stream",
     "text": [
      "Rufus is a Labrador Retriever and is 5 years old.\n",
      "The animal is eating.\n",
      "Woof!\n",
      "Whiskers is Black and is 3 years old.\n",
      "The animal is eating.\n",
      "Meow!\n"
     ]
    }
   ],
   "source": [
    "class Animal:\n",
    "    def __init__(self, name, age):\n",
    "        self.name = name\n",
    "        self.age = age\n",
    "\n",
    "    def eat(self):\n",
    "        print(\"The animal is eating.\")\n",
    "\n",
    "class Dog(Animal):\n",
    "    def __init__(self, name, age, breed):\n",
    "        super().__init__(name, age)\n",
    "        self.breed = breed\n",
    "\n",
    "    def bark(self):\n",
    "        print(\"Woof!\")\n",
    "class Cat(Animal):\n",
    "    def __init__(self, name, age, color):\n",
    "        super().__init__(name, age)\n",
    "        self.color = color\n",
    "\n",
    "    def meow(self):\n",
    "        print(\"Meow!\")\n",
    "    \n",
    "dog = Dog(\"Rufus\", 5, \"Labrador Retriever\")\n",
    "cat = Cat(\"Whiskers\", 3, \"Black\")\n",
    "\n",
    "print(f\"{dog.name} is a {dog.breed} and is {dog.age} years old.\")\n",
    "dog.eat()\n",
    "dog.bark()\n",
    "\n",
    "print(f\"{cat.name} is {cat.color} and is {cat.age} years old.\")\n",
    "cat.eat()\n",
    "cat.meow()"
   ]
  },
  {
   "attachments": {},
   "cell_type": "markdown",
   "metadata": {},
   "source": [
    "There are several reasons why you might want to use inheritance in your OOP design:</br>\n",
    " - **Code reuse**: Inheritance allows you to avoid duplicating code and to reuse existing code from a parent class. This can save you time and effort when writing new classes.\n",
    "\n",
    " - **Organized and modular code**: Inheritance allows you to organize your code into logical hierarchies, with related classes grouped together under a common parent class. This makes your code more modular and easier to understand.\n",
    "\n",
    " - **Simplify maintenance**: Inheritance can simplify maintenance of your code by allowing you to make changes to the parent class, which will automatically propagate to all the child classes that inherit from it. This means you don't have to make the same change in multiple places.\n",
    "\n",
    " - **Code extensibility**: Inheritance allows you to create new classes that are based on existing classes, but with additional or modified functionality. This makes your code more extensible and flexible, allowing you to easily add new features to your application."
   ]
  },
  {
   "cell_type": "code",
   "execution_count": 6,
   "metadata": {},
   "outputs": [
    {
     "data": {
      "text/plain": [
       "{'name': 'Rufus', 'age': 5, 'breed': 'Labrador Retriever'}"
      ]
     },
     "execution_count": 6,
     "metadata": {},
     "output_type": "execute_result"
    }
   ],
   "source": [
    "vars(dog)"
   ]
  },
  {
   "cell_type": "code",
   "execution_count": 7,
   "metadata": {},
   "outputs": [
    {
     "data": {
      "text/plain": [
       "5"
      ]
     },
     "execution_count": 7,
     "metadata": {},
     "output_type": "execute_result"
    }
   ],
   "source": [
    "dog.age"
   ]
  },
  {
   "attachments": {},
   "cell_type": "markdown",
   "metadata": {},
   "source": [
    "## **Polymorphism**\n",
    "Polymorphism is a concept in object-oriented programming that allows objects to take on multiple forms and behave differently based on the context in which they are used. **In Python, polymorphism is implemented through method overriding and method overloading.**\n",
    "\n",
    "**Method overriding** is when a subclass provides a different implementation of a method that is already defined in its superclass. **Method overloading** is when multiple methods with the same name but different parameters are defined in a class."
   ]
  },
  {
   "cell_type": "code",
   "execution_count": 4,
   "metadata": {},
   "outputs": [
    {
     "name": "stdout",
     "output_type": "stream",
     "text": [
      "Rufus says Woof!\n",
      "Whiskers says Meow!\n",
      "Bessie says Moo!\n"
     ]
    }
   ],
   "source": [
    "class Dog:\n",
    "    def __init__(self, name):\n",
    "        self.name = name\n",
    "    def speak(self):\n",
    "        return \"Woof!\"\n",
    "\n",
    "class Cat:\n",
    "    def __init__(self, name):\n",
    "        self.name = name\n",
    "    def speak(self):\n",
    "        return \"Meow!\"\n",
    "\n",
    "class Cow:\n",
    "    def __init__(self, name):\n",
    "        self.name = name\n",
    "    def speak(self):\n",
    "        return \"Moo!\"\n",
    "\n",
    "animals = [Dog(\"Rufus\"), Cat(\"Whiskers\"), Cow(\"Bessie\")]\n",
    "\n",
    "for animal in animals:\n",
    "    print(f\"{animal.name} says {animal.speak()}\")\n"
   ]
  },
  {
   "attachments": {},
   "cell_type": "markdown",
   "metadata": {},
   "source": [
    "In Python, method overloading is not directly supported like in some other programming languages like Java, where you can define multiple methods with the same name but different parameters.\n",
    "</br> In Python, you can achieve method overloading in different ways, including **using default parameters**, **variable-length argument lists**, **and type hints**."
   ]
  },
  {
   "attachments": {},
   "cell_type": "markdown",
   "metadata": {},
   "source": [
    "\n",
    "Encapsulation is closely related to the concept of polymorphism, which allows you to create different implementations of the same interface. By encapsulating the implementation details of an object, you can create multiple objects that implement the same interface but behave differently."
   ]
  },
  {
   "cell_type": "code",
   "execution_count": null,
   "metadata": {},
   "outputs": [],
   "source": [
    "class Shape:\n",
    "    def area(self, x = None, y = None):\n",
    "        if x is not None and y is not None:\n",
    "            return x * y\n",
    "        elif x is not None:\n",
    "            return x * x\n",
    "        else:\n",
    "            return 0\n",
    "\n",
    "s = Shape()\n",
    "print(s.area()) # 0\n",
    "print(s.area(5)) # 25 (square)\n",
    "print(s.area(5, 3)) # 15 (rectangle)\n"
   ]
  },
  {
   "attachments": {},
   "cell_type": "markdown",
   "metadata": {},
   "source": [
    "## **Aggregation and Composition**"
   ]
  },
  {
   "attachments": {},
   "cell_type": "markdown",
   "metadata": {},
   "source": [
    "## Composition"
   ]
  },
  {
   "attachments": {},
   "cell_type": "markdown",
   "metadata": {},
   "source": [
    "**Composition**: \n",
    "In composition one class acts as a container of the other class (contents). If you destroy the container there is no existence of contents. That means if the container class creates an object or hold an object of contents. </b>\n",
    "\n",
    "Composition established **has-a** relationship between objects. In below code, you can see that the class person is creating a heart object. So, person is the owner of the heart object. We can also say that Person and Heart objects are **tightly coupled**."
   ]
  },
  {
   "cell_type": "code",
   "execution_count": 12,
   "metadata": {},
   "outputs": [
    {
     "name": "stdout",
     "output_type": "stream",
     "text": [
      "First Name:  Adam\n",
      "Last Name:  syn\n",
      "Address:  876 Zyx Ln\n",
      "No of Heart Valves:  4\n"
     ]
    }
   ],
   "source": [
    "class Heart:\n",
    "    def __init__(self, heartValves):\n",
    "        self.heartValves = heartValves\n",
    "        \n",
    "    def display(self):\n",
    "        return self.heartValves\n",
    "    \n",
    "class Person:\n",
    "    def __init__(self, fname, lname, address, heartValves):\n",
    "        self.fname = fname\n",
    "        self.lname = lname\n",
    "        self.address = address\n",
    "        self.heartValves = heartValves\n",
    "        self.heartObject = Heart(self.heartValves)   # Composition\n",
    "        \n",
    "    def display(self):\n",
    "        print(\"First Name: \", self.fname)\n",
    "        print(\"Last Name: \", self.lname)\n",
    "        print(\"Address: \", self.address)\n",
    "        print(\"No of Heart Valves: \", self.heartObject.display())\n",
    "\n",
    "\n",
    "p = Person(\"Adam\", \"syn\", \"876 Zyx Ln\", 4)\n",
    "p.display()\n"
   ]
  },
  {
   "cell_type": "code",
   "execution_count": 13,
   "metadata": {},
   "outputs": [],
   "source": [
    "h=Heart(5)"
   ]
  },
  {
   "cell_type": "code",
   "execution_count": 9,
   "metadata": {},
   "outputs": [
    {
     "data": {
      "text/plain": [
       "{'fname': 'Adam',\n",
       " 'lname': 'syn',\n",
       " 'address': '876 Zyx Ln',\n",
       " 'heartValves': 4,\n",
       " 'heartObject': <__main__.Heart at 0x1aaed315af0>}"
      ]
     },
     "execution_count": 9,
     "metadata": {},
     "output_type": "execute_result"
    }
   ],
   "source": [
    "vars(p)"
   ]
  },
  {
   "cell_type": "code",
   "execution_count": 14,
   "metadata": {},
   "outputs": [
    {
     "name": "stdout",
     "output_type": "stream",
     "text": [
      "First Name:  Adam\n",
      "Last Name:  syn\n",
      "Address:  876 Zyx Ln\n",
      "No of Heart Valves:  4\n"
     ]
    }
   ],
   "source": [
    "class Person:\n",
    "    def __init__(self, fname, lname, address, heartValves):\n",
    "        class HeartX:\n",
    "            def __init__(self, heartValves):\n",
    "                self.heartValves = heartValves\n",
    "        \n",
    "            def display(self):\n",
    "                return self.heartValves\n",
    "        self.fname = fname\n",
    "        self.lname = lname\n",
    "        self.address = address\n",
    "        self.heartValves = heartValves\n",
    "        self.heartObject = HeartX(self.heartValves)   # Composition\n",
    "        \n",
    "    def display(self):\n",
    "        print(\"First Name: \", self.fname)\n",
    "        print(\"Last Name: \", self.lname)\n",
    "        print(\"Address: \", self.address)\n",
    "        print(\"No of Heart Valves: \", self.heartObject.display())\n",
    "\n",
    "\n",
    "p = Person(\"Adam\", \"syn\", \"876 Zyx Ln\", 4)\n",
    "p.display()"
   ]
  },
  {
   "attachments": {},
   "cell_type": "markdown",
   "metadata": {},
   "source": [
    "## Aggregation\n",
    "Aggregation is a form of composition where objects are **loosely coupled**. There are not any objects or classes owns another object. It just creates a reference. It means if you destroy the container, the content still exists."
   ]
  },
  {
   "cell_type": "code",
   "execution_count": 19,
   "metadata": {},
   "outputs": [
    {
     "name": "stdout",
     "output_type": "stream",
     "text": [
      "First Name:  Adam\n",
      "Last Name:  Lee\n",
      "Address:  555 wso blvd\n",
      "No of Healthy Valves:  4\n"
     ]
    }
   ],
   "source": [
    "class Heart:\n",
    "    def __init__(self, heartValves):\n",
    "        self.heartValves = heartValves\n",
    "        \n",
    "    def display(self):\n",
    "        return self.heartValves\n",
    "    \n",
    "class Person:\n",
    "    def __init__(self, fname, lname, address, heartValves):\n",
    "        self.fname = fname\n",
    "        self.lname = lname\n",
    "        self.address = address\n",
    "        self.heartValves = heartValves  # Aggregation\n",
    "        \n",
    "    def display(self):\n",
    "        print(\"First Name: \", self.fname)\n",
    "        print(\"Last Name: \", self.lname)\n",
    "        print(\"Address: \", self.address)\n",
    "        print(\"No of Healthy Valves: \", hv.display())\n",
    "\n",
    "hv = Heart(4)\n",
    "p = Person(\"Adam\", \"Lee\", \"555 wso blvd\", hv)\n",
    "p.display()"
   ]
  },
  {
   "attachments": {},
   "cell_type": "markdown",
   "metadata": {},
   "source": [
    "- **Better example**</br>\n",
    "A person can changes his department in an organization."
   ]
  },
  {
   "attachments": {},
   "cell_type": "markdown",
   "metadata": {},
   "source": [
    "## **<div style=\"color: red\"> Next Session Optional Presentaion </div>**\n",
    "**The Composition Over Inheritance Principle**</br>\n",
    "Search and study for this principle. Describe when we should use which of them?"
   ]
  }
 ],
 "metadata": {
  "kernelspec": {
   "display_name": "Python 3",
   "language": "python",
   "name": "python3"
  },
  "language_info": {
   "codemirror_mode": {
    "name": "ipython",
    "version": 3
   },
   "file_extension": ".py",
   "mimetype": "text/x-python",
   "name": "python",
   "nbconvert_exporter": "python",
   "pygments_lexer": "ipython3",
   "version": "3.9.2"
  },
  "orig_nbformat": 4,
  "vscode": {
   "interpreter": {
    "hash": "dd60d8f76fc21559a6b9fd39e1cd98d76620385e493a79ae3b42a5f8f2411005"
   }
  }
 },
 "nbformat": 4,
 "nbformat_minor": 2
}
