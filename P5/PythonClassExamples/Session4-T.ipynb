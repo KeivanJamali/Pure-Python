{
 "cells": [
  {
   "cell_type": "markdown",
   "id": "8da9caff",
   "metadata": {},
   "source": [
    "## Ask the user to type a sentence. Reverse each word in the sentence but keep the word order the same.\n",
    "### Example:\n",
    "\n",
    "> Input: I love Python  \n",
    "Output: I evol nohtyP\n"
   ]
  },
  {
   "cell_type": "code",
   "execution_count": null,
   "id": "290fdc04",
   "metadata": {
    "vscode": {
     "languageId": "plaintext"
    }
   },
   "outputs": [],
   "source": []
  },
  {
   "cell_type": "markdown",
   "id": "57907209",
   "metadata": {},
   "source": []
  }
 ],
 "metadata": {
  "language_info": {
   "name": "python"
  }
 },
 "nbformat": 4,
 "nbformat_minor": 5
}
