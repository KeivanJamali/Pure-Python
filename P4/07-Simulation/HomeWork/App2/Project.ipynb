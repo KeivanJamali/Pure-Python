{
 "cells": [
  {
   "cell_type": "code",
   "execution_count": null,
   "metadata": {},
   "outputs": [],
   "source": [
    "%load_ext autoreload\n",
    "%autoreload 2"
   ]
  },
  {
   "cell_type": "code",
   "execution_count": 5,
   "metadata": {},
   "outputs": [
    {
     "name": "stdout",
     "output_type": "stream",
     "text": [
      "=======================================================\n",
      "\n",
      "Therefore, Average waiting time for People in Queue (Q_bar) will be 16.89\n",
      "Therefore, Average number of People in Queue (N_Q) will be 3.34\n",
      "We have 9571 people with more that 4.5 min system time. Therefore the percentage is 80.56\n",
      "Therefore the U=80.45\n",
      "\n",
      "=======================================================\n"
     ]
    }
   ],
   "source": [
    "from modular.main import main\n",
    "\n",
    "model = main(policy=\"FCFS\",\n",
    "             stop_type=\"Time\",\n",
    "             stop_limit=60000,\n",
    "             queue_type=\"MMI\",\n",
    "             plot_it=False)"
   ]
  },
  {
   "cell_type": "code",
   "execution_count": 2,
   "metadata": {},
   "outputs": [
    {
     "data": {
      "text/plain": [
       "23.20338788597232"
      ]
     },
     "execution_count": 2,
     "metadata": {},
     "output_type": "execute_result"
    }
   ],
   "source": [
    "model.time_in_queue"
   ]
  },
  {
   "cell_type": "code",
   "execution_count": 3,
   "metadata": {},
   "outputs": [
    {
     "data": {
      "text/plain": [
       "29.26820910107078"
      ]
     },
     "execution_count": 3,
     "metadata": {},
     "output_type": "execute_result"
    }
   ],
   "source": [
    "s = 0\n",
    "for i in model.queue.history.items():\n",
    "\n",
    "    if i[0] < 13:\n",
    "        # print(i[0])\n",
    "        s += i[1][1] - i[1][0]\n",
    "\n",
    "s"
   ]
  },
  {
   "cell_type": "code",
   "execution_count": 5,
   "metadata": {},
   "outputs": [
    {
     "data": {
      "text/plain": [
       "{0: [0.2016096064933595, 1.959838075616458],\n",
       " 1: [1.376683432221028, 14.222643496655873],\n",
       " 2: [1.7498440992620439, 5.574660910203718],\n",
       " 3: [7.418644417616754, 14.464946171507517],\n",
       " 4: [8.266306810494415, 22.70922829518768],\n",
       " 5: [19.51956448173972, 23.46954060012989],\n",
       " 6: [25.69196200622875, 27.623194536444114],\n",
       " 7: [28.206872928063184, 29.470343899111626],\n",
       " 8: [30.712802098046158, 31.033852183480004],\n",
       " 9: [31.35414517126482, 32.53701500892569],\n",
       " 10: [32.968376883402726, 36.96929442605462],\n",
       " 11: [34.76324327173003, 39.49637108824987],\n",
       " 12: [35.33814964423049],\n",
       " 13: [39.09930806443942, 41.800033883139406],\n",
       " 14: [44.11232107311381],\n",
       " 15: [44.75754820752315]}"
      ]
     },
     "execution_count": 5,
     "metadata": {},
     "output_type": "execute_result"
    }
   ],
   "source": [
    "model.system.history"
   ]
  },
  {
   "cell_type": "code",
   "execution_count": null,
   "metadata": {},
   "outputs": [],
   "source": []
  }
 ],
 "metadata": {
  "kernelspec": {
   "display_name": "Python 3",
   "language": "python",
   "name": "python3"
  },
  "language_info": {
   "codemirror_mode": {
    "name": "ipython",
    "version": 3
   },
   "file_extension": ".py",
   "mimetype": "text/x-python",
   "name": "python",
   "nbconvert_exporter": "python",
   "pygments_lexer": "ipython3",
   "version": "3.12.1"
  }
 },
 "nbformat": 4,
 "nbformat_minor": 2
}
