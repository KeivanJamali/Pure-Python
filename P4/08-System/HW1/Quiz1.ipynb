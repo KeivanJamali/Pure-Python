{
 "cells": [
  {
   "cell_type": "code",
   "execution_count": 1,
   "metadata": {},
   "outputs": [],
   "source": [
    "%load_ext autoreload\n",
    "%autoreload 2\n",
    "from Shortest_Path_Algorithms import Dijkstra, Bellman_Ford, A_star, Floyd_Warshall\n",
    "from Shortest_Path_Algorithms import Graph_Dataloader\n",
    "import networkx as nx"
   ]
  },
  {
   "cell_type": "code",
   "execution_count": null,
   "metadata": {},
   "outputs": [
    {
     "data": {
      "image/png": "[encoded data removed]",
      "text/plain": [
       "<Figure size 640x480 with 1 Axes>"
      ]
     },
     "metadata": {},
     "output_type": "display_data"
    }
   ],
   "source": [
    "\n",
    "# For nodes we have the name and the position.\n",
    "nodes = {\n",
    "    \"A\": {\"pos\":(0, 0)},\n",
    "    \"B\": {\"pos\":(1, 1)},\n",
    "    \"C\": {\"pos\":(1, -1)},\n",
    "    \"D\": {\"pos\":(2, 1.5)},\n",
    "    \"E\": {\"pos\":(2, 0)},\n",
    "    \"F\": {\"pos\":(2, -1.5)},\n",
    "    \"G\": {\"pos\":(3, 1)},\n",
    "    \"H\": {\"pos\":(3, -1)},\n",
    "    \"I\": {\"pos\":(4, 0)}\n",
    "    }\n",
    "\n",
    "# for edges we need only the edge\n",
    "edges = {\n",
    "    (\"A\", \"B\") : {\"cost\": 7},\n",
    "    (\"A\", \"C\") : {\"cost\": 9},\n",
    "    (\"B\", \"C\") : {\"cost\": 3},\n",
    "    (\"B\", \"D\") : {\"cost\": 10},\n",
    "    (\"B\", \"E\") : {\"cost\": 14},\n",
    "    (\"C\", \"E\") : {\"cost\": 10},\n",
    "    (\"C\", \"F\") : {\"cost\": 6},\n",
    "    (\"D\", \"G\") : {\"cost\": 8},\n",
    "    (\"E\", \"G\") : {\"cost\": 9},\n",
    "    (\"E\", \"I\") : {\"cost\": 13},\n",
    "    (\"E\", \"H\") : {\"cost\": 4},\n",
    "    (\"E\", \"F\") : {\"cost\": 2},\n",
    "    (\"F\", \"H\") : {\"cost\": 7},\n",
    "    (\"G\", \"I\") : {\"cost\": 10},\n",
    "    (\"H\", \"I\") : {\"cost\": 6}\n",
    "    }\n",
    "\n",
    "problem = Graph_Dataloader.Graph(directed=False)\n",
    "problem.set_setting(nodes=nodes, edges=edges)\n",
    "problem.plot_graph(node_label=False, edge_label=True)"
   ]
  },
  {
   "cell_type": "code",
   "execution_count": 3,
   "metadata": {},
   "outputs": [
    {
     "name": "stdout",
     "output_type": "stream",
     "text": [
      "[Successful] Find the path to node C sooner. Early stop!\n",
      "Class \u001b[32m'Dijkstra'\u001b[39m - Method \u001b[32m'_algorithm'\u001b[39mexecuted in \u001b[31m0.00036320\u001b[39m seconds.\n"
     ]
    },
    {
     "data": {
      "text/plain": [
       "['A', 'C']"
      ]
     },
     "execution_count": 3,
     "metadata": {},
     "output_type": "execute_result"
    }
   ],
   "source": [
    "dijkstra1 = Dijkstra.Dijkstra(problem.graph)\n",
    "dijkstra1.fit(source=\"A\", target=\"C\", early_stop=True)\n",
    "dijkstra1.shortest_path_to(\"C\")\n",
    "\n",
    "# nx.dijkstra_path_length(problem1.graph, source=\"A\", target=\"I\", weight=\"cost\")"
   ]
  },
  {
   "cell_type": "code",
   "execution_count": 4,
   "metadata": {},
   "outputs": [
    {
     "name": "stdout",
     "output_type": "stream",
     "text": [
      "Class \u001b[32m'Bellman_Ford'\u001b[39m - Method \u001b[32m'_algorithm'\u001b[39mexecuted in \u001b[31m0.00091290\u001b[39m seconds.\n"
     ]
    },
    {
     "data": {
      "text/plain": [
       "['A', 'B', 'E', 'I']"
      ]
     },
     "execution_count": 4,
     "metadata": {},
     "output_type": "execute_result"
    }
   ],
   "source": [
    "bellman_ford = Bellman_Ford.Bellman_Ford(problem.graph)\n",
    "bellman_ford.fit(source=\"A\")\n",
    "bellman_ford.distances\n",
    "\n",
    "nx.bellman_ford_path(problem.graph, source=\"A\", target=\"I\")"
   ]
  },
  {
   "cell_type": "code",
   "execution_count": 5,
   "metadata": {},
   "outputs": [
    {
     "name": "stdout",
     "output_type": "stream",
     "text": [
      "[Successful] Found the path to C. Early stop!\n",
      "Class \u001b[32m'A_Star'\u001b[39m - Method \u001b[32m'_algorithm'\u001b[39mexecuted in \u001b[31m0.00030780\u001b[39m seconds.\n"
     ]
    },
    {
     "data": {
      "text/plain": [
       "{'A': 0,\n",
       " 'B': 7,\n",
       " 'C': 9,\n",
       " 'D': inf,\n",
       " 'E': inf,\n",
       " 'F': inf,\n",
       " 'G': inf,\n",
       " 'H': inf,\n",
       " 'I': inf}"
      ]
     },
     "execution_count": 5,
     "metadata": {},
     "output_type": "execute_result"
    }
   ],
   "source": [
    "astar = A_star.A_Star(problem.graph)\n",
    "astar.fit(source=\"A\", target=\"C\")\n",
    "astar.distances"
   ]
  },
  {
   "cell_type": "code",
   "execution_count": 9,
   "metadata": {},
   "outputs": [
    {
     "name": "stdout",
     "output_type": "stream",
     "text": [
      "Class \u001b[32m'FloydWarshall'\u001b[39m - Method \u001b[32m'fit'\u001b[39mexecuted in \u001b[31m0.00018120\u001b[39m seconds.\n"
     ]
    },
    {
     "data": {
      "text/plain": [
       "{'A': {'A': 0,\n",
       "  'B': 7,\n",
       "  'C': 9,\n",
       "  'D': 17,\n",
       "  'E': 17,\n",
       "  'F': 15,\n",
       "  'G': 25,\n",
       "  'H': 21,\n",
       "  'I': 27},\n",
       " 'B': {'A': 7,\n",
       "  'B': 0,\n",
       "  'C': 3,\n",
       "  'D': 10,\n",
       "  'E': 11,\n",
       "  'F': 9,\n",
       "  'G': 18,\n",
       "  'H': 15,\n",
       "  'I': 21},\n",
       " 'C': {'A': 9,\n",
       "  'B': 3,\n",
       "  'C': 0,\n",
       "  'D': 13,\n",
       "  'E': 8,\n",
       "  'F': 6,\n",
       "  'G': 17,\n",
       "  'H': 12,\n",
       "  'I': 18},\n",
       " 'D': {'A': 17,\n",
       "  'B': 10,\n",
       "  'C': 13,\n",
       "  'D': 0,\n",
       "  'E': 17,\n",
       "  'F': 19,\n",
       "  'G': 8,\n",
       "  'H': 21,\n",
       "  'I': 18},\n",
       " 'E': {'A': 17,\n",
       "  'B': 11,\n",
       "  'C': 8,\n",
       "  'D': 17,\n",
       "  'E': 0,\n",
       "  'F': 2,\n",
       "  'G': 9,\n",
       "  'H': 4,\n",
       "  'I': 10},\n",
       " 'F': {'A': 15,\n",
       "  'B': 9,\n",
       "  'C': 6,\n",
       "  'D': 19,\n",
       "  'E': 2,\n",
       "  'F': 0,\n",
       "  'G': 11,\n",
       "  'H': 6,\n",
       "  'I': 12},\n",
       " 'G': {'A': 25,\n",
       "  'B': 18,\n",
       "  'C': 17,\n",
       "  'D': 8,\n",
       "  'E': 9,\n",
       "  'F': 11,\n",
       "  'G': 0,\n",
       "  'H': 13,\n",
       "  'I': 10},\n",
       " 'H': {'A': 21,\n",
       "  'B': 15,\n",
       "  'C': 12,\n",
       "  'D': 21,\n",
       "  'E': 4,\n",
       "  'F': 6,\n",
       "  'G': 13,\n",
       "  'H': 0,\n",
       "  'I': 6},\n",
       " 'I': {'A': 27,\n",
       "  'B': 21,\n",
       "  'C': 18,\n",
       "  'D': 18,\n",
       "  'E': 10,\n",
       "  'F': 12,\n",
       "  'G': 10,\n",
       "  'H': 6,\n",
       "  'I': 0}}"
      ]
     },
     "execution_count": 9,
     "metadata": {},
     "output_type": "execute_result"
    }
   ],
   "source": [
    "floyd = Floyd_Warshall.FloydWarshall(problem.graph)\n",
    "floyd.fit()\n",
    "floyd.distances\n"
   ]
  },
  {
   "cell_type": "code",
   "execution_count": null,
   "metadata": {},
   "outputs": [
    {
     "data": {
      "text/plain": [
       "False"
      ]
     },
     "execution_count": 8,
     "metadata": {},
     "output_type": "execute_result"
    }
   ],
   "source": []
  }
 ],
 "metadata": {
  "kernelspec": {
   "display_name": "Python 3",
   "language": "python",
   "name": "python3"
  },
  "language_info": {
   "codemirror_mode": {
    "name": "ipython",
    "version": 3
   },
   "file_extension": ".py",
   "mimetype": "text/x-python",
   "name": "python",
   "nbconvert_exporter": "python",
   "pygments_lexer": "ipython3",
   "version": "3.12.1"
  }
 },
 "nbformat": 4,
 "nbformat_minor": 2
}
