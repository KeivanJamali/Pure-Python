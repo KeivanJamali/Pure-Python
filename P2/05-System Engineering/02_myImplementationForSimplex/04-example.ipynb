{
 "cells": [
  {
   "cell_type": "code",
   "execution_count": 1,
   "metadata": {},
   "outputs": [],
   "source": [
    "%load_ext autoreload\n",
    "%autoreload 2\n",
    "from Simplex import Simplex, Constraint, Sensitivity_Analysis\n",
    "import numpy as np"
   ]
  },
  {
   "cell_type": "code",
   "execution_count": null,
   "metadata": {},
   "outputs": [],
   "source": [
    "c = [-1, -2, -3, -4, -5, -6, -7, -8, -9, -10]\n",
    "\n",
    "objective_function = [0., c[0], c[1], c[2], c[3], c[4], c[5], c[6], c[7], c[8], c[9], 0.]\n",
    "constraints_function = Constraint([[2., 1., 0., 0., 0., 0., 0., 1., 1., 0., 0., 0.], # x1 + x7 + x8 <= 2\n",
    "                                   [1., 0., 0., 1., 0., 1., 0., 0., 0., 0., 0., 0.], # x3 + x5 <= 1\n",
    "                                   [1., 0., 0., 1., 0., 1., 0., 0., 0., 0., 0., 0.], # x4 + x5 <= 1\n",
    "                                   [2., 0., 0., 0., 0., 1., 1., 1., 1., 0., 0., 0.], # x5 + x6 + x7 + x8 <= 2\n",
    "                                   [0., 0., 0., 0., 1., 1., 0., 0., 0., 0., 0., -2.], # x3 + x4 = 2Y\n",
    "                                   [2., 0., 0., 0., 0., 0., 0., 1., 1., 0., 0., 2.]], # x7 + x8 = 2(1-Y)\n",
    "                                  [\"ineq\", \"ineq\", \"ineq\", \"eq\", \"eq\"])\n",
    "parameters = [\"x1\", \"x2\", \"x3\", \"x4\", \"x5\", \"x6\", \"x7\", \"x8\", \"x9\", \"x10\", \"Y\"]\n",
    "model = Simplex(objective_function, mode=\"min\", parameters=parameters)\n",
    "model.fit(constraints_function)\n",
    "print()\n",
    "model.make_table(format_=\"github\")"
   ]
  },
  {
   "cell_type": "code",
   "execution_count": 4,
   "metadata": {},
   "outputs": [
    {
     "name": "stdout",
     "output_type": "stream",
     "text": [
      "Add slack\n",
      "Add slack\n",
      "[INFO] One phase solution\n",
      "[INFO] done!\n",
      "|    |   Current Values |   x1 |   x2 |   x3 |   s1 |   s2 |\n",
      "|----|------------------|------|------|------|------|------|\n",
      "|  0 |             50.0 |  9.0 |  0.0 | 17.0 |  0.0 |  0.0 |\n",
      "\n",
      "| Basic Variables      | Current Values       | x1                   | x2                   | x3                   | s1                   | s2                   |\n",
      "|----------------------|----------------------|----------------------|----------------------|----------------------|----------------------|----------------------|\n",
      "| s1                   | 8.0                  | -1.0                 | 1.0                  | 1.0                  | 1.0                  | 0.0                  |\n",
      "| s2                   | 10.0                 | 3.0                  | 2.0                  | -1.0                 | 0.0                  | 1.0                  |\n",
      "| -z1                  | 0.0                  | -2.0                 | 3.0                  | 4.0                  | 0.0                  | 0.0                  |\n",
      "| -------------------- | -------------------- | -------------------- | -------------------- | -------------------- | -------------------- | -------------------- |\n",
      "| x3                   | 8.0                  | -1.0                 | 1.0                  | 1.0                  | 1.0                  | 0.0                  |\n",
      "| s2                   | 18.0                 | 2.0                  | 3.0                  | 0.0                  | 1.0                  | 1.0                  |\n",
      "| -z2                  | -32.0                | 2.0                  | -1.0                 | 0.0                  | -4.0                 | 0.0                  |\n",
      "| -------------------- | -------------------- | -------------------- | -------------------- | -------------------- | -------------------- | -------------------- |\n",
      "| x3                   | 17.0                 | 0.0                  | 2.5                  | 1.0                  | 1.5                  | 0.5                  |\n",
      "| x1                   | 9.0                  | 1.0                  | 1.5                  | 0.0                  | 0.5                  | 0.5                  |\n",
      "| -z3                  | -50.0                | 0.0                  | -4.0                 | 0.0                  | -5.0                 | -1.0                 |\n",
      "| -------------------- | -------------------- | -------------------- | -------------------- | -------------------- | -------------------- | -------------------- |\n"
     ]
    }
   ],
   "source": [
    "objective_function = [0., -2., 3, 4]\n",
    "constraints_function = Constraint([[8., -1., 1., 1.], # -x1 + x2 + x3 <= 8\n",
    "                                   [10., 3., 2., -1.]], # 3x1 + 2x2 - x3 <= 10\n",
    "                                  [\"ineq\", \"ineq\"])\n",
    "parameters = [\"x1\", \"x2\", \"x3\"]\n",
    "model = Simplex(objective_function, mode=\"max\", parameters=parameters)\n",
    "model.fit(constraints_function)\n",
    "print()\n",
    "model.make_table(format_=\"github\")"
   ]
  },
  {
   "cell_type": "code",
   "execution_count": 7,
   "metadata": {},
   "outputs": [
    {
     "data": {
      "text/plain": [
       "5.428571428571429"
      ]
     },
     "execution_count": 7,
     "metadata": {},
     "output_type": "execute_result"
    }
   ],
   "source": [
    "38/7"
   ]
  },
  {
   "cell_type": "code",
   "execution_count": 8,
   "metadata": {},
   "outputs": [
    {
     "data": {
      "text/plain": [
       "0.8571428571428571"
      ]
     },
     "execution_count": 8,
     "metadata": {},
     "output_type": "execute_result"
    }
   ],
   "source": [
    "6/7"
   ]
  },
  {
   "cell_type": "code",
   "execution_count": 9,
   "metadata": {},
   "outputs": [
    {
     "data": {
      "text/plain": [
       "19.714285714285715"
      ]
     },
     "execution_count": 9,
     "metadata": {},
     "output_type": "execute_result"
    }
   ],
   "source": [
    "138/7"
   ]
  },
  {
   "cell_type": "code",
   "execution_count": null,
   "metadata": {},
   "outputs": [],
   "source": []
  }
 ],
 "metadata": {
  "kernelspec": {
   "display_name": "Python 3",
   "language": "python",
   "name": "python3"
  },
  "language_info": {
   "codemirror_mode": {
    "name": "ipython",
    "version": 3
   },
   "file_extension": ".py",
   "mimetype": "text/x-python",
   "name": "python",
   "nbconvert_exporter": "python",
   "pygments_lexer": "ipython3",
   "version": "3.12.1"
  }
 },
 "nbformat": 4,
 "nbformat_minor": 2
}
