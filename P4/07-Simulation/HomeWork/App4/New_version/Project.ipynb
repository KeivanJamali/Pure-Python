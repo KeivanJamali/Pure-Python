{
 "cells": [
  {
   "cell_type": "code",
   "execution_count": 1,
   "id": "64e3df16",
   "metadata": {},
   "outputs": [],
   "source": [
    "%load_ext autoreload\n",
    "%autoreload 2"
   ]
  },
  {
   "cell_type": "code",
   "execution_count": 11,
   "id": "63d69fd1",
   "metadata": {},
   "outputs": [],
   "source": [
    "from modular.Individual_Engine import Queue_Network\n",
    "from modular.Number_Generator import Exponential_Generator"
   ]
  },
  {
   "cell_type": "code",
   "execution_count": 22,
   "id": "b7736ad0",
   "metadata": {},
   "outputs": [
    {
     "name": "stdout",
     "output_type": "stream",
     "text": [
      "[INFO] Customer limit reached. The simulation finished successfuly.\n",
      "\n",
      "--- Simulation Report ---\n",
      "Total customers arrived: 754\n",
      "Average wait time in queue: 0.60\n",
      "Average wait time in system: 0.93\n",
      "Average number in system: 1.9\n",
      "Simulation ended at time: 250.73 with 500 customer served.\n",
      "\n",
      "--- Simulation Report ---\n",
      "Total customers arrived: 754\n",
      "Average wait time in queue: 0.52\n",
      "Average wait time in system: 1.07\n",
      "Average number in system: 2.1\n",
      "Simulation ended at time: 250.73 with 500 customer served.\n"
     ]
    }
   ],
   "source": [
    "arrival_gen1 = Exponential_Generator(seed=42, mean=0.5)\n",
    "arrival_gen2 = Exponential_Generator(seed=42, mean=1)\n",
    "service_time_gen1 = Exponential_Generator(seed=42, mean=1/3)\n",
    "service_time_gen2 = Exponential_Generator(seed=42, mean=2/3)\n",
    "\n",
    "model = Queue_Network(arrival_gen1=arrival_gen1,\n",
    "                      arrival_gen2=arrival_gen2,\n",
    "                      service_time_gen1=service_time_gen1,\n",
    "                      service_time_gen2=service_time_gen2,\n",
    "                      sim_time_limit=1000,\n",
    "                      sim_customer_limit=1000,\n",
    "                      capacity1=1,\n",
    "                      capacity2=2)\n",
    "\n",
    "model.run(policy=\"fcfs\")"
   ]
  },
  {
   "cell_type": "code",
   "execution_count": null,
   "id": "d6ecc04d",
   "metadata": {},
   "outputs": [],
   "source": []
  }
 ],
 "metadata": {
  "kernelspec": {
   "display_name": "Python 3",
   "language": "python",
   "name": "python3"
  },
  "language_info": {
   "codemirror_mode": {
    "name": "ipython",
    "version": 3
   },
   "file_extension": ".py",
   "mimetype": "text/x-python",
   "name": "python",
   "nbconvert_exporter": "python",
   "pygments_lexer": "ipython3",
   "version": "3.11.5"
  }
 },
 "nbformat": 4,
 "nbformat_minor": 5
}
