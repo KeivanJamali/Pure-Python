{
 "cells": [
  {
   "cell_type": "code",
   "id": "initial_id",
   "metadata": {
    "collapsed": true,
    "ExecuteTime": {
     "end_time": "2024-04-06T10:53:35.012714Z",
     "start_time": "2024-04-06T10:53:34.433755Z"
    }
   },
   "source": [
    "%load_ext autoreload\n",
    "%autoreload 2\n",
    "from Simplex import Simplex, Constraint\n",
    "import numpy as np"
   ],
   "outputs": [],
   "execution_count": 1
  },
  {
   "cell_type": "code",
   "source": [
    "objective_function = [6., 5., 4., 0.]\n",
    "constraints_function = Constraint([[2., 1., 1., 240.],\n",
    "                                   [1., 3., 2., 360.],\n",
    "                                   [2., 1., 2., 300.]],\n",
    "                                  [\"ineq\", \"ineq\", \"ineq\"])\n",
    "parameters = [\"x1\", \"x2\", \"x3\"]\n",
    "model = Simplex(objective_function, parameters=parameters)\n",
    "model.fit(constraints_function)\n",
    "print()\n",
    "model.make_table(format_=\"github\")"
   ],
   "metadata": {
    "collapsed": false,
    "ExecuteTime": {
     "start_time": "2024-04-06T10:53:12.973844Z"
    }
   },
   "id": "a5928b751595bd9c",
   "outputs": [
    {
     "name": "stdout",
     "output_type": "stream",
     "text": [
      "[INFO] One phase solution\n"
     ]
    }
   ],
   "execution_count": null
  },
  {
   "cell_type": "code",
   "source": [
    "objective_function = [0., 90., 160., 40., 100., 120.]\n",
    "constraints_function = Constraint([[480., 2., 8., 4., 2., 2.],\n",
    "                                   [800., 5., 4., 8., 5., 3.],\n",
    "                                   [900., 7., 8., 3., 5., 20.]],\n",
    "                                  [\"ineq\", \"ineq\", \"ineq\"])\n",
    "parameters = [\"x1\", \"x2\", \"x3\", \"x4\", \"x5\"]\n",
    "\n",
    "model = Simplex(objective_function, parameters=parameters)\n",
    "model.fit(constraints_function)\n",
    "print()\n",
    "model.make_table(format_=\"github\")"
   ],
   "metadata": {
    "collapsed": false,
    "jupyter": {
     "is_executing": true
    },
    "ExecuteTime": {
     "start_time": "2024-04-06T10:53:35.705138Z"
    }
   },
   "id": "cf1ca8a5650e0ab5",
   "outputs": [
    {
     "name": "stdout",
     "output_type": "stream",
     "text": [
      "[INFO] One phase solution\n"
     ]
    }
   ],
   "execution_count": null
  },
  {
   "cell_type": "code",
   "outputs": [
    {
     "name": "stdout",
     "output_type": "stream",
     "text": [
      "[INFO] Two phase solution\n",
      "[INFO] Phase I\n",
      "[INFO] Phase II Starts.\n",
      "done!\n",
      "|    |   Current Values |   x1 |   x2 |   x3 |   s1 |   e1 |\n",
      "|----|------------------|------|------|------|------|------|\n",
      "|  0 |             11.0 |  4.0 |  1.0 |  2.0 |  0.0 |  0.0 |\n",
      "\n",
      "| Basic Variables   |   Current Values |   x1 |   x2 |   x3 |   s1 |   e1 |   y1 |   y2 |\n",
      "|-------------------|------------------|------|------|------|------|------|------|------|\n",
      "| s1                |              9.0 |  2.0 |  3.0 | -1.0 |  1.0 |  0.0 |  0.0 |  0.0 |\n",
      "| y1                |             -4.0 |  0.0 | -2.0 | -1.0 |  0.0 |  1.0 | -1.0 |  0.0 |\n",
      "| y2                |              6.0 |  1.0 |  0.0 |  1.0 |  0.0 |  0.0 |  0.0 |  1.0 |\n",
      "| -z1               |              0.0 |  2.0 |  1.0 |  1.0 |  0.0 |  0.0 |  0.0 |  0.0 |\n",
      "| -w1               |              0.0 |  0.0 |  0.0 |  0.0 |  0.0 |  0.0 | -1.0 | -1.0 |\n",
      "| s1                |              9.0 |  2.0 |  3.0 | -1.0 |  1.0 |  0.0 |  0.0 |  0.0 |\n",
      "| y1                |             -4.0 |  0.0 | -2.0 | -1.0 |  0.0 |  1.0 | -1.0 |  0.0 |\n",
      "| y2                |              6.0 |  1.0 |  0.0 |  1.0 |  0.0 |  0.0 |  0.0 |  1.0 |\n",
      "| -z2               |              0.0 |  2.0 |  1.0 |  1.0 |  0.0 |  0.0 |  0.0 |  0.0 |\n",
      "| -w2               |             10.0 |  1.0 |  2.0 |  2.0 |  0.0 | -1.0 |  0.0 |  0.0 |\n",
      "| s1                |              3.0 |  2.0 |  0.0 | -2.5 |  1.0 |  1.5 | -1.5 |  0.0 |\n",
      "| x2                |              2.0 | -0.0 |  1.0 |  0.5 | -0.0 | -0.5 |  0.5 | -0.0 |\n",
      "| y2                |              6.0 |  1.0 |  0.0 |  1.0 |  0.0 |  0.0 | -0.0 |  1.0 |\n",
      "| -z3               |             -2.0 |  2.0 |  0.0 |  0.5 |  0.0 |  0.5 | -0.5 |  0.0 |\n",
      "| -w3               |              6.0 |  1.0 |  0.0 |  1.0 |  0.0 |  0.0 | -1.0 |  0.0 |\n",
      "| x1                |              1.5 |  1.0 |  0.0 | -1.2 |  0.5 |  0.8 | -0.8 |  0.0 |\n",
      "| x2                |              2.0 |  0.0 |  1.0 |  0.5 | -0.0 | -0.5 |  0.5 | -0.0 |\n",
      "| y2                |              4.5 |  0.0 |  0.0 |  2.2 | -0.5 | -0.7 |  0.7 |  1.0 |\n",
      "| -z4               |             -5.0 |  0.0 |  0.0 |  3.0 | -1.0 | -1.0 |  1.0 |  0.0 |\n",
      "| -w4               |              4.5 |  0.0 |  0.0 |  2.2 | -0.5 | -0.8 | -0.2 |  0.0 |\n",
      "| x1                |              4.0 |  1.0 |  0.0 |  0.0 |  0.2 |  0.3 | -0.3 |  0.6 |\n",
      "| x2                |              1.0 |  0.0 |  1.0 |  0.0 |  0.1 | -0.3 |  0.3 | -0.2 |\n",
      "| x3                |              2.0 |  0.0 |  0.0 |  1.0 | -0.2 | -0.3 |  0.3 |  0.4 |\n",
      "| -z5               |            -11.0 |  0.0 |  0.0 |  0.0 | -0.3 | -0.0 |  0.0 | -1.3 |\n",
      "| -w5               |              0.0 |  0.0 |  0.0 |  0.0 |  0.0 | -0.0 | -1.0 | -1.0 |\n",
      "| x1                |              4.0 |  1.0 |  0.0 |  0.0 |  0.2 |  0.3 |  nan |  nan |\n",
      "| x2                |              1.0 |  0.0 |  1.0 |  0.0 |  0.1 | -0.3 |  nan |  nan |\n",
      "| x3                |              2.0 |  0.0 |  0.0 |  1.0 | -0.2 | -0.3 |  nan |  nan |\n",
      "| -z6               |            -11.0 |  0.0 |  0.0 |  0.0 | -0.3 | -0.0 |  nan |  nan |\n"
     ]
    }
   ],
   "source": [
    "objective_function = [0., 2., 1., 1.]\n",
    "constraints_function = Constraint([[9., 2., 3., -1.],\n",
    "                                   [-4., 0., -2., -1.],\n",
    "                                   [6., 1., 0., 1.]],\n",
    "                                  [\"ineq\", \"ineq\", \"eq\"])\n",
    "parameters = [\"x1\", \"x2\", \"x3\"]\n",
    "\n",
    "model = Simplex(objective_function, parameters=parameters)\n",
    "model.fit(constraints_function)\n",
    "print()\n",
    "model.make_table(format_=\"github\")"
   ],
   "metadata": {
    "collapsed": false,
    "ExecuteTime": {
     "end_time": "2024-04-02T10:08:14.444256Z",
     "start_time": "2024-04-02T10:08:14.370877Z"
    }
   },
   "id": "b80c08b3af177fe9",
   "execution_count": 264
  },
  {
   "cell_type": "code",
   "outputs": [
    {
     "name": "stdout",
     "output_type": "stream",
     "text": [
      "[INFO] Two phase solution\n",
      "[INFO] Phase I\n",
      "[INFO] Phase II Starts.\n",
      "done!\n",
      "|    |   Current Values |   x1 |   x2 |   x3 |   s1 |\n",
      "|----|------------------|------|------|------|------|\n",
      "|  0 |             42.0 |  0.0 |  2.0 |  4.0 |  0.0 |\n",
      "\n",
      "| Basic Variables   |   Current Values |   x1 |   x2 |   x3 |   y1 |   s1 |\n",
      "|-------------------|------------------|------|------|------|------|------|\n",
      "| y1                |             10.0 |  1.0 | -1.0 |  3.0 |  1.0 |  0.0 |\n",
      "| s1                |              6.0 |  0.0 |  1.0 |  1.0 |  0.0 |  1.0 |\n",
      "| -z1               |              0.0 |  2.0 |  1.0 | 10.0 |  0.0 |  0.0 |\n",
      "| -w1               |              0.0 |  0.0 |  0.0 |  0.0 | -1.0 |  0.0 |\n",
      "| y1                |             10.0 |  1.0 | -1.0 |  3.0 |  1.0 |  0.0 |\n",
      "| s1                |              6.0 |  0.0 |  1.0 |  1.0 |  0.0 |  1.0 |\n",
      "| -z2               |              0.0 |  2.0 |  1.0 | 10.0 |  0.0 |  0.0 |\n",
      "| -w2               |             10.0 |  1.0 | -1.0 |  3.0 |  0.0 |  0.0 |\n",
      "| x3                |              3.3 |  0.3 | -0.3 |  1.0 |  0.3 |  0.0 |\n",
      "| s1                |              2.7 | -0.3 |  1.3 |  0.0 | -0.3 |  1.0 |\n",
      "| -z3               |            -33.3 | -1.3 |  4.3 |  0.0 | -3.3 |  0.0 |\n",
      "| -w3               |              0.0 |  0.0 |  0.0 |  0.0 | -1.0 |  0.0 |\n",
      "| x3                |              3.3 |  0.3 | -0.3 |  1.0 |  nan |  0.0 |\n",
      "| s1                |              2.7 | -0.3 |  1.3 |  0.0 |  nan |  1.0 |\n",
      "| -z4               |            -33.3 | -1.3 |  4.3 |  0.0 |  nan |  0.0 |\n",
      "| x3                |              4.0 |  0.2 |  0.0 |  1.0 |  nan |  0.2 |\n",
      "| x2                |              2.0 | -0.2 |  1.0 |  0.0 |  nan |  0.8 |\n",
      "| -z5               |            -42.0 | -0.2 |  0.0 |  0.0 |  nan | -3.2 |\n"
     ]
    }
   ],
   "source": [
    "objective_function = [0., 2., 1., 10.]\n",
    "constraints_function = Constraint([[10., 1., -1., 3.],\n",
    "                                   [6., 0., 1., 1.]],\n",
    "                                  [\"eq\", \"ineq\"])\n",
    "parameters = [\"x1\", \"x2\", \"x3\"]\n",
    "\n",
    "model = Simplex(objective_function, parameters=parameters)\n",
    "model.fit(constraints_function)\n",
    "print()\n",
    "model.make_table(format_=\"github\")"
   ],
   "metadata": {
    "collapsed": false,
    "ExecuteTime": {
     "end_time": "2024-04-02T10:37:55.545372Z",
     "start_time": "2024-04-02T10:37:55.476935Z"
    }
   },
   "id": "64ef7d7bbe79990",
   "execution_count": 296
  },
  {
   "cell_type": "code",
   "outputs": [
    {
     "data": {
      "text/plain": "(array([-10.,   2.]), array([inf,  2.]), 2)"
     },
     "execution_count": 297,
     "metadata": {},
     "output_type": "execute_result"
    }
   ],
   "source": [
    "model.test, model.test2, model.test3"
   ],
   "metadata": {
    "collapsed": false,
    "ExecuteTime": {
     "end_time": "2024-04-02T10:37:57.649602Z",
     "start_time": "2024-04-02T10:37:57.586514Z"
    }
   },
   "id": "6456cfacfb0af25b",
   "execution_count": 297
  },
  {
   "cell_type": "code",
   "outputs": [
    {
     "data": {
      "text/plain": "3935"
     },
     "execution_count": 285,
     "metadata": {},
     "output_type": "execute_result"
    }
   ],
   "source": [
    "model.iteration"
   ],
   "metadata": {
    "collapsed": false,
    "ExecuteTime": {
     "end_time": "2024-04-02T10:22:27.938497Z",
     "start_time": "2024-04-02T10:22:27.880574Z"
    }
   },
   "id": "c06141372186abdc",
   "execution_count": 285
  },
  {
   "cell_type": "code",
   "outputs": [
    {
     "data": {
      "text/plain": "                 Current Values        x1        x2    x3        y1    s1\nBasic Variables                                                          \ny1                    10.000000  1.000000 -1.000000   3.0  1.000000  0.00\ns1                     6.000000  0.000000  1.000000   1.0  0.000000  1.00\n-z1                    0.000000  2.000000  1.000000  10.0  0.000000  0.00\n-w1                    0.000000  0.000000  0.000000   0.0 -1.000000  0.00\ny1                    10.000000  1.000000 -1.000000   3.0  1.000000  0.00\ns1                     6.000000  0.000000  1.000000   1.0  0.000000  1.00\n-z2                    0.000000  2.000000  1.000000  10.0  0.000000  0.00\n-w2                   10.000000  1.000000 -1.000000   3.0  0.000000  0.00\nx3                     3.333333  0.333333 -0.333333   1.0  0.333333  0.00\ns1                     2.666667 -0.333333  1.333333   0.0 -0.333333  1.00\n-z3                  -33.333333 -1.333333  4.333333   0.0 -3.333333  0.00\n-w3                    0.000000  0.000000  0.000000   0.0 -1.000000  0.00\nx3                     3.333333  0.333333 -0.333333   1.0       NaN  0.00\ns1                     2.666667 -0.333333  1.333333   0.0       NaN  1.00\n-z4                  -33.333333 -1.333333  4.333333   0.0       NaN  0.00\nx3                     4.000000  0.250000  0.000000   1.0       NaN  0.25\nx2                     2.000000 -0.250000  1.000000   0.0       NaN  0.75\n-z5                  -42.000000 -0.250000  0.000000   0.0       NaN -3.25",
      "text/html": "<div>\n<style scoped>\n    .dataframe tbody tr th:only-of-type {\n        vertical-align: middle;\n    }\n\n    .dataframe tbody tr th {\n        vertical-align: top;\n    }\n\n    .dataframe thead th {\n        text-align: right;\n    }\n</style>\n<table border=\"1\" class=\"dataframe\">\n  <thead>\n    <tr style=\"text-align: right;\">\n      <th></th>\n      <th>Current Values</th>\n      <th>x1</th>\n      <th>x2</th>\n      <th>x3</th>\n      <th>y1</th>\n      <th>s1</th>\n    </tr>\n    <tr>\n      <th>Basic Variables</th>\n      <th></th>\n      <th></th>\n      <th></th>\n      <th></th>\n      <th></th>\n      <th></th>\n    </tr>\n  </thead>\n  <tbody>\n    <tr>\n      <th>y1</th>\n      <td>10.000000</td>\n      <td>1.000000</td>\n      <td>-1.000000</td>\n      <td>3.0</td>\n      <td>1.000000</td>\n      <td>0.00</td>\n    </tr>\n    <tr>\n      <th>s1</th>\n      <td>6.000000</td>\n      <td>0.000000</td>\n      <td>1.000000</td>\n      <td>1.0</td>\n      <td>0.000000</td>\n      <td>1.00</td>\n    </tr>\n    <tr>\n      <th>-z1</th>\n      <td>0.000000</td>\n      <td>2.000000</td>\n      <td>1.000000</td>\n      <td>10.0</td>\n      <td>0.000000</td>\n      <td>0.00</td>\n    </tr>\n    <tr>\n      <th>-w1</th>\n      <td>0.000000</td>\n      <td>0.000000</td>\n      <td>0.000000</td>\n      <td>0.0</td>\n      <td>-1.000000</td>\n      <td>0.00</td>\n    </tr>\n    <tr>\n      <th>y1</th>\n      <td>10.000000</td>\n      <td>1.000000</td>\n      <td>-1.000000</td>\n      <td>3.0</td>\n      <td>1.000000</td>\n      <td>0.00</td>\n    </tr>\n    <tr>\n      <th>s1</th>\n      <td>6.000000</td>\n      <td>0.000000</td>\n      <td>1.000000</td>\n      <td>1.0</td>\n      <td>0.000000</td>\n      <td>1.00</td>\n    </tr>\n    <tr>\n      <th>-z2</th>\n      <td>0.000000</td>\n      <td>2.000000</td>\n      <td>1.000000</td>\n      <td>10.0</td>\n      <td>0.000000</td>\n      <td>0.00</td>\n    </tr>\n    <tr>\n      <th>-w2</th>\n      <td>10.000000</td>\n      <td>1.000000</td>\n      <td>-1.000000</td>\n      <td>3.0</td>\n      <td>0.000000</td>\n      <td>0.00</td>\n    </tr>\n    <tr>\n      <th>x3</th>\n      <td>3.333333</td>\n      <td>0.333333</td>\n      <td>-0.333333</td>\n      <td>1.0</td>\n      <td>0.333333</td>\n      <td>0.00</td>\n    </tr>\n    <tr>\n      <th>s1</th>\n      <td>2.666667</td>\n      <td>-0.333333</td>\n      <td>1.333333</td>\n      <td>0.0</td>\n      <td>-0.333333</td>\n      <td>1.00</td>\n    </tr>\n    <tr>\n      <th>-z3</th>\n      <td>-33.333333</td>\n      <td>-1.333333</td>\n      <td>4.333333</td>\n      <td>0.0</td>\n      <td>-3.333333</td>\n      <td>0.00</td>\n    </tr>\n    <tr>\n      <th>-w3</th>\n      <td>0.000000</td>\n      <td>0.000000</td>\n      <td>0.000000</td>\n      <td>0.0</td>\n      <td>-1.000000</td>\n      <td>0.00</td>\n    </tr>\n    <tr>\n      <th>x3</th>\n      <td>3.333333</td>\n      <td>0.333333</td>\n      <td>-0.333333</td>\n      <td>1.0</td>\n      <td>NaN</td>\n      <td>0.00</td>\n    </tr>\n    <tr>\n      <th>s1</th>\n      <td>2.666667</td>\n      <td>-0.333333</td>\n      <td>1.333333</td>\n      <td>0.0</td>\n      <td>NaN</td>\n      <td>1.00</td>\n    </tr>\n    <tr>\n      <th>-z4</th>\n      <td>-33.333333</td>\n      <td>-1.333333</td>\n      <td>4.333333</td>\n      <td>0.0</td>\n      <td>NaN</td>\n      <td>0.00</td>\n    </tr>\n    <tr>\n      <th>x3</th>\n      <td>4.000000</td>\n      <td>0.250000</td>\n      <td>0.000000</td>\n      <td>1.0</td>\n      <td>NaN</td>\n      <td>0.25</td>\n    </tr>\n    <tr>\n      <th>x2</th>\n      <td>2.000000</td>\n      <td>-0.250000</td>\n      <td>1.000000</td>\n      <td>0.0</td>\n      <td>NaN</td>\n      <td>0.75</td>\n    </tr>\n    <tr>\n      <th>-z5</th>\n      <td>-42.000000</td>\n      <td>-0.250000</td>\n      <td>0.000000</td>\n      <td>0.0</td>\n      <td>NaN</td>\n      <td>-3.25</td>\n    </tr>\n  </tbody>\n</table>\n</div>"
     },
     "execution_count": 298,
     "metadata": {},
     "output_type": "execute_result"
    }
   ],
   "source": [
    "model.data"
   ],
   "metadata": {
    "collapsed": false,
    "ExecuteTime": {
     "end_time": "2024-04-02T10:38:05.619622Z",
     "start_time": "2024-04-02T10:38:05.554394Z"
    }
   },
   "id": "609882698c70eeb3",
   "execution_count": 298
  },
  {
   "cell_type": "code",
   "outputs": [],
   "source": "a = np.array([1, 2, 3, 4, 5])",
   "metadata": {
    "collapsed": false,
    "ExecuteTime": {
     "end_time": "2024-04-02T10:24:57.357704Z",
     "start_time": "2024-04-02T10:24:57.291291Z"
    }
   },
   "id": "3cd2d967412c1374",
   "execution_count": 289
  },
  {
   "cell_type": "code",
   "outputs": [
    {
     "data": {
      "text/plain": "(1, 0)"
     },
     "execution_count": 294,
     "metadata": {},
     "output_type": "execute_result"
    }
   ],
   "source": "a[1:].argmin() + 1, a.argmin()",
   "metadata": {
    "collapsed": false,
    "ExecuteTime": {
     "end_time": "2024-04-02T10:25:26.570812Z",
     "start_time": "2024-04-02T10:25:26.504645Z"
    }
   },
   "id": "4ce658213892f3cf",
   "execution_count": 294
  },
  {
   "cell_type": "code",
   "outputs": [],
   "source": [],
   "metadata": {
    "collapsed": false
   },
   "id": "ac0b1634ab764e6a",
   "execution_count": null
  }
 ],
 "metadata": {
  "kernelspec": {
   "display_name": "Python 3",
   "language": "python",
   "name": "python3"
  },
  "language_info": {
   "codemirror_mode": {
    "name": "ipython",
    "version": 2
   },
   "file_extension": ".py",
   "mimetype": "text/x-python",
   "name": "python",
   "nbconvert_exporter": "python",
   "pygments_lexer": "ipython2",
   "version": "2.7.6"
  }
 },
 "nbformat": 4,
 "nbformat_minor": 5
}
