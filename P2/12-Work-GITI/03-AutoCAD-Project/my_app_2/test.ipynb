{
 "cells": [
  {
   "cell_type": "code",
   "execution_count": 12,
   "metadata": {},
   "outputs": [],
   "source": [
    "%load_ext autoreload\n",
    "%autoreload 2\n",
    "from modular.template_extractor_V3 import Extract_template\n",
    "from modular.Calculations import Calculate\n",
    "from modular.implement_numbers import implementing_in_code\n",
    "import os"
   ]
  },
  {
   "cell_type": "code",
   "execution_count": 13,
   "metadata": {},
   "outputs": [
    {
     "name": "stderr",
     "output_type": "stream",
     "text": [
      "100%|██████████| 2091/2091 [00:09<00:00, 223.36it/s]\n"
     ]
    },
    {
     "name": "stdout",
     "output_type": "stream",
     "text": [
      "Code generation complete. The code has been saved to n1-bridge.py.\n"
     ]
    }
   ],
   "source": [
    "dwg = r\"D:\\All Python\\Pure-Python\\P2\\12-Work-GITI\\03-AutoCAD-Project\\input_files\\1_bridge.dwg\"\n",
    "file = r\"D:\\All Python\\Pure-Python\\P2\\12-Work-GITI\\03-AutoCAD-Project\\input_files\\input_form.csv\"\n",
    "output_dir = r\"D:\\All Python\\Pure-Python\\P2\\12-Work-GITI\\03-AutoCAD-Project\\results\"\n",
    "\n",
    "exctractor = Extract_template(file_name=dwg, time_load=10)\n",
    "output_file_dwg = os.path.join(output_dir, \"bridge.dwg\")\n",
    "exctractor.generate(output_file_dir=output_dir, output_file_dwg=output_file_dwg, want_time_line=True)"
   ]
  },
  {
   "cell_type": "code",
   "execution_count": 34,
   "metadata": {},
   "outputs": [
    {
     "name": "stdout",
     "output_type": "stream",
     "text": [
      "[INFO] All input data were read successfuly.\n",
      "[INFO] Successfuly applied parameters in the for directions.\n",
      "[INFO] Successfuly applied information in the for footer.\n",
      "[INFO] Successfuly find parameters in the table 1.\n",
      "[INFO] Successfuly find parameters in the table 1.\n",
      "[Wrong] There is no such n=1 and D=2.0 with H=2.2 and Hs=0.25 in the table.\n",
      "[INFO] You can change the Hs or you can change the D and try again.\n"
     ]
    },
    {
     "name": "stderr",
     "output_type": "stream",
     "text": [
      "d:\\All Python\\Pure-Python\\P2\\12-Work-GITI\\03-AutoCAD-Project\\my_app_2\\modular\\Calculations.py:103: FutureWarning: Series.__getitem__ treating keys as positions is deprecated. In a future version, integer keys will always be treated as labels (consistent with DataFrame behavior). To access a value by position, use `ser.iloc[pos]`\n",
      "  print(f\"[Wrong] There is no such n={self.n} and D={self.D} with H={self.H} and Hs={Hs} in the table.\\n[INFO] You can change the Hs or you can change the D and try again.\")\n",
      "d:\\All Python\\Pure-Python\\P2\\12-Work-GITI\\03-AutoCAD-Project\\my_app_2\\modular\\Calculations.py:103: FutureWarning: Series.__getitem__ treating keys as positions is deprecated. In a future version, integer keys will always be treated as labels (consistent with DataFrame behavior). To access a value by position, use `ser.iloc[pos]`\n",
      "  print(f\"[Wrong] There is no such n={self.n} and D={self.D} with H={self.H} and Hs={Hs} in the table.\\n[INFO] You can change the Hs or you can change the D and try again.\")\n",
      "d:\\All Python\\Pure-Python\\P2\\12-Work-GITI\\03-AutoCAD-Project\\my_app_2\\modular\\Calculations.py:103: FutureWarning: Series.__getitem__ treating keys as positions is deprecated. In a future version, integer keys will always be treated as labels (consistent with DataFrame behavior). To access a value by position, use `ser.iloc[pos]`\n",
      "  print(f\"[Wrong] There is no such n={self.n} and D={self.D} with H={self.H} and Hs={Hs} in the table.\\n[INFO] You can change the Hs or you can change the D and try again.\")\n"
     ]
    }
   ],
   "source": [
    "calculator = Calculate(file)\n",
    "# calculator.massage1\n",
    "m1, m2, m3 = calculator.massage1, calculator.massage2, calculator.massage3"
   ]
  },
  {
   "cell_type": "code",
   "execution_count": 29,
   "metadata": {},
   "outputs": [],
   "source": [
    "calculator.massage1"
   ]
  },
  {
   "cell_type": "code",
   "execution_count": 26,
   "metadata": {},
   "outputs": [
    {
     "name": "stdout",
     "output_type": "stream",
     "text": [
      "asb\n"
     ]
    },
    {
     "data": {
      "text/plain": [
       "'asb'"
      ]
     },
     "execution_count": 26,
     "metadata": {},
     "output_type": "execute_result"
    }
   ],
   "source": [
    "calculator.apply_table1(d=\"asb\")"
   ]
  },
  {
   "cell_type": "code",
   "execution_count": 9,
   "metadata": {},
   "outputs": [],
   "source": [
    "# file2 = os.path.join(self.output_dir, \"template_bridge.py\")\n",
    "# impl = implementing_in_code(data=calculator.data, file_dir=file2, progress_callback=self.report_progress)\n",
    "# temp_file = impl.replace_text_in_file()"
   ]
  }
 ],
 "metadata": {
  "kernelspec": {
   "display_name": "Python 3",
   "language": "python",
   "name": "python3"
  },
  "language_info": {
   "codemirror_mode": {
    "name": "ipython",
    "version": 3
   },
   "file_extension": ".py",
   "mimetype": "text/x-python",
   "name": "python",
   "nbconvert_exporter": "python",
   "pygments_lexer": "ipython3",
   "version": "3.12.4"
  }
 },
 "nbformat": 4,
 "nbformat_minor": 2
}
