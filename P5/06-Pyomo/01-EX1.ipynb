{
 "cells": [
  {
   "cell_type": "markdown",
   "id": "4b5ec0e1",
   "metadata": {},
   "source": [
    "## Conctere Model\n",
    "- $min \\ 2x_1 + 3x_2$\n",
    "- S.T.\n",
    "    - $3x_1 + 4x_2 \\geq 1$\n",
    "    - $x_1, x_2 \\geq 0$"
   ]
  },
  {
   "cell_type": "code",
   "execution_count": 1,
   "id": "95d2f24e",
   "metadata": {},
   "outputs": [],
   "source": [
    "import pyomo.environ as pyo\n",
    "\n",
    "model = pyo.ConcreteModel()\n",
    "model.x = pyo.Var([1, 2], domain=pyo.NonNegativeReals)\n",
    "model.OBJ = pyo.Objective(expr=2*model.x[1] + 3*model.x[2])\n",
    "model.Constraint1 = pyo.Constraint(expr=3*model.x[1] + 4*model.x[2] >= 1)"
   ]
  },
  {
   "cell_type": "code",
   "execution_count": 4,
   "id": "7e2dc7e8",
   "metadata": {},
   "outputs": [
    {
     "name": "stdout",
     "output_type": "stream",
     "text": [
      "1 Var Declarations\n",
      "    x : Size=2, Index={1, 2}\n",
      "        Key : Lower : Value : Upper : Fixed : Stale : Domain\n",
      "          1 :     0 :  None :  None : False :  True : NonNegativeReals\n",
      "          2 :     0 :  None :  None : False :  True : NonNegativeReals\n",
      "\n",
      "1 Objective Declarations\n",
      "    OBJ : Size=1, Index=None, Active=True\n",
      "        Key  : Active : Sense    : Expression\n",
      "        None :   True : minimize : 2*x[1] + 3*x[2]\n",
      "\n",
      "1 Constraint Declarations\n",
      "    Constraint1 : Size=1, Index=None, Active=True\n",
      "        Key  : Lower : Body            : Upper : Active\n",
      "        None :   1.0 : 3*x[1] + 4*x[2] :  +Inf :   True\n",
      "\n",
      "3 Declarations: x OBJ Constraint1\n"
     ]
    }
   ],
   "source": [
    "model.pprint()"
   ]
  },
  {
   "cell_type": "markdown",
   "id": "fc39e9f3",
   "metadata": {},
   "source": [
    "## Abstract Model\n",
    "- $min \\ \\sum_{j=1}^n \\ c_jx_j$\n",
    "- S.T.\n",
    "    - $\\sum_{j=1}^n a_ijx_j \\geq b_i$ for $i = 1...m$\n",
    "    - $x_j \\geq 0$ for $j = 1...n$"
   ]
  },
  {
   "cell_type": "code",
   "execution_count": 1,
   "id": "dec5874a",
   "metadata": {},
   "outputs": [],
   "source": [
    "import pyomo.environ as pyo\n",
    "\n",
    "model = pyo.AbstractModel()\n",
    "\n",
    "model.m = pyo.Param(within=pyo.NonNegativeIntegers)\n",
    "model.n = pyo.Param(within=pyo.NonNegativeIntegers)\n",
    "\n",
    "model.I = pyo.RangeSet(1, model.m)\n",
    "model.J = pyo.RangeSet(1, model.n)\n",
    "\n",
    "model.a = pyo.Param(model.I, model.J)\n",
    "model.b = pyo.Param(model.I)\n",
    "model.c = pyo.Param(model.J)\n",
    "\n",
    "# The next line decclares a variable indexed by the set J\n",
    "model.x = pyo.Var(model.J, domain=pyo.NonNegativeReals)\n",
    "\n",
    "def obj_expression(m):\n",
    "    return pyo.summation(m.c, m.x)\n",
    "\n",
    "model.OBJ = pyo.Objective(rule=obj_expression)\n",
    "\n",
    "def ax_constraint_rule(m, i):\n",
    "    # return the expression for the constaint for i\n",
    "    return sum(m.a[i,j] * m.x[j] for j in m.J) >= m.b[i]\n",
    "\n",
    "# The next line creates one constraint for each member of the set model.I\n",
    "model.AxbConstraint = pyo.Constraint(model.I, rule=ax_constraint_rule)"
   ]
  },
  {
   "cell_type": "code",
   "execution_count": null,
   "id": "d7268f82",
   "metadata": {},
   "outputs": [],
   "source": []
  }
 ],
 "metadata": {
  "kernelspec": {
   "display_name": "simulation-python",
   "language": "python",
   "name": "python3"
  },
  "language_info": {
   "codemirror_mode": {
    "name": "ipython",
    "version": 3
   },
   "file_extension": ".py",
   "mimetype": "text/x-python",
   "name": "python",
   "nbconvert_exporter": "python",
   "pygments_lexer": "ipython3",
   "version": "3.13.5"
  }
 },
 "nbformat": 4,
 "nbformat_minor": 5
}
