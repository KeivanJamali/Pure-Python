{
 "cells": [
  {
   "cell_type": "code",
   "execution_count": 1,
   "id": "bee6d0b5",
   "metadata": {},
   "outputs": [],
   "source": [
    "%load_ext autoreload\n",
    "%autoreload 2"
   ]
  },
  {
   "cell_type": "code",
   "execution_count": 3,
   "id": "ee7c181f",
   "metadata": {},
   "outputs": [],
   "source": [
    "from codes import *"
   ]
  },
  {
   "cell_type": "code",
   "execution_count": 9,
   "id": "70e4009e",
   "metadata": {},
   "outputs": [
    {
     "data": {
      "text/plain": [
       "15485867"
      ]
     },
     "execution_count": 9,
     "metadata": {},
     "output_type": "execute_result"
    }
   ],
   "source": [
    "primes = prime_provider(50_000_000)\n",
    "primes[1_000_000]"
   ]
  },
  {
   "cell_type": "code",
   "execution_count": 5,
   "id": "5b509589",
   "metadata": {},
   "outputs": [
    {
     "data": {
      "text/plain": [
       "15485867"
      ]
     },
     "execution_count": 5,
     "metadata": {},
     "output_type": "execute_result"
    }
   ],
   "source": [
    "\n",
    "import math\n",
    "\n",
    "def atkin_sieve(limit: int) -> list:\n",
    "    if limit < 2:\n",
    "        return []\n",
    "\n",
    "    sieve = [False] * (limit + 1)\n",
    "    sqrt_limit = int(math.sqrt(limit)) + 1\n",
    "\n",
    "    for x in range(1, sqrt_limit):\n",
    "        for y in range(1, sqrt_limit):\n",
    "            n = 4 * x ** 2 + y ** 2\n",
    "            if n <= limit and n % 12 in (1, 5):\n",
    "                sieve[n] ^= True\n",
    "\n",
    "            n = 3 * x ** 2 + y ** 2\n",
    "            if n <= limit and n % 12 == 7:\n",
    "                sieve[n] ^= True\n",
    "\n",
    "            if x > y:\n",
    "                n = 3 * x ** 2 - y ** 2\n",
    "                if n <= limit and n % 12 == 11:\n",
    "                    sieve[n] ^= True\n",
    "\n",
    "    for i in range(5, sqrt_limit):\n",
    "        if sieve[i]:\n",
    "            for j in range(i * i, limit + 1, i * i):\n",
    "                sieve[j] = False\n",
    "\n",
    "    # 2 and 3 are known primes\n",
    "    primes = [2, 3] + [i for i in range(5, limit + 1) if sieve[i]]\n",
    "    return primes\n",
    "primes = atkin_sieve(50_000_000)\n",
    "primes[1_000_000]\n"
   ]
  },
  {
   "cell_type": "code",
   "execution_count": 9,
   "id": "5a990898",
   "metadata": {},
   "outputs": [
    {
     "data": {
      "text/plain": [
       "15485863"
      ]
     },
     "execution_count": 9,
     "metadata": {},
     "output_type": "execute_result"
    }
   ],
   "source": [
    "primes = provide_pimes2(1_000_000)\n",
    "primes"
   ]
  },
  {
   "cell_type": "code",
   "execution_count": null,
   "id": "53de56a8",
   "metadata": {},
   "outputs": [],
   "source": []
  }
 ],
 "metadata": {
  "kernelspec": {
   "display_name": "Python 3",
   "language": "python",
   "name": "python3"
  },
  "language_info": {
   "codemirror_mode": {
    "name": "ipython",
    "version": 3
   },
   "file_extension": ".py",
   "mimetype": "text/x-python",
   "name": "python",
   "nbconvert_exporter": "python",
   "pygments_lexer": "ipython3",
   "version": "3.13.5"
  }
 },
 "nbformat": 4,
 "nbformat_minor": 5
}
