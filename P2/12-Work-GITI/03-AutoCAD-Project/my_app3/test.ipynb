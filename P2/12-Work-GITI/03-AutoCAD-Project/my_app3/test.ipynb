{
 "cells": [
  {
   "cell_type": "code",
   "execution_count": 4,
   "metadata": {},
   "outputs": [
    {
     "name": "stdout",
     "output_type": "stream",
     "text": [
      "The autoreload extension is already loaded. To reload it, use:\n",
      "  %reload_ext autoreload\n"
     ]
    }
   ],
   "source": [
    "%load_ext autoreload\n",
    "%autoreload 2\n",
    "from modular.template_extractor_V3 import Extract_template\n",
    "from modular.Calculations import Calculate\n",
    "from modular.implement_numbers import implementing_in_code\n",
    "import os"
   ]
  },
  {
   "cell_type": "code",
   "execution_count": 9,
   "metadata": {},
   "outputs": [
    {
     "name": "stdout",
     "output_type": "stream",
     "text": [
      "[INFO] AutoCad oppened properly. ---template_extractor_V3 - line 31---\n",
      "[INFO] Code generation complete. The code has been saved to template_culvert.py. ---template_extractor_V3 - Done---\n"
     ]
    }
   ],
   "source": [
    "dwg = r\"D:\\All Python\\Pure-Python\\P2\\12-Work-GITI\\03-AutoCAD-Project\\input_files\\1_bridge.dwg\"\n",
    "file = r\"D:\\All Python\\Pure-Python\\P2\\12-Work-GITI\\03-AutoCAD-Project\\input_files\\input_form.csv\"\n",
    "output_dir = r\"D:\\All Python\\Pure-Python\\P2\\12-Work-GITI\\03-AutoCAD-Project\\results\"\n",
    "\n",
    "exctractor = Extract_template(file_name=dwg, time_load=10)\n",
    "output_file_dwg = os.path.join(output_dir, \"culvert-final.dwg\")\n",
    "culvert_dwg = os.path.join(output_dir, \"culvert.dwg\")\n",
    "exctractor.generate(save_to_file=output_dir, culvert_final_dwg=output_file_dwg, culvert_dwg=culvert_dwg)"
   ]
  },
  {
   "cell_type": "code",
   "execution_count": 12,
   "metadata": {},
   "outputs": [
    {
     "name": "stdout",
     "output_type": "stream",
     "text": [
      "[INFO] All input data were read successfuly.\n",
      "[INFO] Successfuly applied parameters in the for directions.\n",
      "[INFO] Successfuly applied information in the for footer.\n",
      "[INFO] Successfuly find parameters in the table 1.\n",
      "[INFO] We found the H=-0.11. Now let's check with 1.3.\n",
      "[INFO] Successful.\n",
      "[INFO] Successfuly applied parameters from the table 1.\n",
      "[INFO] Successfuly find parameters in the table 2.\n",
      "[INFO] Successfuly applied parameters from the table 2.\n",
      "[ERROR] Max H is incorrect. H = 0.12999999999999545. should be between 1 and 7.\n"
     ]
    },
    {
     "name": "stderr",
     "output_type": "stream",
     "text": [
      "d:\\All Python\\Pure-Python\\P2\\12-Work-GITI\\03-AutoCAD-Project\\my_app3\\modular\\Calculations.py:121: FutureWarning: Series.__getitem__ treating keys as positions is deprecated. In a future version, integer keys will always be treated as labels (consistent with DataFrame behavior). To access a value by position, use `ser.iloc[pos]`\n",
      "  if np.isnan(choice[0]):\n"
     ]
    },
    {
     "data": {
      "text/plain": [
       "'[ERROR] Max H is incorrect. H = 0.12999999999999545. should be between 1 and 7.'"
      ]
     },
     "execution_count": 12,
     "metadata": {},
     "output_type": "execute_result"
    }
   ],
   "source": [
    "calculator = Calculate(file)\n",
    "calculator.massage"
   ]
  },
  {
   "cell_type": "code",
   "execution_count": 29,
   "metadata": {},
   "outputs": [],
   "source": [
    "calculator.massage1"
   ]
  },
  {
   "cell_type": "code",
   "execution_count": 26,
   "metadata": {},
   "outputs": [
    {
     "name": "stdout",
     "output_type": "stream",
     "text": [
      "asb\n"
     ]
    },
    {
     "data": {
      "text/plain": [
       "'asb'"
      ]
     },
     "execution_count": 26,
     "metadata": {},
     "output_type": "execute_result"
    }
   ],
   "source": [
    "calculator.apply_table1(d=\"asb\")"
   ]
  },
  {
   "cell_type": "code",
   "execution_count": 9,
   "metadata": {},
   "outputs": [],
   "source": [
    "# file2 = os.path.join(self.output_dir, \"template_bridge.py\")\n",
    "# impl = implementing_in_code(data=calculator.data, file_dir=file2, progress_callback=self.report_progress)\n",
    "# temp_file = impl.replace_text_in_file()"
   ]
  },
  {
   "cell_type": "code",
   "execution_count": 1,
   "metadata": {},
   "outputs": [],
   "source": [
    "a = \"2*3\""
   ]
  },
  {
   "cell_type": "code",
   "execution_count": 2,
   "metadata": {},
   "outputs": [
    {
     "data": {
      "text/plain": [
       "['2', '3']"
      ]
     },
     "execution_count": 2,
     "metadata": {},
     "output_type": "execute_result"
    }
   ],
   "source": [
    "a.split(\"*\")"
   ]
  },
  {
   "cell_type": "code",
   "execution_count": 4,
   "metadata": {},
   "outputs": [
    {
     "ename": "ValueError",
     "evalue": "not enough values to unpack (expected 2, got 1)",
     "output_type": "error",
     "traceback": [
      "\u001b[1;31m---------------------------------------------------------------------------\u001b[0m",
      "\u001b[1;31mValueError\u001b[0m                                Traceback (most recent call last)",
      "Cell \u001b[1;32mIn[4], line 2\u001b[0m\n\u001b[0;32m      1\u001b[0m a \u001b[38;5;241m=\u001b[39m \u001b[38;5;124m\"\u001b[39m\u001b[38;5;124m23\u001b[39m\u001b[38;5;124m\"\u001b[39m\n\u001b[1;32m----> 2\u001b[0m b, c \u001b[38;5;241m=\u001b[39m a\u001b[38;5;241m.\u001b[39msplit(\u001b[38;5;124m\"\u001b[39m\u001b[38;5;124m*\u001b[39m\u001b[38;5;124m\"\u001b[39m)\n",
      "\u001b[1;31mValueError\u001b[0m: not enough values to unpack (expected 2, got 1)"
     ]
    }
   ],
   "source": [
    "a = \"23\"\n",
    "b, c = a.split(\"*\")"
   ]
  },
  {
   "cell_type": "code",
   "execution_count": null,
   "metadata": {},
   "outputs": [],
   "source": []
  }
 ],
 "metadata": {
  "kernelspec": {
   "display_name": "Python 3",
   "language": "python",
   "name": "python3"
  },
  "language_info": {
   "codemirror_mode": {
    "name": "ipython",
    "version": 3
   },
   "file_extension": ".py",
   "mimetype": "text/x-python",
   "name": "python",
   "nbconvert_exporter": "python",
   "pygments_lexer": "ipython3",
   "version": "3.12.2"
  }
 },
 "nbformat": 4,
 "nbformat_minor": 2
}
