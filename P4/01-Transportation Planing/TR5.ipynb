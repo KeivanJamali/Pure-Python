{
 "cells": [
  {
   "cell_type": "code",
   "execution_count": 1,
   "metadata": {},
   "outputs": [],
   "source": [
    "import sympy as sp"
   ]
  },
  {
   "cell_type": "code",
   "execution_count": 10,
   "metadata": {},
   "outputs": [
    {
     "data": {
      "text/latex": [
       "$\\displaystyle 0.945 a + 0.735 s + 0.091$"
      ],
      "text/plain": [
       "0.945*a + 0.735*s + 0.091"
      ]
     },
     "execution_count": 10,
     "metadata": {},
     "output_type": "execute_result"
    }
   ],
   "source": [
    "size, ao = sp.symbols(\"s, a\")\n",
    "o = 0.091 + 0.735 * size + 0.945 * ao\n",
    "o"
   ]
  },
  {
   "cell_type": "code",
   "execution_count": 7,
   "metadata": {},
   "outputs": [
    {
     "name": "stdout",
     "output_type": "stream",
     "text": [
      "answer is 19.82\n",
      "answer is 74.38\n",
      "answer is 21.73\n",
      "answer is 15.61\n",
      "answer is 127.81\n",
      "answer is 369.26\n",
      "answer is 25.26\n",
      "answer is 100.47\n",
      "answer is 661.39\n",
      "answer is 9.09\n",
      "answer is 67.59\n",
      "answer is 1520.59\n"
     ]
    }
   ],
   "source": [
    "households = [[24, 42, 8], [10, 51, 107], [11, 31, 158], [3, 17, 309]]\n",
    "answers = []\n",
    "for row in range(len(households)):\n",
    "    for col in range(len(households[row])):\n",
    "        answer = households[row][col] * o.subs(size, row+1).subs(ao, col)\n",
    "        answers.append(answer)\n",
    "        print(f\"answer is {answer:.2f}\")"
   ]
  },
  {
   "cell_type": "code",
   "execution_count": 11,
   "metadata": {},
   "outputs": [
    {
     "data": {
      "text/latex": [
       "$\\displaystyle 3012.996$"
      ],
      "text/plain": [
       "3012.99600000000"
      ]
     },
     "execution_count": 11,
     "metadata": {},
     "output_type": "execute_result"
    }
   ],
   "source": [
    "sum(answers)"
   ]
  },
  {
   "cell_type": "code",
   "execution_count": 1,
   "metadata": {},
   "outputs": [],
   "source": [
    "import sympy as sp"
   ]
  },
  {
   "cell_type": "code",
   "execution_count": 2,
   "metadata": {},
   "outputs": [
    {
     "data": {
      "text/latex": [
       "$\\displaystyle \\left[\\begin{matrix}2 & 7 & 3 & 5 & 8\\\\1 & 5 & 3 & 2 & 4\\end{matrix}\\right]$"
      ],
      "text/plain": [
       "Matrix([\n",
       "[2, 7, 3, 5, 8],\n",
       "[1, 5, 3, 2, 4]])"
      ]
     },
     "execution_count": 2,
     "metadata": {},
     "output_type": "execute_result"
    }
   ],
   "source": [
    "data = sp.Matrix([[2, 7, 3, 5, 8], \n",
    "                  [1, 5, 3, 2, 4]])\n",
    "data"
   ]
  },
  {
   "cell_type": "code",
   "execution_count": 6,
   "metadata": {},
   "outputs": [
    {
     "name": "stdout",
     "output_type": "stream",
     "text": [
      "slop is 1.3\n",
      "Intercept is 1.0999999999999996\n",
      "R-squared is 0.6499999999999999\n",
      "T-test is 2.3603873774083297\n"
     ]
    }
   ],
   "source": [
    "from sklearn.linear_model import LinearRegression\n",
    "from scipy.stats import stats\n",
    "import numpy as np\n",
    "\n",
    "y_data = np.array([2, 7, 3, 5, 8])\n",
    "x_data = np.array([1, 5, 3, 2, 4]).reshape(-1, 1)\n",
    "\n",
    "model = LinearRegression()\n",
    "model.fit(x_data, y_data)\n",
    "predictions = model.predict(x_data)\n",
    "residuals = y_data - predictions\n",
    "\n",
    "n = len(x_data)\n",
    "x_mean = np.mean(x_data)\n",
    "se_slope = np.sqrt(np.sum(residuals**2) / (n-2)) / np.sqrt(np.sum((x_data - x_mean)**2))\n",
    "\n",
    "slope = model.coef_[0]\n",
    "intercept = model.intercept_\n",
    "\n",
    "t_test = slope/se_slope\n",
    "\n",
    "print(f\"slop is {slope}\")\n",
    "print(f\"Intercept is {intercept}\")\n",
    "print(f\"R-squared is {model.score(x_data, y_data)}\")\n",
    "print(f\"T-test is {t_test}\")"
   ]
  },
  {
   "cell_type": "code",
   "execution_count": null,
   "metadata": {},
   "outputs": [],
   "source": []
  }
 ],
 "metadata": {
  "kernelspec": {
   "display_name": "Python 3",
   "language": "python",
   "name": "python3"
  },
  "language_info": {
   "codemirror_mode": {
    "name": "ipython",
    "version": 3
   },
   "file_extension": ".py",
   "mimetype": "text/x-python",
   "name": "python",
   "nbconvert_exporter": "python",
   "pygments_lexer": "ipython3",
   "version": "3.12.1"
  }
 },
 "nbformat": 4,
 "nbformat_minor": 2
}
