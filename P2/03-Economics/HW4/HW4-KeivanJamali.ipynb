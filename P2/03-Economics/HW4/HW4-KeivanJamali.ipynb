{
 "cells": [
  {
   "cell_type": "code",
   "execution_count": 1,
   "id": "initial_id",
   "metadata": {
    "collapsed": true,
    "ExecuteTime": {
     "end_time": "2023-12-19T17:10:57.887041400Z",
     "start_time": "2023-12-19T17:10:57.847868100Z"
    }
   },
   "outputs": [],
   "source": [
    "%load_ext autoreload\n",
    "%autoreload 2"
   ]
  },
  {
   "cell_type": "code",
   "execution_count": 4,
   "outputs": [],
   "source": [
    "from Eco_toolkit import *\n",
    "primary = Primary_Eco()\n",
    "equation = Equation_Eco()\n",
    "visualize = Eco()\n",
    "amortization = Amortization_Eco()"
   ],
   "metadata": {
    "collapsed": false,
    "ExecuteTime": {
     "end_time": "2023-12-19T21:16:04.196299800Z",
     "start_time": "2023-12-19T21:16:04.030146400Z"
    }
   },
   "id": "ea997ba473c843f1"
  },
  {
   "cell_type": "code",
   "execution_count": 11,
   "outputs": [
    {
     "name": "stdout",
     "output_type": "stream",
     "text": [
      "__(SOYD-0, p=12000.0000, sv=3500.0000, n=4) = 3400.0000__\n",
      "__(SOYD-1, p=12000.0000, sv=3500.0000, n=4) = 2550.0000__\n",
      "__(SOYD-2, p=12000.0000, sv=3500.0000, n=4) = 1700.0000__\n",
      "__(SOYD-3, p=12000.0000, sv=3500.0000, n=4) = 850.0000__\n",
      "__(PW) = 6818.7755__\n"
     ]
    }
   ],
   "source": [
    "p = 12000\n",
    "n = 4\n",
    "sv = 3500\n",
    "i = 0.12\n",
    "# amortizations, pw = amortization.sl(p=p, sv=sv, n=n, i=i)\n",
    "amortizations, pw = amortization.soyd(p=p, sv=sv, n=n, i=i)"
   ],
   "metadata": {
    "collapsed": false,
    "ExecuteTime": {
     "end_time": "2023-12-19T21:23:05.068584Z",
     "start_time": "2023-12-19T21:23:04.620411700Z"
    }
   },
   "id": "79a6313308c305b8"
  },
  {
   "cell_type": "code",
   "execution_count": 15,
   "outputs": [
    {
     "name": "stdout",
     "output_type": "stream",
     "text": [
      "__(DDB-0, p=138000.0000, f=0.1818, n=11) = 25090.9091__\n",
      "__(DDB-1, p=138000.0000, f=0.1818, n=11) = 20528.9256__\n",
      "__(DDB-2, p=138000.0000, f=0.1818, n=11) = 16796.3937__\n",
      "__(DDB-3, p=138000.0000, f=0.1818, n=11) = 13742.5039__\n",
      "__(DDB-4, p=138000.0000, f=0.1818, n=11) = 11243.8668__\n",
      "__(DDB-5, p=138000.0000, f=0.1818, n=11) = 9199.5274__\n",
      "__(DDB-6, p=138000.0000, f=0.1818, n=11) = 7526.8861__\n",
      "__(DDB-7, p=138000.0000, f=0.1818, n=11) = 6158.3613__\n",
      "__(DDB-8, p=138000.0000, f=0.1818, n=11) = 5038.6593__\n",
      "__(DDB-9, p=138000.0000, f=0.1818, n=11) = 4122.5394__\n",
      "__(DDB-10, p=138000.0000, f=0.1818, n=11) = 3372.9868__\n"
     ]
    }
   ],
   "source": [
    "p = 138000\n",
    "n = 11\n",
    "sv = 2800\n",
    "amortizations= amortization.ddb(p=p, sv=sv, n=n, approach=\"ddb\")"
   ],
   "metadata": {
    "collapsed": false,
    "ExecuteTime": {
     "end_time": "2023-12-19T21:40:48.916881400Z",
     "start_time": "2023-12-19T21:40:48.397211500Z"
    }
   },
   "id": "29b8c98208f4424c"
  },
  {
   "cell_type": "code",
   "execution_count": 8,
   "outputs": [
    {
     "name": "stdout",
     "output_type": "stream",
     "text": [
      "__(SL, p=600000.0000, sv=100000.0000, n=20) = 25000.0000__\n",
      "__(PW, P/A=20.0000) = 500000.0000__\n"
     ]
    }
   ],
   "source": [
    "p = 750000-150000\n",
    "n = 20\n",
    "sv = 100000\n",
    "i = 0\n",
    "amortizations, pw = amortization.sl(p=p, sv=sv, n=n, i=i)"
   ],
   "metadata": {
    "collapsed": false,
    "ExecuteTime": {
     "end_time": "2023-12-19T21:20:16.111257Z",
     "start_time": "2023-12-19T21:20:15.770790500Z"
    }
   },
   "id": "8f0b4dfcd3608a37"
  },
  {
   "cell_type": "code",
   "execution_count": null,
   "outputs": [],
   "source": [],
   "metadata": {
    "collapsed": false
   },
   "id": "5685b16504e35b5c"
  }
 ],
 "metadata": {
  "kernelspec": {
   "display_name": "Python 3",
   "language": "python",
   "name": "python3"
  },
  "language_info": {
   "codemirror_mode": {
    "name": "ipython",
    "version": 2
   },
   "file_extension": ".py",
   "mimetype": "text/x-python",
   "name": "python",
   "nbconvert_exporter": "python",
   "pygments_lexer": "ipython2",
   "version": "2.7.6"
  }
 },
 "nbformat": 4,
 "nbformat_minor": 5
}
