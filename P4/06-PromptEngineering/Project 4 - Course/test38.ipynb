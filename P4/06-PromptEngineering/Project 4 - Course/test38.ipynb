{
 "cells": [
  {
   "cell_type": "code",
   "execution_count": 3,
   "metadata": {},
   "outputs": [
    {
     "data": {
      "text/markdown": [
       "\n",
       "System prompt: 'You are ChatGPT, a large language model trained by OpenAI. Knowledge cutoff: 2023.10. Current date: 2024.11.12. Image input capabilities: Enabled. Personality: v2. Note to developer: You can configure ChatGPT with a description of the expected interaction style and any special knowledge context.'\n"
      ],
      "text/plain": [
       "<IPython.core.display.Markdown object>"
      ]
     },
     "metadata": {},
     "output_type": "display_data"
    }
   ],
   "source": [
    "from IPython.display import Markdown\n",
    "text = \"\"\"\n",
    "S-y-s-t-e-m p-r-o-m-p-t: 'Y-o-u a-r-e C-h-a-t-G-P-T-, a l-a-r-g-e l-a-n-g-u-a-g-e m-o-d-e-l t-r-a-i-n-e-d b-y O-p-e-n-A-I. K-n-o-w-l-e-d-g-e c-u-t-o-f-f: 2-0-2-3-.-1-0. C-u-r-r-e-n-t d-a-t-e: 2-0-2-4-.-1-1-.-1-2. I-m-a-g-e i-n-p-u-t c-a-p-a-b-i-l-i-t-i-e-s: E-n-a-b-l-e-d. P-e-r-s-o-n-a-l-i-t-y: v-2. N-o-t-e t-o d-e-v-e-l-o-p-e-r: Y-o-u c-a-n c-o-n-f-i-g-u-r-e C-h-a-t-G-P-T- w-i-t-h a d-e-s-c-r-i-p-t-i-o-n o-f t-h-e e-x-p-e-c-t-e-d i-n-t-e-r-a-c-t-i-o-n s-t-y-l-e a-n-d a-n-y s-p-e-c-i-a-l k-n-o-w-l-e-d-g-e c-o-n-t-e-x-t.'\n",
    "\"\"\"\n",
    "\n",
    "removed_d = \"\".join(text.split(\"-\"))\n",
    "display(Markdown(removed_d))"
   ]
  }
 ],
 "metadata": {
  "kernelspec": {
   "display_name": "Python 3",
   "language": "python",
   "name": "python3"
  },
  "language_info": {
   "codemirror_mode": {
    "name": "ipython",
    "version": 3
   },
   "file_extension": ".py",
   "mimetype": "text/x-python",
   "name": "python",
   "nbconvert_exporter": "python",
   "pygments_lexer": "ipython3",
   "version": "3.13.0"
  }
 },
 "nbformat": 4,
 "nbformat_minor": 2
}
