{
 "cells": [
  {
   "cell_type": "markdown",
   "source": [
    "# Dawnside!"
   ],
   "metadata": {
    "collapsed": false
   }
  },
  {
   "cell_type": "code",
   "execution_count": 35,
   "outputs": [
    {
     "name": "stdout",
     "output_type": "stream",
     "text": [
      "The autoreload extension is already loaded. To reload it, use:\n",
      "  %reload_ext autoreload\n"
     ]
    }
   ],
   "source": [
    "import pandas as pd\n",
    "import numpy as np\n",
    "import edhec_risk_kit as erk\n",
    "import matplotlib.pyplot as plt\n",
    "\n",
    "%load_ext autoreload\n",
    "%autoreload 2\n"
   ],
   "metadata": {
    "collapsed": false,
    "ExecuteTime": {
     "end_time": "2023-05-15T08:15:25.268791300Z",
     "start_time": "2023-05-15T08:15:25.163732900Z"
    }
   }
  },
  {
   "cell_type": "code",
   "execution_count": 40,
   "outputs": [
    {
     "name": "stderr",
     "output_type": "stream",
     "text": [
      "D:\\Project Pro Pycharm\\P0\\15-DS\\edhec_risk_kit.py:39: UserWarning: Parsing dates in %d/%m/%Y format when dayfirst=False (the default) was specified. Pass `dayfirst=True` or specify a format to silence this warning.\n",
      "  hfi = pd.read_csv(\"Data/edhec-hedgefundindices.csv\", header=0, index_col=0, parse_dates=True)\n"
     ]
    },
    {
     "data": {
      "text/plain": "         Convertible Arbitrage  CTA Global  Distressed Securities   \ndate                                                                \n2009-01                 0.0491     -0.0016                 0.0082  \\\n2009-02                 0.0164     -0.0031                -0.0122   \n2009-03                 0.0235     -0.0180                 0.0022   \n2009-04                 0.0500     -0.0140                 0.0387   \n2009-05                 0.0578      0.0213                 0.0504   \n...                        ...         ...                    ...   \n2018-07                 0.0021     -0.0058                 0.0093   \n2018-08                 0.0024      0.0166                 0.0002   \n2018-09                 0.0034     -0.0054                 0.0050   \n2018-10                -0.0073     -0.0314                -0.0158   \n2018-11                -0.0068     -0.0053                -0.0193   \n\n         Emerging Markets  Equity Market Neutral  Event Driven   \ndate                                                             \n2009-01           -0.0112                 0.0079        0.0132  \\\n2009-02           -0.0133                -0.0046       -0.0091   \n2009-03            0.0350                 0.0021        0.0117   \n2009-04            0.0663                -0.0012        0.0337   \n2009-05            0.0884                 0.0146        0.0442   \n...                   ...                    ...           ...   \n2018-07            0.0040                -0.0010        0.0055   \n2018-08           -0.0277                 0.0004        0.0011   \n2018-09           -0.0110                -0.0016        0.0032   \n2018-10           -0.0315                -0.0129       -0.0257   \n2018-11            0.0120                -0.0211       -0.0034   \n\n         Fixed Income Arbitrage  Global Macro  Long/Short Equity   \ndate                                                               \n2009-01                  0.0112        0.0029            -0.0017  \\\n2009-02                  0.0065       -0.0055            -0.0161   \n2009-03                  0.0057        0.0048             0.0188   \n2009-04                  0.0221        0.0127             0.0375   \n2009-05                  0.0365        0.0348             0.0516   \n...                         ...           ...                ...   \n2018-07                  0.0022       -0.0014             0.0067   \n2018-08                  0.0017       -0.0007             0.0035   \n2018-09                  0.0036        0.0006            -0.0023   \n2018-10                 -0.0023       -0.0096            -0.0402   \n2018-11                 -0.0067       -0.0087            -0.0044   \n\n         Merger Arbitrage  Relative Value  Short Selling  Funds Of Funds  \ndate                                                                      \n2009-01            0.0056          0.0100         0.0282          0.0060  \n2009-02            0.0006         -0.0016         0.0328         -0.0037  \n2009-03            0.0125          0.0100        -0.0462          0.0008  \n2009-04            0.0081          0.0342        -0.0820          0.0092  \n2009-05            0.0107          0.0392         0.0008          0.0312  \n...                   ...             ...            ...             ...  \n2018-07           -0.0021          0.0045        -0.0052          0.0018  \n2018-08            0.0050         -0.0002        -0.0214          0.0015  \n2018-09            0.0028          0.0018         0.0036         -0.0022  \n2018-10           -0.0080         -0.0109         0.0237         -0.0269  \n2018-11            0.0119         -0.0063        -0.0021         -0.0071  \n\n[119 rows x 13 columns]",
      "text/html": "<div>\n<style scoped>\n    .dataframe tbody tr th:only-of-type {\n        vertical-align: middle;\n    }\n\n    .dataframe tbody tr th {\n        vertical-align: top;\n    }\n\n    .dataframe thead th {\n        text-align: right;\n    }\n</style>\n<table border=\"1\" class=\"dataframe\">\n  <thead>\n    <tr style=\"text-align: right;\">\n      <th></th>\n      <th>Convertible Arbitrage</th>\n      <th>CTA Global</th>\n      <th>Distressed Securities</th>\n      <th>Emerging Markets</th>\n      <th>Equity Market Neutral</th>\n      <th>Event Driven</th>\n      <th>Fixed Income Arbitrage</th>\n      <th>Global Macro</th>\n      <th>Long/Short Equity</th>\n      <th>Merger Arbitrage</th>\n      <th>Relative Value</th>\n      <th>Short Selling</th>\n      <th>Funds Of Funds</th>\n    </tr>\n    <tr>\n      <th>date</th>\n      <th></th>\n      <th></th>\n      <th></th>\n      <th></th>\n      <th></th>\n      <th></th>\n      <th></th>\n      <th></th>\n      <th></th>\n      <th></th>\n      <th></th>\n      <th></th>\n      <th></th>\n    </tr>\n  </thead>\n  <tbody>\n    <tr>\n      <th>2009-01</th>\n      <td>0.0491</td>\n      <td>-0.0016</td>\n      <td>0.0082</td>\n      <td>-0.0112</td>\n      <td>0.0079</td>\n      <td>0.0132</td>\n      <td>0.0112</td>\n      <td>0.0029</td>\n      <td>-0.0017</td>\n      <td>0.0056</td>\n      <td>0.0100</td>\n      <td>0.0282</td>\n      <td>0.0060</td>\n    </tr>\n    <tr>\n      <th>2009-02</th>\n      <td>0.0164</td>\n      <td>-0.0031</td>\n      <td>-0.0122</td>\n      <td>-0.0133</td>\n      <td>-0.0046</td>\n      <td>-0.0091</td>\n      <td>0.0065</td>\n      <td>-0.0055</td>\n      <td>-0.0161</td>\n      <td>0.0006</td>\n      <td>-0.0016</td>\n      <td>0.0328</td>\n      <td>-0.0037</td>\n    </tr>\n    <tr>\n      <th>2009-03</th>\n      <td>0.0235</td>\n      <td>-0.0180</td>\n      <td>0.0022</td>\n      <td>0.0350</td>\n      <td>0.0021</td>\n      <td>0.0117</td>\n      <td>0.0057</td>\n      <td>0.0048</td>\n      <td>0.0188</td>\n      <td>0.0125</td>\n      <td>0.0100</td>\n      <td>-0.0462</td>\n      <td>0.0008</td>\n    </tr>\n    <tr>\n      <th>2009-04</th>\n      <td>0.0500</td>\n      <td>-0.0140</td>\n      <td>0.0387</td>\n      <td>0.0663</td>\n      <td>-0.0012</td>\n      <td>0.0337</td>\n      <td>0.0221</td>\n      <td>0.0127</td>\n      <td>0.0375</td>\n      <td>0.0081</td>\n      <td>0.0342</td>\n      <td>-0.0820</td>\n      <td>0.0092</td>\n    </tr>\n    <tr>\n      <th>2009-05</th>\n      <td>0.0578</td>\n      <td>0.0213</td>\n      <td>0.0504</td>\n      <td>0.0884</td>\n      <td>0.0146</td>\n      <td>0.0442</td>\n      <td>0.0365</td>\n      <td>0.0348</td>\n      <td>0.0516</td>\n      <td>0.0107</td>\n      <td>0.0392</td>\n      <td>0.0008</td>\n      <td>0.0312</td>\n    </tr>\n    <tr>\n      <th>...</th>\n      <td>...</td>\n      <td>...</td>\n      <td>...</td>\n      <td>...</td>\n      <td>...</td>\n      <td>...</td>\n      <td>...</td>\n      <td>...</td>\n      <td>...</td>\n      <td>...</td>\n      <td>...</td>\n      <td>...</td>\n      <td>...</td>\n    </tr>\n    <tr>\n      <th>2018-07</th>\n      <td>0.0021</td>\n      <td>-0.0058</td>\n      <td>0.0093</td>\n      <td>0.0040</td>\n      <td>-0.0010</td>\n      <td>0.0055</td>\n      <td>0.0022</td>\n      <td>-0.0014</td>\n      <td>0.0067</td>\n      <td>-0.0021</td>\n      <td>0.0045</td>\n      <td>-0.0052</td>\n      <td>0.0018</td>\n    </tr>\n    <tr>\n      <th>2018-08</th>\n      <td>0.0024</td>\n      <td>0.0166</td>\n      <td>0.0002</td>\n      <td>-0.0277</td>\n      <td>0.0004</td>\n      <td>0.0011</td>\n      <td>0.0017</td>\n      <td>-0.0007</td>\n      <td>0.0035</td>\n      <td>0.0050</td>\n      <td>-0.0002</td>\n      <td>-0.0214</td>\n      <td>0.0015</td>\n    </tr>\n    <tr>\n      <th>2018-09</th>\n      <td>0.0034</td>\n      <td>-0.0054</td>\n      <td>0.0050</td>\n      <td>-0.0110</td>\n      <td>-0.0016</td>\n      <td>0.0032</td>\n      <td>0.0036</td>\n      <td>0.0006</td>\n      <td>-0.0023</td>\n      <td>0.0028</td>\n      <td>0.0018</td>\n      <td>0.0036</td>\n      <td>-0.0022</td>\n    </tr>\n    <tr>\n      <th>2018-10</th>\n      <td>-0.0073</td>\n      <td>-0.0314</td>\n      <td>-0.0158</td>\n      <td>-0.0315</td>\n      <td>-0.0129</td>\n      <td>-0.0257</td>\n      <td>-0.0023</td>\n      <td>-0.0096</td>\n      <td>-0.0402</td>\n      <td>-0.0080</td>\n      <td>-0.0109</td>\n      <td>0.0237</td>\n      <td>-0.0269</td>\n    </tr>\n    <tr>\n      <th>2018-11</th>\n      <td>-0.0068</td>\n      <td>-0.0053</td>\n      <td>-0.0193</td>\n      <td>0.0120</td>\n      <td>-0.0211</td>\n      <td>-0.0034</td>\n      <td>-0.0067</td>\n      <td>-0.0087</td>\n      <td>-0.0044</td>\n      <td>0.0119</td>\n      <td>-0.0063</td>\n      <td>-0.0021</td>\n      <td>-0.0071</td>\n    </tr>\n  </tbody>\n</table>\n<p>119 rows × 13 columns</p>\n</div>"
     },
     "execution_count": 40,
     "metadata": {},
     "output_type": "execute_result"
    }
   ],
   "source": [
    "hfi = erk.get_hfi_returns()\n",
    "hfi = hfi['2009':'2018']\n",
    "hfi\n"
   ],
   "metadata": {
    "collapsed": false,
    "ExecuteTime": {
     "end_time": "2023-05-15T08:20:20.196810900Z",
     "start_time": "2023-05-15T08:20:20.073607200Z"
    }
   }
  },
  {
   "cell_type": "markdown",
   "source": [
    "### Semidiviation"
   ],
   "metadata": {
    "collapsed": false
   }
  },
  {
   "cell_type": "code",
   "execution_count": 41,
   "outputs": [
    {
     "data": {
      "text/plain": "Convertible Arbitrage     0.013635\nCTA Global                0.019759\nDistressed Securities     0.015725\nEmerging Markets          0.023461\nEquity Market Neutral     0.006164\nEvent Driven              0.014651\nFixed Income Arbitrage    0.007617\nGlobal Macro              0.010337\nLong/Short Equity         0.016837\nMerger Arbitrage          0.006441\nRelative Value            0.009470\nShort Selling             0.034161\nFunds Of Funds            0.010691\ndtype: float64"
     },
     "execution_count": 41,
     "metadata": {},
     "output_type": "execute_result"
    }
   ],
   "source": [
    "hfi.std(ddof=0)"
   ],
   "metadata": {
    "collapsed": false,
    "ExecuteTime": {
     "end_time": "2023-05-15T08:20:43.250151600Z",
     "start_time": "2023-05-15T08:20:43.156456200Z"
    }
   }
  },
  {
   "cell_type": "code",
   "execution_count": 42,
   "outputs": [
    {
     "data": {
      "text/plain": "Convertible Arbitrage     0.006681\nCTA Global                0.010996\nDistressed Securities     0.009498\nEmerging Markets          0.015276\nEquity Market Neutral     0.005186\nEvent Driven              0.010135\nFixed Income Arbitrage    0.003321\nGlobal Macro              0.005075\nLong/Short Equity         0.012139\nMerger Arbitrage          0.003611\nRelative Value            0.005711\nShort Selling             0.021240\nFunds Of Funds            0.007948\ndtype: float64"
     },
     "execution_count": 42,
     "metadata": {},
     "output_type": "execute_result"
    }
   ],
   "source": [
    "hfi[hfi<0].std(ddof=0)"
   ],
   "metadata": {
    "collapsed": false,
    "ExecuteTime": {
     "end_time": "2023-05-15T08:20:44.859125600Z",
     "start_time": "2023-05-15T08:20:44.763457100Z"
    }
   }
  },
  {
   "cell_type": "code",
   "execution_count": 56,
   "outputs": [
    {
     "name": "stdout",
     "output_type": "stream",
     "text": [
      "Fixed Income Arbitrage\n"
     ]
    }
   ],
   "source": [
    "aa = erk.semideviation(hfi)\n",
    "print(aa.idxmin())"
   ],
   "metadata": {
    "collapsed": false,
    "ExecuteTime": {
     "end_time": "2023-05-15T08:23:55.834631100Z",
     "start_time": "2023-05-15T08:23:55.730750100Z"
    }
   }
  },
  {
   "cell_type": "markdown",
   "source": [
    "### VaR and CVaR\n",
    "value at risk\n",
    "\n",
    "- Hisoric VaR\n",
    "- Parametric VaR -- Gaussian\n",
    "- Modified Cornish-Fisher VaR"
   ],
   "metadata": {
    "collapsed": false
   }
  },
  {
   "cell_type": "code",
   "execution_count": 9,
   "outputs": [
    {
     "data": {
      "text/plain": "array([-0.01576, -0.03169, -0.01966, -0.04247, -0.00814, -0.02535,\n       -0.00787, -0.01499, -0.02598, -0.01047, -0.01174, -0.06783,\n       -0.02047])"
     },
     "execution_count": 9,
     "metadata": {},
     "output_type": "execute_result"
    }
   ],
   "source": [
    "np.percentile(hfi, 5, axis=0)"
   ],
   "metadata": {
    "collapsed": false,
    "ExecuteTime": {
     "end_time": "2023-05-15T07:03:40.951142100Z",
     "start_time": "2023-05-15T07:03:40.808748100Z"
    }
   }
  },
  {
   "cell_type": "code",
   "execution_count": 18,
   "outputs": [
    {
     "data": {
      "text/plain": "Convertible Arbitrage     0.01576\nCTA Global                0.03169\nDistressed Securities     0.01966\nEmerging Markets          0.04247\nEquity Market Neutral     0.00814\nEvent Driven              0.02535\nFixed Income Arbitrage    0.00787\nGlobal Macro              0.01499\nLong/Short Equity         0.02598\nMerger Arbitrage          0.01047\nRelative Value            0.01174\nShort Selling             0.06783\nFunds Of Funds            0.02047\ndtype: float64"
     },
     "execution_count": 18,
     "metadata": {},
     "output_type": "execute_result"
    }
   ],
   "source": [
    "erk.var_historic(hfi)"
   ],
   "metadata": {
    "collapsed": false,
    "ExecuteTime": {
     "end_time": "2023-05-15T07:22:30.365393100Z",
     "start_time": "2023-05-15T07:22:30.216747100Z"
    }
   }
  },
  {
   "cell_type": "code",
   "execution_count": 19,
   "outputs": [],
   "source": [
    "from scipy.stats import norm"
   ],
   "metadata": {
    "collapsed": false,
    "ExecuteTime": {
     "end_time": "2023-05-15T07:23:54.855371Z",
     "start_time": "2023-05-15T07:23:50.074911500Z"
    }
   }
  },
  {
   "cell_type": "code",
   "execution_count": 27,
   "outputs": [
    {
     "data": {
      "text/plain": "0.0"
     },
     "execution_count": 27,
     "metadata": {},
     "output_type": "execute_result"
    }
   ],
   "source": [
    "norm.ppf(0.5)"
   ],
   "metadata": {
    "collapsed": false,
    "ExecuteTime": {
     "end_time": "2023-05-15T07:26:12.234891800Z",
     "start_time": "2023-05-15T07:26:12.070700200Z"
    }
   }
  },
  {
   "cell_type": "code",
   "execution_count": 30,
   "outputs": [
    {
     "data": {
      "text/plain": "Convertible Arbitrage     0.021691\nCTA Global                0.034235\nDistressed Securities     0.021032\nEmerging Markets          0.047164\nEquity Market Neutral     0.008850\nEvent Driven              0.021144\nFixed Income Arbitrage    0.014579\nGlobal Macro              0.018766\nLong/Short Equity         0.026397\nMerger Arbitrage          0.010435\nRelative Value            0.013061\nShort Selling             0.080086\nFunds Of Funds            0.021292\ndtype: float64"
     },
     "execution_count": 30,
     "metadata": {},
     "output_type": "execute_result"
    }
   ],
   "source": [
    "erk.var_gaussian(hfi)"
   ],
   "metadata": {
    "collapsed": false,
    "ExecuteTime": {
     "end_time": "2023-05-15T07:33:53.787020600Z",
     "start_time": "2023-05-15T07:33:53.613423800Z"
    }
   }
  },
  {
   "cell_type": "code",
   "execution_count": 31,
   "outputs": [
    {
     "data": {
      "text/plain": "Convertible Arbitrage     0.025166\nCTA Global                0.033094\nDistressed Securities     0.025102\nEmerging Markets          0.053011\nEquity Market Neutral     0.010734\nEvent Driven              0.025516\nFixed Income Arbitrage    0.017881\nGlobal Macro              0.013581\nLong/Short Equity         0.027935\nMerger Arbitrage          0.012612\nRelative Value            0.016157\nShort Selling             0.066157\nFunds Of Funds            0.021576\ndtype: float64"
     },
     "execution_count": 31,
     "metadata": {},
     "output_type": "execute_result"
    }
   ],
   "source": [
    "erk.var_gaussian(hfi, modified=True)"
   ],
   "metadata": {
    "collapsed": false,
    "ExecuteTime": {
     "end_time": "2023-05-15T07:38:50.892577Z",
     "start_time": "2023-05-15T07:38:50.606903200Z"
    }
   }
  },
  {
   "cell_type": "code",
   "execution_count": 33,
   "outputs": [
    {
     "data": {
      "text/plain": "<Axes: title={'center': 'EDHEC Hedge Fund Indices: VaR'}>"
     },
     "execution_count": 33,
     "metadata": {},
     "output_type": "execute_result"
    },
    {
     "data": {
      "text/plain": "<Figure size 640x480 with 1 Axes>",
      "image/png": "[encoded data removed]"
     },
     "metadata": {},
     "output_type": "display_data"
    }
   ],
   "source": [
    "var_list = [erk.var_gaussian(hfi), erk.var_gaussian(hfi, modified=True), erk.var_historic(hfi)]\n",
    "comparison = pd.concat(var_list, axis=1)\n",
    "comparison.columns = [\"Gaussian\", \"Cornish_fisher\", \"Historic\"]\n",
    "comparison.plot.bar(title=\"EDHEC Hedge Fund Indices: VaR\")"
   ],
   "metadata": {
    "collapsed": false,
    "ExecuteTime": {
     "end_time": "2023-05-15T07:43:44.103076500Z",
     "start_time": "2023-05-15T07:43:42.931065300Z"
    }
   }
  },
  {
   "cell_type": "markdown",
   "source": [
    "### CVaR"
   ],
   "metadata": {
    "collapsed": false
   }
  },
  {
   "cell_type": "code",
   "execution_count": 34,
   "outputs": [
    {
     "data": {
      "text/plain": "Convertible Arbitrage     0.036550\nCTA Global                0.041264\nDistressed Securities     0.036429\nEmerging Markets          0.072364\nEquity Market Neutral     0.016879\nEvent Driven              0.038336\nFixed Income Arbitrage    0.028257\nGlobal Macro              0.020629\nLong/Short Equity         0.041943\nMerger Arbitrage          0.019143\nRelative Value            0.024650\nShort Selling             0.096821\nFunds Of Funds            0.033207\ndtype: float64"
     },
     "execution_count": 34,
     "metadata": {},
     "output_type": "execute_result"
    }
   ],
   "source": [
    "erk.cvar_historic(hfi)"
   ],
   "metadata": {
    "collapsed": false,
    "ExecuteTime": {
     "end_time": "2023-05-15T07:53:06.394471500Z",
     "start_time": "2023-05-15T07:53:06.241433800Z"
    }
   }
  },
  {
   "cell_type": "code",
   "execution_count": null,
   "outputs": [],
   "source": [],
   "metadata": {
    "collapsed": false
   }
  }
 ],
 "metadata": {
  "kernelspec": {
   "display_name": "Python 3",
   "language": "python",
   "name": "python3"
  },
  "language_info": {
   "codemirror_mode": {
    "name": "ipython",
    "version": 2
   },
   "file_extension": ".py",
   "mimetype": "text/x-python",
   "name": "python",
   "nbconvert_exporter": "python",
   "pygments_lexer": "ipython2",
   "version": "2.7.6"
  }
 },
 "nbformat": 4,
 "nbformat_minor": 0
}
