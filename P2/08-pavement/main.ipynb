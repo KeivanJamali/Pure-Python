{
 "cells": [
  {
   "cell_type": "code",
   "execution_count": 1,
   "id": "9806a512",
   "metadata": {},
   "outputs": [],
   "source": [
    "import sympy as sp\n",
    "import math"
   ]
  },
  {
   "cell_type": "code",
   "execution_count": 2,
   "id": "99441ee6",
   "metadata": {},
   "outputs": [
    {
     "data": {
      "text/plain": [
       "20.0"
      ]
     },
     "execution_count": 2,
     "metadata": {},
     "output_type": "execute_result"
    }
   ],
   "source": [
    "E_1 = 200\n",
    "E_2 = 10\n",
    "s1 = E_1 / E_2\n",
    "s1\n"
   ]
  },
  {
   "cell_type": "code",
   "execution_count": 3,
   "id": "a6d892c1",
   "metadata": {},
   "outputs": [
    {
     "data": {
      "text/plain": [
       "6.3078313050504"
      ]
     },
     "execution_count": 3,
     "metadata": {},
     "output_type": "execute_result"
    }
   ],
   "source": [
    "a = math.sqrt(10000 / (math.pi * 80))  # ignore \n",
    "a"
   ]
  },
  {
   "cell_type": "code",
   "execution_count": 6,
   "id": "a7e10f4f",
   "metadata": {},
   "outputs": [
    {
     "data": {
      "text/plain": [
       "0.7884789131313"
      ]
     },
     "execution_count": 6,
     "metadata": {},
     "output_type": "execute_result"
    }
   ],
   "source": [
    "h_1 = 8\n",
    "s2 = a / h_1\n",
    "s2"
   ]
  },
  {
   "cell_type": "code",
   "execution_count": 7,
   "id": "a7a9eb06",
   "metadata": {},
   "outputs": [
    {
     "data": {
      "text/plain": [
       "12.8"
      ]
     },
     "execution_count": 7,
     "metadata": {},
     "output_type": "execute_result"
    }
   ],
   "source": "0.16 * 80"
  },
  {
   "cell_type": "code",
   "execution_count": 10,
   "id": "b403162d",
   "metadata": {},
   "outputs": [],
   "source": [
    "q, a, E, v, w, s1, s2, s3, e1, e2, e3, s_z, s_r, s_t, R, T_rz = sp.symbols(\n",
    "    \"q, a, E, v, w, sigma_1, sigma_2, sigma_3, epsilon_1, epsilon_2, epsilon_3, sigma_z, sigma_r, sigma_t, R, T_rt\")\n",
    "\n",
    "s_avg = (s_z + s_r) / 2\n",
    "s_1 = s_avg + R\n",
    "s_2 = s_t\n",
    "s_3 = s_avg - R"
   ]
  },
  {
   "cell_type": "code",
   "execution_count": 11,
   "id": "0ceb9d98",
   "metadata": {},
   "outputs": [
    {
     "data": {
      "text/latex": [
       "$\\displaystyle \\sqrt{T_{rt}^{2} + \\left(- \\frac{\\sigma_{r}}{2} + \\frac{\\sigma_{z}}{2}\\right)^{2}}$"
      ],
      "text/plain": [
       "sqrt(T_rt**2 + (-sigma_r/2 + sigma_z/2)**2)"
      ]
     },
     "execution_count": 11,
     "metadata": {},
     "output_type": "execute_result"
    }
   ],
   "source": [
    "new_R = sp.sqrt(((s_z - s_r) / 2) ** 2 + T_rz ** 2)\n",
    "new_R"
   ]
  },
  {
   "cell_type": "code",
   "execution_count": 14,
   "id": "95354dfc",
   "metadata": {},
   "outputs": [],
   "source": [
    "s_1 = s_1.subs(R, new_R)\n",
    "s_2 = s_2\n",
    "s_3 = s_3.subs(R, new_R)"
   ]
  },
  {
   "cell_type": "code",
   "execution_count": 15,
   "id": "8261d2e8",
   "metadata": {},
   "outputs": [
    {
     "data": {
      "text/plain": [
       "0.07"
      ]
     },
     "execution_count": 15,
     "metadata": {},
     "output_type": "execute_result"
    }
   ],
   "source": "(0.2 - 0.06) / 2"
  },
  {
   "cell_type": "code",
   "execution_count": 16,
   "id": "4713a683",
   "metadata": {},
   "outputs": [
    {
     "data": {
      "text/plain": [
       "0.004900000000000001"
      ]
     },
     "execution_count": 16,
     "metadata": {},
     "output_type": "execute_result"
    }
   ],
   "source": "0.07 ** 2\n"
  },
  {
   "cell_type": "code",
   "execution_count": 17,
   "id": "0e78f903",
   "metadata": {},
   "outputs": [
    {
     "data": {
      "text/plain": [
       "0.005625"
      ]
     },
     "execution_count": 17,
     "metadata": {},
     "output_type": "execute_result"
    }
   ],
   "source": "0.075 ** 2"
  },
  {
   "cell_type": "code",
   "execution_count": 18,
   "id": "d3a9237f",
   "metadata": {},
   "outputs": [
    {
     "data": {
      "text/plain": [
       "0.010525"
      ]
     },
     "execution_count": 18,
     "metadata": {},
     "output_type": "execute_result"
    }
   ],
   "source": "0.005625 + 0.0049"
  },
  {
   "cell_type": "code",
   "id": "6a22e5b6",
   "metadata": {
    "ExecuteTime": {
     "end_time": "2024-05-25T19:05:01.566549Z",
     "start_time": "2024-05-25T19:05:01.560037Z"
    }
   },
   "source": [
    "import math\n",
    "\n",
    "\n",
    "def cal(l1: float, l2: int, pt: float = 2.5, sn: float = 4.032) -> float:\n",
    "    G = math.log10((4.2 - pt) / (4.2 - 1.5))\n",
    "    b = 0.4 + (0.081 * ((l1 + l2) ** 3.23)) / (((sn + 1) ** 5.19) * (l2 ** 3.23))\n",
    "    b2 = 0.4 + (0.081 * ((18 + 1) ** 3.23)) / (((sn + 1) ** 5.19) * (1 ** 3.23))\n",
    "    EALF = 4.79 * math.log10(18 + 1) - 4.79 * math.log10(l1 + l2) + 4.33 * math.log(l2) + G / b - G / b2\n",
    "    EALF = 10**(-EALF)\n",
    "    return EALF\n",
    "\n",
    "print(cal(l1=13, l2=2))\n",
    "print(cal(l1=6, l2=1))\n",
    "print()\n",
    "print(cal(l1=18, l2=1))\n",
    "print(cal(l1=8, l2=1))\n",
    "print()\n",
    "print(cal(l1=20, l2=2))\n",
    "print(cal(l1=12, l2=1))\n",
    "print()\n",
    "print(cal(l1=30, l2=3))\n",
    "print(cal(l1=13, l2=2))\n",
    "print(cal(l1=6, l2=1))\n"
   ],
   "outputs": [
    {
     "name": "stdout",
     "output_type": "stream",
     "text": [
      "0.00048385728255388743\n",
      "0.012691929003555308\n",
      "\n",
      "1.0\n",
      "0.0409194818639969\n",
      "\n",
      "0.0028061478514080675\n",
      "0.21171183469870236\n",
      "\n",
      "0.0003434976437598139\n",
      "0.00048385728255388743\n",
      "0.012691929003555308\n"
     ]
    }
   ],
   "execution_count": 23
  },
  {
   "metadata": {
    "ExecuteTime": {
     "end_time": "2024-05-25T18:46:49.783350Z",
     "start_time": "2024-05-25T18:46:49.777933Z"
    }
   },
   "cell_type": "code",
   "source": [
    "print(cal(13, 2)+cal(6, 1))\n",
    "print(cal(18, 1)+cal(8, 1))\n",
    "print(cal(20, 2)+cal(12, 1))\n",
    "print(cal(13, 2)+cal(6, 1)+cal(30, 3))"
   ],
   "id": "95a495c591b9814f",
   "outputs": [
    {
     "name": "stdout",
     "output_type": "stream",
     "text": [
      "0.018020710397313726\n",
      "1.0545965598753446\n",
      "0.26210931701170365\n",
      "0.018461964867945452\n"
     ]
    }
   ],
   "execution_count": 20
  },
  {
   "metadata": {
    "ExecuteTime": {
     "end_time": "2024-05-25T18:47:21.368490Z",
     "start_time": "2024-05-25T18:47:21.363818Z"
    }
   },
   "cell_type": "code",
   "source": [
    "r = 0.02\n",
    "y = 20\n",
    "GY = ((1+r)**y - 1)/r\n",
    "GY"
   ],
   "id": "1b5730d3b1a8f52",
   "outputs": [
    {
     "data": {
      "text/plain": [
       "24.297369798917746"
      ]
     },
     "execution_count": 22,
     "metadata": {},
     "output_type": "execute_result"
    }
   ],
   "execution_count": 22
  },
  {
   "metadata": {},
   "cell_type": "code",
   "outputs": [],
   "execution_count": null,
   "source": "",
   "id": "a05de12dc6db6f4c"
  }
 ],
 "metadata": {
  "kernelspec": {
   "display_name": "Python 3",
   "language": "python",
   "name": "python3"
  },
  "language_info": {
   "codemirror_mode": {
    "name": "ipython",
    "version": 3
   },
   "file_extension": ".py",
   "mimetype": "text/x-python",
   "name": "python",
   "nbconvert_exporter": "python",
   "pygments_lexer": "ipython3",
   "version": "3.12.1"
  }
 },
 "nbformat": 4,
 "nbformat_minor": 5
}
