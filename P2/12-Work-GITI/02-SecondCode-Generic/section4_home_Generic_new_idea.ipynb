{
 "cells": [
  {
   "cell_type": "code",
   "execution_count": 28,
   "metadata": {},
   "outputs": [],
   "source": [
    "import pandas as pd\n",
    "from copy import deepcopy\n",
    "from tqdm.auto import tqdm\n",
    "%load_ext autoreload\n",
    "%autoreload 2"
   ]
  },
  {
   "cell_type": "code",
   "execution_count": 125,
   "metadata": {},
   "outputs": [],
   "source": [
    "from dataloader import Generic_DataLoader\n",
    "\n",
    "file = \"Raw-Data/D10 points.csv\"\n",
    "dataloader = Generic_DataLoader(file_name=file, threshold=0.2)\n",
    "dataloader.save_file(\"result\")"
   ]
  },
  {
   "cell_type": "code",
   "execution_count": 124,
   "metadata": {},
   "outputs": [
    {
     "data": {
      "text/plain": [
       "['1030', '1032', '1033', '1035', '1037', '1039']"
      ]
     },
     "execution_count": 124,
     "metadata": {},
     "output_type": "execute_result"
    }
   ],
   "source": [
    "dataloader.out_of_range_data"
   ]
  },
  {
   "cell_type": "code",
   "execution_count": 113,
   "metadata": {},
   "outputs": [
    {
     "data": {
      "text/plain": [
       "Index([1042, 1044, 1045, 1047, 1049, 1051], dtype='int64')"
      ]
     },
     "execution_count": 113,
     "metadata": {},
     "output_type": "execute_result"
    }
   ],
   "source": [
    "dataloader.test"
   ]
  },
  {
   "cell_type": "code",
   "execution_count": 119,
   "metadata": {},
   "outputs": [
    {
     "data": {
      "text/plain": [
       "[5220.01, 5220.03, 5220.03, 5220.08, 5239.87, 5239.91]"
      ]
     },
     "execution_count": 119,
     "metadata": {},
     "output_type": "execute_result"
    }
   ],
   "source": [
    "list(dataloader.data.loc[dataloader.test][\"Station\"])"
   ]
  },
  {
   "cell_type": "code",
   "execution_count": 19,
   "metadata": {},
   "outputs": [
    {
     "data": {
      "text/html": [
       "<div>\n",
       "<style scoped>\n",
       "    .dataframe tbody tr th:only-of-type {\n",
       "        vertical-align: middle;\n",
       "    }\n",
       "\n",
       "    .dataframe tbody tr th {\n",
       "        vertical-align: top;\n",
       "    }\n",
       "\n",
       "    .dataframe thead th {\n",
       "        text-align: right;\n",
       "    }\n",
       "</style>\n",
       "<table border=\"1\" class=\"dataframe\">\n",
       "  <thead>\n",
       "    <tr style=\"text-align: right;\">\n",
       "      <th></th>\n",
       "      <th>Station</th>\n",
       "      <th>Offset</th>\n",
       "      <th>Elevation</th>\n",
       "    </tr>\n",
       "  </thead>\n",
       "  <tbody>\n",
       "    <tr>\n",
       "      <th>0</th>\n",
       "      <td>3599.87</td>\n",
       "      <td>-7.740</td>\n",
       "      <td>1411.332</td>\n",
       "    </tr>\n",
       "    <tr>\n",
       "      <th>1</th>\n",
       "      <td>3599.93</td>\n",
       "      <td>9.606</td>\n",
       "      <td>1411.592</td>\n",
       "    </tr>\n",
       "    <tr>\n",
       "      <th>2</th>\n",
       "      <td>3599.94</td>\n",
       "      <td>13.127</td>\n",
       "      <td>1411.645</td>\n",
       "    </tr>\n",
       "    <tr>\n",
       "      <th>3</th>\n",
       "      <td>3599.94</td>\n",
       "      <td>6.634</td>\n",
       "      <td>1411.480</td>\n",
       "    </tr>\n",
       "    <tr>\n",
       "      <th>4</th>\n",
       "      <td>3599.95</td>\n",
       "      <td>-9.897</td>\n",
       "      <td>1411.373</td>\n",
       "    </tr>\n",
       "    <tr>\n",
       "      <th>...</th>\n",
       "      <td>...</td>\n",
       "      <td>...</td>\n",
       "      <td>...</td>\n",
       "    </tr>\n",
       "    <tr>\n",
       "      <th>14925</th>\n",
       "      <td>20899.92</td>\n",
       "      <td>-0.001</td>\n",
       "      <td>1307.561</td>\n",
       "    </tr>\n",
       "    <tr>\n",
       "      <th>14926</th>\n",
       "      <td>20899.95</td>\n",
       "      <td>15.245</td>\n",
       "      <td>1306.946</td>\n",
       "    </tr>\n",
       "    <tr>\n",
       "      <th>14927</th>\n",
       "      <td>20900.01</td>\n",
       "      <td>-3.263</td>\n",
       "      <td>1307.508</td>\n",
       "    </tr>\n",
       "    <tr>\n",
       "      <th>14928</th>\n",
       "      <td>20900.06</td>\n",
       "      <td>4.585</td>\n",
       "      <td>1308.857</td>\n",
       "    </tr>\n",
       "    <tr>\n",
       "      <th>14929</th>\n",
       "      <td>20900.06</td>\n",
       "      <td>-14.920</td>\n",
       "      <td>1307.202</td>\n",
       "    </tr>\n",
       "  </tbody>\n",
       "</table>\n",
       "<p>14930 rows × 3 columns</p>\n",
       "</div>"
      ],
      "text/plain": [
       "        Station  Offset  Elevation\n",
       "0       3599.87  -7.740   1411.332\n",
       "1       3599.93   9.606   1411.592\n",
       "2       3599.94  13.127   1411.645\n",
       "3       3599.94   6.634   1411.480\n",
       "4       3599.95  -9.897   1411.373\n",
       "...         ...     ...        ...\n",
       "14925  20899.92  -0.001   1307.561\n",
       "14926  20899.95  15.245   1306.946\n",
       "14927  20900.01  -3.263   1307.508\n",
       "14928  20900.06   4.585   1308.857\n",
       "14929  20900.06 -14.920   1307.202\n",
       "\n",
       "[14930 rows x 3 columns]"
      ]
     },
     "execution_count": 19,
     "metadata": {},
     "output_type": "execute_result"
    }
   ],
   "source": [
    "dataaa"
   ]
  },
  {
   "cell_type": "code",
   "execution_count": null,
   "metadata": {},
   "outputs": [],
   "source": []
  }
 ],
 "metadata": {
  "kernelspec": {
   "display_name": "Python 3",
   "language": "python",
   "name": "python3"
  },
  "language_info": {
   "codemirror_mode": {
    "name": "ipython",
    "version": 3
   },
   "file_extension": ".py",
   "mimetype": "text/x-python",
   "name": "python",
   "nbconvert_exporter": "python",
   "pygments_lexer": "ipython3",
   "version": "3.12.2"
  }
 },
 "nbformat": 4,
 "nbformat_minor": 2
}
