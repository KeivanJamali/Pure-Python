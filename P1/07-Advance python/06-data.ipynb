{
 "cells": [
  {
   "cell_type": "markdown",
   "source": [
    "##### list\n",
    "##### set\n",
    "##### tuple\n",
    "##### dict"
   ],
   "metadata": {
    "collapsed": false
   },
   "id": "d40579bc85b535d3"
  },
  {
   "cell_type": "code",
   "execution_count": 53,
   "outputs": [
    {
     "data": {
      "text/plain": "(1, 2, 3, 3)"
     },
     "execution_count": 53,
     "metadata": {},
     "output_type": "execute_result"
    }
   ],
   "source": [
    "[1, 2, 3, 3]\n",
    "{1, 2, 3, 3}\n",
    "(1, 2, 3, 3)"
   ],
   "metadata": {
    "collapsed": false,
    "ExecuteTime": {
     "end_time": "2023-08-10T21:46:02.778351800Z",
     "start_time": "2023-08-10T21:46:02.678459700Z"
    }
   },
   "id": "8481c28002d9aa52"
  },
  {
   "cell_type": "markdown",
   "source": [
    "# named tuple"
   ],
   "metadata": {
    "collapsed": false
   },
   "id": "7b16b2f0665d317f"
  },
  {
   "cell_type": "code",
   "execution_count": 54,
   "outputs": [
    {
     "name": "stdout",
     "output_type": "stream",
     "text": [
      "<class 'type'>\n"
     ]
    }
   ],
   "source": [
    "from collections import namedtuple\n",
    "\n",
    "location = namedtuple(\"location\", \"x y name\")\n",
    "print(type(location))\n"
   ],
   "metadata": {
    "collapsed": false,
    "ExecuteTime": {
     "end_time": "2023-08-10T21:46:02.849217700Z",
     "start_time": "2023-08-10T21:46:02.688599900Z"
    }
   },
   "id": "6cece6bba41eca87"
  },
  {
   "cell_type": "code",
   "execution_count": 55,
   "outputs": [
    {
     "name": "stdout",
     "output_type": "stream",
     "text": [
      "location(x=10, y=20, name='HE')\n"
     ]
    }
   ],
   "source": [
    "a = location(10, 20, \"HE\")\n",
    "print(a)"
   ],
   "metadata": {
    "collapsed": false,
    "ExecuteTime": {
     "end_time": "2023-08-10T21:46:02.883485500Z",
     "start_time": "2023-08-10T21:46:02.689111800Z"
    }
   },
   "id": "b905f195a1175031"
  },
  {
   "cell_type": "code",
   "execution_count": 56,
   "outputs": [
    {
     "name": "stdout",
     "output_type": "stream",
     "text": [
      "10\n",
      "20\n",
      "HE\n"
     ]
    }
   ],
   "source": [
    "# location = namedtuple(\"location\")\n",
    "print(a.x)\n",
    "print(a.y)\n",
    "print(a.name)\n",
    "c = a._replace(x=11)\n",
    "d = a._asdict()"
   ],
   "metadata": {
    "collapsed": false,
    "ExecuteTime": {
     "end_time": "2023-08-10T21:46:02.973946200Z",
     "start_time": "2023-08-10T21:46:02.699569900Z"
    }
   },
   "id": "2a99a1a0b852e8b"
  },
  {
   "cell_type": "code",
   "execution_count": 57,
   "outputs": [
    {
     "data": {
      "text/plain": "location(x=11, y=20, name='HE')"
     },
     "execution_count": 57,
     "metadata": {},
     "output_type": "execute_result"
    }
   ],
   "source": [
    "c"
   ],
   "metadata": {
    "collapsed": false,
    "ExecuteTime": {
     "end_time": "2023-08-10T21:46:02.973946200Z",
     "start_time": "2023-08-10T21:46:02.703586600Z"
    }
   },
   "id": "16eee2dee9cd4133"
  },
  {
   "cell_type": "code",
   "execution_count": 58,
   "outputs": [],
   "source": [
    "Point = namedtuple(\"PPPoint\", (\"x\", \"y\"))\n",
    "p1 = Point(1, 2)\n",
    "p2 = Point(3, 4)"
   ],
   "metadata": {
    "collapsed": false,
    "ExecuteTime": {
     "end_time": "2023-08-10T21:46:02.994029Z",
     "start_time": "2023-08-10T21:46:02.717025900Z"
    }
   },
   "id": "e33eb663011e2c0e"
  },
  {
   "cell_type": "code",
   "execution_count": 59,
   "outputs": [
    {
     "name": "stdout",
     "output_type": "stream",
     "text": [
      "PPPoint(x=1, y=2)\n",
      "PPPoint(x=3, y=4)\n"
     ]
    }
   ],
   "source": [
    "print(p1)\n",
    "print(p2)"
   ],
   "metadata": {
    "collapsed": false,
    "ExecuteTime": {
     "end_time": "2023-08-10T21:46:02.994029Z",
     "start_time": "2023-08-10T21:46:02.717025900Z"
    }
   },
   "id": "b9086a2ba90437a8"
  },
  {
   "cell_type": "code",
   "execution_count": 60,
   "outputs": [
    {
     "data": {
      "text/plain": "(1, 2, 3, 4)"
     },
     "execution_count": 60,
     "metadata": {},
     "output_type": "execute_result"
    }
   ],
   "source": [
    "p1 + p2"
   ],
   "metadata": {
    "collapsed": false,
    "ExecuteTime": {
     "end_time": "2023-08-10T21:46:02.994029Z",
     "start_time": "2023-08-10T21:46:02.730933600Z"
    }
   },
   "id": "3e361b35eadca093"
  },
  {
   "cell_type": "code",
   "execution_count": 61,
   "outputs": [],
   "source": [
    "Point.__add__ = lambda self, p: Point(self.x + p.x, self.y + p.y)"
   ],
   "metadata": {
    "collapsed": false,
    "ExecuteTime": {
     "end_time": "2023-08-10T21:46:02.994029Z",
     "start_time": "2023-08-10T21:46:02.741082Z"
    }
   },
   "id": "9cc22c9b9498e926"
  },
  {
   "cell_type": "code",
   "execution_count": 62,
   "outputs": [],
   "source": [
    "a = p1 + p2"
   ],
   "metadata": {
    "collapsed": false,
    "ExecuteTime": {
     "end_time": "2023-08-10T21:46:02.994029Z",
     "start_time": "2023-08-10T21:46:02.747250800Z"
    }
   },
   "id": "25834ac3975baf09"
  },
  {
   "cell_type": "code",
   "execution_count": 63,
   "outputs": [
    {
     "data": {
      "text/plain": "PPPoint(x=4, y=6)"
     },
     "execution_count": 63,
     "metadata": {},
     "output_type": "execute_result"
    }
   ],
   "source": [
    "a"
   ],
   "metadata": {
    "collapsed": false,
    "ExecuteTime": {
     "end_time": "2023-08-10T21:46:02.994029Z",
     "start_time": "2023-08-10T21:46:02.753780700Z"
    }
   },
   "id": "2948dcd0584ec691"
  },
  {
   "cell_type": "code",
   "execution_count": 64,
   "outputs": [],
   "source": [
    "Point = namedtuple(\"pot\", \"x y\")\n",
    "\n",
    "\n",
    "class ThePoint(Point):\n",
    "    def __add__(self, other):\n",
    "        return ThePoint(self.x + other.x, self.y + other.y)\n",
    "\n",
    "    def __mul__(self, other):\n",
    "        return ((self.x - other.x) ** 2 + (self.y - other.y) ** 2) ** 0.5"
   ],
   "metadata": {
    "collapsed": false,
    "ExecuteTime": {
     "end_time": "2023-08-10T21:46:03.000291200Z",
     "start_time": "2023-08-10T21:46:02.767694500Z"
    }
   },
   "id": "4c2d28dd49d22dbb"
  },
  {
   "cell_type": "code",
   "execution_count": 65,
   "outputs": [
    {
     "name": "stdout",
     "output_type": "stream",
     "text": [
      "ThePoint(x=2, y=2)\n",
      "2.8284271247461903\n"
     ]
    }
   ],
   "source": [
    "p1 = ThePoint(0, 0)\n",
    "p2 = ThePoint(2, 2)\n",
    "print(p1 + p2)\n",
    "print(p1 * p2)"
   ],
   "metadata": {
    "collapsed": false,
    "ExecuteTime": {
     "end_time": "2023-08-10T21:46:03.008880300Z",
     "start_time": "2023-08-10T21:46:02.773850500Z"
    }
   },
   "id": "6046411b7fda44fb"
  },
  {
   "cell_type": "markdown",
   "source": [
    "other way"
   ],
   "metadata": {
    "collapsed": false
   },
   "id": "a961c7b708def332"
  },
  {
   "cell_type": "code",
   "execution_count": 66,
   "outputs": [],
   "source": [
    "from typing import NamedTuple\n",
    "\n",
    "\n",
    "class Point(NamedTuple):\n",
    "    x: int\n",
    "    y: int\n",
    "\n",
    "    def __add__(self, other):\n",
    "        return ThePoint(self.x + other.x, self.y + other.y)\n",
    "\n",
    "    def __mul__(self, other):\n",
    "        return ((self.x - other.x) ** 2 + (self.y - other.y) ** 2) ** 0.5"
   ],
   "metadata": {
    "collapsed": false,
    "ExecuteTime": {
     "end_time": "2023-08-10T21:46:03.008880300Z",
     "start_time": "2023-08-10T21:46:02.778351800Z"
    }
   },
   "id": "e730e7d6dab9c7ca"
  },
  {
   "cell_type": "code",
   "execution_count": 67,
   "outputs": [
    {
     "data": {
      "text/plain": "1.0"
     },
     "execution_count": 67,
     "metadata": {},
     "output_type": "execute_result"
    }
   ],
   "source": [
    "p1 = Point(1,2)\n",
    "p2 = Point(2,2)\n",
    "p1*p2"
   ],
   "metadata": {
    "collapsed": false,
    "ExecuteTime": {
     "end_time": "2023-08-10T21:46:03.008880300Z",
     "start_time": "2023-08-10T21:46:02.783861300Z"
    }
   },
   "id": "cfe2cfc4b1ebd249"
  },
  {
   "cell_type": "code",
   "execution_count": 68,
   "outputs": [
    {
     "data": {
      "text/plain": "2"
     },
     "execution_count": 68,
     "metadata": {},
     "output_type": "execute_result"
    }
   ],
   "source": [
    "p1.y"
   ],
   "metadata": {
    "collapsed": false,
    "ExecuteTime": {
     "end_time": "2023-08-10T21:46:03.008880300Z",
     "start_time": "2023-08-10T21:46:02.793729700Z"
    }
   },
   "id": "a9699dbcc163debf"
  },
  {
   "cell_type": "code",
   "execution_count": 69,
   "outputs": [
    {
     "data": {
      "text/plain": "1"
     },
     "execution_count": 69,
     "metadata": {},
     "output_type": "execute_result"
    }
   ],
   "source": [
    "p1[0]"
   ],
   "metadata": {
    "collapsed": false,
    "ExecuteTime": {
     "end_time": "2023-08-10T21:46:03.014038400Z",
     "start_time": "2023-08-10T21:46:02.799160100Z"
    }
   },
   "id": "9c6947bdde7754e5"
  },
  {
   "cell_type": "markdown",
   "source": [
    "# ypstruct"
   ],
   "metadata": {
    "collapsed": false
   },
   "id": "4c1d0f565f0404d"
  },
  {
   "cell_type": "code",
   "execution_count": 70,
   "outputs": [],
   "source": [
    "from ypstruct import structure\n",
    "p = structure(x=10, y=20)"
   ],
   "metadata": {
    "collapsed": false,
    "ExecuteTime": {
     "end_time": "2023-08-10T21:46:03.023775700Z",
     "start_time": "2023-08-10T21:46:02.812395Z"
    }
   },
   "id": "280a8b4d67c5621a"
  },
  {
   "cell_type": "code",
   "execution_count": 71,
   "outputs": [
    {
     "data": {
      "text/plain": "10"
     },
     "execution_count": 71,
     "metadata": {},
     "output_type": "execute_result"
    }
   ],
   "source": [
    "p.x"
   ],
   "metadata": {
    "collapsed": false,
    "ExecuteTime": {
     "end_time": "2023-08-10T21:46:03.023775700Z",
     "start_time": "2023-08-10T21:46:02.813913800Z"
    }
   },
   "id": "40c3ddf3ed860607"
  },
  {
   "cell_type": "code",
   "execution_count": 72,
   "outputs": [
    {
     "data": {
      "text/plain": "10"
     },
     "execution_count": 72,
     "metadata": {},
     "output_type": "execute_result"
    }
   ],
   "source": [
    "p[\"x\"]"
   ],
   "metadata": {
    "collapsed": false,
    "ExecuteTime": {
     "end_time": "2023-08-10T21:46:03.023775700Z",
     "start_time": "2023-08-10T21:46:02.825933700Z"
    }
   },
   "id": "678f8065762a318f"
  },
  {
   "cell_type": "code",
   "execution_count": 73,
   "outputs": [],
   "source": [
    "p.x=11"
   ],
   "metadata": {
    "collapsed": false,
    "ExecuteTime": {
     "end_time": "2023-08-10T21:46:03.023775700Z",
     "start_time": "2023-08-10T21:46:02.828755Z"
    }
   },
   "id": "78f6efa85bf772aa"
  },
  {
   "cell_type": "code",
   "execution_count": 74,
   "outputs": [],
   "source": [
    "empty_point = structure(x=None, y=None)\n",
    "points = empty_point.repeat(20)\n",
    "points2 = empty_point*5"
   ],
   "metadata": {
    "collapsed": false,
    "ExecuteTime": {
     "end_time": "2023-08-10T21:46:03.023775700Z",
     "start_time": "2023-08-10T21:46:02.834698200Z"
    }
   },
   "id": "b7936214373670a6"
  },
  {
   "cell_type": "code",
   "execution_count": 75,
   "outputs": [
    {
     "data": {
      "text/plain": "[struct({'x': None, 'y': None}),\n struct({'x': None, 'y': None}),\n struct({'x': None, 'y': None}),\n struct({'x': None, 'y': None}),\n struct({'x': None, 'y': None}),\n struct({'x': None, 'y': None}),\n struct({'x': None, 'y': None}),\n struct({'x': None, 'y': None}),\n struct({'x': None, 'y': None}),\n struct({'x': None, 'y': None}),\n struct({'x': None, 'y': None}),\n struct({'x': None, 'y': None}),\n struct({'x': None, 'y': None}),\n struct({'x': None, 'y': None}),\n struct({'x': None, 'y': None}),\n struct({'x': None, 'y': None}),\n struct({'x': None, 'y': None}),\n struct({'x': None, 'y': None}),\n struct({'x': None, 'y': None}),\n struct({'x': None, 'y': None})]"
     },
     "execution_count": 75,
     "metadata": {},
     "output_type": "execute_result"
    }
   ],
   "source": [
    "points"
   ],
   "metadata": {
    "collapsed": false,
    "ExecuteTime": {
     "end_time": "2023-08-10T21:46:03.023775700Z",
     "start_time": "2023-08-10T21:46:02.845510700Z"
    }
   },
   "id": "4806a81db1ed841f"
  },
  {
   "cell_type": "code",
   "execution_count": 76,
   "outputs": [
    {
     "data": {
      "text/plain": "[struct({'x': None, 'y': None}),\n struct({'x': None, 'y': None}),\n struct({'x': None, 'y': None}),\n struct({'x': None, 'y': None}),\n struct({'x': None, 'y': None})]"
     },
     "execution_count": 76,
     "metadata": {},
     "output_type": "execute_result"
    }
   ],
   "source": [
    "points2"
   ],
   "metadata": {
    "collapsed": false,
    "ExecuteTime": {
     "end_time": "2023-08-10T21:46:03.023775700Z",
     "start_time": "2023-08-10T21:46:02.849217700Z"
    }
   },
   "id": "b08343e8ddd5dc5e"
  },
  {
   "cell_type": "markdown",
   "source": [
    "# counter"
   ],
   "metadata": {
    "collapsed": false
   },
   "id": "b83a3ae4d768c5ef"
  },
  {
   "cell_type": "code",
   "execution_count": 77,
   "outputs": [
    {
     "data": {
      "text/plain": "[5, 6, 4, 2, 4, 4, 2, 3, 2, 3]"
     },
     "execution_count": 77,
     "metadata": {},
     "output_type": "execute_result"
    }
   ],
   "source": [
    "import random\n",
    "a = [random.randint(1,6) for _ in range(10)]\n",
    "a"
   ],
   "metadata": {
    "collapsed": false,
    "ExecuteTime": {
     "end_time": "2023-08-10T21:48:22.763705200Z",
     "start_time": "2023-08-10T21:48:22.727585300Z"
    }
   },
   "id": "df12b1bc9db44c84"
  },
  {
   "cell_type": "code",
   "execution_count": 79,
   "outputs": [],
   "source": [
    "from collections import Counter\n",
    "c  = Counter(a)"
   ],
   "metadata": {
    "collapsed": false,
    "ExecuteTime": {
     "end_time": "2023-08-10T21:49:16.004098200Z",
     "start_time": "2023-08-10T21:49:15.999583800Z"
    }
   },
   "id": "1e0e0489f57f74ec"
  },
  {
   "cell_type": "code",
   "execution_count": 80,
   "outputs": [
    {
     "data": {
      "text/plain": "Counter({4: 3, 2: 3, 3: 2, 5: 1, 6: 1})"
     },
     "execution_count": 80,
     "metadata": {},
     "output_type": "execute_result"
    }
   ],
   "source": [
    "c"
   ],
   "metadata": {
    "collapsed": false,
    "ExecuteTime": {
     "end_time": "2023-08-10T21:49:17.330300400Z",
     "start_time": "2023-08-10T21:49:17.298596100Z"
    }
   },
   "id": "859252c2a0016d49"
  },
  {
   "cell_type": "code",
   "execution_count": 81,
   "outputs": [
    {
     "data": {
      "text/plain": "0"
     },
     "execution_count": 81,
     "metadata": {},
     "output_type": "execute_result"
    }
   ],
   "source": [
    "c[1]"
   ],
   "metadata": {
    "collapsed": false,
    "ExecuteTime": {
     "end_time": "2023-08-10T21:49:37.564009900Z",
     "start_time": "2023-08-10T21:49:37.528767600Z"
    }
   },
   "id": "accfe6c5343ff5a5"
  },
  {
   "cell_type": "code",
   "execution_count": 82,
   "outputs": [
    {
     "data": {
      "text/plain": "3"
     },
     "execution_count": 82,
     "metadata": {},
     "output_type": "execute_result"
    }
   ],
   "source": [
    "c[2]"
   ],
   "metadata": {
    "collapsed": false,
    "ExecuteTime": {
     "end_time": "2023-08-10T21:49:40.211985100Z",
     "start_time": "2023-08-10T21:49:40.185071900Z"
    }
   },
   "id": "c2be3134252bcbe2"
  },
  {
   "cell_type": "code",
   "execution_count": 83,
   "outputs": [
    {
     "data": {
      "text/plain": "2"
     },
     "execution_count": 83,
     "metadata": {},
     "output_type": "execute_result"
    }
   ],
   "source": [
    "c[3]"
   ],
   "metadata": {
    "collapsed": false,
    "ExecuteTime": {
     "end_time": "2023-08-10T21:49:43.974030900Z",
     "start_time": "2023-08-10T21:49:43.953635Z"
    }
   },
   "id": "d6d368606a5f108c"
  },
  {
   "cell_type": "code",
   "execution_count": 84,
   "outputs": [
    {
     "data": {
      "text/plain": "[(4, 3), (2, 3), (3, 2), (5, 1), (6, 1)]"
     },
     "execution_count": 84,
     "metadata": {},
     "output_type": "execute_result"
    }
   ],
   "source": [
    "c.most_common()"
   ],
   "metadata": {
    "collapsed": false,
    "ExecuteTime": {
     "end_time": "2023-08-10T21:49:49.089082500Z",
     "start_time": "2023-08-10T21:49:49.043618500Z"
    }
   },
   "id": "fc113cb0b984baf7"
  },
  {
   "cell_type": "code",
   "execution_count": 86,
   "outputs": [
    {
     "data": {
      "text/plain": "[(4, 3)]"
     },
     "execution_count": 86,
     "metadata": {},
     "output_type": "execute_result"
    }
   ],
   "source": [
    "c.most_common()[0]\n",
    "c.most_common(1)"
   ],
   "metadata": {
    "collapsed": false,
    "ExecuteTime": {
     "end_time": "2023-08-10T21:50:19.805033Z",
     "start_time": "2023-08-10T21:50:19.679489800Z"
    }
   },
   "id": "a087f4499c674306"
  },
  {
   "cell_type": "code",
   "execution_count": 88,
   "outputs": [
    {
     "data": {
      "text/plain": "(6, 1)"
     },
     "execution_count": 88,
     "metadata": {},
     "output_type": "execute_result"
    }
   ],
   "source": [
    "c.most_common()[-1]"
   ],
   "metadata": {
    "collapsed": false,
    "ExecuteTime": {
     "end_time": "2023-08-10T21:50:35.199771100Z",
     "start_time": "2023-08-10T21:50:35.161349300Z"
    }
   },
   "id": "82c395d5bde7c7ec"
  },
  {
   "cell_type": "code",
   "execution_count": 89,
   "outputs": [
    {
     "data": {
      "text/plain": "[(4, 3), (2, 3), (3, 2)]"
     },
     "execution_count": 89,
     "metadata": {},
     "output_type": "execute_result"
    }
   ],
   "source": [
    "c.most_common(3)"
   ],
   "metadata": {
    "collapsed": false,
    "ExecuteTime": {
     "end_time": "2023-08-10T21:50:46.670782900Z",
     "start_time": "2023-08-10T21:50:46.619975400Z"
    }
   },
   "id": "422fd064dbb5d68"
  },
  {
   "cell_type": "code",
   "execution_count": 90,
   "outputs": [],
   "source": [
    "b = [random.randint(1,6) for _ in range(10)]\n",
    "c.update(b)"
   ],
   "metadata": {
    "collapsed": false,
    "ExecuteTime": {
     "end_time": "2023-08-10T21:51:55.551672Z",
     "start_time": "2023-08-10T21:51:55.519633400Z"
    }
   },
   "id": "53d5004e5f535198"
  },
  {
   "cell_type": "code",
   "execution_count": 92,
   "outputs": [
    {
     "data": {
      "text/plain": "[5, 5, 5, 5, 6, 6, 4, 4, 4, 4, 2, 2, 2, 3, 3, 3, 3, 1, 1, 1]"
     },
     "execution_count": 92,
     "metadata": {},
     "output_type": "execute_result"
    }
   ],
   "source": [
    "list(c.elements())"
   ],
   "metadata": {
    "collapsed": false,
    "ExecuteTime": {
     "end_time": "2023-08-10T21:52:56.877755200Z",
     "start_time": "2023-08-10T21:52:56.861839800Z"
    }
   },
   "id": "ae8198e86653469f"
  },
  {
   "cell_type": "code",
   "execution_count": 93,
   "outputs": [],
   "source": [
    "del c[1]"
   ],
   "metadata": {
    "collapsed": false,
    "ExecuteTime": {
     "end_time": "2023-08-10T21:53:41.895258800Z",
     "start_time": "2023-08-10T21:53:41.841150700Z"
    }
   },
   "id": "fdcdcd021ba62889"
  },
  {
   "cell_type": "code",
   "execution_count": 94,
   "outputs": [
    {
     "data": {
      "text/plain": "Counter({5: 4, 4: 4, 3: 4, 2: 3, 6: 2})"
     },
     "execution_count": 94,
     "metadata": {},
     "output_type": "execute_result"
    }
   ],
   "source": [
    "c"
   ],
   "metadata": {
    "collapsed": false,
    "ExecuteTime": {
     "end_time": "2023-08-10T21:53:43.283694300Z",
     "start_time": "2023-08-10T21:53:43.215175900Z"
    }
   },
   "id": "373e3307c7db3077"
  },
  {
   "cell_type": "code",
   "execution_count": 95,
   "outputs": [],
   "source": [
    "c.clear()"
   ],
   "metadata": {
    "collapsed": false,
    "ExecuteTime": {
     "end_time": "2023-08-10T21:53:55.294912100Z",
     "start_time": "2023-08-10T21:53:55.236390500Z"
    }
   },
   "id": "633aa1715fce5aec"
  },
  {
   "cell_type": "code",
   "execution_count": 96,
   "outputs": [
    {
     "data": {
      "text/plain": "Counter()"
     },
     "execution_count": 96,
     "metadata": {},
     "output_type": "execute_result"
    }
   ],
   "source": [
    "c"
   ],
   "metadata": {
    "collapsed": false,
    "ExecuteTime": {
     "end_time": "2023-08-10T21:53:56.444786400Z",
     "start_time": "2023-08-10T21:53:56.400595300Z"
    }
   },
   "id": "6760b80f147e96e1"
  },
  {
   "cell_type": "code",
   "execution_count": null,
   "outputs": [],
   "source": [],
   "metadata": {
    "collapsed": false
   },
   "id": "3a893895e078c6b1"
  }
 ],
 "metadata": {
  "kernelspec": {
   "display_name": "Python 3",
   "language": "python",
   "name": "python3"
  },
  "language_info": {
   "codemirror_mode": {
    "name": "ipython",
    "version": 2
   },
   "file_extension": ".py",
   "mimetype": "text/x-python",
   "name": "python",
   "nbconvert_exporter": "python",
   "pygments_lexer": "ipython2",
   "version": "2.7.6"
  }
 },
 "nbformat": 4,
 "nbformat_minor": 5
}
