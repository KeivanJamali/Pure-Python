{
 "cells": [
  {
   "cell_type": "code",
   "execution_count": 3,
   "id": "initial_id",
   "metadata": {
    "collapsed": true,
    "ExecuteTime": {
     "end_time": "2024-01-11T23:31:02.538367900Z",
     "start_time": "2024-01-11T23:31:02.400628Z"
    }
   },
   "outputs": [],
   "source": [
    "%load_ext autoreload\n",
    "%autoreload 2"
   ]
  },
  {
   "cell_type": "code",
   "outputs": [],
   "source": [
    "import Eco_toolkit\n",
    "primary = Eco_toolkit.Primary_Eco()\n",
    "equation = Eco_toolkit.Equation_Eco()\n",
    "visualize = Eco_toolkit.Eco()\n",
    "tax = Eco_toolkit.Tax_Eco()"
   ],
   "metadata": {
    "collapsed": false,
    "ExecuteTime": {
     "end_time": "2024-01-11T23:31:58.298556900Z",
     "start_time": "2024-01-11T23:31:58.252004600Z"
    }
   },
   "id": "8b7921df6cc4f196",
   "execution_count": 5
  },
  {
   "cell_type": "code",
   "outputs": [
    {
     "name": "stdout",
     "output_type": "stream",
     "text": [
      "__(P/A, 0.1250, 5) = 3.5606__\n"
     ]
    },
    {
     "data": {
      "text/plain": "3.5605683415468508"
     },
     "execution_count": 11,
     "metadata": {},
     "output_type": "execute_result"
    }
   ],
   "source": [
    "i = 0.125\n",
    "primary.a_to_p(i, 5)"
   ],
   "metadata": {
    "collapsed": false,
    "ExecuteTime": {
     "end_time": "2024-01-11T23:34:29.076893800Z",
     "start_time": "2024-01-11T23:34:28.943665500Z"
    }
   },
   "id": "58b6001d8360f31",
   "execution_count": 11
  },
  {
   "cell_type": "code",
   "outputs": [],
   "source": [],
   "metadata": {
    "collapsed": false
   },
   "id": "ea6cc4ff9f142ae"
  }
 ],
 "metadata": {
  "kernelspec": {
   "display_name": "Python 3",
   "language": "python",
   "name": "python3"
  },
  "language_info": {
   "codemirror_mode": {
    "name": "ipython",
    "version": 2
   },
   "file_extension": ".py",
   "mimetype": "text/x-python",
   "name": "python",
   "nbconvert_exporter": "python",
   "pygments_lexer": "ipython2",
   "version": "2.7.6"
  }
 },
 "nbformat": 4,
 "nbformat_minor": 5
}
