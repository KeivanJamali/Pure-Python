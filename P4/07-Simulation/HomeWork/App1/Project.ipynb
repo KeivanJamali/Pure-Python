{
 "cells": [
  {
   "cell_type": "code",
   "execution_count": 1,
   "metadata": {},
   "outputs": [],
   "source": [
    "%load_ext autoreload\n",
    "%autoreload 2"
   ]
  },
  {
   "cell_type": "code",
   "execution_count": 2,
   "metadata": {},
   "outputs": [],
   "source": [
    "seed1 = [2062615503, 1, 2, 3, 4, 5, 6, 7, 8, 9]\n",
    "seed2 = [1383670351, 11111, 22222, 33333, 44444, 55555, 66666, 77777, 88888, 99999]\n"
   ]
  },
  {
   "cell_type": "code",
   "execution_count": 4,
   "metadata": {},
   "outputs": [
    {
     "name": "stdout",
     "output_type": "stream",
     "text": [
      "=======================================================\n",
      "\n",
      "Therefore, Average waiting time for People in Queue (Q_bar) will be 24.75\n",
      "Therefore, Average number of People in Queue (N_Q) will be 6.20\n",
      "We have 99 people with more that 4.5 min system time. Therefore the percentage is 99.00\n",
      "Therefore the U=99.12\n",
      "\n",
      "=======================================================\n"
     ]
    }
   ],
   "source": [
    "from modular.number_generator import Exponential_Generator, Deterministic_Generator\n",
    "from modular.Engine import Queue_Simulator\n",
    "mean0, mean1 = 4, 4.5\n",
    "\n",
    "gen1 = Deterministic_Generator(mean=mean0)\n",
    "gen2 = Deterministic_Generator(mean=mean1)\n",
    "model = Queue_Simulator(interval_generator=gen1,\n",
    "                        service_time_generator=gen2,\n",
    "                        print_=False,\n",
    "                        detailed=False)\n",
    "model.fit(policy=\"FCFS\", last_id=100)"
   ]
  },
  {
   "cell_type": "code",
   "execution_count": 3,
   "metadata": {},
   "outputs": [
    {
     "name": "stdout",
     "output_type": "stream",
     "text": [
      "=======================================================\n",
      "\n",
      "Therefore, Average waiting time for People in Queue (Q_bar) will be 51.92\n",
      "Therefore, Average number of People in Queue (N_Q) will be 13.43\n",
      "We have 99 people with more that 4.5 min system time. Therefore the percentage is 99.00\n",
      "Therefore the U=99.96\n",
      "\n",
      "=======================================================\n",
      "=======================================================\n",
      "\n",
      "Therefore, Average waiting time for People in Queue (Q_bar) will be 51.33\n",
      "Therefore, Average number of People in Queue (N_Q) will be 11.48\n",
      "We have 97 people with more that 4.5 min system time. Therefore the percentage is 97.00\n",
      "Therefore the U=77.31\n",
      "\n",
      "=======================================================\n",
      "=======================================================\n",
      "\n",
      "Therefore, Average waiting time for People in Queue (Q_bar) will be 34.59\n",
      "Therefore, Average number of People in Queue (N_Q) will be 7.81\n",
      "We have 97 people with more that 4.5 min system time. Therefore the percentage is 97.00\n",
      "Therefore the U=78.43\n",
      "\n",
      "=======================================================\n",
      "=======================================================\n",
      "\n",
      "Therefore, Average waiting time for People in Queue (Q_bar) will be 44.50\n",
      "Therefore, Average number of People in Queue (N_Q) will be 10.38\n",
      "We have 96 people with more that 4.5 min system time. Therefore the percentage is 96.00\n",
      "Therefore the U=78.73\n",
      "\n",
      "=======================================================\n",
      "=======================================================\n",
      "\n",
      "Therefore, Average waiting time for People in Queue (Q_bar) will be 34.54\n",
      "Therefore, Average number of People in Queue (N_Q) will be 7.79\n",
      "We have 97 people with more that 4.5 min system time. Therefore the percentage is 97.00\n",
      "Therefore the U=78.10\n",
      "\n",
      "=======================================================\n",
      "=======================================================\n",
      "\n",
      "Therefore, Average waiting time for People in Queue (Q_bar) will be 27.78\n",
      "Therefore, Average number of People in Queue (N_Q) will be 5.32\n",
      "We have 93 people with more that 4.5 min system time. Therefore the percentage is 93.00\n",
      "Therefore the U=75.97\n",
      "\n",
      "=======================================================\n",
      "=======================================================\n",
      "\n",
      "Therefore, Average waiting time for People in Queue (Q_bar) will be 21.64\n",
      "Therefore, Average number of People in Queue (N_Q) will be 4.62\n",
      "We have 96 people with more that 4.5 min system time. Therefore the percentage is 96.00\n",
      "Therefore the U=76.91\n",
      "\n",
      "=======================================================\n",
      "=======================================================\n",
      "\n",
      "Therefore, Average waiting time for People in Queue (Q_bar) will be 41.55\n",
      "Therefore, Average number of People in Queue (N_Q) will be 8.54\n",
      "We have 92 people with more that 4.5 min system time. Therefore the percentage is 92.00\n",
      "Therefore the U=74.72\n",
      "\n",
      "=======================================================\n",
      "=======================================================\n",
      "\n",
      "Therefore, Average waiting time for People in Queue (Q_bar) will be 29.54\n",
      "Therefore, Average number of People in Queue (N_Q) will be 7.00\n",
      "We have 96 people with more that 4.5 min system time. Therefore the percentage is 96.00\n",
      "Therefore the U=77.98\n",
      "\n",
      "=======================================================\n",
      "=======================================================\n",
      "\n",
      "Therefore, Average waiting time for People in Queue (Q_bar) will be 48.73\n",
      "Therefore, Average number of People in Queue (N_Q) will be 10.22\n",
      "We have 97 people with more that 4.5 min system time. Therefore the percentage is 97.00\n",
      "Therefore the U=79.90\n",
      "\n",
      "=======================================================\n"
     ]
    }
   ],
   "source": [
    "from modular.main import main\n",
    "\n",
    "model = main(policy=\"FCFS\",\n",
    "             stop_type=\"Customer\",\n",
    "             stop_limit=100,\n",
    "             queue_type=\"MDI\",\n",
    "             plot_it=False,\n",
    "             Y0=seed1,\n",
    "             Y1=seed2)"
   ]
  },
  {
   "cell_type": "code",
   "execution_count": null,
   "metadata": {},
   "outputs": [],
   "source": []
  }
 ],
 "metadata": {
  "kernelspec": {
   "display_name": "Python 3",
   "language": "python",
   "name": "python3"
  },
  "language_info": {
   "codemirror_mode": {
    "name": "ipython",
    "version": 3
   },
   "file_extension": ".py",
   "mimetype": "text/x-python",
   "name": "python",
   "nbconvert_exporter": "python",
   "pygments_lexer": "ipython3",
   "version": "3.11.5"
  }
 },
 "nbformat": 4,
 "nbformat_minor": 2
}
