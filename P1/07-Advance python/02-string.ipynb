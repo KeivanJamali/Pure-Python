{
 "cells": [
  {
   "cell_type": "code",
   "execution_count": 16,
   "id": "initial_id",
   "metadata": {
    "collapsed": true,
    "ExecuteTime": {
     "end_time": "2023-08-06T20:15:49.729897600Z",
     "start_time": "2023-08-06T20:15:49.729897600Z"
    }
   },
   "outputs": [],
   "source": [
    "data = {\n",
    "    101: {\"name\": \"Ali\", \"balance\": 1000},\n",
    "    102: {\"name\": \"Sara\", \"balance\": 500},\n",
    "    103: {\"name\": \"Zohreh\", \"balance\": 2100},\n",
    "    104: {\"name\": \"Babak\", \"balance\": 600},\n",
    "    105: {\"name\": \"Hamid\", \"balance\": 700}\n",
    "}\n",
    "\n",
    "id = 101\n",
    "item = data[id]"
   ]
  },
  {
   "cell_type": "code",
   "execution_count": 17,
   "outputs": [
    {
     "name": "stdout",
     "output_type": "stream",
     "text": [
      "Ali has 1000 unit in his account\n",
      "Ali has 1000 unit in his account\n",
      "Ali has 1000 unit in his account\n",
      "Ali has 1000 unit in his account\n",
      "Ali has 1000 unit in their account\n"
     ]
    }
   ],
   "source": [
    "print(item[\"name\"], \"has\", item[\"balance\"], \"unit in his account\")\n",
    "\n",
    "print(item[\"name\"] + \" has \" + str(item[\"balance\"]) + \" unit in his account\")\n",
    "\n",
    "t = (item[\"name\"], \"has\", str(item[\"balance\"]), \"unit in his account\")\n",
    "print(\" \".join(t))\n",
    "\n",
    "s = \"%s has %s unit in his account\" % (item[\"name\"], item[\"balance\"])\n",
    "print(s)\n",
    "\n",
    "s = \"{name} has {balance} unit in their account\".format(**item)\n",
    "print(s)"
   ],
   "metadata": {
    "collapsed": false,
    "ExecuteTime": {
     "end_time": "2023-08-06T20:15:49.768577900Z",
     "start_time": "2023-08-06T20:15:49.755421600Z"
    }
   },
   "id": "1a84e573573581f6"
  },
  {
   "cell_type": "code",
   "execution_count": 18,
   "outputs": [
    {
     "name": "stdout",
     "output_type": "stream",
     "text": [
      "a=10, b = 20\n"
     ]
    }
   ],
   "source": [
    "a = 10\n",
    "b = 20\n",
    "print(f\"{a=}, {b = }\")"
   ],
   "metadata": {
    "collapsed": false,
    "ExecuteTime": {
     "end_time": "2023-08-06T20:15:50.378108Z",
     "start_time": "2023-08-06T20:15:50.368166700Z"
    }
   },
   "id": "6c8c7459b47e6a31"
  },
  {
   "cell_type": "code",
   "execution_count": 25,
   "outputs": [
    {
     "name": "stdout",
     "output_type": "stream",
     "text": [
      "Ali has 1000 units in their account\n"
     ]
    }
   ],
   "source": [
    "# new method\n",
    "from string import Template\n",
    "template = Template(\"$name has $balance units in their account\")\n",
    "s = template.substitute(name = item[\"name\"], balance = item[\"balance\"])\n",
    "s = template.substitute(**item)\n",
    "s = template.substitute(item)\n",
    "print(s)"
   ],
   "metadata": {
    "collapsed": false,
    "ExecuteTime": {
     "end_time": "2023-08-06T20:19:14.183734700Z",
     "start_time": "2023-08-06T20:19:14.076965700Z"
    }
   },
   "id": "5797800699bdd62d"
  },
  {
   "cell_type": "code",
   "execution_count": 27,
   "outputs": [
    {
     "name": "stdout",
     "output_type": "stream",
     "text": [
      "65\n",
      "32\n",
      "10\n"
     ]
    }
   ],
   "source": [
    "print(ord(\"A\"))\n",
    "print(ord(\" \"))\n",
    "print(ord(\"\\n\"))"
   ],
   "metadata": {
    "collapsed": false,
    "ExecuteTime": {
     "end_time": "2023-08-06T20:22:24.205338100Z",
     "start_time": "2023-08-06T20:22:24.097703100Z"
    }
   },
   "id": "dd70f01ed063bda2"
  },
  {
   "cell_type": "code",
   "execution_count": 37,
   "outputs": [
    {
     "name": "stdout",
     "output_type": "stream",
     "text": [
      "A\n",
      "a\n",
      "F\n",
      "f\n",
      "\n",
      "¦\n",
      "Æ\n",
      "æ\n",
      "Ć\n"
     ]
    }
   ],
   "source": [
    "print(chr(65))\n",
    "print(chr(97))\n",
    "print(chr(70))\n",
    "print(chr(70+32))\n",
    "print(chr(70+32+32))\n",
    "print(chr(70+32+32+32))\n",
    "print(chr(70+32+32+32+32))\n",
    "print(chr(70+32+32+32+32+32))\n",
    "print(chr(70+32+32+32+32+32+32))"
   ],
   "metadata": {
    "collapsed": false,
    "ExecuteTime": {
     "end_time": "2023-08-06T20:23:49.039963300Z",
     "start_time": "2023-08-06T20:23:49.035320500Z"
    }
   },
   "id": "c24077844b69acb9"
  },
  {
   "cell_type": "code",
   "execution_count": null,
   "outputs": [],
   "source": [],
   "metadata": {
    "collapsed": false
   },
   "id": "1ddb8e47ed3e13a4"
  }
 ],
 "metadata": {
  "kernelspec": {
   "display_name": "Python 3",
   "language": "python",
   "name": "python3"
  },
  "language_info": {
   "codemirror_mode": {
    "name": "ipython",
    "version": 2
   },
   "file_extension": ".py",
   "mimetype": "text/x-python",
   "name": "python",
   "nbconvert_exporter": "python",
   "pygments_lexer": "ipython2",
   "version": "2.7.6"
  }
 },
 "nbformat": 4,
 "nbformat_minor": 5
}
