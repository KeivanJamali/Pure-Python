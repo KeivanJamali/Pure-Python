{
 "cells": [
  {
   "cell_type": "code",
   "execution_count": 2,
   "metadata": {},
   "outputs": [],
   "source": [
    "%load_ext autoreload\n",
    "%autoreload 2"
   ]
  },
  {
   "cell_type": "code",
   "execution_count": 3,
   "metadata": {},
   "outputs": [],
   "source": [
    "import sympy as sp\n",
    "from Eco_toolkit import Primary_Eco"
   ]
  },
  {
   "cell_type": "code",
   "execution_count": 4,
   "metadata": {},
   "outputs": [],
   "source": [
    "model = Primary_Eco()"
   ]
  },
  {
   "cell_type": "code",
   "execution_count": 19,
   "metadata": {},
   "outputs": [
    {
     "data": {
      "text/latex": [
       "$\\displaystyle \\frac{11 \\left(\\left(i + 1\\right)^{20} - 1\\right)}{i \\left(i + 1\\right)^{21}}$"
      ],
      "text/plain": [
       "11*((i + 1)**20 - 1)/(i*(i + 1)**21)"
      ]
     },
     "execution_count": 19,
     "metadata": {},
     "output_type": "execute_result"
    }
   ],
   "source": [
    "i = sp.symbols(\"i\")\n",
    "# i = 0.070965\n",
    "net_profit_old = model.a_to_p(i=i, n=20, a=11) * model.f_to_p(i=i, n=1)\n",
    "net_profit_old\n"
   ]
  },
  {
   "cell_type": "code",
   "execution_count": null,
   "metadata": {},
   "outputs": [
    {
     "data": {
      "text/latex": [
       "$\\displaystyle - \\frac{11}{\\left(i + 1\\right)^{12}} - \\frac{11}{\\left(i + 1\\right)^{13}} + \\frac{11 \\left(\\left(i + 1\\right)^{20} - 1\\right)}{i \\left(i + 1\\right)^{21}}$"
      ],
      "text/plain": [
       "-11/(i + 1)**12 - 11/(i + 1)**13 + 11*((i + 1)**20 - 1)/(i*(i + 1)**21)"
      ]
     },
     "execution_count": 23,
     "metadata": {},
     "output_type": "execute_result"
    }
   ],
   "source": [
    "net_profit = net_profit_old - model.f_to_p(i=i, n=12, f=11) - model.f_to_p(i=i, n=13, f=11)\n",
    "net_profit"
   ]
  },
  {
   "cell_type": "code",
   "execution_count": 49,
   "metadata": {},
   "outputs": [
    {
     "data": {
      "text/latex": [
       "$\\displaystyle -108 - \\frac{11}{\\left(i + 1\\right)^{12}} - \\frac{11}{\\left(i + 1\\right)^{13}} + \\frac{11 \\left(\\left(i + 1\\right)^{20} - 1\\right)}{i \\left(i + 1\\right)^{21}}$"
      ],
      "text/plain": [
       "-108 - 11/(i + 1)**12 - 11/(i + 1)**13 + 11*((i + 1)**20 - 1)/(i*(i + 1)**21)"
      ]
     },
     "execution_count": 49,
     "metadata": {},
     "output_type": "execute_result"
    }
   ],
   "source": [
    "npw = net_profit - 108\n",
    "npw"
   ]
  },
  {
   "cell_type": "code",
   "execution_count": 50,
   "metadata": {},
   "outputs": [
    {
     "data": {
      "text/latex": [
       "$\\displaystyle \\frac{i \\left(i + 1\\right)^{20} \\left(- \\frac{11}{\\left(i + 1\\right)^{12}} - \\frac{11}{\\left(i + 1\\right)^{13}} + \\frac{11 \\left(\\left(i + 1\\right)^{20} - 1\\right)}{i \\left(i + 1\\right)^{21}}\\right)}{\\left(i + 1\\right)^{20} - 1}$"
      ],
      "text/plain": [
       "i*(i + 1)**20*(-11/(i + 1)**12 - 11/(i + 1)**13 + 11*((i + 1)**20 - 1)/(i*(i + 1)**21))/((i + 1)**20 - 1)"
      ]
     },
     "execution_count": 50,
     "metadata": {},
     "output_type": "execute_result"
    }
   ],
   "source": [
    "EAF = (npw+108) * model.p_to_a(i=i, n=20, print_=False)\n",
    "EAF"
   ]
  },
  {
   "cell_type": "code",
   "execution_count": 51,
   "metadata": {},
   "outputs": [
    {
     "data": {
      "text/latex": [
       "$\\displaystyle - \\frac{108 i \\left(i + 1\\right)^{20}}{\\left(i + 1\\right)^{20} - 1}$"
      ],
      "text/plain": [
       "-108*i*(i + 1)**20/((i + 1)**20 - 1)"
      ]
     },
     "execution_count": 51,
     "metadata": {},
     "output_type": "execute_result"
    }
   ],
   "source": [
    "EAC = -108 * model.p_to_a(i=i, n=20)\n",
    "EAC"
   ]
  },
  {
   "cell_type": "code",
   "execution_count": 52,
   "metadata": {},
   "outputs": [
    {
     "data": {
      "text/latex": [
       "$\\displaystyle - \\frac{11}{108 \\left(i + 1\\right)^{12}} - \\frac{11}{108 \\left(i + 1\\right)^{13}} + \\frac{11 \\left(\\left(i + 1\\right)^{20} - 1\\right)}{108 i \\left(i + 1\\right)^{21}}$"
      ],
      "text/plain": [
       "-11/(108*(i + 1)**12) - 11/(108*(i + 1)**13) + 11*((i + 1)**20 - 1)/(108*i*(i + 1)**21)"
      ]
     },
     "execution_count": 52,
     "metadata": {},
     "output_type": "execute_result"
    }
   ],
   "source": [
    "bc = net_profit/108\n",
    "bc"
   ]
  },
  {
   "cell_type": "code",
   "execution_count": 53,
   "metadata": {},
   "outputs": [
    {
     "data": {
      "text/latex": [
       "$\\displaystyle -0.000488833248908804$"
      ],
      "text/plain": [
       "-0.000488833248908804"
      ]
     },
     "execution_count": 53,
     "metadata": {},
     "output_type": "execute_result"
    }
   ],
   "source": [
    "npw.subs(i, 0.060425)"
   ]
  },
  {
   "cell_type": "code",
   "execution_count": null,
   "metadata": {},
   "outputs": [
    {
     "data": {
      "text/latex": [
       "$\\displaystyle NPW = -108 - \\frac{11}{\\left(i + 1\\right)^{12}} - \\frac{11}{\\left(i + 1\\right)^{13}} + \\frac{11 \\left(\\left(i + 1\\right)^{20} - 1\\right)}{i \\left(i + 1\\right)^{21}}$"
      ],
      "text/plain": [
       "Eq(NPW, -108 - 11/(i + 1)**12 - 11/(i + 1)**13 + 11*((i + 1)**20 - 1)/(i*(i + 1)**21))"
      ]
     },
     "metadata": {},
     "output_type": "display_data"
    },
    {
     "data": {
      "text/latex": [
       "$\\displaystyle EAC = \\frac{i \\left(i + 1\\right)^{20} \\left(- \\frac{11}{\\left(i + 1\\right)^{12}} - \\frac{11}{\\left(i + 1\\right)^{13}} + \\frac{11 \\left(\\left(i + 1\\right)^{20} - 1\\right)}{i \\left(i + 1\\right)^{21}}\\right)}{\\left(i + 1\\right)^{20} - 1}$"
      ],
      "text/plain": [
       "Eq(EAC, i*(i + 1)**20*(-11/(i + 1)**12 - 11/(i + 1)**13 + 11*((i + 1)**20 - 1)/(i*(i + 1)**21))/((i + 1)**20 - 1))"
      ]
     },
     "metadata": {},
     "output_type": "display_data"
    },
    {
     "data": {
      "text/latex": [
       "$\\displaystyle EAF = - \\frac{108 i \\left(i + 1\\right)^{20}}{\\left(i + 1\\right)^{20} - 1}$"
      ],
      "text/plain": [
       "Eq(EAF, -108*i*(i + 1)**20/((i + 1)**20 - 1))"
      ]
     },
     "metadata": {},
     "output_type": "display_data"
    },
    {
     "data": {
      "text/latex": [
       "$\\displaystyle B/C = - \\frac{11}{108 \\left(i + 1\\right)^{12}} - \\frac{11}{108 \\left(i + 1\\right)^{13}} + \\frac{11 \\left(\\left(i + 1\\right)^{20} - 1\\right)}{108 i \\left(i + 1\\right)^{21}}$"
      ],
      "text/plain": [
       "Eq(B/C, -11/(108*(i + 1)**12) - 11/(108*(i + 1)**13) + 11*((i + 1)**20 - 1)/(108*i*(i + 1)**21))"
      ]
     },
     "metadata": {},
     "output_type": "display_data"
    }
   ],
   "source": [
    "npw_p, eaf_p, eac_p, bc_p = sp.symbols(\"NPW, EAC, EAF, B/C\")\n",
    "display(sp.Eq(npw_p, npw))\n",
    "display(sp.Eq(eaf_p, EAF))\n",
    "display(sp.Eq(eac_p, EAC))\n",
    "display(sp.Eq(bc_p, bc))"
   ]
  },
  {
   "cell_type": "code",
   "execution_count": null,
   "metadata": {},
   "outputs": [],
   "source": []
  }
 ],
 "metadata": {
  "kernelspec": {
   "display_name": "Python 3",
   "language": "python",
   "name": "python3"
  },
  "language_info": {
   "codemirror_mode": {
    "name": "ipython",
    "version": 3
   },
   "file_extension": ".py",
   "mimetype": "text/x-python",
   "name": "python",
   "nbconvert_exporter": "python",
   "pygments_lexer": "ipython3",
   "version": "3.12.1"
  }
 },
 "nbformat": 4,
 "nbformat_minor": 2
}
