{
 "cells": [
  {
   "cell_type": "code",
   "execution_count": 16,
   "id": "fbc78bf9",
   "metadata": {},
   "outputs": [
    {
     "name": "stdout",
     "output_type": "stream",
     "text": [
      "The autoreload extension is already loaded. To reload it, use:\n",
      "  %reload_ext autoreload\n"
     ]
    }
   ],
   "source": [
    "%load_ext autoreload\n",
    "%autoreload 2"
   ]
  },
  {
   "cell_type": "code",
   "execution_count": 17,
   "id": "ef6daab1",
   "metadata": {},
   "outputs": [],
   "source": [
    "from modular.Individual_Engine import One_Server_Queue\n",
    "from modular.Number_Generator import Exponential_Generator"
   ]
  },
  {
   "cell_type": "code",
   "execution_count": 18,
   "id": "9b3e82a3",
   "metadata": {},
   "outputs": [
    {
     "name": "stdout",
     "output_type": "stream",
     "text": [
      "[INFO] Customer limit reached. The simulation finished successfuly.\n",
      "\n",
      "--- Simulation Report ---\n",
      "Total customers arrived: 1003\n",
      "Average wait time in queue: 0.50\n",
      "Average wait time in system: 12.63\n",
      "Average number in system: 2.5\n",
      "Simulation ended at time: 5077.95 with 1000 customer served.\n"
     ]
    }
   ],
   "source": [
    "arrival_gen = Exponential_Generator(seed=42, mean=5)\n",
    "service_time_gen = Exponential_Generator(seed=42, mean=12)\n",
    "\n",
    "model1 = One_Server_Queue(arrival_gen=arrival_gen,\n",
    "                         service_time_gen=service_time_gen,\n",
    "                         sim_customer_limit=1000,\n",
    "                         capacity=4)\n",
    "model1.run(policy=\"FCFS\")"
   ]
  },
  {
   "cell_type": "code",
   "execution_count": 19,
   "id": "a277c4e8",
   "metadata": {},
   "outputs": [
    {
     "name": "stdout",
     "output_type": "stream",
     "text": [
      "[INFO] Customer limit reached. The simulation finished successfuly.\n",
      "\n",
      "--- Simulation Report ---\n",
      "Total customers arrived: 2648\n",
      "Average wait time in queue: 59.14\n",
      "Average wait time in system: 65.76\n",
      "Average number in system: 9.9\n",
      "Simulation ended at time: 6635.55 with 1000 customer served.\n"
     ]
    }
   ],
   "source": [
    "arrival_gen = Exponential_Generator(seed=42, mean=5)\n",
    "service_time_gen = Exponential_Generator(seed=42, mean=12)\n",
    "\n",
    "model2 = One_Server_Queue(arrival_gen=arrival_gen,\n",
    "                         service_time_gen=service_time_gen,\n",
    "                         sim_customer_limit=1000,\n",
    "                         capacity=3)\n",
    "model2.run(policy=\"SPT\")"
   ]
  },
  {
   "cell_type": "code",
   "execution_count": 20,
   "id": "a93adf70",
   "metadata": {},
   "outputs": [],
   "source": [
    "from modular.Multirun_Engine import Queue_Program"
   ]
  },
  {
   "cell_type": "code",
   "execution_count": 34,
   "id": "f0f696a1",
   "metadata": {},
   "outputs": [
    {
     "name": "stdout",
     "output_type": "stream",
     "text": [
      "[INFO] Customer limit reached. The simulation finished successfuly.\n",
      "[INFO] Customer limit reached. The simulation finished successfuly.\n",
      "[INFO] Customer limit reached. The simulation finished successfuly.\n",
      "[INFO] Customer limit reached. The simulation finished successfuly.\n",
      "[INFO] Customer limit reached. The simulation finished successfuly.\n",
      "[INFO] Customer limit reached. The simulation finished successfuly.\n",
      "[INFO] Customer limit reached. The simulation finished successfuly.\n",
      "[INFO] Customer limit reached. The simulation finished successfuly.\n",
      "[INFO] Customer limit reached. The simulation finished successfuly.\n",
      "[INFO] Customer limit reached. The simulation finished successfuly.\n"
     ]
    },
    {
     "data": {
      "application/vnd.microsoft.datawrangler.viewer.v0+json": {
       "columns": [
        {
         "name": "index",
         "rawType": "object",
         "type": "string"
        },
        {
         "name": "total_time",
         "rawType": "float64",
         "type": "float"
        },
        {
         "name": "arrived",
         "rawType": "float64",
         "type": "float"
        },
        {
         "name": "served",
         "rawType": "float64",
         "type": "float"
        },
        {
         "name": "wait_time_queue",
         "rawType": "float64",
         "type": "float"
        },
        {
         "name": "wait_time_system",
         "rawType": "float64",
         "type": "float"
        },
        {
         "name": "number_system",
         "rawType": "float64",
         "type": "float"
        }
       ],
       "conversionMethod": "pd.DataFrame",
       "ref": "e70a9db0-cf64-46a3-bc58-e72753687af9",
       "rows": [
        [
         "count",
         "10.0",
         "10.0",
         "10.0",
         "10.0",
         "10.0",
         "10.0"
        ],
        [
         "mean",
         "4924.650021129112",
         "1002.2",
         "1000.0",
         "0.5112313928057434",
         "12.28169328455282",
         "2.4980319488908864"
        ],
        [
         "std",
         "151.06718208028636",
         "1.1352924243950935",
         "0.0",
         "0.08393630848468184",
         "0.3922662198329533",
         "0.0169792626043387"
        ],
        [
         "min",
         "4643.609532585395",
         "1000.0",
         "1000.0",
         "0.415898349640483",
         "11.53414300566869",
         "2.480877179871212"
        ],
        [
         "25%",
         "4838.609461525034",
         "1001.25",
         "1000.0",
         "0.4406954102273879",
         "12.085043231253684",
         "2.48416978574251"
        ],
        [
         "50%",
         "4917.6612876484505",
         "1003.0",
         "1000.0",
         "0.4953545440689756",
         "12.392243611465371",
         "2.491660544416738"
        ],
        [
         "75%",
         "5042.055247046883",
         "1003.0",
         "1000.0",
         "0.5670470306098021",
         "12.510893522740805",
         "2.5084328409861514"
        ],
        [
         "max",
         "5120.082547136322",
         "1003.0",
         "1000.0",
         "0.6386214159142051",
         "12.762133642682482",
         "2.5247444622469275"
        ]
       ],
       "shape": {
        "columns": 6,
        "rows": 8
       }
      },
      "text/html": [
       "<div>\n",
       "<style scoped>\n",
       "    .dataframe tbody tr th:only-of-type {\n",
       "        vertical-align: middle;\n",
       "    }\n",
       "\n",
       "    .dataframe tbody tr th {\n",
       "        vertical-align: top;\n",
       "    }\n",
       "\n",
       "    .dataframe thead th {\n",
       "        text-align: right;\n",
       "    }\n",
       "</style>\n",
       "<table border=\"1\" class=\"dataframe\">\n",
       "  <thead>\n",
       "    <tr style=\"text-align: right;\">\n",
       "      <th></th>\n",
       "      <th>total_time</th>\n",
       "      <th>arrived</th>\n",
       "      <th>served</th>\n",
       "      <th>wait_time_queue</th>\n",
       "      <th>wait_time_system</th>\n",
       "      <th>number_system</th>\n",
       "    </tr>\n",
       "  </thead>\n",
       "  <tbody>\n",
       "    <tr>\n",
       "      <th>count</th>\n",
       "      <td>10.000000</td>\n",
       "      <td>10.000000</td>\n",
       "      <td>10.0</td>\n",
       "      <td>10.000000</td>\n",
       "      <td>10.000000</td>\n",
       "      <td>10.000000</td>\n",
       "    </tr>\n",
       "    <tr>\n",
       "      <th>mean</th>\n",
       "      <td>4924.650021</td>\n",
       "      <td>1002.200000</td>\n",
       "      <td>1000.0</td>\n",
       "      <td>0.511231</td>\n",
       "      <td>12.281693</td>\n",
       "      <td>2.498032</td>\n",
       "    </tr>\n",
       "    <tr>\n",
       "      <th>std</th>\n",
       "      <td>151.067182</td>\n",
       "      <td>1.135292</td>\n",
       "      <td>0.0</td>\n",
       "      <td>0.083936</td>\n",
       "      <td>0.392266</td>\n",
       "      <td>0.016979</td>\n",
       "    </tr>\n",
       "    <tr>\n",
       "      <th>min</th>\n",
       "      <td>4643.609533</td>\n",
       "      <td>1000.000000</td>\n",
       "      <td>1000.0</td>\n",
       "      <td>0.415898</td>\n",
       "      <td>11.534143</td>\n",
       "      <td>2.480877</td>\n",
       "    </tr>\n",
       "    <tr>\n",
       "      <th>25%</th>\n",
       "      <td>4838.609462</td>\n",
       "      <td>1001.250000</td>\n",
       "      <td>1000.0</td>\n",
       "      <td>0.440695</td>\n",
       "      <td>12.085043</td>\n",
       "      <td>2.484170</td>\n",
       "    </tr>\n",
       "    <tr>\n",
       "      <th>50%</th>\n",
       "      <td>4917.661288</td>\n",
       "      <td>1003.000000</td>\n",
       "      <td>1000.0</td>\n",
       "      <td>0.495355</td>\n",
       "      <td>12.392244</td>\n",
       "      <td>2.491661</td>\n",
       "    </tr>\n",
       "    <tr>\n",
       "      <th>75%</th>\n",
       "      <td>5042.055247</td>\n",
       "      <td>1003.000000</td>\n",
       "      <td>1000.0</td>\n",
       "      <td>0.567047</td>\n",
       "      <td>12.510894</td>\n",
       "      <td>2.508433</td>\n",
       "    </tr>\n",
       "    <tr>\n",
       "      <th>max</th>\n",
       "      <td>5120.082547</td>\n",
       "      <td>1003.000000</td>\n",
       "      <td>1000.0</td>\n",
       "      <td>0.638621</td>\n",
       "      <td>12.762134</td>\n",
       "      <td>2.524744</td>\n",
       "    </tr>\n",
       "  </tbody>\n",
       "</table>\n",
       "</div>"
      ],
      "text/plain": [
       "        total_time      arrived  ...  wait_time_system  number_system\n",
       "count    10.000000    10.000000  ...         10.000000      10.000000\n",
       "mean   4924.650021  1002.200000  ...         12.281693       2.498032\n",
       "std     151.067182     1.135292  ...          0.392266       0.016979\n",
       "min    4643.609533  1000.000000  ...         11.534143       2.480877\n",
       "25%    4838.609462  1001.250000  ...         12.085043       2.484170\n",
       "50%    4917.661288  1003.000000  ...         12.392244       2.491661\n",
       "75%    5042.055247  1003.000000  ...         12.510894       2.508433\n",
       "max    5120.082547  1003.000000  ...         12.762134       2.524744\n",
       "\n",
       "[8 rows x 6 columns]"
      ]
     },
     "execution_count": 34,
     "metadata": {},
     "output_type": "execute_result"
    }
   ],
   "source": [
    "seed = [1, 2, 3, 4, 5, 6, 7, 8, 9, 10]\n",
    "seed_pairs = list(zip(seed, seed))\n",
    "\n",
    "sigma_model1 = Queue_Program(seed_pairs=seed_pairs,\n",
    "                             mean_pair=[5, 12],\n",
    "                             generator_pair=[\"Expo\", \"Expo\"],\n",
    "                             sim_time_limit=float(\"inf\"),\n",
    "                             sim_customer_limit=1000,\n",
    "                             capacity=4,\n",
    "                             policy=\"FCFS\")\n",
    "\n",
    "sigma_model1.run()\n",
    "\n",
    "sigma_model1.result.describe()"
   ]
  },
  {
   "cell_type": "code",
   "execution_count": 33,
   "id": "0183b1e7",
   "metadata": {},
   "outputs": [
    {
     "name": "stdout",
     "output_type": "stream",
     "text": [
      "[INFO] Customer limit reached. The simulation finished successfuly.\n",
      "[INFO] Customer limit reached. The simulation finished successfuly.\n",
      "[INFO] Customer limit reached. The simulation finished successfuly.\n",
      "[INFO] Customer limit reached. The simulation finished successfuly.\n",
      "[INFO] Customer limit reached. The simulation finished successfuly.\n",
      "[INFO] Customer limit reached. The simulation finished successfuly.\n",
      "[INFO] Customer limit reached. The simulation finished successfuly.\n",
      "[INFO] Customer limit reached. The simulation finished successfuly.\n",
      "[INFO] Customer limit reached. The simulation finished successfuly.\n",
      "[INFO] Customer limit reached. The simulation finished successfuly.\n"
     ]
    },
    {
     "data": {
      "application/vnd.microsoft.datawrangler.viewer.v0+json": {
       "columns": [
        {
         "name": "index",
         "rawType": "object",
         "type": "string"
        },
        {
         "name": "total_time",
         "rawType": "float64",
         "type": "float"
        },
        {
         "name": "arrived",
         "rawType": "float64",
         "type": "float"
        },
        {
         "name": "served",
         "rawType": "float64",
         "type": "float"
        },
        {
         "name": "wait_time_queue",
         "rawType": "float64",
         "type": "float"
        },
        {
         "name": "wait_time_system",
         "rawType": "float64",
         "type": "float"
        },
        {
         "name": "number_system",
         "rawType": "float64",
         "type": "float"
        }
       ],
       "conversionMethod": "pd.DataFrame",
       "ref": "f209478b-c784-4172-bb19-9e214c608db6",
       "rows": [
        [
         "count",
         "10.0",
         "10.0",
         "10.0",
         "10.0",
         "10.0",
         "10.0"
        ],
        [
         "mean",
         "6615.440316635262",
         "2656.2",
         "1000.0",
         "60.537067559047465",
         "67.14440162600906",
         "10.138979318093417"
        ],
        [
         "std",
         "148.13531149210388",
         "15.901083121738736",
         "0.0",
         "14.728531596271113",
         "14.779143995684024",
         "2.155811428863342"
        ],
        [
         "min",
         "6361.662183233363",
         "2636.0",
         "1000.0",
         "43.5158710605526",
         "49.86759989390586",
         "7.838768934530296"
        ],
        [
         "25%",
         "6558.513993356826",
         "2650.0",
         "1000.0",
         "52.504181350304926",
         "59.08401964656016",
         "8.88342956648332"
        ],
        [
         "50%",
         "6636.809728229228",
         "2656.0",
         "1000.0",
         "55.640157119868825",
         "62.34000092627876",
         "9.364188817203651"
        ],
        [
         "75%",
         "6719.354902130734",
         "2658.0",
         "1000.0",
         "65.20107191143693",
         "71.64703808294735",
         "11.124533474184396"
        ],
        [
         "max",
         "6800.045898537024",
         "2694.0",
         "1000.0",
         "94.31881578821195",
         "101.03383848982796",
         "15.03727159283901"
        ]
       ],
       "shape": {
        "columns": 6,
        "rows": 8
       }
      },
      "text/html": [
       "<div>\n",
       "<style scoped>\n",
       "    .dataframe tbody tr th:only-of-type {\n",
       "        vertical-align: middle;\n",
       "    }\n",
       "\n",
       "    .dataframe tbody tr th {\n",
       "        vertical-align: top;\n",
       "    }\n",
       "\n",
       "    .dataframe thead th {\n",
       "        text-align: right;\n",
       "    }\n",
       "</style>\n",
       "<table border=\"1\" class=\"dataframe\">\n",
       "  <thead>\n",
       "    <tr style=\"text-align: right;\">\n",
       "      <th></th>\n",
       "      <th>total_time</th>\n",
       "      <th>arrived</th>\n",
       "      <th>served</th>\n",
       "      <th>wait_time_queue</th>\n",
       "      <th>wait_time_system</th>\n",
       "      <th>number_system</th>\n",
       "    </tr>\n",
       "  </thead>\n",
       "  <tbody>\n",
       "    <tr>\n",
       "      <th>count</th>\n",
       "      <td>10.000000</td>\n",
       "      <td>10.000000</td>\n",
       "      <td>10.0</td>\n",
       "      <td>10.000000</td>\n",
       "      <td>10.000000</td>\n",
       "      <td>10.000000</td>\n",
       "    </tr>\n",
       "    <tr>\n",
       "      <th>mean</th>\n",
       "      <td>6615.440317</td>\n",
       "      <td>2656.200000</td>\n",
       "      <td>1000.0</td>\n",
       "      <td>60.537068</td>\n",
       "      <td>67.144402</td>\n",
       "      <td>10.138979</td>\n",
       "    </tr>\n",
       "    <tr>\n",
       "      <th>std</th>\n",
       "      <td>148.135311</td>\n",
       "      <td>15.901083</td>\n",
       "      <td>0.0</td>\n",
       "      <td>14.728532</td>\n",
       "      <td>14.779144</td>\n",
       "      <td>2.155811</td>\n",
       "    </tr>\n",
       "    <tr>\n",
       "      <th>min</th>\n",
       "      <td>6361.662183</td>\n",
       "      <td>2636.000000</td>\n",
       "      <td>1000.0</td>\n",
       "      <td>43.515871</td>\n",
       "      <td>49.867600</td>\n",
       "      <td>7.838769</td>\n",
       "    </tr>\n",
       "    <tr>\n",
       "      <th>25%</th>\n",
       "      <td>6558.513993</td>\n",
       "      <td>2650.000000</td>\n",
       "      <td>1000.0</td>\n",
       "      <td>52.504181</td>\n",
       "      <td>59.084020</td>\n",
       "      <td>8.883430</td>\n",
       "    </tr>\n",
       "    <tr>\n",
       "      <th>50%</th>\n",
       "      <td>6636.809728</td>\n",
       "      <td>2656.000000</td>\n",
       "      <td>1000.0</td>\n",
       "      <td>55.640157</td>\n",
       "      <td>62.340001</td>\n",
       "      <td>9.364189</td>\n",
       "    </tr>\n",
       "    <tr>\n",
       "      <th>75%</th>\n",
       "      <td>6719.354902</td>\n",
       "      <td>2658.000000</td>\n",
       "      <td>1000.0</td>\n",
       "      <td>65.201072</td>\n",
       "      <td>71.647038</td>\n",
       "      <td>11.124533</td>\n",
       "    </tr>\n",
       "    <tr>\n",
       "      <th>max</th>\n",
       "      <td>6800.045899</td>\n",
       "      <td>2694.000000</td>\n",
       "      <td>1000.0</td>\n",
       "      <td>94.318816</td>\n",
       "      <td>101.033838</td>\n",
       "      <td>15.037272</td>\n",
       "    </tr>\n",
       "  </tbody>\n",
       "</table>\n",
       "</div>"
      ],
      "text/plain": [
       "        total_time      arrived  ...  wait_time_system  number_system\n",
       "count    10.000000    10.000000  ...         10.000000      10.000000\n",
       "mean   6615.440317  2656.200000  ...         67.144402      10.138979\n",
       "std     148.135311    15.901083  ...         14.779144       2.155811\n",
       "min    6361.662183  2636.000000  ...         49.867600       7.838769\n",
       "25%    6558.513993  2650.000000  ...         59.084020       8.883430\n",
       "50%    6636.809728  2656.000000  ...         62.340001       9.364189\n",
       "75%    6719.354902  2658.000000  ...         71.647038      11.124533\n",
       "max    6800.045899  2694.000000  ...        101.033838      15.037272\n",
       "\n",
       "[8 rows x 6 columns]"
      ]
     },
     "execution_count": 33,
     "metadata": {},
     "output_type": "execute_result"
    }
   ],
   "source": [
    "seed = [1, 2, 3, 4, 5, 6, 7, 8, 9, 10]\n",
    "seed_pairs = list(zip(seed, seed))\n",
    "\n",
    "sigma_model2 = Queue_Program(seed_pairs=seed_pairs,\n",
    "                             mean_pair=[5, 12],\n",
    "                             generator_pair=[\"Expo\", \"Expo\"],\n",
    "                             sim_time_limit=float(\"inf\"),\n",
    "                             sim_customer_limit=1000,\n",
    "                             capacity=3,\n",
    "                             policy=\"SPT\")\n",
    "\n",
    "sigma_model2.run()\n",
    "\n",
    "sigma_model2.result.describe()"
   ]
  }
 ],
 "metadata": {
  "kernelspec": {
   "display_name": "Python 3",
   "language": "python",
   "name": "python3"
  },
  "language_info": {
   "codemirror_mode": {
    "name": "ipython",
    "version": 3
   },
   "file_extension": ".py",
   "mimetype": "text/x-python",
   "name": "python",
   "nbconvert_exporter": "python",
   "pygments_lexer": "ipython3",
   "version": "3.11.5"
  }
 },
 "nbformat": 4,
 "nbformat_minor": 5
}
