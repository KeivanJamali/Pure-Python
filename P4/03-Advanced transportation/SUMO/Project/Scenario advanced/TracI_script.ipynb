{
 "cells": [
  {
   "cell_type": "code",
   "execution_count": 1,
   "metadata": {},
   "outputs": [],
   "source": [
    "%load_ext autoreload\n",
    "%autoreload 2"
   ]
  },
  {
   "cell_type": "code",
   "execution_count": 2,
   "metadata": {},
   "outputs": [
    {
     "name": "stdout",
     "output_type": "stream",
     "text": [
      "Vehicles f8.34 is no longer in the street.\n"
     ]
    }
   ],
   "source": [
    "from p_script_tool import Run_SUMO"
   ]
  },
  {
   "cell_type": "code",
   "execution_count": 3,
   "metadata": {},
   "outputs": [],
   "source": [
    "naive_vehicle = \"Naive_passenger_vehicles\"\n",
    "rush_vehicle = \"passenger_vehicles_in_a_rush\"\n",
    "emergency_vehicle = \"Emergency_vehicles\"\n",
    "\n",
    "red_detectors = [\"dr_e36p_0\",\n",
    "                 \"dr_e36p_1\",\n",
    "                 \"dr_e10p_0\",\n",
    "                 \"dr_e10p_1\",\n",
    "                 \"dr_e35p_0\",\n",
    "                 \"dr_e35p_1\",\n",
    "                 \"dr_e14p_0\",\n",
    "                 \"dr_e14p_1\",\n",
    "                 \"dr_e34n_0\",\n",
    "                 \"dr_e34n_1\"]\n",
    "\n",
    "blue_detectors = [\"db_e0p_0\",\n",
    "                  \"db_e0p_1\",\n",
    "                  \"db_e0n_0\",\n",
    "                  \"db_e0n_1\",\n",
    "                  \"db_e13p_0\",\n",
    "                  \"db_e13p_1\",\n",
    "                  \"db_e13n_0\",\n",
    "                  \"db_e13n_1\",\n",
    "                  \"db_e25p_0\",\n",
    "                  \"db_e25p_1\",\n",
    "                  \"db_e25n_0\",\n",
    "                  \"db_e25n_1\"]\n",
    "\n",
    "file = \"Project_KeivanJamali.sumocfg\""
   ]
  },
  {
   "cell_type": "code",
   "execution_count": null,
   "metadata": {},
   "outputs": [
    {
     "name": "stdout",
     "output_type": "stream",
     "text": [
      "Vehicles f8.34 is no longer in the street.\n"
     ]
    }
   ],
   "source": [
    "model = Run_SUMO(type1=naive_vehicle,\n",
    "                 type2=rush_vehicle)\n",
    "\n",
    "model.run(config=file,\n",
    "          red_detectors=red_detectors,\n",
    "          blue_detectors=blue_detectors)"
   ]
  },
  {
   "cell_type": "code",
   "execution_count": null,
   "metadata": {},
   "outputs": [],
   "source": []
  }
 ],
 "metadata": {
  "kernelspec": {
   "display_name": "Python 3",
   "language": "python",
   "name": "python3"
  },
  "language_info": {
   "codemirror_mode": {
    "name": "ipython",
    "version": 3
   },
   "file_extension": ".py",
   "mimetype": "text/x-python",
   "name": "python",
   "nbconvert_exporter": "python",
   "pygments_lexer": "ipython3",
   "version": "3.13.0"
  }
 },
 "nbformat": 4,
 "nbformat_minor": 2
}
