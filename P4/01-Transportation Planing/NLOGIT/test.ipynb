{
 "cells": [
  {
   "cell_type": "code",
   "execution_count": 1,
   "metadata": {},
   "outputs": [],
   "source": [
    "%load_ext autoreload\n",
    "%autoreload 2"
   ]
  },
  {
   "cell_type": "code",
   "execution_count": 2,
   "metadata": {},
   "outputs": [],
   "source": [
    "import tools_nlogit as tn\n",
    "import pandas as pd\n",
    "\n",
    "path_to_file_long = r\"F:\\University_MA\\Semester1\\Transportation Planning\\TR\\6-Nlogit\\Program\\datalong.csv\"\n",
    "path_to_file_wide = r\"F:\\University_MA\\Semester1\\Transportation Planning\\TR\\6-Nlogit\\Program\\datawide.csv\"\n",
    "data_wide = pd.read_csv(path_to_file_wide)\n",
    "data_long = pd.read_csv(path_to_file_long)"
   ]
  },
  {
   "cell_type": "code",
   "execution_count": 3,
   "metadata": {},
   "outputs": [],
   "source": [
    "data_long_new = data_long.copy()\n",
    "data_wide_new = data_wide.copy()\n",
    "\n",
    "for i in range(4, len(data_long_new.index), 5):\n",
    "    data_long_new.iloc[i, 2] = data_long_new.iloc[i, 2] * 0.9\n",
    "    \n",
    "data_wide_new[\"ic5\"] = data_wide_new[\"ic5\"]*0.9\n"
   ]
  },
  {
   "cell_type": "markdown",
   "metadata": {},
   "source": [
    "## Part 1"
   ]
  },
  {
   "cell_type": "code",
   "execution_count": 4,
   "metadata": {},
   "outputs": [],
   "source": [
    "c1 = -0.00623\n",
    "c2 = -0.00458\n",
    "nlogit = tn.Tools(data_wide=data_wide)\n",
    "nlogit.fit(c1=c1, c2=c2)"
   ]
  },
  {
   "cell_type": "code",
   "execution_count": null,
   "metadata": {},
   "outputs": [
    {
     "data": {
      "text/plain": [
       "(array([[521.,  51.,   1.,   0.,   0.],\n",
       "        [117.,  11.,   0.,   0.,   1.],\n",
       "        [ 55.,   9.,   0.,   0.,   0.],\n",
       "        [ 78.,   5.,   1.,   0.,   0.],\n",
       "        [ 40.,  10.,   0.,   0.,   0.]]),\n",
       " [0.9092495636998255, 0.08527131782945736, 0.0, 0.0, 0.0])"
      ]
     },
     "execution_count": 5,
     "metadata": {},
     "output_type": "execute_result"
    }
   ],
   "source": [
    "nlogit.confusion_matrix, nlogit.rate_score()"
   ]
  },
  {
   "cell_type": "markdown",
   "metadata": {},
   "source": [
    "## Part 2"
   ]
  },
  {
   "cell_type": "code",
   "execution_count": 6,
   "metadata": {},
   "outputs": [],
   "source": [
    "c1 = -0.00153\n",
    "c2 = -0.00700\n",
    "a = [1.71098, 0.30826, 1.65885, 1.85344, 0]\n",
    "nlogit = tn.Tools(data_wide=data_wide)\n",
    "nlogit.fit(c1=c1, c2=c2, a=a)"
   ]
  },
  {
   "cell_type": "code",
   "execution_count": null,
   "metadata": {},
   "outputs": [
    {
     "data": {
      "text/plain": [
       "(array([[573.,   0.,   0.,   0.,   0.],\n",
       "        [129.,   0.,   0.,   0.,   0.],\n",
       "        [ 64.,   0.,   0.,   0.,   0.],\n",
       "        [ 84.,   0.,   0.,   0.,   0.],\n",
       "        [ 50.,   0.,   0.,   0.,   0.]]),\n",
       " [1.0, 0.0, 0.0, 0.0, 0.0])"
      ]
     },
     "execution_count": 7,
     "metadata": {},
     "output_type": "execute_result"
    }
   ],
   "source": [
    "nlogit.confusion_matrix, nlogit.rate_score()"
   ]
  },
  {
   "cell_type": "markdown",
   "metadata": {},
   "source": [
    "## Part 3"
   ]
  },
  {
   "cell_type": "code",
   "execution_count": 8,
   "metadata": {},
   "outputs": [],
   "source": [
    "c1 = -0.00153\n",
    "c2 = -0.00700\n",
    "a = [1.71098, 0.30826, 1.65885, 1.85344, 0]\n",
    "nlogit = tn.Tools(data_wide=data_wide_new)\n",
    "nlogit.fit(c1=c1, c2=c2, a=a)"
   ]
  },
  {
   "cell_type": "code",
   "execution_count": null,
   "metadata": {},
   "outputs": [
    {
     "data": {
      "text/plain": [
       "(array([[573.,   0.,   0.,   0.,   0.],\n",
       "        [129.,   0.,   0.,   0.,   0.],\n",
       "        [ 64.,   0.,   0.,   0.,   0.],\n",
       "        [ 84.,   0.,   0.,   0.,   0.],\n",
       "        [ 50.,   0.,   0.,   0.,   0.]]),\n",
       " [1.0, 0.0, 0.0, 0.0, 0.0])"
      ]
     },
     "execution_count": 9,
     "metadata": {},
     "output_type": "execute_result"
    }
   ],
   "source": [
    "nlogit.confusion_matrix, nlogit.rate_score()"
   ]
  },
  {
   "cell_type": "markdown",
   "metadata": {},
   "source": [
    "## Part 4"
   ]
  },
  {
   "cell_type": "code",
   "execution_count": 10,
   "metadata": {},
   "outputs": [],
   "source": [
    "c1 = -0.00623\n",
    "c2 = -0.00458\n",
    "b1 = -0.34552\n",
    "b2 = -0.12597\n",
    "nlogit = tn.Tools(data_wide=data_wide)\n",
    "nlogit.fit(c1=c1, c2=c2, b1=b1, b2=b2, model=\"nested_logit\")"
   ]
  },
  {
   "cell_type": "code",
   "execution_count": 24,
   "metadata": {},
   "outputs": [
    {
     "data": {
      "text/plain": [
       "(array([[512.,  41.,  18.,   1.,   1.],\n",
       "        [115.,   7.,   6.,   0.,   1.],\n",
       "        [ 55.,   7.,   2.,   0.,   0.],\n",
       "        [ 75.,   4.,   5.,   0.,   0.],\n",
       "        [ 40.,   9.,   1.,   0.,   0.]]),\n",
       " [0.893542757417103, 0.05426356589147287, 0.03125, 0.0, 0.0])"
      ]
     },
     "execution_count": 24,
     "metadata": {},
     "output_type": "execute_result"
    }
   ],
   "source": [
    "nlogit.confusion_matrix, nlogit.rate_score()"
   ]
  }
 ],
 "metadata": {
  "kernelspec": {
   "display_name": "Python 3",
   "language": "python",
   "name": "python3"
  },
  "language_info": {
   "codemirror_mode": {
    "name": "ipython",
    "version": 3
   },
   "file_extension": ".py",
   "mimetype": "text/x-python",
   "name": "python",
   "nbconvert_exporter": "python",
   "pygments_lexer": "ipython3",
   "version": "3.13.0"
  }
 },
 "nbformat": 4,
 "nbformat_minor": 2
}
