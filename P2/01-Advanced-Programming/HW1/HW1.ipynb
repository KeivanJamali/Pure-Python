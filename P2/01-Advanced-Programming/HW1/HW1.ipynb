{
 "cells": [
  {
   "cell_type": "code",
   "execution_count": 4,
   "outputs": [],
   "source": [
    "a = [\"a\",\"b\",\"c\"]"
   ],
   "metadata": {
    "collapsed": false,
    "ExecuteTime": {
     "end_time": "2023-10-21T19:03:16.802104200Z",
     "start_time": "2023-10-21T19:03:16.802104200Z"
    }
   },
   "id": "2a1c3d991a461455"
  },
  {
   "cell_type": "code",
   "execution_count": 5,
   "outputs": [
    {
     "data": {
      "text/plain": "'b'"
     },
     "execution_count": 5,
     "metadata": {},
     "output_type": "execute_result"
    }
   ],
   "source": [
    "a.pop(1)"
   ],
   "metadata": {
    "collapsed": false,
    "ExecuteTime": {
     "end_time": "2023-10-21T19:03:19.587567800Z",
     "start_time": "2023-10-21T19:03:19.493416900Z"
    }
   },
   "id": "af289d34de6499f"
  },
  {
   "cell_type": "code",
   "execution_count": 6,
   "outputs": [
    {
     "data": {
      "text/plain": "['a', 'c']"
     },
     "execution_count": 6,
     "metadata": {},
     "output_type": "execute_result"
    }
   ],
   "source": [
    "a"
   ],
   "metadata": {
    "collapsed": false,
    "ExecuteTime": {
     "end_time": "2023-10-21T19:03:20.359663800Z",
     "start_time": "2023-10-21T19:03:20.355892100Z"
    }
   },
   "id": "4745f56a93a412b0"
  },
  {
   "cell_type": "code",
   "execution_count": 7,
   "outputs": [
    {
     "name": "stdout",
     "output_type": "stream",
     "text": [
      "YES\n"
     ]
    }
   ],
   "source": [
    "import random\n",
    "\n",
    "\n",
    "class Zone:\n",
    "    def __init__(self, name: str) -> None:\n",
    "        self.name = name\n",
    "        self.inside = []\n",
    "        self.person = []\n",
    "\n",
    "\n",
    "def check(zone: Zone) -> bool:\n",
    "    if not zone.person:\n",
    "        if \"c\" in zone.inside and \"m\" in zone.inside:\n",
    "            return False\n",
    "        elif \"m\" in zone.inside and \"d\" in zone.inside:\n",
    "            return False\n",
    "        else:\n",
    "            return True\n",
    "\n",
    "\n",
    "while True:\n",
    "    answer = False\n",
    "    try:\n",
    "        data = input().split(\" \")\n",
    "        data = [int(i) for i in data]\n",
    "        i = 0\n",
    "        while True:\n",
    "            zone1 = Zone(\"one\")\n",
    "            zone2 = Zone(\"two\")\n",
    "            for _ in range(data[0]):\n",
    "                zone1.inside.append(\"c\")\n",
    "            for _ in range(data[1]):\n",
    "                zone1.inside.append(\"m\")\n",
    "            for _ in range(data[2]):\n",
    "                zone1.inside.append(\"d\")\n",
    "            zone1.person.append(\"me\")\n",
    "            n = data[3]\n",
    "            while True:\n",
    "                n_ch = random.randrange(0, n + 1, 1)\n",
    "                for _ in range(n_ch):\n",
    "                    try:\n",
    "                        go = zone1.inside.pop(random.randrange(0, len(zone1.inside), 1))\n",
    "                        zone2.inside.append(go)\n",
    "                    except:\n",
    "                        pass\n",
    "                zone2.person.append(zone1.person.pop())\n",
    "                continue_ = check(zone1)\n",
    "                if not continue_:\n",
    "                    break\n",
    "\n",
    "                if not zone1.inside:\n",
    "                    answer = True\n",
    "                    break\n",
    "\n",
    "                n_ch = random.randrange(0, n + 1, 1)\n",
    "                for _ in range(n_ch):\n",
    "                    try:\n",
    "                        go = zone2.inside.pop(random.randrange(0, len(zone2.inside), 1))\n",
    "                        zone1.inside.append(go)\n",
    "                    except:\n",
    "                        pass\n",
    "                zone1.person.append(zone2.person.pop())\n",
    "                continue_ = check(zone2)\n",
    "                if not continue_:\n",
    "                    break\n",
    "\n",
    "            if answer:\n",
    "                print(\"YES\")\n",
    "                break\n",
    "            else:\n",
    "                # print(\"NO\")\n",
    "                i += 1\n",
    "                if i > 50:\n",
    "                    print(\"NO\")\n",
    "                    break\n",
    "    except:\n",
    "        break\n",
    "\n"
   ],
   "metadata": {
    "collapsed": false,
    "ExecuteTime": {
     "end_time": "2023-10-21T19:36:48.509854Z",
     "start_time": "2023-10-21T19:36:41.753119200Z"
    }
   },
   "id": "84656e9533920e7"
  },
  {
   "cell_type": "code",
   "execution_count": null,
   "outputs": [],
   "source": [],
   "metadata": {
    "collapsed": false
   },
   "id": "db723e7637668a8a"
  }
 ],
 "metadata": {
  "kernelspec": {
   "display_name": "Python 3",
   "language": "python",
   "name": "python3"
  },
  "language_info": {
   "codemirror_mode": {
    "name": "ipython",
    "version": 2
   },
   "file_extension": ".py",
   "mimetype": "text/x-python",
   "name": "python",
   "nbconvert_exporter": "python",
   "pygments_lexer": "ipython2",
   "version": "2.7.6"
  }
 },
 "nbformat": 4,
 "nbformat_minor": 5
}
