{
 "cells": [
  {
   "cell_type": "code",
   "execution_count": 8,
   "id": "03248a15",
   "metadata": {},
   "outputs": [
    {
     "name": "stdout",
     "output_type": "stream",
     "text": [
      "The autoreload extension is already loaded. To reload it, use:\n",
      "  %reload_ext autoreload\n"
     ]
    }
   ],
   "source": [
    "%load_ext autoreload\n",
    "%autoreload 2"
   ]
  },
  {
   "cell_type": "code",
   "execution_count": 9,
   "id": "732e58cc",
   "metadata": {},
   "outputs": [],
   "source": [
    "from reformat_data import *\n",
    "path_people = r\"/mnt/Data1/Python_Projects/Pure-Python/P5/01-Thesis/data/Shiraze94_fa/People.xlsx\"\n",
    "path_family = r\"/mnt/Data1/Python_Projects/Pure-Python/P5/01-Thesis/data/Shiraze94_fa/Family.xlsx\"\n",
    "path_trips = r\"/mnt/Data1/Python_Projects/Pure-Python/P5/01-Thesis/data/Shiraze94_fa/Trips.xlsx\"\n",
    "people_data = people_reformat(path_people)\n",
    "family_data = family_reformat(path_family)\n",
    "trips_data = trips_reformat(path_trips)"
   ]
  },
  {
   "cell_type": "code",
   "execution_count": 10,
   "id": "f114b2c1",
   "metadata": {},
   "outputs": [],
   "source": [
    "from cleaning_data import Cleaner\n",
    "\n",
    "clean_data = Cleaner(people_data, family_data, trips_data)\n",
    "clean_data.set_setting()\n",
    "path = r\"/mnt/Data1/Python_Projects/Pure-Python/P5/01-Thesis/data/Shiraze94_en\""
   ]
  },
  {
   "cell_type": "code",
   "execution_count": 11,
   "id": "faf3c940",
   "metadata": {},
   "outputs": [
    {
     "name": "stderr",
     "output_type": "stream",
     "text": [
      "/mnt/Data1/Python_Projects/Pure-Python/P5/01-Thesis/01-dataprepration/cleaning_data.py:73: FutureWarning: DataFrameGroupBy.apply operated on the grouping columns. This behavior is deprecated, and in a future version of pandas the grouping columns will be excluded from the operation. Either pass `include_groups=False` to exclude the groupings or explicitly select the grouping columns after groupby to silence this warning.\n",
      "  .apply(lambda x: weight[x.index].sum())\n",
      "/mnt/Data1/Python_Projects/Pure-Python/P5/01-Thesis/01-dataprepration/cleaning_data.py:79: FutureWarning: DataFrameGroupBy.apply operated on the grouping columns. This behavior is deprecated, and in a future version of pandas the grouping columns will be excluded from the operation. Either pass `include_groups=False` to exclude the groupings or explicitly select the grouping columns after groupby to silence this warning.\n",
      "  .apply(lambda x: weight[x.index].sum())\n"
     ]
    }
   ],
   "source": [
    "clean_data.compute_od_matrix()"
   ]
  },
  {
   "cell_type": "code",
   "execution_count": 12,
   "id": "e518667f",
   "metadata": {},
   "outputs": [],
   "source": [
    "clean_data.save_data(path)\n"
   ]
  },
  {
   "cell_type": "code",
   "execution_count": null,
   "id": "d2ab1a7e",
   "metadata": {},
   "outputs": [],
   "source": []
  }
 ],
 "metadata": {
  "kernelspec": {
   "display_name": "Python 3",
   "language": "python",
   "name": "python3"
  },
  "language_info": {
   "codemirror_mode": {
    "name": "ipython",
    "version": 3
   },
   "file_extension": ".py",
   "mimetype": "text/x-python",
   "name": "python",
   "nbconvert_exporter": "python",
   "pygments_lexer": "ipython3",
   "version": "3.13.5"
  }
 },
 "nbformat": 4,
 "nbformat_minor": 5
}
