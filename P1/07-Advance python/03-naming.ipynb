{
 "cells": [
  {
   "cell_type": "code",
   "execution_count": 1,
   "id": "initial_id",
   "metadata": {
    "ExecuteTime": {
     "end_time": "2023-08-07T05:03:30.889888100Z",
     "start_time": "2023-08-07T05:03:30.867222900Z"
    },
    "collapsed": true
   },
   "outputs": [
    {
     "data": {
      "text/plain": [
       "3"
      ]
     },
     "execution_count": 1,
     "metadata": {},
     "output_type": "execute_result"
    }
   ],
   "source": [
    "1 + 2"
   ]
  },
  {
   "cell_type": "code",
   "execution_count": 2,
   "id": "f89d7fbcd6a491f1",
   "metadata": {
    "ExecuteTime": {
     "end_time": "2023-08-07T05:03:30.889888100Z",
     "start_time": "2023-08-07T05:03:30.884315900Z"
    },
    "collapsed": false
   },
   "outputs": [
    {
     "data": {
      "text/plain": [
       "'ali'"
      ]
     },
     "execution_count": 2,
     "metadata": {},
     "output_type": "execute_result"
    }
   ],
   "source": [
    "\"ali\""
   ]
  },
  {
   "cell_type": "code",
   "execution_count": 3,
   "id": "ad193f213ab6e9a7",
   "metadata": {
    "ExecuteTime": {
     "end_time": "2023-08-07T05:03:30.915176500Z",
     "start_time": "2023-08-07T05:03:30.889888100Z"
    },
    "collapsed": false
   },
   "outputs": [
    {
     "data": {
      "text/plain": [
       "222"
      ]
     },
     "execution_count": 3,
     "metadata": {},
     "output_type": "execute_result"
    }
   ],
   "source": [
    "222"
   ]
  },
  {
   "cell_type": "code",
   "execution_count": 4,
   "id": "58e4d8950425f3df",
   "metadata": {
    "ExecuteTime": {
     "end_time": "2023-08-07T05:03:31.040738800Z",
     "start_time": "2023-08-07T05:03:30.904403Z"
    },
    "collapsed": false
   },
   "outputs": [],
   "source": [
    "a = 3 * 4"
   ]
  },
  {
   "cell_type": "code",
   "execution_count": 5,
   "id": "5e527a260d89f4dc",
   "metadata": {
    "ExecuteTime": {
     "end_time": "2023-08-07T05:03:32.184985500Z",
     "start_time": "2023-08-07T05:03:32.164925100Z"
    },
    "collapsed": false
   },
   "outputs": [
    {
     "data": {
      "text/plain": [
       "(222, 'ali', 3)"
      ]
     },
     "execution_count": 5,
     "metadata": {},
     "output_type": "execute_result"
    }
   ],
   "source": [
    "_, __, ___"
   ]
  },
  {
   "cell_type": "code",
   "execution_count": 7,
   "id": "ba4f1a45d2b7904a",
   "metadata": {
    "ExecuteTime": {
     "end_time": "2023-08-07T05:03:47.120503700Z",
     "start_time": "2023-08-07T05:03:47.098964200Z"
    },
    "collapsed": false
   },
   "outputs": [
    {
     "data": {
      "text/plain": [
       "'ali'"
      ]
     },
     "execution_count": 7,
     "metadata": {},
     "output_type": "execute_result"
    }
   ],
   "source": [
    "#will show the number in line\n",
    "_2"
   ]
  },
  {
   "cell_type": "code",
   "execution_count": 3,
   "id": "d7e917f14d42aa63",
   "metadata": {
    "ExecuteTime": {
     "end_time": "2023-08-07T05:07:04.524584600Z",
     "start_time": "2023-08-07T05:07:04.349471900Z"
    },
    "collapsed": false
   },
   "outputs": [
    {
     "name": "stdout",
     "output_type": "stream",
     "text": [
      "10\n",
      "11\n",
      "['_A__pro', '_A__pro_', '__class__', '__delattr__', '__dict__', '__dir__', '__doc__', '__eq__', '__firstlineno__', '__format__', '__ge__', '__getattribute__', '__getstate__', '__gt__', '__hash__', '__init__', '__init_subclass__', '__le__', '__lt__', '__module__', '__ne__', '__new__', '__pro__', '__reduce__', '__reduce_ex__', '__repr__', '__setattr__', '__sizeof__', '__static_attributes__', '__str__', '__subclasshook__', '__weakref__', '_type', 'name']\n"
     ]
    },
    {
     "ename": "AttributeError",
     "evalue": "type object 'A' has no attribute '__pro'",
     "output_type": "error",
     "traceback": [
      "\u001b[31m---------------------------------------------------------------------------\u001b[39m",
      "\u001b[31mAttributeError\u001b[39m                            Traceback (most recent call last)",
      "\u001b[36mCell\u001b[39m\u001b[36m \u001b[39m\u001b[32mIn[3]\u001b[39m\u001b[32m, line 12\u001b[39m\n\u001b[32m     10\u001b[39m \u001b[38;5;28mprint\u001b[39m(A._type)\n\u001b[32m     11\u001b[39m \u001b[38;5;28mprint\u001b[39m(\u001b[38;5;28mdir\u001b[39m(A()))\n\u001b[32m---> \u001b[39m\u001b[32m12\u001b[39m \u001b[38;5;28mprint\u001b[39m(\u001b[43mA\u001b[49m\u001b[43m.\u001b[49m\u001b[43m__pro\u001b[49m)  \n\u001b[32m     14\u001b[39m \u001b[38;5;28mprint\u001b[39m(A.__pro_) \u001b[38;5;66;03m#\u001b[39;00m\n\u001b[32m     15\u001b[39m \u001b[38;5;28mprint\u001b[39m(A.__pro__) \n",
      "\u001b[31mAttributeError\u001b[39m: type object 'A' has no attribute '__pro'"
     ]
    }
   ],
   "source": [
    "class A:\n",
    "    name = 10\n",
    "    _type = 11\n",
    "    __pro = 21\n",
    "    __pro_ = 22\n",
    "    __pro__ = 31\n",
    "\n",
    "\n",
    "print(A.name)\n",
    "print(A._type)\n",
    "print(dir(A()))\n",
    "print(A.__pro)  \n",
    "\n",
    "print(A.__pro_) #\n",
    "print(A.__pro__) \n"
   ]
  },
  {
   "cell_type": "code",
   "execution_count": 34,
   "id": "bef4fab7f02ff26e",
   "metadata": {
    "ExecuteTime": {
     "end_time": "2023-08-06T22:04:04.541238400Z",
     "start_time": "2023-08-06T22:04:04.501160100Z"
    },
    "collapsed": false
   },
   "outputs": [],
   "source": [
    "class A:\n",
    "    def __init__(self):\n",
    "        self.a = 20\n",
    "    def __str__(self):\n",
    "        return f\"this is print and str\"\n",
    "    \n",
    "    def __repr__(self):\n",
    "        return f\"it is the A alone\"\n",
    "        return 'A()'"
   ]
  },
  {
   "cell_type": "code",
   "execution_count": 35,
   "id": "9d63183209e27008",
   "metadata": {
    "ExecuteTime": {
     "end_time": "2023-08-06T22:04:10.809032400Z",
     "start_time": "2023-08-06T22:04:10.802474800Z"
    },
    "collapsed": false
   },
   "outputs": [],
   "source": [
    "ali = A()"
   ]
  },
  {
   "cell_type": "code",
   "execution_count": 36,
   "id": "cc66fef2314cb734",
   "metadata": {
    "ExecuteTime": {
     "end_time": "2023-08-06T22:04:12.951281100Z",
     "start_time": "2023-08-06T22:04:12.935362700Z"
    },
    "collapsed": false
   },
   "outputs": [
    {
     "data": {
      "text/plain": [
       "it is the A alone"
      ]
     },
     "execution_count": 36,
     "metadata": {},
     "output_type": "execute_result"
    }
   ],
   "source": [
    "ali"
   ]
  },
  {
   "cell_type": "code",
   "execution_count": 37,
   "id": "fd04c3588e93d5d9",
   "metadata": {
    "ExecuteTime": {
     "end_time": "2023-08-06T22:04:21.342902200Z",
     "start_time": "2023-08-06T22:04:21.323047Z"
    },
    "collapsed": false
   },
   "outputs": [
    {
     "data": {
      "text/plain": [
       "'this is print and str'"
      ]
     },
     "execution_count": 37,
     "metadata": {},
     "output_type": "execute_result"
    }
   ],
   "source": [
    "str(ali)"
   ]
  },
  {
   "cell_type": "code",
   "execution_count": 38,
   "id": "f61fe9f73b286aae",
   "metadata": {
    "ExecuteTime": {
     "end_time": "2023-08-06T22:04:27.928613100Z",
     "start_time": "2023-08-06T22:04:27.924218700Z"
    },
    "collapsed": false
   },
   "outputs": [
    {
     "name": "stdout",
     "output_type": "stream",
     "text": [
      "this is print and str\n"
     ]
    }
   ],
   "source": [
    "print(ali)"
   ]
  },
  {
   "cell_type": "code",
   "execution_count": 40,
   "id": "44c94c271376ebd9",
   "metadata": {
    "ExecuteTime": {
     "end_time": "2023-08-06T22:05:46.409603200Z",
     "start_time": "2023-08-06T22:05:46.284746700Z"
    },
    "collapsed": false
   },
   "outputs": [
    {
     "data": {
      "text/plain": [
       "it is the A alone"
      ]
     },
     "execution_count": 40,
     "metadata": {},
     "output_type": "execute_result"
    }
   ],
   "source": [
    "A()"
   ]
  },
  {
   "cell_type": "code",
   "execution_count": null,
   "id": "9a4130f35346207b",
   "metadata": {
    "collapsed": false
   },
   "outputs": [],
   "source": []
  }
 ],
 "metadata": {
  "kernelspec": {
   "display_name": "Python 3",
   "language": "python",
   "name": "python3"
  },
  "language_info": {
   "codemirror_mode": {
    "name": "ipython",
    "version": 3
   },
   "file_extension": ".py",
   "mimetype": "text/x-python",
   "name": "python",
   "nbconvert_exporter": "python",
   "pygments_lexer": "ipython3",
   "version": "3.13.5"
  }
 },
 "nbformat": 4,
 "nbformat_minor": 5
}
