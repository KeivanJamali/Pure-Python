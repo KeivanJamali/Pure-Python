{
 "cells": [
  {
   "cell_type": "code",
   "execution_count": 2,
   "metadata": {},
   "outputs": [],
   "source": [
    "from sympy import *\n",
    "import pandas as pd\n",
    "import numpy as np\n",
    "import matplotlib.pyplot as plt"
   ]
  },
  {
   "cell_type": "markdown",
   "metadata": {},
   "source": [
    "## Question 1"
   ]
  },
  {
   "cell_type": "markdown",
   "metadata": {},
   "source": [
    "### Equilibrium Equations"
   ]
  },
  {
   "cell_type": "code",
   "execution_count": 3,
   "metadata": {},
   "outputs": [
    {
     "data": {
      "text/latex": [
       "$\\displaystyle f{\\left(x \\right)} + \\frac{d}{d x} \\sigma{\\left(x \\right)} + \\frac{\\partial}{\\partial y} \\tau{\\left(x,y \\right)} + \\frac{\\partial}{\\partial z} \\tau{\\left(z,x \\right)} = 0$"
      ],
      "text/plain": [
       "Eq(f(x) + Derivative(sigma(x), x) + Derivative(tau(x, y), y) + Derivative(tau(z, x), z), 0)"
      ]
     },
     "execution_count": 3,
     "metadata": {},
     "output_type": "execute_result"
    }
   ],
   "source": [
    "x, y, z = symbols(\"x y z\")\n",
    "sigma_x = Function(\"sigma\")(x)\n",
    "sigma_y = Function(\"sigma\")(y)\n",
    "sigma_z = Function(\"sigma\")(z)\n",
    "tau_xy = Function(\"tau\")(x,y)\n",
    "tau_yz = Function(\"tau\")(y,z)\n",
    "tau_zx = Function(\"tau\")(z,x)\n",
    "fx = Function(\"f\")(x)\n",
    "fy = Function(\"f\")(y)\n",
    "fz = Function(\"f\")(z)\n",
    "\n",
    "equation_x = Eq(diff(sigma_x, x)+diff(tau_xy, y)+diff(tau_zx, z)+fx, 0)\n",
    "equation_y = Eq(diff(tau_xy, x)+diff(sigma_y, y)+diff(tau_yz, z)+fy, 0)\n",
    "equation_z = Eq(diff(tau_zx, x)+diff(tau_yz, y)+diff(sigma_z, z)+fz, 0)\n",
    "equation_x"
   ]
  },
  {
   "cell_type": "code",
   "execution_count": 4,
   "metadata": {},
   "outputs": [],
   "source": [
    "Sz = Function(\"S_z\")(x)\n",
    "My = integrate(-Sz, x)\n",
    "Iy, h = symbols(\"I_y, h\")\n",
    "sigma_x = -My * z / Iy\n",
    "sigma_y = 0\n",
    "sigma_z = 0\n",
    "tau_xy = 0\n",
    "tau_yz = 0\n",
    "tau_zx = (Sz / (2 * Iy)) * (((h**2)/4)-z**2)\n",
    "\n",
    "equation_x = Eq(diff(sigma_x, x)+diff(tau_xy, y)+diff(tau_zx, z)+fx, 0)\n",
    "equation_y = Eq(diff(tau_xy, x)+diff(sigma_y, y)+diff(tau_yz, z)+fy, 0)\n",
    "equation_z = Eq(diff(tau_zx, x)+diff(tau_yz, y)+diff(sigma_z, z)+fz, 0)"
   ]
  },
  {
   "cell_type": "code",
   "execution_count": 5,
   "metadata": {},
   "outputs": [
    {
     "data": {
      "text/latex": [
       "$\\displaystyle f{\\left(x \\right)} = 0$"
      ],
      "text/plain": [
       "Eq(f(x), 0)"
      ]
     },
     "execution_count": 5,
     "metadata": {},
     "output_type": "execute_result"
    }
   ],
   "source": [
    "equation_x"
   ]
  },
  {
   "cell_type": "code",
   "execution_count": 6,
   "metadata": {},
   "outputs": [
    {
     "data": {
      "text/latex": [
       "$\\displaystyle f{\\left(y \\right)} = 0$"
      ],
      "text/plain": [
       "Eq(f(y), 0)"
      ]
     },
     "execution_count": 6,
     "metadata": {},
     "output_type": "execute_result"
    }
   ],
   "source": [
    "equation_y"
   ]
  },
  {
   "cell_type": "code",
   "execution_count": 7,
   "metadata": {},
   "outputs": [
    {
     "data": {
      "text/latex": [
       "$\\displaystyle f{\\left(z \\right)} + \\frac{\\left(\\frac{h^{2}}{4} - z^{2}\\right) \\frac{d}{d x} S_{z}{\\left(x \\right)}}{2 I_{y}} = 0$"
      ],
      "text/plain": [
       "Eq(f(z) + (h**2/4 - z**2)*Derivative(S_z(x), x)/(2*I_y), 0)"
      ]
     },
     "execution_count": 7,
     "metadata": {},
     "output_type": "execute_result"
    }
   ],
   "source": [
    "equation_z"
   ]
  },
  {
   "cell_type": "markdown",
   "metadata": {},
   "source": [
    "### Compatibility Equations(Find epsilon and gama too)"
   ]
  },
  {
   "cell_type": "code",
   "execution_count": 8,
   "metadata": {},
   "outputs": [],
   "source": [
    "x, y, z = symbols(\"x y z\")\n",
    "Iy, E, h, U, G = symbols(\"I_y, E, h, U, G\")\n",
    "\n",
    "sigma_x = Function(\"sigma\")(x)\n",
    "sigma_y = Function(\"sigma\")(y)\n",
    "sigma_z = Function(\"sigma\")(z)\n",
    "tau_xy = Function(\"tau\")(x,y)\n",
    "tau_yz = Function(\"tau\")(y,z)\n",
    "tau_zx = Function(\"tau\")(z,x)\n",
    "fx = Function(\"f\")(x)\n",
    "fy = Function(\"f\")(y)\n",
    "fz = Function(\"f\")(z)\n",
    "\n",
    "\n",
    "e_x = (1/E) * (sigma_x - U * (sigma_y+sigma_z))\n",
    "e_y = (1/E) * (sigma_y - U * (sigma_z+sigma_x))\n",
    "e_z = (1/E) * (sigma_z - U * (sigma_x+sigma_y))\n",
    "g_xy = (1/G) * tau_xy\n",
    "g_yz = (1/G) * tau_yz\n",
    "g_zx = (1/G) * tau_zx\n",
    "\n",
    "equation_1 = Eq(diff(g_xy, x, y), diff(e_x, y, y)+diff(e_y, x, x))\n",
    "equation_2 = Eq(diff(g_yz, y, z), diff(e_y, z, z)+diff(e_z, y, y))\n",
    "equation_3 = Eq(diff(g_zx, z, x), diff(e_z, x, x)+diff(e_x, z, z))\n",
    "equation_4 = Eq(2 * diff(e_x, y, z), diff(-diff(g_yz, x)+diff(g_zx, y)+diff(g_xy, z),x))\n",
    "equation_5 = Eq(2 * diff(e_y, z, x), diff(diff(g_yz, x)-diff(g_zx, y)+diff(g_xy, z),x))\n",
    "equation_6 = Eq(2 * diff(e_z, x, y), diff(diff(g_yz, x)+diff(g_zx, y)-diff(g_xy, z),x))"
   ]
  },
  {
   "cell_type": "code",
   "execution_count": 9,
   "metadata": {},
   "outputs": [
    {
     "data": {
      "text/latex": [
       "$\\displaystyle \\text{True}$"
      ],
      "text/plain": [
       "True"
      ]
     },
     "execution_count": 9,
     "metadata": {},
     "output_type": "execute_result"
    }
   ],
   "source": [
    "equation_6"
   ]
  },
  {
   "cell_type": "code",
   "execution_count": 10,
   "metadata": {},
   "outputs": [],
   "source": [
    "x, y, z = symbols(\"x, y, z\")\n",
    "Fz = Function(\"F_z\")(x)\n",
    "Sz = integrate(-Fz, x)\n",
    "My = integrate(Sz, x)\n",
    "Iy, E, h, U, G = symbols(\"I_y, E, h, nu, G\")\n",
    "\n",
    "sigma_x = -My * z / Iy\n",
    "sigma_y = 0\n",
    "sigma_z = 0\n",
    "tau_xy = 0\n",
    "tau_yz = 0\n",
    "tau_zx = (Sz / (2 * Iy)) * (((h**2)/4)-z**2)\n",
    "\n",
    "e_x = (1/E) * (sigma_x - U * (sigma_y+sigma_z))\n",
    "e_y = (1/E) * (sigma_y - U * (sigma_z+sigma_x))\n",
    "e_z = (1/E) * (sigma_z - U * (sigma_x+sigma_y))\n",
    "g_xy = (1/G) * tau_xy\n",
    "g_yz = (1/G) * tau_yz\n",
    "g_zx = (1/G) * tau_zx\n",
    "\n",
    "\n",
    "equation_1 = Eq(diff(g_xy, x, y), diff(e_x, y, y)+diff(e_y, x, x))\n",
    "equation_2 = Eq(diff(g_yz, y, z), diff(e_y, z, z)+diff(e_z, y, y))\n",
    "equation_3 = Eq(diff(g_zx, z, x), diff(e_z, x, x)+diff(e_x, z, z))\n",
    "equation_4 = Eq(2 * diff(e_x, y, z), diff(-diff(g_yz, x)+diff(g_zx, y)+diff(g_xy, z), x))\n",
    "equation_5 = Eq(2 * diff(e_y, z, x), diff(diff(g_yz, x)-diff(g_zx, y)+diff(g_xy, z), x))\n",
    "equation_6 = Eq(2 * diff(e_z, x, y), diff(diff(g_yz, x)+diff(g_zx, y)-diff(g_xy, z), x))"
   ]
  },
  {
   "cell_type": "code",
   "execution_count": 11,
   "metadata": {},
   "outputs": [
    {
     "data": {
      "text/latex": [
       "$\\displaystyle 0 = - \\frac{\\nu z F_{z}{\\left(x \\right)}}{E I_{y}}$"
      ],
      "text/plain": [
       "Eq(0, -nu*z*F_z(x)/(E*I_y))"
      ]
     },
     "execution_count": 11,
     "metadata": {},
     "output_type": "execute_result"
    }
   ],
   "source": [
    "equation_1"
   ]
  },
  {
   "cell_type": "code",
   "execution_count": 12,
   "metadata": {},
   "outputs": [
    {
     "data": {
      "text/latex": [
       "$\\displaystyle \\text{True}$"
      ],
      "text/plain": [
       "True"
      ]
     },
     "execution_count": 12,
     "metadata": {},
     "output_type": "execute_result"
    }
   ],
   "source": [
    "equation_2"
   ]
  },
  {
   "cell_type": "code",
   "execution_count": 13,
   "metadata": {},
   "outputs": [
    {
     "data": {
      "text/latex": [
       "$\\displaystyle \\frac{z F_{z}{\\left(x \\right)}}{G I_{y}} = - \\frac{\\nu z F_{z}{\\left(x \\right)}}{E I_{y}}$"
      ],
      "text/plain": [
       "Eq(z*F_z(x)/(G*I_y), -nu*z*F_z(x)/(E*I_y))"
      ]
     },
     "execution_count": 13,
     "metadata": {},
     "output_type": "execute_result"
    }
   ],
   "source": [
    "equation_3"
   ]
  },
  {
   "cell_type": "code",
   "execution_count": 14,
   "metadata": {},
   "outputs": [
    {
     "data": {
      "text/latex": [
       "$\\displaystyle \\text{True}$"
      ],
      "text/plain": [
       "True"
      ]
     },
     "execution_count": 14,
     "metadata": {},
     "output_type": "execute_result"
    }
   ],
   "source": [
    "equation_4"
   ]
  },
  {
   "cell_type": "code",
   "execution_count": 15,
   "metadata": {},
   "outputs": [
    {
     "data": {
      "text/latex": [
       "$\\displaystyle - \\frac{2 \\nu \\int F_{z}{\\left(x \\right)}\\, dx}{E I_{y}} = 0$"
      ],
      "text/plain": [
       "Eq(-2*nu*Integral(F_z(x), x)/(E*I_y), 0)"
      ]
     },
     "execution_count": 15,
     "metadata": {},
     "output_type": "execute_result"
    }
   ],
   "source": [
    "equation_5"
   ]
  },
  {
   "cell_type": "code",
   "execution_count": 16,
   "metadata": {},
   "outputs": [
    {
     "data": {
      "text/latex": [
       "$\\displaystyle \\text{True}$"
      ],
      "text/plain": [
       "True"
      ]
     },
     "execution_count": 16,
     "metadata": {},
     "output_type": "execute_result"
    }
   ],
   "source": [
    "equation_6"
   ]
  },
  {
   "cell_type": "markdown",
   "metadata": {},
   "source": [
    "## Question 2"
   ]
  },
  {
   "cell_type": "markdown",
   "metadata": {},
   "source": [
    "### Equiblirium"
   ]
  },
  {
   "cell_type": "code",
   "execution_count": 17,
   "metadata": {},
   "outputs": [],
   "source": [
    "Sz = Function(\"S_z\")(x)\n",
    "My = integrate(-Sz, x)\n",
    "Iy, h, c1, d, P, Iz= symbols(\"I_y, h, c_1, d, P, Iz\")\n",
    "sigma_x = c1 * x * y\n",
    "sigma_y = Function(\"sigma_y\")(x, y)\n",
    "sigma_z = 0\n",
    "tau_xy = Function(\"tau_xy\")(x, y)\n",
    "tau_yz = 0\n",
    "tau_zx = 0\n",
    "fx = 0\n",
    "fy = 0\n",
    "fz = 0\n",
    "\n",
    "equation_x = Eq(diff(sigma_x, x)+diff(tau_xy, y)+diff(tau_zx, z)+fx, 0)\n",
    "equation_y = Eq(diff(tau_xy, x)+diff(sigma_y, y)+diff(tau_yz, z)+fy, 0)\n",
    "equation_z = Eq(diff(tau_zx, x)+diff(tau_yz, y)+diff(sigma_z, z)+fz, 0)"
   ]
  },
  {
   "cell_type": "code",
   "execution_count": 18,
   "metadata": {},
   "outputs": [
    {
     "data": {
      "text/latex": [
       "$\\displaystyle c_{1} y + \\frac{\\partial}{\\partial y} \\tau_{xy}{\\left(x,y \\right)} = 0$"
      ],
      "text/plain": [
       "Eq(c_1*y + Derivative(tau_xy(x, y), y), 0)"
      ]
     },
     "execution_count": 18,
     "metadata": {},
     "output_type": "execute_result"
    }
   ],
   "source": [
    "equation_x"
   ]
  },
  {
   "cell_type": "code",
   "execution_count": 19,
   "metadata": {},
   "outputs": [
    {
     "data": {
      "text/latex": [
       "$\\displaystyle - \\frac{c_{1} y^{2}}{2} + g_{1}{\\left(x \\right)}$"
      ],
      "text/plain": [
       "-c_1*y**2/2 + g_1(x)"
      ]
     },
     "execution_count": 19,
     "metadata": {},
     "output_type": "execute_result"
    }
   ],
   "source": [
    "equation_x = Eq(diff(tau_xy, y), -diff(sigma_x, x)-diff(tau_zx, z)-fx)\n",
    "tau_xy = integrate(equation_x.rhs, y) + Function(\"g_1\")(x)\n",
    "tau_xy"
   ]
  },
  {
   "cell_type": "code",
   "execution_count": 20,
   "metadata": {},
   "outputs": [
    {
     "data": {
      "text/latex": [
       "$\\displaystyle \\frac{\\partial}{\\partial y} \\sigma_{y}{\\left(x,y \\right)} + \\frac{\\partial}{\\partial x} \\tau_{xy}{\\left(x,y \\right)} = 0$"
      ],
      "text/plain": [
       "Eq(Derivative(sigma_y(x, y), y) + Derivative(tau_xy(x, y), x), 0)"
      ]
     },
     "execution_count": 20,
     "metadata": {},
     "output_type": "execute_result"
    }
   ],
   "source": [
    "equation_y"
   ]
  },
  {
   "cell_type": "code",
   "execution_count": 21,
   "metadata": {},
   "outputs": [
    {
     "data": {
      "text/latex": [
       "$\\displaystyle - y \\frac{d}{d x} g_{1}{\\left(x \\right)} + g_{2}{\\left(x \\right)}$"
      ],
      "text/plain": [
       "-y*Derivative(g_1(x), x) + g_2(x)"
      ]
     },
     "execution_count": 21,
     "metadata": {},
     "output_type": "execute_result"
    }
   ],
   "source": [
    "equation_y = Eq(diff(sigma_y, y), -diff(tau_xy, x)-diff(tau_yz, z)-fy)\n",
    "sigma_y = integrate(equation_y.rhs, y) + Function(\"g_2\")(x)\n",
    "sigma_y"
   ]
  },
  {
   "cell_type": "code",
   "execution_count": 22,
   "metadata": {},
   "outputs": [
    {
     "data": {
      "text/latex": [
       "$\\displaystyle \\frac{c_{1} d^{2}}{8}$"
      ],
      "text/plain": [
       "c_1*d**2/8"
      ]
     },
     "execution_count": 22,
     "metadata": {},
     "output_type": "execute_result"
    }
   ],
   "source": [
    "Eq(tau_xy.subs(x, 0).subs(y, d/2), 0)\n",
    "g1_0 = c1 * d**2 / 8\n",
    "g1_0"
   ]
  },
  {
   "cell_type": "code",
   "execution_count": 23,
   "metadata": {},
   "outputs": [
    {
     "data": {
      "text/latex": [
       "$\\displaystyle \\frac{P}{Iz}$"
      ],
      "text/plain": [
       "P/Iz"
      ]
     },
     "execution_count": 23,
     "metadata": {},
     "output_type": "execute_result"
    }
   ],
   "source": [
    "# tau_xy = Function(\"tau_xy\")(0, y)\n",
    "tau_xy = -c1 * y**2 / 2 + g1_0\n",
    "P_q = integrate(tau_xy * h, (y, -d/2, d/2))\n",
    "P_q.doit()\n",
    "c1 = P / Iz\n",
    "c1"
   ]
  },
  {
   "cell_type": "markdown",
   "metadata": {},
   "source": [
    "### Traction"
   ]
  },
  {
   "cell_type": "code",
   "execution_count": 24,
   "metadata": {},
   "outputs": [],
   "source": [
    "n_x, n_y, n_z = symbols(\"n_x, n_y, n_z\")\n",
    "t_x = sigma_x * n_x + tau_xy * n_y + tau_zx * n_z\n",
    "t_y = tau_xy * n_x + sigma_y * n_y + tau_yz * n_z\n",
    "t_z = tau_zx * n_x + tau_yz * n_y + sigma_z * n_z\n"
   ]
  },
  {
   "cell_type": "code",
   "execution_count": 25,
   "metadata": {},
   "outputs": [
    {
     "data": {
      "text/latex": [
       "$\\displaystyle n_{y} \\left(- \\frac{d \\frac{d}{d x} g_{1}{\\left(x \\right)}}{2} + g_{2}{\\left(x \\right)}\\right)$"
      ],
      "text/plain": [
       "n_y*(-d*Derivative(g_1(x), x)/2 + g_2(x))"
      ]
     },
     "execution_count": 25,
     "metadata": {},
     "output_type": "execute_result"
    }
   ],
   "source": [
    "t_y.subs(y, d/2)"
   ]
  },
  {
   "cell_type": "code",
   "execution_count": null,
   "metadata": {},
   "outputs": [],
   "source": []
  }
 ],
 "metadata": {
  "kernelspec": {
   "display_name": "Python 3",
   "language": "python",
   "name": "python3"
  },
  "language_info": {
   "codemirror_mode": {
    "name": "ipython",
    "version": 3
   },
   "file_extension": ".py",
   "mimetype": "text/x-python",
   "name": "python",
   "nbconvert_exporter": "python",
   "pygments_lexer": "ipython3",
   "version": "3.12.1"
  }
 },
 "nbformat": 4,
 "nbformat_minor": 2
}
