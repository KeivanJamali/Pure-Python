{
 "cells": [
  {
   "cell_type": "code",
   "execution_count": null,
   "id": "3c0f377b",
   "metadata": {},
   "outputs": [
    {
     "name": "stdout",
     "output_type": "stream",
     "text": [
      "The autoreload extension is already loaded. To reload it, use:\n",
      "  %reload_ext autoreload\n"
     ]
    }
   ],
   "source": [
    "%load_ext autoreload\n",
    "%autoreload 2\n",
    "\n",
    "\n",
    "import PPK_Processing_V2"
   ]
  },
  {
   "cell_type": "code",
   "execution_count": null,
   "id": "ed01d797",
   "metadata": {},
   "outputs": [
    {
     "name": "stdout",
     "output_type": "stream",
     "text": [
      "Removed notes: {1: [{'data_num': 1, 'Note': 1, 'Elevation': 1031.769}], 2: [{'data_num': 2, 'Note': 1, 'Elevation': 1038.272}], 3: [{'data_num': 3, 'Note': 1, 'Elevation': 1053.829}], 4: [{'data_num': 4, 'Note': 1, 'Elevation': 1062.288}], 5: [{'data_num': 5, 'Note': 1, 'Elevation': 1072.739}], 6: [{'data_num': 5, 'Note': 2, 'Elevation': 1178.342}]}\n"
     ]
    }
   ],
   "source": [
    "file_path = \"/mnt/Data1/Python_Projects/Pure-Python/P5/09-FaragitiWorks/p1-scvtotxtelevationssort/data/Band2_paya_040612_Kham.csv\"\n",
    "data = PPK_Processing_V2.DataLoader(filepath=file_path, time_threshold=0.75, elevation_threshold=None)\n",
    "engine = PPK_Processing_V2.Engine()\n",
    "\n",
    "needed_col = [\"Note\", \"Latitude\", \"Longitude\", \"Ell.Height (m)\", \"Solution Type\"]"
   ]
  },
  {
   "cell_type": "code",
   "execution_count": 78,
   "id": "cbff084b",
   "metadata": {},
   "outputs": [
    {
     "data": {
      "text/plain": [
       "{1: [{'data_num': 1, 'Note': 1, 'Elevation': 1031.769}],\n",
       " 2: [{'data_num': 2, 'Note': 1, 'Elevation': 1038.272}],\n",
       " 3: [{'data_num': 3, 'Note': 1, 'Elevation': 1053.829}],\n",
       " 4: [{'data_num': 4, 'Note': 1, 'Elevation': 1062.288}],\n",
       " 5: [{'data_num': 5, 'Note': 1, 'Elevation': 1072.739}],\n",
       " 6: [{'data_num': 5, 'Note': 2, 'Elevation': 1178.342}]}"
      ]
     },
     "execution_count": 78,
     "metadata": {},
     "output_type": "execute_result"
    }
   ],
   "source": [
    "data.removed_notes"
   ]
  },
  {
   "cell_type": "code",
   "execution_count": 82,
   "id": "782cd18b",
   "metadata": {},
   "outputs": [],
   "source": [
    "data.store_data(\"/mnt/Data1/Python_Projects/Pure-Python/P5/09-FaragitiWorks/p1-scvtotxtelevationssort/putput\")"
   ]
  },
  {
   "cell_type": "code",
   "execution_count": 80,
   "id": "7377e7fc",
   "metadata": {},
   "outputs": [
    {
     "data": {
      "application/vnd.microsoft.datawrangler.viewer.v0+json": {
       "columns": [
        {
         "name": "index",
         "rawType": "int64",
         "type": "integer"
        },
        {
         "name": "Note",
         "rawType": "int64",
         "type": "integer"
        },
        {
         "name": "Latitude",
         "rawType": "float64",
         "type": "float"
        },
        {
         "name": "Longitude",
         "rawType": "float64",
         "type": "float"
        },
        {
         "name": "Ell.Height (m)",
         "rawType": "float64",
         "type": "float"
        },
        {
         "name": "Solution Type",
         "rawType": "object",
         "type": "unknown"
        }
       ],
       "ref": "e919c0cc-ce61-4f63-a6b9-1c8cddd3dd90",
       "rows": [
        [
         "0",
         "2",
         "32.42471048",
         "55.31805541",
         "1142.951",
         "Fixed"
        ],
        [
         "1",
         "3",
         "32.42457953",
         "55.31800183",
         "1143.088",
         "Fixed"
        ],
        [
         "2",
         "4",
         "32.42444263",
         "55.31794374",
         "1143.303",
         "Fixed"
        ],
        [
         "3",
         "5",
         "32.42426723",
         "55.31787115",
         "1143.361",
         "Fixed"
        ],
        [
         "4",
         "6",
         "32.42409708",
         "55.31780007",
         "1143.504",
         "Fixed"
        ],
        [
         "5",
         "7",
         "32.42392911",
         "55.31772986",
         "1143.469",
         "Fixed"
        ],
        [
         "6",
         "8",
         "32.42375722",
         "55.31765807",
         "1143.42",
         "Fixed"
        ],
        [
         "7",
         "9",
         "32.42358784",
         "55.31758731",
         "1143.59",
         "Fixed"
        ],
        [
         "8",
         "10",
         "32.42345526",
         "55.31750052",
         "1143.912",
         "Fixed"
        ],
        [
         "9",
         "11",
         "32.42356748",
         "55.31732128",
         "1144.073",
         "Fixed"
        ],
        [
         "10",
         "12",
         "32.42367561",
         "55.31721413",
         "1144.212",
         "Fixed"
        ],
        [
         "11",
         "13",
         "32.4238488",
         "55.31727473",
         "1143.839",
         "Fixed"
        ],
        [
         "12",
         "14",
         "32.42402528",
         "55.31734771",
         "1143.426",
         "Fixed"
        ],
        [
         "13",
         "15",
         "32.42419633",
         "55.31741948",
         "1143.227",
         "Fixed"
        ],
        [
         "14",
         "16",
         "32.42436538",
         "55.3174902",
         "1143.123",
         "Fixed"
        ],
        [
         "15",
         "17",
         "32.42453373",
         "55.31756145",
         "1143.245",
         "Fixed"
        ],
        [
         "16",
         "18",
         "32.42470117",
         "55.31763153",
         "1143.411",
         "Fixed"
        ],
        [
         "17",
         "19",
         "32.42487245",
         "55.31770299",
         "1143.27",
         "Fixed"
        ],
        [
         "18",
         "20",
         "32.42504149",
         "55.31777353",
         "1143.145",
         "Fixed"
        ],
        [
         "19",
         "21",
         "32.42521013",
         "55.31784504",
         "1143.122",
         "Fixed"
        ],
        [
         "20",
         "22",
         "32.42538012",
         "55.31791694",
         "1142.912",
         "Fixed"
        ],
        [
         "21",
         "23",
         "32.4255105",
         "55.31794042",
         "1142.718",
         "Fixed"
        ],
        [
         "22",
         "24",
         "32.42563488",
         "55.31778227",
         "1142.785",
         "Fixed"
        ],
        [
         "23",
         "25",
         "32.4257023",
         "55.31764775",
         "1143.135",
         "Fixed"
        ],
        [
         "24",
         "26",
         "32.42553367",
         "55.31756032",
         "1143.419",
         "Fixed"
        ],
        [
         "25",
         "27",
         "32.42535683",
         "55.3174836",
         "1143.383",
         "Fixed"
        ],
        [
         "26",
         "28",
         "32.42518691",
         "55.31741177",
         "1143.555",
         "Fixed"
        ],
        [
         "27",
         "29",
         "32.42501905",
         "55.31734138",
         "1143.729",
         "Fixed"
        ],
        [
         "28",
         "30",
         "32.42484861",
         "55.31726979",
         "1143.841",
         "Fixed"
        ],
        [
         "29",
         "31",
         "32.4246791",
         "55.31719833",
         "1143.957",
         "Fixed"
        ],
        [
         "30",
         "32",
         "32.42451024",
         "55.31712766",
         "1144.079",
         "Fixed"
        ],
        [
         "31",
         "33",
         "32.42434021",
         "55.31705652",
         "1144.215",
         "Fixed"
        ],
        [
         "32",
         "34",
         "32.42417073",
         "55.31698537",
         "1144.441",
         "Fixed"
        ],
        [
         "33",
         "35",
         "32.424002",
         "55.31691367",
         "1144.79",
         "Fixed"
        ],
        [
         "34",
         "36",
         "32.42392198",
         "55.31684971",
         "1144.98",
         "Fixed"
        ],
        [
         "35",
         "37",
         "32.42403204",
         "55.31667173",
         "1145.081",
         "Fixed"
        ],
        [
         "36",
         "38",
         "32.42414309",
         "55.3165626",
         "1145.103",
         "Fixed"
        ],
        [
         "37",
         "39",
         "32.4243152",
         "55.31662452",
         "1144.462",
         "Fixed"
        ],
        [
         "38",
         "40",
         "32.42449204",
         "55.31669705",
         "1144.215",
         "Fixed"
        ],
        [
         "39",
         "41",
         "32.4246639",
         "55.31676843",
         "1144.289",
         "Fixed"
        ],
        [
         "40",
         "42",
         "32.42483135",
         "55.31683882",
         "1144.069",
         "Fixed"
        ],
        [
         "41",
         "43",
         "32.4250004",
         "55.31691063",
         "1144.021",
         "Fixed"
        ],
        [
         "42",
         "44",
         "32.42517125",
         "55.31698279",
         "1144.084",
         "Fixed"
        ],
        [
         "43",
         "45",
         "32.42533978",
         "55.31705341",
         "1144.19",
         "Fixed"
        ],
        [
         "44",
         "46",
         "32.42550827",
         "55.31712436",
         "1144.105",
         "Fixed"
        ],
        [
         "45",
         "47",
         "32.42567954",
         "55.31719642",
         "1144.013",
         "Fixed"
        ],
        [
         "46",
         "48",
         "32.42584652",
         "55.31726649",
         "1143.835",
         "Fixed"
        ],
        [
         "47",
         "49",
         "32.42596927",
         "55.31728396",
         "1143.727",
         "Fixed"
        ],
        [
         "48",
         "50",
         "32.42609477",
         "55.31712408",
         "1143.808",
         "Fixed"
        ],
        [
         "49",
         "51",
         "32.42615982",
         "55.31699249",
         "1144.191",
         "Fixed"
        ]
       ],
       "shape": {
        "columns": 5,
        "rows": 438
       }
      },
      "text/html": [
       "<div>\n",
       "<style scoped>\n",
       "    .dataframe tbody tr th:only-of-type {\n",
       "        vertical-align: middle;\n",
       "    }\n",
       "\n",
       "    .dataframe tbody tr th {\n",
       "        vertical-align: top;\n",
       "    }\n",
       "\n",
       "    .dataframe thead th {\n",
       "        text-align: right;\n",
       "    }\n",
       "</style>\n",
       "<table border=\"1\" class=\"dataframe\">\n",
       "  <thead>\n",
       "    <tr style=\"text-align: right;\">\n",
       "      <th></th>\n",
       "      <th>Note</th>\n",
       "      <th>Latitude</th>\n",
       "      <th>Longitude</th>\n",
       "      <th>Ell.Height (m)</th>\n",
       "      <th>Solution Type</th>\n",
       "    </tr>\n",
       "  </thead>\n",
       "  <tbody>\n",
       "    <tr>\n",
       "      <th>0</th>\n",
       "      <td>2</td>\n",
       "      <td>32.424710</td>\n",
       "      <td>55.318055</td>\n",
       "      <td>1142.951</td>\n",
       "      <td>Fixed</td>\n",
       "    </tr>\n",
       "    <tr>\n",
       "      <th>1</th>\n",
       "      <td>3</td>\n",
       "      <td>32.424580</td>\n",
       "      <td>55.318002</td>\n",
       "      <td>1143.088</td>\n",
       "      <td>Fixed</td>\n",
       "    </tr>\n",
       "    <tr>\n",
       "      <th>2</th>\n",
       "      <td>4</td>\n",
       "      <td>32.424443</td>\n",
       "      <td>55.317944</td>\n",
       "      <td>1143.303</td>\n",
       "      <td>Fixed</td>\n",
       "    </tr>\n",
       "    <tr>\n",
       "      <th>3</th>\n",
       "      <td>5</td>\n",
       "      <td>32.424267</td>\n",
       "      <td>55.317871</td>\n",
       "      <td>1143.361</td>\n",
       "      <td>Fixed</td>\n",
       "    </tr>\n",
       "    <tr>\n",
       "      <th>4</th>\n",
       "      <td>6</td>\n",
       "      <td>32.424097</td>\n",
       "      <td>55.317800</td>\n",
       "      <td>1143.504</td>\n",
       "      <td>Fixed</td>\n",
       "    </tr>\n",
       "    <tr>\n",
       "      <th>...</th>\n",
       "      <td>...</td>\n",
       "      <td>...</td>\n",
       "      <td>...</td>\n",
       "      <td>...</td>\n",
       "      <td>...</td>\n",
       "    </tr>\n",
       "    <tr>\n",
       "      <th>433</th>\n",
       "      <td>435</td>\n",
       "      <td>32.432349</td>\n",
       "      <td>55.308518</td>\n",
       "      <td>1156.781</td>\n",
       "      <td>Fixed</td>\n",
       "    </tr>\n",
       "    <tr>\n",
       "      <th>434</th>\n",
       "      <td>436</td>\n",
       "      <td>32.432486</td>\n",
       "      <td>55.308368</td>\n",
       "      <td>1156.876</td>\n",
       "      <td>Fixed</td>\n",
       "    </tr>\n",
       "    <tr>\n",
       "      <th>435</th>\n",
       "      <td>437</td>\n",
       "      <td>32.432637</td>\n",
       "      <td>55.308257</td>\n",
       "      <td>1157.360</td>\n",
       "      <td>Fixed</td>\n",
       "    </tr>\n",
       "    <tr>\n",
       "      <th>436</th>\n",
       "      <td>438</td>\n",
       "      <td>32.432809</td>\n",
       "      <td>55.308317</td>\n",
       "      <td>1157.049</td>\n",
       "      <td>Fixed</td>\n",
       "    </tr>\n",
       "    <tr>\n",
       "      <th>437</th>\n",
       "      <td>439</td>\n",
       "      <td>32.432984</td>\n",
       "      <td>55.308391</td>\n",
       "      <td>1156.908</td>\n",
       "      <td>Fixed</td>\n",
       "    </tr>\n",
       "  </tbody>\n",
       "</table>\n",
       "<p>438 rows × 5 columns</p>\n",
       "</div>"
      ],
      "text/plain": [
       "     Note   Latitude  Longitude  Ell.Height (m) Solution Type\n",
       "0       2  32.424710  55.318055        1142.951         Fixed\n",
       "1       3  32.424580  55.318002        1143.088         Fixed\n",
       "2       4  32.424443  55.317944        1143.303         Fixed\n",
       "3       5  32.424267  55.317871        1143.361         Fixed\n",
       "4       6  32.424097  55.317800        1143.504         Fixed\n",
       "..    ...        ...        ...             ...           ...\n",
       "433   435  32.432349  55.308518        1156.781         Fixed\n",
       "434   436  32.432486  55.308368        1156.876         Fixed\n",
       "435   437  32.432637  55.308257        1157.360         Fixed\n",
       "436   438  32.432809  55.308317        1157.049         Fixed\n",
       "437   439  32.432984  55.308391        1156.908         Fixed\n",
       "\n",
       "[438 rows x 5 columns]"
      ]
     },
     "execution_count": 80,
     "metadata": {},
     "output_type": "execute_result"
    }
   ],
   "source": [
    "data.group_data[1][needed_col]"
   ]
  },
  {
   "cell_type": "code",
   "execution_count": 81,
   "id": "2ba6b606",
   "metadata": {},
   "outputs": [
    {
     "name": "stdout",
     "output_type": "stream",
     "text": [
      "Solution Type\n",
      "Fixed    46\n",
      "Name: count, dtype: int64\n"
     ]
    },
    {
     "name": "stderr",
     "output_type": "stream",
     "text": [
      "/mnt/Data1/Python_Projects/Pure-Python/P5/09-FaragitiWorks/p1-scvtotxtelevationssort/main.py:92: FutureWarning: A value is trying to be set on a copy of a DataFrame or Series through chained assignment using an inplace method.\n",
      "The behavior will change in pandas 3.0. This inplace method will never work because the intermediate object on which we are setting values always behaves as a copy.\n",
      "\n",
      "For example, when doing 'df[col].method(value, inplace=True)', try using 'df.method({col: value}, inplace=True)' or df[col] = df[col].method(value) instead, to perform the operation inplace on the original object.\n",
      "\n",
      "\n",
      "  data[\"Solution Type\"].fillna(\"None\", inplace=True)\n"
     ]
    },
    {
     "data": {
      "image/png": "[encoded data removed]",
      "text/plain": [
       "<Figure size 500x500 with 1 Axes>"
      ]
     },
     "metadata": {},
     "output_type": "display_data"
    },
    {
     "data": {
      "image/png": "[encoded data removed]",
      "text/plain": [
       "<Figure size 700x500 with 1 Axes>"
      ]
     },
     "metadata": {},
     "output_type": "display_data"
    },
    {
     "data": {
      "image/png": "[encoded data removed]",
      "text/plain": [
       "<Figure size 800x500 with 1 Axes>"
      ]
     },
     "metadata": {},
     "output_type": "display_data"
    }
   ],
   "source": [
    "engine.plot_data(data.group_data[4].copy(), 1)"
   ]
  },
  {
   "cell_type": "code",
   "execution_count": null,
   "id": "58f49fec",
   "metadata": {},
   "outputs": [],
   "source": []
  },
  {
   "cell_type": "code",
   "execution_count": null,
   "id": "3e53fdd4",
   "metadata": {},
   "outputs": [],
   "source": []
  }
 ],
 "metadata": {
  "kernelspec": {
   "display_name": "advanced-python",
   "language": "python",
   "name": "python3"
  },
  "language_info": {
   "codemirror_mode": {
    "name": "ipython",
    "version": 3
   },
   "file_extension": ".py",
   "mimetype": "text/x-python",
   "name": "python",
   "nbconvert_exporter": "python",
   "pygments_lexer": "ipython3",
   "version": "3.13.5"
  }
 },
 "nbformat": 4,
 "nbformat_minor": 5
}
