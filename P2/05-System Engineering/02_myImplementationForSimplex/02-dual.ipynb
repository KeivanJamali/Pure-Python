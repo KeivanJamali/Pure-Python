{
 "cells": [
  {
   "cell_type": "code",
   "execution_count": 60,
   "metadata": {},
   "outputs": [
    {
     "name": "stdout",
     "output_type": "stream",
     "text": [
      "The autoreload extension is already loaded. To reload it, use:\n",
      "  %reload_ext autoreload\n"
     ]
    }
   ],
   "source": [
    "%load_ext autoreload\n",
    "%autoreload 2\n",
    "from Simplex import Simplex, Problem_Prepration, Sensitivity_Analysis, Dual\n",
    "import numpy as np \n",
    "import matplotlib.pyplot as plt \n",
    "import pandas as pd "
   ]
  },
  {
   "cell_type": "code",
   "execution_count": 62,
   "metadata": {},
   "outputs": [
    {
     "name": "stdout",
     "output_type": "stream",
     "text": [
      "[INFO] Add slack\n",
      "[INFO] Add slack\n",
      "[INFO] Add slack\n",
      "[INFO] Parameter x1 remains same.\n",
      "[INFO] Parameter x2 remains same.\n",
      "[INFO] Parameter x3 remains same.\n",
      "[INFO] One phase solution\n",
      "Finished.\n",
      "|    |   Current Values |   x1 |   x2 |   x3 |   s1 |   s2 |   s3 |\n",
      "|----|------------------|------|------|------|------|------|------|\n",
      "|  0 |            912.0 | 72.0 | 96.0 |  0.0 |  0.0 |  0.0 | 60.0 |\n",
      "\n"
     ]
    }
   ],
   "source": [
    "objective_function = [0, 6, 5, 4]\n",
    "constraints = [[240, 2, 1, 1], [360, 1, 3, 2], [300, 2, 1, 2]]\n",
    "equality = [\"ineq\", \"ineq\", \"ineq\"]\n",
    "parameters = [(\"x1\", \"+\"), (\"x2\", \"+\"), (\"x3\", \"+\")]\n",
    "\n",
    "problem = Problem_Prepration(\n",
    "    objective_function=objective_function,\n",
    "    constraints=constraints,\n",
    "    equality=equality,\n",
    "    parameters=parameters,\n",
    "    mode=\"max\",\n",
    ")\n",
    "\n",
    "simplex = Simplex(problem=problem)\n",
    "simplex.fit()\n",
    "print()\n",
    "# simplex.make_table(format_=\"github\")"
   ]
  },
  {
   "cell_type": "code",
   "execution_count": 63,
   "metadata": {},
   "outputs": [
    {
     "name": "stdout",
     "output_type": "stream",
     "text": [
      "[INFO] Add slack\n",
      "[INFO] Add slack\n",
      "[INFO] Parameter x1 remains same.\n",
      "[INFO] Parameter x2 remains same.\n",
      "[INFO] One phase solution\n",
      "Finished.\n",
      "|    |   Current Values |   x1 |   x2 |   s1 |   s2 |\n",
      "|----|------------------|------|------|------|------|\n",
      "|  0 |              7.0 |  3.0 |  1.0 |  0.0 |  0.0 |\n",
      "\n"
     ]
    }
   ],
   "source": [
    "objective_function = [0, 2, 1]\n",
    "constraints = [[4, 1, 1], [2, 1, -1]]\n",
    "equality = [\"ineq\", \"ineq\"]\n",
    "parameters = [(\"x1\", \"+\"), (\"x2\", \"+\")]\n",
    "mode = \"max\"\n",
    "\n",
    "problem = Problem_Prepration(\n",
    "    objective_function=objective_function,\n",
    "    constraints=constraints,\n",
    "    equality=equality,\n",
    "    parameters=parameters,\n",
    "    mode=mode,\n",
    ")\n",
    "\n",
    "simplex = Simplex(problem=problem, number_of_dashes=15)\n",
    "simplex.fit()\n",
    "print()\n",
    "# simplex.make_table(format_=\"github\")\n"
   ]
  },
  {
   "cell_type": "code",
   "execution_count": 64,
   "metadata": {},
   "outputs": [
    {
     "name": "stdout",
     "output_type": "stream",
     "text": [
      "[INFO] Dual Problem setting is set successfully.\n",
      "[INFO] Add excess & artificial\n",
      "[INFO] Add excess & artificial\n",
      "[INFO] Parameter Y1 remains same.\n",
      "[INFO] Parameter Y2 remains same.\n",
      "[INFO] Dual New Problem had been made successfully.\n",
      "[INFO] Two phase solution\n",
      "[INFO] Phase I starts | Finished\n",
      "[INFO] Phase II Starts | Finished.\n",
      "|    |   Current Values |   Y1 |   Y2 |   e1 |   y1 |   e2 |   y2 |\n",
      "|----|------------------|------|------|------|------|------|------|\n",
      "|  0 |              7.0 |  1.5 |  0.5 |  0.0 |  0.0 |  0.0 |  0.0 |\n",
      "\n"
     ]
    }
   ],
   "source": [
    "dual_problem = Dual(objective_function=objective_function, constraints=constraints, equality=equality, parameters=parameters, mode=mode)\n",
    "dual_problem.fit()\n",
    "simplex = Simplex(problem=dual_problem.problem)\n",
    "simplex.fit(max_iterations=10)\n",
    "print()\n",
    "# simplex.make_table()"
   ]
  },
  {
   "cell_type": "code",
   "execution_count": 66,
   "metadata": {},
   "outputs": [
    {
     "name": "stdout",
     "output_type": "stream",
     "text": [
      "[INFO] Add slack\n",
      "[INFO] Add slack\n",
      "[INFO] Parameter Y1 remains same.\n",
      "[INFO] Parameter Y2 remains same.\n",
      "[INFO] One phase solution\n",
      "[ERROR] Failed to find pivot row. Go to Simplex._find_pivot_row function to fix this issue. It is most probably Unbounded!\n",
      "[DONE] Unbounded!!!\n",
      "Finished.\n",
      "|    |   Current Values |   Y1 |   Y2 |   s1 |   s2 |\n",
      "|----|------------------|------|------|------|------|\n",
      "|  0 |              4.0 |  2.0 |  0.0 |  2.0 |  0.0 |\n",
      "\n"
     ]
    }
   ],
   "source": [
    "objective_function = [0, 2, 1]\n",
    "constraints = [[4, 1, -1],[2, 1, -1]]\n",
    "equality = [\"ineq\", \"ineq\"]\n",
    "parameters = [(\"Y1\", \"+\"), (\"Y2\", \"+\")]\n",
    "mode = \"max\"\n",
    "\n",
    "problem = Problem_Prepration(\n",
    "    objective_function=objective_function,\n",
    "    constraints=constraints,\n",
    "    equality=equality,\n",
    "    parameters=parameters,\n",
    "    mode=mode,\n",
    ")\n",
    "\n",
    "simplex = Simplex(problem=problem, number_of_dashes=15)\n",
    "simplex.fit(max_iterations=8)\n",
    "print()\n",
    "# simplex.make_table(format_=\"github\")"
   ]
  },
  {
   "cell_type": "code",
   "execution_count": 69,
   "metadata": {},
   "outputs": [
    {
     "name": "stdout",
     "output_type": "stream",
     "text": [
      "[INFO] Dual Problem setting is set successfully.\n",
      "[INFO] Add excess & artificial\n",
      "[INFO] Add excess & artificial\n",
      "[INFO] Parameter x1 remains same.\n",
      "[INFO] Parameter x2 remains same.\n",
      "[INFO] Dual New Problem had been made successfully.\n",
      "[INFO] Two phase solution\n",
      "[INFO] Phase I starts | [ERROR] Limit of iteration exceeded.(iteration=10)\n",
      "[DONE] INFEASIBLE!!!\n",
      "Finished\n"
     ]
    }
   ],
   "source": [
    "dual_problem = Dual(objective_function, constraints, equality, parameters, mode)\n",
    "# print(dual_problem)\n",
    "dual_problem.fit()\n",
    "simplex = Simplex(problem=dual_problem.problem)\n",
    "simplex.fit(max_iterations=10)\n",
    "# simplex.make_table()"
   ]
  },
  {
   "cell_type": "code",
   "execution_count": 76,
   "metadata": {},
   "outputs": [
    {
     "name": "stdout",
     "output_type": "stream",
     "text": [
      "[INFO] Add slack\n",
      "[INFO] Add excess & artificial\n",
      "[INFO] Add slack\n",
      "[INFO] Add slack\n",
      "[INFO] Parameter x_A remains same.\n",
      "[INFO] Parameter x_B remains same.\n",
      "[INFO] Parameter x_C remains same.\n",
      "[INFO] Parameter x_D remains same.\n",
      "[INFO] Parameter x_E remains same.\n",
      "[INFO] Two phase solution\n",
      "[INFO] Phase I starts | Finished\n",
      "[INFO] Phase II Starts | Finished.\n",
      "|    |   Current Values |   x_A |   x_B |   x_C |   x_D |   x_E |   s1 |   e1 |   y1 |    s2 |    s3 |\n",
      "|----|------------------|-------|-------|-------|-------|-------|------|------|------|-------|-------|\n",
      "|  0 |              0.4 |   0.0 |   4.0 |   0.0 |   0.0 |   6.0 |  0.0 |  0.0 |  0.0 | -24.0 | -22.0 |\n",
      "\n",
      "| Basic Variables   | Current Values   | x_A                    | x_B             | x_C                    | x_D                   | x_E             | s1              | e1              | y1              | s2              | s3              |\n",
      "|-------------------|------------------|------------------------|-----------------|------------------------|-----------------------|-----------------|-----------------|-----------------|-----------------|-----------------|-----------------|\n",
      "| s1                | 10.0             | 1.0                    | 1.0             | 1.0                    | 1.0                   | 1.0             | 1.0             | 0.0             | 0.0             | 0.0             | 0.0             |\n",
      "| y1                | -4.0             | 0.0                    | -1.0            | -1.0                   | -1.0                  | 0.0             | 0.0             | 1.0             | -1.0            | 0.0             | 0.0             |\n",
      "| s2                | 0.0              | 0.6                    | 0.6             | -0.4                   | -0.4                  | 3.6             | 0.0             | 0.0             | 0.0             | 1.0             | 0.0             |\n",
      "| s3                | 0.0              | 4.0                    | 10.0            | -1.0                   | -2.0                  | -3.0            | 0.0             | 0.0             | 0.0             | 0.0             | 1.0             |\n",
      "| -z1               | 0.0              | 0.043                  | 0.027           | 0.025                  | 0.022                 | 0.045           | 0.0             | 0.0             | 0.0             | 0.0             | 0.0             |\n",
      "| -w1               | 0.0              | 0.0                    | 0.0             | 0.0                    | 0.0                   | 0.0             | 0.0             | 0.0             | -1.0            | 0.0             | 0.0             |\n",
      "| ---------------   | ---------------  | ---------------        | --------------- | ---------------        | ---------------       | --------------- | --------------- | --------------- | --------------- | --------------- | --------------- |\n",
      "| s1                | 10.0             | 1.0                    | 1.0             | 1.0                    | 1.0                   | 1.0             | 1.0             | 0.0             | 0.0             | 0.0             | 0.0             |\n",
      "| y1                | -4.0             | 0.0                    | -1.0            | -1.0                   | -1.0                  | 0.0             | 0.0             | 1.0             | -1.0            | 0.0             | 0.0             |\n",
      "| s2                | 0.0              | 0.6                    | 0.6             | -0.4                   | -0.4                  | 3.6             | 0.0             | 0.0             | 0.0             | 1.0             | 0.0             |\n",
      "| s3                | 0.0              | 4.0                    | 10.0            | -1.0                   | -2.0                  | -3.0            | 0.0             | 0.0             | 0.0             | 0.0             | 1.0             |\n",
      "| -z2               | 0.0              | 0.043                  | 0.027           | 0.025                  | 0.022                 | 0.045           | 0.0             | 0.0             | 0.0             | 0.0             | 0.0             |\n",
      "| -w2               | 4.0              | 0.0                    | 1.0             | 1.0                    | 1.0                   | 0.0             | 0.0             | -1.0            | 0.0             | 0.0             | 0.0             |\n",
      "| ---------------   | ---------------  | ---------------        | --------------- | ---------------        | ---------------       | --------------- | --------------- | --------------- | --------------- | --------------- | --------------- |\n",
      "| s1                | 6.0              | 1.0                    | 0.0             | 0.0                    | 0.0                   | 1.0             | 1.0             | 1.0             | -1.0            | 0.0             | 0.0             |\n",
      "| x_B               | 4.0              | -0.0                   | 1.0             | 1.0                    | 1.0                   | -0.0            | -0.0            | -1.0            | 1.0             | -0.0            | -0.0            |\n",
      "| s2                | -2.4             | 0.6                    | 0.0             | -1.0                   | -1.0                  | 3.6             | 0.0             | 0.6             | -0.6            | 1.0             | 0.0             |\n",
      "| s3                | -40.0            | 4.0                    | 0.0             | -11.0                  | -12.0                 | -3.0            | 0.0             | 10.0            | -10.0           | 0.0             | 1.0             |\n",
      "| -z3               | -0.108           | 0.043                  | 0.0             | -0.0019999999999999983 | -0.005000000000000001 | 0.045           | 0.0             | 0.027           | -0.027          | 0.0             | 0.0             |\n",
      "| -w3               | 0.0              | 0.0                    | 0.0             | 0.0                    | 0.0                   | 0.0             | 0.0             | 0.0             | -1.0            | 0.0             | 0.0             |\n",
      "| ---------------   | ---------------  | ---------------        | --------------- | ---------------        | ---------------       | --------------- | --------------- | --------------- | --------------- | --------------- | --------------- |\n",
      "| s1                | 6.0              | 1.0                    | 0.0             | 0.0                    | 0.0                   | 1.0             | 1.0             | 1.0             | -1.0            | 0.0             | 0.0             |\n",
      "| x_B               | 4.0              | -0.0                   | 1.0             | 1.0                    | 1.0                   | -0.0            | -0.0            | -1.0            | 1.0             | -0.0            | -0.0            |\n",
      "| s2                | -2.4             | 0.6                    | 0.0             | -1.0                   | -1.0                  | 3.6             | 0.0             | 0.6             | -0.6            | 1.0             | 0.0             |\n",
      "| s3                | -40.0            | 4.0                    | 0.0             | -11.0                  | -12.0                 | -3.0            | 0.0             | 10.0            | -10.0           | 0.0             | 1.0             |\n",
      "| -z4               | -0.108           | 0.043                  | 0.0             | -0.0019999999999999983 | -0.005000000000000001 | 0.045           | 0.0             | 0.027           | -0.027          | 0.0             | 0.0             |\n",
      "| ---------------   | ---------------  | ---------------        | --------------- | ---------------        | ---------------       | --------------- | --------------- | --------------- | --------------- | --------------- | --------------- |\n",
      "| x_E               | 6.0              | 1.0                    | 0.0             | 0.0                    | 0.0                   | 1.0             | 1.0             | 1.0             | -1.0            | 0.0             | 0.0             |\n",
      "| x_B               | 4.0              | 0.0                    | 1.0             | 1.0                    | 1.0                   | 0.0             | 0.0             | -1.0            | 1.0             | 0.0             | 0.0             |\n",
      "| s2                | -24.0            | -3.0                   | 0.0             | -1.0                   | -1.0                  | 0.0             | -3.6            | -3.0            | 3.0             | 1.0             | 0.0             |\n",
      "| s3                | -22.0            | 7.0                    | 0.0             | -11.0                  | -12.0                 | 0.0             | 3.0             | 13.0            | -13.0           | 0.0             | 1.0             |\n",
      "| -z5               | -0.378           | -0.0020000000000000018 | 0.0             | -0.0019999999999999983 | -0.005000000000000001 | 0.0             | -0.045          | -0.018          | 0.018           | 0.0             | 0.0             |\n",
      "| ---------------   | ---------------  | ---------------        | --------------- | ---------------        | ---------------       | --------------- | --------------- | --------------- | --------------- | --------------- | --------------- |\n"
     ]
    }
   ],
   "source": [
    "objective_function = [0, 0.043, 0.027, 0.025, 0.022, 0.045]\n",
    "constraints = [[10, 1, 1, 1, 1, 1], [-4, 0, -1, -1, -1, 0], [0, 0.6, 0.6, -0.4, -0.4, 3.6], [0, 4, 10, -1, -2, -3]]\n",
    "equality = [\"ineq\", \"ineq\", \"ineq\", \"ineq\"]\n",
    "parameters = [(\"x_A\", \"+\"), (\"x_B\", \"+\"), (\"x_C\", \"+\"), (\"x_D\", \"+\"), (\"x_E\", \"+\")]\n",
    "mode = \"max\"\n",
    "\n",
    "problem = Problem_Prepration(\n",
    "    objective_function=objective_function,\n",
    "    constraints=constraints,\n",
    "    equality=equality,\n",
    "    parameters=parameters,\n",
    "    mode=mode,\n",
    ")\n",
    "\n",
    "simplex = Simplex(problem=problem, number_of_dashes=15)\n",
    "simplex.fit(max_iterations=8)\n",
    "print()\n",
    "simplex.make_table(format_=\"github\")"
   ]
  },
  {
   "cell_type": "code",
   "execution_count": 79,
   "metadata": {},
   "outputs": [
    {
     "name": "stdout",
     "output_type": "stream",
     "text": [
      "[INFO] Dual Problem setting is set successfully.\n",
      "[INFO] Add excess & artificial\n",
      "[INFO] Add excess & artificial\n",
      "[INFO] Add excess & artificial\n",
      "[INFO] Add excess & artificial\n",
      "[INFO] Add excess & artificial\n",
      "[INFO] Parameter Y1 remains same.\n",
      "[INFO] Parameter Y2 remains same.\n",
      "[INFO] Parameter Y3 remains same.\n",
      "[INFO] Parameter Y4 remains same.\n",
      "[INFO] Dual New Problem had been made successfully.\n",
      "[INFO] Two phase solution\n",
      "[INFO] Phase I starts | [ERROR] Limit of iteration exceeded.(iteration=30)\n",
      "[DONE] INFEASIBLE!!!\n",
      "Finished\n",
      "\n"
     ]
    }
   ],
   "source": [
    "dual_problem = Dual(objective_function, constraints, equality, parameters, mode)\n",
    "dual_problem.fit()\n",
    "simplex2 = Simplex(problem=dual_problem.problem)\n",
    "simplex2.fit(max_iterations=30)\n",
    "print()\n",
    "# simplex2.make_table()"
   ]
  }
 ],
 "metadata": {
  "kernelspec": {
   "display_name": "Python 3",
   "language": "python",
   "name": "python3"
  },
  "language_info": {
   "codemirror_mode": {
    "name": "ipython",
    "version": 3
   },
   "file_extension": ".py",
   "mimetype": "text/x-python",
   "name": "python",
   "nbconvert_exporter": "python",
   "pygments_lexer": "ipython3",
   "version": "3.12.1"
  }
 },
 "nbformat": 4,
 "nbformat_minor": 2
}
