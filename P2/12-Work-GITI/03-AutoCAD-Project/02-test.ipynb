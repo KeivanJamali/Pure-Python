{
 "cells": [
  {
   "cell_type": "code",
   "execution_count": 1,
   "metadata": {},
   "outputs": [],
   "source": [
    "%load_ext autoreload\n",
    "%autoreload 2"
   ]
  },
  {
   "cell_type": "code",
   "execution_count": 5,
   "metadata": {},
   "outputs": [],
   "source": [
    "from modular.main import run"
   ]
  },
  {
   "cell_type": "code",
   "execution_count": 21,
   "metadata": {},
   "outputs": [
    {
     "data": {
      "application/vnd.jupyter.widget-view+json": {
       "model_id": "9f14e596175849f39df5c591c34dce3f",
       "version_major": 2,
       "version_minor": 0
      },
      "text/plain": [
       "  0%|          | 0/2091 [00:00<?, ?it/s]"
      ]
     },
     "metadata": {},
     "output_type": "display_data"
    },
    {
     "name": "stdout",
     "output_type": "stream",
     "text": [
      "Code generation complete. The code has been saved to n1-bridge.py.\n",
      "[INFO] All input data were read successfuly.\n",
      "[INFO] Successfuly applied parameters in the for directions.\n",
      "[INFO] Successfuly applied information in the for footer.\n",
      "[INFO] Successfuly find parameters in the table 1.\n",
      "[INFO] Successfuly applied parameters from the table 1.\n",
      "[INFO] Successfuly find parameters in the table 2.\n",
      "[INFO] Successfuly applied parameters from the table 2.\n",
      "[ERROR] Max H is incorrect. H = 1322.5099999999998. should be between 1 and 7.\n"
     ]
    },
    {
     "name": "stderr",
     "output_type": "stream",
     "text": [
      "d:\\All Python\\Pure-Python\\P2\\12-Work-GITI\\03-AutoCAD-Project\\modular\\Calculations.py:95: FutureWarning: Series.__getitem__ treating keys as positions is deprecated. In a future version, integer keys will always be treated as labels (consistent with DataFrame behavior). To access a value by position, use `ser.iloc[pos]`\n",
      "  if np.isnan(choice[0]):\n"
     ]
    },
    {
     "data": {
      "text/plain": [
       "'D:\\\\All Python\\\\Pure-Python\\\\P2\\\\12-Work-GITI\\\\03-AutoCAD-Project\\\\results\\\\template_bridge.py'"
      ]
     },
     "execution_count": 21,
     "metadata": {},
     "output_type": "execute_result"
    }
   ],
   "source": [
    "dwg = r\"D:\\All Python\\Pure-Python\\P2\\12-Work-GITI\\03-AutoCAD-Project\\input_files\\1_bridge.dwg\"\n",
    "file = r\"D:\\All Python\\Pure-Python\\P2\\12-Work-GITI\\03-AutoCAD-Project\\input_files\\input_form.csv\"\n",
    "results = r\"D:\\All Python\\Pure-Python\\P2\\12-Work-GITI\\03-AutoCAD-Project\\results\"\n",
    "builder = run(input_dwg=dwg, output_file=results)\n",
    "builder.save_files(file=file)"
   ]
  },
  {
   "cell_type": "code",
   "execution_count": 20,
   "metadata": {},
   "outputs": [],
   "source": [
    "import pandas as pd\n",
    "data = pd.read_csv(\"input_files/input_form.csv\", header=None)\n",
    "if data.iloc[19, 1] != \"TRUE\":\n",
    "    print(data.iloc[19, 1])"
   ]
  }
 ],
 "metadata": {
  "kernelspec": {
   "display_name": "Python 3",
   "language": "python",
   "name": "python3"
  },
  "language_info": {
   "codemirror_mode": {
    "name": "ipython",
    "version": 3
   },
   "file_extension": ".py",
   "mimetype": "text/x-python",
   "name": "python",
   "nbconvert_exporter": "python",
   "pygments_lexer": "ipython3",
   "version": "3.12.4"
  }
 },
 "nbformat": 4,
 "nbformat_minor": 2
}
