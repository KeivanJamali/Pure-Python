{
 "cells": [
  {
   "cell_type": "code",
   "execution_count": 1,
   "metadata": {},
   "outputs": [],
   "source": [
    "from sympy import *"
   ]
  },
  {
   "cell_type": "markdown",
   "metadata": {},
   "source": [
    "## Problem 1"
   ]
  },
  {
   "cell_type": "code",
   "execution_count": 57,
   "metadata": {},
   "outputs": [],
   "source": [
    "x, E, Iyy, f0, l= symbols(\"x, E, I_yy,  F_0, l\")\n",
    "\n",
    "f_z = f0*(x/l) #\n",
    "gama = Matrix([[x**2], [x**3]]) #\n",
    "\n",
    "k = zeros(len(gama))\n",
    "Q = zeros(len(gama), 1)\n",
    "\n",
    "for i in range(len(gama)):\n",
    "    temp_q = integrate(f_z*gama[i], (x, 0, l)) #\n",
    "    Q[i] = temp_q\n",
    "    for j in range(len(gama)):\n",
    "        temp_k = integrate(E * Iyy * diff(gama[i], x, x) * diff(gama[j], x, x), (x, 0, l)) #\n",
    "        k[i, j] = temp_k\n"
   ]
  },
  {
   "cell_type": "markdown",
   "metadata": {},
   "source": [
    "#### K and Q"
   ]
  },
  {
   "cell_type": "code",
   "execution_count": 58,
   "metadata": {},
   "outputs": [
    {
     "data": {
      "text/latex": [
       "$\\displaystyle \\left[\\begin{matrix}4 E I_{yy} l & 6 E I_{yy} l^{2}\\\\6 E I_{yy} l^{2} & 12 E I_{yy} l^{3}\\end{matrix}\\right]$"
      ],
      "text/plain": [
       "Matrix([\n",
       "[   4*E*I_yy*l,  6*E*I_yy*l**2],\n",
       "[6*E*I_yy*l**2, 12*E*I_yy*l**3]])"
      ]
     },
     "execution_count": 58,
     "metadata": {},
     "output_type": "execute_result"
    }
   ],
   "source": [
    "# Q, k\n",
    "k"
   ]
  },
  {
   "cell_type": "markdown",
   "metadata": {},
   "source": [
    "#### q"
   ]
  },
  {
   "cell_type": "code",
   "execution_count": 59,
   "metadata": {},
   "outputs": [
    {
     "data": {
      "text/latex": [
       "$\\displaystyle \\left[\\begin{matrix}\\frac{3 F_{0} l^{2}}{20 E I_{yy}}\\\\- \\frac{7 F_{0} l}{120 E I_{yy}}\\end{matrix}\\right]$"
      ],
      "text/plain": [
       "Matrix([\n",
       "[3*F_0*l**2/(20*E*I_yy)],\n",
       "[ -7*F_0*l/(120*E*I_yy)]])"
      ]
     },
     "execution_count": 59,
     "metadata": {},
     "output_type": "execute_result"
    }
   ],
   "source": [
    "q = k**(-1) * Q\n",
    "q"
   ]
  },
  {
   "cell_type": "code",
   "execution_count": 60,
   "metadata": {},
   "outputs": [
    {
     "data": {
      "text/latex": [
       "$\\displaystyle \\frac{3 F_{0} l^{2} x^{2}}{20 E I_{yy}} - \\frac{7 F_{0} l x^{3}}{120 E I_{yy}}$"
      ],
      "text/plain": [
       "3*F_0*l**2*x**2/(20*E*I_yy) - 7*F_0*l*x**3/(120*E*I_yy)"
      ]
     },
     "execution_count": 60,
     "metadata": {},
     "output_type": "execute_result"
    }
   ],
   "source": [
    "w = (q.T * gama)[0]\n",
    "w"
   ]
  },
  {
   "cell_type": "code",
   "execution_count": 61,
   "metadata": {},
   "outputs": [
    {
     "data": {
      "text/latex": [
       "$\\displaystyle - \\frac{0.0129166666666667 F_{0}^{2} l^{5}}{E I_{yy}}$"
      ],
      "text/plain": [
       "-0.0129166666666667*F_0**2*l**5/(E*I_yy)"
      ]
     },
     "execution_count": 61,
     "metadata": {},
     "output_type": "execute_result"
    }
   ],
   "source": [
    "v = (1/2) * integrate(E * Iyy * (diff(w, x, x))**2, (x, 0, l)) - integrate(f_z * w, (x, 0, l))\n",
    "v"
   ]
  },
  {
   "cell_type": "code",
   "execution_count": 52,
   "metadata": {},
   "outputs": [
    {
     "data": {
      "text/latex": [
       "$\\displaystyle \\frac{F_{0} l^{4}}{5} + \\frac{F_{0} l^{3}}{4}$"
      ],
      "text/plain": [
       "F_0*l**4/5 + F_0*l**3/4"
      ]
     },
     "execution_count": 52,
     "metadata": {},
     "output_type": "execute_result"
    }
   ],
   "source": [
    "sum(Q)"
   ]
  },
  {
   "cell_type": "markdown",
   "metadata": {},
   "source": [
    "## Problem 2"
   ]
  },
  {
   "cell_type": "code",
   "execution_count": 74,
   "metadata": {},
   "outputs": [],
   "source": [
    "x, E, f1, m1, f2, l, I0= symbols(\"x, E, F_1, M_1, F_2, L, I_0\")\n",
    "\n",
    "Iyy = I0 * (1 - x/(6*l))**3\n",
    "gama = Matrix([[x**2], [x**3]]) #\n",
    "\n",
    "k = zeros(len(gama))\n",
    "Q = zeros(len(gama), 1)\n",
    "\n",
    "for i in range(len(gama)):\n",
    "    temp_q = f1*gama[i].subs(x, l) + m1*diff(gama[i], x).subs(x, 2*l) + f2*gama[i].subs(x, 3*l)\n",
    "    Q[i] = temp_q\n",
    "    for j in range(len(gama)):\n",
    "        temp_k = integrate(E * Iyy * diff(gama[i], x, x) * diff(gama[j], x, x), (x, 0, 3*l)) #\n",
    "        k[i, j] = temp_k\n"
   ]
  },
  {
   "cell_type": "markdown",
   "metadata": {},
   "source": [
    "#### K and Q"
   ]
  },
  {
   "cell_type": "code",
   "execution_count": 75,
   "metadata": {},
   "outputs": [
    {
     "data": {
      "text/latex": [
       "$\\displaystyle \\left[\\begin{matrix}F_{1} L^{2} + 9 F_{2} L^{2} + 4 L M_{1}\\\\F_{1} L^{3} + 27 F_{2} L^{3} + 12 L^{2} M_{1}\\end{matrix}\\right]$"
      ],
      "text/plain": [
       "Matrix([\n",
       "[     F_1*L**2 + 9*F_2*L**2 + 4*L*M_1],\n",
       "[F_1*L**3 + 27*F_2*L**3 + 12*L**2*M_1]])"
      ]
     },
     "execution_count": 75,
     "metadata": {},
     "output_type": "execute_result"
    }
   ],
   "source": [
    "# Q, k\n",
    "\n",
    "Q"
   ]
  },
  {
   "cell_type": "markdown",
   "metadata": {},
   "source": [
    "#### q"
   ]
  },
  {
   "cell_type": "code",
   "execution_count": 76,
   "metadata": {},
   "outputs": [
    {
     "data": {
      "text/latex": [
       "$\\displaystyle \\left[\\begin{matrix}\\frac{280 \\left(F_{1} L^{2} + 9 F_{2} L^{2} + 4 L M_{1}\\right)}{561 E I_{0} L} - \\frac{520 \\left(F_{1} L^{3} + 27 F_{2} L^{3} + 12 L^{2} M_{1}\\right)}{5049 E I_{0} L^{2}}\\\\- \\frac{520 \\left(F_{1} L^{2} + 9 F_{2} L^{2} + 4 L M_{1}\\right)}{5049 E I_{0} L^{2}} + \\frac{500 \\left(F_{1} L^{3} + 27 F_{2} L^{3} + 12 L^{2} M_{1}\\right)}{15147 E I_{0} L^{3}}\\end{matrix}\\right]$"
      ],
      "text/plain": [
       "Matrix([\n",
       "[      280*(F_1*L**2 + 9*F_2*L**2 + 4*L*M_1)/(561*E*I_0*L) - 520*(F_1*L**3 + 27*F_2*L**3 + 12*L**2*M_1)/(5049*E*I_0*L**2)],\n",
       "[-520*(F_1*L**2 + 9*F_2*L**2 + 4*L*M_1)/(5049*E*I_0*L**2) + 500*(F_1*L**3 + 27*F_2*L**3 + 12*L**2*M_1)/(15147*E*I_0*L**3)]])"
      ]
     },
     "execution_count": 76,
     "metadata": {},
     "output_type": "execute_result"
    }
   ],
   "source": [
    "q = k**(-1) * Q\n",
    "q"
   ]
  },
  {
   "cell_type": "code",
   "execution_count": 77,
   "metadata": {},
   "outputs": [
    {
     "data": {
      "text/latex": [
       "$\\displaystyle x^{3} \\left(- \\frac{0.06998085 F_{1}}{E I_{0}} - \\frac{0.03565062 F_{2}}{E I_{0}} - \\frac{0.01584472 M_{1}}{E I_{0} L}\\right) + x^{2} \\cdot \\left(\\frac{0.396118 F_{1} L}{E I_{0}} + \\frac{1.71123 F_{2} L}{E I_{0}} + \\frac{0.7605466 M_{1}}{E I_{0}}\\right)$"
      ],
      "text/plain": [
       "x**3*(-0.06998085*F_1/(E*I_0) - 0.03565062*F_2/(E*I_0) - 0.01584472*M_1/(E*I_0*L)) + x**2*(0.396118*F_1*L/(E*I_0) + 1.71123*F_2*L/(E*I_0) + 0.7605466*M_1/(E*I_0))"
      ]
     },
     "execution_count": 77,
     "metadata": {},
     "output_type": "execute_result"
    }
   ],
   "source": [
    "w = (q.T * gama)[0]\n",
    "w.expand().collect(x).evalf(7)"
   ]
  },
  {
   "cell_type": "code",
   "execution_count": 82,
   "metadata": {},
   "outputs": [
    {
     "data": {
      "text/latex": [
       "$\\displaystyle \\frac{L \\left(- 0.1630686 F_{1}^{2} L^{2} - 1.675579 F_{1} F_{2} L^{2} - 0.7447019 F_{1} L M_{1} - 7.219251 F_{2}^{2} L^{2} - 6.417112 F_{2} L M_{1} - 1.426025 M_{1}^{2}\\right)}{E I_{0}}$"
      ],
      "text/plain": [
       "L*(-0.1630686*F_1**2*L**2 - 1.675579*F_1*F_2*L**2 - 0.7447019*F_1*L*M_1 - 7.219251*F_2**2*L**2 - 6.417112*F_2*L*M_1 - 1.426025*M_1**2)/(E*I_0)"
      ]
     },
     "execution_count": 82,
     "metadata": {},
     "output_type": "execute_result"
    }
   ],
   "source": [
    "v = (1/2) * integrate(E * Iyy * (diff(w, x, x))**2, (x, 0, 3*l)) - f1 * w.subs(x, l) - m1 * diff(w, x).subs(x, 2*l) - f2 * w.subs(x, 3*l)\n",
    "v.expand().evalf(7).collect(l/(E*I0))"
   ]
  },
  {
   "cell_type": "code",
   "execution_count": null,
   "metadata": {},
   "outputs": [],
   "source": []
  }
 ],
 "metadata": {
  "kernelspec": {
   "display_name": "Python 3",
   "language": "python",
   "name": "python3"
  },
  "language_info": {
   "codemirror_mode": {
    "name": "ipython",
    "version": 3
   },
   "file_extension": ".py",
   "mimetype": "text/x-python",
   "name": "python",
   "nbconvert_exporter": "python",
   "pygments_lexer": "ipython3",
   "version": "3.12.1"
  }
 },
 "nbformat": 4,
 "nbformat_minor": 2
}
