{
 "cells": [
  {
   "cell_type": "code",
   "execution_count": 1,
   "metadata": {},
   "outputs": [],
   "source": [
    "%load_ext autoreload\n",
    "%autoreload 2\n",
    "from Graph_Dataloader import Graph\n",
    "from Shortest_Path_Algorithms import Dijkstra, Bellman_Ford, A_star, Floyd_Warshall, Johnson, Viterbi\n",
    "import networkx as nx"
   ]
  },
  {
   "cell_type": "code",
   "execution_count": 4,
   "metadata": {},
   "outputs": [
    {
     "data": {
      "image/png": "[encoded data removed]",
      "text/plain": [
       "<Figure size 640x480 with 1 Axes>"
      ]
     },
     "metadata": {},
     "output_type": "display_data"
    }
   ],
   "source": [
    "\n",
    "# For nodes we have the name and the position.\n",
    "nodes = {\n",
    "    \"1\": {\"pos\":(1, 3)},\n",
    "    \"2\": {\"pos\":(3, 3)},\n",
    "    \"3\": {\"pos\":(4, 2)},\n",
    "    \"4\": {\"pos\":(2, 2)},\n",
    "    \"5\": {\"pos\":(3, 1)},\n",
    "    \"6\": {\"pos\":(1, 1)},\n",
    "    }\n",
    "\n",
    "# for edges we need only the edge\n",
    "edges = {\n",
    "    (\"1\", \"2\") : {\"cost\": 50},\n",
    "    (\"1\", \"4\") : {\"cost\": 120},\n",
    "    (\"2\", \"4\") : {\"cost\": 100},\n",
    "    (\"2\", \"3\") : {\"cost\": 60},\n",
    "    (\"3\", \"4\") : {\"cost\": 50},\n",
    "    (\"4\", \"5\") : {\"cost\": 70},\n",
    "    (\"4\", \"6\") : {\"cost\": 125},\n",
    "    (\"5\", \"6\") : {\"cost\": 70},\n",
    "    (\"3\", \"5\") : {\"cost\": 90}\n",
    "    }\n",
    "\n",
    "\n",
    "problem = Graph(directed=False)\n",
    "problem.set_setting(nodes=nodes, edges=edges)\n",
    "problem.plot_graph(node_label=False, edge_label=True)"
   ]
  },
  {
   "cell_type": "code",
   "execution_count": 167,
   "metadata": {},
   "outputs": [
    {
     "name": "stdout",
     "output_type": "stream",
     "text": [
      "Class \u001b[32m'Dijkstra'\u001b[39m - Method \u001b[32m'_algorithm'\u001b[39mexecuted in \u001b[31m0.00006160\u001b[39m seconds.\n"
     ]
    },
    {
     "data": {
      "text/plain": [
       "28"
      ]
     },
     "execution_count": 167,
     "metadata": {},
     "output_type": "execute_result"
    }
   ],
   "source": [
    "dijkstra1 = Dijkstra(problem2.graph)\n",
    "dijkstra1.fit(source=\"A\", target=\"C\", early_stop=False)\n",
    "dijkstra1.distances\n",
    "\n",
    "nx.dijkstra_path_length(problem1.graph, source=\"A\", target=\"I\", weight=\"cost\")"
   ]
  },
  {
   "cell_type": "code",
   "execution_count": 168,
   "metadata": {},
   "outputs": [
    {
     "name": "stdout",
     "output_type": "stream",
     "text": [
      "Class \u001b[32m'Bellman_Ford'\u001b[39m - Method \u001b[32m'_algorithm'\u001b[39mexecuted in \u001b[31m0.00056960\u001b[39m seconds.\n"
     ]
    },
    {
     "data": {
      "text/plain": [
       "['A', 'B', 'E', 'I']"
      ]
     },
     "execution_count": 168,
     "metadata": {},
     "output_type": "execute_result"
    }
   ],
   "source": [
    "bellman_ford = Bellman_Ford(problem2.graph)\n",
    "bellman_ford.fit(source=\"A\")\n",
    "bellman_ford.distances\n",
    "\n",
    "nx.bellman_ford_path(problem1.graph, source=\"A\", target=\"I\")"
   ]
  },
  {
   "cell_type": "code",
   "execution_count": 169,
   "metadata": {},
   "outputs": [
    {
     "name": "stdout",
     "output_type": "stream",
     "text": [
      "[Successful] Find the path to node C.\n",
      "Class \u001b[32m'A_star'\u001b[39m - Method \u001b[32m'_algorithm'\u001b[39mexecuted in \u001b[31m0.00022870\u001b[39m seconds.\n",
      "[Successful] Find the path to node C sooner. Eearly stop!\n",
      "Class \u001b[32m'Dijkstra'\u001b[39m - Method \u001b[32m'_algorithm'\u001b[39mexecuted in \u001b[31m0.00003050\u001b[39m seconds.\n"
     ]
    }
   ],
   "source": [
    "astar = A_star(problem2.graph)\n",
    "astar.fit(source=\"A\", target=\"C\")\n",
    "\n",
    "dijkstra = Dijkstra(problem2.graph)\n",
    "dijkstra.fit(source=\"A\", target=\"C\")\n",
    "# nx.bellman_ford_path(problem1.graph, source=\"A\", target=\"I\")"
   ]
  },
  {
   "cell_type": "code",
   "execution_count": 170,
   "metadata": {},
   "outputs": [],
   "source": [
    "import networkx as nx\n",
    "import random\n",
    "\n",
    "def generate_hard_graph(num_nodes=50, num_edges=120, directed=True, pos_range=(0, 50), weight_range=(1, 100)):\n",
    "    \"\"\"\n",
    "    Generates a complex graph designed to make shortest path computation difficult.\n",
    "\n",
    "    Parameters:\n",
    "    - num_nodes (int): Number of nodes in the graph.\n",
    "    - num_edges (int): Number of edges in the graph.\n",
    "    - directed (bool): If True, creates a directed graph; otherwise, an undirected graph.\n",
    "    - pos_range (tuple): The range (min, max) for node positions.\n",
    "    - weight_range (tuple): The range (min, max) for edge weights.\n",
    "\n",
    "    Returns:\n",
    "    - nodes (dict): Dictionary of nodes with position attributes.\n",
    "    - edges (dict): Dictionary of edges with cost attributes.\n",
    "    \"\"\"\n",
    "\n",
    "    # Step 1: Generate nodes with random positions\n",
    "    nodes = {f\"N{i}\": {\"pos\": (random.randint(*pos_range), random.randint(*pos_range))} for i in range(1, num_nodes + 1)}\n",
    "    node_list = list(nodes.keys())\n",
    "\n",
    "    # Step 2: Generate edges with a complex pattern\n",
    "    edges = {}\n",
    "\n",
    "    # Clustered groups: Some nodes are strongly connected\n",
    "    cluster_size = max(5, num_nodes // 5)  # Each cluster has around 5 nodes\n",
    "    clusters = [node_list[i:i + cluster_size] for i in range(0, num_nodes, cluster_size)]\n",
    "\n",
    "    for cluster in clusters:\n",
    "        for _ in range(len(cluster) * 2):  # More edges inside clusters\n",
    "            n1, n2 = random.sample(cluster, 2)\n",
    "            if (n1, n2) not in edges and (n2, n1) not in edges:\n",
    "                edges[(n1, n2)] = {\"cost\": random.randint(*weight_range)}\n",
    "\n",
    "    # Sparse connections between clusters (bottlenecks)\n",
    "    for _ in range(num_edges - len(edges)):  # Add remaining edges\n",
    "        c1, c2 = random.sample(clusters, 2)\n",
    "        n1, n2 = random.choice(c1), random.choice(c2)\n",
    "        if (n1, n2) not in edges and (n2, n1) not in edges:\n",
    "            edges[(n1, n2)] = {\"cost\": random.randint(*weight_range)}\n",
    "\n",
    "    # Step 3: Add misleading low-weight paths (traps)\n",
    "    for _ in range(num_nodes // 3):  \n",
    "        n1, n2 = random.sample(node_list, 2)\n",
    "        if (n1, n2) not in edges and (n2, n1) not in edges:\n",
    "            edges[(n1, n2)] = {\"cost\": random.randint(1, 5)}  # Very cheap edges\n",
    "\n",
    "    return nodes, edges\n",
    "\n",
    "# Example usage\n",
    "num_nodes = 10000\n",
    "num_edges = 150000  # More edges to make it harder\n",
    "directed = True  # Change to False for an undirected graph\n",
    "\n",
    "nodes, edges = generate_hard_graph(num_nodes, num_edges, directed)\n",
    "problem = Graph(directed=directed)\n",
    "problem.set_setting(nodes=nodes, edges=edges)\n",
    "# problem.plot_graph(node_label=False, edge_label=False)\n"
   ]
  },
  {
   "cell_type": "code",
   "execution_count": 171,
   "metadata": {},
   "outputs": [],
   "source": [
    "import networkx as nx\n",
    "import random\n",
    "import math\n",
    "\n",
    "def generate_smart_graph(num_nodes=50, num_edges=150, directed=True, grid_size=(10, 10), weight_range=(1, 100)):\n",
    "    \"\"\"\n",
    "    Generates a graph with nodes positioned in a grid-like structure to create meaningful heuristics.\n",
    "\n",
    "    Parameters:\n",
    "    - num_nodes (int): Number of nodes.\n",
    "    - num_edges (int): Number of edges.\n",
    "    - directed (bool): If True, creates a directed graph; otherwise, an undirected graph.\n",
    "    - grid_size (tuple): Defines the (rows, cols) structure for positioning nodes.\n",
    "    - weight_range (tuple): Range for edge weights.\n",
    "\n",
    "    Returns:\n",
    "    - nodes (dict): Dictionary of nodes with positions.\n",
    "    - edges (dict): Dictionary of edges with costs.\n",
    "    \"\"\"\n",
    "\n",
    "    # Step 1: Create structured positions (grid-based)\n",
    "    rows, cols = grid_size\n",
    "    node_positions = {}\n",
    "    node_list = []\n",
    "\n",
    "    for i in range(num_nodes):\n",
    "        x = (i % cols) * 10 + random.uniform(-2, 2)  # Slight randomness\n",
    "        y = (i // cols) * 10 + random.uniform(-2, 2)  # Slight randomness\n",
    "        node_name = f\"N{i+1}\"\n",
    "        node_positions[node_name] = {\"pos\": (x, y)}\n",
    "        node_list.append(node_name)\n",
    "\n",
    "    # Step 2: Create edges based on closeness\n",
    "    edges = {}\n",
    "    for _ in range(num_edges):\n",
    "        n1, n2 = random.sample(node_list, 2)\n",
    "        \n",
    "        # Calculate Euclidean distance (as heuristic)\n",
    "        x1, y1 = node_positions[n1][\"pos\"]\n",
    "        x2, y2 = node_positions[n2][\"pos\"]\n",
    "        distance = math.sqrt((x1 - x2)**2 + (y1 - y2)**2)\n",
    "\n",
    "        # If they are too far, skip (to enforce locality)\n",
    "        if distance > 30:\n",
    "            continue\n",
    "\n",
    "        # Weight is proportional to distance + some random noise\n",
    "        weight = distance + random.uniform(0, weight_range[1] / 10)\n",
    "        \n",
    "        # Avoid duplicate edges\n",
    "        if (n1, n2) not in edges and (n2, n1) not in edges:\n",
    "            edges[(n1, n2)] = {\"cost\": round(weight, 2)}\n",
    "\n",
    "    return node_positions, edges\n",
    "\n",
    "# Example usage\n",
    "num_nodes = 1500\n",
    "num_edges = 1500000  # Balanced difficulty\n",
    "directed = True  # Change to False for undirected graphs\n",
    "\n",
    "nodes, edges = generate_smart_graph(num_nodes, num_edges, directed)\n",
    "problem = Graph(directed=directed)\n",
    "problem.set_setting(nodes=nodes, edges=edges)\n",
    "# problem.plot_graph(node_label=False, edge_label=False)\n"
   ]
  },
  {
   "cell_type": "code",
   "execution_count": 172,
   "metadata": {},
   "outputs": [
    {
     "data": {
      "text/plain": [
       "(1500, 12736)"
      ]
     },
     "execution_count": 172,
     "metadata": {},
     "output_type": "execute_result"
    }
   ],
   "source": [
    "len(nodes), len(edges)"
   ]
  },
  {
   "cell_type": "code",
   "execution_count": 173,
   "metadata": {},
   "outputs": [
    {
     "name": "stdout",
     "output_type": "stream",
     "text": [
      "Class \u001b[32m'Dijkstra'\u001b[39m - Method \u001b[32m'_algorithm'\u001b[39mexecuted in \u001b[31m0.01326540\u001b[39m seconds.\n",
      "[Successful] Find the path to node N502 sooner. Eearly stop!\n",
      "Class \u001b[32m'Dijkstra'\u001b[39m - Method \u001b[32m'_algorithm'\u001b[39mexecuted in \u001b[31m0.00757370\u001b[39m seconds.\n",
      "[Successful] Find the path to node N502.\n",
      "Class \u001b[32m'A_star'\u001b[39m - Method \u001b[32m'_algorithm'\u001b[39mexecuted in \u001b[31m0.00193080\u001b[39m seconds.\n"
     ]
    }
   ],
   "source": [
    "start = \"N2\"\n",
    "end = \"N502\"\n",
    "\n",
    "dijkstra1 = Dijkstra(problem.graph)\n",
    "dijkstra1.fit(source=start, target=end, early_stop=False)\n",
    "\n",
    "\n",
    "dijkstra2 = Dijkstra(problem.graph)\n",
    "dijkstra2.fit(source=start, target=end, early_stop=True)\n",
    "\n",
    "astar = A_star(problem.graph)\n",
    "astar.fit(source=start, target=end)"
   ]
  },
  {
   "cell_type": "code",
   "execution_count": 174,
   "metadata": {},
   "outputs": [],
   "source": [
    "distances1 = dijkstra1.distances.items()\n",
    "distances2 = dijkstra2.distances.items()\n",
    "distances3 = astar.distances.items()"
   ]
  },
  {
   "cell_type": "code",
   "execution_count": 175,
   "metadata": {},
   "outputs": [
    {
     "data": {
      "text/plain": [
       "(1498, 531, 531)"
      ]
     },
     "execution_count": 175,
     "metadata": {},
     "output_type": "execute_result"
    }
   ],
   "source": [
    "s1 = 0\n",
    "s2 = 0\n",
    "s3 = 0\n",
    "for i, v in distances1:\n",
    "    s1+=1 if v < 100000 else 0\n",
    "for i, v in distances2:\n",
    "    s2+=1 if v < 100000 else 0\n",
    "for i, v in distances2:\n",
    "    s3+=1 if v < 100000 else 0\n",
    "s1, s2, s3"
   ]
  },
  {
   "cell_type": "code",
   "execution_count": null,
   "metadata": {},
   "outputs": [],
   "source": []
  }
 ],
 "metadata": {
  "kernelspec": {
   "display_name": "Python 3",
   "language": "python",
   "name": "python3"
  },
  "language_info": {
   "codemirror_mode": {
    "name": "ipython",
    "version": 3
   },
   "file_extension": ".py",
   "mimetype": "text/x-python",
   "name": "python",
   "nbconvert_exporter": "python",
   "pygments_lexer": "ipython3",
   "version": "3.12.1"
  }
 },
 "nbformat": 4,
 "nbformat_minor": 2
}
