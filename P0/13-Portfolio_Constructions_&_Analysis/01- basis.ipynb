{
 "cells": [
  {
   "cell_type": "code",
   "execution_count": null,
   "outputs": [],
   "source": [
    "prices_a = [8.70, 8.91, 8.71]"
   ],
   "metadata": {
    "collapsed": false,
    "pycharm": {
     "name": "#%%\n",
     "is_executing": true
    }
   }
  },
  {
   "cell_type": "code",
   "execution_count": null,
   "outputs": [],
   "source": [
    "prices_a[1:]"
   ],
   "metadata": {
    "collapsed": false,
    "pycharm": {
     "name": "#%%\n",
     "is_executing": true
    }
   }
  },
  {
   "cell_type": "code",
   "execution_count": 35,
   "outputs": [],
   "source": [
    "import numpy as np"
   ],
   "metadata": {
    "collapsed": false,
    "pycharm": {
     "name": "#%%\n"
    }
   }
  },
  {
   "cell_type": "code",
   "execution_count": 36,
   "outputs": [
    {
     "data": {
      "text/plain": "array([8.7 , 8.91, 8.71])"
     },
     "execution_count": 36,
     "metadata": {},
     "output_type": "execute_result"
    }
   ],
   "source": [
    "prices_a = np.array([8.70,8.91,8.71])\n",
    "prices_a"
   ],
   "metadata": {
    "collapsed": false,
    "pycharm": {
     "name": "#%%\n"
    }
   }
  },
  {
   "cell_type": "code",
   "execution_count": 37,
   "outputs": [
    {
     "data": {
      "text/plain": "array([ 2.4137931 , -2.24466891])"
     },
     "execution_count": 37,
     "metadata": {},
     "output_type": "execute_result"
    }
   ],
   "source": [
    "(prices_a[1:]/prices_a[:-1] - 1) * 100"
   ],
   "metadata": {
    "collapsed": false,
    "pycharm": {
     "name": "#%%\n"
    }
   }
  },
  {
   "cell_type": "code",
   "execution_count": 2,
   "outputs": [],
   "source": [
    "import pandas as pd\n",
    "prices = pd.DataFrame({\n",
    "    'Blue': [8.70, 8.91, 8.71, 8.43, 8.73],\n",
    "    'Orange': [10.66, 11.08, 10.71, 11.59, 12.11]\n",
    "})"
   ],
   "metadata": {
    "collapsed": false,
    "pycharm": {
     "name": "#%%\n"
    }
   }
  },
  {
   "cell_type": "code",
   "execution_count": 39,
   "outputs": [
    {
     "data": {
      "text/plain": "   Blue  Orange\n0  8.70   10.66\n1  8.91   11.08\n2  8.71   10.71\n3  8.43   11.59\n4  8.73   12.11",
      "text/html": "<div>\n<style scoped>\n    .dataframe tbody tr th:only-of-type {\n        vertical-align: middle;\n    }\n\n    .dataframe tbody tr th {\n        vertical-align: top;\n    }\n\n    .dataframe thead th {\n        text-align: right;\n    }\n</style>\n<table border=\"1\" class=\"dataframe\">\n  <thead>\n    <tr style=\"text-align: right;\">\n      <th></th>\n      <th>Blue</th>\n      <th>Orange</th>\n    </tr>\n  </thead>\n  <tbody>\n    <tr>\n      <th>0</th>\n      <td>8.70</td>\n      <td>10.66</td>\n    </tr>\n    <tr>\n      <th>1</th>\n      <td>8.91</td>\n      <td>11.08</td>\n    </tr>\n    <tr>\n      <th>2</th>\n      <td>8.71</td>\n      <td>10.71</td>\n    </tr>\n    <tr>\n      <th>3</th>\n      <td>8.43</td>\n      <td>11.59</td>\n    </tr>\n    <tr>\n      <th>4</th>\n      <td>8.73</td>\n      <td>12.11</td>\n    </tr>\n  </tbody>\n</table>\n</div>"
     },
     "execution_count": 39,
     "metadata": {},
     "output_type": "execute_result"
    }
   ],
   "source": [
    "prices"
   ],
   "metadata": {
    "collapsed": false,
    "pycharm": {
     "name": "#%%\n"
    }
   }
  },
  {
   "cell_type": "code",
   "execution_count": 40,
   "outputs": [
    {
     "data": {
      "text/plain": "   Blue  Orange\n1  8.91   11.08\n2  8.71   10.71\n3  8.43   11.59\n4  8.73   12.11",
      "text/html": "<div>\n<style scoped>\n    .dataframe tbody tr th:only-of-type {\n        vertical-align: middle;\n    }\n\n    .dataframe tbody tr th {\n        vertical-align: top;\n    }\n\n    .dataframe thead th {\n        text-align: right;\n    }\n</style>\n<table border=\"1\" class=\"dataframe\">\n  <thead>\n    <tr style=\"text-align: right;\">\n      <th></th>\n      <th>Blue</th>\n      <th>Orange</th>\n    </tr>\n  </thead>\n  <tbody>\n    <tr>\n      <th>1</th>\n      <td>8.91</td>\n      <td>11.08</td>\n    </tr>\n    <tr>\n      <th>2</th>\n      <td>8.71</td>\n      <td>10.71</td>\n    </tr>\n    <tr>\n      <th>3</th>\n      <td>8.43</td>\n      <td>11.59</td>\n    </tr>\n    <tr>\n      <th>4</th>\n      <td>8.73</td>\n      <td>12.11</td>\n    </tr>\n  </tbody>\n</table>\n</div>"
     },
     "execution_count": 40,
     "metadata": {},
     "output_type": "execute_result"
    }
   ],
   "source": [
    "prices.iloc[1:]"
   ],
   "metadata": {
    "collapsed": false,
    "pycharm": {
     "name": "#%%\n"
    }
   }
  },
  {
   "cell_type": "code",
   "execution_count": 41,
   "outputs": [
    {
     "data": {
      "text/plain": "   Blue  Orange\n0  8.70   10.66\n1  8.91   11.08\n2  8.71   10.71\n3  8.43   11.59",
      "text/html": "<div>\n<style scoped>\n    .dataframe tbody tr th:only-of-type {\n        vertical-align: middle;\n    }\n\n    .dataframe tbody tr th {\n        vertical-align: top;\n    }\n\n    .dataframe thead th {\n        text-align: right;\n    }\n</style>\n<table border=\"1\" class=\"dataframe\">\n  <thead>\n    <tr style=\"text-align: right;\">\n      <th></th>\n      <th>Blue</th>\n      <th>Orange</th>\n    </tr>\n  </thead>\n  <tbody>\n    <tr>\n      <th>0</th>\n      <td>8.70</td>\n      <td>10.66</td>\n    </tr>\n    <tr>\n      <th>1</th>\n      <td>8.91</td>\n      <td>11.08</td>\n    </tr>\n    <tr>\n      <th>2</th>\n      <td>8.71</td>\n      <td>10.71</td>\n    </tr>\n    <tr>\n      <th>3</th>\n      <td>8.43</td>\n      <td>11.59</td>\n    </tr>\n  </tbody>\n</table>\n</div>"
     },
     "execution_count": 41,
     "metadata": {},
     "output_type": "execute_result"
    }
   ],
   "source": [
    "prices.iloc[:-1]"
   ],
   "metadata": {
    "collapsed": false,
    "pycharm": {
     "name": "#%%\n"
    }
   }
  },
  {
   "cell_type": "code",
   "execution_count": 42,
   "outputs": [
    {
     "data": {
      "text/plain": "   Blue  Orange\n0   NaN     NaN\n1   1.0     1.0\n2   1.0     1.0\n3   1.0     1.0\n4   NaN     NaN",
      "text/html": "<div>\n<style scoped>\n    .dataframe tbody tr th:only-of-type {\n        vertical-align: middle;\n    }\n\n    .dataframe tbody tr th {\n        vertical-align: top;\n    }\n\n    .dataframe thead th {\n        text-align: right;\n    }\n</style>\n<table border=\"1\" class=\"dataframe\">\n  <thead>\n    <tr style=\"text-align: right;\">\n      <th></th>\n      <th>Blue</th>\n      <th>Orange</th>\n    </tr>\n  </thead>\n  <tbody>\n    <tr>\n      <th>0</th>\n      <td>NaN</td>\n      <td>NaN</td>\n    </tr>\n    <tr>\n      <th>1</th>\n      <td>1.0</td>\n      <td>1.0</td>\n    </tr>\n    <tr>\n      <th>2</th>\n      <td>1.0</td>\n      <td>1.0</td>\n    </tr>\n    <tr>\n      <th>3</th>\n      <td>1.0</td>\n      <td>1.0</td>\n    </tr>\n    <tr>\n      <th>4</th>\n      <td>NaN</td>\n      <td>NaN</td>\n    </tr>\n  </tbody>\n</table>\n</div>"
     },
     "execution_count": 42,
     "metadata": {},
     "output_type": "execute_result"
    }
   ],
   "source": [
    "prices.iloc[1:]/prices.iloc[:-1]"
   ],
   "metadata": {
    "collapsed": false,
    "pycharm": {
     "name": "#%%\n"
    }
   }
  },
  {
   "cell_type": "code",
   "execution_count": 43,
   "outputs": [
    {
     "data": {
      "text/plain": "       Blue    Orange\n0  0.024138  0.039400\n1 -0.022447 -0.033394\n2 -0.032147  0.082166\n3  0.035587  0.044866",
      "text/html": "<div>\n<style scoped>\n    .dataframe tbody tr th:only-of-type {\n        vertical-align: middle;\n    }\n\n    .dataframe tbody tr th {\n        vertical-align: top;\n    }\n\n    .dataframe thead th {\n        text-align: right;\n    }\n</style>\n<table border=\"1\" class=\"dataframe\">\n  <thead>\n    <tr style=\"text-align: right;\">\n      <th></th>\n      <th>Blue</th>\n      <th>Orange</th>\n    </tr>\n  </thead>\n  <tbody>\n    <tr>\n      <th>0</th>\n      <td>0.024138</td>\n      <td>0.039400</td>\n    </tr>\n    <tr>\n      <th>1</th>\n      <td>-0.022447</td>\n      <td>-0.033394</td>\n    </tr>\n    <tr>\n      <th>2</th>\n      <td>-0.032147</td>\n      <td>0.082166</td>\n    </tr>\n    <tr>\n      <th>3</th>\n      <td>0.035587</td>\n      <td>0.044866</td>\n    </tr>\n  </tbody>\n</table>\n</div>"
     },
     "execution_count": 43,
     "metadata": {},
     "output_type": "execute_result"
    }
   ],
   "source": [
    "prices.iloc[1:].values/prices.iloc[:-1] - 1"
   ],
   "metadata": {
    "collapsed": false,
    "pycharm": {
     "name": "#%%\n"
    }
   }
  },
  {
   "cell_type": "code",
   "execution_count": 44,
   "outputs": [
    {
     "data": {
      "text/plain": "       Blue    Orange\n1  0.024138  0.039400\n2 -0.022447 -0.033394\n3 -0.032147  0.082166\n4  0.035587  0.044866",
      "text/html": "<div>\n<style scoped>\n    .dataframe tbody tr th:only-of-type {\n        vertical-align: middle;\n    }\n\n    .dataframe tbody tr th {\n        vertical-align: top;\n    }\n\n    .dataframe thead th {\n        text-align: right;\n    }\n</style>\n<table border=\"1\" class=\"dataframe\">\n  <thead>\n    <tr style=\"text-align: right;\">\n      <th></th>\n      <th>Blue</th>\n      <th>Orange</th>\n    </tr>\n  </thead>\n  <tbody>\n    <tr>\n      <th>1</th>\n      <td>0.024138</td>\n      <td>0.039400</td>\n    </tr>\n    <tr>\n      <th>2</th>\n      <td>-0.022447</td>\n      <td>-0.033394</td>\n    </tr>\n    <tr>\n      <th>3</th>\n      <td>-0.032147</td>\n      <td>0.082166</td>\n    </tr>\n    <tr>\n      <th>4</th>\n      <td>0.035587</td>\n      <td>0.044866</td>\n    </tr>\n  </tbody>\n</table>\n</div>"
     },
     "execution_count": 44,
     "metadata": {},
     "output_type": "execute_result"
    }
   ],
   "source": [
    "prices.iloc[1:]/prices.iloc[:-1].values - 1"
   ],
   "metadata": {
    "collapsed": false,
    "pycharm": {
     "name": "#%%\n"
    }
   }
  },
  {
   "cell_type": "code",
   "execution_count": 45,
   "outputs": [
    {
     "data": {
      "text/plain": "array([[ 0.02413793,  0.03939962],\n       [-0.02244669, -0.0333935 ],\n       [-0.03214696,  0.0821662 ],\n       [ 0.03558719,  0.04486626]])"
     },
     "execution_count": 45,
     "metadata": {},
     "output_type": "execute_result"
    }
   ],
   "source": [
    "prices.iloc[1:].values/prices.iloc[:-1].values - 1"
   ],
   "metadata": {
    "collapsed": false,
    "pycharm": {
     "name": "#%%\n"
    }
   }
  },
  {
   "cell_type": "code",
   "execution_count": 46,
   "outputs": [
    {
     "name": "stdout",
     "output_type": "stream",
     "text": [
      "       Blue    Orange\n",
      "0       NaN       NaN\n",
      "1  0.024138  0.039400\n",
      "2 -0.022447 -0.033394\n",
      "3 -0.032147  0.082166\n",
      "4  0.035587  0.044866\n",
      "   Blue  Orange\n",
      "0   NaN     NaN\n",
      "1  8.70   10.66\n",
      "2  8.91   11.08\n",
      "3  8.71   10.71\n",
      "4  8.43   11.59\n",
      "   Blue  Orange\n",
      "0   NaN     NaN\n",
      "1   NaN     NaN\n",
      "2  8.70   10.66\n",
      "3  8.91   11.08\n",
      "4  8.71   10.71\n"
     ]
    }
   ],
   "source": [
    "print(prices/prices.shift(1) - 1)\n",
    "print(prices.shift(1))\n",
    "print(prices.shift(2))"
   ],
   "metadata": {
    "collapsed": false,
    "pycharm": {
     "name": "#%%\n"
    }
   }
  },
  {
   "cell_type": "code",
   "execution_count": 47,
   "outputs": [
    {
     "data": {
      "text/plain": "       Blue    Orange\n0       NaN       NaN\n1  0.024138  0.039400\n2 -0.022447 -0.033394\n3 -0.032147  0.082166\n4  0.035587  0.044866",
      "text/html": "<div>\n<style scoped>\n    .dataframe tbody tr th:only-of-type {\n        vertical-align: middle;\n    }\n\n    .dataframe tbody tr th {\n        vertical-align: top;\n    }\n\n    .dataframe thead th {\n        text-align: right;\n    }\n</style>\n<table border=\"1\" class=\"dataframe\">\n  <thead>\n    <tr style=\"text-align: right;\">\n      <th></th>\n      <th>Blue</th>\n      <th>Orange</th>\n    </tr>\n  </thead>\n  <tbody>\n    <tr>\n      <th>0</th>\n      <td>NaN</td>\n      <td>NaN</td>\n    </tr>\n    <tr>\n      <th>1</th>\n      <td>0.024138</td>\n      <td>0.039400</td>\n    </tr>\n    <tr>\n      <th>2</th>\n      <td>-0.022447</td>\n      <td>-0.033394</td>\n    </tr>\n    <tr>\n      <th>3</th>\n      <td>-0.032147</td>\n      <td>0.082166</td>\n    </tr>\n    <tr>\n      <th>4</th>\n      <td>0.035587</td>\n      <td>0.044866</td>\n    </tr>\n  </tbody>\n</table>\n</div>"
     },
     "execution_count": 47,
     "metadata": {},
     "output_type": "execute_result"
    }
   ],
   "source": [
    "prices.pct_change()"
   ],
   "metadata": {
    "collapsed": false,
    "pycharm": {
     "name": "#%%\n"
    }
   }
  },
  {
   "cell_type": "code",
   "execution_count": 1,
   "outputs": [
    {
     "ename": "NameError",
     "evalue": "name 'pd' is not defined",
     "output_type": "error",
     "traceback": [
      "\u001B[1;31m---------------------------------------------------------------------------\u001B[0m",
      "\u001B[1;31mNameError\u001B[0m                                 Traceback (most recent call last)",
      "Cell \u001B[1;32mIn[1], line 1\u001B[0m\n\u001B[1;32m----> 1\u001B[0m ps \u001B[38;5;241m=\u001B[39m \u001B[43mpd\u001B[49m\u001B[38;5;241m.\u001B[39mread_csv(\u001B[38;5;124m\"\u001B[39m\u001B[38;5;124mD:/Full Pycharm PRJ/PRJ1/15-DS/1- basis.csv\u001B[39m\u001B[38;5;124m\"\u001B[39m)\n\u001B[0;32m      2\u001B[0m \u001B[38;5;28mprint\u001B[39m(ps)\n",
      "\u001B[1;31mNameError\u001B[0m: name 'pd' is not defined"
     ]
    }
   ],
   "source": [
    "ps = pd.read_csv(\"D:/Full Pycharm PRJ/PRJ1/15-DS/1- basis.csv\")\n",
    "print(ps)"
   ],
   "metadata": {
    "collapsed": false,
    "pycharm": {
     "name": "#%%\n"
    }
   }
  },
  {
   "cell_type": "code",
   "execution_count": 78,
   "outputs": [
    {
     "name": "stdout",
     "output_type": "stream",
     "text": [
      "        Blue    Orange\n",
      "0        NaN       NaN\n",
      "1   0.023621  0.039662\n",
      "2  -0.021807 -0.033638\n",
      "3  -0.031763  0.082232\n",
      "4   0.034477  0.044544\n",
      "5   0.037786 -0.026381\n",
      "6  -0.011452 -0.049187\n",
      "7   0.032676  0.117008\n",
      "8  -0.012581  0.067353\n",
      "9   0.029581  0.078249\n",
      "10  0.006151 -0.168261\n",
      "11  0.012162  0.024041\n",
      "12  0.021149 -0.055623\n"
     ]
    }
   ],
   "source": [
    "returns = ps.pct_change()\n",
    "print(returns)"
   ],
   "metadata": {
    "collapsed": false,
    "pycharm": {
     "name": "#%%\n"
    }
   }
  },
  {
   "cell_type": "code",
   "execution_count": 81,
   "outputs": [
    {
     "name": "stderr",
     "output_type": "stream",
     "text": [
      "Matplotlib is building the font cache; this may take a moment.\n"
     ]
    },
    {
     "data": {
      "text/plain": "<Axes: >"
     },
     "execution_count": 81,
     "metadata": {},
     "output_type": "execute_result"
    },
    {
     "data": {
      "text/plain": "<Figure size 640x480 with 1 Axes>",
      "image/png": "[encoded data removed]"
     },
     "metadata": {},
     "output_type": "display_data"
    }
   ],
   "source": [
    "import matplotlib\n",
    "ps.plot()"
   ],
   "metadata": {
    "collapsed": false,
    "pycharm": {
     "name": "#%%\n"
    }
   }
  },
  {
   "cell_type": "code",
   "execution_count": 82,
   "outputs": [
    {
     "data": {
      "text/plain": "<Axes: >"
     },
     "execution_count": 82,
     "metadata": {},
     "output_type": "execute_result"
    },
    {
     "data": {
      "text/plain": "<Figure size 640x480 with 1 Axes>",
      "image/png": "[encoded data removed]"
     },
     "metadata": {},
     "output_type": "display_data"
    }
   ],
   "source": [
    "returns.plot.bar()"
   ],
   "metadata": {
    "collapsed": false,
    "pycharm": {
     "name": "#%%\n"
    }
   }
  },
  {
   "cell_type": "code",
   "execution_count": 83,
   "outputs": [
    {
     "data": {
      "text/plain": "       Blue    Orange\n0       NaN       NaN\n1  0.023621  0.039662\n2 -0.021807 -0.033638\n3 -0.031763  0.082232\n4  0.034477  0.044544",
      "text/html": "<div>\n<style scoped>\n    .dataframe tbody tr th:only-of-type {\n        vertical-align: middle;\n    }\n\n    .dataframe tbody tr th {\n        vertical-align: top;\n    }\n\n    .dataframe thead th {\n        text-align: right;\n    }\n</style>\n<table border=\"1\" class=\"dataframe\">\n  <thead>\n    <tr style=\"text-align: right;\">\n      <th></th>\n      <th>Blue</th>\n      <th>Orange</th>\n    </tr>\n  </thead>\n  <tbody>\n    <tr>\n      <th>0</th>\n      <td>NaN</td>\n      <td>NaN</td>\n    </tr>\n    <tr>\n      <th>1</th>\n      <td>0.023621</td>\n      <td>0.039662</td>\n    </tr>\n    <tr>\n      <th>2</th>\n      <td>-0.021807</td>\n      <td>-0.033638</td>\n    </tr>\n    <tr>\n      <th>3</th>\n      <td>-0.031763</td>\n      <td>0.082232</td>\n    </tr>\n    <tr>\n      <th>4</th>\n      <td>0.034477</td>\n      <td>0.044544</td>\n    </tr>\n  </tbody>\n</table>\n</div>"
     },
     "execution_count": 83,
     "metadata": {},
     "output_type": "execute_result"
    }
   ],
   "source": [
    "returns.head()"
   ],
   "metadata": {
    "collapsed": false,
    "pycharm": {
     "name": "#%%\n"
    }
   }
  },
  {
   "cell_type": "code",
   "execution_count": 84,
   "outputs": [
    {
     "data": {
      "text/plain": "Blue      0.023977\nOrange    0.079601\ndtype: float64"
     },
     "execution_count": 84,
     "metadata": {},
     "output_type": "execute_result"
    }
   ],
   "source": [
    "returns.std()"
   ],
   "metadata": {
    "collapsed": false,
    "pycharm": {
     "name": "#%%\n"
    }
   }
  },
  {
   "cell_type": "code",
   "execution_count": 85,
   "outputs": [
    {
     "data": {
      "text/plain": "Blue      0.01\nOrange    0.01\ndtype: float64"
     },
     "execution_count": 85,
     "metadata": {},
     "output_type": "execute_result"
    }
   ],
   "source": [
    "returns.mean()"
   ],
   "metadata": {
    "collapsed": false,
    "pycharm": {
     "name": "#%%\n"
    }
   }
  },
  {
   "cell_type": "code",
   "execution_count": 86,
   "outputs": [
    {
     "data": {
      "text/plain": "        Blue    Orange\n0        NaN       NaN\n1   1.023621  1.039662\n2   0.978193  0.966362\n3   0.968237  1.082232\n4   1.034477  1.044544\n5   1.037786  0.973619\n6   0.988548  0.950813\n7   1.032676  1.117008\n8   0.987419  1.067353\n9   1.029581  1.078249\n10  1.006151  0.831739\n11  1.012162  1.024041\n12  1.021149  0.944377",
      "text/html": "<div>\n<style scoped>\n    .dataframe tbody tr th:only-of-type {\n        vertical-align: middle;\n    }\n\n    .dataframe tbody tr th {\n        vertical-align: top;\n    }\n\n    .dataframe thead th {\n        text-align: right;\n    }\n</style>\n<table border=\"1\" class=\"dataframe\">\n  <thead>\n    <tr style=\"text-align: right;\">\n      <th></th>\n      <th>Blue</th>\n      <th>Orange</th>\n    </tr>\n  </thead>\n  <tbody>\n    <tr>\n      <th>0</th>\n      <td>NaN</td>\n      <td>NaN</td>\n    </tr>\n    <tr>\n      <th>1</th>\n      <td>1.023621</td>\n      <td>1.039662</td>\n    </tr>\n    <tr>\n      <th>2</th>\n      <td>0.978193</td>\n      <td>0.966362</td>\n    </tr>\n    <tr>\n      <th>3</th>\n      <td>0.968237</td>\n      <td>1.082232</td>\n    </tr>\n    <tr>\n      <th>4</th>\n      <td>1.034477</td>\n      <td>1.044544</td>\n    </tr>\n    <tr>\n      <th>5</th>\n      <td>1.037786</td>\n      <td>0.973619</td>\n    </tr>\n    <tr>\n      <th>6</th>\n      <td>0.988548</td>\n      <td>0.950813</td>\n    </tr>\n    <tr>\n      <th>7</th>\n      <td>1.032676</td>\n      <td>1.117008</td>\n    </tr>\n    <tr>\n      <th>8</th>\n      <td>0.987419</td>\n      <td>1.067353</td>\n    </tr>\n    <tr>\n      <th>9</th>\n      <td>1.029581</td>\n      <td>1.078249</td>\n    </tr>\n    <tr>\n      <th>10</th>\n      <td>1.006151</td>\n      <td>0.831739</td>\n    </tr>\n    <tr>\n      <th>11</th>\n      <td>1.012162</td>\n      <td>1.024041</td>\n    </tr>\n    <tr>\n      <th>12</th>\n      <td>1.021149</td>\n      <td>0.944377</td>\n    </tr>\n  </tbody>\n</table>\n</div>"
     },
     "execution_count": 86,
     "metadata": {},
     "output_type": "execute_result"
    }
   ],
   "source": [
    "returns+1"
   ],
   "metadata": {
    "collapsed": false,
    "pycharm": {
     "name": "#%%\n"
    }
   }
  },
  {
   "cell_type": "code",
   "execution_count": 88,
   "outputs": [
    {
     "data": {
      "text/plain": "Blue      0.123310\nOrange    0.087167\ndtype: float64"
     },
     "execution_count": 88,
     "metadata": {},
     "output_type": "execute_result"
    }
   ],
   "source": [
    "np.prod(returns+1) - 1"
   ],
   "metadata": {
    "collapsed": false,
    "pycharm": {
     "name": "#%%\n"
    }
   }
  },
  {
   "cell_type": "code",
   "execution_count": 90,
   "outputs": [
    {
     "data": {
      "text/plain": "Blue      0.123310\nOrange    0.087167\ndtype: float64"
     },
     "execution_count": 90,
     "metadata": {},
     "output_type": "execute_result"
    }
   ],
   "source": [
    "(returns+1).prod() - 1"
   ],
   "metadata": {
    "collapsed": false,
    "pycharm": {
     "name": "#%%\n"
    }
   }
  },
  {
   "cell_type": "code",
   "execution_count": 93,
   "outputs": [
    {
     "data": {
      "text/plain": "Blue      12.33\nOrange     8.72\ndtype: float64"
     },
     "execution_count": 93,
     "metadata": {},
     "output_type": "execute_result"
    }
   ],
   "source": [
    "(((returns+1).prod() - 1)*100).round(2)"
   ],
   "metadata": {
    "collapsed": false,
    "pycharm": {
     "name": "#%%\n"
    }
   }
  }
 ],
 "metadata": {
  "kernelspec": {
   "display_name": "Python 3",
   "language": "python",
   "name": "python3"
  },
  "language_info": {
   "codemirror_mode": {
    "name": "ipython",
    "version": 2
   },
   "file_extension": ".py",
   "mimetype": "text/x-python",
   "name": "python",
   "nbconvert_exporter": "python",
   "pygments_lexer": "ipython2",
   "version": "2.7.6"
  }
 },
 "nbformat": 4,
 "nbformat_minor": 0
}