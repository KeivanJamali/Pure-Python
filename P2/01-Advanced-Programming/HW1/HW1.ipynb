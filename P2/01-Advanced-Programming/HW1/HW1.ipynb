{
 "cells": [
  {
   "cell_type": "code",
   "execution_count": 4,
   "outputs": [],
   "source": [
    "a = [\"a\",\"b\",\"c\"]"
   ],
   "metadata": {
    "collapsed": false,
    "ExecuteTime": {
     "end_time": "2023-10-21T19:03:16.802104200Z",
     "start_time": "2023-10-21T19:03:16.802104200Z"
    }
   },
   "id": "2a1c3d991a461455"
  },
  {
   "cell_type": "code",
   "execution_count": 5,
   "outputs": [
    {
     "data": {
      "text/plain": "'b'"
     },
     "execution_count": 5,
     "metadata": {},
     "output_type": "execute_result"
    }
   ],
   "source": [
    "a.pop(1)"
   ],
   "metadata": {
    "collapsed": false,
    "ExecuteTime": {
     "end_time": "2023-10-21T19:03:19.587567800Z",
     "start_time": "2023-10-21T19:03:19.493416900Z"
    }
   },
   "id": "af289d34de6499f"
  },
  {
   "cell_type": "code",
   "execution_count": 6,
   "outputs": [
    {
     "data": {
      "text/plain": "['a', 'c']"
     },
     "execution_count": 6,
     "metadata": {},
     "output_type": "execute_result"
    }
   ],
   "source": [
    "a"
   ],
   "metadata": {
    "collapsed": false,
    "ExecuteTime": {
     "end_time": "2023-10-21T19:03:20.359663800Z",
     "start_time": "2023-10-21T19:03:20.355892100Z"
    }
   },
   "id": "4745f56a93a412b0"
  },
  {
   "cell_type": "code",
   "execution_count": 7,
   "outputs": [
    {
     "name": "stdout",
     "output_type": "stream",
     "text": [
      "YES\n"
     ]
    }
   ],
   "source": [
    "import random\n",
    "\n",
    "\n",
    "class Zone:\n",
    "    def __init__(self, name: str) -> None:\n",
    "        self.name = name\n",
    "        self.inside = []\n",
    "        self.person = []\n",
    "\n",
    "\n",
    "def check(zone: Zone) -> bool:\n",
    "    if not zone.person:\n",
    "        if \"c\" in zone.inside and \"m\" in zone.inside:\n",
    "            return False\n",
    "        elif \"m\" in zone.inside and \"d\" in zone.inside:\n",
    "            return False\n",
    "        else:\n",
    "            return True\n",
    "\n",
    "\n",
    "while True:\n",
    "    answer = False\n",
    "    try:\n",
    "        data = input().split(\" \")\n",
    "        data = [int(i) for i in data]\n",
    "        i = 0\n",
    "        while True:\n",
    "            zone1 = Zone(\"one\")\n",
    "            zone2 = Zone(\"two\")\n",
    "            for _ in range(data[0]):\n",
    "                zone1.inside.append(\"c\")\n",
    "            for _ in range(data[1]):\n",
    "                zone1.inside.append(\"m\")\n",
    "            for _ in range(data[2]):\n",
    "                zone1.inside.append(\"d\")\n",
    "            zone1.person.append(\"me\")\n",
    "            n = data[3]\n",
    "            while True:\n",
    "                n_ch = random.randrange(0, n + 1, 1)\n",
    "                for _ in range(n_ch):\n",
    "                    try:\n",
    "                        go = zone1.inside.pop(random.randrange(0, len(zone1.inside), 1))\n",
    "                        zone2.inside.append(go)\n",
    "                    except:\n",
    "                        pass\n",
    "                zone2.person.append(zone1.person.pop())\n",
    "                continue_ = check(zone1)\n",
    "                if not continue_:\n",
    "                    break\n",
    "\n",
    "                if not zone1.inside:\n",
    "                    answer = True\n",
    "                    break\n",
    "\n",
    "                n_ch = random.randrange(0, n + 1, 1)\n",
    "                for _ in range(n_ch):\n",
    "                    try:\n",
    "                        go = zone2.inside.pop(random.randrange(0, len(zone2.inside), 1))\n",
    "                        zone1.inside.append(go)\n",
    "                    except:\n",
    "                        pass\n",
    "                zone1.person.append(zone2.person.pop())\n",
    "                continue_ = check(zone2)\n",
    "                if not continue_:\n",
    "                    break\n",
    "\n",
    "            if answer:\n",
    "                print(\"YES\")\n",
    "                break\n",
    "            else:\n",
    "                # print(\"NO\")\n",
    "                i += 1\n",
    "                if i > 50:\n",
    "                    print(\"NO\")\n",
    "                    break\n",
    "    except:\n",
    "        break\n",
    "\n"
   ],
   "metadata": {
    "collapsed": false,
    "ExecuteTime": {
     "end_time": "2023-10-21T19:36:48.509854Z",
     "start_time": "2023-10-21T19:36:41.753119200Z"
    }
   },
   "id": "84656e9533920e7"
  },
  {
   "cell_type": "code",
   "execution_count": 53,
   "outputs": [
    {
     "ename": "TypeError",
     "evalue": "combinations() missing required argument 'r' (pos 2)",
     "output_type": "error",
     "traceback": [
      "\u001B[1;31m---------------------------------------------------------------------------\u001B[0m",
      "\u001B[1;31mTypeError\u001B[0m                                 Traceback (most recent call last)",
      "Cell \u001B[1;32mIn[53], line 3\u001B[0m\n\u001B[0;32m      1\u001B[0m \u001B[38;5;28;01mimport\u001B[39;00m \u001B[38;5;21;01mitertools\u001B[39;00m\n\u001B[0;32m      2\u001B[0m list_ \u001B[38;5;241m=\u001B[39m [\u001B[38;5;241m1\u001B[39m,\u001B[38;5;241m2\u001B[39m,\u001B[38;5;241m3\u001B[39m,\u001B[38;5;241m3\u001B[39m,\u001B[38;5;241m4\u001B[39m]\n\u001B[1;32m----> 3\u001B[0m sub \u001B[38;5;241m=\u001B[39m \u001B[43mitertools\u001B[49m\u001B[38;5;241;43m.\u001B[39;49m\u001B[43mcombinations\u001B[49m\u001B[43m(\u001B[49m\u001B[43mlist_\u001B[49m\u001B[43m)\u001B[49m\n",
      "\u001B[1;31mTypeError\u001B[0m: combinations() missing required argument 'r' (pos 2)"
     ]
    }
   ],
   "source": [
    "import itertools\n",
    "list_ = [1,2,3,3,4]\n",
    "sub = itertools.combinations(list_, 1)"
   ],
   "metadata": {
    "collapsed": false,
    "ExecuteTime": {
     "end_time": "2023-10-26T20:13:16.572646Z",
     "start_time": "2023-10-26T20:13:16.487032100Z"
    }
   },
   "id": "db723e7637668a8a"
  },
  {
   "cell_type": "code",
   "execution_count": 51,
   "outputs": [
    {
     "ename": "StopIteration",
     "evalue": "",
     "output_type": "error",
     "traceback": [
      "\u001B[1;31m---------------------------------------------------------------------------\u001B[0m",
      "\u001B[1;31mStopIteration\u001B[0m                             Traceback (most recent call last)",
      "Cell \u001B[1;32mIn[51], line 1\u001B[0m\n\u001B[1;32m----> 1\u001B[0m \u001B[38;5;28;43mnext\u001B[39;49m\u001B[43m(\u001B[49m\u001B[38;5;28;43miter\u001B[39;49m\u001B[43m(\u001B[49m\u001B[43msub\u001B[49m\u001B[43m)\u001B[49m\u001B[43m)\u001B[49m\n",
      "\u001B[1;31mStopIteration\u001B[0m: "
     ]
    }
   ],
   "source": [
    "next(iter(sub))"
   ],
   "metadata": {
    "collapsed": false,
    "ExecuteTime": {
     "end_time": "2023-10-26T20:13:00.875760100Z",
     "start_time": "2023-10-26T20:13:00.843419Z"
    }
   },
   "id": "9e62eaa143515d68"
  },
  {
   "cell_type": "code",
   "execution_count": 52,
   "outputs": [
    {
     "data": {
      "text/plain": "<itertools.chain at 0x1b504bc1120>"
     },
     "execution_count": 52,
     "metadata": {},
     "output_type": "execute_result"
    }
   ],
   "source": [
    "sub"
   ],
   "metadata": {
    "collapsed": false,
    "ExecuteTime": {
     "end_time": "2023-10-26T20:13:07.150427200Z",
     "start_time": "2023-10-26T20:13:07.132979100Z"
    }
   },
   "id": "cda4de9bc8c61cfa"
  },
  {
   "cell_type": "code",
   "execution_count": 60,
   "outputs": [],
   "source": [
    "list_ = [1,2,3,3,4]\n",
    "n_numbers = len(list_)\n",
    "seperator = n_numbers-1\n",
    "list_.extend([\"n\" for _ in range(seperator)])\n",
    "new_list = list_"
   ],
   "metadata": {
    "collapsed": false,
    "ExecuteTime": {
     "end_time": "2023-10-26T20:21:00.245823400Z",
     "start_time": "2023-10-26T20:21:00.112113900Z"
    }
   },
   "id": "51bdc06ff7922417"
  },
  {
   "cell_type": "code",
   "execution_count": 61,
   "outputs": [
    {
     "data": {
      "text/plain": "[1, 2, 3, 3, 4, 'n', 'n', 'n', 'n']"
     },
     "execution_count": 61,
     "metadata": {},
     "output_type": "execute_result"
    }
   ],
   "source": [
    "new_list"
   ],
   "metadata": {
    "collapsed": false,
    "ExecuteTime": {
     "end_time": "2023-10-26T20:21:03.801038100Z",
     "start_time": "2023-10-26T20:21:03.783852500Z"
    }
   },
   "id": "b0e87dce5a54cfb7"
  },
  {
   "cell_type": "code",
   "execution_count": 63,
   "outputs": [
    {
     "ename": "AttributeError",
     "evalue": "'list' object has no attribute 'str'",
     "output_type": "error",
     "traceback": [
      "\u001B[1;31m---------------------------------------------------------------------------\u001B[0m",
      "\u001B[1;31mAttributeError\u001B[0m                            Traceback (most recent call last)",
      "Cell \u001B[1;32mIn[63], line 1\u001B[0m\n\u001B[1;32m----> 1\u001B[0m \u001B[43mnew_list\u001B[49m\u001B[38;5;241;43m.\u001B[39;49m\u001B[43mstr\u001B[49m\n",
      "\u001B[1;31mAttributeError\u001B[0m: 'list' object has no attribute 'str'"
     ]
    }
   ],
   "source": [
    "new_list.str"
   ],
   "metadata": {
    "collapsed": false,
    "ExecuteTime": {
     "end_time": "2023-10-26T20:27:11.479290Z",
     "start_time": "2023-10-26T20:27:11.428827400Z"
    }
   },
   "id": "60eee98af565173d"
  },
  {
   "cell_type": "code",
   "execution_count": 94,
   "outputs": [],
   "source": [
    "a = \"1 2 3 0 0\"\n",
    "aa = list(map(int, a.split()))"
   ],
   "metadata": {
    "collapsed": false,
    "ExecuteTime": {
     "end_time": "2023-10-26T22:09:18.063748700Z",
     "start_time": "2023-10-26T22:09:18.058796500Z"
    }
   },
   "id": "1cb8efca8a4f1113"
  },
  {
   "cell_type": "code",
   "execution_count": 95,
   "outputs": [
    {
     "data": {
      "text/plain": "[(1, 2, 3, 0, 0),\n (1, 2, 3, 0, 0),\n (1, 2, 0, 3, 0),\n (1, 2, 0, 0, 3),\n (1, 2, 0, 3, 0),\n (1, 2, 0, 0, 3),\n (1, 3, 2, 0, 0),\n (1, 3, 2, 0, 0),\n (1, 3, 0, 2, 0),\n (1, 3, 0, 0, 2),\n (1, 3, 0, 2, 0),\n (1, 3, 0, 0, 2),\n (1, 0, 2, 3, 0),\n (1, 0, 2, 0, 3),\n (1, 0, 3, 2, 0),\n (1, 0, 3, 0, 2),\n (1, 0, 0, 2, 3),\n (1, 0, 0, 3, 2),\n (1, 0, 2, 3, 0),\n (1, 0, 2, 0, 3),\n (1, 0, 3, 2, 0),\n (1, 0, 3, 0, 2),\n (1, 0, 0, 2, 3),\n (1, 0, 0, 3, 2),\n (2, 1, 3, 0, 0),\n (2, 1, 3, 0, 0),\n (2, 1, 0, 3, 0),\n (2, 1, 0, 0, 3),\n (2, 1, 0, 3, 0),\n (2, 1, 0, 0, 3),\n (2, 3, 1, 0, 0),\n (2, 3, 1, 0, 0),\n (2, 3, 0, 1, 0),\n (2, 3, 0, 0, 1),\n (2, 3, 0, 1, 0),\n (2, 3, 0, 0, 1),\n (2, 0, 1, 3, 0),\n (2, 0, 1, 0, 3),\n (2, 0, 3, 1, 0),\n (2, 0, 3, 0, 1),\n (2, 0, 0, 1, 3),\n (2, 0, 0, 3, 1),\n (2, 0, 1, 3, 0),\n (2, 0, 1, 0, 3),\n (2, 0, 3, 1, 0),\n (2, 0, 3, 0, 1),\n (2, 0, 0, 1, 3),\n (2, 0, 0, 3, 1),\n (3, 1, 2, 0, 0),\n (3, 1, 2, 0, 0),\n (3, 1, 0, 2, 0),\n (3, 1, 0, 0, 2),\n (3, 1, 0, 2, 0),\n (3, 1, 0, 0, 2),\n (3, 2, 1, 0, 0),\n (3, 2, 1, 0, 0),\n (3, 2, 0, 1, 0),\n (3, 2, 0, 0, 1),\n (3, 2, 0, 1, 0),\n (3, 2, 0, 0, 1),\n (3, 0, 1, 2, 0),\n (3, 0, 1, 0, 2),\n (3, 0, 2, 1, 0),\n (3, 0, 2, 0, 1),\n (3, 0, 0, 1, 2),\n (3, 0, 0, 2, 1),\n (3, 0, 1, 2, 0),\n (3, 0, 1, 0, 2),\n (3, 0, 2, 1, 0),\n (3, 0, 2, 0, 1),\n (3, 0, 0, 1, 2),\n (3, 0, 0, 2, 1),\n (0, 1, 2, 3, 0),\n (0, 1, 2, 0, 3),\n (0, 1, 3, 2, 0),\n (0, 1, 3, 0, 2),\n (0, 1, 0, 2, 3),\n (0, 1, 0, 3, 2),\n (0, 2, 1, 3, 0),\n (0, 2, 1, 0, 3),\n (0, 2, 3, 1, 0),\n (0, 2, 3, 0, 1),\n (0, 2, 0, 1, 3),\n (0, 2, 0, 3, 1),\n (0, 3, 1, 2, 0),\n (0, 3, 1, 0, 2),\n (0, 3, 2, 1, 0),\n (0, 3, 2, 0, 1),\n (0, 3, 0, 1, 2),\n (0, 3, 0, 2, 1),\n (0, 0, 1, 2, 3),\n (0, 0, 1, 3, 2),\n (0, 0, 2, 1, 3),\n (0, 0, 2, 3, 1),\n (0, 0, 3, 1, 2),\n (0, 0, 3, 2, 1),\n (0, 1, 2, 3, 0),\n (0, 1, 2, 0, 3),\n (0, 1, 3, 2, 0),\n (0, 1, 3, 0, 2),\n (0, 1, 0, 2, 3),\n (0, 1, 0, 3, 2),\n (0, 2, 1, 3, 0),\n (0, 2, 1, 0, 3),\n (0, 2, 3, 1, 0),\n (0, 2, 3, 0, 1),\n (0, 2, 0, 1, 3),\n (0, 2, 0, 3, 1),\n (0, 3, 1, 2, 0),\n (0, 3, 1, 0, 2),\n (0, 3, 2, 1, 0),\n (0, 3, 2, 0, 1),\n (0, 3, 0, 1, 2),\n (0, 3, 0, 2, 1),\n (0, 0, 1, 2, 3),\n (0, 0, 1, 3, 2),\n (0, 0, 2, 1, 3),\n (0, 0, 2, 3, 1),\n (0, 0, 3, 1, 2),\n (0, 0, 3, 2, 1)]"
     },
     "execution_count": 95,
     "metadata": {},
     "output_type": "execute_result"
    }
   ],
   "source": [
    "list(itertools.permutations(aa))\n",
    "# sorted(list(itertools.permutations(aa)))"
   ],
   "metadata": {
    "collapsed": false,
    "ExecuteTime": {
     "end_time": "2023-10-26T22:09:18.401029500Z",
     "start_time": "2023-10-26T22:09:18.379234Z"
    }
   },
   "id": "a78f1a8e2887e496"
  },
  {
   "cell_type": "code",
   "execution_count": null,
   "outputs": [],
   "source": [],
   "metadata": {
    "collapsed": false
   },
   "id": "d3facedfb99e3ab1"
  }
 ],
 "metadata": {
  "kernelspec": {
   "display_name": "Python 3",
   "language": "python",
   "name": "python3"
  },
  "language_info": {
   "codemirror_mode": {
    "name": "ipython",
    "version": 2
   },
   "file_extension": ".py",
   "mimetype": "text/x-python",
   "name": "python",
   "nbconvert_exporter": "python",
   "pygments_lexer": "ipython2",
   "version": "2.7.6"
  }
 },
 "nbformat": 4,
 "nbformat_minor": 5
}
