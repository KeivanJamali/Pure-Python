{
 "cells": [
  {
   "cell_type": "markdown",
   "id": "694bad36",
   "metadata": {},
   "source": [
    "## Example 1: Secret Message Decoder"
   ]
  },
  {
   "cell_type": "code",
   "execution_count": 4,
   "id": "9a69c329",
   "metadata": {},
   "outputs": [
    {
     "name": "stdout",
     "output_type": "stream",
     "text": [
      "Secret message: HelloWorld\n"
     ]
    }
   ],
   "source": [
    "message = \"Hxeqlxlxo Wxoxrxlxd!\"\n",
    "\n",
    "decoded = message[::2]\n",
    "print(\"Secret message:\", decoded)"
   ]
  },
  {
   "cell_type": "markdown",
   "id": "b7f2ca63",
   "metadata": {},
   "source": [
    "## Example 2: Name Transformer"
   ]
  },
  {
   "cell_type": "code",
   "execution_count": null,
   "id": "131e1a53",
   "metadata": {},
   "outputs": [],
   "source": [
    "name = input(\"What's your name? \")\n",
    "print(\"All uppercase:\", name.upper())\n",
    "print(\"All lowercase:\", name.lower())\n",
    "print(\"Fancy title:\", name.title())\n",
    "print(\"Your name has\", len(name), \"letters.\")\n",
    "\n",
    "word = input(\"Type a word to mirror: \")\n",
    "mirror = word[::-1]\n",
    "print(\"Your mirror word is:\", mirror)"
   ]
  },
  {
   "cell_type": "markdown",
   "id": "8ce76b49",
   "metadata": {},
   "source": [
    "## Example 3: Word Replacer"
   ]
  },
  {
   "cell_type": "code",
   "execution_count": null,
   "id": "cdf09afd",
   "metadata": {},
   "outputs": [],
   "source": [
    "sentence = \"I love eating ___ every day.\"\n",
    "fav_food = input(\"What's your favorite food? \")\n",
    "sentence = sentence.replace(\"___\", fav_food)\n",
    "print(sentence)"
   ]
  },
  {
   "cell_type": "markdown",
   "id": "ddd229ad",
   "metadata": {},
   "source": [
    "## Example 4: Letter Counter"
   ]
  },
  {
   "cell_type": "code",
   "execution_count": null,
   "id": "afe3d7dc",
   "metadata": {},
   "outputs": [],
   "source": [
    "word = input(\"Type a word: \")\n",
    "letter = input(\"Which letter should I count? \")\n",
    "\n",
    "count = word.count(letter)\n",
    "print(f\"The letter '{letter}' appears {count} times in '{word}'.\")\n"
   ]
  },
  {
   "cell_type": "markdown",
   "id": "9cc896ed",
   "metadata": {},
   "source": [
    "## Example 5: Guess"
   ]
  },
  {
   "cell_type": "code",
   "execution_count": null,
   "id": "d7fce1db",
   "metadata": {},
   "outputs": [],
   "source": [
    "word = \"ELEPHANT\"\n",
    "print(\"Word:\", word)\n",
    "actual = word[1:5]\n",
    "\n",
    "while True:\n",
    "    guess = input(\"What do you think word[1:5] will be? \")\n",
    "    if guess == actual:\n",
    "        print(\"Correct! 🎉\")\n",
    "        break\n",
    "    else:\n",
    "        print(\"Oops! Try again!\")"
   ]
  },
  {
   "cell_type": "code",
   "execution_count": null,
   "id": "38acbe18",
   "metadata": {},
   "outputs": [],
   "source": []
  }
 ],
 "metadata": {
  "kernelspec": {
   "display_name": "Python 3",
   "language": "python",
   "name": "python3"
  },
  "language_info": {
   "codemirror_mode": {
    "name": "ipython",
    "version": 3
   },
   "file_extension": ".py",
   "mimetype": "text/x-python",
   "name": "python",
   "nbconvert_exporter": "python",
   "pygments_lexer": "ipython3",
   "version": "3.13.5"
  }
 },
 "nbformat": 4,
 "nbformat_minor": 5
}
