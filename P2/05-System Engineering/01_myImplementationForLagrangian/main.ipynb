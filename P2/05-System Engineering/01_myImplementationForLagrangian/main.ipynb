{
 "cells": [
  {
   "cell_type": "code",
   "execution_count": 1,
   "id": "initial_id",
   "metadata": {
    "collapsed": true,
    "ExecuteTime": {
     "end_time": "2024-02-16T21:10:07.472794300Z",
     "start_time": "2024-02-16T21:10:07.013234900Z"
    }
   },
   "outputs": [],
   "source": [
    "%load_ext autoreload\n",
    "%autoreload 2\n",
    "from Lagrangian_Optimizer import LagrangianOptimizer\n"
   ]
  },
  {
   "cell_type": "code",
   "outputs": [
    {
     "name": "stdout",
     "output_type": "stream",
     "text": [
      "[1 1]\n",
      "0.01\n"
     ]
    },
    {
     "ename": "ValueError",
     "evalue": "The truth value of an array with more than one element is ambiguous. Use a.any() or a.all()",
     "output_type": "error",
     "traceback": [
      "\u001B[1;31m---------------------------------------------------------------------------\u001B[0m",
      "\u001B[1;31mValueError\u001B[0m                                Traceback (most recent call last)",
      "Cell \u001B[1;32mIn[5], line 27\u001B[0m\n\u001B[0;32m     24\u001B[0m optimizer\u001B[38;5;241m.\u001B[39mfit(objective_function, objective_gradient, [constraint_function], [constraint_gradient], initial_guess)\n\u001B[0;32m     26\u001B[0m \u001B[38;5;66;03m# Optimize using the Lagrangian technique\u001B[39;00m\n\u001B[1;32m---> 27\u001B[0m result \u001B[38;5;241m=\u001B[39m \u001B[43moptimizer\u001B[49m\u001B[38;5;241;43m.\u001B[39;49m\u001B[43moptimize\u001B[49m\u001B[43m(\u001B[49m\u001B[43m)\u001B[49m\n\u001B[0;32m     29\u001B[0m \u001B[38;5;66;03m# Print the result\u001B[39;00m\n\u001B[0;32m     30\u001B[0m \u001B[38;5;28mprint\u001B[39m(\u001B[38;5;124m\"\u001B[39m\u001B[38;5;124mOptimal solution:\u001B[39m\u001B[38;5;124m\"\u001B[39m, result)\n",
      "File \u001B[1;32mD:\\All Python\\Pure-Python\\P2\\05-System Engineering\\file01\\Lagrangian_Optimizer.py:38\u001B[0m, in \u001B[0;36mLagrangianOptimizer.optimize\u001B[1;34m(self)\u001B[0m\n\u001B[0;32m     36\u001B[0m     \u001B[38;5;28mprint\u001B[39m(\u001B[38;5;28mself\u001B[39m\u001B[38;5;241m.\u001B[39mlearning_rate)\n\u001B[0;32m     37\u001B[0m     \u001B[38;5;28mself\u001B[39m\u001B[38;5;241m.\u001B[39mt1, \u001B[38;5;28mself\u001B[39m\u001B[38;5;241m.\u001B[39mt2 \u001B[38;5;241m=\u001B[39m gradient, \u001B[38;5;28mself\u001B[39m\u001B[38;5;241m.\u001B[39mlearning_rate\n\u001B[1;32m---> 38\u001B[0m     lambdas[i] \u001B[38;5;241m=\u001B[39m \u001B[38;5;28;43mmax\u001B[39;49m\u001B[43m(\u001B[49m\u001B[38;5;241;43m0\u001B[39;49m\u001B[43m,\u001B[49m\u001B[43m \u001B[49m\u001B[43mlambdas\u001B[49m\u001B[43m[\u001B[49m\u001B[43mi\u001B[49m\u001B[43m]\u001B[49m\u001B[43m \u001B[49m\u001B[38;5;241;43m+\u001B[39;49m\u001B[43m \u001B[49m\u001B[38;5;28;43mself\u001B[39;49m\u001B[38;5;241;43m.\u001B[39;49m\u001B[43mlearning_rate\u001B[49m\u001B[43m \u001B[49m\u001B[38;5;241;43m*\u001B[39;49m\u001B[43m \u001B[49m\u001B[43mgradient\u001B[49m\u001B[43m)\u001B[49m\n\u001B[0;32m     40\u001B[0m \u001B[38;5;66;03m# Compute Lagrangian gradient\u001B[39;00m\n\u001B[0;32m     41\u001B[0m lagrangian_gradient \u001B[38;5;241m=\u001B[39m np\u001B[38;5;241m.\u001B[39mzeros(\u001B[38;5;28mlen\u001B[39m(x))\n",
      "\u001B[1;31mValueError\u001B[0m: The truth value of an array with more than one element is ambiguous. Use a.any() or a.all()"
     ]
    }
   ],
   "source": [
    "# Define objective function and its gradient\n",
    "def objective_function(x):\n",
    "    return x[0] ** 2 + x[1] ** 2\n",
    "\n",
    "\n",
    "def objective_gradient(x):\n",
    "    return [2 * x[0], 2 * x[1]]\n",
    "\n",
    "\n",
    "# Define constraint function and its gradient\n",
    "def constraint_function(x):\n",
    "    return x[0] + x[1] - 1\n",
    "\n",
    "\n",
    "def constraint_gradient(x):\n",
    "    return [1, 1]\n",
    "\n",
    "\n",
    "# Initial guess\n",
    "initial_guess = [1, 1]\n",
    "\n",
    "# Create LagrangianOptimizer object\n",
    "optimizer = LagrangianOptimizer()\n",
    "optimizer.fit(objective_function, objective_gradient, [constraint_function], [constraint_gradient], initial_guess)\n",
    "\n",
    "# Optimize using the Lagrangian technique\n",
    "result = optimizer.optimize()\n",
    "\n",
    "# Print the result\n",
    "print(\"Optimal solution:\", result)\n"
   ],
   "metadata": {
    "collapsed": false,
    "ExecuteTime": {
     "end_time": "2024-02-16T21:10:45.977052400Z",
     "start_time": "2024-02-16T21:10:45.784395900Z"
    }
   },
   "id": "94c92d0b1c0d6b67",
   "execution_count": 5
  },
  {
   "cell_type": "code",
   "outputs": [
    {
     "data": {
      "text/plain": "array([1, 1])"
     },
     "execution_count": 9,
     "metadata": {},
     "output_type": "execute_result"
    }
   ],
   "source": [
    "optimizer.t1"
   ],
   "metadata": {
    "collapsed": false,
    "ExecuteTime": {
     "end_time": "2024-02-16T21:10:57.509284500Z",
     "start_time": "2024-02-16T21:10:57.370937Z"
    }
   },
   "id": "b87bedbb2d891741",
   "execution_count": 9
  },
  {
   "cell_type": "code",
   "outputs": [
    {
     "data": {
      "text/plain": "0.01"
     },
     "execution_count": 7,
     "metadata": {},
     "output_type": "execute_result"
    }
   ],
   "source": [
    "optimizer.t2"
   ],
   "metadata": {
    "collapsed": false,
    "ExecuteTime": {
     "end_time": "2024-02-16T21:10:48.718872800Z",
     "start_time": "2024-02-16T21:10:48.663195600Z"
    }
   },
   "id": "15f1608af6e86c79",
   "execution_count": 7
  },
  {
   "cell_type": "code",
   "outputs": [
    {
     "data": {
      "text/plain": "array([0.01, 0.01])"
     },
     "execution_count": 8,
     "metadata": {},
     "output_type": "execute_result"
    }
   ],
   "source": [
    "optimizer.t1 * optimizer.t2"
   ],
   "metadata": {
    "collapsed": false,
    "ExecuteTime": {
     "end_time": "2024-02-16T21:10:49.413567300Z",
     "start_time": "2024-02-16T21:10:49.348402500Z"
    }
   },
   "id": "a083d41b42a1a0e1",
   "execution_count": 8
  },
  {
   "cell_type": "code",
   "outputs": [],
   "source": [],
   "metadata": {
    "collapsed": false
   },
   "id": "787f9377c2dae702"
  }
 ],
 "metadata": {
  "kernelspec": {
   "display_name": "Python 3",
   "language": "python",
   "name": "python3"
  },
  "language_info": {
   "codemirror_mode": {
    "name": "ipython",
    "version": 2
   },
   "file_extension": ".py",
   "mimetype": "text/x-python",
   "name": "python",
   "nbconvert_exporter": "python",
   "pygments_lexer": "ipython2",
   "version": "2.7.6"
  }
 },
 "nbformat": 4,
 "nbformat_minor": 5
}
