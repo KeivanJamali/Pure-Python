{
 "cells": [
  {
   "cell_type": "code",
   "execution_count": 1,
   "outputs": [],
   "source": [
    "%load_ext autoreload\n",
    "%autoreload 2\n",
    "import toolkit_env as te\n",
    "import colors_kit"
   ],
   "metadata": {
    "collapsed": false,
    "ExecuteTime": {
     "end_time": "2023-06-27T12:37:45.361517700Z",
     "start_time": "2023-06-27T12:37:44.855732Z"
    }
   }
  },
  {
   "cell_type": "markdown",
   "source": [
    "# Entering Data and analysis"
   ],
   "metadata": {
    "collapsed": false
   }
  },
  {
   "cell_type": "code",
   "execution_count": 2,
   "outputs": [
    {
     "name": "stdout",
     "output_type": "stream",
     "text": [
      "3038\n"
     ]
    }
   ],
   "source": [
    "m = 1000  # kg\n",
    "d = 68  # m\n",
    "dx = 4.5 * 10 ** -5  # m^2 /s\n",
    "dy = 6.5 * 10 ** -5  # m^2 /s\n",
    "distance = 100  # m\n",
    "time_start = 1  # hour\n",
    "time_end = 5  # hour\n",
    "q1 = te.Transport(m, dx, dy)\n",
    "color = []\n",
    "for i in colors_kit.color4:\n",
    "    for j in i:\n",
    "        for k in range(7):\n",
    "            color.append(j)\n",
    "print(len(color))"
   ],
   "metadata": {
    "collapsed": false,
    "ExecuteTime": {
     "end_time": "2023-06-27T12:20:40.728500Z",
     "start_time": "2023-06-27T12:20:40.661453600Z"
    }
   }
  },
  {
   "cell_type": "code",
   "execution_count": 4,
   "outputs": [],
   "source": [
    "distance = 50 // 2  # m\n",
    "time_scale = 1  # hour\n",
    "time_scale = int(1 / time_scale)\n",
    "time_nodes = []\n",
    "iteration = -1\n",
    "for t in range(time_start * time_scale, (time_end + 1) * time_scale):\n",
    "    t /= time_scale\n",
    "    t *= 3600\n",
    "    iteration += 1\n",
    "    time_nodes.append([])\n",
    "    for x in range(-distance * 10, distance * 10):\n",
    "        x /= 10\n",
    "        for y in range(-distance * 10, distance * 10):\n",
    "            y /= 10\n",
    "            c = q1.diffusion(2, t, x, y, L=d)\n",
    "            time_nodes[iteration].append(te.Point(x, y, c=c))\n"
   ],
   "metadata": {
    "collapsed": false,
    "ExecuteTime": {
     "end_time": "2023-06-27T12:21:07.848022200Z",
     "start_time": "2023-06-27T12:21:01.353252600Z"
    }
   }
  },
  {
   "cell_type": "markdown",
   "source": [
    "# from 1 to 5 hour plot_curve in scenario 1"
   ],
   "metadata": {
    "collapsed": false
   }
  },
  {
   "cell_type": "code",
   "execution_count": null,
   "outputs": [],
   "source": [
    "for i in range(len(time_nodes)):\n",
    "    t = time_start + (time_end - time_start) * (i / (len(time_nodes) - 1))\n",
    "    te.plot_curve(time_nodes[i], t, scenario=1, show=False, save=True)"
   ],
   "metadata": {
    "collapsed": false,
    "ExecuteTime": {
     "start_time": "2023-06-27T12:21:07.854539Z"
    }
   }
  },
  {
   "cell_type": "markdown",
   "source": [
    "# from 1 to 5 hour plot_picture in scenario 1"
   ],
   "metadata": {
    "collapsed": false
   }
  },
  {
   "cell_type": "code",
   "execution_count": null,
   "outputs": [],
   "source": [
    "for i in range(len(time_nodes)):\n",
    "    t = time_start + (time_end - time_start) * (i / (len(time_nodes) - 1))\n",
    "    te.plot_picture(t, time_nodes[i], scale=distance, color=color, error=0.001, scenario=1, save=True, show=True,\n",
    "                    detail=False)"
   ],
   "metadata": {
    "collapsed": false
   }
  },
  {
   "cell_type": "markdown",
   "source": [
    "# from 1 to 5 hour plot_curve in scenario 2"
   ],
   "metadata": {
    "collapsed": false
   }
  },
  {
   "cell_type": "code",
   "execution_count": null,
   "outputs": [],
   "source": [
    "vx = -0.8\n",
    "vy = 0.2\n",
    "for i in range(len(time_nodes)):\n",
    "    t = time_start + (time_end - time_start) * (i / (len(time_nodes) - 1))\n",
    "    te.plot_curve(time_nodes[i], t, scenario=2, show=False, save=True, vx=vx, vy=vy, scale=distance)"
   ],
   "metadata": {
    "collapsed": false
   }
  },
  {
   "cell_type": "markdown",
   "source": [
    "# from 1 to 5 hour plot_picture in scenario 2"
   ],
   "metadata": {
    "collapsed": false
   }
  },
  {
   "cell_type": "code",
   "execution_count": null,
   "outputs": [],
   "source": [
    "vx = -0.8\n",
    "vy = 0.2\n",
    "for i in range(len(time_nodes)):\n",
    "    t = time_start + (time_end - time_start) * (i / (len(time_nodes) - 1))\n",
    "    te.plot_picture(t, time_nodes[i], scale=distance, color=color, vx=vx, vy=vy, error=0.001, scenario=2, save=True,\n",
    "                    show=True, detail=False)"
   ],
   "metadata": {
    "collapsed": false
   }
  },
  {
   "cell_type": "markdown",
   "source": [
    "# from 1 to 5 hour plot_curve in scenario 3"
   ],
   "metadata": {
    "collapsed": false
   }
  },
  {
   "cell_type": "code",
   "execution_count": null,
   "outputs": [],
   "source": [
    "for i in range(len(time_nodes)):\n",
    "    t = time_start + (time_end - time_start) * (i / (len(time_nodes) - 1))\n",
    "    vx = -0.4\n",
    "    vy = 0.2 * t\n",
    "    te.plot_curve(time_nodes[i], t, scenario=3, show=False, save=True, vx=vx, vy=vy, scale=distance)"
   ],
   "metadata": {
    "collapsed": false
   }
  },
  {
   "cell_type": "markdown",
   "source": [
    "# from 1 to 5 hour plot_picture in scenario 3"
   ],
   "metadata": {
    "collapsed": false
   }
  },
  {
   "cell_type": "code",
   "execution_count": null,
   "outputs": [],
   "source": [
    "for i in range(len(time_nodes)):\n",
    "    t = time_start + (time_end - time_start) * (i / (len(time_nodes) - 1))\n",
    "    vx = -0.4\n",
    "    vy = 0.2 * t\n",
    "    te.plot_picture(t, time_nodes[i], scale=distance, color=color, vx=vx, vy=vy, error=0.001, scenario=3, save=True,\n",
    "                    show=True, detail=False)"
   ],
   "metadata": {
    "collapsed": false
   }
  },
  {
   "cell_type": "code",
   "execution_count": null,
   "outputs": [],
   "source": [],
   "metadata": {
    "collapsed": false
   }
  }
 ],
 "metadata": {
  "kernelspec": {
   "display_name": "Python 3",
   "language": "python",
   "name": "python3"
  },
  "language_info": {
   "codemirror_mode": {
    "name": "ipython",
    "version": 2
   },
   "file_extension": ".py",
   "mimetype": "text/x-python",
   "name": "python",
   "nbconvert_exporter": "python",
   "pygments_lexer": "ipython2",
   "version": "2.7.6"
  }
 },
 "nbformat": 4,
 "nbformat_minor": 0
}
