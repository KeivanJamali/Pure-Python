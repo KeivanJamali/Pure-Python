{
 "cells": [
  {
   "cell_type": "markdown",
   "metadata": {},
   "source": [
    "## Session 1: Introduction to Python and Basic Data Types"
   ]
  },
  {
   "cell_type": "markdown",
   "metadata": {},
   "source": [
    "### Concept 1: Python Syntax and Variables"
   ]
  },
  {
   "cell_type": "code",
   "execution_count": null,
   "metadata": {},
   "outputs": [],
   "source": [
    "# Example: Calculate the volume of a concrete slab\n",
    "\n",
    "# Dimensions of the slab\n",
    "length = 5.0  # meters\n",
    "width = 3.0   # meters\n",
    "thickness = 0.2  # meters\n",
    "\n",
    "# Calculate the volume\n",
    "volume = length * width * thickness\n",
    "\n",
    "# Display the result\n",
    "print(f\"Volume of the slab: {volume} cubic meters\")\n"
   ]
  },
  {
   "cell_type": "markdown",
   "metadata": {},
   "source": [
    "### Concept 2: Basic Data Types"
   ]
  },
  {
   "cell_type": "code",
   "execution_count": 1,
   "metadata": {},
   "outputs": [
    {
     "name": "stdout",
     "output_type": "stream",
     "text": [
      "Floors: 10, Concrete Grade: M25, Reinforced: True\n"
     ]
    }
   ],
   "source": [
    "# Example: Basic data types used in a civil project\n",
    "\n",
    "# Number of floors in a building (integer)\n",
    "floors = 10\n",
    "\n",
    "# Concrete grade used in the project (string)\n",
    "concrete_grade = \"M25\"\n",
    "\n",
    "# Whether the building is reinforced or not (boolean)\n",
    "is_reinforced = True\n",
    "\n",
    "print(f\"Floors: {floors}, Concrete Grade: {concrete_grade}, Reinforced: {is_reinforced}\")\n"
   ]
  },
  {
   "cell_type": "markdown",
   "metadata": {},
   "source": [
    "### Concept 3: Lists and Indexing"
   ]
  },
  {
   "cell_type": "code",
   "execution_count": 2,
   "metadata": {},
   "outputs": [
    {
     "name": "stdout",
     "output_type": "stream",
     "text": [
      "First layer thickness: 0.15 meters\n"
     ]
    }
   ],
   "source": [
    "# Example: Store thicknesses of each layer in road construction\n",
    "\n",
    "layers = [0.15, 0.25, 0.30, 0.10]  # in meters\n",
    "\n",
    "# Accessing the first layer thickness\n",
    "print(f\"First layer thickness: {layers[0]} meters\")\n"
   ]
  },
  {
   "cell_type": "markdown",
   "metadata": {},
   "source": [
    "### Concept 4: For Loops\n"
   ]
  },
  {
   "cell_type": "code",
   "execution_count": 3,
   "metadata": {},
   "outputs": [
    {
     "name": "stdout",
     "output_type": "stream",
     "text": [
      "Total road thickness: 0.7999999999999999 meters\n"
     ]
    }
   ],
   "source": [
    "# Example: Calculate the total thickness of the road\n",
    "\n",
    "total_thickness = 0\n",
    "\n",
    "# Loop through each layer's thickness\n",
    "for layer in layers:\n",
    "    total_thickness += layer\n",
    "\n",
    "print(f\"Total road thickness: {total_thickness} meters\")\n"
   ]
  },
  {
   "cell_type": "markdown",
   "metadata": {},
   "source": [
    "### Concept 5: If-Else Statements"
   ]
  },
  {
   "cell_type": "code",
   "execution_count": 13,
   "metadata": {},
   "outputs": [
    {
     "name": "stdout",
     "output_type": "stream",
     "text": [
      "The layer2 thikness is not perfectly designed.\n"
     ]
    }
   ],
   "source": [
    "if len(layers) > 10:\n",
    "    print(\"Wrong input\")\n",
    "else:\n",
    "    if layers[0] < 0.01:\n",
    "        print(\"Layer one is not thick enough.\")\n",
    "    elif 0.1 <= layers[1] <= 1:\n",
    "        print(\"The layer2 thikness is not perfectly designed.\")"
   ]
  },
  {
   "cell_type": "markdown",
   "metadata": {},
   "source": [
    "## Session 2: Dictionaries and Functions\n"
   ]
  },
  {
   "cell_type": "markdown",
   "metadata": {},
   "source": [
    "### Concept 1: Dictionaries\n"
   ]
  },
  {
   "cell_type": "code",
   "execution_count": 4,
   "metadata": {},
   "outputs": [
    {
     "name": "stdout",
     "output_type": "stream",
     "text": [
      "Cement quantity: 500 bags\n"
     ]
    }
   ],
   "source": [
    "# Example: Store material quantities and costs in a dictionary\n",
    "\n",
    "materials = {\n",
    "    \"cement\": {\"quantity\": 500, \"unit_cost\": 5},  # bags and cost per bag\n",
    "    \"sand\": {\"quantity\": 1000, \"unit_cost\": 2},   # cubic meters and cost per cubic meter\n",
    "}\n",
    "\n",
    "# Accessing the quantity of cement\n",
    "print(f\"Cement quantity: {materials['cement']['quantity']} bags\")\n"
   ]
  },
  {
   "cell_type": "markdown",
   "metadata": {},
   "source": [
    "### Concept 2: Functions\n"
   ]
  },
  {
   "cell_type": "code",
   "execution_count": 5,
   "metadata": {},
   "outputs": [
    {
     "name": "stdout",
     "output_type": "stream",
     "text": [
      "Total cost of materials: 4500 dollars\n"
     ]
    }
   ],
   "source": [
    "# Example: Function to calculate total material costs\n",
    "\n",
    "def calculate_total_cost(materials):\n",
    "    total_cost = 0\n",
    "    for material, data in materials.items():\n",
    "        total_cost += data[\"quantity\"] * data[\"unit_cost\"]\n",
    "    return total_cost\n",
    "\n",
    "# Calculate and print total cost\n",
    "total_cost = calculate_total_cost(materials)\n",
    "print(f\"Total cost of materials: {total_cost} dollars\")\n"
   ]
  },
  {
   "cell_type": "markdown",
   "metadata": {},
   "source": [
    "## Session 3: Conditionals and Functions\n"
   ]
  },
  {
   "cell_type": "markdown",
   "metadata": {},
   "source": [
    "### Concept 1: If-Else Statements"
   ]
  },
  {
   "cell_type": "code",
   "execution_count": 6,
   "metadata": {},
   "outputs": [
    {
     "name": "stdout",
     "output_type": "stream",
     "text": [
      "Cement quantity is sufficient.\n"
     ]
    }
   ],
   "source": [
    "# Example: Check if the quantity of a material exceeds a given threshold\n",
    "\n",
    "def check_material_availability(material, threshold):\n",
    "    if materials[material][\"quantity\"] > threshold:\n",
    "        print(f\"{material.capitalize()} quantity is sufficient.\")\n",
    "    else:\n",
    "        print(f\"{material.capitalize()} quantity is low, reorder needed.\")\n",
    "\n",
    "# Check cement availability\n",
    "check_material_availability(\"cement\", 400)\n"
   ]
  },
  {
   "cell_type": "markdown",
   "metadata": {},
   "source": [
    "### Concept 2: Functions with Multiple Parameters\n"
   ]
  },
  {
   "cell_type": "code",
   "execution_count": 7,
   "metadata": {},
   "outputs": [
    {
     "name": "stdout",
     "output_type": "stream",
     "text": [
      "Total beam load: 60 kN\n"
     ]
    }
   ],
   "source": [
    "# Example: Function to calculate the load on a beam\n",
    "\n",
    "def calculate_beam_load(load_per_meter, length):\n",
    "    return load_per_meter * length\n",
    "\n",
    "# Calculate and print beam load\n",
    "beam_load = calculate_beam_load(5, 12)  # load in kN per meter, length in meters\n",
    "print(f\"Total beam load: {beam_load} kN\")\n"
   ]
  },
  {
   "cell_type": "markdown",
   "metadata": {},
   "source": [
    "## Session 4: Object-Oriented Programming (OOP)\n"
   ]
  },
  {
   "cell_type": "markdown",
   "metadata": {},
   "source": [
    "### Concept 1: Classes and Objects\n"
   ]
  },
  {
   "cell_type": "code",
   "execution_count": 8,
   "metadata": {},
   "outputs": [
    {
     "name": "stdout",
     "output_type": "stream",
     "text": [
      "Beam volume: 0.6000000000000001 cubic meters\n"
     ]
    }
   ],
   "source": [
    "# Example: Beam class with volume calculation\n",
    "\n",
    "class Beam:\n",
    "    def __init__(self, length, width, height):\n",
    "        self.length = length\n",
    "        self.width = width\n",
    "        self.height = height\n",
    "    \n",
    "    def calculate_volume(self):\n",
    "        return self.length * self.width * self.height\n",
    "\n",
    "# Create a Beam object and calculate its volume\n",
    "beam1 = Beam(5, 0.3, 0.4)\n",
    "print(f\"Beam volume: {beam1.calculate_volume()} cubic meters\")\n"
   ]
  },
  {
   "cell_type": "markdown",
   "metadata": {},
   "source": [
    "### Concept 2: Methods and Object Behavior\n"
   ]
  },
  {
   "cell_type": "code",
   "execution_count": 9,
   "metadata": {},
   "outputs": [
    {
     "name": "stdout",
     "output_type": "stream",
     "text": [
      "Beam weight: 1500.0000000000002 kg\n"
     ]
    }
   ],
   "source": [
    "# Example: Beam class with weight calculation based on density\n",
    "\n",
    "class Beam:\n",
    "    def __init__(self, length, width, height, density):\n",
    "        self.length = length\n",
    "        self.width = width\n",
    "        self.height = height\n",
    "        self.density = density\n",
    "    \n",
    "    def calculate_volume(self):\n",
    "        return self.length * self.width * self.height\n",
    "    \n",
    "    def calculate_weight(self):\n",
    "        return self.calculate_volume() * self.density\n",
    "\n",
    "# Create a Beam object and calculate its weight\n",
    "beam1 = Beam(5, 0.3, 0.4, 2500)  # Density in kg/m^3\n",
    "print(f\"Beam weight: {beam1.calculate_weight()} kg\")\n"
   ]
  },
  {
   "cell_type": "markdown",
   "metadata": {},
   "source": [
    "## Session 5: File Handling and Final Project\n"
   ]
  },
  {
   "cell_type": "markdown",
   "metadata": {},
   "source": [
    "### Concept 1: File Handling (Writing and Reading Files)\n"
   ]
  },
  {
   "cell_type": "code",
   "execution_count": 10,
   "metadata": {},
   "outputs": [
    {
     "name": "stdout",
     "output_type": "stream",
     "text": [
      "Materials report generated.\n"
     ]
    }
   ],
   "source": [
    "# Example: Write material details to a file\n",
    "\n",
    "with open(\"materials_report.txt\", \"w\") as file:\n",
    "    for material, data in materials.items():\n",
    "        file.write(f\"{material.capitalize()}: {data['quantity']} units, {data['unit_cost']} per unit\\n\")\n",
    "\n",
    "print(\"Materials report generated.\")\n"
   ]
  },
  {
   "cell_type": "markdown",
   "metadata": {},
   "source": [
    "### Concept 2: Final Project\n"
   ]
  },
  {
   "cell_type": "code",
   "execution_count": 11,
   "metadata": {},
   "outputs": [
    {
     "name": "stdout",
     "output_type": "stream",
     "text": [
      "Final project report generated.\n"
     ]
    }
   ],
   "source": [
    "# Example: Generate a final project report combining all concepts\n",
    "\n",
    "def generate_report(materials):\n",
    "    with open(\"final_report.txt\", \"w\") as file:\n",
    "        file.write(\"Construction Project Report\\n\")\n",
    "        file.write(\"Material Details:\\n\")\n",
    "        for material, data in materials.items():\n",
    "            file.write(f\"{material.capitalize()}: {data['quantity']} units, {data['unit_cost']} per unit\\n\")\n",
    "        file.write(f\"\\nTotal cost: {calculate_total_cost(materials)} dollars\\n\")\n",
    "\n",
    "generate_report(materials)\n",
    "print(\"Final project report generated.\")\n"
   ]
  },
  {
   "cell_type": "code",
   "execution_count": null,
   "metadata": {},
   "outputs": [],
   "source": []
  }
 ],
 "metadata": {
  "kernelspec": {
   "display_name": "Python 3",
   "language": "python",
   "name": "python3"
  },
  "language_info": {
   "codemirror_mode": {
    "name": "ipython",
    "version": 3
   },
   "file_extension": ".py",
   "mimetype": "text/x-python",
   "name": "python",
   "nbconvert_exporter": "python",
   "pygments_lexer": "ipython3",
   "version": "3.12.4"
  }
 },
 "nbformat": 4,
 "nbformat_minor": 2
}
