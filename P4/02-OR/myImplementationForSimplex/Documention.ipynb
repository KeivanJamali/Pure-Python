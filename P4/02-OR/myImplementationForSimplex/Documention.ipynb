{
 "cells": [
  {
   "cell_type": "code",
   "execution_count": 7,
   "metadata": {},
   "outputs": [
    {
     "name": "stdout",
     "output_type": "stream",
     "text": [
      "[INFO] Add slack\n",
      "[INFO] Add slack\n",
      "[INFO] Add slack\n",
      "[INFO] Parameter x1 remains same.\n",
      "[INFO] Parameter x2 remains same.\n",
      "[INFO] Parameter x3 remains same.\n"
     ]
    },
    {
     "data": {
      "text/plain": [
       "| B.V                  | R.H.S                | x1                   | x2                   | x3                   | s1                   | s2                   | s3                   |\n",
       "|----------------------|----------------------|----------------------|----------------------|----------------------|----------------------|----------------------|----------------------|\n",
       "| s1                   | 240                  | 2                    | 1                    | 1                    | 1                    | 0                    | 0                    |\n",
       "| s2                   | 360                  | 1                    | 3                    | 2                    | 0                    | 1                    | 0                    |\n",
       "| s3                   | 300                  | 2                    | 1                    | 2                    | 0                    | 0                    | 1                    |\n",
       "| -z                   | 0                    | 6                    | 5                    | 4                    | 0                    | 0                    | 0                    |\n",
       "| -------------------- | -------------------- | -------------------- | -------------------- | -------------------- | -------------------- | -------------------- | -------------------- |"
      ]
     },
     "execution_count": 7,
     "metadata": {},
     "output_type": "execute_result"
    }
   ],
   "source": [
    "from Simplextep import Problem_Prepration\n",
    "\n",
    "# Define your problem here\n",
    "objective_function = [0, 6, 5, 4]\n",
    "constraints = [[240 , 2, 1, 1], [360 , 1, 3, 2], [300 , 2, 1, 2]]\n",
    "equality = [\"leq\", \"leq\", \"leq\"]\n",
    "parameters = [(\"x1\", \"+\"), (\"x2\", \"+\"), (\"x3\", \"+\")]\n",
    "problem = Problem_Prepration(objective_function = objective_function, \n",
    "                            constraints = constraints,\n",
    "                            equality = equality,\n",
    "                            parameters = parameters,\n",
    "                            mode =\"max\")\n",
    "problem"
   ]
  },
  {
   "cell_type": "code",
   "execution_count": null,
   "metadata": {},
   "outputs": [
    {
     "name": "stdout",
     "output_type": "stream",
     "text": [
      "[INFO] One phase solution\n",
      "Finished.\n",
      "|    |   R.H.S |   x1 |   x2 |   x3 |   s1 |   s2 |   s3 |\n",
      "|----|---------|------|------|------|------|------|------|\n",
      "|  0 |   912.0 | 72.0 | 96.0 |  0.0 |  0.0 |  0.0 | 60.0 |\n",
      "\n",
      "\\begin{tabular}{llllllll}\n",
      "\\hline\n",
      " B.V                  & R.H.S                & x1                   & x2                   & x3                   & s1                   & s2                   & s3                   \\\\\n",
      "\\hline\n",
      " s1                   & 240.0                & 2.0                  & 1.0                  & 1.0                  & 1.0                  & 0.0                  & 0.0                  \\\\\n",
      " s2                   & 360.0                & 1.0                  & 3.0                  & 2.0                  & 0.0                  & 1.0                  & 0.0                  \\\\\n",
      " s3                   & 300.0                & 2.0                  & 1.0                  & 2.0                  & 0.0                  & 0.0                  & 1.0                  \\\\\n",
      " -z1                  & 0.0                  & 6.0                  & 5.0                  & 4.0                  & 0.0                  & 0.0                  & 0.0                  \\\\\n",
      " -------------------- & -------------------- & -------------------- & -------------------- & -------------------- & -------------------- & -------------------- & -------------------- \\\\\n",
      " x1                   & 120.0                & 1.0                  & 0.5                  & 0.5                  & 0.5                  & 0.0                  & 0.0                  \\\\\n",
      " s2                   & 240.0                & 0.0                  & 2.5                  & 1.5                  & -0.5                 & 1.0                  & 0.0                  \\\\\n",
      " s3                   & 60.0                 & 0.0                  & 0.0                  & 1.0                  & -1.0                 & 0.0                  & 1.0                  \\\\\n",
      " -z2                  & -720.0               & 0.0                  & 2.0                  & 1.0                  & -3.0                 & 0.0                  & 0.0                  \\\\\n",
      " -------------------- & -------------------- & -------------------- & -------------------- & -------------------- & -------------------- & -------------------- & -------------------- \\\\\n",
      " x1                   & 72.0                 & 1.0                  & 0.0                  & 0.2                  & 0.6                  & -0.2                 & 0.0                  \\\\\n",
      " x2                   & 96.0                 & 0.0                  & 1.0                  & 0.6                  & -0.2                 & 0.4                  & 0.0                  \\\\\n",
      " s3                   & 60.0                 & 0.0                  & 0.0                  & 1.0                  & -1.0                 & 0.0                  & 1.0                  \\\\\n",
      " -z3                  & -912.0               & 0.0                  & 0.0                  & -0.2                 & -2.6                 & -0.8                 & 0.0                  \\\\\n",
      " -------------------- & -------------------- & -------------------- & -------------------- & -------------------- & -------------------- & -------------------- & -------------------- \\\\\n",
      "\\hline\n",
      "\\end{tabular}\n",
      "\n"
     ]
    },
    {
     "data": {
      "application/vnd.microsoft.datawrangler.viewer.v0+json": {
       "columns": [
        {
         "name": "index",
         "rawType": "int64",
         "type": "integer"
        },
        {
         "name": "R.H.S",
         "rawType": "float64",
         "type": "float"
        },
        {
         "name": "x1",
         "rawType": "float64",
         "type": "float"
        },
        {
         "name": "x2",
         "rawType": "float64",
         "type": "float"
        },
        {
         "name": "x3",
         "rawType": "int64",
         "type": "integer"
        },
        {
         "name": "s1",
         "rawType": "int64",
         "type": "integer"
        },
        {
         "name": "s2",
         "rawType": "int64",
         "type": "integer"
        },
        {
         "name": "s3",
         "rawType": "float64",
         "type": "float"
        }
       ],
       "conversionMethod": "pd.DataFrame",
       "ref": "66914e9c-c769-4f60-9b7e-85aab900983f",
       "rows": [
        [
         "0",
         "912.0",
         "72.0",
         "96.0",
         "0",
         "0",
         "0",
         "60.0"
        ]
       ],
       "shape": {
        "columns": 7,
        "rows": 1
       }
      },
      "text/html": [
       "<div>\n",
       "<style scoped>\n",
       "    .dataframe tbody tr th:only-of-type {\n",
       "        vertical-align: middle;\n",
       "    }\n",
       "\n",
       "    .dataframe tbody tr th {\n",
       "        vertical-align: top;\n",
       "    }\n",
       "\n",
       "    .dataframe thead th {\n",
       "        text-align: right;\n",
       "    }\n",
       "</style>\n",
       "<table border=\"1\" class=\"dataframe\">\n",
       "  <thead>\n",
       "    <tr style=\"text-align: right;\">\n",
       "      <th></th>\n",
       "      <th>R.H.S</th>\n",
       "      <th>x1</th>\n",
       "      <th>x2</th>\n",
       "      <th>x3</th>\n",
       "      <th>s1</th>\n",
       "      <th>s2</th>\n",
       "      <th>s3</th>\n",
       "    </tr>\n",
       "  </thead>\n",
       "  <tbody>\n",
       "    <tr>\n",
       "      <th>0</th>\n",
       "      <td>912.0</td>\n",
       "      <td>72.0</td>\n",
       "      <td>96.0</td>\n",
       "      <td>0</td>\n",
       "      <td>0</td>\n",
       "      <td>0</td>\n",
       "      <td>60.0</td>\n",
       "    </tr>\n",
       "  </tbody>\n",
       "</table>\n",
       "</div>"
      ],
      "text/plain": [
       "   R.H.S    x1    x2  x3  s1  s2    s3\n",
       "0  912.0  72.0  96.0   0   0   0  60.0"
      ]
     },
     "execution_count": 9,
     "metadata": {},
     "output_type": "execute_result"
    }
   ],
   "source": [
    "from Simplextep import Simplex\n",
    "\n",
    "simplex = Simplex(problem)\n",
    "solution = simplex.fit()\n",
    "print()\n",
    "simplex.make_table(format_=\"latex\") # View the steps and previous tables\n",
    "print()"
   ]
  },
  {
   "cell_type": "code",
   "execution_count": 15,
   "metadata": {},
   "outputs": [
    {
     "data": {
      "text/plain": [
       "np.float64(72.0)"
      ]
     },
     "execution_count": 15,
     "metadata": {},
     "output_type": "execute_result"
    }
   ],
   "source": [
    "simplex.result[\"x1\"][0]"
   ]
  },
  {
   "cell_type": "code",
   "execution_count": 95,
   "metadata": {},
   "outputs": [
    {
     "data": {
      "image/png": "[encoded data removed]",
      "text/plain": [
       "<Figure size 640x480 with 1 Axes>"
      ]
     },
     "metadata": {},
     "output_type": "display_data"
    },
    {
     "name": "stdout",
     "output_type": "stream",
     "text": [
      "[[0, 912.0], [-159.99999999999997, 1200.0], [-359.99999999999994, -4.547473508864641e-13], [90.0, 750.0], [240.0, -0.0]]\n",
      "{'x1': 0, 'x2': 0, 'x3': 0.20000000000000018, 's1': 2.6, 's2': 0.8, 's3': 0}\n"
     ]
    }
   ],
   "source": [
    "from Simplextep import Sensitivity_Analysis\n",
    "\n",
    "analysis = Sensitivity_Analysis(simplex)\n",
    "analysis.change_righthand(righthands_at_first=[-1, 1, 0, 0])\n",
    "# Analyze changes in right - hand side\n",
    "print(analysis.righthand_nodes) # If needed.\n",
    "\n",
    "analysis.make_shadow_prices()\n",
    "print(analysis.shadow_prices)"
   ]
  },
  {
   "cell_type": "code",
   "execution_count": null,
   "metadata": {},
   "outputs": [
    {
     "name": "stdout",
     "output_type": "stream",
     "text": [
      "[INFO] Dual Problem setting is set successfully.\n",
      "| Basic Variables   | Current Values   | ('Y1', '+')     | ('Y2', '+')     | ('Y3', 'n')     |\n",
      "|-------------------|------------------|-----------------|-----------------|-----------------|\n",
      "| s                 | -6               | -2              | -1              | -2              |\n",
      "| s                 | -5               | -1              | -3              | -1              |\n",
      "| s                 | -4               | -1              | -2              | -2              |\n",
      "| -z                | 0                | 240             | 360             | 300             |\n",
      "| ---------------   | ---------------  | --------------- | --------------- | --------------- |\n",
      "[INFO] Add excess & artificial\n",
      "[INFO] Add excess & artificial\n",
      "[INFO] Add excess & artificial\n",
      "[INFO] Parameter Y1 remains same.\n",
      "[INFO] Parameter Y2 remains same.\n",
      "[INFO] Parameter Y3 changed to Y3' and Y3''(Y3 = Y3' - Y3'')\n",
      "[INFO] Dual New Problem had been made successfully.\n"
     ]
    }
   ],
   "source": [
    "from Simplextep import Dual\n",
    "\n",
    "objective_function = [0, 6, 5, 4]\n",
    "constraints = [[240 , 2, 1, 1], [360 , 1, 3, 2], [300 , 2, 1, 2]]\n",
    "equality = [\"leq\", \"leq\", \"eq\"]\n",
    "parameters = [(\"x1\", \"+\"), (\"x2\", \"+\"), (\"x3\", \"+\")]\n",
    "mode = \"max\"\n",
    "\n",
    "dual_problem = Dual(objective_function,\n",
    "                    constraints,\n",
    "                    equality,\n",
    "                    parameters,\n",
    "                    mode)\n",
    "print(dual_problem)\n",
    "\n",
    "dual_problem.fit()"
   ]
  },
  {
   "cell_type": "code",
   "execution_count": 37,
   "metadata": {},
   "outputs": [
    {
     "name": "stdout",
     "output_type": "stream",
     "text": [
      "[INFO] Dual Problem setting is set successfully.\n",
      "| Basic Variables   | Current Values   | ('Y1', '+')     | ('Y2', 'n')     |\n",
      "|-------------------|------------------|-----------------|-----------------|\n",
      "| s                 | -2               | -1              | -1              |\n",
      "| s                 | -1               | -1              | 1               |\n",
      "| -z                | 0                | 4               | 2               |\n",
      "| ---------------   | ---------------  | --------------- | --------------- |\n",
      "[INFO] Add excess & artificial\n",
      "[INFO] Add excess & artificial\n",
      "[INFO] Parameter Y1 remains same.\n",
      "[INFO] Parameter Y2 changed to Y2' and Y2''(Y2 = Y2' - Y2'')\n",
      "[INFO] Dual New Problem had been made successfully.\n",
      "[INFO] Two phase solution\n",
      "[INFO] Phase I starts | Finished\n",
      "[INFO] Phase II Starts | Finished.\n",
      "|    |   Current Values |   Y1 |   Y2' |   e1 |   y1 |   e2 |   y2 |   Y2'' |\n",
      "|----|------------------|------|-------|------|------|------|------|--------|\n",
      "|  0 |              7.0 |  1.5 |   0.5 |  0.0 |  0.0 |  0.0 |  0.0 |    0.0 |\n"
     ]
    }
   ],
   "source": [
    "from Simplextep import Dual, Simplex\n",
    "objective_function = [0, 2, 1]\n",
    "constraints = [[4 , 1, 1], [2, 1, -1]]\n",
    "equality = [\"ineq\", \"eq\"]\n",
    "parameters = [(\"x1\", \"+\"), (\"x2\", \"+\")]\n",
    "mode = \"max\"\n",
    "dual_problem = Dual (objective_function,\n",
    "                     constraints,\n",
    "                     equality,\n",
    "                     parameters,\n",
    "                     mode)\n",
    "print(dual_problem)\n",
    "dual_problem.fit()\n",
    "simplex = Simplex(problem=dual_problem.problem)\n",
    "simplex.fit(max_iterations=10)"
   ]
  }
 ],
 "metadata": {
  "kernelspec": {
   "display_name": "Python 3",
   "language": "python",
   "name": "python3"
  },
  "language_info": {
   "codemirror_mode": {
    "name": "ipython",
    "version": 3
   },
   "file_extension": ".py",
   "mimetype": "text/x-python",
   "name": "python",
   "nbconvert_exporter": "python",
   "pygments_lexer": "ipython3",
   "version": "3.12.1"
  }
 },
 "nbformat": 4,
 "nbformat_minor": 2
}
