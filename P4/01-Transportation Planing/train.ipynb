{
 "cells": [
  {
   "cell_type": "code",
   "execution_count": 61,
   "metadata": {},
   "outputs": [],
   "source": [
    "import sympy as sp"
   ]
  },
  {
   "cell_type": "code",
   "execution_count": 112,
   "metadata": {},
   "outputs": [],
   "source": [
    "Eb = sp.Matrix([70, 100, 300, 50]).T\n",
    "H = sp.Matrix([[0.679, 0.077, 0.059, 0.057],\n",
    "[0.041, 0.529, 0.241, 0.104],\n",
    "[0.059, 0.349, 0.501, 0.372],\n",
    "[0.057, 0.080, 0.199, 0.467]])\n",
    "S = sp.Matrix([[0.313, 0.065, 0.579, 0.043],\n",
    "[0.011, 0.253, 0.713, 0.023],\n",
    "[0.013, 0.95, 0.845, 0.048],\n",
    "[0.016, 0.052, 0.792, 0.141]])\n",
    "N = 3090\n",
    "E = 1200\n",
    "Es = 680\n",
    "I = sp.Matrix([[1, 0, 0, 0],\n",
    "[0, 1, 0, 0],\n",
    "[0, 0, 1, 0],\n",
    "[0, 0, 0, 1]])\n",
    "R = (N/E) * I\n",
    "Q = (Es/N) * I\n",
    "Es = Eb\n",
    "\n",
    "res = Eb * (I-H*R*Q*S)**(-1)\n",
    "\n",
    "i = 40\n",
    "total_p = sp.Matrix([[0, 0, 0, 0]])\n",
    "total_es = total_p\n",
    "for _ in range(i):\n",
    "    Pb = Es * H * R\n",
    "    total_p += Pb\n",
    "    Es = Pb * Q * S\n",
    "    total_es += Es"
   ]
  },
  {
   "cell_type": "code",
   "execution_count": 122,
   "metadata": {},
   "outputs": [
    {
     "data": {
      "text/latex": [
       "$\\displaystyle \\left[\\begin{matrix}- \\frac{2}{3} & - \\frac{4}{3} & 1\\\\- \\frac{2}{3} & \\frac{11}{3} & -2\\\\1 & -2 & 1\\end{matrix}\\right]$"
      ],
      "text/plain": [
       "Matrix([\n",
       "[-2/3, -4/3,  1],\n",
       "[-2/3, 11/3, -2],\n",
       "[   1,   -2,  1]])"
      ]
     },
     "execution_count": 122,
     "metadata": {},
     "output_type": "execute_result"
    }
   ],
   "source": [
    "m = [[1, 2, 3],\n",
    "     [4, 5, 6],\n",
    "     [7, 8, 10]]\n",
    "m = sp.Matrix(m)\n",
    "m.inv()"
   ]
  },
  {
   "cell_type": "code",
   "execution_count": 107,
   "metadata": {},
   "outputs": [
    {
     "data": {
      "text/latex": [
       "$\\displaystyle \\left[\\begin{matrix}0.0534463256393155 & 0.307270252528231 & 0.306843180628525 & 0.220425751178989\\end{matrix}\\right]$"
      ],
      "text/plain": [
       "Matrix([[0.0534463256393155, 0.307270252528231, 0.306843180628525, 0.220425751178989]])"
      ]
     },
     "execution_count": 107,
     "metadata": {},
     "output_type": "execute_result"
    }
   ],
   "source": [
    "Pb"
   ]
  },
  {
   "cell_type": "code",
   "execution_count": 108,
   "metadata": {},
   "outputs": [
    {
     "data": {
      "text/latex": [
       "$\\displaystyle \\left[\\begin{matrix}618.928878911345 & 2840.44828069823 & 2898.21866911356 & 2120.41737350463\\end{matrix}\\right]$"
      ],
      "text/plain": [
       "Matrix([[618.928878911345, 2840.44828069823, 2898.21866911356, 2120.41737350463]])"
      ]
     },
     "execution_count": 108,
     "metadata": {},
     "output_type": "execute_result"
    }
   ],
   "source": [
    "total_p"
   ]
  },
  {
   "cell_type": "code",
   "execution_count": 109,
   "metadata": {},
   "outputs": [
    {
     "data": {
      "text/latex": [
       "$\\displaystyle \\left[\\begin{matrix}65.2652976653099 & 797.169772567538 & 1433.05373804725 & 116.642578207436\\end{matrix}\\right]$"
      ],
      "text/plain": [
       "Matrix([[65.2652976653099, 797.169772567538, 1433.05373804725, 116.642578207436]])"
      ]
     },
     "execution_count": 109,
     "metadata": {},
     "output_type": "execute_result"
    }
   ],
   "source": [
    "total_es"
   ]
  },
  {
   "cell_type": "code",
   "execution_count": null,
   "metadata": {},
   "outputs": [],
   "source": []
  }
 ],
 "metadata": {
  "kernelspec": {
   "display_name": "Python 3",
   "language": "python",
   "name": "python3"
  },
  "language_info": {
   "codemirror_mode": {
    "name": "ipython",
    "version": 3
   },
   "file_extension": ".py",
   "mimetype": "text/x-python",
   "name": "python",
   "nbconvert_exporter": "python",
   "pygments_lexer": "ipython3",
   "version": "3.12.1"
  }
 },
 "nbformat": 4,
 "nbformat_minor": 2
}
