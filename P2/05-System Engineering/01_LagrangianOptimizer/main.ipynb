{
 "cells": [
  {
   "cell_type": "code",
   "execution_count": 1,
   "id": "initial_id",
   "metadata": {
    "collapsed": true,
    "ExecuteTime": {
     "end_time": "2024-02-26T19:48:32.224075200Z",
     "start_time": "2024-02-26T19:48:29.901183200Z"
    }
   },
   "outputs": [],
   "source": [
    "%load_ext autoreload\n",
    "%autoreload 2\n",
    "from LagrangianOptimizer import LagrangianOptimizer\n"
   ]
  },
  {
   "cell_type": "markdown",
   "source": [
    "# Page 17"
   ],
   "metadata": {
    "collapsed": false
   },
   "id": "5bf2fdb11fd46eba"
  },
  {
   "cell_type": "code",
   "outputs": [
    {
     "name": "stdout",
     "output_type": "stream",
     "text": [
      "| Parameters    |       Value |\n",
      "|---------------|-------------|\n",
      "| x1            |         800 |\n",
      "| x2            |         750 |\n",
      "| x3            |       387.5 |\n",
      "| x4            |         500 |\n",
      "| s1            | 1.11792e-12 |\n",
      "| s2            | 1.05223e-12 |\n",
      "| s3            |       212.5 |\n",
      "| s4            | 3.50784e-13 |\n",
      "| Optimal value |      -64625 |\n"
     ]
    }
   ],
   "source": [
    "from constraints_q1 import constraints, types\n",
    "\n",
    "\n",
    "def objective_function(x_s):\n",
    "    x = x_s[:4]\n",
    "    s = x_s[4:]\n",
    "    return -(30 * x[0] + 40 * x[1] + 20 * x[2] + 10 * x[3] - 15 * s[0] - 20 * s[1] - 10 * s[2] - 8 * s[3])\n",
    "\n",
    "\n",
    "optimizer_q1 = LagrangianOptimizer(number_of_parameter=8)\n",
    "optimizer_q1.set_boundaries([0] * 8, [None] * 8)\n",
    "optimizer_q1.build_constrains(types=types, constraints=constraints)\n",
    "result = optimizer_q1.optimize(objective_function, method=\"SLSQP\")\n",
    "optimizer_q1.result_table(parameters=[\"x1\", \"x2\", \"x3\", \"x4\", \"s1\", \"s2\", \"s3\", \"s4\"])"
   ],
   "metadata": {
    "collapsed": false,
    "ExecuteTime": {
     "end_time": "2024-02-16T23:07:54.695605100Z",
     "start_time": "2024-02-16T23:07:54.542837700Z"
    }
   },
   "id": "a2a7d62ab122fe0a",
   "execution_count": 29
  },
  {
   "cell_type": "markdown",
   "source": [
    "# Page 22"
   ],
   "metadata": {
    "collapsed": false
   },
   "id": "3563b9e7ee142c4"
  },
  {
   "cell_type": "code",
   "outputs": [
    {
     "name": "stdout",
     "output_type": "stream",
     "text": [
      "| Parameters    |   Value |\n",
      "|---------------|---------|\n",
      "| x1            |      50 |\n",
      "| x2            |      50 |\n",
      "| x3            |      45 |\n",
      "| x4            |      45 |\n",
      "| sp1           |       0 |\n",
      "| sp2           |       0 |\n",
      "| sp3           |       5 |\n",
      "| sp4           |       0 |\n",
      "| sn1           |      50 |\n",
      "| sn2           |       0 |\n",
      "| sn3           |       0 |\n",
      "| sn4           |       0 |\n",
      "| i1            |     100 |\n",
      "| i2            |       0 |\n",
      "| i3            |      50 |\n",
      "| Optimal value |   19500 |\n"
     ]
    }
   ],
   "source": [
    "from constraints_q2 import constraints, types\n",
    "\n",
    "\n",
    "def objective_function(x_s_i):\n",
    "    x = x_s_i[:4]\n",
    "    sp = x_s_i[4:8]\n",
    "    sn = x_s_i[8:12]\n",
    "    i = x_s_i[12:]\n",
    "    return 50 * (i[0] + i[1] + i[2]) + 200 * (sn[0] + sn[1] + sn[2] + sn[3]) + 400 * (sp[0] + sp[1] + sp[2] + sp[3])\n",
    "\n",
    "\n",
    "optimizer_q2 = LagrangianOptimizer(number_of_parameter=15)\n",
    "optimizer_q2.set_boundaries([0] * 15, [None] * 15)\n",
    "optimizer_q2.build_constrains(types=types, constraints=constraints)\n",
    "optimizer_q2.optimize(objective_function, method=\"SLSQP\")\n",
    "optimizer_q2.result_table(\n",
    "    parameters=[\"x1\", \"x2\", \"x3\", \"x4\", \"sp1\", \"sp2\", \"sp3\", \"sp4\", \"sn1\", \"sn2\", \"sn3\", \"sn4\", \"i1\", \"i2\", \"i3\"])"
   ],
   "metadata": {
    "collapsed": false,
    "ExecuteTime": {
     "end_time": "2024-02-16T23:07:56.748724600Z",
     "start_time": "2024-02-16T23:07:56.659356200Z"
    }
   },
   "id": "cd37068136884b",
   "execution_count": 30
  },
  {
   "cell_type": "markdown",
   "source": [
    "# Page 15"
   ],
   "metadata": {
    "collapsed": false
   },
   "id": "2e2675bcd93ede7c"
  },
  {
   "cell_type": "code",
   "outputs": [
    {
     "name": "stdout",
     "output_type": "stream",
     "text": [
      "| Parameters    |   Value |\n",
      "|---------------|---------|\n",
      "| x1            |       0 |\n",
      "| x2            |       0 |\n",
      "| x3            |      25 |\n",
      "| x4            |       0 |\n",
      "| x5            |     100 |\n",
      "| x6            |   137.5 |\n",
      "| Optimal value |     400 |\n"
     ]
    }
   ],
   "source": [
    "from constraints_q3 import constraints, types\n",
    "\n",
    "\n",
    "def objective_function(x):\n",
    "    return 20 * sum(x) - 5 * 150 - 7 * 200 - 9 * 300\n",
    "\n",
    "\n",
    "optimizer_q3 = LagrangianOptimizer(number_of_parameter=6)\n",
    "optimizer_q3.set_boundaries([0] * 6, [None] * 6)\n",
    "optimizer_q3.build_constrains(types=types, constraints=constraints)\n",
    "optimizer_q3.optimize(objective_function, method=\"SLSQP\")\n",
    "optimizer_q3.result_table(\n",
    "    parameters=[\"x1\", \"x2\", \"x3\", \"x4\", \"x5\", \"x6\"])"
   ],
   "metadata": {
    "collapsed": false,
    "ExecuteTime": {
     "end_time": "2024-02-16T23:17:54.017639400Z",
     "start_time": "2024-02-16T23:17:53.889218900Z"
    }
   },
   "id": "d3b530cc25a7ae58",
   "execution_count": 37
  },
  {
   "cell_type": "markdown",
   "source": [
    "# Page 13"
   ],
   "metadata": {
    "collapsed": false
   },
   "id": "197e031fb11ac662"
  },
  {
   "cell_type": "code",
   "outputs": [
    {
     "name": "stdout",
     "output_type": "stream",
     "text": [
      "| Parameters    |       Value |\n",
      "|---------------|-------------|\n",
      "| x_A1          |       10000 |\n",
      "| x_A2          |           0 |\n",
      "| x_A3          |       14000 |\n",
      "| x_A4          |           0 |\n",
      "| x_B1          |           0 |\n",
      "| x_B2          | 1.24882e-15 |\n",
      "| x_B3          |           0 |\n",
      "| x_B4          |           0 |\n",
      "| r1            | 4.66222e-16 |\n",
      "| r2            | 1.06029e-16 |\n",
      "| r3            | 1.35849e-16 |\n",
      "| r4            |           0 |\n",
      "| Optimal value |       19600 |\n"
     ]
    }
   ],
   "source": [
    "from constraints_q4 import types, constraints\n",
    "\n",
    "\n",
    "def objective_function(x):\n",
    "    x_a = x[:4]\n",
    "    x_b = x[4:8]\n",
    "    r = x[8:]\n",
    "    return -(r[3] + 1.7 * (x_b[1]) + 1.4 * (x_a[2]))\n",
    "\n",
    "\n",
    "optimizer_q4 = LagrangianOptimizer(number_of_parameter=12)\n",
    "optimizer_q4.set_boundaries([0] * 12, [None] * 12)\n",
    "optimizer_q4.build_constrains(types=types, constraints=constraints)\n",
    "optimizer_q4.optimize(objective_function, method=\"SLSQP\")\n",
    "optimizer_q4.result_table(\n",
    "    parameters=[\"x_A1\", \"x_A2\", \"x_A3\", \"x_A4\", \"x_B1\", \"x_B2\", \"x_B3\", \"x_B4\", \"r1\", \"r2\", \"r3\", \"r4\"])"
   ],
   "metadata": {
    "collapsed": false,
    "ExecuteTime": {
     "end_time": "2024-02-16T23:29:13.520320400Z",
     "start_time": "2024-02-16T23:29:13.042064100Z"
    }
   },
   "id": "8d34d47ac2a4c064",
   "execution_count": 41
  },
  {
   "cell_type": "code",
   "outputs": [
    {
     "name": "stdout",
     "output_type": "stream",
     "text": [
      "| Parameters    |      Value |\n",
      "|---------------|------------|\n",
      "| x_1           |      24096 |\n",
      "| x_2           | 8.2224e-05 |\n",
      "| x_3           |    34507.7 |\n",
      "| y_A1          |  0.0711579 |\n",
      "| y_A2          |   0.593278 |\n",
      "| y_A3          |   0.068564 |\n",
      "| y_B1          |   0.720092 |\n",
      "| y_B2          |          0 |\n",
      "| y_B3          |   0.431037 |\n",
      "| y_c1          |    0.20875 |\n",
      "| y_c2          |   0.406768 |\n",
      "| y_c3          |   0.500399 |\n",
      "| Optimal value |     332989 |\n"
     ]
    }
   ],
   "source": [
    "from constraints_q5 import types, constraints\n",
    "\n",
    "\n",
    "def objective_function(x_y):\n",
    "    x = x_y[:3]\n",
    "    y_a = x_y[3:6]\n",
    "    y_b = x_y[6:9]\n",
    "    y_c = x_y[9:12]\n",
    "    return -((7.9 * x[0] + 6.9 * x[1] + 5 * x[2]) - ((y_a[0] * x[0] + y_a[1] * x[1] + y_a[2] * x[2]) * 0.6 + (\n",
    "            y_b[0] * x[0] + y_b[1] * x[1] + y_b[2] * x[2]) * 0.52 + (\n",
    "                                                               y_c[0] * x[0] + y_c[1] * x[1] + y_c[2] * x[2]) * 0.48))\n",
    "\n",
    "\n",
    "optimizer_q4 = LagrangianOptimizer(number_of_parameter=12)\n",
    "optimizer_q4.set_boundaries([0] * 12, [None, None, None, 1, 1, 1, 1, 1, 1, 1, 1, 1])\n",
    "optimizer_q4.build_constrains(types=types, constraints=constraints)\n",
    "optimizer_q4.optimize(objective_function, method=\"SLSQP\")\n",
    "optimizer_q4.result_table(\n",
    "    parameters=[\"x_1\", \"x_2\", \"x_3\", \"y_A1\", \"y_A2\", \"y_A3\", \"y_B1\", \"y_B2\", \"y_B3\", \"y_c1\", \"y_c2\", \"y_c3\"])"
   ],
   "metadata": {
    "collapsed": false,
    "ExecuteTime": {
     "end_time": "2024-02-26T20:03:20.901411700Z",
     "start_time": "2024-02-26T20:03:20.625967300Z"
    }
   },
   "id": "47c0d52abe64df8c",
   "execution_count": 10
  },
  {
   "cell_type": "code",
   "outputs": [],
   "source": [],
   "metadata": {
    "collapsed": false
   },
   "id": "ccfe53e78738e386"
  }
 ],
 "metadata": {
  "kernelspec": {
   "display_name": "Python 3",
   "language": "python",
   "name": "python3"
  },
  "language_info": {
   "codemirror_mode": {
    "name": "ipython",
    "version": 2
   },
   "file_extension": ".py",
   "mimetype": "text/x-python",
   "name": "python",
   "nbconvert_exporter": "python",
   "pygments_lexer": "ipython2",
   "version": "2.7.6"
  }
 },
 "nbformat": 4,
 "nbformat_minor": 5
}
