{
 "cells": [
  {
   "cell_type": "code",
   "execution_count": 1,
   "id": "7df61272",
   "metadata": {},
   "outputs": [],
   "source": [
    "from modular.Multirun_Engine import Queue_Program\n",
    "from modular.Individual_Engine import Queue\n",
    "from modular.Number_Generator import Exponential_Generator\n",
    "from Simulation_ToolKit import Validation\n",
    "from modular_old.main import main\n"
   ]
  },
  {
   "cell_type": "markdown",
   "id": "646a7454",
   "metadata": {},
   "source": [
    "# Chapter 3: Running the Simulations and Comparing Results\n",
    "\n",
    "## Overview\n",
    "In this chapter, we will run the SimPy implementations of our two homework problems, compare their results with the original solutions done in plain Python and Arena Rockwell, and discuss performance and flexibility benefits.\n",
    "\n",
    "---\n"
   ]
  },
  {
   "cell_type": "code",
   "execution_count": null,
   "id": "4494a8a7",
   "metadata": {},
   "outputs": [],
   "source": []
  },
  {
   "cell_type": "markdown",
   "id": "a75966e2",
   "metadata": {},
   "source": [
    "---\n",
    "\n",
    "### ⚔️ Python vs SimPy: Battle of the Queues! 🐍⏱️\n",
    "\n",
    "---"
   ]
  },
  {
   "cell_type": "code",
   "execution_count": null,
   "id": "42b0b4fe",
   "metadata": {},
   "outputs": [],
   "source": [
    "model = main(policy=\"FCFS\",\n",
    "             stop_type=\"Customer\",\n",
    "             stop_limit=1000,\n",
    "             queue_type=\"MMI\",\n",
    "             plot_it=False)"
   ]
  },
  {
   "cell_type": "code",
   "execution_count": null,
   "id": "c570a7f4",
   "metadata": {},
   "outputs": [],
   "source": [
    "arrival_gen = Exponential_Generator(seed=42, mean=5)\n",
    "service_time_gen = Exponential_Generator(seed=42, mean=4)\n",
    "    \n",
    "def FCFS_policy(customers_in_waitlist) -> int:\n",
    "    id = customers_in_waitlist.pop(0)[0]\n",
    "    return id\n",
    "\n",
    "def SPT_policy(customers_in_waitlist) -> int:\n",
    "    customers_in_waitlist.sort(key=lambda c: c[1][\"service_time\"])\n",
    "    id = customers_in_waitlist.pop(0)[0]\n",
    "    return id\n",
    "\n",
    "model1 = Queue(arrival_gen=arrival_gen,\n",
    "               service_time_gen=service_time_gen,\n",
    "               sim_customer_limit=1000,\n",
    "               capacity=1)\n",
    "model1.run(policy=FCFS_policy, detailed=False)"
   ]
  },
  {
   "cell_type": "markdown",
   "id": "bb5bf934",
   "metadata": {},
   "source": [
    "---\n",
    "\n",
    "---\n",
    "\n",
    "---\n",
    "\n",
    "🚀 **Let’s see how our old Python code stacks up against the new SimPy version!** 🚀\n",
    "\n",
    "We ran both models with the **same inputs** to compare their performance — focusing on **execution speed** and **code complexity** (measured by lines of code).\n",
    "Because both models give **accurate results**, we’ll only highlight these two key metrics today. 🎯\n",
    "\n",
    "Ready to see who wins? 🏆👇\n",
    "\n",
    "\n",
    "| **Criteria**          | **Pure Python**        | **SimPy**             |\n",
    "|-----------------------|----------------------------------|---------------------------------|\n",
    "| **Customers Simulated**| 1,000 / 20,000                   | 1,000 / 20,000                  |\n",
    "| **Execution Time (sec)**| 0.0 / 14                        | **0.0 / 0.7**                  |\n",
    "| **Code Length (lines)**| ~700                            | **~300**                       |\n",
    "\n",
    "🎉 **What a difference!** 🎉\n",
    "\n",
    "The SimPy implementation runs **many times faster** and uses **less than half the code**, making it easier to maintain and expand. 💡\n",
    "\n",
    "This shows how powerful simulation libraries can help us write cleaner, faster, and more scalable code — all while keeping full control over our models. 🧙‍♂️✨\n",
    "\n",
    "---\n",
    "\n",
    "---\n",
    "\n",
    "---"
   ]
  },
  {
   "cell_type": "code",
   "execution_count": null,
   "id": "5983644c",
   "metadata": {},
   "outputs": [],
   "source": []
  },
  {
   "cell_type": "markdown",
   "id": "0baebb81",
   "metadata": {},
   "source": [
    "---\n",
    "\n",
    "### 🎮 Arena vs SimPy: Simulation Showdown! 🏁⚡\n",
    "\n",
    "---\n"
   ]
  },
  {
   "cell_type": "markdown",
   "id": "c2289583",
   "metadata": {},
   "source": [
    "<video width=\"640\" height=\"360\" controls>\n",
    "  <source src=\"Rec_with_sound.mp4\" type=\"video/mp4\">\n",
    "  Your browser does not support the video tag.\n",
    "</video>\n"
   ]
  },
  {
   "cell_type": "markdown",
   "id": "2fe4e29d",
   "metadata": {},
   "source": [
    "---\n",
    "\n",
    "---\n",
    "\n",
    "---\n",
    "\n",
    "🚀 **Ready for the ultimate showdown?**\n",
    "Let’s see how Arena stacks up against SimPy in terms of **speed** and **code simplicity**!\n",
    "Will the classic simulation heavyweight be faster, or will the Pythonic SimPy steal the show? 🐍⚔️\n",
    "\n",
    "| Simulation Tool | Arena      | SimPy   |\n",
    "| --------------- | ---------- | ------- |\n",
    "| ⏳ Run Time      | 19 seconds | 0.7 sec |\n",
    "| 📝 Code Length  | Very Large | \\~300   |\n",
    "\n",
    "🔥 **Wow! Look at that difference!**\n",
    "SimPy is blazing fast ⚡ and much leaner in code length — making your simulations not just quicker, but easier to build and maintain.\n",
    "Meanwhile, Arena, though popular, can get pretty bulky and slow for larger runs. 😓\n",
    "\n",
    "💡 *This is why learning SimPy can supercharge your simulation projects!* 🚀💻\n",
    "\n",
    "\n",
    "---\n",
    "\n",
    "---\n",
    "\n",
    "---"
   ]
  },
  {
   "cell_type": "code",
   "execution_count": null,
   "id": "1625b426",
   "metadata": {},
   "outputs": [],
   "source": [
    "seed = [1, 2, 3, 4, 5, 6, 7, 8, 9, 10]\n",
    "seed_pairs = list(zip(seed, seed))\n",
    "\n",
    "sigma_model1 = Queue_Program(seed_pairs=seed_pairs,\n",
    "                             mean_pair=[5, 12],\n",
    "                             generator_pair=[\"Expo\", \"Expo\"],\n",
    "                             sim_time_limit=float(\"inf\"),\n",
    "                             sim_customer_limit=20000,\n",
    "                             capacity=4,\n",
    "                             policy=FCFS_policy)\n",
    "\n",
    "sigma_model1.run()\n",
    "\n",
    "##########################################\n",
    "\n",
    "seed = [1, 2, 3, 4, 5, 6, 7, 8, 9, 10]\n",
    "seed_pairs = list(zip(seed, seed))\n",
    "\n",
    "sigma_model2 = Queue_Program(seed_pairs=seed_pairs,\n",
    "                             mean_pair=[5, 12],\n",
    "                             generator_pair=[\"Expo\", \"Expo\"],\n",
    "                             sim_time_limit=float(\"inf\"),\n",
    "                             sim_customer_limit=20000,\n",
    "                             capacity=3,\n",
    "                             policy=SPT_policy)\n",
    "\n",
    "sigma_model2.run()"
   ]
  },
  {
   "cell_type": "code",
   "execution_count": null,
   "id": "a6061b1b",
   "metadata": {},
   "outputs": [],
   "source": [
    "sigma_model1.result"
   ]
  },
  {
   "cell_type": "markdown",
   "id": "73109a80",
   "metadata": {},
   "source": [
    "---\n",
    "\n",
    "---\n",
    "\n",
    "---\n",
    "\n",
    "## 🎁✨ Surprise Bonus! Unlock the Hidden Powers of SimPy! 🚀🐍\n",
    "\n",
    "---\n",
    "\n",
    "---\n",
    "\n",
    "---"
   ]
  },
  {
   "cell_type": "code",
   "execution_count": null,
   "id": "593c1864",
   "metadata": {},
   "outputs": [],
   "source": [
    "seed1 = [2062615503, 1, 2, 3, 4, 5, 6, 7, 8, 9]\n",
    "seed2 = [1383670351, 11111, 22222, 33333, 44444, 55555, 66666, 77777, 88888, 99999]\n",
    "seed_pairs = list(zip(seed1, seed2))\n",
    "mean_0 = [5, 5.5, 6, 6.5, 7, 7.5, 8, 8.5, 9, 9.5, 10]\n",
    "good_ones = []\n",
    "for i in range(len(mean_0)):\n",
    "    sigma_model1 = Queue_Program(seed_pairs=seed_pairs,\n",
    "                                 mean_pair=[mean_0[i], 4.5],\n",
    "                                 generator_pair=[\"Expo\", \"Deter\"],\n",
    "                                 sim_time_limit=float(\"inf\"),\n",
    "                                 sim_customer_limit=100,\n",
    "                                 capacity=1,\n",
    "                                 policy=FCFS_policy)\n",
    "    sigma_model1.run()\n",
    "\n",
    "    data1 = [list(sigma_model1.result[\"wait_time_queue\"].values),\n",
    "            list(sigma_model1.result[\"wait_time_system\"].values),\n",
    "            list(sigma_model1.result[\"number_system\"].values)]\n",
    "    \n",
    "    sigma_model2 = Queue_Program(seed_pairs=seed_pairs,\n",
    "                                 mean_pair=[mean_0[i], 4],\n",
    "                                 generator_pair=[\"Expo\", \"Expo\"],\n",
    "                                 sim_time_limit=float(\"inf\"),\n",
    "                                 sim_customer_limit=100,\n",
    "                                 capacity=1,\n",
    "                                 policy=FCFS_policy)\n",
    "    sigma_model2.run()\n",
    "    data2 = [list(sigma_model2.result[\"wait_time_queue\"].values),\n",
    "            list(sigma_model2.result[\"wait_time_system\"].values),\n",
    "            list(sigma_model2.result[\"number_system\"].values)]\n",
    "    valid = Validation.Validation_Tools(data_list=[data1[0], data1[1], data1[2], data2[0], data2[1], data2[2]],\n",
    "                                    name_list=[\"data1_0\", \"data1_1\", \"data1_2\", \"data2_0\", \"data2_1\", \"data2_2\"])\n",
    "    r1 = valid.common_random_numbers(data_name_1=\"data1_0\", data_name_2=\"data2_0\", alpha=0.1)\n",
    "    r2 = valid.common_random_numbers(data_name_1=\"data1_1\", data_name_2=\"data2_1\", alpha=0.1)\n",
    "    r3 = valid.common_random_numbers(data_name_1=\"data1_2\", data_name_2=\"data2_2\", alpha=0.1)\n",
    "    if r1[\"confidence_intervals\"][\"90.000%\"][1] < 0:\n",
    "        if r2[\"confidence_intervals\"][\"90.000%\"][1] < 0:\n",
    "             if r3[\"confidence_intervals\"][\"90.000%\"][1] < 0:\n",
    "                good_ones.append(mean_0[i])"
   ]
  },
  {
   "cell_type": "code",
   "execution_count": null,
   "id": "8e32bc2f",
   "metadata": {},
   "outputs": [],
   "source": [
    "good_ones"
   ]
  },
  {
   "cell_type": "markdown",
   "id": "26ae7cc2",
   "metadata": {},
   "source": [
    "\n",
    "So what did we learn today?\n",
    "\n",
    "That with just a few lines of **Python** and a spark of logic, we can simulate systems that used to need full software suites.\n",
    "\n",
    "Honestly... that’s kinda magic. ✨\n",
    "\n",
    "# Questions before I `return` and exit the main loop? 🐍💻”\n"
   ]
  },
  {
   "cell_type": "code",
   "execution_count": null,
   "id": "2a08ca28",
   "metadata": {},
   "outputs": [],
   "source": []
  }
 ],
 "metadata": {
  "kernelspec": {
   "display_name": "Python 3",
   "language": "python",
   "name": "python3"
  },
  "language_info": {
   "codemirror_mode": {
    "name": "ipython",
    "version": 3
   },
   "file_extension": ".py",
   "mimetype": "text/x-python",
   "name": "python",
   "nbconvert_exporter": "python",
   "pygments_lexer": "ipython3",
   "version": "3.12.1"
  }
 },
 "nbformat": 4,
 "nbformat_minor": 5
}
