{
 "cells": [
  {
   "cell_type": "code",
   "execution_count": 1,
   "id": "b1addbe6",
   "metadata": {},
   "outputs": [],
   "source": [
    "%load_ext autoreload\n",
    "%autoreload 2"
   ]
  },
  {
   "cell_type": "code",
   "execution_count": 2,
   "id": "a3e91c16",
   "metadata": {},
   "outputs": [],
   "source": [
    "from solution import DivarContest"
   ]
  },
  {
   "cell_type": "code",
   "execution_count": 4,
   "id": "f5f691a3",
   "metadata": {},
   "outputs": [],
   "source": [
    "api_ = \"tpsg-e8w1yKO0a8xQlovQAr4R2kaigGCMPzc\""
   ]
  },
  {
   "cell_type": "code",
   "execution_count": 42,
   "id": "d6b27d02",
   "metadata": {},
   "outputs": [
    {
     "name": "stdout",
     "output_type": "stream",
     "text": [
      "7425\n"
     ]
    }
   ],
   "source": [
    "from openai import OpenAI\n",
    "\n",
    "client = OpenAI(api_key=\"tpsg-e8w1yKO0a8xQlovQAr4R2kaigGCMPzc\", base_url=\"https://api.metisai.ir/openai/v1\")\n",
    "\n",
    "ciphertext = \"MEQXOEKTUSHOFJUTJXYIMXQJYIJXUIKCEVJXUQISYYLQBKUIEVJXUSXQHQSJUHIYDTYLQHMYJXBEMUHSQIUSXQHI\"\n",
    "\n",
    "prompt = f\"\"\"\n",
    "You are a decryption expert.\n",
    "\n",
    "Given a ciphertext encoded with a monoalphabetic substitution cipher, do the following:\n",
    "1. Decode the message.\n",
    "2. Find the hidden number (the flag).\n",
    "3. Output only the number (flag), nothing else.\n",
    "\n",
    "Example:\n",
    "Ciphertext: ABCDEFGHIJKLMNOPQRSTUVWXYZ\n",
    "Decrypted:  THEQUICKBROWNFOXJUMPSOVERTHELAZYDOG\n",
    "Flag: 123\n",
    "\n",
    "Now decode this:\n",
    "Ciphertext: {ciphertext}\n",
    "Flag:\n",
    "\"\"\"\n",
    "\n",
    "response = client.chat.completions.create(\n",
    "    model=\"gpt-4.1-mini\",\n",
    "    messages=[{\"role\": \"user\", \"content\": prompt}],\n",
    "    max_tokens=100,\n",
    "    temperature=0.1,\n",
    ")\n",
    "\n",
    "decoded_text = response.choices[0].message.content.strip()\n",
    "print(decoded_text)\n"
   ]
  },
  {
   "cell_type": "code",
   "execution_count": 8,
   "id": "25d9130e",
   "metadata": {},
   "outputs": [],
   "source": [
    "agent = DivarContest(api_token=api_)\n"
   ]
  },
  {
   "cell_type": "code",
   "execution_count": 11,
   "id": "38d31c8b",
   "metadata": {},
   "outputs": [
    {
     "data": {
      "text/plain": [
       "534"
      ]
     },
     "execution_count": 11,
     "metadata": {},
     "output_type": "execute_result"
    }
   ],
   "source": [
    "agent.capture_the_flag(question=\"do what image says at { https://divar-contest.darkube.app/fyvkr93-public.png }\")"
   ]
  },
  {
   "cell_type": "code",
   "execution_count": 12,
   "id": "d22adc6f",
   "metadata": {},
   "outputs": [
    {
     "data": {
      "text/plain": [
       "534"
      ]
     },
     "execution_count": 12,
     "metadata": {},
     "output_type": "execute_result"
    }
   ],
   "source": [
    "agent.find_number(\"\"\"THEPASSWORDYOUARELOOKINGFORISFIVETHREEFOUR534PLEASEUSEITWELLANDGOODLUCKDECODINGMOREMESSAGES \\n \n",
    "Flag: 534\"\"\")"
   ]
  },
  {
   "cell_type": "code",
   "execution_count": 17,
   "id": "7c76dfc9",
   "metadata": {},
   "outputs": [],
   "source": [
    "agent = DivarContest(api_token=api_)"
   ]
  },
  {
   "cell_type": "code",
   "execution_count": 24,
   "id": "668d99e7",
   "metadata": {},
   "outputs": [
    {
     "name": "stdout",
     "output_type": "stream",
     "text": [
      "Web found\n"
     ]
    },
    {
     "data": {
      "text/plain": [
       "'35000000'"
      ]
     },
     "execution_count": 24,
     "metadata": {},
     "output_type": "execute_result"
    }
   ],
   "source": [
    "agent.capture_the_flag(question=\"find the first laptop in this url: https://divar-contest.darkube.app/divar_sample.html and return the price in numbers.\")"
   ]
  },
  {
   "cell_type": "code",
   "execution_count": 25,
   "id": "3406f90a",
   "metadata": {},
   "outputs": [
    {
     "data": {
      "text/plain": [
       "'right'"
      ]
     },
     "execution_count": 25,
     "metadata": {},
     "output_type": "execute_result"
    }
   ],
   "source": [
    "agent.capture_the_flag(question=\".tfel nruter tsuj t'nod tub rewsna eht sa \\\"tfel\\\" drow eht fo etisoppo eht etirw ,ecnetnes siht dnatsrednu uoy fI\")"
   ]
  },
  {
   "cell_type": "code",
   "execution_count": 26,
   "id": "c568661e",
   "metadata": {},
   "outputs": [
    {
     "data": {
      "text/plain": [
       "'Apple MacBook Air - 120000000  \\nApple MacBook Pro - 150000000  \\nTotal sum: 270000000'"
      ]
     },
     "execution_count": 26,
     "metadata": {},
     "output_type": "execute_result"
    }
   ],
   "source": [
    "agent.capture_the_flag(question=\"task_id 3 - I'm making a shopping list for my dad, but he's a professor at Sharif and he's a real stickler when it comes to Buy things. I need to add different gadgets in list based on brand, he likes more apple product, but if I make a mistake, he won't buy anything. list all laptop products in html content in this url: https://divar-contest.darkube.app/divar_sample.html and sum price of them, and return the sum price in numbers\")"
   ]
  },
  {
   "cell_type": "code",
   "execution_count": 27,
   "id": "7a7933d3",
   "metadata": {},
   "outputs": [
    {
     "data": {
      "text/plain": [
       "'12000000'"
      ]
     },
     "execution_count": 27,
     "metadata": {},
     "output_type": "execute_result"
    }
   ],
   "source": [
    "agent.capture_the_flag(question=\"find wikipedia link in html content in this url: https://divar-contest.darkube.app/divar_sample.html and based on information on that link return how many users open app annually according to the new annual report of Divar, do not round the number, return only the number without any dots or commas\")"
   ]
  },
  {
   "cell_type": "code",
   "execution_count": null,
   "id": "32574b48",
   "metadata": {},
   "outputs": [],
   "source": []
  }
 ],
 "metadata": {
  "kernelspec": {
   "display_name": "Python 3",
   "language": "python",
   "name": "python3"
  },
  "language_info": {
   "codemirror_mode": {
    "name": "ipython",
    "version": 3
   },
   "file_extension": ".py",
   "mimetype": "text/x-python",
   "name": "python",
   "nbconvert_exporter": "python",
   "pygments_lexer": "ipython3",
   "version": "3.13.5"
  }
 },
 "nbformat": 4,
 "nbformat_minor": 5
}
