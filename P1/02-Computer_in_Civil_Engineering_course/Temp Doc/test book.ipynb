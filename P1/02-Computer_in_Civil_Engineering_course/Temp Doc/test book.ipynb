{
 "cells": [
  {
   "cell_type": "code",
   "execution_count": 1,
   "metadata": {
    "collapsed": true,
    "ExecuteTime": {
     "end_time": "2023-06-10T07:09:39.352699200Z",
     "start_time": "2023-06-10T07:09:39.217012700Z"
    }
   },
   "outputs": [],
   "source": [
    "%load_ext autoreload\n",
    "%autoreload 2\n",
    "import numpy as np\n",
    "import test as tp\n",
    "import sys\n",
    "\n",
    "np.set_printoptions(threshold=sys.maxsize)  # to print total matrix\n"
   ]
  },
  {
   "cell_type": "code",
   "execution_count": 2,
   "outputs": [],
   "source": [
    "A = 3 * 10 ** -4\n",
    "E = 70 * 10 ** 9\n",
    "node = []\n",
    "node.append(tp.Point(0, 3, \"01\"))\n",
    "node.append(tp.Point(3, 3, \"02\"))\n",
    "node.append(tp.Point(6, 3, \"03\"))\n",
    "node.append(tp.Point(3, 0, \"04\"))\n",
    "node.append(tp.Point(6, 0, \"05\"))\n",
    "node.append(tp.Point(0, 0, \"06\"))\n",
    "\n",
    "element = []\n",
    "element.append(tp.Element(node[2-1], node[1-1], A=A, E=E))\n",
    "element.append(tp.Element(node[2-1], node[3-1], A=A, E=E))\n",
    "element.append(tp.Element(node[1-1], node[6-1], A=A, E=E))\n",
    "element.append(tp.Element(node[3-1], node[5-1], A=A, E=E))\n",
    "element.append(tp.Element(node[2-1], node[4-1], A=A, E=E))\n",
    "element.append(tp.Element(node[2-1], node[6-1], A=A, E=E))\n",
    "element.append(tp.Element(node[1-1], node[4-1], A=A, E=E))\n",
    "element.append(tp.Element(node[2-1], node[5-1], A=A, E=E))\n",
    "element.append(tp.Element(node[3-1], node[4-1], A=A, E=E))\n",
    "element.append(tp.Element(node[4-1], node[5-1], A=A, E=E))\n",
    "element.append(tp.Element(node[4-1], node[6-1], A=A, E=E))\n",
    "\n",
    "element[1-1].make_element_K_with_help(node[1], node[0])\n",
    "element[2-1].make_element_K_with_help(node[2-1], node[3-1])\n",
    "element[3-1].make_element_K_with_help(node[1-1], node[6-1])\n",
    "element[4-1].make_element_K_with_help(node[3-1], node[5-1])\n",
    "element[5-1].make_element_K_with_help(node[2-1], node[4-1])\n",
    "element[6-1].make_element_K_with_help(node[2-1], node[6-1])\n",
    "element[7-1].make_element_K_with_help(node[1-1], node[4-1])\n",
    "element[8-1].make_element_K_with_help(node[2-1], node[5-1])\n",
    "element[9-1].make_element_K_with_help(node[3-1], node[4-1])\n",
    "element[10-1].make_element_K_with_help(node[4-1], node[5-1])\n",
    "element[11-1].make_element_K_with_help(node[4-1], node[6-1])\n"
   ],
   "metadata": {
    "collapsed": false,
    "ExecuteTime": {
     "end_time": "2023-06-10T07:09:39.404814600Z",
     "start_time": "2023-06-10T07:09:39.357705Z"
    }
   }
  },
  {
   "cell_type": "code",
   "execution_count": 17,
   "outputs": [
    {
     "name": "stdout",
     "output_type": "stream",
     "text": [
      "[[ 9474873.73415292 -2474873.73415292 -7000000.                0.\n",
      "         0.                0.         -2474873.73415292  2474873.73415292\n",
      "         0.                0.                0.                0.        ]\n",
      " [-2474873.73415292  9474873.73415292        0.                0.\n",
      "         0.                0.          2474873.73415292 -2474873.73415292\n",
      "         0.                0.                0.         -7000000.        ]\n",
      " [-7000000.                0.         18949747.46830584        0.\n",
      "  -7000000.                0.                0.                0.\n",
      "  -2474873.73415292  2474873.73415292 -2474873.73415292 -2474873.73415292]\n",
      " [       0.                0.                0.         11949747.46830584\n",
      "         0.                0.                0.         -7000000.\n",
      "   2474873.73415292 -2474873.73415292 -2474873.73415292 -2474873.73415292]\n",
      " [       0.                0.         -7000000.                0.\n",
      "   9474873.73415292  2474873.73415292 -2474873.73415292 -2474873.73415292\n",
      "         0.                0.                0.                0.        ]\n",
      " [       0.                0.                0.                0.\n",
      "   2474873.73415292  9474873.73415292 -2474873.73415292 -2474873.73415292\n",
      "         0.         -7000000.                0.                0.        ]\n",
      " [-2474873.73415292  2474873.73415292        0.                0.\n",
      "  -2474873.73415292 -2474873.73415292 18949747.46830584        0.\n",
      "  -7000000.                0.         -7000000.                0.        ]\n",
      " [ 2474873.73415292 -2474873.73415292        0.         -7000000.\n",
      "  -2474873.73415292 -2474873.73415292        0.         11949747.46830584\n",
      "         0.                0.                0.                0.        ]\n",
      " [       0.                0.         -2474873.73415292  2474873.73415292\n",
      "         0.                0.         -7000000.                0.\n",
      "   9474873.73415292 -2474873.73415292        0.                0.        ]\n",
      " [       0.                0.          2474873.73415292 -2474873.73415292\n",
      "         0.         -7000000.                0.                0.\n",
      "  -2474873.73415292  9474873.73415292        0.                0.        ]\n",
      " [       0.                0.         -2474873.73415292 -2474873.73415292\n",
      "         0.                0.         -7000000.                0.\n",
      "         0.                0.          9474873.73415292  2474873.73415292]\n",
      " [       0.         -7000000.         -2474873.73415292 -2474873.73415292\n",
      "         0.                0.                0.                0.\n",
      "         0.                0.          2474873.73415292  9474873.73415292]]\n"
     ]
    }
   ],
   "source": [
    "K = np.zeros(12 * 12)  # n*n total\n",
    "K_help = tp.make_K_help(12)  # n total\n",
    "# print(K_help)\n",
    "# print(element[0].K_help)\n",
    "# print(len(element))\n",
    "for i in range(len(element)):\n",
    "    K = element[i].merge_K(K, K_help)\n",
    "print(K.reshape((12,12)))"
   ],
   "metadata": {
    "collapsed": false,
    "ExecuteTime": {
     "end_time": "2023-06-07T13:53:25.321698600Z",
     "start_time": "2023-06-07T13:53:25.258778Z"
    }
   }
  },
  {
   "cell_type": "code",
   "execution_count": 18,
   "outputs": [
    {
     "name": "stdout",
     "output_type": "stream",
     "text": [
      "[[ 9474873.73415292 -2474873.73415292 -7000000.                0.\n",
      "         0.                0.         -2474873.73415292  2474873.73415292]\n",
      " [-2474873.73415292  9474873.73415292        0.                0.\n",
      "         0.                0.          2474873.73415292 -2474873.73415292]\n",
      " [-7000000.                0.         18949747.46830584        0.\n",
      "  -7000000.                0.                0.                0.        ]\n",
      " [       0.                0.                0.         11949747.46830584\n",
      "         0.                0.                0.         -7000000.        ]\n",
      " [       0.                0.         -7000000.                0.\n",
      "   9474873.73415292  2474873.73415292 -2474873.73415292 -2474873.73415292]\n",
      " [       0.                0.                0.                0.\n",
      "   2474873.73415292  9474873.73415292 -2474873.73415292 -2474873.73415292]\n",
      " [-2474873.73415292  2474873.73415292        0.                0.\n",
      "  -2474873.73415292 -2474873.73415292 18949747.46830584        0.        ]\n",
      " [ 2474873.73415292 -2474873.73415292        0.         -7000000.\n",
      "  -2474873.73415292 -2474873.73415292        0.         11949747.46830584]]\n"
     ]
    }
   ],
   "source": [
    "K_modified = np.array([])\n",
    "new_K_help = tp.make_K_help(8, 1, 1)  # show where is the modified K\n",
    "for p, v in np.ndenumerate(K_help):\n",
    "    if v in new_K_help:\n",
    "        K_modified = np.append(K_modified, K[p])\n",
    "\n",
    "K_modified = K_modified.reshape([8, 8])  # shape the modified.\n",
    "print(str(K_modified))"
   ],
   "metadata": {
    "collapsed": false,
    "ExecuteTime": {
     "end_time": "2023-06-07T13:53:25.624640300Z",
     "start_time": "2023-06-07T13:53:25.578097300Z"
    }
   }
  },
  {
   "cell_type": "code",
   "execution_count": 19,
   "outputs": [
    {
     "name": "stdout",
     "output_type": "stream",
     "text": [
      "[[ 1.35242734e-03]\n",
      " [-8.49528449e-03]\n",
      " [ 5.23825481e-19]\n",
      " [-1.63778087e-02]\n",
      " [-1.35242734e-03]\n",
      " [-8.49528449e-03]\n",
      " [-1.44614784e-19]\n",
      " [-1.36729540e-02]]\n"
     ]
    }
   ],
   "source": [
    "K_modified_inv = np.linalg.inv(K_modified)\n",
    "F = np.zeros(8)\n",
    "F[1] = -50000\n",
    "F[3] = -100000\n",
    "F[5] = -50000\n",
    "F_show = F.reshape((8, 1))\n",
    "displacements = np.dot(K_modified_inv, F_show)\n",
    "displacements_show = displacements\n",
    "print(displacements_show)"
   ],
   "metadata": {
    "collapsed": false,
    "ExecuteTime": {
     "end_time": "2023-06-07T13:53:27.530928200Z",
     "start_time": "2023-06-07T13:53:27.483969200Z"
    }
   }
  },
  {
   "cell_type": "code",
   "execution_count": 9,
   "outputs": [
    {
     "name": "stdout",
     "output_type": "stream",
     "text": [
      "[[ 1.35242734e-03]\n",
      " [ 0.00000000e+00]\n",
      " [-8.49528449e-03]\n",
      " [ 0.00000000e+00]\n",
      " [ 5.23825481e-19]\n",
      " [ 0.00000000e+00]\n",
      " [-1.63778087e-02]\n",
      " [ 0.00000000e+00]\n",
      " [ 0.00000000e+00]\n",
      " [ 0.00000000e+00]\n",
      " [ 0.00000000e+00]\n",
      " [ 0.00000000e+00]]\n"
     ]
    }
   ],
   "source": [
    "displacements_total = np.zeros(12)  # total dimension, rows or columns\n",
    "iteration = -1\n",
    "temp = 0\n",
    "new2_K_help = new_K_help.copy()\n",
    "new2_K_help = new2_K_help[\n",
    "              0:-1:8]  # n(the last number in parentheses) is the number of dimension in matrix, the dimension of new_K_help\n",
    "# print(len(K_help))\n",
    "for i in range(len(new2_K_help)):\n",
    "    new2_K_help[i] = new2_K_help[i][0:2]\n",
    "for p, v in np.ndenumerate(K_help):\n",
    "    if temp == v[0:2]:\n",
    "        continue\n",
    "    temp = v[0:2]\n",
    "    if v[0:2] in new2_K_help:\n",
    "        iteration += 1\n",
    "        displacements_total[(p[0] // 12)] = displacements[\n",
    "            iteration]  # n is the dimension of main matrix... total K dimension\n",
    "K = K.reshape([12, 12])  # n*n total\n",
    "displacements_total = displacements_total.reshape((12, 1))\n",
    "F_total = np.dot(K, displacements_total)\n",
    "# print(F_total)\n",
    "print(displacements_total)"
   ],
   "metadata": {
    "collapsed": false,
    "ExecuteTime": {
     "end_time": "2023-06-07T10:47:14.706492900Z",
     "start_time": "2023-06-07T10:47:14.643561900Z"
    }
   }
  },
  {
   "cell_type": "code",
   "execution_count": null,
   "outputs": [],
   "source": [],
   "metadata": {
    "collapsed": false
   }
  }
 ],
 "metadata": {
  "kernelspec": {
   "display_name": "Python 3",
   "language": "python",
   "name": "python3"
  },
  "language_info": {
   "codemirror_mode": {
    "name": "ipython",
    "version": 2
   },
   "file_extension": ".py",
   "mimetype": "text/x-python",
   "name": "python",
   "nbconvert_exporter": "python",
   "pygments_lexer": "ipython2",
   "version": "2.7.6"
  }
 },
 "nbformat": 4,
 "nbformat_minor": 0
}
