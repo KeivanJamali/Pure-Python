{
 "cells": [
  {
   "cell_type": "code",
   "execution_count": null,
   "id": "75c6b7b444c61b77",
   "metadata": {
    "collapsed": false
   },
   "outputs": [],
   "source": [
    "# any , all"
   ]
  },
  {
   "cell_type": "code",
   "execution_count": 2,
   "id": "initial_id",
   "metadata": {
    "ExecuteTime": {
     "end_time": "2023-08-08T09:12:20.168589500Z",
     "start_time": "2023-08-08T09:12:20.163462700Z"
    },
    "collapsed": true
   },
   "outputs": [
    {
     "name": "stdout",
     "output_type": "stream",
     "text": [
      "True\n",
      "False\n"
     ]
    }
   ],
   "source": [
    "a = [1, 0, 0, 2, 3]\n",
    "print(any(a))\n",
    "print(all(a))"
   ]
  },
  {
   "cell_type": "code",
   "execution_count": 8,
   "id": "1baa1b183258fda2",
   "metadata": {
    "ExecuteTime": {
     "end_time": "2023-08-08T09:13:50.448032700Z",
     "start_time": "2023-08-08T09:13:50.323818800Z"
    },
    "collapsed": false
   },
   "outputs": [
    {
     "name": "stdout",
     "output_type": "stream",
     "text": [
      "True\n",
      "False\n",
      "False\n",
      "False\n"
     ]
    }
   ],
   "source": [
    "print(any([x == 3 for x in a]))\n",
    "print(all([x == 3 for x in a]))\n",
    "print(any(x > 3 for x in a))\n",
    "print(all(x > 3 for x in a))"
   ]
  },
  {
   "cell_type": "code",
   "execution_count": 9,
   "id": "f956afbb0157bada",
   "metadata": {
    "ExecuteTime": {
     "end_time": "2023-08-08T09:14:41.319323300Z",
     "start_time": "2023-08-08T09:14:41.290091Z"
    },
    "collapsed": false
   },
   "outputs": [],
   "source": [
    "# max , min"
   ]
  },
  {
   "cell_type": "code",
   "execution_count": 17,
   "id": "fbe855c718cce2fa",
   "metadata": {
    "ExecuteTime": {
     "end_time": "2023-08-08T09:20:09.259066800Z",
     "start_time": "2023-08-08T09:20:09.151487900Z"
    },
    "collapsed": false
   },
   "outputs": [
    {
     "name": "stdout",
     "output_type": "stream",
     "text": [
      "-10\n",
      "0 False\n",
      "1\n",
      "-2\n",
      "7\n"
     ]
    }
   ],
   "source": [
    "a = [1, -2, 3, 4, -5, 7, 8, 9, -10]\n",
    "print(min(a))\n",
    "\n",
    "# if we have a bool list: max = any and min = all\n",
    "b = [1, 1, 1, 0, 0, 0, 1, 1, 0, 1]\n",
    "print(min(b), all(b))\n",
    "\n",
    "# want to get min in power 2 of these.\n",
    "print(min(a, key=lambda x: x ** 2))\n",
    "print(max(a, key=lambda x: x % 7))\n",
    "print(min(a, key=lambda x: x % 7))"
   ]
  },
  {
   "cell_type": "code",
   "execution_count": 24,
   "id": "257c65765a7aa69e",
   "metadata": {
    "ExecuteTime": {
     "end_time": "2023-08-08T09:27:31.600044500Z",
     "start_time": "2023-08-08T09:27:31.555204500Z"
    },
    "collapsed": false
   },
   "outputs": [
    {
     "name": "stdout",
     "output_type": "stream",
     "text": [
      "oldest {'name': 'd', 'age': 40, 'revenue': 70}\n",
      "richest {'name': 'a', 'age': 10, 'revenue': 100}\n",
      "efficient {'name': 'a', 'age': 10, 'revenue': 100}\n"
     ]
    }
   ],
   "source": [
    "data = [\n",
    "    {\"name\": \"a\", \"age\": 10, \"revenue\": 100},\n",
    "    {\"name\": \"b\", \"age\": 20, \"revenue\": 90},\n",
    "    {\"name\": \"c\", \"age\": 30, \"revenue\": 80},\n",
    "    {\"name\": \"d\", \"age\": 40, \"revenue\": 70}\n",
    "]\n",
    "\n",
    "# oldest\n",
    "print(\"oldest\", max(data, key=lambda item: item[\"age\"]))\n",
    "print(\"richest\", max(data, key=lambda item: item[\"revenue\"]))\n",
    "print(\"efficient\", max(data, key=lambda x: x[\"revenue\"] / x[\"age\"]))"
   ]
  },
  {
   "cell_type": "code",
   "execution_count": 25,
   "id": "d498139f4cfbfdbe",
   "metadata": {
    "ExecuteTime": {
     "end_time": "2023-08-08T09:29:52.632845100Z",
     "start_time": "2023-08-08T09:29:52.619874500Z"
    },
    "collapsed": false
   },
   "outputs": [
    {
     "name": "stdout",
     "output_type": "stream",
     "text": [
      "{'name': 'd', 'age': 40, 'revenue': 70}\n"
     ]
    }
   ],
   "source": [
    "def get_something(x):\n",
    "    return x[\"age\"]\n",
    "\n",
    "\n",
    "print(max(data, key=get_something))"
   ]
  },
  {
   "cell_type": "code",
   "execution_count": 26,
   "id": "f448200529ea8975",
   "metadata": {
    "ExecuteTime": {
     "end_time": "2023-08-08T09:31:28.454509200Z",
     "start_time": "2023-08-08T09:31:28.431300200Z"
    },
    "collapsed": false
   },
   "outputs": [],
   "source": [
    "# sum , len"
   ]
  },
  {
   "cell_type": "code",
   "execution_count": 27,
   "id": "3b3dac8b35d2e01f",
   "metadata": {
    "ExecuteTime": {
     "end_time": "2023-08-08T09:31:52.169547300Z",
     "start_time": "2023-08-08T09:31:52.159400Z"
    },
    "collapsed": false
   },
   "outputs": [
    {
     "name": "stdout",
     "output_type": "stream",
     "text": [
      "[1, -2, 3, 4, -5, 7, 8, 9, -10]\n",
      "15\n",
      "25\n"
     ]
    }
   ],
   "source": [
    "print(a)\n",
    "print(sum(a))\n",
    "print(sum(a, start=10))"
   ]
  },
  {
   "cell_type": "code",
   "execution_count": 30,
   "id": "a084f4af854e9d00",
   "metadata": {
    "ExecuteTime": {
     "end_time": "2023-08-08T09:32:48.849023500Z",
     "start_time": "2023-08-08T09:32:48.826741800Z"
    },
    "collapsed": false
   },
   "outputs": [
    {
     "name": "stdout",
     "output_type": "stream",
     "text": [
      "50.5\n",
      "5050\n"
     ]
    }
   ],
   "source": [
    "print(sum(range(1, 101)) / len(range(1, 101)))\n",
    "print(sum(range(1, 101)))"
   ]
  },
  {
   "cell_type": "code",
   "execution_count": 31,
   "id": "c44f2c0904e21390",
   "metadata": {
    "ExecuteTime": {
     "end_time": "2023-08-08T09:34:07.873730600Z",
     "start_time": "2023-08-08T09:34:07.848893400Z"
    },
    "collapsed": false
   },
   "outputs": [
    {
     "data": {
      "text/plain": [
       "10.0"
      ]
     },
     "execution_count": 31,
     "metadata": {},
     "output_type": "execute_result"
    }
   ],
   "source": [
    "import math\n",
    "\n",
    "math.fsum([1, 2, 3, 4])"
   ]
  },
  {
   "cell_type": "code",
   "execution_count": 1,
   "id": "65b2ccb73b38d76e",
   "metadata": {
    "ExecuteTime": {
     "end_time": "2023-08-08T09:50:40.780714200Z",
     "start_time": "2023-08-08T09:50:40.659182400Z"
    },
    "collapsed": false
   },
   "outputs": [
    {
     "name": "stdout",
     "output_type": "stream",
     "text": [
      "-3101165086233532212\n",
      "7088914162221605601\n",
      "924841026244318769\n",
      "-5715804182075701554\n"
     ]
    }
   ],
   "source": [
    "# hash\n",
    "# print(hex(hash(\"FaraDars\")))\n",
    "# print(hex(hash(\"FaraDars2\")))\n",
    "# print(hex(hash(\"Faraars\")))\n",
    "# print(hex(hash(\"araDars\")))\n",
    "print(hash(\"FaraDars\"))\n",
    "print(hash(\"FaraDars2\"))\n",
    "print(hash(\"Faraars\"))\n",
    "print(hash(\"araDars\"))"
   ]
  },
  {
   "cell_type": "code",
   "execution_count": 44,
   "id": "e74b63e3714ee841",
   "metadata": {
    "ExecuteTime": {
     "end_time": "2023-08-08T09:56:59.347716400Z",
     "start_time": "2023-08-08T09:56:59.237807200Z"
    },
    "collapsed": false
   },
   "outputs": [
    {
     "name": "stdout",
     "output_type": "stream",
     "text": [
      "529344067295497451\n",
      "529344067295497451\n",
      "529344067295497451\n"
     ]
    }
   ],
   "source": [
    "a = [1, 2, 3]\n",
    "b = a\n",
    "c = a.copy()\n",
    "print(hash(tuple(a)))\n",
    "print(hash(tuple(b)))\n",
    "print(hash(tuple(c)))"
   ]
  },
  {
   "cell_type": "code",
   "execution_count": 45,
   "id": "a8b6dda4b851ee31",
   "metadata": {
    "ExecuteTime": {
     "end_time": "2023-08-08T10:00:43.227258600Z",
     "start_time": "2023-08-08T10:00:43.210534500Z"
    },
    "collapsed": false
   },
   "outputs": [],
   "source": [
    "# copy "
   ]
  },
  {
   "cell_type": "code",
   "execution_count": 46,
   "id": "a8c0b8a2608a8183",
   "metadata": {
    "ExecuteTime": {
     "end_time": "2023-08-08T10:01:25.684634Z",
     "start_time": "2023-08-08T10:01:25.650454700Z"
    },
    "collapsed": false
   },
   "outputs": [
    {
     "data": {
      "text/plain": [
       "[[1, 2], [100, 4], [5, 6]]"
      ]
     },
     "execution_count": 46,
     "metadata": {},
     "output_type": "execute_result"
    }
   ],
   "source": [
    "import copy\n",
    "\n",
    "a = [[1, 2], [3, 4], [5, 6]]\n",
    "b = copy.copy(a)\n",
    "a[1][0] = 100\n",
    "b"
   ]
  },
  {
   "cell_type": "code",
   "execution_count": 47,
   "id": "b6488b301e660601",
   "metadata": {
    "ExecuteTime": {
     "end_time": "2023-08-08T10:01:38.593142600Z",
     "start_time": "2023-08-08T10:01:38.561678500Z"
    },
    "collapsed": false
   },
   "outputs": [
    {
     "data": {
      "text/plain": [
       "[[1, 2], [100, 4], [5, 6]]"
      ]
     },
     "execution_count": 47,
     "metadata": {},
     "output_type": "execute_result"
    }
   ],
   "source": [
    "a = [[1, 2], [3, 4], [5, 6]]\n",
    "b = a.copy()\n",
    "a[1][0] = 100\n",
    "b = "
   ]
  },
  {
   "cell_type": "code",
   "execution_count": 48,
   "id": "4750f67933b892bd",
   "metadata": {
    "ExecuteTime": {
     "end_time": "2023-08-08T10:02:16.139967500Z",
     "start_time": "2023-08-08T10:02:16.120303200Z"
    },
    "collapsed": false
   },
   "outputs": [
    {
     "data": {
      "text/plain": [
       "[[1, 2], [3, 4], [5, 6]]"
      ]
     },
     "execution_count": 48,
     "metadata": {},
     "output_type": "execute_result"
    }
   ],
   "source": [
    "# deep copy\n",
    "import copy\n",
    "\n",
    "a = [[1, 2], [3, 4], [5, 6]]\n",
    "b = copy.deepcopy(a)\n",
    "a[1][0] = 100\n",
    "b"
   ]
  },
  {
   "cell_type": "code",
   "execution_count": 49,
   "id": "d53834538daeec47",
   "metadata": {
    "ExecuteTime": {
     "end_time": "2023-08-08T10:08:51.580074900Z",
     "start_time": "2023-08-08T10:08:49.739190700Z"
    },
    "collapsed": false
   },
   "outputs": [
    {
     "name": "stdout",
     "output_type": "stream",
     "text": [
      "[[  1   2]\n",
      " [100   4]\n",
      " [  5   6]]\n"
     ]
    }
   ],
   "source": [
    "import numpy as np\n",
    "a = np.array(a)\n",
    "print(a)"
   ]
  },
  {
   "cell_type": "code",
   "execution_count": 50,
   "id": "383acabd32a6d447",
   "metadata": {
    "ExecuteTime": {
     "end_time": "2023-08-08T10:09:22.855359300Z",
     "start_time": "2023-08-08T10:09:22.551528700Z"
    },
    "collapsed": false
   },
   "outputs": [
    {
     "data": {
      "text/plain": [
       "array([[  1,   2],\n",
       "       [200,   4],\n",
       "       [  5,   6]])"
      ]
     },
     "execution_count": 50,
     "metadata": {},
     "output_type": "execute_result"
    }
   ],
   "source": [
    "b = a.copy()\n",
    "a[1][0] = 200\n",
    "a"
   ]
  },
  {
   "cell_type": "code",
   "execution_count": 51,
   "id": "f427f74e1d537384",
   "metadata": {
    "ExecuteTime": {
     "end_time": "2023-08-08T10:09:27.866214100Z",
     "start_time": "2023-08-08T10:09:27.858212500Z"
    },
    "collapsed": false
   },
   "outputs": [
    {
     "data": {
      "text/plain": [
       "array([[  1,   2],\n",
       "       [100,   4],\n",
       "       [  5,   6]])"
      ]
     },
     "execution_count": 51,
     "metadata": {},
     "output_type": "execute_result"
    }
   ],
   "source": [
    "b"
   ]
  },
  {
   "cell_type": "code",
   "execution_count": 52,
   "id": "bc0a84cdc332d63d",
   "metadata": {
    "ExecuteTime": {
     "end_time": "2023-08-08T10:12:52.498339Z",
     "start_time": "2023-08-08T10:12:52.486367900Z"
    },
    "collapsed": false
   },
   "outputs": [],
   "source": [
    "# decimal"
   ]
  },
  {
   "cell_type": "code",
   "execution_count": 56,
   "id": "8aab97d28717b03",
   "metadata": {
    "ExecuteTime": {
     "end_time": "2023-08-08T10:14:24.900229700Z",
     "start_time": "2023-08-08T10:14:24.759231300Z"
    },
    "collapsed": false
   },
   "outputs": [
    {
     "name": "stdout",
     "output_type": "stream",
     "text": [
      "0.14285714285714285\n",
      "0.1428571428571428571428571429\n",
      "0.30000000000000004\n",
      "0.3000000000000000166533453694\n",
      "0.3\n"
     ]
    }
   ],
   "source": [
    "from decimal import Decimal\n",
    "print(1/7)\n",
    "print(Decimal(\"1\")/ Decimal(\"7\"))\n",
    "\n",
    "print(0.1+0.2)\n",
    "print(Decimal(0.1) + Decimal(0.2))\n",
    "print(Decimal(\"0.1\") + Decimal(\"0.2\"))\n"
   ]
  },
  {
   "cell_type": "code",
   "execution_count": 14,
   "id": "7806eea37b89056f",
   "metadata": {
    "ExecuteTime": {
     "end_time": "2023-08-08T10:15:47.660001600Z",
     "start_time": "2023-08-08T10:15:47.632377200Z"
    },
    "collapsed": false
   },
   "outputs": [],
   "source": [
    "from decimal import getcontext, Decimal\n",
    "getcontext().prec = 100"
   ]
  },
  {
   "cell_type": "code",
   "execution_count": 15,
   "id": "580336394916b874",
   "metadata": {
    "ExecuteTime": {
     "end_time": "2023-08-08T10:15:53.619913800Z",
     "start_time": "2023-08-08T10:15:53.594675800Z"
    },
    "collapsed": false
   },
   "outputs": [
    {
     "name": "stdout",
     "output_type": "stream",
     "text": [
      "0.14285714285714285\n",
      "0.1428571428571428571428571428571428571428571428571428571428571428571428571428571428571428571428571429\n",
      "0.30000000000000004\n",
      "0.3000000000000000166533453693773481063544750213623046875\n",
      "0.3\n"
     ]
    }
   ],
   "source": [
    "print(1/7)\n",
    "print(Decimal(\"1\")/ Decimal(\"7\"))\n",
    "\n",
    "print(0.1+0.2)\n",
    "print(Decimal(0.1) + Decimal(0.2))\n",
    "print(Decimal(\"0.1\") + Decimal(\"0.2\"))\n"
   ]
  },
  {
   "cell_type": "code",
   "execution_count": 11,
   "id": "74e4ea86",
   "metadata": {},
   "outputs": [
    {
     "name": "stdout",
     "output_type": "stream",
     "text": [
      "102\n",
      "57\n"
     ]
    }
   ],
   "source": [
    "print(len(\"0.1428571428571428571428571428571428571428571428571428571428571428571428571428571428571428571428571429\"))\n",
    "print(len(\"0.3000000000000000166533453693773481063544750213623046875\"))"
   ]
  },
  {
   "cell_type": "code",
   "execution_count": 61,
   "id": "cedd37274c77941a",
   "metadata": {
    "ExecuteTime": {
     "end_time": "2023-08-08T10:17:57.729390100Z",
     "start_time": "2023-08-08T10:17:57.615097900Z"
    },
    "collapsed": false
   },
   "outputs": [],
   "source": [
    "from decimal import localcontext\n"
   ]
  },
  {
   "cell_type": "code",
   "execution_count": 63,
   "id": "469f96e1938dc82c",
   "metadata": {
    "ExecuteTime": {
     "end_time": "2023-08-08T10:18:17.233867400Z",
     "start_time": "2023-08-08T10:18:17.137585900Z"
    },
    "collapsed": false
   },
   "outputs": [
    {
     "name": "stdout",
     "output_type": "stream",
     "text": [
      "0.1428571428571428571428571428571428571428571428571428571428571428571428571428571428571428571428571429\n"
     ]
    }
   ],
   "source": [
    "with localcontext() as c:\n",
    "    c.prec = 100\n",
    "    print(Decimal(\"0.1\") / Decimal(\"0.7\"))"
   ]
  },
  {
   "cell_type": "code",
   "execution_count": 64,
   "id": "1dace1eb2a7efe79",
   "metadata": {
    "ExecuteTime": {
     "end_time": "2023-08-08T10:18:29.313359600Z",
     "start_time": "2023-08-08T10:18:29.293352300Z"
    },
    "collapsed": false
   },
   "outputs": [
    {
     "name": "stdout",
     "output_type": "stream",
     "text": [
      "a\n"
     ]
    }
   ],
   "source": [
    "print(\"a\")"
   ]
  },
  {
   "cell_type": "code",
   "execution_count": 65,
   "id": "b1ab245b7bab2d98",
   "metadata": {
    "ExecuteTime": {
     "end_time": "2023-08-08T10:18:38.433537200Z",
     "start_time": "2023-08-08T10:18:38.369058800Z"
    },
    "collapsed": false
   },
   "outputs": [
    {
     "name": "stdout",
     "output_type": "stream",
     "text": [
      "a\n",
      "None\n",
      "None\n"
     ]
    }
   ],
   "source": [
    "print(print(print(\"a\")))"
   ]
  },
  {
   "cell_type": "code",
   "execution_count": null,
   "id": "2ce2ee4bf98e53ad",
   "metadata": {
    "collapsed": false
   },
   "outputs": [],
   "source": []
  }
 ],
 "metadata": {
  "kernelspec": {
   "display_name": "Python 3",
   "language": "python",
   "name": "python3"
  },
  "language_info": {
   "codemirror_mode": {
    "name": "ipython",
    "version": 3
   },
   "file_extension": ".py",
   "mimetype": "text/x-python",
   "name": "python",
   "nbconvert_exporter": "python",
   "pygments_lexer": "ipython3",
   "version": "3.13.5"
  }
 },
 "nbformat": 4,
 "nbformat_minor": 5
}
