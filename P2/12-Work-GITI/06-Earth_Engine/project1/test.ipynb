{
 "cells": [
  {
   "cell_type": "code",
   "execution_count": 8,
   "metadata": {},
   "outputs": [],
   "source": [
    "import ee\n",
    "ee.Authenticate()\n",
    "ee.Initialize()\n"
   ]
  },
  {
   "cell_type": "code",
   "execution_count": 9,
   "metadata": {},
   "outputs": [],
   "source": [
    "srtm = ee.Image(\"USGS/SRTMGL1_003\")\n",
    "hydroSHEDS = ee.FeatureCollection(\"WWF/HydroSHEDS/v1/FreeFlowingRivers\")\n"
   ]
  },
  {
   "cell_type": "code",
   "execution_count": 10,
   "metadata": {},
   "outputs": [],
   "source": [
    "road_path = ee.Geometry.LineString(\n",
    "    [[56.0, 31.5], [56.5, 32.0]]  # Replace with actual coordinates\n",
    ")\n",
    "buffer_distance = 500  # Distance in meters\n",
    "study_area = road_path.buffer(buffer_distance)\n"
   ]
  },
  {
   "cell_type": "code",
   "execution_count": 11,
   "metadata": {},
   "outputs": [
    {
     "ename": "AttributeError",
     "evalue": "",
     "output_type": "error",
     "traceback": [
      "\u001b[1;31m---------------------------------------------------------------------------\u001b[0m",
      "\u001b[1;31mKeyError\u001b[0m                                  Traceback (most recent call last)",
      "File \u001b[1;32mc:\\Python Interpreters\\in_CivilPython\\Lib\\site-packages\\ee\\__init__.py:77\u001b[0m, in \u001b[0;36m_AlgorithmsContainer.__getattr__\u001b[1;34m(self, name)\u001b[0m\n\u001b[0;32m     76\u001b[0m \u001b[38;5;28;01mtry\u001b[39;00m:\n\u001b[1;32m---> 77\u001b[0m   \u001b[38;5;28;01mreturn\u001b[39;00m \u001b[38;5;28;43mself\u001b[39;49m\u001b[43m[\u001b[49m\u001b[43mname\u001b[49m\u001b[43m]\u001b[49m\n\u001b[0;32m     78\u001b[0m \u001b[38;5;28;01mexcept\u001b[39;00m \u001b[38;5;167;01mKeyError\u001b[39;00m:\n\u001b[0;32m     79\u001b[0m   \u001b[38;5;66;03m# Match dict's behavior when a key is missing.\u001b[39;00m\n",
      "\u001b[1;31mKeyError\u001b[0m: 'Hydrology'",
      "\nDuring handling of the above exception, another exception occurred:\n",
      "\u001b[1;31mAttributeError\u001b[0m                            Traceback (most recent call last)",
      "Cell \u001b[1;32mIn[11], line 10\u001b[0m\n\u001b[0;32m      7\u001b[0m filled_srtm \u001b[38;5;241m=\u001b[39m fill_sinks(srtm)\n\u001b[0;32m      9\u001b[0m \u001b[38;5;66;03m# Calculate the flow direction using the D8 algorithm\u001b[39;00m\n\u001b[1;32m---> 10\u001b[0m flow_direction \u001b[38;5;241m=\u001b[39m \u001b[43mee\u001b[49m\u001b[38;5;241;43m.\u001b[39;49m\u001b[43mAlgorithms\u001b[49m\u001b[38;5;241;43m.\u001b[39;49m\u001b[43mHydrology\u001b[49m\u001b[38;5;241m.\u001b[39mD8(filled_srtm)\n\u001b[0;32m     12\u001b[0m \u001b[38;5;66;03m# Calculate the flow accumulation\u001b[39;00m\n\u001b[0;32m     13\u001b[0m flow_accumulation \u001b[38;5;241m=\u001b[39m ee\u001b[38;5;241m.\u001b[39mAlgorithms\u001b[38;5;241m.\u001b[39mHydrology\u001b[38;5;241m.\u001b[39maccumulation(flow_direction)\n",
      "File \u001b[1;32mc:\\Python Interpreters\\in_CivilPython\\Lib\\site-packages\\ee\\__init__.py:80\u001b[0m, in \u001b[0;36m_AlgorithmsContainer.__getattr__\u001b[1;34m(self, name)\u001b[0m\n\u001b[0;32m     77\u001b[0m   \u001b[38;5;28;01mreturn\u001b[39;00m \u001b[38;5;28mself\u001b[39m[name]\n\u001b[0;32m     78\u001b[0m \u001b[38;5;28;01mexcept\u001b[39;00m \u001b[38;5;167;01mKeyError\u001b[39;00m:\n\u001b[0;32m     79\u001b[0m   \u001b[38;5;66;03m# Match dict's behavior when a key is missing.\u001b[39;00m\n\u001b[1;32m---> 80\u001b[0m   \u001b[38;5;28;01mraise\u001b[39;00m \u001b[38;5;167;01mAttributeError\u001b[39;00m\n",
      "\u001b[1;31mAttributeError\u001b[0m: "
     ]
    }
   ],
   "source": [
    "def fill_sinks(elevation):\n",
    "    # Simple sink filling algorithm\n",
    "    filled = elevation.focal_min(3).focal_max(3)\n",
    "    return filled\n",
    "\n",
    "# Fill sinks in the elevation data\n",
    "filled_srtm = fill_sinks(srtm)\n",
    "\n",
    "# Calculate the flow direction using the D8 algorithm\n",
    "flow_direction = ee.Algorithms.Hydrology.D8(filled_srtm)\n",
    "\n",
    "# Calculate the flow accumulation\n",
    "flow_accumulation = ee.Algorithms.Hydrology.accumulation(flow_direction)\n",
    "\n",
    "# Threshold to identify streams\n",
    "stream_threshold = 100\n",
    "streams = flow_accumulation.gt(stream_threshold)\n",
    "\n"
   ]
  },
  {
   "cell_type": "code",
   "execution_count": null,
   "metadata": {},
   "outputs": [
    {
     "ename": "NameError",
     "evalue": "name 'streams' is not defined",
     "output_type": "error",
     "traceback": [
      "\u001b[1;31m---------------------------------------------------------------------------\u001b[0m",
      "\u001b[1;31mNameError\u001b[0m                                 Traceback (most recent call last)",
      "Cell \u001b[1;32mIn[5], line 1\u001b[0m\n\u001b[1;32m----> 1\u001b[0m road_intersections \u001b[38;5;241m=\u001b[39m \u001b[43mstreams\u001b[49m\u001b[38;5;241m.\u001b[39mreduceToVectors(\n\u001b[0;32m      2\u001b[0m     geometryType\u001b[38;5;241m=\u001b[39m\u001b[38;5;124m'\u001b[39m\u001b[38;5;124mline\u001b[39m\u001b[38;5;124m'\u001b[39m,\n\u001b[0;32m      3\u001b[0m     reducer\u001b[38;5;241m=\u001b[39mee\u001b[38;5;241m.\u001b[39mReducer\u001b[38;5;241m.\u001b[39mcountEvery(),\n\u001b[0;32m      4\u001b[0m     geometry\u001b[38;5;241m=\u001b[39mstudy_area,\n\u001b[0;32m      5\u001b[0m     scale\u001b[38;5;241m=\u001b[39m\u001b[38;5;241m30\u001b[39m\n\u001b[0;32m      6\u001b[0m )\n\u001b[0;32m      8\u001b[0m road_crossings \u001b[38;5;241m=\u001b[39m road_intersections\u001b[38;5;241m.\u001b[39mfilterBounds(road_path)\n",
      "\u001b[1;31mNameError\u001b[0m: name 'streams' is not defined"
     ]
    }
   ],
   "source": [
    "road_intersections = streams.reduceToVectors(\n",
    "    geometryType='line',\n",
    "    reducer=ee.Reducer.countEvery(),\n",
    "    geometry=study_area,\n",
    "    scale=30\n",
    ")\n",
    "\n",
    "road_crossings = road_intersections.filterBounds(road_path)\n"
   ]
  },
  {
   "cell_type": "code",
   "execution_count": null,
   "metadata": {},
   "outputs": [],
   "source": [
    "task = ee.batch.Export.table.toDrive(**{\n",
    "    'collection': road_crossings,\n",
    "    'description': 'RoadCrossings',\n",
    "    'folder': 'EarthEngineExports',\n",
    "    'fileNamePrefix': 'RoadCrossings',\n",
    "    'fileFormat': 'CSV'\n",
    "})\n",
    "task.start()\n",
    "print(\"Export task started. Check Google Drive for the file once the task is completed.\")\n"
   ]
  },
  {
   "cell_type": "code",
   "execution_count": 12,
   "metadata": {},
   "outputs": [
    {
     "name": "stdout",
     "output_type": "stream",
     "text": [
      "Export task started. Check Google Drive for the file once the task is completed.\n"
     ]
    }
   ],
   "source": [
    "import ee\n",
    "ee.Initialize()\n",
    "\n",
    "# Load datasets\n",
    "srtm = ee.Image(\"USGS/SRTMGL1_003\")\n",
    "\n",
    "# Define study area and road path\n",
    "road_path = ee.Geometry.LineString([[56.0, 31.5], [56.5, 32.0]])\n",
    "buffer_distance = 500  # Distance in meters\n",
    "study_area = road_path.buffer(buffer_distance)\n",
    "\n",
    "# Fill sinks in the elevation data\n",
    "def fill_sinks(elevation):\n",
    "    filled = elevation.focal_min(3).focal_max(3)\n",
    "    return filled\n",
    "\n",
    "filled_srtm = fill_sinks(srtm)\n",
    "\n",
    "# Compute slope and flow direction\n",
    "slope = ee.Terrain.slope(filled_srtm)\n",
    "flow_direction = ee.Terrain.aspect(filled_srtm)\n",
    "\n",
    "# Calculate flow accumulation\n",
    "flow_accumulation = filled_srtm.expression(\n",
    "    '1 + b().multiply(1e6)',\n",
    "    {'b': filled_srtm}).reduceNeighborhood(\n",
    "        reducer=ee.Reducer.sum(),\n",
    "        kernel=ee.Kernel.fixed(3, 3, [[1, 1, 1], [1, 0, 1], [1, 1, 1]])\n",
    "    )\n",
    "\n",
    "# Threshold to identify streams\n",
    "stream_threshold = 100\n",
    "streams = flow_accumulation.gt(stream_threshold)\n",
    "\n",
    "# Find road intersections with flow paths\n",
    "stream_vectors = streams.reduceToVectors(\n",
    "    geometryType='line',\n",
    "    reducer=ee.Reducer.countEvery(),\n",
    "    geometry=study_area,\n",
    "    scale=30\n",
    ")\n",
    "\n",
    "road_crossings = stream_vectors.filterBounds(road_path)\n",
    "\n",
    "# Export data to Google Drive\n",
    "task = ee.batch.Export.table.toDrive(**{\n",
    "    'collection': road_crossings,\n",
    "    'description': 'RoadCrossings',\n",
    "    'folder': 'EarthEngineExports',\n",
    "    'fileNamePrefix': 'RoadCrossings',\n",
    "    'fileFormat': 'CSV'\n",
    "})\n",
    "task.start()\n",
    "\n",
    "print(\"Export task started. Check Google Drive for the file once the task is completed.\")\n"
   ]
  },
  {
   "cell_type": "code",
   "execution_count": null,
   "metadata": {},
   "outputs": [],
   "source": []
  }
 ],
 "metadata": {
  "kernelspec": {
   "display_name": "Python 3",
   "language": "python",
   "name": "python3"
  },
  "language_info": {
   "codemirror_mode": {
    "name": "ipython",
    "version": 3
   },
   "file_extension": ".py",
   "mimetype": "text/x-python",
   "name": "python",
   "nbconvert_exporter": "python",
   "pygments_lexer": "ipython3",
   "version": "3.12.2"
  }
 },
 "nbformat": 4,
 "nbformat_minor": 2
}
