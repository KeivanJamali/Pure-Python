{
 "cells": [
  {
   "cell_type": "markdown",
   "id": "a2a9fa09",
   "metadata": {},
   "source": [
    "---\n",
    "\n",
    "---\n",
    "\n",
    "---\n",
    "\n",
    "# Chapter 2: Modular Code Design for SimPy Simulations\n",
    "\n",
    "---\n",
    "\n",
    "### Overview\n",
    "\n",
    "In this chapter, we will explore the reusable, modular code structures I developed to implement our homework projects using SimPy.  \n",
    "These building blocks enable flexible and efficient simulation modeling across different scenarios.\n",
    "\n",
    "---\n",
    "\n",
    "---\n",
    "\n",
    "---"
   ]
  },
  {
   "cell_type": "code",
   "execution_count": null,
   "id": "cf039219",
   "metadata": {},
   "outputs": [],
   "source": []
  },
  {
   "cell_type": "markdown",
   "id": "55cad2b1",
   "metadata": {},
   "source": [
    "## 🔢 Number Generators: Creating Random Variables\n",
    "\n",
    "These classes generate random numbers for inter-arrival and service times in the simulation.\n",
    "\n",
    "```python\n",
    "class Exponential_Generator:\n",
    "    def __init__(self, seed:int, mean:float) -> None:\n",
    "        self.mean = mean\n",
    "        self.rng = np.random.default_rng(seed=seed)\n",
    "\n",
    "    def __call__(self):\n",
    "        return self.rng.exponential(self.mean)\n",
    "```\n",
    "\n",
    "* This class uses NumPy’s random generator to produce exponential random variables.\n",
    "* We call it like a function to get a new sample every time (e.g., `arrival_gen()`).\n"
   ]
  },
  {
   "cell_type": "code",
   "execution_count": null,
   "id": "5a7ac725",
   "metadata": {},
   "outputs": [],
   "source": []
  },
  {
   "cell_type": "markdown",
   "id": "22b2e2d1",
   "metadata": {},
   "source": [
    "## 🧍 Customer: The Basic Unit of the Simulation\n",
    "\n",
    "Each customer is a process that requests the server, waits, gets served, and leaves.\n",
    "\n",
    "```python\n",
    "def process(self):\n",
    "    with self.server.request() as request:\n",
    "        yield request  # Wait for the server to be free\n",
    "\n",
    "        wait_time_in_queue = self.env.now - self.arrival_time\n",
    "        yield self.env.timeout(self.service_time)  # Service time\n",
    "\n",
    "        wait_time_in_system = wait_time_in_queue + self.service_time\n",
    "        # Update statistics here\n",
    "```\n",
    "\n",
    "* The customer **requests** access to the server (resource).\n",
    "* Waits if busy, then uses the server for `service_time`.\n",
    "* Tracks and saves waiting times for analysis.\n"
   ]
  },
  {
   "cell_type": "code",
   "execution_count": null,
   "id": "3b8d5e97",
   "metadata": {},
   "outputs": [],
   "source": []
  },
  {
   "cell_type": "markdown",
   "id": "f4f22b3f",
   "metadata": {},
   "source": [
    "\n",
    "## ⚙️ Queue: The Simulation Engine\n",
    "\n",
    "Manages arrivals, queue, and dispatching customers to servers.\n",
    "\n",
    "### Key parts of the queue:\n",
    "\n",
    "---\n",
    "\n",
    "1. **Arrival Process:** Generates customers according to arrival distribution.\n",
    "\n",
    "```python\n",
    "while True:\n",
    "    interarrival = self.arrival_gen()\n",
    "    yield self.env.timeout(interarrival)  # Wait between arrivals\n",
    "\n",
    "    # Create new customer and add to queue\n",
    "```\n",
    "\n",
    "---\n",
    "\n",
    "2. **Dispatcher Process:** Sends waiting customers to the server as soon as it is free.\n",
    "\n",
    "```python\n",
    "while True:\n",
    "    # Wait for event of customer arrival or completion\n",
    "    result_event = yield self.callbacks[\"customer_arrived_event\"] | self.callbacks[\"dispatcher_event\"]\n",
    "\n",
    "    if len(self.server.users) < self.server.capacity and len(self.customers_in_queue) > 0:\n",
    "        customer_id = policy_function(self.customers_in_queue)\n",
    "        self.customer_in_system[customer_id].active()  # Start service\n",
    "```\n",
    "\n",
    "---\n",
    "\n",
    "* The **simulation environment** (`self.env`) advances step by step.\n",
    "* The queue can be stopped by time or by a customer limit.\n",
    "* The modular design lets us easily change arrival/service generators or dispatch policies.\n"
   ]
  },
  {
   "cell_type": "code",
   "execution_count": null,
   "id": "89eae9ae",
   "metadata": {},
   "outputs": [],
   "source": []
  },
  {
   "cell_type": "code",
   "execution_count": null,
   "id": "6ecaebe4",
   "metadata": {},
   "outputs": [],
   "source": []
  },
  {
   "cell_type": "code",
   "execution_count": null,
   "id": "9c643517",
   "metadata": {},
   "outputs": [],
   "source": []
  }
 ],
 "metadata": {
  "kernelspec": {
   "display_name": "Python 3",
   "language": "python",
   "name": "python3"
  },
  "language_info": {
   "codemirror_mode": {
    "name": "ipython",
    "version": 3
   },
   "file_extension": ".py",
   "mimetype": "text/x-python",
   "name": "python",
   "nbconvert_exporter": "python",
   "pygments_lexer": "ipython3",
   "version": "3.12.1"
  }
 },
 "nbformat": 4,
 "nbformat_minor": 5
}
