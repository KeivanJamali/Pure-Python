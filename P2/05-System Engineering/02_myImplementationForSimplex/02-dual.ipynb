{
 "cells": [
  {
   "cell_type": "code",
   "execution_count": 1,
   "metadata": {},
   "outputs": [],
   "source": [
    "%load_ext autoreload\n",
    "%autoreload 2\n",
    "from Simplex import Simplex, Problem_Prepration, Sensitivity_Analysis, Dual\n",
    "import numpy as np \n",
    "import matplotlib.pyplot as plt \n",
    "import pandas as pd "
   ]
  },
  {
   "cell_type": "code",
   "execution_count": 2,
   "metadata": {},
   "outputs": [
    {
     "name": "stdout",
     "output_type": "stream",
     "text": [
      "[INFO] Add slack\n",
      "[INFO] Add slack\n",
      "[INFO] Add slack\n",
      "[INFO] Parameter x1 remains same.\n",
      "[INFO] Parameter x2 remains same.\n",
      "[INFO] Parameter x3 remains same.\n",
      "[INFO] One phase solution\n",
      "Finished.\n",
      "|    |   Current Values |   x1 |   x2 |   x3 |   s1 |   s2 |   s3 |\n",
      "|----|------------------|------|------|------|------|------|------|\n",
      "|  0 |            912.0 | 72.0 | 96.0 |  0.0 |  0.0 |  0.0 | 60.0 |\n",
      "\n"
     ]
    }
   ],
   "source": [
    "objective_function = [0, 6, 5, 4]\n",
    "constraints = [[240, 2, 1, 1], [360, 1, 3, 2], [300, 2, 1, 2]]\n",
    "equality = [\"ineq\", \"ineq\", \"ineq\"]\n",
    "parameters = [(\"x1\", \"+\"), (\"x2\", \"+\"), (\"x3\", \"+\")]\n",
    "\n",
    "problem = Problem_Prepration(\n",
    "    objective_function=objective_function,\n",
    "    constraints=constraints,\n",
    "    equality=equality,\n",
    "    parameters=parameters,\n",
    "    mode=\"max\",\n",
    ")\n",
    "\n",
    "simplex = Simplex(problem=problem)\n",
    "simplex.fit()\n",
    "print()\n",
    "# simplex.make_table(format_=\"github\")"
   ]
  },
  {
   "cell_type": "code",
   "execution_count": null,
   "metadata": {},
   "outputs": [],
   "source": [
    "objective_function = [0, 2, 1]\n",
    "constraints = [[4, 1, 1], [2, 1, -1]]\n",
    "equality = [\"ineq\", \"ineq\"]\n",
    "parameters = [(\"x1\", \"+\"), (\"x2\", \"+\")]\n",
    "mode = \"max\"\n",
    "\n",
    "problem = Problem_Prepration(\n",
    "    objective_function=objective_function,\n",
    "    constraints=constraints,\n",
    "    equality=equality,\n",
    "    parameters=parameters,\n",
    "    mode=mode,\n",
    ")\n",
    "\n",
    "simplex = Simplex(problem=problem, number_of_dashes=15)\n",
    "simplex.fit()\n"
   ]
  },
  {
   "cell_type": "code",
   "execution_count": 4,
   "metadata": {},
   "outputs": [
    {
     "name": "stdout",
     "output_type": "stream",
     "text": [
      "[INFO] Dual Problem setting is set successfully.\n",
      "[INFO] Add excess & artificial\n",
      "[INFO] Add excess & artificial\n",
      "[INFO] Parameter Y1 remains same.\n",
      "[INFO] Parameter Y2 remains same.\n",
      "[INFO] Dual New Problem had been made successfully.\n",
      "[INFO] Two phase solution\n",
      "[INFO] Phase I starts | Finished\n",
      "[INFO] Phase II Starts | Finished.\n",
      "|    |   Current Values |   Y1 |   Y2 |   e1 |   y1 |   e2 |   y2 |\n",
      "|----|------------------|------|------|------|------|------|------|\n",
      "|  0 |              7.0 |  1.5 |  0.5 |  0.0 |  0.0 |  0.0 |  0.0 |\n",
      "\n"
     ]
    }
   ],
   "source": [
    "dual_problem = Dual(objective_function=objective_function, constraints=constraints, equality=equality, parameters=parameters, mode=mode)\n",
    "dual_problem.fit()\n",
    "simplex = Simplex(problem=dual_problem.problem)\n",
    "simplex.fit(max_iterations=10)"
   ]
  },
  {
   "cell_type": "code",
   "execution_count": 3,
   "metadata": {},
   "outputs": [
    {
     "name": "stdout",
     "output_type": "stream",
     "text": [
      "[INFO] Add slack\n",
      "[INFO] Add slack\n",
      "[INFO] Parameter Y1 remains same.\n",
      "[INFO] Parameter Y2 remains same.\n",
      "[INFO] One phase solution\n",
      "[ERROR] Failed to find pivot row. Go to Simplex._find_pivot_row function to fix this issue. It is most probably Unbounded!\n",
      "[DONE] Unbounded!!!\n",
      "Finished.\n",
      "|    |   Current Values |   Y1 |   Y2 |   s1 |   s2 |\n",
      "|----|------------------|------|------|------|------|\n",
      "|  0 |              4.0 |  2.0 |  0.0 |  2.0 |  0.0 |\n",
      "\n"
     ]
    }
   ],
   "source": [
    "objective_function = [0, 2, 1]\n",
    "constraints = [[4, 1, -1],[2, 1, -1]]\n",
    "equality = [\"ineq\", \"ineq\"]\n",
    "parameters = [(\"Y1\", \"+\"), (\"Y2\", \"+\")]\n",
    "mode = \"max\"\n",
    "\n",
    "problem = Problem_Prepration(\n",
    "    objective_function=objective_function,\n",
    "    constraints=constraints,\n",
    "    equality=equality,\n",
    "    parameters=parameters,\n",
    "    mode=mode,\n",
    ")\n",
    "\n",
    "simplex = Simplex(problem=problem, number_of_dashes=15)\n",
    "simplex.fit(max_iterations=8)\n",
    "print()\n",
    "# simplex.make_table(format_=\"github\")"
   ]
  },
  {
   "cell_type": "code",
   "execution_count": 4,
   "metadata": {},
   "outputs": [
    {
     "name": "stdout",
     "output_type": "stream",
     "text": [
      "[INFO] Dual Problem setting is set successfully.\n",
      "[INFO] Add excess & artificial\n",
      "[INFO] Add excess & artificial\n",
      "[INFO] Parameter x1 remains same.\n",
      "[INFO] Parameter x2 remains same.\n",
      "[INFO] Dual New Problem had been made successfully.\n",
      "[INFO] Two phase solution\n",
      "[INFO] Phase I starts | [ERROR] Limit of iteration exceeded.(iteration=10)\n",
      "[DONE] INFEASIBLE!!!\n",
      "Finished\n",
      "|    | Current Values       | x1                   | x2                   | e1                   | y1                   | e2                   | y2                   | Basic Variables      |\n",
      "|----|----------------------|----------------------|----------------------|----------------------|----------------------|----------------------|----------------------|----------------------|\n",
      "|  0 | -2.0                 | -1.0                 | -1.0                 | 1.0                  | -1.0                 | 0.0                  | 0.0                  | y1                   |\n",
      "|  1 | -1.0                 | 1.0                  | 1.0                  | 0.0                  | 0.0                  | 1.0                  | -1.0                 | y2                   |\n",
      "|  2 | 0.0                  | -4.0                 | -2.0                 | 0.0                  | 0.0                  | 0.0                  | 0.0                  | -z1                  |\n",
      "|  3 | 0.0                  | 0.0                  | 0.0                  | 0.0                  | -1.0                 | 0.0                  | -1.0                 | -w1                  |\n",
      "|  4 | -------------------- | -------------------- | -------------------- | -------------------- | -------------------- | -------------------- | -------------------- | -------------------- |\n",
      "|  5 | -2.0                 | -1.0                 | -1.0                 | 1.0                  | -1.0                 | 0.0                  | 0.0                  | y1                   |\n",
      "|  6 | -1.0                 | 1.0                  | 1.0                  | 0.0                  | 0.0                  | 1.0                  | -1.0                 | y2                   |\n",
      "|  7 | 0.0                  | -4.0                 | -2.0                 | 0.0                  | 0.0                  | 0.0                  | 0.0                  | -z2                  |\n",
      "|  8 | 3.0                  | 0.0                  | 0.0                  | -1.0                 | 0.0                  | -1.0                 | 0.0                  | -w2                  |\n",
      "|  9 | -------------------- | -------------------- | -------------------- | -------------------- | -------------------- | -------------------- | -------------------- | -------------------- |\n",
      "| 10 | 2.0                  | 1.0                  | 1.0                  | -1.0                 | 1.0                  | -0.0                 | -0.0                 | x1                   |\n",
      "| 11 | -3.0                 | 0.0                  | 0.0                  | 1.0                  | -1.0                 | 1.0                  | -1.0                 | y2                   |\n",
      "| 12 | 8.0                  | 0.0                  | 2.0                  | -4.0                 | 4.0                  | 0.0                  | 0.0                  | -z3                  |\n",
      "| 13 | 3.0                  | 0.0                  | 0.0                  | -1.0                 | 0.0                  | -1.0                 | 0.0                  | -w3                  |\n",
      "| 14 | -------------------- | -------------------- | -------------------- | -------------------- | -------------------- | -------------------- | -------------------- | -------------------- |\n",
      "| 15 | 2.0                  | 1.0                  | 1.0                  | -1.0                 | 1.0                  | -0.0                 | -0.0                 | x2                   |\n",
      "| 16 | -3.0                 | 0.0                  | 0.0                  | 1.0                  | -1.0                 | 1.0                  | -1.0                 | y2                   |\n",
      "| 17 | 4.0                  | -2.0                 | 0.0                  | -2.0                 | 2.0                  | 0.0                  | 0.0                  | -z4                  |\n",
      "| 18 | 3.0                  | 0.0                  | 0.0                  | -1.0                 | 0.0                  | -1.0                 | 0.0                  | -w4                  |\n",
      "| 19 | -------------------- | -------------------- | -------------------- | -------------------- | -------------------- | -------------------- | -------------------- | -------------------- |\n",
      "| 20 | 2.0                  | 1.0                  | 1.0                  | -1.0                 | 1.0                  | -0.0                 | -0.0                 | x1                   |\n",
      "| 21 | -3.0                 | 0.0                  | 0.0                  | 1.0                  | -1.0                 | 1.0                  | -1.0                 | y2                   |\n",
      "| 22 | 8.0                  | 0.0                  | 2.0                  | -4.0                 | 4.0                  | 0.0                  | 0.0                  | -z5                  |\n",
      "| 23 | 3.0                  | 0.0                  | 0.0                  | -1.0                 | 0.0                  | -1.0                 | 0.0                  | -w5                  |\n",
      "| 24 | -------------------- | -------------------- | -------------------- | -------------------- | -------------------- | -------------------- | -------------------- | -------------------- |\n",
      "| 25 | 2.0                  | 1.0                  | 1.0                  | -1.0                 | 1.0                  | -0.0                 | -0.0                 | x2                   |\n",
      "| 26 | -3.0                 | 0.0                  | 0.0                  | 1.0                  | -1.0                 | 1.0                  | -1.0                 | y2                   |\n",
      "| 27 | 4.0                  | -2.0                 | 0.0                  | -2.0                 | 2.0                  | 0.0                  | 0.0                  | -z6                  |\n",
      "| 28 | 3.0                  | 0.0                  | 0.0                  | -1.0                 | 0.0                  | -1.0                 | 0.0                  | -w6                  |\n",
      "| 29 | -------------------- | -------------------- | -------------------- | -------------------- | -------------------- | -------------------- | -------------------- | -------------------- |\n",
      "| 30 | 2.0                  | 1.0                  | 1.0                  | -1.0                 | 1.0                  | -0.0                 | -0.0                 | x1                   |\n",
      "| 31 | -3.0                 | 0.0                  | 0.0                  | 1.0                  | -1.0                 | 1.0                  | -1.0                 | y2                   |\n",
      "| 32 | 8.0                  | 0.0                  | 2.0                  | -4.0                 | 4.0                  | 0.0                  | 0.0                  | -z7                  |\n",
      "| 33 | 3.0                  | 0.0                  | 0.0                  | -1.0                 | 0.0                  | -1.0                 | 0.0                  | -w7                  |\n",
      "| 34 | -------------------- | -------------------- | -------------------- | -------------------- | -------------------- | -------------------- | -------------------- | -------------------- |\n",
      "| 35 | 2.0                  | 1.0                  | 1.0                  | -1.0                 | 1.0                  | -0.0                 | -0.0                 | x2                   |\n",
      "| 36 | -3.0                 | 0.0                  | 0.0                  | 1.0                  | -1.0                 | 1.0                  | -1.0                 | y2                   |\n",
      "| 37 | 4.0                  | -2.0                 | 0.0                  | -2.0                 | 2.0                  | 0.0                  | 0.0                  | -z8                  |\n",
      "| 38 | 3.0                  | 0.0                  | 0.0                  | -1.0                 | 0.0                  | -1.0                 | 0.0                  | -w8                  |\n",
      "| 39 | -------------------- | -------------------- | -------------------- | -------------------- | -------------------- | -------------------- | -------------------- | -------------------- |\n",
      "| 40 | 2.0                  | 1.0                  | 1.0                  | -1.0                 | 1.0                  | -0.0                 | -0.0                 | x1                   |\n",
      "| 41 | -3.0                 | 0.0                  | 0.0                  | 1.0                  | -1.0                 | 1.0                  | -1.0                 | y2                   |\n",
      "| 42 | 8.0                  | 0.0                  | 2.0                  | -4.0                 | 4.0                  | 0.0                  | 0.0                  | -z9                  |\n",
      "| 43 | 3.0                  | 0.0                  | 0.0                  | -1.0                 | 0.0                  | -1.0                 | 0.0                  | -w9                  |\n",
      "| 44 | -------------------- | -------------------- | -------------------- | -------------------- | -------------------- | -------------------- | -------------------- | -------------------- |\n"
     ]
    }
   ],
   "source": [
    "dual_problem = Dual(objective_function, constraints, equality, parameters, mode)\n",
    "dual_problem.fit()\n",
    "simplex = Simplex(problem=dual_problem.problem)\n",
    "simplex.fit(max_iterations=10)\n",
    "simplex.make_table()\n"
   ]
  },
  {
   "cell_type": "code",
   "execution_count": 7,
   "metadata": {},
   "outputs": [
    {
     "name": "stdout",
     "output_type": "stream",
     "text": [
      "[INFO] Add slack\n",
      "[INFO] Add excess & artificial\n",
      "[INFO] Add slack\n",
      "[INFO] Add slack\n",
      "[INFO] Parameter x_A remains same.\n",
      "[INFO] Parameter x_B remains same.\n",
      "[INFO] Parameter x_C remains same.\n",
      "[INFO] Parameter x_D remains same.\n",
      "[INFO] Parameter x_E remains same.\n",
      "[INFO] Two phase solution\n",
      "[INFO] Phase I starts | Finished\n",
      "[INFO] Phase II Starts | Finished.\n",
      "|    |   Current Values |   x_A |   x_B |   x_C |   x_D |   x_E |   s1 |   e1 |   y1 |    s2 |    s3 |\n",
      "|----|------------------|-------|-------|-------|-------|-------|------|------|------|-------|-------|\n",
      "|  0 |              0.4 |   0.0 |   4.0 |   0.0 |   0.0 |   6.0 |  0.0 |  0.0 |  0.0 | -24.0 | -22.0 |\n",
      "\n",
      "| Basic Variables   | Current Values   | x_A                    | x_B             | x_C                    | x_D                   | x_E             | s1              | e1              | y1              | s2              | s3              |\n",
      "|-------------------|------------------|------------------------|-----------------|------------------------|-----------------------|-----------------|-----------------|-----------------|-----------------|-----------------|-----------------|\n",
      "| s1                | 10.0             | 1.0                    | 1.0             | 1.0                    | 1.0                   | 1.0             | 1.0             | 0.0             | 0.0             | 0.0             | 0.0             |\n",
      "| y1                | -4.0             | 0.0                    | -1.0            | -1.0                   | -1.0                  | 0.0             | 0.0             | 1.0             | -1.0            | 0.0             | 0.0             |\n",
      "| s2                | 0.0              | 0.6                    | 0.6             | -0.4                   | -0.4                  | 3.6             | 0.0             | 0.0             | 0.0             | 1.0             | 0.0             |\n",
      "| s3                | 0.0              | 4.0                    | 10.0            | -1.0                   | -2.0                  | -3.0            | 0.0             | 0.0             | 0.0             | 0.0             | 1.0             |\n",
      "| -z1               | 0.0              | 0.043                  | 0.027           | 0.025                  | 0.022                 | 0.045           | 0.0             | 0.0             | 0.0             | 0.0             | 0.0             |\n",
      "| -w1               | 0.0              | 0.0                    | 0.0             | 0.0                    | 0.0                   | 0.0             | 0.0             | 0.0             | -1.0            | 0.0             | 0.0             |\n",
      "| ---------------   | ---------------  | ---------------        | --------------- | ---------------        | ---------------       | --------------- | --------------- | --------------- | --------------- | --------------- | --------------- |\n",
      "| s1                | 10.0             | 1.0                    | 1.0             | 1.0                    | 1.0                   | 1.0             | 1.0             | 0.0             | 0.0             | 0.0             | 0.0             |\n",
      "| y1                | -4.0             | 0.0                    | -1.0            | -1.0                   | -1.0                  | 0.0             | 0.0             | 1.0             | -1.0            | 0.0             | 0.0             |\n",
      "| s2                | 0.0              | 0.6                    | 0.6             | -0.4                   | -0.4                  | 3.6             | 0.0             | 0.0             | 0.0             | 1.0             | 0.0             |\n",
      "| s3                | 0.0              | 4.0                    | 10.0            | -1.0                   | -2.0                  | -3.0            | 0.0             | 0.0             | 0.0             | 0.0             | 1.0             |\n",
      "| -z2               | 0.0              | 0.043                  | 0.027           | 0.025                  | 0.022                 | 0.045           | 0.0             | 0.0             | 0.0             | 0.0             | 0.0             |\n",
      "| -w2               | 4.0              | 0.0                    | 1.0             | 1.0                    | 1.0                   | 0.0             | 0.0             | -1.0            | 0.0             | 0.0             | 0.0             |\n",
      "| ---------------   | ---------------  | ---------------        | --------------- | ---------------        | ---------------       | --------------- | --------------- | --------------- | --------------- | --------------- | --------------- |\n",
      "| s1                | 6.0              | 1.0                    | 0.0             | 0.0                    | 0.0                   | 1.0             | 1.0             | 1.0             | -1.0            | 0.0             | 0.0             |\n",
      "| x_B               | 4.0              | -0.0                   | 1.0             | 1.0                    | 1.0                   | -0.0            | -0.0            | -1.0            | 1.0             | -0.0            | -0.0            |\n",
      "| s2                | -2.4             | 0.6                    | 0.0             | -1.0                   | -1.0                  | 3.6             | 0.0             | 0.6             | -0.6            | 1.0             | 0.0             |\n",
      "| s3                | -40.0            | 4.0                    | 0.0             | -11.0                  | -12.0                 | -3.0            | 0.0             | 10.0            | -10.0           | 0.0             | 1.0             |\n",
      "| -z3               | -0.108           | 0.043                  | 0.0             | -0.0019999999999999983 | -0.005000000000000001 | 0.045           | 0.0             | 0.027           | -0.027          | 0.0             | 0.0             |\n",
      "| -w3               | 0.0              | 0.0                    | 0.0             | 0.0                    | 0.0                   | 0.0             | 0.0             | 0.0             | -1.0            | 0.0             | 0.0             |\n",
      "| ---------------   | ---------------  | ---------------        | --------------- | ---------------        | ---------------       | --------------- | --------------- | --------------- | --------------- | --------------- | --------------- |\n",
      "| s1                | 6.0              | 1.0                    | 0.0             | 0.0                    | 0.0                   | 1.0             | 1.0             | 1.0             | -1.0            | 0.0             | 0.0             |\n",
      "| x_B               | 4.0              | -0.0                   | 1.0             | 1.0                    | 1.0                   | -0.0            | -0.0            | -1.0            | 1.0             | -0.0            | -0.0            |\n",
      "| s2                | -2.4             | 0.6                    | 0.0             | -1.0                   | -1.0                  | 3.6             | 0.0             | 0.6             | -0.6            | 1.0             | 0.0             |\n",
      "| s3                | -40.0            | 4.0                    | 0.0             | -11.0                  | -12.0                 | -3.0            | 0.0             | 10.0            | -10.0           | 0.0             | 1.0             |\n",
      "| -z4               | -0.108           | 0.043                  | 0.0             | -0.0019999999999999983 | -0.005000000000000001 | 0.045           | 0.0             | 0.027           | -0.027          | 0.0             | 0.0             |\n",
      "| ---------------   | ---------------  | ---------------        | --------------- | ---------------        | ---------------       | --------------- | --------------- | --------------- | --------------- | --------------- | --------------- |\n",
      "| x_E               | 6.0              | 1.0                    | 0.0             | 0.0                    | 0.0                   | 1.0             | 1.0             | 1.0             | -1.0            | 0.0             | 0.0             |\n",
      "| x_B               | 4.0              | 0.0                    | 1.0             | 1.0                    | 1.0                   | 0.0             | 0.0             | -1.0            | 1.0             | 0.0             | 0.0             |\n",
      "| s2                | -24.0            | -3.0                   | 0.0             | -1.0                   | -1.0                  | 0.0             | -3.6            | -3.0            | 3.0             | 1.0             | 0.0             |\n",
      "| s3                | -22.0            | 7.0                    | 0.0             | -11.0                  | -12.0                 | 0.0             | 3.0             | 13.0            | -13.0           | 0.0             | 1.0             |\n",
      "| -z5               | -0.378           | -0.0020000000000000018 | 0.0             | -0.0019999999999999983 | -0.005000000000000001 | 0.0             | -0.045          | -0.018          | 0.018           | 0.0             | 0.0             |\n",
      "| ---------------   | ---------------  | ---------------        | --------------- | ---------------        | ---------------       | --------------- | --------------- | --------------- | --------------- | --------------- | --------------- |\n"
     ]
    },
    {
     "data": {
      "text/plain": [
       "| Basic Variables      | Current Values       | x_A                  | x_B                  | x_C                  | x_D                  | x_E                  | s1                   | e1                   | y1                   | s2                   | s3                   |\n",
       "|----------------------|----------------------|----------------------|----------------------|----------------------|----------------------|----------------------|----------------------|----------------------|----------------------|----------------------|----------------------|\n",
       "| x_E                  | 10                   | 1.0                  | 1.0                  | 1.0                  | 1.0                  | 1.0                  | 1                    | 0                    | 0                    | 0                    | 0                    |\n",
       "| x_B                  | -4                   | 0.0                  | -1.0                 | -1.0                 | -1.0                 | 0.0                  | 0                    | 1                    | -1                   | 0                    | 0                    |\n",
       "| s2                   | 0                    | 0.6                  | 0.6                  | -0.4                 | -0.4                 | 3.6                  | 0                    | 0                    | 0                    | 1                    | 0                    |\n",
       "| s3                   | 0                    | 4.0                  | 10.0                 | -1.0                 | -2.0                 | -3.0                 | 0                    | 0                    | 0                    | 0                    | 1                    |\n",
       "| -z                   | 0                    | 0.043                | 0.027                | 0.025                | 0.022                | 0.045                | 0                    | 0                    | 0                    | 0                    | 0                    |\n",
       "| -------------------- | -------------------- | -------------------- | -------------------- | -------------------- | -------------------- | -------------------- | -------------------- | -------------------- | -------------------- | -------------------- | -------------------- |"
      ]
     },
     "execution_count": 7,
     "metadata": {},
     "output_type": "execute_result"
    }
   ],
   "source": [
    "objective_function = [0, 0.043, 0.027, 0.025, 0.022, 0.045]\n",
    "constraints = [[10, 1, 1, 1, 1, 1], [-4, 0, -1, -1, -1, 0], [0, 0.6, 0.6, -0.4, -0.4, 3.6], [0, 4, 10, -1, -2, -3]]\n",
    "equality = [\"ineq\", \"ineq\", \"ineq\", \"ineq\"]\n",
    "parameters = [(\"x_A\", \"+\"), (\"x_B\", \"+\"), (\"x_C\", \"+\"), (\"x_D\", \"+\"), (\"x_E\", \"+\")]\n",
    "mode = \"max\"\n",
    "\n",
    "problem = Problem_Prepration(\n",
    "    objective_function=objective_function,\n",
    "    constraints=constraints,\n",
    "    equality=equality,\n",
    "    parameters=parameters,\n",
    "    mode=mode,\n",
    ")\n",
    "\n",
    "simplex = Simplex(problem=problem, number_of_dashes=15)\n",
    "simplex.fit(max_iterations=8)\n",
    "print()\n",
    "simplex.make_table(format_=\"github\")\n",
    "problem"
   ]
  },
  {
   "cell_type": "code",
   "execution_count": 21,
   "metadata": {},
   "outputs": [
    {
     "name": "stdout",
     "output_type": "stream",
     "text": [
      "[INFO] Dual Problem setting is set successfully.\n",
      "[INFO] Add excess & artificial\n",
      "[INFO] Add excess & artificial\n",
      "[INFO] Add excess & artificial\n",
      "[INFO] Add excess & artificial\n",
      "[INFO] Add excess & artificial\n",
      "[INFO] Parameter Y1 remains same.\n",
      "[INFO] Parameter Y2 remains same.\n",
      "[INFO] Parameter Y3 remains same.\n",
      "[INFO] Parameter Y4 remains same.\n",
      "[INFO] Dual New Problem had been made successfully.\n",
      "[INFO] Two phase solution\n",
      "[INFO] Phase I starts | Finished\n",
      "[INFO] Phase II Starts | Finished.\n",
      "|    |   Current Values |   Y1 |   Y2 |   Y3 |   Y4 |   e1 |   y1 |   e2 |   y2 |   e3 |   y3 |   e4 |   y4 |   e5 |   y5 |\n",
      "|----|------------------|------|------|------|------|------|------|------|------|------|------|------|------|------|------|\n",
      "|  0 |              0.3 |  0.0 |  0.0 |  0.0 |  0.0 |  0.0 |  0.0 |  0.0 |  0.0 |  0.0 |  0.0 |  0.0 |  0.0 |  0.0 |  0.0 |\n",
      "\n"
     ]
    }
   ],
   "source": [
    "dual_problem = Dual(objective_function, constraints, equality, parameters, mode)\n",
    "dual_problem.fit()\n",
    "simplex2 = Simplex(problem=dual_problem.problem)\n",
    "simplex2.fit()\n",
    "print()\n",
    "# simplex2.make_table()\n",
    "# dual_problem"
   ]
  }
 ],
 "metadata": {
  "kernelspec": {
   "display_name": "Python 3",
   "language": "python",
   "name": "python3"
  },
  "language_info": {
   "codemirror_mode": {
    "name": "ipython",
    "version": 3
   },
   "file_extension": ".py",
   "mimetype": "text/x-python",
   "name": "python",
   "nbconvert_exporter": "python",
   "pygments_lexer": "ipython3",
   "version": "3.12.1"
  }
 },
 "nbformat": 4,
 "nbformat_minor": 2
}
