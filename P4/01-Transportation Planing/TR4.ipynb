{
 "cells": [
  {
   "cell_type": "code",
   "execution_count": 60,
   "metadata": {},
   "outputs": [
    {
     "data": {
      "text/markdown": [
       "## For 95% of confidence\n",
       " #### 92 out of 100 \n",
       " \n",
       " \n",
       " ## For 99% of confidence\n",
       " #### 99 out of 100"
      ],
      "text/plain": [
       "<IPython.core.display.Markdown object>"
      ]
     },
     "metadata": {},
     "output_type": "display_data"
    }
   ],
   "source": [
    "import random\n",
    "from IPython.display import display, Markdown\n",
    "def generate_numbers_with_mean():\n",
    "    generated_numbers = []\n",
    "    numbers = set(range(1, 1001))\n",
    "    for _ in range(100):\n",
    "        num = random.choice(list(numbers))\n",
    "        numbers = numbers - {num}\n",
    "        generated_numbers.append(num)\n",
    "    return generated_numbers, sum(generated_numbers)/100\n",
    "data = {}\n",
    "for i in range(1, 101):\n",
    "    n, m = generate_numbers_with_mean()\n",
    "    data[f\"iter{i}\"] = {\"numbers\":n , \"mean\":m}\n",
    "boundry95, boundry99 = [443.91, 557.09], [426.13, 574.87]\n",
    "res_95, res_99 = 0, 0\n",
    "for i in range(1, 101):\n",
    "    mean_data = data[f\"iter{i}\"][\"mean\"]\n",
    "    if boundry95[0] <= mean_data <= boundry95[1]:\n",
    "        res_95 += 1\n",
    "    if boundry99[0] <= mean_data <= boundry99[1]:\n",
    "        res_99 += 1\n",
    "display(Markdown(f\"## For 95% of confidence\\n #### {res_95} out of 100 \\n \\n \\n ## For 99% of confidence\\n #### {res_99} out of 100\"))"
   ]
  }
 ],
 "metadata": {
  "kernelspec": {
   "display_name": "Python 3",
   "language": "python",
   "name": "python3"
  },
  "language_info": {
   "codemirror_mode": {
    "name": "ipython",
    "version": 3
   },
   "file_extension": ".py",
   "mimetype": "text/x-python",
   "name": "python",
   "nbconvert_exporter": "python",
   "pygments_lexer": "ipython3",
   "version": "3.13.0"
  }
 },
 "nbformat": 4,
 "nbformat_minor": 2
}
