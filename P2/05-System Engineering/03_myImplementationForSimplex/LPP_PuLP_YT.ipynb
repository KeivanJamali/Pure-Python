{
 "cells": [
  {
   "cell_type": "code",
   "id": "ed13f704",
   "metadata": {
    "ExecuteTime": {
     "end_time": "2024-04-06T20:26:12.190275Z",
     "start_time": "2024-04-06T20:26:12.109528Z"
    }
   },
   "source": "import pulp as p",
   "outputs": [],
   "execution_count": 1
  },
  {
   "metadata": {
    "jupyter": {
     "is_executing": true
    }
   },
   "cell_type": "code",
   "source": "import torch",
   "id": "1925ff9cbe5dca5e",
   "outputs": [],
   "execution_count": null
  },
  {
   "metadata": {
    "ExecuteTime": {
     "end_time": "2024-04-06T20:01:45.406083Z",
     "start_time": "2024-04-06T20:01:45.265636Z"
    }
   },
   "cell_type": "code",
   "source": "!pip3 uninstall pulp",
   "id": "f543407bb3715b01",
   "outputs": [],
   "execution_count": 2
  },
  {
   "cell_type": "code",
   "id": "8e7410e1",
   "metadata": {},
   "source": [
    "Lp_prob = p.LpProblem('Problem1', p.LpMaximize)"
   ],
   "outputs": [],
   "execution_count": null
  },
  {
   "cell_type": "markdown",
   "id": "9ebd596d",
   "metadata": {},
   "source": [
    "## Decision Variables"
   ]
  },
  {
   "cell_type": "code",
   "id": "510e2f42",
   "metadata": {},
   "source": [
    "var = []\n",
    "\n",
    "for i in [\"A\", \"B\", \"C\"]:\n",
    "    for j in [\"1\", \"2\", \"3\"]:\n",
    "        for k in [\"1\", \"2\"]:\n",
    "            var.append(p.LpVariable(f\"x_{i}_{j}_{k}\", lowBound=0))"
   ],
   "outputs": [],
   "execution_count": null
  },
  {
   "cell_type": "markdown",
   "id": "ce816ad4",
   "metadata": {},
   "source": [
    "## Objective Function"
   ]
  },
  {
   "cell_type": "code",
   "id": "d4171549",
   "metadata": {},
   "source": [
    "Lp_prob += 35. * var[0] + 35. * var[1] + 35. * var[2] + 35. * var[3] + 35. * var[4] + 35. * var[5] + 30. * var[\n",
    "    6] + 30. * var[7] + 30. * var[8] + 30. * var[9] + 30. * var[10] + 30. * var[11] + 25. * var[12] + 25. * var[\n",
    "               13] + 25. * var[14] + 25. * var[15] + 25. * var[16] + 25. * var[17]"
   ],
   "outputs": [],
   "execution_count": null
  },
  {
   "cell_type": "markdown",
   "id": "bed793d9",
   "metadata": {},
   "source": [
    "## Constraints"
   ]
  },
  {
   "cell_type": "code",
   "id": "db80837a",
   "metadata": {},
   "source": [
    "Lp_prob += -1. * var[0] + -1. * var[1] + -1. * var[2] + -1. * var[3]+ -1. * var[4]+ -1. * var[5]+ 0. * var[6]+ 0. * var[\n",
    "    7]+ 0. * var[8]+ 0. * var[9]+ 0. * var[10]+ 0. * var[11]+ 0. * var[12]+ 0. * var[13]+ 0. * var[14]+ 0. * var[\n",
    "               15]+ 0. * var[16]+ 0. * var[17] <= -900\n",
    "Lp_prob += 0. * var[0]+ 0. * var[1]+ 0. * var[2]+ 0. * var[3]+ 0. * var[4]+ 0. * var[5]+ -1. * var[6]+ -1. * var[\n",
    "    7]+ -1. * var[8]+ -1. * var[9]+ -1. * var[10]+ -1. * var[11]+ 0. * var[12]+ 0. * var[13]+ 0. * var[14]+ 0. * var[\n",
    "               15]+ 0. * var[16]+ 0. * var[17] <= -1200\n",
    "Lp_prob += 0. * var[0]+ 0. * var[1]+ 0. * var[2]+ 0. * var[3]+ 0. * var[4]+ 0. * var[5]+ 0. * var[6]+ 0. * var[7]+ 0. * \\\n",
    "           var[8]+ 0. * var[9]+ 0. * var[10]+ 0. * var[11]+ -1. * var[12]+ -1. * var[13]+ -1. * var[14]+ -1. * var[\n",
    "               15]+ -1. * var[16]+ -1. * var[17] <= -750\n",
    "Lp_prob += 0. * var[0]+ 1. * var[1]+ 0. * var[2]+ 1. * var[3]+ 0. * var[4]+ 1. * var[5]+ 0. * var[6]+ 0. * var[7]+ 0. * \\\n",
    "           var[8]+ 0. * var[9]+ 0. * var[10]+ 0. * var[11]+ 0. * var[12]+ 0. * var[13]+ 0. * var[14]+ 0. * var[15]+ 0. * \\\n",
    "           var[16]+ 0. * var[17] <= 750\n",
    "Lp_prob += 0. * var[0]+ 0. * var[1]+ 0. * var[2]+ 0. * var[3]+ 0. * var[4]+ 0. * var[5]+ 0. * var[6]+ 1. * var[7]+ 0. * \\\n",
    "           var[8]+ 1. * var[9]+ 0. * var[10]+ 1. * var[11]+ 0. * var[12]+ 0. * var[13]+ 0. * var[14]+ 0. * var[15]+ 0. * \\\n",
    "           var[16]+ 0. * var[17] <= 900\n",
    "Lp_prob += 0. * var[0]+ 0. * var[1]+ 0. * var[2]+ 0. * var[3]+ 0. * var[4]+ 0. * var[5]+ 0. * var[6]+ 0. * var[7]+ 0. * \\\n",
    "           var[8]+ 0. * var[9]+ 0. * var[10]+ 0. * var[11]+ 0. * var[12]+ 1. * var[13]+ 0. * var[14]+ 1. * var[15]+ 0. * \\\n",
    "           var[16]+ 1. * var[17] <= 450\n",
    "Lp_prob += 20. * var[0]+ 20. * var[1]+ 0. * var[2]+ 0. * var[3]+ 0. * var[4]+ 0. * var[5]+ 15. * var[6]+ 15. * var[\n",
    "    7]+ 0. * var[8]+ 0. * var[9]+ 0. * var[10]+ 0. * var[11]+ 12. * var[12]+ 12. * var[13]+ 0. * var[14]+ 0. * var[\n",
    "               15]+ 0. * var[16]+ 0. * var[17] <= 13000\n",
    "Lp_prob += 0. * var[0]+ 0. * var[1]+ 20. * var[2]+ 20. * var[3]+ 0. * var[4]+ 0. * var[5]+ 0. * var[6]+ 0. * var[\n",
    "    7]+ 15. * var[8]+ 15. * var[9]+ 0. * var[10]+ 0. * var[11]+ 0. * var[12]+ 0. * var[13]+ 12. * var[14]+ 12. * var[\n",
    "               15]+ 0. * var[16]+ 0. * var[17] <= 12000\n",
    "Lp_prob += 0. * var[0]+ 0. * var[1]+ 0. * var[2]+ 0. * var[3]+ 20. * var[4]+ 20. * var[5]+ 0. * var[6]+ 0. * var[\n",
    "    7]+ 0. * var[8]+ 0. * var[9]+ 15. * var[10]+ 15. * var[11]+ 0. * var[12]+ 0. * var[13]+ 0. * var[14]+ 0. * var[\n",
    "               15]+ 12. * var[16]+ 12. * var[17] <= 5000"
   ],
   "outputs": [],
   "execution_count": null
  },
  {
   "cell_type": "code",
   "id": "c2139ee7",
   "metadata": {},
   "source": [
    "print(Lp_prob)"
   ],
   "outputs": [],
   "execution_count": null
  },
  {
   "cell_type": "markdown",
   "id": "2b098323",
   "metadata": {},
   "source": [
    "## Solving the LPP"
   ]
  },
  {
   "cell_type": "code",
   "id": "e2f6487b",
   "metadata": {},
   "source": [
    "status = Lp_prob.solve()\n",
    "print(p.LpStatus[status])"
   ],
   "outputs": [],
   "execution_count": null
  },
  {
   "cell_type": "markdown",
   "id": "7326ce59",
   "metadata": {},
   "source": [
    "## Solution"
   ]
  },
  {
   "cell_type": "code",
   "id": "fd48bb34",
   "metadata": {},
   "source": [
    "for i in range(len(var)):\n",
    "    print(f\"x{i + 1} =\", p.value(var[i]))\n",
    "\n",
    "print(\"Objective = \", p.value(Lp_prob.objective))"
   ],
   "outputs": [],
   "execution_count": null
  },
  {
   "cell_type": "code",
   "id": "a2fef23e",
   "metadata": {},
   "source": [],
   "outputs": [],
   "execution_count": null
  }
 ],
 "metadata": {
  "kernelspec": {
   "display_name": "Python 3 (ipykernel)",
   "language": "python",
   "name": "python3"
  },
  "language_info": {
   "codemirror_mode": {
    "name": "ipython",
    "version": 3
   },
   "file_extension": ".py",
   "mimetype": "text/x-python",
   "name": "python",
   "nbconvert_exporter": "python",
   "pygments_lexer": "ipython3",
   "version": "3.11.5"
  }
 },
 "nbformat": 4,
 "nbformat_minor": 5
}
