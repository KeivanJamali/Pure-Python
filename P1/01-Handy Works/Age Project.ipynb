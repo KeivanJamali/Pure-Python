{
 "cells": [
  {
   "cell_type": "code",
   "execution_count": 41,
   "metadata": {},
   "outputs": [],
   "source": [
    "def convert_age_to_talk(age:int) -> float:\n",
    "    age -= 5\n",
    "    talk = (2*age)/3 # when awak\n",
    "    talk = talk/20 # talk time\n",
    "    return talk\n",
    "\n",
    "def convert_talk_to_year(talk:float, each_day_talk:int=5) -> float:\n",
    "    year = (talk * 24) / 5\n",
    "    return year\n",
    "\n",
    "def convert_year_to_date(year:float) -> str:\n",
    "    year_str = str(year)\n",
    "    result_year, result_day = year_str.split(\".\")\n",
    "    result_day = (int(float(result_day))/(int(\"1\"+\"\".join([\"0\" for _ in range(len(result_day))])))) * 365\n",
    "    return str(result_year) + \" and \" + str(result_day)"
   ]
  },
  {
   "cell_type": "code",
   "execution_count": 44,
   "metadata": {},
   "outputs": [
    {
     "name": "stdout",
     "output_type": "stream",
     "text": [
      "5 and 219.0\n"
     ]
    }
   ],
   "source": [
    "def main(age:int) -> None:\n",
    "    talk = convert_age_to_talk(age)\n",
    "    year = convert_talk_to_year(talk)\n",
    "    print(convert_year_to_date(year))\n",
    "\n",
    "main(40)"
   ]
  },
  {
   "cell_type": "code",
   "execution_count": null,
   "metadata": {},
   "outputs": [],
   "source": []
  },
  {
   "cell_type": "code",
   "execution_count": null,
   "metadata": {},
   "outputs": [],
   "source": []
  }
 ],
 "metadata": {
  "kernelspec": {
   "display_name": "Python 3",
   "language": "python",
   "name": "python3"
  },
  "language_info": {
   "codemirror_mode": {
    "name": "ipython",
    "version": 3
   },
   "file_extension": ".py",
   "mimetype": "text/x-python",
   "name": "python",
   "nbconvert_exporter": "python",
   "pygments_lexer": "ipython3",
   "version": "3.12.1"
  }
 },
 "nbformat": 4,
 "nbformat_minor": 2
}
