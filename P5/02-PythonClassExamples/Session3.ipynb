{
 "cells": [
  {
   "cell_type": "markdown",
   "id": "a1b58446",
   "metadata": {},
   "source": [
    "## Example 1: Ice Cream Flavor Detector"
   ]
  },
  {
   "cell_type": "code",
   "execution_count": null,
   "id": "f2e56c6d",
   "metadata": {},
   "outputs": [],
   "source": [
    "flavor = input(\"What's your favorite ice cream? \")\n",
    "\n",
    "if flavor == \"chocolate\":\n",
    "    print(\"🍫 Yum! Chocolate is the best!\")\n",
    "elif flavor == \"vanilla\":\n",
    "    print(\"🍦 Classic choice!\")\n",
    "elif flavor == \"strawberry\":\n",
    "    print(\"🍓 Sweet and fruity!\")\n",
    "else:\n",
    "    print(\"😋 Interesting choice!\")\n"
   ]
  },
  {
   "cell_type": "markdown",
   "id": "2aca7b2e",
   "metadata": {},
   "source": [
    "## Example 2: Keep Guessing!"
   ]
  },
  {
   "cell_type": "code",
   "execution_count": null,
   "id": "189ec3d0",
   "metadata": {},
   "outputs": [],
   "source": [
    "secret = \"panda\"\n",
    "guess = \"\"\n",
    "\n",
    "while guess != secret:\n",
    "    guess = input(\"Guess the secret animal: \")\n",
    "\n",
    "print(\"🎉 You got it!\")\n"
   ]
  },
  {
   "cell_type": "markdown",
   "id": "8752777a",
   "metadata": {
    "vscode": {
     "languageId": "plaintext"
    }
   },
   "source": [
    "## Example 3: Sort Algorithm"
   ]
  },
  {
   "cell_type": "code",
   "execution_count": null,
   "id": "bbfc9e7a",
   "metadata": {},
   "outputs": [],
   "source": [
    "a = int(input(\"Enter a: \"))\n",
    "b = int(input(\"Enter b: \"))\n",
    "c = int(input(\"Enter c: \"))\n",
    "if a > b:\n",
    "    temp = a\n",
    "    a = b\n",
    "    b = temp\n",
    "if a > c:\n",
    "    temp = a\n",
    "    a = c\n",
    "    c = temp\n",
    "if b > c:\n",
    "    temp = b\n",
    "    b = c\n",
    "    c = temp\n",
    "\n",
    "print(f\"Sorted result is: {a}, {b}, {c},\")\n"
   ]
  },
  {
   "cell_type": "code",
   "execution_count": null,
   "id": "c7366b8e",
   "metadata": {},
   "outputs": [],
   "source": []
  }
 ],
 "metadata": {
  "language_info": {
   "name": "python"
  }
 },
 "nbformat": 4,
 "nbformat_minor": 5
}
