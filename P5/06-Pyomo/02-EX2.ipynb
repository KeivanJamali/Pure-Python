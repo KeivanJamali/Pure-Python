{
 "cells": [
  {
   "cell_type": "markdown",
   "id": "dbf7e8ba",
   "metadata": {},
   "source": [
    "## Conctere Model\n",
    "- $min \\ 2x_1 + 3x_2$\n",
    "- S.T.\n",
    "    - $3x_1 + 4x_2 \\geq 1$\n",
    "    - $x_1, x_2 \\geq 0$"
   ]
  },
  {
   "cell_type": "code",
   "execution_count": 1,
   "id": "34622cec",
   "metadata": {},
   "outputs": [],
   "source": [
    "import pyomo.environ as pyo\n",
    "from pyomo.opt import SolverFactory"
   ]
  },
  {
   "cell_type": "code",
   "execution_count": 2,
   "id": "b669fdc9",
   "metadata": {},
   "outputs": [],
   "source": [
    "# Defined the problem here.\n",
    "model = pyo.ConcreteModel()\n",
    "model.x = pyo.Var([1, 2], domain=pyo.NonNegativeReals)\n",
    "model.objective = pyo.Objective(expr=2*model.x[1] + 3*model.x[2], sense=pyo.minimize)\n",
    "model.constraint1 = pyo.Constraint(expr=3*model.x[1] + 4*model.x[2] >= 1)"
   ]
  },
  {
   "cell_type": "code",
   "execution_count": 3,
   "id": "2def86fd",
   "metadata": {},
   "outputs": [
    {
     "name": "stdout",
     "output_type": "stream",
     "text": [
      "\n",
      "Problem: \n",
      "- Name: unknown\n",
      "  Lower bound: 0.666666666666667\n",
      "  Upper bound: 0.666666666666667\n",
      "  Number of objectives: 1\n",
      "  Number of constraints: 1\n",
      "  Number of variables: 2\n",
      "  Number of nonzeros: 2\n",
      "  Sense: minimize\n",
      "Solver: \n",
      "- Status: ok\n",
      "  Termination condition: optimal\n",
      "  Statistics: \n",
      "    Branch and bound: \n",
      "      Number of bounded subproblems: 0\n",
      "      Number of created subproblems: 0\n",
      "  Error rc: 0\n",
      "  Time: 0.004822254180908203\n",
      "Solution: \n",
      "- number of solutions: 0\n",
      "  number of solutions displayed: 0\n",
      "\n"
     ]
    }
   ],
   "source": [
    "# Solve the problem here.\n",
    "opt = SolverFactory(\"glpk\")\n",
    "print(opt.solve(model))"
   ]
  },
  {
   "cell_type": "code",
   "execution_count": 4,
   "id": "1aa100de",
   "metadata": {},
   "outputs": [
    {
     "data": {
      "text/plain": [
       "0.666666666666666"
      ]
     },
     "execution_count": 4,
     "metadata": {},
     "output_type": "execute_result"
    }
   ],
   "source": [
    "pyo.value(model.objective)"
   ]
  },
  {
   "cell_type": "markdown",
   "id": "184f529c",
   "metadata": {},
   "source": [
    "## Part 1\n",
    "- $min \\ \\sum_{i=1}^4 x_i$"
   ]
  },
  {
   "cell_type": "code",
   "execution_count": 5,
   "id": "60a132a5",
   "metadata": {},
   "outputs": [
    {
     "name": "stdout",
     "output_type": "stream",
     "text": [
      "Minimizing the:  x[1] + x[2] + x[3] + x[4]\n",
      "Value for var: x1 is : 0.0\n",
      "Value for var: x2 is : 0.0\n",
      "Value for var: x3 is : 0.0\n",
      "Value for var: x4 is : 0.0\n"
     ]
    }
   ],
   "source": [
    "# Check binary(max and min) | check nonnegative | check nonpositive\n",
    "model = pyo.ConcreteModel()\n",
    "model.n = pyo.Param(default=4)\n",
    "model.x = pyo.Var(pyo.RangeSet(model.n), within=pyo.NonNegativeIntegers)\n",
    "# model.y = pyo.Var(pyo.RangeSet(model.n), within=pyo.Binary)\n",
    "# multipliers = [1, 2, 3, 4]\n",
    "\n",
    "# def objective_func(model):\n",
    "#     print(\"Minimizing the: \", sum(i * model.x[i] for i in model.x))\n",
    "#     return sum(i * model.x[i] for i in multipliers)\n",
    "\n",
    "def objective_func(model):\n",
    "    print(\"Minimizing the: \", pyo.summation(model.x))\n",
    "    return pyo.summation(model.x)\n",
    "\n",
    "\n",
    "model.objective = pyo.Objective(rule=objective_func, sense=pyo.minimize)\n",
    "model.constraint1 = pyo.ConstraintList()\n",
    "\n",
    "opt = SolverFactory('glpk')\n",
    "results = opt.solve(model)\n",
    "\n",
    "for i in range(4):\n",
    "    print(f\"Value for var: x{i+1} is : {pyo.value(model.x[i+1])}\")\n",
    "    # print(f\"Value for var: y{i+1} is : {pyo.value(model.y[i+1])}\")"
   ]
  },
  {
   "cell_type": "code",
   "execution_count": 6,
   "id": "81d9a3ae",
   "metadata": {},
   "outputs": [
    {
     "name": "stdout",
     "output_type": "stream",
     "text": [
      "Variable x\n",
      "x : Size=4, Index=[1:4]\n",
      "    Key : Lower : Value : Upper : Fixed : Stale : Domain\n",
      "      1 :     0 :   0.0 :  None : False : False : NonNegativeIntegers\n",
      "      2 :     0 :   0.0 :  None : False : False : NonNegativeIntegers\n",
      "      3 :     0 :   0.0 :  None : False : False : NonNegativeIntegers\n",
      "      4 :     0 :   0.0 :  None : False : False : NonNegativeIntegers\n"
     ]
    }
   ],
   "source": [
    "for v in model.component_objects(pyo.Var, active=True):\n",
    "    print(\"Variable\", v)\n",
    "    v.pprint()"
   ]
  },
  {
   "cell_type": "code",
   "execution_count": 7,
   "id": "2c26f1b0",
   "metadata": {},
   "outputs": [
    {
     "name": "stdout",
     "output_type": "stream",
     "text": [
      "Variable x[1]\n",
      "0, 0.0, None, False, False, NonNegativeIntegers\n",
      "Variable x[2]\n",
      "0, 0.0, None, False, False, NonNegativeIntegers\n",
      "Variable x[3]\n",
      "0, 0.0, None, False, False, NonNegativeIntegers\n",
      "Variable x[4]\n",
      "0, 0.0, None, False, False, NonNegativeIntegers\n"
     ]
    }
   ],
   "source": [
    "for v in model.component_data_objects(pyo.Var, active=True):\n",
    "    print(\"Variable\", v)\n",
    "    print(v.lower, end=\", \")\n",
    "    print(v.value, end=\", \")\n",
    "    print(v.upper, end=\", \")\n",
    "    print(v.fixed, end=\", \")\n",
    "    print(v.stale, end=\", \")\n",
    "    print(v.domain)"
   ]
  },
  {
   "cell_type": "markdown",
   "id": "41d91d27",
   "metadata": {},
   "source": [
    "## Part 2\n",
    "defineding parameters."
   ]
  },
  {
   "cell_type": "markdown",
   "id": "823be146",
   "metadata": {},
   "source": [
    "#### Scalar param"
   ]
  },
  {
   "cell_type": "code",
   "execution_count": 8,
   "id": "f3fff3b2",
   "metadata": {},
   "outputs": [
    {
     "name": "stdout",
     "output_type": "stream",
     "text": [
      "2.5\n"
     ]
    }
   ],
   "source": [
    "model = pyo.ConcreteModel()\n",
    "model.alpha = pyo.Param(initialize=2.5, within=pyo.NonNegativeReals)\n",
    "print(pyo.value(model.alpha))"
   ]
  },
  {
   "cell_type": "markdown",
   "id": "5d04d0f0",
   "metadata": {},
   "source": [
    "#### Indexed with a dict"
   ]
  },
  {
   "cell_type": "code",
   "execution_count": 9,
   "id": "5018c2a8",
   "metadata": {},
   "outputs": [
    {
     "name": "stdout",
     "output_type": "stream",
     "text": [
      "10, 20, 30, 40, "
     ]
    }
   ],
   "source": [
    "model = pyo.ConcreteModel()\n",
    "model.i = pyo.RangeSet(1, 4)\n",
    "model.c = pyo.Param(model.i, initialize={1: 10, 2: 20, 3: 30, 4: 40}, within=pyo.NonNegativeIntegers)\n",
    "for i in model.i:\n",
    "    print(pyo.value(model.c[i]), end=\", \")"
   ]
  },
  {
   "cell_type": "markdown",
   "id": "24d5624a",
   "metadata": {},
   "source": [
    "#### Indexed with a rule (function or lambda)"
   ]
  },
  {
   "cell_type": "code",
   "execution_count": 10,
   "id": "6f9ea0dd",
   "metadata": {},
   "outputs": [
    {
     "name": "stdout",
     "output_type": "stream",
     "text": [
      "10=20, 11=22, 12=24, 13=26, 14=28, 15=30, 16=32, 17=34, 18=36, 19=38, 20=40, "
     ]
    }
   ],
   "source": [
    "model = pyo.ConcreteModel()\n",
    "model.i = pyo.RangeSet(10, 20)\n",
    "\n",
    "def c_rule(m: pyo.ConcreteModel, i: int) -> float:\n",
    "    return 2*i\n",
    "\n",
    "model.c = pyo.Param(model.i, initialize=c_rule)\n",
    "for i in model.i:\n",
    "    print(i, \"=\", pyo.value(model.c[i]), end=\", \", sep=\"\")"
   ]
  },
  {
   "cell_type": "markdown",
   "id": "56b5cc5c",
   "metadata": {},
   "source": [
    "#### Same value for all indices"
   ]
  },
  {
   "cell_type": "code",
   "execution_count": 11,
   "id": "9c9beb3b",
   "metadata": {},
   "outputs": [
    {
     "name": "stdout",
     "output_type": "stream",
     "text": [
      "1=0.0, 2=0.0, 3=0.0, 4=0.0, 5=0.0, "
     ]
    }
   ],
   "source": [
    "model = pyo.ConcreteModel()\n",
    "model.i = pyo.RangeSet(1, 5)\n",
    "model.w = pyo.Param(model.i, initialize=0.0)\n",
    "for i in model.i:\n",
    "    print(i, \"=\", pyo.value(model.w[i]), end=\", \", sep=\"\")"
   ]
  },
  {
   "cell_type": "markdown",
   "id": "404b1134",
   "metadata": {},
   "source": [
    "#### Using default when some indices missing"
   ]
  },
  {
   "cell_type": "code",
   "execution_count": 12,
   "id": "fc0c93e7",
   "metadata": {},
   "outputs": [
    {
     "name": "stdout",
     "output_type": "stream",
     "text": [
      "1=10, 2=0, 3=30, 4=0, 5=0, "
     ]
    }
   ],
   "source": [
    "model = pyo.ConcreteModel()\n",
    "model.i = pyo.RangeSet(1, 5)\n",
    "model.d = pyo.Param(model.i, initialize={1: 10, 3: 30}, default=0)\n",
    "for i in model.i:\n",
    "    print(i, \"=\", pyo.value(model.d[i]), end=\", \", sep=\"\")"
   ]
  },
  {
   "cell_type": "markdown",
   "id": "3e5dc93e",
   "metadata": {},
   "source": [
    "#### Mutable parameters (change at runtime)"
   ]
  },
  {
   "cell_type": "code",
   "execution_count": 13,
   "id": "291dedd5",
   "metadata": {},
   "outputs": [
    {
     "name": "stdout",
     "output_type": "stream",
     "text": [
      "1=1, 2=4, 3=9, \n",
      "1=1, 2=99, 3=9, "
     ]
    }
   ],
   "source": [
    "model = pyo.ConcreteModel()\n",
    "model.I = pyo.RangeSet(1, 3)\n",
    "model.p = pyo.Param(model.I, initialize=lambda m,i: i*i, mutable=True)\n",
    "\n",
    "for i in model.I:\n",
    "    print(i, \"=\", pyo.value(model.p[i]), end=\", \", sep=\"\")\n",
    "print()\n",
    "model.p[2].set_value(99)\n",
    "for i in model.I:\n",
    "    print(i, \"=\", pyo.value(model.p[i]), end=\", \", sep=\"\")"
   ]
  },
  {
   "cell_type": "markdown",
   "id": "bbe35a09",
   "metadata": {},
   "source": [
    "#### Loading from externam data"
   ]
  },
  {
   "cell_type": "code",
   "execution_count": 14,
   "id": "916ef981",
   "metadata": {},
   "outputs": [],
   "source": [
    "from pyomo.dataportal import DataPortal\n",
    "\n",
    "file_path = r\"/mnt/Data1/Python_Projects/Pure-Python/P5/06-Pyomo/P2.csv\"\n",
    "model = pyo.ConcreteModel()\n",
    "model.i = pyo.RangeSet(1, 3)\n",
    "model.a = pyo.Param(model.i, mutable=True)\n",
    "data = DataPortal()\n",
    "data.load(filename=file_path, param=model.a)\n",
    "\n",
    "model.a.store_values(data.data()[\"a\"])"
   ]
  },
  {
   "cell_type": "code",
   "execution_count": 15,
   "id": "ce27f98b",
   "metadata": {},
   "outputs": [
    {
     "data": {
      "text/plain": [
       "[5.0, 6.5, 7.0]"
      ]
     },
     "execution_count": 15,
     "metadata": {},
     "output_type": "execute_result"
    }
   ],
   "source": [
    "[pyo.value(model.a[i]) for i in model.a]"
   ]
  },
  {
   "cell_type": "markdown",
   "id": "f4372349",
   "metadata": {},
   "source": [
    "## Part 3\n",
    "- Variables\n",
    "    - Decision variable used by the optimizer (unlike Param, which is data).\n",
    "    - Symbolic in expressions; numeric values appear after solve.\n",
    "    - Each Var has a domain (type), optional bounds, and optional initial value."
   ]
  },
  {
   "cell_type": "code",
   "execution_count": 16,
   "id": "3e15640b",
   "metadata": {},
   "outputs": [
    {
     "name": "stdout",
     "output_type": "stream",
     "text": [
      "[INFO] I have these parameters: [(1, 1.5), (2, 3.0), (3, 4.5), (4, 6.0), (5, 7.5), (6, 9.0), (7, 10.5), (8, 12.0), (9, 13.5), (10, 15.0)]\n",
      "Now lets defined variables\n"
     ]
    }
   ],
   "source": [
    "model = pyo.ConcreteModel()\n",
    "def multipliers_rule(m: pyo.ConcreteModel, i: int) -> float:\n",
    "    return i * 1.5\n",
    "model.mul = pyo.Param(tuple(range(1, 11)), initialize=multipliers_rule)\n",
    "print(f\"[INFO] I have these parameters: {list(zip(model.mul.index_set(), [pyo.value(model.mul[i]) for i in model.mul]))}\")\n",
    "\n",
    "print(\"Now lets defined variables\")"
   ]
  },
  {
   "cell_type": "markdown",
   "id": "8d4ffd09",
   "metadata": {},
   "source": [
    "#### Scalar variable"
   ]
  },
  {
   "cell_type": "code",
   "execution_count": 17,
   "id": "ab38a666",
   "metadata": {},
   "outputs": [],
   "source": [
    "model = pyo.ConcreteModel()\n",
    "\n",
    "# Real variable with no bounds\n",
    "model.x = pyo.Var()\n",
    "\n",
    "# Nonnegative real with static bounds\n",
    "model.y = pyo.Var(domain=pyo.NonNegativeReals, bounds=(0, 10))\n",
    "\n",
    "# Binary and integer\n",
    "model.z = pyo.Var(domain=pyo.Binary)\n",
    "model.k = pyo.Var(domain=pyo.Integers, bounds=(0, None))"
   ]
  },
  {
   "cell_type": "markdown",
   "id": "ac56fd2c",
   "metadata": {},
   "source": [
    "#### Indexed variables (1-D)"
   ]
  },
  {
   "cell_type": "code",
   "execution_count": 18,
   "id": "f62dc3c9",
   "metadata": {},
   "outputs": [
    {
     "name": "stdout",
     "output_type": "stream",
     "text": [
      "WARNING: Implicitly replacing the Component attribute x (type=<class\n",
      "'pyomo.core.base.var.ScalarVar'>) on block unknown with a new Component\n",
      "(type=<class 'pyomo.core.base.var.IndexedVar'>). This is usually indicative of\n",
      "a modelling error. To avoid this warning, use block.del_component() and\n",
      "block.add_component().\n",
      "Variable x2 has bounds: 0, None\n"
     ]
    }
   ],
   "source": [
    "model.i = pyo.RangeSet(1, 4)\n",
    "model.x = pyo.Var(model.i, domain=pyo.NonNegativeReals)\n",
    "\n",
    "# Access\n",
    "model.x[1].set_value(2.0)\n",
    "lb, ub = model.x[2].bounds\n",
    "print(f\"Variable x2 has bounds: {lb}, {ub}\")"
   ]
  },
  {
   "cell_type": "markdown",
   "id": "111a8b47",
   "metadata": {},
   "source": [
    "#### Multi-index variables (2-D and higher)"
   ]
  },
  {
   "cell_type": "code",
   "execution_count": null,
   "id": "b7967cfd",
   "metadata": {},
   "outputs": [
    {
     "name": "stdout",
     "output_type": "stream",
     "text": [
      "WARNING: Implicitly replacing the Component attribute x (type=<class\n",
      "'pyomo.core.base.var.IndexedVar'>) on block unknown with a new Component\n",
      "(type=<class 'pyomo.core.base.var.IndexedVar'>). This is usually indicative of\n",
      "a modelling error. To avoid this warning, use block.del_component() and\n",
      "block.add_component().\n"
     ]
    }
   ],
   "source": [
    "model.I = pyo.RangeSet(1, 3)\n",
    "model.J = pyo.Set(initialize=[\"A\", \"B\"])\n",
    "model.x = pyo.Var(model.I, model.J, domain=pyo.Reals)\n",
    "\n",
    "# Access\n",
    "model.x[2, \"B\"] = 1.23        # same as set_value(1.23)\n",
    "\n",
    "model.x[2, \"A\"].fix(2)\n",
    "model.x[2, \"A\"].unfix()"
   ]
  },
  {
   "cell_type": "markdown",
   "id": "1d08f0b9",
   "metadata": {},
   "source": [
    "#### Bounds (static or rule)\n",
    "\n",
    "- pyo.Reals (default), pyo.NonNegativeReals, pyo.NonPositiveReals\n",
    "- pyo.Integers, pyo.NonNegativeIntegers\n",
    "- pyo.Binary\n",
    "- pyo.PercentFraction (0..1), pyo.UnitInterval (0..1)\n"
   ]
  },
  {
   "cell_type": "code",
   "execution_count": 20,
   "id": "109c5a0a",
   "metadata": {},
   "outputs": [
    {
     "name": "stdout",
     "output_type": "stream",
     "text": [
      "WARNING: Implicitly replacing the Component attribute x (type=<class\n",
      "'pyomo.core.base.var.IndexedVar'>) on block unknown with a new Component\n",
      "(type=<class 'pyomo.core.base.var.AbstractScalarVar'>). This is usually\n",
      "indicative of a modelling error. To avoid this warning, use\n",
      "block.del_component() and block.add_component().\n",
      "WARNING: Implicitly replacing the Component attribute I (type=<class\n",
      "'pyomo.core.base.set.FiniteScalarRangeSet'>) on block unknown with a new\n",
      "Component (type=<class 'pyomo.core.base.set.FiniteScalarRangeSet'>). This is\n",
      "usually indicative of a modelling error. To avoid this warning, use\n",
      "block.del_component() and block.add_component().\n",
      "WARNING: Implicitly replacing the Component attribute x (type=<class\n",
      "'pyomo.core.base.var.ScalarVar'>) on block unknown with a new Component\n",
      "(type=<class 'pyomo.core.base.var.IndexedVar'>). This is usually indicative of\n",
      "a modelling error. To avoid this warning, use block.del_component() and\n",
      "block.add_component().\n"
     ]
    }
   ],
   "source": [
    "# Static tuple (lb, ub). Use None for ±∞.\n",
    "model.x = pyo.Var(bounds=(0, None))\n",
    "\n",
    "# Rule depending on indices and/or Params\n",
    "def x_bounds(m, i):\n",
    "    return (0, m.cap[i])   # lb, ub\n",
    "model.I = pyo.RangeSet(1, 3)\n",
    "model.cap = pyo.Param(model.I, initialize={1: 5, 2: 7, 3: 9})\n",
    "model.x = pyo.Var(model.I, bounds=x_bounds)"
   ]
  },
  {
   "cell_type": "markdown",
   "id": "27be5b9b",
   "metadata": {},
   "source": [
    "#### Initialization / starting values"
   ]
  },
  {
   "cell_type": "code",
   "execution_count": 21,
   "id": "aaeeefcd",
   "metadata": {},
   "outputs": [
    {
     "name": "stdout",
     "output_type": "stream",
     "text": [
      "WARNING: Implicitly replacing the Component attribute x (type=<class\n",
      "'pyomo.core.base.var.IndexedVar'>) on block unknown with a new Component\n",
      "(type=<class 'pyomo.core.base.var.AbstractScalarVar'>). This is usually\n",
      "indicative of a modelling error. To avoid this warning, use\n",
      "block.del_component() and block.add_component().\n",
      "WARNING: Implicitly replacing the Component attribute I (type=<class\n",
      "'pyomo.core.base.set.FiniteScalarRangeSet'>) on block unknown with a new\n",
      "Component (type=<class 'pyomo.core.base.set.FiniteScalarRangeSet'>). This is\n",
      "usually indicative of a modelling error. To avoid this warning, use\n",
      "block.del_component() and block.add_component().\n",
      "WARNING: Implicitly replacing the Component attribute y (type=<class\n",
      "'pyomo.core.base.var.ScalarVar'>) on block unknown with a new Component\n",
      "(type=<class 'pyomo.core.base.var.IndexedVar'>). This is usually indicative of\n",
      "a modelling error. To avoid this warning, use block.del_component() and\n",
      "block.add_component().\n",
      "WARNING: Implicitly replacing the Component attribute y (type=<class\n",
      "'pyomo.core.base.var.IndexedVar'>) on block unknown with a new Component\n",
      "(type=<class 'pyomo.core.base.var.IndexedVar'>). This is usually indicative of\n",
      "a modelling error. To avoid this warning, use block.del_component() and\n",
      "block.add_component().\n"
     ]
    }
   ],
   "source": [
    "# Scalar\n",
    "model.x = pyo.Var(initialize=1.0)\n",
    "\n",
    "# Indexed with dict\n",
    "model.I = pyo.RangeSet(1, 3)\n",
    "model.y = pyo.Var(model.I, initialize={1: 0.0, 2: 2.5, 3: 1.0})\n",
    "\n",
    "# Indexed with rule\n",
    "def y_init(m, i):\n",
    "    return 0.5 * i\n",
    "model.y = pyo.Var(model.I, initialize=y_init)"
   ]
  },
  {
   "cell_type": "markdown",
   "id": "d3e2fa3a",
   "metadata": {},
   "source": [
    "#### Fixing, unfixing, and changing bounds at runtime"
   ]
  },
  {
   "cell_type": "code",
   "execution_count": 22,
   "id": "bedc03ed",
   "metadata": {},
   "outputs": [],
   "source": [
    "model.x.fix(3.0)        # x is fixed at 3.0 (becomes a constant for the solver)\n",
    "model.x.unfix()         # make it a free decision variable again\n",
    "\n",
    "model.x.setlb(0.0)      # update lower bound\n",
    "model.x.setub(10.0)     # update upper bound\n",
    "model.x.set_value(1.5)  # set starting value (does not fix it)"
   ]
  },
  {
   "cell_type": "markdown",
   "id": "69afd293",
   "metadata": {},
   "source": [
    "#### Dense vs sparse creation (performance)"
   ]
  },
  {
   "cell_type": "code",
   "execution_count": 23,
   "id": "4e39d8eb",
   "metadata": {},
   "outputs": [
    {
     "name": "stdout",
     "output_type": "stream",
     "text": [
      "WARNING: Implicitly replacing the Component attribute I (type=<class\n",
      "'pyomo.core.base.set.FiniteScalarRangeSet'>) on block unknown with a new\n",
      "Component (type=<class 'pyomo.core.base.set.FiniteScalarRangeSet'>). This is\n",
      "usually indicative of a modelling error. To avoid this warning, use\n",
      "block.del_component() and block.add_component().\n",
      "WARNING: Implicitly replacing the Component attribute x (type=<class\n",
      "'pyomo.core.base.var.ScalarVar'>) on block unknown with a new Component\n",
      "(type=<class 'pyomo.core.base.var.IndexedVar'>). This is usually indicative of\n",
      "a modelling error. To avoid this warning, use block.del_component() and\n",
      "block.add_component().\n"
     ]
    }
   ],
   "source": [
    "# If initialize doesn’t provide values for every index and you don’t want all created:\n",
    "model.I = pyo.RangeSet(1, 1000)\n",
    "model.x = pyo.Var(model.I, initialize={}, dense=False)\n",
    "# Components are created lazily when first referenced; useful for large sparse models."
   ]
  },
  {
   "cell_type": "markdown",
   "id": "a040d79a",
   "metadata": {},
   "source": [
    "#### Dynamic-sized variable lists (when you can’t predefine an index set)"
   ]
  },
  {
   "cell_type": "code",
   "execution_count": 31,
   "id": "bc684948",
   "metadata": {},
   "outputs": [
    {
     "name": "stdout",
     "output_type": "stream",
     "text": [
      "WARNING: Implicitly replacing the Component attribute vlist (type=<class\n",
      "'pyomo.core.base.var.VarList'>) on block unknown with a new Component\n",
      "(type=<class 'pyomo.core.base.var.VarList'>). This is usually indicative of a\n",
      "modelling error. To avoid this warning, use block.del_component() and\n",
      "block.add_component().\n"
     ]
    },
    {
     "data": {
      "text/plain": [
       "<pyomo.core.base.var.VarData at 0x7cb7915eee40>"
      ]
     },
     "execution_count": 31,
     "metadata": {},
     "output_type": "execute_result"
    }
   ],
   "source": [
    "model.vlist = pyo.VarList(domain=pyo.NonNegativeReals)\n",
    "# Add variables dynamically\n",
    "model.vlist.add()\n",
    "model.vlist.add()       # starting value None\n",
    "len(model.vlist)        # number of vars added\n",
    "model.vlist[1]"
   ]
  },
  {
   "cell_type": "code",
   "execution_count": 32,
   "id": "ddcfa8c4",
   "metadata": {},
   "outputs": [
    {
     "name": "stdout",
     "output_type": "stream",
     "text": [
      "[0.0, 0.0, 4.0] 4.0\n"
     ]
    }
   ],
   "source": [
    "model = pyo.ConcreteModel()\n",
    "model.i = pyo.RangeSet(1, 3)\n",
    "model.cost = pyo.Param(model.i, initialize={1: 2, 2: 3, 3: 1})\n",
    "\n",
    "def ub_rule(m: pyo.ConcreteModel, i: int) -> tuple[int, int]: \n",
    "    return (0, 5)\n",
    "\n",
    "model.x = pyo.Var(model.i, domain=pyo.NonNegativeIntegers, bounds=ub_rule,\n",
    "              initialize=lambda m, i: 0)\n",
    "\n",
    "model.objective = pyo.Objective(expr=sum(model.cost[i] * model.x[i] for i in model.i), sense=pyo.minimize)\n",
    "model.constraints = pyo.Constraint(expr=sum(model.x[i] for i in model.i) >= 4)\n",
    "\n",
    "opt = pyo.SolverFactory(\"glpk\")\n",
    "opt.solve(model)\n",
    "print([pyo.value(model.x[i]) for i in model.i], pyo.value(model.objective))"
   ]
  },
  {
   "cell_type": "code",
   "execution_count": null,
   "id": "a6c642a8",
   "metadata": {},
   "outputs": [],
   "source": []
  }
 ],
 "metadata": {
  "kernelspec": {
   "display_name": "simulation-python",
   "language": "python",
   "name": "python3"
  },
  "language_info": {
   "codemirror_mode": {
    "name": "ipython",
    "version": 3
   },
   "file_extension": ".py",
   "mimetype": "text/x-python",
   "name": "python",
   "nbconvert_exporter": "python",
   "pygments_lexer": "ipython3",
   "version": "3.13.5"
  }
 },
 "nbformat": 4,
 "nbformat_minor": 5
}
