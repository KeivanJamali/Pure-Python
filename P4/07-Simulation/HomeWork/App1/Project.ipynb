{
 "cells": [
  {
   "cell_type": "code",
   "execution_count": 212,
   "metadata": {},
   "outputs": [
    {
     "name": "stdout",
     "output_type": "stream",
     "text": [
      "The autoreload extension is already loaded. To reload it, use:\n",
      "  %reload_ext autoreload\n"
     ]
    }
   ],
   "source": [
    "%load_ext autoreload\n",
    "%autoreload 2"
   ]
  },
  {
   "cell_type": "code",
   "execution_count": 213,
   "metadata": {},
   "outputs": [],
   "source": [
    "from modular.number_generator import Exponential_Generator, Deterministic_Generator\n",
    "from modular.Engine import Queue_Simulator\n",
    "from IPython.display import display_latex"
   ]
  },
  {
   "cell_type": "code",
   "execution_count": 214,
   "metadata": {},
   "outputs": [],
   "source": [
    "data = [3, 3, 2, 4, 6, 2, 4, 8, 4, 5, 5, 10]\n"
   ]
  },
  {
   "cell_type": "code",
   "execution_count": 215,
   "metadata": {},
   "outputs": [],
   "source": [
    "interval_generator = Exponential_Generator(seed=2062615503, mean=5)\n",
    "service_time_generator = Exponential_Generator(seed=1383670351, mean=4)\n",
    "gen1 = interval_generator\n",
    "gen2 = service_time_generator"
   ]
  },
  {
   "cell_type": "code",
   "execution_count": 216,
   "metadata": {},
   "outputs": [
    {
     "name": "stdout",
     "output_type": "stream",
     "text": [
      "=======================================================\n",
      "\n",
      "Therefore the U=0.8044462704352796\n",
      "We have 7763 people with more that 4.5 min system time. Therefore the percentage is 65.33961787728306\n",
      "Therefore, Average Number of People in Queue (N_Q) will be 1.5565924482377629\n",
      "Therefore, Average waiting time for People in Queue (Q_bar) will be 7.860916328109231\n",
      "Therefore, Average Number of People in System (N) will be 2.3610387186730426\n",
      "\n",
      "=======================================================\n"
     ]
    }
   ],
   "source": [
    "model = Queue_Simulator(interval_generator=gen1,\n",
    "                              service_time_generator=gen2,\n",
    "                              print_=False,\n",
    "                              detailed=False)\n",
    "# model.fit(policy=\"SPT\", last_id=10000)\n",
    "model.fit(policy=\"SPT\", last_time=1000*60)\n",
    "# model.plot_sample_path(file_name=\"sample_4.svg\")"
   ]
  }
 ],
 "metadata": {
  "kernelspec": {
   "display_name": "Python 3",
   "language": "python",
   "name": "python3"
  },
  "language_info": {
   "codemirror_mode": {
    "name": "ipython",
    "version": 3
   },
   "file_extension": ".py",
   "mimetype": "text/x-python",
   "name": "python",
   "nbconvert_exporter": "python",
   "pygments_lexer": "ipython3",
   "version": "3.12.1"
  }
 },
 "nbformat": 4,
 "nbformat_minor": 2
}
