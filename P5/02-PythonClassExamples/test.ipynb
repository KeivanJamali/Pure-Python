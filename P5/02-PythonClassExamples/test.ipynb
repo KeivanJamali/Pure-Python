{
 "cells": [
  {
   "cell_type": "markdown",
   "id": "834d1efb",
   "metadata": {},
   "source": [
    "# First class"
   ]
  },
  {
   "cell_type": "code",
   "execution_count": 32,
   "id": "6f97e86a",
   "metadata": {},
   "outputs": [],
   "source": [
    "a = 3\n",
    "b = 5.5\n",
    "c = 2.0\n",
    "d = \"Arezo \""
   ]
  },
  {
   "cell_type": "code",
   "execution_count": 33,
   "id": "b5173cbc",
   "metadata": {},
   "outputs": [
    {
     "data": {
      "text/plain": [
       "str"
      ]
     },
     "execution_count": 33,
     "metadata": {},
     "output_type": "execute_result"
    }
   ],
   "source": [
    "type(d)"
   ]
  },
  {
   "cell_type": "code",
   "execution_count": 36,
   "id": "8d0b6087",
   "metadata": {},
   "outputs": [],
   "source": [
    "c = int(c)"
   ]
  },
  {
   "cell_type": "code",
   "execution_count": 38,
   "id": "7f5fbde3",
   "metadata": {},
   "outputs": [
    {
     "data": {
      "text/plain": [
       "2"
      ]
     },
     "execution_count": 38,
     "metadata": {},
     "output_type": "execute_result"
    }
   ],
   "source": [
    "c"
   ]
  },
  {
   "cell_type": "code",
   "execution_count": 56,
   "id": "95b81555",
   "metadata": {},
   "outputs": [
    {
     "data": {
      "text/plain": [
       "2"
      ]
     },
     "execution_count": 56,
     "metadata": {},
     "output_type": "execute_result"
    }
   ],
   "source": [
    "a = \"2.5\"\n",
    "a = float(a)\n",
    "int(a)"
   ]
  },
  {
   "cell_type": "markdown",
   "id": "03cc4e68",
   "metadata": {},
   "source": [
    "- integer - int [5, -2, 1000]\n",
    "- float - float [2.5, 1000.0, -25.3]\n",
    "- string - str [\"asdfasdfasdf\", 'afwsd dsaf ewd dfe ']"
   ]
  },
  {
   "cell_type": "code",
   "execution_count": 2,
   "id": "208eecae",
   "metadata": {},
   "outputs": [
    {
     "name": "stdout",
     "output_type": "stream",
     "text": [
      "hello world\n"
     ]
    }
   ],
   "source": [
    "a = \"hello world\"\n",
    "print(a)"
   ]
  },
  {
   "cell_type": "code",
   "execution_count": 10,
   "id": "09505fbc",
   "metadata": {},
   "outputs": [
    {
     "data": {
      "text/plain": [
       "'l'"
      ]
     },
     "execution_count": 10,
     "metadata": {},
     "output_type": "execute_result"
    }
   ],
   "source": [
    "a[2]"
   ]
  },
  {
   "cell_type": "code",
   "execution_count": 12,
   "id": "4d3e619d",
   "metadata": {},
   "outputs": [
    {
     "data": {
      "text/plain": [
       "'o'"
      ]
     },
     "execution_count": 12,
     "metadata": {},
     "output_type": "execute_result"
    }
   ],
   "source": [
    "a[4]"
   ]
  },
  {
   "cell_type": "code",
   "execution_count": 14,
   "id": "7a7388ff",
   "metadata": {},
   "outputs": [
    {
     "data": {
      "text/plain": [
       "'llo'"
      ]
     },
     "execution_count": 14,
     "metadata": {},
     "output_type": "execute_result"
    }
   ],
   "source": [
    "a[2:5]"
   ]
  },
  {
   "cell_type": "markdown",
   "id": "560b1fd0",
   "metadata": {},
   "source": [
    "- start 0\n",
    "- start : end-1"
   ]
  },
  {
   "cell_type": "code",
   "execution_count": 17,
   "id": "066c6d9c",
   "metadata": {},
   "outputs": [
    {
     "data": {
      "text/plain": [
       "'HELLO WORLD'"
      ]
     },
     "execution_count": 17,
     "metadata": {},
     "output_type": "execute_result"
    }
   ],
   "source": [
    "a.upper()"
   ]
  },
  {
   "cell_type": "code",
   "execution_count": 18,
   "id": "6a99a3fc",
   "metadata": {},
   "outputs": [
    {
     "data": {
      "text/plain": [
       "'hello'"
      ]
     },
     "execution_count": 18,
     "metadata": {},
     "output_type": "execute_result"
    }
   ],
   "source": [
    "a = \"HELLO\"\n",
    "a.lower()"
   ]
  },
  {
   "cell_type": "code",
   "execution_count": 22,
   "id": "7dee0188",
   "metadata": {},
   "outputs": [
    {
     "data": {
      "text/plain": [
       "3"
      ]
     },
     "execution_count": 22,
     "metadata": {},
     "output_type": "execute_result"
    }
   ],
   "source": [
    "a = \"arezoo zare\"\n",
    "a.title()\n",
    "a.index(\"z\")"
   ]
  },
  {
   "cell_type": "code",
   "execution_count": 21,
   "id": "a972e8c1",
   "metadata": {},
   "outputs": [
    {
     "data": {
      "text/plain": [
       "2"
      ]
     },
     "execution_count": 21,
     "metadata": {},
     "output_type": "execute_result"
    }
   ],
   "source": [
    "a = \"ABC\"\n",
    "a.index(\"C\")"
   ]
  },
  {
   "cell_type": "code",
   "execution_count": 26,
   "id": "135e07a3",
   "metadata": {},
   "outputs": [
    {
     "data": {
      "text/plain": [
       "'1 2 3 4 5'"
      ]
     },
     "execution_count": 26,
     "metadata": {},
     "output_type": "execute_result"
    }
   ],
   "source": [
    "a = \"1, 2, 3, 4, 5\"\n",
    "a.replace(\",\", \"\")"
   ]
  },
  {
   "cell_type": "code",
   "execution_count": 36,
   "id": "305b3bbe",
   "metadata": {},
   "outputs": [
    {
     "data": {
      "text/plain": [
       "'1, 2, 3, 4, 5'"
      ]
     },
     "execution_count": 36,
     "metadata": {},
     "output_type": "execute_result"
    }
   ],
   "source": [
    "a = \"1,2,3,4,5\"\n",
    "a = a.split(\",\")\n",
    "a = \", \".join(a)\n",
    "a"
   ]
  },
  {
   "cell_type": "code",
   "execution_count": 32,
   "id": "e2ee3834",
   "metadata": {},
   "outputs": [
    {
     "data": {
      "text/plain": [
       "'1, 2, 3, 4, 5'"
      ]
     },
     "execution_count": 32,
     "metadata": {},
     "output_type": "execute_result"
    }
   ],
   "source": [
    "\", \".join(a)"
   ]
  },
  {
   "cell_type": "code",
   "execution_count": 34,
   "id": "d06f6083",
   "metadata": {},
   "outputs": [
    {
     "data": {
      "text/plain": [
       "'keivan and arezoo and aran and amir'"
      ]
     },
     "execution_count": 34,
     "metadata": {},
     "output_type": "execute_result"
    }
   ],
   "source": [
    "a = \" and \"\n",
    "LIST = [\"keivan\", \"arezoo\", \"aran\", \"amir\"]\n",
    "a.join(LIST)"
   ]
  },
  {
   "cell_type": "code",
   "execution_count": 42,
   "id": "6f284cb0",
   "metadata": {},
   "outputs": [
    {
     "data": {
      "text/plain": [
       "0"
      ]
     },
     "execution_count": 42,
     "metadata": {},
     "output_type": "execute_result"
    }
   ],
   "source": [
    "a.count(\",a \")"
   ]
  },
  {
   "cell_type": "code",
   "execution_count": 45,
   "id": "124971ce",
   "metadata": {},
   "outputs": [
    {
     "data": {
      "text/plain": [
       "'1, 2, 3, 4, 5'"
      ]
     },
     "execution_count": 45,
     "metadata": {},
     "output_type": "execute_result"
    }
   ],
   "source": [
    "a"
   ]
  },
  {
   "cell_type": "code",
   "execution_count": 78,
   "id": "47c77700",
   "metadata": {},
   "outputs": [
    {
     "name": "stdout",
     "output_type": "stream",
     "text": [
      "11\n"
     ]
    },
    {
     "data": {
      "text/plain": [
       "'hlowrd'"
      ]
     },
     "execution_count": 78,
     "metadata": {},
     "output_type": "execute_result"
    }
   ],
   "source": [
    "a = \"hello world\"\n",
    "print(len(a))\n",
    "a[::2]"
   ]
  },
  {
   "cell_type": "markdown",
   "id": "a5e60aca",
   "metadata": {},
   "source": [
    "hello worl\n",
    "0123456789\n",
    "-9-8-7-6-5-4-3-2-1\n",
    "\n",
    "- [start:end-1:steps]"
   ]
  },
  {
   "cell_type": "code",
   "execution_count": 81,
   "id": "7aa62d04",
   "metadata": {},
   "outputs": [
    {
     "name": "stdout",
     "output_type": "stream",
     "text": [
      "hora!\n"
     ]
    }
   ],
   "source": [
    "word = \"ELEPHENT\"\n",
    "a = word[1:5]\n",
    "b = input(\"enter ELEPHENT[1:5]: \")\n",
    "if a == b:\n",
    "    print(\"hora!\")\n",
    "else:\n",
    "    print(\"VAY!!!\")"
   ]
  },
  {
   "cell_type": "code",
   "execution_count": null,
   "id": "37f40307",
   "metadata": {},
   "outputs": [
    {
     "data": {
      "text/plain": [
       "False"
      ]
     },
     "execution_count": 94,
     "metadata": {},
     "output_type": "execute_result"
    }
   ],
   "source": [
    "bool()"
   ]
  },
  {
   "cell_type": "code",
   "execution_count": 102,
   "id": "b9ef55c1",
   "metadata": {},
   "outputs": [
    {
     "name": "stdout",
     "output_type": "stream",
     "text": [
      "False\n"
     ]
    }
   ],
   "source": [
    "a = 2\n",
    "b = 4\n",
    "print(a > b)"
   ]
  },
  {
   "cell_type": "code",
   "execution_count": null,
   "id": "dab2005c",
   "metadata": {},
   "outputs": [],
   "source": []
  }
 ],
 "metadata": {
  "kernelspec": {
   "display_name": "Python 3",
   "language": "python",
   "name": "python3"
  },
  "language_info": {
   "codemirror_mode": {
    "name": "ipython",
    "version": 3
   },
   "file_extension": ".py",
   "mimetype": "text/x-python",
   "name": "python",
   "nbconvert_exporter": "python",
   "pygments_lexer": "ipython3",
   "version": "3.13.5"
  }
 },
 "nbformat": 4,
 "nbformat_minor": 5
}
