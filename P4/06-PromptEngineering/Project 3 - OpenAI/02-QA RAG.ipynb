{
 "cells": [
  {
   "cell_type": "code",
   "execution_count": 6,
   "metadata": {},
   "outputs": [
    {
     "data": {
      "text/plain": [
       "True"
      ]
     },
     "execution_count": 6,
     "metadata": {},
     "output_type": "execute_result"
    }
   ],
   "source": [
    "from dotenv import load_dotenv\n",
    "\n",
    "load_dotenv()"
   ]
  },
  {
   "cell_type": "code",
   "execution_count": 67,
   "metadata": {},
   "outputs": [],
   "source": [
    "system_prompt:str = \"\"\"\n",
    "# Persoan\n",
    "- You are a helpful assistant. \n",
    "\n",
    "# Context\n",
    "- {context}\n",
    "\n",
    "# Instructions\n",
    "1- If the user ask questions, answer according to the ' Context ' provided above. However, don't say let the user understan that you have some context in your data.\n",
    "2- If you don't know the answer of the question, say just 'I don't know'.\n",
    "3- If the user is talking and not asking questions, try to chattng with him.\"\"\""
   ]
  },
  {
   "cell_type": "code",
   "execution_count": 68,
   "metadata": {},
   "outputs": [
    {
     "data": {
      "text/plain": [
       "ChatPromptTemplate(input_variables=['context', 'question'], input_types={}, partial_variables={}, messages=[SystemMessagePromptTemplate(prompt=PromptTemplate(input_variables=['context'], input_types={}, partial_variables={}, template=\"\\n# Persoan\\n- You are a helpful assistant. \\n\\n# Context\\n- {context}\\n\\n# Instructions\\n1- If the user ask questions, answer according to the ' Context ' provided above. However, don't say let the user understan that you have some context in your data.\\n2- If you don't know the answer of the question, say just 'I don't know'.\\n3- If the user is talking and not asking questions, try to chattng with him.\"), additional_kwargs={}), HumanMessagePromptTemplate(prompt=PromptTemplate(input_variables=['question'], input_types={}, partial_variables={}, template='{question}'), additional_kwargs={})])"
      ]
     },
     "execution_count": 68,
     "metadata": {},
     "output_type": "execute_result"
    }
   ],
   "source": [
    "from langchain.prompts import HumanMessagePromptTemplate, SystemMessagePromptTemplate, ChatPromptTemplate\n",
    "\n",
    "system_prompt = SystemMessagePromptTemplate.from_template(system_prompt, \n",
    "                                                          input_variables=[\"context\"])\n",
    "\n",
    "human_prompt = HumanMessagePromptTemplate.from_template(template=\"{question}\",\n",
    "                                                        input_variables=[\"question\"])\n",
    "\n",
    "prompt = ChatPromptTemplate([system_prompt, human_prompt],\n",
    "                                          input_variables=[\"context\", \"question\"])\n",
    "prompt"
   ]
  },
  {
   "cell_type": "code",
   "execution_count": 69,
   "metadata": {},
   "outputs": [],
   "source": [
    "from langchain_groq import ChatGroq\n",
    "models = {\"Google\": [\"gemma2-9b-it\", \"gemma-7b-it\"],\n",
    "          \"Groq\": [\"llama3-groq-70b-8192-tool-use-preview\", \"llama3-groq-8b-8192-tool-use-preview\"],\n",
    "          \"Meta\": [\"llama-3.1-70b-versatile\", \"llama-3.1-8b-instant\", \"llama-3.2-1b-preview\", \"llama-3.2-3b-preview\", \"llama-3.2-11b-vision-preview\", \"llama-3.2-90b-vision-preview\", \"llama-guard-3-8b\", \"llama3-70b-8192\", \"llama3-8b-8192\"],\n",
    "          \"Mistral\": [\"mixtral-8x7b-32768\"],\n",
    "          \"OpenAI\": [\"whisper-large-v3\", \"whisper-large-v3-turbo\"]}\n",
    "model_groq = ChatGroq(model=models[\"Meta\"][0], temperature=0)"
   ]
  },
  {
   "cell_type": "code",
   "execution_count": null,
   "metadata": {},
   "outputs": [
    {
     "data": {
      "text/plain": [
       "196"
      ]
     },
     "execution_count": 89,
     "metadata": {},
     "output_type": "execute_result"
    }
   ],
   "source": [
    "from langchain.document_loaders import TextLoader\n",
    "from langchain.text_splitter import RecursiveCharacterTextSplitter\n",
    "import os\n",
    "\n",
    "doc_path = r\"D:\\All Python\\Pure-Python\\P4\\06-PromptEngineering\\Project 3 - OpenAI\\KeivanJamali_doc\"\n",
    "document = []\n",
    "for file_name in os.listdir(doc_path):\n",
    "    if file_name.endswith(\".txt\"):\n",
    "        file_path = os.path.join(doc_path, file_name)\n",
    "        loader = TextLoader(file_path, encoding=\"utf-8\")\n",
    "        docs = loader.load()\n",
    "        text_splitter = RecursiveCharacterTextSplitter(chunk_size=200, \n",
    "                                                       chunk_overlap=100,\n",
    "                                                       separators=\"\\n\\n\")\n",
    "        result = text_splitter.split_documents(docs)\n",
    "        document += result\n",
    "len(document)"
   ]
  },
  {
   "cell_type": "code",
   "execution_count": 96,
   "metadata": {},
   "outputs": [],
   "source": [
    "from langchain_huggingface import HuggingFaceEmbeddings\n",
    "from langchain_chroma import Chroma\n",
    "from langchain_community.vectorstores import FAISS\n",
    "\n",
    "embeddings = HuggingFaceEmbeddings()\n",
    "db_k1 = FAISS.from_documents(document, embeddings)\n",
    "retriever = db_k1.as_retriever()"
   ]
  },
  {
   "cell_type": "code",
   "execution_count": null,
   "metadata": {},
   "outputs": [],
   "source": [
    "from langchain.chains import RetrievalQA\n",
    "retriever.search_kwargs[\"k\"] = 25\n",
    "chain = RetrievalQA.from_chain_type(llm=model_groq,\n",
    "                                    chain_type=\"map_reduce\",\n",
    "                                    retriever=retriever,\n",
    "                                    return_source_documents=True)\n"
   ]
  },
  {
   "cell_type": "code",
   "execution_count": 102,
   "metadata": {},
   "outputs": [
    {
     "data": {
      "text/markdown": [
       "I don't know."
      ],
      "text/plain": [
       "<IPython.core.display.Markdown object>"
      ]
     },
     "metadata": {},
     "output_type": "display_data"
    }
   ],
   "source": [
    "from IPython.display import Markdown, display\n",
    "query = \"What is the phone number or telephone of Keivan Jamali?\"\n",
    "answer = chain.invoke(query)\n",
    "display(Markdown(answer[\"result\"]))"
   ]
  },
  {
   "cell_type": "code",
   "execution_count": 101,
   "metadata": {},
   "outputs": [
    {
     "data": {
      "text/markdown": [
       "\n",
       "# Contact Me\n",
       "\n",
       "###### My Location\n",
       "\n",
       "## Tehran, Tarasht3\n",
       "\n",
       "###### Telephone\n",
       "\n",
       "0910 151 1983\n",
       "\n",
       "Email address: me@keivanjamali.com\n",
       "\n",
       "### Send Me a Message\n",
       "###### Hi, I'm\n",
       "\n",
       "# Keivan Jamali\n",
       "\n",
       "Civil Engineering Student at Sharif University of Technology\n",
       "\n",
       "- [Scroll Down](#Homepage)\n",
       "![Keivan-4](https://keivanjamali.com/wp-content/uploads/elementor/thumbs/Keivan-4-e1697287762801-qdumsp1h9d6xwfy5zdh5e4p8igcwc1tr42qcdcjk14.png)\n",
       "Civil Engineering Student at Sharif University of Technology\n",
       "\n",
       "- [Scroll Down](#Homepage)\n",
       "\n",
       "You can see my **[Résumé](https://keivanjamali.com/wp-content/uploads/2024/09/Resume_2.pdf)**here\n",
       "Email address: me@keivanjamali.com\n",
       "\n",
       "### Send Me a Message\n",
       "\n",
       "For project request or if you have any questions please fill the bellow form and I will get in touch with you as soon as possible.\n",
       "\n",
       "Name \\*\n",
       "![](https://keivanjamali.com/wp-content/uploads/2024/04/KeivanJamali-17-2048x2048.png)\n",
       "\n",
       "### Civil Engineering at Sharif University of Technology\n",
       "\n",
       "My Skills :\n",
       "\n",
       "[![file1_picture](https://keivanjamali.com/wp-content/uploads/elementor/thumbs/file1_pic-qrdnfvr295a44q4yjo3m5ydhzhcsbophg0q180w03s.png)](https://keivanjamali.com/wp-content/uploads/2024/07/file1_pic.png)\n",
       "\n",
       "[![file1_picture](https://keivanjamali.com/wp-content/uploads/elementor/thumbs/file1_pic-qrdnfvr295a44q4yjo3m5ydhzhcsbophg0q180w03s.png)](https://keivanjamali.com/wp-content/uploads/2024/07/file1_pic.png)\n",
       "[résumé](https://keivanjamali.com/wp-content/uploads/2024/09/Resume_2.pdf)\n",
       "\n",
       "![](https://keivanjamali.com/wp-content/uploads/2024/04/KeivanJamali-17-2048x2048.png)\n",
       "[more deteil](https://keivanjamali.com/keivan-jamali-project-portfolio/azadi-tower-structural-analysis/)\n",
       "- [Overview](#AzadiTowerOfIran-overview)\n",
       "- [Results](#AzadiTowerOfIran-results)\n",
       "- [Code Sources](#AzadiTowerOfIran-codesources)\n",
       "\n",
       "## Project Overview\n",
       "\n",
       "- **[Clinic Online Website](https://keivanjamali.com/keivan-jamali-projects/clinic-management-python-django/https://keivanjamali.com/keivan-jamali-projects/clinic-management-python-django/)   \\|** Oct 2023 –  Jan 2024  **\\|**   Supervisor: Dr. Habibi\n",
       "\n",
       "[![file3_pic_CSDP](https://keivanjamali.com/wp-content/uploads/elementor/thumbs/file3_pic-qrdniq7gy36da804xedy7qiqqhbsmp0863tyj6o39k.png)](https://keivanjamali.com/wp-content/uploads/2024/07/file3_pic.png)\n",
       "\n",
       "[![file2_picture_CSDP](https://keivanjamali.com/wp-content/uploads/elementor/thumbs/file2_pic-qrdni0tttk7mkr101lf0uexap2svuv7h2m7ukpppxk.png)](https://keivanjamali.com/wp-content/uploads/2024/07/file2_pic.png)\n",
       "\n",
       "• Project is available on [KeivanJamali.com](https://keivanjamali.com/keivan-jamali-projects/azadi-tower-2d-trust-model/) & [GitHub](https://github.com/KeivanJamali/Pure-Python/tree/main/P1/03-Azadi_Project).\n",
       "[![file_picture_generic](https://keivanjamali.com/wp-content/uploads/2024/07/Generic-file-pic-218x300.png)](https://keivanjamali.com/wp-content/uploads/2024/07/Generic-file-pic.png)\n",
       "\n",
       "• Progress and updates on the project can be tracked on [KeivanJamali.com](https://keivanjamali.com/keivan-jamali-projects/los-transportation-management/) and [GitHub](https://github.com/KeivanJamali/Machine-Learning-Projects/tree/main/Project%205%20-%20LOS%20Prediction).\n",
       "![](https://keivanjamali.com/wp-content/uploads/2023/10/Azadi-Tower-Project.png)\n",
       "\n",
       "## Code Sources :\n",
       "\n",
       "This modeling is done by python.\n",
       "\n",
       "Here you can fine all codes and results :\n",
       "# About Me\n",
       "\n",
       "Unveiling the Layers: My Story of Growth, Passion, and Purpose\n",
       "\n",
       "![](https://keivanjamali.com/wp-content/uploads/2023/07/yazd-about-pic.png)Ancient city of Yazd\n",
       "# Azadi Tower of Iran\n",
       "\n",
       "Using Python and Finite Element Analysis to Model the Azadi Tower of Iran\n",
       "\n",
       "Relative Fields: Structure Engineering, Steel Engineering, Programming\n",
       "\n",
       "• The project can be tracked on [KeivanJamali.com](https://keivanjamali.com/keivan-jamali-projects/clinic-management-python-django/) and [GitHub](https://github.com/KeivanJamali/Machine-Learning-Projects/tree/main/Project%205%20-%20LOS%20Prediction).\n",
       "Name \\*\n",
       "\n",
       "Email \\*\n",
       "\n",
       "Message \\*\n",
       "\n",
       "Message\n",
       "\n",
       "Send Message\n",
       "\n",
       "Scroll to Top\n",
       "### Civil Engineering at Sharif University of Technology\n",
       "\n",
       "My Skills :\n",
       "\n",
       "Here you can fine my most significant skills. Provided percentages are for easier comparison between my skills.\n",
       "## Results of The Project\n",
       "\n",
       "[![](https://keivanjamali.com/wp-content/uploads/2024/05/interface-1024x513.png)](https://huggingface.co/spaces/K1Jamali/Food_Vision?logs=container)\n",
       "\n",
       "• The model base code can be tracked on [KeivanJamali.com](https://keivanjamali.com/keivan-jamali-projects/culinary-deep-learning-efficientnetb2/) and [GitHub](https://github.com/KeivanJamali/PyTorch-for-Deep-Learning)."
      ],
      "text/plain": [
       "<IPython.core.display.Markdown object>"
      ]
     },
     "metadata": {},
     "output_type": "display_data"
    }
   ],
   "source": [
    "temp = \"\"\n",
    "for doc in answer[\"source_documents\"]:\n",
    "    temp += f\"\\n{doc.page_content}\"\n",
    "\n",
    "display(Markdown(temp))"
   ]
  },
  {
   "cell_type": "code",
   "execution_count": null,
   "metadata": {},
   "outputs": [
    {
     "data": {
      "text/plain": [
       "'[résumé](https://keivanjamali.com/wp-content/uploads/2024/09/Resume_2.pdf)\\n\\n![](https://keivanjamali.com/wp-content/uploads/2024/04/KeivanJamali-17-2048x2048.png)\\n\\n### Civil Engineering at Sharif University of Technology\\n\\nMy Skills :'"
      ]
     },
     "execution_count": 42,
     "metadata": {},
     "output_type": "execute_result"
    }
   ],
   "source": [
    "answer[\"source_documents\"][10].page_content\n"
   ]
  }
 ],
 "metadata": {
  "kernelspec": {
   "display_name": "Python 3",
   "language": "python",
   "name": "python3"
  },
  "language_info": {
   "codemirror_mode": {
    "name": "ipython",
    "version": 3
   },
   "file_extension": ".py",
   "mimetype": "text/x-python",
   "name": "python",
   "nbconvert_exporter": "python",
   "pygments_lexer": "ipython3",
   "version": "3.12.7"
  }
 },
 "nbformat": 4,
 "nbformat_minor": 2
}
