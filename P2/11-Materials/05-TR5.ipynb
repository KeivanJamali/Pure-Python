{
 "cells": [
  {
   "cell_type": "code",
   "execution_count": 1,
   "metadata": {},
   "outputs": [],
   "source": [
    "from sympy import *"
   ]
  },
  {
   "cell_type": "code",
   "execution_count": 23,
   "metadata": {},
   "outputs": [
    {
     "data": {
      "text/latex": [
       "$\\displaystyle \\left[\\begin{matrix}0.104 G a^{2} \\theta\\\\0.08013 G a^{2} \\theta\\\\0.1068 G a^{2} \\theta\\\\0.09152 G a^{2} \\theta\\\\0.05413 G a^{2} \\theta\\end{matrix}\\right]$"
      ],
      "text/plain": [
       "Matrix([\n",
       "[  0.104*G*a**2*theta],\n",
       "[0.08013*G*a**2*theta],\n",
       "[ 0.1068*G*a**2*theta],\n",
       "[0.09152*G*a**2*theta],\n",
       "[0.05413*G*a**2*theta]])"
      ]
     },
     "execution_count": 23,
     "metadata": {},
     "output_type": "execute_result"
    }
   ],
   "source": [
    "psi, n, m, G, theta, a = symbols(\"psi, n, m, G, theta, a\")\n",
    "coef = Matrix([[-3, 1, 1, 0, 0], \n",
    "               [1, -4, 0, 1, 0], \n",
    "               [1, 0, -3, 1, 0], \n",
    "               [0, 1, 1, -4, 1], \n",
    "               [0, 0, 0, 1, -4]])\n",
    "rhs = Matrix([1, 1, 1, 1, 1]) * (-2*G) * theta * (a/4)**2\n",
    "psi = coef**(-1) * rhs\n",
    "psi.evalf(4)"
   ]
  },
  {
   "cell_type": "code",
   "execution_count": null,
   "metadata": {},
   "outputs": [],
   "source": []
  }
 ],
 "metadata": {
  "kernelspec": {
   "display_name": "Python 3",
   "language": "python",
   "name": "python3"
  },
  "language_info": {
   "codemirror_mode": {
    "name": "ipython",
    "version": 3
   },
   "file_extension": ".py",
   "mimetype": "text/x-python",
   "name": "python",
   "nbconvert_exporter": "python",
   "pygments_lexer": "ipython3",
   "version": "3.12.1"
  }
 },
 "nbformat": 4,
 "nbformat_minor": 2
}
