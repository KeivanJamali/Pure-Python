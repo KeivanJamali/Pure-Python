{
 "cells": [
  {
   "cell_type": "markdown",
   "id": "a1b58446",
   "metadata": {},
   "source": [
    "## Example 1: Ice Cream Flavor Detector"
   ]
  },
  {
   "cell_type": "code",
   "execution_count": null,
   "id": "f2e56c6d",
   "metadata": {},
   "outputs": [],
   "source": [
    "flavor = input(\"What's your favorite ice cream? \")\n",
    "\n",
    "if flavor == \"chocolate\":\n",
    "    print(\"🍫 Yum! Chocolate is the best!\")\n",
    "elif flavor == \"vanilla\":\n",
    "    print(\"🍦 Classic choice!\")\n",
    "elif flavor == \"strawberry\":\n",
    "    print(\"🍓 Sweet and fruity!\")\n",
    "else:\n",
    "    print(\"😋 Interesting choice!\")\n"
   ]
  },
  {
   "cell_type": "markdown",
   "id": "2aca7b2e",
   "metadata": {},
   "source": [
    "## Example 2: Keep Guessing!"
   ]
  },
  {
   "cell_type": "code",
   "execution_count": null,
   "id": "189ec3d0",
   "metadata": {},
   "outputs": [],
   "source": [
    "secret = \"panda\"\n",
    "guess = \"\"\n",
    "\n",
    "while guess != secret:\n",
    "    guess = input(\"Guess the secret animal: \")\n",
    "\n",
    "print(\"🎉 You got it!\")\n"
   ]
  },
  {
   "cell_type": "markdown",
   "id": "8752777a",
   "metadata": {
    "vscode": {
     "languageId": "plaintext"
    }
   },
   "source": [
    "## Example 3: Sort Algorithm"
   ]
  },
  {
   "cell_type": "code",
   "execution_count": null,
   "id": "bbfc9e7a",
   "metadata": {},
   "outputs": [],
   "source": [
    "a = int(input(\"Enter a: \"))\n",
    "b = int(input(\"Enter b: \"))\n",
    "c = int(input(\"Enter c: \"))\n",
    "if a > b:\n",
    "    temp = a\n",
    "    a = b\n",
    "    b = temp\n",
    "if a > c:\n",
    "    temp = a\n",
    "    a = c\n",
    "    c = temp\n",
    "if b > c:\n",
    "    temp = b\n",
    "    b = c\n",
    "    c = temp\n",
    "\n",
    "print(f\"Sorted result is: {a}, {b}, {c},\")\n"
   ]
  },
  {
   "cell_type": "markdown",
   "id": "21ecae67",
   "metadata": {},
   "source": [
    "## Example 4: Multiple of 3 or 5"
   ]
  },
  {
   "cell_type": "code",
   "execution_count": 1,
   "id": "c7366b8e",
   "metadata": {},
   "outputs": [
    {
     "name": "stdout",
     "output_type": "stream",
     "text": [
      "233168\n"
     ]
    }
   ],
   "source": [
    "result = 0\n",
    "for i in range(1000):\n",
    "    if i % 3 == 0:\n",
    "        result += i\n",
    "    elif i % 5 == 0:\n",
    "        result += i\n",
    "print(result)"
   ]
  },
  {
   "cell_type": "markdown",
   "id": "370bfbdc",
   "metadata": {},
   "source": [
    "## Example 5: Even Fibonacci Numbers"
   ]
  },
  {
   "cell_type": "code",
   "execution_count": 2,
   "id": "d43ba0e3",
   "metadata": {},
   "outputs": [
    {
     "name": "stdout",
     "output_type": "stream",
     "text": [
      "[INFO] All numbers below 4 million is found.\n",
      "4613732\n",
      "4613732\n"
     ]
    }
   ],
   "source": [
    "first_number = 1\n",
    "second_number = 2\n",
    "result = 2\n",
    "result_list = [second_number]\n",
    "while True:\n",
    "    first_number, second_number = second_number, first_number + second_number\n",
    "    if second_number > 4_000_000:\n",
    "        print(\"[INFO] All numbers below 4 million is found.\")\n",
    "        break\n",
    "    if second_number % 2 == 0:\n",
    "        result_list.append(second_number)\n",
    "        result += second_number\n",
    "\n",
    "print(result)\n",
    "print(sum(result_list))"
   ]
  },
  {
   "cell_type": "markdown",
   "id": "82b10cdb",
   "metadata": {},
   "source": [
    "## Example 6: Largest Prime Factor"
   ]
  },
  {
   "cell_type": "code",
   "execution_count": 3,
   "id": "3fc374eb",
   "metadata": {},
   "outputs": [
    {
     "name": "stdout",
     "output_type": "stream",
     "text": [
      "[INFO] We found a prime 71 and now our leftover is 8462696833\n",
      "[INFO] We found a prime 839 and now our leftover is 10086647\n",
      "[INFO] We found a prime 1471 and now our leftover is 6857\n",
      "[INFO] We found a prime 6857 and now our leftover is 1\n",
      "6857\n"
     ]
    }
   ],
   "source": [
    "prime_numbers = []\n",
    "max_prime = 600851475143\n",
    "original_number = 600851475143\n",
    "temp_number = original_number\n",
    "while temp_number>1:\n",
    "    for i in range(2, max_prime):\n",
    "        if temp_number % i == 0:\n",
    "            prime_numbers.append(i)\n",
    "            temp_number = temp_number // i\n",
    "            print(f\"[INFO] We found a prime {i} and now our leftover is {temp_number}\")\n",
    "            break\n",
    "print(max(prime_numbers))"
   ]
  },
  {
   "cell_type": "markdown",
   "id": "2657173b",
   "metadata": {},
   "source": [
    "## Example 7: Largest Palindrome Product"
   ]
  },
  {
   "cell_type": "code",
   "execution_count": 9,
   "id": "eb2ba871",
   "metadata": {},
   "outputs": [
    {
     "name": "stdout",
     "output_type": "stream",
     "text": [
      "906609\n",
      "886688\n",
      "888888\n",
      "861168\n",
      "888888\n",
      "861168\n",
      "886688\n",
      "824428\n",
      "906609\n",
      "819918\n",
      "824428\n",
      "819918\n",
      "[INFO] We found the maximum number which is 906609\n"
     ]
    }
   ],
   "source": [
    "palindrome_numbers = []\n",
    "for i in range(999, 900, -1):\n",
    "    for j in range(999, 900, -1):\n",
    "        palindrome = str(i * j)\n",
    "        if int(palindrome) == int(palindrome[::-1]):\n",
    "            print(palindrome)\n",
    "            palindrome_numbers.append(int(palindrome))\n",
    "\n",
    "print(f\"[INFO] We found the maximum number which is {max(palindrome_numbers)}\")"
   ]
  },
  {
   "cell_type": "markdown",
   "id": "6d251e84",
   "metadata": {},
   "source": [
    "## Example 8\n",
    "### Ask the user to type a sentence. Reverse each word in the sentence but keep the word order the same.\n",
    "### Example:\n",
    "\n",
    "> Input: I love Python  \n",
    "Output: I evol nohtyP\n"
   ]
  },
  {
   "cell_type": "code",
   "execution_count": 15,
   "id": "c6611689",
   "metadata": {},
   "outputs": [
    {
     "name": "stdout",
     "output_type": "stream",
     "text": [
      "I evol nohtyP\n"
     ]
    }
   ],
   "source": [
    "sentence = \"I love Python\"\n",
    "words = sentence.split(\" \")\n",
    "result = []\n",
    "for word in words:\n",
    "    reversed_word = word[::-1]\n",
    "    result.append(reversed_word)\n",
    "print(\" \".join(result))"
   ]
  },
  {
   "cell_type": "code",
   "execution_count": null,
   "id": "d37f3ab5",
   "metadata": {},
   "outputs": [
    {
     "name": "stdout",
     "output_type": "stream",
     "text": [
      "2432902008176640000\n"
     ]
    }
   ],
   "source": [
    "res = 1\n",
    "for i in range(2, 21):\n",
    "    res *= i\n",
    "\n",
    "print(res)"
   ]
  },
  {
   "cell_type": "code",
   "execution_count": null,
   "id": "a7305f3c",
   "metadata": {},
   "outputs": [],
   "source": [
    "73167176531330624919225119674426574742355349194934\n",
    "96983520312774506326239578318016984801869478851843\n",
    "85861560789112949495459501737958331952853208805511\n",
    "12540698747158523863050715693290963295227443043557\n",
    "66896648950445244523161731856403098711121722383113\n",
    "62229893423380308135336276614282806444486645238749\n",
    "30358907296290491560440772390713810515859307960866\n",
    "70172427121883998797908792274921901699720888093776\n",
    "65727333001053367881220235421809751254540594752243\n",
    "52584907711670556013604839586446706324415722155397\n",
    "53697817977846174064955149290862569321978468622482\n",
    "83972241375657056057490261407972968652414535100474\n",
    "82166370484403199890008895243450658541227588666881\n",
    "16427171479924442928230863465674813919123162824586\n",
    "17866458359124566529476545682848912883142607690042\n",
    "24219022671055626321111109370544217506941658960408\n",
    "07198403850962455444362981230987879927244284909188\n",
    "84580156166097919133875499200524063689912560717606\n",
    "05886116467109405077541002256983155200055935729725\n",
    "71636269561882670428252483600823257530420752963450"
   ]
  },
  {
   "cell_type": "code",
   "execution_count": 1,
   "id": "4a0907a8",
   "metadata": {},
   "outputs": [],
   "source": [
    "a = [1, 2, 3,4]\n",
    "a.append(5)"
   ]
  },
  {
   "cell_type": "code",
   "execution_count": 2,
   "id": "c290c6c0",
   "metadata": {},
   "outputs": [
    {
     "data": {
      "text/plain": [
       "[1, 2, 3, 4, 5]"
      ]
     },
     "execution_count": 2,
     "metadata": {},
     "output_type": "execute_result"
    }
   ],
   "source": [
    "a"
   ]
  },
  {
   "cell_type": "code",
   "execution_count": 3,
   "id": "00e93d13",
   "metadata": {},
   "outputs": [],
   "source": [
    "a.append(19)"
   ]
  },
  {
   "cell_type": "code",
   "execution_count": 4,
   "id": "77cef12c",
   "metadata": {},
   "outputs": [
    {
     "data": {
      "text/plain": [
       "[1, 2, 3, 4, 5, 19]"
      ]
     },
     "execution_count": 4,
     "metadata": {},
     "output_type": "execute_result"
    }
   ],
   "source": [
    "a"
   ]
  },
  {
   "cell_type": "code",
   "execution_count": 5,
   "id": "877e0b93",
   "metadata": {},
   "outputs": [
    {
     "data": {
      "text/plain": [
       "19"
      ]
     },
     "execution_count": 5,
     "metadata": {},
     "output_type": "execute_result"
    }
   ],
   "source": [
    "a.pop()"
   ]
  },
  {
   "cell_type": "code",
   "execution_count": 6,
   "id": "f5c5d22e",
   "metadata": {},
   "outputs": [
    {
     "data": {
      "text/plain": [
       "[1, 2, 3, 4, 5]"
      ]
     },
     "execution_count": 6,
     "metadata": {},
     "output_type": "execute_result"
    }
   ],
   "source": [
    "a"
   ]
  },
  {
   "cell_type": "code",
   "execution_count": 7,
   "id": "30e75b81",
   "metadata": {},
   "outputs": [
    {
     "data": {
      "text/plain": [
       "2"
      ]
     },
     "execution_count": 7,
     "metadata": {},
     "output_type": "execute_result"
    }
   ],
   "source": [
    "a.pop(1)"
   ]
  },
  {
   "cell_type": "code",
   "execution_count": 8,
   "id": "d62dc918",
   "metadata": {},
   "outputs": [
    {
     "data": {
      "text/plain": [
       "[1, 3, 4, 5]"
      ]
     },
     "execution_count": 8,
     "metadata": {},
     "output_type": "execute_result"
    }
   ],
   "source": [
    "a"
   ]
  },
  {
   "cell_type": "code",
   "execution_count": 15,
   "id": "d6caf62f",
   "metadata": {},
   "outputs": [
    {
     "data": {
      "text/plain": [
       "[3, 4]"
      ]
     },
     "execution_count": 15,
     "metadata": {},
     "output_type": "execute_result"
    }
   ],
   "source": [
    "a[1:3]"
   ]
  },
  {
   "cell_type": "code",
   "execution_count": 25,
   "id": "d19bfb3c",
   "metadata": {},
   "outputs": [],
   "source": [
    "a = \"sdfa dsga\""
   ]
  },
  {
   "cell_type": "code",
   "execution_count": 20,
   "id": "67e02a8e",
   "metadata": {},
   "outputs": [],
   "source": [
    "b = list(a)"
   ]
  },
  {
   "cell_type": "code",
   "execution_count": 21,
   "id": "67c7cd4a",
   "metadata": {},
   "outputs": [
    {
     "data": {
      "text/plain": [
       "['f', 'a']"
      ]
     },
     "execution_count": 21,
     "metadata": {},
     "output_type": "execute_result"
    }
   ],
   "source": [
    "b[2:4]"
   ]
  },
  {
   "cell_type": "code",
   "execution_count": 26,
   "id": "2f2b3853",
   "metadata": {},
   "outputs": [
    {
     "data": {
      "text/plain": [
       "['sdfa', 'dsga']"
      ]
     },
     "execution_count": 26,
     "metadata": {},
     "output_type": "execute_result"
    }
   ],
   "source": [
    "a.split(\" \")"
   ]
  },
  {
   "cell_type": "code",
   "execution_count": 30,
   "id": "0656ee46",
   "metadata": {},
   "outputs": [],
   "source": [
    "d = {\"apple\": \"something we eat\",\n",
    "     \"A\": 25,\n",
    "     25: \"salam\"}\n",
    "\n",
    "d[\"apple\"] = 23"
   ]
  },
  {
   "cell_type": "code",
   "execution_count": 33,
   "id": "9305d8c1",
   "metadata": {},
   "outputs": [],
   "source": [
    "d[\"b\"] = 34"
   ]
  },
  {
   "cell_type": "code",
   "execution_count": 34,
   "id": "598b1120",
   "metadata": {},
   "outputs": [
    {
     "data": {
      "text/plain": [
       "{'apple': 23, 'A': 25, 25: 'salam', 'b': 34}"
      ]
     },
     "execution_count": 34,
     "metadata": {},
     "output_type": "execute_result"
    }
   ],
   "source": [
    "d"
   ]
  },
  {
   "cell_type": "code",
   "execution_count": null,
   "id": "60233578",
   "metadata": {},
   "outputs": [],
   "source": [
    "dict {}\n",
    "list []\n",
    "set {}\n",
    "tuple ()"
   ]
  },
  {
   "cell_type": "code",
   "execution_count": 43,
   "id": "efcd2868",
   "metadata": {},
   "outputs": [],
   "source": [
    "a = {1, 2, 2, 3, 3}"
   ]
  },
  {
   "cell_type": "code",
   "execution_count": 44,
   "id": "4d217bbf",
   "metadata": {},
   "outputs": [
    {
     "data": {
      "text/plain": [
       "{1, 2, 3}"
      ]
     },
     "execution_count": 44,
     "metadata": {},
     "output_type": "execute_result"
    }
   ],
   "source": [
    "a"
   ]
  },
  {
   "cell_type": "code",
   "execution_count": 41,
   "id": "367b79fa",
   "metadata": {},
   "outputs": [],
   "source": [
    "a = [1, 2, 2, 3, 3]"
   ]
  },
  {
   "cell_type": "code",
   "execution_count": 42,
   "id": "de4313de",
   "metadata": {},
   "outputs": [
    {
     "data": {
      "text/plain": [
       "[1, 2, 2, 3, 3]"
      ]
     },
     "execution_count": 42,
     "metadata": {},
     "output_type": "execute_result"
    }
   ],
   "source": [
    "a"
   ]
  },
  {
   "cell_type": "code",
   "execution_count": null,
   "id": "7a7cc8f8",
   "metadata": {},
   "outputs": [],
   "source": []
  }
 ],
 "metadata": {
  "kernelspec": {
   "display_name": "Python 3",
   "language": "python",
   "name": "python3"
  },
  "language_info": {
   "codemirror_mode": {
    "name": "ipython",
    "version": 3
   },
   "file_extension": ".py",
   "mimetype": "text/x-python",
   "name": "python",
   "nbconvert_exporter": "python",
   "pygments_lexer": "ipython3",
   "version": "3.13.5"
  }
 },
 "nbformat": 4,
 "nbformat_minor": 5
}
