{
 "cells": [
  {
   "cell_type": "code",
   "execution_count": 20,
   "metadata": {},
   "outputs": [],
   "source": [
    "import numpy as np\n",
    "from scipy.optimize import differential_evolution\n",
    "import math\n",
    "import sympy as sp"
   ]
  },
  {
   "cell_type": "code",
   "execution_count": null,
   "metadata": {},
   "outputs": [
    {
     "name": "stdout",
     "output_type": "stream",
     "text": [
      "A1: 0.002967122207633288\n",
      "A2: 0.0027355452842803274\n",
      "A3: 0.0024496026058584697\n",
      "B1: 0.003579300802001306\n",
      "B2: 0.005272122915593869\n",
      "B3: 0.0038536564275348795\n"
     ]
    }
   ],
   "source": [
    "# Define the system of equations as residuals (errors)\n",
    "def cost_function(vars):\n",
    "    A1, A2, A3, B1, B2, B3 = vars\n",
    "    \n",
    "    # Compute the residuals (errors) for each equation\n",
    "    eq1 = (5000 * B1 * 2**2 * np.exp(-1) + 5000 * B2 * 5**2 * np.exp(-2.5) + 45000 * B3 * 7**2 * np.exp(-3.5))**(-1) - A1\n",
    "    eq2 = (5000 * B1 * 4**2 * np.exp(-2) + 5000 * B2 * 1**2 * np.exp(-0.5) + 45000 * B3 * 6**2 * np.exp(-3))**(-1) - A2\n",
    "    eq3 = (5000 * B1 * 8**2 * np.exp(-4) + 5000 * B2 * 7**2 * np.exp(-3.5) + 45000 * B3 * 3**2 * np.exp(-1.5))**(-1) - A3\n",
    "    eq4 = (20000 * A1 * 2**2 * np.exp(-1) + 30000 * A2 * 4**2 * np.exp(-2) + 5000 * A3 * 8**2 * np.exp(-4))**(-1) - B1\n",
    "    eq5 = (20000 * A1 * 5**2 * np.exp(-2.5) + 30000 * A2 * 1**2 * np.exp(-0.5) + 5000 * A3 * 7**2 * np.exp(-3.5))**(-1) - B2\n",
    "    eq6 = (20000 * A1 * 7**2 * np.exp(-3.5) + 30000 * A2 * 6**2 * np.exp(-3) + 5000 * A3 * 3**2 * np.exp(-1.5))**(-1) - B3\n",
    "\n",
    "    # Sum the squared residuals for all equations to form the cost\n",
    "    cost = eq1**2 + eq2**2 + eq3**2 + eq4**2 + eq5**2 + eq6**2\n",
    "    \n",
    "    return cost\n",
    "\n",
    "# Define bounds for each variable (A1, A2, A3, B1, B2, B3)\n",
    "bounds = [(-10, 10), (-10, 10), (-10, 10), (-10, 10), (-10, 10), (-10, 10)]\n",
    "\n",
    "# Minimize the cost function using Differential Evolution\n",
    "result = differential_evolution(cost_function, bounds, maxiter=1000, popsize=100)\n",
    "\n",
    "# Extract the optimized values\n",
    "A1, A2, A3, B1, B2, B3 = result.x\n",
    "\n",
    "print(\"A1:\", A1)\n",
    "print(\"A2:\", A2)\n",
    "print(\"A3:\", A3)\n",
    "print(\"B1:\", B1)\n",
    "print(\"B2:\", B2)\n",
    "print(\"B3:\", B3)\n",
    "result:\n",
    "A1: 0.002967122207633288\n",
    "A2: 0.0027355452842803274\n",
    "A3: 0.0024496026058584697\n",
    "B1: 0.003579300802001306\n",
    "B2: 0.005272122915593869\n",
    "B3: 0.0038536564275348795"
   ]
  },
  {
   "cell_type": "code",
   "execution_count": 22,
   "metadata": {},
   "outputs": [],
   "source": [
    "A1= 0.002967122207633288\n",
    "A2= 0.0027355452842803274\n",
    "A3= 0.0024496026058584697\n",
    "B1= 0.003579300802001306\n",
    "B2= 0.005272122915593869\n",
    "B3= 0.0038536564275348795\n",
    "A = [A1, A2, A3]\n",
    "B = [B1, B2, B3]\n",
    "O = [20000, 30000, 5000]\n",
    "D = [5000, 5000, 45000]\n",
    "d = [[2, 5, 7],\n",
    "     [4, 1, 6],\n",
    "     [8, 7, 3]]"
   ]
  },
  {
   "cell_type": "code",
   "execution_count": 23,
   "metadata": {},
   "outputs": [],
   "source": [
    "original_matrix = [[1800, 3100, 15100],\n",
    "                   [3100, 1500, 25400],\n",
    "                   [100, 400, 4500]]\n",
    "\n",
    "new_matrix = [[],\n",
    "              [],\n",
    "              []]\n",
    "\n",
    "for i in range(3):\n",
    "    for j in range(3):\n",
    "        new_matrix[i].append(A[i] * B[j] * O[i] * D[j] * d[i][j]**2 * math.exp(-0.5 * d[i][j]))\n",
    "\n"
   ]
  },
  {
   "cell_type": "code",
   "execution_count": 24,
   "metadata": {},
   "outputs": [
    {
     "data": {
      "text/plain": [
       "[[1562.7846658472743, 3210.1458524604977, 15227.069481693254],\n",
       " [3180.272868038713, 1312.1196926550274, 25507.6074393066],\n",
       " [256.94246611392094, 477.73445488465927, 4265.323079001044]]"
      ]
     },
     "execution_count": 24,
     "metadata": {},
     "output_type": "execute_result"
    }
   ],
   "source": [
    "new_matrix"
   ]
  },
  {
   "cell_type": "code",
   "execution_count": 25,
   "metadata": {},
   "outputs": [],
   "source": [
    "original_matrix = sp.Matrix(original_matrix)\n",
    "new_matrix = sp.Matrix(new_matrix)"
   ]
  },
  {
   "cell_type": "code",
   "execution_count": 32,
   "metadata": {},
   "outputs": [],
   "source": [
    "differences = new_matrix - original_matrix\n",
    "errors = []\n",
    "for i in range(3):\n",
    "    errors.append([])\n",
    "    for j in range(3):\n",
    "        errors[-1].append(differences[i, j] / original_matrix[i, j])"
   ]
  },
  {
   "cell_type": "code",
   "execution_count": 34,
   "metadata": {},
   "outputs": [
    {
     "data": {
      "text/plain": [
       "[[-0.131786296751514, 0.0355309201485477, 0.00841519746312938],\n",
       " [0.0258944735608752, -0.125253538229982, 0.00423651335852760],\n",
       " [1.56942466113921, 0.194336137211648, -0.0521504268886569]]"
      ]
     },
     "execution_count": 34,
     "metadata": {},
     "output_type": "execute_result"
    }
   ],
   "source": [
    "errors"
   ]
  },
  {
   "cell_type": "code",
   "execution_count": 35,
   "metadata": {},
   "outputs": [],
   "source": [
    "total_error = 0\n",
    "k = (1/(3**2))\n",
    "for i in range(3):\n",
    "    for j in range(3):\n",
    "        total_error +=  errors[i][j]\n",
    "total_error = total_error * k"
   ]
  },
  {
   "cell_type": "code",
   "execution_count": 38,
   "metadata": {},
   "outputs": [
    {
     "data": {
      "text/latex": [
       "$\\displaystyle 16.9849737890198$"
      ],
      "text/plain": [
       "16.9849737890198"
      ]
     },
     "execution_count": 38,
     "metadata": {},
     "output_type": "execute_result"
    }
   ],
   "source": [
    "total_error * 100"
   ]
  },
  {
   "cell_type": "code",
   "execution_count": 54,
   "metadata": {},
   "outputs": [],
   "source": [
    "F = [[0, 80, 60],\n",
    "     [80, 0, 40],\n",
    "     [60, 40, 0]]\n",
    "P = [600, 700, 300]\n",
    "A = [400, 800, 100]\n",
    "A = [213, 889, 78]\n",
    "A = [238, 816, 69]\n"
   ]
  },
  {
   "cell_type": "code",
   "execution_count": 55,
   "metadata": {},
   "outputs": [],
   "source": [
    "T = []\n",
    "temp_list = []\n",
    "for i in range(3):\n",
    "    T.append([])\n",
    "    temp_list.append([])\n",
    "    temp = 0\n",
    "    for j in range(3):\n",
    "        temp += A[j] * F[i][j]\n",
    "    for j in range(3):\n",
    "        if i != j:\n",
    "            t1 = P[i] * A[j] * F[i][j]\n",
    "            t = t1/temp\n",
    "            T[-1].append(t)\n",
    "            temp_list.append(temp)\n",
    "\n"
   ]
  },
  {
   "cell_type": "code",
   "execution_count": 56,
   "metadata": {},
   "outputs": [
    {
     "data": {
      "text/plain": [
       "[[564.2178046672428, 35.782195332757134],\n",
       " [611.3761467889908, 88.62385321100918],\n",
       " [91.30434782608695, 208.69565217391303]]"
      ]
     },
     "execution_count": 56,
     "metadata": {},
     "output_type": "execute_result"
    }
   ],
   "source": [
    "T"
   ]
  },
  {
   "cell_type": "code",
   "execution_count": 57,
   "metadata": {},
   "outputs": [
    {
     "data": {
      "text/plain": [
       "[[], 69420, 69420, [], 21800, 21800, [], 46920, 46920]"
      ]
     },
     "execution_count": 57,
     "metadata": {},
     "output_type": "execute_result"
    }
   ],
   "source": [
    "temp_list"
   ]
  }
 ],
 "metadata": {
  "kernelspec": {
   "display_name": "Python 3",
   "language": "python",
   "name": "python3"
  },
  "language_info": {
   "codemirror_mode": {
    "name": "ipython",
    "version": 3
   },
   "file_extension": ".py",
   "mimetype": "text/x-python",
   "name": "python",
   "nbconvert_exporter": "python",
   "pygments_lexer": "ipython3",
   "version": "3.12.1"
  }
 },
 "nbformat": 4,
 "nbformat_minor": 2
}
