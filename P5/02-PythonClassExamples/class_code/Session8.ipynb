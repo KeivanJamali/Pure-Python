{
 "cells": [
  {
   "cell_type": "markdown",
   "id": "3288c698",
   "metadata": {},
   "source": [
    "## Decimal"
   ]
  },
  {
   "cell_type": "code",
   "execution_count": 3,
   "id": "447b8090",
   "metadata": {},
   "outputs": [
    {
     "data": {
      "text/plain": [
       "Decimal('3.33333333333333333333333333333')"
      ]
     },
     "execution_count": 3,
     "metadata": {},
     "output_type": "execute_result"
    }
   ],
   "source": [
    "from decimal import Decimal, getcontext\n",
    "getcontext().prec = 30\n",
    "Decimal(10) / Decimal(3)"
   ]
  },
  {
   "cell_type": "markdown",
   "id": "18cfa33c",
   "metadata": {},
   "source": [
    "## Variables - part 1"
   ]
  },
  {
   "cell_type": "code",
   "execution_count": 1,
   "id": "c4702e91",
   "metadata": {},
   "outputs": [],
   "source": [
    "out = 205\n",
    "\n",
    "class Abc:\n",
    "    a = 1000\n",
    "    def __init__(self):\n",
    "        self.a = 10\n",
    "        b = 50\n",
    "\n",
    "    def pprint(self):\n",
    "        print(self.a)\n",
    "        print(Abc.a)\n",
    "        # print(b)\n",
    "        # out = out + 50\n",
    "        print(out)"
   ]
  },
  {
   "cell_type": "code",
   "execution_count": 2,
   "id": "13fa8fab",
   "metadata": {},
   "outputs": [
    {
     "name": "stdout",
     "output_type": "stream",
     "text": [
      "10\n",
      "1000\n",
      "205\n"
     ]
    }
   ],
   "source": [
    "abc_class = Abc()\n",
    "abc_class.pprint()\n",
    "# print(a)\n",
    "# print(b)"
   ]
  },
  {
   "cell_type": "code",
   "execution_count": 26,
   "id": "a0767b55",
   "metadata": {},
   "outputs": [],
   "source": [
    "c = 1\n",
    "def abc():\n",
    "    a = 100\n",
    "    b = 50\n",
    "    print(a, b, c)  \n",
    "    c += 1  "
   ]
  },
  {
   "cell_type": "code",
   "execution_count": 27,
   "id": "469bb714",
   "metadata": {},
   "outputs": [
    {
     "ename": "UnboundLocalError",
     "evalue": "cannot access local variable 'c' where it is not associated with a value",
     "output_type": "error",
     "traceback": [
      "\u001b[31m---------------------------------------------------------------------------\u001b[39m",
      "\u001b[31mUnboundLocalError\u001b[39m                         Traceback (most recent call last)",
      "\u001b[36mCell\u001b[39m\u001b[36m \u001b[39m\u001b[32mIn[27]\u001b[39m\u001b[32m, line 1\u001b[39m\n\u001b[32m----> \u001b[39m\u001b[32m1\u001b[39m \u001b[43mabc\u001b[49m\u001b[43m(\u001b[49m\u001b[43m)\u001b[49m\n\u001b[32m      2\u001b[39m \u001b[38;5;28mprint\u001b[39m(a)\n\u001b[32m      3\u001b[39m \u001b[38;5;28mprint\u001b[39m(b)\n",
      "\u001b[36mCell\u001b[39m\u001b[36m \u001b[39m\u001b[32mIn[26]\u001b[39m\u001b[32m, line 5\u001b[39m, in \u001b[36mabc\u001b[39m\u001b[34m()\u001b[39m\n\u001b[32m      3\u001b[39m a = \u001b[32m100\u001b[39m\n\u001b[32m      4\u001b[39m b = \u001b[32m50\u001b[39m\n\u001b[32m----> \u001b[39m\u001b[32m5\u001b[39m \u001b[38;5;28mprint\u001b[39m(a, b, \u001b[43mc\u001b[49m)  \n\u001b[32m      6\u001b[39m c += \u001b[32m1\u001b[39m\n",
      "\u001b[31mUnboundLocalError\u001b[39m: cannot access local variable 'c' where it is not associated with a value"
     ]
    }
   ],
   "source": [
    "abc()\n",
    "print(a)\n",
    "print(b)\n"
   ]
  },
  {
   "cell_type": "markdown",
   "id": "b62b691c",
   "metadata": {},
   "source": [
    "## Variables - part 2"
   ]
  },
  {
   "cell_type": "code",
   "execution_count": 5,
   "id": "62a3f201",
   "metadata": {},
   "outputs": [],
   "source": [
    "out = [100, 101, 102]\n",
    "class Abc:\n",
    "    a = [1, 2, 3]\n",
    "    def __init__(self):\n",
    "        self.a = [12, 13, 14]\n",
    "        b = [20, 21, 22]\n",
    "\n",
    "    def pprint(self):\n",
    "        print(self.a)\n",
    "        print(Abc.a)\n",
    "        # print(b)\n",
    "        out.append(1000)\n",
    "        print(out)"
   ]
  },
  {
   "cell_type": "code",
   "execution_count": 6,
   "id": "579b8266",
   "metadata": {},
   "outputs": [
    {
     "name": "stdout",
     "output_type": "stream",
     "text": [
      "[12, 13, 14]\n",
      "[1, 2, 3]\n",
      "[100, 101, 102, 1000]\n"
     ]
    },
    {
     "ename": "NameError",
     "evalue": "name 'a' is not defined",
     "output_type": "error",
     "traceback": [
      "\u001b[31m---------------------------------------------------------------------------\u001b[39m",
      "\u001b[31mNameError\u001b[39m                                 Traceback (most recent call last)",
      "\u001b[36mCell\u001b[39m\u001b[36m \u001b[39m\u001b[32mIn[6]\u001b[39m\u001b[32m, line 3\u001b[39m\n\u001b[32m      1\u001b[39m abc_class = Abc()\n\u001b[32m      2\u001b[39m abc_class.pprint()\n\u001b[32m----> \u001b[39m\u001b[32m3\u001b[39m \u001b[38;5;28mprint\u001b[39m(\u001b[43ma\u001b[49m)\n\u001b[32m      4\u001b[39m \u001b[38;5;28mprint\u001b[39m(b)\n",
      "\u001b[31mNameError\u001b[39m: name 'a' is not defined"
     ]
    }
   ],
   "source": [
    "abc_class = Abc()\n",
    "abc_class.pprint()\n",
    "print(a)\n",
    "print(b)"
   ]
  },
  {
   "cell_type": "code",
   "execution_count": 7,
   "id": "405a0e54",
   "metadata": {},
   "outputs": [
    {
     "name": "stdout",
     "output_type": "stream",
     "text": [
      "[100, 101, 102, 1000]\n"
     ]
    }
   ],
   "source": [
    "print(out)"
   ]
  },
  {
   "cell_type": "code",
   "execution_count": null,
   "id": "876428d6",
   "metadata": {},
   "outputs": [],
   "source": []
  }
 ],
 "metadata": {
  "kernelspec": {
   "display_name": "Python 3",
   "language": "python",
   "name": "python3"
  },
  "language_info": {
   "codemirror_mode": {
    "name": "ipython",
    "version": 3
   },
   "file_extension": ".py",
   "mimetype": "text/x-python",
   "name": "python",
   "nbconvert_exporter": "python",
   "pygments_lexer": "ipython3",
   "version": "3.13.5"
  }
 },
 "nbformat": 4,
 "nbformat_minor": 5
}
