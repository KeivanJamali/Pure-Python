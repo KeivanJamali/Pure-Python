{
 "cells": [
  {
   "cell_type": "code",
   "execution_count": null,
   "metadata": {},
   "outputs": [],
   "source": [
    "%load_ext autoreload\n",
    "%autoreload 2"
   ]
  },
  {
   "cell_type": "code",
   "execution_count": 5,
   "metadata": {},
   "outputs": [
    {
     "name": "stdout",
     "output_type": "stream",
     "text": [
      "=======================================================\n",
      "\n",
      "Therefore, Average waiting time for People in Queue (Q_bar) will be 16.89\n",
      "Therefore, Average number of People in Queue (N_Q) will be 3.34\n",
      "We have 9571 people with more that 4.5 min system time. Therefore the percentage is 80.56\n",
      "Therefore the U=80.45\n",
      "\n",
      "=======================================================\n"
     ]
    }
   ],
   "source": [
    "from modular.main import main\n",
    "\n",
    "model = main(policy=\"FCFS\",\n",
    "             stop_type=\"Time\",\n",
    "             stop_limit=60000,\n",
    "             queue_type=\"MMI\",\n",
    "             plot_it=False)"
   ]
  },
  {
   "cell_type": "code",
   "execution_count": 2,
   "metadata": {},
   "outputs": [
    {
     "data": {
      "text/plain": [
       "23.20338788597232"
      ]
     },
     "execution_count": 2,
     "metadata": {},
     "output_type": "execute_result"
    }
   ],
   "source": [
    "model.time_in_queue"
   ]
  },
  {
   "cell_type": "code",
   "execution_count": 3,
   "metadata": {},
   "outputs": [
    {
     "data": {
      "text/plain": [
       "29.26820910107078"
      ]
     },
     "execution_count": 3,
     "metadata": {},
     "output_type": "execute_result"
    }
   ],
   "source": [
    "s = 0\n",
    "for i in model.queue.history.items():\n",
    "\n",
    "    if i[0] < 13:\n",
    "        # print(i[0])\n",
    "        s += i[1][1] - i[1][0]\n",
    "\n",
    "s"
   ]
  },
  {
   "cell_type": "code",
   "execution_count": null,
   "metadata": {},
   "outputs": [],
   "source": []
  },
  {
   "cell_type": "code",
   "execution_count": 7,
   "metadata": {},
   "outputs": [
    {
     "name": "stdout",
     "output_type": "stream",
     "text": [
      "The autoreload extension is already loaded. To reload it, use:\n",
      "  %reload_ext autoreload\n"
     ]
    }
   ],
   "source": [
    "%load_ext autoreload\n",
    "%autoreload 2"
   ]
  },
  {
   "cell_type": "code",
   "execution_count": 8,
   "metadata": {},
   "outputs": [],
   "source": [
    "from modular.number_generator import Exponential_Generator, Uniform_Generator\n",
    "from modular.Engine import Storage_Simulator\n"
   ]
  },
  {
   "cell_type": "code",
   "execution_count": 9,
   "metadata": {},
   "outputs": [],
   "source": [
    "demand_intervals_seed = 1985072130\n",
    "delay_seed = 748932582\n",
    "demand_seed = 1631331038\n",
    "\n",
    "demand_intervals = Uniform_Generator(seed=demand_intervals_seed)\n",
    "demand = Exponential_Generator(seed=demand_seed, mean=5)\n",
    "delay = Uniform_Generator(seed=delay_seed)\n",
    "# for _ in range(20):\n",
    "    # print(f\"{demand.next_number():.4f}\")"
   ]
  },
  {
   "cell_type": "code",
   "execution_count": 10,
   "metadata": {},
   "outputs": [
    {
     "name": "stdout",
     "output_type": "stream",
     "text": [
      "==========================================================\n",
      "===========policy := [ s = 20 and S = 200 ]================\n",
      "Mean Holding costs is : 315.8969190808833\n",
      "Mean Shortage costs is : 3208.0565059396963\n",
      "Mean Order cost is : 12173.194354266901\n",
      "Mean Total cost is : 15697.147779287481\n",
      "Percentage of lackness weeks : 25.0\n",
      "\n",
      "==========================================================\n",
      "===========policy := [ s = 50 and S = 200 ]================\n",
      "Mean Holding costs is : 504.3477843065818\n",
      "Mean Shortage costs is : 0.38263707431026256\n",
      "Mean Order cost is : 10170.884406342042\n",
      "Mean Total cost is : 10675.614827722933\n",
      "Percentage of lackness weeks : 0.0\n",
      "\n"
     ]
    }
   ],
   "source": [
    "model = Storage_Simulator(demand_generator=demand,\n",
    "                          demand_interval_generator=demand_intervals,\n",
    "                          delay_generator=delay,\n",
    "                          fixed_cost=15,\n",
    "                          variable_cost=2,\n",
    "                          pos_cost=5.2,\n",
    "                          neg_cost=520,\n",
    "                          initial_level=50)\n",
    "\n",
    "# [S, s]\n",
    "policies = [[200, 20], [200, 50]]\n",
    "model.fit(time_limit=28, policies=policies)\n",
    "# model.plot_it()"
   ]
  },
  {
   "cell_type": "code",
   "execution_count": 11,
   "metadata": {},
   "outputs": [
    {
     "name": "stdout",
     "output_type": "stream",
     "text": [
      "==========================================================\n",
      "===========policy := [ s = 30 and S = 100 ]================\n",
      "Mean Holding costs is : 251.45983935031407\n",
      "Mean Shortage costs is : 1003.6750953808091\n",
      "Mean Order cost is : 8320.356505375461\n",
      "Mean Total cost is : 9575.491440106585\n",
      "Percentage of lackness weeks : 20.0\n",
      "\n",
      "==========================================================\n",
      "===========policy := [ s = 30 and S = 150 ]================\n",
      "Mean Holding costs is : 363.1304941043264\n",
      "Mean Shortage costs is : 525.5425229127175\n",
      "Mean Order cost is : 8606.356505375463\n",
      "Mean Total cost is : 9495.029522392506\n",
      "Percentage of lackness weeks : 30.0\n",
      "\n"
     ]
    }
   ],
   "source": [
    "model = Storage_Simulator(demand_generator=demand,\n",
    "                          demand_interval_generator=demand_intervals,\n",
    "                          delay_generator=delay,\n",
    "                          fixed_cost=15,\n",
    "                          variable_cost=2,\n",
    "                          pos_cost=5.2,\n",
    "                          neg_cost=520,\n",
    "                          initial_level=50)\n",
    "\n",
    "# [S, s]\n",
    "policies = [[100, 30], [150, 30]]\n",
    "model.fit(time_limit=70, policies=policies)\n",
    "# model.plot_it()"
   ]
  },
  {
   "cell_type": "code",
   "execution_count": 12,
   "metadata": {},
   "outputs": [
    {
     "name": "stdout",
     "output_type": "stream",
     "text": [
      "==========================================================\n",
      "===========policy := [ s = 10 and S = 100 ]================\n",
      "Mean Holding costs is : 193.78373484611487\n",
      "Mean Shortage costs is : 3531.1267926372548\n",
      "Mean Order cost is : 7700.546562538694\n",
      "Mean Total cost is : 11425.457090022064\n",
      "Percentage of lackness weeks : 46.0\n",
      "\n",
      "==========================================================\n",
      "===========policy := [ s = 20 and S = 100 ]================\n",
      "Mean Holding costs is : 207.7518652440255\n",
      "Mean Shortage costs is : 2791.2981964608466\n",
      "Mean Order cost is : 7735.6465625386945\n",
      "Mean Total cost is : 10734.696624243566\n",
      "Percentage of lackness weeks : 42.0\n",
      "\n"
     ]
    }
   ],
   "source": [
    "model = Storage_Simulator(demand_generator=demand,\n",
    "                          demand_interval_generator=demand_intervals,\n",
    "                          delay_generator=delay,\n",
    "                          fixed_cost=15,\n",
    "                          variable_cost=2,\n",
    "                          pos_cost=5.2,\n",
    "                          neg_cost=520,\n",
    "                          initial_level=100)\n",
    "\n",
    "# [S, s]\n",
    "policies = [[100, 10], [100, 20]]\n",
    "model.fit(time_limit=1400, policies=policies)\n",
    "# model.plot_it()"
   ]
  },
  {
   "cell_type": "code",
   "execution_count": null,
   "metadata": {},
   "outputs": [],
   "source": []
  }
 ],
 "metadata": {
  "kernelspec": {
   "display_name": "Python 3",
   "language": "python",
   "name": "python3"
  },
  "language_info": {
   "codemirror_mode": {
    "name": "ipython",
    "version": 3
   },
   "file_extension": ".py",
   "mimetype": "text/x-python",
   "name": "python",
   "nbconvert_exporter": "python",
   "pygments_lexer": "ipython3",
   "version": "3.12.1"
  }
 },
 "nbformat": 4,
 "nbformat_minor": 2
}
