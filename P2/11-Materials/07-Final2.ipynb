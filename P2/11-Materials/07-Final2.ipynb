{
 "cells": [
  {
   "cell_type": "code",
   "execution_count": 1,
   "metadata": {},
   "outputs": [],
   "source": [
    "from sympy import *"
   ]
  },
  {
   "cell_type": "code",
   "execution_count": 2,
   "metadata": {},
   "outputs": [],
   "source": [
    "A, B, C, D, x, lm, P, e = symbols(\"A, B, C, D, x, lambda, P, epsilon\")\n",
    "L, Iyy = symbols(\"L, I_yy\")"
   ]
  },
  {
   "cell_type": "code",
   "execution_count": 3,
   "metadata": {},
   "outputs": [
    {
     "data": {
      "text/latex": [
       "$\\displaystyle A \\sin{\\left(\\lambda x \\right)} + B \\cos{\\left(\\lambda x \\right)} + C x + D + \\frac{x^{2}}{2 P}$"
      ],
      "text/plain": [
       "A*sin(lambda*x) + B*cos(lambda*x) + C*x + D + x**2/(2*P)"
      ]
     },
     "execution_count": 3,
     "metadata": {},
     "output_type": "execute_result"
    }
   ],
   "source": [
    "w = A*sin(lm*x) + B*cos(lm*x) + C*x + D + (x**2)/(2*P)\n",
    "w"
   ]
  },
  {
   "cell_type": "code",
   "execution_count": 4,
   "metadata": {},
   "outputs": [
    {
     "data": {
      "text/latex": [
       "$\\displaystyle A \\sin{\\left(L \\lambda \\right)} + B \\cos{\\left(L \\lambda \\right)} + C L + D + \\frac{L^{2}}{2 P} = 0$"
      ],
      "text/plain": [
       "Eq(A*sin(L*lambda) + B*cos(L*lambda) + C*L + D + L**2/(2*P), 0)"
      ]
     },
     "execution_count": 4,
     "metadata": {},
     "output_type": "execute_result"
    }
   ],
   "source": [
    "# boundry 1\n",
    "b1 = Eq(w.subs(x, 0), 0)\n",
    "b1\n",
    "# boundry 2\n",
    "b2 = Eq(w.subs(x, L), 0)\n",
    "b2\n",
    "# boundry 3\n",
    "# b3 = Eq(diff(w, x, x).subs(x, 0), -e*P)\n",
    "# b3\n",
    "# boundry 4\n",
    "# b4 = Eq(diff(w, x, x).subs(x, L), e*P)\n",
    "# b4\n"
   ]
  },
  {
   "cell_type": "code",
   "execution_count": 5,
   "metadata": {},
   "outputs": [
    {
     "data": {
      "text/latex": [
       "$\\displaystyle A \\sin{\\left(\\lambda x \\right)} + C x + \\frac{\\left(P \\epsilon + \\frac{1}{P}\\right) \\cos{\\left(\\lambda x \\right)}}{\\lambda^{2}} - \\frac{P \\epsilon + \\frac{1}{P}}{\\lambda^{2}} + \\frac{x^{2}}{2 P}$"
      ],
      "text/plain": [
       "A*sin(lambda*x) + C*x + (P*epsilon + 1/P)*cos(lambda*x)/lambda**2 - (P*epsilon + 1/P)/lambda**2 + x**2/(2*P)"
      ]
     },
     "execution_count": 5,
     "metadata": {},
     "output_type": "execute_result"
    }
   ],
   "source": [
    "B = (1/lm**2) * (P*e + 1/P)\n",
    "D = -B\n",
    "w = A*sin(lm*x) + B*cos(lm*x) + C*x + D + (x**2)/(2*P)\n",
    "w"
   ]
  },
  {
   "cell_type": "code",
   "execution_count": 6,
   "metadata": {},
   "outputs": [
    {
     "data": {
      "text/latex": [
       "$\\displaystyle - A \\lambda^{2} \\sin{\\left(L \\lambda \\right)} - \\left(P \\epsilon + \\frac{1}{P}\\right) \\cos{\\left(L \\lambda \\right)} + \\frac{1}{P} = P \\epsilon$"
      ],
      "text/plain": [
       "Eq(-A*lambda**2*sin(L*lambda) - (P*epsilon + 1/P)*cos(L*lambda) + 1/P, P*epsilon)"
      ]
     },
     "execution_count": 6,
     "metadata": {},
     "output_type": "execute_result"
    }
   ],
   "source": [
    "# boundry 1\n",
    "b1 = Eq(w.subs(x, 0), 0)\n",
    "b1\n",
    "# boundry 2\n",
    "b2 = Eq(w.subs(x, L), 0)\n",
    "b2\n",
    "# boundry 3\n",
    "b3 = Eq(diff(w, x, x).subs(x, 0), -e*P)\n",
    "b3\n",
    "# boundry 4\n",
    "b4 = Eq(diff(w, x, x).subs(x, L), e*P)\n",
    "b4"
   ]
  },
  {
   "cell_type": "code",
   "execution_count": 7,
   "metadata": {},
   "outputs": [
    {
     "data": {
      "text/latex": [
       "$\\displaystyle \\frac{- P^{2} \\epsilon \\left(\\cos{\\left(L \\lambda \\right)} + 1\\right) - \\cos{\\left(L \\lambda \\right)} + 1}{P \\lambda^{2} \\sin{\\left(L \\lambda \\right)}}$"
      ],
      "text/plain": [
       "(-P**2*epsilon*(cos(L*lambda) + 1) - cos(L*lambda) + 1)/(P*lambda**2*sin(L*lambda))"
      ]
     },
     "execution_count": 7,
     "metadata": {},
     "output_type": "execute_result"
    }
   ],
   "source": [
    "solution_b4 = solve(b4, A)[0]\n",
    "solution_b4"
   ]
  },
  {
   "cell_type": "code",
   "execution_count": 8,
   "metadata": {},
   "outputs": [
    {
     "data": {
      "text/latex": [
       "$\\displaystyle C x + \\frac{\\left(P \\epsilon + \\frac{1}{P}\\right) \\cos{\\left(\\lambda x \\right)}}{\\lambda^{2}} - \\frac{P \\epsilon + \\frac{1}{P}}{\\lambda^{2}} + \\frac{x^{2}}{2 P} + \\frac{\\left(- P^{2} \\epsilon \\left(\\cos{\\left(L \\lambda \\right)} + 1\\right) - \\cos{\\left(L \\lambda \\right)} + 1\\right) \\sin{\\left(\\lambda x \\right)}}{P \\lambda^{2} \\sin{\\left(L \\lambda \\right)}}$"
      ],
      "text/plain": [
       "C*x + (P*epsilon + 1/P)*cos(lambda*x)/lambda**2 - (P*epsilon + 1/P)/lambda**2 + x**2/(2*P) + (-P**2*epsilon*(cos(L*lambda) + 1) - cos(L*lambda) + 1)*sin(lambda*x)/(P*lambda**2*sin(L*lambda))"
      ]
     },
     "execution_count": 8,
     "metadata": {},
     "output_type": "execute_result"
    }
   ],
   "source": [
    "A = solution_b4\n",
    "w = A*sin(lm*x) + B*cos(lm*x) + C*x + D + (x**2)/(2*P)\n",
    "w"
   ]
  },
  {
   "cell_type": "code",
   "execution_count": 9,
   "metadata": {},
   "outputs": [
    {
     "data": {
      "text/latex": [
       "$\\displaystyle C L + \\frac{L^{2}}{2 P} + \\frac{\\left(P \\epsilon + \\frac{1}{P}\\right) \\cos{\\left(L \\lambda \\right)}}{\\lambda^{2}} - \\frac{P \\epsilon + \\frac{1}{P}}{\\lambda^{2}} + \\frac{- P^{2} \\epsilon \\left(\\cos{\\left(L \\lambda \\right)} + 1\\right) - \\cos{\\left(L \\lambda \\right)} + 1}{P \\lambda^{2}} = 0$"
      ],
      "text/plain": [
       "Eq(C*L + L**2/(2*P) + (P*epsilon + 1/P)*cos(L*lambda)/lambda**2 - (P*epsilon + 1/P)/lambda**2 + (-P**2*epsilon*(cos(L*lambda) + 1) - cos(L*lambda) + 1)/(P*lambda**2), 0)"
      ]
     },
     "execution_count": 9,
     "metadata": {},
     "output_type": "execute_result"
    }
   ],
   "source": [
    "b2 = Eq(w.subs(x, L), 0)\n",
    "b2"
   ]
  },
  {
   "cell_type": "code",
   "execution_count": 10,
   "metadata": {},
   "outputs": [
    {
     "data": {
      "text/latex": [
       "$\\displaystyle - \\frac{L}{2 P} + \\frac{2 P \\epsilon}{L \\lambda^{2}}$"
      ],
      "text/plain": [
       "-L/(2*P) + 2*P*epsilon/(L*lambda**2)"
      ]
     },
     "execution_count": 10,
     "metadata": {},
     "output_type": "execute_result"
    }
   ],
   "source": [
    "solution_b2 = solve(b2, C)[0]\n",
    "solution_b2"
   ]
  },
  {
   "cell_type": "code",
   "execution_count": 11,
   "metadata": {},
   "outputs": [
    {
     "data": {
      "text/latex": [
       "$\\displaystyle \\text{NaN}$"
      ],
      "text/plain": [
       "nan"
      ]
     },
     "execution_count": 11,
     "metadata": {},
     "output_type": "execute_result"
    }
   ],
   "source": [
    "C = solution_b2\n",
    "w = A*sin(lm*x) + B*cos(lm*x) + C*x + D + (x**2)/(2*P)\n",
    "w.subs(lm, 0)"
   ]
  },
  {
   "cell_type": "code",
   "execution_count": 34,
   "metadata": {},
   "outputs": [],
   "source": [
    "p1 = w.subs(e, 0.03)\n",
    "# lm =  sqrt(P/(E*Iyy))"
   ]
  },
  {
   "cell_type": "code",
   "execution_count": 35,
   "metadata": {},
   "outputs": [],
   "source": [
    "new = symbols(\"M\")\n",
    "# p1.subs(x, L/2).subs(L*lm, new)"
   ]
  },
  {
   "cell_type": "code",
   "execution_count": 36,
   "metadata": {},
   "outputs": [
    {
     "data": {
      "text/latex": [
       "$\\displaystyle \\lambda$"
      ],
      "text/plain": [
       "lambda"
      ]
     },
     "execution_count": 36,
     "metadata": {},
     "output_type": "execute_result"
    }
   ],
   "source": [
    "lm"
   ]
  },
  {
   "cell_type": "code",
   "execution_count": 56,
   "metadata": {},
   "outputs": [
    {
     "name": "stdout",
     "output_type": "stream",
     "text": [
      "(-0.125*lambda**2 + 2.0*sin(lambda/2)/sin(lambda) - 1.0)/lambda**2\n"
     ]
    }
   ],
   "source": [
    "print(p1.subs(x, L/2).subs(P, 1).subs(L, 1).simplify())\n",
    "a = np.arange(1, 4, 0.01)\n"
   ]
  },
  {
   "cell_type": "code",
   "execution_count": 57,
   "metadata": {},
   "outputs": [],
   "source": [
    "import numpy as np\n",
    "res3 = []\n",
    "for i in a:\n",
    "    func1 = (-0.125*i**2 + 2.0*sin(i/2)/sin(i) - 1.0)/i**2\n",
    "    res3.append(func1)"
   ]
  },
  {
   "cell_type": "code",
   "execution_count": 58,
   "metadata": {},
   "outputs": [],
   "source": [
    "import numpy as np\n",
    "res1 = []\n",
    "for i in a:\n",
    "    func1 = (-i**2 - 8 + (16*np.sin(i/2))/(np.sin(i)))/(8*i**2)\n",
    "    res1.append(func1)"
   ]
  },
  {
   "cell_type": "code",
   "execution_count": 59,
   "metadata": {},
   "outputs": [],
   "source": [
    "import numpy as np\n",
    "res2 = []\n",
    "for i in a:\n",
    "    func1 = (-0.125*i**2 + 2.0*sin(i/2)/sin(i) - 1.0)/i**2\n",
    "    res2.append(func1)"
   ]
  },
  {
   "cell_type": "code",
   "execution_count": 60,
   "metadata": {},
   "outputs": [
    {
     "data": {
      "text/plain": [
       "[<matplotlib.lines.Line2D at 0x215f725a5d0>]"
      ]
     },
     "execution_count": 60,
     "metadata": {},
     "output_type": "execute_result"
    },
    {
     "data": {
      "image/png": "[encoded data removed]",
      "text/plain": [
       "<Figure size 640x480 with 1 Axes>"
      ]
     },
     "metadata": {},
     "output_type": "display_data"
    }
   ],
   "source": [
    "import matplotlib.pyplot as plt\n",
    "plt.plot(res1, a, c=\"r\")\n",
    "plt.plot(res2, a, c=\"b\")\n",
    "plt.plot(res3, a, c=\"g\")\n"
   ]
  },
  {
   "cell_type": "code",
   "execution_count": null,
   "metadata": {},
   "outputs": [],
   "source": []
  }
 ],
 "metadata": {
  "kernelspec": {
   "display_name": "Python 3",
   "language": "python",
   "name": "python3"
  },
  "language_info": {
   "codemirror_mode": {
    "name": "ipython",
    "version": 3
   },
   "file_extension": ".py",
   "mimetype": "text/x-python",
   "name": "python",
   "nbconvert_exporter": "python",
   "pygments_lexer": "ipython3",
   "version": "3.12.1"
  }
 },
 "nbformat": 4,
 "nbformat_minor": 2
}
