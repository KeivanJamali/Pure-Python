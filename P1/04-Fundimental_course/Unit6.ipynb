{
 "cells": [
  {
   "cell_type": "code",
   "execution_count": 1,
   "metadata": {
    "collapsed": true,
    "ExecuteTime": {
     "end_time": "2023-06-21T05:24:30.106762500Z",
     "start_time": "2023-06-21T05:24:29.887653100Z"
    }
   },
   "outputs": [],
   "source": [
    "%load_ext autoreload\n",
    "%autoreload 2\n",
    "import toolkitpey6\n",
    "import numpy as np\n",
    "from numpy import sin"
   ]
  },
  {
   "cell_type": "code",
   "execution_count": 4,
   "outputs": [
    {
     "name": "stdout",
     "output_type": "stream",
     "text": [
      "0.45362516382477774\n"
     ]
    }
   ],
   "source": [
    "# Coulomb --- 44\n",
    "beta = np.deg2rad(75.068)\n",
    "alfa = np.deg2rad(10)\n",
    "fi_prime = np.deg2rad(33)\n",
    "delta_prime = np.deg2rad(22)\n",
    "\n",
    "a1 = sin(beta + fi_prime) ** 2\n",
    "b1 = (sin(beta) ** 2) * sin(beta - delta_prime)\n",
    "b2 = (1 + np.sqrt(\n",
    "    (sin(fi_prime + delta_prime) * sin(fi_prime - alfa)) / (sin(beta - delta_prime) * sin(alfa + beta)))) ** 2\n",
    "\n",
    "Ka = a1 / (b1*b2)\n",
    "\n",
    "print(Ka)"
   ],
   "metadata": {
    "collapsed": false,
    "ExecuteTime": {
     "end_time": "2023-06-21T05:58:05.120009700Z",
     "start_time": "2023-06-21T05:58:05.057425200Z"
    }
   }
  },
  {
   "cell_type": "code",
   "execution_count": 5,
   "outputs": [
    {
     "name": "stdout",
     "output_type": "stream",
     "text": [
      "21.0\n"
     ]
    }
   ],
   "source": [
    "q = 6\n",
    "a = 3.5 * q\n",
    "print (a)"
   ],
   "metadata": {
    "collapsed": false,
    "ExecuteTime": {
     "end_time": "2023-06-21T06:01:20.793612500Z",
     "start_time": "2023-06-21T06:01:20.729608600Z"
    }
   }
  },
  {
   "cell_type": "code",
   "execution_count": 7,
   "outputs": [
    {
     "name": "stdout",
     "output_type": "stream",
     "text": [
      "4.979444713278268\n"
     ]
    }
   ],
   "source": [
    "# Coulomb --- 44\n",
    "beta = np.deg2rad(75.068)\n",
    "alfa = np.deg2rad(10)\n",
    "fi_prime = np.deg2rad(24)\n",
    "delta_prime = np.deg2rad(22)\n",
    "\n",
    "a1 = sin(beta - fi_prime) ** 2\n",
    "b1 = (sin(beta) ** 2) * sin(beta + delta_prime)\n",
    "b2 = (1 - np.sqrt(\n",
    "    (sin(fi_prime + delta_prime) * sin(fi_prime + alfa)) / (sin(beta + delta_prime) * sin(alfa + beta)))) ** 2\n",
    "\n",
    "Ka = a1 / (b1*b2)\n",
    "\n",
    "print(Ka)"
   ],
   "metadata": {
    "collapsed": false,
    "ExecuteTime": {
     "end_time": "2023-06-21T06:04:45.234515900Z",
     "start_time": "2023-06-21T06:04:45.181591800Z"
    }
   }
  },
  {
   "cell_type": "code",
   "execution_count": null,
   "outputs": [],
   "source": [],
   "metadata": {
    "collapsed": false
   }
  }
 ],
 "metadata": {
  "kernelspec": {
   "display_name": "Python 3",
   "language": "python",
   "name": "python3"
  },
  "language_info": {
   "codemirror_mode": {
    "name": "ipython",
    "version": 2
   },
   "file_extension": ".py",
   "mimetype": "text/x-python",
   "name": "python",
   "nbconvert_exporter": "python",
   "pygments_lexer": "ipython2",
   "version": "2.7.6"
  }
 },
 "nbformat": 4,
 "nbformat_minor": 0
}
