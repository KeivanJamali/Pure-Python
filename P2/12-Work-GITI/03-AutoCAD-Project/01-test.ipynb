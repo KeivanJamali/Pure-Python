{
 "cells": [
  {
   "cell_type": "code",
   "execution_count": 1,
   "metadata": {},
   "outputs": [],
   "source": [
    "%load_ext autoreload\n",
    "%autoreload 2"
   ]
  },
  {
   "cell_type": "code",
   "execution_count": 67,
   "metadata": {},
   "outputs": [],
   "source": [
    "from modular.Tables import Tables\n",
    "from modular.template_extractor_V3 import Extract_template\n",
    "from modular.Calculations import Calculate\n",
    "from modular.implement_numbers import implementing_in_code"
   ]
  },
  {
   "cell_type": "code",
   "execution_count": 82,
   "metadata": {},
   "outputs": [
    {
     "data": {
      "application/vnd.jupyter.widget-view+json": {
       "model_id": "5896c5b0d8aa46d4819ddb6cd6dcf0c1",
       "version_major": 2,
       "version_minor": 0
      },
      "text/plain": [
       "  0%|          | 0/2091 [00:00<?, ?it/s]"
      ]
     },
     "metadata": {},
     "output_type": "display_data"
    },
    {
     "name": "stdout",
     "output_type": "stream",
     "text": [
      "Code generation complete. The code has been saved to n1-bridge.py.\n"
     ]
    }
   ],
   "source": [
    "input_file_dir = r\"D:\\All Python\\Pure-Python\\P2\\12-Work-GITI\\03-AutoCAD-Project\\Templates\\1_bridge.dwg\"\n",
    "output_file_dir = r\"D:\\All Python\\Pure-Python\\P2\\12-Work-GITI\\03-AutoCAD-Project\\modular\\templates\"\n",
    "output_file_dwg = r\"D:\\All Python\\Pure-Python\\P2\\12-Work-GITI\\03-AutoCAD-Project\\dwg\\bridge_one.dwg\"\n",
    "exctractor =  Extract_template(file_name=input_file_dir, time_load=30)\n",
    "exctractor.generate(output_file_dir=output_file_dir, output_file_dwg=output_file_dwg, want_time_line=True)\n"
   ]
  },
  {
   "cell_type": "code",
   "execution_count": 80,
   "metadata": {},
   "outputs": [
    {
     "name": "stdout",
     "output_type": "stream",
     "text": [
      "[INFO] Successfuly applied parameters in the for directions.\n",
      "[INFO] Successfuly applied information in the for footer.\n",
      "[INFO] Successfuly find parameters in the table 1.\n",
      "[INFO] Successfuly applied parameters from the table 1.\n",
      "[INFO] Successfuly find parameters in the table 2.\n",
      "[INFO] Successfuly applied parameters from the table 2.\n",
      "[ERROR] Max H is incorrect. H = 13.429999999999836. should be between 1 and 7.\n"
     ]
    },
    {
     "name": "stderr",
     "output_type": "stream",
     "text": [
      "d:\\All Python\\Pure-Python\\P2\\12-Work-GITI\\03-AutoCAD-Project\\modular\\Calculations.py:36: FutureWarning: Series.__getitem__ treating keys as positions is deprecated. In a future version, integer keys will always be treated as labels (consistent with DataFrame behavior). To access a value by position, use `ser.iloc[pos]`\n",
      "  choice = choice[choice[\"H\"] > H].min(axis=0)\n"
     ]
    }
   ],
   "source": [
    "calculator = Calculate()\n",
    "file = r\"D:\\All Python\\Pure-Python\\P2\\12-Work-GITI\\03-AutoCAD-Project\\modular\\templates\\template_1_bridge.py\"\n",
    "impl = implementing_in_code(data=calculator.data, file_dir=file)\n",
    "impl.replace_text_in_file()"
   ]
  },
  {
   "cell_type": "code",
   "execution_count": 66,
   "metadata": {},
   "outputs": [
    {
     "data": {
      "text/html": [
       "<div>\n",
       "<style scoped>\n",
       "    .dataframe tbody tr th:only-of-type {\n",
       "        vertical-align: middle;\n",
       "    }\n",
       "\n",
       "    .dataframe tbody tr th {\n",
       "        vertical-align: top;\n",
       "    }\n",
       "\n",
       "    .dataframe thead th {\n",
       "        text-align: right;\n",
       "    }\n",
       "</style>\n",
       "<table border=\"1\" class=\"dataframe\">\n",
       "  <thead>\n",
       "    <tr style=\"text-align: right;\">\n",
       "      <th></th>\n",
       "      <th>H</th>\n",
       "      <th>x</th>\n",
       "      <th>b</th>\n",
       "      <th>f</th>\n",
       "      <th>m</th>\n",
       "    </tr>\n",
       "  </thead>\n",
       "  <tbody>\n",
       "    <tr>\n",
       "      <th>0</th>\n",
       "      <td>1</td>\n",
       "      <td>0.00</td>\n",
       "      <td>0.17</td>\n",
       "      <td>0.85</td>\n",
       "      <td>0.8</td>\n",
       "    </tr>\n",
       "    <tr>\n",
       "      <th>1</th>\n",
       "      <td>2</td>\n",
       "      <td>0.15</td>\n",
       "      <td>0.43</td>\n",
       "      <td>1.60</td>\n",
       "      <td>0.8</td>\n",
       "    </tr>\n",
       "    <tr>\n",
       "      <th>2</th>\n",
       "      <td>3</td>\n",
       "      <td>0.30</td>\n",
       "      <td>0.75</td>\n",
       "      <td>2.40</td>\n",
       "      <td>0.8</td>\n",
       "    </tr>\n",
       "    <tr>\n",
       "      <th>3</th>\n",
       "      <td>4</td>\n",
       "      <td>0.45</td>\n",
       "      <td>1.02</td>\n",
       "      <td>3.15</td>\n",
       "      <td>0.8</td>\n",
       "    </tr>\n",
       "    <tr>\n",
       "      <th>4</th>\n",
       "      <td>5</td>\n",
       "      <td>0.60</td>\n",
       "      <td>1.28</td>\n",
       "      <td>3.90</td>\n",
       "      <td>1.0</td>\n",
       "    </tr>\n",
       "    <tr>\n",
       "      <th>5</th>\n",
       "      <td>6</td>\n",
       "      <td>0.75</td>\n",
       "      <td>1.60</td>\n",
       "      <td>4.70</td>\n",
       "      <td>1.3</td>\n",
       "    </tr>\n",
       "    <tr>\n",
       "      <th>6</th>\n",
       "      <td>7</td>\n",
       "      <td>0.95</td>\n",
       "      <td>1.82</td>\n",
       "      <td>5.45</td>\n",
       "      <td>1.7</td>\n",
       "    </tr>\n",
       "  </tbody>\n",
       "</table>\n",
       "</div>"
      ],
      "text/plain": [
       "   H     x     b     f    m\n",
       "0  1  0.00  0.17  0.85  0.8\n",
       "1  2  0.15  0.43  1.60  0.8\n",
       "2  3  0.30  0.75  2.40  0.8\n",
       "3  4  0.45  1.02  3.15  0.8\n",
       "4  5  0.60  1.28  3.90  1.0\n",
       "5  6  0.75  1.60  4.70  1.3\n",
       "6  7  0.95  1.82  5.45  1.7"
      ]
     },
     "execution_count": 66,
     "metadata": {},
     "output_type": "execute_result"
    }
   ],
   "source": [
    "tables = Tables()\n",
    "tables.bal_table"
   ]
  }
 ],
 "metadata": {
  "kernelspec": {
   "display_name": "Python 3",
   "language": "python",
   "name": "python3"
  },
  "language_info": {
   "codemirror_mode": {
    "name": "ipython",
    "version": 3
   },
   "file_extension": ".py",
   "mimetype": "text/x-python",
   "name": "python",
   "nbconvert_exporter": "python",
   "pygments_lexer": "ipython3",
   "version": "3.12.2"
  }
 },
 "nbformat": 4,
 "nbformat_minor": 2
}
