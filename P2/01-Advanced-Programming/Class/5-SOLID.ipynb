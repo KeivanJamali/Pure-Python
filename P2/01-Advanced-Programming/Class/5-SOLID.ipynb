{
 "cells": [
  {
   "cell_type": "markdown",
   "metadata": {},
   "source": [
    "    <span style=\"font-size: 40px; font-weight: bold; color:#4c95ad\">What are coupling and cohesion? </span>\n"
   ]
  },
  {
   "cell_type": "markdown",
   "metadata": {},
   "source": [
    "In Object-Oriented Programming (OOP), \"coupling\" refers to the degree of dependency between different classes, while \"cohesion\" refers to how closely the responsibilities of a single class are related to each other. Lower coupling and higher cohesion are generally desirable."
   ]
  },
  {
   "attachments": {},
   "cell_type": "markdown",
   "metadata": {},
   "source": [
    "## **Single Responsibility Principle**\n",
    "A class should have only one job. </br>\n",
    "If a class has more than one responsibility, it becomes coupled. </br>\n",
    "A change to one responsibility results to modification of the other responsibility.\n"
   ]
  },
  {
   "cell_type": "code",
   "execution_count": null,
   "metadata": {},
   "outputs": [],
   "source": [
    "class Animal:\n",
    "    def __init__(self, name: str):\n",
    "        self.name = name\n",
    "        \n",
    "    def get_name(self) -> str:\n",
    "        pass\n",
    "\n",
    "    def save(self, animal): # store object to database\n",
    "        pass"
   ]
  },
  {
   "attachments": {},
   "cell_type": "markdown",
   "metadata": {},
   "source": [
    "- **The Animal class violates the SRP.**\n",
    "  - How does it violate SRP?\n",
    "    - SRP states that classes should have one responsibility, here, we can draw out two responsibilities: animal database management and animal properties management. </br>\n",
    "The constructor and get_name manage the Animal properties while the save manages the Animal storage on a database.\n",
    "  - How will this design cause issues in the future?\n",
    "    - If the application changes in a way that it affects database management functions. The classes that make use of Animal properties will have to be touched and recompiled to compensate for the new changes.\n",
    "- You see this system smells of rigidity, it’s like a domino effect, touch one card it affects all other cards in line.\n",
    "To make this conform to SRP, we create another class that will handle the sole responsibility of storing an animal to a database:\n",
    "\"\"\""
   ]
  },
  {
   "cell_type": "code",
   "execution_count": null,
   "metadata": {},
   "outputs": [],
   "source": [
    "class Animal:\n",
    "    def __init__(self, name: str):\n",
    "            self.name = name\n",
    "    \n",
    "    def get_name(self):\n",
    "        pass\n",
    "    \n",
    "class AnimalDB:\n",
    "    def get_animal(self) -> Animal:\n",
    "        test=Animal(\"xxx\")\n",
    "        return test\n",
    "\n",
    "    def save(self, animal: Animal):\n",
    "        pass\n"
   ]
  },
  {
   "cell_type": "markdown",
   "metadata": {},
   "source": [
    "# Another example"
   ]
  },
  {
   "cell_type": "code",
   "execution_count": null,
   "metadata": {},
   "outputs": [],
   "source": [
    "class Rectangle:\n",
    "    def __init__(self, width: float, height: float):\n",
    "        self.width = width\n",
    "        self.height = height\n",
    "\n",
    "    def area(self) -> float:\n",
    "        return self.width * self.height\n",
    "\n",
    "    def draw(self):\n",
    "        # Draw the rectangle on a canvas\n",
    "        pass\n"
   ]
  },
  {
   "cell_type": "markdown",
   "metadata": {},
   "source": [
    "In the above code, the Rectangle class has the responsibility of calculating the area as well as drawing itself on a canvas."
   ]
  },
  {
   "cell_type": "code",
   "execution_count": null,
   "metadata": {},
   "outputs": [],
   "source": [
    "class Rectangle:\n",
    "    def __init__(self, width: float, height: float):\n",
    "        self.width = width\n",
    "        self.height = height\n",
    "\n",
    "    def area(self) -> float:\n",
    "        return self.width * self.height\n",
    "\n",
    "class RectangleRenderer:\n",
    "    def draw(rectangle: Rectangle):\n",
    "        # Draw the rectangle on a canvas\n",
    "        pass\n"
   ]
  },
  {
   "cell_type": "markdown",
   "metadata": {},
   "source": [
    "# Another one"
   ]
  },
  {
   "cell_type": "code",
   "execution_count": null,
   "metadata": {},
   "outputs": [],
   "source": [
    "class FileManager:\n",
    "    def __init__(self, file_path: str):\n",
    "        self.file_path = file_path\n",
    "\n",
    "    def read(self) -> str:\n",
    "        with open(self.file_path, 'r') as file:\n",
    "            return file.read()\n",
    "\n",
    "    def write(self, content: str):\n",
    "        with open(self.file_path, 'w') as file:\n",
    "            file.write(content)\n",
    "\n",
    "    def validate_content(self, content: str) -> bool:\n",
    "        # Validate the content before writing\n",
    "        return True if content else False\n"
   ]
  },
  {
   "cell_type": "code",
   "execution_count": null,
   "metadata": {},
   "outputs": [],
   "source": [
    "class FileManager:\n",
    "    def __init__(self, file_path: str):\n",
    "        self.file_path = file_path\n",
    "\n",
    "    def read(self) -> str:\n",
    "        with open(self.file_path, 'r') as file:\n",
    "            return file.read()\n",
    "\n",
    "    def write(self, content: str):\n",
    "        with open(self.file_path, 'w') as file:\n",
    "            file.write(content)\n",
    "\n",
    "class ContentValidator:\n",
    "    @staticmethod\n",
    "    def is_valid(content: str) -> bool:\n",
    "        # Validate the content before writing\n",
    "        return True if content else False\n"
   ]
  },
  {
   "cell_type": "markdown",
   "metadata": {},
   "source": [
    "In the refactored code, the Rectangle class is only responsible for properties and operations related to the geometric shape, while the RectangleRenderer class is solely responsible for rendering the shape on a canvas. This separation ensures that each class has a single responsibility."
   ]
  },
  {
   "attachments": {},
   "cell_type": "markdown",
   "metadata": {},
   "source": [
    "**When designing our classes, we should aim to put related features together, so whenever they tend to change they change for the same reason.** </br>\n",
    "**And we should try to separate features if they will change for different reasons.** "
   ]
  },
  {
   "attachments": {},
   "cell_type": "markdown",
   "metadata": {},
   "source": [
    "## **Open-Closed Principle(OCP)**\n",
    "Software entities(Classes, modules, functions) should be open for extension, not modification."
   ]
  },
  {
   "cell_type": "code",
   "execution_count": null,
   "metadata": {},
   "outputs": [],
   "source": [
    "class Animal:\n",
    "    def __init__(self, name: str):\n",
    "        self.name = name\n",
    "    \n",
    "    def get_name(self) -> str:\n",
    "        pass\n",
    "\n",
    "animals = [\n",
    "    Animal('lion'),\n",
    "    Animal('mouse')\n",
    "]\n",
    "\n",
    "def animal_sound(animals: list):\n",
    "    for animal in animals:\n",
    "        if animal.name == 'lion':\n",
    "            print('roar')\n",
    "\n",
    "        elif animal.name == 'mouse':\n",
    "            print('squeak')\n",
    "\n",
    "animal_sound(animals)"
   ]
  },
  {
   "attachments": {},
   "cell_type": "markdown",
   "metadata": {},
   "source": [
    "- **What about new animals?**"
   ]
  },
  {
   "cell_type": "code",
   "execution_count": null,
   "metadata": {},
   "outputs": [],
   "source": [
    "animals = [\n",
    "    Animal('lion'),\n",
    "    Animal('mouse'),\n",
    "    Animal('snake')\n",
    "]\n",
    "\n",
    "def animal_sound(animals: list):\n",
    "    for animal in animals:\n",
    "        if animal.name == 'lion':\n",
    "            print('roar')\n",
    "        elif animal.name == 'mouse':\n",
    "            print('squeak')\n",
    "        elif animal.name == 'snake':\n",
    "            print('hiss')\n",
    "\n",
    "animal_sound(animals)"
   ]
  },
  {
   "attachments": {},
   "cell_type": "markdown",
   "metadata": {},
   "source": [
    "- The function animal_sound does not conform to the open-closed principle because it cannot be closed against new kinds of animals.</br>\n",
    "- If we add a new animal, Snake, We have to modify the animal_sound function.\n",
    "</br>\n",
    "- You see, for every new animal, a new logic is added to the animal_sound function. \n",
    "</br>\n",
    "- This is quite a simple example. When your application grows and becomes complex, you will see that the if statement would be repeated over and over again in the animal_sound function each time a new animal is added, all over the application."
   ]
  },
  {
   "attachments": {},
   "cell_type": "markdown",
   "metadata": {},
   "source": [
    "**How do we make it (the animal_sound) conform to OCP?**\n",
    "\n"
   ]
  },
  {
   "cell_type": "code",
   "execution_count": 6,
   "metadata": {},
   "outputs": [
    {
     "name": "stdout",
     "output_type": "stream",
     "text": [
      "XXXXX\n",
      "squeak\n",
      "hiss\n"
     ]
    }
   ],
   "source": [
    "class Animal:\n",
    "    def __init__(self, name: str):\n",
    "        self.name = name\n",
    "    \n",
    "    def get_name(self) -> str:\n",
    "        pass\n",
    "\n",
    "    def make_sound(self):\n",
    "        return \"XXXXX\"\n",
    "\n",
    "class Lion(Animal):\n",
    "    def __init__(self, name: str):\n",
    "        super().__init__(name)\n",
    "    \n",
    "class Mouse(Animal):\n",
    "    def __init__(self, name: str):\n",
    "        super().__init__(name)\n",
    "    def make_sound(self):\n",
    "        return 'squeak'\n",
    "\n",
    "class Snake(Animal):\n",
    "    def __init__(self, name: str):\n",
    "        super().__init__(name)\n",
    "    def make_sound(self):\n",
    "        return 'hiss'\n",
    "    \n",
    "def animal_sound(animals: list):\n",
    "    for animal in animals:\n",
    "        print(animal.make_sound())\n",
    "        \n",
    "animals = [\n",
    "    Lion('lion'),\n",
    "    Mouse('mouse'),\n",
    "    Snake('snake')\n",
    "]\n",
    "animal_sound(animals)"
   ]
  },
  {
   "attachments": {},
   "cell_type": "markdown",
   "metadata": {},
   "source": [
    "- Animal now has a virtual method make_sound. We have each animal extend the Animal class and implement the virtual make_sound method.</br>\n",
    "- Every animal adds its own implementation on how it makes a sound in the make_sound. \n",
    "- The animal_sound iterates through the array of animal and just calls its make_sound method.\n",
    "- **Now, if we add a new animal, animal_sound doesn’t need to change.**\n",
    "- All we need to do is add the new animal to the animal array.\n"
   ]
  },
  {
   "cell_type": "markdown",
   "metadata": {},
   "source": [
    "# Another example"
   ]
  },
  {
   "cell_type": "code",
   "execution_count": null,
   "metadata": {},
   "outputs": [],
   "source": [
    "class Product:\n",
    "    def __init__(self, name: str, color: str, size: int):\n",
    "        self.name = name\n",
    "        self.color = color\n",
    "        self.size = size\n",
    "\n",
    "class ProductFilter:\n",
    "    def by_color(self, products: list[Product], color: str) -> list[Product]:\n",
    "        return [product for product in products if product.color == color]\n",
    "\n",
    "    def by_size(self, products: list[Product], size: int) -> list[Product]:\n",
    "        return [product for product in products if product.size == size]\n"
   ]
  },
  {
   "cell_type": "markdown",
   "metadata": {},
   "source": [
    "The issue here is that every time you want to introduce a new filter criterion, you have to modify the ProductFilter class, violating the OCP."
   ]
  },
  {
   "cell_type": "code",
   "execution_count": null,
   "metadata": {},
   "outputs": [],
   "source": [
    "from abc import ABC, abstractmethod\n",
    "\n",
    "class Product:\n",
    "    def __init__(self, name: str, color: str, size: int):\n",
    "        self.name = name\n",
    "        self.color = color\n",
    "        self.size = size\n",
    "\n",
    "class Specification(ABC):\n",
    "    @abstractmethod\n",
    "    def is_satisfied(self, item: Product) -> bool:\n",
    "        pass\n",
    "\n",
    "class ColorSpecification(Specification):\n",
    "    def __init__(self, color: str):\n",
    "        self.color = color\n",
    "\n",
    "    def is_satisfied(self, item: Product) -> bool:\n",
    "        return item.color == self.color\n",
    "\n",
    "class SizeSpecification(Specification):\n",
    "    def __init__(self, size: int):\n",
    "        self.size = size\n",
    "\n",
    "    def is_satisfied(self, item: Product) -> bool:\n",
    "        return item.size == self.size\n",
    "\n",
    "class ProductFilter:\n",
    "    def filter(self, products: list[Product], spec: Specification) -> list[Product]:\n",
    "        return [product for product in products if spec.is_satisfied(product)]\n"
   ]
  },
  {
   "cell_type": "markdown",
   "metadata": {},
   "source": [
    "# Another one"
   ]
  },
  {
   "cell_type": "code",
   "execution_count": null,
   "metadata": {},
   "outputs": [],
   "source": [
    "class Rectangle:\n",
    "    def __init__(self, width: float, height: float):\n",
    "        self.width = width\n",
    "        self.height = height\n",
    "\n",
    "class Circle:\n",
    "    def __init__(self, radius: float):\n",
    "        self.radius = radius\n",
    "\n",
    "class AreaCalculator:\n",
    "    def calculate_area(self, shape) -> float:\n",
    "        if isinstance(shape, Rectangle):\n",
    "            return shape.width * shape.height\n",
    "        elif isinstance(shape, Circle):\n",
    "            return 3.14159 * shape.radius * shape.radius\n"
   ]
  },
  {
   "cell_type": "markdown",
   "metadata": {},
   "source": [
    "The issue here is that for every new shape introduced, the AreaCalculator class must be modified, violating the OCP."
   ]
  },
  {
   "cell_type": "code",
   "execution_count": null,
   "metadata": {},
   "outputs": [],
   "source": [
    "from abc import ABC, abstractmethod\n",
    "\n",
    "class Shape(ABC):\n",
    "    @abstractmethod\n",
    "    def area(self) -> float:\n",
    "        pass\n",
    "\n",
    "class Rectangle(Shape):\n",
    "    def __init__(self, width: float, height: float):\n",
    "        self.width = width\n",
    "        self.height = height\n",
    "\n",
    "    def area(self) -> float:\n",
    "        return self.width * self.height\n",
    "\n",
    "class Circle(Shape):\n",
    "    def __init__(self, radius: float):\n",
    "        self.radius = radius\n",
    "\n",
    "    def area(self) -> float:\n",
    "        return 3.14159 * self.radius * self.radius\n",
    "\n",
    "class AreaCalculator:\n",
    "    def calculate_area(self, shape: Shape) -> float:\n",
    "        return shape.area()\n"
   ]
  },
  {
   "cell_type": "markdown",
   "metadata": {},
   "source": [
    "## **Liskov Substitution Principle (LSP)**"
   ]
  },
  {
   "attachments": {},
   "cell_type": "markdown",
   "metadata": {},
   "source": [
    "**LSP** is one of the SOLID principles of object-oriented programming. It states that objects of a superclass should be able to be replaced with objects of a subclass without affecting the correctness of the program."
   ]
  },
  {
   "cell_type": "code",
   "execution_count": null,
   "metadata": {},
   "outputs": [],
   "source": [
    "class Bird:\n",
    "    def fly(self):\n",
    "        pass\n",
    "\n",
    "    def eat(self):\n",
    "        pass\n",
    "\n",
    "\n",
    "class Duck(Bird):\n",
    "    def fly(self):\n",
    "        print(\"Duck is flying\")\n",
    "\n",
    "    def eat(self):\n",
    "        print(\"Duck is eating\")\n",
    "\n",
    "        \n",
    "class Ostrich(Bird):\n",
    "    def fly(self):\n",
    "        raise Exception(\"Ostrich can't fly\")\n",
    "\n",
    "    def eat(self):\n",
    "        print(\"Ostrich is eating\")\n",
    "        \n",
    "\n",
    "def let_it_fly(bird: Bird):\n",
    "    bird.fly()\n",
    "\n",
    "\n",
    "def let_it_eat(bird: Bird):\n",
    "    bird.eat()\n",
    "\n",
    "\n",
    "d = Duck()\n",
    "o = Ostrich()\n",
    "\n",
    "let_it_fly(d)  # Duck is flying\n",
    "let_it_fly(o)  # raises Exception: Ostrich can't fly\n"
   ]
  },
  {
   "attachments": {},
   "cell_type": "markdown",
   "metadata": {},
   "source": [
    "In this example, the Ostrich class violates the Liskov Substitution Principle because it can't fulfill the contract of the Bird base class - it can't fly. When you try to use an Ostrich where a Bird is expected (the let_it_fly function), the program fails."
   ]
  },
  {
   "attachments": {},
   "cell_type": "markdown",
   "metadata": {},
   "source": [
    "A better design would be to split the Bird class into two separate classes: one for birds that can fly and one for birds that can't."
   ]
  },
  {
   "cell_type": "code",
   "execution_count": null,
   "metadata": {},
   "outputs": [],
   "source": [
    "class Bird:\n",
    "    def eat(self):\n",
    "        pass\n",
    "\n",
    "class FlyingBird(Bird):\n",
    "    def fly(self):\n",
    "        pass\n",
    "\n",
    "class Duck(FlyingBird):\n",
    "    def fly(self):\n",
    "        print(\"Duck is flying\")\n",
    "\n",
    "    def eat(self):\n",
    "        print(\"Duck is eating\")\n",
    "\n",
    "class Ostrich(Bird):\n",
    "    def eat(self):\n",
    "        print(\"Ostrich is eating\")\n",
    "\n",
    "def let_it_fly(bird: FlyingBird):\n",
    "    bird.fly()\n",
    "\n",
    "def let_it_eat(bird: Bird):\n",
    "    bird.eat()\n",
    "\n",
    "d = Duck()\n",
    "o = Ostrich()\n",
    "\n",
    "let_it_fly(d)  # Duck is flying\n",
    "let_it_eat(o)  # Ostrich is eating\n",
    "# let_it_fly(o) would now be a type error and not be allowed by the interpreter\n"
   ]
  },
  {
   "cell_type": "markdown",
   "metadata": {},
   "source": [
    "## **Interface Segregation Principle (ISP)**"
   ]
  },
  {
   "cell_type": "markdown",
   "metadata": {},
   "source": [
    "The Interface Segregation Principle (ISP) states that no client should be forced to depend on interfaces it does not use, or in simpler terms, it's better to have several specific interfaces rather than one general-purpose, \"do-it-all\" interface."
   ]
  },
  {
   "cell_type": "code",
   "execution_count": null,
   "metadata": {},
   "outputs": [],
   "source": [
    "class Printer:\n",
    "    def print_document(self, document):\n",
    "        pass\n",
    "\n",
    "    def scan_document(self, document):\n",
    "        pass\n",
    "\n",
    "    def fax_document(self, document):\n",
    "        pass\n"
   ]
  },
  {
   "cell_type": "markdown",
   "metadata": {},
   "source": [
    "If you have a basic printer that only supports printing, implementing the Printer interface would force you to also provide implementations for scanning and faxing, which doesn't make sense for a basic printer."
   ]
  },
  {
   "cell_type": "code",
   "execution_count": null,
   "metadata": {},
   "outputs": [],
   "source": [
    "class Printer:\n",
    "    def print_document(self, document):\n",
    "        pass\n",
    "\n",
    "class Scanner:\n",
    "    def scan_document(self, document):\n",
    "        pass\n",
    "\n",
    "class FaxMachine:\n",
    "    def fax_document(self, document):\n",
    "        pass\n"
   ]
  },
  {
   "cell_type": "code",
   "execution_count": null,
   "metadata": {},
   "outputs": [],
   "source": [
    "class MultiFunctionDevice(Printer, Scanner):\n",
    "    def print_document(self, document):\n",
    "        # Implementation for printing a document\n",
    "        print(f\"Printing {document}...\")\n",
    "\n",
    "    def scan_document(self, document):\n",
    "        # Implementation for scanning a document\n",
    "        print(f\"Scanning {document}...\")\n",
    "\n",
    "# Usage:\n",
    "device = MultiFunctionDevice()\n",
    "device.print_document(\"SampleDocument.txt\")\n",
    "device.scan_document(\"AnotherDocument.txt\")"
   ]
  },
  {
   "cell_type": "markdown",
   "metadata": {},
   "source": [
    "Now, each device can implement only the interfaces it requires. A multifunctional printer can implement all three, while a basic printer only implements the Printer interface. This ensures that clients (in this case, devices) are not forced to implement interfaces they do not use."
   ]
  },
  {
   "cell_type": "markdown",
   "metadata": {},
   "source": [
    "## **Dependency Inversion Principle (DIP)**"
   ]
  },
  {
   "attachments": {},
   "cell_type": "markdown",
   "metadata": {},
   "source": [
    "**Dependency Inversion Principle (DIP)** is the D in SOLID and it states that high-level modules should not depend on low-level modules, **but** both should depend on abstractions. Moreover, abstractions should not depend on details, but details should depend on abstractions."
   ]
  },
  {
   "attachments": {},
   "cell_type": "markdown",
   "metadata": {},
   "source": [
    "Let's assume we have a NotificationService that notifies the user about some information. It can send a notification via email or via SMS. A naive approach would be:"
   ]
  },
  {
   "cell_type": "code",
   "execution_count": null,
   "metadata": {},
   "outputs": [],
   "source": [
    "class Email:\n",
    "    def send_email(self, message):\n",
    "        # implementation\n",
    "        pass\n",
    "\n",
    "\n",
    "class SMS:\n",
    "    def send_sms(self, message):\n",
    "        # implementation\n",
    "        pass\n",
    "\n",
    "\n",
    "class NotificationService:\n",
    "    def __init__(self):\n",
    "        self.email = Email()\n",
    "        self.sms = SMS()\n",
    "\n",
    "    def notify(self, message):\n",
    "        self.email.send_email(message)\n",
    "        self.sms.send_sms(message)\n"
   ]
  },
  {
   "attachments": {},
   "cell_type": "markdown",
   "metadata": {},
   "source": [
    "This design doesn't follow the Dependency Inversion Principle because the NotificationService is tightly coupled with Email and SMS. It depends on lower-level and concrete details rather than on abstractions."
   ]
  },
  {
   "cell_type": "code",
   "execution_count": null,
   "metadata": {},
   "outputs": [],
   "source": [
    "from abc import ABC, abstractmethod\n",
    "\n",
    "class MessageSender(ABC):\n",
    "    @abstractmethod\n",
    "    def send(self, message):\n",
    "        pass\n",
    "\n",
    "\n",
    "class Email(MessageSender):\n",
    "    def send(self, message):\n",
    "        # implementation\n",
    "        pass\n",
    "\n",
    "\n",
    "class SMS(MessageSender):\n",
    "    def send(self, message):\n",
    "        # implementation\n",
    "        pass\n",
    "\n",
    "\n",
    "class NotificationService:\n",
    "    def __init__(self, services):\n",
    "        self.services = services\n",
    "\n",
    "    def notify(self, message):\n",
    "        for service in self.services:\n",
    "            service.send(message)\n",
    "\n",
    "\n",
    "# Client code\n",
    "email_service = Email()\n",
    "sms_service = SMS()\n",
    "notification_service = NotificationService([email_service, sms_service])\n",
    "notification_service.notify(\"Hello World\")\n"
   ]
  }
 ],
 "metadata": {
  "kernelspec": {
   "display_name": "Python 3",
   "language": "python",
   "name": "python3"
  },
  "language_info": {
   "codemirror_mode": {
    "name": "ipython",
    "version": 3
   },
   "file_extension": ".py",
   "mimetype": "text/x-python",
   "name": "python",
   "nbconvert_exporter": "python",
   "pygments_lexer": "ipython3",
   "version": "3.9.2"
  },
  "orig_nbformat": 4,
  "vscode": {
   "interpreter": {
    "hash": "dd60d8f76fc21559a6b9fd39e1cd98d76620385e493a79ae3b42a5f8f2411005"
   }
  }
 },
 "nbformat": 4,
 "nbformat_minor": 2
}
