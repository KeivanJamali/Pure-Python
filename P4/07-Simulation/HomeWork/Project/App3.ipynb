{
 "cells": [
  {
   "cell_type": "code",
   "execution_count": 1,
   "id": "fbc78bf9",
   "metadata": {},
   "outputs": [],
   "source": [
    "%load_ext autoreload\n",
    "%autoreload 2"
   ]
  },
  {
   "cell_type": "markdown",
   "id": "a2a9fa09",
   "metadata": {},
   "source": [
    "# Keivan jamali presentation - Part 2 - Implementation"
   ]
  },
  {
   "cell_type": "markdown",
   "id": "b6d01513",
   "metadata": {},
   "source": [
    "## App 3 assignment\n",
    "### FCFS with **4 servers**\n",
    "\n",
    "> `policy = 'FCFS'`\n",
    "\n",
    "> `capacity = 4`\n",
    "\n",
    "---\n",
    "\n",
    "First we need to import classes."
   ]
  },
  {
   "cell_type": "markdown",
   "id": "5ff00617",
   "metadata": {},
   "source": [
    "Now only by putting the correct parameters we can have a ***super fast*** resutl."
   ]
  },
  {
   "cell_type": "code",
   "execution_count": null,
   "id": "9b3e82a3",
   "metadata": {},
   "outputs": [
    {
     "name": "stdout",
     "output_type": "stream",
     "text": [
      "[ARRIVE] Customer 0 generated. Added to system and queue.\n",
      "[ZERO] As no one where in queue or server, we activate customer 0 and remove it from queue.\n",
      "[ARRIVE] Customer 1 generated. Added to system and queue.\n",
      "[ZERO] As no one where in queue or server, we activate customer 1 and remove it from queue.\n",
      "[ARRIVE] Customer 2 generated. Added to system and queue.\n",
      "[ZERO] As no one where in queue or server, we activate customer 2 and remove it from queue.\n",
      "[ARRIVE] Customer 3 generated. Added to system and queue.\n",
      "[ARRIVE] Customer 4 generated. Added to system and queue.\n",
      "[ARRIVE] Customer 5 generated. Added to system and queue.\n",
      "[DISPATCH] Customer 3 goes to server according to the policy.\n",
      "[DISPATCH] Customer 4 goes to server according to the policy.\n",
      "[DISPATCH] Customer 5 goes to server according to the policy.\n",
      "[ARRIVE] Customer 6 generated. Added to system and queue.\n",
      "[ZERO] As no one where in queue or server, we activate customer 6 and remove it from queue.\n",
      "[ARRIVE] Customer 7 generated. Added to system and queue.\n",
      "[ZERO] As no one where in queue or server, we activate customer 7 and remove it from queue.\n",
      "[ARRIVE] Customer 8 generated. Added to system and queue.\n",
      "[ARRIVE] Customer 9 generated. Added to system and queue.\n",
      "[ARRIVE] Customer 10 generated. Added to system and queue.\n",
      "[ARRIVE] Customer 11 generated. Added to system and queue.\n",
      "[DISPATCH] Customer 8 goes to server according to the policy.\n",
      "[DISPATCH] Customer 9 goes to server according to the policy.\n",
      "[DISPATCH] Customer 10 goes to server according to the policy.\n",
      "[DISPATCH] Customer 11 goes to server according to the policy.\n",
      "[ARRIVE] Customer 12 generated. Added to system and queue.\n",
      "[ZERO] As no one where in queue or server, we activate customer 12 and remove it from queue.\n",
      "[ARRIVE] Customer 13 generated. Added to system and queue.\n",
      "[ARRIVE] Customer 14 generated. Added to system and queue.\n",
      "[DISPATCH] Customer 13 goes to server according to the policy.\n",
      "[ARRIVE] Customer 15 generated. Added to system and queue.\n",
      "[ARRIVE] Customer 16 generated. Added to system and queue.\n",
      "[DISPATCH] Customer 14 goes to server according to the policy.\n",
      "[ARRIVE] Customer 17 generated. Added to system and queue.\n",
      "[DISPATCH] Customer 15 goes to server according to the policy.\n",
      "[ARRIVE] Customer 18 generated. Added to system and queue.\n",
      "[DISPATCH] Customer 16 goes to server according to the policy.\n",
      "[DISPATCH] Customer 17 goes to server according to the policy.\n",
      "[DISPATCH] Customer 18 goes to server according to the policy.\n",
      "[ARRIVE] Customer 19 generated. Added to system and queue.\n",
      "[ZERO] As no one where in queue or server, we activate customer 19 and remove it from queue.\n",
      "[INFO] Customer limit reached. The simulation finished successfuly.\n",
      "\n",
      "--- Simulation Report ---\n",
      "Total customers arrived: 21\n",
      "Average wait time in queue: 4.41\n",
      "Average wait time in system: 8.61\n",
      "Average number in system: 1.6\n",
      "Server utilization: 76.37%\n",
      "Simulation ended at time: 109.93 with 20 customer served.\n"
     ]
    }
   ],
   "source": [
    "from modular.Individual_Engine import Queue\n",
    "from modular.Number_Generator import Exponential_Generator\n",
    "\n",
    "arrival_gen = Exponential_Generator(seed=42, mean=5)\n",
    "service_time_gen = Exponential_Generator(seed=42, mean=4)\n",
    "    \n",
    "def FCFS_policy(customers_in_waitlist) -> int:\n",
    "    id = customers_in_waitlist.pop(0)[0]\n",
    "    return id\n",
    "\n",
    "model1 = Queue(arrival_gen=arrival_gen,\n",
    "                         service_time_gen=service_time_gen,\n",
    "                         sim_customer_limit=20,\n",
    "                         capacity=1)\n",
    "model1.run(policy=FCFS_policy, detailed=True)"
   ]
  },
  {
   "cell_type": "code",
   "execution_count": null,
   "id": "a277c4e8",
   "metadata": {},
   "outputs": [
    {
     "name": "stdout",
     "output_type": "stream",
     "text": [
      "[INFO] Customer limit reached. The simulation finished successfuly.\n",
      "\n",
      "--- Simulation Report ---\n",
      "Total customers arrived: 20001\n",
      "Average wait time in queue: 4.44\n",
      "Average wait time in system: 8.43\n",
      "Average number in system: 1.7\n",
      "Server utilization: 79.99%\n",
      "Simulation ended at time: 99725.99 with 20000 customer served.\n"
     ]
    }
   ],
   "source": [
    "from modular.Individual_Engine import Queue\n",
    "from modular.Number_Generator import Exponential_Generator\n",
    "\n",
    "arrival_gen = Exponential_Generator(seed=42, mean=5)\n",
    "service_time_gen = Exponential_Generator(seed=42, mean=4)\n",
    "\n",
    "def SPT_policy(customers_in_waitlist) -> int:\n",
    "    customers_in_waitlist.sort(key=lambda c: c[1][\"service_time\"])\n",
    "    id = customers_in_waitlist.pop(0)[0]\n",
    "    return id\n",
    "\n",
    "model2 = Queue(arrival_gen=arrival_gen,\n",
    "                         service_time_gen=service_time_gen,\n",
    "                         sim_customer_limit=20000,\n",
    "                         capacity=1)\n",
    "model2.run(policy=SPT_policy, detailed=False)"
   ]
  },
  {
   "cell_type": "code",
   "execution_count": 112,
   "id": "f0f696a1",
   "metadata": {},
   "outputs": [
    {
     "name": "stdout",
     "output_type": "stream",
     "text": [
      "[INFO] Customer limit reached. The simulation finished successfuly.\n",
      "[INFO] Customer limit reached. The simulation finished successfuly.\n",
      "[INFO] Customer limit reached. The simulation finished successfuly.\n",
      "[INFO] Customer limit reached. The simulation finished successfuly.\n",
      "[INFO] Customer limit reached. The simulation finished successfuly.\n",
      "[INFO] Customer limit reached. The simulation finished successfuly.\n",
      "[INFO] Customer limit reached. The simulation finished successfuly.\n",
      "[INFO] Customer limit reached. The simulation finished successfuly.\n",
      "[INFO] Customer limit reached. The simulation finished successfuly.\n",
      "[INFO] Customer limit reached. The simulation finished successfuly.\n"
     ]
    },
    {
     "data": {
      "application/vnd.microsoft.datawrangler.viewer.v0+json": {
       "columns": [
        {
         "name": "index",
         "rawType": "object",
         "type": "string"
        },
        {
         "name": "total_time",
         "rawType": "float64",
         "type": "float"
        },
        {
         "name": "arrived",
         "rawType": "float64",
         "type": "float"
        },
        {
         "name": "served",
         "rawType": "float64",
         "type": "float"
        },
        {
         "name": "wait_time_queue",
         "rawType": "float64",
         "type": "float"
        },
        {
         "name": "wait_time_system",
         "rawType": "float64",
         "type": "float"
        },
        {
         "name": "number_system",
         "rawType": "float64",
         "type": "float"
        },
        {
         "name": "Utilization",
         "rawType": "float64",
         "type": "float"
        }
       ],
       "conversionMethod": "pd.DataFrame",
       "ref": "62073511-8eea-42f4-b91d-bd0820947458",
       "rows": [
        [
         "count",
         "10.0",
         "10.0",
         "10.0",
         "10.0",
         "10.0",
         "10.0",
         "10.0"
        ],
        [
         "mean",
         "4924.650021129112",
         "1003.2",
         "1000.0",
         "0.5112313928057433",
         "12.281693284552812",
         "2.4938764661951653",
         "59.75340855933001"
        ],
        [
         "std",
         "151.06718208028636",
         "1.1352924243950935",
         "0.0",
         "0.0839363084846818",
         "0.39226621983295396",
         "0.016435293705801532",
         "0.0527834533889416"
        ],
        [
         "min",
         "4643.609532585395",
         "1001.0",
         "1000.0",
         "0.415898349640483",
         "11.534143005668685",
         "2.477793509636401",
         "59.69268879246907"
        ],
        [
         "25%",
         "4838.609461525034",
         "1002.25",
         "1000.0",
         "0.4406954102273879",
         "12.085043231253684",
         "2.480722352084761",
         "59.7175198090989"
        ],
        [
         "50%",
         "4917.6612876484505",
         "1004.0",
         "1000.0",
         "0.4953545440689756",
         "12.39224361146537",
         "2.488219238044544",
         "59.741623780089256"
        ],
        [
         "75%",
         "5042.055247046883",
         "1004.0",
         "1000.0",
         "0.567047030609802",
         "12.51089352274079",
         "2.5030871758544793",
         "59.77649831958782"
        ],
        [
         "max",
         "5120.082547136322",
         "1004.0",
         "1000.0",
         "0.638621415914205",
         "12.76213364268249",
         "2.5205797877523897",
         "59.85777108308008"
        ]
       ],
       "shape": {
        "columns": 7,
        "rows": 8
       }
      },
      "text/html": [
       "<div>\n",
       "<style scoped>\n",
       "    .dataframe tbody tr th:only-of-type {\n",
       "        vertical-align: middle;\n",
       "    }\n",
       "\n",
       "    .dataframe tbody tr th {\n",
       "        vertical-align: top;\n",
       "    }\n",
       "\n",
       "    .dataframe thead th {\n",
       "        text-align: right;\n",
       "    }\n",
       "</style>\n",
       "<table border=\"1\" class=\"dataframe\">\n",
       "  <thead>\n",
       "    <tr style=\"text-align: right;\">\n",
       "      <th></th>\n",
       "      <th>total_time</th>\n",
       "      <th>arrived</th>\n",
       "      <th>served</th>\n",
       "      <th>wait_time_queue</th>\n",
       "      <th>wait_time_system</th>\n",
       "      <th>number_system</th>\n",
       "      <th>Utilization</th>\n",
       "    </tr>\n",
       "  </thead>\n",
       "  <tbody>\n",
       "    <tr>\n",
       "      <th>count</th>\n",
       "      <td>10.000000</td>\n",
       "      <td>10.000000</td>\n",
       "      <td>10.0</td>\n",
       "      <td>10.000000</td>\n",
       "      <td>10.000000</td>\n",
       "      <td>10.000000</td>\n",
       "      <td>10.000000</td>\n",
       "    </tr>\n",
       "    <tr>\n",
       "      <th>mean</th>\n",
       "      <td>4924.650021</td>\n",
       "      <td>1003.200000</td>\n",
       "      <td>1000.0</td>\n",
       "      <td>0.511231</td>\n",
       "      <td>12.281693</td>\n",
       "      <td>2.493876</td>\n",
       "      <td>59.753409</td>\n",
       "    </tr>\n",
       "    <tr>\n",
       "      <th>std</th>\n",
       "      <td>151.067182</td>\n",
       "      <td>1.135292</td>\n",
       "      <td>0.0</td>\n",
       "      <td>0.083936</td>\n",
       "      <td>0.392266</td>\n",
       "      <td>0.016435</td>\n",
       "      <td>0.052783</td>\n",
       "    </tr>\n",
       "    <tr>\n",
       "      <th>min</th>\n",
       "      <td>4643.609533</td>\n",
       "      <td>1001.000000</td>\n",
       "      <td>1000.0</td>\n",
       "      <td>0.415898</td>\n",
       "      <td>11.534143</td>\n",
       "      <td>2.477794</td>\n",
       "      <td>59.692689</td>\n",
       "    </tr>\n",
       "    <tr>\n",
       "      <th>25%</th>\n",
       "      <td>4838.609462</td>\n",
       "      <td>1002.250000</td>\n",
       "      <td>1000.0</td>\n",
       "      <td>0.440695</td>\n",
       "      <td>12.085043</td>\n",
       "      <td>2.480722</td>\n",
       "      <td>59.717520</td>\n",
       "    </tr>\n",
       "    <tr>\n",
       "      <th>50%</th>\n",
       "      <td>4917.661288</td>\n",
       "      <td>1004.000000</td>\n",
       "      <td>1000.0</td>\n",
       "      <td>0.495355</td>\n",
       "      <td>12.392244</td>\n",
       "      <td>2.488219</td>\n",
       "      <td>59.741624</td>\n",
       "    </tr>\n",
       "    <tr>\n",
       "      <th>75%</th>\n",
       "      <td>5042.055247</td>\n",
       "      <td>1004.000000</td>\n",
       "      <td>1000.0</td>\n",
       "      <td>0.567047</td>\n",
       "      <td>12.510894</td>\n",
       "      <td>2.503087</td>\n",
       "      <td>59.776498</td>\n",
       "    </tr>\n",
       "    <tr>\n",
       "      <th>max</th>\n",
       "      <td>5120.082547</td>\n",
       "      <td>1004.000000</td>\n",
       "      <td>1000.0</td>\n",
       "      <td>0.638621</td>\n",
       "      <td>12.762134</td>\n",
       "      <td>2.520580</td>\n",
       "      <td>59.857771</td>\n",
       "    </tr>\n",
       "  </tbody>\n",
       "</table>\n",
       "</div>"
      ],
      "text/plain": [
       "        total_time      arrived  served  wait_time_queue  wait_time_system  \\\n",
       "count    10.000000    10.000000    10.0        10.000000         10.000000   \n",
       "mean   4924.650021  1003.200000  1000.0         0.511231         12.281693   \n",
       "std     151.067182     1.135292     0.0         0.083936          0.392266   \n",
       "min    4643.609533  1001.000000  1000.0         0.415898         11.534143   \n",
       "25%    4838.609462  1002.250000  1000.0         0.440695         12.085043   \n",
       "50%    4917.661288  1004.000000  1000.0         0.495355         12.392244   \n",
       "75%    5042.055247  1004.000000  1000.0         0.567047         12.510894   \n",
       "max    5120.082547  1004.000000  1000.0         0.638621         12.762134   \n",
       "\n",
       "       number_system  Utilization  \n",
       "count      10.000000    10.000000  \n",
       "mean        2.493876    59.753409  \n",
       "std         0.016435     0.052783  \n",
       "min         2.477794    59.692689  \n",
       "25%         2.480722    59.717520  \n",
       "50%         2.488219    59.741624  \n",
       "75%         2.503087    59.776498  \n",
       "max         2.520580    59.857771  "
      ]
     },
     "execution_count": 112,
     "metadata": {},
     "output_type": "execute_result"
    }
   ],
   "source": [
    "from modular.Multirun_Engine import Queue_Program\n",
    "\n",
    "seed = [1, 2, 3, 4, 5, 6, 7, 8, 9, 10]\n",
    "seed_pairs = list(zip(seed, seed))\n",
    "\n",
    "sigma_model1 = Queue_Program(seed_pairs=seed_pairs,\n",
    "                             mean_pair=[5, 12],\n",
    "                             generator_pair=[\"Expo\", \"Expo\"],\n",
    "                             sim_time_limit=float(\"inf\"),\n",
    "                             sim_customer_limit=1000,\n",
    "                             capacity=4,\n",
    "                             policy=FCFS_policy)\n",
    "\n",
    "sigma_model1.run()\n",
    "\n",
    "sigma_model1.result.describe()"
   ]
  },
  {
   "cell_type": "code",
   "execution_count": 114,
   "id": "0183b1e7",
   "metadata": {},
   "outputs": [
    {
     "name": "stdout",
     "output_type": "stream",
     "text": [
      "[INFO] Customer limit reached. The simulation finished successfuly.\n",
      "[INFO] Customer limit reached. The simulation finished successfuly.\n",
      "[INFO] Customer limit reached. The simulation finished successfuly.\n",
      "[INFO] Customer limit reached. The simulation finished successfuly.\n",
      "[INFO] Customer limit reached. The simulation finished successfuly.\n",
      "[INFO] Customer limit reached. The simulation finished successfuly.\n",
      "[INFO] Customer limit reached. The simulation finished successfuly.\n",
      "[INFO] Customer limit reached. The simulation finished successfuly.\n",
      "[INFO] Customer limit reached. The simulation finished successfuly.\n",
      "[INFO] Customer limit reached. The simulation finished successfuly.\n"
     ]
    },
    {
     "data": {
      "application/vnd.microsoft.datawrangler.viewer.v0+json": {
       "columns": [
        {
         "name": "index",
         "rawType": "object",
         "type": "string"
        },
        {
         "name": "total_time",
         "rawType": "float64",
         "type": "float"
        },
        {
         "name": "arrived",
         "rawType": "float64",
         "type": "float"
        },
        {
         "name": "served",
         "rawType": "float64",
         "type": "float"
        },
        {
         "name": "wait_time_queue",
         "rawType": "float64",
         "type": "float"
        },
        {
         "name": "wait_time_system",
         "rawType": "float64",
         "type": "float"
        },
        {
         "name": "number_system",
         "rawType": "float64",
         "type": "float"
        },
        {
         "name": "Utilization",
         "rawType": "float64",
         "type": "float"
        }
       ],
       "conversionMethod": "pd.DataFrame",
       "ref": "0aea1e52-a714-411b-9b8e-0fb4fd505f9c",
       "rows": [
        [
         "count",
         "10.0",
         "10.0",
         "10.0",
         "10.0",
         "10.0",
         "10.0",
         "10.0"
        ],
        [
         "mean",
         "49829.76519532857",
         "10003.2",
         "10000.0",
         "2.8267938506732557",
         "14.78098130589037",
         "2.9663438237119784",
         "79.96679814634449"
        ],
        [
         "std",
         "522.1673191394186",
         "0.9189365834726815",
         "0.0",
         "0.09142149308359795",
         "0.19024410649221302",
         "0.016177421205062544",
         "0.01778488894117818"
        ],
        [
         "min",
         "48796.6080422443",
         "10002.0",
         "10000.0",
         "2.7260780904224355",
         "14.476596274211415",
         "2.943465412690607",
         "79.92898293627125"
        ],
        [
         "25%",
         "49595.96574470231",
         "10003.0",
         "10000.0",
         "2.771230027608242",
         "14.651044830114959",
         "2.9567413569730494",
         "79.96066918214211"
        ],
        [
         "50%",
         "50022.11644907949",
         "10003.0",
         "10000.0",
         "2.7937415306076296",
         "14.771957688258968",
         "2.9643376992497554",
         "79.97179138376003"
        ],
        [
         "75%",
         "50080.6340583346",
         "10003.75",
         "10000.0",
         "2.910692271252475",
         "14.907920753908153",
         "2.976481121153114",
         "79.97428041635386"
        ],
        [
         "max",
         "50657.768780528226",
         "10005.0",
         "10000.0",
         "2.9659228050433226",
         "15.090315769294273",
         "2.9910235185715863",
         "79.9890547493744"
        ]
       ],
       "shape": {
        "columns": 7,
        "rows": 8
       }
      },
      "text/html": [
       "<div>\n",
       "<style scoped>\n",
       "    .dataframe tbody tr th:only-of-type {\n",
       "        vertical-align: middle;\n",
       "    }\n",
       "\n",
       "    .dataframe tbody tr th {\n",
       "        vertical-align: top;\n",
       "    }\n",
       "\n",
       "    .dataframe thead th {\n",
       "        text-align: right;\n",
       "    }\n",
       "</style>\n",
       "<table border=\"1\" class=\"dataframe\">\n",
       "  <thead>\n",
       "    <tr style=\"text-align: right;\">\n",
       "      <th></th>\n",
       "      <th>total_time</th>\n",
       "      <th>arrived</th>\n",
       "      <th>served</th>\n",
       "      <th>wait_time_queue</th>\n",
       "      <th>wait_time_system</th>\n",
       "      <th>number_system</th>\n",
       "      <th>Utilization</th>\n",
       "    </tr>\n",
       "  </thead>\n",
       "  <tbody>\n",
       "    <tr>\n",
       "      <th>count</th>\n",
       "      <td>10.000000</td>\n",
       "      <td>10.000000</td>\n",
       "      <td>10.0</td>\n",
       "      <td>10.000000</td>\n",
       "      <td>10.000000</td>\n",
       "      <td>10.000000</td>\n",
       "      <td>10.000000</td>\n",
       "    </tr>\n",
       "    <tr>\n",
       "      <th>mean</th>\n",
       "      <td>49829.765195</td>\n",
       "      <td>10003.200000</td>\n",
       "      <td>10000.0</td>\n",
       "      <td>2.826794</td>\n",
       "      <td>14.780981</td>\n",
       "      <td>2.966344</td>\n",
       "      <td>79.966798</td>\n",
       "    </tr>\n",
       "    <tr>\n",
       "      <th>std</th>\n",
       "      <td>522.167319</td>\n",
       "      <td>0.918937</td>\n",
       "      <td>0.0</td>\n",
       "      <td>0.091421</td>\n",
       "      <td>0.190244</td>\n",
       "      <td>0.016177</td>\n",
       "      <td>0.017785</td>\n",
       "    </tr>\n",
       "    <tr>\n",
       "      <th>min</th>\n",
       "      <td>48796.608042</td>\n",
       "      <td>10002.000000</td>\n",
       "      <td>10000.0</td>\n",
       "      <td>2.726078</td>\n",
       "      <td>14.476596</td>\n",
       "      <td>2.943465</td>\n",
       "      <td>79.928983</td>\n",
       "    </tr>\n",
       "    <tr>\n",
       "      <th>25%</th>\n",
       "      <td>49595.965745</td>\n",
       "      <td>10003.000000</td>\n",
       "      <td>10000.0</td>\n",
       "      <td>2.771230</td>\n",
       "      <td>14.651045</td>\n",
       "      <td>2.956741</td>\n",
       "      <td>79.960669</td>\n",
       "    </tr>\n",
       "    <tr>\n",
       "      <th>50%</th>\n",
       "      <td>50022.116449</td>\n",
       "      <td>10003.000000</td>\n",
       "      <td>10000.0</td>\n",
       "      <td>2.793742</td>\n",
       "      <td>14.771958</td>\n",
       "      <td>2.964338</td>\n",
       "      <td>79.971791</td>\n",
       "    </tr>\n",
       "    <tr>\n",
       "      <th>75%</th>\n",
       "      <td>50080.634058</td>\n",
       "      <td>10003.750000</td>\n",
       "      <td>10000.0</td>\n",
       "      <td>2.910692</td>\n",
       "      <td>14.907921</td>\n",
       "      <td>2.976481</td>\n",
       "      <td>79.974280</td>\n",
       "    </tr>\n",
       "    <tr>\n",
       "      <th>max</th>\n",
       "      <td>50657.768781</td>\n",
       "      <td>10005.000000</td>\n",
       "      <td>10000.0</td>\n",
       "      <td>2.965923</td>\n",
       "      <td>15.090316</td>\n",
       "      <td>2.991024</td>\n",
       "      <td>79.989055</td>\n",
       "    </tr>\n",
       "  </tbody>\n",
       "</table>\n",
       "</div>"
      ],
      "text/plain": [
       "         total_time       arrived   served  wait_time_queue  wait_time_system  \\\n",
       "count     10.000000     10.000000     10.0        10.000000         10.000000   \n",
       "mean   49829.765195  10003.200000  10000.0         2.826794         14.780981   \n",
       "std      522.167319      0.918937      0.0         0.091421          0.190244   \n",
       "min    48796.608042  10002.000000  10000.0         2.726078         14.476596   \n",
       "25%    49595.965745  10003.000000  10000.0         2.771230         14.651045   \n",
       "50%    50022.116449  10003.000000  10000.0         2.793742         14.771958   \n",
       "75%    50080.634058  10003.750000  10000.0         2.910692         14.907921   \n",
       "max    50657.768781  10005.000000  10000.0         2.965923         15.090316   \n",
       "\n",
       "       number_system  Utilization  \n",
       "count      10.000000    10.000000  \n",
       "mean        2.966344    79.966798  \n",
       "std         0.016177     0.017785  \n",
       "min         2.943465    79.928983  \n",
       "25%         2.956741    79.960669  \n",
       "50%         2.964338    79.971791  \n",
       "75%         2.976481    79.974280  \n",
       "max         2.991024    79.989055  "
      ]
     },
     "execution_count": 114,
     "metadata": {},
     "output_type": "execute_result"
    }
   ],
   "source": [
    "seed = [1, 2, 3, 4, 5, 6, 7, 8, 9, 10]\n",
    "seed_pairs = list(zip(seed, seed))\n",
    "\n",
    "sigma_model2 = Queue_Program(seed_pairs=seed_pairs,\n",
    "                             mean_pair=[5, 12],\n",
    "                             generator_pair=[\"Expo\", \"Expo\"],\n",
    "                             sim_time_limit=float(\"inf\"),\n",
    "                             sim_customer_limit=10000,\n",
    "                             capacity=3,\n",
    "                             policy=SPT_policy)\n",
    "\n",
    "sigma_model2.run()\n",
    "\n",
    "sigma_model2.result.describe()"
   ]
  }
 ],
 "metadata": {
  "kernelspec": {
   "display_name": "Python 3",
   "language": "python",
   "name": "python3"
  },
  "language_info": {
   "codemirror_mode": {
    "name": "ipython",
    "version": 3
   },
   "file_extension": ".py",
   "mimetype": "text/x-python",
   "name": "python",
   "nbconvert_exporter": "python",
   "pygments_lexer": "ipython3",
   "version": "3.12.1"
  }
 },
 "nbformat": 4,
 "nbformat_minor": 5
}
