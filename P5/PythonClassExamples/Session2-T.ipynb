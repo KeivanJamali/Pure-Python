{
 "cells": [
  {
   "cell_type": "markdown",
   "id": "eb0fb2a2",
   "metadata": {},
   "source": [
    "## Write a program that adds a space between each letter of the word the user types.\n",
    "### Example:\n",
    "> Input: hello  \n",
    "Output: h e l l o\n",
    "\n",
    "> For session 2"
   ]
  },
  {
   "cell_type": "code",
   "execution_count": null,
   "id": "ec0d8e74",
   "metadata": {
    "vscode": {
     "languageId": "plaintext"
    }
   },
   "outputs": [],
   "source": []
  },
  {
   "cell_type": "markdown",
   "id": "86209fa7",
   "metadata": {
    "vscode": {
     "languageId": "plaintext"
    }
   },
   "source": [
    "## Get a word from the user. Capitalize only the vowels in the word.\n",
    "### Example:\n",
    "> Input: banana  \n",
    "Output: bAnAnA\n"
   ]
  },
  {
   "cell_type": "code",
   "execution_count": null,
   "id": "ef0a724f",
   "metadata": {
    "vscode": {
     "languageId": "plaintext"
    }
   },
   "outputs": [],
   "source": []
  },
  {
   "cell_type": "markdown",
   "id": "03e67ade",
   "metadata": {},
   "source": [
    "## Ask the user for a word and a letter. Show the position (index) of the first and last time that letter appears.\n",
    "### Example:\n",
    "> Input word: pineapple  \n",
    "Input letter: p  \n",
    "Output: First at index 0, Last at index 4"
   ]
  },
  {
   "cell_type": "markdown",
   "id": "1045976e",
   "metadata": {},
   "source": [
    ">"
   ]
  }
 ],
 "metadata": {
  "language_info": {
   "name": "python"
  }
 },
 "nbformat": 4,
 "nbformat_minor": 5
}
