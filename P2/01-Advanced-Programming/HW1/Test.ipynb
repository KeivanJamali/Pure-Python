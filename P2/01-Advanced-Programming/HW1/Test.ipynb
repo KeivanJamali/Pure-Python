{
 "cells": [
  {
   "cell_type": "code",
   "execution_count": 16,
   "id": "initial_id",
   "metadata": {
    "collapsed": true,
    "ExecuteTime": {
     "end_time": "2023-11-08T12:53:24.072883500Z",
     "start_time": "2023-11-08T12:53:23.943721Z"
    }
   },
   "outputs": [
    {
     "name": "stdout",
     "output_type": "stream",
     "text": [
      "The autoreload extension is already loaded. To reload it, use:\n",
      "  %reload_ext autoreload\n"
     ]
    }
   ],
   "source": [
    "%load_ext autoreload\n",
    "%autoreload 2\n",
    "import solution as sol\n",
    "import N "
   ]
  },
  {
   "cell_type": "code",
   "execution_count": 18,
   "outputs": [],
   "source": [
    "name = \"Keivan_Jamali\"\n",
    "# name = \"Keivan+Jamali\"\n",
    "password = \"Zk3p5jsh9m121%\"\n",
    "nationality_code = \"0330970674\"\n",
    "nationality_code = \"4421031429\"\n",
    "credit_card = 5022291097756132\n",
    "email = \"kjpjsj@g.mail.com\"\n",
    "# email = \"inval_idemil@em6ail.jc\"\n"
   ],
   "metadata": {
    "collapsed": false,
    "ExecuteTime": {
     "end_time": "2023-11-08T12:53:35.969918700Z",
     "start_time": "2023-11-08T12:53:35.924889Z"
    }
   },
   "id": "64bfb68ad14bf1cc"
  },
  {
   "cell_type": "code",
   "execution_count": 19,
   "outputs": [
    {
     "ename": "Exception",
     "evalue": "invalid Email",
     "output_type": "error",
     "traceback": [
      "\u001B[1;31m---------------------------------------------------------------------------\u001B[0m",
      "\u001B[1;31mException\u001B[0m                                 Traceback (most recent call last)",
      "Cell \u001B[1;32mIn[19], line 1\u001B[0m\n\u001B[1;32m----> 1\u001B[0m obj \u001B[38;5;241m=\u001B[39m \u001B[43msol\u001B[49m\u001B[38;5;241;43m.\u001B[39;49m\u001B[43mAccount\u001B[49m\u001B[43m(\u001B[49m\u001B[43mname\u001B[49m\u001B[43m,\u001B[49m\u001B[43m \u001B[49m\u001B[43mpassword\u001B[49m\u001B[43m,\u001B[49m\u001B[43m \u001B[49m\u001B[43mnationality_code\u001B[49m\u001B[43m,\u001B[49m\u001B[43m \u001B[49m\u001B[43mcredit_card\u001B[49m\u001B[43m,\u001B[49m\u001B[43m \u001B[49m\u001B[43memail\u001B[49m\u001B[43m)\u001B[49m\n\u001B[0;32m      3\u001B[0m \u001B[38;5;28mprint\u001B[39m(obj\u001B[38;5;241m.\u001B[39musername)\n\u001B[0;32m      4\u001B[0m \u001B[38;5;28mprint\u001B[39m(obj\u001B[38;5;241m.\u001B[39mpassword)\n",
      "File \u001B[1;32mD:\\All Python\\Pure-Python\\P2\\01-Advanced-Programming\\HW1\\solution.py:10\u001B[0m, in \u001B[0;36mAccount.__init__\u001B[1;34m(self, username, password, nationalcode, creditcard, email)\u001B[0m\n\u001B[0;32m      8\u001B[0m \u001B[38;5;28mself\u001B[39m\u001B[38;5;241m.\u001B[39mnationalcode \u001B[38;5;241m=\u001B[39m \u001B[38;5;28mself\u001B[39m\u001B[38;5;241m.\u001B[39mnationalcode_validation(\u001B[38;5;28mstr\u001B[39m(nationalcode))\n\u001B[0;32m      9\u001B[0m \u001B[38;5;28mself\u001B[39m\u001B[38;5;241m.\u001B[39mcreditcard \u001B[38;5;241m=\u001B[39m \u001B[38;5;28mself\u001B[39m\u001B[38;5;241m.\u001B[39mcreditcard_validation(\u001B[38;5;28mstr\u001B[39m(creditcard))\n\u001B[1;32m---> 10\u001B[0m \u001B[38;5;28mself\u001B[39m\u001B[38;5;241m.\u001B[39memail \u001B[38;5;241m=\u001B[39m \u001B[38;5;28;43mself\u001B[39;49m\u001B[38;5;241;43m.\u001B[39;49m\u001B[43memail_validation\u001B[49m\u001B[43m(\u001B[49m\u001B[43memail\u001B[49m\u001B[43m)\u001B[49m\n",
      "File \u001B[1;32mD:\\All Python\\Pure-Python\\P2\\01-Advanced-Programming\\HW1\\solution.py:61\u001B[0m, in \u001B[0;36mAccount.email_validation\u001B[1;34m(self, email)\u001B[0m\n\u001B[0;32m     59\u001B[0m \u001B[38;5;28;01mdef\u001B[39;00m \u001B[38;5;21memail_validation\u001B[39m(\u001B[38;5;28mself\u001B[39m, email: \u001B[38;5;28mstr\u001B[39m):\n\u001B[0;32m     60\u001B[0m     \u001B[38;5;28;01mif\u001B[39;00m \u001B[38;5;129;01mnot\u001B[39;00m re\u001B[38;5;241m.\u001B[39mmatch(\u001B[38;5;124mr\u001B[39m\u001B[38;5;124m\"\u001B[39m\u001B[38;5;124m^[A-Za-z0-9_]+@[A-Za-z0-9]+\u001B[39m\u001B[38;5;124m\\\u001B[39m\u001B[38;5;124m.[A-Za-z]\u001B[39m\u001B[38;5;124m{\u001B[39m\u001B[38;5;124m2,3}$\u001B[39m\u001B[38;5;124m\"\u001B[39m, email) \u001B[38;5;129;01mor\u001B[39;00m email\u001B[38;5;241m.\u001B[39msplit(\u001B[38;5;124m\"\u001B[39m\u001B[38;5;124m\"\u001B[39m)\u001B[38;5;241m.\u001B[39mcount(\u001B[38;5;124m\"\u001B[39m\u001B[38;5;124m.\u001B[39m\u001B[38;5;124m\"\u001B[39m) \u001B[38;5;241m>\u001B[39m \u001B[38;5;241m2\u001B[39m:\n\u001B[1;32m---> 61\u001B[0m         \u001B[38;5;28;01mraise\u001B[39;00m \u001B[38;5;167;01mException\u001B[39;00m(\u001B[38;5;124m\"\u001B[39m\u001B[38;5;124minvalid Email\u001B[39m\u001B[38;5;124m\"\u001B[39m)\n\u001B[0;32m     62\u001B[0m     \u001B[38;5;28;01melse\u001B[39;00m:\n\u001B[0;32m     63\u001B[0m         \u001B[38;5;28;01mreturn\u001B[39;00m email\n",
      "\u001B[1;31mException\u001B[0m: invalid Email"
     ]
    }
   ],
   "source": [
    "obj = sol.Account(name, password, nationality_code, credit_card, email)\n",
    "\n",
    "print(obj.username)\n",
    "print(obj.password)\n",
    "print(obj.nationalcode)\n",
    "print(obj.creditcard)\n",
    "print(obj.email)"
   ],
   "metadata": {
    "collapsed": false,
    "ExecuteTime": {
     "end_time": "2023-11-08T12:53:37.065674900Z",
     "start_time": "2023-11-08T12:53:36.998777600Z"
    }
   },
   "id": "8f898f71954d348b"
  },
  {
   "cell_type": "code",
   "execution_count": 50,
   "outputs": [],
   "source": [
    "control = sum([(10 - i) * int(nationality_code[i]) for i in range(len(nationality_code) - 1)])"
   ],
   "metadata": {
    "collapsed": false,
    "ExecuteTime": {
     "end_time": "2023-11-07T15:05:41.516652100Z",
     "start_time": "2023-11-07T15:05:41.468184200Z"
    }
   },
   "id": "24acf4346565732a"
  },
  {
   "cell_type": "code",
   "execution_count": 51,
   "outputs": [
    {
     "data": {
      "text/plain": "172"
     },
     "execution_count": 51,
     "metadata": {},
     "output_type": "execute_result"
    }
   ],
   "source": [
    "control"
   ],
   "metadata": {
    "collapsed": false,
    "ExecuteTime": {
     "end_time": "2023-11-07T15:05:42.138216600Z",
     "start_time": "2023-11-07T15:05:42.122282900Z"
    }
   },
   "id": "274399b9dc6dea22"
  },
  {
   "cell_type": "code",
   "execution_count": 52,
   "outputs": [
    {
     "name": "stdout",
     "output_type": "stream",
     "text": [
      "172\n"
     ]
    }
   ],
   "source": [
    "val = [10, 9, 8, 7, 6, 5, 4, 3, 2, 1]\n",
    "sum_ = 0\n",
    "for i in range(len(nationality_code) - 1):\n",
    "    sum_ += int(nationality_code[i]) * val[i]\n",
    "print(sum_)"
   ],
   "metadata": {
    "collapsed": false,
    "ExecuteTime": {
     "end_time": "2023-11-07T15:05:42.893900300Z",
     "start_time": "2023-11-07T15:05:42.852697100Z"
    }
   },
   "id": "ab244eef551ae740"
  },
  {
   "cell_type": "code",
   "execution_count": 81,
   "outputs": [],
   "source": [
    "name = \"losPolos\"\n",
    "products = {\"chicken\" : 2 , \"cheese\" : 5}\n",
    "price = 950"
   ],
   "metadata": {
    "collapsed": false,
    "ExecuteTime": {
     "end_time": "2023-11-07T15:33:26.883010900Z",
     "start_time": "2023-11-07T15:33:26.333350700Z"
    }
   },
   "id": "67488d439b8f508c"
  },
  {
   "cell_type": "code",
   "execution_count": 88,
   "outputs": [],
   "source": [
    "obj2 = sol.Order(name, price, products)"
   ],
   "metadata": {
    "collapsed": false,
    "ExecuteTime": {
     "end_time": "2023-11-07T15:38:19.984267200Z",
     "start_time": "2023-11-07T15:38:19.589736Z"
    }
   },
   "id": "93c81ae2f9e97b38"
  },
  {
   "cell_type": "code",
   "execution_count": 89,
   "outputs": [
    {
     "data": {
      "text/plain": "'Hi losPolos ,You have ordered chicken: 2, cheese: 5 and the price will be 950$.'"
     },
     "execution_count": 89,
     "metadata": {},
     "output_type": "execute_result"
    }
   ],
   "source": [
    "obj2.send_order()"
   ],
   "metadata": {
    "collapsed": false,
    "ExecuteTime": {
     "end_time": "2023-11-07T15:38:20.487035800Z",
     "start_time": "2023-11-07T15:38:20.472873500Z"
    }
   },
   "id": "ef4481ae46a5cd23"
  },
  {
   "cell_type": "code",
   "execution_count": 90,
   "outputs": [
    {
     "data": {
      "text/plain": "950"
     },
     "execution_count": 90,
     "metadata": {},
     "output_type": "execute_result"
    }
   ],
   "source": [
    "obj2.price"
   ],
   "metadata": {
    "collapsed": false,
    "ExecuteTime": {
     "end_time": "2023-11-07T15:38:22.742961900Z",
     "start_time": "2023-11-07T15:38:22.703786600Z"
    }
   },
   "id": "cb548b4c185b3f85"
  },
  {
   "cell_type": "code",
   "execution_count": 4,
   "outputs": [
    {
     "ename": "Exception",
     "evalue": "invalid Email",
     "output_type": "error",
     "traceback": [
      "\u001B[1;31m---------------------------------------------------------------------------\u001B[0m",
      "\u001B[1;31mException\u001B[0m                                 Traceback (most recent call last)",
      "Cell \u001B[1;32mIn[4], line 2\u001B[0m\n\u001B[0;32m      1\u001B[0m obj\u001B[38;5;241m=\u001B[39mN\u001B[38;5;241m.\u001B[39mAccount(\u001B[38;5;124m\"\u001B[39m\u001B[38;5;124mKeivan_Jamali\u001B[39m\u001B[38;5;124m\"\u001B[39m, \u001B[38;5;124m\"\u001B[39m\u001B[38;5;124mZk3p5jsh9m121\u001B[39m\u001B[38;5;124m%\u001B[39m\u001B[38;5;124m\"\u001B[39m, \u001B[38;5;124m\"\u001B[39m\u001B[38;5;124m0330970674\u001B[39m\u001B[38;5;124m\"\u001B[39m, \u001B[38;5;241m5022291097756132\u001B[39m, \u001B[38;5;124m\"\u001B[39m\u001B[38;5;124mkj.pj.sj@gmail.com\u001B[39m\u001B[38;5;124m\"\u001B[39m)\n\u001B[1;32m----> 2\u001B[0m \u001B[43mobj\u001B[49m\u001B[38;5;241;43m.\u001B[39;49m\u001B[43memail_validation\u001B[49m\u001B[43m(\u001B[49m\u001B[38;5;124;43m\"\u001B[39;49m\u001B[38;5;124;43mkjnvei@gmai.l.com\u001B[39;49m\u001B[38;5;124;43m\"\u001B[39;49m\u001B[43m)\u001B[49m\n",
      "File \u001B[1;32mD:\\All Python\\Pure-Python\\P2\\01-Advanced-Programming\\HW1\\N.py:80\u001B[0m, in \u001B[0;36mAccount.email_validation\u001B[1;34m(self, email)\u001B[0m\n\u001B[0;32m     78\u001B[0m match \u001B[38;5;241m=\u001B[39m re\u001B[38;5;241m.\u001B[39mmatch(regex_pattern, email)\n\u001B[0;32m     79\u001B[0m \u001B[38;5;28;01mif\u001B[39;00m match \u001B[38;5;129;01mis\u001B[39;00m \u001B[38;5;28;01mNone\u001B[39;00m:\n\u001B[1;32m---> 80\u001B[0m     \u001B[38;5;28;01mraise\u001B[39;00m \u001B[38;5;167;01mException\u001B[39;00m(\u001B[38;5;124m\"\u001B[39m\u001B[38;5;124minvalid Email\u001B[39m\u001B[38;5;124m\"\u001B[39m)\n",
      "\u001B[1;31mException\u001B[0m: invalid Email"
     ]
    }
   ],
   "source": [
    "obj=N.Account(\"Keivan_Jamali\", \"Zk3p5jsh9m121%\", \"0330970674\", 5022291097756132, \"kj.pj.sj@gmail.com\")\n",
    "obj.email_validation(\"kjnvei@gmai.l.com\")"
   ],
   "metadata": {
    "collapsed": false,
    "ExecuteTime": {
     "end_time": "2023-11-08T11:34:18.571979800Z",
     "start_time": "2023-11-08T11:34:18.448978300Z"
    }
   },
   "id": "70f2300d3a628798"
  },
  {
   "cell_type": "code",
   "execution_count": 15,
   "outputs": [
    {
     "name": "stdout",
     "output_type": "stream",
     "text": [
      "chicken: 2, cheese: 5, \n",
      "Hi losPolos ,You have ordered chicken: 2, cheese: 5 and the price will be 950$.\n"
     ]
    }
   ],
   "source": [
    "order={\"chicken\":2,\"cheese\":5}\n",
    "final=str()\n",
    "for key in order.items():\n",
    "    final=final+key[0]+\": \"+str(key[1])+\", \"\n",
    "print(final)\n",
    "print(f\"Hi losPolos ,You have ordered {final[0:-2]} and the price will be 950$.\")\n",
    "#Hi losPolos ,You have ordered chicken: 2, cheese: 5 and the price will be 950$.\n"
   ],
   "metadata": {
    "collapsed": false,
    "ExecuteTime": {
     "end_time": "2023-11-08T12:31:47.032187400Z",
     "start_time": "2023-11-08T12:31:46.917134900Z"
    }
   },
   "id": "61c297bfa2c3abbb"
  },
  {
   "cell_type": "code",
   "execution_count": 11,
   "outputs": [
    {
     "data": {
      "text/plain": "''"
     },
     "execution_count": 11,
     "metadata": {},
     "output_type": "execute_result"
    }
   ],
   "source": [
    "final"
   ],
   "metadata": {
    "collapsed": false,
    "ExecuteTime": {
     "end_time": "2023-11-08T12:13:14.951666800Z",
     "start_time": "2023-11-08T12:13:14.906331Z"
    }
   },
   "id": "fc9ac725c6be7172"
  },
  {
   "cell_type": "code",
   "execution_count": null,
   "outputs": [],
   "source": [],
   "metadata": {
    "collapsed": false
   },
   "id": "f53e4be89e851835"
  }
 ],
 "metadata": {
  "kernelspec": {
   "display_name": "Python 3",
   "language": "python",
   "name": "python3"
  },
  "language_info": {
   "codemirror_mode": {
    "name": "ipython",
    "version": 2
   },
   "file_extension": ".py",
   "mimetype": "text/x-python",
   "name": "python",
   "nbconvert_exporter": "python",
   "pygments_lexer": "ipython2",
   "version": "2.7.6"
  }
 },
 "nbformat": 4,
 "nbformat_minor": 5
}
