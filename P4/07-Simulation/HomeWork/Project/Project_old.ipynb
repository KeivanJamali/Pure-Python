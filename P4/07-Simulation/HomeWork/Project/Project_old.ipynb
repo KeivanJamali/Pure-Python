{
 "cells": [
  {
   "cell_type": "code",
   "execution_count": 1,
   "metadata": {},
   "outputs": [],
   "source": [
    "%load_ext autoreload\n",
    "%autoreload 2"
   ]
  },
  {
   "cell_type": "code",
   "execution_count": 9,
   "metadata": {},
   "outputs": [
    {
     "name": "stdout",
     "output_type": "stream",
     "text": [
      "=======================================================\n",
      "\n",
      "Therefore, Average waiting time for People in Queue (Q_bar) will be 5.57\n",
      "Therefore, Average number of People in Queue (N_Q) will be 1.12\n",
      "We have 18340 people with more that 4.5 min system time. Therefore the percentage is 91.70\n",
      "Therefore the U=79.99\n",
      "\n",
      "=======================================================\n"
     ]
    }
   ],
   "source": [
    "from modular_old.main import main\n",
    "\n",
    "model = main(policy=\"FCFS\",\n",
    "             stop_type=\"Customer\",\n",
    "             stop_limit=20000,\n",
    "             queue_type=\"MMI\",\n",
    "             plot_it=False)"
   ]
  },
  {
   "cell_type": "code",
   "execution_count": null,
   "metadata": {},
   "outputs": [
    {
     "name": "stdout",
     "output_type": "stream",
     "text": [
      "=======================================================\n",
      "\n",
      "Therefore, Average waiting time for People in Queue (Q_bar) will be 4.41\n",
      "Therefore, Average number of People in Queue (N_Q) will be 0.87\n",
      "We have 744 people with more that 4.5 min system time. Therefore the percentage is 74.40\n",
      "Therefore the U=79.85\n",
      "\n",
      "=======================================================\n"
     ]
    }
   ],
   "source": [
    "from modular_old.main import main\n",
    "\n",
    "model = main(policy=\"SPT\",\n",
    "             stop_type=\"Customer\",\n",
    "             stop_limit=1000,\n",
    "             queue_type=\"MMI\",\n",
    "             plot_it=False)"
   ]
  },
  {
   "cell_type": "code",
   "execution_count": null,
   "metadata": {},
   "outputs": [],
   "source": []
  }
 ],
 "metadata": {
  "kernelspec": {
   "display_name": "Python 3",
   "language": "python",
   "name": "python3"
  },
  "language_info": {
   "codemirror_mode": {
    "name": "ipython",
    "version": 3
   },
   "file_extension": ".py",
   "mimetype": "text/x-python",
   "name": "python",
   "nbconvert_exporter": "python",
   "pygments_lexer": "ipython3",
   "version": "3.12.1"
  }
 },
 "nbformat": 4,
 "nbformat_minor": 2
}
