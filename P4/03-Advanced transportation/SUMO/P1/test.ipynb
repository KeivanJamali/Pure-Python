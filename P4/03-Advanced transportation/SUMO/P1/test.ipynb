{
 "cells": [
  {
   "cell_type": "code",
   "execution_count": 1,
   "metadata": {},
   "outputs": [],
   "source": [
    "import xml.etree.ElementTree as et"
   ]
  },
  {
   "cell_type": "code",
   "execution_count": 5,
   "metadata": {},
   "outputs": [],
   "source": [
    "trip_info = et.parse(r\"D:\\All Python\\Pure-Python\\P4\\03-Advanced transportation\\SUMO\\P1\\OUTPUT.xml\")"
   ]
  },
  {
   "cell_type": "code",
   "execution_count": 6,
   "metadata": {},
   "outputs": [
    {
     "data": {
      "text/plain": [
       "19731.0"
      ]
     },
     "execution_count": 6,
     "metadata": {},
     "output_type": "execute_result"
    }
   ],
   "source": [
    "first_root_trip_info = trip_info.getroot()\n",
    "travel_times = []\n",
    "for trip in first_root_trip_info.findall(\"tripinfo\"):\n",
    "    travel_times.append(float(trip.attrib[\"duration\"]))\n",
    "\n",
    "sum(travel_times)"
   ]
  },
  {
   "cell_type": "code",
   "execution_count": 28,
   "metadata": {},
   "outputs": [
    {
     "name": "stdout",
     "output_type": "stream",
     "text": [
      "Travel time according to each trip in the Trip-Info file is  19731.0\n",
      "Travel time according to links in the Edge_Info file is  26636.39\n"
     ]
    }
   ],
   "source": [
    "import pandas as pd\n",
    "\n",
    "trip_info_path = r\"D:\\All Python\\Pure-Python\\P4\\03-Advanced transportation\\SUMO\\P1\\OUTPUT.xml\"\n",
    "edge_info_path = r\"D:\\All Python\\Pure-Python\\P4\\03-Advanced transportation\\SUMO\\P1\\EDGEDATA.xml\"\n",
    "\n",
    "trip_data = pd.read_xml(trip_info_path, xpath=\"tripinfo\")\n",
    "trip_travel_time = sum(trip_data[\"duration\"])\n",
    "\n",
    "edge_data = pd.read_xml(edge_info_path, xpath=\"interval/edge\")\n",
    "edge_data[\"traveltime_output\"] = edge_data.apply(lambda row: row[\"traveltime\"] * max(row[\"entered\"], row[\"left\"]), axis=1)\n",
    "edge_travel_time = sum(edge_data[\"traveltime_output\"])\n",
    "print(\"Travel time according to each trip in the Trip-Info file is \", trip_travel_time)\n",
    "print(\"Travel time according to links in the Edge_Info file is \", edge_travel_time)"
   ]
  },
  {
   "cell_type": "code",
   "execution_count": null,
   "metadata": {},
   "outputs": [],
   "source": []
  }
 ],
 "metadata": {
  "kernelspec": {
   "display_name": "Python 3",
   "language": "python",
   "name": "python3"
  },
  "language_info": {
   "codemirror_mode": {
    "name": "ipython",
    "version": 3
   },
   "file_extension": ".py",
   "mimetype": "text/x-python",
   "name": "python",
   "nbconvert_exporter": "python",
   "pygments_lexer": "ipython3",
   "version": "3.12.1"
  }
 },
 "nbformat": 4,
 "nbformat_minor": 2
}
