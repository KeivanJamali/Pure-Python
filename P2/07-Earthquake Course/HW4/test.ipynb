{
 "cells": [
  {
   "metadata": {
    "ExecuteTime": {
     "end_time": "2024-04-25T13:38:17.369814Z",
     "start_time": "2024-04-25T13:38:17.364160Z"
    }
   },
   "cell_type": "code",
   "source": [
    "import numpy as np\n",
    "import matplotlib.pyplot as plt\n"
   ],
   "id": "9bd0028219c6b8b5",
   "outputs": [],
   "execution_count": 24
  },
  {
   "cell_type": "code",
   "id": "initial_id",
   "metadata": {
    "collapsed": true,
    "ExecuteTime": {
     "end_time": "2024-04-25T13:38:17.391237Z",
     "start_time": "2024-04-25T13:38:17.386422Z"
    }
   },
   "source": [
    "k = 2*2180\n",
    "w = 1.5*1400\n",
    "zeta = 5\n",
    "g = 9.81"
   ],
   "outputs": [],
   "execution_count": 25
  },
  {
   "metadata": {
    "ExecuteTime": {
     "end_time": "2024-04-25T13:38:17.458956Z",
     "start_time": "2024-04-25T13:38:17.451209Z"
    }
   },
   "cell_type": "code",
   "source": [
    "m = w/g\n",
    "m"
   ],
   "id": "df6b3b3dcc54778a",
   "outputs": [
    {
     "data": {
      "text/plain": [
       "214.06727828746176"
      ]
     },
     "execution_count": 26,
     "metadata": {},
     "output_type": "execute_result"
    }
   ],
   "execution_count": 26
  },
  {
   "metadata": {
    "ExecuteTime": {
     "end_time": "2024-04-25T13:38:17.491613Z",
     "start_time": "2024-04-25T13:38:17.485301Z"
    }
   },
   "cell_type": "code",
   "source": [
    "omega = np.sqrt(k/m)\n",
    "omega"
   ],
   "id": "787f502b9cc97f28",
   "outputs": [
    {
     "data": {
      "text/plain": [
       "4.513028758098996"
      ]
     },
     "execution_count": 27,
     "metadata": {},
     "output_type": "execute_result"
    }
   ],
   "execution_count": 27
  },
  {
   "metadata": {
    "ExecuteTime": {
     "end_time": "2024-04-25T13:38:17.571690Z",
     "start_time": "2024-04-25T13:38:17.560944Z"
    }
   },
   "cell_type": "code",
   "source": [
    "Tn = 2*np.pi/omega\n",
    "Tn"
   ],
   "id": "5e9ec5c16c2e5f5d",
   "outputs": [
    {
     "data": {
      "text/plain": [
       "1.39223249927311"
      ]
     },
     "execution_count": 28,
     "metadata": {},
     "output_type": "execute_result"
    }
   ],
   "execution_count": 28
  },
  {
   "metadata": {
    "ExecuteTime": {
     "end_time": "2024-04-25T13:38:17.595540Z",
     "start_time": "2024-04-25T13:38:17.590859Z"
    }
   },
   "cell_type": "code",
   "source": [
    "A = 0.35 * 1.8 * Tn**(-1)\n",
    "A"
   ],
   "id": "f9cac9e5ddbe8029",
   "outputs": [
    {
     "data": {
      "text/plain": [
       "0.45251062615541976"
      ]
     },
     "execution_count": 29,
     "metadata": {},
     "output_type": "execute_result"
    }
   ],
   "execution_count": 29
  },
  {
   "metadata": {
    "ExecuteTime": {
     "end_time": "2024-04-25T13:38:17.645663Z",
     "start_time": "2024-04-25T13:38:17.636219Z"
    }
   },
   "cell_type": "code",
   "source": [
    "D = (A*g)/(omega**2)\n",
    "D"
   ],
   "id": "d25c12248faeb00f",
   "outputs": [
    {
     "data": {
      "text/plain": [
       "0.21795236580880314"
      ]
     },
     "execution_count": 30,
     "metadata": {},
     "output_type": "execute_result"
    }
   ],
   "execution_count": 30
  },
  {
   "metadata": {
    "ExecuteTime": {
     "end_time": "2024-04-25T13:38:17.676021Z",
     "start_time": "2024-04-25T13:38:17.666130Z"
    }
   },
   "cell_type": "code",
   "source": [
    "V = A*w\n",
    "V"
   ],
   "id": "99bca00eedbc0ca",
   "outputs": [
    {
     "data": {
      "text/plain": [
       "950.2723149263815"
      ]
     },
     "execution_count": 31,
     "metadata": {},
     "output_type": "execute_result"
    }
   ],
   "execution_count": 31
  },
  {
   "metadata": {
    "ExecuteTime": {
     "end_time": "2024-04-25T13:38:17.750124Z",
     "start_time": "2024-04-25T13:38:17.743212Z"
    }
   },
   "cell_type": "code",
   "source": "775/548 -1",
   "id": "adf1152840afa581",
   "outputs": [
    {
     "data": {
      "text/plain": [
       "0.41423357664233573"
      ]
     },
     "execution_count": 32,
     "metadata": {},
     "output_type": "execute_result"
    }
   ],
   "execution_count": 32
  },
  {
   "metadata": {
    "ExecuteTime": {
     "end_time": "2024-04-25T13:38:17.826097Z",
     "start_time": "2024-04-25T13:38:17.818630Z"
    }
   },
   "cell_type": "code",
   "source": "950/775 - 1\n",
   "id": "f179d71991d77af8",
   "outputs": [
    {
     "data": {
      "text/plain": [
       "0.22580645161290325"
      ]
     },
     "execution_count": 33,
     "metadata": {},
     "output_type": "execute_result"
    }
   ],
   "execution_count": 33
  },
  {
   "metadata": {
    "ExecuteTime": {
     "end_time": "2024-04-25T13:39:46.245869Z",
     "start_time": "2024-04-25T13:39:46.240009Z"
    }
   },
   "cell_type": "code",
   "source": [
    "PGA = (350+250*0.8)/(100*9.81)\n",
    "PGA"
   ],
   "id": "4a561209a32bad06",
   "outputs": [
    {
     "data": {
      "text/plain": [
       "0.5606523955147809"
      ]
     },
     "execution_count": 45,
     "metadata": {},
     "output_type": "execute_result"
    }
   ],
   "execution_count": 45
  },
  {
   "metadata": {
    "ExecuteTime": {
     "end_time": "2024-04-25T13:40:51.068818Z",
     "start_time": "2024-04-25T13:40:51.061978Z"
    }
   },
   "cell_type": "code",
   "source": [
    "temp = 350+250*0.8\n",
    "PGV = (48 * temp / 386) /2.54\n",
    "PGV"
   ],
   "id": "9bc59dce4dd53a06",
   "outputs": [
    {
     "data": {
      "text/plain": [
       "26.926685977724286"
      ]
     },
     "execution_count": 49,
     "metadata": {},
     "output_type": "execute_result"
    }
   ],
   "execution_count": 49
  },
  {
   "metadata": {
    "ExecuteTime": {
     "end_time": "2024-04-25T13:41:30.522695Z",
     "start_time": "2024-04-25T13:41:30.516836Z"
    }
   },
   "cell_type": "code",
   "source": [
    "temp = 350+250*0.8\n",
    "temp2 = 48 * temp / 386\n",
    "PGD = 6 * temp2**2 / temp / 2.54\n",
    "PGD"
   ],
   "id": "8cd681980f8b4fc2",
   "outputs": [
    {
     "data": {
      "text/plain": [
       "20.090377102550764"
      ]
     },
     "execution_count": 50,
     "metadata": {},
     "output_type": "execute_result"
    }
   ],
   "execution_count": 50
  },
  {
   "metadata": {
    "ExecuteTime": {
     "end_time": "2024-04-25T13:41:36.995659Z",
     "start_time": "2024-04-25T13:41:36.991020Z"
    }
   },
   "cell_type": "code",
   "source": [
    "PGVx = PGV * 1.65\n",
    "PGAx = PGA * 2.12\n",
    "PGDx = PGD * 1.39\n",
    "PGVx, PGAx, PGDx"
   ],
   "id": "d86b7fca5058cb1b",
   "outputs": [
    {
     "data": {
      "text/plain": [
       "(44.42903186324507, 1.1885830784913354, 27.92562417254556)"
      ]
     },
     "execution_count": 51,
     "metadata": {},
     "output_type": "execute_result"
    }
   ],
   "execution_count": 51
  },
  {
   "metadata": {
    "ExecuteTime": {
     "end_time": "2024-04-25T13:41:37.702572Z",
     "start_time": "2024-04-25T13:41:37.697044Z"
    }
   },
   "cell_type": "code",
   "source": [
    "PGVy = PGV * 2.3\n",
    "PGAy = PGA * 2.71\n",
    "PGDy = PGD * 2.01\n",
    "PGVy, PGAy, PGDy"
   ],
   "id": "beb0db44d4d0f6f2",
   "outputs": [
    {
     "data": {
      "text/plain": [
       "(61.931377748765854, 1.519367991845056, 40.38165797612703)"
      ]
     },
     "execution_count": 52,
     "metadata": {},
     "output_type": "execute_result"
    }
   ],
   "execution_count": 52
  },
  {
   "metadata": {
    "ExecuteTime": {
     "end_time": "2024-04-25T13:38:18.321601Z",
     "start_time": "2024-04-25T13:38:18.316664Z"
    }
   },
   "cell_type": "code",
   "source": "",
   "id": "6262720cf5c34122",
   "outputs": [],
   "execution_count": 41
  }
 ],
 "metadata": {
  "kernelspec": {
   "display_name": "Python 3",
   "language": "python",
   "name": "python3"
  },
  "language_info": {
   "codemirror_mode": {
    "name": "ipython",
    "version": 2
   },
   "file_extension": ".py",
   "mimetype": "text/x-python",
   "name": "python",
   "nbconvert_exporter": "python",
   "pygments_lexer": "ipython2",
   "version": "2.7.6"
  }
 },
 "nbformat": 4,
 "nbformat_minor": 5
}
