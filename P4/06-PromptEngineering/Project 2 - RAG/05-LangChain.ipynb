{
 "cells": [
  {
   "cell_type": "code",
   "execution_count": 1,
   "metadata": {},
   "outputs": [],
   "source": [
    "from langchain_community.document_loaders import UnstructuredExcelLoader\n",
    "from langchain.text_splitter import RecursiveCharacterTextSplitter\n",
    "from langchain_groq import ChatGroq\n",
    "from langchain_chroma import Chroma\n",
    "from langchain_huggingface import HuggingFaceEmbeddings\n",
    "from langchain.vectorstores.faiss import FAISS\n",
    "from IPython.display import display, Markdown"
   ]
  },
  {
   "cell_type": "markdown",
   "metadata": {},
   "source": [
    "# Excel"
   ]
  },
  {
   "cell_type": "code",
   "execution_count": null,
   "metadata": {},
   "outputs": [
    {
     "data": {
      "text/plain": [
       "[Document(metadata={'source': 'D:\\\\All Python\\\\Pure-Python\\\\P4\\\\06-PromptEngineering\\\\Project 2 - RAG\\\\data\\\\earthq.xlsx', 'file_directory': 'D:\\\\All Python\\\\Pure-Python\\\\P4\\\\06-PromptEngineering\\\\Project 2 - RAG\\\\data', 'filename': 'earthq.xlsx', 'last_modified': '2024-11-07T21:28:58', 'page_name': 'earthq', 'page_number': 1, 'text_as_html': '<table><tr><td>PEER Ground Motion Database</td><td>Time Series Search Report -- NGA-West2 -- 2024-03-04</td></tr></table>', 'languages': ['eng'], 'filetype': 'application/vnd.openxmlformats-officedocument.spreadsheetml.sheet', 'category': 'Table', 'element_id': '045bcdeb05b66c364675bc215fcb3bb7'}, page_content='PEER Ground Motion Database Time Series Search Report -- NGA-West2 -- 2024-03-04'),\n",
       " Document(metadata={'source': 'D:\\\\All Python\\\\Pure-Python\\\\P4\\\\06-PromptEngineering\\\\Project 2 - RAG\\\\data\\\\earthq.xlsx', 'file_directory': 'D:\\\\All Python\\\\Pure-Python\\\\P4\\\\06-PromptEngineering\\\\Project 2 - RAG\\\\data', 'filename': 'earthq.xlsx', 'last_modified': '2024-11-07T21:28:58', 'page_name': 'earthq', 'page_number': 1, 'languages': ['eng'], 'filetype': 'application/vnd.openxmlformats-officedocument.spreadsheetml.sheet', 'category': 'Title', 'element_id': '323f6ced78c73deb9f9844d8794cd803'}, page_content=' -- Summary of PEER Ground Motion Database Search Criteria --'),\n",
       " Document(metadata={'source': 'D:\\\\All Python\\\\Pure-Python\\\\P4\\\\06-PromptEngineering\\\\Project 2 - RAG\\\\data\\\\earthq.xlsx', 'file_directory': 'D:\\\\All Python\\\\Pure-Python\\\\P4\\\\06-PromptEngineering\\\\Project 2 - RAG\\\\data', 'filename': 'earthq.xlsx', 'last_modified': '2024-11-07T21:28:58', 'page_name': 'earthq', 'page_number': 1, 'text_as_html': '<table><tr><td>Magnitude Min:</td><td>6.24</td></tr><tr><td>Magnitude Max:</td><td>7.68</td></tr><tr><td>Rrup Min (km):</td><td>-0.000001</td></tr><tr><td>Rrup Max (km):</td><td>99999</td></tr><tr><td>Rjb Min (km):</td><td>-0.000001</td></tr><tr><td>Rjb Max (km):</td><td>99999</td></tr><tr><td>Vs30 Min (m/sec):</td><td>-0.000001</td></tr><tr><td>Vs30 Max (m/sec):</td><td>99999</td></tr><tr><td>D9-95 Min (sec):</td><td>-0.000001</td></tr><tr><td>D9-95 Max (sec):</td><td>99999</td></tr><tr><td>Scale Factor Min:</td><td>-0.000001</td></tr><tr><td>Scale Factor Max:</td><td>99999</td></tr><tr><td>Period Array:</td><td/></tr><tr><td>Weight Array:</td><td/></tr><tr><td>Record Sequence Number:</td><td/></tr><tr><td>Earthquake Name:</td><td/></tr><tr><td>Station Name:</td><td/></tr><tr><td>User-Defined Maximum Number of Records:</td><td/></tr><tr><td>Pulse:</td><td>1</td></tr><tr><td>Damping Ratio:</td><td>0.05</td></tr><tr><td>Scaling Method:</td><td>No Scaling</td></tr><tr><td>Suite Average:</td><td>Arithmetic</td></tr><tr><td>Single-Period-Scaling Period (sec):</td><td/></tr><tr><td>Component:</td><td>SRSS</td></tr><tr><td>Fault Type:</td><td>All Types</td></tr></table>', 'languages': ['eng'], 'filetype': 'application/vnd.openxmlformats-officedocument.spreadsheetml.sheet', 'parent_id': '323f6ced78c73deb9f9844d8794cd803', 'category': 'Table', 'element_id': '39f024ff0a2ea7f9a70a3f95182b63db'}, page_content='Magnitude Min: 6.24 Magnitude Max: 7.68 Rrup Min (km): -0.000001 Rrup Max (km): 99999 Rjb Min (km): -0.000001 Rjb Max (km): 99999 Vs30 Min (m/sec): -0.000001 Vs30 Max (m/sec): 99999 D9-95 Min (sec): -0.000001 D9-95 Max (sec): 99999 Scale Factor Min: -0.000001 Scale Factor Max: 99999 Period Array: Weight Array: Record Sequence Number: Earthquake Name: Station Name: User-Defined Maximum Number of Records: Pulse: 1 Damping Ratio: 0.05 Scaling Method: No Scaling Suite Average: Arithmetic Single-Period-Scaling Period (sec): Component: SRSS Fault Type: All Types'),\n",
       " Document(metadata={'source': 'D:\\\\All Python\\\\Pure-Python\\\\P4\\\\06-PromptEngineering\\\\Project 2 - RAG\\\\data\\\\earthq.xlsx', 'file_directory': 'D:\\\\All Python\\\\Pure-Python\\\\P4\\\\06-PromptEngineering\\\\Project 2 - RAG\\\\data', 'filename': 'earthq.xlsx', 'last_modified': '2024-11-07T21:28:58', 'page_name': 'earthq', 'page_number': 1, 'languages': ['eng'], 'filetype': 'application/vnd.openxmlformats-officedocument.spreadsheetml.sheet', 'category': 'Title', 'element_id': 'e08c63045927bbdaf1cbbeb9054db4b1'}, page_content=' -- Summary of Metadata of Selected Records --'),\n",
       " Document(metadata={'source': 'D:\\\\All Python\\\\Pure-Python\\\\P4\\\\06-PromptEngineering\\\\Project 2 - RAG\\\\data\\\\earthq.xlsx', 'file_directory': 'D:\\\\All Python\\\\Pure-Python\\\\P4\\\\06-PromptEngineering\\\\Project 2 - RAG\\\\data', 'filename': 'earthq.xlsx', 'last_modified': '2024-11-07T21:28:58', 'page_name': 'earthq', 'page_number': 1, 'text_as_html': '<table><tr><td>Result ID</td><td>Spectral Ordinate</td><td>Record Sequence Number</td><td>Mean Squared Error</td><td>Scale Factor</td><td>Tp-Pulse Period (sec)</td><td>5-75% Duration (sec)</td><td>5-95% Duration (sec)</td><td>Arias Intensity (m/sec)</td><td>Earthquake Name</td><td>Year</td><td>Station Name</td><td>Magnitude</td><td>Mechanism</td><td>Rjb (km)</td><td>Rrup (km)</td><td>Vs30 (m/sec)</td><td>Lowest Useable Frequency (Hz)</td><td>Initial-search Scale Factor</td><td>Horizontal-1 Acc. Filename</td><td>Horizontal-2 Acc. Filename</td><td>Vertical Acc. Filename</td></tr><tr><td>1</td><td>SRSS</td><td>6</td><td>-</td><td>1</td><td>-</td><td>17.7</td><td>24.2</td><td>1.6</td><td>\"Imperial Valley-02\"</td><td>1940</td><td>\"El Centro Array #9\"</td><td>6.95</td><td>strike slip</td><td>6.09</td><td>6.09</td><td>213.44</td><td>0.25</td><td>1</td><td>RSN6_IMPVALL.I_I-ELC180.AT2</td><td>RSN6_IMPVALL.I_I-ELC270.AT2</td><td>RSN6_IMPVALL.I_I-ELC-UP.AT2</td></tr><tr><td>2</td><td>SRSS</td><td>7</td><td>-</td><td>1</td><td>-</td><td>9</td><td>22.2</td><td>0</td><td>\"Northwest Calif-02\"</td><td>1941</td><td>\"Ferndale City Hall\"</td><td>6.6</td><td>strike slip</td><td>91.15</td><td>91.22</td><td>219.31</td><td>0.1625</td><td>1</td><td>RSN7_NWCALIF.C_C-FRN045.AT2</td><td>RSN7_NWCALIF.C_C-FRN135.AT2</td><td>RSN7_NWCALIF.C_C-FRN-UP.AT2</td></tr><tr><td>3</td><td>SRSS</td><td>8</td><td>-</td><td>1</td><td>-</td><td>4.8</td><td>15.5</td><td>0.1</td><td>\"Northern Calif-01\"</td><td>1941</td><td>\"Ferndale City Hall\"</td><td>6.4</td><td>strike slip</td><td>44.52</td><td>44.68</td><td>219.31</td><td>0.375</td><td>1</td><td>RSN8_NCALIF.FH_F-FRN225.AT2</td><td>RSN8_NCALIF.FH_F-FRN315.AT2</td><td>RSN8_NCALIF.FH_F-FRN-UP.AT2</td></tr><tr><td>4</td><td>SRSS</td><td>9</td><td>-</td><td>1</td><td>-</td><td>21.5</td><td>37.2</td><td>0.1</td><td>\"Borrego\"</td><td>1942</td><td>\"El Centro Array #9\"</td><td>6.5</td><td>strike slip</td><td>56.88</td><td>56.88</td><td>213.44</td><td>0.125</td><td>1</td><td>RSN9_BORREGO_B-ELC000.AT2</td><td>RSN9_BORREGO_B-ELC090.AT2</td><td>RSN9_BORREGO_B-ELC-UP.AT2</td></tr><tr><td>5</td><td>SRSS</td><td>12</td><td>-</td><td>1</td><td>-</td><td>18.6</td><td>33.5</td><td>0.1</td><td>\"Kern County\"</td><td>1952</td><td>\"LA - Hollywood Stor FF\"</td><td>7.36</td><td>Reverse</td><td>114.62</td><td>117.75</td><td>316.46</td><td>0.125</td><td>1</td><td>RSN12_KERN.PEL_PEL090.AT2</td><td>RSN12_KERN.PEL_PEL180.AT2</td><td>RSN12_KERN.PEL_PEL-UP.AT2</td></tr><tr><td>6</td><td>SRSS</td><td>13</td><td>-</td><td>1</td><td>-</td><td>16.6</td><td>29.5</td><td>0.1</td><td>\"Kern County\"</td><td>1952</td><td>\"Pasadena - CIT Athenaeum\"</td><td>7.36</td><td>Reverse</td><td>122.65</td><td>125.59</td><td>415.13</td><td>0.25</td><td>1</td><td>RSN13_KERN_PAS180.AT2</td><td>RSN13_KERN_PAS270.AT2</td><td>RSN13_KERN_PAS-UP.AT2</td></tr><tr><td>7</td><td>SRSS</td><td>14</td><td>-</td><td>1</td><td>-</td><td>12.4</td><td>33.6</td><td>0.3</td><td>\"Kern County\"</td><td>1952</td><td>\"Santa Barbara Courthouse\"</td><td>7.36</td><td>Reverse</td><td>81.3</td><td>82.19</td><td>514.99</td><td>0.375</td><td>1</td><td>RSN14_KERN_SBA042.AT2</td><td>RSN14_KERN_SBA132.AT2</td><td>RSN14_KERN_SBA-UP.AT2</td></tr><tr><td>8</td><td>SRSS</td><td>15</td><td>-</td><td>1</td><td>-</td><td>10.7</td><td>30.3</td><td>0.6</td><td>\"Kern County\"</td><td>1952</td><td>\"Taft Lincoln School\"</td><td>7.36</td><td>Reverse</td><td>38.42</td><td>38.89</td><td>385.43</td><td>0.125</td><td>1</td><td>RSN15_KERN_TAF021.AT2</td><td>RSN15_KERN_TAF111.AT2</td><td>RSN15_KERN_TAF-UP.AT2</td></tr><tr><td>9</td><td>SRSS</td><td>20</td><td>-</td><td>1</td><td>-</td><td>6.8</td><td>19.4</td><td>0.5</td><td>\"Northern Calif-03\"</td><td>1954</td><td>\"Ferndale City Hall\"</td><td>6.5</td><td>strike slip</td><td>26.72</td><td>27.02</td><td>219.31</td><td>0.125</td><td>1</td><td>RSN20_NCALIF.FH_H-FRN044.AT2</td><td>RSN20_NCALIF.FH_H-FRN314.AT2</td><td>RSN20_NCALIF.FH_H-FRN-UP.AT2</td></tr><tr><td>10</td><td>SRSS</td><td>22</td><td>-</td><td>1</td><td>-</td><td>23</td><td>40.9</td><td>0.1</td><td>\"El Alamo\"</td><td>1956</td><td>\"El Centro Array #9\"</td><td>6.8</td><td>strike slip</td><td>121</td><td>121.7</td><td>213.44</td><td>0.2875</td><td>1</td><td>RSN22_ELALAMO_ELC180.AT2</td><td>RSN22_ELALAMO_ELC270.AT2</td><td>RSN22_ELALAMO_ELC-UP.AT2</td></tr><tr><td>11</td><td>SRSS</td><td>36</td><td>-</td><td>1</td><td>-</td><td>25</td><td>49.3</td><td>0.2</td><td>\"Borrego Mtn\"</td><td>1968</td><td>\"El Centro Array #9\"</td><td>6.63</td><td>strike slip</td><td>45.12</td><td>45.66</td><td>213.44</td><td>0.1</td><td>1</td><td>RSN36_BORREGO_A-ELC180.AT2</td><td>RSN36_BORREGO_A-ELC270.AT2</td><td>RSN36_BORREGO_A-ELC-UP.AT2</td></tr><tr><td>12</td><td>SRSS</td><td>37</td><td>-</td><td>1</td><td>-</td><td>17.9</td><td>26.3</td><td>0</td><td>\"Borrego Mtn\"</td><td>1968</td><td>\"LA - Hollywood Stor FF\"</td><td>6.63</td><td>strike slip</td><td>222.42</td><td>222.42</td><td>316.46</td><td>0.1625</td><td>1</td><td>RSN37_BORREGO_A-PEL090.AT2</td><td>RSN37_BORREGO_A-PEL180.AT2</td><td>RSN37_BORREGO_A-PEL-UP.AT2</td></tr><tr><td>13</td><td>SRSS</td><td>38</td><td>-</td><td>1</td><td>-</td><td>31.9</td><td>37.9</td><td>0</td><td>\"Borrego Mtn\"</td><td>1968</td><td>\"LB - Terminal Island\"</td><td>6.63</td><td>strike slip</td><td>199.84</td><td>199.84</td><td>217.92</td><td>0.25</td><td>1</td><td>RSN38_BORREGO_A-TLI249.AT2</td><td>RSN38_BORREGO_A-TLI339.AT2</td><td>RSN38_BORREGO_A-TLI-UP.AT2</td></tr><tr><td>14</td><td>SRSS</td><td>39</td><td>-</td><td>1</td><td>-</td><td>25</td><td>37.4</td><td>0</td><td>\"Borrego Mtn\"</td><td>1968</td><td>\"Pasadena - CIT Athenaeum\"</td><td>6.63</td><td>strike slip</td><td>207.14</td><td>207.14</td><td>415.13</td><td>0.1625</td><td>1</td><td>RSN39_BORREGO_A-PAS180.AT2</td><td>RSN39_BORREGO_A-PAS270.AT2</td><td>RSN39_BORREGO_A-PAS-UP.AT2</td></tr><tr><td>15</td><td>SRSS</td><td>40</td><td>-</td><td>1</td><td>-</td><td>19.3</td><td>28</td><td>0</td><td>\"Borrego Mtn\"</td><td>1968</td><td>\"San Onofre - So Cal Edison\"</td><td>6.63</td><td>strike slip</td><td>129.11</td><td>129.11</td><td>442.88</td><td>0.1625</td><td>1</td><td>RSN40_BORREGO_A-SON033.AT2</td><td>RSN40_BORREGO_A-SON303.AT2</td><td>RSN40_BORREGO_A-SON-UP.AT2</td></tr><tr><td>16</td><td>SRSS</td><td>51</td><td>-</td><td>1</td><td>-</td><td>27.6</td><td>54.2</td><td>0</td><td>\"San Fernando\"</td><td>1971</td><td>\"2516 Via Tejon PV\"</td><td>6.61</td><td>Reverse</td><td>55.2</td><td>55.2</td><td>280.56</td><td>0.25</td><td>1</td><td>RSN51_SFERN_PVE065.AT2</td><td>RSN51_SFERN_PVE155.AT2</td><td>RSN51_SFERN_PVEDWN.AT2</td></tr><tr><td>17</td><td>SRSS</td><td>52</td><td>-</td><td>1</td><td>-</td><td>8.1</td><td>15.4</td><td>0</td><td>\"San Fernando\"</td><td>1971</td><td>\"Anza Post Office\"</td><td>6.61</td><td>Reverse</td><td>173.16</td><td>173.16</td><td>360.45</td><td>0.625</td><td>1</td><td>RSN52_SFERN_AZP045.AT2</td><td>RSN52_SFERN_AZP315.AT2</td><td>RSN52_SFERN_AZPDWN.AT2</td></tr><tr><td>18</td><td>SRSS</td><td>53</td><td>-</td><td>1</td><td>-</td><td>24.1</td><td>35.3</td><td>0</td><td>\"San Fernando\"</td><td>1971</td><td>\"Bakersfield - Harvey Aud\"</td><td>6.61</td><td>Reverse</td><td>111.88</td><td>113.02</td><td>241.41</td><td>0.125</td><td>1</td><td>RSN53_SFERN_BFA180.AT2</td><td>RSN53_SFERN_BFA270.AT2</td><td>RSN53_SFERN_BFA-UP.AT2</td></tr><tr><td>19</td><td>SRSS</td><td>54</td><td>-</td><td>1</td><td>-</td><td>13.6</td><td>22</td><td>0</td><td>\"San Fernando\"</td><td>1971</td><td>\"Borrego Springs Fire Sta\"</td><td>6.61</td><td>Reverse</td><td>214.32</td><td>214.32</td><td>338.54</td><td>0.125</td><td>1</td><td>RSN54_SFERN_BSF135.AT2</td><td>RSN54_SFERN_BSF225.AT2</td><td>RSN54_SFERN_BSFDWN.AT2</td></tr><tr><td>20</td><td>SRSS</td><td>55</td><td>-</td><td>1</td><td>-</td><td>13.6</td><td>21.6</td><td>0</td><td>\"San Fernando\"</td><td>1971</td><td>\"Buena Vista - Taft\"</td><td>6.61</td><td>Reverse</td><td>111.37</td><td>112.52</td><td>385.69</td><td>0.125</td><td>1</td><td>RSN55_SFERN_BVP090.AT2</td><td>RSN55_SFERN_BVP180.AT2</td><td>RSN55_SFERN_BVPDWN.AT2</td></tr><tr><td>21</td><td>SRSS</td><td>56</td><td>-</td><td>1</td><td>-</td><td>9</td><td>18.9</td><td>0.1</td><td>\"San Fernando\"</td><td>1971</td><td>\"Carbon Canyon Dam\"</td><td>6.61</td><td>Reverse</td><td>61.79</td><td>61.79</td><td>235</td><td>0.625</td><td>1</td><td>RSN56_SFERN_CND130.AT2</td><td>RSN56_SFERN_CND220.AT2</td><td>RSN56_SFERN_CNDDWN.AT2</td></tr><tr><td>22</td><td>SRSS</td><td>57</td><td>-</td><td>1</td><td>-</td><td>10.6</td><td>16.8</td><td>1</td><td>\"San Fernando\"</td><td>1971</td><td>\"Castaic - Old Ridge Route\"</td><td>6.61</td><td>Reverse</td><td>19.33</td><td>22.63</td><td>450.28</td><td>0.375</td><td>1</td><td>RSN57_SFERN_ORR021.AT2</td><td>RSN57_SFERN_ORR291.AT2</td><td>RSN57_SFERN_ORRDWN.AT2</td></tr><tr><td>23</td><td>SRSS</td><td>58</td><td>-</td><td>1</td><td>-</td><td>4.6</td><td>10.2</td><td>0</td><td>\"San Fernando\"</td><td>1971</td><td>\"Cedar Springs Pumphouse\"</td><td>6.61</td><td>Reverse</td><td>92.25</td><td>92.59</td><td>477.22</td><td>0.125</td><td>1</td><td>RSN58_SFERN_CSP126.AT2</td><td>RSN58_SFERN_CSP216.AT2</td><td>RSN58_SFERN_CSPDWN.AT2</td></tr><tr><td>24</td><td>SRSS</td><td>59</td><td>-</td><td>1</td><td>-</td><td>5.8</td><td>10.4</td><td>0</td><td>\"San Fernando\"</td><td>1971</td><td>\"Cedar Springs_ Allen Ranch\"</td><td>6.61</td><td>Reverse</td><td>89.37</td><td>89.72</td><td>813.48</td><td>0.375</td><td>1</td><td>RSN59_SFERN_CSM095.AT2</td><td>RSN59_SFERN_CSM185.AT2</td><td>RSN59_SFERN_CSMDWN.AT2</td></tr><tr><td>25</td><td>SRSS</td><td>60</td><td>-</td><td>1</td><td>-</td><td>17.9</td><td>25.5</td><td>0</td><td>\"San Fernando\"</td><td>1971</td><td>\"Cholame - Shandon Array #2\"</td><td>6.61</td><td>Reverse</td><td>217.54</td><td>218.13</td><td>184.75</td><td>0.125</td><td>1</td><td>RSN60_SFERN_C02051.AT2</td><td>RSN60_SFERN_C02321.AT2</td><td>RSN60_SFERN_C02DWN.AT2</td></tr><tr><td>26</td><td>SRSS</td><td>61</td><td>-</td><td>1</td><td>-</td><td>16.9</td><td>23.7</td><td>0</td><td>\"San Fernando\"</td><td>1971</td><td>\"Cholame - Shandon Array #8\"</td><td>6.61</td><td>Reverse</td><td>218.17</td><td>218.75</td><td>256.82</td><td>0.125</td><td>1</td><td>RSN61_SFERN_C08051.AT2</td><td>RSN61_SFERN_C08321.AT2</td><td>-----</td></tr><tr><td>27</td><td>SRSS</td><td>62</td><td>-</td><td>1</td><td>-</td><td>5.1</td><td>7.3</td><td>0</td><td>\"San Fernando\"</td><td>1971</td><td>\"Colton - So Cal Edison\"</td><td>6.61</td><td>Reverse</td><td>96.81</td><td>96.81</td><td>301.95</td><td>0.125</td><td>1</td><td>RSN62_SFERN_CLN090.AT2</td><td>RSN62_SFERN_CLN180.AT2</td><td>RSN62_SFERN_CLN-UP.AT2</td></tr><tr><td>28</td><td>SRSS</td><td>63</td><td>-</td><td>1</td><td>-</td><td>3.6</td><td>14.4</td><td>0.1</td><td>\"San Fernando\"</td><td>1971</td><td>\"Fairmont Dam\"</td><td>6.61</td><td>Reverse</td><td>25.58</td><td>30.19</td><td>634.33</td><td>0.1875</td><td>1</td><td>RSN63_SFERN_FTR056.AT2</td><td>RSN63_SFERN_FTR326.AT2</td><td>RSN63_SFERN_FTR-UP.AT2</td></tr><tr><td>29</td><td>SRSS</td><td>64</td><td>-</td><td>1</td><td>-</td><td>5</td><td>8.3</td><td>0</td><td>\"San Fernando\"</td><td>1971</td><td>\"Fort Tejon\"</td><td>6.61</td><td>Reverse</td><td>59.52</td><td>61.64</td><td>394.18</td><td>0.125</td><td>1</td><td>RSN64_SFERN_FTJ000.AT2</td><td>RSN64_SFERN_FTJ090.AT2</td><td>RSN64_SFERN_FTJ-UP.AT2</td></tr><tr><td>30</td><td>SRSS</td><td>65</td><td>-</td><td>1</td><td>-</td><td>4.1</td><td>7.2</td><td>0.1</td><td>\"San Fernando\"</td><td>1971</td><td>\"Gormon - Oso Pump Plant\"</td><td>6.61</td><td>Reverse</td><td>43.95</td><td>46.78</td><td>308.35</td><td>0.125</td><td>1</td><td>RSN65_SFERN_OPP000.AT2</td><td>RSN65_SFERN_OPP270.AT2</td><td>RSN65_SFERN_OPP-UP.AT2</td></tr><tr><td>31</td><td>SRSS</td><td>66</td><td>-</td><td>1</td><td>-</td><td>9.4</td><td>23.9</td><td>0</td><td>\"San Fernando\"</td><td>1971</td><td>\"Hemet Fire Station\"</td><td>6.61</td><td>Reverse</td><td>139.14</td><td>139.14</td><td>328.09</td><td>0.5</td><td>1</td><td>RSN66_SFERN_H05135.AT2</td><td>RSN66_SFERN_H05225.AT2</td><td>RSN66_SFERN_H05DWN.AT2</td></tr><tr><td>32</td><td>SRSS</td><td>67</td><td>-</td><td>1</td><td>-</td><td>20.2</td><td>26.5</td><td>0</td><td>\"San Fernando\"</td><td>1971</td><td>\"Isabella Dam (Aux Abut)\"</td><td>6.61</td><td>Reverse</td><td>130</td><td>130.98</td><td>591</td><td>0.125</td><td>1</td><td>RSN67_SFERN_ISD014.AT2</td><td>RSN67_SFERN_ISD284.AT2</td><td>RSN67_SFERN_ISDDWN.AT2</td></tr><tr><td>33</td><td>SRSS</td><td>68</td><td>-</td><td>1</td><td>-</td><td>5.2</td><td>13.4</td><td>0.7</td><td>\"San Fernando\"</td><td>1971</td><td>\"LA - Hollywood Stor FF\"</td><td>6.61</td><td>Reverse</td><td>22.77</td><td>22.77</td><td>316.46</td><td>0.1</td><td>1</td><td>RSN68_SFERN_PEL090.AT2</td><td>RSN68_SFERN_PEL180.AT2</td><td>RSN68_SFERN_PEL-UP.AT2</td></tr><tr><td>34</td><td>SRSS</td><td>69</td><td>-</td><td>1</td><td>-</td><td>41.5</td><td>52.4</td><td>0.1</td><td>\"San Fernando\"</td><td>1971</td><td>\"LB - Terminal Island\"</td><td>6.61</td><td>Reverse</td><td>58.99</td><td>58.99</td><td>217.92</td><td>0.125</td><td>1</td><td>RSN69_SFERN_TLI249.AT2</td><td>RSN69_SFERN_TLI339.AT2</td><td>RSN69_SFERN_TLI-UP.AT2</td></tr><tr><td>35</td><td>SRSS</td><td>70</td><td>-</td><td>1</td><td>-</td><td>8</td><td>18.4</td><td>0.3</td><td>\"San Fernando\"</td><td>1971</td><td>\"Lake Hughes #1\"</td><td>6.61</td><td>Reverse</td><td>22.23</td><td>27.4</td><td>425.34</td><td>0.15</td><td>1</td><td>RSN70_SFERN_L01021.AT2</td><td>RSN70_SFERN_L01111.AT2</td><td>RSN70_SFERN_L01DWN.AT2</td></tr><tr><td>36</td><td>SRSS</td><td>71</td><td>-</td><td>1</td><td>-</td><td>2.8</td><td>12</td><td>0.9</td><td>\"San Fernando\"</td><td>1971</td><td>\"Lake Hughes #12\"</td><td>6.61</td><td>Reverse</td><td>13.99</td><td>19.3</td><td>602.1</td><td>0.25</td><td>1</td><td>RSN71_SFERN_L12021.AT2</td><td>RSN71_SFERN_L12291.AT2</td><td>RSN71_SFERN_L12DWN.AT2</td></tr><tr><td>37</td><td>SRSS</td><td>72</td><td>-</td><td>1</td><td>-</td><td>4.2</td><td>13</td><td>0.3</td><td>\"San Fernando\"</td><td>1971</td><td>\"Lake Hughes #4\"</td><td>6.61</td><td>Reverse</td><td>19.45</td><td>25.07</td><td>600.06</td><td>0.25</td><td>1</td><td>RSN72_SFERN_L04111.AT2</td><td>RSN72_SFERN_L04201.AT2</td><td>RSN72_SFERN_L04DWN.AT2</td></tr><tr><td>38</td><td>SRSS</td><td>73</td><td>-</td><td>1</td><td>-</td><td>3</td><td>11.8</td><td>0.2</td><td>\"San Fernando\"</td><td>1971</td><td>\"Lake Hughes #9\"</td><td>6.61</td><td>Reverse</td><td>17.22</td><td>22.57</td><td>670.84</td><td>0.625</td><td>1</td><td>RSN73_SFERN_L09021.AT2</td><td>RSN73_SFERN_L09291.AT2</td><td>RSN73_SFERN_L09DWN.AT2</td></tr><tr><td>39</td><td>SRSS</td><td>74</td><td>-</td><td>1</td><td>-</td><td>18.2</td><td>29.6</td><td>0</td><td>\"San Fernando\"</td><td>1971</td><td>\"Maricopa Array #1\"</td><td>6.61</td><td>Reverse</td><td>193.25</td><td>193.91</td><td>303.79</td><td>0.125</td><td>1</td><td>RSN74_SFERN_MA1130.AT2</td><td>RSN74_SFERN_MA1220.AT2</td><td>RSN74_SFERN_MA1DWN.AT2</td></tr><tr><td>40</td><td>SRSS</td><td>75</td><td>-</td><td>1</td><td>-</td><td>14.3</td><td>22.4</td><td>0</td><td>\"San Fernando\"</td><td>1971</td><td>\"Maricopa Array #2\"</td><td>6.61</td><td>Reverse</td><td>108.56</td><td>109.73</td><td>443.85</td><td>0.25</td><td>1</td><td>RSN75_SFERN_MA2130.AT2</td><td>RSN75_SFERN_MA2220.AT2</td><td>RSN75_SFERN_MA2DWN.AT2</td></tr><tr><td>41</td><td>SRSS</td><td>76</td><td>-</td><td>1</td><td>-</td><td>16.6</td><td>23.4</td><td>0</td><td>\"San Fernando\"</td><td>1971</td><td>\"Maricopa Array #3\"</td><td>6.61</td><td>Reverse</td><td>109.01</td><td>110.18</td><td>441.25</td><td>0.25</td><td>1</td><td>RSN76_SFERN_MA3130.AT2</td><td>RSN76_SFERN_MA3220.AT2</td><td>RSN76_SFERN_MA3DWN.AT2</td></tr><tr><td>42</td><td>SRSS</td><td>77</td><td>-</td><td>1</td><td>1.638</td><td>5.8</td><td>7.3</td><td>8.9</td><td>\"San Fernando\"</td><td>1971</td><td>\"Pacoima Dam (upper left abut)\"</td><td>6.61</td><td>Reverse</td><td>0</td><td>1.81</td><td>2016.13</td><td>0.0875</td><td>1</td><td>RSN77_SFERN_PUL164.AT2</td><td>RSN77_SFERN_PUL254.AT2</td><td>RSN77_SFERN_PULDWN.AT2</td></tr><tr><td>43</td><td>SRSS</td><td>78</td><td>-</td><td>1</td><td>-</td><td>10</td><td>18.9</td><td>0.3</td><td>\"San Fernando\"</td><td>1971</td><td>\"Palmdale Fire Station\"</td><td>6.61</td><td>Reverse</td><td>24.16</td><td>28.99</td><td>452.86</td><td>0.1875</td><td>1</td><td>RSN78_SFERN_PDL120.AT2</td><td>RSN78_SFERN_PDL210.AT2</td><td>-----</td></tr><tr><td>44</td><td>SRSS</td><td>79</td><td>-</td><td>1</td><td>-</td><td>6.7</td><td>14.5</td><td>0.2</td><td>\"San Fernando\"</td><td>1971</td><td>\"Pasadena - CIT Athenaeum\"</td><td>6.61</td><td>Reverse</td><td>25.47</td><td>25.47</td><td>415.13</td><td>0.375</td><td>1</td><td>RSN79_SFERN_PAS000.AT2</td><td>RSN79_SFERN_PAS090.AT2</td><td>RSN79_SFERN_PASDWN.AT2</td></tr><tr><td>45</td><td>SRSS</td><td>80</td><td>-</td><td>1</td><td>-</td><td>5.7</td><td>14.1</td><td>0.3</td><td>\"San Fernando\"</td><td>1971</td><td>\"Pasadena - Old Seismo Lab\"</td><td>6.61</td><td>Reverse</td><td>21.5</td><td>21.5</td><td>969.07</td><td>0.625</td><td>1</td><td>RSN80_SFERN_PSL180.AT2</td><td>RSN80_SFERN_PSL270.AT2</td><td>RSN80_SFERN_PSLDWN.AT2</td></tr><tr><td>46</td><td>SRSS</td><td>81</td><td>-</td><td>1</td><td>-</td><td>7.1</td><td>13.7</td><td>0.2</td><td>\"San Fernando\"</td><td>1971</td><td>\"Pearblossom Pump\"</td><td>6.61</td><td>Reverse</td><td>35.54</td><td>38.97</td><td>529.09</td><td>0.25</td><td>1</td><td>RSN81_SFERN_PPP000.AT2</td><td>RSN81_SFERN_PPP270.AT2</td><td>RSN81_SFERN_PPPDWN.AT2</td></tr><tr><td>47</td><td>SRSS</td><td>82</td><td>-</td><td>1</td><td>-</td><td>38.5</td><td>49.2</td><td>0</td><td>\"San Fernando\"</td><td>1971</td><td>\"Port Hueneme\"</td><td>6.61</td><td>Reverse</td><td>68.84</td><td>68.84</td><td>248.98</td><td>0.0625</td><td>1</td><td>RSN82_SFERN_PHN180.AT2</td><td>RSN82_SFERN_PHN270.AT2</td><td>RSN82_SFERN_PHN-UP.AT2</td></tr><tr><td>48</td><td>SRSS</td><td>83</td><td>-</td><td>1</td><td>-</td><td>6.4</td><td>14.3</td><td>0</td><td>\"San Fernando\"</td><td>1971</td><td>\"Puddingstone Dam (Abutment)\"</td><td>6.61</td><td>Reverse</td><td>52.64</td><td>52.64</td><td>421.44</td><td>0.25</td><td>1</td><td>RSN83_SFERN_PUD055.AT2</td><td>RSN83_SFERN_PUD325.AT2</td><td>RSN83_SFERN_PUDDWN.AT2</td></tr><tr><td>49</td><td>SRSS</td><td>84</td><td>-</td><td>1</td><td>-</td><td>15.3</td><td>24.2</td><td>0</td><td>\"San Fernando\"</td><td>1971</td><td>\"San Diego Gas &amp; Electric\"</td><td>6.61</td><td>Reverse</td><td>205.77</td><td>205.77</td><td>354.06</td><td>0.125</td><td>1</td><td>RSN84_SFERN_SDC000.AT2</td><td>RSN84_SFERN_SDC090.AT2</td><td>RSN84_SFERN_SDCDWN.AT2</td></tr><tr><td>50</td><td>SRSS</td><td>85</td><td>-</td><td>1</td><td>-</td><td>17.5</td><td>48.2</td><td>0</td><td>\"San Fernando\"</td><td>1971</td><td>\"San Juan Capistrano\"</td><td>6.61</td><td>Reverse</td><td>108.01</td><td>108.01</td><td>459.37</td><td>0.25</td><td>1</td><td>RSN85_SFERN_SJC033.AT2</td><td>RSN85_SFERN_SJC303.AT2</td><td>RSN85_SFERN_SJCDWN.AT2</td></tr><tr><td>51</td><td>SRSS</td><td>86</td><td>-</td><td>1</td><td>-</td><td>15.8</td><td>35.5</td><td>0</td><td>\"San Fernando\"</td><td>1971</td><td>\"San Onofre - So Cal Edison\"</td><td>6.61</td><td>Reverse</td><td>124.79</td><td>124.79</td><td>442.88</td><td>0.25</td><td>1</td><td>RSN86_SFERN_SON033.AT2</td><td>RSN86_SFERN_SON303.AT2</td><td>RSN86_SFERN_SONDWN.AT2</td></tr><tr><td>52</td><td>SRSS</td><td>87</td><td>-</td><td>1</td><td>-</td><td>6.4</td><td>11.3</td><td>0.3</td><td>\"San Fernando\"</td><td>1971</td><td>\"Santa Anita Dam\"</td><td>6.61</td><td>Reverse</td><td>30.7</td><td>30.7</td><td>667.13</td><td>0.375</td><td>1</td><td>RSN87_SFERN_SAD003.AT2</td><td>RSN87_SFERN_SAD273.AT2</td><td>RSN87_SFERN_SADDWN.AT2</td></tr><tr><td>53</td><td>SRSS</td><td>88</td><td>-</td><td>1</td><td>-</td><td>7.4</td><td>23.6</td><td>0.2</td><td>\"San Fernando\"</td><td>1971</td><td>\"Santa Felita Dam (Outlet)\"</td><td>6.61</td><td>Reverse</td><td>24.69</td><td>24.87</td><td>389</td><td>0.125</td><td>1</td><td>RSN88_SFERN_FSD172.AT2</td><td>RSN88_SFERN_FSD262.AT2</td><td>RSN88_SFERN_FSD-UP.AT2</td></tr><tr><td>54</td><td>SRSS</td><td>89</td><td>-</td><td>1</td><td>-</td><td>3.7</td><td>9.5</td><td>0</td><td>\"San Fernando\"</td><td>1971</td><td>\"Tehachapi Pump\"</td><td>6.61</td><td>Reverse</td><td>61.75</td><td>63.79</td><td>669.48</td><td>0.25</td><td>1</td><td>RSN89_SFERN_TEH090.AT2</td><td>RSN89_SFERN_TEH180.AT2</td><td>RSN89_SFERN_TEHDWN.AT2</td></tr><tr><td>55</td><td>SRSS</td><td>90</td><td>-</td><td>1</td><td>-</td><td>28.5</td><td>49.3</td><td>0</td><td>\"San Fernando\"</td><td>1971</td><td>\"UCSB - Fluid Mech Lab\"</td><td>6.61</td><td>Reverse</td><td>124.38</td><td>124.41</td><td>322.42</td><td>0.25</td><td>1</td><td>RSN90_SFERN_SBF042.AT2</td><td>RSN90_SFERN_SBF132.AT2</td><td>RSN90_SFERN_SBF-UP.AT2</td></tr><tr><td>56</td><td>SRSS</td><td>91</td><td>-</td><td>1</td><td>-</td><td>7.1</td><td>14.3</td><td>0.1</td><td>\"San Fernando\"</td><td>1971</td><td>\"Upland - San Antonio Dam\"</td><td>6.61</td><td>Reverse</td><td>61.72</td><td>61.73</td><td>487.23</td><td>0.375</td><td>1</td><td>RSN91_SFERN_SOD015.AT2</td><td>RSN91_SFERN_SOD285.AT2</td><td>RSN91_SFERN_SODDWN.AT2</td></tr><tr><td>57</td><td>SRSS</td><td>92</td><td>-</td><td>1</td><td>-</td><td>7.2</td><td>17.9</td><td>0</td><td>\"San Fernando\"</td><td>1971</td><td>\"Wheeler Ridge - Ground\"</td><td>6.61</td><td>Reverse</td><td>68.38</td><td>70.23</td><td>347.67</td><td>0.125</td><td>1</td><td>RSN92_SFERN_WRP090.AT2</td><td>RSN92_SFERN_WRP180.AT2</td><td>RSN92_SFERN_WRP-UP.AT2</td></tr><tr><td>58</td><td>SRSS</td><td>93</td><td>-</td><td>1</td><td>-</td><td>7.2</td><td>21.5</td><td>0.2</td><td>\"San Fernando\"</td><td>1971</td><td>\"Whittier Narrows Dam\"</td><td>6.61</td><td>Reverse</td><td>39.45</td><td>39.45</td><td>298.68</td><td>0.125</td><td>1</td><td>RSN93_SFERN_WND143.AT2</td><td>RSN93_SFERN_WND233.AT2</td><td>RSN93_SFERN_WNDDWN.AT2</td></tr><tr><td>59</td><td>SRSS</td><td>94</td><td>-</td><td>1</td><td>-</td><td>7.3</td><td>11.7</td><td>0</td><td>\"San Fernando\"</td><td>1971</td><td>\"Wrightwood - 6074 Park Dr\"</td><td>6.61</td><td>Reverse</td><td>61.64</td><td>62.23</td><td>486</td><td>0.25</td><td>1</td><td>RSN94_SFERN_WTW025.AT2</td><td>RSN94_SFERN_WTW295.AT2</td><td>RSN94_SFERN_WTWDWN.AT2</td></tr><tr><td>60</td><td>SRSS</td><td>95</td><td>-</td><td>1</td><td>-</td><td>4.9</td><td>10.6</td><td>2</td><td>\"Managua_ Nicaragua-01\"</td><td>1972</td><td>\"Managua_ ESSO\"</td><td>6.24</td><td>strike slip</td><td>3.51</td><td>4.06</td><td>288.77</td><td>0.375</td><td>1</td><td>RSN95_MANAGUA_A-ESO090.AT2</td><td>RSN95_MANAGUA_A-ESO180.AT2</td><td>RSN95_MANAGUA_A-ESODWN.AT2</td></tr><tr><td>61</td><td>SRSS</td><td>121</td><td>-</td><td>1</td><td>-</td><td>4.3</td><td>10.4</td><td>0</td><td>\"Friuli_ Italy-01\"</td><td>1976</td><td>\"Barcis\"</td><td>6.5</td><td>Reverse</td><td>49.13</td><td>49.38</td><td>496.46</td><td>0.15</td><td>1</td><td>RSN121_FRIULI.A_A-BCS000.AT2</td><td>RSN121_FRIULI.A_A-BCS270.AT2</td><td>RSN121_FRIULI.A_A-BCS-UP.AT2</td></tr><tr><td>62</td><td>SRSS</td><td>122</td><td>-</td><td>1</td><td>-</td><td>10.5</td><td>19</td><td>0.1</td><td>\"Friuli_ Italy-01\"</td><td>1976</td><td>\"Codroipo\"</td><td>6.5</td><td>Reverse</td><td>33.32</td><td>33.4</td><td>249.28</td><td>0.125</td><td>1</td><td>RSN122_FRIULI.A_A-COD000.AT2</td><td>RSN122_FRIULI.A_A-COD270.AT2</td><td>RSN122_FRIULI.A_A-COD-UP.AT2</td></tr><tr><td>63</td><td>SRSS</td><td>123</td><td>-</td><td>1</td><td>-</td><td>8.4</td><td>19.1</td><td>0.1</td><td>\"Friuli_ Italy-01\"</td><td>1976</td><td>\"Conegliano\"</td><td>6.5</td><td>Reverse</td><td>80.37</td><td>80.41</td><td>352.05</td><td>0.5</td><td>1</td><td>RSN123_FRIULI.A_A-CLV000.AT2</td><td>RSN123_FRIULI.A_A-CLV270.AT2</td><td>RSN123_FRIULI.A_A-CLV-UP.AT2</td></tr><tr><td>64</td><td>SRSS</td><td>124</td><td>-</td><td>1</td><td>-</td><td>5</td><td>12.7</td><td>0</td><td>\"Friuli_ Italy-01\"</td><td>1976</td><td>\"Feltre\"</td><td>6.5</td><td>Reverse</td><td>102.05</td><td>102.15</td><td>356.39</td><td>1.125</td><td>1</td><td>RSN124_FRIULI.A_A-FLT000.AT2</td><td>RSN124_FRIULI.A_A-FLT270.AT2</td><td>RSN124_FRIULI.A_A-FLT-UP.AT2</td></tr><tr><td>65</td><td>SRSS</td><td>125</td><td>-</td><td>1</td><td>-</td><td>2.5</td><td>4.9</td><td>1.2</td><td>\"Friuli_ Italy-01\"</td><td>1976</td><td>\"Tolmezzo\"</td><td>6.5</td><td>Reverse</td><td>14.97</td><td>15.82</td><td>505.23</td><td>0.1625</td><td>1</td><td>RSN125_FRIULI.A_A-TMZ000.AT2</td><td>RSN125_FRIULI.A_A-TMZ270.AT2</td><td>RSN125_FRIULI.A_A-TMZ-UP.AT2</td></tr><tr><td>66</td><td>SRSS</td><td>126</td><td>-</td><td>1</td><td>-</td><td>5.6</td><td>7</td><td>5.7</td><td>\"Gazli_ USSR\"</td><td>1976</td><td>\"Karakyr\"</td><td>6.8</td><td>Reverse</td><td>3.92</td><td>5.46</td><td>259.59</td><td>0.25</td><td>1</td><td>RSN126_GAZLI_GAZ000.AT2</td><td>RSN126_GAZLI_GAZ090.AT2</td><td>RSN126_GAZLI_GAZ-UP.AT2</td></tr><tr><td>67</td><td>SRSS</td><td>137</td><td>-</td><td>1</td><td>-</td><td>21.3</td><td>25.9</td><td>0.1</td><td>\"Tabas_ Iran\"</td><td>1978</td><td>\"Bajestan\"</td><td>7.35</td><td>Reverse</td><td>119.77</td><td>120.81</td><td>377.56</td><td>0.15625</td><td>1</td><td>RSN137_TABAS_BAJ-L1.AT2</td><td>RSN137_TABAS_BAJ-T1.AT2</td><td>RSN137_TABAS_BAJ-V1.AT2</td></tr><tr><td>68</td><td>SRSS</td><td>138</td><td>-</td><td>1</td><td>-</td><td>14.6</td><td>19.5</td><td>0.3</td><td>\"Tabas_ Iran\"</td><td>1978</td><td>\"Boshrooyeh\"</td><td>7.35</td><td>Reverse</td><td>24.07</td><td>28.79</td><td>324.57</td><td>0.15625</td><td>1</td><td>RSN138_TABAS_BOS-L1.AT2</td><td>RSN138_TABAS_BOS-T1.AT2</td><td>RSN138_TABAS_BOS-V1.AT2</td></tr><tr><td>69</td><td>SRSS</td><td>139</td><td>-</td><td>1</td><td>-</td><td>6.7</td><td>11.3</td><td>1.4</td><td>\"Tabas_ Iran\"</td><td>1978</td><td>\"Dayhook\"</td><td>7.35</td><td>Reverse</td><td>0</td><td>13.94</td><td>471.53</td><td>0.25</td><td>1</td><td>RSN139_TABAS_DAY-L1.AT2</td><td>RSN139_TABAS_DAY-T1.AT2</td><td>RSN139_TABAS_DAY-V1.AT2</td></tr><tr><td>70</td><td>SRSS</td><td>140</td><td>-</td><td>1</td><td>-</td><td>20.5</td><td>24.2</td><td>0.2</td><td>\"Tabas_ Iran\"</td><td>1978</td><td>\"Ferdows\"</td><td>7.35</td><td>Reverse</td><td>89.76</td><td>91.14</td><td>302.64</td><td>0.15625</td><td>1</td><td>RSN140_TABAS_FER-L1.AT2</td><td>RSN140_TABAS_FER-T1.AT2</td><td>RSN140_TABAS_FER-V1.AT2</td></tr><tr><td>71</td><td>SRSS</td><td>141</td><td>-</td><td>1</td><td>-</td><td>16.8</td><td>26.4</td><td>0.1</td><td>\"Tabas_ Iran\"</td><td>1978</td><td>\"Kashmar\"</td><td>7.35</td><td>Reverse</td><td>193.91</td><td>194.55</td><td>280.26</td><td>0.15625</td><td>1</td><td>RSN141_TABAS_KSH-L1.AT2</td><td>RSN141_TABAS_KSH-T1.AT2</td><td>RSN141_TABAS_KSH-V1.AT2</td></tr><tr><td>72</td><td>SRSS</td><td>142</td><td>-</td><td>1</td><td>-</td><td>22.7</td><td>30.1</td><td>0</td><td>\"Tabas_ Iran\"</td><td>1978</td><td>\"Sedeh\"</td><td>7.35</td><td>Reverse</td><td>150.33</td><td>151.16</td><td>354.37</td><td>0.15625</td><td>1</td><td>RSN142_TABAS_SED-L1.AT2</td><td>RSN142_TABAS_SED-T1.AT2</td><td>RSN142_TABAS_SED-V1.AT2</td></tr><tr><td>73</td><td>SRSS</td><td>143</td><td>-</td><td>1</td><td>6.188</td><td>8.3</td><td>16.5</td><td>11.8</td><td>\"Tabas_ Iran\"</td><td>1978</td><td>\"Tabas\"</td><td>7.35</td><td>Reverse</td><td>1.79</td><td>2.05</td><td>766.77</td><td>0.125</td><td>1</td><td>RSN143_TABAS_TAB-L1.AT2</td><td>RSN143_TABAS_TAB-T1.AT2</td><td>RSN143_TABAS_TAB-V1.AT2</td></tr><tr><td>74</td><td>SRSS</td><td>158</td><td>-</td><td>1</td><td>-</td><td>6.1</td><td>9.8</td><td>1.2</td><td>\"Imperial Valley-06\"</td><td>1979</td><td>\"Aeropuerto Mexicali\"</td><td>6.53</td><td>strike slip</td><td>0</td><td>0.34</td><td>259.86</td><td>0.2875</td><td>1</td><td>RSN158_IMPVALL.H_H-AEP045.AT2</td><td>RSN158_IMPVALL.H_H-AEP315.AT2</td><td>RSN158_IMPVALL.H_H-AEP-UP.AT2</td></tr><tr><td>75</td><td>SRSS</td><td>159</td><td>-</td><td>1</td><td>2.338</td><td>6.7</td><td>13.3</td><td>1</td><td>\"Imperial Valley-06\"</td><td>1979</td><td>\"Agrarias\"</td><td>6.53</td><td>strike slip</td><td>0</td><td>0.65</td><td>242.05</td><td>0.1625</td><td>1</td><td>RSN159_IMPVALL.H_H-AGR003.AT2</td><td>RSN159_IMPVALL.H_H-AGR273.AT2</td><td>RSN159_IMPVALL.H_H-AGRDWN.AT2</td></tr><tr><td>76</td><td>SRSS</td><td>160</td><td>-</td><td>1</td><td>-</td><td>6.1</td><td>9.7</td><td>6.1</td><td>\"Imperial Valley-06\"</td><td>1979</td><td>\"Bonds Corner\"</td><td>6.53</td><td>strike slip</td><td>0.44</td><td>2.66</td><td>223.03</td><td>0.125</td><td>1</td><td>RSN160_IMPVALL.H_H-BCR140.AT2</td><td>RSN160_IMPVALL.H_H-BCR230.AT2</td><td>RSN160_IMPVALL.H_H-BCR-UP.AT2</td></tr><tr><td>77</td><td>SRSS</td><td>161</td><td>-</td><td>1</td><td>4.396</td><td>5.3</td><td>14.9</td><td>0.4</td><td>\"Imperial Valley-06\"</td><td>1979</td><td>\"Brawley Airport\"</td><td>6.53</td><td>strike slip</td><td>8.54</td><td>10.42</td><td>208.71</td><td>0.05375</td><td>1</td><td>RSN161_IMPVALL.H_H-BRA225.AT2</td><td>RSN161_IMPVALL.H_H-BRA315.AT2</td><td>RSN161_IMPVALL.H_H-BRA-UP.AT2</td></tr><tr><td>78</td><td>SRSS</td><td>162</td><td>-</td><td>1</td><td>-</td><td>7.2</td><td>14.8</td><td>0.9</td><td>\"Imperial Valley-06\"</td><td>1979</td><td>\"Calexico Fire Station\"</td><td>6.53</td><td>strike slip</td><td>10.45</td><td>10.45</td><td>231.23</td><td>0.05</td><td>1</td><td>RSN162_IMPVALL.H_H-CXO225.AT2</td><td>RSN162_IMPVALL.H_H-CXO315.AT2</td><td>RSN162_IMPVALL.H_H-CXO-UP.AT2</td></tr><tr><td>79</td><td>SRSS</td><td>163</td><td>-</td><td>1</td><td>-</td><td>12.2</td><td>25.9</td><td>0.1</td><td>\"Imperial Valley-06\"</td><td>1979</td><td>\"Calipatria Fire Station\"</td><td>6.53</td><td>strike slip</td><td>23.17</td><td>24.6</td><td>205.78</td><td>0.0875</td><td>1</td><td>RSN163_IMPVALL.H_H-CAL225.AT2</td><td>RSN163_IMPVALL.H_H-CAL315.AT2</td><td>RSN163_IMPVALL.H_H-CAL-UP.AT2</td></tr><tr><td>80</td><td>SRSS</td><td>164</td><td>-</td><td>1</td><td>-</td><td>19.7</td><td>36.4</td><td>1.3</td><td>\"Imperial Valley-06\"</td><td>1979</td><td>\"Cerro Prieto\"</td><td>6.53</td><td>strike slip</td><td>15.19</td><td>15.19</td><td>471.53</td><td>0.1125</td><td>1</td><td>RSN164_IMPVALL.H_H-CPE147.AT2</td><td>RSN164_IMPVALL.H_H-CPE237.AT2</td><td>RSN164_IMPVALL.H_H-CPEDWN.AT2</td></tr><tr><td>81</td><td>SRSS</td><td>165</td><td>-</td><td>1</td><td>-</td><td>13.2</td><td>24</td><td>1.2</td><td>\"Imperial Valley-06\"</td><td>1979</td><td>\"Chihuahua\"</td><td>6.53</td><td>strike slip</td><td>7.29</td><td>7.29</td><td>242.05</td><td>0.225</td><td>1</td><td>RSN165_IMPVALL.H_H-CHI012.AT2</td><td>RSN165_IMPVALL.H_H-CHI282.AT2</td><td>RSN165_IMPVALL.H_H-CHIDWN.AT2</td></tr><tr><td>82</td><td>SRSS</td><td>166</td><td>-</td><td>1</td><td>-</td><td>4.7</td><td>11.1</td><td>0.2</td><td>\"Imperial Valley-06\"</td><td>1979</td><td>\"Coachella Canal #4\"</td><td>6.53</td><td>strike slip</td><td>49.1</td><td>50.1</td><td>336.49</td><td>0.1375</td><td>1</td><td>RSN166_IMPVALL.H_H-CC4045.AT2</td><td>RSN166_IMPVALL.H_H-CC4135.AT2</td><td>RSN166_IMPVALL.H_H-CC4-UP.AT2</td></tr><tr><td>83</td><td>SRSS</td><td>167</td><td>-</td><td>1</td><td>-</td><td>13.4</td><td>28.7</td><td>0.4</td><td>\"Imperial Valley-06\"</td><td>1979</td><td>\"Compuertas\"</td><td>6.53</td><td>strike slip</td><td>13.52</td><td>15.3</td><td>259.86</td><td>0.15</td><td>1</td><td>RSN167_IMPVALL.H_H-CMP015.AT2</td><td>RSN167_IMPVALL.H_H-CMP285.AT2</td><td>RSN167_IMPVALL.H_H-CMPDWN.AT2</td></tr><tr><td>84</td><td>SRSS</td><td>169</td><td>-</td><td>1</td><td>-</td><td>24.4</td><td>51.4</td><td>3.3</td><td>\"Imperial Valley-06\"</td><td>1979</td><td>\"Delta\"</td><td>6.53</td><td>strike slip</td><td>22.03</td><td>22.03</td><td>242.05</td><td>0.0875</td><td>1</td><td>RSN169_IMPVALL.H_H-DLT262.AT2</td><td>RSN169_IMPVALL.H_H-DLT352.AT2</td><td>RSN169_IMPVALL.H_H-DLTDWN.AT2</td></tr><tr><td>85</td><td>SRSS</td><td>170</td><td>-</td><td>1</td><td>4.417</td><td>4.7</td><td>13.2</td><td>0.8</td><td>\"Imperial Valley-06\"</td><td>1979</td><td>\"EC County Center FF\"</td><td>6.53</td><td>strike slip</td><td>7.31</td><td>7.31</td><td>192.05</td><td>0.075</td><td>1</td><td>RSN170_IMPVALL.H_H-ECC002.AT2</td><td>RSN170_IMPVALL.H_H-ECC092.AT2</td><td>RSN170_IMPVALL.H_H-ECC-UP.AT2</td></tr><tr><td>86</td><td>SRSS</td><td>171</td><td>-</td><td>1</td><td>3.423</td><td>2.3</td><td>8.2</td><td>1.1</td><td>\"Imperial Valley-06\"</td><td>1979</td><td>\"El Centro - Meloland Geot. Array\"</td><td>6.53</td><td>strike slip</td><td>0.07</td><td>0.07</td><td>264.57</td><td>0.1</td><td>1</td><td>RSN171_IMPVALL.H_H-EMO000.AT2</td><td>RSN171_IMPVALL.H_H-EMO270.AT2</td><td>RSN171_IMPVALL.H_H-EMO-UP.AT2</td></tr><tr><td>87</td><td>SRSS</td><td>172</td><td>-</td><td>1</td><td>-</td><td>7</td><td>19.5</td><td>0.3</td><td>\"Imperial Valley-06\"</td><td>1979</td><td>\"El Centro Array #1\"</td><td>6.53</td><td>strike slip</td><td>19.76</td><td>21.68</td><td>237.33</td><td>0.1125</td><td>1</td><td>RSN172_IMPVALL.H_H-E01140.AT2</td><td>RSN172_IMPVALL.H_H-E01230.AT2</td><td>RSN172_IMPVALL.H_H-E01-UP.AT2</td></tr><tr><td>88</td><td>SRSS</td><td>173</td><td>-</td><td>1</td><td>4.515</td><td>5.3</td><td>12.8</td><td>0.7</td><td>\"Imperial Valley-06\"</td><td>1979</td><td>\"El Centro Array #10\"</td><td>6.53</td><td>strike slip</td><td>8.6</td><td>8.6</td><td>202.85</td><td>0.075</td><td>1</td><td>RSN173_IMPVALL.H_H-E10050.AT2</td><td>RSN173_IMPVALL.H_H-E10320.AT2</td><td>RSN173_IMPVALL.H_H-E10-UP.AT2</td></tr><tr><td>89</td><td>SRSS</td><td>174</td><td>-</td><td>1</td><td>-</td><td>4.6</td><td>9</td><td>2</td><td>\"Imperial Valley-06\"</td><td>1979</td><td>\"El Centro Array #11\"</td><td>6.53</td><td>strike slip</td><td>12.56</td><td>12.56</td><td>196.25</td><td>0.1</td><td>1</td><td>RSN174_IMPVALL.H_H-E11140.AT2</td><td>RSN174_IMPVALL.H_H-E11230.AT2</td><td>RSN174_IMPVALL.H_H-E11-UP.AT2</td></tr><tr><td>90</td><td>SRSS</td><td>175</td><td>-</td><td>1</td><td>-</td><td>9.7</td><td>19.6</td><td>0.4</td><td>\"Imperial Valley-06\"</td><td>1979</td><td>\"El Centro Array #12\"</td><td>6.53</td><td>strike slip</td><td>17.94</td><td>17.94</td><td>196.88</td><td>0.0875</td><td>1</td><td>RSN175_IMPVALL.H_H-E12140.AT2</td><td>RSN175_IMPVALL.H_H-E12230.AT2</td><td>RSN175_IMPVALL.H_H-E12-UP.AT2</td></tr><tr><td>91</td><td>SRSS</td><td>176</td><td>-</td><td>1</td><td>-</td><td>8.9</td><td>21.6</td><td>0.3</td><td>\"Imperial Valley-06\"</td><td>1979</td><td>\"El Centro Array #13\"</td><td>6.53</td><td>strike slip</td><td>21.98</td><td>21.98</td><td>249.92</td><td>0.1</td><td>1</td><td>RSN176_IMPVALL.H_H-E13140.AT2</td><td>RSN176_IMPVALL.H_H-E13230.AT2</td><td>RSN176_IMPVALL.H_H-E13-UP.AT2</td></tr><tr><td>92</td><td>SRSS</td><td>178</td><td>-</td><td>1</td><td>4.501</td><td>5.1</td><td>14.1</td><td>1.2</td><td>\"Imperial Valley-06\"</td><td>1979</td><td>\"El Centro Array #3\"</td><td>6.53</td><td>strike slip</td><td>10.79</td><td>12.85</td><td>162.94</td><td>0.0625</td><td>1</td><td>RSN178_IMPVALL.H_H-E03140.AT2</td><td>RSN178_IMPVALL.H_H-E03230.AT2</td><td>RSN178_IMPVALL.H_H-E03-UP.AT2</td></tr><tr><td>93</td><td>SRSS</td><td>179</td><td>-</td><td>1</td><td>4.788</td><td>3.4</td><td>10.3</td><td>1.4</td><td>\"Imperial Valley-06\"</td><td>1979</td><td>\"El Centro Array #4\"</td><td>6.53</td><td>strike slip</td><td>4.9</td><td>7.05</td><td>208.91</td><td>0.0625</td><td>1</td><td>RSN179_IMPVALL.H_H-E04140.AT2</td><td>RSN179_IMPVALL.H_H-E04230.AT2</td><td>RSN179_IMPVALL.H_H-E04-UP.AT2</td></tr><tr><td>94</td><td>SRSS</td><td>180</td><td>-</td><td>1</td><td>4.13</td><td>3.8</td><td>9.6</td><td>1.7</td><td>\"Imperial Valley-06\"</td><td>1979</td><td>\"El Centro Array #5\"</td><td>6.53</td><td>strike slip</td><td>1.76</td><td>3.95</td><td>205.63</td><td>0.05</td><td>1</td><td>RSN180_IMPVALL.H_H-E05140.AT2</td><td>RSN180_IMPVALL.H_H-E05230.AT2</td><td>RSN180_IMPVALL.H_H-E05-UP.AT2</td></tr><tr><td>95</td><td>SRSS</td><td>181</td><td>-</td><td>1</td><td>3.773</td><td>5.3</td><td>11.5</td><td>1.8</td><td>\"Imperial Valley-06\"</td><td>1979</td><td>\"El Centro Array #6\"</td><td>6.53</td><td>strike slip</td><td>0</td><td>1.35</td><td>203.22</td><td>0.0625</td><td>1</td><td>RSN181_IMPVALL.H_H-E06140.AT2</td><td>RSN181_IMPVALL.H_H-E06230.AT2</td><td>RSN181_IMPVALL.H_H-E06-UP.AT2</td></tr><tr><td>96</td><td>SRSS</td><td>182</td><td>-</td><td>1</td><td>4.375</td><td>2.8</td><td>6.8</td><td>1.7</td><td>\"Imperial Valley-06\"</td><td>1979</td><td>\"El Centro Array #7\"</td><td>6.53</td><td>strike slip</td><td>0.56</td><td>0.56</td><td>210.51</td><td>0.075</td><td>1</td><td>RSN182_IMPVALL.H_H-E07140.AT2</td><td>RSN182_IMPVALL.H_H-E07230.AT2</td><td>RSN182_IMPVALL.H_H-E07-UP.AT2</td></tr><tr><td>97</td><td>SRSS</td><td>183</td><td>-</td><td>1</td><td>-</td><td>3</td><td>6.8</td><td>1.6</td><td>\"Imperial Valley-06\"</td><td>1979</td><td>\"El Centro Array #8\"</td><td>6.53</td><td>strike slip</td><td>3.86</td><td>3.86</td><td>206.08</td><td>0.0375</td><td>1</td><td>RSN183_IMPVALL.H_H-E08140.AT2</td><td>RSN183_IMPVALL.H_H-E08230.AT2</td><td>RSN183_IMPVALL.H_H-E08-UP.AT2</td></tr><tr><td>98</td><td>SRSS</td><td>184</td><td>-</td><td>1</td><td>6.265</td><td>3.7</td><td>7</td><td>2.1</td><td>\"Imperial Valley-06\"</td><td>1979</td><td>\"El Centro Differential Array\"</td><td>6.53</td><td>strike slip</td><td>5.09</td><td>5.09</td><td>202.26</td><td>0.02875</td><td>1</td><td>RSN184_IMPVALL.H_H-EDA270.AT2</td><td>RSN184_IMPVALL.H_H-EDA360.AT2</td><td>RSN184_IMPVALL.H_H-EDA-UP.AT2</td></tr><tr><td>99</td><td>SRSS</td><td>185</td><td>-</td><td>1</td><td>4.823</td><td>4.7</td><td>12.8</td><td>0.9</td><td>\"Imperial Valley-06\"</td><td>1979</td><td>\"Holtville Post Office\"</td><td>6.53</td><td>strike slip</td><td>5.35</td><td>7.5</td><td>202.89</td><td>0.075</td><td>1</td><td>RSN185_IMPVALL.H_H-HVP225.AT2</td><td>RSN185_IMPVALL.H_H-HVP315.AT2</td><td>RSN185_IMPVALL.H_H-HVP-UP.AT2</td></tr><tr><td>100</td><td>SRSS</td><td>186</td><td>-</td><td>1</td><td>-</td><td>12</td><td>26.4</td><td>0.2</td><td>\"Imperial Valley-06\"</td><td>1979</td><td>\"Niland Fire Station\"</td><td>6.53</td><td>strike slip</td><td>35.64</td><td>36.92</td><td>212</td><td>0.075</td><td>1</td><td>RSN186_IMPVALL.H_H-NIL090.AT2</td><td>RSN186_IMPVALL.H_H-NIL360.AT2</td><td>RSN186_IMPVALL.H_H-NIL-UP.AT2</td></tr></table>', 'languages': ['eng'], 'filetype': 'application/vnd.openxmlformats-officedocument.spreadsheetml.sheet', 'parent_id': 'e08c63045927bbdaf1cbbeb9054db4b1', 'category': 'Table', 'element_id': '1d41d134c31b6cbe1edd7ce00760f380'}, page_content='Result ID Spectral Ordinate Record Sequence Number Mean Squared Error Scale Factor Tp-Pulse Period (sec) 5-75% Duration (sec) 5-95% Duration (sec) Arias Intensity (m/sec) Earthquake Name Year Station Name Magnitude Mechanism Rjb (km) Rrup (km) Vs30 (m/sec) Lowest Useable Frequency (Hz) Initial-search Scale Factor Horizontal-1 Acc. Filename Horizontal-2 Acc. Filename Vertical Acc. Filename 1 SRSS 6 - 1 - 17.7 24.2 1.6 \"Imperial Valley-02\" 1940 \"El Centro Array #9\" 6.95 strike slip 6.09 6.09 213.44 0.25 1 RSN6_IMPVALL.I_I-ELC180.AT2 RSN6_IMPVALL.I_I-ELC270.AT2 RSN6_IMPVALL.I_I-ELC-UP.AT2 2 SRSS 7 - 1 - 9 22.2 0 \"Northwest Calif-02\" 1941 \"Ferndale City Hall\" 6.6 strike slip 91.15 91.22 219.31 0.1625 1 RSN7_NWCALIF.C_C-FRN045.AT2 RSN7_NWCALIF.C_C-FRN135.AT2 RSN7_NWCALIF.C_C-FRN-UP.AT2 3 SRSS 8 - 1 - 4.8 15.5 0.1 \"Northern Calif-01\" 1941 \"Ferndale City Hall\" 6.4 strike slip 44.52 44.68 219.31 0.375 1 RSN8_NCALIF.FH_F-FRN225.AT2 RSN8_NCALIF.FH_F-FRN315.AT2 RSN8_NCALIF.FH_F-FRN-UP.AT2 4 SRSS 9 - 1 - 21.5 37.2 0.1 \"Borrego\" 1942 \"El Centro Array #9\" 6.5 strike slip 56.88 56.88 213.44 0.125 1 RSN9_BORREGO_B-ELC000.AT2 RSN9_BORREGO_B-ELC090.AT2 RSN9_BORREGO_B-ELC-UP.AT2 5 SRSS 12 - 1 - 18.6 33.5 0.1 \"Kern County\" 1952 \"LA - Hollywood Stor FF\" 7.36 Reverse 114.62 117.75 316.46 0.125 1 RSN12_KERN.PEL_PEL090.AT2 RSN12_KERN.PEL_PEL180.AT2 RSN12_KERN.PEL_PEL-UP.AT2 6 SRSS 13 - 1 - 16.6 29.5 0.1 \"Kern County\" 1952 \"Pasadena - CIT Athenaeum\" 7.36 Reverse 122.65 125.59 415.13 0.25 1 RSN13_KERN_PAS180.AT2 RSN13_KERN_PAS270.AT2 RSN13_KERN_PAS-UP.AT2 7 SRSS 14 - 1 - 12.4 33.6 0.3 \"Kern County\" 1952 \"Santa Barbara Courthouse\" 7.36 Reverse 81.3 82.19 514.99 0.375 1 RSN14_KERN_SBA042.AT2 RSN14_KERN_SBA132.AT2 RSN14_KERN_SBA-UP.AT2 8 SRSS 15 - 1 - 10.7 30.3 0.6 \"Kern County\" 1952 \"Taft Lincoln School\" 7.36 Reverse 38.42 38.89 385.43 0.125 1 RSN15_KERN_TAF021.AT2 RSN15_KERN_TAF111.AT2 RSN15_KERN_TAF-UP.AT2 9 SRSS 20 - 1 - 6.8 19.4 0.5 \"Northern Calif-03\" 1954 \"Ferndale City Hall\" 6.5 strike slip 26.72 27.02 219.31 0.125 1 RSN20_NCALIF.FH_H-FRN044.AT2 RSN20_NCALIF.FH_H-FRN314.AT2 RSN20_NCALIF.FH_H-FRN-UP.AT2 10 SRSS 22 - 1 - 23 40.9 0.1 \"El Alamo\" 1956 \"El Centro Array #9\" 6.8 strike slip 121 121.7 213.44 0.2875 1 RSN22_ELALAMO_ELC180.AT2 RSN22_ELALAMO_ELC270.AT2 RSN22_ELALAMO_ELC-UP.AT2 11 SRSS 36 - 1 - 25 49.3 0.2 \"Borrego Mtn\" 1968 \"El Centro Array #9\" 6.63 strike slip 45.12 45.66 213.44 0.1 1 RSN36_BORREGO_A-ELC180.AT2 RSN36_BORREGO_A-ELC270.AT2 RSN36_BORREGO_A-ELC-UP.AT2 12 SRSS 37 - 1 - 17.9 26.3 0 \"Borrego Mtn\" 1968 \"LA - Hollywood Stor FF\" 6.63 strike slip 222.42 222.42 316.46 0.1625 1 RSN37_BORREGO_A-PEL090.AT2 RSN37_BORREGO_A-PEL180.AT2 RSN37_BORREGO_A-PEL-UP.AT2 13 SRSS 38 - 1 - 31.9 37.9 0 \"Borrego Mtn\" 1968 \"LB - Terminal Island\" 6.63 strike slip 199.84 199.84 217.92 0.25 1 RSN38_BORREGO_A-TLI249.AT2 RSN38_BORREGO_A-TLI339.AT2 RSN38_BORREGO_A-TLI-UP.AT2 14 SRSS 39 - 1 - 25 37.4 0 \"Borrego Mtn\" 1968 \"Pasadena - CIT Athenaeum\" 6.63 strike slip 207.14 207.14 415.13 0.1625 1 RSN39_BORREGO_A-PAS180.AT2 RSN39_BORREGO_A-PAS270.AT2 RSN39_BORREGO_A-PAS-UP.AT2 15 SRSS 40 - 1 - 19.3 28 0 \"Borrego Mtn\" 1968 \"San Onofre - So Cal Edison\" 6.63 strike slip 129.11 129.11 442.88 0.1625 1 RSN40_BORREGO_A-SON033.AT2 RSN40_BORREGO_A-SON303.AT2 RSN40_BORREGO_A-SON-UP.AT2 16 SRSS 51 - 1 - 27.6 54.2 0 \"San Fernando\" 1971 \"2516 Via Tejon PV\" 6.61 Reverse 55.2 55.2 280.56 0.25 1 RSN51_SFERN_PVE065.AT2 RSN51_SFERN_PVE155.AT2 RSN51_SFERN_PVEDWN.AT2 17 SRSS 52 - 1 - 8.1 15.4 0 \"San Fernando\" 1971 \"Anza Post Office\" 6.61 Reverse 173.16 173.16 360.45 0.625 1 RSN52_SFERN_AZP045.AT2 RSN52_SFERN_AZP315.AT2 RSN52_SFERN_AZPDWN.AT2 18 SRSS 53 - 1 - 24.1 35.3 0 \"San Fernando\" 1971 \"Bakersfield - Harvey Aud\" 6.61 Reverse 111.88 113.02 241.41 0.125 1 RSN53_SFERN_BFA180.AT2 RSN53_SFERN_BFA270.AT2 RSN53_SFERN_BFA-UP.AT2 19 SRSS 54 - 1 - 13.6 22 0 \"San Fernando\" 1971 \"Borrego Springs Fire Sta\" 6.61 Reverse 214.32 214.32 338.54 0.125 1 RSN54_SFERN_BSF135.AT2 RSN54_SFERN_BSF225.AT2 RSN54_SFERN_BSFDWN.AT2 20 SRSS 55 - 1 - 13.6 21.6 0 \"San Fernando\" 1971 \"Buena Vista - Taft\" 6.61 Reverse 111.37 112.52 385.69 0.125 1 RSN55_SFERN_BVP090.AT2 RSN55_SFERN_BVP180.AT2 RSN55_SFERN_BVPDWN.AT2 21 SRSS 56 - 1 - 9 18.9 0.1 \"San Fernando\" 1971 \"Carbon Canyon Dam\" 6.61 Reverse 61.79 61.79 235 0.625 1 RSN56_SFERN_CND130.AT2 RSN56_SFERN_CND220.AT2 RSN56_SFERN_CNDDWN.AT2 22 SRSS 57 - 1 - 10.6 16.8 1 \"San Fernando\" 1971 \"Castaic - Old Ridge Route\" 6.61 Reverse 19.33 22.63 450.28 0.375 1 RSN57_SFERN_ORR021.AT2 RSN57_SFERN_ORR291.AT2 RSN57_SFERN_ORRDWN.AT2 23 SRSS 58 - 1 - 4.6 10.2 0 \"San Fernando\" 1971 \"Cedar Springs Pumphouse\" 6.61 Reverse 92.25 92.59 477.22 0.125 1 RSN58_SFERN_CSP126.AT2 RSN58_SFERN_CSP216.AT2 RSN58_SFERN_CSPDWN.AT2 24 SRSS 59 - 1 - 5.8 10.4 0 \"San Fernando\" 1971 \"Cedar Springs_ Allen Ranch\" 6.61 Reverse 89.37 89.72 813.48 0.375 1 RSN59_SFERN_CSM095.AT2 RSN59_SFERN_CSM185.AT2 RSN59_SFERN_CSMDWN.AT2 25 SRSS 60 - 1 - 17.9 25.5 0 \"San Fernando\" 1971 \"Cholame - Shandon Array #2\" 6.61 Reverse 217.54 218.13 184.75 0.125 1 RSN60_SFERN_C02051.AT2 RSN60_SFERN_C02321.AT2 RSN60_SFERN_C02DWN.AT2 26 SRSS 61 - 1 - 16.9 23.7 0 \"San Fernando\" 1971 \"Cholame - Shandon Array #8\" 6.61 Reverse 218.17 218.75 256.82 0.125 1 RSN61_SFERN_C08051.AT2 RSN61_SFERN_C08321.AT2 ----- 27 SRSS 62 - 1 - 5.1 7.3 0 \"San Fernando\" 1971 \"Colton - So Cal Edison\" 6.61 Reverse 96.81 96.81 301.95 0.125 1 RSN62_SFERN_CLN090.AT2 RSN62_SFERN_CLN180.AT2 RSN62_SFERN_CLN-UP.AT2 28 SRSS 63 - 1 - 3.6 14.4 0.1 \"San Fernando\" 1971 \"Fairmont Dam\" 6.61 Reverse 25.58 30.19 634.33 0.1875 1 RSN63_SFERN_FTR056.AT2 RSN63_SFERN_FTR326.AT2 RSN63_SFERN_FTR-UP.AT2 29 SRSS 64 - 1 - 5 8.3 0 \"San Fernando\" 1971 \"Fort Tejon\" 6.61 Reverse 59.52 61.64 394.18 0.125 1 RSN64_SFERN_FTJ000.AT2 RSN64_SFERN_FTJ090.AT2 RSN64_SFERN_FTJ-UP.AT2 30 SRSS 65 - 1 - 4.1 7.2 0.1 \"San Fernando\" 1971 \"Gormon - Oso Pump Plant\" 6.61 Reverse 43.95 46.78 308.35 0.125 1 RSN65_SFERN_OPP000.AT2 RSN65_SFERN_OPP270.AT2 RSN65_SFERN_OPP-UP.AT2 31 SRSS 66 - 1 - 9.4 23.9 0 \"San Fernando\" 1971 \"Hemet Fire Station\" 6.61 Reverse 139.14 139.14 328.09 0.5 1 RSN66_SFERN_H05135.AT2 RSN66_SFERN_H05225.AT2 RSN66_SFERN_H05DWN.AT2 32 SRSS 67 - 1 - 20.2 26.5 0 \"San Fernando\" 1971 \"Isabella Dam (Aux Abut)\" 6.61 Reverse 130 130.98 591 0.125 1 RSN67_SFERN_ISD014.AT2 RSN67_SFERN_ISD284.AT2 RSN67_SFERN_ISDDWN.AT2 33 SRSS 68 - 1 - 5.2 13.4 0.7 \"San Fernando\" 1971 \"LA - Hollywood Stor FF\" 6.61 Reverse 22.77 22.77 316.46 0.1 1 RSN68_SFERN_PEL090.AT2 RSN68_SFERN_PEL180.AT2 RSN68_SFERN_PEL-UP.AT2 34 SRSS 69 - 1 - 41.5 52.4 0.1 \"San Fernando\" 1971 \"LB - Terminal Island\" 6.61 Reverse 58.99 58.99 217.92 0.125 1 RSN69_SFERN_TLI249.AT2 RSN69_SFERN_TLI339.AT2 RSN69_SFERN_TLI-UP.AT2 35 SRSS 70 - 1 - 8 18.4 0.3 \"San Fernando\" 1971 \"Lake Hughes #1\" 6.61 Reverse 22.23 27.4 425.34 0.15 1 RSN70_SFERN_L01021.AT2 RSN70_SFERN_L01111.AT2 RSN70_SFERN_L01DWN.AT2 36 SRSS 71 - 1 - 2.8 12 0.9 \"San Fernando\" 1971 \"Lake Hughes #12\" 6.61 Reverse 13.99 19.3 602.1 0.25 1 RSN71_SFERN_L12021.AT2 RSN71_SFERN_L12291.AT2 RSN71_SFERN_L12DWN.AT2 37 SRSS 72 - 1 - 4.2 13 0.3 \"San Fernando\" 1971 \"Lake Hughes #4\" 6.61 Reverse 19.45 25.07 600.06 0.25 1 RSN72_SFERN_L04111.AT2 RSN72_SFERN_L04201.AT2 RSN72_SFERN_L04DWN.AT2 38 SRSS 73 - 1 - 3 11.8 0.2 \"San Fernando\" 1971 \"Lake Hughes #9\" 6.61 Reverse 17.22 22.57 670.84 0.625 1 RSN73_SFERN_L09021.AT2 RSN73_SFERN_L09291.AT2 RSN73_SFERN_L09DWN.AT2 39 SRSS 74 - 1 - 18.2 29.6 0 \"San Fernando\" 1971 \"Maricopa Array #1\" 6.61 Reverse 193.25 193.91 303.79 0.125 1 RSN74_SFERN_MA1130.AT2 RSN74_SFERN_MA1220.AT2 RSN74_SFERN_MA1DWN.AT2 40 SRSS 75 - 1 - 14.3 22.4 0 \"San Fernando\" 1971 \"Maricopa Array #2\" 6.61 Reverse 108.56 109.73 443.85 0.25 1 RSN75_SFERN_MA2130.AT2 RSN75_SFERN_MA2220.AT2 RSN75_SFERN_MA2DWN.AT2 41 SRSS 76 - 1 - 16.6 23.4 0 \"San Fernando\" 1971 \"Maricopa Array #3\" 6.61 Reverse 109.01 110.18 441.25 0.25 1 RSN76_SFERN_MA3130.AT2 RSN76_SFERN_MA3220.AT2 RSN76_SFERN_MA3DWN.AT2 42 SRSS 77 - 1 1.638 5.8 7.3 8.9 \"San Fernando\" 1971 \"Pacoima Dam (upper left abut)\" 6.61 Reverse 0 1.81 2016.13 0.0875 1 RSN77_SFERN_PUL164.AT2 RSN77_SFERN_PUL254.AT2 RSN77_SFERN_PULDWN.AT2 43 SRSS 78 - 1 - 10 18.9 0.3 \"San Fernando\" 1971 \"Palmdale Fire Station\" 6.61 Reverse 24.16 28.99 452.86 0.1875 1 RSN78_SFERN_PDL120.AT2 RSN78_SFERN_PDL210.AT2 ----- 44 SRSS 79 - 1 - 6.7 14.5 0.2 \"San Fernando\" 1971 \"Pasadena - CIT Athenaeum\" 6.61 Reverse 25.47 25.47 415.13 0.375 1 RSN79_SFERN_PAS000.AT2 RSN79_SFERN_PAS090.AT2 RSN79_SFERN_PASDWN.AT2 45 SRSS 80 - 1 - 5.7 14.1 0.3 \"San Fernando\" 1971 \"Pasadena - Old Seismo Lab\" 6.61 Reverse 21.5 21.5 969.07 0.625 1 RSN80_SFERN_PSL180.AT2 RSN80_SFERN_PSL270.AT2 RSN80_SFERN_PSLDWN.AT2 46 SRSS 81 - 1 - 7.1 13.7 0.2 \"San Fernando\" 1971 \"Pearblossom Pump\" 6.61 Reverse 35.54 38.97 529.09 0.25 1 RSN81_SFERN_PPP000.AT2 RSN81_SFERN_PPP270.AT2 RSN81_SFERN_PPPDWN.AT2 47 SRSS 82 - 1 - 38.5 49.2 0 \"San Fernando\" 1971 \"Port Hueneme\" 6.61 Reverse 68.84 68.84 248.98 0.0625 1 RSN82_SFERN_PHN180.AT2 RSN82_SFERN_PHN270.AT2 RSN82_SFERN_PHN-UP.AT2 48 SRSS 83 - 1 - 6.4 14.3 0 \"San Fernando\" 1971 \"Puddingstone Dam (Abutment)\" 6.61 Reverse 52.64 52.64 421.44 0.25 1 RSN83_SFERN_PUD055.AT2 RSN83_SFERN_PUD325.AT2 RSN83_SFERN_PUDDWN.AT2 49 SRSS 84 - 1 - 15.3 24.2 0 \"San Fernando\" 1971 \"San Diego Gas & Electric\" 6.61 Reverse 205.77 205.77 354.06 0.125 1 RSN84_SFERN_SDC000.AT2 RSN84_SFERN_SDC090.AT2 RSN84_SFERN_SDCDWN.AT2 50 SRSS 85 - 1 - 17.5 48.2 0 \"San Fernando\" 1971 \"San Juan Capistrano\" 6.61 Reverse 108.01 108.01 459.37 0.25 1 RSN85_SFERN_SJC033.AT2 RSN85_SFERN_SJC303.AT2 RSN85_SFERN_SJCDWN.AT2 51 SRSS 86 - 1 - 15.8 35.5 0 \"San Fernando\" 1971 \"San Onofre - So Cal Edison\" 6.61 Reverse 124.79 124.79 442.88 0.25 1 RSN86_SFERN_SON033.AT2 RSN86_SFERN_SON303.AT2 RSN86_SFERN_SONDWN.AT2 52 SRSS 87 - 1 - 6.4 11.3 0.3 \"San Fernando\" 1971 \"Santa Anita Dam\" 6.61 Reverse 30.7 30.7 667.13 0.375 1 RSN87_SFERN_SAD003.AT2 RSN87_SFERN_SAD273.AT2 RSN87_SFERN_SADDWN.AT2 53 SRSS 88 - 1 - 7.4 23.6 0.2 \"San Fernando\" 1971 \"Santa Felita Dam (Outlet)\" 6.61 Reverse 24.69 24.87 389 0.125 1 RSN88_SFERN_FSD172.AT2 RSN88_SFERN_FSD262.AT2 RSN88_SFERN_FSD-UP.AT2 54 SRSS 89 - 1 - 3.7 9.5 0 \"San Fernando\" 1971 \"Tehachapi Pump\" 6.61 Reverse 61.75 63.79 669.48 0.25 1 RSN89_SFERN_TEH090.AT2 RSN89_SFERN_TEH180.AT2 RSN89_SFERN_TEHDWN.AT2 55 SRSS 90 - 1 - 28.5 49.3 0 \"San Fernando\" 1971 \"UCSB - Fluid Mech Lab\" 6.61 Reverse 124.38 124.41 322.42 0.25 1 RSN90_SFERN_SBF042.AT2 RSN90_SFERN_SBF132.AT2 RSN90_SFERN_SBF-UP.AT2 56 SRSS 91 - 1 - 7.1 14.3 0.1 \"San Fernando\" 1971 \"Upland - San Antonio Dam\" 6.61 Reverse 61.72 61.73 487.23 0.375 1 RSN91_SFERN_SOD015.AT2 RSN91_SFERN_SOD285.AT2 RSN91_SFERN_SODDWN.AT2 57 SRSS 92 - 1 - 7.2 17.9 0 \"San Fernando\" 1971 \"Wheeler Ridge - Ground\" 6.61 Reverse 68.38 70.23 347.67 0.125 1 RSN92_SFERN_WRP090.AT2 RSN92_SFERN_WRP180.AT2 RSN92_SFERN_WRP-UP.AT2 58 SRSS 93 - 1 - 7.2 21.5 0.2 \"San Fernando\" 1971 \"Whittier Narrows Dam\" 6.61 Reverse 39.45 39.45 298.68 0.125 1 RSN93_SFERN_WND143.AT2 RSN93_SFERN_WND233.AT2 RSN93_SFERN_WNDDWN.AT2 59 SRSS 94 - 1 - 7.3 11.7 0 \"San Fernando\" 1971 \"Wrightwood - 6074 Park Dr\" 6.61 Reverse 61.64 62.23 486 0.25 1 RSN94_SFERN_WTW025.AT2 RSN94_SFERN_WTW295.AT2 RSN94_SFERN_WTWDWN.AT2 60 SRSS 95 - 1 - 4.9 10.6 2 \"Managua_ Nicaragua-01\" 1972 \"Managua_ ESSO\" 6.24 strike slip 3.51 4.06 288.77 0.375 1 RSN95_MANAGUA_A-ESO090.AT2 RSN95_MANAGUA_A-ESO180.AT2 RSN95_MANAGUA_A-ESODWN.AT2 61 SRSS 121 - 1 - 4.3 10.4 0 \"Friuli_ Italy-01\" 1976 \"Barcis\" 6.5 Reverse 49.13 49.38 496.46 0.15 1 RSN121_FRIULI.A_A-BCS000.AT2 RSN121_FRIULI.A_A-BCS270.AT2 RSN121_FRIULI.A_A-BCS-UP.AT2 62 SRSS 122 - 1 - 10.5 19 0.1 \"Friuli_ Italy-01\" 1976 \"Codroipo\" 6.5 Reverse 33.32 33.4 249.28 0.125 1 RSN122_FRIULI.A_A-COD000.AT2 RSN122_FRIULI.A_A-COD270.AT2 RSN122_FRIULI.A_A-COD-UP.AT2 63 SRSS 123 - 1 - 8.4 19.1 0.1 \"Friuli_ Italy-01\" 1976 \"Conegliano\" 6.5 Reverse 80.37 80.41 352.05 0.5 1 RSN123_FRIULI.A_A-CLV000.AT2 RSN123_FRIULI.A_A-CLV270.AT2 RSN123_FRIULI.A_A-CLV-UP.AT2 64 SRSS 124 - 1 - 5 12.7 0 \"Friuli_ Italy-01\" 1976 \"Feltre\" 6.5 Reverse 102.05 102.15 356.39 1.125 1 RSN124_FRIULI.A_A-FLT000.AT2 RSN124_FRIULI.A_A-FLT270.AT2 RSN124_FRIULI.A_A-FLT-UP.AT2 65 SRSS 125 - 1 - 2.5 4.9 1.2 \"Friuli_ Italy-01\" 1976 \"Tolmezzo\" 6.5 Reverse 14.97 15.82 505.23 0.1625 1 RSN125_FRIULI.A_A-TMZ000.AT2 RSN125_FRIULI.A_A-TMZ270.AT2 RSN125_FRIULI.A_A-TMZ-UP.AT2 66 SRSS 126 - 1 - 5.6 7 5.7 \"Gazli_ USSR\" 1976 \"Karakyr\" 6.8 Reverse 3.92 5.46 259.59 0.25 1 RSN126_GAZLI_GAZ000.AT2 RSN126_GAZLI_GAZ090.AT2 RSN126_GAZLI_GAZ-UP.AT2 67 SRSS 137 - 1 - 21.3 25.9 0.1 \"Tabas_ Iran\" 1978 \"Bajestan\" 7.35 Reverse 119.77 120.81 377.56 0.15625 1 RSN137_TABAS_BAJ-L1.AT2 RSN137_TABAS_BAJ-T1.AT2 RSN137_TABAS_BAJ-V1.AT2 68 SRSS 138 - 1 - 14.6 19.5 0.3 \"Tabas_ Iran\" 1978 \"Boshrooyeh\" 7.35 Reverse 24.07 28.79 324.57 0.15625 1 RSN138_TABAS_BOS-L1.AT2 RSN138_TABAS_BOS-T1.AT2 RSN138_TABAS_BOS-V1.AT2 69 SRSS 139 - 1 - 6.7 11.3 1.4 \"Tabas_ Iran\" 1978 \"Dayhook\" 7.35 Reverse 0 13.94 471.53 0.25 1 RSN139_TABAS_DAY-L1.AT2 RSN139_TABAS_DAY-T1.AT2 RSN139_TABAS_DAY-V1.AT2 70 SRSS 140 - 1 - 20.5 24.2 0.2 \"Tabas_ Iran\" 1978 \"Ferdows\" 7.35 Reverse 89.76 91.14 302.64 0.15625 1 RSN140_TABAS_FER-L1.AT2 RSN140_TABAS_FER-T1.AT2 RSN140_TABAS_FER-V1.AT2 71 SRSS 141 - 1 - 16.8 26.4 0.1 \"Tabas_ Iran\" 1978 \"Kashmar\" 7.35 Reverse 193.91 194.55 280.26 0.15625 1 RSN141_TABAS_KSH-L1.AT2 RSN141_TABAS_KSH-T1.AT2 RSN141_TABAS_KSH-V1.AT2 72 SRSS 142 - 1 - 22.7 30.1 0 \"Tabas_ Iran\" 1978 \"Sedeh\" 7.35 Reverse 150.33 151.16 354.37 0.15625 1 RSN142_TABAS_SED-L1.AT2 RSN142_TABAS_SED-T1.AT2 RSN142_TABAS_SED-V1.AT2 73 SRSS 143 - 1 6.188 8.3 16.5 11.8 \"Tabas_ Iran\" 1978 \"Tabas\" 7.35 Reverse 1.79 2.05 766.77 0.125 1 RSN143_TABAS_TAB-L1.AT2 RSN143_TABAS_TAB-T1.AT2 RSN143_TABAS_TAB-V1.AT2 74 SRSS 158 - 1 - 6.1 9.8 1.2 \"Imperial Valley-06\" 1979 \"Aeropuerto Mexicali\" 6.53 strike slip 0 0.34 259.86 0.2875 1 RSN158_IMPVALL.H_H-AEP045.AT2 RSN158_IMPVALL.H_H-AEP315.AT2 RSN158_IMPVALL.H_H-AEP-UP.AT2 75 SRSS 159 - 1 2.338 6.7 13.3 1 \"Imperial Valley-06\" 1979 \"Agrarias\" 6.53 strike slip 0 0.65 242.05 0.1625 1 RSN159_IMPVALL.H_H-AGR003.AT2 RSN159_IMPVALL.H_H-AGR273.AT2 RSN159_IMPVALL.H_H-AGRDWN.AT2 76 SRSS 160 - 1 - 6.1 9.7 6.1 \"Imperial Valley-06\" 1979 \"Bonds Corner\" 6.53 strike slip 0.44 2.66 223.03 0.125 1 RSN160_IMPVALL.H_H-BCR140.AT2 RSN160_IMPVALL.H_H-BCR230.AT2 RSN160_IMPVALL.H_H-BCR-UP.AT2 77 SRSS 161 - 1 4.396 5.3 14.9 0.4 \"Imperial Valley-06\" 1979 \"Brawley Airport\" 6.53 strike slip 8.54 10.42 208.71 0.05375 1 RSN161_IMPVALL.H_H-BRA225.AT2 RSN161_IMPVALL.H_H-BRA315.AT2 RSN161_IMPVALL.H_H-BRA-UP.AT2 78 SRSS 162 - 1 - 7.2 14.8 0.9 \"Imperial Valley-06\" 1979 \"Calexico Fire Station\" 6.53 strike slip 10.45 10.45 231.23 0.05 1 RSN162_IMPVALL.H_H-CXO225.AT2 RSN162_IMPVALL.H_H-CXO315.AT2 RSN162_IMPVALL.H_H-CXO-UP.AT2 79 SRSS 163 - 1 - 12.2 25.9 0.1 \"Imperial Valley-06\" 1979 \"Calipatria Fire Station\" 6.53 strike slip 23.17 24.6 205.78 0.0875 1 RSN163_IMPVALL.H_H-CAL225.AT2 RSN163_IMPVALL.H_H-CAL315.AT2 RSN163_IMPVALL.H_H-CAL-UP.AT2 80 SRSS 164 - 1 - 19.7 36.4 1.3 \"Imperial Valley-06\" 1979 \"Cerro Prieto\" 6.53 strike slip 15.19 15.19 471.53 0.1125 1 RSN164_IMPVALL.H_H-CPE147.AT2 RSN164_IMPVALL.H_H-CPE237.AT2 RSN164_IMPVALL.H_H-CPEDWN.AT2 81 SRSS 165 - 1 - 13.2 24 1.2 \"Imperial Valley-06\" 1979 \"Chihuahua\" 6.53 strike slip 7.29 7.29 242.05 0.225 1 RSN165_IMPVALL.H_H-CHI012.AT2 RSN165_IMPVALL.H_H-CHI282.AT2 RSN165_IMPVALL.H_H-CHIDWN.AT2 82 SRSS 166 - 1 - 4.7 11.1 0.2 \"Imperial Valley-06\" 1979 \"Coachella Canal #4\" 6.53 strike slip 49.1 50.1 336.49 0.1375 1 RSN166_IMPVALL.H_H-CC4045.AT2 RSN166_IMPVALL.H_H-CC4135.AT2 RSN166_IMPVALL.H_H-CC4-UP.AT2 83 SRSS 167 - 1 - 13.4 28.7 0.4 \"Imperial Valley-06\" 1979 \"Compuertas\" 6.53 strike slip 13.52 15.3 259.86 0.15 1 RSN167_IMPVALL.H_H-CMP015.AT2 RSN167_IMPVALL.H_H-CMP285.AT2 RSN167_IMPVALL.H_H-CMPDWN.AT2 84 SRSS 169 - 1 - 24.4 51.4 3.3 \"Imperial Valley-06\" 1979 \"Delta\" 6.53 strike slip 22.03 22.03 242.05 0.0875 1 RSN169_IMPVALL.H_H-DLT262.AT2 RSN169_IMPVALL.H_H-DLT352.AT2 RSN169_IMPVALL.H_H-DLTDWN.AT2 85 SRSS 170 - 1 4.417 4.7 13.2 0.8 \"Imperial Valley-06\" 1979 \"EC County Center FF\" 6.53 strike slip 7.31 7.31 192.05 0.075 1 RSN170_IMPVALL.H_H-ECC002.AT2 RSN170_IMPVALL.H_H-ECC092.AT2 RSN170_IMPVALL.H_H-ECC-UP.AT2 86 SRSS 171 - 1 3.423 2.3 8.2 1.1 \"Imperial Valley-06\" 1979 \"El Centro - Meloland Geot. Array\" 6.53 strike slip 0.07 0.07 264.57 0.1 1 RSN171_IMPVALL.H_H-EMO000.AT2 RSN171_IMPVALL.H_H-EMO270.AT2 RSN171_IMPVALL.H_H-EMO-UP.AT2 87 SRSS 172 - 1 - 7 19.5 0.3 \"Imperial Valley-06\" 1979 \"El Centro Array #1\" 6.53 strike slip 19.76 21.68 237.33 0.1125 1 RSN172_IMPVALL.H_H-E01140.AT2 RSN172_IMPVALL.H_H-E01230.AT2 RSN172_IMPVALL.H_H-E01-UP.AT2 88 SRSS 173 - 1 4.515 5.3 12.8 0.7 \"Imperial Valley-06\" 1979 \"El Centro Array #10\" 6.53 strike slip 8.6 8.6 202.85 0.075 1 RSN173_IMPVALL.H_H-E10050.AT2 RSN173_IMPVALL.H_H-E10320.AT2 RSN173_IMPVALL.H_H-E10-UP.AT2 89 SRSS 174 - 1 - 4.6 9 2 \"Imperial Valley-06\" 1979 \"El Centro Array #11\" 6.53 strike slip 12.56 12.56 196.25 0.1 1 RSN174_IMPVALL.H_H-E11140.AT2 RSN174_IMPVALL.H_H-E11230.AT2 RSN174_IMPVALL.H_H-E11-UP.AT2 90 SRSS 175 - 1 - 9.7 19.6 0.4 \"Imperial Valley-06\" 1979 \"El Centro Array #12\" 6.53 strike slip 17.94 17.94 196.88 0.0875 1 RSN175_IMPVALL.H_H-E12140.AT2 RSN175_IMPVALL.H_H-E12230.AT2 RSN175_IMPVALL.H_H-E12-UP.AT2 91 SRSS 176 - 1 - 8.9 21.6 0.3 \"Imperial Valley-06\" 1979 \"El Centro Array #13\" 6.53 strike slip 21.98 21.98 249.92 0.1 1 RSN176_IMPVALL.H_H-E13140.AT2 RSN176_IMPVALL.H_H-E13230.AT2 RSN176_IMPVALL.H_H-E13-UP.AT2 92 SRSS 178 - 1 4.501 5.1 14.1 1.2 \"Imperial Valley-06\" 1979 \"El Centro Array #3\" 6.53 strike slip 10.79 12.85 162.94 0.0625 1 RSN178_IMPVALL.H_H-E03140.AT2 RSN178_IMPVALL.H_H-E03230.AT2 RSN178_IMPVALL.H_H-E03-UP.AT2 93 SRSS 179 - 1 4.788 3.4 10.3 1.4 \"Imperial Valley-06\" 1979 \"El Centro Array #4\" 6.53 strike slip 4.9 7.05 208.91 0.0625 1 RSN179_IMPVALL.H_H-E04140.AT2 RSN179_IMPVALL.H_H-E04230.AT2 RSN179_IMPVALL.H_H-E04-UP.AT2 94 SRSS 180 - 1 4.13 3.8 9.6 1.7 \"Imperial Valley-06\" 1979 \"El Centro Array #5\" 6.53 strike slip 1.76 3.95 205.63 0.05 1 RSN180_IMPVALL.H_H-E05140.AT2 RSN180_IMPVALL.H_H-E05230.AT2 RSN180_IMPVALL.H_H-E05-UP.AT2 95 SRSS 181 - 1 3.773 5.3 11.5 1.8 \"Imperial Valley-06\" 1979 \"El Centro Array #6\" 6.53 strike slip 0 1.35 203.22 0.0625 1 RSN181_IMPVALL.H_H-E06140.AT2 RSN181_IMPVALL.H_H-E06230.AT2 RSN181_IMPVALL.H_H-E06-UP.AT2 96 SRSS 182 - 1 4.375 2.8 6.8 1.7 \"Imperial Valley-06\" 1979 \"El Centro Array #7\" 6.53 strike slip 0.56 0.56 210.51 0.075 1 RSN182_IMPVALL.H_H-E07140.AT2 RSN182_IMPVALL.H_H-E07230.AT2 RSN182_IMPVALL.H_H-E07-UP.AT2 97 SRSS 183 - 1 - 3 6.8 1.6 \"Imperial Valley-06\" 1979 \"El Centro Array #8\" 6.53 strike slip 3.86 3.86 206.08 0.0375 1 RSN183_IMPVALL.H_H-E08140.AT2 RSN183_IMPVALL.H_H-E08230.AT2 RSN183_IMPVALL.H_H-E08-UP.AT2 98 SRSS 184 - 1 6.265 3.7 7 2.1 \"Imperial Valley-06\" 1979 \"El Centro Differential Array\" 6.53 strike slip 5.09 5.09 202.26 0.02875 1 RSN184_IMPVALL.H_H-EDA270.AT2 RSN184_IMPVALL.H_H-EDA360.AT2 RSN184_IMPVALL.H_H-EDA-UP.AT2 99 SRSS 185 - 1 4.823 4.7 12.8 0.9 \"Imperial Valley-06\" 1979 \"Holtville Post Office\" 6.53 strike slip 5.35 7.5 202.89 0.075 1 RSN185_IMPVALL.H_H-HVP225.AT2 RSN185_IMPVALL.H_H-HVP315.AT2 RSN185_IMPVALL.H_H-HVP-UP.AT2 100 SRSS 186 - 1 - 12 26.4 0.2 \"Imperial Valley-06\" 1979 \"Niland Fire Station\" 6.53 strike slip 35.64 36.92 212 0.075 1 RSN186_IMPVALL.H_H-NIL090.AT2 RSN186_IMPVALL.H_H-NIL360.AT2 RSN186_IMPVALL.H_H-NIL-UP.AT2')]"
      ]
     },
     "execution_count": 9,
     "metadata": {},
     "output_type": "execute_result"
    }
   ],
   "source": [
    "# Load Excel\n",
    "excel_file_path = r\"D:\\All Python\\Pure-Python\\P4\\06-PromptEngineering\\Project 2 - RAG\\data\\earthq.xlsx\"\n",
    "loader = UnstructuredExcelLoader(excel_file_path, mode=\"elements\")\n",
    "docs = loader.load()\n",
    "\n",
    "# display the five first elements\n",
    "docs[:5]"
   ]
  },
  {
   "cell_type": "code",
   "execution_count": 31,
   "metadata": {},
   "outputs": [
    {
     "data": {
      "text/plain": [
       "553142"
      ]
     },
     "execution_count": 31,
     "metadata": {},
     "output_type": "execute_result"
    }
   ],
   "source": [
    "len(docs[9].metadata[\"text_as_html\"])"
   ]
  },
  {
   "cell_type": "code",
   "execution_count": 38,
   "metadata": {},
   "outputs": [
    {
     "data": {
      "text/plain": [
       "[Document(metadata={'source': 'D:\\\\All Python\\\\Pure-Python\\\\P4\\\\06-PromptEngineering\\\\Project 2 - RAG\\\\data\\\\earthq.xlsx', 'file_directory': 'D:\\\\All Python\\\\Pure-Python\\\\P4\\\\06-PromptEngineering\\\\Project 2 - RAG\\\\data', 'filename': 'earthq.xlsx', 'last_modified': '2024-11-07T21:28:58', 'page_name': 'earthq', 'page_number': 1, 'text_as_html': '<table><tr><td>PEER Ground Motion Database</td><td>Time Series Search Report -- NGA-West2 -- 2024-03-04</td></tr></table>', 'languages': ['eng'], 'filetype': 'application/vnd.openxmlformats-officedocument.spreadsheetml.sheet', 'category': 'Table', 'element_id': '045bcdeb05b66c364675bc215fcb3bb7'}, page_content='PEER Ground Motion Database Time Series Search Report -- NGA-West2 -- 2024-03-04'),\n",
       " Document(metadata={'source': 'D:\\\\All Python\\\\Pure-Python\\\\P4\\\\06-PromptEngineering\\\\Project 2 - RAG\\\\data\\\\earthq.xlsx', 'file_directory': 'D:\\\\All Python\\\\Pure-Python\\\\P4\\\\06-PromptEngineering\\\\Project 2 - RAG\\\\data', 'filename': 'earthq.xlsx', 'last_modified': '2024-11-07T21:28:58', 'page_name': 'earthq', 'page_number': 1, 'languages': ['eng'], 'filetype': 'application/vnd.openxmlformats-officedocument.spreadsheetml.sheet', 'category': 'Title', 'element_id': '323f6ced78c73deb9f9844d8794cd803'}, page_content='-- Summary of PEER Ground Motion Database Search Criteria --'),\n",
       " Document(metadata={'source': 'D:\\\\All Python\\\\Pure-Python\\\\P4\\\\06-PromptEngineering\\\\Project 2 - RAG\\\\data\\\\earthq.xlsx', 'file_directory': 'D:\\\\All Python\\\\Pure-Python\\\\P4\\\\06-PromptEngineering\\\\Project 2 - RAG\\\\data', 'filename': 'earthq.xlsx', 'last_modified': '2024-11-07T21:28:58', 'page_name': 'earthq', 'page_number': 1, 'text_as_html': '<table><tr><td>Magnitude Min:</td><td>6.24</td></tr><tr><td>Magnitude Max:</td><td>7.68</td></tr><tr><td>Rrup Min (km):</td><td>-0.000001</td></tr><tr><td>Rrup Max (km):</td><td>99999</td></tr><tr><td>Rjb Min (km):</td><td>-0.000001</td></tr><tr><td>Rjb Max (km):</td><td>99999</td></tr><tr><td>Vs30 Min (m/sec):</td><td>-0.000001</td></tr><tr><td>Vs30 Max (m/sec):</td><td>99999</td></tr><tr><td>D9-95 Min (sec):</td><td>-0.000001</td></tr><tr><td>D9-95 Max (sec):</td><td>99999</td></tr><tr><td>Scale Factor Min:</td><td>-0.000001</td></tr><tr><td>Scale Factor Max:</td><td>99999</td></tr><tr><td>Period Array:</td><td/></tr><tr><td>Weight Array:</td><td/></tr><tr><td>Record Sequence Number:</td><td/></tr><tr><td>Earthquake Name:</td><td/></tr><tr><td>Station Name:</td><td/></tr><tr><td>User-Defined Maximum Number of Records:</td><td/></tr><tr><td>Pulse:</td><td>1</td></tr><tr><td>Damping Ratio:</td><td>0.05</td></tr><tr><td>Scaling Method:</td><td>No Scaling</td></tr><tr><td>Suite Average:</td><td>Arithmetic</td></tr><tr><td>Single-Period-Scaling Period (sec):</td><td/></tr><tr><td>Component:</td><td>SRSS</td></tr><tr><td>Fault Type:</td><td>All Types</td></tr></table>', 'languages': ['eng'], 'filetype': 'application/vnd.openxmlformats-officedocument.spreadsheetml.sheet', 'parent_id': '323f6ced78c73deb9f9844d8794cd803', 'category': 'Table', 'element_id': '39f024ff0a2ea7f9a70a3f95182b63db'}, page_content='Magnitude Min: 6.24 Magnitude Max: 7.68 Rrup Min (km): -0.000001 Rrup Max (km): 99999 Rjb Min (km): -0.000001 Rjb Max (km): 99999 Vs30 Min (m/sec): -0.000001 Vs30 Max (m/sec): 99999 D9-95 Min (sec): -0.000001 D9-95 Max (sec): 99999 Scale Factor Min: -0.000001 Scale Factor Max: 99999 Period Array: Weight Array: Record Sequence Number: Earthquake Name: Station Name: User-Defined Maximum Number of Records: Pulse: 1 Damping Ratio: 0.05 Scaling Method: No Scaling Suite Average: Arithmetic Single-Period-Scaling Period (sec): Component: SRSS Fault Type: All Types'),\n",
       " Document(metadata={'source': 'D:\\\\All Python\\\\Pure-Python\\\\P4\\\\06-PromptEngineering\\\\Project 2 - RAG\\\\data\\\\earthq.xlsx', 'file_directory': 'D:\\\\All Python\\\\Pure-Python\\\\P4\\\\06-PromptEngineering\\\\Project 2 - RAG\\\\data', 'filename': 'earthq.xlsx', 'last_modified': '2024-11-07T21:28:58', 'page_name': 'earthq', 'page_number': 1, 'languages': ['eng'], 'filetype': 'application/vnd.openxmlformats-officedocument.spreadsheetml.sheet', 'category': 'Title', 'element_id': 'e08c63045927bbdaf1cbbeb9054db4b1'}, page_content='-- Summary of Metadata of Selected Records --'),\n",
       " Document(metadata={'source': 'D:\\\\All Python\\\\Pure-Python\\\\P4\\\\06-PromptEngineering\\\\Project 2 - RAG\\\\data\\\\earthq.xlsx', 'file_directory': 'D:\\\\All Python\\\\Pure-Python\\\\P4\\\\06-PromptEngineering\\\\Project 2 - RAG\\\\data', 'filename': 'earthq.xlsx', 'last_modified': '2024-11-07T21:28:58', 'page_name': 'earthq', 'page_number': 1, 'text_as_html': '<table><tr><td>Result ID</td><td>Spectral Ordinate</td><td>Record Sequence Number</td><td>Mean Squared Error</td><td>Scale Factor</td><td>Tp-Pulse Period (sec)</td><td>5-75% Duration (sec)</td><td>5-95% Duration (sec)</td><td>Arias Intensity (m/sec)</td><td>Earthquake Name</td><td>Year</td><td>Station Name</td><td>Magnitude</td><td>Mechanism</td><td>Rjb (km)</td><td>Rrup (km)</td><td>Vs30 (m/sec)</td><td>Lowest Useable Frequency (Hz)</td><td>Initial-search Scale Factor</td><td>Horizontal-1 Acc. Filename</td><td>Horizontal-2 Acc. Filename</td><td>Vertical Acc. Filename</td></tr><tr><td>1</td><td>SRSS</td><td>6</td><td>-</td><td>1</td><td>-</td><td>17.7</td><td>24.2</td><td>1.6</td><td>\"Imperial Valley-02\"</td><td>1940</td><td>\"El Centro Array #9\"</td><td>6.95</td><td>strike slip</td><td>6.09</td><td>6.09</td><td>213.44</td><td>0.25</td><td>1</td><td>RSN6_IMPVALL.I_I-ELC180.AT2</td><td>RSN6_IMPVALL.I_I-ELC270.AT2</td><td>RSN6_IMPVALL.I_I-ELC-UP.AT2</td></tr><tr><td>2</td><td>SRSS</td><td>7</td><td>-</td><td>1</td><td>-</td><td>9</td><td>22.2</td><td>0</td><td>\"Northwest Calif-02\"</td><td>1941</td><td>\"Ferndale City Hall\"</td><td>6.6</td><td>strike slip</td><td>91.15</td><td>91.22</td><td>219.31</td><td>0.1625</td><td>1</td><td>RSN7_NWCALIF.C_C-FRN045.AT2</td><td>RSN7_NWCALIF.C_C-FRN135.AT2</td><td>RSN7_NWCALIF.C_C-FRN-UP.AT2</td></tr><tr><td>3</td><td>SRSS</td><td>8</td><td>-</td><td>1</td><td>-</td><td>4.8</td><td>15.5</td><td>0.1</td><td>\"Northern Calif-01\"</td><td>1941</td><td>\"Ferndale City Hall\"</td><td>6.4</td><td>strike slip</td><td>44.52</td><td>44.68</td><td>219.31</td><td>0.375</td><td>1</td><td>RSN8_NCALIF.FH_F-FRN225.AT2</td><td>RSN8_NCALIF.FH_F-FRN315.AT2</td><td>RSN8_NCALIF.FH_F-FRN-UP.AT2</td></tr><tr><td>4</td><td>SRSS</td><td>9</td><td>-</td><td>1</td><td>-</td><td>21.5</td><td>37.2</td><td>0.1</td><td>\"Borrego\"</td><td>1942</td><td>\"El Centro Array #9\"</td><td>6.5</td><td>strike slip</td><td>56.88</td><td>56.88</td><td>213.44</td><td>0.125</td><td>1</td><td>RSN9_BORREGO_B-ELC000.AT2</td><td>RSN9_BORREGO_B-ELC090.AT2</td><td>RSN9_BORREGO_B-ELC-UP.AT2</td></tr><tr><td>5</td><td>SRSS</td><td>12</td><td>-</td><td>1</td><td>-</td><td>18.6</td><td>33.5</td><td>0.1</td><td>\"Kern County\"</td><td>1952</td><td>\"LA - Hollywood Stor FF\"</td><td>7.36</td><td>Reverse</td><td>114.62</td><td>117.75</td><td>316.46</td><td>0.125</td><td>1</td><td>RSN12_KERN.PEL_PEL090.AT2</td><td>RSN12_KERN.PEL_PEL180.AT2</td><td>RSN12_KERN.PEL_PEL-UP.AT2</td></tr><tr><td>6</td><td>SRSS</td><td>13</td><td>-</td><td>1</td><td>-</td><td>16.6</td><td>29.5</td><td>0.1</td><td>\"Kern County\"</td><td>1952</td><td>\"Pasadena - CIT Athenaeum\"</td><td>7.36</td><td>Reverse</td><td>122.65</td><td>125.59</td><td>415.13</td><td>0.25</td><td>1</td><td>RSN13_KERN_PAS180.AT2</td><td>RSN13_KERN_PAS270.AT2</td><td>RSN13_KERN_PAS-UP.AT2</td></tr><tr><td>7</td><td>SRSS</td><td>14</td><td>-</td><td>1</td><td>-</td><td>12.4</td><td>33.6</td><td>0.3</td><td>\"Kern County\"</td><td>1952</td><td>\"Santa Barbara Courthouse\"</td><td>7.36</td><td>Reverse</td><td>81.3</td><td>82.19</td><td>514.99</td><td>0.375</td><td>1</td><td>RSN14_KERN_SBA042.AT2</td><td>RSN14_KERN_SBA132.AT2</td><td>RSN14_KERN_SBA-UP.AT2</td></tr><tr><td>8</td><td>SRSS</td><td>15</td><td>-</td><td>1</td><td>-</td><td>10.7</td><td>30.3</td><td>0.6</td><td>\"Kern County\"</td><td>1952</td><td>\"Taft Lincoln School\"</td><td>7.36</td><td>Reverse</td><td>38.42</td><td>38.89</td><td>385.43</td><td>0.125</td><td>1</td><td>RSN15_KERN_TAF021.AT2</td><td>RSN15_KERN_TAF111.AT2</td><td>RSN15_KERN_TAF-UP.AT2</td></tr><tr><td>9</td><td>SRSS</td><td>20</td><td>-</td><td>1</td><td>-</td><td>6.8</td><td>19.4</td><td>0.5</td><td>\"Northern Calif-03\"</td><td>1954</td><td>\"Ferndale City Hall\"</td><td>6.5</td><td>strike slip</td><td>26.72</td><td>27.02</td><td>219.31</td><td>0.125</td><td>1</td><td>RSN20_NCALIF.FH_H-FRN044.AT2</td><td>RSN20_NCALIF.FH_H-FRN314.AT2</td><td>RSN20_NCALIF.FH_H-FRN-UP.AT2</td></tr><tr><td>10</td><td>SRSS</td><td>22</td><td>-</td><td>1</td><td>-</td><td>23</td><td>40.9</td><td>0.1</td><td>\"El Alamo\"</td><td>1956</td><td>\"El Centro Array #9\"</td><td>6.8</td><td>strike slip</td><td>121</td><td>121.7</td><td>213.44</td><td>0.2875</td><td>1</td><td>RSN22_ELALAMO_ELC180.AT2</td><td>RSN22_ELALAMO_ELC270.AT2</td><td>RSN22_ELALAMO_ELC-UP.AT2</td></tr><tr><td>11</td><td>SRSS</td><td>36</td><td>-</td><td>1</td><td>-</td><td>25</td><td>49.3</td><td>0.2</td><td>\"Borrego Mtn\"</td><td>1968</td><td>\"El Centro Array #9\"</td><td>6.63</td><td>strike slip</td><td>45.12</td><td>45.66</td><td>213.44</td><td>0.1</td><td>1</td><td>RSN36_BORREGO_A-ELC180.AT2</td><td>RSN36_BORREGO_A-ELC270.AT2</td><td>RSN36_BORREGO_A-ELC-UP.AT2</td></tr><tr><td>12</td><td>SRSS</td><td>37</td><td>-</td><td>1</td><td>-</td><td>17.9</td><td>26.3</td><td>0</td><td>\"Borrego Mtn\"</td><td>1968</td><td>\"LA - Hollywood Stor FF\"</td><td>6.63</td><td>strike slip</td><td>222.42</td><td>222.42</td><td>316.46</td><td>0.1625</td><td>1</td><td>RSN37_BORREGO_A-PEL090.AT2</td><td>RSN37_BORREGO_A-PEL180.AT2</td><td>RSN37_BORREGO_A-PEL-UP.AT2</td></tr><tr><td>13</td><td>SRSS</td><td>38</td><td>-</td><td>1</td><td>-</td><td>31.9</td><td>37.9</td><td>0</td><td>\"Borrego Mtn\"</td><td>1968</td><td>\"LB - Terminal Island\"</td><td>6.63</td><td>strike slip</td><td>199.84</td><td>199.84</td><td>217.92</td><td>0.25</td><td>1</td><td>RSN38_BORREGO_A-TLI249.AT2</td><td>RSN38_BORREGO_A-TLI339.AT2</td><td>RSN38_BORREGO_A-TLI-UP.AT2</td></tr><tr><td>14</td><td>SRSS</td><td>39</td><td>-</td><td>1</td><td>-</td><td>25</td><td>37.4</td><td>0</td><td>\"Borrego Mtn\"</td><td>1968</td><td>\"Pasadena - CIT Athenaeum\"</td><td>6.63</td><td>strike slip</td><td>207.14</td><td>207.14</td><td>415.13</td><td>0.1625</td><td>1</td><td>RSN39_BORREGO_A-PAS180.AT2</td><td>RSN39_BORREGO_A-PAS270.AT2</td><td>RSN39_BORREGO_A-PAS-UP.AT2</td></tr><tr><td>15</td><td>SRSS</td><td>40</td><td>-</td><td>1</td><td>-</td><td>19.3</td><td>28</td><td>0</td><td>\"Borrego Mtn\"</td><td>1968</td><td>\"San Onofre - So Cal Edison\"</td><td>6.63</td><td>strike slip</td><td>129.11</td><td>129.11</td><td>442.88</td><td>0.1625</td><td>1</td><td>RSN40_BORREGO_A-SON033.AT2</td><td>RSN40_BORREGO_A-SON303.AT2</td><td>RSN40_BORREGO_A-SON-UP.AT2</td></tr><tr><td>16</td><td>SRSS</td><td>51</td><td>-</td><td>1</td><td>-</td><td>27.6</td><td>54.2</td><td>0</td><td>\"San Fernando\"</td><td>1971</td><td>\"2516 Via Tejon PV\"</td><td>6.61</td><td>Reverse</td><td>55.2</td><td>55.2</td><td>280.56</td><td>0.25</td><td>1</td><td>RSN51_SFERN_PVE065.AT2</td><td>RSN51_SFERN_PVE155.AT2</td><td>RSN51_SFERN_PVEDWN.AT2</td></tr><tr><td>17</td><td>SRSS</td><td>52</td><td>-</td><td>1</td><td>-</td><td>8.1</td><td>15.4</td><td>0</td><td>\"San Fernando\"</td><td>1971</td><td>\"Anza Post Office\"</td><td>6.61</td><td>Reverse</td><td>173.16</td><td>173.16</td><td>360.45</td><td>0.625</td><td>1</td><td>RSN52_SFERN_AZP045.AT2</td><td>RSN52_SFERN_AZP315.AT2</td><td>RSN52_SFERN_AZPDWN.AT2</td></tr><tr><td>18</td><td>SRSS</td><td>53</td><td>-</td><td>1</td><td>-</td><td>24.1</td><td>35.3</td><td>0</td><td>\"San Fernando\"</td><td>1971</td><td>\"Bakersfield - Harvey Aud\"</td><td>6.61</td><td>Reverse</td><td>111.88</td><td>113.02</td><td>241.41</td><td>0.125</td><td>1</td><td>RSN53_SFERN_BFA180.AT2</td><td>RSN53_SFERN_BFA270.AT2</td><td>RSN53_SFERN_BFA-UP.AT2</td></tr><tr><td>19</td><td>SRSS</td><td>54</td><td>-</td><td>1</td><td>-</td><td>13.6</td><td>22</td><td>0</td><td>\"San Fernando\"</td><td>1971</td><td>\"Borrego Springs Fire Sta\"</td><td>6.61</td><td>Reverse</td><td>214.32</td><td>214.32</td><td>338.54</td><td>0.125</td><td>1</td><td>RSN54_SFERN_BSF135.AT2</td><td>RSN54_SFERN_BSF225.AT2</td><td>RSN54_SFERN_BSFDWN.AT2</td></tr><tr><td>20</td><td>SRSS</td><td>55</td><td>-</td><td>1</td><td>-</td><td>13.6</td><td>21.6</td><td>0</td><td>\"San Fernando\"</td><td>1971</td><td>\"Buena Vista - Taft\"</td><td>6.61</td><td>Reverse</td><td>111.37</td><td>112.52</td><td>385.69</td><td>0.125</td><td>1</td><td>RSN55_SFERN_BVP090.AT2</td><td>RSN55_SFERN_BVP180.AT2</td><td>RSN55_SFERN_BVPDWN.AT2</td></tr><tr><td>21</td><td>SRSS</td><td>56</td><td>-</td><td>1</td><td>-</td><td>9</td><td>18.9</td><td>0.1</td><td>\"San Fernando\"</td><td>1971</td><td>\"Carbon Canyon Dam\"</td><td>6.61</td><td>Reverse</td><td>61.79</td><td>61.79</td><td>235</td><td>0.625</td><td>1</td><td>RSN56_SFERN_CND130.AT2</td><td>RSN56_SFERN_CND220.AT2</td><td>RSN56_SFERN_CNDDWN.AT2</td></tr><tr><td>22</td><td>SRSS</td><td>57</td><td>-</td><td>1</td><td>-</td><td>10.6</td><td>16.8</td><td>1</td><td>\"San Fernando\"</td><td>1971</td><td>\"Castaic - Old Ridge Route\"</td><td>6.61</td><td>Reverse</td><td>19.33</td><td>22.63</td><td>450.28</td><td>0.375</td><td>1</td><td>RSN57_SFERN_ORR021.AT2</td><td>RSN57_SFERN_ORR291.AT2</td><td>RSN57_SFERN_ORRDWN.AT2</td></tr><tr><td>23</td><td>SRSS</td><td>58</td><td>-</td><td>1</td><td>-</td><td>4.6</td><td>10.2</td><td>0</td><td>\"San Fernando\"</td><td>1971</td><td>\"Cedar Springs Pumphouse\"</td><td>6.61</td><td>Reverse</td><td>92.25</td><td>92.59</td><td>477.22</td><td>0.125</td><td>1</td><td>RSN58_SFERN_CSP126.AT2</td><td>RSN58_SFERN_CSP216.AT2</td><td>RSN58_SFERN_CSPDWN.AT2</td></tr><tr><td>24</td><td>SRSS</td><td>59</td><td>-</td><td>1</td><td>-</td><td>5.8</td><td>10.4</td><td>0</td><td>\"San Fernando\"</td><td>1971</td><td>\"Cedar Springs_ Allen Ranch\"</td><td>6.61</td><td>Reverse</td><td>89.37</td><td>89.72</td><td>813.48</td><td>0.375</td><td>1</td><td>RSN59_SFERN_CSM095.AT2</td><td>RSN59_SFERN_CSM185.AT2</td><td>RSN59_SFERN_CSMDWN.AT2</td></tr><tr><td>25</td><td>SRSS</td><td>60</td><td>-</td><td>1</td><td>-</td><td>17.9</td><td>25.5</td><td>0</td><td>\"San Fernando\"</td><td>1971</td><td>\"Cholame - Shandon Array #2\"</td><td>6.61</td><td>Reverse</td><td>217.54</td><td>218.13</td><td>184.75</td><td>0.125</td><td>1</td><td>RSN60_SFERN_C02051.AT2</td><td>RSN60_SFERN_C02321.AT2</td><td>RSN60_SFERN_C02DWN.AT2</td></tr><tr><td>26</td><td>SRSS</td><td>61</td><td>-</td><td>1</td><td>-</td><td>16.9</td><td>23.7</td><td>0</td><td>\"San Fernando\"</td><td>1971</td><td>\"Cholame - Shandon Array #8\"</td><td>6.61</td><td>Reverse</td><td>218.17</td><td>218.75</td><td>256.82</td><td>0.125</td><td>1</td><td>RSN61_SFERN_C08051.AT2</td><td>RSN61_SFERN_C08321.AT2</td><td>-----</td></tr><tr><td>27</td><td>SRSS</td><td>62</td><td>-</td><td>1</td><td>-</td><td>5.1</td><td>7.3</td><td>0</td><td>\"San Fernando\"</td><td>1971</td><td>\"Colton - So Cal Edison\"</td><td>6.61</td><td>Reverse</td><td>96.81</td><td>96.81</td><td>301.95</td><td>0.125</td><td>1</td><td>RSN62_SFERN_CLN090.AT2</td><td>RSN62_SFERN_CLN180.AT2</td><td>RSN62_SFERN_CLN-UP.AT2</td></tr><tr><td>28</td><td>SRSS</td><td>63</td><td>-</td><td>1</td><td>-</td><td>3.6</td><td>14.4</td><td>0.1</td><td>\"San Fernando\"</td><td>1971</td><td>\"Fairmont Dam\"</td><td>6.61</td><td>Reverse</td><td>25.58</td><td>30.19</td><td>634.33</td><td>0.1875</td><td>1</td><td>RSN63_SFERN_FTR056.AT2</td><td>RSN63_SFERN_FTR326.AT2</td><td>RSN63_SFERN_FTR-UP.AT2</td></tr><tr><td>29</td><td>SRSS</td><td>64</td><td>-</td><td>1</td><td>-</td><td>5</td><td>8.3</td><td>0</td><td>\"San Fernando\"</td><td>1971</td><td>\"Fort Tejon\"</td><td>6.61</td><td>Reverse</td><td>59.52</td><td>61.64</td><td>394.18</td><td>0.125</td><td>1</td><td>RSN64_SFERN_FTJ000.AT2</td><td>RSN64_SFERN_FTJ090.AT2</td><td>RSN64_SFERN_FTJ-UP.AT2</td></tr><tr><td>30</td><td>SRSS</td><td>65</td><td>-</td><td>1</td><td>-</td><td>4.1</td><td>7.2</td><td>0.1</td><td>\"San Fernando\"</td><td>1971</td><td>\"Gormon - Oso Pump Plant\"</td><td>6.61</td><td>Reverse</td><td>43.95</td><td>46.78</td><td>308.35</td><td>0.125</td><td>1</td><td>RSN65_SFERN_OPP000.AT2</td><td>RSN65_SFERN_OPP270.AT2</td><td>RSN65_SFERN_OPP-UP.AT2</td></tr><tr><td>31</td><td>SRSS</td><td>66</td><td>-</td><td>1</td><td>-</td><td>9.4</td><td>23.9</td><td>0</td><td>\"San Fernando\"</td><td>1971</td><td>\"Hemet Fire Station\"</td><td>6.61</td><td>Reverse</td><td>139.14</td><td>139.14</td><td>328.09</td><td>0.5</td><td>1</td><td>RSN66_SFERN_H05135.AT2</td><td>RSN66_SFERN_H05225.AT2</td><td>RSN66_SFERN_H05DWN.AT2</td></tr><tr><td>32</td><td>SRSS</td><td>67</td><td>-</td><td>1</td><td>-</td><td>20.2</td><td>26.5</td><td>0</td><td>\"San Fernando\"</td><td>1971</td><td>\"Isabella Dam (Aux Abut)\"</td><td>6.61</td><td>Reverse</td><td>130</td><td>130.98</td><td>591</td><td>0.125</td><td>1</td><td>RSN67_SFERN_ISD014.AT2</td><td>RSN67_SFERN_ISD284.AT2</td><td>RSN67_SFERN_ISDDWN.AT2</td></tr><tr><td>33</td><td>SRSS</td><td>68</td><td>-</td><td>1</td><td>-</td><td>5.2</td><td>13.4</td><td>0.7</td><td>\"San Fernando\"</td><td>1971</td><td>\"LA - Hollywood Stor FF\"</td><td>6.61</td><td>Reverse</td><td>22.77</td><td>22.77</td><td>316.46</td><td>0.1</td><td>1</td><td>RSN68_SFERN_PEL090.AT2</td><td>RSN68_SFERN_PEL180.AT2</td><td>RSN68_SFERN_PEL-UP.AT2</td></tr><tr><td>34</td><td>SRSS</td><td>69</td><td>-</td><td>1</td><td>-</td><td>41.5</td><td>52.4</td><td>0.1</td><td>\"San Fernando\"</td><td>1971</td><td>\"LB - Terminal Island\"</td><td>6.61</td><td>Reverse</td><td>58.99</td><td>58.99</td><td>217.92</td><td>0.125</td><td>1</td><td>RSN69_SFERN_TLI249.AT2</td><td>RSN69_SFERN_TLI339.AT2</td><td>RSN69_SFERN_TLI-UP.AT2</td></tr><tr><td>35</td><td>SRSS</td><td>70</td><td>-</td><td>1</td><td>-</td><td>8</td><td>18.4</td><td>0.3</td><td>\"San Fernando\"</td><td>1971</td><td>\"Lake Hughes #1\"</td><td>6.61</td><td>Reverse</td><td>22.23</td><td>27.4</td><td>425.34</td><td>0.15</td><td>1</td><td>RSN70_SFERN_L01021.AT2</td><td>RSN70_SFERN_L01111.AT2</td><td>RSN70_SFERN_L01DWN.AT2</td></tr><tr><td>36</td><td>SRSS</td><td>71</td><td>-</td><td>1</td><td>-</td><td>2.8</td><td>12</td><td>0.9</td><td>\"San Fernando\"</td><td>1971</td><td>\"Lake Hughes #12\"</td><td>6.61</td><td>Reverse</td><td>13.99</td><td>19.3</td><td>602.1</td><td>0.25</td><td>1</td><td>RSN71_SFERN_L12021.AT2</td><td>RSN71_SFERN_L12291.AT2</td><td>RSN71_SFERN_L12DWN.AT2</td></tr><tr><td>37</td><td>SRSS</td><td>72</td><td>-</td><td>1</td><td>-</td><td>4.2</td><td>13</td><td>0.3</td><td>\"San Fernando\"</td><td>1971</td><td>\"Lake Hughes #4\"</td><td>6.61</td><td>Reverse</td><td>19.45</td><td>25.07</td><td>600.06</td><td>0.25</td><td>1</td><td>RSN72_SFERN_L04111.AT2</td><td>RSN72_SFERN_L04201.AT2</td><td>RSN72_SFERN_L04DWN.AT2</td></tr><tr><td>38</td><td>SRSS</td><td>73</td><td>-</td><td>1</td><td>-</td><td>3</td><td>11.8</td><td>0.2</td><td>\"San Fernando\"</td><td>1971</td><td>\"Lake Hughes #9\"</td><td>6.61</td><td>Reverse</td><td>17.22</td><td>22.57</td><td>670.84</td><td>0.625</td><td>1</td><td>RSN73_SFERN_L09021.AT2</td><td>RSN73_SFERN_L09291.AT2</td><td>RSN73_SFERN_L09DWN.AT2</td></tr><tr><td>39</td><td>SRSS</td><td>74</td><td>-</td><td>1</td><td>-</td><td>18.2</td><td>29.6</td><td>0</td><td>\"San Fernando\"</td><td>1971</td><td>\"Maricopa Array #1\"</td><td>6.61</td><td>Reverse</td><td>193.25</td><td>193.91</td><td>303.79</td><td>0.125</td><td>1</td><td>RSN74_SFERN_MA1130.AT2</td><td>RSN74_SFERN_MA1220.AT2</td><td>RSN74_SFERN_MA1DWN.AT2</td></tr><tr><td>40</td><td>SRSS</td><td>75</td><td>-</td><td>1</td><td>-</td><td>14.3</td><td>22.4</td><td>0</td><td>\"San Fernando\"</td><td>1971</td><td>\"Maricopa Array #2\"</td><td>6.61</td><td>Reverse</td><td>108.56</td><td>109.73</td><td>443.85</td><td>0.25</td><td>1</td><td>RSN75_SFERN_MA2130.AT2</td><td>RSN75_SFERN_MA2220.AT2</td><td>RSN75_SFERN_MA2DWN.AT2</td></tr><tr><td>41</td><td>SRSS</td><td>76</td><td>-</td><td>1</td><td>-</td><td>16.6</td><td>23.4</td><td>0</td><td>\"San Fernando\"</td><td>1971</td><td>\"Maricopa Array #3\"</td><td>6.61</td><td>Reverse</td><td>109.01</td><td>110.18</td><td>441.25</td><td>0.25</td><td>1</td><td>RSN76_SFERN_MA3130.AT2</td><td>RSN76_SFERN_MA3220.AT2</td><td>RSN76_SFERN_MA3DWN.AT2</td></tr><tr><td>42</td><td>SRSS</td><td>77</td><td>-</td><td>1</td><td>1.638</td><td>5.8</td><td>7.3</td><td>8.9</td><td>\"San Fernando\"</td><td>1971</td><td>\"Pacoima Dam (upper left abut)\"</td><td>6.61</td><td>Reverse</td><td>0</td><td>1.81</td><td>2016.13</td><td>0.0875</td><td>1</td><td>RSN77_SFERN_PUL164.AT2</td><td>RSN77_SFERN_PUL254.AT2</td><td>RSN77_SFERN_PULDWN.AT2</td></tr><tr><td>43</td><td>SRSS</td><td>78</td><td>-</td><td>1</td><td>-</td><td>10</td><td>18.9</td><td>0.3</td><td>\"San Fernando\"</td><td>1971</td><td>\"Palmdale Fire Station\"</td><td>6.61</td><td>Reverse</td><td>24.16</td><td>28.99</td><td>452.86</td><td>0.1875</td><td>1</td><td>RSN78_SFERN_PDL120.AT2</td><td>RSN78_SFERN_PDL210.AT2</td><td>-----</td></tr><tr><td>44</td><td>SRSS</td><td>79</td><td>-</td><td>1</td><td>-</td><td>6.7</td><td>14.5</td><td>0.2</td><td>\"San Fernando\"</td><td>1971</td><td>\"Pasadena - CIT Athenaeum\"</td><td>6.61</td><td>Reverse</td><td>25.47</td><td>25.47</td><td>415.13</td><td>0.375</td><td>1</td><td>RSN79_SFERN_PAS000.AT2</td><td>RSN79_SFERN_PAS090.AT2</td><td>RSN79_SFERN_PASDWN.AT2</td></tr><tr><td>45</td><td>SRSS</td><td>80</td><td>-</td><td>1</td><td>-</td><td>5.7</td><td>14.1</td><td>0.3</td><td>\"San Fernando\"</td><td>1971</td><td>\"Pasadena - Old Seismo Lab\"</td><td>6.61</td><td>Reverse</td><td>21.5</td><td>21.5</td><td>969.07</td><td>0.625</td><td>1</td><td>RSN80_SFERN_PSL180.AT2</td><td>RSN80_SFERN_PSL270.AT2</td><td>RSN80_SFERN_PSLDWN.AT2</td></tr><tr><td>46</td><td>SRSS</td><td>81</td><td>-</td><td>1</td><td>-</td><td>7.1</td><td>13.7</td><td>0.2</td><td>\"San Fernando\"</td><td>1971</td><td>\"Pearblossom Pump\"</td><td>6.61</td><td>Reverse</td><td>35.54</td><td>38.97</td><td>529.09</td><td>0.25</td><td>1</td><td>RSN81_SFERN_PPP000.AT2</td><td>RSN81_SFERN_PPP270.AT2</td><td>RSN81_SFERN_PPPDWN.AT2</td></tr><tr><td>47</td><td>SRSS</td><td>82</td><td>-</td><td>1</td><td>-</td><td>38.5</td><td>49.2</td><td>0</td><td>\"San Fernando\"</td><td>1971</td><td>\"Port Hueneme\"</td><td>6.61</td><td>Reverse</td><td>68.84</td><td>68.84</td><td>248.98</td><td>0.0625</td><td>1</td><td>RSN82_SFERN_PHN180.AT2</td><td>RSN82_SFERN_PHN270.AT2</td><td>RSN82_SFERN_PHN-UP.AT2</td></tr><tr><td>48</td><td>SRSS</td><td>83</td><td>-</td><td>1</td><td>-</td><td>6.4</td><td>14.3</td><td>0</td><td>\"San Fernando\"</td><td>1971</td><td>\"Puddingstone Dam (Abutment)\"</td><td>6.61</td><td>Reverse</td><td>52.64</td><td>52.64</td><td>421.44</td><td>0.25</td><td>1</td><td>RSN83_SFERN_PUD055.AT2</td><td>RSN83_SFERN_PUD325.AT2</td><td>RSN83_SFERN_PUDDWN.AT2</td></tr><tr><td>49</td><td>SRSS</td><td>84</td><td>-</td><td>1</td><td>-</td><td>15.3</td><td>24.2</td><td>0</td><td>\"San Fernando\"</td><td>1971</td><td>\"San Diego Gas &amp; Electric\"</td><td>6.61</td><td>Reverse</td><td>205.77</td><td>205.77</td><td>354.06</td><td>0.125</td><td>1</td><td>RSN84_SFERN_SDC000.AT2</td><td>RSN84_SFERN_SDC090.AT2</td><td>RSN84_SFERN_SDCDWN.AT2</td></tr><tr><td>50</td><td>SRSS</td><td>85</td><td>-</td><td>1</td><td>-</td><td>17.5</td><td>48.2</td><td>0</td><td>\"San Fernando\"</td><td>1971</td><td>\"San Juan Capistrano\"</td><td>6.61</td><td>Reverse</td><td>108.01</td><td>108.01</td><td>459.37</td><td>0.25</td><td>1</td><td>RSN85_SFERN_SJC033.AT2</td><td>RSN85_SFERN_SJC303.AT2</td><td>RSN85_SFERN_SJCDWN.AT2</td></tr><tr><td>51</td><td>SRSS</td><td>86</td><td>-</td><td>1</td><td>-</td><td>15.8</td><td>35.5</td><td>0</td><td>\"San Fernando\"</td><td>1971</td><td>\"San Onofre - So Cal Edison\"</td><td>6.61</td><td>Reverse</td><td>124.79</td><td>124.79</td><td>442.88</td><td>0.25</td><td>1</td><td>RSN86_SFERN_SON033.AT2</td><td>RSN86_SFERN_SON303.AT2</td><td>RSN86_SFERN_SONDWN.AT2</td></tr><tr><td>52</td><td>SRSS</td><td>87</td><td>-</td><td>1</td><td>-</td><td>6.4</td><td>11.3</td><td>0.3</td><td>\"San Fernando\"</td><td>1971</td><td>\"Santa Anita Dam\"</td><td>6.61</td><td>Reverse</td><td>30.7</td><td>30.7</td><td>667.13</td><td>0.375</td><td>1</td><td>RSN87_SFERN_SAD003.AT2</td><td>RSN87_SFERN_SAD273.AT2</td><td>RSN87_SFERN_SADDWN.AT2</td></tr><tr><td>53</td><td>SRSS</td><td>88</td><td>-</td><td>1</td><td>-</td><td>7.4</td><td>23.6</td><td>0.2</td><td>\"San Fernando\"</td><td>1971</td><td>\"Santa Felita Dam (Outlet)\"</td><td>6.61</td><td>Reverse</td><td>24.69</td><td>24.87</td><td>389</td><td>0.125</td><td>1</td><td>RSN88_SFERN_FSD172.AT2</td><td>RSN88_SFERN_FSD262.AT2</td><td>RSN88_SFERN_FSD-UP.AT2</td></tr><tr><td>54</td><td>SRSS</td><td>89</td><td>-</td><td>1</td><td>-</td><td>3.7</td><td>9.5</td><td>0</td><td>\"San Fernando\"</td><td>1971</td><td>\"Tehachapi Pump\"</td><td>6.61</td><td>Reverse</td><td>61.75</td><td>63.79</td><td>669.48</td><td>0.25</td><td>1</td><td>RSN89_SFERN_TEH090.AT2</td><td>RSN89_SFERN_TEH180.AT2</td><td>RSN89_SFERN_TEHDWN.AT2</td></tr><tr><td>55</td><td>SRSS</td><td>90</td><td>-</td><td>1</td><td>-</td><td>28.5</td><td>49.3</td><td>0</td><td>\"San Fernando\"</td><td>1971</td><td>\"UCSB - Fluid Mech Lab\"</td><td>6.61</td><td>Reverse</td><td>124.38</td><td>124.41</td><td>322.42</td><td>0.25</td><td>1</td><td>RSN90_SFERN_SBF042.AT2</td><td>RSN90_SFERN_SBF132.AT2</td><td>RSN90_SFERN_SBF-UP.AT2</td></tr><tr><td>56</td><td>SRSS</td><td>91</td><td>-</td><td>1</td><td>-</td><td>7.1</td><td>14.3</td><td>0.1</td><td>\"San Fernando\"</td><td>1971</td><td>\"Upland - San Antonio Dam\"</td><td>6.61</td><td>Reverse</td><td>61.72</td><td>61.73</td><td>487.23</td><td>0.375</td><td>1</td><td>RSN91_SFERN_SOD015.AT2</td><td>RSN91_SFERN_SOD285.AT2</td><td>RSN91_SFERN_SODDWN.AT2</td></tr><tr><td>57</td><td>SRSS</td><td>92</td><td>-</td><td>1</td><td>-</td><td>7.2</td><td>17.9</td><td>0</td><td>\"San Fernando\"</td><td>1971</td><td>\"Wheeler Ridge - Ground\"</td><td>6.61</td><td>Reverse</td><td>68.38</td><td>70.23</td><td>347.67</td><td>0.125</td><td>1</td><td>RSN92_SFERN_WRP090.AT2</td><td>RSN92_SFERN_WRP180.AT2</td><td>RSN92_SFERN_WRP-UP.AT2</td></tr><tr><td>58</td><td>SRSS</td><td>93</td><td>-</td><td>1</td><td>-</td><td>7.2</td><td>21.5</td><td>0.2</td><td>\"San Fernando\"</td><td>1971</td><td>\"Whittier Narrows Dam\"</td><td>6.61</td><td>Reverse</td><td>39.45</td><td>39.45</td><td>298.68</td><td>0.125</td><td>1</td><td>RSN93_SFERN_WND143.AT2</td><td>RSN93_SFERN_WND233.AT2</td><td>RSN93_SFERN_WNDDWN.AT2</td></tr><tr><td>59</td><td>SRSS</td><td>94</td><td>-</td><td>1</td><td>-</td><td>7.3</td><td>11.7</td><td>0</td><td>\"San Fernando\"</td><td>1971</td><td>\"Wrightwood - 6074 Park Dr\"</td><td>6.61</td><td>Reverse</td><td>61.64</td><td>62.23</td><td>486</td><td>0.25</td><td>1</td><td>RSN94_SFERN_WTW025.AT2</td><td>RSN94_SFERN_WTW295.AT2</td><td>RSN94_SFERN_WTWDWN.AT2</td></tr><tr><td>60</td><td>SRSS</td><td>95</td><td>-</td><td>1</td><td>-</td><td>4.9</td><td>10.6</td><td>2</td><td>\"Managua_ Nicaragua-01\"</td><td>1972</td><td>\"Managua_ ESSO\"</td><td>6.24</td><td>strike slip</td><td>3.51</td><td>4.06</td><td>288.77</td><td>0.375</td><td>1</td><td>RSN95_MANAGUA_A-ESO090.AT2</td><td>RSN95_MANAGUA_A-ESO180.AT2</td><td>RSN95_MANAGUA_A-ESODWN.AT2</td></tr><tr><td>61</td><td>SRSS</td><td>121</td><td>-</td><td>1</td><td>-</td><td>4.3</td><td>10.4</td><td>0</td><td>\"Friuli_ Italy-01\"</td><td>1976</td><td>\"Barcis\"</td><td>6.5</td><td>Reverse</td><td>49.13</td><td>49.38</td><td>496.46</td><td>0.15</td><td>1</td><td>RSN121_FRIULI.A_A-BCS000.AT2</td><td>RSN121_FRIULI.A_A-BCS270.AT2</td><td>RSN121_FRIULI.A_A-BCS-UP.AT2</td></tr><tr><td>62</td><td>SRSS</td><td>122</td><td>-</td><td>1</td><td>-</td><td>10.5</td><td>19</td><td>0.1</td><td>\"Friuli_ Italy-01\"</td><td>1976</td><td>\"Codroipo\"</td><td>6.5</td><td>Reverse</td><td>33.32</td><td>33.4</td><td>249.28</td><td>0.125</td><td>1</td><td>RSN122_FRIULI.A_A-COD000.AT2</td><td>RSN122_FRIULI.A_A-COD270.AT2</td><td>RSN122_FRIULI.A_A-COD-UP.AT2</td></tr><tr><td>63</td><td>SRSS</td><td>123</td><td>-</td><td>1</td><td>-</td><td>8.4</td><td>19.1</td><td>0.1</td><td>\"Friuli_ Italy-01\"</td><td>1976</td><td>\"Conegliano\"</td><td>6.5</td><td>Reverse</td><td>80.37</td><td>80.41</td><td>352.05</td><td>0.5</td><td>1</td><td>RSN123_FRIULI.A_A-CLV000.AT2</td><td>RSN123_FRIULI.A_A-CLV270.AT2</td><td>RSN123_FRIULI.A_A-CLV-UP.AT2</td></tr><tr><td>64</td><td>SRSS</td><td>124</td><td>-</td><td>1</td><td>-</td><td>5</td><td>12.7</td><td>0</td><td>\"Friuli_ Italy-01\"</td><td>1976</td><td>\"Feltre\"</td><td>6.5</td><td>Reverse</td><td>102.05</td><td>102.15</td><td>356.39</td><td>1.125</td><td>1</td><td>RSN124_FRIULI.A_A-FLT000.AT2</td><td>RSN124_FRIULI.A_A-FLT270.AT2</td><td>RSN124_FRIULI.A_A-FLT-UP.AT2</td></tr><tr><td>65</td><td>SRSS</td><td>125</td><td>-</td><td>1</td><td>-</td><td>2.5</td><td>4.9</td><td>1.2</td><td>\"Friuli_ Italy-01\"</td><td>1976</td><td>\"Tolmezzo\"</td><td>6.5</td><td>Reverse</td><td>14.97</td><td>15.82</td><td>505.23</td><td>0.1625</td><td>1</td><td>RSN125_FRIULI.A_A-TMZ000.AT2</td><td>RSN125_FRIULI.A_A-TMZ270.AT2</td><td>RSN125_FRIULI.A_A-TMZ-UP.AT2</td></tr><tr><td>66</td><td>SRSS</td><td>126</td><td>-</td><td>1</td><td>-</td><td>5.6</td><td>7</td><td>5.7</td><td>\"Gazli_ USSR\"</td><td>1976</td><td>\"Karakyr\"</td><td>6.8</td><td>Reverse</td><td>3.92</td><td>5.46</td><td>259.59</td><td>0.25</td><td>1</td><td>RSN126_GAZLI_GAZ000.AT2</td><td>RSN126_GAZLI_GAZ090.AT2</td><td>RSN126_GAZLI_GAZ-UP.AT2</td></tr><tr><td>67</td><td>SRSS</td><td>137</td><td>-</td><td>1</td><td>-</td><td>21.3</td><td>25.9</td><td>0.1</td><td>\"Tabas_ Iran\"</td><td>1978</td><td>\"Bajestan\"</td><td>7.35</td><td>Reverse</td><td>119.77</td><td>120.81</td><td>377.56</td><td>0.15625</td><td>1</td><td>RSN137_TABAS_BAJ-L1.AT2</td><td>RSN137_TABAS_BAJ-T1.AT2</td><td>RSN137_TABAS_BAJ-V1.AT2</td></tr><tr><td>68</td><td>SRSS</td><td>138</td><td>-</td><td>1</td><td>-</td><td>14.6</td><td>19.5</td><td>0.3</td><td>\"Tabas_ Iran\"</td><td>1978</td><td>\"Boshrooyeh\"</td><td>7.35</td><td>Reverse</td><td>24.07</td><td>28.79</td><td>324.57</td><td>0.15625</td><td>1</td><td>RSN138_TABAS_BOS-L1.AT2</td><td>RSN138_TABAS_BOS-T1.AT2</td><td>RSN138_TABAS_BOS-V1.AT2</td></tr><tr><td>69</td><td>SRSS</td><td>139</td><td>-</td><td>1</td><td>-</td><td>6.7</td><td>11.3</td><td>1.4</td><td>\"Tabas_ Iran\"</td><td>1978</td><td>\"Dayhook\"</td><td>7.35</td><td>Reverse</td><td>0</td><td>13.94</td><td>471.53</td><td>0.25</td><td>1</td><td>RSN139_TABAS_DAY-L1.AT2</td><td>RSN139_TABAS_DAY-T1.AT2</td><td>RSN139_TABAS_DAY-V1.AT2</td></tr><tr><td>70</td><td>SRSS</td><td>140</td><td>-</td><td>1</td><td>-</td><td>20.5</td><td>24.2</td><td>0.2</td><td>\"Tabas_ Iran\"</td><td>1978</td><td>\"Ferdows\"</td><td>7.35</td><td>Reverse</td><td>89.76</td><td>91.14</td><td>302.64</td><td>0.15625</td><td>1</td><td>RSN140_TABAS_FER-L1.AT2</td><td>RSN140_TABAS_FER-T1.AT2</td><td>RSN140_TABAS_FER-V1.AT2</td></tr><tr><td>71</td><td>SRSS</td><td>141</td><td>-</td><td>1</td><td>-</td><td>16.8</td><td>26.4</td><td>0.1</td><td>\"Tabas_ Iran\"</td><td>1978</td><td>\"Kashmar\"</td><td>7.35</td><td>Reverse</td><td>193.91</td><td>194.55</td><td>280.26</td><td>0.15625</td><td>1</td><td>RSN141_TABAS_KSH-L1.AT2</td><td>RSN141_TABAS_KSH-T1.AT2</td><td>RSN141_TABAS_KSH-V1.AT2</td></tr><tr><td>72</td><td>SRSS</td><td>142</td><td>-</td><td>1</td><td>-</td><td>22.7</td><td>30.1</td><td>0</td><td>\"Tabas_ Iran\"</td><td>1978</td><td>\"Sedeh\"</td><td>7.35</td><td>Reverse</td><td>150.33</td><td>151.16</td><td>354.37</td><td>0.15625</td><td>1</td><td>RSN142_TABAS_SED-L1.AT2</td><td>RSN142_TABAS_SED-T1.AT2</td><td>RSN142_TABAS_SED-V1.AT2</td></tr><tr><td>73</td><td>SRSS</td><td>143</td><td>-</td><td>1</td><td>6.188</td><td>8.3</td><td>16.5</td><td>11.8</td><td>\"Tabas_ Iran\"</td><td>1978</td><td>\"Tabas\"</td><td>7.35</td><td>Reverse</td><td>1.79</td><td>2.05</td><td>766.77</td><td>0.125</td><td>1</td><td>RSN143_TABAS_TAB-L1.AT2</td><td>RSN143_TABAS_TAB-T1.AT2</td><td>RSN143_TABAS_TAB-V1.AT2</td></tr><tr><td>74</td><td>SRSS</td><td>158</td><td>-</td><td>1</td><td>-</td><td>6.1</td><td>9.8</td><td>1.2</td><td>\"Imperial Valley-06\"</td><td>1979</td><td>\"Aeropuerto Mexicali\"</td><td>6.53</td><td>strike slip</td><td>0</td><td>0.34</td><td>259.86</td><td>0.2875</td><td>1</td><td>RSN158_IMPVALL.H_H-AEP045.AT2</td><td>RSN158_IMPVALL.H_H-AEP315.AT2</td><td>RSN158_IMPVALL.H_H-AEP-UP.AT2</td></tr><tr><td>75</td><td>SRSS</td><td>159</td><td>-</td><td>1</td><td>2.338</td><td>6.7</td><td>13.3</td><td>1</td><td>\"Imperial Valley-06\"</td><td>1979</td><td>\"Agrarias\"</td><td>6.53</td><td>strike slip</td><td>0</td><td>0.65</td><td>242.05</td><td>0.1625</td><td>1</td><td>RSN159_IMPVALL.H_H-AGR003.AT2</td><td>RSN159_IMPVALL.H_H-AGR273.AT2</td><td>RSN159_IMPVALL.H_H-AGRDWN.AT2</td></tr><tr><td>76</td><td>SRSS</td><td>160</td><td>-</td><td>1</td><td>-</td><td>6.1</td><td>9.7</td><td>6.1</td><td>\"Imperial Valley-06\"</td><td>1979</td><td>\"Bonds Corner\"</td><td>6.53</td><td>strike slip</td><td>0.44</td><td>2.66</td><td>223.03</td><td>0.125</td><td>1</td><td>RSN160_IMPVALL.H_H-BCR140.AT2</td><td>RSN160_IMPVALL.H_H-BCR230.AT2</td><td>RSN160_IMPVALL.H_H-BCR-UP.AT2</td></tr><tr><td>77</td><td>SRSS</td><td>161</td><td>-</td><td>1</td><td>4.396</td><td>5.3</td><td>14.9</td><td>0.4</td><td>\"Imperial Valley-06\"</td><td>1979</td><td>\"Brawley Airport\"</td><td>6.53</td><td>strike slip</td><td>8.54</td><td>10.42</td><td>208.71</td><td>0.05375</td><td>1</td><td>RSN161_IMPVALL.H_H-BRA225.AT2</td><td>RSN161_IMPVALL.H_H-BRA315.AT2</td><td>RSN161_IMPVALL.H_H-BRA-UP.AT2</td></tr><tr><td>78</td><td>SRSS</td><td>162</td><td>-</td><td>1</td><td>-</td><td>7.2</td><td>14.8</td><td>0.9</td><td>\"Imperial Valley-06\"</td><td>1979</td><td>\"Calexico Fire Station\"</td><td>6.53</td><td>strike slip</td><td>10.45</td><td>10.45</td><td>231.23</td><td>0.05</td><td>1</td><td>RSN162_IMPVALL.H_H-CXO225.AT2</td><td>RSN162_IMPVALL.H_H-CXO315.AT2</td><td>RSN162_IMPVALL.H_H-CXO-UP.AT2</td></tr><tr><td>79</td><td>SRSS</td><td>163</td><td>-</td><td>1</td><td>-</td><td>12.2</td><td>25.9</td><td>0.1</td><td>\"Imperial Valley-06\"</td><td>1979</td><td>\"Calipatria Fire Station\"</td><td>6.53</td><td>strike slip</td><td>23.17</td><td>24.6</td><td>205.78</td><td>0.0875</td><td>1</td><td>RSN163_IMPVALL.H_H-CAL225.AT2</td><td>RSN163_IMPVALL.H_H-CAL315.AT2</td><td>RSN163_IMPVALL.H_H-CAL-UP.AT2</td></tr><tr><td>80</td><td>SRSS</td><td>164</td><td>-</td><td>1</td><td>-</td><td>19.7</td><td>36.4</td><td>1.3</td><td>\"Imperial Valley-06\"</td><td>1979</td><td>\"Cerro Prieto\"</td><td>6.53</td><td>strike slip</td><td>15.19</td><td>15.19</td><td>471.53</td><td>0.1125</td><td>1</td><td>RSN164_IMPVALL.H_H-CPE147.AT2</td><td>RSN164_IMPVALL.H_H-CPE237.AT2</td><td>RSN164_IMPVALL.H_H-CPEDWN.AT2</td></tr><tr><td>81</td><td>SRSS</td><td>165</td><td>-</td><td>1</td><td>-</td><td>13.2</td><td>24</td><td>1.2</td><td>\"Imperial Valley-06\"</td><td>1979</td><td>\"Chihuahua\"</td><td>6.53</td><td>strike slip</td><td>7.29</td><td>7.29</td><td>242.05</td><td>0.225</td><td>1</td><td>RSN165_IMPVALL.H_H-CHI012.AT2</td><td>RSN165_IMPVALL.H_H-CHI282.AT2</td><td>RSN165_IMPVALL.H_H-CHIDWN.AT2</td></tr><tr><td>82</td><td>SRSS</td><td>166</td><td>-</td><td>1</td><td>-</td><td>4.7</td><td>11.1</td><td>0.2</td><td>\"Imperial Valley-06\"</td><td>1979</td><td>\"Coachella Canal #4\"</td><td>6.53</td><td>strike slip</td><td>49.1</td><td>50.1</td><td>336.49</td><td>0.1375</td><td>1</td><td>RSN166_IMPVALL.H_H-CC4045.AT2</td><td>RSN166_IMPVALL.H_H-CC4135.AT2</td><td>RSN166_IMPVALL.H_H-CC4-UP.AT2</td></tr><tr><td>83</td><td>SRSS</td><td>167</td><td>-</td><td>1</td><td>-</td><td>13.4</td><td>28.7</td><td>0.4</td><td>\"Imperial Valley-06\"</td><td>1979</td><td>\"Compuertas\"</td><td>6.53</td><td>strike slip</td><td>13.52</td><td>15.3</td><td>259.86</td><td>0.15</td><td>1</td><td>RSN167_IMPVALL.H_H-CMP015.AT2</td><td>RSN167_IMPVALL.H_H-CMP285.AT2</td><td>RSN167_IMPVALL.H_H-CMPDWN.AT2</td></tr><tr><td>84</td><td>SRSS</td><td>169</td><td>-</td><td>1</td><td>-</td><td>24.4</td><td>51.4</td><td>3.3</td><td>\"Imperial Valley-06\"</td><td>1979</td><td>\"Delta\"</td><td>6.53</td><td>strike slip</td><td>22.03</td><td>22.03</td><td>242.05</td><td>0.0875</td><td>1</td><td>RSN169_IMPVALL.H_H-DLT262.AT2</td><td>RSN169_IMPVALL.H_H-DLT352.AT2</td><td>RSN169_IMPVALL.H_H-DLTDWN.AT2</td></tr><tr><td>85</td><td>SRSS</td><td>170</td><td>-</td><td>1</td><td>4.417</td><td>4.7</td><td>13.2</td><td>0.8</td><td>\"Imperial Valley-06\"</td><td>1979</td><td>\"EC County Center FF\"</td><td>6.53</td><td>strike slip</td><td>7.31</td><td>7.31</td><td>192.05</td><td>0.075</td><td>1</td><td>RSN170_IMPVALL.H_H-ECC002.AT2</td><td>RSN170_IMPVALL.H_H-ECC092.AT2</td><td>RSN170_IMPVALL.H_H-ECC-UP.AT2</td></tr><tr><td>86</td><td>SRSS</td><td>171</td><td>-</td><td>1</td><td>3.423</td><td>2.3</td><td>8.2</td><td>1.1</td><td>\"Imperial Valley-06\"</td><td>1979</td><td>\"El Centro - Meloland Geot. Array\"</td><td>6.53</td><td>strike slip</td><td>0.07</td><td>0.07</td><td>264.57</td><td>0.1</td><td>1</td><td>RSN171_IMPVALL.H_H-EMO000.AT2</td><td>RSN171_IMPVALL.H_H-EMO270.AT2</td><td>RSN171_IMPVALL.H_H-EMO-UP.AT2</td></tr><tr><td>87</td><td>SRSS</td><td>172</td><td>-</td><td>1</td><td>-</td><td>7</td><td>19.5</td><td>0.3</td><td>\"Imperial Valley-06\"</td><td>1979</td><td>\"El Centro Array #1\"</td><td>6.53</td><td>strike slip</td><td>19.76</td><td>21.68</td><td>237.33</td><td>0.1125</td><td>1</td><td>RSN172_IMPVALL.H_H-E01140.AT2</td><td>RSN172_IMPVALL.H_H-E01230.AT2</td><td>RSN172_IMPVALL.H_H-E01-UP.AT2</td></tr><tr><td>88</td><td>SRSS</td><td>173</td><td>-</td><td>1</td><td>4.515</td><td>5.3</td><td>12.8</td><td>0.7</td><td>\"Imperial Valley-06\"</td><td>1979</td><td>\"El Centro Array #10\"</td><td>6.53</td><td>strike slip</td><td>8.6</td><td>8.6</td><td>202.85</td><td>0.075</td><td>1</td><td>RSN173_IMPVALL.H_H-E10050.AT2</td><td>RSN173_IMPVALL.H_H-E10320.AT2</td><td>RSN173_IMPVALL.H_H-E10-UP.AT2</td></tr><tr><td>89</td><td>SRSS</td><td>174</td><td>-</td><td>1</td><td>-</td><td>4.6</td><td>9</td><td>2</td><td>\"Imperial Valley-06\"</td><td>1979</td><td>\"El Centro Array #11\"</td><td>6.53</td><td>strike slip</td><td>12.56</td><td>12.56</td><td>196.25</td><td>0.1</td><td>1</td><td>RSN174_IMPVALL.H_H-E11140.AT2</td><td>RSN174_IMPVALL.H_H-E11230.AT2</td><td>RSN174_IMPVALL.H_H-E11-UP.AT2</td></tr><tr><td>90</td><td>SRSS</td><td>175</td><td>-</td><td>1</td><td>-</td><td>9.7</td><td>19.6</td><td>0.4</td><td>\"Imperial Valley-06\"</td><td>1979</td><td>\"El Centro Array #12\"</td><td>6.53</td><td>strike slip</td><td>17.94</td><td>17.94</td><td>196.88</td><td>0.0875</td><td>1</td><td>RSN175_IMPVALL.H_H-E12140.AT2</td><td>RSN175_IMPVALL.H_H-E12230.AT2</td><td>RSN175_IMPVALL.H_H-E12-UP.AT2</td></tr><tr><td>91</td><td>SRSS</td><td>176</td><td>-</td><td>1</td><td>-</td><td>8.9</td><td>21.6</td><td>0.3</td><td>\"Imperial Valley-06\"</td><td>1979</td><td>\"El Centro Array #13\"</td><td>6.53</td><td>strike slip</td><td>21.98</td><td>21.98</td><td>249.92</td><td>0.1</td><td>1</td><td>RSN176_IMPVALL.H_H-E13140.AT2</td><td>RSN176_IMPVALL.H_H-E13230.AT2</td><td>RSN176_IMPVALL.H_H-E13-UP.AT2</td></tr><tr><td>92</td><td>SRSS</td><td>178</td><td>-</td><td>1</td><td>4.501</td><td>5.1</td><td>14.1</td><td>1.2</td><td>\"Imperial Valley-06\"</td><td>1979</td><td>\"El Centro Array #3\"</td><td>6.53</td><td>strike slip</td><td>10.79</td><td>12.85</td><td>162.94</td><td>0.0625</td><td>1</td><td>RSN178_IMPVALL.H_H-E03140.AT2</td><td>RSN178_IMPVALL.H_H-E03230.AT2</td><td>RSN178_IMPVALL.H_H-E03-UP.AT2</td></tr><tr><td>93</td><td>SRSS</td><td>179</td><td>-</td><td>1</td><td>4.788</td><td>3.4</td><td>10.3</td><td>1.4</td><td>\"Imperial Valley-06\"</td><td>1979</td><td>\"El Centro Array #4\"</td><td>6.53</td><td>strike slip</td><td>4.9</td><td>7.05</td><td>208.91</td><td>0.0625</td><td>1</td><td>RSN179_IMPVALL.H_H-E04140.AT2</td><td>RSN179_IMPVALL.H_H-E04230.AT2</td><td>RSN179_IMPVALL.H_H-E04-UP.AT2</td></tr><tr><td>94</td><td>SRSS</td><td>180</td><td>-</td><td>1</td><td>4.13</td><td>3.8</td><td>9.6</td><td>1.7</td><td>\"Imperial Valley-06\"</td><td>1979</td><td>\"El Centro Array #5\"</td><td>6.53</td><td>strike slip</td><td>1.76</td><td>3.95</td><td>205.63</td><td>0.05</td><td>1</td><td>RSN180_IMPVALL.H_H-E05140.AT2</td><td>RSN180_IMPVALL.H_H-E05230.AT2</td><td>RSN180_IMPVALL.H_H-E05-UP.AT2</td></tr><tr><td>95</td><td>SRSS</td><td>181</td><td>-</td><td>1</td><td>3.773</td><td>5.3</td><td>11.5</td><td>1.8</td><td>\"Imperial Valley-06\"</td><td>1979</td><td>\"El Centro Array #6\"</td><td>6.53</td><td>strike slip</td><td>0</td><td>1.35</td><td>203.22</td><td>0.0625</td><td>1</td><td>RSN181_IMPVALL.H_H-E06140.AT2</td><td>RSN181_IMPVALL.H_H-E06230.AT2</td><td>RSN181_IMPVALL.H_H-E06-UP.AT2</td></tr><tr><td>96</td><td>SRSS</td><td>182</td><td>-</td><td>1</td><td>4.375</td><td>2.8</td><td>6.8</td><td>1.7</td><td>\"Imperial Valley-06\"</td><td>1979</td><td>\"El Centro Array #7\"</td><td>6.53</td><td>strike slip</td><td>0.56</td><td>0.56</td><td>210.51</td><td>0.075</td><td>1</td><td>RSN182_IMPVALL.H_H-E07140.AT2</td><td>RSN182_IMPVALL.H_H-E07230.AT2</td><td>RSN182_IMPVALL.H_H-E07-UP.AT2</td></tr><tr><td>97</td><td>SRSS</td><td>183</td><td>-</td><td>1</td><td>-</td><td>3</td><td>6.8</td><td>1.6</td><td>\"Imperial Valley-06\"</td><td>1979</td><td>\"El Centro Array #8\"</td><td>6.53</td><td>strike slip</td><td>3.86</td><td>3.86</td><td>206.08</td><td>0.0375</td><td>1</td><td>RSN183_IMPVALL.H_H-E08140.AT2</td><td>RSN183_IMPVALL.H_H-E08230.AT2</td><td>RSN183_IMPVALL.H_H-E08-UP.AT2</td></tr><tr><td>98</td><td>SRSS</td><td>184</td><td>-</td><td>1</td><td>6.265</td><td>3.7</td><td>7</td><td>2.1</td><td>\"Imperial Valley-06\"</td><td>1979</td><td>\"El Centro Differential Array\"</td><td>6.53</td><td>strike slip</td><td>5.09</td><td>5.09</td><td>202.26</td><td>0.02875</td><td>1</td><td>RSN184_IMPVALL.H_H-EDA270.AT2</td><td>RSN184_IMPVALL.H_H-EDA360.AT2</td><td>RSN184_IMPVALL.H_H-EDA-UP.AT2</td></tr><tr><td>99</td><td>SRSS</td><td>185</td><td>-</td><td>1</td><td>4.823</td><td>4.7</td><td>12.8</td><td>0.9</td><td>\"Imperial Valley-06\"</td><td>1979</td><td>\"Holtville Post Office\"</td><td>6.53</td><td>strike slip</td><td>5.35</td><td>7.5</td><td>202.89</td><td>0.075</td><td>1</td><td>RSN185_IMPVALL.H_H-HVP225.AT2</td><td>RSN185_IMPVALL.H_H-HVP315.AT2</td><td>RSN185_IMPVALL.H_H-HVP-UP.AT2</td></tr><tr><td>100</td><td>SRSS</td><td>186</td><td>-</td><td>1</td><td>-</td><td>12</td><td>26.4</td><td>0.2</td><td>\"Imperial Valley-06\"</td><td>1979</td><td>\"Niland Fire Station\"</td><td>6.53</td><td>strike slip</td><td>35.64</td><td>36.92</td><td>212</td><td>0.075</td><td>1</td><td>RSN186_IMPVALL.H_H-NIL090.AT2</td><td>RSN186_IMPVALL.H_H-NIL360.AT2</td><td>RSN186_IMPVALL.H_H-NIL-UP.AT2</td></tr></table>', 'languages': ['eng'], 'filetype': 'application/vnd.openxmlformats-officedocument.spreadsheetml.sheet', 'parent_id': 'e08c63045927bbdaf1cbbeb9054db4b1', 'category': 'Table', 'element_id': '1d41d134c31b6cbe1edd7ce00760f380'}, page_content='Result ID Spectral Ordinate Record Sequence Number Mean Squared Error Scale Factor Tp-Pulse Period (sec) 5-75% Duration (sec) 5-95% Duration (sec) Arias Intensity (m/sec) Earthquake Name Year Station Name Magnitude Mechanism Rjb (km) Rrup (km) Vs30 (m/sec) Lowest Useable Frequency (Hz) Initial-search Scale Factor Horizontal-1 Acc. Filename Horizontal-2 Acc. Filename Vertical Acc. Filename 1 SRSS 6 - 1 - 17.7 24.2 1.6 \"Imperial Valley-02\" 1940 \"El Centro Array #9\" 6.95 strike slip 6.09 6.09 213.44 0.25 1 RSN6_IMPVALL.I_I-ELC180.AT2 RSN6_IMPVALL.I_I-ELC270.AT2 RSN6_IMPVALL.I_I-ELC-UP.AT2 2 SRSS 7 - 1 - 9 22.2 0 \"Northwest Calif-02\" 1941 \"Ferndale City Hall\" 6.6 strike slip 91.15 91.22 219.31 0.1625 1 RSN7_NWCALIF.C_C-FRN045.AT2 RSN7_NWCALIF.C_C-FRN135.AT2 RSN7_NWCALIF.C_C-FRN-UP.AT2 3 SRSS 8 - 1 - 4.8 15.5 0.1 \"Northern Calif-01\" 1941 \"Ferndale City Hall\" 6.4 strike slip 44.52 44.68 219.31 0.375 1 RSN8_NCALIF.FH_F-FRN225.AT2 RSN8_NCALIF.FH_F-FRN315.AT2 RSN8_NCALIF.FH_F-FRN-UP.AT2 4 SRSS')]"
      ]
     },
     "execution_count": 38,
     "metadata": {},
     "output_type": "execute_result"
    }
   ],
   "source": [
    "# Split the document into chunks\n",
    "text_spliter = RecursiveCharacterTextSplitter(chunk_size=1000,\n",
    "                                              chunk_overlap=200)\n",
    "chunk = text_spliter.split_documents(docs)\n",
    "\n",
    "chunk[:5]"
   ]
  },
  {
   "cell_type": "code",
   "execution_count": 39,
   "metadata": {},
   "outputs": [
    {
     "data": {
      "text/plain": [
       "(515, 10)"
      ]
     },
     "execution_count": 39,
     "metadata": {},
     "output_type": "execute_result"
    }
   ],
   "source": [
    "len(chunk), len(docs)"
   ]
  },
  {
   "cell_type": "code",
   "execution_count": 41,
   "metadata": {},
   "outputs": [],
   "source": [
    "# Embeddings with huggingface and faiss\n",
    "embeddings = HuggingFaceEmbeddings()\n",
    "vector_store = FAISS.from_documents(chunk, embeddings)"
   ]
  },
  {
   "cell_type": "code",
   "execution_count": 42,
   "metadata": {},
   "outputs": [
    {
     "data": {
      "text/plain": [
       "[(Document(metadata={'source': 'D:\\\\All Python\\\\Pure-Python\\\\P4\\\\06-PromptEngineering\\\\Project 2 - RAG\\\\data\\\\earthq.xlsx', 'file_directory': 'D:\\\\All Python\\\\Pure-Python\\\\P4\\\\06-PromptEngineering\\\\Project 2 - RAG\\\\data', 'filename': 'earthq.xlsx', 'last_modified': '2024-11-07T21:28:58', 'page_name': 'earthq', 'page_number': 1, 'text_as_html': '<table><tr><td>Magnitude Min:</td><td>6.24</td></tr><tr><td>Magnitude Max:</td><td>7.68</td></tr><tr><td>Rrup Min (km):</td><td>-0.000001</td></tr><tr><td>Rrup Max (km):</td><td>99999</td></tr><tr><td>Rjb Min (km):</td><td>-0.000001</td></tr><tr><td>Rjb Max (km):</td><td>99999</td></tr><tr><td>Vs30 Min (m/sec):</td><td>-0.000001</td></tr><tr><td>Vs30 Max (m/sec):</td><td>99999</td></tr><tr><td>D9-95 Min (sec):</td><td>-0.000001</td></tr><tr><td>D9-95 Max (sec):</td><td>99999</td></tr><tr><td>Scale Factor Min:</td><td>-0.000001</td></tr><tr><td>Scale Factor Max:</td><td>99999</td></tr><tr><td>Period Array:</td><td/></tr><tr><td>Weight Array:</td><td/></tr><tr><td>Record Sequence Number:</td><td/></tr><tr><td>Earthquake Name:</td><td/></tr><tr><td>Station Name:</td><td/></tr><tr><td>User-Defined Maximum Number of Records:</td><td/></tr><tr><td>Pulse:</td><td>1</td></tr><tr><td>Damping Ratio:</td><td>0.05</td></tr><tr><td>Scaling Method:</td><td>No Scaling</td></tr><tr><td>Suite Average:</td><td>Arithmetic</td></tr><tr><td>Single-Period-Scaling Period (sec):</td><td/></tr><tr><td>Component:</td><td>SRSS</td></tr><tr><td>Fault Type:</td><td>All Types</td></tr></table>', 'languages': ['eng'], 'filetype': 'application/vnd.openxmlformats-officedocument.spreadsheetml.sheet', 'parent_id': '323f6ced78c73deb9f9844d8794cd803', 'category': 'Table', 'element_id': '39f024ff0a2ea7f9a70a3f95182b63db'}, page_content='Magnitude Min: 6.24 Magnitude Max: 7.68 Rrup Min (km): -0.000001 Rrup Max (km): 99999 Rjb Min (km): -0.000001 Rjb Max (km): 99999 Vs30 Min (m/sec): -0.000001 Vs30 Max (m/sec): 99999 D9-95 Min (sec): -0.000001 D9-95 Max (sec): 99999 Scale Factor Min: -0.000001 Scale Factor Max: 99999 Period Array: Weight Array: Record Sequence Number: Earthquake Name: Station Name: User-Defined Maximum Number of Records: Pulse: 1 Damping Ratio: 0.05 Scaling Method: No Scaling Suite Average: Arithmetic Single-Period-Scaling Period (sec): Component: SRSS Fault Type: All Types'),\n",
       "  0.8725035),\n",
       " (Document(metadata={'source': 'D:\\\\All Python\\\\Pure-Python\\\\P4\\\\06-PromptEngineering\\\\Project 2 - RAG\\\\data\\\\earthq.xlsx', 'file_directory': 'D:\\\\All Python\\\\Pure-Python\\\\P4\\\\06-PromptEngineering\\\\Project 2 - RAG\\\\data', 'filename': 'earthq.xlsx', 'last_modified': '2024-11-07T21:28:58', 'page_name': 'earthq', 'page_number': 1, 'text_as_html': '<table><tr><td>These records are UNSCALED</td><td>AS RECORDED</td><td/></tr><tr><td>Filename Extension:</td><td/><td/></tr><tr><td/><td>AT2 = Acceleration</td><td/></tr><tr><td/><td>VT2 = Velocity</td><td/></tr><tr><td/><td>DT2 = Displacement</td><td/></tr><tr><td>The users of the NGA-West2 databases</td><td>flatfiles</td><td>models and reports are requested to acknowledge the Pacific Earthquake Engineering Research Center (PEER) in their work and publications.</td></tr></table>', 'languages': ['eng'], 'filetype': 'application/vnd.openxmlformats-officedocument.spreadsheetml.sheet', 'parent_id': 'e08c63045927bbdaf1cbbeb9054db4b1', 'category': 'Table', 'element_id': '1f0fb2b3221c824a7e5c8baaeb32e986'}, page_content='These records are UNSCALED AS RECORDED Filename Extension: AT2 = Acceleration VT2 = Velocity DT2 = Displacement The users of the NGA-West2 databases flatfiles models and reports are requested to acknowledge the Pacific Earthquake Engineering Research Center (PEER) in their work and publications.'),\n",
       "  0.8840966),\n",
       " (Document(metadata={'source': 'D:\\\\All Python\\\\Pure-Python\\\\P4\\\\06-PromptEngineering\\\\Project 2 - RAG\\\\data\\\\earthq.xlsx', 'file_directory': 'D:\\\\All Python\\\\Pure-Python\\\\P4\\\\06-PromptEngineering\\\\Project 2 - RAG\\\\data', 'filename': 'earthq.xlsx', 'last_modified': '2024-11-07T21:28:58', 'page_name': 'earthq', 'page_number': 1, 'text_as_html': '<table><tr><td>Result ID</td><td>Spectral Ordinate</td><td>Record Sequence Number</td><td>Mean Squared Error</td><td>Scale Factor</td><td>Tp-Pulse Period (sec)</td><td>5-75% Duration (sec)</td><td>5-95% Duration (sec)</td><td>Arias Intensity (m/sec)</td><td>Earthquake Name</td><td>Year</td><td>Station Name</td><td>Magnitude</td><td>Mechanism</td><td>Rjb (km)</td><td>Rrup (km)</td><td>Vs30 (m/sec)</td><td>Lowest Useable Frequency (Hz)</td><td>Initial-search Scale Factor</td><td>Horizontal-1 Acc. Filename</td><td>Horizontal-2 Acc. Filename</td><td>Vertical Acc. Filename</td></tr><tr><td>1</td><td>SRSS</td><td>6</td><td>-</td><td>1</td><td>-</td><td>17.7</td><td>24.2</td><td>1.6</td><td>\"Imperial Valley-02\"</td><td>1940</td><td>\"El Centro Array #9\"</td><td>6.95</td><td>strike slip</td><td>6.09</td><td>6.09</td><td>213.44</td><td>0.25</td><td>1</td><td>RSN6_IMPVALL.I_I-ELC180.AT2</td><td>RSN6_IMPVALL.I_I-ELC270.AT2</td><td>RSN6_IMPVALL.I_I-ELC-UP.AT2</td></tr><tr><td>2</td><td>SRSS</td><td>7</td><td>-</td><td>1</td><td>-</td><td>9</td><td>22.2</td><td>0</td><td>\"Northwest Calif-02\"</td><td>1941</td><td>\"Ferndale City Hall\"</td><td>6.6</td><td>strike slip</td><td>91.15</td><td>91.22</td><td>219.31</td><td>0.1625</td><td>1</td><td>RSN7_NWCALIF.C_C-FRN045.AT2</td><td>RSN7_NWCALIF.C_C-FRN135.AT2</td><td>RSN7_NWCALIF.C_C-FRN-UP.AT2</td></tr><tr><td>3</td><td>SRSS</td><td>8</td><td>-</td><td>1</td><td>-</td><td>4.8</td><td>15.5</td><td>0.1</td><td>\"Northern Calif-01\"</td><td>1941</td><td>\"Ferndale City Hall\"</td><td>6.4</td><td>strike slip</td><td>44.52</td><td>44.68</td><td>219.31</td><td>0.375</td><td>1</td><td>RSN8_NCALIF.FH_F-FRN225.AT2</td><td>RSN8_NCALIF.FH_F-FRN315.AT2</td><td>RSN8_NCALIF.FH_F-FRN-UP.AT2</td></tr><tr><td>4</td><td>SRSS</td><td>9</td><td>-</td><td>1</td><td>-</td><td>21.5</td><td>37.2</td><td>0.1</td><td>\"Borrego\"</td><td>1942</td><td>\"El Centro Array #9\"</td><td>6.5</td><td>strike slip</td><td>56.88</td><td>56.88</td><td>213.44</td><td>0.125</td><td>1</td><td>RSN9_BORREGO_B-ELC000.AT2</td><td>RSN9_BORREGO_B-ELC090.AT2</td><td>RSN9_BORREGO_B-ELC-UP.AT2</td></tr><tr><td>5</td><td>SRSS</td><td>12</td><td>-</td><td>1</td><td>-</td><td>18.6</td><td>33.5</td><td>0.1</td><td>\"Kern County\"</td><td>1952</td><td>\"LA - Hollywood Stor FF\"</td><td>7.36</td><td>Reverse</td><td>114.62</td><td>117.75</td><td>316.46</td><td>0.125</td><td>1</td><td>RSN12_KERN.PEL_PEL090.AT2</td><td>RSN12_KERN.PEL_PEL180.AT2</td><td>RSN12_KERN.PEL_PEL-UP.AT2</td></tr><tr><td>6</td><td>SRSS</td><td>13</td><td>-</td><td>1</td><td>-</td><td>16.6</td><td>29.5</td><td>0.1</td><td>\"Kern County\"</td><td>1952</td><td>\"Pasadena - CIT Athenaeum\"</td><td>7.36</td><td>Reverse</td><td>122.65</td><td>125.59</td><td>415.13</td><td>0.25</td><td>1</td><td>RSN13_KERN_PAS180.AT2</td><td>RSN13_KERN_PAS270.AT2</td><td>RSN13_KERN_PAS-UP.AT2</td></tr><tr><td>7</td><td>SRSS</td><td>14</td><td>-</td><td>1</td><td>-</td><td>12.4</td><td>33.6</td><td>0.3</td><td>\"Kern County\"</td><td>1952</td><td>\"Santa Barbara Courthouse\"</td><td>7.36</td><td>Reverse</td><td>81.3</td><td>82.19</td><td>514.99</td><td>0.375</td><td>1</td><td>RSN14_KERN_SBA042.AT2</td><td>RSN14_KERN_SBA132.AT2</td><td>RSN14_KERN_SBA-UP.AT2</td></tr><tr><td>8</td><td>SRSS</td><td>15</td><td>-</td><td>1</td><td>-</td><td>10.7</td><td>30.3</td><td>0.6</td><td>\"Kern County\"</td><td>1952</td><td>\"Taft Lincoln School\"</td><td>7.36</td><td>Reverse</td><td>38.42</td><td>38.89</td><td>385.43</td><td>0.125</td><td>1</td><td>RSN15_KERN_TAF021.AT2</td><td>RSN15_KERN_TAF111.AT2</td><td>RSN15_KERN_TAF-UP.AT2</td></tr><tr><td>9</td><td>SRSS</td><td>20</td><td>-</td><td>1</td><td>-</td><td>6.8</td><td>19.4</td><td>0.5</td><td>\"Northern Calif-03\"</td><td>1954</td><td>\"Ferndale City Hall\"</td><td>6.5</td><td>strike slip</td><td>26.72</td><td>27.02</td><td>219.31</td><td>0.125</td><td>1</td><td>RSN20_NCALIF.FH_H-FRN044.AT2</td><td>RSN20_NCALIF.FH_H-FRN314.AT2</td><td>RSN20_NCALIF.FH_H-FRN-UP.AT2</td></tr><tr><td>10</td><td>SRSS</td><td>22</td><td>-</td><td>1</td><td>-</td><td>23</td><td>40.9</td><td>0.1</td><td>\"El Alamo\"</td><td>1956</td><td>\"El Centro Array #9\"</td><td>6.8</td><td>strike slip</td><td>121</td><td>121.7</td><td>213.44</td><td>0.2875</td><td>1</td><td>RSN22_ELALAMO_ELC180.AT2</td><td>RSN22_ELALAMO_ELC270.AT2</td><td>RSN22_ELALAMO_ELC-UP.AT2</td></tr><tr><td>11</td><td>SRSS</td><td>36</td><td>-</td><td>1</td><td>-</td><td>25</td><td>49.3</td><td>0.2</td><td>\"Borrego Mtn\"</td><td>1968</td><td>\"El Centro Array #9\"</td><td>6.63</td><td>strike slip</td><td>45.12</td><td>45.66</td><td>213.44</td><td>0.1</td><td>1</td><td>RSN36_BORREGO_A-ELC180.AT2</td><td>RSN36_BORREGO_A-ELC270.AT2</td><td>RSN36_BORREGO_A-ELC-UP.AT2</td></tr><tr><td>12</td><td>SRSS</td><td>37</td><td>-</td><td>1</td><td>-</td><td>17.9</td><td>26.3</td><td>0</td><td>\"Borrego Mtn\"</td><td>1968</td><td>\"LA - Hollywood Stor FF\"</td><td>6.63</td><td>strike slip</td><td>222.42</td><td>222.42</td><td>316.46</td><td>0.1625</td><td>1</td><td>RSN37_BORREGO_A-PEL090.AT2</td><td>RSN37_BORREGO_A-PEL180.AT2</td><td>RSN37_BORREGO_A-PEL-UP.AT2</td></tr><tr><td>13</td><td>SRSS</td><td>38</td><td>-</td><td>1</td><td>-</td><td>31.9</td><td>37.9</td><td>0</td><td>\"Borrego Mtn\"</td><td>1968</td><td>\"LB - Terminal Island\"</td><td>6.63</td><td>strike slip</td><td>199.84</td><td>199.84</td><td>217.92</td><td>0.25</td><td>1</td><td>RSN38_BORREGO_A-TLI249.AT2</td><td>RSN38_BORREGO_A-TLI339.AT2</td><td>RSN38_BORREGO_A-TLI-UP.AT2</td></tr><tr><td>14</td><td>SRSS</td><td>39</td><td>-</td><td>1</td><td>-</td><td>25</td><td>37.4</td><td>0</td><td>\"Borrego Mtn\"</td><td>1968</td><td>\"Pasadena - CIT Athenaeum\"</td><td>6.63</td><td>strike slip</td><td>207.14</td><td>207.14</td><td>415.13</td><td>0.1625</td><td>1</td><td>RSN39_BORREGO_A-PAS180.AT2</td><td>RSN39_BORREGO_A-PAS270.AT2</td><td>RSN39_BORREGO_A-PAS-UP.AT2</td></tr><tr><td>15</td><td>SRSS</td><td>40</td><td>-</td><td>1</td><td>-</td><td>19.3</td><td>28</td><td>0</td><td>\"Borrego Mtn\"</td><td>1968</td><td>\"San Onofre - So Cal Edison\"</td><td>6.63</td><td>strike slip</td><td>129.11</td><td>129.11</td><td>442.88</td><td>0.1625</td><td>1</td><td>RSN40_BORREGO_A-SON033.AT2</td><td>RSN40_BORREGO_A-SON303.AT2</td><td>RSN40_BORREGO_A-SON-UP.AT2</td></tr><tr><td>16</td><td>SRSS</td><td>51</td><td>-</td><td>1</td><td>-</td><td>27.6</td><td>54.2</td><td>0</td><td>\"San Fernando\"</td><td>1971</td><td>\"2516 Via Tejon PV\"</td><td>6.61</td><td>Reverse</td><td>55.2</td><td>55.2</td><td>280.56</td><td>0.25</td><td>1</td><td>RSN51_SFERN_PVE065.AT2</td><td>RSN51_SFERN_PVE155.AT2</td><td>RSN51_SFERN_PVEDWN.AT2</td></tr><tr><td>17</td><td>SRSS</td><td>52</td><td>-</td><td>1</td><td>-</td><td>8.1</td><td>15.4</td><td>0</td><td>\"San Fernando\"</td><td>1971</td><td>\"Anza Post Office\"</td><td>6.61</td><td>Reverse</td><td>173.16</td><td>173.16</td><td>360.45</td><td>0.625</td><td>1</td><td>RSN52_SFERN_AZP045.AT2</td><td>RSN52_SFERN_AZP315.AT2</td><td>RSN52_SFERN_AZPDWN.AT2</td></tr><tr><td>18</td><td>SRSS</td><td>53</td><td>-</td><td>1</td><td>-</td><td>24.1</td><td>35.3</td><td>0</td><td>\"San Fernando\"</td><td>1971</td><td>\"Bakersfield - Harvey Aud\"</td><td>6.61</td><td>Reverse</td><td>111.88</td><td>113.02</td><td>241.41</td><td>0.125</td><td>1</td><td>RSN53_SFERN_BFA180.AT2</td><td>RSN53_SFERN_BFA270.AT2</td><td>RSN53_SFERN_BFA-UP.AT2</td></tr><tr><td>19</td><td>SRSS</td><td>54</td><td>-</td><td>1</td><td>-</td><td>13.6</td><td>22</td><td>0</td><td>\"San Fernando\"</td><td>1971</td><td>\"Borrego Springs Fire Sta\"</td><td>6.61</td><td>Reverse</td><td>214.32</td><td>214.32</td><td>338.54</td><td>0.125</td><td>1</td><td>RSN54_SFERN_BSF135.AT2</td><td>RSN54_SFERN_BSF225.AT2</td><td>RSN54_SFERN_BSFDWN.AT2</td></tr><tr><td>20</td><td>SRSS</td><td>55</td><td>-</td><td>1</td><td>-</td><td>13.6</td><td>21.6</td><td>0</td><td>\"San Fernando\"</td><td>1971</td><td>\"Buena Vista - Taft\"</td><td>6.61</td><td>Reverse</td><td>111.37</td><td>112.52</td><td>385.69</td><td>0.125</td><td>1</td><td>RSN55_SFERN_BVP090.AT2</td><td>RSN55_SFERN_BVP180.AT2</td><td>RSN55_SFERN_BVPDWN.AT2</td></tr><tr><td>21</td><td>SRSS</td><td>56</td><td>-</td><td>1</td><td>-</td><td>9</td><td>18.9</td><td>0.1</td><td>\"San Fernando\"</td><td>1971</td><td>\"Carbon Canyon Dam\"</td><td>6.61</td><td>Reverse</td><td>61.79</td><td>61.79</td><td>235</td><td>0.625</td><td>1</td><td>RSN56_SFERN_CND130.AT2</td><td>RSN56_SFERN_CND220.AT2</td><td>RSN56_SFERN_CNDDWN.AT2</td></tr><tr><td>22</td><td>SRSS</td><td>57</td><td>-</td><td>1</td><td>-</td><td>10.6</td><td>16.8</td><td>1</td><td>\"San Fernando\"</td><td>1971</td><td>\"Castaic - Old Ridge Route\"</td><td>6.61</td><td>Reverse</td><td>19.33</td><td>22.63</td><td>450.28</td><td>0.375</td><td>1</td><td>RSN57_SFERN_ORR021.AT2</td><td>RSN57_SFERN_ORR291.AT2</td><td>RSN57_SFERN_ORRDWN.AT2</td></tr><tr><td>23</td><td>SRSS</td><td>58</td><td>-</td><td>1</td><td>-</td><td>4.6</td><td>10.2</td><td>0</td><td>\"San Fernando\"</td><td>1971</td><td>\"Cedar Springs Pumphouse\"</td><td>6.61</td><td>Reverse</td><td>92.25</td><td>92.59</td><td>477.22</td><td>0.125</td><td>1</td><td>RSN58_SFERN_CSP126.AT2</td><td>RSN58_SFERN_CSP216.AT2</td><td>RSN58_SFERN_CSPDWN.AT2</td></tr><tr><td>24</td><td>SRSS</td><td>59</td><td>-</td><td>1</td><td>-</td><td>5.8</td><td>10.4</td><td>0</td><td>\"San Fernando\"</td><td>1971</td><td>\"Cedar Springs_ Allen Ranch\"</td><td>6.61</td><td>Reverse</td><td>89.37</td><td>89.72</td><td>813.48</td><td>0.375</td><td>1</td><td>RSN59_SFERN_CSM095.AT2</td><td>RSN59_SFERN_CSM185.AT2</td><td>RSN59_SFERN_CSMDWN.AT2</td></tr><tr><td>25</td><td>SRSS</td><td>60</td><td>-</td><td>1</td><td>-</td><td>17.9</td><td>25.5</td><td>0</td><td>\"San Fernando\"</td><td>1971</td><td>\"Cholame - Shandon Array #2\"</td><td>6.61</td><td>Reverse</td><td>217.54</td><td>218.13</td><td>184.75</td><td>0.125</td><td>1</td><td>RSN60_SFERN_C02051.AT2</td><td>RSN60_SFERN_C02321.AT2</td><td>RSN60_SFERN_C02DWN.AT2</td></tr><tr><td>26</td><td>SRSS</td><td>61</td><td>-</td><td>1</td><td>-</td><td>16.9</td><td>23.7</td><td>0</td><td>\"San Fernando\"</td><td>1971</td><td>\"Cholame - Shandon Array #8\"</td><td>6.61</td><td>Reverse</td><td>218.17</td><td>218.75</td><td>256.82</td><td>0.125</td><td>1</td><td>RSN61_SFERN_C08051.AT2</td><td>RSN61_SFERN_C08321.AT2</td><td>-----</td></tr><tr><td>27</td><td>SRSS</td><td>62</td><td>-</td><td>1</td><td>-</td><td>5.1</td><td>7.3</td><td>0</td><td>\"San Fernando\"</td><td>1971</td><td>\"Colton - So Cal Edison\"</td><td>6.61</td><td>Reverse</td><td>96.81</td><td>96.81</td><td>301.95</td><td>0.125</td><td>1</td><td>RSN62_SFERN_CLN090.AT2</td><td>RSN62_SFERN_CLN180.AT2</td><td>RSN62_SFERN_CLN-UP.AT2</td></tr><tr><td>28</td><td>SRSS</td><td>63</td><td>-</td><td>1</td><td>-</td><td>3.6</td><td>14.4</td><td>0.1</td><td>\"San Fernando\"</td><td>1971</td><td>\"Fairmont Dam\"</td><td>6.61</td><td>Reverse</td><td>25.58</td><td>30.19</td><td>634.33</td><td>0.1875</td><td>1</td><td>RSN63_SFERN_FTR056.AT2</td><td>RSN63_SFERN_FTR326.AT2</td><td>RSN63_SFERN_FTR-UP.AT2</td></tr><tr><td>29</td><td>SRSS</td><td>64</td><td>-</td><td>1</td><td>-</td><td>5</td><td>8.3</td><td>0</td><td>\"San Fernando\"</td><td>1971</td><td>\"Fort Tejon\"</td><td>6.61</td><td>Reverse</td><td>59.52</td><td>61.64</td><td>394.18</td><td>0.125</td><td>1</td><td>RSN64_SFERN_FTJ000.AT2</td><td>RSN64_SFERN_FTJ090.AT2</td><td>RSN64_SFERN_FTJ-UP.AT2</td></tr><tr><td>30</td><td>SRSS</td><td>65</td><td>-</td><td>1</td><td>-</td><td>4.1</td><td>7.2</td><td>0.1</td><td>\"San Fernando\"</td><td>1971</td><td>\"Gormon - Oso Pump Plant\"</td><td>6.61</td><td>Reverse</td><td>43.95</td><td>46.78</td><td>308.35</td><td>0.125</td><td>1</td><td>RSN65_SFERN_OPP000.AT2</td><td>RSN65_SFERN_OPP270.AT2</td><td>RSN65_SFERN_OPP-UP.AT2</td></tr><tr><td>31</td><td>SRSS</td><td>66</td><td>-</td><td>1</td><td>-</td><td>9.4</td><td>23.9</td><td>0</td><td>\"San Fernando\"</td><td>1971</td><td>\"Hemet Fire Station\"</td><td>6.61</td><td>Reverse</td><td>139.14</td><td>139.14</td><td>328.09</td><td>0.5</td><td>1</td><td>RSN66_SFERN_H05135.AT2</td><td>RSN66_SFERN_H05225.AT2</td><td>RSN66_SFERN_H05DWN.AT2</td></tr><tr><td>32</td><td>SRSS</td><td>67</td><td>-</td><td>1</td><td>-</td><td>20.2</td><td>26.5</td><td>0</td><td>\"San Fernando\"</td><td>1971</td><td>\"Isabella Dam (Aux Abut)\"</td><td>6.61</td><td>Reverse</td><td>130</td><td>130.98</td><td>591</td><td>0.125</td><td>1</td><td>RSN67_SFERN_ISD014.AT2</td><td>RSN67_SFERN_ISD284.AT2</td><td>RSN67_SFERN_ISDDWN.AT2</td></tr><tr><td>33</td><td>SRSS</td><td>68</td><td>-</td><td>1</td><td>-</td><td>5.2</td><td>13.4</td><td>0.7</td><td>\"San Fernando\"</td><td>1971</td><td>\"LA - Hollywood Stor FF\"</td><td>6.61</td><td>Reverse</td><td>22.77</td><td>22.77</td><td>316.46</td><td>0.1</td><td>1</td><td>RSN68_SFERN_PEL090.AT2</td><td>RSN68_SFERN_PEL180.AT2</td><td>RSN68_SFERN_PEL-UP.AT2</td></tr><tr><td>34</td><td>SRSS</td><td>69</td><td>-</td><td>1</td><td>-</td><td>41.5</td><td>52.4</td><td>0.1</td><td>\"San Fernando\"</td><td>1971</td><td>\"LB - Terminal Island\"</td><td>6.61</td><td>Reverse</td><td>58.99</td><td>58.99</td><td>217.92</td><td>0.125</td><td>1</td><td>RSN69_SFERN_TLI249.AT2</td><td>RSN69_SFERN_TLI339.AT2</td><td>RSN69_SFERN_TLI-UP.AT2</td></tr><tr><td>35</td><td>SRSS</td><td>70</td><td>-</td><td>1</td><td>-</td><td>8</td><td>18.4</td><td>0.3</td><td>\"San Fernando\"</td><td>1971</td><td>\"Lake Hughes #1\"</td><td>6.61</td><td>Reverse</td><td>22.23</td><td>27.4</td><td>425.34</td><td>0.15</td><td>1</td><td>RSN70_SFERN_L01021.AT2</td><td>RSN70_SFERN_L01111.AT2</td><td>RSN70_SFERN_L01DWN.AT2</td></tr><tr><td>36</td><td>SRSS</td><td>71</td><td>-</td><td>1</td><td>-</td><td>2.8</td><td>12</td><td>0.9</td><td>\"San Fernando\"</td><td>1971</td><td>\"Lake Hughes #12\"</td><td>6.61</td><td>Reverse</td><td>13.99</td><td>19.3</td><td>602.1</td><td>0.25</td><td>1</td><td>RSN71_SFERN_L12021.AT2</td><td>RSN71_SFERN_L12291.AT2</td><td>RSN71_SFERN_L12DWN.AT2</td></tr><tr><td>37</td><td>SRSS</td><td>72</td><td>-</td><td>1</td><td>-</td><td>4.2</td><td>13</td><td>0.3</td><td>\"San Fernando\"</td><td>1971</td><td>\"Lake Hughes #4\"</td><td>6.61</td><td>Reverse</td><td>19.45</td><td>25.07</td><td>600.06</td><td>0.25</td><td>1</td><td>RSN72_SFERN_L04111.AT2</td><td>RSN72_SFERN_L04201.AT2</td><td>RSN72_SFERN_L04DWN.AT2</td></tr><tr><td>38</td><td>SRSS</td><td>73</td><td>-</td><td>1</td><td>-</td><td>3</td><td>11.8</td><td>0.2</td><td>\"San Fernando\"</td><td>1971</td><td>\"Lake Hughes #9\"</td><td>6.61</td><td>Reverse</td><td>17.22</td><td>22.57</td><td>670.84</td><td>0.625</td><td>1</td><td>RSN73_SFERN_L09021.AT2</td><td>RSN73_SFERN_L09291.AT2</td><td>RSN73_SFERN_L09DWN.AT2</td></tr><tr><td>39</td><td>SRSS</td><td>74</td><td>-</td><td>1</td><td>-</td><td>18.2</td><td>29.6</td><td>0</td><td>\"San Fernando\"</td><td>1971</td><td>\"Maricopa Array #1\"</td><td>6.61</td><td>Reverse</td><td>193.25</td><td>193.91</td><td>303.79</td><td>0.125</td><td>1</td><td>RSN74_SFERN_MA1130.AT2</td><td>RSN74_SFERN_MA1220.AT2</td><td>RSN74_SFERN_MA1DWN.AT2</td></tr><tr><td>40</td><td>SRSS</td><td>75</td><td>-</td><td>1</td><td>-</td><td>14.3</td><td>22.4</td><td>0</td><td>\"San Fernando\"</td><td>1971</td><td>\"Maricopa Array #2\"</td><td>6.61</td><td>Reverse</td><td>108.56</td><td>109.73</td><td>443.85</td><td>0.25</td><td>1</td><td>RSN75_SFERN_MA2130.AT2</td><td>RSN75_SFERN_MA2220.AT2</td><td>RSN75_SFERN_MA2DWN.AT2</td></tr><tr><td>41</td><td>SRSS</td><td>76</td><td>-</td><td>1</td><td>-</td><td>16.6</td><td>23.4</td><td>0</td><td>\"San Fernando\"</td><td>1971</td><td>\"Maricopa Array #3\"</td><td>6.61</td><td>Reverse</td><td>109.01</td><td>110.18</td><td>441.25</td><td>0.25</td><td>1</td><td>RSN76_SFERN_MA3130.AT2</td><td>RSN76_SFERN_MA3220.AT2</td><td>RSN76_SFERN_MA3DWN.AT2</td></tr><tr><td>42</td><td>SRSS</td><td>77</td><td>-</td><td>1</td><td>1.638</td><td>5.8</td><td>7.3</td><td>8.9</td><td>\"San Fernando\"</td><td>1971</td><td>\"Pacoima Dam (upper left abut)\"</td><td>6.61</td><td>Reverse</td><td>0</td><td>1.81</td><td>2016.13</td><td>0.0875</td><td>1</td><td>RSN77_SFERN_PUL164.AT2</td><td>RSN77_SFERN_PUL254.AT2</td><td>RSN77_SFERN_PULDWN.AT2</td></tr><tr><td>43</td><td>SRSS</td><td>78</td><td>-</td><td>1</td><td>-</td><td>10</td><td>18.9</td><td>0.3</td><td>\"San Fernando\"</td><td>1971</td><td>\"Palmdale Fire Station\"</td><td>6.61</td><td>Reverse</td><td>24.16</td><td>28.99</td><td>452.86</td><td>0.1875</td><td>1</td><td>RSN78_SFERN_PDL120.AT2</td><td>RSN78_SFERN_PDL210.AT2</td><td>-----</td></tr><tr><td>44</td><td>SRSS</td><td>79</td><td>-</td><td>1</td><td>-</td><td>6.7</td><td>14.5</td><td>0.2</td><td>\"San Fernando\"</td><td>1971</td><td>\"Pasadena - CIT Athenaeum\"</td><td>6.61</td><td>Reverse</td><td>25.47</td><td>25.47</td><td>415.13</td><td>0.375</td><td>1</td><td>RSN79_SFERN_PAS000.AT2</td><td>RSN79_SFERN_PAS090.AT2</td><td>RSN79_SFERN_PASDWN.AT2</td></tr><tr><td>45</td><td>SRSS</td><td>80</td><td>-</td><td>1</td><td>-</td><td>5.7</td><td>14.1</td><td>0.3</td><td>\"San Fernando\"</td><td>1971</td><td>\"Pasadena - Old Seismo Lab\"</td><td>6.61</td><td>Reverse</td><td>21.5</td><td>21.5</td><td>969.07</td><td>0.625</td><td>1</td><td>RSN80_SFERN_PSL180.AT2</td><td>RSN80_SFERN_PSL270.AT2</td><td>RSN80_SFERN_PSLDWN.AT2</td></tr><tr><td>46</td><td>SRSS</td><td>81</td><td>-</td><td>1</td><td>-</td><td>7.1</td><td>13.7</td><td>0.2</td><td>\"San Fernando\"</td><td>1971</td><td>\"Pearblossom Pump\"</td><td>6.61</td><td>Reverse</td><td>35.54</td><td>38.97</td><td>529.09</td><td>0.25</td><td>1</td><td>RSN81_SFERN_PPP000.AT2</td><td>RSN81_SFERN_PPP270.AT2</td><td>RSN81_SFERN_PPPDWN.AT2</td></tr><tr><td>47</td><td>SRSS</td><td>82</td><td>-</td><td>1</td><td>-</td><td>38.5</td><td>49.2</td><td>0</td><td>\"San Fernando\"</td><td>1971</td><td>\"Port Hueneme\"</td><td>6.61</td><td>Reverse</td><td>68.84</td><td>68.84</td><td>248.98</td><td>0.0625</td><td>1</td><td>RSN82_SFERN_PHN180.AT2</td><td>RSN82_SFERN_PHN270.AT2</td><td>RSN82_SFERN_PHN-UP.AT2</td></tr><tr><td>48</td><td>SRSS</td><td>83</td><td>-</td><td>1</td><td>-</td><td>6.4</td><td>14.3</td><td>0</td><td>\"San Fernando\"</td><td>1971</td><td>\"Puddingstone Dam (Abutment)\"</td><td>6.61</td><td>Reverse</td><td>52.64</td><td>52.64</td><td>421.44</td><td>0.25</td><td>1</td><td>RSN83_SFERN_PUD055.AT2</td><td>RSN83_SFERN_PUD325.AT2</td><td>RSN83_SFERN_PUDDWN.AT2</td></tr><tr><td>49</td><td>SRSS</td><td>84</td><td>-</td><td>1</td><td>-</td><td>15.3</td><td>24.2</td><td>0</td><td>\"San Fernando\"</td><td>1971</td><td>\"San Diego Gas &amp; Electric\"</td><td>6.61</td><td>Reverse</td><td>205.77</td><td>205.77</td><td>354.06</td><td>0.125</td><td>1</td><td>RSN84_SFERN_SDC000.AT2</td><td>RSN84_SFERN_SDC090.AT2</td><td>RSN84_SFERN_SDCDWN.AT2</td></tr><tr><td>50</td><td>SRSS</td><td>85</td><td>-</td><td>1</td><td>-</td><td>17.5</td><td>48.2</td><td>0</td><td>\"San Fernando\"</td><td>1971</td><td>\"San Juan Capistrano\"</td><td>6.61</td><td>Reverse</td><td>108.01</td><td>108.01</td><td>459.37</td><td>0.25</td><td>1</td><td>RSN85_SFERN_SJC033.AT2</td><td>RSN85_SFERN_SJC303.AT2</td><td>RSN85_SFERN_SJCDWN.AT2</td></tr><tr><td>51</td><td>SRSS</td><td>86</td><td>-</td><td>1</td><td>-</td><td>15.8</td><td>35.5</td><td>0</td><td>\"San Fernando\"</td><td>1971</td><td>\"San Onofre - So Cal Edison\"</td><td>6.61</td><td>Reverse</td><td>124.79</td><td>124.79</td><td>442.88</td><td>0.25</td><td>1</td><td>RSN86_SFERN_SON033.AT2</td><td>RSN86_SFERN_SON303.AT2</td><td>RSN86_SFERN_SONDWN.AT2</td></tr><tr><td>52</td><td>SRSS</td><td>87</td><td>-</td><td>1</td><td>-</td><td>6.4</td><td>11.3</td><td>0.3</td><td>\"San Fernando\"</td><td>1971</td><td>\"Santa Anita Dam\"</td><td>6.61</td><td>Reverse</td><td>30.7</td><td>30.7</td><td>667.13</td><td>0.375</td><td>1</td><td>RSN87_SFERN_SAD003.AT2</td><td>RSN87_SFERN_SAD273.AT2</td><td>RSN87_SFERN_SADDWN.AT2</td></tr><tr><td>53</td><td>SRSS</td><td>88</td><td>-</td><td>1</td><td>-</td><td>7.4</td><td>23.6</td><td>0.2</td><td>\"San Fernando\"</td><td>1971</td><td>\"Santa Felita Dam (Outlet)\"</td><td>6.61</td><td>Reverse</td><td>24.69</td><td>24.87</td><td>389</td><td>0.125</td><td>1</td><td>RSN88_SFERN_FSD172.AT2</td><td>RSN88_SFERN_FSD262.AT2</td><td>RSN88_SFERN_FSD-UP.AT2</td></tr><tr><td>54</td><td>SRSS</td><td>89</td><td>-</td><td>1</td><td>-</td><td>3.7</td><td>9.5</td><td>0</td><td>\"San Fernando\"</td><td>1971</td><td>\"Tehachapi Pump\"</td><td>6.61</td><td>Reverse</td><td>61.75</td><td>63.79</td><td>669.48</td><td>0.25</td><td>1</td><td>RSN89_SFERN_TEH090.AT2</td><td>RSN89_SFERN_TEH180.AT2</td><td>RSN89_SFERN_TEHDWN.AT2</td></tr><tr><td>55</td><td>SRSS</td><td>90</td><td>-</td><td>1</td><td>-</td><td>28.5</td><td>49.3</td><td>0</td><td>\"San Fernando\"</td><td>1971</td><td>\"UCSB - Fluid Mech Lab\"</td><td>6.61</td><td>Reverse</td><td>124.38</td><td>124.41</td><td>322.42</td><td>0.25</td><td>1</td><td>RSN90_SFERN_SBF042.AT2</td><td>RSN90_SFERN_SBF132.AT2</td><td>RSN90_SFERN_SBF-UP.AT2</td></tr><tr><td>56</td><td>SRSS</td><td>91</td><td>-</td><td>1</td><td>-</td><td>7.1</td><td>14.3</td><td>0.1</td><td>\"San Fernando\"</td><td>1971</td><td>\"Upland - San Antonio Dam\"</td><td>6.61</td><td>Reverse</td><td>61.72</td><td>61.73</td><td>487.23</td><td>0.375</td><td>1</td><td>RSN91_SFERN_SOD015.AT2</td><td>RSN91_SFERN_SOD285.AT2</td><td>RSN91_SFERN_SODDWN.AT2</td></tr><tr><td>57</td><td>SRSS</td><td>92</td><td>-</td><td>1</td><td>-</td><td>7.2</td><td>17.9</td><td>0</td><td>\"San Fernando\"</td><td>1971</td><td>\"Wheeler Ridge - Ground\"</td><td>6.61</td><td>Reverse</td><td>68.38</td><td>70.23</td><td>347.67</td><td>0.125</td><td>1</td><td>RSN92_SFERN_WRP090.AT2</td><td>RSN92_SFERN_WRP180.AT2</td><td>RSN92_SFERN_WRP-UP.AT2</td></tr><tr><td>58</td><td>SRSS</td><td>93</td><td>-</td><td>1</td><td>-</td><td>7.2</td><td>21.5</td><td>0.2</td><td>\"San Fernando\"</td><td>1971</td><td>\"Whittier Narrows Dam\"</td><td>6.61</td><td>Reverse</td><td>39.45</td><td>39.45</td><td>298.68</td><td>0.125</td><td>1</td><td>RSN93_SFERN_WND143.AT2</td><td>RSN93_SFERN_WND233.AT2</td><td>RSN93_SFERN_WNDDWN.AT2</td></tr><tr><td>59</td><td>SRSS</td><td>94</td><td>-</td><td>1</td><td>-</td><td>7.3</td><td>11.7</td><td>0</td><td>\"San Fernando\"</td><td>1971</td><td>\"Wrightwood - 6074 Park Dr\"</td><td>6.61</td><td>Reverse</td><td>61.64</td><td>62.23</td><td>486</td><td>0.25</td><td>1</td><td>RSN94_SFERN_WTW025.AT2</td><td>RSN94_SFERN_WTW295.AT2</td><td>RSN94_SFERN_WTWDWN.AT2</td></tr><tr><td>60</td><td>SRSS</td><td>95</td><td>-</td><td>1</td><td>-</td><td>4.9</td><td>10.6</td><td>2</td><td>\"Managua_ Nicaragua-01\"</td><td>1972</td><td>\"Managua_ ESSO\"</td><td>6.24</td><td>strike slip</td><td>3.51</td><td>4.06</td><td>288.77</td><td>0.375</td><td>1</td><td>RSN95_MANAGUA_A-ESO090.AT2</td><td>RSN95_MANAGUA_A-ESO180.AT2</td><td>RSN95_MANAGUA_A-ESODWN.AT2</td></tr><tr><td>61</td><td>SRSS</td><td>121</td><td>-</td><td>1</td><td>-</td><td>4.3</td><td>10.4</td><td>0</td><td>\"Friuli_ Italy-01\"</td><td>1976</td><td>\"Barcis\"</td><td>6.5</td><td>Reverse</td><td>49.13</td><td>49.38</td><td>496.46</td><td>0.15</td><td>1</td><td>RSN121_FRIULI.A_A-BCS000.AT2</td><td>RSN121_FRIULI.A_A-BCS270.AT2</td><td>RSN121_FRIULI.A_A-BCS-UP.AT2</td></tr><tr><td>62</td><td>SRSS</td><td>122</td><td>-</td><td>1</td><td>-</td><td>10.5</td><td>19</td><td>0.1</td><td>\"Friuli_ Italy-01\"</td><td>1976</td><td>\"Codroipo\"</td><td>6.5</td><td>Reverse</td><td>33.32</td><td>33.4</td><td>249.28</td><td>0.125</td><td>1</td><td>RSN122_FRIULI.A_A-COD000.AT2</td><td>RSN122_FRIULI.A_A-COD270.AT2</td><td>RSN122_FRIULI.A_A-COD-UP.AT2</td></tr><tr><td>63</td><td>SRSS</td><td>123</td><td>-</td><td>1</td><td>-</td><td>8.4</td><td>19.1</td><td>0.1</td><td>\"Friuli_ Italy-01\"</td><td>1976</td><td>\"Conegliano\"</td><td>6.5</td><td>Reverse</td><td>80.37</td><td>80.41</td><td>352.05</td><td>0.5</td><td>1</td><td>RSN123_FRIULI.A_A-CLV000.AT2</td><td>RSN123_FRIULI.A_A-CLV270.AT2</td><td>RSN123_FRIULI.A_A-CLV-UP.AT2</td></tr><tr><td>64</td><td>SRSS</td><td>124</td><td>-</td><td>1</td><td>-</td><td>5</td><td>12.7</td><td>0</td><td>\"Friuli_ Italy-01\"</td><td>1976</td><td>\"Feltre\"</td><td>6.5</td><td>Reverse</td><td>102.05</td><td>102.15</td><td>356.39</td><td>1.125</td><td>1</td><td>RSN124_FRIULI.A_A-FLT000.AT2</td><td>RSN124_FRIULI.A_A-FLT270.AT2</td><td>RSN124_FRIULI.A_A-FLT-UP.AT2</td></tr><tr><td>65</td><td>SRSS</td><td>125</td><td>-</td><td>1</td><td>-</td><td>2.5</td><td>4.9</td><td>1.2</td><td>\"Friuli_ Italy-01\"</td><td>1976</td><td>\"Tolmezzo\"</td><td>6.5</td><td>Reverse</td><td>14.97</td><td>15.82</td><td>505.23</td><td>0.1625</td><td>1</td><td>RSN125_FRIULI.A_A-TMZ000.AT2</td><td>RSN125_FRIULI.A_A-TMZ270.AT2</td><td>RSN125_FRIULI.A_A-TMZ-UP.AT2</td></tr><tr><td>66</td><td>SRSS</td><td>126</td><td>-</td><td>1</td><td>-</td><td>5.6</td><td>7</td><td>5.7</td><td>\"Gazli_ USSR\"</td><td>1976</td><td>\"Karakyr\"</td><td>6.8</td><td>Reverse</td><td>3.92</td><td>5.46</td><td>259.59</td><td>0.25</td><td>1</td><td>RSN126_GAZLI_GAZ000.AT2</td><td>RSN126_GAZLI_GAZ090.AT2</td><td>RSN126_GAZLI_GAZ-UP.AT2</td></tr><tr><td>67</td><td>SRSS</td><td>137</td><td>-</td><td>1</td><td>-</td><td>21.3</td><td>25.9</td><td>0.1</td><td>\"Tabas_ Iran\"</td><td>1978</td><td>\"Bajestan\"</td><td>7.35</td><td>Reverse</td><td>119.77</td><td>120.81</td><td>377.56</td><td>0.15625</td><td>1</td><td>RSN137_TABAS_BAJ-L1.AT2</td><td>RSN137_TABAS_BAJ-T1.AT2</td><td>RSN137_TABAS_BAJ-V1.AT2</td></tr><tr><td>68</td><td>SRSS</td><td>138</td><td>-</td><td>1</td><td>-</td><td>14.6</td><td>19.5</td><td>0.3</td><td>\"Tabas_ Iran\"</td><td>1978</td><td>\"Boshrooyeh\"</td><td>7.35</td><td>Reverse</td><td>24.07</td><td>28.79</td><td>324.57</td><td>0.15625</td><td>1</td><td>RSN138_TABAS_BOS-L1.AT2</td><td>RSN138_TABAS_BOS-T1.AT2</td><td>RSN138_TABAS_BOS-V1.AT2</td></tr><tr><td>69</td><td>SRSS</td><td>139</td><td>-</td><td>1</td><td>-</td><td>6.7</td><td>11.3</td><td>1.4</td><td>\"Tabas_ Iran\"</td><td>1978</td><td>\"Dayhook\"</td><td>7.35</td><td>Reverse</td><td>0</td><td>13.94</td><td>471.53</td><td>0.25</td><td>1</td><td>RSN139_TABAS_DAY-L1.AT2</td><td>RSN139_TABAS_DAY-T1.AT2</td><td>RSN139_TABAS_DAY-V1.AT2</td></tr><tr><td>70</td><td>SRSS</td><td>140</td><td>-</td><td>1</td><td>-</td><td>20.5</td><td>24.2</td><td>0.2</td><td>\"Tabas_ Iran\"</td><td>1978</td><td>\"Ferdows\"</td><td>7.35</td><td>Reverse</td><td>89.76</td><td>91.14</td><td>302.64</td><td>0.15625</td><td>1</td><td>RSN140_TABAS_FER-L1.AT2</td><td>RSN140_TABAS_FER-T1.AT2</td><td>RSN140_TABAS_FER-V1.AT2</td></tr><tr><td>71</td><td>SRSS</td><td>141</td><td>-</td><td>1</td><td>-</td><td>16.8</td><td>26.4</td><td>0.1</td><td>\"Tabas_ Iran\"</td><td>1978</td><td>\"Kashmar\"</td><td>7.35</td><td>Reverse</td><td>193.91</td><td>194.55</td><td>280.26</td><td>0.15625</td><td>1</td><td>RSN141_TABAS_KSH-L1.AT2</td><td>RSN141_TABAS_KSH-T1.AT2</td><td>RSN141_TABAS_KSH-V1.AT2</td></tr><tr><td>72</td><td>SRSS</td><td>142</td><td>-</td><td>1</td><td>-</td><td>22.7</td><td>30.1</td><td>0</td><td>\"Tabas_ Iran\"</td><td>1978</td><td>\"Sedeh\"</td><td>7.35</td><td>Reverse</td><td>150.33</td><td>151.16</td><td>354.37</td><td>0.15625</td><td>1</td><td>RSN142_TABAS_SED-L1.AT2</td><td>RSN142_TABAS_SED-T1.AT2</td><td>RSN142_TABAS_SED-V1.AT2</td></tr><tr><td>73</td><td>SRSS</td><td>143</td><td>-</td><td>1</td><td>6.188</td><td>8.3</td><td>16.5</td><td>11.8</td><td>\"Tabas_ Iran\"</td><td>1978</td><td>\"Tabas\"</td><td>7.35</td><td>Reverse</td><td>1.79</td><td>2.05</td><td>766.77</td><td>0.125</td><td>1</td><td>RSN143_TABAS_TAB-L1.AT2</td><td>RSN143_TABAS_TAB-T1.AT2</td><td>RSN143_TABAS_TAB-V1.AT2</td></tr><tr><td>74</td><td>SRSS</td><td>158</td><td>-</td><td>1</td><td>-</td><td>6.1</td><td>9.8</td><td>1.2</td><td>\"Imperial Valley-06\"</td><td>1979</td><td>\"Aeropuerto Mexicali\"</td><td>6.53</td><td>strike slip</td><td>0</td><td>0.34</td><td>259.86</td><td>0.2875</td><td>1</td><td>RSN158_IMPVALL.H_H-AEP045.AT2</td><td>RSN158_IMPVALL.H_H-AEP315.AT2</td><td>RSN158_IMPVALL.H_H-AEP-UP.AT2</td></tr><tr><td>75</td><td>SRSS</td><td>159</td><td>-</td><td>1</td><td>2.338</td><td>6.7</td><td>13.3</td><td>1</td><td>\"Imperial Valley-06\"</td><td>1979</td><td>\"Agrarias\"</td><td>6.53</td><td>strike slip</td><td>0</td><td>0.65</td><td>242.05</td><td>0.1625</td><td>1</td><td>RSN159_IMPVALL.H_H-AGR003.AT2</td><td>RSN159_IMPVALL.H_H-AGR273.AT2</td><td>RSN159_IMPVALL.H_H-AGRDWN.AT2</td></tr><tr><td>76</td><td>SRSS</td><td>160</td><td>-</td><td>1</td><td>-</td><td>6.1</td><td>9.7</td><td>6.1</td><td>\"Imperial Valley-06\"</td><td>1979</td><td>\"Bonds Corner\"</td><td>6.53</td><td>strike slip</td><td>0.44</td><td>2.66</td><td>223.03</td><td>0.125</td><td>1</td><td>RSN160_IMPVALL.H_H-BCR140.AT2</td><td>RSN160_IMPVALL.H_H-BCR230.AT2</td><td>RSN160_IMPVALL.H_H-BCR-UP.AT2</td></tr><tr><td>77</td><td>SRSS</td><td>161</td><td>-</td><td>1</td><td>4.396</td><td>5.3</td><td>14.9</td><td>0.4</td><td>\"Imperial Valley-06\"</td><td>1979</td><td>\"Brawley Airport\"</td><td>6.53</td><td>strike slip</td><td>8.54</td><td>10.42</td><td>208.71</td><td>0.05375</td><td>1</td><td>RSN161_IMPVALL.H_H-BRA225.AT2</td><td>RSN161_IMPVALL.H_H-BRA315.AT2</td><td>RSN161_IMPVALL.H_H-BRA-UP.AT2</td></tr><tr><td>78</td><td>SRSS</td><td>162</td><td>-</td><td>1</td><td>-</td><td>7.2</td><td>14.8</td><td>0.9</td><td>\"Imperial Valley-06\"</td><td>1979</td><td>\"Calexico Fire Station\"</td><td>6.53</td><td>strike slip</td><td>10.45</td><td>10.45</td><td>231.23</td><td>0.05</td><td>1</td><td>RSN162_IMPVALL.H_H-CXO225.AT2</td><td>RSN162_IMPVALL.H_H-CXO315.AT2</td><td>RSN162_IMPVALL.H_H-CXO-UP.AT2</td></tr><tr><td>79</td><td>SRSS</td><td>163</td><td>-</td><td>1</td><td>-</td><td>12.2</td><td>25.9</td><td>0.1</td><td>\"Imperial Valley-06\"</td><td>1979</td><td>\"Calipatria Fire Station\"</td><td>6.53</td><td>strike slip</td><td>23.17</td><td>24.6</td><td>205.78</td><td>0.0875</td><td>1</td><td>RSN163_IMPVALL.H_H-CAL225.AT2</td><td>RSN163_IMPVALL.H_H-CAL315.AT2</td><td>RSN163_IMPVALL.H_H-CAL-UP.AT2</td></tr><tr><td>80</td><td>SRSS</td><td>164</td><td>-</td><td>1</td><td>-</td><td>19.7</td><td>36.4</td><td>1.3</td><td>\"Imperial Valley-06\"</td><td>1979</td><td>\"Cerro Prieto\"</td><td>6.53</td><td>strike slip</td><td>15.19</td><td>15.19</td><td>471.53</td><td>0.1125</td><td>1</td><td>RSN164_IMPVALL.H_H-CPE147.AT2</td><td>RSN164_IMPVALL.H_H-CPE237.AT2</td><td>RSN164_IMPVALL.H_H-CPEDWN.AT2</td></tr><tr><td>81</td><td>SRSS</td><td>165</td><td>-</td><td>1</td><td>-</td><td>13.2</td><td>24</td><td>1.2</td><td>\"Imperial Valley-06\"</td><td>1979</td><td>\"Chihuahua\"</td><td>6.53</td><td>strike slip</td><td>7.29</td><td>7.29</td><td>242.05</td><td>0.225</td><td>1</td><td>RSN165_IMPVALL.H_H-CHI012.AT2</td><td>RSN165_IMPVALL.H_H-CHI282.AT2</td><td>RSN165_IMPVALL.H_H-CHIDWN.AT2</td></tr><tr><td>82</td><td>SRSS</td><td>166</td><td>-</td><td>1</td><td>-</td><td>4.7</td><td>11.1</td><td>0.2</td><td>\"Imperial Valley-06\"</td><td>1979</td><td>\"Coachella Canal #4\"</td><td>6.53</td><td>strike slip</td><td>49.1</td><td>50.1</td><td>336.49</td><td>0.1375</td><td>1</td><td>RSN166_IMPVALL.H_H-CC4045.AT2</td><td>RSN166_IMPVALL.H_H-CC4135.AT2</td><td>RSN166_IMPVALL.H_H-CC4-UP.AT2</td></tr><tr><td>83</td><td>SRSS</td><td>167</td><td>-</td><td>1</td><td>-</td><td>13.4</td><td>28.7</td><td>0.4</td><td>\"Imperial Valley-06\"</td><td>1979</td><td>\"Compuertas\"</td><td>6.53</td><td>strike slip</td><td>13.52</td><td>15.3</td><td>259.86</td><td>0.15</td><td>1</td><td>RSN167_IMPVALL.H_H-CMP015.AT2</td><td>RSN167_IMPVALL.H_H-CMP285.AT2</td><td>RSN167_IMPVALL.H_H-CMPDWN.AT2</td></tr><tr><td>84</td><td>SRSS</td><td>169</td><td>-</td><td>1</td><td>-</td><td>24.4</td><td>51.4</td><td>3.3</td><td>\"Imperial Valley-06\"</td><td>1979</td><td>\"Delta\"</td><td>6.53</td><td>strike slip</td><td>22.03</td><td>22.03</td><td>242.05</td><td>0.0875</td><td>1</td><td>RSN169_IMPVALL.H_H-DLT262.AT2</td><td>RSN169_IMPVALL.H_H-DLT352.AT2</td><td>RSN169_IMPVALL.H_H-DLTDWN.AT2</td></tr><tr><td>85</td><td>SRSS</td><td>170</td><td>-</td><td>1</td><td>4.417</td><td>4.7</td><td>13.2</td><td>0.8</td><td>\"Imperial Valley-06\"</td><td>1979</td><td>\"EC County Center FF\"</td><td>6.53</td><td>strike slip</td><td>7.31</td><td>7.31</td><td>192.05</td><td>0.075</td><td>1</td><td>RSN170_IMPVALL.H_H-ECC002.AT2</td><td>RSN170_IMPVALL.H_H-ECC092.AT2</td><td>RSN170_IMPVALL.H_H-ECC-UP.AT2</td></tr><tr><td>86</td><td>SRSS</td><td>171</td><td>-</td><td>1</td><td>3.423</td><td>2.3</td><td>8.2</td><td>1.1</td><td>\"Imperial Valley-06\"</td><td>1979</td><td>\"El Centro - Meloland Geot. Array\"</td><td>6.53</td><td>strike slip</td><td>0.07</td><td>0.07</td><td>264.57</td><td>0.1</td><td>1</td><td>RSN171_IMPVALL.H_H-EMO000.AT2</td><td>RSN171_IMPVALL.H_H-EMO270.AT2</td><td>RSN171_IMPVALL.H_H-EMO-UP.AT2</td></tr><tr><td>87</td><td>SRSS</td><td>172</td><td>-</td><td>1</td><td>-</td><td>7</td><td>19.5</td><td>0.3</td><td>\"Imperial Valley-06\"</td><td>1979</td><td>\"El Centro Array #1\"</td><td>6.53</td><td>strike slip</td><td>19.76</td><td>21.68</td><td>237.33</td><td>0.1125</td><td>1</td><td>RSN172_IMPVALL.H_H-E01140.AT2</td><td>RSN172_IMPVALL.H_H-E01230.AT2</td><td>RSN172_IMPVALL.H_H-E01-UP.AT2</td></tr><tr><td>88</td><td>SRSS</td><td>173</td><td>-</td><td>1</td><td>4.515</td><td>5.3</td><td>12.8</td><td>0.7</td><td>\"Imperial Valley-06\"</td><td>1979</td><td>\"El Centro Array #10\"</td><td>6.53</td><td>strike slip</td><td>8.6</td><td>8.6</td><td>202.85</td><td>0.075</td><td>1</td><td>RSN173_IMPVALL.H_H-E10050.AT2</td><td>RSN173_IMPVALL.H_H-E10320.AT2</td><td>RSN173_IMPVALL.H_H-E10-UP.AT2</td></tr><tr><td>89</td><td>SRSS</td><td>174</td><td>-</td><td>1</td><td>-</td><td>4.6</td><td>9</td><td>2</td><td>\"Imperial Valley-06\"</td><td>1979</td><td>\"El Centro Array #11\"</td><td>6.53</td><td>strike slip</td><td>12.56</td><td>12.56</td><td>196.25</td><td>0.1</td><td>1</td><td>RSN174_IMPVALL.H_H-E11140.AT2</td><td>RSN174_IMPVALL.H_H-E11230.AT2</td><td>RSN174_IMPVALL.H_H-E11-UP.AT2</td></tr><tr><td>90</td><td>SRSS</td><td>175</td><td>-</td><td>1</td><td>-</td><td>9.7</td><td>19.6</td><td>0.4</td><td>\"Imperial Valley-06\"</td><td>1979</td><td>\"El Centro Array #12\"</td><td>6.53</td><td>strike slip</td><td>17.94</td><td>17.94</td><td>196.88</td><td>0.0875</td><td>1</td><td>RSN175_IMPVALL.H_H-E12140.AT2</td><td>RSN175_IMPVALL.H_H-E12230.AT2</td><td>RSN175_IMPVALL.H_H-E12-UP.AT2</td></tr><tr><td>91</td><td>SRSS</td><td>176</td><td>-</td><td>1</td><td>-</td><td>8.9</td><td>21.6</td><td>0.3</td><td>\"Imperial Valley-06\"</td><td>1979</td><td>\"El Centro Array #13\"</td><td>6.53</td><td>strike slip</td><td>21.98</td><td>21.98</td><td>249.92</td><td>0.1</td><td>1</td><td>RSN176_IMPVALL.H_H-E13140.AT2</td><td>RSN176_IMPVALL.H_H-E13230.AT2</td><td>RSN176_IMPVALL.H_H-E13-UP.AT2</td></tr><tr><td>92</td><td>SRSS</td><td>178</td><td>-</td><td>1</td><td>4.501</td><td>5.1</td><td>14.1</td><td>1.2</td><td>\"Imperial Valley-06\"</td><td>1979</td><td>\"El Centro Array #3\"</td><td>6.53</td><td>strike slip</td><td>10.79</td><td>12.85</td><td>162.94</td><td>0.0625</td><td>1</td><td>RSN178_IMPVALL.H_H-E03140.AT2</td><td>RSN178_IMPVALL.H_H-E03230.AT2</td><td>RSN178_IMPVALL.H_H-E03-UP.AT2</td></tr><tr><td>93</td><td>SRSS</td><td>179</td><td>-</td><td>1</td><td>4.788</td><td>3.4</td><td>10.3</td><td>1.4</td><td>\"Imperial Valley-06\"</td><td>1979</td><td>\"El Centro Array #4\"</td><td>6.53</td><td>strike slip</td><td>4.9</td><td>7.05</td><td>208.91</td><td>0.0625</td><td>1</td><td>RSN179_IMPVALL.H_H-E04140.AT2</td><td>RSN179_IMPVALL.H_H-E04230.AT2</td><td>RSN179_IMPVALL.H_H-E04-UP.AT2</td></tr><tr><td>94</td><td>SRSS</td><td>180</td><td>-</td><td>1</td><td>4.13</td><td>3.8</td><td>9.6</td><td>1.7</td><td>\"Imperial Valley-06\"</td><td>1979</td><td>\"El Centro Array #5\"</td><td>6.53</td><td>strike slip</td><td>1.76</td><td>3.95</td><td>205.63</td><td>0.05</td><td>1</td><td>RSN180_IMPVALL.H_H-E05140.AT2</td><td>RSN180_IMPVALL.H_H-E05230.AT2</td><td>RSN180_IMPVALL.H_H-E05-UP.AT2</td></tr><tr><td>95</td><td>SRSS</td><td>181</td><td>-</td><td>1</td><td>3.773</td><td>5.3</td><td>11.5</td><td>1.8</td><td>\"Imperial Valley-06\"</td><td>1979</td><td>\"El Centro Array #6\"</td><td>6.53</td><td>strike slip</td><td>0</td><td>1.35</td><td>203.22</td><td>0.0625</td><td>1</td><td>RSN181_IMPVALL.H_H-E06140.AT2</td><td>RSN181_IMPVALL.H_H-E06230.AT2</td><td>RSN181_IMPVALL.H_H-E06-UP.AT2</td></tr><tr><td>96</td><td>SRSS</td><td>182</td><td>-</td><td>1</td><td>4.375</td><td>2.8</td><td>6.8</td><td>1.7</td><td>\"Imperial Valley-06\"</td><td>1979</td><td>\"El Centro Array #7\"</td><td>6.53</td><td>strike slip</td><td>0.56</td><td>0.56</td><td>210.51</td><td>0.075</td><td>1</td><td>RSN182_IMPVALL.H_H-E07140.AT2</td><td>RSN182_IMPVALL.H_H-E07230.AT2</td><td>RSN182_IMPVALL.H_H-E07-UP.AT2</td></tr><tr><td>97</td><td>SRSS</td><td>183</td><td>-</td><td>1</td><td>-</td><td>3</td><td>6.8</td><td>1.6</td><td>\"Imperial Valley-06\"</td><td>1979</td><td>\"El Centro Array #8\"</td><td>6.53</td><td>strike slip</td><td>3.86</td><td>3.86</td><td>206.08</td><td>0.0375</td><td>1</td><td>RSN183_IMPVALL.H_H-E08140.AT2</td><td>RSN183_IMPVALL.H_H-E08230.AT2</td><td>RSN183_IMPVALL.H_H-E08-UP.AT2</td></tr><tr><td>98</td><td>SRSS</td><td>184</td><td>-</td><td>1</td><td>6.265</td><td>3.7</td><td>7</td><td>2.1</td><td>\"Imperial Valley-06\"</td><td>1979</td><td>\"El Centro Differential Array\"</td><td>6.53</td><td>strike slip</td><td>5.09</td><td>5.09</td><td>202.26</td><td>0.02875</td><td>1</td><td>RSN184_IMPVALL.H_H-EDA270.AT2</td><td>RSN184_IMPVALL.H_H-EDA360.AT2</td><td>RSN184_IMPVALL.H_H-EDA-UP.AT2</td></tr><tr><td>99</td><td>SRSS</td><td>185</td><td>-</td><td>1</td><td>4.823</td><td>4.7</td><td>12.8</td><td>0.9</td><td>\"Imperial Valley-06\"</td><td>1979</td><td>\"Holtville Post Office\"</td><td>6.53</td><td>strike slip</td><td>5.35</td><td>7.5</td><td>202.89</td><td>0.075</td><td>1</td><td>RSN185_IMPVALL.H_H-HVP225.AT2</td><td>RSN185_IMPVALL.H_H-HVP315.AT2</td><td>RSN185_IMPVALL.H_H-HVP-UP.AT2</td></tr><tr><td>100</td><td>SRSS</td><td>186</td><td>-</td><td>1</td><td>-</td><td>12</td><td>26.4</td><td>0.2</td><td>\"Imperial Valley-06\"</td><td>1979</td><td>\"Niland Fire Station\"</td><td>6.53</td><td>strike slip</td><td>35.64</td><td>36.92</td><td>212</td><td>0.075</td><td>1</td><td>RSN186_IMPVALL.H_H-NIL090.AT2</td><td>RSN186_IMPVALL.H_H-NIL360.AT2</td><td>RSN186_IMPVALL.H_H-NIL-UP.AT2</td></tr></table>', 'languages': ['eng'], 'filetype': 'application/vnd.openxmlformats-officedocument.spreadsheetml.sheet', 'parent_id': 'e08c63045927bbdaf1cbbeb9054db4b1', 'category': 'Table', 'element_id': '1d41d134c31b6cbe1edd7ce00760f380'}, page_content='Result ID Spectral Ordinate Record Sequence Number Mean Squared Error Scale Factor Tp-Pulse Period (sec) 5-75% Duration (sec) 5-95% Duration (sec) Arias Intensity (m/sec) Earthquake Name Year Station Name Magnitude Mechanism Rjb (km) Rrup (km) Vs30 (m/sec) Lowest Useable Frequency (Hz) Initial-search Scale Factor Horizontal-1 Acc. Filename Horizontal-2 Acc. Filename Vertical Acc. Filename 1 SRSS 6 - 1 - 17.7 24.2 1.6 \"Imperial Valley-02\" 1940 \"El Centro Array #9\" 6.95 strike slip 6.09 6.09 213.44 0.25 1 RSN6_IMPVALL.I_I-ELC180.AT2 RSN6_IMPVALL.I_I-ELC270.AT2 RSN6_IMPVALL.I_I-ELC-UP.AT2 2 SRSS 7 - 1 - 9 22.2 0 \"Northwest Calif-02\" 1941 \"Ferndale City Hall\" 6.6 strike slip 91.15 91.22 219.31 0.1625 1 RSN7_NWCALIF.C_C-FRN045.AT2 RSN7_NWCALIF.C_C-FRN135.AT2 RSN7_NWCALIF.C_C-FRN-UP.AT2 3 SRSS 8 - 1 - 4.8 15.5 0.1 \"Northern Calif-01\" 1941 \"Ferndale City Hall\" 6.4 strike slip 44.52 44.68 219.31 0.375 1 RSN8_NCALIF.FH_F-FRN225.AT2 RSN8_NCALIF.FH_F-FRN315.AT2 RSN8_NCALIF.FH_F-FRN-UP.AT2 4 SRSS'),\n",
       "  1.1368039),\n",
       " (Document(metadata={'source': 'D:\\\\All Python\\\\Pure-Python\\\\P4\\\\06-PromptEngineering\\\\Project 2 - RAG\\\\data\\\\earthq.xlsx', 'file_directory': 'D:\\\\All Python\\\\Pure-Python\\\\P4\\\\06-PromptEngineering\\\\Project 2 - RAG\\\\data', 'filename': 'earthq.xlsx', 'last_modified': '2024-11-07T21:28:58', 'page_name': 'earthq', 'page_number': 1, 'text_as_html': '<table><tr><td>PEER Ground Motion Database</td><td>Time Series Search Report -- NGA-West2 -- 2024-03-04</td></tr></table>', 'languages': ['eng'], 'filetype': 'application/vnd.openxmlformats-officedocument.spreadsheetml.sheet', 'category': 'Table', 'element_id': '045bcdeb05b66c364675bc215fcb3bb7'}, page_content='PEER Ground Motion Database Time Series Search Report -- NGA-West2 -- 2024-03-04'),\n",
       "  1.1527779),\n",
       " (Document(metadata={'source': 'D:\\\\All Python\\\\Pure-Python\\\\P4\\\\06-PromptEngineering\\\\Project 2 - RAG\\\\data\\\\earthq.xlsx', 'file_directory': 'D:\\\\All Python\\\\Pure-Python\\\\P4\\\\06-PromptEngineering\\\\Project 2 - RAG\\\\data', 'filename': 'earthq.xlsx', 'last_modified': '2024-11-07T21:28:58', 'page_name': 'earthq', 'page_number': 1, 'languages': ['eng'], 'filetype': 'application/vnd.openxmlformats-officedocument.spreadsheetml.sheet', 'parent_id': 'e08c63045927bbdaf1cbbeb9054db4b1', 'category': 'NarrativeText', 'element_id': '52442a1a7c79b1b66fe541ac957d259f'}, page_content='These records were obtained from the NGA-West2 On-Line Ground-Motion Database Tool'),\n",
       "  1.2188771)]"
      ]
     },
     "execution_count": 42,
     "metadata": {},
     "output_type": "execute_result"
    }
   ],
   "source": [
    "query = \"give me my the information about  Imperial Valley-02 earthquake please.\"\n",
    "\n",
    "docs_faiss = vector_store.similarity_search_with_score(query, k=5)\n",
    "docs_faiss"
   ]
  },
  {
   "cell_type": "code",
   "execution_count": null,
   "metadata": {},
   "outputs": [
    {
     "data": {
      "text/plain": [
       "1.2188771"
      ]
     },
     "execution_count": 48,
     "metadata": {},
     "output_type": "execute_result"
    }
   ],
   "source": [
    "docs_faiss[4][1] # score"
   ]
  },
  {
   "cell_type": "code",
   "execution_count": 49,
   "metadata": {},
   "outputs": [
    {
     "data": {
      "text/plain": [
       "'Magnitude Min: 6.24 Magnitude Max: 7.68 Rrup Min (km): -0.000001 Rrup Max (km): 99999 Rjb Min (km): -0.000001 Rjb Max (km): 99999 Vs30 Min (m/sec): -0.000001 Vs30 Max (m/sec): 99999 D9-95 Min (sec): -0.000001 D9-95 Max (sec): 99999 Scale Factor Min: -0.000001 Scale Factor Max: 99999 Period Array: Weight Array: Record Sequence Number: Earthquake Name: Station Name: User-Defined Maximum Number of Records: Pulse: 1 Damping Ratio: 0.05 Scaling Method: No Scaling Suite Average: Arithmetic Single-Period-Scaling Period (sec): Component: SRSS Fault Type: All Types\\n\\nThese records are UNSCALED AS RECORDED Filename Extension: AT2 = Acceleration VT2 = Velocity DT2 = Displacement The users of the NGA-West2 databases flatfiles models and reports are requested to acknowledge the Pacific Earthquake Engineering Research Center (PEER) in their work and publications.\\n\\nResult ID Spectral Ordinate Record Sequence Number Mean Squared Error Scale Factor Tp-Pulse Period (sec) 5-75% Duration (sec) 5-95% Duration (sec) Arias Intensity (m/sec) Earthquake Name Year Station Name Magnitude Mechanism Rjb (km) Rrup (km) Vs30 (m/sec) Lowest Useable Frequency (Hz) Initial-search Scale Factor Horizontal-1 Acc. Filename Horizontal-2 Acc. Filename Vertical Acc. Filename 1 SRSS 6 - 1 - 17.7 24.2 1.6 \"Imperial Valley-02\" 1940 \"El Centro Array #9\" 6.95 strike slip 6.09 6.09 213.44 0.25 1 RSN6_IMPVALL.I_I-ELC180.AT2 RSN6_IMPVALL.I_I-ELC270.AT2 RSN6_IMPVALL.I_I-ELC-UP.AT2 2 SRSS 7 - 1 - 9 22.2 0 \"Northwest Calif-02\" 1941 \"Ferndale City Hall\" 6.6 strike slip 91.15 91.22 219.31 0.1625 1 RSN7_NWCALIF.C_C-FRN045.AT2 RSN7_NWCALIF.C_C-FRN135.AT2 RSN7_NWCALIF.C_C-FRN-UP.AT2 3 SRSS 8 - 1 - 4.8 15.5 0.1 \"Northern Calif-01\" 1941 \"Ferndale City Hall\" 6.4 strike slip 44.52 44.68 219.31 0.375 1 RSN8_NCALIF.FH_F-FRN225.AT2 RSN8_NCALIF.FH_F-FRN315.AT2 RSN8_NCALIF.FH_F-FRN-UP.AT2 4 SRSS\\n\\nPEER Ground Motion Database Time Series Search Report -- NGA-West2 -- 2024-03-04\\n\\nThese records were obtained from the NGA-West2 On-Line Ground-Motion Database Tool'"
      ]
     },
     "execution_count": 49,
     "metadata": {},
     "output_type": "execute_result"
    }
   ],
   "source": [
    "# Merge the docs to use in the gen system\n",
    "context_text = \"\\n\\n\".join([doc.page_content for doc, _score in docs_faiss])\n",
    "context_text"
   ]
  },
  {
   "cell_type": "code",
   "execution_count": 50,
   "metadata": {},
   "outputs": [],
   "source": [
    "# Create a simple prompt for a Rag system\n",
    "prompt = f\"\"\"based on this context {context_text}\n",
    "please answer this question {query}\n",
    "if you don't know the answer just say you don't know.\"\"\""
   ]
  },
  {
   "cell_type": "code",
   "execution_count": 11,
   "metadata": {},
   "outputs": [],
   "source": [
    "# Call the groq apo with the langchain\n",
    "models = {\"Google\": [\"gemma2-9b-it\", \"gemma-7b-it\"],\n",
    "          \"Groq\": [\"llama3-groq-70b-8192-tool-use-preview\", \"llama3-groq-8b-8192-tool-use-preview\"],\n",
    "          \"Meta\": [\"llama-3.1-70b-versatile\", \"llama-3.1-8b-instant\", \"llama-3.2-1b-preview\", \"llama-3.2-3b-preview\", \"llama-3.2-11b-vision-preview\", \"llama-3.2-90b-vision-preview\", \"llama-guard-3-8b\", \"llama3-70b-8192\", \"llama3-8b-8192\"],\n",
    "          \"Mistral\": [\"mixtral-8x7b-32768\"],\n",
    "          \"OpenAI\": [\"whisper-large-v3\", \"whisper-large-v3-turbo\"]}\n",
    "model = ChatGroq(api_key=\"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\",\n",
    "                 model=models[\"Meta\"][0],\n",
    "                 temperature=0)\n",
    "response_text = model.invoke(prompt)"
   ]
  },
  {
   "cell_type": "code",
   "execution_count": null,
   "metadata": {},
   "outputs": [
    {
     "data": {
      "text/markdown": [
       "Based on the provided information, here's what I found about the Imperial Valley-02 earthquake:\n",
       "\n",
       "1. Earthquake Name: Imperial Valley-02\n",
       "2. Year: 1940\n",
       "3. Station Name: El Centro Array #9\n",
       "4. Magnitude: 6.95\n",
       "5. Mechanism: Strike slip\n",
       "6. Rjb (km): 6.09\n",
       "7. Rrup (km): 6.09\n",
       "8. Vs30 (m/sec): 213.44\n",
       "9. Lowest Useable Frequency (Hz): 0.25\n",
       "\n",
       "If you need more information, please let me know, and I'll do my best to provide it."
      ],
      "text/plain": [
       "<IPython.core.display.Markdown object>"
      ]
     },
     "metadata": {},
     "output_type": "display_data"
    }
   ],
   "source": [
    "display(Markdown(response_text.content)) # Pashmammmm"
   ]
  },
  {
   "cell_type": "code",
   "execution_count": 69,
   "metadata": {},
   "outputs": [],
   "source": [
    "# Make a function out of it.\n",
    "def prepare_excel(file_path, chunk_size=1000, chunk_overlap=50):\n",
    "    # Loading the data\n",
    "    loader = UnstructuredExcelLoader(file_path=file_path, mode=\"elements\")\n",
    "    docs = loader.load()\n",
    "\n",
    "    # Split the text into chunks\n",
    "    text_spliter = RecursiveCharacterTextSplitter(\n",
    "        chunk_size=chunk_size,\n",
    "        chunk_overlap=chunk_overlap\n",
    "    )\n",
    "    chunk = text_spliter.split_documents(docs)\n",
    "\n",
    "    # Prepare the embeddings\n",
    "    embeddings = HuggingFaceEmbeddings()\n",
    "\n",
    "    # FAISS index\n",
    "    db_faiss = FAISS.from_documents(chunk, embeddings)\n",
    "\n",
    "    return db_faiss"
   ]
  },
  {
   "cell_type": "code",
   "execution_count": 9,
   "metadata": {},
   "outputs": [],
   "source": [
    "# Prepare a function to retrieve and generate Rag\n",
    "def ask(df, query, k, model_name):\n",
    "    # Getting the context\n",
    "    docs_faiss = df.similarity_search_with_score(query, k=k)\n",
    "    context_text = \"\\n\\n\".join([doc.page_content for doc, _score in docs_faiss])\n",
    "\n",
    "    # Define the prompt\n",
    "    prompt = f\"\"\"\n",
    "    based on this context {context_text}\n",
    "    please answer this question {query}\n",
    "    if you don't know the answer just say you don't know.\n",
    "    \"\"\"\n",
    "\n",
    "    # Call the LLM\n",
    "    model = ChatGroq(api_key=\"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\",\n",
    "                 model=model_name,\n",
    "                 temperature=0)\n",
    "    \n",
    "    response_text = model.invoke(prompt)\n",
    "\n",
    "    return display(Markdown(response_text.content))"
   ]
  },
  {
   "cell_type": "code",
   "execution_count": null,
   "metadata": {},
   "outputs": [],
   "source": [
    "# Preparing the excel Data\n",
    "df_excel = prepare_excel(excel_file_path)"
   ]
  },
  {
   "cell_type": "code",
   "execution_count": 59,
   "metadata": {},
   "outputs": [],
   "source": [
    "query = \"Give me the earchquakes that have the magnetude greater that 7.\""
   ]
  },
  {
   "cell_type": "code",
   "execution_count": 68,
   "metadata": {},
   "outputs": [
    {
     "data": {
      "text/markdown": [
       "Based on the provided text, the earthquakes with a magnitude greater than 7 are:\n",
       "\n",
       "1. Kern County (1952) - Magnitude: 7.36\n",
       "2. Tabas, Iran (1978) - Magnitude: 7.35\n",
       "3. Gazli, USSR (1976) - Magnitude: 6.8 (Note: This is not greater than 7, I apologize for the mistake)\n",
       "4. Friuli, Italy (1976) - Magnitude: 6.5 (Note: This is not greater than 7, I apologize for the mistake)\n",
       "\n",
       "Corrected answer:\n",
       "\n",
       "1. Kern County (1952) - Magnitude: 7.36\n",
       "2. Tabas, Iran (1978) - Magnitude: 7.35"
      ],
      "text/plain": [
       "<IPython.core.display.Markdown object>"
      ]
     },
     "metadata": {},
     "output_type": "display_data"
    }
   ],
   "source": [
    "ask(vector_store, query, 24, models[\"Meta\"][0])"
   ]
  },
  {
   "cell_type": "markdown",
   "metadata": {},
   "source": [
    "# Word"
   ]
  },
  {
   "cell_type": "code",
   "execution_count": 79,
   "metadata": {},
   "outputs": [
    {
     "name": "stderr",
     "output_type": "stream",
     "text": [
      "[nltk_data] Downloading package punkt to\n",
      "[nltk_data]     C:\\Users\\keipj\\AppData\\Roaming\\nltk_data...\n",
      "[nltk_data]   Package punkt is already up-to-date!\n"
     ]
    }
   ],
   "source": [
    "import nltk\n",
    "nltk.download('punkt')\n",
    "from langchain_community.document_loaders import UnstructuredWordDocumentLoader"
   ]
  },
  {
   "cell_type": "code",
   "execution_count": 81,
   "metadata": {},
   "outputs": [
    {
     "data": {
      "text/plain": [
       "[Document(metadata={'source': 'D:\\\\All Python\\\\Pure-Python\\\\P4\\\\06-PromptEngineering\\\\Project 2 - RAG\\\\data\\\\ML.docx', 'category_depth': 0, 'emphasized_text_contents': ['4', '- ماشین بردار پشتیبان'], 'emphasized_text_tags': ['b', 'b'], 'file_directory': 'D:\\\\All Python\\\\Pure-Python\\\\P4\\\\06-PromptEngineering\\\\Project 2 - RAG\\\\data', 'filename': 'ML.docx', 'last_modified': '2024-05-09T19:51:41', 'page_number': 1, 'languages': ['fas'], 'filetype': 'application/vnd.openxmlformats-officedocument.wordprocessingml.document', 'category': 'Title', 'element_id': '5902da3b83485984d98e94b616aa4593'}, page_content='4- ماشین بردار پشتیبان'),\n",
       " Document(metadata={'source': 'D:\\\\All Python\\\\Pure-Python\\\\P4\\\\06-PromptEngineering\\\\Project 2 - RAG\\\\data\\\\ML.docx', 'category_depth': 0, 'emphasized_text_contents': ['1-4- مقدمه', 'ای بر نظریة یادگیری آماری'], 'emphasized_text_tags': ['b', 'b'], 'file_directory': 'D:\\\\All Python\\\\Pure-Python\\\\P4\\\\06-PromptEngineering\\\\Project 2 - RAG\\\\data', 'filename': 'ML.docx', 'last_modified': '2024-05-09T19:51:41', 'page_number': 1, 'languages': ['fas'], 'filetype': 'application/vnd.openxmlformats-officedocument.wordprocessingml.document', 'category': 'Title', 'element_id': '0fb8e84268948f0bd9a28bd7d1c1cbbd'}, page_content='1-4- مقدمهای بر نظریة یادگیری آماری'),\n",
       " Document(metadata={'source': 'D:\\\\All Python\\\\Pure-Python\\\\P4\\\\06-PromptEngineering\\\\Project 2 - RAG\\\\data\\\\ML.docx', 'category_depth': 0, 'file_directory': 'D:\\\\All Python\\\\Pure-Python\\\\P4\\\\06-PromptEngineering\\\\Project 2 - RAG\\\\data', 'filename': 'ML.docx', 'last_modified': '2024-05-09T19:51:41', 'page_number': 1, 'languages': ['fas'], 'filetype': 'application/vnd.openxmlformats-officedocument.wordprocessingml.document', 'parent_id': '0fb8e84268948f0bd9a28bd7d1c1cbbd', 'category': 'NarrativeText', 'element_id': 'e0290caff1abd459b1b700856ea26463'}, page_content='یادگیری آماری به معنای مجموعهای وسیع از کاربردهای ریاضی برای فهم دادهها است. این کاربردها میتوانند بهعنوان نظارتشده یا بدون نظارت دستهبندی شوند. در بیانی کلی، یادگیری آماری نظارتشده شامل ساخت یک مدل آماری برای پیشبینی، یا تخمین یک خروجی براساس یک یا چند ورودی میشود. مسائلی از این دست در زمینههای گوناگونی مانند تجارت، داروسازی، اخترفیزیک و سیاستگذاری اجتماعی پیش میآیند. در یادگیری آماری بدون نظارت، ورودیهایی وجود دارند اما هیچ خروجی نظارتشدهای وجود ندارد؛ با این حال میتوان بهکمک چنین دادههایی، روابط و ساختار را یاد گرفت. هدف اصلی نظریة یادگیری آماری، ایجاد چارچوبی برای مطالعۀ مسئلة استنتاج است (به عبارت دیگر، کسب دانش، پیشبینی کردن، تصمیمگیری و ساخت مدلها از یک مجموعة دادهها). مطالعه در یک چارچوب آماری صورت میگیرد؛ که یعنی فرضیاتی با ماهیت آماری درباره پدیدههای اساسی وجود دارند (بهگونهای که داده تولید میشود). در واقع، یک نظریة استنتاجی بایستی قادر باشد تا تعریفی صوری از کلماتی مانند یادگیری، تعمیم و بیشبرازش ارائه کند و همچنین عملکرد الگوریتمهای یادگیری را بهگونهای توصیف کند که در نهایت، بتواند به طراحی بهتر الگوریتمهای یادگیری کمک کند. دو هدف وجود دارد: دقیقتر کردن و بهدست آوردن الگوریتمهای جدید یا بهبودیافته.'),\n",
       " Document(metadata={'source': 'D:\\\\All Python\\\\Pure-Python\\\\P4\\\\06-PromptEngineering\\\\Project 2 - RAG\\\\data\\\\ML.docx', 'category_depth': 0, 'file_directory': 'D:\\\\All Python\\\\Pure-Python\\\\P4\\\\06-PromptEngineering\\\\Project 2 - RAG\\\\data', 'filename': 'ML.docx', 'last_modified': '2024-05-09T19:51:41', 'page_number': 1, 'languages': ['fas'], 'filetype': 'application/vnd.openxmlformats-officedocument.wordprocessingml.document', 'parent_id': '0fb8e84268948f0bd9a28bd7d1c1cbbd', 'category': 'NarrativeText', 'element_id': 'ce676ddfaf1f113cddb52c60d6ffd313'}, page_content='ماشین بردار پشتیبان (SVM) برای دستهبندی الگوهای متنوع و مسائل تقریب توابع معرفی میشود. دستهبندی الگو برای دستهبندی برخی اشیاء در یک دستة مشخص به نام کلاسها بهکار میرود. دستهبندیکننده، که نرمافزاری کامپیوتری است، بهگونهای توسعه یافته است که اشیاء بهطرز صحیحی با دقتی قابلقبول دستهبندی شوند. دادههای وارد شده به یک دستهبندیکننده، ویژگیها نامیده میشوند و آنها هر کلاس را بهخوبی نشان میدهند و یا دادههای متعلق به کلاسهای گوناگون را بهخوبی در فضای ورودی تفکیک میکنند.'),\n",
       " Document(metadata={'source': 'D:\\\\All Python\\\\Pure-Python\\\\P4\\\\06-PromptEngineering\\\\Project 2 - RAG\\\\data\\\\ML.docx', 'category_depth': 0, 'emphasized_text_contents': ['2-4- دسته', 'بندی بردارهای پشتیبان'], 'emphasized_text_tags': ['b', 'b'], 'file_directory': 'D:\\\\All Python\\\\Pure-Python\\\\P4\\\\06-PromptEngineering\\\\Project 2 - RAG\\\\data', 'filename': 'ML.docx', 'last_modified': '2024-05-09T19:51:41', 'page_number': 1, 'languages': ['fas'], 'filetype': 'application/vnd.openxmlformats-officedocument.wordprocessingml.document', 'category': 'Title', 'element_id': '1299247baf8504f701260615e0b81caf'}, page_content='2-4- دستهبندی بردارهای پشتیبان')]"
      ]
     },
     "execution_count": 81,
     "metadata": {},
     "output_type": "execute_result"
    }
   ],
   "source": [
    "# Load the word document with data parsed as individual elemnts\n",
    "word_file_path = r\"D:\\All Python\\Pure-Python\\P4\\06-PromptEngineering\\Project 2 - RAG\\data\\ML.docx\"\n",
    "loader = UnstructuredWordDocumentLoader(\n",
    "    word_file_path,\n",
    "    mode=\"elements\"\n",
    ")\n",
    "docs = loader.load()\n",
    "docs[:5]"
   ]
  },
  {
   "cell_type": "code",
   "execution_count": 98,
   "metadata": {},
   "outputs": [],
   "source": [
    "# Create a function to prepare the word document\n",
    "def prepare_word(file_path, chunk_size=1000, chunk_overlap=100):\n",
    "    loader = UnstructuredWordDocumentLoader(\n",
    "    file_path,\n",
    "    mode=\"elements\")\n",
    "    docs = loader.load()\n",
    "\n",
    "    # Split to chunks, embeddings and Faiss\n",
    "    text_spliter = RecursiveCharacterTextSplitter(\n",
    "            chunk_size=chunk_size,\n",
    "            chunk_overlap=chunk_overlap\n",
    "            )\n",
    "    chunk = text_spliter.split_documents(docs)\n",
    "    embeddings = HuggingFaceEmbeddings()\n",
    "    db_faiss = FAISS.from_documents(chunk, embeddings)\n",
    "\n",
    "    return db_faiss"
   ]
  },
  {
   "cell_type": "code",
   "execution_count": 88,
   "metadata": {},
   "outputs": [],
   "source": [
    "# Define a couple of queries\n",
    "query_1 = \"Tell me about the document by giving the 3 main points in English.\"\n",
    "query_2 = \"What are the citations in this document in English?\""
   ]
  },
  {
   "cell_type": "code",
   "execution_count": 86,
   "metadata": {},
   "outputs": [],
   "source": [
    "# Prepare the word data\n",
    "db_doc = prepare_word(word_file_path)"
   ]
  },
  {
   "cell_type": "code",
   "execution_count": 92,
   "metadata": {},
   "outputs": [
    {
     "data": {
      "text/markdown": [
       "Based on the provided context, it appears to be a table of contents or an outline of a document related to machine learning and statistical learning. Here are the 3 main points in English:\n",
       "\n",
       "1. The document covers the basics of statistical learning theory (1-4).\n",
       "2. It discusses support vector machines (SVMs), including soft-margin support vector regression (3-7-4) and support vector classification (2-4).\n",
       "3. The document also touches on principal component analysis (PCA) with kernel methods (3-5-4).\n",
       "\n",
       "Please note that this is an interpretation based on the provided context, and the actual content of the document may vary."
      ],
      "text/plain": [
       "<IPython.core.display.Markdown object>"
      ]
     },
     "metadata": {},
     "output_type": "display_data"
    }
   ],
   "source": [
    "ask(db_doc, query_1, k=5, model_name=models[\"Meta\"][0])"
   ]
  },
  {
   "cell_type": "code",
   "execution_count": 93,
   "metadata": {},
   "outputs": [
    {
     "data": {
      "text/markdown": [
       "I don't know."
      ],
      "text/plain": [
       "<IPython.core.display.Markdown object>"
      ]
     },
     "metadata": {},
     "output_type": "display_data"
    }
   ],
   "source": [
    "ask(db_doc, query_2, k=5, model_name=models[\"Meta\"][0])\n"
   ]
  },
  {
   "cell_type": "markdown",
   "metadata": {},
   "source": [
    "# PowerPoints"
   ]
  },
  {
   "cell_type": "code",
   "execution_count": 94,
   "metadata": {},
   "outputs": [],
   "source": [
    "powerpoint_file_path1 = r\"D:\\All Python\\Pure-Python\\P4\\06-PromptEngineering\\Project 2 - RAG\\data\\SM, W00, Ch 8, Seepage.pptx\"\n",
    "powerpoint_file_path2 = r\"D:\\All Python\\Pure-Python\\P4\\06-PromptEngineering\\Project 2 - RAG\\data\\Inside Reading 4(7.2).pptx\""
   ]
  },
  {
   "cell_type": "code",
   "execution_count": 95,
   "metadata": {},
   "outputs": [],
   "source": [
    "from langchain_community.document_loaders import UnstructuredPowerPointLoader"
   ]
  },
  {
   "cell_type": "code",
   "execution_count": 97,
   "metadata": {},
   "outputs": [],
   "source": [
    "# Create a function to prepare the PowerPoint document\n",
    "def prepare_powerpoint(file_path, chunk_size=1000, chunk_overlap=100):\n",
    "    loader = UnstructuredPowerPointLoader(\n",
    "    file_path,\n",
    "    mode=\"elements\")\n",
    "    docs = loader.load()\n",
    "\n",
    "    # Split to chunks, embeddings and Faiss\n",
    "    text_spliter = RecursiveCharacterTextSplitter(\n",
    "            chunk_size=chunk_size,\n",
    "            chunk_overlap=chunk_overlap\n",
    "            )\n",
    "    chunk = text_spliter.split_documents(docs)\n",
    "    embeddings = HuggingFaceEmbeddings()\n",
    "    db_faiss = FAISS.from_documents(chunk, embeddings)\n",
    "\n",
    "    return db_faiss"
   ]
  },
  {
   "cell_type": "code",
   "execution_count": 99,
   "metadata": {},
   "outputs": [],
   "source": [
    "db_powerpoint1 = prepare_powerpoint(powerpoint_file_path1, chunk_size=500, chunk_overlap=300)\n",
    "db_powerpoint2 = prepare_powerpoint(powerpoint_file_path2, chunk_size=500, chunk_overlap=200)\n"
   ]
  },
  {
   "cell_type": "code",
   "execution_count": 110,
   "metadata": {},
   "outputs": [],
   "source": [
    "query_1 = \"What is the powepoint about in English?\"\n",
    "query_2 = \"How is the powerpoint organized? Is it a good powerpoint or not?\"\n",
    "query_3 = \"what is the bernoli equation?\"\n",
    "query_4 = \"Who is the writer or provider of the powerpoint?\""
   ]
  },
  {
   "cell_type": "code",
   "execution_count": 106,
   "metadata": {},
   "outputs": [
    {
     "data": {
      "text/markdown": [
       "The PowerPoint appears to be about \"Seepage through Soil\" and possibly related to civil engineering or geotechnical engineering, specifically discussing the flow of water through soil and the potential for erosion or head loss."
      ],
      "text/plain": [
       "<IPython.core.display.Markdown object>"
      ]
     },
     "metadata": {},
     "output_type": "display_data"
    }
   ],
   "source": [
    "ask(db_powerpoint1, query_1, k=30, model_name=models[\"Meta\"][0])"
   ]
  },
  {
   "cell_type": "code",
   "execution_count": 108,
   "metadata": {},
   "outputs": [
    {
     "data": {
      "text/markdown": [
       "I don't know. The provided context does not explicitly state the Bernoulli equation. It mentions Bernoulli, but does not provide the equation itself."
      ],
      "text/plain": [
       "<IPython.core.display.Markdown object>"
      ]
     },
     "metadata": {},
     "output_type": "display_data"
    }
   ],
   "source": [
    "ask(db_powerpoint1, query_3, k=30, model_name=models[\"Meta\"][0])\n"
   ]
  },
  {
   "cell_type": "code",
   "execution_count": 111,
   "metadata": {},
   "outputs": [
    {
     "data": {
      "text/markdown": [
       "M.M.Ahmadi"
      ],
      "text/plain": [
       "<IPython.core.display.Markdown object>"
      ]
     },
     "metadata": {},
     "output_type": "display_data"
    }
   ],
   "source": [
    "ask(db_powerpoint1, query_4, k=30, model_name=models[\"Meta\"][0])\n"
   ]
  },
  {
   "cell_type": "code",
   "execution_count": 107,
   "metadata": {},
   "outputs": [
    {
     "data": {
      "text/markdown": [
       "The PowerPoint appears to be about the concept of \"The Wisdom of Crowds,\" which suggests that collective judgments and decisions made by a group of people can be more accurate and intelligent than those made by a single individual, even if the individuals in the group are not experts. The text references the work of Francis Galton, a British scientist who conducted an experiment at a country fair where a crowd of people estimated the weight of an ox, and surprisingly, the average of their guesses was very close to the actual weight. The PowerPoint also touches on the idea that groups can be more intelligent and make better decisions when individuals are allowed to think and act independently, rather than being forced to conform to a single opinion."
      ],
      "text/plain": [
       "<IPython.core.display.Markdown object>"
      ]
     },
     "metadata": {},
     "output_type": "display_data"
    }
   ],
   "source": [
    "ask(db_powerpoint2, query_1, k=30, model_name=models[\"Meta\"][0])\n"
   ]
  },
  {
   "cell_type": "code",
   "execution_count": 112,
   "metadata": {},
   "outputs": [
    {
     "data": {
      "text/markdown": [
       "The PowerPoint appears to be organized around the concept of \"The Wisdom of Crowds,\" with various slides discussing the idea that collective intelligence can be more accurate and effective than individual expertise. The slides seem to be a mix of quotes, examples, and explanations, with some repetition of key points.\n",
       "\n",
       "As for whether it's a good PowerPoint or not, I'd say it's decent but could be improved. Here's why:\n",
       "\n",
       "Strengths:\n",
       "\n",
       "* The PowerPoint covers a clear and interesting topic.\n",
       "* It includes quotes and examples to support the main idea.\n",
       "* The language is generally clear and concise.\n",
       "\n",
       "Weaknesses:\n",
       "\n",
       "* The slides seem to be a bit disjointed, with some ideas and quotes repeated multiple times.\n",
       "* There's no clear structure or flow to the presentation.\n",
       "* Some slides appear to be just a block of text, which can be overwhelming to read.\n",
       "* There are no visuals, images, or graphics to break up the text and make the presentation more engaging.\n",
       "\n",
       "Overall, the PowerPoint could benefit from some reorganization, editing, and design improvements to make it more effective and engaging for the audience."
      ],
      "text/plain": [
       "<IPython.core.display.Markdown object>"
      ]
     },
     "metadata": {},
     "output_type": "display_data"
    }
   ],
   "source": [
    "ask(db_powerpoint2, query_2, k=30, model_name=models[\"Meta\"][0])\n"
   ]
  },
  {
   "cell_type": "code",
   "execution_count": 113,
   "metadata": {},
   "outputs": [
    {
     "data": {
      "text/markdown": [
       "The writer or provider of the PowerPoint is Keivan Jamali."
      ],
      "text/plain": [
       "<IPython.core.display.Markdown object>"
      ]
     },
     "metadata": {},
     "output_type": "display_data"
    }
   ],
   "source": [
    "ask(db_powerpoint2, query_4, k=30, model_name=models[\"Meta\"][0])\n"
   ]
  },
  {
   "cell_type": "markdown",
   "metadata": {},
   "source": [
    "# EBooks"
   ]
  },
  {
   "cell_type": "code",
   "execution_count": 114,
   "metadata": {},
   "outputs": [],
   "source": [
    "from langchain_community.document_loaders import UnstructuredEPubLoader\n",
    "import pypandoc\n",
    "pypandoc.download_pandoc()"
   ]
  },
  {
   "cell_type": "code",
   "execution_count": null,
   "metadata": {},
   "outputs": [],
   "source": [
    "# Create a function to prepare the EBook document\n",
    "def prepare_epub(file_path, chunk_size=1000, chunk_overlap=100):\n",
    "    loader = UnstructuredEPubLoader(\n",
    "    file_path,\n",
    "    mode=\"elements\")\n",
    "    docs = loader.load()\n",
    "\n",
    "    # Split to chunks, embeddings and Faiss\n",
    "    text_spliter = RecursiveCharacterTextSplitter(\n",
    "            chunk_size=chunk_size,\n",
    "            chunk_overlap=chunk_overlap\n",
    "            )\n",
    "    chunk = text_spliter.split_documents(docs)\n",
    "    embeddings = HuggingFaceEmbeddings()\n",
    "    db_faiss = FAISS.from_documents(chunk, embeddings)\n",
    "\n",
    "    return db_faiss"
   ]
  },
  {
   "cell_type": "markdown",
   "metadata": {},
   "source": [
    "# PDF"
   ]
  },
  {
   "cell_type": "code",
   "execution_count": 2,
   "metadata": {},
   "outputs": [],
   "source": [
    "from langchain_community.document_loaders import UnstructuredPDFLoader\n",
    "from pdfminer import psparser"
   ]
  },
  {
   "cell_type": "code",
   "execution_count": 3,
   "metadata": {},
   "outputs": [],
   "source": [
    "pdf_file_path = r\"D:\\All Python\\Pure-Python\\P4\\06-PromptEngineering\\Project 2 - RAG\\data\\Fundamentals of Fluid Mechanics-Munson-7ed.pdf\""
   ]
  },
  {
   "cell_type": "code",
   "execution_count": 4,
   "metadata": {},
   "outputs": [],
   "source": [
    "# Create a function to prepare the PDF document\n",
    "def prepare_pdf(file_path, chunk_size=1000, chunk_overlap=100):\n",
    "    loader = UnstructuredPDFLoader(\n",
    "    file_path,\n",
    "    mode=\"elements\")\n",
    "    docs = loader.load()\n",
    "\n",
    "    # Split to chunks, embeddings and Faiss\n",
    "    text_spliter = RecursiveCharacterTextSplitter(\n",
    "            chunk_size=chunk_size,\n",
    "            chunk_overlap=chunk_overlap\n",
    "            )\n",
    "    chunk = text_spliter.split_documents(docs)\n",
    "    embeddings = HuggingFaceEmbeddings()\n",
    "    db_faiss = FAISS.from_documents(chunk, embeddings)\n",
    "\n",
    "    return db_faiss"
   ]
  },
  {
   "cell_type": "code",
   "execution_count": 5,
   "metadata": {},
   "outputs": [],
   "source": [
    "db_pdf = prepare_pdf(pdf_file_path)"
   ]
  },
  {
   "cell_type": "code",
   "execution_count": 7,
   "metadata": {},
   "outputs": [],
   "source": [
    "query_1 = \"What is non-Newtonian fluids defenition?\"\n",
    "query_2 = \"What are formulas of Compression and Expansion of Gases in part 1.7.2?\"\n",
    "query_3 = \"What are the learning objectives of Chaapter 8?\""
   ]
  },
  {
   "cell_type": "code",
   "execution_count": 12,
   "metadata": {},
   "outputs": [
    {
     "data": {
      "text/markdown": [
       "Non-Newtonian fluids are defined as fluids for which the shearing stress is not linearly related to the rate of shearing strain. In other words, the apparent viscosity of non-Newtonian fluids changes with the shear rate, unlike Newtonian fluids where the viscosity remains constant."
      ],
      "text/plain": [
       "<IPython.core.display.Markdown object>"
      ]
     },
     "metadata": {},
     "output_type": "display_data"
    }
   ],
   "source": [
    "ask(db_pdf, query_1, k=20, model_name=models[\"Meta\"][0])"
   ]
  },
  {
   "cell_type": "code",
   "execution_count": 21,
   "metadata": {},
   "outputs": [
    {
     "data": {
      "text/markdown": [
       "The formulas for Compression and Expansion of Gases in part 1.7.2 are not explicitly stated in the provided text. However, based on the context, it appears that the formulas are related to the ideal gas law and the relationship between pressure and density.\n",
       "\n",
       "From the text, we can infer that the formulas might be:\n",
       "\n",
       "1. The ideal gas law: p = ρRT (Equation 1.8)\n",
       "2. The relationship between pressure and density: p/p₀ = (ρ/ρ₀)^k (where k is the specific heat ratio)\n",
       "\n",
       "Additionally, the text mentions Equations 1.14 and 1.15, but these equations are not explicitly stated. If you need more information, please provide more context or clarify what you are looking for."
      ],
      "text/plain": [
       "<IPython.core.display.Markdown object>"
      ]
     },
     "metadata": {},
     "output_type": "display_data"
    }
   ],
   "source": [
    "ask(db_pdf, query_2, k=120, model_name=models[\"Meta\"][0])\n"
   ]
  },
  {
   "cell_type": "code",
   "execution_count": 38,
   "metadata": {},
   "outputs": [
    {
     "data": {
      "text/markdown": [
       "I don't know. The text does not provide the specific learning objectives for Chapter 8. It only mentions that there is a Learning Objectives section at the beginning of each chapter, but it does not provide the actual objectives for Chapter 8."
      ],
      "text/plain": [
       "<IPython.core.display.Markdown object>"
      ]
     },
     "metadata": {},
     "output_type": "display_data"
    }
   ],
   "source": [
    "ask(db_pdf, query_3, k=100, model_name=models[\"Meta\"][0])\n"
   ]
  },
  {
   "cell_type": "code",
   "execution_count": null,
   "metadata": {},
   "outputs": [],
   "source": []
  }
 ],
 "metadata": {
  "kernelspec": {
   "display_name": "Python 3",
   "language": "python",
   "name": "python3"
  },
  "language_info": {
   "codemirror_mode": {
    "name": "ipython",
    "version": 3
   },
   "file_extension": ".py",
   "mimetype": "text/x-python",
   "name": "python",
   "nbconvert_exporter": "python",
   "pygments_lexer": "ipython3",
   "version": "3.12.7"
  }
 },
 "nbformat": 4,
 "nbformat_minor": 2
}
