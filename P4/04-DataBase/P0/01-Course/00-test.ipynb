{
 "cells": [
  {
   "cell_type": "code",
   "execution_count": 5,
   "metadata": {},
   "outputs": [],
   "source": [
    "from sqlalchemy import inspect, create_engine, MetaData, Column, Table\n",
    "from sqlalchemy.sql import select\n",
    "from sqlalchemy.sql.functions import Extract\n",
    "from data import db_url_northwind as db_url\n",
    "import pandas as pd\n",
    "\n",
    "engine = create_engine(db_url)\n",
    "connection = engine.connect()\n",
    "metadata = MetaData()\n",
    "\n",
    "employees_table = Table(\"employees\", metadata)"
   ]
  },
  {
   "cell_type": "code",
   "execution_count": null,
   "metadata": {},
   "outputs": [],
   "source": [
    "quary"
   ]
  }
 ],
 "metadata": {
  "kernelspec": {
   "display_name": "Python 3",
   "language": "python",
   "name": "python3"
  },
  "language_info": {
   "codemirror_mode": {
    "name": "ipython",
    "version": 3
   },
   "file_extension": ".py",
   "mimetype": "text/x-python",
   "name": "python",
   "nbconvert_exporter": "python",
   "pygments_lexer": "ipython3",
   "version": "3.12.4"
  }
 },
 "nbformat": 4,
 "nbformat_minor": 2
}
