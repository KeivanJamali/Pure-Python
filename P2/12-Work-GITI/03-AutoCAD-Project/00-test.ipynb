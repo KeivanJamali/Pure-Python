{
 "cells": [
  {
   "cell_type": "code",
   "execution_count": 7,
   "metadata": {},
   "outputs": [],
   "source": [
    "from pyautocad import APoint, Autocad"
   ]
  },
  {
   "cell_type": "code",
   "execution_count": 8,
   "metadata": {},
   "outputs": [
    {
     "name": "stdout",
     "output_type": "stream",
     "text": [
      "Hello, AutoCAD from Python\n",
      "\n",
      "Drawing1.dwg\n"
     ]
    }
   ],
   "source": [
    "acad = Autocad(create_if_not_exists=True)\n",
    "acad.prompt(\"Hello, AutoCAD from Python\\n\")\n",
    "print(acad.doc.Name)"
   ]
  },
  {
   "cell_type": "code",
   "execution_count": null,
   "metadata": {},
   "outputs": [],
   "source": [
    "class "
   ]
  },
  {
   "cell_type": "code",
   "execution_count": 26,
   "metadata": {},
   "outputs": [],
   "source": [
    "layer_name = \"TextLayer\"\n",
    "if not acad.doc.Layers.Item(layer_name):\n",
    "    acad.doc.Layers.Add(layer_name)\n",
    "\n",
    "points = [[(19.4327, 21.0325), \"firstone\"], [(19.1130, 20.8914), \"متن دوم\"], [(31.9228, 36.8175), \"33.20\"], [(53.4797, 20.2124), \"کتابخانه 20\"], [(53.4797, 20.2124), f\"{2*25}\"]]\n",
    "text = \"هرچیزی که لازم باشد. پ\"\n",
    "location = APoint(19.4327, 21.0325)\n",
    "height = 0.8\n",
    "rotation = 0\n",
    "\n",
    "\n",
    "text_obj = acad.model.AddText(text, location, height)\n",
    "text_obj.rotation = rotation\n",
    "text_obj.StyleName = \"Standard\"\n",
    "text_obj.Color = 10\n",
    "text_obj.Alignment = 2\n",
    "text_obj.TextAlignmentPoint = location\n",
    "text_obj.Layer = layer_name"
   ]
  },
  {
   "cell_type": "code",
   "execution_count": 13,
   "metadata": {},
   "outputs": [],
   "source": [
    "for entity in acad.iter_objects('Point'):\n",
    "    point = APoint(entity.Coordinates)\n",
    "    print(f\"Point at X: {point.x}, Y: {point.y}, Z: {point.z}\")\n"
   ]
  },
  {
   "cell_type": "code",
   "execution_count": null,
   "metadata": {},
   "outputs": [],
   "source": []
  }
 ],
 "metadata": {
  "kernelspec": {
   "display_name": "Python 3",
   "language": "python",
   "name": "python3"
  },
  "language_info": {
   "codemirror_mode": {
    "name": "ipython",
    "version": 3
   },
   "file_extension": ".py",
   "mimetype": "text/x-python",
   "name": "python",
   "nbconvert_exporter": "python",
   "pygments_lexer": "ipython3",
   "version": "3.12.2"
  }
 },
 "nbformat": 4,
 "nbformat_minor": 2
}
