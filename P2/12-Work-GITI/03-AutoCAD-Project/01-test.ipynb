{
 "cells": [
  {
   "cell_type": "code",
   "execution_count": 1,
   "metadata": {},
   "outputs": [],
   "source": [
    "%load_ext autoreload\n",
    "%autoreload 2"
   ]
  },
  {
   "cell_type": "code",
   "execution_count": 72,
   "metadata": {},
   "outputs": [],
   "source": [
    "from modular.Tables import Tables\n",
    "from modular.template_extractor_V3 import Extract_template\n",
    "from modular.Calculations import Calculate\n",
    "from modular.implement_numbers import implementing_in_code"
   ]
  },
  {
   "cell_type": "code",
   "execution_count": 75,
   "metadata": {},
   "outputs": [],
   "source": [
    "input_file_dir = r\"D:\\All Python\\Pure-Python\\P2\\12-Work-GITI\\03-AutoCAD-Project\\Templates\\1_bridge.dwg\"\n",
    "output_file_dir = r\"D:\\All Python\\Pure-Python\\P2\\12-Work-GITI\\03-AutoCAD-Project\\modular\\templates\"\n",
    "exctractor =  Extract_template(file_name=input_file_dir, time_load=1)"
   ]
  },
  {
   "cell_type": "code",
   "execution_count": 76,
   "metadata": {},
   "outputs": [
    {
     "data": {
      "application/vnd.jupyter.widget-view+json": {
       "model_id": "059178db81e74f698a1d18383b3e57b2",
       "version_major": 2,
       "version_minor": 0
      },
      "text/plain": [
       "  0%|          | 0/1890 [00:00<?, ?it/s]"
      ]
     },
     "metadata": {},
     "output_type": "display_data"
    },
    {
     "name": "stdout",
     "output_type": "stream",
     "text": [
      "Code generation complete. The code has been saved to n1-bridge.py.\n"
     ]
    }
   ],
   "source": [
    "exctractor.generate(output_file_dir=output_file_dir, want_time_line=True)"
   ]
  },
  {
   "cell_type": "code",
   "execution_count": 111,
   "metadata": {},
   "outputs": [
    {
     "name": "stdout",
     "output_type": "stream",
     "text": [
      "f[INFO] Successfuly find parameters in the table 1.\n",
      "11\n",
      "11\n",
      "11\n",
      "11\n",
      "8\n",
      "8\n",
      "8\n",
      "8\n"
     ]
    },
    {
     "name": "stderr",
     "output_type": "stream",
     "text": [
      "d:\\All Python\\Pure-Python\\P2\\12-Work-GITI\\03-AutoCAD-Project\\modular\\Calculations.py:36: FutureWarning: Series.__getitem__ treating keys as positions is deprecated. In a future version, integer keys will always be treated as labels (consistent with DataFrame behavior). To access a value by position, use `ser.iloc[pos]`\n",
      "  if np.isnan(choice[0]):\n"
     ]
    }
   ],
   "source": [
    "temp = Calculate(Hs=0.25)"
   ]
  },
  {
   "cell_type": "code",
   "execution_count": 112,
   "metadata": {},
   "outputs": [
    {
     "data": {
      "text/plain": [
       "{'i-001': '18',\n",
       " 'i-002': '60',\n",
       " 'i-003': '22',\n",
       " 'i-004': '27',\n",
       " 'i-005': '20',\n",
       " 'i-006': '209',\n",
       " 'i-007': '22',\n",
       " 'i-008': '3.0',\n",
       " 'i-009': '180.0',\n",
       " 'i-010': '1.998',\n",
       " 'i-011': '33.06',\n",
       " 'i-012': '18',\n",
       " 'i-013': '60',\n",
       " 'i-014': '22',\n",
       " 'i-015': '209',\n",
       " 'i-016': '20',\n",
       " 'i-017': '27',\n",
       " 'i-018': '22',\n",
       " 'i-019': '3.0',\n",
       " 'i-020': '180.0',\n",
       " 'i-021': '1.998',\n",
       " 'i-022': '33.06',\n",
       " 'i-023': '14',\n",
       " 'i-024': '11',\n",
       " 'i-025': '100',\n",
       " 'i-026': '18.1',\n",
       " 'i-027': '199.3',\n",
       " 'i-028': '1.208',\n",
       " 'i-029': '20.0',\n",
       " 'i-030': '10',\n",
       " 'i-031': '60',\n",
       " 'i-032': '15',\n",
       " 'i-033': '250',\n",
       " 'i-034': '15',\n",
       " 'i-035': '2.8',\n",
       " 'i-036': '168.0',\n",
       " 'i-037': '0.617',\n",
       " 'i-038': '10.2',\n",
       " 'i-039': '10',\n",
       " 'i-040': '8',\n",
       " 'i-041': '100',\n",
       " 'i-042': '17.7',\n",
       " 'i-043': '141.36',\n",
       " 'i-044': '0.617',\n",
       " 'i-045': '10.2',\n",
       " 'i-046': '10',\n",
       " 'i-047': '8*2',\n",
       " 'i-048': '100',\n",
       " 'i-049': '17.7',\n",
       " 'i-050': '282.72',\n",
       " 'i-051': '0.617',\n",
       " 'i-052': '10.2',\n",
       " 'i-053': '10',\n",
       " 'i-054': '55*2',\n",
       " 'i-055': '17',\n",
       " 'i-056': '45',\n",
       " 'i-057': '45',\n",
       " 'i-058': '22',\n",
       " 'i-059': '2',\n",
       " 'i-060': '240.9',\n",
       " 'i-061': '0.617',\n",
       " 'i-062': '10.2',\n",
       " 'i-063': '10',\n",
       " 'i-064': '3*2',\n",
       " 'i-065': '250',\n",
       " 'i-066': '2',\n",
       " 'i-067': '15.0',\n",
       " 'i-068': '0.617',\n",
       " 'i-069': '10.2',\n",
       " 'i-070': '10',\n",
       " 'i-071': '9*2',\n",
       " 'i-072': '20',\n",
       " 'i-073': '40',\n",
       " 'i-074': '7',\n",
       " 'i-075': '15',\n",
       " 'i-076': '25',\n",
       " 'i-077': '1',\n",
       " 'i-078': '19.26',\n",
       " 'i-079': '0.617',\n",
       " 'i-080': '10.2',\n",
       " 'i-081': '-',\n",
       " 'i-082': '-',\n",
       " 'i-083': '-',\n",
       " 'i-084': '-',\n",
       " 'i-085': '-',\n",
       " 'i-086': '-',\n",
       " 'i-087': '-',\n",
       " 'i-088': '-',\n",
       " 'i-089': '7.7',\n",
       " 'i-090': '20.4',\n",
       " 'i-091': '147.3'}"
      ]
     },
     "execution_count": 112,
     "metadata": {},
     "output_type": "execute_result"
    }
   ],
   "source": [
    "# for k, v in temp.data.items():\n",
    "    # temp.data[k] = str(v)\n",
    "temp.data "
   ]
  },
  {
   "cell_type": "code",
   "execution_count": 84,
   "metadata": {},
   "outputs": [],
   "source": [
    "file = r\"D:\\All Python\\Pure-Python\\P2\\12-Work-GITI\\03-AutoCAD-Project\\modular\\templates\\template_1_bridge.py\"\n",
    "impl = implementing_in_code(data=temp.data, file_dir=file)\n"
   ]
  },
  {
   "cell_type": "code",
   "execution_count": 86,
   "metadata": {},
   "outputs": [
    {
     "name": "stdout",
     "output_type": "stream",
     "text": [
      "i-001 18\n",
      "i-002 60\n",
      "i-003 22\n",
      "i-004 27\n",
      "i-005 20\n",
      "i-006 209\n",
      "i-007 22\n",
      "i-008 3.0\n",
      "i-009 49.65\n",
      "i-010 2.0\n",
      "i-011 33.06\n",
      "i-012 18\n",
      "i-013 60\n",
      "i-014 22\n",
      "i-015 209\n",
      "i-016 20\n",
      "i-017 27\n",
      "i-018 22\n",
      "i-019 3.0\n",
      "i-020 49.65\n",
      "i-021 2.0\n",
      "i-022 33.06\n",
      "i-023 14\n",
      "i-024 11\n",
      "i-025 100\n",
      "i-026 1584.6\n",
      "i-027 26224.3\n",
      "i-028 1.2\n",
      "i-029 20.0\n",
      "i-030 10\n",
      "i-031 60\n",
      "i-032 15\n",
      "i-033 250\n",
      "i-034 15\n",
      "i-035 2.8\n",
      "i-036 46.34\n",
      "i-037 0.6\n",
      "i-038 10.2\n",
      "i-039 10\n",
      "i-040 8\n",
      "i-041 100\n",
      "i-042 1136.6\n",
      "i-043 18809.9\n",
      "i-044 0.6\n",
      "i-045 10.2\n",
      "i-046 10\n",
      "i-047 8*2\n",
      "i-048 100\n",
      "i-049 1136.6\n",
      "i-050 18809.9\n",
      "i-051 0.6\n",
      "i-052 10.2\n",
      "i-053 10\n",
      "i-054 55*2\n",
      "i-055 17\n",
      "i-056 45\n",
      "i-057 45\n",
      "i-058 22\n",
      "i-059 2\n",
      "i-060 36.24\n",
      "i-061 0.6\n",
      "i-062 10.2\n",
      "i-063 10\n",
      "i-064 3*2\n",
      "i-065 250\n",
      "i-066 2\n",
      "i-067 41.38\n",
      "i-068 0.6\n",
      "i-069 10.2\n",
      "i-070 10\n",
      "i-071 9*2\n",
      "i-072 20\n",
      "i-073 40\n",
      "i-074 7\n",
      "i-075 15\n",
      "i-076 25\n",
      "i-077 1\n",
      "i-078 17.71\n",
      "i-079 0.6\n",
      "i-080 10.2\n",
      "i-081 -\n",
      "i-082 -\n",
      "i-083 - / -\n",
      "i-084 -\n",
      "i-085 3\n",
      "i-086 49.65\n",
      "i-087 -\n",
      "i-088 -\n",
      "i-089 7.7\n",
      "i-090 20.4\n",
      "i-091 147.3\n"
     ]
    }
   ],
   "source": [
    "impl.replace_text_in_file()"
   ]
  },
  {
   "cell_type": "code",
   "execution_count": null,
   "metadata": {},
   "outputs": [],
   "source": []
  }
 ],
 "metadata": {
  "kernelspec": {
   "display_name": "Python 3",
   "language": "python",
   "name": "python3"
  },
  "language_info": {
   "codemirror_mode": {
    "name": "ipython",
    "version": 3
   },
   "file_extension": ".py",
   "mimetype": "text/x-python",
   "name": "python",
   "nbconvert_exporter": "python",
   "pygments_lexer": "ipython3",
   "version": "3.12.2"
  }
 },
 "nbformat": 4,
 "nbformat_minor": 2
}
