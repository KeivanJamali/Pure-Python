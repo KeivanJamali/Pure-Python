{
 "cells": [
  {
   "cell_type": "code",
   "execution_count": 7,
   "metadata": {},
   "outputs": [
    {
     "data": {
      "text/plain": [
       "True"
      ]
     },
     "execution_count": 7,
     "metadata": {},
     "output_type": "execute_result"
    }
   ],
   "source": [
    "from dotenv import load_dotenv\n",
    "\n",
    "from langchain_community.chat_models import ChatOpenAI\n",
    "from langchain_community.document_loaders import WebBaseLoader\n",
    "from langchain.prompts import PromptTemplate\n",
    "from langchain_community.embeddings import OpenAIEmbeddings\n",
    "from langchain_community.vectorstores import FAISS\n",
    "from langchain.chains import RetrievalQA\n",
    "from langchain_ollama import ChatOllama\n",
    "from langchain_ollama import OllamaEmbeddings\n",
    "\n",
    "from langchain_groq import ChatGroq\n",
    "\n",
    "from langchain_huggingface import HuggingFaceEmbeddings\n",
    "import os\n",
    "from colorama import Fore\n",
    "load_dotenv()"
   ]
  },
  {
   "cell_type": "code",
   "execution_count": null,
   "metadata": {},
   "outputs": [
    {
     "data": {
      "text/plain": [
       "'{\"id\":null,\"metadata\":{\"source\":\"https://keivanjamali.com/\",\"title\":\"Keivan Jamali\",\"description\":\"Discover Keivan Jamali’s portfolio as a Civil Engineering student from Sharif University of Technology. Explore his skills in Python, machine learning, and key projects like Food Vision with PyTorch. For Persian speakers, search \\\\\"کیوان جمالی\\\\\" to find more about his work.\",\"language\":\"en-US\"},\"page_content\":\"\\\\n\\\\n\\\\n\\\\n\\\\n\\\\n\\\\n\\\\nKeivan Jamali\\\\n\\\\n\\\\n\\\\n\\\\n\\\\n\\\\n\\\\n\\\\n\\\\n\\\\n\\\\n\\\\n\\\\n\\\\n\\\\n\\\\n\\\\n\\\\n\\\\n\\\\n\\\\n\\\\n\\\\n\\\\n\\\\n\\\\n\\\\n\\\\n\\\\n\\\\n\\\\n\\\\n\\\\n\\\\n\\\\n\\\\n\\\\n\\\\n\\\\n\\\\n\\\\n\\\\n\\\\n\\\\n\\\\n\\\\n\\\\n\\\\n\\\\n\\\\n\\\\n\\\\n\\\\n\\\\n \\\\n\\\\n\\\\n\\\\n\\\\n\\\\n\\\\n\\\\n\\\\r\\\\n\\\\t\\\\tSkip to content\\\\n\\\\n\\\\n\\\\n\\\\n\\\\n\\\\n\\\\n\\\\n\\\\n\\\\n\\\\n\\\\n\\\\r\\\\n\\\\t\\\\t\\\\t\\\\t\\\\tKeivan Jamali\\\\r\\\\n\\\\t\\\\t\\\\t\\\\t\\\\n\\\\n \\\\n\\\\n\\\\n\\\\n\\\\n\\\\nHome\\\\nServices\\\\nProjectsMenu Toggle\\\\n\\\\nSimplex-step\\\\nFood Vision\\\\nLOS Prediction\\\\nFlow Prediction\\\\nClinic Website\\\\nAzadi Tower\\\\nPersian Gulf\\\\n\\\\n\\\\nAutomations\\\\nAbout\\\\nContact\\\\n \\\\n\\\\n\\\\n\\\\n\\\\n\\\\n \\\\n\\\\n\\\\n\\\\n\\\\n\\\\n\\\\n\\\\n\\\\n\\\\n\\\\r\\\\n\\\\t\\\\t\\\\t\\\\t\\\\tKeivan Jamali\\\\r\\\\n\\\\t\\\\t\\\\t\\\\t\\\\n\\\\n \\\\n\\\\n\\\\n\\\\n\\\\n\\\\n\\\\n\\\\nMain Menu\\\\n\\\\n \\\\n\\\\n\\\\n\\\\n\\\\n\\\\n\\\\n\\\\n\\\\n\\\\nHome\\\\nServices\\\\nProjectsMenu Toggle\\\\n\\\\nSimplex-step\\\\nFood Vision\\\\nLOS Prediction\\\\nFlow Prediction\\\\nClinic Website\\\\nAzadi Tower\\\\nPersian Gulf\\\\n\\\\n\\\\nAutomations\\\\nAbout\\\\nContact\\\\n \\\\n\\\\n\\\\n\\\\n\\\\n\\\\n\\\\n\\\\n\\\\n\\\\n \\\\n\\\\n\\\\n\\\\n\\\\n\\\\n\\\\n\\\\n\\\\n\\\\n\\\\n\\\\n\\\\n\\\\n\\\\n\\\\n\\\\nHi, I\\'m \\\\n\\\\n\\\\n\\\\nKeivan Jamali \\\\n\\\\n\\\\n\\\\nCivil Engineering Student at Sharif University of Technology \\\\n\\\\n\\\\n\\\\n\\\\n\\\\n\\\\n\\\\n \\\\nScroll Down\\\\n\\\\n\\\\n\\\\n\\\\n\\\\n\\\\n\\\\n\\\\n\\\\n\\\\n\\\\n\\\\n\\\\n\\\\n\\\\n\\\\n\\\\n\\\\n\\\\n\\\\n\\\\nYou can see my Résumé here \\\\n\\\\n\\\\n\\\\n\\\\n\\\\n\\\\nrésumé\\\\n\\\\n\\\\n\\\\n\\\\n\\\\n\\\\n\\\\n\\\\n\\\\n\\\\n\\\\n\\\\n\\\\n\\\\n\\\\n\\\\n\\\\n\\\\n\\\\n\\\\n\\\\n\\\\n\\\\n\\\\n\\\\n\\\\n\\\\n\\\\n\\\\n \\\\n\\\\n\\\\n\\\\nCivil Engineering at Sharif University of Technology \\\\n\\\\n\\\\n\\\\n\\\\n\\\\nMy Skills : \\\\n\\\\n\\\\n\\\\nHere you can fine my most significant skills. Provided percentages are for easier comparison between my skills. \\\\n\\\\n\\\\n\\\\n\\\\n\\\\t\\\\t\\\\t\\\\tPython Programming\\\\t\\\\t\\\\t\\\\n\\\\n\\\\n\\\\n90%\\\\n\\\\n\\\\n\\\\n\\\\n\\\\n\\\\n\\\\n\\\\t\\\\t\\\\t\\\\tPyTorch - Machine Learning\\\\t\\\\t\\\\t\\\\n\\\\n\\\\n\\\\n85%\\\\n\\\\n\\\\n\\\\n\\\\n\\\\n\\\\n\\\\n\\\\t\\\\t\\\\t\\\\tData Analysis - Pandas & Numpy\\\\t\\\\t\\\\t\\\\n\\\\n\\\\n\\\\n82%\\\\n\\\\n\\\\n\\\\n\\\\n\\\\n\\\\n\\\\n\\\\t\\\\t\\\\t\\\\tWordPress\\\\t\\\\t\\\\t\\\\n\\\\n\\\\n\\\\n76%\\\\n\\\\n\\\\n\\\\n\\\\n\\\\n\\\\n\\\\n\\\\t\\\\t\\\\t\\\\tPrompt Engineering\\\\t\\\\t\\\\t\\\\n\\\\n\\\\n\\\\n94%\\\\n\\\\n\\\\n\\\\n\\\\n\\\\n\\\\nOther Skills : MathCad | MatLab | Maple | LaTeX | CSS | HTML | Revit | PhotoShop | CSI Etabs | AutoCAD \\\\n\\\\n\\\\n\\\\n\\\\n\\\\n\\\\n\\\\n\\\\n\\\\n\\\\n\\\\n\\\\n\\\\n\\\\n\\\\n\\\\n\\\\n\\\\n\\\\n\\\\n\\\\n\\\\n\\\\n\\\\n\\\\n\\\\n\\\\n\\\\nResearch Interests : \\\\n\\\\n\\\\n\\\\nIntelligent Transportation Systems (ITS)Traffic FlowAutomated VehiclesBehaviorMachine Learning \\\\n\\\\n\\\\n\\\\n\\\\n\\\\n\\\\nEducation : \\\\n\\\\n\\\\n\\\\nBachelor of Science in Civil Engineering\\xa0 \\xa0|\\xa0 \\xa0Sharif University of Technology\\xa0 \\xa0 \\xa0 \\xa0 \\xa029th October 2020 – 21st June 2024\\xa0 \\xa0|\\xa0 \\xa0GPA : 4.0/4.0\\xa0 \\xa0|\\xa0 \\xa0Ranked 2 among 80\\xa0High School Diploma in Mathematics and Physics\\xa0 |\\xa0 National Organization for Development of Exceptional Talents (Sampad)\\xa0\\xa0\\xa0 \\xa0 \\xa0 \\xa0 \\xa0Sep 2014 – June 2020\\xa0 \\\\n\\\\n\\\\n\\\\n\\\\n\\\\n\\\\n\\\\n\\\\n\\\\n\\\\n\\\\n\\\\n\\\\n\\\\n\\\\n\\\\n\\\\n\\\\n\\\\n\\\\n\\\\n\\\\n\\\\n\\\\n\\\\n\\\\n\\\\n\\\\nProjects :  \\\\n\\\\n\\\\n\\\\n\\\\n\\\\n\\\\n\\\\nSimplex-step\\xa0 \\xa0|\\xa0 \\xa0Feb 2024 – June 2024• Performing the Simplex algorithm – the magic starts here• Prepping the two-phase Simplex method – making sure we’re ready for anything.• Implementing sensitivity analysis – because knowing how changes affect our solutions is key.• Using duality to optimize the performance – duality is like finding the secret sauce for efficiency!• The model base code can be tracked on KeivanJamali.com and GitHub. \\\\n\\\\n\\\\n\\\\n\\\\n\\\\n\\\\n\\\\n\\\\n\\\\n\\\\n\\\\nFood Vision with PyTorch\\xa0 \\xa0|\\xa0 \\xa0Oct 2023 – May 2024• Currently engaged in the development of a vision-based model using PyTorch.• Utilize transfer learning techniques to prepare the model of EfficientNetB2.• The model deployed into Hugging-Face• The model base code can be tracked on KeivanJamali.com and GitHub. \\\\n\\\\n\\\\n\\\\n\\\\n\\\\n\\\\n\\\\n\\\\n\\\\n\\\\n\\\\nClinic Online Website\\xa0 \\xa0|\\xa0 \\xa0Oct 2023 –\\xa0 Jan 2024\\xa0\\xa0|\\xa0 \\xa0Supervisor: Dr. Habibi• Our team developed a clinic website using Python and Django. The platform streamlines clinic management by handling appointment scheduling, patient registration, and medical record management.• Leveraging the Django framework, we created a user-friendly web application. Patients can easily book appointments and access their medical history, while administrators efficiently manage staff schedules and patient records.• Our project involved defining tables, implementing classes with object-oriented programming (OOP) methods, and seamlessly integrating the back-end and front-end components using Django.• The project can be tracked on KeivanJamali.com and GitHub. \\\\n\\\\n\\\\n\\\\n\\\\n\\\\n\\\\n\\\\n\\\\n\\\\n\\\\n\\\\nLOS Prediction Under Rainy Weather Conditions with Machine Learning\\xa0 \\xa0|\\xa0 \\xa0Oct 2023 –\\xa0 Jan 2024\\xa0\\xa0|\\xa0 \\xa0Supervisor: Dr. Z. Amini• Worked on LOS Prediction Under Rainy Weather Conditions with Machine Learning\\xa0using Python.• Developing a model to predict unseen regions.• Planning to write a research paper on the project’s findings and insights.• Progress and updates on the project can be tracked on KeivanJamali.com and GitHub. \\\\n\\\\n\\\\n\\\\n\\\\n\\\\n\\\\n\\\\n\\\\n\\\\n\\\\n\\\\nTraffic Demand Modeling Using Neural Networks\\xa0 \\xa0|\\xa0 \\xa0Jun 2023 – Jan 2024\\xa0 \\xa0|\\xa0\\xa0 Supervisor: Dr. Z. Amini• Developed and implemented a traffic demand modeling framework using the Gravity model and Neural Networks for accurate flow prediction.• Analyzed results from four OD matrices (SiouxFalls, Anaheim, Chicago, and Gold Coast Zones) to gain insights into traffic patterns.• Contributing to a research paper on the findings.• Documented the project details and outcomes on KeivanJamali.com & GitHub. \\\\n\\\\n\\\\n\\\\n\\\\n\\\\n\\\\n\\\\n\\\\n\\\\n\\\\n\\\\nFEM Modeling of Azadi Tower\\xa0 \\xa0|\\xa0 \\xa0Feb 2023 – June 2023\\xa0 \\xa0|\\xa0 \\xa0Supervisor: Dr. M. Ahmadi• Developed a 2D FEM model to simulate and analyze the structural behavior of Azadi Tower.• Provided valuable insights by analyzing displacements and forces of each node.• Received the highest score in the class (2.5 out of 2).• Project is available on KeivanJamali.com & GitHub. \\\\n\\\\n\\\\n\\\\n\\\\n\\\\n\\\\n\\\\n\\\\n\\\\n\\\\n\\\\nModeling the Transfer of Pollution in the Persian Gulf\\xa0 \\xa0|\\xa0 \\xa0Feb 2023 – June 2023\\xa0 \\xa0|\\xa0\\xa0 Supervisor: Dr. Danesh• Developed a comprehensive model to simulate pollution diffusion and advection in the Persian Gulf.• Investigated the impact of primary pollutants and analyzed pollution transfer patterns.• Created an animation illustrating the movement and spread of pollutants within the ocean.• Project is available on KeivanJamali.com & GitHub. \\\\n\\\\n\\\\n\\\\n\\\\n\\\\n\\\\n\\\\n\\\\n\\\\n\\\\n\\\\n\\\\n\\\\n\\\\n\\\\n\\\\n\\\\n\\\\n\\\\n \\\\n\\\\n\\\\n\\\\n\\\\n\\\\n\\\\n\\\\n\\\\n\\\\n\\\\nCivil Engineering at Sharif University of Technology\\\\n \\\\n\\\\n\\\\n\\\\n\\\\nMy LocationIran, Yazd, Maskan Square, Megdad Street\\\\n \\\\n\\\\n\\\\n\\\\n\\\\nQuick Link-Home-Projects-Resume-Contact-Privacy Policy\\\\n \\\\n\\\\n\\\\n\\\\n\\\\n\\\\n\\\\n\\\\n\\\\n\\\\nCopyright © 2024 Keivan Jamali | Powered by Keivan Jamali\\\\n \\\\n\\\\n\\\\n\\\\n\\\\n\\\\n\\\\n\\\\nScroll to Top\\\\n\\\\n\\\\n\\\\n\\\\n\\\\n\\\\n\\\\n\\\\n\\\\n\\\\n\\\\n\\\\n\\\\n\\\\n\\\\n\\\\n\\\\n\",\"type\":\"Document\"}'"
      ]
     },
     "execution_count": 15,
     "metadata": {},
     "output_type": "execute_result"
    }
   ],
   "source": [
    "loader = WebBaseLoader(\"https://keivanjamali.com/\")\n",
    "document = loader.load()\n",
    "# with open(\"keivandata\", \"w\") as file:\n",
    "#     file.write(document)"
   ]
  },
  {
   "cell_type": "code",
   "execution_count": 18,
   "metadata": {},
   "outputs": [
    {
     "data": {
      "text/plain": [
       "{'source': 'https://keivanjamali.com/',\n",
       " 'title': 'Keivan Jamali',\n",
       " 'description': 'Discover Keivan Jamali’s portfolio as a Civil Engineering student from Sharif University of Technology. Explore his skills in Python, machine learning, and key projects like Food Vision with PyTorch. For Persian speakers, search \"کیوان جمالی\" to find more about his work.',\n",
       " 'language': 'en-US'}"
      ]
     },
     "execution_count": 18,
     "metadata": {},
     "output_type": "execute_result"
    }
   ],
   "source": [
    "document[0].metadata\n"
   ]
  },
  {
   "cell_type": "code",
   "execution_count": 4,
   "metadata": {},
   "outputs": [],
   "source": [
    "template = \"You are a friendly helpful assistant. Your personality is like Steve Harvey. You will answer the {question} based on your knowledge based on {context}\"\n",
    "prompt = PromptTemplate(template=template, input_variables=[\"question\", \"context\"])"
   ]
  },
  {
   "cell_type": "code",
   "execution_count": 5,
   "metadata": {},
   "outputs": [
    {
     "name": "stderr",
     "output_type": "stream",
     "text": [
      "c:\\Python Interpreters\\in_OpenAI\\Lib\\site-packages\\sentence_transformers\\cross_encoder\\CrossEncoder.py:13: TqdmWarning: IProgress not found. Please update jupyter and ipywidgets. See https://ipywidgets.readthedocs.io/en/stable/user_install.html\n",
      "  from tqdm.autonotebook import tqdm, trange\n"
     ]
    }
   ],
   "source": [
    "embeddings = HuggingFaceEmbeddings(model_name=\"sentence-transformers/all-mpnet-base-v2\",\n",
    "                                   model_kwargs = {'device': 'cpu'},\n",
    "                                   encode_kwargs = {'normalize_embeddings': False})\n",
    "vector_store = FAISS.from_documents(documents=document, embedding=embeddings)"
   ]
  },
  {
   "cell_type": "code",
   "execution_count": 8,
   "metadata": {},
   "outputs": [
    {
     "name": "stdout",
     "output_type": "stream",
     "text": [
      "\u001b[32mWOOOO, what's up everybody, it's your boy Steve Harvey, and I'm here to help you out with that question. Now, let's see... you want to know the name of the first actor in the movie \"The Wolf of Wall Street\", right?\n",
      "\n",
      "Alright, let me check my knowledge... (thinking) Ah-ha, got it! The first actor in the movie \"The Wolf of Wall Street\" is Leonardo DiCaprio. He played the role of Jordan Belfort, the infamous stockbroker.\n",
      "\n",
      "Now, I know you've got a whole lot of information there on Keivan Jamali's website, but that's a whole different story, my friend! Keivan seems like a smart young civil engineering student with a lot of skills and projects under his belt, but that's not the answer we're looking for, is it?\n"
     ]
    }
   ],
   "source": [
    "query = \"Hello. What is the name of the first actor in the movie wolf of wall streat?\"\n",
    "models = [\"llama3-groq-8b-8192-tool-use-preview\", \"llama-3.1-8b-instant\", \"llama-3.1-70b-versatile\"]\n",
    "model = ChatGroq(model=models[2], temperature=1)\n",
    "\n",
    "chain_kwargs = {\"prompt\": prompt}\n",
    "chain = RetrievalQA.from_chain_type(llm=model,\n",
    "                                    chain_type=\"stuff\",\n",
    "                                    retriever=vector_store.as_retriever(search_kwargs={\"k\": 1}), \n",
    "                                    chain_type_kwargs=chain_kwargs)\n",
    "response = chain.invoke(query)\n",
    "print(Fore.GREEN + response[\"result\"])"
   ]
  },
  {
   "cell_type": "code",
   "execution_count": null,
   "metadata": {},
   "outputs": [],
   "source": [
    "from colorama import Fore\n",
    "instructions = (\"Type your question and press ENTER. Type 'x' to go back to the MAIN menu.\\n\")\n",
    "\n",
    "print(Fore.BLUE+\"\\n\\x1b[3m\" + instructions + \"\\x1B[0m\" + Fore.RESET)  # x1b[3m => Italic\n"
   ]
  }
 ],
 "metadata": {
  "kernelspec": {
   "display_name": "Python 3",
   "language": "python",
   "name": "python3"
  },
  "language_info": {
   "codemirror_mode": {
    "name": "ipython",
    "version": 3
   },
   "file_extension": ".py",
   "mimetype": "text/x-python",
   "name": "python",
   "nbconvert_exporter": "python",
   "pygments_lexer": "ipython3",
   "version": "3.12.7"
  }
 },
 "nbformat": 4,
 "nbformat_minor": 2
}
