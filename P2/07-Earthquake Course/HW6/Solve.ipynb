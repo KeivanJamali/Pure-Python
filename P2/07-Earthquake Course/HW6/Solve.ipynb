{
 "cells": [
  {
   "cell_type": "code",
   "execution_count": 2,
   "metadata": {},
   "outputs": [],
   "source": [
    "from sympy import *"
   ]
  },
  {
   "cell_type": "markdown",
   "metadata": {},
   "source": [
    "## Problem 6"
   ]
  },
  {
   "cell_type": "code",
   "execution_count": 16,
   "metadata": {},
   "outputs": [
    {
     "data": {
      "text/plain": [
       "(4.2, 1310.0)"
      ]
     },
     "execution_count": 16,
     "metadata": {},
     "output_type": "execute_result"
    }
   ],
   "source": [
    "kg, kN, m, s, ton = symbols(\"kg, kN, m, s, ton\")\n",
    "a_1 = 0.8\n",
    "a_2 = 0.68\n",
    "a_1 = 0.1\n",
    "a_2 = 0.1\n",
    "mass = (4+2*a_2) # * ton\n",
    "k = (1200+1100*a_1) # * kN/m\n",
    "mass, k"
   ]
  },
  {
   "cell_type": "code",
   "execution_count": 17,
   "metadata": {},
   "outputs": [
    {
     "data": {
      "text/plain": [
       "(Matrix([\n",
       " [4.2,   0,   0],\n",
       " [  0, 8.4,   0],\n",
       " [  0,   0, 4.2]]),\n",
       " Matrix([\n",
       " [ 7860.0, -3930.0,       0],\n",
       " [-3930.0,  5240.0, -1310.0],\n",
       " [      0, -1310.0,  1310.0]]))"
      ]
     },
     "execution_count": 17,
     "metadata": {},
     "output_type": "execute_result"
    }
   ],
   "source": [
    "k_1 = 3*k\n",
    "k_2 = 3*k\n",
    "k_3 = k\n",
    "mass_total = Matrix([[mass, 0, 0], [0, 2*mass, 0], [0, 0, mass]])\n",
    "k_total = Matrix([[k_1+k_2, -k_2, 0], [-k_2, k_2+k_3, -k_3], [0, -k_3, k_3]])\n",
    "mass_total, k_total"
   ]
  },
  {
   "cell_type": "code",
   "execution_count": 18,
   "metadata": {},
   "outputs": [],
   "source": [
    "w_n = symbols(\"w_n\")\n",
    "result_1 = det(k_total - mass_total * w_n **2)\n",
    "answers_to_result_1 = solveset(result_1, w_n)"
   ]
  },
  {
   "cell_type": "code",
   "execution_count": 19,
   "metadata": {},
   "outputs": [
    {
     "data": {
      "text/plain": [
       "[10.9615275681574, 22.9311416573301, 46.4881760537757]"
      ]
     },
     "execution_count": 19,
     "metadata": {},
     "output_type": "execute_result"
    }
   ],
   "source": [
    "w = [answers_to_result_1.args[3], answers_to_result_1.args[4], answers_to_result_1.args[5]]\n",
    "w"
   ]
  },
  {
   "cell_type": "code",
   "execution_count": 20,
   "metadata": {},
   "outputs": [
    {
     "data": {
      "text/latex": [
       "$\\displaystyle \\left[\\begin{matrix}0.328474696170712 & -0.476963161747095 & 19.1484884655764\\\\0.614769951270695 & -0.68589044456173 & -5.92887950670896\\\\1 & 1 & 1\\end{matrix}\\right]$"
      ],
      "text/plain": [
       "Matrix([\n",
       "[0.328474696170712, -0.476963161747095,  19.1484884655764],\n",
       "[0.614769951270695,  -0.68589044456173, -5.92887950670896],\n",
       "[                1,                  1,                 1]])"
      ]
     },
     "execution_count": 20,
     "metadata": {},
     "output_type": "execute_result"
    }
   ],
   "source": [
    "phi_11, phi_21, phi_22, phi_12, phi_13, phi_23 = symbols(\n",
    "    \"phi_11, phi_21, phi_22, phi_12, phi_31, phi_23\"\n",
    ")\n",
    "phi = Matrix([[phi_11, phi_12, phi_13], [phi_21, phi_22, phi_23], [1, 1, 1]])\n",
    "\n",
    "for i in range(3):\n",
    "    f1 = k_total - (w[i] ** 2) * mass_total\n",
    "    f2 = f1 * phi.col(i)\n",
    "    phi_1v = solveset(f2[2], phi.col(i)[1]).args[0]\n",
    "    phi_2v = solveset(f2[0].subs(phi.col(i)[1], phi_1v), phi.col(i)[0]).args[0]\n",
    "    phi = phi.subs(phi.col(i)[1], phi_1v)\n",
    "    phi = phi.subs(phi.col(i)[0], phi_2v)\n",
    "\n",
    "phi"
   ]
  },
  {
   "cell_type": "markdown",
   "metadata": {},
   "source": [
    "## Problem 8"
   ]
  },
  {
   "cell_type": "code",
   "execution_count": 101,
   "metadata": {},
   "outputs": [],
   "source": [
    "p_0, w, w_1, w_2, m, l, E, I, t = symbols(\"p_0, omega, omega_1, omega_2, m, l, E, I, t\")\n",
    "k_1, k_2 = 0.6097*(E*I/l**3), 24*(E*I/l**3)\n",
    "k = Matrix([[k_1+k_2, -k_2], [-k_2, k_2]])\n",
    "m_total = Matrix([[m, 0], [0, 2*m]])\n",
    "phi = Matrix([[0.9833, -2.034], [1, 1]])\n",
    "q = Matrix([(p_0 * sin(w*t))/(2.9669*m*(w_1**2 - w**2)), (p_0 * sin(w*t))/(6.1372*m*(w_2**2 - w**2))])"
   ]
  },
  {
   "cell_type": "code",
   "execution_count": 116,
   "metadata": {},
   "outputs": [
    {
     "data": {
      "text/latex": [
       "$\\displaystyle \\frac{0.16 p_{0} \\sin{\\left(\\omega t \\right)}}{m \\left(- \\omega^{2} + \\omega_{2}^{2}\\right)} + \\frac{0.34 p_{0} \\sin{\\left(\\omega t \\right)}}{m \\left(- \\omega^{2} + \\omega_{1}^{2}\\right)}$"
      ],
      "text/plain": [
       "0.16*p_0*sin(omega*t)/(m*(-omega**2 + omega_2**2)) + 0.34*p_0*sin(omega*t)/(m*(-omega**2 + omega_1**2))"
      ]
     },
     "execution_count": 116,
     "metadata": {},
     "output_type": "execute_result"
    }
   ],
   "source": [
    "u = Matrix([[0], [0]])\n",
    "for i in range(2):\n",
    "    u += phi.col(i) * q[i]\n",
    "\n",
    "u[1].evalf(2)"
   ]
  },
  {
   "cell_type": "code",
   "execution_count": 120,
   "metadata": {},
   "outputs": [
    {
     "data": {
      "text/latex": [
       "$\\displaystyle \\frac{24.0 E I p_{0} \\left(- 0.5 \\omega^{2} + 0.16 \\omega_{1}^{2} + 0.34 \\omega_{2}^{2}\\right) \\sin{\\left(\\omega t \\right)}}{l^{3} m \\left(\\omega^{2} - \\omega_{1}^{2}\\right) \\left(\\omega^{2} - \\omega_{2}^{2}\\right)}$"
      ],
      "text/plain": [
       "24.0*E*I*p_0*(-0.5*omega**2 + 0.16*omega_1**2 + 0.34*omega_2**2)*sin(omega*t)/(l**3*m*(omega**2 - omega_1**2)*(omega**2 - omega_2**2))"
      ]
     },
     "execution_count": 120,
     "metadata": {},
     "output_type": "execute_result"
    }
   ],
   "source": [
    "(k_2 * u[1]).simplify().evalf(2)\n"
   ]
  },
  {
   "cell_type": "code",
   "execution_count": 128,
   "metadata": {},
   "outputs": [
    {
     "data": {
      "text/latex": [
       "$\\displaystyle \\frac{0.67 \\omega_{1}^{2} p_{0} \\sin{\\left(\\omega t \\right)}}{- \\omega^{2} + \\omega_{1}^{2}} + \\frac{0.33 \\omega_{2}^{2} p_{0} \\sin{\\left(\\omega t \\right)}}{- \\omega^{2} + \\omega_{2}^{2}}$"
      ],
      "text/plain": [
       "0.67*omega_1**2*p_0*sin(omega*t)/(-omega**2 + omega_1**2) + 0.33*omega_2**2*p_0*sin(omega*t)/(-omega**2 + omega_2**2)"
      ]
     },
     "execution_count": 128,
     "metadata": {},
     "output_type": "execute_result"
    }
   ],
   "source": [
    "f = Matrix([[0], [0]])\n",
    "w_s = Matrix([[w_1], [w_2]])\n",
    "for i in range(2):\n",
    "    f += (w_s[i]**2) * m_total * phi.col(i) * q[i]\n",
    "\n",
    "f.evalf(2)[1]"
   ]
  },
  {
   "cell_type": "code",
   "execution_count": 136,
   "metadata": {},
   "outputs": [
    {
     "data": {
      "text/latex": [
       "$\\displaystyle p_{0} \\cdot \\left(\\frac{0.67 \\omega_{1}^{2}}{- \\omega^{2} + \\omega_{1}^{2}} + \\frac{0.33 \\omega_{2}^{2}}{- \\omega^{2} + \\omega_{2}^{2}}\\right) \\sin{\\left(\\omega t \\right)}$"
      ],
      "text/plain": [
       "p_0*(0.67*omega_1**2/(-omega**2 + omega_1**2) + 0.33*omega_2**2/(-omega**2 + omega_2**2))*sin(omega*t)"
      ]
     },
     "execution_count": 136,
     "metadata": {},
     "output_type": "execute_result"
    }
   ],
   "source": [
    "(f[1]).collect(sin(w*t)).collect(p_0).evalf(2)"
   ]
  }
 ],
 "metadata": {
  "kernelspec": {
   "display_name": "Python 3",
   "language": "python",
   "name": "python3"
  },
  "language_info": {
   "codemirror_mode": {
    "name": "ipython",
    "version": 3
   },
   "file_extension": ".py",
   "mimetype": "text/x-python",
   "name": "python",
   "nbconvert_exporter": "python",
   "pygments_lexer": "ipython3",
   "version": "3.12.1"
  }
 },
 "nbformat": 4,
 "nbformat_minor": 2
}
