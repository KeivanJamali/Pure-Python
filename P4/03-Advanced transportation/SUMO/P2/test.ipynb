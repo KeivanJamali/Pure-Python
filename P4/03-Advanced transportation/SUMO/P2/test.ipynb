{
 "cells": [
  {
   "cell_type": "code",
   "execution_count": 1,
   "metadata": {},
   "outputs": [],
   "source": [
    "import xml.etree.ElementTree as ET"
   ]
  },
  {
   "cell_type": "code",
   "execution_count": 5,
   "metadata": {},
   "outputs": [],
   "source": [
    "path = r\"D:\\All Python\\Pure-Python\\P4\\03-Advanced transportation\\SUMO\\P1\\hello2.rou.xml\"\n",
    "tree = ET.parse(path)\n",
    "root = tree.getroot()"
   ]
  },
  {
   "cell_type": "code",
   "execution_count": 6,
   "metadata": {},
   "outputs": [
    {
     "data": {
      "text/plain": [
       "<Element 'routes' at 0x00000218E4C67740>"
      ]
     },
     "execution_count": 6,
     "metadata": {},
     "output_type": "execute_result"
    }
   ],
   "source": [
    "root"
   ]
  },
  {
   "cell_type": "code",
   "execution_count": 10,
   "metadata": {},
   "outputs": [
    {
     "name": "stdout",
     "output_type": "stream",
     "text": [
      "<Element 'vehicle' at 0x00000218E4C66AC0>\n",
      "car0\n",
      "<Element 'vehicle' at 0x00000218E4C66CA0>\n",
      "bus0\n"
     ]
    }
   ],
   "source": [
    "for trip in root.findall(\"vehicle\"):\n",
    "    print(trip)\n",
    "    print(trip.attrib[\"id\"])"
   ]
  },
  {
   "cell_type": "code",
   "execution_count": 12,
   "metadata": {},
   "outputs": [],
   "source": [
    "root = ET.Element(\"configuration\")\n",
    "input_ = ET.SubElement(root, \"input\")\n",
    "net_file = ET.SubElement(input_, \"net-file\")\n",
    "net_file.set(\"value\", \"example.net.xml\")\n",
    "\n",
    "tree = ET.ElementTree(root)\n",
    "ET.indent(tree.getroot())\n",
    "tree.write(\"example.sumocfg\")"
   ]
  },
  {
   "cell_type": "code",
   "execution_count": 13,
   "metadata": {},
   "outputs": [
    {
     "data": {
      "text/plain": [
       "(21, 'SUMO 1.21.0')"
      ]
     },
     "execution_count": 13,
     "metadata": {},
     "output_type": "execute_result"
    }
   ],
   "source": [
    "import traci\n",
    "config_path = r\"D:\\All Python\\Pure-Python\\P4\\03-Advanced transportation\\SUMO\\P1\\hello2.sumocfg\"\n",
    "traci.start([\"sumo-gui\", \"-c\", config_path, \"--start\"])"
   ]
  },
  {
   "cell_type": "code",
   "execution_count": 15,
   "metadata": {},
   "outputs": [],
   "source": [
    "while traci.simulation.getMinExpectedNumber() > 0:\n",
    "    traci.simulationStep()"
   ]
  },
  {
   "cell_type": "code",
   "execution_count": 16,
   "metadata": {},
   "outputs": [],
   "source": [
    "traci.close()"
   ]
  },
  {
   "cell_type": "code",
   "execution_count": null,
   "metadata": {},
   "outputs": [],
   "source": [
    "while traci.simulation.getMinExpectedNumber()>0:\n",
    "    traci.simulationStep()\n",
    "    detected_vehicle = traci.inductionloop.getLastStepVehicleIDs(\"det_0\")\n",
    "\n",
    "    for vehicle_id in detected_vehicle:\n",
    "        traci.vehicle.changeLane(vehicle_id, \"1\", 0) # lane besides = 1"
   ]
  },
  {
   "cell_type": "code",
   "execution_count": null,
   "metadata": {},
   "outputs": [],
   "source": [
    "traci.vehicle.setType(vehicle_id, \"new_type\")"
   ]
  },
  {
   "cell_type": "code",
   "execution_count": null,
   "metadata": {},
   "outputs": [],
   "source": [
    "# flow in some link. calculate total tavel time\n",
    "# tripinfo, edgedata"
   ]
  }
 ],
 "metadata": {
  "kernelspec": {
   "display_name": "Python 3",
   "language": "python",
   "name": "python3"
  },
  "language_info": {
   "codemirror_mode": {
    "name": "ipython",
    "version": 3
   },
   "file_extension": ".py",
   "mimetype": "text/x-python",
   "name": "python",
   "nbconvert_exporter": "python",
   "pygments_lexer": "ipython3",
   "version": "3.12.2"
  }
 },
 "nbformat": 4,
 "nbformat_minor": 2
}
