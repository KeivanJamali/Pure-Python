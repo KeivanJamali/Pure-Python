{
 "cells": [
  {
   "cell_type": "code",
   "execution_count": 3,
   "id": "b87b3a14",
   "metadata": {},
   "outputs": [],
   "source": [
    "proxy = \"http://127.0.0.1:10808\""
   ]
  },
  {
   "cell_type": "code",
   "execution_count": 2,
   "id": "8a97df70",
   "metadata": {},
   "outputs": [
    {
     "name": "stdout",
     "output_type": "stream",
     "text": [
      "<think>\n",
      "Okay, let me think through how to approach this request effectively.\n",
      "\n",
      "The user has provided detailed information about Elon Musk and wants a concise response with three specific components: a short summary covering his key roles and achievements, plus two interesting facts. This seems like they need something quick but informative - probably for sharing or reference purposes rather than deep analysis.\n",
      "\n",
      "Considering the content, I should focus on:\n",
      "- His major business ventures (Tesla, SpaceX, PayPal)\n",
      "- Space exploration contributions\n",
      "- Current leadership role at X (Twitter)\n",
      "\n",
      "For the interesting facts, there are several notable ones that stand out from his career trajectory:\n",
      "1. The unusual early family background - born to a tech entrepreneur but became wealthy independently later.\n",
      "2. His rapid citizenship acquisition after moving from Canada.\n",
      "\n",
      "I need to ensure these two facts aren't just random but actually highlight important aspects of his life and career. This will help create an engaging response that goes beyond surface-level information.\n",
      "\n",
      "The user might be preparing for a discussion or presentation, so the summary should emphasize his leadership across multiple industries while being brief enough for quick reading. The facts can include surprising details like his South African origins and how he gained citizenship through marriage to enhance engagement.\n",
      "</think>\n",
      "Here's a breakdown based on the provided text:\n",
      "\n",
      "1.  **Short Summary:**\n",
      "    Elon Musk is a highly successful businessman renowned for leading innovative companies across multiple industries. Born in South Africa, he immigrated to Canada then moved to California where he founded several firms, including PayPal (through co-founding X.com), SpaceX (revolutionizing space travel and rocket reusability), Tesla (a pioneer in electric vehicles), Neuralink, and the Boring Company. He acquired Twitter/X in 2022 and is currently its owner/leader.\n",
      "\n",
      "2.  **Two Interesting Facts:**\n",
      "\n",
      "    *   Despite being born to a family with connections to technology (his father was a Canadian engineer who co-founded Passepartout communications), Musk himself became one of the world's wealthiest individuals, achieving this status significantly before he even became an American citizen.\n",
      "    *   He married Talulah Riley in April 2023, just months after acquiring Twitter (renamed X), and she subsequently helped him obtain his US citizenship shortly thereafter.\n"
     ]
    }
   ],
   "source": [
    "from langchain_core.prompts import PromptTemplate\n",
    "from langchain_openai import ChatOpenAI\n",
    "from langchain_ollama import ChatOllama\n",
    "from langchain_core.output_parsers import StrOutputParser\n",
    "from dotenv import load_dotenv\n",
    "\n",
    "load_dotenv()\n",
    "\n",
    "information = \"\"\"\n",
    "Elon Reeve Musk FRS (/ˈiːlɒn/ EE-lon; born June 28, 1971) is a businessman. He is known for his leadership of Tesla, SpaceX, X (formerly Twitter), and the Department of Government Efficiency (DOGE). Musk has been considered the wealthiest person in the world since 2021; as of May 2025, Forbes estimates his net worth to be US$424.7 billion.\n",
    "\n",
    "Born to a wealthy family in Pretoria, South Africa, Musk emigrated in 1989 to Canada. He received bachelor's degrees from the University of Pennsylvania in 1997 before moving to California, United States, to pursue business ventures. In 1995, Musk co-founded the software company Zip2. Following its sale in 1999, he co-founded X.com, an online payment company that later merged to form PayPal, which was acquired by eBay in 2002. That year, Musk also became an American citizen.\n",
    "\n",
    "In 2002, Musk founded the space technology company SpaceX, becoming its CEO and chief engineer; the company has since led innovations in reusable rockets and commercial spaceflight. Musk joined the automaker Tesla as an early investor in 2004 and became its CEO and product architect in 2008; it has since become a leader in electric vehicles. In 2015, he co-founded OpenAI to advance artificial intelligence (AI) research but later left; growing discontent with the organization's direction and their leadership in the AI boom in the 2020s led him to establish xAI. In 2022, he acquired the social network Twitter, implementing significant changes and rebranding it as X in 2023. His other businesses include the neurotechnology company Neuralink, which he co-founded in 2016, and the tunneling company the Boring Company, which he founded in 2017.\n",
    "\"\"\"\n",
    "\n",
    "summary_template = \"\"\"\n",
    "given the information {information} about a person, I want you to create:\n",
    "1. a short summary\n",
    "2. two interesting facts about them\n",
    "\"\"\"\n",
    "\n",
    "summary_prompt_template = PromptTemplate(input_variables=[\"information\"], template=summary_template)\n",
    "\n",
    "# llm = ChatOpenAI(temperature=0.1, model=\"gpt-4.1-nano\", openai_proxy=proxy)\n",
    "llm = ChatOllama(model=\"deepseek-r1\")\n",
    "\n",
    "chain = summary_prompt_template | llm | StrOutputParser()\n",
    "\n",
    "res = chain.invoke(input={\"information\": information})\n",
    "\n",
    "print(res)"
   ]
  },
  {
   "cell_type": "code",
   "execution_count": 4,
   "id": "d86fddd2",
   "metadata": {},
   "outputs": [
    {
     "name": "stdout",
     "output_type": "stream",
     "text": [
      "<think>\n",
      "Okay, let me think through how to approach this request effectively.\n",
      "\n",
      "The user has provided detailed information about Elon Musk and wants a concise response with three specific components: a short summary covering his key roles and achievements, plus two interesting facts. This seems like they need something quick but informative - probably for sharing or reference purposes rather than deep analysis.\n",
      "\n",
      "Considering the content, I should focus on:\n",
      "- His major business ventures (Tesla, SpaceX, PayPal)\n",
      "- Space exploration contributions\n",
      "- Current leadership role at X (Twitter)\n",
      "\n",
      "For the interesting facts, there are several notable ones that stand out from his career trajectory:\n",
      "1. The unusual early family background - born to a tech entrepreneur but became wealthy independently later.\n",
      "2. His rapid citizenship acquisition after moving from Canada.\n",
      "\n",
      "I need to ensure these two facts aren't just random but actually highlight important aspects of his life and career. This will help create an engaging response that goes beyond surface-level information.\n",
      "\n",
      "The user might be preparing for a discussion or presentation, so the summary should emphasize his leadership across multiple industries while being brief enough for quick reading. The facts can include surprising details like his South African origins and how he gained citizenship through marriage to enhance engagement.\n",
      "</think>\n",
      "Here's a breakdown based on the provided text:\n",
      "\n",
      "1.  **Short Summary:**\n",
      "    Elon Musk is a highly successful businessman renowned for leading innovative companies across multiple industries. Born in South Africa, he immigrated to Canada then moved to California where he founded several firms, including PayPal (through co-founding X.com), SpaceX (revolutionizing space travel and rocket reusability), Tesla (a pioneer in electric vehicles), Neuralink, and the Boring Company. He acquired Twitter/X in 2022 and is currently its owner/leader.\n",
      "\n",
      "2.  **Two Interesting Facts:**\n",
      "\n",
      "    *   Despite being born to a family with connections to technology (his father was a Canadian engineer who co-founded Passepartout communications), Musk himself became one of the world's wealthiest individuals, achieving this status significantly before he even became an American citizen.\n",
      "    *   He married Talulah Riley in April 2023, just months after acquiring Twitter (renamed X), and she subsequently helped him obtain his US citizenship shortly thereafter.\n"
     ]
    }
   ],
   "source": [
    "print(res)"
   ]
  },
  {
   "cell_type": "code",
   "execution_count": null,
   "id": "98b418e0",
   "metadata": {},
   "outputs": [],
   "source": [
    "\n"
   ]
  }
 ],
 "metadata": {
  "kernelspec": {
   "display_name": "Python 3",
   "language": "python",
   "name": "python3"
  },
  "language_info": {
   "codemirror_mode": {
    "name": "ipython",
    "version": 3
   },
   "file_extension": ".py",
   "mimetype": "text/x-python",
   "name": "python",
   "nbconvert_exporter": "python",
   "pygments_lexer": "ipython3",
   "version": "3.13.5"
  }
 },
 "nbformat": 4,
 "nbformat_minor": 5
}
