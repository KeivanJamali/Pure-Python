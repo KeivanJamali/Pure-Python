{
 "cells": [
  {
   "cell_type": "code",
   "execution_count": 1,
   "metadata": {},
   "outputs": [],
   "source": [
    "from Eco_toolkit import Primary_Eco\n",
    "import pandas as pd\n",
    "import numpy as np\n"
   ]
  },
  {
   "cell_type": "code",
   "execution_count": 2,
   "metadata": {},
   "outputs": [],
   "source": [
    "ec = Primary_Eco(decimal_digits=4)\n"
   ]
  },
  {
   "cell_type": "code",
   "execution_count": 43,
   "metadata": {},
   "outputs": [],
   "source": [
    "i_list = [0.25, 0.5, 0.75, 1, 2, 3, 4, 5, 6, 7, 8, 9, 10, 12, 15, 18, 20, 25, 30, 35]\n",
    "n_list = list(range(1, 26))\n",
    "F_P = []\n",
    "P_F = []\n",
    "F_A = []\n",
    "P_A = []\n",
    "A_F = []\n",
    "A_P = []\n",
    "for i in i_list:\n",
    "    i /= 100\n",
    "    F_P.append([])\n",
    "    P_F.append([])\n",
    "    F_A.append([])\n",
    "    P_A.append([])\n",
    "    A_F.append([])\n",
    "    A_P.append([])\n",
    "    for n in n_list:\n",
    "        F_P[-1].append(f\"{ec.p_to_f(i, n):.4f}\")\n",
    "        P_F[-1].append(f\"{ec.f_to_p(i, n):.4f}\")\n",
    "        F_A[-1].append(f\"{ec.a_to_f(i, n):.4f}\")\n",
    "        P_A[-1].append(f\"{ec.a_to_p(i, n):.4f}\")\n",
    "        A_F[-1].append(f\"{ec.f_to_a(i, n):.4f}\")\n",
    "        A_P[-1].append(f\"{ec.p_to_a(i, n):.4f}\")"
   ]
  },
  {
   "cell_type": "code",
   "execution_count": 44,
   "metadata": {},
   "outputs": [],
   "source": [
    "for i in range(len(i_list)):\n",
    "    data = pd.DataFrame({\"F/P\":F_P[i],\n",
    "                         \"P/F\":P_F[i],\n",
    "                         \"F/A\":F_A[i],\n",
    "                         \"A/F\":A_F[i],\n",
    "                         \"P/A\":P_A[i],\n",
    "                         \"A/P\":A_P[i],\n",
    "                         \"N\":n_list},\n",
    "                         index=n_list)\n",
    "    data.to_csv(f\"doc/eco_{int(i_list[i]*100)}.csv\")"
   ]
  },
  {
   "cell_type": "code",
   "execution_count": 45,
   "metadata": {},
   "outputs": [
    {
     "name": "stderr",
     "output_type": "stream",
     "text": [
      "C:\\Users\\keipj\\AppData\\Local\\Temp\\ipykernel_11096\\920696890.py:26: FutureWarning: DataFrame.applymap has been deprecated. Use DataFrame.map instead.\n",
      "  formatted_data[middle_columns] = formatted_data[middle_columns].applymap(\n",
      "C:\\Users\\keipj\\AppData\\Local\\Temp\\ipykernel_11096\\920696890.py:26: FutureWarning: DataFrame.applymap has been deprecated. Use DataFrame.map instead.\n",
      "  formatted_data[middle_columns] = formatted_data[middle_columns].applymap(\n",
      "C:\\Users\\keipj\\AppData\\Local\\Temp\\ipykernel_11096\\920696890.py:26: FutureWarning: DataFrame.applymap has been deprecated. Use DataFrame.map instead.\n",
      "  formatted_data[middle_columns] = formatted_data[middle_columns].applymap(\n",
      "C:\\Users\\keipj\\AppData\\Local\\Temp\\ipykernel_11096\\920696890.py:26: FutureWarning: DataFrame.applymap has been deprecated. Use DataFrame.map instead.\n",
      "  formatted_data[middle_columns] = formatted_data[middle_columns].applymap(\n",
      "C:\\Users\\keipj\\AppData\\Local\\Temp\\ipykernel_11096\\920696890.py:26: FutureWarning: DataFrame.applymap has been deprecated. Use DataFrame.map instead.\n",
      "  formatted_data[middle_columns] = formatted_data[middle_columns].applymap(\n",
      "C:\\Users\\keipj\\AppData\\Local\\Temp\\ipykernel_11096\\920696890.py:26: FutureWarning: DataFrame.applymap has been deprecated. Use DataFrame.map instead.\n",
      "  formatted_data[middle_columns] = formatted_data[middle_columns].applymap(\n",
      "C:\\Users\\keipj\\AppData\\Local\\Temp\\ipykernel_11096\\920696890.py:26: FutureWarning: DataFrame.applymap has been deprecated. Use DataFrame.map instead.\n",
      "  formatted_data[middle_columns] = formatted_data[middle_columns].applymap(\n",
      "C:\\Users\\keipj\\AppData\\Local\\Temp\\ipykernel_11096\\920696890.py:26: FutureWarning: DataFrame.applymap has been deprecated. Use DataFrame.map instead.\n",
      "  formatted_data[middle_columns] = formatted_data[middle_columns].applymap(\n",
      "C:\\Users\\keipj\\AppData\\Local\\Temp\\ipykernel_11096\\920696890.py:26: FutureWarning: DataFrame.applymap has been deprecated. Use DataFrame.map instead.\n",
      "  formatted_data[middle_columns] = formatted_data[middle_columns].applymap(\n",
      "C:\\Users\\keipj\\AppData\\Local\\Temp\\ipykernel_11096\\920696890.py:26: FutureWarning: DataFrame.applymap has been deprecated. Use DataFrame.map instead.\n",
      "  formatted_data[middle_columns] = formatted_data[middle_columns].applymap(\n",
      "C:\\Users\\keipj\\AppData\\Local\\Temp\\ipykernel_11096\\920696890.py:26: FutureWarning: DataFrame.applymap has been deprecated. Use DataFrame.map instead.\n",
      "  formatted_data[middle_columns] = formatted_data[middle_columns].applymap(\n",
      "C:\\Users\\keipj\\AppData\\Local\\Temp\\ipykernel_11096\\920696890.py:26: FutureWarning: DataFrame.applymap has been deprecated. Use DataFrame.map instead.\n",
      "  formatted_data[middle_columns] = formatted_data[middle_columns].applymap(\n",
      "C:\\Users\\keipj\\AppData\\Local\\Temp\\ipykernel_11096\\920696890.py:26: FutureWarning: DataFrame.applymap has been deprecated. Use DataFrame.map instead.\n",
      "  formatted_data[middle_columns] = formatted_data[middle_columns].applymap(\n",
      "C:\\Users\\keipj\\AppData\\Local\\Temp\\ipykernel_11096\\920696890.py:26: FutureWarning: DataFrame.applymap has been deprecated. Use DataFrame.map instead.\n",
      "  formatted_data[middle_columns] = formatted_data[middle_columns].applymap(\n",
      "C:\\Users\\keipj\\AppData\\Local\\Temp\\ipykernel_11096\\920696890.py:26: FutureWarning: DataFrame.applymap has been deprecated. Use DataFrame.map instead.\n",
      "  formatted_data[middle_columns] = formatted_data[middle_columns].applymap(\n"
     ]
    },
    {
     "name": "stdout",
     "output_type": "stream",
     "text": [
      "PDF with all dataframes has been created.\n"
     ]
    },
    {
     "name": "stderr",
     "output_type": "stream",
     "text": [
      "C:\\Users\\keipj\\AppData\\Local\\Temp\\ipykernel_11096\\920696890.py:26: FutureWarning: DataFrame.applymap has been deprecated. Use DataFrame.map instead.\n",
      "  formatted_data[middle_columns] = formatted_data[middle_columns].applymap(\n",
      "C:\\Users\\keipj\\AppData\\Local\\Temp\\ipykernel_11096\\920696890.py:26: FutureWarning: DataFrame.applymap has been deprecated. Use DataFrame.map instead.\n",
      "  formatted_data[middle_columns] = formatted_data[middle_columns].applymap(\n",
      "C:\\Users\\keipj\\AppData\\Local\\Temp\\ipykernel_11096\\920696890.py:26: FutureWarning: DataFrame.applymap has been deprecated. Use DataFrame.map instead.\n",
      "  formatted_data[middle_columns] = formatted_data[middle_columns].applymap(\n",
      "C:\\Users\\keipj\\AppData\\Local\\Temp\\ipykernel_11096\\920696890.py:26: FutureWarning: DataFrame.applymap has been deprecated. Use DataFrame.map instead.\n",
      "  formatted_data[middle_columns] = formatted_data[middle_columns].applymap(\n",
      "C:\\Users\\keipj\\AppData\\Local\\Temp\\ipykernel_11096\\920696890.py:26: FutureWarning: DataFrame.applymap has been deprecated. Use DataFrame.map instead.\n",
      "  formatted_data[middle_columns] = formatted_data[middle_columns].applymap(\n"
     ]
    }
   ],
   "source": [
    "from reportlab.lib.pagesizes import A4\n",
    "from reportlab.pdfgen import canvas\n",
    "from reportlab.platypus import Table, TableStyle\n",
    "from reportlab.lib import colors\n",
    "import pandas as pd\n",
    "\n",
    "i_list = [0.25, 0.5, 0.75, 1, 2, 3, 4, 5, 6, 7, 8, 9, 10, 12, 15, 18, 20, 25, 30, 35]\n",
    "\n",
    "# Create a new PDF\n",
    "pdf_filename = \"dataframes_output.pdf\"\n",
    "c = canvas.Canvas(pdf_filename, pagesize=A4)\n",
    "\n",
    "# A4 dimensions\n",
    "page_width, page_height = A4\n",
    "\n",
    "for i in i_list:\n",
    "    i_int = int(i * 100)\n",
    "    file_path = f\"doc/eco_{i_int}.csv\"\n",
    "    df = pd.read_csv(file_path)\n",
    "\n",
    "    # Add the `i` value to the top-left corner of the table\n",
    "    data = [df.columns.tolist()]\n",
    "    data[0][0] = f\"i = {i}\"  # Replace the first column header with `i` value\n",
    "    formatted_data = df.copy()\n",
    "    middle_columns = formatted_data.columns[1:-1]  # Exclude first and last columns\n",
    "    formatted_data[middle_columns] = formatted_data[middle_columns].applymap(\n",
    "        lambda x: f\"{float(x):.4f}\" if isinstance(x, (int, float)) else x\n",
    "    )\n",
    "    data += formatted_data.values.tolist()\n",
    "\n",
    "    # Create the table\n",
    "    table = Table(data)\n",
    "    table.setStyle(TableStyle([\n",
    "        ('BACKGROUND', (0, 0), (-1, 0), colors.whitesmoke),\n",
    "        ('TEXTCOLOR', (0, 0), (-1, 0), colors.black),\n",
    "        ('ALIGN', (0, 0), (-1, -1), 'CENTER'),\n",
    "        ('FONTNAME', (0, 0), (-1, 0), 'Helvetica-Bold'),\n",
    "        ('BOTTOMPADDING', (0, 0), (-1, 0), 12),\n",
    "        ('GRID', (0, 0), (-1, -1), 1, colors.gray),\n",
    "    ]))\n",
    "\n",
    "    # Dynamically calculate table placement to fit within A4\n",
    "    table_width, table_height = table.wrap(0, 0)\n",
    "    x_margin = (page_width - table_width) / 2\n",
    "    y_margin = (page_height - table_height) / 2\n",
    "\n",
    "    # Draw the table\n",
    "    table.wrapOn(c, x_margin, y_margin)\n",
    "    table.drawOn(c, x_margin, y_margin)\n",
    "\n",
    "    # Add a new page for the next dataframe\n",
    "    c.showPage()\n",
    "\n",
    "# Save the PDF\n",
    "c.save()\n",
    "print(\"PDF with all dataframes has been created.\")\n"
   ]
  },
  {
   "cell_type": "code",
   "execution_count": null,
   "metadata": {},
   "outputs": [],
   "source": []
  }
 ],
 "metadata": {
  "kernelspec": {
   "display_name": "Python 3",
   "language": "python",
   "name": "python3"
  },
  "language_info": {
   "codemirror_mode": {
    "name": "ipython",
    "version": 3
   },
   "file_extension": ".py",
   "mimetype": "text/x-python",
   "name": "python",
   "nbconvert_exporter": "python",
   "pygments_lexer": "ipython3",
   "version": "3.12.1"
  }
 },
 "nbformat": 4,
 "nbformat_minor": 2
}
