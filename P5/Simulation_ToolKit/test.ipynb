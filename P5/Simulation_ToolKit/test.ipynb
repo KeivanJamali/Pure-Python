{
 "cells": [
  {
   "cell_type": "code",
   "execution_count": 21,
   "id": "73cf4f26",
   "metadata": {},
   "outputs": [
    {
     "name": "stdout",
     "output_type": "stream",
     "text": [
      "The autoreload extension is already loaded. To reload it, use:\n",
      "  %reload_ext autoreload\n"
     ]
    }
   ],
   "source": [
    "%load_ext autoreload\n",
    "%autoreload 2"
   ]
  },
  {
   "cell_type": "code",
   "execution_count": 84,
   "id": "9a6d1db9",
   "metadata": {},
   "outputs": [],
   "source": [
    "from Validation import Validation_Tools"
   ]
  },
  {
   "cell_type": "code",
   "execution_count": null,
   "id": "453848cb",
   "metadata": {},
   "outputs": [],
   "source": [
    "data1 = [126.97, 124.31, 126.68, 122.66, 127.23]\n",
    "data2 = [118.21, 120.22, 122.45, 122.68, 119.40]\n",
    "data3 = [120.77, 129.32, 120.61, 123.65, 127.34]\n",
    "data4 = [131.64, 137.07, 129.91, 129.97, 131.08]\n",
    "data5 = [141.09, 143.86, 144.30, 141.72, 142.61]"
   ]
  },
  {
   "cell_type": "code",
   "execution_count": 143,
   "id": "19647ce3",
   "metadata": {},
   "outputs": [
    {
     "name": "stdout",
     "output_type": "stream",
     "text": [
      "[INFO] 'data1' data added to the storage with Mean:125.57000000000001 and Variance:4.0008500000000105.\n",
      "[INFO] 'data2' data added to the storage with Mean:120.59200000000001 and Variance:3.7612700000000143.\n",
      "[INFO] 'data3' data added to the storage with Mean:124.33800000000001 and Variance:15.233569999999993.\n",
      "[INFO] 'data4' data added to the storage with Mean:131.93400000000003 and Variance:8.787029999999985.\n",
      "[INFO] 'data5' data added to the storage with Mean:142.716 and Variance:1.8662300000000138.\n"
     ]
    }
   ],
   "source": [
    "valid1 = Validation_Tools(data_list=[data1, data2, data3, data4, data5],\n",
    "                          name_list=[\"data1\", \"data2\", \"data3\", \"data4\", \"data5\"])\n"
   ]
  },
  {
   "cell_type": "code",
   "execution_count": 144,
   "id": "dde24d82",
   "metadata": {},
   "outputs": [
    {
     "name": "stdout",
     "output_type": "stream",
     "text": [
      "[RESULT] [-1.558357, 11.514357]\n"
     ]
    },
    {
     "data": {
      "text/plain": [
       "{'Y1-Y2': np.float64(4.977999999999994),\n",
       " 'S2_pooled': np.float64(3.756060000000012),\n",
       " 'freedom': 8,\n",
       " 'SE': np.float64(2.3755409256504163),\n",
       " 'half-lenght': np.float64(6.536356910340589),\n",
       " 'confidense_intervals': {'97.500%': [np.float64(-1.5583569103405948),\n",
       "   np.float64(11.514356910340585)]}}"
      ]
     },
     "execution_count": 144,
     "metadata": {},
     "output_type": "execute_result"
    }
   ],
   "source": [
    "valid1.independent_sampling_with_equal_variance(\"data1\", \"data2\", 0.025)"
   ]
  },
  {
   "cell_type": "code",
   "execution_count": 145,
   "id": "74845265",
   "metadata": {},
   "outputs": [
    {
     "name": "stdout",
     "output_type": "stream",
     "text": [
      "[RESULT] [-0.480067, 10.436067]\n"
     ]
    },
    {
     "data": {
      "text/plain": [
       "{'Y1-Y2': np.float64(4.977999999999994),\n",
       " 'D_bar': np.float64(4.978),\n",
       " 'freedom': 4,\n",
       " 'SE': np.float64(1.5614973583070852),\n",
       " 'half-lenght': np.float64(5.458067129836174),\n",
       " 'confidense_intervals': {'97.500%': [np.float64(-0.48006712983617916),\n",
       "   np.float64(10.436067129836168)]}}"
      ]
     },
     "execution_count": 145,
     "metadata": {},
     "output_type": "execute_result"
    }
   ],
   "source": [
    "valid1.common_random_numbers(\"data1\", \"data2\", 0.025)"
   ]
  },
  {
   "cell_type": "code",
   "execution_count": 146,
   "id": "8a97ba43",
   "metadata": {},
   "outputs": [
    {
     "name": "stdout",
     "output_type": "stream",
     "text": [
      "[INFO] We assume 97.50% confidens to each comparison to get the total of 90.00 according to Bon Ferroni inequality.\n"
     ]
    },
    {
     "data": {
      "application/vnd.microsoft.datawrangler.viewer.v0+json": {
       "columns": [
        {
         "name": "index",
         "rawType": "object",
         "type": "string"
        },
        {
         "name": "data1 - Yi",
         "rawType": "float64",
         "type": "float"
        },
        {
         "name": "Interval",
         "rawType": "object",
         "type": "unknown"
        }
       ],
       "conversionMethod": "pd.DataFrame",
       "ref": "8ec5588e-8831-4104-ba5b-0254be684999",
       "rows": [
        [
         "data2",
         "4.978",
         "(1.4379, 8.5181)"
        ],
        [
         "data3",
         "1.232",
         "(-4.9725, 7.4365)"
        ],
        [
         "data4",
         "-6.364",
         "(-10.9078, -1.8202)"
        ],
        [
         "data5",
         "-17.146",
         "(-20.2238, -14.0682)"
        ]
       ],
       "shape": {
        "columns": 2,
        "rows": 4
       }
      },
      "text/html": [
       "<div>\n",
       "<style scoped>\n",
       "    .dataframe tbody tr th:only-of-type {\n",
       "        vertical-align: middle;\n",
       "    }\n",
       "\n",
       "    .dataframe tbody tr th {\n",
       "        vertical-align: top;\n",
       "    }\n",
       "\n",
       "    .dataframe thead th {\n",
       "        text-align: right;\n",
       "    }\n",
       "</style>\n",
       "<table border=\"1\" class=\"dataframe\">\n",
       "  <thead>\n",
       "    <tr style=\"text-align: right;\">\n",
       "      <th></th>\n",
       "      <th>data1 - Yi</th>\n",
       "      <th>Interval</th>\n",
       "    </tr>\n",
       "  </thead>\n",
       "  <tbody>\n",
       "    <tr>\n",
       "      <th>data2</th>\n",
       "      <td>4.978</td>\n",
       "      <td>(1.4379, 8.5181)</td>\n",
       "    </tr>\n",
       "    <tr>\n",
       "      <th>data3</th>\n",
       "      <td>1.232</td>\n",
       "      <td>(-4.9725, 7.4365)</td>\n",
       "    </tr>\n",
       "    <tr>\n",
       "      <th>data4</th>\n",
       "      <td>-6.364</td>\n",
       "      <td>(-10.9078, -1.8202)</td>\n",
       "    </tr>\n",
       "    <tr>\n",
       "      <th>data5</th>\n",
       "      <td>-17.146</td>\n",
       "      <td>(-20.2238, -14.0682)</td>\n",
       "    </tr>\n",
       "  </tbody>\n",
       "</table>\n",
       "</div>"
      ],
      "text/plain": [
       "       data1 - Yi              Interval\n",
       "data2       4.978      (1.4379, 8.5181)\n",
       "data3       1.232     (-4.9725, 7.4365)\n",
       "data4      -6.364   (-10.9078, -1.8202)\n",
       "data5     -17.146  (-20.2238, -14.0682)"
      ]
     },
     "execution_count": 146,
     "metadata": {},
     "output_type": "execute_result"
    }
   ],
   "source": [
    "valid1.multiple_comparison_with_standard(\"data1\", [\"data2\", \"data3\", \"data4\", \"data5\"], alpha=0.1, method=\"IS\")"
   ]
  },
  {
   "cell_type": "code",
   "execution_count": 178,
   "id": "fc2b898a",
   "metadata": {},
   "outputs": [
    {
     "name": "stdout",
     "output_type": "stream",
     "text": [
      "[INFO] We assume 96.67% confidens to each comparison to get the total of 90.00 according to Bon Ferroni inequality.\n",
      "[INFO] There is already exactly a same analysis in the data.\n",
      "[INFO] There is already exactly a same analysis in the data.\n",
      "[INFO] There is already exactly a same analysis in the data.\n",
      "[INFO] There is already exactly a same analysis in the data.\n",
      "[INFO] There is already exactly a same analysis in the data.\n",
      "[INFO] There is already exactly a same analysis in the data.\n"
     ]
    },
    {
     "data": {
      "application/vnd.microsoft.datawrangler.viewer.v0+json": {
       "columns": [
        {
         "name": "index",
         "rawType": "object",
         "type": "string"
        },
        {
         "name": "data1",
         "rawType": "float64",
         "type": "float"
        },
        {
         "name": "data2",
         "rawType": "float64",
         "type": "float"
        },
        {
         "name": "data3",
         "rawType": "float64",
         "type": "float"
        }
       ],
       "conversionMethod": "pd.DataFrame",
       "ref": "0e1342b3-729d-4098-8417-b969929d9f9e",
       "rows": [
        [
         "data1",
         "0.0",
         "4.978",
         "1.232"
        ],
        [
         "data2",
         "-4.978",
         "0.0",
         "-3.746"
        ],
        [
         "data3",
         "-1.232",
         "3.746",
         "0.0"
        ]
       ],
       "shape": {
        "columns": 3,
        "rows": 3
       }
      },
      "text/html": [
       "<div>\n",
       "<style scoped>\n",
       "    .dataframe tbody tr th:only-of-type {\n",
       "        vertical-align: middle;\n",
       "    }\n",
       "\n",
       "    .dataframe tbody tr th {\n",
       "        vertical-align: top;\n",
       "    }\n",
       "\n",
       "    .dataframe thead th {\n",
       "        text-align: right;\n",
       "    }\n",
       "</style>\n",
       "<table border=\"1\" class=\"dataframe\">\n",
       "  <thead>\n",
       "    <tr style=\"text-align: right;\">\n",
       "      <th></th>\n",
       "      <th>data1</th>\n",
       "      <th>data2</th>\n",
       "      <th>data3</th>\n",
       "    </tr>\n",
       "  </thead>\n",
       "  <tbody>\n",
       "    <tr>\n",
       "      <th>data1</th>\n",
       "      <td>0.000</td>\n",
       "      <td>4.978</td>\n",
       "      <td>1.232</td>\n",
       "    </tr>\n",
       "    <tr>\n",
       "      <th>data2</th>\n",
       "      <td>-4.978</td>\n",
       "      <td>0.000</td>\n",
       "      <td>-3.746</td>\n",
       "    </tr>\n",
       "    <tr>\n",
       "      <th>data3</th>\n",
       "      <td>-1.232</td>\n",
       "      <td>3.746</td>\n",
       "      <td>0.000</td>\n",
       "    </tr>\n",
       "  </tbody>\n",
       "</table>\n",
       "</div>"
      ],
      "text/plain": [
       "       data1  data2  data3\n",
       "data1  0.000  4.978  1.232\n",
       "data2 -4.978  0.000 -3.746\n",
       "data3 -1.232  3.746  0.000"
      ]
     },
     "execution_count": 178,
     "metadata": {},
     "output_type": "execute_result"
    }
   ],
   "source": [
    "r1, r2 = valid1.multiple_comparison_All(data_list=[\"data1\", \"data2\", \"data3\"], alpha=0.1, method=\"CRN\")\n",
    "r1"
   ]
  },
  {
   "cell_type": "code",
   "execution_count": 179,
   "id": "e7554087",
   "metadata": {},
   "outputs": [
    {
     "data": {
      "application/vnd.microsoft.datawrangler.viewer.v0+json": {
       "columns": [
        {
         "name": "index",
         "rawType": "object",
         "type": "string"
        },
        {
         "name": "data1",
         "rawType": "object",
         "type": "unknown"
        },
        {
         "name": "data2",
         "rawType": "object",
         "type": "unknown"
        },
        {
         "name": "data3",
         "rawType": "object",
         "type": "unknown"
        }
       ],
       "conversionMethod": "pd.DataFrame",
       "ref": "9c1d629b-c785-4291-a490-69107ffd3f9d",
       "rows": [
        [
         "data1",
         "0",
         "(0.0026, 9.9534)",
         "(-5.668, 8.132)"
        ],
        [
         "data2",
         "(-9.9534, -0.0026)",
         "0",
         "(-10.3752, 2.8832)"
        ],
        [
         "data3",
         "(-8.132, 5.668)",
         "(-2.8832, 10.3752)",
         "0"
        ]
       ],
       "shape": {
        "columns": 3,
        "rows": 3
       }
      },
      "text/html": [
       "<div>\n",
       "<style scoped>\n",
       "    .dataframe tbody tr th:only-of-type {\n",
       "        vertical-align: middle;\n",
       "    }\n",
       "\n",
       "    .dataframe tbody tr th {\n",
       "        vertical-align: top;\n",
       "    }\n",
       "\n",
       "    .dataframe thead th {\n",
       "        text-align: right;\n",
       "    }\n",
       "</style>\n",
       "<table border=\"1\" class=\"dataframe\">\n",
       "  <thead>\n",
       "    <tr style=\"text-align: right;\">\n",
       "      <th></th>\n",
       "      <th>data1</th>\n",
       "      <th>data2</th>\n",
       "      <th>data3</th>\n",
       "    </tr>\n",
       "  </thead>\n",
       "  <tbody>\n",
       "    <tr>\n",
       "      <th>data1</th>\n",
       "      <td>0</td>\n",
       "      <td>(0.0026, 9.9534)</td>\n",
       "      <td>(-5.668, 8.132)</td>\n",
       "    </tr>\n",
       "    <tr>\n",
       "      <th>data2</th>\n",
       "      <td>(-9.9534, -0.0026)</td>\n",
       "      <td>0</td>\n",
       "      <td>(-10.3752, 2.8832)</td>\n",
       "    </tr>\n",
       "    <tr>\n",
       "      <th>data3</th>\n",
       "      <td>(-8.132, 5.668)</td>\n",
       "      <td>(-2.8832, 10.3752)</td>\n",
       "      <td>0</td>\n",
       "    </tr>\n",
       "  </tbody>\n",
       "</table>\n",
       "</div>"
      ],
      "text/plain": [
       "                    data1               data2               data3\n",
       "data1                   0    (0.0026, 9.9534)     (-5.668, 8.132)\n",
       "data2  (-9.9534, -0.0026)                   0  (-10.3752, 2.8832)\n",
       "data3     (-8.132, 5.668)  (-2.8832, 10.3752)                   0"
      ]
     },
     "execution_count": 179,
     "metadata": {},
     "output_type": "execute_result"
    }
   ],
   "source": [
    "r2"
   ]
  },
  {
   "cell_type": "code",
   "execution_count": 173,
   "id": "6956e86e",
   "metadata": {},
   "outputs": [
    {
     "data": {
      "application/vnd.microsoft.datawrangler.viewer.v0+json": {
       "columns": [
        {
         "name": "index",
         "rawType": "object",
         "type": "string"
        },
        {
         "name": "mean(Y_bar)",
         "rawType": "float64",
         "type": "float"
        },
        {
         "name": "Yi - Yi* + e",
         "rawType": "float64",
         "type": "float"
        }
       ],
       "conversionMethod": "pd.DataFrame",
       "ref": "b69f641b-da47-499a-9703-5f57f94dd02c",
       "rows": [
        [
         "data1",
         "125.57",
         "11.978"
        ],
        [
         "data2",
         "120.592",
         "7.0"
        ],
        [
         "data3",
         "124.338",
         "10.746"
        ],
        [
         "data4",
         "131.934",
         "18.342"
        ],
        [
         "data5",
         "142.716",
         "29.124"
        ]
       ],
       "shape": {
        "columns": 2,
        "rows": 5
       }
      },
      "text/html": [
       "<div>\n",
       "<style scoped>\n",
       "    .dataframe tbody tr th:only-of-type {\n",
       "        vertical-align: middle;\n",
       "    }\n",
       "\n",
       "    .dataframe tbody tr th {\n",
       "        vertical-align: top;\n",
       "    }\n",
       "\n",
       "    .dataframe thead th {\n",
       "        text-align: right;\n",
       "    }\n",
       "</style>\n",
       "<table border=\"1\" class=\"dataframe\">\n",
       "  <thead>\n",
       "    <tr style=\"text-align: right;\">\n",
       "      <th></th>\n",
       "      <th>mean(Y_bar)</th>\n",
       "      <th>Yi - Yi* + e</th>\n",
       "    </tr>\n",
       "  </thead>\n",
       "  <tbody>\n",
       "    <tr>\n",
       "      <th>data1</th>\n",
       "      <td>125.570</td>\n",
       "      <td>11.978</td>\n",
       "    </tr>\n",
       "    <tr>\n",
       "      <th>data2</th>\n",
       "      <td>120.592</td>\n",
       "      <td>7.000</td>\n",
       "    </tr>\n",
       "    <tr>\n",
       "      <th>data3</th>\n",
       "      <td>124.338</td>\n",
       "      <td>10.746</td>\n",
       "    </tr>\n",
       "    <tr>\n",
       "      <th>data4</th>\n",
       "      <td>131.934</td>\n",
       "      <td>18.342</td>\n",
       "    </tr>\n",
       "    <tr>\n",
       "      <th>data5</th>\n",
       "      <td>142.716</td>\n",
       "      <td>29.124</td>\n",
       "    </tr>\n",
       "  </tbody>\n",
       "</table>\n",
       "</div>"
      ],
      "text/plain": [
       "       mean(Y_bar)  Yi - Yi* + e\n",
       "data1      125.570        11.978\n",
       "data2      120.592         7.000\n",
       "data3      124.338        10.746\n",
       "data4      131.934        18.342\n",
       "data5      142.716        29.124"
      ]
     },
     "execution_count": 173,
     "metadata": {},
     "output_type": "execute_result"
    }
   ],
   "source": [
    "valid1.multiple_comparison_with_best(data_list=[\"data1\", \"data2\", \"data3\", \"data4\", \"data5\"], alpha=0.1, epsilon=7, more_less=\"less\", step=2)"
   ]
  },
  {
   "cell_type": "code",
   "execution_count": null,
   "id": "ef2e29c8",
   "metadata": {},
   "outputs": [],
   "source": []
  }
 ],
 "metadata": {
  "kernelspec": {
   "display_name": "Python 3",
   "language": "python",
   "name": "python3"
  },
  "language_info": {
   "codemirror_mode": {
    "name": "ipython",
    "version": 3
   },
   "file_extension": ".py",
   "mimetype": "text/x-python",
   "name": "python",
   "nbconvert_exporter": "python",
   "pygments_lexer": "ipython3",
   "version": "3.12.1"
  }
 },
 "nbformat": 4,
 "nbformat_minor": 5
}
