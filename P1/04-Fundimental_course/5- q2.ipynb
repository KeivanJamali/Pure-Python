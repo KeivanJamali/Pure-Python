{
 "cells": [
  {
   "cell_type": "code",
   "execution_count": 17,
   "metadata": {
    "collapsed": true,
    "ExecuteTime": {
     "end_time": "2023-05-16T11:26:49.018161900Z",
     "start_time": "2023-05-16T11:26:48.955943200Z"
    }
   },
   "outputs": [
    {
     "name": "stdout",
     "output_type": "stream",
     "text": [
      "The autoreload extension is already loaded. To reload it, use:\n",
      "  %reload_ext autoreload\n"
     ]
    }
   ],
   "source": [
    "%load_ext autoreload\n",
    "%autoreload 2\n",
    "import toolkitpey5 as tl5"
   ]
  },
  {
   "cell_type": "code",
   "execution_count": 23,
   "outputs": [
    {
     "name": "stdout",
     "output_type": "stream",
     "text": [
      "0.6891971778553297\n"
     ]
    }
   ],
   "source": [
    "qbar = 200\n",
    "E1 = 8000\n",
    "E2 = 10000\n",
    "E3 = 10000\n",
    "E4 = 12000\n",
    "d1 = 1\n",
    "d2 = 0.1665\n",
    "d3 = 1.8335\n",
    "d4 = 1.666\n",
    "q = 1.5 * 18\n",
    "qz1 = 2.5 * 18 + 0.1665 * 20\n",
    "print(tl5.iz_max(qbar, q, qz1))"
   ],
   "metadata": {
    "collapsed": false,
    "ExecuteTime": {
     "end_time": "2023-05-16T11:38:17.095575Z",
     "start_time": "2023-05-16T11:38:17.031845700Z"
    }
   }
  },
  {
   "cell_type": "code",
   "execution_count": 24,
   "outputs": [
    {
     "name": "stdout",
     "output_type": "stream",
     "text": [
      "0.36206234462066 0.64833584462066 0.5086869292183303 0.16405889389177752\n"
     ]
    }
   ],
   "source": [
    "point1 = tl5.Point(0, 0.11665)\n",
    "point2 = tl5.Point(1.1665, 0.689197)\n",
    "point3 = tl5.Point(4.6667, 0)\n",
    "I1 = tl5.point_between(point1, point2, 1/2)\n",
    "I2 = tl5.point_between(point1, point2, 1+0.1665/2)\n",
    "I3 = tl5.point_between(point2, point3, 1.1665+1.8335/2)\n",
    "I4 = tl5.point_between(point2, point3, 3+1.667/2)\n",
    "print(I1,I2,I3,I4)"
   ],
   "metadata": {
    "collapsed": false,
    "ExecuteTime": {
     "end_time": "2023-05-16T11:38:17.494254900Z",
     "start_time": "2023-05-16T11:38:17.430370200Z"
    }
   }
  },
  {
   "cell_type": "code",
   "execution_count": 26,
   "outputs": [
    {
     "name": "stdout",
     "output_type": "stream",
     "text": [
      "4.52577930775825e-05 1.0794791812933988e-05 9.326774847218084e-05 2.2776843101975113e-05\n",
      "0.00017209717646467243\n"
     ]
    }
   ],
   "source": [
    "z1 = I1 * d1 / E1\n",
    "z2 = I2 * d2 / E2\n",
    "z3 = I3 * d3 / E3\n",
    "z4 = I4 * d4 / E4\n",
    "print(z1,z2,z3,z4)\n",
    "print(z1+z2+z3+z4)"
   ],
   "metadata": {
    "collapsed": false,
    "ExecuteTime": {
     "end_time": "2023-05-16T11:39:30.988019200Z",
     "start_time": "2023-05-16T11:39:30.868354Z"
    }
   }
  },
  {
   "cell_type": "code",
   "execution_count": 28,
   "outputs": [
    {
     "name": "stdout",
     "output_type": "stream",
     "text": [
      "0.9219653179190751 1.4\n"
     ]
    }
   ],
   "source": [
    "c1 = tl5.c1_Schmertmann(q, qbar)\n",
    "c2 = tl5.c2_Schmertmann(10)\n",
    "print(c1,c2)"
   ],
   "metadata": {
    "collapsed": false,
    "ExecuteTime": {
     "end_time": "2023-05-16T11:47:18.133802300Z",
     "start_time": "2023-05-16T11:47:18.084453400Z"
    }
   }
  },
  {
   "cell_type": "code",
   "execution_count": 29,
   "outputs": [
    {
     "name": "stdout",
     "output_type": "stream",
     "text": [
      "0.03842929950456135\n"
     ]
    }
   ],
   "source": [
    "sc = c1 * c2 * (qbar-q) * (z1+z2+z3+z4)\n",
    "print(sc)"
   ],
   "metadata": {
    "collapsed": false,
    "ExecuteTime": {
     "end_time": "2023-05-16T11:49:42.286106200Z",
     "start_time": "2023-05-16T11:49:42.203039Z"
    }
   }
  }
 ],
 "metadata": {
  "kernelspec": {
   "display_name": "Python 3",
   "language": "python",
   "name": "python3"
  },
  "language_info": {
   "codemirror_mode": {
    "name": "ipython",
    "version": 2
   },
   "file_extension": ".py",
   "mimetype": "text/x-python",
   "name": "python",
   "nbconvert_exporter": "python",
   "pygments_lexer": "ipython2",
   "version": "2.7.6"
  }
 },
 "nbformat": 4,
 "nbformat_minor": 0
}
