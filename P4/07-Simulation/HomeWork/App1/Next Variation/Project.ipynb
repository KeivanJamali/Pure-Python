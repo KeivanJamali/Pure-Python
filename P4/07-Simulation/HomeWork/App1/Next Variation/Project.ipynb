{
 "cells": [
  {
   "cell_type": "code",
   "execution_count": 1,
   "metadata": {},
   "outputs": [],
   "source": [
    "%load_ext autoreload\n",
    "%autoreload 2"
   ]
  },
  {
   "cell_type": "code",
   "execution_count": 2,
   "metadata": {},
   "outputs": [],
   "source": [
    "seed1 = [2062615503, 1, 2, 3, 4, 5, 6, 7, 8, 9]\n",
    "seed2 = [1383670351, 11111, 22222, 33333, 44444, 55555, 66666, 77777, 88888, 99999]\n",
    "seed1 = [seed1[0]]\n",
    "seed2 = [seed2[0]]"
   ]
  },
  {
   "cell_type": "code",
   "execution_count": 4,
   "metadata": {},
   "outputs": [
    {
     "name": "stdout",
     "output_type": "stream",
     "text": [
      "[INFO] Customer limit reached.\n",
      "\n",
      "--- Simulation Report ---\n",
      "Total customers served: 102\n",
      "Average wait time in queue: 17.37\n",
      "Average wait time in system: 21.87\n",
      "Average number in system: 4.6\n",
      "Simulation ended at time: 480.13 with 100 customer served.\n"
     ]
    }
   ],
   "source": [
    "from modular_SimPy.Engine_SimPy import All_Type_Queue\n",
    "from modular_SimPy.number_generator import Exponential_Generator, Deterministic_Generator, General_Generator\n",
    "from scipy.stats import uniform, expon\n",
    "\n",
    "model1 = All_Type_Queue(arrival_gen=Exponential_Generator(seed=seed1[0], mean=5),\n",
    "                 service_time_gen=Deterministic_Generator(mean=4.5),\n",
    "                 sim_time_limit=float(\"inf\"),\n",
    "                 sim_customer_limit=100)\n",
    "\n",
    "model1.run(policy=\"FCFS\")\n",
    "\n",
    "\n"
   ]
  },
  {
   "cell_type": "code",
   "execution_count": 5,
   "metadata": {},
   "outputs": [
    {
     "name": "stdout",
     "output_type": "stream",
     "text": [
      "[INFO] Customer limit reached.\n",
      "\n",
      "--- Simulation Report ---\n",
      "Total customers served: 100\n",
      "Average wait time in queue: 9.51\n",
      "Average wait time in system: 13.59\n",
      "Average number in system: 3.0\n",
      "Simulation ended at time: 459.00 with 100 customer served.\n"
     ]
    }
   ],
   "source": [
    "model2 = All_Type_Queue(arrival_gen=Exponential_Generator(seed=seed1[0], mean=5),\n",
    "                 service_time_gen=Exponential_Generator(seed=seed2, mean=4),\n",
    "                 sim_time_limit=float(\"inf\"),\n",
    "                 sim_customer_limit=100)\n",
    "\n",
    "model2.run(policy=\"FCFS\")"
   ]
  },
  {
   "cell_type": "code",
   "execution_count": null,
   "metadata": {},
   "outputs": [],
   "source": []
  }
 ],
 "metadata": {
  "kernelspec": {
   "display_name": "Python 3",
   "language": "python",
   "name": "python3"
  },
  "language_info": {
   "codemirror_mode": {
    "name": "ipython",
    "version": 3
   },
   "file_extension": ".py",
   "mimetype": "text/x-python",
   "name": "python",
   "nbconvert_exporter": "python",
   "pygments_lexer": "ipython3",
   "version": "3.11.5"
  }
 },
 "nbformat": 4,
 "nbformat_minor": 2
}
