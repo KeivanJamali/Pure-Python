{
 "cells": [
  {
   "cell_type": "code",
   "execution_count": 1,
   "id": "dd11c0fe",
   "metadata": {},
   "outputs": [],
   "source": [
    "%load_ext autoreload\n",
    "%autoreload 2"
   ]
  },
  {
   "cell_type": "code",
   "execution_count": 2,
   "id": "0a80a1d3",
   "metadata": {},
   "outputs": [],
   "source": [
    "from serach_arxive import SearchArxivOAI"
   ]
  },
  {
   "cell_type": "code",
   "execution_count": null,
   "id": "37388c76",
   "metadata": {},
   "outputs": [
    {
     "name": "stderr",
     "output_type": "stream",
     "text": [
      "Searching for 'Python Ecosystem':  33%|███▎      | 1/3 [00:20<00:41, 20.53s/it]"
     ]
    }
   ],
   "source": [
    "keyword_groups = [\n",
    "    [\"python\", \"numpy\", \"matplotlib\", \"pandas\", \"jupyter\"],\n",
    "    [\"matlab\", \"simulink\"],\n",
    "]\n",
    "group_names = [\"Python Ecosystem\", \"MATLAB\"]\n",
    "\n",
    "searcher = SearchArxivOAI(\n",
    "    start_year=2023,\n",
    "    end_year=2025,\n",
    "    keyword_groups=keyword_groups,\n",
    "    group_names=group_names\n",
    ")\n",
    "\n",
    "data_counts = searcher.fit()"
   ]
  },
  {
   "cell_type": "code",
   "execution_count": null,
   "id": "8d558c4a",
   "metadata": {},
   "outputs": [],
   "source": [
    "keyword_groups = [\n",
    "    [\"python\", \"numpy\", \"matplotlib\", \"pandas\", \"jupyter\"],\n",
    "    [\"matlab\", \"simulink\"],\n",
    "    [\"r language\", \"ggplot2\", \"tidyverse\"],\n",
    "    [\"julia\", \"plutojl\"]\n",
    "]\n",
    "group_names = [\"Python Ecosystem\", \"MATLAB\", \"R Ecosystem\", \"Julia\"]\n",
    "\n",
    "searcher = SearchArxivOAI(\n",
    "    start_year=2001,\n",
    "    end_year=2025,\n",
    "    keyword_groups=keyword_groups,\n",
    "    group_names=group_names\n",
    ")\n",
    "\n",
    "data_counts = searcher.fit()"
   ]
  }
 ],
 "metadata": {
  "kernelspec": {
   "display_name": "advanced-python",
   "language": "python",
   "name": "python3"
  },
  "language_info": {
   "codemirror_mode": {
    "name": "ipython",
    "version": 3
   },
   "file_extension": ".py",
   "mimetype": "text/x-python",
   "name": "python",
   "nbconvert_exporter": "python",
   "pygments_lexer": "ipython3",
   "version": "3.13.5"
  }
 },
 "nbformat": 4,
 "nbformat_minor": 5
}
