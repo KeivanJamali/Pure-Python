{
 "cells": [
  {
   "cell_type": "markdown",
   "metadata": {},
   "source": [
    "## Exams:\n",
    "28 Aban\n",
    "26 Dey"
   ]
  },
  {
   "cell_type": "code",
   "execution_count": 3,
   "metadata": {},
   "outputs": [],
   "source": [
    "import sympy as sp"
   ]
  },
  {
   "cell_type": "markdown",
   "metadata": {},
   "source": [
    "1. variables\n",
    "2. boundries\n",
    "3. objective fundction\n",
    "\n",
    "4. gathering data\n",
    "\n",
    "5. sensivity analysis"
   ]
  },
  {
   "cell_type": "markdown",
   "metadata": {},
   "source": [
    "## EX1:\n",
    "1. workshop1 : iron : 4%\n",
    "2. workshop2 : wood : 12%\n",
    "3. workshop3 : glass : 18%\n",
    "\n",
    "1. want to change the input of the company\n",
    "\n",
    "0. we can make some new products.\n",
    "1. door with aluminum\n",
    "2. window with wood\n",
    "\n",
    "0. both need workshop3\n",
    "0. We want to know the strategy\n",
    "1. product1: 1% from 1 and 3% from 3 with 3$ benefit\n",
    "2. product2: 2% from 2 and 2% from 3 with 5$ benefit"
   ]
  },
  {
   "cell_type": "markdown",
   "metadata": {},
   "source": [
    "X1: the number of product1\n",
    "X2: the number of product2"
   ]
  },
  {
   "cell_type": "code",
   "execution_count": 4,
   "metadata": {},
   "outputs": [],
   "source": [
    "x1, x2, z = sp.symbols(\"x_1, x_2, z\")"
   ]
  },
  {
   "cell_type": "code",
   "execution_count": 5,
   "metadata": {},
   "outputs": [
    {
     "data": {
      "text/latex": [
       "$\\displaystyle z = 3 x_{1} + 5 x_{2}$"
      ],
      "text/plain": [
       "Eq(z, 3*x_1 + 5*x_2)"
      ]
     },
     "execution_count": 5,
     "metadata": {},
     "output_type": "execute_result"
    }
   ],
   "source": [
    "sp.Eq(z, 3*x1 + 5*x2)"
   ]
  },
  {
   "cell_type": "markdown",
   "metadata": {},
   "source": [
    "## EX2:\n",
    "1. van, minib, ab\n",
    "2. boget: 1 million$\n",
    "3. prices: 9500$, 12500$, 45000$\n",
    "4. drivers: 30 persons\n",
    "5. At least we need 10 minib\n",
    "6. At least 2 ab\n",
    "7. Profits: 2500$, 3500$, 10000$\n",
    "\n"
   ]
  },
  {
   "cell_type": "markdown",
   "metadata": {},
   "source": [
    "## EX3:"
   ]
  },
  {
   "cell_type": "code",
   "execution_count": 1,
   "metadata": {},
   "outputs": [],
   "source": [
    "import sympy as sp"
   ]
  },
  {
   "cell_type": "code",
   "execution_count": 2,
   "metadata": {},
   "outputs": [
    {
     "data": {
      "text/latex": [
       "$\\displaystyle \\left[\\begin{matrix}0 & 3 & -1\\\\-1 & 2 & 1\\\\0 & 0 & 1\\end{matrix}\\right]$"
      ],
      "text/plain": [
       "Matrix([\n",
       "[ 0, 3, -1],\n",
       "[-1, 2,  1],\n",
       "[ 0, 0,  1]])"
      ]
     },
     "execution_count": 2,
     "metadata": {},
     "output_type": "execute_result"
    }
   ],
   "source": [
    "mt = sp.Matrix([[0, 3, -1], [-1, 2, 1], [0, 0, 1]])\n",
    "mt"
   ]
  },
  {
   "cell_type": "code",
   "execution_count": 3,
   "metadata": {},
   "outputs": [
    {
     "data": {
      "text/latex": [
       "$\\displaystyle \\left[\\begin{matrix}\\frac{2}{3} & -1 & \\frac{5}{3}\\\\\\frac{1}{3} & 0 & \\frac{1}{3}\\\\0 & 0 & 1\\end{matrix}\\right]$"
      ],
      "text/plain": [
       "Matrix([\n",
       "[2/3, -1, 5/3],\n",
       "[1/3,  0, 1/3],\n",
       "[  0,  0,   1]])"
      ]
     },
     "execution_count": 3,
     "metadata": {},
     "output_type": "execute_result"
    }
   ],
   "source": [
    "mt**(-1)"
   ]
  },
  {
   "cell_type": "code",
   "execution_count": null,
   "metadata": {},
   "outputs": [],
   "source": []
  }
 ],
 "metadata": {
  "kernelspec": {
   "display_name": "Python 3",
   "language": "python",
   "name": "python3"
  },
  "language_info": {
   "codemirror_mode": {
    "name": "ipython",
    "version": 3
   },
   "file_extension": ".py",
   "mimetype": "text/x-python",
   "name": "python",
   "nbconvert_exporter": "python",
   "pygments_lexer": "ipython3",
   "version": "3.12.1"
  }
 },
 "nbformat": 4,
 "nbformat_minor": 2
}
