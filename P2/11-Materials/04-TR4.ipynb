{
 "cells": [
  {
   "cell_type": "code",
   "execution_count": 199,
   "metadata": {},
   "outputs": [],
   "source": [
    "from sympy import *"
   ]
  },
  {
   "cell_type": "markdown",
   "metadata": {},
   "source": [
    "#### Part a\n"
   ]
  },
  {
   "cell_type": "code",
   "execution_count": 201,
   "metadata": {},
   "outputs": [
    {
     "data": {
      "text/latex": [
       "$\\displaystyle \\lambda^{2} \\frac{d^{2}}{d x^{2}} w{\\left(x \\right)} + \\frac{d^{4}}{d x^{4}} w{\\left(x \\right)} = 0$"
      ],
      "text/plain": [
       "Eq(lambda**2*Derivative(w(x), (x, 2)) + Derivative(w(x), (x, 4)), 0)"
      ]
     },
     "execution_count": 201,
     "metadata": {},
     "output_type": "execute_result"
    }
   ],
   "source": [
    "x, E, Iyy, P, lm, L = symbols(\"x, E, I_yy, P, lambda, L\")\n",
    "# lm = sqrt(P/(E*Iyy))\n",
    "w = Function(\"w\")(x)\n",
    "diffeq = Eq(diff(w, x, x, x, x) + lm**2 * diff(w, x, x), 0)\n",
    "diffeq\n",
    "# w = dsolve(diffeq, w)\n",
    "# w\n"
   ]
  },
  {
   "cell_type": "code",
   "execution_count": 202,
   "metadata": {},
   "outputs": [
    {
     "data": {
      "text/latex": [
       "$\\displaystyle A \\sin{\\left(\\lambda x \\right)} + B \\cos{\\left(\\lambda x \\right)} + C x + D$"
      ],
      "text/plain": [
       "A*sin(lambda*x) + B*cos(lambda*x) + C*x + D"
      ]
     },
     "execution_count": 202,
     "metadata": {},
     "output_type": "execute_result"
    }
   ],
   "source": [
    "A, B, C, D = symbols(\"A, B, C, D\")\n",
    "w = A * sin(lm*x) + B * cos(lm*x) + C*x + D\n",
    "w"
   ]
  },
  {
   "cell_type": "code",
   "execution_count": 203,
   "metadata": {},
   "outputs": [],
   "source": [
    "# A, B, C, D = symbols(\"A, B, C, D\")\n",
    "# w = A + B * x + C * exp(-I * lm * x) + D * exp(I * lm * x)"
   ]
  },
  {
   "cell_type": "code",
   "execution_count": 204,
   "metadata": {},
   "outputs": [
    {
     "data": {
      "text/latex": [
       "$\\displaystyle A \\sin{\\left(\\lambda x \\right)} + B \\cos{\\left(\\lambda x \\right)} + C x + D$"
      ],
      "text/plain": [
       "A*sin(lambda*x) + B*cos(lambda*x) + C*x + D"
      ]
     },
     "execution_count": 204,
     "metadata": {},
     "output_type": "execute_result"
    }
   ],
   "source": [
    "w"
   ]
  },
  {
   "cell_type": "markdown",
   "metadata": {},
   "source": [
    "##### Boundry"
   ]
  },
  {
   "cell_type": "code",
   "execution_count": 207,
   "metadata": {},
   "outputs": [
    {
     "data": {
      "text/latex": [
       "$\\displaystyle A \\lambda + C = 0$"
      ],
      "text/plain": [
       "Eq(A*lambda + C, 0)"
      ]
     },
     "execution_count": 207,
     "metadata": {},
     "output_type": "execute_result"
    }
   ],
   "source": [
    "# boundry 1\n",
    "b1 = Eq(w.subs(x, 0), 0)\n",
    "b1\n",
    "# boundry 2\n",
    "b2 = Eq(diff(w, x).subs(x, 0), 0)\n",
    "b2\n",
    "# boundry 3\n",
    "# b3 = Eq(w.subs(x, L), 0)\n",
    "# b3\n",
    "# boundry 4\n",
    "# b4 = Eq(diff(w, x).subs(x, L), 0)\n",
    "# b4\n"
   ]
  },
  {
   "cell_type": "code",
   "execution_count": 208,
   "metadata": {},
   "outputs": [],
   "source": [
    "D = -B\n",
    "C = -A*lm"
   ]
  },
  {
   "cell_type": "code",
   "execution_count": 210,
   "metadata": {},
   "outputs": [
    {
     "data": {
      "text/latex": [
       "$\\displaystyle A \\lambda \\cos{\\left(L \\lambda \\right)} - A \\lambda - B \\lambda \\sin{\\left(L \\lambda \\right)} = 0$"
      ],
      "text/plain": [
       "Eq(A*lambda*cos(L*lambda) - A*lambda - B*lambda*sin(L*lambda), 0)"
      ]
     },
     "execution_count": 210,
     "metadata": {},
     "output_type": "execute_result"
    }
   ],
   "source": [
    "w = A * sin(lm*x) + B * cos(lm*x) + C*x + D\n",
    "\n",
    "# boundry 1\n",
    "b1 = Eq(w.subs(x, 0), 0)\n",
    "b1\n",
    "# boundry 2\n",
    "b2 = Eq(diff(w, x).subs(x, 0), 0)\n",
    "b2\n",
    "# boundry 3\n",
    "# b3 = Eq(w.subs(x, L), 0)\n",
    "# b3\n",
    "# boundry 4\n",
    "b4 = Eq(diff(w, x).subs(x, L), 0)\n",
    "b4"
   ]
  },
  {
   "cell_type": "code",
   "execution_count": 211,
   "metadata": {},
   "outputs": [
    {
     "data": {
      "text/latex": [
       "$\\displaystyle \\frac{B \\sin{\\left(L \\lambda \\right)}}{\\cos{\\left(L \\lambda \\right)} - 1}$"
      ],
      "text/plain": [
       "B*sin(L*lambda)/(cos(L*lambda) - 1)"
      ]
     },
     "execution_count": 211,
     "metadata": {},
     "output_type": "execute_result"
    }
   ],
   "source": [
    "solution_b4 = solve(b4, A)[0]\n",
    "A = solution_b4\n",
    "D = -B\n",
    "C = -A*lm\n",
    "solution_b4"
   ]
  },
  {
   "cell_type": "code",
   "execution_count": 212,
   "metadata": {},
   "outputs": [
    {
     "data": {
      "text/latex": [
       "$\\displaystyle - \\frac{B L \\lambda \\sin{\\left(L \\lambda \\right)}}{\\cos{\\left(L \\lambda \\right)} - 1} + B \\cos{\\left(L \\lambda \\right)} - B + \\frac{B \\sin^{2}{\\left(L \\lambda \\right)}}{\\cos{\\left(L \\lambda \\right)} - 1} = 0$"
      ],
      "text/plain": [
       "Eq(-B*L*lambda*sin(L*lambda)/(cos(L*lambda) - 1) + B*cos(L*lambda) - B + B*sin(L*lambda)**2/(cos(L*lambda) - 1), 0)"
      ]
     },
     "execution_count": 212,
     "metadata": {},
     "output_type": "execute_result"
    }
   ],
   "source": [
    "w = A * sin(lm*x) + B * cos(lm*x) + C*x + D\n",
    "\n",
    "# boundry 1\n",
    "b1 = Eq(w.subs(x, 0), 0)\n",
    "b1\n",
    "# boundry 2\n",
    "b2 = Eq(diff(w, x).subs(x, 0), 0)\n",
    "b2\n",
    "# boundry 3\n",
    "b3 = Eq(w.subs(x, L), 0)\n",
    "b3\n",
    "# boundry 4\n",
    "# b4 = Eq(diff(w, x).subs(x, L), 0)\n",
    "# b4"
   ]
  },
  {
   "cell_type": "code",
   "execution_count": 214,
   "metadata": {},
   "outputs": [
    {
     "data": {
      "text/latex": [
       "$\\displaystyle 0$"
      ],
      "text/plain": [
       "0"
      ]
     },
     "execution_count": 214,
     "metadata": {},
     "output_type": "execute_result"
    }
   ],
   "source": [
    "solution_b3 = solve(b3, B)[0]\n",
    "solution_b3"
   ]
  },
  {
   "cell_type": "code",
   "execution_count": 216,
   "metadata": {},
   "outputs": [
    {
     "ename": "NotImplementedError",
     "evalue": "multiple generators [lambda, tan(L*lambda/2)]\nNo algorithms are implemented to solve equation -2*L*lambda*tan(L*lambda/2)/(tan(L*lambda/2)**2 + 1) + ((1 - tan(L*lambda/2)**2)/(tan(L*lambda/2)**2 + 1) - 1)**2 + 4*tan(L*lambda/2)**2/(tan(L*lambda/2)**2 + 1)**2",
     "output_type": "error",
     "traceback": [
      "\u001b[1;31m---------------------------------------------------------------------------\u001b[0m",
      "\u001b[1;31mNotImplementedError\u001b[0m                       Traceback (most recent call last)",
      "Cell \u001b[1;32mIn[216], line 1\u001b[0m\n\u001b[1;32m----> 1\u001b[0m \u001b[43msolve\u001b[49m\u001b[43m(\u001b[49m\u001b[43mb3\u001b[49m\u001b[38;5;241;43m.\u001b[39;49m\u001b[43msubs\u001b[49m\u001b[43m(\u001b[49m\u001b[43mB\u001b[49m\u001b[43m,\u001b[49m\u001b[43m \u001b[49m\u001b[38;5;241;43m1\u001b[39;49m\u001b[43m)\u001b[49m\u001b[43m,\u001b[49m\u001b[43m \u001b[49m\u001b[43mlm\u001b[49m\u001b[43m)\u001b[49m\n",
      "File \u001b[1;32mc:\\Python Interpreters\\in_advanced_python\\Lib\\site-packages\\sympy\\solvers\\solvers.py:1145\u001b[0m, in \u001b[0;36msolve\u001b[1;34m(f, *symbols, **flags)\u001b[0m\n\u001b[0;32m   1143\u001b[0m         solution \u001b[38;5;241m=\u001b[39m _solve_undetermined(f[\u001b[38;5;241m0\u001b[39m], symbols, flags)\n\u001b[0;32m   1144\u001b[0m     \u001b[38;5;28;01mif\u001b[39;00m \u001b[38;5;129;01mnot\u001b[39;00m solution:\n\u001b[1;32m-> 1145\u001b[0m         solution \u001b[38;5;241m=\u001b[39m \u001b[43m_solve\u001b[49m\u001b[43m(\u001b[49m\u001b[43mf\u001b[49m\u001b[43m[\u001b[49m\u001b[38;5;241;43m0\u001b[39;49m\u001b[43m]\u001b[49m\u001b[43m,\u001b[49m\u001b[43m \u001b[49m\u001b[38;5;241;43m*\u001b[39;49m\u001b[43msymbols\u001b[49m\u001b[43m,\u001b[49m\u001b[43m \u001b[49m\u001b[38;5;241;43m*\u001b[39;49m\u001b[38;5;241;43m*\u001b[39;49m\u001b[43mflags\u001b[49m\u001b[43m)\u001b[49m\n\u001b[0;32m   1146\u001b[0m \u001b[38;5;28;01melse\u001b[39;00m:\n\u001b[0;32m   1147\u001b[0m     linear, solution \u001b[38;5;241m=\u001b[39m _solve_system(f, symbols, \u001b[38;5;241m*\u001b[39m\u001b[38;5;241m*\u001b[39mflags)\n",
      "File \u001b[1;32mc:\\Python Interpreters\\in_advanced_python\\Lib\\site-packages\\sympy\\solvers\\solvers.py:1535\u001b[0m, in \u001b[0;36m_solve\u001b[1;34m(f, *symbols, **flags)\u001b[0m\n\u001b[0;32m   1531\u001b[0m     \u001b[38;5;28;01mif\u001b[39;00m newf \u001b[38;5;241m!=\u001b[39m f_num:\n\u001b[0;32m   1532\u001b[0m         \u001b[38;5;66;03m# don't check the rewritten form --check\u001b[39;00m\n\u001b[0;32m   1533\u001b[0m         \u001b[38;5;66;03m# solutions in the un-rewritten form below\u001b[39;00m\n\u001b[0;32m   1534\u001b[0m         flags[\u001b[38;5;124m'\u001b[39m\u001b[38;5;124mcheck\u001b[39m\u001b[38;5;124m'\u001b[39m] \u001b[38;5;241m=\u001b[39m \u001b[38;5;28;01mFalse\u001b[39;00m\n\u001b[1;32m-> 1535\u001b[0m         result \u001b[38;5;241m=\u001b[39m \u001b[43m_solve\u001b[49m\u001b[43m(\u001b[49m\u001b[43mnewf\u001b[49m\u001b[43m,\u001b[49m\u001b[43m \u001b[49m\u001b[43msymbol\u001b[49m\u001b[43m,\u001b[49m\u001b[43m \u001b[49m\u001b[38;5;241;43m*\u001b[39;49m\u001b[38;5;241;43m*\u001b[39;49m\u001b[43mflags\u001b[49m\u001b[43m)\u001b[49m\n\u001b[0;32m   1536\u001b[0m         flags[\u001b[38;5;124m'\u001b[39m\u001b[38;5;124mcheck\u001b[39m\u001b[38;5;124m'\u001b[39m] \u001b[38;5;241m=\u001b[39m check\n\u001b[0;32m   1538\u001b[0m \u001b[38;5;66;03m# just a simple case - see if replacement of single function\u001b[39;00m\n\u001b[0;32m   1539\u001b[0m \u001b[38;5;66;03m# clears all symbol-dependent functions, e.g.\u001b[39;00m\n\u001b[0;32m   1540\u001b[0m \u001b[38;5;66;03m# log(x) - log(log(x) - 1) - 3 can be solved even though it has\u001b[39;00m\n\u001b[0;32m   1541\u001b[0m \u001b[38;5;66;03m# two generators.\u001b[39;00m\n",
      "File \u001b[1;32mc:\\Python Interpreters\\in_advanced_python\\Lib\\site-packages\\sympy\\solvers\\solvers.py:1693\u001b[0m, in \u001b[0;36m_solve\u001b[1;34m(f, *symbols, **flags)\u001b[0m\n\u001b[0;32m   1690\u001b[0m \u001b[38;5;66;03m# ----------- end of fallback ----------------------------\u001b[39;00m\n\u001b[0;32m   1692\u001b[0m \u001b[38;5;28;01mif\u001b[39;00m result \u001b[38;5;129;01mis\u001b[39;00m \u001b[38;5;28;01mFalse\u001b[39;00m:\n\u001b[1;32m-> 1693\u001b[0m     \u001b[38;5;28;01mraise\u001b[39;00m \u001b[38;5;167;01mNotImplementedError\u001b[39;00m(\u001b[38;5;124m'\u001b[39m\u001b[38;5;130;01m\\n\u001b[39;00m\u001b[38;5;124m'\u001b[39m\u001b[38;5;241m.\u001b[39mjoin([msg, not_impl_msg \u001b[38;5;241m%\u001b[39m f]))\n\u001b[0;32m   1695\u001b[0m result \u001b[38;5;241m=\u001b[39m _remove_duplicate_solutions(result)\n\u001b[0;32m   1697\u001b[0m \u001b[38;5;28;01mif\u001b[39;00m flags\u001b[38;5;241m.\u001b[39mget(\u001b[38;5;124m'\u001b[39m\u001b[38;5;124msimplify\u001b[39m\u001b[38;5;124m'\u001b[39m, \u001b[38;5;28;01mTrue\u001b[39;00m):\n",
      "\u001b[1;31mNotImplementedError\u001b[0m: multiple generators [lambda, tan(L*lambda/2)]\nNo algorithms are implemented to solve equation -2*L*lambda*tan(L*lambda/2)/(tan(L*lambda/2)**2 + 1) + ((1 - tan(L*lambda/2)**2)/(tan(L*lambda/2)**2 + 1) - 1)**2 + 4*tan(L*lambda/2)**2/(tan(L*lambda/2)**2 + 1)**2"
     ]
    }
   ],
   "source": [
    "solve(b3.subs(B, 1), lm)"
   ]
  },
  {
   "cell_type": "markdown",
   "metadata": {},
   "source": [
    "#### Part b"
   ]
  },
  {
   "cell_type": "code",
   "execution_count": 328,
   "metadata": {},
   "outputs": [
    {
     "data": {
      "text/latex": [
       "$\\displaystyle \\lambda^{2} \\frac{d^{2}}{d x^{2}} w{\\left(x \\right)} + \\frac{d^{4}}{d x^{4}} w{\\left(x \\right)} = 0$"
      ],
      "text/plain": [
       "Eq(lambda**2*Derivative(w(x), (x, 2)) + Derivative(w(x), (x, 4)), 0)"
      ]
     },
     "execution_count": 328,
     "metadata": {},
     "output_type": "execute_result"
    }
   ],
   "source": [
    "x, E, Iyy, P, lm, L, K = symbols(\"x, E, I_yy, P, lambda, L, k_theta\")\n",
    "# lm = sqrt(P/(E*Iyy))\n",
    "w = Function(\"w\")(x)\n",
    "diffeq = Eq(diff(w, x, x, x, x) + lm**2 * diff(w, x, x), 0)\n",
    "diffeq\n",
    "# w = dsolve(diffeq, w)\n",
    "# w"
   ]
  },
  {
   "cell_type": "code",
   "execution_count": 329,
   "metadata": {},
   "outputs": [
    {
     "data": {
      "text/latex": [
       "$\\displaystyle A \\sin{\\left(\\lambda x \\right)} + B \\cos{\\left(\\lambda x \\right)} + C x + D$"
      ],
      "text/plain": [
       "A*sin(lambda*x) + B*cos(lambda*x) + C*x + D"
      ]
     },
     "execution_count": 329,
     "metadata": {},
     "output_type": "execute_result"
    }
   ],
   "source": [
    "A, B, C, D = symbols(\"A, B, C, D\")\n",
    "w = A * sin(lm*x) + B * cos(lm*x) + C*x + D\n",
    "w"
   ]
  },
  {
   "cell_type": "markdown",
   "metadata": {},
   "source": [
    "##### Boundry"
   ]
  },
  {
   "cell_type": "code",
   "execution_count": 330,
   "metadata": {},
   "outputs": [
    {
     "data": {
      "text/latex": [
       "$\\displaystyle A \\sin{\\left(L \\lambda \\right)} + B \\cos{\\left(L \\lambda \\right)} + C L + D = 0$"
      ],
      "text/plain": [
       "Eq(A*sin(L*lambda) + B*cos(L*lambda) + C*L + D, 0)"
      ]
     },
     "execution_count": 330,
     "metadata": {},
     "output_type": "execute_result"
    }
   ],
   "source": [
    "# boundry 1\n",
    "b1 = Eq(w.subs(x, 0), 0)\n",
    "b1\n",
    "# boundry 2\n",
    "b2 = Eq(w.subs(x, L), 0)\n",
    "b2\n",
    "# boundry 3\n",
    "# b3 = Eq(E*Iyy*diff(w, x, x) - K*diff(w, x), 0).subs(x, 0)\n",
    "# b3\n",
    "# boundry 4\n",
    "# b4 = Eq(E*Iyy*diff(w, x, x).subs(x, L) - K*diff(w, x).subs(x, L), 0)\n",
    "# b4\n"
   ]
  },
  {
   "cell_type": "code",
   "execution_count": 331,
   "metadata": {},
   "outputs": [
    {
     "data": {
      "text/latex": [
       "$\\displaystyle A \\sin{\\left(\\lambda x \\right)} + B \\cos{\\left(\\lambda x \\right)} - B - \\frac{x \\left(A \\sin{\\left(L \\lambda \\right)} + B \\cos{\\left(L \\lambda \\right)} - B\\right)}{L}$"
      ],
      "text/plain": [
       "A*sin(lambda*x) + B*cos(lambda*x) - B - x*(A*sin(L*lambda) + B*cos(L*lambda) - B)/L"
      ]
     },
     "execution_count": 331,
     "metadata": {},
     "output_type": "execute_result"
    }
   ],
   "source": [
    "solution_b2 = solve(b2, C)[0]\n",
    "# D = -B\n",
    "C = solution_b2\n",
    "w = (A * sin(lm*x) + B * cos(lm*x) + C*x + D).subs(C, solution_b2).subs(D, -B)\n",
    "w"
   ]
  },
  {
   "cell_type": "code",
   "execution_count": 332,
   "metadata": {},
   "outputs": [
    {
     "data": {
      "text/latex": [
       "$\\displaystyle - B E I_{yy} \\lambda^{2} - k_{\\theta} \\left(A \\lambda - \\frac{A \\sin{\\left(L \\lambda \\right)} + B \\cos{\\left(L \\lambda \\right)} - B}{L}\\right) = 0$"
      ],
      "text/plain": [
       "Eq(-B*E*I_yy*lambda**2 - k_theta*(A*lambda - (A*sin(L*lambda) + B*cos(L*lambda) - B)/L), 0)"
      ]
     },
     "execution_count": 332,
     "metadata": {},
     "output_type": "execute_result"
    }
   ],
   "source": [
    "# boundry 1\n",
    "b1 = Eq(w.subs(x, 0), 0)\n",
    "b1\n",
    "# boundry 2\n",
    "b2 = Eq(w.subs(x, L), 0)\n",
    "b2\n",
    "# boundry 3\n",
    "b3 = Eq(E*Iyy*diff(w, x, x).subs(x, 0) - K*diff(w, x).subs(x, 0), 0)\n",
    "b3\n",
    "# boundry 4\n",
    "# b4 = Eq(-E*Iyy*diff(w, x, x).subs(x, L) - K*diff(w, x).subs(x, L), 0)\n",
    "# b4\n"
   ]
  },
  {
   "cell_type": "code",
   "execution_count": 333,
   "metadata": {},
   "outputs": [
    {
     "data": {
      "text/latex": [
       "$\\displaystyle B \\cos{\\left(\\lambda x \\right)} - B + \\frac{B \\left(- E I_{yy} L \\lambda^{2} + k_{\\theta} \\cos{\\left(L \\lambda \\right)} - k_{\\theta}\\right) \\sin{\\left(\\lambda x \\right)}}{k_{\\theta} \\left(L \\lambda - \\sin{\\left(L \\lambda \\right)}\\right)} - \\frac{x \\left(B \\cos{\\left(L \\lambda \\right)} - B + \\frac{B \\left(- E I_{yy} L \\lambda^{2} + k_{\\theta} \\cos{\\left(L \\lambda \\right)} - k_{\\theta}\\right) \\sin{\\left(L \\lambda \\right)}}{k_{\\theta} \\left(L \\lambda - \\sin{\\left(L \\lambda \\right)}\\right)}\\right)}{L}$"
      ],
      "text/plain": [
       "B*cos(lambda*x) - B + B*(-E*I_yy*L*lambda**2 + k_theta*cos(L*lambda) - k_theta)*sin(lambda*x)/(k_theta*(L*lambda - sin(L*lambda))) - x*(B*cos(L*lambda) - B + B*(-E*I_yy*L*lambda**2 + k_theta*cos(L*lambda) - k_theta)*sin(L*lambda)/(k_theta*(L*lambda - sin(L*lambda))))/L"
      ]
     },
     "execution_count": 333,
     "metadata": {},
     "output_type": "execute_result"
    }
   ],
   "source": [
    "solution_b3 = solve(b3, A)[0]\n",
    "w = (A * sin(lm*x) + B * cos(lm*x) + C*x + D).subs(C, solution_b2).subs(D, -B).subs(A, solution_b3)\n",
    "w"
   ]
  },
  {
   "cell_type": "code",
   "execution_count": 334,
   "metadata": {},
   "outputs": [
    {
     "data": {
      "text/latex": [
       "$\\displaystyle - B E I_{yy} \\lambda^{2} \\left(- \\cos{\\left(L \\lambda \\right)} + \\frac{\\left(E I_{yy} L \\lambda^{2} - k_{\\theta} \\cos{\\left(L \\lambda \\right)} + k_{\\theta}\\right) \\sin{\\left(L \\lambda \\right)}}{k_{\\theta} \\left(L \\lambda - \\sin{\\left(L \\lambda \\right)}\\right)}\\right) - k_{\\theta} \\left(- B \\lambda \\sin{\\left(L \\lambda \\right)} + \\frac{B \\lambda \\left(- E I_{yy} L \\lambda^{2} + k_{\\theta} \\cos{\\left(L \\lambda \\right)} - k_{\\theta}\\right) \\cos{\\left(L \\lambda \\right)}}{k_{\\theta} \\left(L \\lambda - \\sin{\\left(L \\lambda \\right)}\\right)} - \\frac{B \\cos{\\left(L \\lambda \\right)} - B + \\frac{B \\left(- E I_{yy} L \\lambda^{2} + k_{\\theta} \\cos{\\left(L \\lambda \\right)} - k_{\\theta}\\right) \\sin{\\left(L \\lambda \\right)}}{k_{\\theta} \\left(L \\lambda - \\sin{\\left(L \\lambda \\right)}\\right)}}{L}\\right) = 0$"
      ],
      "text/plain": [
       "Eq(-B*E*I_yy*lambda**2*(-cos(L*lambda) + (E*I_yy*L*lambda**2 - k_theta*cos(L*lambda) + k_theta)*sin(L*lambda)/(k_theta*(L*lambda - sin(L*lambda)))) - k_theta*(-B*lambda*sin(L*lambda) + B*lambda*(-E*I_yy*L*lambda**2 + k_theta*cos(L*lambda) - k_theta)*cos(L*lambda)/(k_theta*(L*lambda - sin(L*lambda))) - (B*cos(L*lambda) - B + B*(-E*I_yy*L*lambda**2 + k_theta*cos(L*lambda) - k_theta)*sin(L*lambda)/(k_theta*(L*lambda - sin(L*lambda))))/L), 0)"
      ]
     },
     "execution_count": 334,
     "metadata": {},
     "output_type": "execute_result"
    }
   ],
   "source": [
    "# boundry 1\n",
    "b1 = Eq(w.subs(x, 0), 0)\n",
    "b1\n",
    "# boundry 2\n",
    "b2 = Eq(w.subs(x, L), 0)\n",
    "b2\n",
    "# boundry 3\n",
    "b3 = Eq(E*Iyy*diff(w, x, x).subs(x, 0) - K*diff(w, x).subs(x, 0), 0)\n",
    "b3\n",
    "# boundry 4\n",
    "b4 = Eq(-E*Iyy*diff(w, x, x).subs(x, L) - K*diff(w, x).subs(x, L), 0)\n",
    "b4\n"
   ]
  },
  {
   "cell_type": "code",
   "execution_count": 336,
   "metadata": {},
   "outputs": [],
   "source": [
    "b4_simple = b4.simplify()"
   ]
  },
  {
   "cell_type": "code",
   "execution_count": 356,
   "metadata": {},
   "outputs": [
    {
     "data": {
      "text/latex": [
       "$\\displaystyle - \\infty \\operatorname{sign}{\\left(\\frac{E^{2} I_{yy}^{2} L \\lambda^{4} \\sin{\\left(L \\lambda \\right)}}{L \\lambda - \\sin{\\left(L \\lambda \\right)}} \\right)}$"
      ],
      "text/plain": [
       "-oo*sign(E**2*I_yy**2*L*lambda**4*sin(L*lambda)/(L*lambda - sin(L*lambda)))"
      ]
     },
     "execution_count": 356,
     "metadata": {},
     "output_type": "execute_result"
    }
   ],
   "source": [
    "limit(b4_simple.lhs/B, K, 0)"
   ]
  },
  {
   "cell_type": "code",
   "execution_count": 357,
   "metadata": {},
   "outputs": [
    {
     "data": {
      "text/latex": [
       "$\\displaystyle \\frac{B \\lambda \\left(- E^{2} I_{yy}^{2} L \\lambda^{3} \\sin{\\left(L \\lambda \\right)} + 2 E I_{yy} L k_{\\theta} \\lambda^{2} \\cos{\\left(L \\lambda \\right)} - 2 E I_{yy} k_{\\theta} \\lambda \\sin{\\left(L \\lambda \\right)} + L k_{\\theta}^{2} \\lambda \\sin{\\left(L \\lambda \\right)} + 2 k_{\\theta}^{2} \\cos{\\left(L \\lambda \\right)} - 2 k_{\\theta}^{2}\\right)}{k_{\\theta} \\left(L \\lambda - \\sin{\\left(L \\lambda \\right)}\\right)} = 0$"
      ],
      "text/plain": [
       "Eq(B*lambda*(-E**2*I_yy**2*L*lambda**3*sin(L*lambda) + 2*E*I_yy*L*k_theta*lambda**2*cos(L*lambda) - 2*E*I_yy*k_theta*lambda*sin(L*lambda) + L*k_theta**2*lambda*sin(L*lambda) + 2*k_theta**2*cos(L*lambda) - 2*k_theta**2)/(k_theta*(L*lambda - sin(L*lambda))), 0)"
      ]
     },
     "execution_count": 357,
     "metadata": {},
     "output_type": "execute_result"
    }
   ],
   "source": [
    "b4_simple"
   ]
  }
 ],
 "metadata": {
  "kernelspec": {
   "display_name": "Python 3",
   "language": "python",
   "name": "python3"
  },
  "language_info": {
   "codemirror_mode": {
    "name": "ipython",
    "version": 3
   },
   "file_extension": ".py",
   "mimetype": "text/x-python",
   "name": "python",
   "nbconvert_exporter": "python",
   "pygments_lexer": "ipython3",
   "version": "3.12.1"
  }
 },
 "nbformat": 4,
 "nbformat_minor": 2
}
