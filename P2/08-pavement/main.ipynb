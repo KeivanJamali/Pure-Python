{
 "cells": [
  {
   "cell_type": "code",
   "outputs": [],
   "source": [
    "from math import sqrt\n",
    "\n",
    "v_1 = 1.25\n",
    "v_2 = 3.472\n",
    "v_3 = 12.5\n",
    "t_1 = 38.6\n",
    "t_2 = 70\n",
    "\n",
    "z1 = (1 / 2) * t_1 * ((v_1 * v_2) / (sqrt(v_2 ** 2 - v_1 ** 2)))\n",
    "z2 = (1 / 2) * (t_2 - 2 * z1 * ((sqrt(v_3 ** 2 - v_1 ** 2)) / (v_3 * v_1))) * ((v_3 * v_2) / sqrt(v_3 ** 2 - v_2 ** 2))"
   ],
   "metadata": {
    "collapsed": false,
    "ExecuteTime": {
     "end_time": "2024-03-07T13:23:02.356170200Z",
     "start_time": "2024-03-07T13:23:02.351158400Z"
    }
   },
   "id": "f377ea3b42bb47e3",
   "execution_count": 5
  },
  {
   "cell_type": "code",
   "outputs": [
    {
     "data": {
      "text/plain": "(25.859017487077196, 52.10430372499536)"
     },
     "execution_count": 6,
     "metadata": {},
     "output_type": "execute_result"
    }
   ],
   "source": [
    "z1, z2"
   ],
   "metadata": {
    "collapsed": false,
    "ExecuteTime": {
     "end_time": "2024-03-07T13:23:05.668890100Z",
     "start_time": "2024-03-07T13:23:05.658756800Z"
    }
   },
   "id": "4748cdd6f0598b1",
   "execution_count": 6
  },
  {
   "cell_type": "code",
   "outputs": [
    {
     "data": {
      "text/plain": "30.240000000000002"
     },
     "execution_count": 7,
     "metadata": {},
     "output_type": "execute_result"
    }
   ],
   "source": [
    "2.52*12"
   ],
   "metadata": {
    "collapsed": false,
    "ExecuteTime": {
     "end_time": "2024-03-07T13:32:29.964456400Z",
     "start_time": "2024-03-07T13:32:29.869206Z"
    }
   },
   "id": "e7dab32d02a2dc4b",
   "execution_count": 7
  },
  {
   "cell_type": "code",
   "outputs": [
    {
     "data": {
      "text/plain": "3750.0"
     },
     "execution_count": 11,
     "metadata": {},
     "output_type": "execute_result"
    }
   ],
   "source": [
    "(30/100)*12.5*1000"
   ],
   "metadata": {
    "collapsed": false,
    "ExecuteTime": {
     "end_time": "2024-03-07T13:37:00.016088100Z",
     "start_time": "2024-03-07T13:36:59.907824800Z"
    }
   },
   "id": "2603ee41dcf707c1",
   "execution_count": 11
  },
  {
   "cell_type": "code",
   "outputs": [],
   "source": [],
   "metadata": {
    "collapsed": false
   },
   "id": "7fa31b3714e582aa"
  }
 ],
 "metadata": {
  "kernelspec": {
   "display_name": "Python 3",
   "language": "python",
   "name": "python3"
  },
  "language_info": {
   "codemirror_mode": {
    "name": "ipython",
    "version": 2
   },
   "file_extension": ".py",
   "mimetype": "text/x-python",
   "name": "python",
   "nbconvert_exporter": "python",
   "pygments_lexer": "ipython2",
   "version": "2.7.6"
  }
 },
 "nbformat": 4,
 "nbformat_minor": 5
}
