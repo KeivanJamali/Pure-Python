{
 "cells": [
  {
   "cell_type": "code",
   "execution_count": 1,
   "id": "initial_id",
   "metadata": {
    "ExecuteTime": {
     "end_time": "2023-11-14T13:43:43.060514Z",
     "start_time": "2023-11-14T13:43:42.892026800Z"
    },
    "collapsed": true
   },
   "outputs": [],
   "source": [
    "%load_ext autoreload\n",
    "%autoreload 2\n",
    "import solution as sol"
   ]
  },
  {
   "cell_type": "code",
   "execution_count": 25,
   "id": "64bfb68ad14bf1cc",
   "metadata": {
    "ExecuteTime": {
     "end_time": "2023-11-12T15:56:05.666377100Z",
     "start_time": "2023-11-12T15:56:05.618921300Z"
    },
    "collapsed": false
   },
   "outputs": [],
   "source": [
    "name = \"Keivan_Jamali\"\n",
    "# name = \"Keivan+Jamali\"\n",
    "password = \"Zk3p5jsh9m121$\"\n",
    "nationality_code = \"0330970674 \"\n",
    "nationality_code = \"4421031429\"\n",
    "# nationality_code = \"4444444444\"\n",
    "credit_card = 5022291097756132\n",
    "# credit_card = 6274128205473753\n",
    "email = \"kj.p.jsj@gmail.com\"\n",
    "# email = \"inval_idemil@em6ail.jc\"\n",
    "# nationality_code = nationality_code.replace(\" \", \"\")\n",
    "# nationality_code\n"
   ]
  },
  {
   "cell_type": "code",
   "execution_count": 26,
   "id": "8f898f71954d348b",
   "metadata": {
    "ExecuteTime": {
     "end_time": "2023-11-12T15:56:07.060067300Z",
     "start_time": "2023-11-12T15:56:07.007665600Z"
    },
    "collapsed": false
   },
   "outputs": [
    {
     "ename": "Exception",
     "evalue": "invalid Email",
     "output_type": "error",
     "traceback": [
      "\u001B[1;31m---------------------------------------------------------------------------\u001B[0m",
      "\u001B[1;31mException\u001B[0m                                 Traceback (most recent call last)",
      "\u001B[1;32md:\\All Python\\Pure-Python\\P2\\01-Advanced-Programming\\HW1\\Test.ipynb Cell 3\u001B[0m line \u001B[0;36m1\n\u001B[1;32m----> <a href='vscode-notebook-cell:/d%3A/All%20Python/Pure-Python/P2/01-Advanced-Programming/HW1/Test.ipynb#W2sZmlsZQ%3D%3D?line=0'>1</a>\u001B[0m obj \u001B[39m=\u001B[39m sol\u001B[39m.\u001B[39;49mAccount(name, password, nationality_code, credit_card, email)\n\u001B[0;32m      <a href='vscode-notebook-cell:/d%3A/All%20Python/Pure-Python/P2/01-Advanced-Programming/HW1/Test.ipynb#W2sZmlsZQ%3D%3D?line=2'>3</a>\u001B[0m \u001B[39mprint\u001B[39m(obj\u001B[39m.\u001B[39musername)\n\u001B[0;32m      <a href='vscode-notebook-cell:/d%3A/All%20Python/Pure-Python/P2/01-Advanced-Programming/HW1/Test.ipynb#W2sZmlsZQ%3D%3D?line=3'>4</a>\u001B[0m \u001B[39mprint\u001B[39m(obj\u001B[39m.\u001B[39mpassword)\n",
      "File \u001B[1;32md:\\All Python\\Pure-Python\\P2\\01-Advanced-Programming\\HW1\\solution.py:10\u001B[0m, in \u001B[0;36mAccount.__init__\u001B[1;34m(self, username, password, nationalcode, creditcard, email)\u001B[0m\n\u001B[0;32m      8\u001B[0m \u001B[39mself\u001B[39m\u001B[39m.\u001B[39mnationalcode \u001B[39m=\u001B[39m \u001B[39mself\u001B[39m\u001B[39m.\u001B[39mnationalcode_validation(nationalcode)\n\u001B[0;32m      9\u001B[0m \u001B[39mself\u001B[39m\u001B[39m.\u001B[39mcreditcard \u001B[39m=\u001B[39m \u001B[39mself\u001B[39m\u001B[39m.\u001B[39mcreditcard_validation(creditcard)\n\u001B[1;32m---> 10\u001B[0m \u001B[39mself\u001B[39m\u001B[39m.\u001B[39memail \u001B[39m=\u001B[39m \u001B[39mself\u001B[39;49m\u001B[39m.\u001B[39;49memail_validation(email)\n",
      "File \u001B[1;32md:\\All Python\\Pure-Python\\P2\\01-Advanced-Programming\\HW1\\solution.py:151\u001B[0m, in \u001B[0;36mAccount.email_validation\u001B[1;34m(self, email)\u001B[0m\n\u001B[0;32m    149\u001B[0m         count \u001B[39m+\u001B[39m\u001B[39m=\u001B[39m \u001B[39m1\u001B[39m\n\u001B[0;32m    150\u001B[0m \u001B[39mif\u001B[39;00m count \u001B[39m>\u001B[39m \u001B[39m2\u001B[39m:\n\u001B[1;32m--> 151\u001B[0m     \u001B[39mraise\u001B[39;00m \u001B[39mException\u001B[39;00m(\u001B[39m\"\u001B[39m\u001B[39minvalid Email\u001B[39m\u001B[39m\"\u001B[39m)\n\u001B[0;32m    153\u001B[0m \u001B[39mreturn\u001B[39;00m email\n",
      "\u001B[1;31mException\u001B[0m: invalid Email"
     ]
    }
   ],
   "source": [
    "obj = sol.Account(name, password, nationality_code, credit_card, email)\n",
    "\n",
    "print(obj.username)\n",
    "print(obj.password)\n",
    "print(obj.nationalcode)\n",
    "print(obj.creditcard)\n",
    "print(obj.email)"
   ]
  },
  {
   "cell_type": "code",
   "execution_count": 50,
   "id": "24acf4346565732a",
   "metadata": {
    "ExecuteTime": {
     "end_time": "2023-11-07T15:05:41.516652100Z",
     "start_time": "2023-11-07T15:05:41.468184200Z"
    },
    "collapsed": false
   },
   "outputs": [],
   "source": [
    "control = sum([(10 - i) * int(nationality_code[i]) for i in range(len(nationality_code) - 1)])"
   ]
  },
  {
   "cell_type": "code",
   "execution_count": 51,
   "id": "274399b9dc6dea22",
   "metadata": {
    "ExecuteTime": {
     "end_time": "2023-11-07T15:05:42.138216600Z",
     "start_time": "2023-11-07T15:05:42.122282900Z"
    },
    "collapsed": false
   },
   "outputs": [
    {
     "data": {
      "text/plain": [
       "172"
      ]
     },
     "execution_count": 51,
     "metadata": {},
     "output_type": "execute_result"
    }
   ],
   "source": [
    "control"
   ]
  },
  {
   "cell_type": "code",
   "execution_count": 52,
   "id": "ab244eef551ae740",
   "metadata": {
    "ExecuteTime": {
     "end_time": "2023-11-07T15:05:42.893900300Z",
     "start_time": "2023-11-07T15:05:42.852697100Z"
    },
    "collapsed": false
   },
   "outputs": [
    {
     "name": "stdout",
     "output_type": "stream",
     "text": [
      "172\n"
     ]
    }
   ],
   "source": [
    "val = [10, 9, 8, 7, 6, 5, 4, 3, 2, 1]\n",
    "sum_ = 0\n",
    "for i in range(len(nationality_code) - 1):\n",
    "    sum_ += int(nationality_code[i]) * val[i]\n",
    "print(sum_)"
   ]
  },
  {
   "cell_type": "code",
   "execution_count": 81,
   "id": "67488d439b8f508c",
   "metadata": {
    "ExecuteTime": {
     "end_time": "2023-11-07T15:33:26.883010900Z",
     "start_time": "2023-11-07T15:33:26.333350700Z"
    },
    "collapsed": false
   },
   "outputs": [],
   "source": [
    "name = \"losPolos\"\n",
    "products = {\"chicken\": 2, \"cheese\": 5}\n",
    "price = 950"
   ]
  },
  {
   "cell_type": "code",
   "execution_count": 88,
   "id": "93c81ae2f9e97b38",
   "metadata": {
    "ExecuteTime": {
     "end_time": "2023-11-07T15:38:19.984267200Z",
     "start_time": "2023-11-07T15:38:19.589736Z"
    },
    "collapsed": false
   },
   "outputs": [],
   "source": [
    "obj2 = sol.Order(name, price, products)"
   ]
  },
  {
   "cell_type": "code",
   "execution_count": 89,
   "id": "ef4481ae46a5cd23",
   "metadata": {
    "ExecuteTime": {
     "end_time": "2023-11-07T15:38:20.487035800Z",
     "start_time": "2023-11-07T15:38:20.472873500Z"
    },
    "collapsed": false
   },
   "outputs": [
    {
     "data": {
      "text/plain": [
       "'Hi losPolos ,You have ordered chicken: 2, cheese: 5 and the price will be 950$.'"
      ]
     },
     "execution_count": 89,
     "metadata": {},
     "output_type": "execute_result"
    }
   ],
   "source": [
    "obj2.send_order()"
   ]
  },
  {
   "cell_type": "code",
   "execution_count": 90,
   "id": "cb548b4c185b3f85",
   "metadata": {
    "ExecuteTime": {
     "end_time": "2023-11-07T15:38:22.742961900Z",
     "start_time": "2023-11-07T15:38:22.703786600Z"
    },
    "collapsed": false
   },
   "outputs": [
    {
     "data": {
      "text/plain": [
       "950"
      ]
     },
     "execution_count": 90,
     "metadata": {},
     "output_type": "execute_result"
    }
   ],
   "source": [
    "obj2.price"
   ]
  },
  {
   "cell_type": "code",
   "execution_count": 4,
   "id": "70f2300d3a628798",
   "metadata": {
    "ExecuteTime": {
     "end_time": "2023-11-08T11:34:18.571979800Z",
     "start_time": "2023-11-08T11:34:18.448978300Z"
    },
    "collapsed": false
   },
   "outputs": [
    {
     "ename": "Exception",
     "evalue": "invalid Email",
     "output_type": "error",
     "traceback": [
      "\u001B[1;31m---------------------------------------------------------------------------\u001B[0m",
      "\u001B[1;31mException\u001B[0m                                 Traceback (most recent call last)",
      "Cell \u001B[1;32mIn[4], line 2\u001B[0m\n\u001B[0;32m      1\u001B[0m obj\u001B[38;5;241m=\u001B[39mN\u001B[38;5;241m.\u001B[39mAccount(\u001B[38;5;124m\"\u001B[39m\u001B[38;5;124mKeivan_Jamali\u001B[39m\u001B[38;5;124m\"\u001B[39m, \u001B[38;5;124m\"\u001B[39m\u001B[38;5;124mZk3p5jsh9m121\u001B[39m\u001B[38;5;124m%\u001B[39m\u001B[38;5;124m\"\u001B[39m, \u001B[38;5;124m\"\u001B[39m\u001B[38;5;124m0330970674\u001B[39m\u001B[38;5;124m\"\u001B[39m, \u001B[38;5;241m5022291097756132\u001B[39m, \u001B[38;5;124m\"\u001B[39m\u001B[38;5;124mkj.pj.sj@gmail.com\u001B[39m\u001B[38;5;124m\"\u001B[39m)\n\u001B[1;32m----> 2\u001B[0m \u001B[43mobj\u001B[49m\u001B[38;5;241;43m.\u001B[39;49m\u001B[43memail_validation\u001B[49m\u001B[43m(\u001B[49m\u001B[38;5;124;43m\"\u001B[39;49m\u001B[38;5;124;43mkjnvei@gmai.l.com\u001B[39;49m\u001B[38;5;124;43m\"\u001B[39;49m\u001B[43m)\u001B[49m\n",
      "File \u001B[1;32mD:\\All Python\\Pure-Python\\P2\\01-Advanced-Programming\\HW1\\N.py:80\u001B[0m, in \u001B[0;36mAccount.email_validation\u001B[1;34m(self, email)\u001B[0m\n\u001B[0;32m     78\u001B[0m match \u001B[38;5;241m=\u001B[39m re\u001B[38;5;241m.\u001B[39mmatch(regex_pattern, email)\n\u001B[0;32m     79\u001B[0m \u001B[38;5;28;01mif\u001B[39;00m match \u001B[38;5;129;01mis\u001B[39;00m \u001B[38;5;28;01mNone\u001B[39;00m:\n\u001B[1;32m---> 80\u001B[0m     \u001B[38;5;28;01mraise\u001B[39;00m \u001B[38;5;167;01mException\u001B[39;00m(\u001B[38;5;124m\"\u001B[39m\u001B[38;5;124minvalid Email\u001B[39m\u001B[38;5;124m\"\u001B[39m)\n",
      "\u001B[1;31mException\u001B[0m: invalid Email"
     ]
    }
   ],
   "source": [
    "obj = N.Account(\"Keivan_Jamali\", \"Zk3p5jsh9m121%\", \"0330970674\", 5022291097756132, \"kj.pj.sj@gmail.com\")\n",
    "obj.email_validation(\"kjnvei@gmai.l.com\")"
   ]
  },
  {
   "cell_type": "code",
   "execution_count": 15,
   "id": "61c297bfa2c3abbb",
   "metadata": {
    "ExecuteTime": {
     "end_time": "2023-11-08T12:31:47.032187400Z",
     "start_time": "2023-11-08T12:31:46.917134900Z"
    },
    "collapsed": false
   },
   "outputs": [
    {
     "name": "stdout",
     "output_type": "stream",
     "text": [
      "chicken: 2, cheese: 5, \n",
      "Hi losPolos ,You have ordered chicken: 2, cheese: 5 and the price will be 950$.\n"
     ]
    }
   ],
   "source": [
    "order = {\"chicken\": 2, \"cheese\": 5}\n",
    "final = str()\n",
    "for key in order.items():\n",
    "    final = final + key[0] + \": \" + str(key[1]) + \", \"\n",
    "print(final)\n",
    "print(f\"Hi losPolos ,You have ordered {final[0:-2]} and the price will be 950$.\")\n",
    "#Hi losPolos ,You have ordered chicken: 2, cheese: 5 and the price will be 950$.\n"
   ]
  },
  {
   "cell_type": "code",
   "execution_count": 11,
   "id": "fc9ac725c6be7172",
   "metadata": {
    "ExecuteTime": {
     "end_time": "2023-11-08T12:13:14.951666800Z",
     "start_time": "2023-11-08T12:13:14.906331Z"
    },
    "collapsed": false
   },
   "outputs": [
    {
     "data": {
      "text/plain": [
       "''"
      ]
     },
     "execution_count": 11,
     "metadata": {},
     "output_type": "execute_result"
    }
   ],
   "source": [
    "final"
   ]
  },
  {
   "cell_type": "code",
   "execution_count": 24,
   "id": "f53e4be89e851835",
   "metadata": {
    "ExecuteTime": {
     "end_time": "2023-11-12T12:52:21.344244200Z",
     "start_time": "2023-11-12T12:52:21.329281600Z"
    },
    "collapsed": false
   },
   "outputs": [],
   "source": []
  },
  {
   "cell_type": "code",
   "execution_count": 25,
   "id": "29f71833d5e68d7",
   "metadata": {
    "ExecuteTime": {
     "end_time": "2023-11-12T12:52:21.556737900Z",
     "start_time": "2023-11-12T12:52:21.535767900Z"
    },
    "collapsed": false
   },
   "outputs": [
    {
     "data": {
      "text/plain": [
       "{'h1': {}}"
      ]
     },
     "execution_count": 25,
     "metadata": {},
     "output_type": "execute_result"
    }
   ],
   "source": [
    "a"
   ]
  },
  {
   "cell_type": "code",
   "execution_count": 44,
   "id": "b6d2d909e263c593",
   "metadata": {
    "ExecuteTime": {
     "end_time": "2023-11-12T12:58:07.238646700Z",
     "start_time": "2023-11-12T12:58:07.100627300Z"
    },
    "collapsed": false
   },
   "outputs": [],
   "source": [
    "a = {}\n",
    "a[\"h1\"] = {}\n",
    "a[\"h1\"][\"p\"] = {}\n",
    "a[\"h1\"][\"p\"][\"p1\"] = 50\n",
    "a[\"h1\"][\"power\"] = 100\n",
    "\n",
    "a[\"h2\"] = {}\n",
    "a[\"h2\"][\"p\"] = {}\n",
    "a[\"h2\"][\"p\"][\"p1\"] = 60\n",
    "a[\"h2\"][\"power\"] = 100\n"
   ]
  },
  {
   "cell_type": "code",
   "execution_count": 46,
   "id": "f4a8b5ee780e736",
   "metadata": {
    "ExecuteTime": {
     "end_time": "2023-11-12T12:58:12.387297900Z",
     "start_time": "2023-11-12T12:58:12.238280800Z"
    },
    "collapsed": false
   },
   "outputs": [
    {
     "data": {
      "text/plain": [
       "['h2', 'h1']"
      ]
     },
     "execution_count": 46,
     "metadata": {},
     "output_type": "execute_result"
    }
   ],
   "source": [
    "# sorted(a, key=lambda x: a[x][\"power\"], key=lambda x: a[x][\"p\"][\"p1\"], reverse=True)\n",
    "sorted_a = sorted(a, key=lambda x: (a[x][\"power\"], a[x][\"p\"][\"p1\"]), reverse=True)\n",
    "sorted_a"
   ]
  },
  {
   "cell_type": "code",
   "execution_count": 28,
   "id": "4bfa114c3615c437",
   "metadata": {
    "ExecuteTime": {
     "end_time": "2023-11-12T12:52:28.299118Z",
     "start_time": "2023-11-12T12:52:28.281615700Z"
    },
    "collapsed": false
   },
   "outputs": [
    {
     "name": "stdout",
     "output_type": "stream",
     "text": [
      "y\n"
     ]
    }
   ],
   "source": [
    "if \"p1\" in a[\"h1\"][\"p\"]:\n",
    "    print(\"y\")"
   ]
  },
  {
   "cell_type": "code",
   "execution_count": 29,
   "id": "3cae5c8cd36e864c",
   "metadata": {
    "ExecuteTime": {
     "end_time": "2023-11-12T12:52:28.579838800Z",
     "start_time": "2023-11-12T12:52:28.576281300Z"
    },
    "collapsed": false
   },
   "outputs": [],
   "source": []
  },
  {
   "cell_type": "code",
   "execution_count": 30,
   "id": "3d79c2685eac27f3",
   "metadata": {
    "ExecuteTime": {
     "end_time": "2023-11-12T12:52:29.257536500Z",
     "start_time": "2023-11-12T12:52:29.236310100Z"
    },
    "collapsed": false
   },
   "outputs": [
    {
     "data": {
      "text/plain": [
       "{'h1': {'p': {'p1': 50}, 'power': 100}}"
      ]
     },
     "execution_count": 30,
     "metadata": {},
     "output_type": "execute_result"
    }
   ],
   "source": [
    "a"
   ]
  },
  {
   "cell_type": "code",
   "execution_count": 20,
   "id": "c2b14d0bf01a254e",
   "metadata": {
    "ExecuteTime": {
     "end_time": "2023-11-12T12:45:02.135008200Z",
     "start_time": "2023-11-12T12:45:02.013624600Z"
    },
    "collapsed": false
   },
   "outputs": [
    {
     "data": {
      "text/plain": [
       "-3"
      ]
     },
     "execution_count": 20,
     "metadata": {},
     "output_type": "execute_result"
    }
   ],
   "source": [
    "import math\n",
    "\n",
    "math.floor(2.5 - 5)"
   ]
  },
  {
   "cell_type": "code",
   "execution_count": 23,
   "id": "7695c66588582166",
   "metadata": {
    "ExecuteTime": {
     "end_time": "2023-11-12T12:52:01.885375Z",
     "start_time": "2023-11-12T12:52:01.773075Z"
    },
    "collapsed": false
   },
   "outputs": [
    {
     "ename": "TypeError",
     "evalue": "unhashable type: 'dict'",
     "output_type": "error",
     "traceback": [
      "\u001B[1;31m---------------------------------------------------------------------------\u001B[0m",
      "\u001B[1;31mTypeError\u001B[0m                                 Traceback (most recent call last)",
      "Cell \u001B[1;32mIn[23], line 1\u001B[0m\n\u001B[1;32m----> 1\u001B[0m a \u001B[38;5;241m=\u001B[39m {\u001B[38;5;124m\"\u001B[39m\u001B[38;5;124mab\u001B[39m\u001B[38;5;124m\"\u001B[39m,{\u001B[38;5;124m\"\u001B[39m\u001B[38;5;124mfd\u001B[39m\u001B[38;5;124m\"\u001B[39m:\u001B[38;5;241m0\u001B[39m},\u001B[38;5;124m\"\u001B[39m\u001B[38;5;124mac\u001B[39m\u001B[38;5;124m\"\u001B[39m}\n",
      "\u001B[1;31mTypeError\u001B[0m: unhashable type: 'dict'"
     ]
    }
   ],
   "source": [
    "a = {{\"ab\"}, {\"fd\": 0}, \"ac\"}"
   ]
  },
  {
   "cell_type": "code",
   "execution_count": 31,
   "id": "d9c2f16ab7830fc0",
   "metadata": {
    "ExecuteTime": {
     "end_time": "2023-11-12T12:52:31.965595600Z",
     "start_time": "2023-11-12T12:52:31.952485300Z"
    },
    "collapsed": false
   },
   "outputs": [
    {
     "data": {
      "text/plain": [
       "['h1']"
      ]
     },
     "execution_count": 31,
     "metadata": {},
     "output_type": "execute_result"
    }
   ],
   "source": [
    "sorted(a)"
   ]
  },
  {
   "cell_type": "code",
   "execution_count": 7,
   "id": "c9434bf7070c4e9a",
   "metadata": {
    "collapsed": false,
    "ExecuteTime": {
     "end_time": "2023-11-19T15:42:57.652506100Z",
     "start_time": "2023-11-19T15:42:56.314090400Z"
    }
   },
   "outputs": [
    {
     "ename": "IndexError",
     "evalue": "list index out of range",
     "output_type": "error",
     "traceback": [
      "\u001B[1;31m---------------------------------------------------------------------------\u001B[0m",
      "\u001B[1;31mIndexError\u001B[0m                                Traceback (most recent call last)",
      "Cell \u001B[1;32mIn[7], line 1\u001B[0m\n\u001B[1;32m----> 1\u001B[0m \u001B[38;5;28;01mimport\u001B[39;00m \u001B[38;5;21;01mQ2\u001B[39;00m\n",
      "File \u001B[1;32mD:\\All Python\\Pure-Python\\P2\\01-Advanced-Programming\\HW1\\Q2.py:71\u001B[0m\n\u001B[0;32m     69\u001B[0m \u001B[38;5;28;01mwhile\u001B[39;00m \u001B[38;5;28;01mTrue\u001B[39;00m:\n\u001B[0;32m     70\u001B[0m     command \u001B[38;5;241m=\u001B[39m \u001B[38;5;28minput\u001B[39m()\u001B[38;5;241m.\u001B[39msplit()\n\u001B[1;32m---> 71\u001B[0m     \u001B[38;5;28;01mif\u001B[39;00m \u001B[43mcommand\u001B[49m\u001B[43m[\u001B[49m\u001B[38;5;241;43m0\u001B[39;49m\u001B[43m]\u001B[49m \u001B[38;5;241m==\u001B[39m \u001B[38;5;124m\"\u001B[39m\u001B[38;5;124mnew_team\u001B[39m\u001B[38;5;124m\"\u001B[39m:\n\u001B[0;32m     72\u001B[0m         main\u001B[38;5;241m.\u001B[39mnew_team(command[\u001B[38;5;241m1\u001B[39m])\n\u001B[0;32m     73\u001B[0m     \u001B[38;5;28;01melif\u001B[39;00m command[\u001B[38;5;241m0\u001B[39m] \u001B[38;5;241m==\u001B[39m \u001B[38;5;124m\"\u001B[39m\u001B[38;5;124mnew_player\u001B[39m\u001B[38;5;124m\"\u001B[39m:\n",
      "\u001B[1;31mIndexError\u001B[0m: list index out of range"
     ]
    }
   ],
   "source": [
    "import Q2\n"
   ]
  },
  {
   "cell_type": "code",
   "execution_count": 34,
   "outputs": [
    {
     "name": "stdout",
     "output_type": "stream",
     "text": [
      "1\n"
     ]
    }
   ],
   "source": [
    "i = 0\n",
    "j = 0\n",
    "start = 0\n",
    "end = i + j + 1\n",
    "print(end)"
   ],
   "metadata": {
    "collapsed": false,
    "ExecuteTime": {
     "end_time": "2023-11-19T16:04:42.668673500Z",
     "start_time": "2023-11-19T16:04:42.544043Z"
    }
   },
   "id": "7369d30ecf9a4e7f"
  },
  {
   "cell_type": "code",
   "execution_count": 35,
   "outputs": [],
   "source": [
    "a = [\"2\", \"d\", \"f\", \"g\", \"t\", \"j\"]"
   ],
   "metadata": {
    "collapsed": false,
    "ExecuteTime": {
     "end_time": "2023-11-19T16:04:43.867652600Z",
     "start_time": "2023-11-19T16:04:43.864637200Z"
    }
   },
   "id": "ab0678bed1c6ab17"
  },
  {
   "cell_type": "code",
   "execution_count": 36,
   "outputs": [
    {
     "data": {
      "text/plain": "['2', 'd']"
     },
     "execution_count": 36,
     "metadata": {},
     "output_type": "execute_result"
    }
   ],
   "source": [
    "a[start:end + 1]"
   ],
   "metadata": {
    "collapsed": false,
    "ExecuteTime": {
     "end_time": "2023-11-19T16:04:44.635620Z",
     "start_time": "2023-11-19T16:04:44.629562800Z"
    }
   },
   "id": "687b9c4b801d5f27"
  },
  {
   "cell_type": "code",
   "execution_count": 37,
   "outputs": [
    {
     "data": {
      "text/plain": "'f'"
     },
     "execution_count": 37,
     "metadata": {},
     "output_type": "execute_result"
    }
   ],
   "source": [
    "a[end + 1]"
   ],
   "metadata": {
    "collapsed": false,
    "ExecuteTime": {
     "end_time": "2023-11-19T16:04:46.346505600Z",
     "start_time": "2023-11-19T16:04:46.342952200Z"
    }
   },
   "id": "fb9a36d643bfef6b"
  },
  {
   "cell_type": "code",
   "execution_count": 40,
   "outputs": [
    {
     "name": "stdout",
     "output_type": "stream",
     "text": [
      "3\n"
     ]
    }
   ],
   "source": [
    "i = end\n",
    "j = 0\n",
    "start = i\n",
    "end = i + j + 1\n",
    "print(end)"
   ],
   "metadata": {
    "collapsed": false,
    "ExecuteTime": {
     "end_time": "2023-11-19T16:05:59.645861500Z",
     "start_time": "2023-11-19T16:05:59.640807400Z"
    }
   },
   "id": "4ba38df2b6d21099"
  },
  {
   "cell_type": "code",
   "execution_count": 44,
   "outputs": [
    {
     "data": {
      "text/plain": "[]"
     },
     "execution_count": 44,
     "metadata": {},
     "output_type": "execute_result"
    }
   ],
   "source": [
    "a[-1:0]"
   ],
   "metadata": {
    "collapsed": false,
    "ExecuteTime": {
     "end_time": "2023-11-19T16:08:39.446381900Z",
     "start_time": "2023-11-19T16:08:39.428454500Z"
    }
   },
   "id": "e42a58166f5f5c3b"
  },
  {
   "cell_type": "code",
   "execution_count": 42,
   "outputs": [
    {
     "data": {
      "text/plain": "'t'"
     },
     "execution_count": 42,
     "metadata": {},
     "output_type": "execute_result"
    }
   ],
   "source": [
    "a[end + 1]"
   ],
   "metadata": {
    "collapsed": false,
    "ExecuteTime": {
     "end_time": "2023-11-19T16:06:14.967297400Z",
     "start_time": "2023-11-19T16:06:14.935319700Z"
    }
   },
   "id": "a1eb28abd327cdef"
  },
  {
   "cell_type": "code",
   "execution_count": 46,
   "outputs": [],
   "source": [
    "dic = {\"m\": {\"score\": 4, \"pescore\": 60}, \"s\": {\"score\": 2, \"pescore\": 70}, \"a\": {\"score\": 1, \"pescore\": 10}}"
   ],
   "metadata": {
    "collapsed": false,
    "ExecuteTime": {
     "end_time": "2023-11-19T16:19:36.774796600Z",
     "start_time": "2023-11-19T16:19:36.765847800Z"
    }
   },
   "id": "d4f07310ce05988"
  },
  {
   "cell_type": "code",
   "execution_count": 51,
   "outputs": [],
   "source": [
    "a = input()"
   ],
   "metadata": {
    "collapsed": false,
    "ExecuteTime": {
     "end_time": "2023-11-19T16:24:00.375183900Z",
     "start_time": "2023-11-19T16:23:58.183458300Z"
    }
   },
   "id": "8547d882355d3ffa"
  },
  {
   "cell_type": "code",
   "execution_count": 52,
   "outputs": [
    {
     "data": {
      "text/plain": "'a                                                                                                                                                                                                                                                                                                                                                                                                                                                                                                                                                                                                                                                                                                                                                                                                                                                                                                                                                                                                                                        b'"
     },
     "execution_count": 52,
     "metadata": {},
     "output_type": "execute_result"
    }
   ],
   "source": [
    "a"
   ],
   "metadata": {
    "collapsed": false,
    "ExecuteTime": {
     "end_time": "2023-11-19T16:24:01.893431700Z",
     "start_time": "2023-11-19T16:24:01.868788Z"
    }
   },
   "id": "43cd065f77c0ce43"
  },
  {
   "cell_type": "code",
   "execution_count": 50,
   "outputs": [
    {
     "name": "stdout",
     "output_type": "stream",
     "text": [
      "a                                                                                                                                                                                                                                                                                                                                                                                                                                                                                                                                                                                                                                                                                                                                                                                                                                                                                                                                                                                                                                        b\n"
     ]
    }
   ],
   "source": [
    "print(\"a\" + \" \" * 1000 + \"b\")"
   ],
   "metadata": {
    "collapsed": false,
    "ExecuteTime": {
     "end_time": "2023-11-19T16:23:53.888745300Z",
     "start_time": "2023-11-19T16:23:53.767112700Z"
    }
   },
   "id": "e7a55f164b4b951e"
  },
  {
   "cell_type": "code",
   "execution_count": 61,
   "outputs": [],
   "source": [
    "a = \"                        \"\n",
    "a = \"a\" + \" \" * 1000 + \"b\""
   ],
   "metadata": {
    "collapsed": false,
    "ExecuteTime": {
     "end_time": "2023-11-19T16:39:44.226524900Z",
     "start_time": "2023-11-19T16:39:44.112755500Z"
    }
   },
   "id": "ae51cc1e862f814c"
  },
  {
   "cell_type": "code",
   "execution_count": 62,
   "outputs": [],
   "source": [
    "l = a.split()"
   ],
   "metadata": {
    "collapsed": false,
    "ExecuteTime": {
     "end_time": "2023-11-19T16:39:45.058160200Z",
     "start_time": "2023-11-19T16:39:45.053947800Z"
    }
   },
   "id": "625aefda9a0e251a"
  },
  {
   "cell_type": "code",
   "execution_count": 63,
   "outputs": [
    {
     "data": {
      "text/plain": "'a'"
     },
     "execution_count": 63,
     "metadata": {},
     "output_type": "execute_result"
    }
   ],
   "source": [
    "l[0]"
   ],
   "metadata": {
    "collapsed": false,
    "ExecuteTime": {
     "end_time": "2023-11-19T16:39:47.407072600Z",
     "start_time": "2023-11-19T16:39:47.386957800Z"
    }
   },
   "id": "2a8ef8e530491f32"
  },
  {
   "cell_type": "code",
   "execution_count": 67,
   "outputs": [
    {
     "name": "stdout",
     "output_type": "stream",
     "text": [
      "aa\\nbb\n"
     ]
    }
   ],
   "source": [
    "print(input())"
   ],
   "metadata": {
    "collapsed": false,
    "ExecuteTime": {
     "end_time": "2023-11-19T16:58:00.726199100Z",
     "start_time": "2023-11-19T16:57:55.712256200Z"
    }
   },
   "id": "26e0861c35adbb75"
  },
  {
   "cell_type": "code",
   "execution_count": 69,
   "outputs": [],
   "source": [
    "a = [\"a\", \"b\", \"d\", \"c\"]"
   ],
   "metadata": {
    "collapsed": false,
    "ExecuteTime": {
     "end_time": "2023-11-19T17:12:19.848925300Z",
     "start_time": "2023-11-19T17:12:19.831885100Z"
    }
   },
   "id": "3ac16a59d9b77dea"
  },
  {
   "cell_type": "code",
   "execution_count": 70,
   "outputs": [
    {
     "data": {
      "text/plain": "'a'"
     },
     "execution_count": 70,
     "metadata": {},
     "output_type": "execute_result"
    }
   ],
   "source": [
    "a.pop(0)"
   ],
   "metadata": {
    "collapsed": false,
    "ExecuteTime": {
     "end_time": "2023-11-19T17:12:23.745047500Z",
     "start_time": "2023-11-19T17:12:23.711736400Z"
    }
   },
   "id": "a4adf6c9964e73ab"
  },
  {
   "cell_type": "code",
   "execution_count": 71,
   "outputs": [
    {
     "ename": "ValueError",
     "evalue": "list.remove(x): x not in list",
     "output_type": "error",
     "traceback": [
      "\u001B[1;31m---------------------------------------------------------------------------\u001B[0m",
      "\u001B[1;31mValueError\u001B[0m                                Traceback (most recent call last)",
      "Cell \u001B[1;32mIn[71], line 1\u001B[0m\n\u001B[1;32m----> 1\u001B[0m \u001B[43ma\u001B[49m\u001B[38;5;241;43m.\u001B[39;49m\u001B[43mremove\u001B[49m\u001B[43m(\u001B[49m\u001B[38;5;241;43m0\u001B[39;49m\u001B[43m)\u001B[49m\n",
      "\u001B[1;31mValueError\u001B[0m: list.remove(x): x not in list"
     ]
    }
   ],
   "source": [
    "a.remove(0)"
   ],
   "metadata": {
    "collapsed": false,
    "ExecuteTime": {
     "end_time": "2023-11-19T17:12:31.729444700Z",
     "start_time": "2023-11-19T17:12:31.689798700Z"
    }
   },
   "id": "b130a5d18c74d7e3"
  },
  {
   "cell_type": "code",
   "execution_count": 75,
   "outputs": [],
   "source": [
    "a = \"abcds\""
   ],
   "metadata": {
    "collapsed": false,
    "ExecuteTime": {
     "end_time": "2023-11-19T17:16:01.143712200Z",
     "start_time": "2023-11-19T17:16:01.026867100Z"
    }
   },
   "id": "29eace0672994020"
  },
  {
   "cell_type": "code",
   "execution_count": 76,
   "outputs": [
    {
     "data": {
      "text/plain": "'abc'"
     },
     "execution_count": 76,
     "metadata": {},
     "output_type": "execute_result"
    }
   ],
   "source": [
    "a[:-2]"
   ],
   "metadata": {
    "collapsed": false,
    "ExecuteTime": {
     "end_time": "2023-11-19T17:16:01.915799700Z",
     "start_time": "2023-11-19T17:16:01.899491400Z"
    }
   },
   "id": "4f1280321b3ebb84"
  },
  {
   "cell_type": "code",
   "execution_count": 77,
   "outputs": [
    {
     "name": "stdout",
     "output_type": "stream",
     "text": [
      "absd ['jgjff', 'fiwhfnl']\n",
      "fiwhfnl ['fiwhfnl']\n"
     ]
    }
   ],
   "source": [
    "a = [\"absd\", \"jgjff\", \"fiwhfnl\"]\n",
    "for i in a:\n",
    "    a.pop(0)\n",
    "    print(i, a)"
   ],
   "metadata": {
    "collapsed": false,
    "ExecuteTime": {
     "end_time": "2023-11-19T17:21:00.532709Z",
     "start_time": "2023-11-19T17:21:00.479971500Z"
    }
   },
   "id": "3aac8735ae5af049"
  },
  {
   "cell_type": "code",
   "execution_count": 1,
   "outputs": [],
   "source": [
    "a = \"asd.asd.fds\""
   ],
   "metadata": {
    "collapsed": false,
    "ExecuteTime": {
     "end_time": "2023-11-20T11:05:47.848397600Z",
     "start_time": "2023-11-20T11:05:47.784696Z"
    }
   },
   "id": "c6f91f202fed4a17"
  },
  {
   "cell_type": "code",
   "execution_count": 2,
   "outputs": [
    {
     "data": {
      "text/plain": "2"
     },
     "execution_count": 2,
     "metadata": {},
     "output_type": "execute_result"
    }
   ],
   "source": [
    "a.count(\".\")"
   ],
   "metadata": {
    "collapsed": false,
    "ExecuteTime": {
     "end_time": "2023-11-20T11:05:48.842896400Z",
     "start_time": "2023-11-20T11:05:48.725965300Z"
    }
   },
   "id": "77ef10285a295112"
  },
  {
   "cell_type": "code",
   "execution_count": 9,
   "outputs": [],
   "source": [
    "a = {\"ali\": {},\n",
    "     \"bo\": {\"buy\": 30}}"
   ],
   "metadata": {
    "collapsed": false,
    "ExecuteTime": {
     "end_time": "2023-11-20T19:25:13.314114400Z",
     "start_time": "2023-11-20T19:25:13.292994600Z"
    }
   },
   "id": "ee75c4eccc6c8a0f"
  },
  {
   "cell_type": "code",
   "execution_count": 10,
   "outputs": [],
   "source": [
    "a[\"ali\"].update({\"sell\":50})"
   ],
   "metadata": {
    "collapsed": false,
    "ExecuteTime": {
     "end_time": "2023-11-20T19:25:14.032380100Z",
     "start_time": "2023-11-20T19:25:14.019274600Z"
    }
   },
   "id": "2e5914be3c15fd6d"
  },
  {
   "cell_type": "code",
   "execution_count": 11,
   "outputs": [
    {
     "data": {
      "text/plain": "{'ali': {'sell': 50}, 'bo': {'buy': 30}}"
     },
     "execution_count": 11,
     "metadata": {},
     "output_type": "execute_result"
    }
   ],
   "source": [
    "a"
   ],
   "metadata": {
    "collapsed": false,
    "ExecuteTime": {
     "end_time": "2023-11-20T19:25:14.537971300Z",
     "start_time": "2023-11-20T19:25:14.519495Z"
    }
   },
   "id": "ea0f08997aed2317"
  },
  {
   "cell_type": "code",
   "execution_count": 12,
   "outputs": [
    {
     "data": {
      "text/plain": "'ab'"
     },
     "execution_count": 12,
     "metadata": {},
     "output_type": "execute_result"
    }
   ],
   "source": [
    "a = \"abcde\"\n",
    "a[:-3]"
   ],
   "metadata": {
    "collapsed": false,
    "ExecuteTime": {
     "end_time": "2023-11-20T19:44:58.602385600Z",
     "start_time": "2023-11-20T19:44:58.567873400Z"
    }
   },
   "id": "84b16c75a355194b"
  },
  {
   "cell_type": "code",
   "execution_count": 1,
   "outputs": [
    {
     "data": {
      "text/plain": "['end']"
     },
     "execution_count": 1,
     "metadata": {},
     "output_type": "execute_result"
    }
   ],
   "source": [
    "line = \"end\"\n",
    "line.split()"
   ],
   "metadata": {
    "collapsed": false,
    "ExecuteTime": {
     "end_time": "2023-11-21T19:46:31.115839500Z",
     "start_time": "2023-11-21T19:46:31.102218600Z"
    }
   },
   "id": "123082cff7633e27"
  },
  {
   "cell_type": "code",
   "execution_count": 2,
   "outputs": [
    {
     "data": {
      "text/plain": "1"
     },
     "execution_count": 2,
     "metadata": {},
     "output_type": "execute_result"
    }
   ],
   "source": [
    "a = 1.45\n",
    "int(a)"
   ],
   "metadata": {
    "collapsed": false,
    "ExecuteTime": {
     "end_time": "2023-11-21T19:54:00.400039700Z",
     "start_time": "2023-11-21T19:54:00.305195300Z"
    }
   },
   "id": "51dc14caf07d1462"
  },
  {
   "cell_type": "code",
   "execution_count": 3,
   "outputs": [],
   "source": [
    "a = \"\"\"new team created successfully!\n",
    "new team created successfully!\n",
    "new team created successfully!\n",
    "new team created successfully!\n",
    "new team created successfully!\n",
    "new team created successfully!\n",
    "new player created successfully!\n",
    "new player created successfully!\n",
    "new player created successfully!\n",
    "new player created successfully!\n",
    "new player created successfully!\n",
    "new player created successfully!\n",
    "the barcelona won the game\n",
    "barcelona 10 20\n",
    "bayernmunich 0 0\n",
    "intermilan 0 0\n",
    "milan 0 0\n",
    "tottenham 0 0\n",
    "realmadrid 0 -20\n",
    "the intermilan won the game\n",
    "intermilan 10 30\n",
    "barcelona 10 20\n",
    "bayernmunich 0 0\n",
    "milan 0 0\n",
    "realmadrid 0 -20\n",
    "tottenham 0 -30\n",
    "the milan won the game\n",
    "the milan won the game\n",
    "milan 20 20\n",
    "intermilan 10 30\n",
    "barcelona 10 20\n",
    "bayernmunich 0 0\n",
    "realmadrid 0 -20\n",
    "tottenham 0 -50\"\"\"\n",
    "\n",
    "b = \"\"\"new team created successfully!\n",
    "new team created successfully!\n",
    "new team created successfully!\n",
    "new team created successfully!\n",
    "new team created successfully!\n",
    "new team created successfully!\n",
    "new player created successfully!\n",
    "new player created successfully!\n",
    "new player created successfully!\n",
    "new player created successfully!\n",
    "new player created successfully!\n",
    "new player created successfully!\n",
    "the barcelona won the game\n",
    "barcelona 10 20\n",
    "bayernmunich 0 0\n",
    "intermilan 0 0\n",
    "milan 0 0\n",
    "tottenham 0 0\n",
    "realmadrid 0 -20\n",
    "the intermilan won the game\n",
    "intermilan 10 30\n",
    "barcelona 10 20\n",
    "bayernmunich 0 0\n",
    "milan 0 0\n",
    "realmadrid 0 -20\n",
    "tottenham 0 -30\n",
    "the milan won the game\n",
    "the milan won the game\n",
    "milan 20 20\n",
    "intermilan 10 30\n",
    "barcelona 10 20\n",
    "bayernmunich 0 0\n",
    "realmadrid 0 -20\n",
    "tottenham 0 -50\"\"\""
   ],
   "metadata": {
    "collapsed": false,
    "ExecuteTime": {
     "end_time": "2023-11-21T20:09:01.020419600Z",
     "start_time": "2023-11-21T20:09:00.980086600Z"
    }
   },
   "id": "c297b46e28300f04"
  },
  {
   "cell_type": "code",
   "execution_count": 4,
   "outputs": [
    {
     "data": {
      "text/plain": "True"
     },
     "execution_count": 4,
     "metadata": {},
     "output_type": "execute_result"
    }
   ],
   "source": [
    "a==b"
   ],
   "metadata": {
    "collapsed": false,
    "ExecuteTime": {
     "end_time": "2023-11-21T20:09:04.070501100Z",
     "start_time": "2023-11-21T20:09:04.021708Z"
    }
   },
   "id": "5d4e9794563e0958"
  },
  {
   "cell_type": "code",
   "execution_count": null,
   "outputs": [],
   "source": [],
   "metadata": {
    "collapsed": false
   },
   "id": "b0f1456c8cac61e7"
  }
 ],
 "metadata": {
  "kernelspec": {
   "display_name": "Python 3",
   "language": "python",
   "name": "python3"
  },
  "language_info": {
   "codemirror_mode": {
    "name": "ipython",
    "version": 3
   },
   "file_extension": ".py",
   "mimetype": "text/x-python",
   "name": "python",
   "nbconvert_exporter": "python",
   "pygments_lexer": "ipython3",
   "version": "3.11.5"
  }
 },
 "nbformat": 4,
 "nbformat_minor": 5
}
