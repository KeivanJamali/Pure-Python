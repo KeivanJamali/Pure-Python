{
 "cells": [
  {
   "cell_type": "code",
   "execution_count": 1,
   "id": "initial_id",
   "metadata": {
    "collapsed": true,
    "ExecuteTime": {
     "end_time": "2024-03-04T08:03:20.184182200Z",
     "start_time": "2024-03-04T08:03:19.341136300Z"
    }
   },
   "outputs": [],
   "source": [
    "import pandas as pd\n",
    "import numpy as np\n",
    "%load_ext autoreload\n",
    "%autoreload 2"
   ]
  },
  {
   "cell_type": "code",
   "outputs": [],
   "source": [
    "data = pd.read_csv(\"raw_data/RSN6_IMPVALL.I_I-ELC180.AT2\")\n",
    "data2 = pd.read_csv(\"raw_data/RSN6_IMPVALL.I_I-ELC180.DT2\")\n"
   ],
   "metadata": {
    "collapsed": false,
    "ExecuteTime": {
     "end_time": "2024-03-03T14:23:21.019165400Z",
     "start_time": "2024-03-03T14:23:20.811857600Z"
    }
   },
   "id": "f498384417288d2b",
   "execution_count": 3
  },
  {
   "cell_type": "code",
   "outputs": [
    {
     "data": {
      "text/plain": "                                                                                                                 PEER NGA STRONG MOTION DATABASE RECORD\nImperial Valley-02                                 5/19/1940       El Centro Array #9                                                             180.0\nDISPLACEMENT TIME SERIES IN UNITS OF CM            NaN             NaN                                                                              NaN\nNPTS=   5372                                       DT=   .0100 SEC                                                                                  NaN\n   .0000000E+00   .4896685E-04   .1958978E-03  ... NaN             NaN                                                                              NaN\n   .1225030E-02   .1764349E-02   .2401874E-02  ... NaN             NaN                                                                              NaN\n...                                                                                                                                                 ...\n  -.8536350E-02  -.8190622E-02  -.7861870E-02  ... NaN             NaN                                                                              NaN\n  -.6977935E-02  -.6717539E-02  -.6474333E-02  ... NaN             NaN                                                                              NaN\n  -.5848194E-02  -.5674080E-02  -.5517313E-02  ... NaN             NaN                                                                              NaN\n  -.5151350E-02  -.5064219E-02  -.4994552E-02  ... NaN             NaN                                                                              NaN\n  -.4890525E-02  -.4890900E-02                 ... NaN             NaN                                                                              NaN\n\n[1078 rows x 1 columns]",
      "text/html": "<div>\n<style scoped>\n    .dataframe tbody tr th:only-of-type {\n        vertical-align: middle;\n    }\n\n    .dataframe tbody tr th {\n        vertical-align: top;\n    }\n\n    .dataframe thead th {\n        text-align: right;\n    }\n</style>\n<table border=\"1\" class=\"dataframe\">\n  <thead>\n    <tr style=\"text-align: right;\">\n      <th></th>\n      <th></th>\n      <th></th>\n      <th>PEER NGA STRONG MOTION DATABASE RECORD</th>\n    </tr>\n  </thead>\n  <tbody>\n    <tr>\n      <th>Imperial Valley-02</th>\n      <th>5/19/1940</th>\n      <th>El Centro Array #9</th>\n      <td>180.0</td>\n    </tr>\n    <tr>\n      <th>DISPLACEMENT TIME SERIES IN UNITS OF CM</th>\n      <th>NaN</th>\n      <th>NaN</th>\n      <td>NaN</td>\n    </tr>\n    <tr>\n      <th>NPTS=   5372</th>\n      <th>DT=   .0100 SEC</th>\n      <th></th>\n      <td>NaN</td>\n    </tr>\n    <tr>\n      <th>.0000000E+00   .4896685E-04   .1958978E-03   .4408510E-03   .7838791E-03</th>\n      <th>NaN</th>\n      <th>NaN</th>\n      <td>NaN</td>\n    </tr>\n    <tr>\n      <th>.1225030E-02   .1764349E-02   .2401874E-02   .3137641E-02   .3971680E-02</th>\n      <th>NaN</th>\n      <th>NaN</th>\n      <td>NaN</td>\n    </tr>\n    <tr>\n      <th>...</th>\n      <th>...</th>\n      <th>...</th>\n      <td>...</td>\n    </tr>\n    <tr>\n      <th>-.8536350E-02  -.8190622E-02  -.7861870E-02  -.7550142E-02  -.7255483E-02</th>\n      <th>NaN</th>\n      <th>NaN</th>\n      <td>NaN</td>\n    </tr>\n    <tr>\n      <th>-.6977935E-02  -.6717539E-02  -.6474333E-02  -.6248351E-02  -.6039628E-02</th>\n      <th>NaN</th>\n      <th>NaN</th>\n      <td>NaN</td>\n    </tr>\n    <tr>\n      <th>-.5848194E-02  -.5674080E-02  -.5517313E-02  -.5377919E-02  -.5255924E-02</th>\n      <th>NaN</th>\n      <th>NaN</th>\n      <td>NaN</td>\n    </tr>\n    <tr>\n      <th>-.5151350E-02  -.5064219E-02  -.4994552E-02  -.4942369E-02  -.4907687E-02</th>\n      <th>NaN</th>\n      <th>NaN</th>\n      <td>NaN</td>\n    </tr>\n    <tr>\n      <th>-.4890525E-02  -.4890900E-02</th>\n      <th>NaN</th>\n      <th>NaN</th>\n      <td>NaN</td>\n    </tr>\n  </tbody>\n</table>\n<p>1078 rows × 1 columns</p>\n</div>"
     },
     "execution_count": 4,
     "metadata": {},
     "output_type": "execute_result"
    }
   ],
   "source": [
    "data.iloc[]"
   ],
   "metadata": {
    "collapsed": false,
    "ExecuteTime": {
     "end_time": "2024-03-03T14:23:23.568286400Z",
     "start_time": "2024-03-03T14:23:23.402552700Z"
    }
   },
   "id": "7d7e9ee7f5d7c376",
   "execution_count": 4
  },
  {
   "cell_type": "code",
   "outputs": [],
   "source": [],
   "metadata": {
    "collapsed": false
   },
   "id": "6e51274ce75b8045"
  }
 ],
 "metadata": {
  "kernelspec": {
   "display_name": "Python 3",
   "language": "python",
   "name": "python3"
  },
  "language_info": {
   "codemirror_mode": {
    "name": "ipython",
    "version": 2
   },
   "file_extension": ".py",
   "mimetype": "text/x-python",
   "name": "python",
   "nbconvert_exporter": "python",
   "pygments_lexer": "ipython2",
   "version": "2.7.6"
  }
 },
 "nbformat": 4,
 "nbformat_minor": 5
}
