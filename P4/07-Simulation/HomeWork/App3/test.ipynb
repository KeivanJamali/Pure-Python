{
 "cells": [
  {
   "cell_type": "code",
   "execution_count": 135,
   "id": "efe5ac13",
   "metadata": {},
   "outputs": [
    {
     "name": "stdout",
     "output_type": "stream",
     "text": [
      "The autoreload extension is already loaded. To reload it, use:\n",
      "  %reload_ext autoreload\n"
     ]
    }
   ],
   "source": [
    "%load_ext autoreload\n",
    "%autoreload 2"
   ]
  },
  {
   "cell_type": "code",
   "execution_count": 133,
   "id": "6d228744",
   "metadata": {},
   "outputs": [],
   "source": [
    "from modular.random_generator import Expo_Gen, Deterministic_Gen\n",
    "from modular.number_generator import Exponential_Generator\n",
    "from modular.Engine import Queue"
   ]
  },
  {
   "cell_type": "code",
   "execution_count": 147,
   "id": "329bc83b",
   "metadata": {},
   "outputs": [],
   "source": [
    "expo_obj1 = Expo_Gen(mean=5, seed=42)\n",
    "expo_obj2 = Expo_Gen(mean=4, seed=42)\n",
    "dete_obj = Deterministic_Gen(mean=4, seed=42)"
   ]
  },
  {
   "cell_type": "code",
   "execution_count": 148,
   "id": "90938d1d",
   "metadata": {},
   "outputs": [],
   "source": [
    "expo_obj1 = Exponential_Generator(seed=2062615503, mean=5)\n",
    "expo_obj2 = Exponential_Generator(seed=1383670351, mean=4)\n"
   ]
  },
  {
   "cell_type": "code",
   "execution_count": 149,
   "id": "89b7fdfe",
   "metadata": {},
   "outputs": [
    {
     "name": "stdout",
     "output_type": "stream",
     "text": [
      "[INFO] Starting the simulation...\n",
      "[Success] Finished at time 1000 (next_event=1004.5386779517884)\n",
      "184\n",
      "\n",
      "----- Simulation Report/summary -----\n",
      "Total done customers: 210\n",
      "Total arrived customers: 210\n",
      "Average wait time in queue: 26.40\n",
      "Average length of queue: 5.5\n",
      "Server utilization: 90.56%\n",
      "Percent of customers who waited more than 4.5min: 87.62%\n",
      "Simulation ended at time: 1004.54\n",
      "-------------------------------------\n"
     ]
    }
   ],
   "source": [
    "model1 = Queue(interval_gen=expo_obj1, service_time_gen=expo_obj2)\n",
    "model1.run(queue_type=\"FCFS\", time_limit=1000, customer_limit=1000)\n",
    "model1.analysis()\n",
    "model1.summary()"
   ]
  },
  {
   "cell_type": "code",
   "execution_count": null,
   "id": "c2fc2be2",
   "metadata": {},
   "outputs": [],
   "source": []
  }
 ],
 "metadata": {
  "kernelspec": {
   "display_name": "Python 3",
   "language": "python",
   "name": "python3"
  },
  "language_info": {
   "codemirror_mode": {
    "name": "ipython",
    "version": 3
   },
   "file_extension": ".py",
   "mimetype": "text/x-python",
   "name": "python",
   "nbconvert_exporter": "python",
   "pygments_lexer": "ipython3",
   "version": "3.11.5"
  }
 },
 "nbformat": 4,
 "nbformat_minor": 5
}
