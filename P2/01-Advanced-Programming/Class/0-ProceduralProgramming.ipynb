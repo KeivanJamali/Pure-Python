{
 "cells": [
  {
   "cell_type": "markdown",
   "metadata": {},
   "source": [
    "<span style=\"font-size: 36px; font-weight: bold; color:#4c95ad\">Procedural Programming</span>"
   ]
  },
  {
   "cell_type": "markdown",
   "metadata": {},
   "source": [
    "A common programming paradigm is procedural programming, which structures a program like a recipe in that it provides a set of steps, in the form of <font color='red'>functions and code blocks</font>, that flow sequentially in order to complete a task.\n"
   ]
  },
  {
   "cell_type": "markdown",
   "metadata": {},
   "source": [
    "<div style=\"width:800px; height:400px;\">\n",
    "    <img src=\"image-3.png\" style=\"width:100%; height:100%;\">\n",
    "</div>"
   ]
  },
  {
   "cell_type": "markdown",
   "metadata": {},
   "source": [
    "**Accounting**:\n",
    "A simplistic banking system where accounts and their respective balances are stored in a global list named accounts. </br>\n",
    "The code contains five main functions: \n",
    "- create_account\n",
    "- get_account\n",
    "- deposit\n",
    "- withdraws\n",
    "- transfer"
   ]
  },
  {
   "cell_type": "code",
   "execution_count": 1,
   "metadata": {},
   "outputs": [
    {
     "name": "stdout",
     "output_type": "stream",
     "text": [
      "Withdraw Bob 100\n",
      "Deposit Joe 100\n",
      "[{'name': 'Bob', 'balance': 100}, {'name': 'Joe', 'balance': 600}]\n"
     ]
    }
   ],
   "source": [
    "accounts=[]\n",
    "\n",
    "def create_account(name,balance=500):\n",
    "    accounts.append({'name':name,'balance':balance})\n",
    "    return accounts[-1]\n",
    "\n",
    "def get_account(name):\n",
    "    for acn in accounts:\n",
    "        if acn['name']==name:\n",
    "            return acn\n",
    "\n",
    "def deposit(name,amount):\n",
    "    print(\"Deposit \"+name+\" \"+str(amount))\n",
    "    acn=get_account(name)\n",
    "    acn['balance']+=amount\n",
    "\n",
    "def withdraws(name,amount):\n",
    "    print(\"Withdraw \"+name+\" \"+str(amount))\n",
    "\n",
    "    acn=get_account(name)\n",
    "    acn['balance']-=amount\n",
    "\n",
    "\n",
    "def transfer(payer_name,reciever_name,amount):\n",
    "    withdraws(payer_name,amount)\n",
    "    deposit(reciever_name,amount)\n",
    "\n",
    "create_account(\"Bob\",200)\n",
    "create_account(\"Joe\",500)\n",
    "transfer(\"Bob\",\"Joe\",100)\n",
    "print(accounts)\n"
   ]
  },
  {
   "cell_type": "code",
   "execution_count": 6,
   "metadata": {},
   "outputs": [
    {
     "name": "stdout",
     "output_type": "stream",
     "text": [
      "[{'name': 'Bob', 'balance': 2000}, {'name': 'Joe', 'balance': 600}]\n"
     ]
    }
   ],
   "source": [
    "accounts[0][\"balance\"]=2000\n",
    "print(accounts)"
   ]
  },
  {
   "cell_type": "markdown",
   "metadata": {},
   "source": [
    "<span style=\"font-size: 30px; font-weight: bold; color:#4c95ad\">Some Issues:</span>"
   ]
  },
  {
   "cell_type": "markdown",
   "metadata": {},
   "source": [
    "<div style=\"width:500px; height:400px;\">\n",
    "    <img src=\"image-2.png\" style=\"width:100%; height:100%;\">\n",
    "</div>"
   ]
  },
  {
   "cell_type": "markdown",
   "metadata": {},
   "source": [
    "\n",
    "\n",
    "**The data is exposed**: The data is exposed to the whole program, making it not so much security friendly.\n",
    "- Validation: Methods can include validation logic to ensure that only valid data is assigned to the attributes, thus maintaining data integrity.\n",
    "\n",
    "- Encapsulation: Using methods to change internal data allows for better encapsulation, as the internal data structure can be changed without affecting the external interface of the class.\n",
    "- Event Handling: Methods can trigger additional actions like logging, notifications, or other side-effects when data is changed, which would not be straightforward to implement when directly modifying attributes.\n",
    "- Consistency: Methods can maintain consistency between different attributes. For example, if one attribute depends on another, a method can update both in a single, atomic operation(Circle's area and radius).\n",
    "- Controlled Access: Methods can enforce read-only or write-only access to attributes, providing more control over how an object’s data can be interacted with.\n",
    "\n",
    "\n",
    "\n",
    "**Prioritizing operations over data**: Procedural programming values sequential functions and operations over actual data. This means it may not be the best programming language for projects that involve data-sensitive materials.\n",
    "\n",
    "**Difficult to relate with real-world objects**: Objects are more tangible than processes.\n"
   ]
  },
  {
   "cell_type": "markdown",
   "metadata": {},
   "source": [
    "<span style=\"font-size: 30px; font-weight: bold; color:#4c95ad\">1,000 flat functions???</span>\n",
    "</br>\n",
    "**What would happen if a Python file contained 1,000 flat functions?**\n",
    "</br>\n",
    "Navigating through 1,000 methods in a single file substantially increases the **cognitive load**. Programmers would have a harder time understanding the structure, finding specific methods, and reasoning about the code. This hinders maintainability and makes the codebase more error-prone.\n"
   ]
  },
  {
   "cell_type": "markdown",
   "metadata": {},
   "source": [
    "<span style=\"font-size: 24px; font-weight: bold; color:#4c95ad\">Hierarchy VS Flat</span>"
   ]
  },
  {
   "cell_type": "markdown",
   "metadata": {},
   "source": [
    "![Alt text](image-6.png)"
   ]
  },
  {
   "cell_type": "markdown",
   "metadata": {},
   "source": [
    "- **Chunking**: Hierarchical structures allow for \"chunking\" of information, grouping related items together. This reduces the number of discrete elements to remember.\n",
    "\n",
    "- **Contextual Cues**: Hierarchies provide a context for each item, aiding in memory retrieval. Knowing an item's position within a hierarchy can serve as a memory cue.\n",
    "\n",
    "- **Simplifies Complexity**: Hierarchies break down complex systems into nested sub-systems, making them easier to understand and remember.\n",
    "\n",
    "- **Reduction in Cognitive Load**: Hierarchies help to limit the amount of new information that needs to be processed at once, reducing cognitive load.\n",
    "\n",
    "- **Mental Models**: Hierarchical organization **aligns** well with existing mental models, making it easier for individuals to integrate new information.\n",
    "\n",
    "- **Sequential Learning**: Hierarchies often enable a step-by-step approach to learning, which is generally easier than trying to understand a flat structure in one go."
   ]
  },
  {
   "cell_type": "markdown",
   "metadata": {},
   "source": [
    "<span style=\"font-size: 24px; font-weight: bold; color:#4c95ad\">Procedural Programming Disadvantages:</span></br>\n",
    "- **Chunking**: Procedural programming often lacks the encapsulation and abstraction mechanisms that enable easy chunking of related functionalities, making it harder to mentally organize the code.\n",
    "\n",
    "- **Contextual Cues**: Without object-oriented or functional abstractions, procedural code offers fewer contextual cues. This can make it more difficult to understand the role and behavior of a particular piece of code within the overall program.\n",
    "\n",
    "- **Simplifies Complexity**: Procedural programs, when poorly structured, can become monolithic and challenging to divide into simpler, nested sub-problems, thereby increasing complexity.\n",
    "\n",
    "- **Reduction in Cognitive Load**: Having all functions and procedures in a flat structure can overwhelm programmers, increasing cognitive load due to the lack of organization.\n",
    "\n",
    "- **Mental Models**: A lack of higher-level abstractions can conflict with existing mental models that favor organization and categorization, making the codebase harder to internalize.\n",
    "\n",
    "- **Sequential Learning**: Procedural code does not naturally lend itself to a step-by-step or hierarchical learning approach. Understanding a function might require understanding the entire program flow, complicating the learning process."
   ]
  }
 ],
 "metadata": {
  "kernelspec": {
   "display_name": "base",
   "language": "python",
   "name": "python3"
  },
  "language_info": {
   "codemirror_mode": {
    "name": "ipython",
    "version": 3
   },
   "file_extension": ".py",
   "mimetype": "text/x-python",
   "name": "python",
   "nbconvert_exporter": "python",
   "pygments_lexer": "ipython3",
   "version": "3.9.5"
  },
  "orig_nbformat": 4
 },
 "nbformat": 4,
 "nbformat_minor": 2
}
