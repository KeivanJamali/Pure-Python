{
 "cells": [
  {
   "cell_type": "code",
   "execution_count": 1,
   "metadata": {},
   "outputs": [],
   "source": [
    "import ee\n",
    "import geemap"
   ]
  },
  {
   "cell_type": "code",
   "execution_count": 2,
   "metadata": {},
   "outputs": [
    {
     "data": {
      "text/html": [
       "\n",
       "            <style>\n",
       "                .geemap-dark {\n",
       "                    --jp-widgets-color: white;\n",
       "                    --jp-widgets-label-color: white;\n",
       "                    --jp-ui-font-color1: white;\n",
       "                    --jp-layout-color2: #454545;\n",
       "                    background-color: #383838;\n",
       "                }\n",
       "\n",
       "                .geemap-dark .jupyter-button {\n",
       "                    --jp-layout-color3: #383838;\n",
       "                }\n",
       "\n",
       "                .geemap-colab {\n",
       "                    background-color: var(--colab-primary-surface-color, white);\n",
       "                }\n",
       "\n",
       "                .geemap-colab .jupyter-button {\n",
       "                    --jp-layout-color3: var(--colab-primary-surface-color, white);\n",
       "                }\n",
       "            </style>\n",
       "            "
      ],
      "text/plain": [
       "<IPython.core.display.HTML object>"
      ]
     },
     "metadata": {},
     "output_type": "display_data"
    },
    {
     "data": {
      "text/html": [
       "<p>To authorize access needed by Earth Engine, open the following\n",
       "        URL in a web browser and follow the instructions:</p>\n",
       "        <p><a href=https://code.earthengine.google.com/client-auth?scopes=https%3A//www.googleapis.com/auth/earthengine%20https%3A//www.googleapis.com/auth/cloud-platform%20https%3A//www.googleapis.com/auth/devstorage.full_control&request_id=kFvevffKUoXzDY8l5AAjwClD49d3K56fXFxdZ2g4l-4&tc=fZHm61qoy1fcKWiKWXuwZsICKfjMCfDfzUqrHoNiOOk&cc=5XOJmBCgjsEME7C04EAgERD1dDvPiuDqVOIhKAFNyGw>https://code.earthengine.google.com/client-auth?scopes=https%3A//www.googleapis.com/auth/earthengine%20https%3A//www.googleapis.com/auth/cloud-platform%20https%3A//www.googleapis.com/auth/devstorage.full_control&request_id=kFvevffKUoXzDY8l5AAjwClD49d3K56fXFxdZ2g4l-4&tc=fZHm61qoy1fcKWiKWXuwZsICKfjMCfDfzUqrHoNiOOk&cc=5XOJmBCgjsEME7C04EAgERD1dDvPiuDqVOIhKAFNyGw</a></p>\n",
       "        <p>The authorization workflow will generate a code, which you should paste in the box below.</p>\n",
       "        "
      ],
      "text/plain": [
       "<IPython.core.display.HTML object>"
      ]
     },
     "metadata": {},
     "output_type": "display_data"
    },
    {
     "name": "stdout",
     "output_type": "stream",
     "text": [
      "\n",
      "Successfully saved authorization token.\n"
     ]
    }
   ],
   "source": [
    "ee.Authenticate()\n"
   ]
  },
  {
   "cell_type": "code",
   "execution_count": 3,
   "metadata": {},
   "outputs": [
    {
     "data": {
      "text/html": [
       "\n",
       "            <style>\n",
       "                .geemap-dark {\n",
       "                    --jp-widgets-color: white;\n",
       "                    --jp-widgets-label-color: white;\n",
       "                    --jp-ui-font-color1: white;\n",
       "                    --jp-layout-color2: #454545;\n",
       "                    background-color: #383838;\n",
       "                }\n",
       "\n",
       "                .geemap-dark .jupyter-button {\n",
       "                    --jp-layout-color3: #383838;\n",
       "                }\n",
       "\n",
       "                .geemap-colab {\n",
       "                    background-color: var(--colab-primary-surface-color, white);\n",
       "                }\n",
       "\n",
       "                .geemap-colab .jupyter-button {\n",
       "                    --jp-layout-color3: var(--colab-primary-surface-color, white);\n",
       "                }\n",
       "            </style>\n",
       "            "
      ],
      "text/plain": [
       "<IPython.core.display.HTML object>"
      ]
     },
     "metadata": {},
     "output_type": "display_data"
    }
   ],
   "source": [
    "ee.Initialize()"
   ]
  },
  {
   "cell_type": "code",
   "execution_count": 4,
   "metadata": {},
   "outputs": [
    {
     "data": {
      "text/html": [
       "\n",
       "            <style>\n",
       "                .geemap-dark {\n",
       "                    --jp-widgets-color: white;\n",
       "                    --jp-widgets-label-color: white;\n",
       "                    --jp-ui-font-color1: white;\n",
       "                    --jp-layout-color2: #454545;\n",
       "                    background-color: #383838;\n",
       "                }\n",
       "\n",
       "                .geemap-dark .jupyter-button {\n",
       "                    --jp-layout-color3: #383838;\n",
       "                }\n",
       "\n",
       "                .geemap-colab {\n",
       "                    background-color: var(--colab-primary-surface-color, white);\n",
       "                }\n",
       "\n",
       "                .geemap-colab .jupyter-button {\n",
       "                    --jp-layout-color3: var(--colab-primary-surface-color, white);\n",
       "                }\n",
       "            </style>\n",
       "            "
      ],
      "text/plain": [
       "<IPython.core.display.HTML object>"
      ]
     },
     "metadata": {},
     "output_type": "display_data"
    },
    {
     "data": {
      "application/vnd.jupyter.widget-view+json": {
       "model_id": "78c20a37b8d44c47af9bd6d735f328d5",
       "version_major": 2,
       "version_minor": 0
      },
      "text/plain": [
       "Map(center=[0, 0], controls=(WidgetControl(options=['position', 'transparent_bg'], widget=SearchDataGUI(childr…"
      ]
     },
     "execution_count": 4,
     "metadata": {},
     "output_type": "execute_result"
    }
   ],
   "source": [
    "Map = geemap.Map()\n",
    "Map"
   ]
  },
  {
   "cell_type": "code",
   "execution_count": 5,
   "metadata": {},
   "outputs": [
    {
     "data": {
      "text/html": [
       "\n",
       "            <style>\n",
       "                .geemap-dark {\n",
       "                    --jp-widgets-color: white;\n",
       "                    --jp-widgets-label-color: white;\n",
       "                    --jp-ui-font-color1: white;\n",
       "                    --jp-layout-color2: #454545;\n",
       "                    background-color: #383838;\n",
       "                }\n",
       "\n",
       "                .geemap-dark .jupyter-button {\n",
       "                    --jp-layout-color3: #383838;\n",
       "                }\n",
       "\n",
       "                .geemap-colab {\n",
       "                    background-color: var(--colab-primary-surface-color, white);\n",
       "                }\n",
       "\n",
       "                .geemap-colab .jupyter-button {\n",
       "                    --jp-layout-color3: var(--colab-primary-surface-color, white);\n",
       "                }\n",
       "            </style>\n",
       "            "
      ],
      "text/plain": [
       "<IPython.core.display.HTML object>"
      ]
     },
     "metadata": {},
     "output_type": "display_data"
    }
   ],
   "source": [
    "Iran = ee.Image(\"KNTU/LiDARLab/IranLandCover/V1\")\n"
   ]
  },
  {
   "cell_type": "code",
   "execution_count": 6,
   "metadata": {},
   "outputs": [
    {
     "data": {
      "text/html": [
       "\n",
       "            <style>\n",
       "                .geemap-dark {\n",
       "                    --jp-widgets-color: white;\n",
       "                    --jp-widgets-label-color: white;\n",
       "                    --jp-ui-font-color1: white;\n",
       "                    --jp-layout-color2: #454545;\n",
       "                    background-color: #383838;\n",
       "                }\n",
       "\n",
       "                .geemap-dark .jupyter-button {\n",
       "                    --jp-layout-color3: #383838;\n",
       "                }\n",
       "\n",
       "                .geemap-colab {\n",
       "                    background-color: var(--colab-primary-surface-color, white);\n",
       "                }\n",
       "\n",
       "                .geemap-colab .jupyter-button {\n",
       "                    --jp-layout-color3: var(--colab-primary-surface-color, white);\n",
       "                }\n",
       "            </style>\n",
       "            "
      ],
      "text/plain": [
       "<IPython.core.display.HTML object>"
      ]
     },
     "metadata": {},
     "output_type": "display_data"
    },
    {
     "data": {
      "application/vnd.jupyter.widget-view+json": {
       "model_id": "78c20a37b8d44c47af9bd6d735f328d5",
       "version_major": 2,
       "version_minor": 0
      },
      "text/plain": [
       "Map(bottom=812.0, center=[32.504078156046454, 54.241512748954854], controls=(WidgetControl(options=['position'…"
      ]
     },
     "execution_count": 6,
     "metadata": {},
     "output_type": "execute_result"
    }
   ],
   "source": [
    "Map.addLayer(Iran, {}, \"Iran\")\n",
    "Map.centerObject(Iran, 8)\n",
    "Map"
   ]
  },
  {
   "cell_type": "code",
   "execution_count": 21,
   "metadata": {},
   "outputs": [
    {
     "data": {
      "text/html": [
       "\n",
       "            <style>\n",
       "                .geemap-dark {\n",
       "                    --jp-widgets-color: white;\n",
       "                    --jp-widgets-label-color: white;\n",
       "                    --jp-ui-font-color1: white;\n",
       "                    --jp-layout-color2: #454545;\n",
       "                    background-color: #383838;\n",
       "                }\n",
       "\n",
       "                .geemap-dark .jupyter-button {\n",
       "                    --jp-layout-color3: #383838;\n",
       "                }\n",
       "\n",
       "                .geemap-colab {\n",
       "                    background-color: var(--colab-primary-surface-color, white);\n",
       "                }\n",
       "\n",
       "                .geemap-colab .jupyter-button {\n",
       "                    --jp-layout-color3: var(--colab-primary-surface-color, white);\n",
       "                }\n",
       "            </style>\n",
       "            "
      ],
      "text/plain": [
       "<IPython.core.display.HTML object>"
      ]
     },
     "metadata": {},
     "output_type": "display_data"
    },
    {
     "name": "stdout",
     "output_type": "stream",
     "text": [
      "Number of images in the collection: 3629\n"
     ]
    },
    {
     "data": {
      "application/vnd.jupyter.widget-view+json": {
       "model_id": "3de7c6088ad84163b3a0601e74d3de38",
       "version_major": 2,
       "version_minor": 0
      },
      "text/plain": [
       "Map(center=[32.55556774616955, 53.675475000000006], controls=(WidgetControl(options=['position', 'transparent_…"
      ]
     },
     "execution_count": 21,
     "metadata": {},
     "output_type": "execute_result"
    }
   ],
   "source": [
    "# Create a map\n",
    "Map = geemap.Map()\n",
    "\n",
    "# Define the region of interest (ROI) as the geometry for Iran\n",
    "iran_geometry = ee.Geometry.Polygon(\n",
    "    [\n",
    "        [\n",
    "            [44.03252, 39.713002],\n",
    "            [63.31843, 39.713002],\n",
    "            [63.31843, 25.078237],\n",
    "            [44.03252, 25.078237]\n",
    "        ]\n",
    "    ]\n",
    ")\n",
    "\n",
    "# Filter the Landsat 8 collection\n",
    "landsat = ee.ImageCollection(\"LANDSAT/LC08/C01/T1_SR\")\\\n",
    "    .filterDate(\"2017-01-01\", \"2018-01-01\")\\\n",
    "    .filterBounds(iran_geometry)\n",
    "\n",
    "# Check if the filtered collection is empty\n",
    "image_count = landsat.size().getInfo()\n",
    "print(f\"Number of images in the collection: {image_count}\")\n",
    "\n",
    "if image_count == 0:\n",
    "    print(\"No images found in the specified date range and region.\")\n",
    "else:\n",
    "    # Create a composite using median reduction\n",
    "    composite = landsat.median()\n",
    "\n",
    "    # Define visualization parameters\n",
    "    rgbVis = {\n",
    "        \"bands\": [\"B4\", \"B3\", \"B2\"],  # True color\n",
    "        \"min\": 0,\n",
    "        \"max\": 3000,  # Adjusted for better contrast\n",
    "        \"gamma\": 1.4\n",
    "    }\n",
    "    # Higher resolution visualization using more bands\n",
    "    enhancedVis = {\n",
    "        \"bands\": [\"B5\", \"B4\", \"B3\"],  # Near-infrared, red, green\n",
    "        \"min\": 0,\n",
    "        \"max\": 3000,  # Adjusted for better contrast\n",
    "        \"gamma\": 1.4\n",
    "    }\n",
    "\n",
    "    # Add the composite image to the map\n",
    "    Map.addLayer(composite, rgbVis, \"Landsat RGB\")\n",
    "    Map.addLayer(composite, enhancedVis, \"Enhanced Landsat\")\n",
    "    \n",
    "    Map.centerObject(iran_geometry, 5)\n",
    "\n",
    "Map"
   ]
  },
  {
   "cell_type": "code",
   "execution_count": 22,
   "metadata": {},
   "outputs": [
    {
     "data": {
      "text/html": [
       "\n",
       "            <style>\n",
       "                .geemap-dark {\n",
       "                    --jp-widgets-color: white;\n",
       "                    --jp-widgets-label-color: white;\n",
       "                    --jp-ui-font-color1: white;\n",
       "                    --jp-layout-color2: #454545;\n",
       "                    background-color: #383838;\n",
       "                }\n",
       "\n",
       "                .geemap-dark .jupyter-button {\n",
       "                    --jp-layout-color3: #383838;\n",
       "                }\n",
       "\n",
       "                .geemap-colab {\n",
       "                    background-color: var(--colab-primary-surface-color, white);\n",
       "                }\n",
       "\n",
       "                .geemap-colab .jupyter-button {\n",
       "                    --jp-layout-color3: var(--colab-primary-surface-color, white);\n",
       "                }\n",
       "            </style>\n",
       "            "
      ],
      "text/plain": [
       "<IPython.core.display.HTML object>"
      ]
     },
     "metadata": {},
     "output_type": "display_data"
    },
    {
     "name": "stdout",
     "output_type": "stream",
     "text": [
      "Number of images in the collection: 19861\n"
     ]
    },
    {
     "data": {
      "application/vnd.jupyter.widget-view+json": {
       "model_id": "d3a36f40a1974f31980d0d74132f7939",
       "version_major": 2,
       "version_minor": 0
      },
      "text/plain": [
       "Map(center=[32.55556774616955, 53.675475000000006], controls=(WidgetControl(options=['position', 'transparent_…"
      ]
     },
     "execution_count": 22,
     "metadata": {},
     "output_type": "execute_result"
    }
   ],
   "source": [
    "import geemap\n",
    "import ee\n",
    "\n",
    "# Initialize the Earth Engine module\n",
    "ee.Initialize()\n",
    "\n",
    "# Create a map\n",
    "Map = geemap.Map()\n",
    "\n",
    "# Define the region of interest (ROI) as the geometry for Iran\n",
    "iran_geometry = ee.Geometry.Polygon(\n",
    "    [\n",
    "        [\n",
    "            [44.03252, 39.713002],\n",
    "            [63.31843, 39.713002],\n",
    "            [63.31843, 25.078237],\n",
    "            [44.03252, 25.078237]\n",
    "        ]\n",
    "    ]\n",
    ")\n",
    "\n",
    "# Filter the Sentinel-2 collection for the specified date range and region\n",
    "sentinel = ee.ImageCollection(\"COPERNICUS/S2\")\\\n",
    "    .filterDate(\"2017-01-01\", \"2018-01-01\")\\\n",
    "    .filterBounds(iran_geometry)\\\n",
    "    .filter(ee.Filter.lt('CLOUDY_PIXEL_PERCENTAGE', 20))  # Filter out images with more than 20% cloud cover\n",
    "\n",
    "# Check if the filtered collection is empty\n",
    "image_count = sentinel.size().getInfo()\n",
    "print(f\"Number of images in the collection: {image_count}\")\n",
    "\n",
    "if image_count == 0:\n",
    "    print(\"No images found in the specified date range and region.\")\n",
    "else:\n",
    "    # Create a composite using median reduction\n",
    "    composite = sentinel.median()\n",
    "\n",
    "    # Define visualization parameters\n",
    "    rgbVis = {\n",
    "        \"bands\": [\"B4\", \"B3\", \"B2\"],  # True color\n",
    "        \"min\": 0,\n",
    "        \"max\": 3000,  # Adjusted for better contrast\n",
    "        \"gamma\": 1.4\n",
    "    }\n",
    "\n",
    "    # Higher resolution visualization using more bands\n",
    "    enhancedVis = {\n",
    "        \"bands\": [\"B8\", \"B4\", \"B3\"],  # Near-infrared, red, green\n",
    "        \"min\": 0,\n",
    "        \"max\": 3000,  # Adjusted for better contrast\n",
    "        \"gamma\": 1.4\n",
    "    }\n",
    "\n",
    "    # Add the composite image to the map with different visualizations\n",
    "    Map.addLayer(composite, rgbVis, \"Sentinel-2 RGB\")\n",
    "    Map.addLayer(composite, enhancedVis, \"Enhanced Sentinel-2\")\n",
    "\n",
    "    # Center the map on Iran\n",
    "    Map.centerObject(iran_geometry, 5)\n",
    "\n",
    "# Display the map\n",
    "Map\n"
   ]
  },
  {
   "cell_type": "markdown",
   "metadata": {},
   "source": []
  }
 ],
 "metadata": {
  "kernelspec": {
   "display_name": "Python 3",
   "language": "python",
   "name": "python3"
  },
  "language_info": {
   "codemirror_mode": {
    "name": "ipython",
    "version": 3
   },
   "file_extension": ".py",
   "mimetype": "text/x-python",
   "name": "python",
   "nbconvert_exporter": "python",
   "pygments_lexer": "ipython3",
   "version": "3.12.2"
  }
 },
 "nbformat": 4,
 "nbformat_minor": 2
}
