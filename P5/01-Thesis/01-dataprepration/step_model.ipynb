{
 "cells": [
  {
   "cell_type": "code",
   "execution_count": 15,
   "id": "f4cf906c",
   "metadata": {},
   "outputs": [
    {
     "name": "stdout",
     "output_type": "stream",
     "text": [
      "The autoreload extension is already loaded. To reload it, use:\n",
      "  %reload_ext autoreload\n"
     ]
    }
   ],
   "source": [
    "%load_ext autoreload\n",
    "%autoreload 2"
   ]
  },
  {
   "cell_type": "code",
   "execution_count": 16,
   "id": "9effe8f9",
   "metadata": {},
   "outputs": [],
   "source": [
    "from DataLoader import MyDataloader\n",
    "from Engine import Engine\n",
    "from Architecture import MainModel, PreModel"
   ]
  },
  {
   "cell_type": "code",
   "execution_count": 17,
   "id": "09ed63db",
   "metadata": {},
   "outputs": [],
   "source": [
    "from pathlib import Path\n",
    "import pandas as pd\n",
    "import torch"
   ]
  },
  {
   "cell_type": "code",
   "execution_count": 37,
   "id": "89d15158",
   "metadata": {},
   "outputs": [],
   "source": [
    "path = Path(r\"/mnt/Data1/Python_Projects/Pure-Python/P5/01-Thesis/data/Shiraze94_en\")\n",
    "data = [pd.read_csv(path/\"activity_chain.csv\"), pd.read_csv(path/\"OD_matrix_area.csv\"), pd.read_csv(path/\"trips.csv\")]\n",
    "seed = 42\n",
    "\n",
    "TRAIN_PERCENT, VAL_PERCENT, TEST_PERCENT = 0.7, 0.15, 0.15\n",
    "BATCH_SIZE = 512\n",
    "dataloader = MyDataloader(data_list=data, \n",
    "                          train_percent=TRAIN_PERCENT,\n",
    "                          val_percent=VAL_PERCENT,\n",
    "                          test_percent=TEST_PERCENT,\n",
    "                          batch_size=BATCH_SIZE,\n",
    "                          seed=seed)\n",
    "\n",
    "train_data, val_data, test_data = dataloader.fit()"
   ]
  },
  {
   "cell_type": "code",
   "execution_count": 38,
   "id": "ab448011",
   "metadata": {},
   "outputs": [
    {
     "name": "stdout",
     "output_type": "stream",
     "text": [
      "torch.Size([512, 10, 5])\n",
      "torch.Size([512, 15])\n",
      "torch.Size([512, 3])\n",
      "torch.Size([512])\n"
     ]
    }
   ],
   "source": [
    "for batch, (x1, x2, x, y) in enumerate(train_data):\n",
    "    print(x1.shape)\n",
    "    print(x2.shape)\n",
    "    print(x.shape)\n",
    "    print(y.shape)\n",
    "    break"
   ]
  },
  {
   "cell_type": "code",
   "execution_count": null,
   "id": "3a4be11a",
   "metadata": {},
   "outputs": [],
   "source": []
  },
  {
   "cell_type": "code",
   "execution_count": null,
   "id": "0cbcc036",
   "metadata": {},
   "outputs": [],
   "source": []
  },
  {
   "cell_type": "code",
   "execution_count": 43,
   "id": "57273ec2",
   "metadata": {},
   "outputs": [
    {
     "data": {
      "application/vnd.jupyter.widget-view+json": {
       "model_id": "48b81110e7b643ad868e74e6c0886d2f",
       "version_major": 2,
       "version_minor": 0
      },
      "text/plain": [
       "  0%|          | 0/1 [00:00<?, ?it/s]"
      ]
     },
     "metadata": {},
     "output_type": "display_data"
    },
    {
     "name": "stdout",
     "output_type": "stream",
     "text": [
      "tensor([[9.9569e+04, 6.9000e+02, 3.0000e+00, 1.0510e+04, 0.0000e+00],\n",
      "        [9.9570e+04, 1.4100e+03, 1.0000e+01, 1.0510e+04, 0.0000e+00],\n",
      "        [0.0000e+00, 0.0000e+00, 0.0000e+00, 1.0510e+04, 0.0000e+00],\n",
      "        [0.0000e+00, 0.0000e+00, 0.0000e+00, 1.0510e+04, 0.0000e+00],\n",
      "        [0.0000e+00, 0.0000e+00, 0.0000e+00, 1.0510e+04, 0.0000e+00],\n",
      "        [0.0000e+00, 0.0000e+00, 0.0000e+00, 1.0510e+04, 0.0000e+00],\n",
      "        [0.0000e+00, 0.0000e+00, 0.0000e+00, 1.0510e+04, 0.0000e+00],\n",
      "        [0.0000e+00, 0.0000e+00, 0.0000e+00, 1.0510e+04, 0.0000e+00],\n",
      "        [0.0000e+00, 0.0000e+00, 0.0000e+00, 1.0510e+04, 0.0000e+00],\n",
      "        [0.0000e+00, 0.0000e+00, 0.0000e+00, 1.0510e+04, 0.0000e+00]],\n",
      "       device='cuda:0')\n",
      "tensor([  0.,  54.,   5.,   0.,   1.,   4., 248.,   4.,   1.,   0.,   0.,   1.,\n",
      "          0.,   0.,   0.], device='cuda:0')\n",
      "tensor([  0.9943,  -2.5724,   2.3995,   3.9012,   0.7128,  -4.9943,  -7.2167,\n",
      "          3.7615,   8.1732,   2.0093,   0.7934,  -1.5773,   2.8083,  -0.7502,\n",
      "         -7.8572,   0.8119,   5.8654, -14.3026,  -1.3616,  -8.4774,  -1.0112,\n",
      "          9.7545,  -3.9959,   0.0541,  -3.0028,  -3.7257,  -1.9093,  -1.3113,\n",
      "          5.0842,  -0.7747,   6.4680,   1.0987], device='cuda:0',\n",
      "       grad_fn=<SelectBackward0>)\n",
      "tensor([[9.3556e+04, 5.1000e+02, 3.0000e+00, 6.1099e+03, 0.0000e+00],\n",
      "        [9.3559e+04, 1.4100e+03, 1.0000e+01, 6.1099e+03, 0.0000e+00],\n",
      "        [0.0000e+00, 0.0000e+00, 0.0000e+00, 6.1099e+03, 0.0000e+00],\n",
      "        [0.0000e+00, 0.0000e+00, 0.0000e+00, 6.1099e+03, 0.0000e+00],\n",
      "        [0.0000e+00, 0.0000e+00, 0.0000e+00, 6.1099e+03, 0.0000e+00],\n",
      "        [0.0000e+00, 0.0000e+00, 0.0000e+00, 6.1099e+03, 0.0000e+00],\n",
      "        [0.0000e+00, 0.0000e+00, 0.0000e+00, 6.1099e+03, 0.0000e+00],\n",
      "        [0.0000e+00, 0.0000e+00, 0.0000e+00, 6.1099e+03, 0.0000e+00],\n",
      "        [0.0000e+00, 0.0000e+00, 0.0000e+00, 6.1099e+03, 0.0000e+00],\n",
      "        [0.0000e+00, 0.0000e+00, 0.0000e+00, 6.1099e+03, 0.0000e+00]],\n",
      "       device='cuda:0')\n",
      "tensor([ 0., 27., 12.,  1.,  1.,  4., 86.,  6.,  2.,  1.,  0.,  1.,  0.,  0.,\n",
      "         0.], device='cuda:0')\n",
      "tensor([nan, nan, nan, nan, nan, nan, nan, nan, nan, nan, nan, nan, nan, nan, nan, nan, nan, nan, nan, nan, nan, nan, nan, nan,\n",
      "        nan, nan, nan, nan, nan, nan, nan, nan], device='cuda:0',\n",
      "       grad_fn=<SelectBackward0>)\n",
      "tensor([[1.2076e+05, 3.3000e+02, 3.0000e+00, 8.2963e+03, 7.0000e+00],\n",
      "        [1.2076e+05, 7.6500e+02, 1.0000e+01, 8.2963e+03, 7.0000e+00],\n",
      "        [1.2076e+05, 9.4500e+02, 3.0000e+00, 8.2963e+03, 7.0000e+00],\n",
      "        [1.2076e+05, 1.2300e+03, 1.0000e+01, 8.2963e+03, 7.0000e+00],\n",
      "        [0.0000e+00, 0.0000e+00, 0.0000e+00, 8.2963e+03, 0.0000e+00],\n",
      "        [0.0000e+00, 0.0000e+00, 0.0000e+00, 8.2963e+03, 0.0000e+00],\n",
      "        [0.0000e+00, 0.0000e+00, 0.0000e+00, 8.2963e+03, 0.0000e+00],\n",
      "        [0.0000e+00, 0.0000e+00, 0.0000e+00, 8.2963e+03, 0.0000e+00],\n",
      "        [0.0000e+00, 0.0000e+00, 0.0000e+00, 8.2963e+03, 0.0000e+00],\n",
      "        [0.0000e+00, 0.0000e+00, 0.0000e+00, 8.2963e+03, 0.0000e+00]],\n",
      "       device='cuda:0')\n",
      "tensor([  0.,  40.,  13.,   1.,   1.,   2., 164.,   5.,   2.,   1.,   1.,   0.,\n",
      "          0.,   0.,   0.], device='cuda:0')\n",
      "tensor([nan, nan, nan, nan, nan, nan, nan, nan, nan, nan, nan, nan, nan, nan, nan, nan, nan, nan, nan, nan, nan, nan, nan, nan,\n",
      "        nan, nan, nan, nan, nan, nan, nan, nan], device='cuda:0',\n",
      "       grad_fn=<SelectBackward0>)\n"
     ]
    },
    {
     "ename": "RuntimeError",
     "evalue": "No active exception to reraise",
     "output_type": "error",
     "traceback": [
      "\u001b[31m---------------------------------------------------------------------------\u001b[39m",
      "\u001b[31mRuntimeError\u001b[39m                              Traceback (most recent call last)",
      "\u001b[36mCell\u001b[39m\u001b[36m \u001b[39m\u001b[32mIn[43]\u001b[39m\u001b[32m, line 34\u001b[39m\n\u001b[32m     25\u001b[39m optimizer_main = torch.optim.Adam(params=main_model.parameters(), lr=LEARNING_RATE)\n\u001b[32m     28\u001b[39m engine = Engine(model=main_model,\n\u001b[32m     29\u001b[39m                 pre_model=pre_model,\n\u001b[32m     30\u001b[39m                 train_dataloader=train_data,\n\u001b[32m     31\u001b[39m                 val_dataloader=val_data,\n\u001b[32m     32\u001b[39m                 test_dataloader=test_data,\n\u001b[32m     33\u001b[39m                 random_seed=\u001b[32m42\u001b[39m)\n\u001b[32m---> \u001b[39m\u001b[32m34\u001b[39m model0_results = \u001b[43mengine\u001b[49m\u001b[43m.\u001b[49m\u001b[43mtrain\u001b[49m\u001b[43m(\u001b[49m\u001b[43mloss_fn\u001b[49m\u001b[43m=\u001b[49m\u001b[43mloss_fn\u001b[49m\u001b[43m,\u001b[49m\n\u001b[32m     35\u001b[39m \u001b[43m                              \u001b[49m\u001b[43moptimizer_pre\u001b[49m\u001b[43m=\u001b[49m\u001b[43moptimizer_pre\u001b[49m\u001b[43m,\u001b[49m\n\u001b[32m     36\u001b[39m \u001b[43m                              \u001b[49m\u001b[43moptimizer_main\u001b[49m\u001b[43m=\u001b[49m\u001b[43moptimizer_main\u001b[49m\u001b[43m,\u001b[49m\n\u001b[32m     37\u001b[39m \u001b[43m                              \u001b[49m\u001b[43mepochs_num\u001b[49m\u001b[43m=\u001b[49m\u001b[43mEPOCHS\u001b[49m\u001b[43m,\u001b[49m\n\u001b[32m     38\u001b[39m \u001b[43m                              \u001b[49m\u001b[43mresolution\u001b[49m\u001b[43m=\u001b[49m\u001b[32;43m1\u001b[39;49m\u001b[43m,\u001b[49m\n\u001b[32m     39\u001b[39m \u001b[43m                              \u001b[49m\u001b[43mdevice\u001b[49m\u001b[43m=\u001b[49m\u001b[33;43m\"\u001b[39;49m\u001b[33;43mcuda\u001b[39;49m\u001b[33;43m\"\u001b[39;49m\u001b[43m)\u001b[49m\n",
      "\u001b[36mFile \u001b[39m\u001b[32m/mnt/Data1/Python_Projects/Pure-Python/P5/01-Thesis/01-dataprepration/Engine.py:140\u001b[39m, in \u001b[36mEngine.train\u001b[39m\u001b[34m(self, loss_fn, optimizer_pre, optimizer_main, epochs_num, device, early_stop_patience, resolution)\u001b[39m\n\u001b[32m    138\u001b[39m \u001b[38;5;28mself\u001b[39m.pre_model.to(device)\n\u001b[32m    139\u001b[39m \u001b[38;5;28;01mfor\u001b[39;00m epoch \u001b[38;5;129;01min\u001b[39;00m tqdm(\u001b[38;5;28mrange\u001b[39m(\u001b[32m1\u001b[39m, epochs_num + \u001b[32m1\u001b[39m)):\n\u001b[32m--> \u001b[39m\u001b[32m140\u001b[39m     train_loss, train_acc, true_predict_list = \u001b[38;5;28;43mself\u001b[39;49m\u001b[43m.\u001b[49m\u001b[43m_train_step\u001b[49m\u001b[43m(\u001b[49m\u001b[43mloss_fn\u001b[49m\u001b[43m=\u001b[49m\u001b[43mloss_fn\u001b[49m\u001b[43m,\u001b[49m\u001b[43m \u001b[49m\u001b[43moptimizer_pre\u001b[49m\u001b[43m=\u001b[49m\u001b[43moptimizer_pre\u001b[49m\u001b[43m,\u001b[49m\u001b[43m \u001b[49m\u001b[43moptimizer_main\u001b[49m\u001b[43m=\u001b[49m\u001b[43moptimizer_main\u001b[49m\u001b[43m)\u001b[49m\n\u001b[32m    141\u001b[39m     train_true_predict_list[\u001b[33m\"\u001b[39m\u001b[33mtrue\u001b[39m\u001b[33m\"\u001b[39m].append(true_predict_list[\u001b[33m\"\u001b[39m\u001b[33mtrue\u001b[39m\u001b[33m\"\u001b[39m])\n\u001b[32m    142\u001b[39m     train_true_predict_list[\u001b[33m\"\u001b[39m\u001b[33mpredict\u001b[39m\u001b[33m\"\u001b[39m].append(true_predict_list[\u001b[33m\"\u001b[39m\u001b[33mpredict\u001b[39m\u001b[33m\"\u001b[39m])\n",
      "\u001b[36mFile \u001b[39m\u001b[32m<string>:25\u001b[39m, in \u001b[36m_train_step\u001b[39m\u001b[34m(self, loss_fn, optimizer_pre, optimizer_main)\u001b[39m\n",
      "\u001b[31mRuntimeError\u001b[39m: No active exception to reraise"
     ]
    }
   ],
   "source": [
    "torch.manual_seed(seed)\n",
    "torch.cuda.manual_seed(seed)\n",
    "\n",
    "x1_dim = 5\n",
    "x2_dim = 15\n",
    "x_dim = 3\n",
    "EPOCHS = 1\n",
    "LEARNING_RATE = 0.001\n",
    "\n",
    "pre_model = PreModel(x1_dim=x1_dim,\n",
    "                     x2_dim=x2_dim,\n",
    "                     d_model=64,\n",
    "                     nhead=4,\n",
    "                     num_layers=2,\n",
    "                     mlp_hidden=64,\n",
    "                     out_dim=32)\n",
    "\n",
    "main_model = MainModel(z_dim=32,\n",
    "                       x_dim=x_dim,\n",
    "                       hidden1=32,\n",
    "                       hidden2=32)\n",
    "\n",
    "loss_fn = torch.nn.BCEWithLogitsLoss()\n",
    "optimizer_pre = torch.optim.Adam(params=pre_model.parameters(), lr=LEARNING_RATE)\n",
    "optimizer_main = torch.optim.Adam(params=main_model.parameters(), lr=LEARNING_RATE)\n",
    "\n",
    "\n",
    "engine = Engine(model=main_model,\n",
    "                pre_model=pre_model,\n",
    "                train_dataloader=train_data,\n",
    "                val_dataloader=val_data,\n",
    "                test_dataloader=test_data,\n",
    "                random_seed=42)\n",
    "model0_results = engine.train(loss_fn=loss_fn,\n",
    "                              optimizer_pre=optimizer_pre,\n",
    "                              optimizer_main=optimizer_main,\n",
    "                              epochs_num=EPOCHS,\n",
    "                              resolution=1,\n",
    "                              device=\"cuda\")"
   ]
  },
  {
   "cell_type": "code",
   "execution_count": null,
   "id": "d06bcf08",
   "metadata": {},
   "outputs": [],
   "source": []
  }
 ],
 "metadata": {
  "kernelspec": {
   "display_name": "Python 3",
   "language": "python",
   "name": "python3"
  },
  "language_info": {
   "codemirror_mode": {
    "name": "ipython",
    "version": 3
   },
   "file_extension": ".py",
   "mimetype": "text/x-python",
   "name": "python",
   "nbconvert_exporter": "python",
   "pygments_lexer": "ipython3",
   "version": "3.13.5"
  }
 },
 "nbformat": 4,
 "nbformat_minor": 5
}
