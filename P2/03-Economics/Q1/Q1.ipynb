{
 "cells": [
  {
   "cell_type": "code",
   "execution_count": 4,
   "id": "initial_id",
   "metadata": {
    "collapsed": true,
    "ExecuteTime": {
     "end_time": "2023-11-14T05:10:29.303425500Z",
     "start_time": "2023-11-14T05:10:29.131765600Z"
    }
   },
   "outputs": [
    {
     "name": "stdout",
     "output_type": "stream",
     "text": [
      "The autoreload extension is already loaded. To reload it, use:\n",
      "  %reload_ext autoreload\n",
      "Question 1: NPW = 342.2147832279493\n",
      "Question 2: X is equal to 55.69502387983083 and Y is equal to 36.919272778412015\n",
      "Question 3: part1: 5470.248554805632 | part2: A3=-156.2534515277702, A4=-179.69146925693573 | part3: A3=-128.5287549151345, A4=-147.80806815240467\n",
      "Question 4: part1: NPW=158.15735388169014 | part2: NPW=149.11645339994118 | part3: NPW=148.24741950878627 | part4: NPW=186.9386805747331\n"
     ]
    }
   ],
   "source": [
    "%load_ext autoreload\n",
    "%autoreload 2\n",
    "import Primary_Eco as pe\n",
    "import Continuous_Eco as ce\n",
    "\n",
    "# S1\n",
    "i = 0.15\n",
    "NPW = -100 - 100 * pe.p_a(i, 3) + 200 * pe.p_a(i, 3) * pe.p_f(i, 3) + 300 * pe.p_a(i, 4) * pe.p_f(i, 6)\n",
    "print(f\"Question 1: NPW = {NPW}\")\n",
    "\n",
    "# S2\n",
    "i = 0.1\n",
    "NPW_t2 = -100 + 100 * pe.p_a(i, 2) + 200 * pe.p_a(i, 2) * pe.p_f(i, 2) + 300 * pe.p_a(i, 2) * pe.p_f(i, 4)\n",
    "\n",
    "y = 1\n",
    "NPW_t1 = y + (2 * y + y * pe.a_g(i, 6)) * pe.p_a(i, 6)\n",
    "pe.a_g(i, 6), pe.p_a(i, 6)\n",
    "Y = NPW_t2 / NPW_t1\n",
    "\n",
    "x = 1\n",
    "NPW_t3_plus_200 = (6 * x - x * pe.a_g(i, 6)) * pe.p_a(i, 6)\n",
    "X = (NPW_t2 + 200) / NPW_t3_plus_200\n",
    "print(f\"Question 2: X is equal to {X} and Y is equal to {Y}\")\n",
    "\n",
    "# S3\n",
    "i = 0.10\n",
    "j = 0.15\n",
    "# a\n",
    "a1 = (900 + 300 * (pe.a_g(i, 5))) * pe.p_a(i, 5)\n",
    "# b\n",
    "NPW_without_A3 = -1000 - 1000 * pe.p_f(i, 1) + a1 * pe.p_f(i, 8)\n",
    "NPW_A3 = pe.p_a1(i, j, 5) * pe.p_f(i, 2)\n",
    "A3 = -NPW_without_A3 / NPW_A3\n",
    "A4 = A3 * 1.15\n",
    "# c\n",
    "ie = ce.ie(i)\n",
    "a1_3 = (900 + 300 * (pe.a_g(ie, 5))) * pe.p_a(ie, 5)\n",
    "NPW_without_A3_3 = -1000 - 1000 * pe.p_f(ie, 1) + a1_3 * pe.p_f(ie, 8)\n",
    "NPW_A3_3 = pe.p_a1(ie, j, 5) * pe.p_f(ie, 2)\n",
    "A3_3 = -NPW_without_A3_3 / NPW_A3_3\n",
    "A4_3 = A3_3 * 1.15\n",
    "print(f\"Question 3: part1: {a1} | part2: A3={A3}, A4={A4} | part3: A3={A3_3}, A4={A4_3}\")\n",
    "\n",
    "# S4\n",
    "i = 0.1\n",
    "# a\n",
    "NPW_1 = -600 + 200 * pe.p_a(i, 5)\n",
    "# b\n",
    "ie = pe.ie(i, 12)\n",
    "NPW_2 = -600 + 200 * pe.p_a(ie, 5)\n",
    "# c\n",
    "ie = ce.ie(i)\n",
    "NPW_3 = -600 + 200 * pe.p_a(ie, 5)\n",
    "# d\n",
    "NPW_4 = -600 + 200 * ce.p_abar(i, 5)\n",
    "print(f\"Question 4: part1: NPW={NPW_1} | part2: NPW={NPW_2} | part3: NPW={NPW_3} | part4: NPW={NPW_4}\")"
   ]
  },
  {
   "cell_type": "code",
   "execution_count": null,
   "outputs": [],
   "source": [
    "def pe_p_a(i: float, n: int, a: float = None) -> float:\n",
    "    \"\"\"produce p from a\"\"\"\n",
    "    if a:\n",
    "        return a * (((1 + i) ** n - 1) / ((1 + i) ** n * i))\n",
    "    else:\n",
    "        return ((1 + i) ** n - 1) / ((1 + i) ** n * i)\n",
    "\n",
    "\n",
    "def pe_p_f(i: float, n: int, f: float = None) -> float:\n",
    "    \"\"\"produce p from f\"\"\"\n",
    "    if f:\n",
    "        return f * (1 / (1 + i) ** n)\n",
    "    else:\n",
    "        return 1 / (1 + i) ** n\n",
    "\n",
    "\n",
    "def pe_a_g(i: float, n: int, g: float = None) -> float:\n",
    "    \"\"\"produce a from g\"\"\"\n",
    "    if g:\n",
    "        return g * ((1 / i) - (n / (((1 + i) ** n) - 1)))\n",
    "    else:\n",
    "        return (1 / i) - (n / (((1 + i) ** n) - 1))"
   ],
   "metadata": {
    "collapsed": false
   },
   "id": "8107c7353e8bb18d"
  }
 ],
 "metadata": {
  "kernelspec": {
   "display_name": "Python 3",
   "language": "python",
   "name": "python3"
  },
  "language_info": {
   "codemirror_mode": {
    "name": "ipython",
    "version": 2
   },
   "file_extension": ".py",
   "mimetype": "text/x-python",
   "name": "python",
   "nbconvert_exporter": "python",
   "pygments_lexer": "ipython2",
   "version": "2.7.6"
  }
 },
 "nbformat": 4,
 "nbformat_minor": 5
}
