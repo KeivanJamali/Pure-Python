{
 "cells": [
  {
   "attachments": {},
   "cell_type": "markdown",
   "metadata": {},
   "source": [
    "## **Abstract class**\n",
    "- An abstract class can be considered as a blueprint for other classes.\n",
    "- It allows you to create a set of methods that **must be created** within any child classes built from the abstract class. \n",
    "- A class which contains one or more abstract methods is called an abstract class. An **abstract method** is a method that has a declaration but does not have an implementation.\n",
    "- When we want to provide a common interface for different implementations of a component, we use an abstract class. "
   ]
  },
  {
   "attachments": {},
   "cell_type": "markdown",
   "metadata": {},
   "source": [
    "**Why use Abstract Base Classes :**\n",
    "This capability is especially useful in situations where a third-party is going to **provide implementations**, such as with plugins."
   ]
  },
  {
   "attachments": {},
   "cell_type": "markdown",
   "metadata": {},
   "source": [
    "- Python comes with a module that provides the base for defining Abstract Base classes(ABC) and that module name is ABC. \n",
    "-  A method becomes abstract when decorated with the keyword @abstractmethod."
   ]
  },
  {
   "cell_type": "code",
   "execution_count": 2,
   "metadata": {},
   "outputs": [
    {
     "name": "stdout",
     "output_type": "stream",
     "text": [
      "I have 3 sides\n",
      "I have 5 sides\n"
     ]
    },
    {
     "ename": "TypeError",
     "evalue": "Can't instantiate abstract class Hexagon with abstract method noofsides",
     "output_type": "error",
     "traceback": [
      "\u001b[1;31m---------------------------------------------------------------------------\u001b[0m",
      "\u001b[1;31mTypeError\u001b[0m                                 Traceback (most recent call last)",
      "\u001b[1;32md:\\All Python\\Pure-Python\\P2\\01-Advanced-Programming\\Class\\4-Abs_Interface.ipynb Cell 4\u001b[0m line \u001b[0;36m3\n\u001b[0;32m     <a href='vscode-notebook-cell:/d%3A/All%20Python/Pure-Python/P2/01-Advanced-Programming/Class/4-Abs_Interface.ipynb#W3sZmlsZQ%3D%3D?line=31'>32</a>\u001b[0m P \u001b[39m=\u001b[39m Pentagon()\n\u001b[0;32m     <a href='vscode-notebook-cell:/d%3A/All%20Python/Pure-Python/P2/01-Advanced-Programming/Class/4-Abs_Interface.ipynb#W3sZmlsZQ%3D%3D?line=32'>33</a>\u001b[0m P\u001b[39m.\u001b[39mnoofsides()\n\u001b[1;32m---> <a href='vscode-notebook-cell:/d%3A/All%20Python/Pure-Python/P2/01-Advanced-Programming/Class/4-Abs_Interface.ipynb#W3sZmlsZQ%3D%3D?line=34'>35</a>\u001b[0m K \u001b[39m=\u001b[39m Hexagon()\n\u001b[0;32m     <a href='vscode-notebook-cell:/d%3A/All%20Python/Pure-Python/P2/01-Advanced-Programming/Class/4-Abs_Interface.ipynb#W3sZmlsZQ%3D%3D?line=35'>36</a>\u001b[0m K\u001b[39m.\u001b[39mnoofsides()\n",
      "\u001b[1;31mTypeError\u001b[0m: Can't instantiate abstract class Hexagon with abstract method noofsides"
     ]
    }
   ],
   "source": [
    "# Python program showing\n",
    "# abstract base class work\n",
    "\n",
    "from abc import ABC, abstractmethod\n",
    "\n",
    "class Polygon(ABC):\n",
    "\n",
    "\t@abstractmethod\n",
    "\tdef noofsides(self):\n",
    "\t\tpass\n",
    "\n",
    "class Triangle(Polygon):\n",
    "\n",
    "\t# overriding abstract method\n",
    "\tdef noofsides(self):\n",
    "\t\tprint(\"I have 3 sides\")\n",
    "\n",
    "class Pentagon(Polygon):\n",
    "\n",
    "\t# overriding abstract method\n",
    "\tdef noofsides(self):\n",
    "\t\tprint(\"I have 5 sides\")\n",
    "\n",
    "class Hexagon(Polygon):\n",
    "    pass\n",
    "\n",
    "\n",
    "# Driver code\n",
    "R = Triangle()\n",
    "R.noofsides()\n",
    "\n",
    "P = Pentagon()\n",
    "P.noofsides()\n",
    "\n",
    "K = Hexagon()\n",
    "K.noofsides()\n"
   ]
  },
  {
   "cell_type": "code",
   "execution_count": 5,
   "metadata": {},
   "outputs": [
    {
     "name": "stdout",
     "output_type": "stream",
     "text": [
      "I have 3 sides\n",
      "I have 4 sides\n",
      "I have 5 sides\n",
      "I have 6 sides\n"
     ]
    }
   ],
   "source": [
    "# Python program showing\n",
    "# abstract base class work\n",
    "\n",
    "from abc import ABC, abstractmethod\n",
    "\n",
    "class Polygon(ABC):\n",
    "\n",
    "\t@abstractmethod\n",
    "\tdef noofsides(self):\n",
    "\t\tpass\n",
    "\n",
    "class Triangle(Polygon):\n",
    "\n",
    "\t# overriding abstract method\n",
    "\tdef noofsides(self):\n",
    "\t\tprint(\"I have 3 sides\")\n",
    "\n",
    "class Pentagon(Polygon):\n",
    "\n",
    "\t# overriding abstract method\n",
    "\tdef noofsides(self):\n",
    "\t\tprint(\"I have 5 sides\")\n",
    "\n",
    "class Hexagon(Polygon):\n",
    "\n",
    "\t# overriding abstract method\n",
    "\tdef noofsides(self):\n",
    "\t\tprint(\"I have 6 sides\")\n",
    "\n",
    "class Quadrilateral(Polygon):\n",
    "\n",
    "\t# overriding abstract method\n",
    "\tdef noofsides(self):\n",
    "\t\tprint(\"I have 4 sides\")\n",
    "\n",
    "# Driver code\n",
    "R = Triangle()\n",
    "R.noofsides()\n",
    "\n",
    "K = Quadrilateral()\n",
    "K.noofsides()\n",
    "\n",
    "R = Pentagon()\n",
    "R.noofsides()\n",
    "\n",
    "K = Hexagon()\n",
    "K.noofsides()\n"
   ]
  }
 ],
 "metadata": {
  "kernelspec": {
   "display_name": "Python 3",
   "language": "python",
   "name": "python3"
  },
  "language_info": {
   "codemirror_mode": {
    "name": "ipython",
    "version": 3
   },
   "file_extension": ".py",
   "mimetype": "text/x-python",
   "name": "python",
   "nbconvert_exporter": "python",
   "pygments_lexer": "ipython3",
   "version": "3.11.5"
  },
  "orig_nbformat": 4,
  "vscode": {
   "interpreter": {
    "hash": "dd60d8f76fc21559a6b9fd39e1cd98d76620385e493a79ae3b42a5f8f2411005"
   }
  }
 },
 "nbformat": 4,
 "nbformat_minor": 2
}
