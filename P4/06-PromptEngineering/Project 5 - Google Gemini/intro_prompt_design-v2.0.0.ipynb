{
 "cells": [
  {
   "cell_type": "code",
   "execution_count": 4,
   "metadata": {
    "id": "ur8xi4C7S06n",
    "tags": []
   },
   "outputs": [],
   "source": [
    "# Copyright 2024 Google LLC\n",
    "#\n",
    "# Licensed under the Apache License, Version 2.0 (the \"License\");\n",
    "# you may not use this file except in compliance with the License.\n",
    "# You may obtain a copy of the License at\n",
    "#\n",
    "#     https://www.apache.org/licenses/LICENSE-2.0\n",
    "#\n",
    "# Unless required by applicable law or agreed to in writing, software\n",
    "# distributed under the License is distributed on an \"AS IS\" BASIS,\n",
    "# WITHOUT WARRANTIES OR CONDITIONS OF ANY KIND, either express or implied.\n",
    "# See the License for the specific language governing permissions and\n",
    "# limitations under the License."
   ]
  },
  {
   "cell_type": "markdown",
   "metadata": {
    "id": "JAPoU8Sm5E6e"
   },
   "source": [
    "# Prompt Design - Best Practices\n",
    "\n",
    "<table align=\"left\">\n",
    "  <td style=\"text-align: center\">\n",
    "    <a href=\"https://colab.research.google.com/github/GoogleCloudPlatform/generative-ai/blob/main/gemini/prompts/intro_prompt_design.ipynb\">\n",
    "      <img src=\"https://cloud.google.com/ml-engine/images/colab-logo-32px.png\" alt=\"Google Colaboratory logo\"><br> Open in Colab\n",
    "    </a>\n",
    "  </td>\n",
    "  <td style=\"text-align: center\">\n",
    "    <a href=\"https://console.cloud.google.com/vertex-ai/colab/import/https:%2F%2Fraw.githubusercontent.com%2FGoogleCloudPlatform%2Fgenerative-ai%2Fmain%2Fgemini%2Fprompts%2Fintro_prompt_design.ipynb\">\n",
    "      <img width=\"32px\" src=\"https://lh3.googleusercontent.com/JmcxdQi-qOpctIvWKgPtrzZdJJK-J3sWE1RsfjZNwshCFgE_9fULcNpuXYTilIR2hjwN\" alt=\"Google Cloud Colab Enterprise logo\"><br> Open in Colab Enterprise\n",
    "    </a>\n",
    "  </td>    \n",
    "  <td style=\"text-align: center\">\n",
    "    <a href=\"https://console.cloud.google.com/vertex-ai/workbench/deploy-notebook?download_url=https://raw.githubusercontent.com/GoogleCloudPlatform/generative-ai/main/gemini/prompts/intro_prompt_design.ipynb\">\n",
    "      <img src=\"https://lh3.googleusercontent.com/UiNooY4LUgW_oTvpsNhPpQzsstV5W8F7rYgxgGBD85cWJoLmrOzhVs_ksK_vgx40SHs7jCqkTkCk=e14-rj-sc0xffffff-h130-w32\" alt=\"Vertex AI logo\"><br> Open in Workbench\n",
    "    </a>\n",
    "  </td>\n",
    "  <td style=\"text-align: center\">\n",
    "    <a href=\"https://github.com/GoogleCloudPlatform/generative-ai/blob/main/gemini/prompts/intro_prompt_design.ipynb\">\n",
    "      <img src=\"https://cloud.google.com/ml-engine/images/github-logo-32px.png\" alt=\"GitHub logo\"><br> View on GitHub\n",
    "    </a>\n",
    "  </td>\n",
    "  <td style=\"text-align: center\">\n",
    "    <a href=\"https://goo.gle/4fWHlze\">\n",
    "      <img width=\"32px\" src=\"https://cdn.qwiklabs.com/assets/gcp_cloud-e3a77215f0b8bfa9b3f611c0d2208c7e8708ed31.svg\" alt=\"Google Cloud logo\"><br> Open in  Cloud Skills Boost\n",
    "    </a>\n",
    "  </td>\n",
    "</table>\n",
    "\n",
    "<div style=\"clear: both;\"></div>\n",
    "\n",
    "<b>Share to:</b>\n",
    "\n",
    "<a href=\"https://www.linkedin.com/sharing/share-offsite/?url=https%3A//github.com/GoogleCloudPlatform/generative-ai/blob/main/gemini/prompts/intro_prompt_design.ipynb\" target=\"_blank\">\n",
    "  <img width=\"20px\" src=\"https://upload.wikimedia.org/wikipedia/commons/8/81/LinkedIn_icon.svg\" alt=\"LinkedIn logo\">\n",
    "</a>\n",
    "\n",
    "<a href=\"https://bsky.app/intent/compose?text=https%3A//github.com/GoogleCloudPlatform/generative-ai/blob/main/gemini/prompts/intro_prompt_design.ipynb\" target=\"_blank\">\n",
    "  <img width=\"20px\" src=\"https://upload.wikimedia.org/wikipedia/commons/7/7a/Bluesky_Logo.svg\" alt=\"Bluesky logo\">\n",
    "</a>\n",
    "\n",
    "<a href=\"https://twitter.com/intent/tweet?url=https%3A//github.com/GoogleCloudPlatform/generative-ai/blob/main/gemini/prompts/intro_prompt_design.ipynb\" target=\"_blank\">\n",
    "  <img width=\"20px\" src=\"https://upload.wikimedia.org/wikipedia/commons/5/5a/X_icon_2.svg\" alt=\"X logo\">\n",
    "</a>\n",
    "\n",
    "<a href=\"https://reddit.com/submit?url=https%3A//github.com/GoogleCloudPlatform/generative-ai/blob/main/gemini/prompts/intro_prompt_design.ipynb\" target=\"_blank\">\n",
    "  <img width=\"20px\" src=\"https://redditinc.com/hubfs/Reddit%20Inc/Brand/Reddit_Logo.png\" alt=\"Reddit logo\">\n",
    "</a>\n",
    "\n",
    "<a href=\"https://www.facebook.com/sharer/sharer.php?u=https%3A//github.com/GoogleCloudPlatform/generative-ai/blob/main/gemini/prompts/intro_prompt_design.ipynb\" target=\"_blank\">\n",
    "  <img width=\"20px\" src=\"https://upload.wikimedia.org/wikipedia/commons/5/51/Facebook_f_logo_%282019%29.svg\" alt=\"Facebook logo\">\n",
    "</a>            "
   ]
  },
  {
   "cell_type": "markdown",
   "metadata": {
    "id": "84f0f73a0f76"
   },
   "source": [
    "| Authors |\n",
    "| --- |\n",
    "| [Polong Lin](https://github.com/polong-lin) |\n",
    "| [Karl Weinmeister](https://github.com/kweinmeister) |"
   ]
  },
  {
   "cell_type": "markdown",
   "metadata": {
    "id": "tvgnzT1CKxrO"
   },
   "source": [
    "## Overview\n",
    "\n",
    "This notebook covers the essentials of prompt engineering, including some best practices.\n",
    "\n",
    "Learn more about prompt design in the [official documentation](https://cloud.google.com/vertex-ai/docs/generative-ai/text/text-overview).\n",
    "\n",
    "In this notebook, you learn best practices around prompt engineering -- how to design prompts to improve the quality of your responses.\n",
    "\n",
    "This notebook covers the following best practices for prompt engineering:\n",
    "\n",
    "- Be concise\n",
    "- Be specific and well-defined\n",
    "- Ask one task at a time\n",
    "- Turn generative tasks into classification tasks\n",
    "- Improve response quality by including examples"
   ]
  },
  {
   "cell_type": "markdown",
   "metadata": {
    "id": "61RBz8LLbxCR"
   },
   "source": [
    "## Getting Started"
   ]
  },
  {
   "cell_type": "markdown",
   "metadata": {
    "id": "No17Cw5hgx12"
   },
   "source": [
    "### Install Google Gen AI SDK\n"
   ]
  },
  {
   "cell_type": "code",
   "execution_count": 5,
   "metadata": {
    "id": "tFy3H3aPgx12",
    "tags": []
   },
   "outputs": [
    {
     "name": "stdout",
     "output_type": "stream",
     "text": [
      "Note: you may need to restart the kernel to use updated packages.\n"
     ]
    }
   ],
   "source": [
    "%pip install --upgrade --quiet google-genai"
   ]
  },
  {
   "cell_type": "markdown",
   "metadata": {},
   "source": [
    "### Restart runtime\n",
    "\n",
    "To use the newly installed packages in this Jupyter runtime, you must restart the runtime. You can do this by running the cell below, which will restart the current kernel."
   ]
  },
  {
   "cell_type": "code",
   "execution_count": null,
   "metadata": {
    "tags": []
   },
   "outputs": [
    {
     "data": {
      "text/plain": [
       "{'status': 'ok', 'restart': True}"
      ]
     },
     "execution_count": 1,
     "metadata": {},
     "output_type": "execute_result"
    },
    {
     "ename": "",
     "evalue": "",
     "output_type": "error",
     "traceback": [
      "\u001b[1;31mThe Kernel crashed while executing code in the current cell or a previous cell. \n",
      "\u001b[1;31mPlease review the code in the cell(s) to identify a possible cause of the failure. \n",
      "\u001b[1;31mClick <a href='https://aka.ms/vscodeJupyterKernelCrash'>here</a> for more info. \n",
      "\u001b[1;31mView Jupyter <a href='command:jupyter.viewOutput'>log</a> for further details."
     ]
    }
   ],
   "source": [
    "import IPython\n",
    "\n",
    "app = IPython.Application.instance()\n",
    "app.kernel.do_shutdown(True)"
   ]
  },
  {
   "cell_type": "markdown",
   "metadata": {},
   "source": [
    "<div class=\"alert alert-block alert-warning\">\n",
    "<b>⚠️ The kernel is going to restart. Please wait until it is finished before continuing to the next step. ⚠️</b>\n",
    "</div>\n"
   ]
  },
  {
   "cell_type": "markdown",
   "metadata": {
    "id": "dmWOrTJ3gx13"
   },
   "source": [
    "### Authenticate your notebook environment (Colab only)\n",
    "\n",
    "Authenticate your environment on Google Colab.\n"
   ]
  },
  {
   "cell_type": "code",
   "execution_count": 2,
   "metadata": {
    "id": "NyKGtVQjgx13",
    "tags": []
   },
   "outputs": [],
   "source": [
    "import sys\n",
    "\n",
    "if \"google.colab\" in sys.modules:\n",
    "    from google.colab import auth\n",
    "\n",
    "    auth.authenticate_user()"
   ]
  },
  {
   "cell_type": "markdown",
   "metadata": {
    "id": "06489bd14f16"
   },
   "source": [
    "### Import libraries\n"
   ]
  },
  {
   "cell_type": "code",
   "execution_count": 3,
   "metadata": {
    "id": "154137022fb6",
    "tags": []
   },
   "outputs": [],
   "source": [
    "from IPython.display import Markdown, display\n",
    "from google import genai\n",
    "from google.genai.types import GenerateContentConfig"
   ]
  },
  {
   "cell_type": "markdown",
   "metadata": {
    "id": "DF4l8DTdWgPY"
   },
   "source": [
    "### Set Google Cloud project information and create client\n",
    "\n",
    "To get started using Vertex AI, you must have an existing Google Cloud project and [enable the Vertex AI API](https://console.cloud.google.com/flows/enableapi?apiid=aiplatform.googleapis.com).\n",
    "\n",
    "Learn more about [setting up a project and a development environment](https://cloud.google.com/vertex-ai/docs/start/cloud-environment).\n",
    "\n",
    "Initialize the Gen AI SDK for Python for your project."
   ]
  },
  {
   "cell_type": "code",
   "execution_count": 3,
   "metadata": {
    "id": "Nqwi-5ufWp_B",
    "tags": []
   },
   "outputs": [],
   "source": [
    "# Define project information\n",
    "PROJECT_ID = \"qwiklabs-gcp-04-1d6b43982047\"  # @param {type:\"string\"}\n",
    "LOCATION = \"europe-west1\"  # @param {type:\"string\"}\n",
    "\n",
    "# Create the API client\n",
    "from google import genai\n",
    "client = genai.Client(vertexai=True, project=PROJECT_ID, location=LOCATION)"
   ]
  },
  {
   "cell_type": "markdown",
   "metadata": {
    "id": "OnFPpCRtXRl4"
   },
   "source": [
    "### Load model\n",
    "\n",
    "Learn more about all [Gemini models on Vertex AI](https://cloud.google.com/vertex-ai/generative-ai/docs/learn/models#gemini-models)."
   ]
  },
  {
   "cell_type": "code",
   "execution_count": 4,
   "metadata": {
    "id": "IQYu_9SvXQah",
    "tags": []
   },
   "outputs": [],
   "source": [
    "MODEL_ID = \"gemini-2.0-flash-001\"  # @param {type: \"string\"}"
   ]
  },
  {
   "cell_type": "markdown",
   "metadata": {
    "id": "cVOtUNJ5X0PY"
   },
   "source": [
    "## Prompt engineering best practices"
   ]
  },
  {
   "cell_type": "markdown",
   "metadata": {
    "id": "uv_e0fEPX60q"
   },
   "source": [
    "Prompt engineering is all about how to design your prompts so that the response is what you were indeed hoping to see.\n",
    "\n",
    "The idea of using \"unfancy\" prompts is to minimize the noise in your prompt to reduce the possibility of the LLM misinterpreting the intent of the prompt. Below are a few guidelines on how to engineer \"unfancy\" prompts.\n",
    "\n",
    "In this section, you'll cover the following best practices when engineering prompts:\n",
    "\n",
    "* Be concise\n",
    "* Be specific, and well-defined\n",
    "* Ask one task at a time\n",
    "* Improve response quality by including examples\n",
    "* Turn generative tasks to classification tasks to improve safety"
   ]
  },
  {
   "cell_type": "markdown",
   "metadata": {
    "id": "0pY4XX0OX9_Y"
   },
   "source": [
    "### Be concise"
   ]
  },
  {
   "cell_type": "markdown",
   "metadata": {
    "id": "xlRpxyxGYA1K"
   },
   "source": [
    "🛑 Not recommended. The prompt below is unnecessarily verbose."
   ]
  },
  {
   "cell_type": "code",
   "execution_count": 5,
   "metadata": {
    "id": "YKV4G-CfXdbi",
    "tags": []
   },
   "outputs": [
    {
     "data": {
      "text/markdown": [
       "Okay, here are some ideas for a dried flower shop name, playing with different angles:\n",
       "\n",
       "**Emphasizing Longevity & Timelessness:**\n",
       "\n",
       "*   **The Everbloom:** Classic and evocative.\n",
       "*   **Timeless Blooms:** Simple, direct, and clear.\n",
       "*   **The Dried Stamen:** A botanical, yet modern sound.\n",
       "*   **Lasting Petals:** Highlights the enduring nature of dried flowers.\n",
       "*   **Forever Florals:** Easy to remember and understand.\n",
       "*   **The Preserved Petal:** Implies care and artistry.\n",
       "*   **Eternity Blooms:** Romantic and grand.\n",
       "\n",
       "**Focusing on Craft & Artistry:**\n",
       "\n",
       "*   **The Dried Stem Studio:**  Suggests handcrafted creations.\n",
       "*   **Artisan Dried:** Highlights the handcrafted nature.\n",
       "*   **The Dried Florist:** A play on a traditional florist, but with a twist.\n",
       "*   **Petal Alchemy:** Evokes transformation and artistry.\n",
       "*   **Botanical Curations:**  Suggests a carefully selected collection.\n",
       "*   **Fleur Sec:** (French for \"dry flower\") Adds a touch of elegance.\n",
       "*   **Dried & Designed:** Simple and descriptive, yet stylish.\n",
       "\n",
       "**Highlighting Beauty & Aesthetics:**\n",
       "\n",
       "*   **Golden Blooms:** Suggests a warm, natural aesthetic.\n",
       "*   **The Sepia Petal:** Evokes a vintage or antique feel.\n",
       "*   **Rustic Blooms:** Focuses on a more natural, earthy style.\n",
       "*   **The Whispering Bloom:** Suggests a delicate and subtle beauty.\n",
       "*   **Still Life Florals:**  Connects the flowers to the art world.\n",
       "*   **Dusty Rose Florals:** Evokes a romantic and vintage feeling.\n",
       "*   **Sun Kissed Stems:** Paints a picture of the flowers' natural drying process.\n",
       "\n",
       "**Modern & Unique:**\n",
       "\n",
       "*   **Bloom & Bone:** (Slightly edgy and intriguing, playing with textures)\n",
       "*   **The Dry Spell:** (A playful and memorable name)\n",
       "*   **Flora & Fiber:** Suggests mixed media arrangements.\n",
       "*   **Root & Resin:** Highlights the natural origins.\n",
       "*   **Chromatic Dry:** Focuses on the colors and drying process.\n",
       "*   **The Static Bloom:** Modern and intriguing.\n",
       "*   **Dry Goods Flora:** A play on words, suggesting a unique type of goods.\n",
       "\n",
       "**Tips for Choosing:**\n",
       "\n",
       "*   **Consider your target audience:**  Are you aiming for a rustic, vintage, modern, or high-end customer?\n",
       "*   **Check for availability:** Make sure the name isn't already in use in your area or online.\n",
       "*   **Say it out loud:** Does it sound good? Is it easy to pronounce and remember?\n",
       "*   **Get feedback:** Ask friends, family, or potential customers what they think.\n",
       "*   **Think about your brand:** Does the name align with your overall aesthetic and vision?\n",
       "\n",
       "I personally like \"The Everbloom,\" \"Timeless Blooms,\" \"Artisan Dried,\" and \"The Dried Florist.\" They are all relatively easy to remember and convey what the shop is about. Good luck!\n"
      ],
      "text/plain": [
       "<IPython.core.display.Markdown object>"
      ]
     },
     "metadata": {},
     "output_type": "display_data"
    }
   ],
   "source": [
    "prompt = \"What do you think could be a good name for a flower shop that specializes in selling bouquets of dried flowers more than fresh flowers?\"\n",
    "\n",
    "response = client.models.generate_content(model=MODEL_ID, contents=prompt)\n",
    "display(Markdown(response.text))"
   ]
  },
  {
   "cell_type": "markdown",
   "metadata": {
    "id": "YrJexRHJYnmC"
   },
   "source": [
    "✅ Recommended. The prompt below is to the point and concise."
   ]
  },
  {
   "cell_type": "code",
   "execution_count": 6,
   "metadata": {
    "id": "VHetn9lCYrXB",
    "tags": []
   },
   "outputs": [
    {
     "data": {
      "text/markdown": [
       "Okay, here are some name suggestions for a dried flower shop, playing with different vibes:\n",
       "\n",
       "**Elegant & Classic:**\n",
       "\n",
       "*   The Everlasting Bloom\n",
       "*   Preserved Petals\n",
       "*   Dried & Done\n",
       "*   The Floral Archive\n",
       "*   The Gilded Stem\n",
       "*   Forever in Bloom\n",
       "*   Lasting Florals\n",
       "*   The Dried Bouquet Co.\n",
       "*   The Botanical Still Life\n",
       "\n",
       "**Modern & Chic:**\n",
       "\n",
       "*   The Dried Edit\n",
       "*   Still Life Florals\n",
       "*   The Eternal Arrangement\n",
       "*   Dried & Dusted\n",
       "*   Bloom & Bone (a bit edgy)\n",
       "*   The Petal Pharmacy (if you focus on therapeutic dried flowers)\n",
       "*   Unwilted\n",
       "*   The Dry Garden\n",
       "\n",
       "**Rustic & Natural:**\n",
       "\n",
       "*   Prairie Petals\n",
       "*   Wildflower Keepsakes\n",
       "*   Sunbaked Blooms\n",
       "*   The Dried Meadow\n",
       "*   Harvest & Bloom\n",
       "*   The Dusty Rose\n",
       "*   Field & Flora\n",
       "\n",
       "**Playful & Unique:**\n",
       "\n",
       "*   Petrified Petals\n",
       "*   The Bloom Room (ironic twist)\n",
       "*   Never Fade Away Flowers\n",
       "*   The Time Capsule Bouquet\n",
       "*   Second Bloom\n",
       "*   Dry Spell Flowers\n",
       "\n",
       "**Location-Specific (Adapt to your town/area):**\n",
       "\n",
       "*   [Town Name] Dried Florals\n",
       "*   [Landmark] Blooms\n",
       "*   The [Local Feature] Bouquet\n",
       "\n",
       "**Tips for Choosing a Name:**\n",
       "\n",
       "*   **Availability:** Check if the name is available as a website domain, social media handle, and business name in your area.\n",
       "*   **Target Audience:** Consider who you're trying to attract.  A younger, trendier crowd might prefer a modern name, while a more traditional customer might prefer a classic one.\n",
       "*   **Memorability:** Is it easy to remember and say?\n",
       "*   **Branding:** Does the name align with your overall brand aesthetic?\n",
       "\n",
       "I hope this gives you a good starting point! Good luck!\n"
      ],
      "text/plain": [
       "<IPython.core.display.Markdown object>"
      ]
     },
     "metadata": {},
     "output_type": "display_data"
    }
   ],
   "source": [
    "prompt = \"Suggest a name for a flower shop that sells bouquets of dried flowers\"\n",
    "\n",
    "response = client.models.generate_content(model=MODEL_ID, contents=prompt)\n",
    "display(Markdown(response.text))"
   ]
  },
  {
   "cell_type": "markdown",
   "metadata": {
    "id": "eXTAvdOHY0OC"
   },
   "source": [
    "### Be specific, and well-defined"
   ]
  },
  {
   "cell_type": "markdown",
   "metadata": {
    "id": "FTH4GEIgY1dp"
   },
   "source": [
    "Suppose that you want to brainstorm creative ways to describe Earth."
   ]
  },
  {
   "cell_type": "markdown",
   "metadata": {
    "id": "o5BmXBiGY4KC"
   },
   "source": [
    "🛑 The prompt below might be a bit too generic (which is certainly OK if you'd like to ask a generic question!)"
   ]
  },
  {
   "cell_type": "code",
   "execution_count": 7,
   "metadata": {
    "id": "eHBaMvv7Y6mR",
    "tags": []
   },
   "outputs": [
    {
     "data": {
      "text/markdown": [
       "Okay, let's dive into the fascinating world of Earth! Here's a comprehensive overview of our home planet, covering its basic facts, structure, atmosphere, and what makes it unique:\n",
       "\n",
       "**Basic Facts**\n",
       "\n",
       "*   **Name:** Earth (also known as Terra in some languages)\n",
       "*   **Position in the Solar System:** Third planet from the Sun\n",
       "*   **Type:** Terrestrial planet (rocky)\n",
       "*   **Diameter:** Approximately 12,742 kilometers (7,918 miles)\n",
       "*   **Circumference:** Approximately 40,075 kilometers (24,901 miles) at the equator\n",
       "*   **Mass:** Approximately 5.97 × 10^24 kilograms\n",
       "*   **Density:** 5.514 g/cm³ (most dense planet in the Solar System)\n",
       "*   **Rotation Period (Day):** Approximately 24 hours (23 hours, 56 minutes, 4 seconds)\n",
       "*   **Orbital Period (Year):** Approximately 365.25 days (leading to leap years)\n",
       "*   **Orbital Speed:** Approximately 29.8 kilometers per second\n",
       "*   **Axial Tilt:** 23.5 degrees (responsible for seasons)\n",
       "*   **Distance from the Sun:** Approximately 149.6 million kilometers (93 million miles, or 1 Astronomical Unit (AU))\n",
       "*   **Moon(s):** One natural satellite, The Moon (Luna)\n",
       "*   **Rings:** No rings\n",
       "*   **Atmosphere:** Primarily nitrogen (78%) and oxygen (21%), with small amounts of argon, carbon dioxide, and other gases.\n",
       "*   **Surface Temperature:** Average around 15°C (59°F), but varies widely depending on location and time.\n",
       "*   **Surface Composition:** About 71% water (oceans, lakes, rivers, ice) and 29% land (continents, islands).\n",
       "*   **Population:** Approximately 8 billion people (as of 2023)\n",
       "\n",
       "**Internal Structure**\n",
       "\n",
       "Earth is composed of layers, similar to an onion:\n",
       "\n",
       "1.  **Crust:**\n",
       "    *   The outermost layer, relatively thin and brittle.\n",
       "    *   Two types:\n",
       "        *   *Oceanic Crust:* Thinner (5-10 km), denser, made of basaltic rock.\n",
       "        *   *Continental Crust:* Thicker (30-70 km), less dense, made of granitic rock.\n",
       "2.  **Mantle:**\n",
       "    *   The thickest layer, making up about 84% of Earth's volume.\n",
       "    *   Mostly solid rock, but with some plasticity (ability to flow slowly over long periods).\n",
       "    *   Divided into:\n",
       "        *   *Upper Mantle:* Includes the asthenosphere (a partially molten layer that allows the tectonic plates to move).\n",
       "        *   *Lower Mantle:* Denser and more rigid.\n",
       "3.  **Core:**\n",
       "    *   The innermost layer, composed mainly of iron and nickel.\n",
       "    *   Divided into:\n",
       "        *   *Outer Core:* Liquid, responsible for Earth's magnetic field through the movement of its molten iron.\n",
       "        *   *Inner Core:* Solid, due to immense pressure.\n",
       "\n",
       "**Atmosphere**\n",
       "\n",
       "Earth's atmosphere is crucial for life and consists of several layers:\n",
       "\n",
       "*   **Troposphere:** The lowest layer, where weather occurs.  Contains most of the atmosphere's mass.\n",
       "*   **Stratosphere:** Contains the ozone layer, which absorbs harmful ultraviolet (UV) radiation from the Sun.\n",
       "*   **Mesosphere:** Where meteors burn up.\n",
       "*   **Thermosphere:** Very thin air, absorbs high-energy radiation.  The International Space Station orbits in this layer.\n",
       "*   **Exosphere:** The outermost layer, gradually fading into space.\n",
       "\n",
       "**Plate Tectonics**\n",
       "\n",
       "*   Earth's crust is broken into several large and small plates.\n",
       "*   These plates float on the semi-molten asthenosphere of the upper mantle.\n",
       "*   Plate movement causes:\n",
       "    *   Earthquakes\n",
       "    *   Volcanoes\n",
       "    *   Mountain formation\n",
       "    *   Continental drift\n",
       "\n",
       "**Water**\n",
       "\n",
       "*   Earth is unique in our solar system for having abundant liquid water on its surface.\n",
       "*   Water covers approximately 71% of Earth's surface.\n",
       "*   Oceans play a critical role in regulating Earth's climate and supporting life.\n",
       "\n",
       "**Magnetic Field**\n",
       "\n",
       "*   Generated by the movement of molten iron in the outer core.\n",
       "*   Protects Earth from harmful solar wind (charged particles from the Sun).\n",
       "*   Deflects solar wind, creating the auroras (Northern and Southern Lights) near the poles.\n",
       "\n",
       "**Life**\n",
       "\n",
       "*   Earth is the only known planet to harbor life.\n",
       "*   Life has existed on Earth for billions of years, evolving into an incredible diversity of forms.\n",
       "*   The presence of liquid water, a stable atmosphere, and a protective magnetic field are all critical factors in supporting life on Earth.\n",
       "\n",
       "**Unique Features**\n",
       "\n",
       "*   **Liquid Water:**  Essential for life as we know it, and relatively abundant on Earth's surface.\n",
       "*   **Plate Tectonics:** A dynamic process that recycles Earth's crust and influences the distribution of continents and oceans.\n",
       "*   **Oxygen-Rich Atmosphere:**  A product of photosynthesis by plants and algae, supporting complex life.\n",
       "*   **Magnetic Field:**  Shields the planet from harmful solar radiation.\n",
       "*   **Life:**  The most significant unique feature, driving many of Earth's processes.\n",
       "\n",
       "**Threats to Earth**\n",
       "\n",
       "*   **Climate Change:** Caused by human activities, primarily the burning of fossil fuels, leading to rising temperatures, sea level rise, and extreme weather events.\n",
       "*   **Pollution:** Air, water, and soil pollution threaten human health and ecosystems.\n",
       "*   **Deforestation:**  Destroys habitats, reduces biodiversity, and contributes to climate change.\n",
       "*   **Overpopulation:**  Puts strain on resources and the environment.\n",
       "*   **Asteroid Impacts:** While rare, a large asteroid impact could have catastrophic consequences.\n",
       "\n",
       "**Why is Earth Important?**\n",
       "\n",
       "Beyond being our home, Earth is important for many reasons:\n",
       "\n",
       "*   **Scientific Study:**  It's the only planet we know of with life, making it crucial for understanding the origins and possibilities of life in the universe.\n",
       "*   **Resource Provision:** It provides us with essential resources like water, minerals, and energy.\n",
       "*   **Intrinsic Value:** It has immense intrinsic value as a complex and beautiful planet with a rich history and diverse ecosystems.\n",
       "\n",
       "In short, Earth is a complex, dynamic, and unique planet that is essential for life as we know it.  Understanding Earth is crucial for protecting it for future generations.\n"
      ],
      "text/plain": [
       "<IPython.core.display.Markdown object>"
      ]
     },
     "metadata": {},
     "output_type": "display_data"
    }
   ],
   "source": [
    "prompt = \"Tell me about Earth\"\n",
    "\n",
    "response = client.models.generate_content(model=MODEL_ID, contents=prompt)\n",
    "display(Markdown(response.text))"
   ]
  },
  {
   "cell_type": "markdown",
   "metadata": {
    "id": "4iyvEbteZnFL"
   },
   "source": [
    "✅ Recommended. The prompt below is specific and well-defined."
   ]
  },
  {
   "cell_type": "code",
   "execution_count": 8,
   "metadata": {
    "id": "JQ80z8urZnne",
    "tags": []
   },
   "outputs": [
    {
     "data": {
      "text/markdown": [
       "Okay, here's a list of ways that Earth is unique compared to other planets we currently know of, keeping in mind that our knowledge is constantly evolving:\n",
       "\n",
       "**Key Differentiators Directly Related to Life:**\n",
       "\n",
       "*   **Abundant Liquid Water on the Surface:** Earth is the only known planet with large, stable bodies of liquid water on its surface. This is crucial for the type of life we know. While other planets/moons might have subsurface oceans, surface liquid water is a game changer.\n",
       "*   **Oxygen-Rich Atmosphere:** Earth's atmosphere is unique in its high concentration of free oxygen (about 21%). This is largely a product of photosynthesis by plants and algae. Most other planetary atmospheres are dominated by carbon dioxide, nitrogen, or hydrogen.\n",
       "*   **The Presence of Life (as far as we know):** While the search for extraterrestrial life is ongoing, Earth is currently the only planet known to harbor life. This is, arguably, the *most* unique feature.\n",
       "*   **Complex Ecosystems:** Earth has a vast array of interconnected ecosystems, from rainforests to deserts to oceans, supporting an incredible diversity of life.\n",
       "\n",
       "**Geological and Geophysical Uniqueness:**\n",
       "\n",
       "*   **Plate Tectonics:** Earth is the only planet in our solar system confirmed to have active plate tectonics. This process recycles the crust, regulates the carbon cycle, and plays a vital role in long-term climate stability. While evidence suggests past or limited tectonic activity on other planets (like Mars), Earth's is ongoing and extensive.\n",
       "*   **Strong Magnetic Field:** Earth has a strong global magnetic field, generated by its liquid iron core. This field deflects harmful solar wind and cosmic radiation, protecting the atmosphere and life on the surface. Some other planets have magnetic fields, but Earth's is particularly strong.\n",
       "*   **Active Volcanoes:** While volcanoes exist on other planets and moons, Earth has a high number of active volcanoes, which contribute to atmospheric gases and shape the landscape.\n",
       "*   **A Large Moon (Relatively):** Earth's moon is unusually large compared to the planet's size. It stabilizes Earth's axial tilt, influencing seasons and climate, and also causes tides.\n",
       "*   **Complex Weather and Climate Systems:** Earth has complex and dynamic weather and climate systems, driven by solar energy, atmospheric circulation, and ocean currents. These systems create diverse climate zones and weather patterns.\n",
       "\n",
       "**Compositional and Orbital Characteristics:**\n",
       "\n",
       "*   **\"Goldilocks\" Zone Location:** Earth orbits the Sun within the habitable zone, where temperatures are suitable for liquid water to exist on the surface.\n",
       "*   **Relatively Stable Orbit:** Earth's orbit is relatively stable and circular, which contributes to climate stability over long periods.\n",
       "*   **Chemical Composition:** While we don't have detailed compositional data for all exoplanets, Earth's specific mix of elements and compounds is likely unique. Its crust, mantle, and core have distinct compositions that contribute to its overall properties.\n",
       "*   **Surface features:** We have mountains, plains, canyons, and other interesting surfaces shaped by several forces.\n",
       "\n",
       "**Other Notable Factors:**\n",
       "\n",
       "*   **Human Civilization:** The presence of a technologically advanced civilization capable of altering the planet on a global scale is, so far, unique to Earth.\n",
       "*   **Vast amounts of data:** We have collected a vast amount of data about Earth, making it by far the best-understood planet in the universe. This allows us to identify its unique characteristics with greater certainty.\n",
       "\n",
       "**Important Considerations:**\n",
       "\n",
       "*   **Limited Sample Size:** Our knowledge of exoplanets is still limited. We've only explored a tiny fraction of the galaxy, and our detection methods are biased toward certain types of planets. As we discover more exoplanets, we may find that some of Earth's \"unique\" features are actually more common than we thought.\n",
       "*   **Evolving Understanding:** Our understanding of planetary science is constantly evolving. New discoveries and theories may challenge our current assumptions about what makes Earth unique.\n",
       "*   **Defining \"Unique\":** What constitutes \"unique\" is a matter of degree. Many planets may share some characteristics with Earth, but the combination of all these factors, especially the presence of life, is what truly sets it apart.\n",
       "\n",
       "I hope this comprehensive list is helpful!\n"
      ],
      "text/plain": [
       "<IPython.core.display.Markdown object>"
      ]
     },
     "metadata": {},
     "output_type": "display_data"
    }
   ],
   "source": [
    "prompt = \"Generate a list of ways that makes Earth unique compared to other planets\"\n",
    "\n",
    "response = client.models.generate_content(model=MODEL_ID, contents=prompt)\n",
    "display(Markdown(response.text))"
   ]
  },
  {
   "cell_type": "markdown",
   "metadata": {
    "id": "R5kmfZYHZsJ7"
   },
   "source": [
    "### Ask one task at a time"
   ]
  },
  {
   "cell_type": "markdown",
   "metadata": {
    "id": "rsAezxeYZuUN"
   },
   "source": [
    "🛑 Not recommended. The prompt below has two parts to the question that could be asked separately."
   ]
  },
  {
   "cell_type": "code",
   "execution_count": 9,
   "metadata": {
    "id": "ElywPXpuZtWf",
    "tags": []
   },
   "outputs": [
    {
     "data": {
      "text/markdown": [
       "Let's tackle these two very different questions:\n",
       "\n",
       "**1. Best Method of Boiling Water**\n",
       "\n",
       "The \"best\" method depends on your priorities and circumstances. Here's a breakdown:\n",
       "\n",
       "*   **Electric Kettle:**\n",
       "\n",
       "    *   **Pros:** Fastest, most energy-efficient (for small amounts of water), automatic shut-off (safety), often cordless.\n",
       "    *   **Cons:** Requires electricity, single-purpose appliance.\n",
       "    *   **Ideal for:** Quickly making a cup of tea or coffee, anywhere with an electrical outlet.\n",
       "\n",
       "*   **Stovetop Kettle (on a gas or electric stove):**\n",
       "\n",
       "    *   **Pros:**  Versatile (works with different heat sources), generally durable, good for larger quantities.\n",
       "    *   **Cons:**  Slower than an electric kettle, requires monitoring, can be less energy-efficient depending on stove type and kettle material.\n",
       "    *   **Ideal for:**  Larger batches of water, situations where electricity is unreliable, simmering liquids or stock after boiling.\n",
       "\n",
       "*   **Microwave:**\n",
       "\n",
       "    *   **Pros:**  Convenient for very small amounts of water.\n",
       "    *   **Cons:**  Uneven heating (can cause superheating, leading to explosive boiling), not energy-efficient, can be unsafe (superheating).  Not recommended unless absolutely necessary.\n",
       "    *   **Ideal for:**  Very small amounts of water in emergencies, or when other options aren't available.\n",
       "\n",
       "*   **Induction Cooktop and Kettle:**\n",
       "\n",
       "    *   **Pros:**  Very fast, energy-efficient, precise temperature control.\n",
       "    *   **Cons:** Requires induction-compatible cookware/kettle and cooktop, can be expensive.\n",
       "    *   **Ideal for:**  People who value speed, efficiency, and precision.\n",
       "\n",
       "*   **Over a Fire (Campfire/Wood Stove):**\n",
       "\n",
       "    *   **Pros:**  Useful in emergency situations or when camping/off-grid.\n",
       "    *   **Cons:**  Slowest, least efficient, requires a fire and a suitable container, safety concerns (burns, tipping).\n",
       "    *   **Ideal for:**  Survival situations, camping trips (with appropriate safety precautions).\n",
       "\n",
       "**In summary, for everyday use, an electric kettle is usually the fastest and most efficient.  However, stovetop kettles are more versatile, and induction is an increasingly popular high-performance option.**\n",
       "\n",
       "**2. Why is the Sky Blue?**\n",
       "\n",
       "The sky is blue because of a phenomenon called **Rayleigh scattering**.  Here's the simplified explanation:\n",
       "\n",
       "*   **Sunlight is Made of All Colors:**  Sunlight is actually composed of all the colors of the rainbow.\n",
       "*   **Atmosphere Contains Molecules:** The Earth's atmosphere is made up of tiny gas molecules like nitrogen and oxygen.\n",
       "*   **Scattering of Light:** When sunlight enters the atmosphere, it collides with these gas molecules. This causes the light to scatter in different directions.\n",
       "*   **Blue Light is Scattered More:** Blue and violet light have shorter wavelengths compared to other colors like red and orange. Shorter wavelengths are scattered *more* effectively by these small molecules.\n",
       "*   **We See Blue:** Because blue light is scattered more widely and effectively than other colors, it reaches our eyes from all directions in the sky.  This is why we perceive the sky as blue.\n",
       "\n",
       "**Why not violet then?**\n",
       "\n",
       "Violet light is actually scattered even more than blue light. However, there are a couple of reasons why we see blue:\n",
       "\n",
       "1.  **Less Violet Light in Sunlight:** The sun emits slightly less violet light than blue light.\n",
       "2.  **Our Eyes Are More Sensitive to Blue:**  Our eyes are more sensitive to blue light than violet light.\n",
       "\n",
       "**Important points:**\n",
       "\n",
       "*   **Rayleigh Scattering is Key:** This scattering effect is essential to understanding why the sky is blue.\n",
       "*   **Sunset Colors:** At sunset and sunrise, the sunlight travels through more of the atmosphere. Blue light is scattered away, leaving the longer wavelengths (red and orange) to reach our eyes, creating the beautiful sunset colors.\n",
       "*   **Moon's Atmosphere:** The moon has almost no atmosphere. Therefore, there is no scattering of light, and the sky on the moon appears black, even during the day.\n",
       "\n"
      ],
      "text/plain": [
       "<IPython.core.display.Markdown object>"
      ]
     },
     "metadata": {},
     "output_type": "display_data"
    }
   ],
   "source": [
    "prompt = \"What's the best method of boiling water and why is the sky blue?\"\n",
    "\n",
    "response = client.models.generate_content(model=MODEL_ID, contents=prompt)\n",
    "display(Markdown(response.text))"
   ]
  },
  {
   "cell_type": "markdown",
   "metadata": {
    "id": "ejzahazBZ8vk"
   },
   "source": [
    "✅ Recommended. The prompts below asks one task a time."
   ]
  },
  {
   "cell_type": "code",
   "execution_count": 10,
   "metadata": {
    "id": "C5ckp2F0Z_Ba",
    "tags": []
   },
   "outputs": [
    {
     "data": {
      "text/markdown": [
       "The \"best\" method of boiling water depends on what's most important to you: speed, efficiency, safety, cost, or convenience. Here's a breakdown of common methods and their pros and cons:\n",
       "\n",
       "**1. Electric Kettle:**\n",
       "\n",
       "*   **Pros:**\n",
       "    *   **Fastest:** Generally the fastest way to boil small amounts of water.\n",
       "    *   **Energy-efficient:** Designed to heat only the water you need, minimizing wasted energy.\n",
       "    *   **Safe:** Many have automatic shut-off features to prevent boiling dry.\n",
       "    *   **Convenient:** Easy to use, often portable.\n",
       "    *   **Precise Temperature Control:** Some higher-end kettles allow you to select specific temperatures for different types of tea or coffee.\n",
       "*   **Cons:**\n",
       "    *   **Capacity:** Limited capacity compared to a stovetop pot.\n",
       "    *   **Reliance on Electricity:** Requires an electrical outlet.\n",
       "    *   **Cost:** Can be more expensive upfront than a simple stovetop pot.\n",
       "\n",
       "**2. Stovetop Kettle or Pot:**\n",
       "\n",
       "*   **Pros:**\n",
       "    *   **Versatile:** Can boil larger amounts of water than an electric kettle.  A pot is useful when you need to add ingredients directly to the boiling water (e.g., pasta).\n",
       "    *   **Cost-effective:** A basic pot is relatively inexpensive.\n",
       "    *   **Doesn't Require Electricity (Gas Stovetop):** Works even during a power outage if you have a gas stove.\n",
       "*   **Cons:**\n",
       "    *   **Slower:** Typically takes longer to boil water than an electric kettle.\n",
       "    *   **Less Energy-Efficient:** More heat is lost to the surrounding environment.\n",
       "    *   **Safety:** Requires more attention as it can boil dry and pose a burn risk.  Whistling kettles are helpful in alerting you when the water is boiling.\n",
       "    *   **Uneven Heating (Electric Stovetop):** Electric stovetops can heat unevenly.\n",
       "\n",
       "**3. Microwave:**\n",
       "\n",
       "*   **Pros:**\n",
       "    *   **Convenient:** Quick for small amounts, especially for single servings.\n",
       "    *   **Readily Available:** Most homes have a microwave.\n",
       "*   **Cons:**\n",
       "    *   **Uneven Heating:** Microwaved water can become superheated (heated above its boiling point without actually boiling), posing a burn risk if disturbed suddenly. Always use a microwave-safe container, and insert a wooden spoon or chopstick into the water before heating to prevent this.\n",
       "    *   **Not Ideal for Large Amounts:** Takes longer to boil larger quantities.\n",
       "    *   **Material Concerns:** Certain plastics can leach chemicals into the water when heated.\n",
       "    *   **Not recommended**: generally not a great or safe way to boil water.\n",
       "\n",
       "**4. Campfire/Outdoor Stove:**\n",
       "\n",
       "*   **Pros:**\n",
       "    *   **Off-Grid:** Useful when electricity isn't available.\n",
       "*   **Cons:**\n",
       "    *   **Slow:** Can take a significant amount of time to boil water.\n",
       "    *   **Requires Fuel:** Requires wood, propane, or other fuel source.\n",
       "    *   **Safety:** Requires careful monitoring and fire safety practices.\n",
       "    *   **Uncontrolled Heat:** Difficult to control the heat level.\n",
       "\n",
       "**Summary Table:**\n",
       "\n",
       "| Method         | Speed   | Efficiency | Safety   | Cost    | Convenience | Best For                                   |\n",
       "|-----------------|---------|------------|----------|---------|-------------|---------------------------------------------|\n",
       "| Electric Kettle| Fastest | High       | High     | Medium  | Very High   | Quick, small amounts, energy efficiency     |\n",
       "| Stovetop Kettle| Medium  | Medium     | Medium   | Low     | Medium      | Larger amounts, versatility, no electricity |\n",
       "| Microwave      | Fast    | Low        | Low      | Low     | High        | Small amounts, convenience (use with caution)|\n",
       "| Campfire       | Slowest | Low        | Low      | Varies  | Low         | Off-grid situations                          |\n",
       "\n",
       "**Recommendations:**\n",
       "\n",
       "*   **For speed and efficiency:** Electric kettle is the best overall choice for most people.\n",
       "*   **For large quantities or versatility:** Stovetop kettle or pot is a good option.\n",
       "*   **For convenience (small amounts, but with caution):** Microwave.\n",
       "*   **For off-grid situations:** Campfire or portable stove.\n",
       "\n",
       "Ultimately, the \"best\" method depends on your individual needs and priorities. Consider what factors are most important to you when making your decision.\n"
      ],
      "text/plain": [
       "<IPython.core.display.Markdown object>"
      ]
     },
     "metadata": {},
     "output_type": "display_data"
    }
   ],
   "source": [
    "prompt = \"What's the best method of boiling water?\"\n",
    "\n",
    "response = client.models.generate_content(model=MODEL_ID, contents=prompt)\n",
    "display(Markdown(response.text))"
   ]
  },
  {
   "cell_type": "code",
   "execution_count": 11,
   "metadata": {
    "id": "KwUzhud4aA89",
    "tags": []
   },
   "outputs": [
    {
     "data": {
      "text/markdown": [
       "The sky is blue because of a phenomenon called **Rayleigh scattering**. Here's the breakdown:\n",
       "\n",
       "*   **Sunlight and Colors:** Sunlight is actually made up of all the colors of the rainbow.\n",
       "\n",
       "*   **Entering the Atmosphere:** When sunlight enters the Earth's atmosphere, it collides with tiny air molecules (mostly nitrogen and oxygen).\n",
       "\n",
       "*   **Scattering of Light:** This collision causes the sunlight to scatter in different directions.\n",
       "\n",
       "*   **Rayleigh Scattering Effect:** Rayleigh scattering is more effective at scattering shorter wavelengths of light. Blue and violet light have shorter wavelengths compared to red and orange light.\n",
       "\n",
       "*   **Why Blue, Not Violet?** Although violet light has the shortest wavelength, it's not as prominent in the sky because:\n",
       "    *   The sun emits slightly less violet light than blue light.\n",
       "    *   The human eye is more sensitive to blue than violet.\n",
       "    *   Some violet light is absorbed higher in the atmosphere.\n",
       "\n",
       "*   **The Result:** Because blue light is scattered more effectively than other colors, we see a blue sky.\n",
       "\n",
       "**In Simple Terms:**\n",
       "\n",
       "Imagine throwing a handful of marbles (sunlight) at a bunch of small objects (air molecules). The smaller, blue marbles are more likely to bounce off in all directions, filling the space. The larger, red marbles are more likely to pass straight through.\n",
       "\n",
       "**What About Sunsets?**\n",
       "\n",
       "Sunsets are orange and red because the sunlight has to travel through more of the atmosphere to reach our eyes. This means that almost all of the blue light has been scattered away, leaving the longer wavelength orange and red light to dominate.\n"
      ],
      "text/plain": [
       "<IPython.core.display.Markdown object>"
      ]
     },
     "metadata": {},
     "output_type": "display_data"
    }
   ],
   "source": [
    "prompt = \"Why is the sky blue?\"\n",
    "\n",
    "response = client.models.generate_content(model=MODEL_ID, contents=prompt)\n",
    "display(Markdown(response.text))"
   ]
  },
  {
   "cell_type": "markdown",
   "metadata": {
    "id": "PJIL2RTQaGcT"
   },
   "source": [
    "### Watch out for hallucinations"
   ]
  },
  {
   "cell_type": "markdown",
   "metadata": {
    "id": "8Y8kYxrSaHE9"
   },
   "source": [
    "Although LLMs have been trained on a large amount of data, they can generate text containing statements not grounded in truth or reality; these responses from the LLM are often referred to as \"hallucinations\" due to their limited memorization capabilities. Note that simply prompting the LLM to provide a citation isn't a fix to this problem, as there are instances of LLMs providing false or inaccurate citations. Dealing with hallucinations is a fundamental challenge of LLMs and an ongoing research area, so it is important to be cognizant that LLMs may seem to give you confident, correct-sounding statements that are in fact incorrect.\n",
    "\n",
    "Note that if you intend to use LLMs for the creative use cases, hallucinating could actually be quite useful."
   ]
  },
  {
   "cell_type": "markdown",
   "metadata": {
    "id": "8NY5nAGeaJYS"
   },
   "source": [
    "Try the prompt like the one below repeatedly. We set the temperature to `1.0` so that it takes more risks in its choices. It's possible that it may provide an inaccurate, but confident answer."
   ]
  },
  {
   "cell_type": "code",
   "execution_count": 17,
   "metadata": {
    "id": "QALPjEILaM62",
    "tags": []
   },
   "outputs": [
    {
     "data": {
      "text/markdown": [
       "Today is Wednesday, October 25, 2023.\n"
      ],
      "text/plain": [
       "<IPython.core.display.Markdown object>"
      ]
     },
     "metadata": {},
     "output_type": "display_data"
    }
   ],
   "source": [
    "generation_config = GenerateContentConfig(temperature=1.0)\n",
    "\n",
    "prompt = \"What day is it today?\"\n",
    "\n",
    "response = client.models.generate_content(model=MODEL_ID, contents=prompt)\n",
    "display(Markdown(response.text))"
   ]
  },
  {
   "cell_type": "markdown",
   "metadata": {
    "id": "BRkwzbgRbhKt"
   },
   "source": [
    "Since LLMs do not have access to real-time information without further integrations, you may have noticed it hallucinates what day it is today in some of the outputs."
   ]
  },
  {
   "cell_type": "markdown",
   "metadata": {
    "id": "3c811e310d02"
   },
   "source": [
    "### Using system instructions to guardrail the model from irrelevant responses\n",
    "\n",
    "How can we attempt to reduce the chances of irrelevant responses and hallucinations?\n",
    "\n",
    "One way is to provide the LLM with [system instructions](https://cloud.google.com/vertex-ai/generative-ai/docs/multimodal/send-chat-prompts-gemini#system-instructions).\n",
    "\n",
    "Let's see how system instructions works and how you can use them to reduce hallucinations or irrelevant questions for a travel chatbot.\n",
    "\n",
    "Suppose we ask a simple question about one of Italy's most famous tourist spots."
   ]
  },
  {
   "cell_type": "code",
   "execution_count": 18,
   "metadata": {
    "id": "rB6zJU76biFK",
    "tags": []
   },
   "outputs": [
    {
     "data": {
      "text/markdown": [
       "The Duomo di Milano, the Milan Cathedral, is a must-see when visiting Milan!\n"
      ],
      "text/plain": [
       "<IPython.core.display.Markdown object>"
      ]
     },
     "metadata": {},
     "output_type": "display_data"
    }
   ],
   "source": [
    "generation_config = GenerateContentConfig(temperature=1.0)\n",
    "\n",
    "chat = client.chats.create(\n",
    "    model=MODEL_ID,\n",
    "    config=GenerateContentConfig(\n",
    "        system_instruction=[\n",
    "            \"Hello! You are an AI chatbot for a travel web site.\",\n",
    "            \"Your mission is to provide helpful queries for travelers.\",\n",
    "            \"Remember that before you answer a question, you must check to see if it complies with your mission.\",\n",
    "            \"If not, you can say, Sorry I can't answer that question.\",\n",
    "        ]\n",
    "    ),\n",
    ")\n",
    "\n",
    "prompt = \"What is the best place for sightseeing in Milan, Italy?\"\n",
    "\n",
    "response = chat.send_message(prompt)\n",
    "display(Markdown(response.text))"
   ]
  },
  {
   "cell_type": "markdown",
   "metadata": {
    "id": "WZa-Qcf9cF4A"
   },
   "source": [
    "Now let us pretend to be a user asks the chatbot a question that is unrelated to travel."
   ]
  },
  {
   "cell_type": "code",
   "execution_count": 19,
   "metadata": {
    "id": "AZKBIDr2cGnu",
    "tags": []
   },
   "outputs": [
    {
     "data": {
      "text/markdown": [
       "The Duomo di Milano, the Milan Cathedral, is a must-see when visiting Milan!\n"
      ],
      "text/plain": [
       "<IPython.core.display.Markdown object>"
      ]
     },
     "metadata": {},
     "output_type": "display_data"
    }
   ],
   "source": [
    "prompt = \"What is the best place for sightseeing in Milan, Italy?\"\n",
    "\n",
    "response = chat.send_message(prompt)\n",
    "display(Markdown(response.text))"
   ]
  },
  {
   "cell_type": "markdown",
   "metadata": {
    "id": "JiUYIhwpctCy"
   },
   "source": [
    "You can see that this way, a guardrail in the prompt prevented the chatbot from veering off course."
   ]
  },
  {
   "cell_type": "markdown",
   "metadata": {
    "id": "ZuuDhA37cvmP"
   },
   "source": [
    "### Turn generative tasks into classification tasks to reduce output variability"
   ]
  },
  {
   "cell_type": "markdown",
   "metadata": {
    "id": "kUCUrsUzczmb"
   },
   "source": [
    "#### Generative tasks lead to higher output variability"
   ]
  },
  {
   "cell_type": "markdown",
   "metadata": {
    "id": "a1xASHAkc46n"
   },
   "source": [
    "The prompt below results in an open-ended response, useful for brainstorming, but response is highly variable."
   ]
  },
  {
   "cell_type": "code",
   "execution_count": 20,
   "metadata": {
    "id": "nPfXQWIacwRf",
    "tags": []
   },
   "outputs": [
    {
     "data": {
      "text/markdown": [
       "Okay, here are a few programming activity recommendations tailored for a high school student looking to improve their skills, broken down by programming level and interest area:\n",
       "\n",
       "**General Recommendations (Good for any skill level):**\n",
       "\n",
       "*   **Project Euler:** This website (projecteuler.net) presents a series of mathematical/computer programming problems that require more than just mathematical insight to solve efficiently.  Start with the first few and work your way up. They're great for improving problem-solving and algorithm design skills.  Use any language you like!\n",
       "*   **Codewars:**  (codewars.com) This site has a \"kata\" (challenges) for different skill levels in many languages.  You earn points and level up as you complete challenges.  It's a fun, gamified way to practice.\n",
       "*   **Hackerrank:** (hackerrank.com) Similar to Codewars, but focuses more on algorithm and data structure problems.  They also host coding competitions and have practice sets for interview preparation (even though you're in high school, it's good to build the foundation).\n",
       "\n",
       "**Beginner-Friendly (If you're just starting out or want to solidify basics):**\n",
       "\n",
       "*   **Interactive Tutorials:** Websites like Codecademy ([codecademy.com](https://www.codecademy.com/)) offer guided, interactive tutorials in a variety of languages like Python, JavaScript, HTML/CSS, and Java.\n",
       "*   **Simple Text-Based Games:**\n",
       "    *   **Number Guessing Game:** The computer picks a random number, and the user has to guess it. Provide feedback (\"too high,\" \"too low\").\n",
       "    *   **Text Adventure Game:** A very basic interactive fiction game where the user types commands to move through a story.\n",
       "    *   **Simple Calculator:** Practice reading user input and performing basic arithmetic.\n",
       "*   **Simple GUI Programs (using libraries like Tkinter in Python):**\n",
       "    *   **A Basic To-Do List:** Allow users to add, remove, and mark tasks as complete.\n",
       "    *   **A Simple Stopwatch:** Start, stop, and reset a timer.\n",
       "*   **Simple Web Page:** Create a personal website with HTML, CSS, and basic JavaScript. This is a great way to learn front-end web development.\n",
       "\n",
       "**Intermediate (If you're comfortable with basic syntax, loops, functions, and data structures):**\n",
       "\n",
       "*   **More Complex Games:**\n",
       "    *   **Hangman:** A word-guessing game.\n",
       "    *   **Tic-Tac-Toe:** A classic game.  Consider adding an AI opponent.\n",
       "    *   **Connect Four:** Another two-player game that is relatively easy to implement.\n",
       "*   **Data Analysis Projects:**\n",
       "    *   **Read data from a CSV file and perform some basic analysis (e.g., calculate averages, find maximums/minimums, generate simple charts). Python with Pandas/Matplotlib is great for this.** Look for free datasets online.\n",
       "    *   **Web Scraping:**  Use a library like `requests` and `Beautiful Soup` in Python to extract data from a website.  Be mindful of the website's terms of service.\n",
       "*   **More Advanced Web Development:**\n",
       "    *   **Build a simple blog using HTML, CSS, and JavaScript.**  Learn about dynamic content and storing data (even if just in the browser's local storage).\n",
       "    *   **Learn a JavaScript framework like React, Angular, or Vue.js.**  This will greatly enhance your web development capabilities.\n",
       "*   **Working with APIs:**\n",
       "    *   **Use the Twitter API, OpenWeatherMap API, or another public API to fetch data and display it in your program.** This will teach you about API requests, JSON parsing, and handling external data sources.\n",
       "*   **Command-Line Tools:**\n",
       "    *   **Create a command-line tool that automates a repetitive task (e.g., renaming files, converting file formats).**\n",
       "\n",
       "**Advanced (If you have a solid foundation and want a real challenge):**\n",
       "\n",
       "*   **Contribute to Open Source:** Find a project on GitHub that interests you and try to contribute by fixing bugs, adding features, or improving documentation. This is an excellent way to learn from experienced developers and get your code seen by others.\n",
       "*   **Machine Learning Projects:**\n",
       "    *   **Build a simple image classifier using a library like TensorFlow or PyTorch.**\n",
       "    *   **Train a model to predict stock prices or other time-series data.**\n",
       "*   **Full-Stack Web Application:**  Build a complete web application with a front-end (HTML, CSS, JavaScript), a back-end (e.g., Python with Flask/Django, Node.js with Express), and a database (e.g., MySQL, PostgreSQL, MongoDB).\n",
       "*   **Game Development with Engines:**\n",
       "    *   **Learn a game engine like Unity or Unreal Engine and build a more complex game.**\n",
       "*   **Operating Systems/Low-Level Programming:**  If you're feeling really ambitious, explore operating system concepts or delve into low-level programming with languages like C or C++.\n",
       "\n",
       "**Key Considerations When Choosing:**\n",
       "\n",
       "*   **Your Interests:** Pick something you're genuinely interested in.  You'll be more motivated to learn and stick with it.\n",
       "*   **Your Time Commitment:**  Be realistic about how much time you can dedicate to programming.\n",
       "*   **Available Resources:**  Ensure you have access to the necessary software, tools, and documentation.\n",
       "*   **Learning Style:**  Do you prefer guided tutorials, hands-on projects, or a combination of both?\n",
       "\n",
       "**Tips for Success:**\n",
       "\n",
       "*   **Start Small:** Don't try to tackle too much at once. Break down large projects into smaller, manageable steps.\n",
       "*   **Be Patient:** Learning to program takes time and effort. Don't get discouraged if you encounter challenges.\n",
       "*   **Google is Your Friend:**  Learn how to effectively search for answers online.\n",
       "*   **Document Your Code:**  Add comments to your code to explain what it does. This will help you (and others) understand it later.\n",
       "*   **Use Version Control (Git):**  Learn how to use Git to track your changes and collaborate with others.\n",
       "*   **Test Your Code:**  Write tests to ensure your code is working correctly.\n",
       "*   **Ask for Help:**  Don't be afraid to ask for help from online forums, communities, or your teachers/mentors.  Stack Overflow is a great resource.\n",
       "*   **Practice Regularly:** The more you practice, the better you'll become.\n",
       "\n",
       "No matter what you choose, remember to have fun and enjoy the process of learning! Good luck!\n"
      ],
      "text/plain": [
       "<IPython.core.display.Markdown object>"
      ]
     },
     "metadata": {},
     "output_type": "display_data"
    }
   ],
   "source": [
    "prompt = \"I'm a high school student. Recommend me a programming activity to improve my skills.\"\n",
    "\n",
    "response = client.models.generate_content(model=MODEL_ID, contents=prompt)\n",
    "display(Markdown(response.text))"
   ]
  },
  {
   "cell_type": "markdown",
   "metadata": {
    "id": "iAmm9wPYc_1o"
   },
   "source": [
    "#### Classification tasks reduces output variability"
   ]
  },
  {
   "cell_type": "markdown",
   "metadata": {
    "id": "VvRpK_0GdCpf"
   },
   "source": [
    "The prompt below results in a choice and may be useful if you want the output to be easier to control."
   ]
  },
  {
   "cell_type": "code",
   "execution_count": 21,
   "metadata": {
    "id": "kYDKh0r2dAqo",
    "tags": []
   },
   "outputs": [
    {
     "data": {
      "text/markdown": [
       "Okay, let's break down these options for a high school student:\n",
       "\n",
       "**Here's my recommendation and reasoning:**\n",
       "\n",
       "**I strongly recommend learning Python (a) or JavaScript (b).  The choice between those two depends a bit on what interests you most.**\n",
       "\n",
       "**Here's the breakdown:**\n",
       "\n",
       "*   **a) Python:  The Versatile and Beginner-Friendly Choice**\n",
       "\n",
       "    *   **Pros:**\n",
       "        *   **Beginner-Friendly Syntax:** Python's syntax is very readable and closer to plain English than many other languages.  This makes it easier to learn the fundamentals of programming.\n",
       "        *   **Huge Community and Resources:**  Tons of tutorials, online courses, documentation, and support forums are available.  If you get stuck, it's easy to find help.\n",
       "        *   **Versatile Applications:** Python is used in a wide range of fields:\n",
       "            *   **Data Science:** Analyzing data, creating visualizations, machine learning.\n",
       "            *   **Web Development (Backend):** Building the server-side logic of websites (using frameworks like Django or Flask).\n",
       "            *   **Scripting and Automation:** Automating tasks on your computer, like renaming files, sending emails, etc.\n",
       "            *   **Game Development (Simple Games):**  Using libraries like Pygame.\n",
       "            *   **Education:** Many universities use Python as the introductory programming language.\n",
       "        *   **Good Career Prospects:** Python developers are in high demand.\n",
       "        *   **Great for STEM Projects:** Python can be used in science, technology, engineering, and math projects.  Think data analysis from experiments, simulations, etc.\n",
       "    *   **Cons:**\n",
       "        *   **Can be Slower:**  Python is generally slower than languages like C++ or Java, but this is often not noticeable for most beginner projects.\n",
       "        *   **Not Ideal for Mobile App Development:** While possible, it's not the primary language for mobile.\n",
       "\n",
       "*   **b) JavaScript: The Language of the Web**\n",
       "\n",
       "    *   **Pros:**\n",
       "        *   **Essential for Web Development (Frontend):**  JavaScript is *the* language for making websites interactive.  You can't build modern websites without it.  If you want to create dynamic web pages, user interfaces, or web applications, JavaScript is a must.\n",
       "        *   **Large Community and Resources:** Similar to Python, JavaScript has a huge community and tons of learning materials.\n",
       "        *   **Frontend and Backend (with Node.js):** JavaScript can be used on both the front-end (what the user sees in the browser) and the back-end (the server-side logic) using Node.js.  This allows you to build full-stack web applications.\n",
       "        *   **Frameworks and Libraries:**  JavaScript has a rich ecosystem of frameworks and libraries like React, Angular, and Vue.js, which make web development more efficient.\n",
       "        *   **Career Opportunities:**  JavaScript developers are highly sought after.\n",
       "    *   **Cons:**\n",
       "        *   **Can Be Complex:**  JavaScript can be a bit more challenging to learn than Python initially, especially when dealing with asynchronous programming, the DOM (Document Object Model), and frameworks.\n",
       "        *   **Security Concerns:**  JavaScript code runs in the browser, so security is an important consideration.\n",
       "        *   **Browser Compatibility:**  You need to be aware of browser compatibility issues when writing JavaScript code.\n",
       "\n",
       "*   **c) Fortran:  A Specialized Language (Not Recommended for Most High School Students)**\n",
       "\n",
       "    *   **Pros:**\n",
       "        *   **Excellent for Scientific Computing:** Fortran is a high-performance language that's still used in scientific and engineering simulations, especially those requiring a lot of numerical computation (e.g., weather forecasting, computational fluid dynamics).  It's *very* fast for these types of tasks.\n",
       "        *   **Legacy Code:** A lot of older scientific code is written in Fortran.\n",
       "    *   **Cons:**\n",
       "        *   **Outdated Syntax:**  Fortran's syntax is less modern and less readable than Python or JavaScript.\n",
       "        *   **Smaller Community:** The Fortran community is much smaller than the Python or JavaScript communities.\n",
       "        *   **Limited Applicability:**  Fortran is primarily used in scientific computing and has limited use in other areas of software development.\n",
       "        *   **Not Beginner-Friendly:**  It's not the best choice for learning programming concepts from scratch.\n",
       "        *   **Fewer Job Opportunities:** There are fewer job opportunities for Fortran developers compared to Python or JavaScript developers.\n",
       "\n",
       "**In summary:**\n",
       "\n",
       "*   **If you're new to programming and want a versatile language with a gentle learning curve:**  Start with **Python**.\n",
       "*   **If you're interested in web development and creating interactive websites:** Learn **JavaScript**. You'll likely need to learn HTML and CSS as well, which are fundamental to web development.\n",
       "*   **Avoid Fortran for now:** It's a specialized language that's not the best choice for most high school students unless you have a specific reason to learn it (e.g., a scientific research project that requires it).\n",
       "\n",
       "**Here's a more specific breakdown to help you choose between Python and JavaScript:**\n",
       "\n",
       "*   **Choose Python if:**\n",
       "    *   You're interested in data science, machine learning, or general-purpose programming.\n",
       "    *   You want a language that's easy to learn and read.\n",
       "    *   You're interested in scripting and automating tasks.\n",
       "    *   You're interested in backend web development but prefer a simpler framework like Flask.\n",
       "\n",
       "*   **Choose JavaScript if:**\n",
       "    *   You're passionate about web development and creating interactive websites.\n",
       "    *   You want to learn a language that's essential for front-end web development.\n",
       "    *   You're interested in building full-stack web applications using Node.js.\n",
       "    *   You're excited about using frameworks and libraries like React, Angular, or Vue.js.\n",
       "\n",
       "No matter which language you choose, remember to practice regularly and work on projects to solidify your understanding. Good luck!\n"
      ],
      "text/plain": [
       "<IPython.core.display.Markdown object>"
      ]
     },
     "metadata": {},
     "output_type": "display_data"
    }
   ],
   "source": [
    "prompt = \"\"\"I'm a high school student. Which of these activities do you suggest and why:\n",
    "a) learn Python\n",
    "b) learn JavaScript\n",
    "c) learn Fortran\n",
    "\"\"\"\n",
    "\n",
    "response = client.models.generate_content(model=MODEL_ID, contents=prompt)\n",
    "display(Markdown(response.text))"
   ]
  },
  {
   "cell_type": "markdown",
   "metadata": {
    "id": "iTd60b1GdIsx"
   },
   "source": [
    "### Improve response quality by including examples"
   ]
  },
  {
   "cell_type": "markdown",
   "metadata": {
    "id": "yJi44NejdJYE"
   },
   "source": [
    "Another way to improve response quality is to add examples in your prompt. The LLM learns in-context from the examples on how to respond. Typically, one to five examples (shots) are enough to improve the quality of responses. Including too many examples can cause the model to over-fit the data and reduce the quality of responses.\n",
    "\n",
    "Similar to classical model training, the quality and distribution of the examples is very important. Pick examples that are representative of the scenarios that you need the model to learn, and keep the distribution of the examples (e.g. number of examples per class in the case of classification) aligned with your actual distribution."
   ]
  },
  {
   "cell_type": "markdown",
   "metadata": {
    "id": "sMbLginWdOKs"
   },
   "source": [
    "#### Zero-shot prompt"
   ]
  },
  {
   "cell_type": "markdown",
   "metadata": {
    "id": "Crh2Loi2dQ0v"
   },
   "source": [
    "Below is an example of zero-shot prompting, where you don't provide any examples to the LLM within the prompt itself."
   ]
  },
  {
   "cell_type": "code",
   "execution_count": 22,
   "metadata": {
    "id": "-7myRc-SdTQ4",
    "tags": []
   },
   "outputs": [
    {
     "data": {
      "text/markdown": [
       "Sentiment: Positive\n"
      ],
      "text/plain": [
       "<IPython.core.display.Markdown object>"
      ]
     },
     "metadata": {},
     "output_type": "display_data"
    }
   ],
   "source": [
    "prompt = \"\"\"Decide whether a Tweet's sentiment is positive, neutral, or negative.\n",
    "\n",
    "Tweet: I loved the new YouTube video you made!\n",
    "Sentiment:\n",
    "\"\"\"\n",
    "\n",
    "response = client.models.generate_content(model=MODEL_ID, contents=prompt)\n",
    "display(Markdown(response.text))"
   ]
  },
  {
   "cell_type": "markdown",
   "metadata": {
    "id": "ucRtPn9SdL64"
   },
   "source": [
    "#### One-shot prompt"
   ]
  },
  {
   "cell_type": "markdown",
   "metadata": {
    "id": "rs0gQH2vdYBi"
   },
   "source": [
    "Below is an example of one-shot prompting, where you provide one example to the LLM within the prompt to give some guidance on what type of response you want."
   ]
  },
  {
   "cell_type": "code",
   "execution_count": 23,
   "metadata": {
    "id": "iEq-KxGYdaT5",
    "tags": []
   },
   "outputs": [
    {
     "data": {
      "text/markdown": [
       "Sentiment: negative\n"
      ],
      "text/plain": [
       "<IPython.core.display.Markdown object>"
      ]
     },
     "metadata": {},
     "output_type": "display_data"
    }
   ],
   "source": [
    "prompt = \"\"\"Decide whether a Tweet's sentiment is positive, neutral, or negative.\n",
    "\n",
    "Tweet: I loved the new YouTube video you made!\n",
    "Sentiment: positive\n",
    "\n",
    "Tweet: That was awful. Super boring 😠\n",
    "Sentiment:\n",
    "\"\"\"\n",
    "\n",
    "response = client.models.generate_content(model=MODEL_ID, contents=prompt)\n",
    "display(Markdown(response.text))"
   ]
  },
  {
   "cell_type": "markdown",
   "metadata": {
    "id": "JnKLjJzmdfL_"
   },
   "source": [
    "#### Few-shot prompt"
   ]
  },
  {
   "cell_type": "markdown",
   "metadata": {
    "id": "6Zv-9F5OdgI_"
   },
   "source": [
    "Below is an example of few-shot prompting, where you provide a few examples to the LLM within the prompt to give some guidance on what type of response you want."
   ]
  },
  {
   "cell_type": "code",
   "execution_count": 24,
   "metadata": {
    "id": "u37P9tG4dk9S",
    "tags": []
   },
   "outputs": [
    {
     "data": {
      "text/markdown": [
       "Sentiment: positive\n"
      ],
      "text/plain": [
       "<IPython.core.display.Markdown object>"
      ]
     },
     "metadata": {},
     "output_type": "display_data"
    }
   ],
   "source": [
    "prompt = \"\"\"Decide whether a Tweet's sentiment is positive, neutral, or negative.\n",
    "\n",
    "Tweet: I loved the new YouTube video you made!\n",
    "Sentiment: positive\n",
    "\n",
    "Tweet: That was awful. Super boring 😠\n",
    "Sentiment: negative\n",
    "\n",
    "Tweet: Something surprised me about this video - it was actually original. It was not the same old recycled stuff that I always see. Watch it - you will not regret it.\n",
    "Sentiment:\n",
    "\"\"\"\n",
    "\n",
    "response = client.models.generate_content(model=MODEL_ID, contents=prompt)\n",
    "display(Markdown(response.text))"
   ]
  },
  {
   "cell_type": "markdown",
   "metadata": {
    "id": "wDMD3xb2dvX6"
   },
   "source": [
    "#### Choosing between zero-shot, one-shot, few-shot prompting methods"
   ]
  },
  {
   "cell_type": "markdown",
   "metadata": {
    "id": "s92W0YpNdxJp"
   },
   "source": [
    "Which prompt technique to use will solely depends on your goal. The zero-shot prompts are more open-ended and can give you creative answers, while one-shot and few-shot prompts teach the model how to behave so you can get more predictable answers that are consistent with the examples provided."
   ]
  },
  {
   "cell_type": "code",
   "execution_count": null,
   "metadata": {},
   "outputs": [],
   "source": []
  }
 ],
 "metadata": {
  "colab": {
   "name": "intro_prompt_design.ipynb",
   "toc_visible": true
  },
  "environment": {
   "kernel": "conda-base-py",
   "name": "workbench-notebooks.m129",
   "type": "gcloud",
   "uri": "us-docker.pkg.dev/deeplearning-platform-release/gcr.io/workbench-notebooks:m129"
  },
  "kernelspec": {
   "display_name": "Python 3",
   "language": "python",
   "name": "python3"
  },
  "language_info": {
   "codemirror_mode": {
    "name": "ipython",
    "version": 3
   },
   "file_extension": ".py",
   "mimetype": "text/x-python",
   "name": "python",
   "nbconvert_exporter": "python",
   "pygments_lexer": "ipython3",
   "version": "3.12.7"
  }
 },
 "nbformat": 4,
 "nbformat_minor": 4
}
