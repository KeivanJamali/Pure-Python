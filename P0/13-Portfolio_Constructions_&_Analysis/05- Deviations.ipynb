{
 "cells": [
  {
   "cell_type": "markdown",
   "source": [
    "# Deviations from normality"
   ],
   "metadata": {
    "collapsed": false,
    "pycharm": {
     "name": "#%% md\n"
    }
   }
  },
  {
   "cell_type": "code",
   "execution_count": 1,
   "outputs": [],
   "source": [
    "%load_ext autoreload\n",
    "%autoreload 2\n",
    "\n",
    "import numpy as np\n",
    "import matplotlib.pyplot as plt\n",
    "import pandas as pd\n",
    "import edhec_risk_kit as erk"
   ],
   "metadata": {
    "collapsed": false,
    "pycharm": {
     "name": "#%%\n"
    },
    "ExecuteTime": {
     "end_time": "2023-05-15T08:24:25.861950700Z",
     "start_time": "2023-05-15T08:24:24.886422900Z"
    }
   }
  },
  {
   "cell_type": "code",
   "execution_count": 12,
   "outputs": [
    {
     "name": "stderr",
     "output_type": "stream",
     "text": [
      "D:\\Project Pro Pycharm\\P0\\15-DS\\edhec_risk_kit.py:39: UserWarning: Parsing dates in %d/%m/%Y format when dayfirst=False (the default) was specified. Pass `dayfirst=True` or specify a format to silence this warning.\n",
      "  hfi = pd.read_csv(\"Data/edhec-hedgefundindices.csv\", header=0, index_col=0, parse_dates=True)\n"
     ]
    }
   ],
   "source": [
    "hif = erk.get_hfi_returns()\n",
    "hif.head()\n",
    "hif = hif['2000':'2018']"
   ],
   "metadata": {
    "collapsed": false,
    "pycharm": {
     "name": "#%%\n"
    },
    "ExecuteTime": {
     "end_time": "2023-05-15T08:26:41.476683600Z",
     "start_time": "2023-05-15T08:26:41.401035200Z"
    }
   }
  },
  {
   "cell_type": "code",
   "execution_count": 13,
   "outputs": [
    {
     "data": {
      "text/plain": "                               0       1      2\nConvertible Arbitrage   0.004965  0.0054  False\nCTA Global              0.003493  0.0011   True\nDistressed Securities   0.006633  0.0088  False\nEmerging Markets        0.005842  0.0091  False\nEquity Market Neutral   0.003580  0.0044  False\nEvent Driven            0.005518  0.0078  False\nFixed Income Arbitrage  0.004360  0.0054  False\nGlobal Macro            0.004262  0.0033   True\nLong/Short Equity       0.004618  0.0066  False\nMerger Arbitrage        0.004415  0.0056  False\nRelative Value          0.005097  0.0057  False\nShort Selling          -0.002413 -0.0052   True\nFunds Of Funds          0.002897  0.0043  False",
      "text/html": "<div>\n<style scoped>\n    .dataframe tbody tr th:only-of-type {\n        vertical-align: middle;\n    }\n\n    .dataframe tbody tr th {\n        vertical-align: top;\n    }\n\n    .dataframe thead th {\n        text-align: right;\n    }\n</style>\n<table border=\"1\" class=\"dataframe\">\n  <thead>\n    <tr style=\"text-align: right;\">\n      <th></th>\n      <th>0</th>\n      <th>1</th>\n      <th>2</th>\n    </tr>\n  </thead>\n  <tbody>\n    <tr>\n      <th>Convertible Arbitrage</th>\n      <td>0.004965</td>\n      <td>0.0054</td>\n      <td>False</td>\n    </tr>\n    <tr>\n      <th>CTA Global</th>\n      <td>0.003493</td>\n      <td>0.0011</td>\n      <td>True</td>\n    </tr>\n    <tr>\n      <th>Distressed Securities</th>\n      <td>0.006633</td>\n      <td>0.0088</td>\n      <td>False</td>\n    </tr>\n    <tr>\n      <th>Emerging Markets</th>\n      <td>0.005842</td>\n      <td>0.0091</td>\n      <td>False</td>\n    </tr>\n    <tr>\n      <th>Equity Market Neutral</th>\n      <td>0.003580</td>\n      <td>0.0044</td>\n      <td>False</td>\n    </tr>\n    <tr>\n      <th>Event Driven</th>\n      <td>0.005518</td>\n      <td>0.0078</td>\n      <td>False</td>\n    </tr>\n    <tr>\n      <th>Fixed Income Arbitrage</th>\n      <td>0.004360</td>\n      <td>0.0054</td>\n      <td>False</td>\n    </tr>\n    <tr>\n      <th>Global Macro</th>\n      <td>0.004262</td>\n      <td>0.0033</td>\n      <td>True</td>\n    </tr>\n    <tr>\n      <th>Long/Short Equity</th>\n      <td>0.004618</td>\n      <td>0.0066</td>\n      <td>False</td>\n    </tr>\n    <tr>\n      <th>Merger Arbitrage</th>\n      <td>0.004415</td>\n      <td>0.0056</td>\n      <td>False</td>\n    </tr>\n    <tr>\n      <th>Relative Value</th>\n      <td>0.005097</td>\n      <td>0.0057</td>\n      <td>False</td>\n    </tr>\n    <tr>\n      <th>Short Selling</th>\n      <td>-0.002413</td>\n      <td>-0.0052</td>\n      <td>True</td>\n    </tr>\n    <tr>\n      <th>Funds Of Funds</th>\n      <td>0.002897</td>\n      <td>0.0043</td>\n      <td>False</td>\n    </tr>\n  </tbody>\n</table>\n</div>"
     },
     "execution_count": 13,
     "metadata": {},
     "output_type": "execute_result"
    }
   ],
   "source": [
    "pd.concat([hif.mean(), hif.median(), hif.mean()>hif.median()], axis='columns')"
   ],
   "metadata": {
    "collapsed": false,
    "pycharm": {
     "name": "#%%\n"
    },
    "ExecuteTime": {
     "end_time": "2023-05-15T08:26:41.869350600Z",
     "start_time": "2023-05-15T08:26:41.793274900Z"
    }
   }
  },
  {
   "cell_type": "markdown",
   "source": [
    "$$ S(R) = \\frac{E[(R-E(R))^3]}{\\sigma_R^3} $$"
   ],
   "metadata": {
    "collapsed": false,
    "pycharm": {
     "name": "#%% md\n"
    }
   }
  },
  {
   "cell_type": "code",
   "execution_count": 14,
   "outputs": [
    {
     "name": "stdout",
     "output_type": "stream",
     "text": [
      "Fixed Income Arbitrage\n"
     ]
    }
   ],
   "source": [
    "aa = erk.skewness(hif).sort_values()\n",
    "print(aa.idxmin())"
   ],
   "metadata": {
    "collapsed": false,
    "pycharm": {
     "name": "#%%\n"
    },
    "ExecuteTime": {
     "end_time": "2023-05-15T08:26:45.184363900Z",
     "start_time": "2023-05-15T08:26:45.115984800Z"
    }
   }
  },
  {
   "cell_type": "code",
   "execution_count": 15,
   "outputs": [
    {
     "data": {
      "text/plain": "array([-2.61805783,  0.15541286, -0.97497787, -0.91934719, -2.63213937,\n       -1.05216561, -3.74636247,  0.34694185, -0.5406859 , -0.76277074,\n       -1.78986681,  0.44812696, -0.68322024])"
     },
     "execution_count": 15,
     "metadata": {},
     "output_type": "execute_result"
    }
   ],
   "source": [
    "import scipy\n",
    "import scipy.stats\n",
    "scipy.stats.skew(hif)"
   ],
   "metadata": {
    "collapsed": false,
    "pycharm": {
     "name": "#%%\n"
    },
    "ExecuteTime": {
     "end_time": "2023-05-15T08:26:46.193790700Z",
     "start_time": "2023-05-15T08:26:45.453032600Z"
    }
   }
  },
  {
   "cell_type": "code",
   "execution_count": 16,
   "outputs": [],
   "source": [
    "import numpy as np\n",
    "normal_rets = np.random.normal(0, 0.15, size=(263, 1))"
   ],
   "metadata": {
    "collapsed": false,
    "pycharm": {
     "name": "#%%\n"
    },
    "ExecuteTime": {
     "end_time": "2023-05-15T08:26:46.876891500Z",
     "start_time": "2023-05-15T08:26:46.775321400Z"
    }
   }
  },
  {
   "cell_type": "code",
   "execution_count": 17,
   "outputs": [
    {
     "data": {
      "text/plain": "-0.03680950532997815"
     },
     "execution_count": 17,
     "metadata": {},
     "output_type": "execute_result"
    }
   ],
   "source": [
    "erk.skewness(normal_rets)"
   ],
   "metadata": {
    "collapsed": false,
    "pycharm": {
     "name": "#%%\n"
    },
    "ExecuteTime": {
     "end_time": "2023-05-15T08:26:47.226329Z",
     "start_time": "2023-05-15T08:26:47.127230100Z"
    }
   }
  },
  {
   "cell_type": "markdown",
   "source": [
    "# Kurtosis"
   ],
   "metadata": {
    "collapsed": false,
    "pycharm": {
     "name": "#%% md\n"
    }
   }
  },
  {
   "cell_type": "code",
   "execution_count": 18,
   "outputs": [
    {
     "data": {
      "text/plain": "2.920805123795525"
     },
     "execution_count": 18,
     "metadata": {},
     "output_type": "execute_result"
    }
   ],
   "source": [
    "erk.kurtosis(normal_rets)"
   ],
   "metadata": {
    "collapsed": false,
    "pycharm": {
     "name": "#%%\n"
    },
    "ExecuteTime": {
     "end_time": "2023-05-15T08:26:54.617321700Z",
     "start_time": "2023-05-15T08:26:54.523743500Z"
    }
   }
  },
  {
   "cell_type": "code",
   "execution_count": 20,
   "outputs": [
    {
     "name": "stdout",
     "output_type": "stream",
     "text": [
      "Fixed Income Arbitrage\n"
     ]
    }
   ],
   "source": [
    "aa = erk.kurtosis(hif)\n",
    "print(aa.idxmax())"
   ],
   "metadata": {
    "collapsed": false,
    "pycharm": {
     "name": "#%%\n"
    },
    "ExecuteTime": {
     "end_time": "2023-05-15T08:27:18.083811100Z",
     "start_time": "2023-05-15T08:27:17.936511500Z"
    }
   }
  },
  {
   "cell_type": "code",
   "execution_count": 37,
   "outputs": [
    {
     "data": {
      "text/plain": "array([-0.03334489])"
     },
     "execution_count": 37,
     "metadata": {},
     "output_type": "execute_result"
    }
   ],
   "source": [
    "scipy.stats.kurtosis(normal_rets) #subtract by 3"
   ],
   "metadata": {
    "collapsed": false,
    "pycharm": {
     "name": "#%%\n"
    }
   }
  },
  {
   "cell_type": "code",
   "execution_count": 40,
   "outputs": [
    {
     "data": {
      "text/plain": "SignificanceResult(statistic=0.16536801562032924, pvalue=0.9206420169484132)"
     },
     "execution_count": 40,
     "metadata": {},
     "output_type": "execute_result"
    }
   ],
   "source": [
    "scipy.stats.jarque_bera(normal_rets)"
   ],
   "metadata": {
    "collapsed": false,
    "pycharm": {
     "name": "#%%\n"
    }
   }
  },
  {
   "cell_type": "code",
   "execution_count": 42,
   "outputs": [
    {
     "data": {
      "text/plain": "SignificanceResult(statistic=25656.585999171337, pvalue=0.0)"
     },
     "execution_count": 42,
     "metadata": {},
     "output_type": "execute_result"
    }
   ],
   "source": [
    "scipy.stats.jarque_bera(hif)"
   ],
   "metadata": {
    "collapsed": false,
    "pycharm": {
     "name": "#%%\n"
    }
   }
  },
  {
   "cell_type": "code",
   "execution_count": 51,
   "outputs": [
    {
     "data": {
      "text/plain": "True"
     },
     "execution_count": 51,
     "metadata": {},
     "output_type": "execute_result"
    }
   ],
   "source": [
    "erk.is_normal(normal_rets)"
   ],
   "metadata": {
    "collapsed": false,
    "pycharm": {
     "name": "#%%\n"
    }
   }
  },
  {
   "cell_type": "code",
   "execution_count": 52,
   "outputs": [
    {
     "data": {
      "text/plain": "False"
     },
     "execution_count": 52,
     "metadata": {},
     "output_type": "execute_result"
    }
   ],
   "source": [
    "erk.is_normal(hif)"
   ],
   "metadata": {
    "collapsed": false,
    "pycharm": {
     "name": "#%%\n"
    }
   }
  },
  {
   "cell_type": "code",
   "execution_count": 53,
   "outputs": [
    {
     "data": {
      "text/plain": "Convertible Arbitrage     False\nCTA Global                 True\nDistressed Securities     False\nEmerging Markets          False\nEquity Market Neutral     False\nEvent Driven              False\nFixed Income Arbitrage    False\nGlobal Macro              False\nLong/Short Equity         False\nMerger Arbitrage          False\nRelative Value            False\nShort Selling             False\nFunds Of Funds            False\ndtype: bool"
     },
     "execution_count": 53,
     "metadata": {},
     "output_type": "execute_result"
    }
   ],
   "source": [
    "hif.aggregate(erk.is_normal)"
   ],
   "metadata": {
    "collapsed": false,
    "pycharm": {
     "name": "#%%\n"
    }
   }
  },
  {
   "cell_type": "code",
   "execution_count": null,
   "outputs": [],
   "source": [],
   "metadata": {
    "collapsed": false,
    "pycharm": {
     "name": "#%%\n"
    }
   }
  }
 ],
 "metadata": {
  "kernelspec": {
   "display_name": "Python 3",
   "language": "python",
   "name": "python3"
  },
  "language_info": {
   "codemirror_mode": {
    "name": "ipython",
    "version": 2
   },
   "file_extension": ".py",
   "mimetype": "text/x-python",
   "name": "python",
   "nbconvert_exporter": "python",
   "pygments_lexer": "ipython2",
   "version": "2.7.6"
  }
 },
 "nbformat": 4,
 "nbformat_minor": 0
}
