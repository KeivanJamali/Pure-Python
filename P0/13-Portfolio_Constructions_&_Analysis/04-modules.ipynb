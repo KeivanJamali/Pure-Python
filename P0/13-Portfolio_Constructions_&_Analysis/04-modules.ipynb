{
 "cells": [
  {
   "cell_type": "code",
   "execution_count": 5,
   "outputs": [],
   "source": [
    "import pandas as pd"
   ],
   "metadata": {
    "collapsed": false,
    "pycharm": {
     "name": "#%%\n"
    }
   }
  },
  {
   "cell_type": "code",
   "execution_count": 3,
   "outputs": [],
   "source": [
    "import mtest as m"
   ],
   "metadata": {
    "collapsed": false,
    "pycharm": {
     "name": "#%%\n"
    }
   }
  },
  {
   "cell_type": "code",
   "execution_count": 4,
   "outputs": [
    {
     "name": "stdout",
     "output_type": "stream",
     "text": [
      "hello Keivan\n"
     ]
    }
   ],
   "source": [
    "print(m.masseg)"
   ],
   "metadata": {
    "collapsed": false,
    "pycharm": {
     "name": "#%%\n"
    }
   }
  },
  {
   "cell_type": "code",
   "execution_count": 6,
   "outputs": [
    {
     "ename": "AttributeError",
     "evalue": "module 'mtest' has no attribute 'masseg2'",
     "output_type": "error",
     "traceback": [
      "\u001B[1;31m---------------------------------------------------------------------------\u001B[0m",
      "\u001B[1;31mAttributeError\u001B[0m                            Traceback (most recent call last)",
      "Cell \u001B[1;32mIn[6], line 1\u001B[0m\n\u001B[1;32m----> 1\u001B[0m \u001B[38;5;28mprint\u001B[39m(\u001B[43mm\u001B[49m\u001B[38;5;241;43m.\u001B[39;49m\u001B[43mmasseg2\u001B[49m)\n",
      "\u001B[1;31mAttributeError\u001B[0m: module 'mtest' has no attribute 'masseg2'"
     ]
    }
   ],
   "source": [
    "print(m.masseg2)"
   ],
   "metadata": {
    "collapsed": false,
    "pycharm": {
     "name": "#%%\n"
    }
   }
  },
  {
   "cell_type": "code",
   "execution_count": 7,
   "outputs": [],
   "source": [
    "import mtest as m"
   ],
   "metadata": {
    "collapsed": false,
    "pycharm": {
     "name": "#%%\n"
    }
   }
  },
  {
   "cell_type": "code",
   "execution_count": 8,
   "outputs": [
    {
     "ename": "AttributeError",
     "evalue": "module 'mtest' has no attribute 'masseg2'",
     "output_type": "error",
     "traceback": [
      "\u001B[1;31m---------------------------------------------------------------------------\u001B[0m",
      "\u001B[1;31mAttributeError\u001B[0m                            Traceback (most recent call last)",
      "Cell \u001B[1;32mIn[8], line 1\u001B[0m\n\u001B[1;32m----> 1\u001B[0m \u001B[38;5;28mprint\u001B[39m(\u001B[43mm\u001B[49m\u001B[38;5;241;43m.\u001B[39;49m\u001B[43mmasseg2\u001B[49m)\n",
      "\u001B[1;31mAttributeError\u001B[0m: module 'mtest' has no attribute 'masseg2'"
     ]
    }
   ],
   "source": [
    "print(m.masseg2)"
   ],
   "metadata": {
    "collapsed": false,
    "pycharm": {
     "name": "#%%\n"
    }
   }
  },
  {
   "cell_type": "code",
   "execution_count": 9,
   "outputs": [],
   "source": [
    "%load_ext autoreload"
   ],
   "metadata": {
    "collapsed": false,
    "pycharm": {
     "name": "#%%\n"
    }
   }
  },
  {
   "cell_type": "code",
   "execution_count": 10,
   "outputs": [],
   "source": [
    "%autoreload 2"
   ],
   "metadata": {
    "collapsed": false,
    "pycharm": {
     "name": "#%%\n"
    }
   }
  },
  {
   "cell_type": "code",
   "execution_count": 11,
   "outputs": [
    {
     "ename": "AttributeError",
     "evalue": "module 'mtest' has no attribute 'masseg2'",
     "output_type": "error",
     "traceback": [
      "\u001B[1;31m---------------------------------------------------------------------------\u001B[0m",
      "\u001B[1;31mAttributeError\u001B[0m                            Traceback (most recent call last)",
      "Cell \u001B[1;32mIn[11], line 1\u001B[0m\n\u001B[1;32m----> 1\u001B[0m \u001B[38;5;28mprint\u001B[39m(\u001B[43mm\u001B[49m\u001B[38;5;241;43m.\u001B[39;49m\u001B[43mmasseg2\u001B[49m)\n",
      "\u001B[1;31mAttributeError\u001B[0m: module 'mtest' has no attribute 'masseg2'"
     ]
    }
   ],
   "source": [
    "print(m.masseg2)"
   ],
   "metadata": {
    "collapsed": false,
    "pycharm": {
     "name": "#%%\n"
    }
   }
  },
  {
   "cell_type": "code",
   "execution_count": 12,
   "outputs": [
    {
     "name": "stdout",
     "output_type": "stream",
     "text": [
      "bye\n"
     ]
    }
   ],
   "source": [
    "print(m.masseg2)"
   ],
   "metadata": {
    "collapsed": false,
    "pycharm": {
     "name": "#%%\n"
    }
   }
  },
  {
   "cell_type": "code",
   "execution_count": 13,
   "outputs": [],
   "source": [
    "import edhec_risk_kit as erk\n",
    "\n",
    "returns = erk.get_ffme_returns()"
   ],
   "metadata": {
    "collapsed": false,
    "pycharm": {
     "name": "#%%\n"
    }
   }
  },
  {
   "cell_type": "code",
   "execution_count": 14,
   "outputs": [
    {
     "data": {
      "text/plain": "         SmallCap  LargeCap\n1926-07   -0.0145    0.0329\n1926-08    0.0512    0.0370\n1926-09    0.0093    0.0067\n1926-10   -0.0484   -0.0243\n1926-11   -0.0078    0.0270",
      "text/html": "<div>\n<style scoped>\n    .dataframe tbody tr th:only-of-type {\n        vertical-align: middle;\n    }\n\n    .dataframe tbody tr th {\n        vertical-align: top;\n    }\n\n    .dataframe thead th {\n        text-align: right;\n    }\n</style>\n<table border=\"1\" class=\"dataframe\">\n  <thead>\n    <tr style=\"text-align: right;\">\n      <th></th>\n      <th>SmallCap</th>\n      <th>LargeCap</th>\n    </tr>\n  </thead>\n  <tbody>\n    <tr>\n      <th>1926-07</th>\n      <td>-0.0145</td>\n      <td>0.0329</td>\n    </tr>\n    <tr>\n      <th>1926-08</th>\n      <td>0.0512</td>\n      <td>0.0370</td>\n    </tr>\n    <tr>\n      <th>1926-09</th>\n      <td>0.0093</td>\n      <td>0.0067</td>\n    </tr>\n    <tr>\n      <th>1926-10</th>\n      <td>-0.0484</td>\n      <td>-0.0243</td>\n    </tr>\n    <tr>\n      <th>1926-11</th>\n      <td>-0.0078</td>\n      <td>0.0270</td>\n    </tr>\n  </tbody>\n</table>\n</div>"
     },
     "execution_count": 14,
     "metadata": {},
     "output_type": "execute_result"
    }
   ],
   "source": [
    "returns.head()"
   ],
   "metadata": {
    "collapsed": false,
    "pycharm": {
     "name": "#%%\n"
    }
   }
  },
  {
   "cell_type": "code",
   "execution_count": 15,
   "outputs": [
    {
     "data": {
      "text/plain": "               wealth         peaks  drawdown\n1926-07  9.855000e+02  9.855000e+02  0.000000\n1926-08  1.035958e+03  1.035958e+03  0.000000\n1926-09  1.045592e+03  1.045592e+03  0.000000\n1926-10  9.949854e+02  1.045592e+03 -0.048400\n1926-11  9.872245e+02  1.045592e+03 -0.055822\n...               ...           ...       ...\n2018-08  2.298938e+09  2.298938e+09  0.000000\n2018-09  2.260316e+09  2.298938e+09 -0.016800\n2018-10  2.033832e+09  2.298938e+09 -0.115317\n2018-11  1.959597e+09  2.298938e+09 -0.147608\n2018-12  1.659583e+09  2.298938e+09 -0.278109\n\n[1110 rows x 3 columns]",
      "text/html": "<div>\n<style scoped>\n    .dataframe tbody tr th:only-of-type {\n        vertical-align: middle;\n    }\n\n    .dataframe tbody tr th {\n        vertical-align: top;\n    }\n\n    .dataframe thead th {\n        text-align: right;\n    }\n</style>\n<table border=\"1\" class=\"dataframe\">\n  <thead>\n    <tr style=\"text-align: right;\">\n      <th></th>\n      <th>wealth</th>\n      <th>peaks</th>\n      <th>drawdown</th>\n    </tr>\n  </thead>\n  <tbody>\n    <tr>\n      <th>1926-07</th>\n      <td>9.855000e+02</td>\n      <td>9.855000e+02</td>\n      <td>0.000000</td>\n    </tr>\n    <tr>\n      <th>1926-08</th>\n      <td>1.035958e+03</td>\n      <td>1.035958e+03</td>\n      <td>0.000000</td>\n    </tr>\n    <tr>\n      <th>1926-09</th>\n      <td>1.045592e+03</td>\n      <td>1.045592e+03</td>\n      <td>0.000000</td>\n    </tr>\n    <tr>\n      <th>1926-10</th>\n      <td>9.949854e+02</td>\n      <td>1.045592e+03</td>\n      <td>-0.048400</td>\n    </tr>\n    <tr>\n      <th>1926-11</th>\n      <td>9.872245e+02</td>\n      <td>1.045592e+03</td>\n      <td>-0.055822</td>\n    </tr>\n    <tr>\n      <th>...</th>\n      <td>...</td>\n      <td>...</td>\n      <td>...</td>\n    </tr>\n    <tr>\n      <th>2018-08</th>\n      <td>2.298938e+09</td>\n      <td>2.298938e+09</td>\n      <td>0.000000</td>\n    </tr>\n    <tr>\n      <th>2018-09</th>\n      <td>2.260316e+09</td>\n      <td>2.298938e+09</td>\n      <td>-0.016800</td>\n    </tr>\n    <tr>\n      <th>2018-10</th>\n      <td>2.033832e+09</td>\n      <td>2.298938e+09</td>\n      <td>-0.115317</td>\n    </tr>\n    <tr>\n      <th>2018-11</th>\n      <td>1.959597e+09</td>\n      <td>2.298938e+09</td>\n      <td>-0.147608</td>\n    </tr>\n    <tr>\n      <th>2018-12</th>\n      <td>1.659583e+09</td>\n      <td>2.298938e+09</td>\n      <td>-0.278109</td>\n    </tr>\n  </tbody>\n</table>\n<p>1110 rows × 3 columns</p>\n</div>"
     },
     "execution_count": 15,
     "metadata": {},
     "output_type": "execute_result"
    }
   ],
   "source": [
    "erk.drawdown(returns[\"SmallCap\"])"
   ],
   "metadata": {
    "collapsed": false,
    "pycharm": {
     "name": "#%%\n"
    }
   }
  },
  {
   "cell_type": "code",
   "execution_count": 18,
   "outputs": [
    {
     "data": {
      "text/plain": "-0.8330007793945303"
     },
     "execution_count": 18,
     "metadata": {},
     "output_type": "execute_result"
    }
   ],
   "source": [
    "erk.drawdown(returns[\"SmallCap\"])[\"drawdown\"].min()"
   ],
   "metadata": {
    "collapsed": false,
    "pycharm": {
     "name": "#%%\n"
    }
   }
  },
  {
   "cell_type": "code",
   "execution_count": 19,
   "outputs": [
    {
     "data": {
      "text/plain": "-0.6312068077252386"
     },
     "execution_count": 19,
     "metadata": {},
     "output_type": "execute_result"
    }
   ],
   "source": [
    "erk.drawdown(returns[\"1975\":][\"SmallCap\"])[\"drawdown\"].min()"
   ],
   "metadata": {
    "collapsed": false,
    "pycharm": {
     "name": "#%%\n"
    }
   }
  },
  {
   "cell_type": "markdown",
   "source": [
    "# Always we do this\n",
    "1. %load_ext autoreload\n",
    "2. %autoreload 2"
   ],
   "metadata": {
    "collapsed": false,
    "pycharm": {
     "name": "#%% md\n"
    }
   }
  },
  {
   "cell_type": "code",
   "execution_count": null,
   "outputs": [],
   "source": [],
   "metadata": {
    "collapsed": false,
    "pycharm": {
     "name": "#%%\n"
    }
   }
  }
 ],
 "metadata": {
  "kernelspec": {
   "display_name": "Python 3",
   "language": "python",
   "name": "python3"
  },
  "language_info": {
   "codemirror_mode": {
    "name": "ipython",
    "version": 2
   },
   "file_extension": ".py",
   "mimetype": "text/x-python",
   "name": "python",
   "nbconvert_exporter": "python",
   "pygments_lexer": "ipython2",
   "version": "2.7.6"
  }
 },
 "nbformat": 4,
 "nbformat_minor": 0
}