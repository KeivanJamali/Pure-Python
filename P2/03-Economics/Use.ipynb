{
 "cells": [
  {
   "cell_type": "code",
   "execution_count": 4,
   "id": "initial_id",
   "metadata": {
    "collapsed": true,
    "ExecuteTime": {
     "end_time": "2023-11-13T19:08:32.192224Z",
     "start_time": "2023-11-13T19:08:32.150350400Z"
    }
   },
   "outputs": [
    {
     "name": "stdout",
     "output_type": "stream",
     "text": [
      "The autoreload extension is already loaded. To reload it, use:\n",
      "  %reload_ext autoreload\n"
     ]
    }
   ],
   "source": [
    "%load_ext autoreload\n",
    "%autoreload 2\n",
    "import Primary_Eco as pe\n",
    "import Continuous_Eco as ce"
   ]
  },
  {
   "cell_type": "code",
   "execution_count": 13,
   "outputs": [],
   "source": [
    "i = pe.i_from_ie(0.10, 12)\n",
    "f = pe.f_a(i, 12) * 1000\n",
    "p = pe.p_f(i, 60, f)"
   ],
   "metadata": {
    "collapsed": false,
    "ExecuteTime": {
     "end_time": "2023-11-13T19:30:00.937738800Z",
     "start_time": "2023-11-13T19:30:00.896048Z"
    }
   },
   "id": "4e28909fa33fd930"
  },
  {
   "cell_type": "code",
   "execution_count": 14,
   "outputs": [
    {
     "data": {
      "text/plain": "7786.686585158578"
     },
     "execution_count": 14,
     "metadata": {},
     "output_type": "execute_result"
    }
   ],
   "source": [
    "p"
   ],
   "metadata": {
    "collapsed": false,
    "ExecuteTime": {
     "end_time": "2023-11-13T19:30:02.972265300Z",
     "start_time": "2023-11-13T19:30:02.849313100Z"
    }
   },
   "id": "47f8e8d942d9cea8"
  },
  {
   "cell_type": "code",
   "execution_count": 22,
   "outputs": [],
   "source": [
    "ie = ce.ie(0.12)\n",
    "i = 0.12"
   ],
   "metadata": {
    "collapsed": false,
    "ExecuteTime": {
     "end_time": "2023-11-13T19:35:44.930009600Z",
     "start_time": "2023-11-13T19:35:44.877138600Z"
    }
   },
   "id": "850656b0fe90e8a1"
  },
  {
   "cell_type": "code",
   "execution_count": 23,
   "outputs": [
    {
     "data": {
      "text/plain": "(84250.18094133922, 84250.18094133933)"
     },
     "execution_count": 23,
     "metadata": {},
     "output_type": "execute_result"
    }
   ],
   "source": [
    "ce.p_a(i, 5, (15000 + ce.a_g(i, 5, 5000))), pe.p_a(ie, 5, (15000 + pe.a_g(ie, 5, 5000)))"
   ],
   "metadata": {
    "collapsed": false,
    "ExecuteTime": {
     "end_time": "2023-11-13T19:36:25.891936500Z",
     "start_time": "2023-11-13T19:36:25.754851Z"
    }
   },
   "id": "cc7b77e09d35a98e"
  },
  {
   "cell_type": "code",
   "execution_count": 42,
   "outputs": [],
   "source": [
    "p = 143_000_000\n",
    "n = 3\n",
    "i = 0.02\n",
    "# ie = pe.ie(i, 12)"
   ],
   "metadata": {
    "collapsed": false,
    "ExecuteTime": {
     "end_time": "2023-11-13T19:46:43.350777200Z",
     "start_time": "2023-11-13T19:46:43.308937700Z"
    }
   },
   "id": "7d0ccb21ebdae083"
  },
  {
   "cell_type": "code",
   "execution_count": 57,
   "outputs": [],
   "source": [
    "r = pe.a_p(i, n, p) / 1_000_000 - 11 * (143 / 33)"
   ],
   "metadata": {
    "collapsed": false,
    "ExecuteTime": {
     "end_time": "2023-11-13T19:52:31.153207300Z",
     "start_time": "2023-11-13T19:52:30.997984600Z"
    }
   },
   "id": "7450018432379ab3"
  },
  {
   "cell_type": "code",
   "execution_count": 55,
   "outputs": [
    {
     "name": "stdout",
     "output_type": "stream",
     "text": [
      "f = 2.86\n",
      "f2 = 1.906666666666667\n",
      "f3 = 0.9533333333333335\n"
     ]
    }
   ],
   "source": [
    "remain = (0.02 * p) / 1000000 + 11 * (143 / 33)\n",
    "p1 = p / 1000000 - 11 * (143 / 33)\n",
    "p2 = p / 1000000 - 22 * (143 / 33)\n",
    "r1 = (0.02 * p) / 1000000\n",
    "r2 = p1 * 0.02\n",
    "r3 = p2 * 0.02\n",
    "print(f\"f = {r1}\")\n",
    "print(f\"f2 = {r2}\")\n",
    "print(f\"f3 = {r3}\")"
   ],
   "metadata": {
    "collapsed": false,
    "ExecuteTime": {
     "end_time": "2023-11-13T19:52:16.089153500Z",
     "start_time": "2023-11-13T19:52:16.048361800Z"
    }
   },
   "id": "645950ad7d99cec1"
  },
  {
   "cell_type": "code",
   "execution_count": 56,
   "outputs": [
    {
     "data": {
      "text/plain": "5.72"
     },
     "execution_count": 56,
     "metadata": {},
     "output_type": "execute_result"
    }
   ],
   "source": [
    "r1+r2+r3"
   ],
   "metadata": {
    "collapsed": false,
    "ExecuteTime": {
     "end_time": "2023-11-13T19:52:17.240191600Z",
     "start_time": "2023-11-13T19:52:17.196837200Z"
    }
   },
   "id": "6518fd8819258086"
  },
  {
   "cell_type": "code",
   "execution_count": 60,
   "outputs": [
    {
     "data": {
      "text/plain": "49.58591818062986"
     },
     "execution_count": 60,
     "metadata": {},
     "output_type": "execute_result"
    }
   ],
   "source": [
    "pe.a_p(i, n, p) / 1_000_000"
   ],
   "metadata": {
    "collapsed": false,
    "ExecuteTime": {
     "end_time": "2023-11-13T19:54:47.056270800Z",
     "start_time": "2023-11-13T19:54:47.008137900Z"
    }
   },
   "id": "aac69724a1269dcf"
  },
  {
   "cell_type": "code",
   "execution_count": 59,
   "outputs": [
    {
     "data": {
      "text/plain": "1.9192515139631965"
     },
     "execution_count": 59,
     "metadata": {},
     "output_type": "execute_result"
    }
   ],
   "source": [
    "r"
   ],
   "metadata": {
    "collapsed": false,
    "ExecuteTime": {
     "end_time": "2023-11-13T19:53:22.819118800Z",
     "start_time": "2023-11-13T19:53:22.707730600Z"
    }
   },
   "id": "99e8434b86edff55"
  },
  {
   "cell_type": "code",
   "execution_count": null,
   "outputs": [],
   "source": [],
   "metadata": {
    "collapsed": false
   },
   "id": "cc06c4c253d4b02f"
  }
 ],
 "metadata": {
  "kernelspec": {
   "display_name": "Python 3",
   "language": "python",
   "name": "python3"
  },
  "language_info": {
   "codemirror_mode": {
    "name": "ipython",
    "version": 2
   },
   "file_extension": ".py",
   "mimetype": "text/x-python",
   "name": "python",
   "nbconvert_exporter": "python",
   "pygments_lexer": "ipython2",
   "version": "2.7.6"
  }
 },
 "nbformat": 4,
 "nbformat_minor": 5
}
